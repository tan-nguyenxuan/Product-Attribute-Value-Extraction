{
 "cells": [
  {
   "cell_type": "code",
   "execution_count": 1,
   "metadata": {},
   "outputs": [],
   "source": [
    "import json\n",
    "import random\n",
    "from pathlib import Path"
   ]
  },
  {
   "cell_type": "code",
   "execution_count": 4,
   "metadata": {},
   "outputs": [],
   "source": [
    "def read_jsonl(file_path):\n",
    "    with open(file_path, 'r', encoding='utf-8') as f:\n",
    "        lines = f.readlines()\n",
    "    data = [json.loads(line) for line in lines]\n",
    "    return data\n",
    "\n",
    "def write_jsonl(data, file_path):\n",
    "    with open(file_path, 'w', encoding='utf-8') as f:\n",
    "        for item in data:\n",
    "            f.write(json.dumps(item, ensure_ascii=False) + '\\n')\n",
    "\n",
    "def split_data(data, n_parts):\n",
    "    k, m = divmod(len(data), n_parts)\n",
    "    return [data[i * k + min(i, m):(i + 1) * k + min(i + 1, m)] for i in range(n_parts)]\n",
    "\n",
    "def create_permutations(data_parts, n_permutations):\n",
    "    permutations = []\n",
    "    for _ in range(n_permutations):\n",
    "        perm = data_parts[:]\n",
    "        random.shuffle(perm)\n",
    "        permutations.append([item for sublist in perm for item in sublist])\n",
    "    return permutations"
   ]
  },
  {
   "cell_type": "code",
   "execution_count": 5,
   "metadata": {},
   "outputs": [],
   "source": [
    "input_file = 'C:/Users/ADMIN/Desktop/DATN/Extract_Information/data/mave_filtered_test.jsonl'\n",
    "output_dir = 'output'\n",
    "n_parts = 10\n",
    "n_permutations = 10\n",
    "\n",
    "# Read the data\n",
    "data = read_jsonl(input_file)\n",
    "\n",
    "# Split the data into n_parts\n",
    "data_parts = split_data(data, n_parts)\n",
    "\n",
    "# Create n_permutations of the parts\n",
    "permutations = create_permutations(data_parts, n_permutations)\n",
    "\n",
    "# Create output directory if it doesn't exist\n",
    "Path(output_dir).mkdir(parents=True, exist_ok=True)\n",
    "\n",
    "# Write permutations to JSON files\n",
    "for i, perm in enumerate(permutations):\n",
    "    output_file = f'{output_dir}/permuted_{i+1}.jsonl'\n",
    "    write_jsonl(perm, output_file)"
   ]
  }
 ],
 "metadata": {
  "kernelspec": {
   "display_name": "piechatgpt",
   "language": "python",
   "name": "python3"
  },
  "language_info": {
   "codemirror_mode": {
    "name": "ipython",
    "version": 3
   },
   "file_extension": ".py",
   "mimetype": "text/x-python",
   "name": "python",
   "nbconvert_exporter": "python",
   "pygments_lexer": "ipython3",
   "version": "3.8.19"
  }
 },
 "nbformat": 4,
 "nbformat_minor": 2
}
