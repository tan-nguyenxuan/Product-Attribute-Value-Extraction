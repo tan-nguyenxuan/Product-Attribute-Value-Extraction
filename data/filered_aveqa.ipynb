{
 "cells": [
  {
   "cell_type": "code",
   "execution_count": 1,
   "metadata": {},
   "outputs": [],
   "source": [
    "import json\n",
    "_DATASET_DIR = 'C:/Users/ADMIN/Desktop/DATN/extract_information/data/split_mave/'\n",
    "\n",
    "data_test = []\n",
    "with open(_DATASET_DIR + 'test/mave_negatives.jsonl', 'r', encoding='utf-8') as file:\n",
    "    for line in file:\n",
    "        data = json.loads(line)\n",
    "        data_new={}\n",
    "        check = data['attributes'][0]['evidences']\n",
    "        \n",
    "        if(len(check) == 0):\n",
    "            data_new['id'] = data['id']\n",
    "            data_new['category'] = data['category']\n",
    "            data_new['context'] = data['title']\n",
    "            \n",
    "            data_new['question'] = \"What is the \" + data['attributes'][0]['key'] + \" of the \" + data['category'][:-1] + \"?\"\n",
    "            data_new['answer'] = {'answer_start': [], 'text': []}\n",
    "            data_test.append(data_new)"
   ]
  },
  {
   "cell_type": "code",
   "execution_count": 2,
   "metadata": {},
   "outputs": [],
   "source": [
    "with open('C:/Users/ADMIN/Desktop/DATN/Extract_Information/data/aveqa_mave/test/mave_negatives.jsonl', 'a', encoding='utf-8') as jsonl_file:\n",
    "    for data in data_test:\n",
    "        jsonl_file.write(json.dumps(data) + '\\n')"
   ]
  }
 ],
 "metadata": {
  "kernelspec": {
   "display_name": "piechatgpt",
   "language": "python",
   "name": "python3"
  },
  "language_info": {
   "codemirror_mode": {
    "name": "ipython",
    "version": 3
   },
   "file_extension": ".py",
   "mimetype": "text/x-python",
   "name": "python",
   "nbconvert_exporter": "python",
   "pygments_lexer": "ipython3",
   "version": "3.8.19"
  }
 },
 "nbformat": 4,
 "nbformat_minor": 2
}
