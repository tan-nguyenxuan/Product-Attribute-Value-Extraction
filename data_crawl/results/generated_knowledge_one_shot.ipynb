{
 "cells": [
  {
   "cell_type": "markdown",
   "id": "f6790030",
   "metadata": {},
   "source": [
    "## Populate Task"
   ]
  },
  {
   "cell_type": "code",
   "execution_count": 10,
   "id": "817936ad",
   "metadata": {},
   "outputs": [],
   "source": [
    "from dotenv import load_dotenv\n",
    "import json"
   ]
  },
  {
   "cell_type": "code",
   "execution_count": 11,
   "id": "a3514677",
   "metadata": {},
   "outputs": [],
   "source": [
    "PATH_FILE_DATA = 'C:/Users/ADMIN/Desktop/DATN/Extract_Information/data_crawl/data/data_crawl.jsonl'\n",
    "PATH_FILE_TEMPLATE = 'C:/Users/ADMIN/Desktop/DATN/Extract_Information/tasks/task_template.json'"
   ]
  },
  {
   "cell_type": "code",
   "execution_count": 12,
   "id": "4ae529dc",
   "metadata": {},
   "outputs": [],
   "source": [
    "task = 'generated_knowledge_one_shot'"
   ]
  },
  {
   "cell_type": "code",
   "execution_count": 13,
   "id": "495eabb6",
   "metadata": {},
   "outputs": [],
   "source": [
    "category_attribute_2_human = {\n",
    "    'Laptops_Processor Brand':['Dell Inspiron 14z i14z-2100sLV 14.0-Inch Ultrabook (1.9 GHz Intel Core i3-3227U Processor, 6GB DDR3, 500GB HDD, Windows 8) Moon Silver [Discontinued By Manufacturer]', 'HP NW9440 17.0 Inch Laptop, Intel Core 2 Duo T7400 2.16 GHz, 2 GB DDR2 SDRAM, 100 GB Hard Drive, Genuine Windows XP Professional (SP2)', 'OQO 1070103-US Model 02 5\\\" Ultra Mobile PC UMPC'],\n",
    "    'Laptops_Processor Speed':['HP Pavilion dv6113us 15.4\\\" Notebook Laptop PC (AMD Turion 64 X2 Dual-Core TL-50 1.6GHz, 1GB RAM, 80GB HDD / DVD\\u00b1RW DL / Wireless / WXP Media Center) by CE', 'Dell Inspiron 14z i14z-2100sLV 14.0-Inch Ultrabook (1.9 GHz Intel Core i3-3227U Processor, 6GB DDR3, 500GB HDD, Windows 8) Moon Silver [Discontinued By Manufacturer]', 'Averatec AV3255P1-01 Laptop (AMD Athlon XP-M 2000+, 512 MB RAM, 40 GB Hard drive, 802.11g, DVD+CD-RW combo)'],\n",
    "    'Laptops_Screen Size':['HP Pavilion dv6113us 15.4\\\" Notebook Laptop PC (AMD Turion 64 X2 Dual-Core TL-50 1.6GHz, 1GB RAM, 80GB HDD / DVD\\u00b1RW DL / Wireless / WXP Media Center) by CE', 'Acer Aspire S7 13.3-Inch Touchscreen Ultrabook (Intel Core i5-4200U Processor up to 2.6GHz, 8GB DDR3 Memory, 256GB SSD, FHD 1080P Touchscreen Display, Backlit Keyboard, 802.11AC WiFi, Windows 8.1, 0.5 inch thin and 2.9 Lbs) Crystal White', 'Toshiba A45-S121 Laptop (2.8 GHz Celeron, 256 MB RAM, 40 GB Hard Drive, DVD/CD-RW Combo)'],\n",
    "}\n",
    "\n",
    "category_attribute_2_system = {\n",
    "    'Laptops_Processor Brand': ['Intel', 'Intel', 'I do not know.'],\n",
    "    'Laptops_Processor Speed':['1.6GHz', '1.9 GHz', 'I do not know.'],\n",
    "    'Laptops_Screen Size':['15.4 inches', '13.3 inches', 'I do not know.'],\n",
    "}\n",
    "\n",
    "# Update Task Dict\n",
    "def update_task_dict_from_file(file_name, task_dict):\n",
    "    with open(file_name, 'r') as f:\n",
    "        for line in f:\n",
    "            record = json.loads(line)\n",
    "            \n",
    "            example = {}\n",
    "            example['human_0'] = category_attribute_2_human['Laptops_Screen Size'][0]\n",
    "            example['system_0'] = category_attribute_2_system['Laptops_Screen Size'][0]\n",
    "            example['attribute'] = \"Screen Size\"\n",
    "            example['input'] = '{} \\n Requested Attribute: Screen Size'.format(record['title'])\n",
    "            task_dict['examples'].append(example)\n",
    "            \n",
    "            example1 = {}\n",
    "            example1['human_0'] = category_attribute_2_human['Laptops_Processor Brand'][0]\n",
    "            example1['system_0'] = category_attribute_2_system['Laptops_Processor Brand'][0]\n",
    "            example1['attribute'] = \"Processor Brand\"\n",
    "            example1['input'] = '{} \\n Requested Attribute: Processor Brand'.format(record['title'])\n",
    "            task_dict['examples'].append(example1)\n",
    "            \n",
    "            example2 = {}\n",
    "            example2['human_0'] = category_attribute_2_human['Laptops_Processor Speed'][0]\n",
    "            example2['system_0'] = category_attribute_2_system['Laptops_Processor Speed'][0]\n",
    "            example2['attribute'] = \"Processor Speed\"\n",
    "            example2['input'] = '{} \\n Requested Attribute: Processor Speed'.format(record['title'])\n",
    "            task_dict['examples'].append(example2)\n",
    "\n",
    "    return task_dict"
   ]
  },
  {
   "cell_type": "code",
   "execution_count": 14,
   "id": "8a265656",
   "metadata": {},
   "outputs": [
    {
     "data": {
      "text/plain": [
       "True"
      ]
     },
     "execution_count": 14,
     "metadata": {},
     "output_type": "execute_result"
    }
   ],
   "source": [
    "# Load OPENAI_API_KEY from .env file\n",
    "load_dotenv()"
   ]
  },
  {
   "cell_type": "code",
   "execution_count": 15,
   "id": "29536f5c",
   "metadata": {},
   "outputs": [],
   "source": [
    "# Load task template\n",
    "with open(PATH_FILE_TEMPLATE, 'r') as f:\n",
    "    task_dict = json.load(f)\n",
    "\n",
    "task_dict['task_prefix'] = \"Extract all attribute-value pairs from the product title. Afterwards, return only the exact attribute value of the requested attribute. Your answer must only contain the attribute value. If the attribute is not applicable or the attribute value cannot be derived from the product title, respond with 'I do not know.'.\"\n",
    "\n",
    "# Generate examples\n",
    "task_dict = update_task_dict_from_file(PATH_FILE_DATA, task_dict)\n",
    "\n",
    "with open('task_data_crawl.json', 'w', encoding='utf-8') as f:\n",
    "    json.dump(task_dict, f, indent=4)"
   ]
  },
  {
   "cell_type": "markdown",
   "id": "094cf781",
   "metadata": {},
   "source": [
    "## Evaluate Task"
   ]
  },
  {
   "cell_type": "code",
   "execution_count": 16,
   "id": "d55fb8c7",
   "metadata": {},
   "outputs": [],
   "source": [
    "# Initialize processing\n",
    "from tqdm import tqdm\n",
    "from langchain import LLMChain\n",
    "from langchain.chat_models import ChatOpenAI\n",
    "\n",
    "from langchain.prompts import (\n",
    "    ChatPromptTemplate,\n",
    "    SystemMessagePromptTemplate,\n",
    "    HumanMessagePromptTemplate,\n",
    "    AIMessagePromptTemplate\n",
    ")\n",
    "\n",
    "# Put task prefix into system message.\n",
    "prompt_list = []\n",
    "system_message_prompt = SystemMessagePromptTemplate.from_template(task_dict['task_prefix'])\n",
    "prompt_list.append(system_message_prompt)\n",
    "\n",
    "# Prepare one-shot  \n",
    "human_example_template=\"{human_msg_0}\"\n",
    "human_example_message_prompt = HumanMessagePromptTemplate.from_template(human_example_template)\n",
    "prompt_list.append(human_example_message_prompt)\n",
    "\n",
    "ai_example_template=\"{ai_msg_0}\"\n",
    "ai_example_message_prompt = AIMessagePromptTemplate.from_template(ai_example_template)\n",
    "prompt_list.append(ai_example_message_prompt)\n",
    "\n",
    "prompt_list.append(system_message_prompt)\n",
    "\n",
    "# Add \n",
    "human_template=\"{input_string}\"\n",
    "human_message_prompt = HumanMessagePromptTemplate.from_template(human_template)\n",
    "prompt_list.append(human_message_prompt)\n",
    "\n",
    "chat_prompt = ChatPromptTemplate.from_messages(prompt_list)\n",
    "\n",
    "gpt_3_turbo = ChatOpenAI(model_name='gpt-3.5-turbo-0125', temperature=0)\n",
    "\n",
    "llm_chain = LLMChain(\n",
    "    prompt=chat_prompt,\n",
    "    llm=gpt_3_turbo\n",
    ")\n",
    "\n",
    "# Save model\n",
    "task_dict['model'] = llm_chain.llm.model_name"
   ]
  },
  {
   "cell_type": "code",
   "execution_count": 19,
   "id": "20d23e3f",
   "metadata": {},
   "outputs": [],
   "source": [
    "def select_and_run_llm(attribute, human, system, input):\n",
    "        pred = None\n",
    "        if len(input) == 0:\n",
    "            # No input text provided.\n",
    "            return pred\n",
    "        \n",
    "        response = llm_chain.run(input_string = input, human_msg_0=human, ai_msg_0=system)\n",
    "        print(response)\n",
    "        try:\n",
    "            pred ={}\n",
    "            pred[attribute] = response\n",
    "        except Exception as e:\n",
    "            print(e)\n",
    "            print('Response: ')\n",
    "            print(response)\n",
    "        return pred"
   ]
  },
  {
   "cell_type": "code",
   "execution_count": 20,
   "id": "62eec27b",
   "metadata": {
    "scrolled": false
   },
   "outputs": [
    {
     "name": "stderr",
     "output_type": "stream",
     "text": [
      "  0%|          | 1/1341 [00:01<23:06,  1.03s/it]"
     ]
    },
    {
     "name": "stdout",
     "output_type": "stream",
     "text": [
      "15.6 inches\n"
     ]
    },
    {
     "name": "stderr",
     "output_type": "stream",
     "text": [
      "  0%|          | 2/1341 [00:01<16:48,  1.33it/s]"
     ]
    },
    {
     "name": "stdout",
     "output_type": "stream",
     "text": [
      "Intel\n"
     ]
    },
    {
     "name": "stderr",
     "output_type": "stream",
     "text": [
      "  0%|          | 3/1341 [00:02<16:33,  1.35it/s]"
     ]
    },
    {
     "name": "stdout",
     "output_type": "stream",
     "text": [
      "1.2GHz\n"
     ]
    },
    {
     "name": "stderr",
     "output_type": "stream",
     "text": [
      "  0%|          | 4/1341 [00:02<14:43,  1.51it/s]"
     ]
    },
    {
     "name": "stdout",
     "output_type": "stream",
     "text": [
      "14 inches\n"
     ]
    },
    {
     "name": "stderr",
     "output_type": "stream",
     "text": [
      "  0%|          | 5/1341 [00:03<13:38,  1.63it/s]"
     ]
    },
    {
     "name": "stdout",
     "output_type": "stream",
     "text": [
      "Intel\n"
     ]
    },
    {
     "name": "stderr",
     "output_type": "stream",
     "text": [
      "  0%|          | 6/1341 [00:04<13:50,  1.61it/s]"
     ]
    },
    {
     "name": "stdout",
     "output_type": "stream",
     "text": [
      "1.2GHz\n"
     ]
    },
    {
     "name": "stderr",
     "output_type": "stream",
     "text": [
      "  1%|          | 7/1341 [00:04<13:07,  1.69it/s]"
     ]
    },
    {
     "name": "stdout",
     "output_type": "stream",
     "text": [
      "15.6 inches\n"
     ]
    },
    {
     "name": "stderr",
     "output_type": "stream",
     "text": [
      "  1%|          | 8/1341 [00:05<13:10,  1.69it/s]"
     ]
    },
    {
     "name": "stdout",
     "output_type": "stream",
     "text": [
      "Intel\n"
     ]
    },
    {
     "name": "stderr",
     "output_type": "stream",
     "text": [
      "  1%|          | 9/1341 [00:05<13:21,  1.66it/s]"
     ]
    },
    {
     "name": "stdout",
     "output_type": "stream",
     "text": [
      "1.7GHz\n"
     ]
    },
    {
     "name": "stderr",
     "output_type": "stream",
     "text": [
      "  1%|          | 10/1341 [00:06<12:47,  1.73it/s]"
     ]
    },
    {
     "name": "stdout",
     "output_type": "stream",
     "text": [
      "14 inches\n"
     ]
    },
    {
     "name": "stderr",
     "output_type": "stream",
     "text": [
      "  1%|          | 11/1341 [00:06<12:11,  1.82it/s]"
     ]
    },
    {
     "name": "stdout",
     "output_type": "stream",
     "text": [
      "AMD\n"
     ]
    },
    {
     "name": "stderr",
     "output_type": "stream",
     "text": [
      "  1%|          | 12/1341 [00:07<12:49,  1.73it/s]"
     ]
    },
    {
     "name": "stdout",
     "output_type": "stream",
     "text": [
      "2.8GHz\n"
     ]
    },
    {
     "name": "stderr",
     "output_type": "stream",
     "text": [
      "  1%|          | 13/1341 [00:07<12:25,  1.78it/s]"
     ]
    },
    {
     "name": "stdout",
     "output_type": "stream",
     "text": [
      "14 inches\n"
     ]
    },
    {
     "name": "stderr",
     "output_type": "stream",
     "text": [
      "  1%|          | 14/1341 [00:08<12:18,  1.80it/s]"
     ]
    },
    {
     "name": "stdout",
     "output_type": "stream",
     "text": [
      "Intel\n"
     ]
    },
    {
     "name": "stderr",
     "output_type": "stream",
     "text": [
      "  1%|          | 15/1341 [00:09<12:06,  1.82it/s]"
     ]
    },
    {
     "name": "stdout",
     "output_type": "stream",
     "text": [
      "1.3GHz\n"
     ]
    },
    {
     "name": "stderr",
     "output_type": "stream",
     "text": [
      "  1%|          | 16/1341 [00:10<21:36,  1.02it/s]"
     ]
    },
    {
     "name": "stdout",
     "output_type": "stream",
     "text": [
      "14 inches\n"
     ]
    },
    {
     "name": "stderr",
     "output_type": "stream",
     "text": [
      "  1%|▏         | 17/1341 [00:11<18:27,  1.20it/s]"
     ]
    },
    {
     "name": "stdout",
     "output_type": "stream",
     "text": [
      "Intel\n"
     ]
    },
    {
     "name": "stderr",
     "output_type": "stream",
     "text": [
      "  1%|▏         | 18/1341 [00:12<18:18,  1.20it/s]"
     ]
    },
    {
     "name": "stdout",
     "output_type": "stream",
     "text": [
      "1.3GHz\n"
     ]
    },
    {
     "name": "stderr",
     "output_type": "stream",
     "text": [
      "  1%|▏         | 19/1341 [00:13<17:26,  1.26it/s]"
     ]
    },
    {
     "name": "stdout",
     "output_type": "stream",
     "text": [
      "15.6 inches\n"
     ]
    },
    {
     "name": "stderr",
     "output_type": "stream",
     "text": [
      "  1%|▏         | 20/1341 [00:13<16:14,  1.36it/s]"
     ]
    },
    {
     "name": "stdout",
     "output_type": "stream",
     "text": [
      "Intel\n"
     ]
    },
    {
     "name": "stderr",
     "output_type": "stream",
     "text": [
      "  2%|▏         | 21/1341 [00:14<16:19,  1.35it/s]"
     ]
    },
    {
     "name": "stdout",
     "output_type": "stream",
     "text": [
      "1.3GHz\n"
     ]
    },
    {
     "name": "stderr",
     "output_type": "stream",
     "text": [
      "  2%|▏         | 22/1341 [00:16<23:30,  1.07s/it]"
     ]
    },
    {
     "name": "stdout",
     "output_type": "stream",
     "text": [
      "15.6 inches\n"
     ]
    },
    {
     "name": "stderr",
     "output_type": "stream",
     "text": [
      "  2%|▏         | 23/1341 [00:16<20:41,  1.06it/s]"
     ]
    },
    {
     "name": "stdout",
     "output_type": "stream",
     "text": [
      "Intel\n"
     ]
    },
    {
     "name": "stderr",
     "output_type": "stream",
     "text": [
      "  2%|▏         | 24/1341 [00:17<18:25,  1.19it/s]"
     ]
    },
    {
     "name": "stdout",
     "output_type": "stream",
     "text": [
      "1.7GHz\n"
     ]
    },
    {
     "name": "stderr",
     "output_type": "stream",
     "text": [
      "  2%|▏         | 25/1341 [00:18<17:50,  1.23it/s]"
     ]
    },
    {
     "name": "stdout",
     "output_type": "stream",
     "text": [
      "15.6 inches\n"
     ]
    },
    {
     "name": "stderr",
     "output_type": "stream",
     "text": [
      "  2%|▏         | 26/1341 [00:18<16:05,  1.36it/s]"
     ]
    },
    {
     "name": "stdout",
     "output_type": "stream",
     "text": [
      "Intel\n"
     ]
    },
    {
     "name": "stderr",
     "output_type": "stream",
     "text": [
      "  2%|▏         | 27/1341 [00:19<15:08,  1.45it/s]"
     ]
    },
    {
     "name": "stdout",
     "output_type": "stream",
     "text": [
      "1.7GHz\n"
     ]
    },
    {
     "name": "stderr",
     "output_type": "stream",
     "text": [
      "  2%|▏         | 28/1341 [00:19<14:37,  1.50it/s]"
     ]
    },
    {
     "name": "stdout",
     "output_type": "stream",
     "text": [
      "14 inches\n"
     ]
    },
    {
     "name": "stderr",
     "output_type": "stream",
     "text": [
      "  2%|▏         | 29/1341 [00:20<13:23,  1.63it/s]"
     ]
    },
    {
     "name": "stdout",
     "output_type": "stream",
     "text": [
      "Intel\n"
     ]
    },
    {
     "name": "stderr",
     "output_type": "stream",
     "text": [
      "  2%|▏         | 30/1341 [00:21<13:48,  1.58it/s]"
     ]
    },
    {
     "name": "stdout",
     "output_type": "stream",
     "text": [
      "1.3GHz\n"
     ]
    },
    {
     "name": "stderr",
     "output_type": "stream",
     "text": [
      "  2%|▏         | 31/1341 [00:21<13:11,  1.66it/s]"
     ]
    },
    {
     "name": "stdout",
     "output_type": "stream",
     "text": [
      "15.6 inches\n"
     ]
    },
    {
     "name": "stderr",
     "output_type": "stream",
     "text": [
      "  2%|▏         | 32/1341 [00:22<12:41,  1.72it/s]"
     ]
    },
    {
     "name": "stdout",
     "output_type": "stream",
     "text": [
      "Intel\n"
     ]
    },
    {
     "name": "stderr",
     "output_type": "stream",
     "text": [
      "  2%|▏         | 33/1341 [00:22<13:29,  1.62it/s]"
     ]
    },
    {
     "name": "stdout",
     "output_type": "stream",
     "text": [
      "2GHz\n"
     ]
    },
    {
     "name": "stderr",
     "output_type": "stream",
     "text": [
      "  3%|▎         | 34/1341 [00:23<13:14,  1.65it/s]"
     ]
    },
    {
     "name": "stdout",
     "output_type": "stream",
     "text": [
      "14 inches\n"
     ]
    },
    {
     "name": "stderr",
     "output_type": "stream",
     "text": [
      "  3%|▎         | 35/1341 [00:24<12:44,  1.71it/s]"
     ]
    },
    {
     "name": "stdout",
     "output_type": "stream",
     "text": [
      "Intel\n"
     ]
    },
    {
     "name": "stderr",
     "output_type": "stream",
     "text": [
      "  3%|▎         | 36/1341 [00:24<13:14,  1.64it/s]"
     ]
    },
    {
     "name": "stdout",
     "output_type": "stream",
     "text": [
      "1.8GHz\n"
     ]
    },
    {
     "name": "stderr",
     "output_type": "stream",
     "text": [
      "  3%|▎         | 37/1341 [00:25<13:10,  1.65it/s]"
     ]
    },
    {
     "name": "stdout",
     "output_type": "stream",
     "text": [
      "15.6 inches\n"
     ]
    },
    {
     "name": "stderr",
     "output_type": "stream",
     "text": [
      "  3%|▎         | 38/1341 [00:25<12:43,  1.71it/s]"
     ]
    },
    {
     "name": "stdout",
     "output_type": "stream",
     "text": [
      "Intel\n"
     ]
    },
    {
     "name": "stderr",
     "output_type": "stream",
     "text": [
      "  3%|▎         | 39/1341 [00:26<13:13,  1.64it/s]"
     ]
    },
    {
     "name": "stdout",
     "output_type": "stream",
     "text": [
      "2.1GHz\n"
     ]
    },
    {
     "name": "stderr",
     "output_type": "stream",
     "text": [
      "  3%|▎         | 40/1341 [00:27<13:02,  1.66it/s]"
     ]
    },
    {
     "name": "stdout",
     "output_type": "stream",
     "text": [
      "15.6 inches\n"
     ]
    },
    {
     "name": "stderr",
     "output_type": "stream",
     "text": [
      "  3%|▎         | 41/1341 [00:27<12:21,  1.75it/s]"
     ]
    },
    {
     "name": "stdout",
     "output_type": "stream",
     "text": [
      "AMD\n"
     ]
    },
    {
     "name": "stderr",
     "output_type": "stream",
     "text": [
      "  3%|▎         | 42/1341 [00:28<12:59,  1.67it/s]"
     ]
    },
    {
     "name": "stdout",
     "output_type": "stream",
     "text": [
      "3.3GHz\n"
     ]
    },
    {
     "name": "stderr",
     "output_type": "stream",
     "text": [
      "  3%|▎         | 43/1341 [00:28<12:41,  1.70it/s]"
     ]
    },
    {
     "name": "stdout",
     "output_type": "stream",
     "text": [
      "14 inches\n"
     ]
    },
    {
     "name": "stderr",
     "output_type": "stream",
     "text": [
      "  3%|▎         | 44/1341 [00:29<12:14,  1.77it/s]"
     ]
    },
    {
     "name": "stdout",
     "output_type": "stream",
     "text": [
      "Intel\n"
     ]
    },
    {
     "name": "stderr",
     "output_type": "stream",
     "text": [
      "  3%|▎         | 45/1341 [00:29<12:52,  1.68it/s]"
     ]
    },
    {
     "name": "stdout",
     "output_type": "stream",
     "text": [
      "1.3GHz\n"
     ]
    },
    {
     "name": "stderr",
     "output_type": "stream",
     "text": [
      "  3%|▎         | 46/1341 [00:30<13:10,  1.64it/s]"
     ]
    },
    {
     "name": "stdout",
     "output_type": "stream",
     "text": [
      "15.6 inches\n"
     ]
    },
    {
     "name": "stderr",
     "output_type": "stream",
     "text": [
      "  4%|▎         | 47/1341 [00:31<13:10,  1.64it/s]"
     ]
    },
    {
     "name": "stdout",
     "output_type": "stream",
     "text": [
      "Intel\n"
     ]
    },
    {
     "name": "stderr",
     "output_type": "stream",
     "text": [
      "  4%|▎         | 48/1341 [00:31<12:28,  1.73it/s]"
     ]
    },
    {
     "name": "stdout",
     "output_type": "stream",
     "text": [
      "3GHz\n"
     ]
    },
    {
     "name": "stderr",
     "output_type": "stream",
     "text": [
      "  4%|▎         | 49/1341 [00:32<12:14,  1.76it/s]"
     ]
    },
    {
     "name": "stdout",
     "output_type": "stream",
     "text": [
      "13.3 inches\n"
     ]
    },
    {
     "name": "stderr",
     "output_type": "stream",
     "text": [
      "  4%|▎         | 50/1341 [00:32<11:52,  1.81it/s]"
     ]
    },
    {
     "name": "stdout",
     "output_type": "stream",
     "text": [
      "Intel\n"
     ]
    },
    {
     "name": "stderr",
     "output_type": "stream",
     "text": [
      "  4%|▍         | 51/1341 [00:33<12:00,  1.79it/s]"
     ]
    },
    {
     "name": "stdout",
     "output_type": "stream",
     "text": [
      "1.1GHz\n"
     ]
    },
    {
     "name": "stderr",
     "output_type": "stream",
     "text": [
      "  4%|▍         | 52/1341 [00:33<12:25,  1.73it/s]"
     ]
    },
    {
     "name": "stdout",
     "output_type": "stream",
     "text": [
      "14 inches\n"
     ]
    },
    {
     "name": "stderr",
     "output_type": "stream",
     "text": [
      "  4%|▍         | 53/1341 [00:34<12:38,  1.70it/s]"
     ]
    },
    {
     "name": "stdout",
     "output_type": "stream",
     "text": [
      "Intel\n"
     ]
    },
    {
     "name": "stderr",
     "output_type": "stream",
     "text": [
      "  4%|▍         | 54/1341 [00:35<12:56,  1.66it/s]"
     ]
    },
    {
     "name": "stdout",
     "output_type": "stream",
     "text": [
      "1.7GHz\n"
     ]
    },
    {
     "name": "stderr",
     "output_type": "stream",
     "text": [
      "  4%|▍         | 55/1341 [00:35<13:00,  1.65it/s]"
     ]
    },
    {
     "name": "stdout",
     "output_type": "stream",
     "text": [
      "15.6 inches\n"
     ]
    },
    {
     "name": "stderr",
     "output_type": "stream",
     "text": [
      "  4%|▍         | 56/1341 [00:36<13:16,  1.61it/s]"
     ]
    },
    {
     "name": "stdout",
     "output_type": "stream",
     "text": [
      "Intel\n"
     ]
    },
    {
     "name": "stderr",
     "output_type": "stream",
     "text": [
      "  4%|▍         | 57/1341 [00:38<19:36,  1.09it/s]"
     ]
    },
    {
     "name": "stdout",
     "output_type": "stream",
     "text": [
      "1.7GHz\n"
     ]
    },
    {
     "name": "stderr",
     "output_type": "stream",
     "text": [
      "  4%|▍         | 58/1341 [00:38<17:31,  1.22it/s]"
     ]
    },
    {
     "name": "stdout",
     "output_type": "stream",
     "text": [
      "14 inches\n"
     ]
    },
    {
     "name": "stderr",
     "output_type": "stream",
     "text": [
      "  4%|▍         | 59/1341 [00:39<15:43,  1.36it/s]"
     ]
    },
    {
     "name": "stdout",
     "output_type": "stream",
     "text": [
      "Intel\n"
     ]
    },
    {
     "name": "stderr",
     "output_type": "stream",
     "text": [
      "  4%|▍         | 60/1341 [00:40<17:10,  1.24it/s]"
     ]
    },
    {
     "name": "stdout",
     "output_type": "stream",
     "text": [
      "1.3GHz\n"
     ]
    },
    {
     "name": "stderr",
     "output_type": "stream",
     "text": [
      "  5%|▍         | 61/1341 [00:40<16:04,  1.33it/s]"
     ]
    },
    {
     "name": "stdout",
     "output_type": "stream",
     "text": [
      "13.3 inches\n"
     ]
    },
    {
     "name": "stderr",
     "output_type": "stream",
     "text": [
      "  5%|▍         | 62/1341 [00:41<14:32,  1.47it/s]"
     ]
    },
    {
     "name": "stdout",
     "output_type": "stream",
     "text": [
      "Intel\n"
     ]
    },
    {
     "name": "stderr",
     "output_type": "stream",
     "text": [
      "  5%|▍         | 63/1341 [00:41<13:45,  1.55it/s]"
     ]
    },
    {
     "name": "stdout",
     "output_type": "stream",
     "text": [
      "1.00 GHz\n"
     ]
    },
    {
     "name": "stderr",
     "output_type": "stream",
     "text": [
      "  5%|▍         | 64/1341 [00:42<13:25,  1.59it/s]"
     ]
    },
    {
     "name": "stdout",
     "output_type": "stream",
     "text": [
      "14 inches\n"
     ]
    },
    {
     "name": "stderr",
     "output_type": "stream",
     "text": [
      "  5%|▍         | 65/1341 [00:43<12:30,  1.70it/s]"
     ]
    },
    {
     "name": "stdout",
     "output_type": "stream",
     "text": [
      "Intel\n"
     ]
    },
    {
     "name": "stderr",
     "output_type": "stream",
     "text": [
      "  5%|▍         | 66/1341 [00:43<12:17,  1.73it/s]"
     ]
    },
    {
     "name": "stdout",
     "output_type": "stream",
     "text": [
      "1.3GHz\n"
     ]
    },
    {
     "name": "stderr",
     "output_type": "stream",
     "text": [
      "  5%|▍         | 67/1341 [00:44<12:49,  1.65it/s]"
     ]
    },
    {
     "name": "stdout",
     "output_type": "stream",
     "text": [
      "15.6 inches\n"
     ]
    },
    {
     "name": "stderr",
     "output_type": "stream",
     "text": [
      "  5%|▌         | 68/1341 [00:44<12:04,  1.76it/s]"
     ]
    },
    {
     "name": "stdout",
     "output_type": "stream",
     "text": [
      "Intel\n"
     ]
    },
    {
     "name": "stderr",
     "output_type": "stream",
     "text": [
      "  5%|▌         | 69/1341 [00:45<11:45,  1.80it/s]"
     ]
    },
    {
     "name": "stdout",
     "output_type": "stream",
     "text": [
      "1.3GHz\n"
     ]
    },
    {
     "name": "stderr",
     "output_type": "stream",
     "text": [
      "  5%|▌         | 70/1341 [00:46<13:43,  1.54it/s]"
     ]
    },
    {
     "name": "stdout",
     "output_type": "stream",
     "text": [
      "15.6 inches\n"
     ]
    },
    {
     "name": "stderr",
     "output_type": "stream",
     "text": [
      "  5%|▌         | 71/1341 [00:46<13:03,  1.62it/s]"
     ]
    },
    {
     "name": "stdout",
     "output_type": "stream",
     "text": [
      "Intel\n"
     ]
    },
    {
     "name": "stderr",
     "output_type": "stream",
     "text": [
      "  5%|▌         | 72/1341 [00:47<12:57,  1.63it/s]"
     ]
    },
    {
     "name": "stdout",
     "output_type": "stream",
     "text": [
      "1.3GHz\n"
     ]
    },
    {
     "name": "stderr",
     "output_type": "stream",
     "text": [
      "  5%|▌         | 73/1341 [00:47<12:34,  1.68it/s]"
     ]
    },
    {
     "name": "stdout",
     "output_type": "stream",
     "text": [
      "15.6 inches\n"
     ]
    },
    {
     "name": "stderr",
     "output_type": "stream",
     "text": [
      "  6%|▌         | 74/1341 [00:48<12:24,  1.70it/s]"
     ]
    },
    {
     "name": "stdout",
     "output_type": "stream",
     "text": [
      "Intel\n"
     ]
    },
    {
     "name": "stderr",
     "output_type": "stream",
     "text": [
      "  6%|▌         | 75/1341 [00:48<12:12,  1.73it/s]"
     ]
    },
    {
     "name": "stdout",
     "output_type": "stream",
     "text": [
      "1.3GHz\n"
     ]
    },
    {
     "name": "stderr",
     "output_type": "stream",
     "text": [
      "  6%|▌         | 76/1341 [00:49<11:56,  1.76it/s]"
     ]
    },
    {
     "name": "stdout",
     "output_type": "stream",
     "text": [
      "14 inches\n"
     ]
    },
    {
     "name": "stderr",
     "output_type": "stream",
     "text": [
      "  6%|▌         | 77/1341 [00:50<11:50,  1.78it/s]"
     ]
    },
    {
     "name": "stdout",
     "output_type": "stream",
     "text": [
      "Intel\n"
     ]
    },
    {
     "name": "stderr",
     "output_type": "stream",
     "text": [
      "  6%|▌         | 78/1341 [00:51<14:37,  1.44it/s]"
     ]
    },
    {
     "name": "stdout",
     "output_type": "stream",
     "text": [
      "1.3GHz\n"
     ]
    },
    {
     "name": "stderr",
     "output_type": "stream",
     "text": [
      "  6%|▌         | 79/1341 [00:51<13:50,  1.52it/s]"
     ]
    },
    {
     "name": "stdout",
     "output_type": "stream",
     "text": [
      "13.3 inches\n"
     ]
    },
    {
     "name": "stderr",
     "output_type": "stream",
     "text": [
      "  6%|▌         | 80/1341 [00:52<15:07,  1.39it/s]"
     ]
    },
    {
     "name": "stdout",
     "output_type": "stream",
     "text": [
      "Intel\n"
     ]
    },
    {
     "name": "stderr",
     "output_type": "stream",
     "text": [
      "  6%|▌         | 81/1341 [00:53<15:11,  1.38it/s]"
     ]
    },
    {
     "name": "stdout",
     "output_type": "stream",
     "text": [
      "1.3GHz\n"
     ]
    },
    {
     "name": "stderr",
     "output_type": "stream",
     "text": [
      "  6%|▌         | 82/1341 [00:53<14:43,  1.43it/s]"
     ]
    },
    {
     "name": "stdout",
     "output_type": "stream",
     "text": [
      "16.1 inches\n"
     ]
    },
    {
     "name": "stderr",
     "output_type": "stream",
     "text": [
      "  6%|▌         | 83/1341 [00:54<13:25,  1.56it/s]"
     ]
    },
    {
     "name": "stdout",
     "output_type": "stream",
     "text": [
      "AMD\n"
     ]
    },
    {
     "name": "stderr",
     "output_type": "stream",
     "text": [
      "  6%|▋         | 84/1341 [00:55<13:59,  1.50it/s]"
     ]
    },
    {
     "name": "stdout",
     "output_type": "stream",
     "text": [
      "3.8GHz\n"
     ]
    },
    {
     "name": "stderr",
     "output_type": "stream",
     "text": [
      "  6%|▋         | 85/1341 [00:55<14:01,  1.49it/s]"
     ]
    },
    {
     "name": "stdout",
     "output_type": "stream",
     "text": [
      "16.1 inches\n"
     ]
    },
    {
     "name": "stderr",
     "output_type": "stream",
     "text": [
      "  6%|▋         | 86/1341 [00:56<13:22,  1.56it/s]"
     ]
    },
    {
     "name": "stdout",
     "output_type": "stream",
     "text": [
      "AMD\n"
     ]
    },
    {
     "name": "stderr",
     "output_type": "stream",
     "text": [
      "  6%|▋         | 87/1341 [00:56<13:01,  1.60it/s]"
     ]
    },
    {
     "name": "stdout",
     "output_type": "stream",
     "text": [
      "3.3GHz\n"
     ]
    },
    {
     "name": "stderr",
     "output_type": "stream",
     "text": [
      "  7%|▋         | 88/1341 [00:57<13:12,  1.58it/s]"
     ]
    },
    {
     "name": "stdout",
     "output_type": "stream",
     "text": [
      "15.6 inches\n"
     ]
    },
    {
     "name": "stderr",
     "output_type": "stream",
     "text": [
      "  7%|▋         | 89/1341 [00:58<12:16,  1.70it/s]"
     ]
    },
    {
     "name": "stdout",
     "output_type": "stream",
     "text": [
      "Intel\n"
     ]
    },
    {
     "name": "stderr",
     "output_type": "stream",
     "text": [
      "  7%|▋         | 90/1341 [00:58<12:40,  1.65it/s]"
     ]
    },
    {
     "name": "stdout",
     "output_type": "stream",
     "text": [
      "1.2GHz\n"
     ]
    },
    {
     "name": "stderr",
     "output_type": "stream",
     "text": [
      "  7%|▋         | 91/1341 [00:59<12:18,  1.69it/s]"
     ]
    },
    {
     "name": "stdout",
     "output_type": "stream",
     "text": [
      "15.6 inches\n"
     ]
    },
    {
     "name": "stderr",
     "output_type": "stream",
     "text": [
      "  7%|▋         | 92/1341 [01:01<22:56,  1.10s/it]"
     ]
    },
    {
     "name": "stdout",
     "output_type": "stream",
     "text": [
      "Intel\n"
     ]
    },
    {
     "name": "stderr",
     "output_type": "stream",
     "text": [
      "  7%|▋         | 93/1341 [01:02<20:34,  1.01it/s]"
     ]
    },
    {
     "name": "stdout",
     "output_type": "stream",
     "text": [
      "2GHz\n"
     ]
    },
    {
     "name": "stderr",
     "output_type": "stream",
     "text": [
      "  7%|▋         | 94/1341 [01:02<17:52,  1.16it/s]"
     ]
    },
    {
     "name": "stdout",
     "output_type": "stream",
     "text": [
      "14 inches\n"
     ]
    },
    {
     "name": "stderr",
     "output_type": "stream",
     "text": [
      "  7%|▋         | 95/1341 [01:03<16:27,  1.26it/s]"
     ]
    },
    {
     "name": "stdout",
     "output_type": "stream",
     "text": [
      "Intel\n"
     ]
    },
    {
     "name": "stderr",
     "output_type": "stream",
     "text": [
      "  7%|▋         | 96/1341 [01:03<14:44,  1.41it/s]"
     ]
    },
    {
     "name": "stdout",
     "output_type": "stream",
     "text": [
      "1.3GHz\n"
     ]
    },
    {
     "name": "stderr",
     "output_type": "stream",
     "text": [
      "  7%|▋         | 97/1341 [01:04<14:06,  1.47it/s]"
     ]
    },
    {
     "name": "stdout",
     "output_type": "stream",
     "text": [
      "14 inches\n"
     ]
    },
    {
     "name": "stderr",
     "output_type": "stream",
     "text": [
      "  7%|▋         | 98/1341 [01:05<12:36,  1.64it/s]"
     ]
    },
    {
     "name": "stdout",
     "output_type": "stream",
     "text": [
      "AMD\n"
     ]
    },
    {
     "name": "stderr",
     "output_type": "stream",
     "text": [
      "  7%|▋         | 99/1341 [01:05<12:18,  1.68it/s]"
     ]
    },
    {
     "name": "stdout",
     "output_type": "stream",
     "text": [
      "2.30 GHz\n"
     ]
    },
    {
     "name": "stderr",
     "output_type": "stream",
     "text": [
      "  7%|▋         | 100/1341 [01:06<12:31,  1.65it/s]"
     ]
    },
    {
     "name": "stdout",
     "output_type": "stream",
     "text": [
      "16.1 inches\n"
     ]
    },
    {
     "name": "stderr",
     "output_type": "stream",
     "text": [
      "  8%|▊         | 101/1341 [01:07<13:41,  1.51it/s]"
     ]
    },
    {
     "name": "stdout",
     "output_type": "stream",
     "text": [
      "AMD\n"
     ]
    },
    {
     "name": "stderr",
     "output_type": "stream",
     "text": [
      "  8%|▊         | 102/1341 [01:07<13:48,  1.50it/s]"
     ]
    },
    {
     "name": "stdout",
     "output_type": "stream",
     "text": [
      "4GHz\n"
     ]
    },
    {
     "name": "stderr",
     "output_type": "stream",
     "text": [
      "  8%|▊         | 103/1341 [01:08<13:52,  1.49it/s]"
     ]
    },
    {
     "name": "stdout",
     "output_type": "stream",
     "text": [
      "16.1 inches\n"
     ]
    },
    {
     "name": "stderr",
     "output_type": "stream",
     "text": [
      "  8%|▊         | 104/1341 [01:08<13:06,  1.57it/s]"
     ]
    },
    {
     "name": "stdout",
     "output_type": "stream",
     "text": [
      "AMD\n"
     ]
    },
    {
     "name": "stderr",
     "output_type": "stream",
     "text": [
      "  8%|▊         | 105/1341 [01:09<12:25,  1.66it/s]"
     ]
    },
    {
     "name": "stdout",
     "output_type": "stream",
     "text": [
      "3.8GHz\n"
     ]
    },
    {
     "name": "stderr",
     "output_type": "stream",
     "text": [
      "  8%|▊         | 106/1341 [01:10<12:02,  1.71it/s]"
     ]
    },
    {
     "name": "stdout",
     "output_type": "stream",
     "text": [
      "16 inches\n"
     ]
    },
    {
     "name": "stderr",
     "output_type": "stream",
     "text": [
      "  8%|▊         | 107/1341 [01:10<12:58,  1.59it/s]"
     ]
    },
    {
     "name": "stdout",
     "output_type": "stream",
     "text": [
      "Intel\n"
     ]
    },
    {
     "name": "stderr",
     "output_type": "stream",
     "text": [
      "  8%|▊         | 108/1341 [01:12<18:28,  1.11it/s]"
     ]
    },
    {
     "name": "stdout",
     "output_type": "stream",
     "text": [
      "2.5GHz\n"
     ]
    },
    {
     "name": "stderr",
     "output_type": "stream",
     "text": [
      "  8%|▊         | 109/1341 [01:12<16:32,  1.24it/s]"
     ]
    },
    {
     "name": "stdout",
     "output_type": "stream",
     "text": [
      "16 inches\n"
     ]
    },
    {
     "name": "stderr",
     "output_type": "stream",
     "text": [
      "  8%|▊         | 110/1341 [01:13<14:33,  1.41it/s]"
     ]
    },
    {
     "name": "stdout",
     "output_type": "stream",
     "text": [
      "Intel\n"
     ]
    },
    {
     "name": "stderr",
     "output_type": "stream",
     "text": [
      "  8%|▊         | 111/1341 [01:13<13:05,  1.57it/s]"
     ]
    },
    {
     "name": "stdout",
     "output_type": "stream",
     "text": [
      "2.30 GHz\n"
     ]
    },
    {
     "name": "stderr",
     "output_type": "stream",
     "text": [
      "  8%|▊         | 112/1341 [01:14<12:39,  1.62it/s]"
     ]
    },
    {
     "name": "stdout",
     "output_type": "stream",
     "text": [
      "13.5 inches\n"
     ]
    },
    {
     "name": "stderr",
     "output_type": "stream",
     "text": [
      "  8%|▊         | 113/1341 [01:15<13:53,  1.47it/s]"
     ]
    },
    {
     "name": "stdout",
     "output_type": "stream",
     "text": [
      "Intel\n"
     ]
    },
    {
     "name": "stderr",
     "output_type": "stream",
     "text": [
      "  9%|▊         | 114/1341 [01:15<13:02,  1.57it/s]"
     ]
    },
    {
     "name": "stdout",
     "output_type": "stream",
     "text": [
      "1.7GHz\n"
     ]
    },
    {
     "name": "stderr",
     "output_type": "stream",
     "text": [
      "  9%|▊         | 115/1341 [01:16<12:26,  1.64it/s]"
     ]
    },
    {
     "name": "stdout",
     "output_type": "stream",
     "text": [
      "16.1 inches\n"
     ]
    },
    {
     "name": "stderr",
     "output_type": "stream",
     "text": [
      "  9%|▊         | 116/1341 [01:17<13:24,  1.52it/s]"
     ]
    },
    {
     "name": "stdout",
     "output_type": "stream",
     "text": [
      "AMD\n"
     ]
    },
    {
     "name": "stderr",
     "output_type": "stream",
     "text": [
      "  9%|▊         | 117/1341 [01:17<13:46,  1.48it/s]"
     ]
    },
    {
     "name": "stdout",
     "output_type": "stream",
     "text": [
      "3.8GHz\n"
     ]
    },
    {
     "name": "stderr",
     "output_type": "stream",
     "text": [
      "  9%|▉         | 118/1341 [01:18<13:06,  1.55it/s]"
     ]
    },
    {
     "name": "stdout",
     "output_type": "stream",
     "text": [
      "16.1 inches\n"
     ]
    },
    {
     "name": "stderr",
     "output_type": "stream",
     "text": [
      "  9%|▉         | 119/1341 [01:18<12:01,  1.69it/s]"
     ]
    },
    {
     "name": "stdout",
     "output_type": "stream",
     "text": [
      "AMD\n"
     ]
    },
    {
     "name": "stderr",
     "output_type": "stream",
     "text": [
      "  9%|▉         | 120/1341 [01:19<14:11,  1.43it/s]"
     ]
    },
    {
     "name": "stdout",
     "output_type": "stream",
     "text": [
      "3.2GHz\n"
     ]
    },
    {
     "name": "stderr",
     "output_type": "stream",
     "text": [
      "  9%|▉         | 121/1341 [01:20<13:34,  1.50it/s]"
     ]
    },
    {
     "name": "stdout",
     "output_type": "stream",
     "text": [
      "14 inches\n"
     ]
    },
    {
     "name": "stderr",
     "output_type": "stream",
     "text": [
      "  9%|▉         | 122/1341 [01:20<12:36,  1.61it/s]"
     ]
    },
    {
     "name": "stdout",
     "output_type": "stream",
     "text": [
      "Intel\n"
     ]
    },
    {
     "name": "stderr",
     "output_type": "stream",
     "text": [
      "  9%|▉         | 123/1341 [01:21<11:50,  1.71it/s]"
     ]
    },
    {
     "name": "stdout",
     "output_type": "stream",
     "text": [
      "1.7GHz\n"
     ]
    },
    {
     "name": "stderr",
     "output_type": "stream",
     "text": [
      "  9%|▉         | 124/1341 [01:21<11:34,  1.75it/s]"
     ]
    },
    {
     "name": "stdout",
     "output_type": "stream",
     "text": [
      "16.1 inches\n"
     ]
    },
    {
     "name": "stderr",
     "output_type": "stream",
     "text": [
      "  9%|▉         | 125/1341 [01:22<11:20,  1.79it/s]"
     ]
    },
    {
     "name": "stdout",
     "output_type": "stream",
     "text": [
      "AMD\n"
     ]
    },
    {
     "name": "stderr",
     "output_type": "stream",
     "text": [
      "  9%|▉         | 126/1341 [01:23<14:39,  1.38it/s]"
     ]
    },
    {
     "name": "stdout",
     "output_type": "stream",
     "text": [
      "3.8GHz\n"
     ]
    },
    {
     "name": "stderr",
     "output_type": "stream",
     "text": [
      "  9%|▉         | 127/1341 [01:31<1:00:53,  3.01s/it]"
     ]
    },
    {
     "name": "stdout",
     "output_type": "stream",
     "text": [
      "16.1 inches\n"
     ]
    },
    {
     "name": "stderr",
     "output_type": "stream",
     "text": [
      " 10%|▉         | 128/1341 [01:32<45:56,  2.27s/it]  "
     ]
    },
    {
     "name": "stdout",
     "output_type": "stream",
     "text": [
      "Intel\n"
     ]
    },
    {
     "name": "stderr",
     "output_type": "stream",
     "text": [
      " 10%|▉         | 129/1341 [01:33<37:00,  1.83s/it]"
     ]
    },
    {
     "name": "stdout",
     "output_type": "stream",
     "text": [
      "2.6GHz\n"
     ]
    },
    {
     "name": "stderr",
     "output_type": "stream",
     "text": [
      " 10%|▉         | 130/1341 [01:34<31:05,  1.54s/it]"
     ]
    },
    {
     "name": "stdout",
     "output_type": "stream",
     "text": [
      "16.1 inches\n"
     ]
    },
    {
     "name": "stderr",
     "output_type": "stream",
     "text": [
      " 10%|▉         | 131/1341 [01:34<24:46,  1.23s/it]"
     ]
    },
    {
     "name": "stdout",
     "output_type": "stream",
     "text": [
      "Intel\n"
     ]
    },
    {
     "name": "stderr",
     "output_type": "stream",
     "text": [
      " 10%|▉         | 132/1341 [01:35<20:54,  1.04s/it]"
     ]
    },
    {
     "name": "stdout",
     "output_type": "stream",
     "text": [
      "2.6GHz\n"
     ]
    },
    {
     "name": "stderr",
     "output_type": "stream",
     "text": [
      " 10%|▉         | 133/1341 [01:36<22:23,  1.11s/it]"
     ]
    },
    {
     "name": "stdout",
     "output_type": "stream",
     "text": [
      "13.3 inches\n"
     ]
    },
    {
     "name": "stderr",
     "output_type": "stream",
     "text": [
      " 10%|▉         | 134/1341 [01:37<18:49,  1.07it/s]"
     ]
    },
    {
     "name": "stdout",
     "output_type": "stream",
     "text": [
      "Intel\n"
     ]
    },
    {
     "name": "stderr",
     "output_type": "stream",
     "text": [
      " 10%|█         | 135/1341 [01:37<17:11,  1.17it/s]"
     ]
    },
    {
     "name": "stdout",
     "output_type": "stream",
     "text": [
      "1.7GHz\n"
     ]
    },
    {
     "name": "stderr",
     "output_type": "stream",
     "text": [
      " 10%|█         | 136/1341 [01:38<15:35,  1.29it/s]"
     ]
    },
    {
     "name": "stdout",
     "output_type": "stream",
     "text": [
      "13.3 inches\n"
     ]
    },
    {
     "name": "stderr",
     "output_type": "stream",
     "text": [
      " 10%|█         | 137/1341 [01:38<14:53,  1.35it/s]"
     ]
    },
    {
     "name": "stdout",
     "output_type": "stream",
     "text": [
      "Intel\n"
     ]
    },
    {
     "name": "stderr",
     "output_type": "stream",
     "text": [
      " 10%|█         | 138/1341 [01:39<13:56,  1.44it/s]"
     ]
    },
    {
     "name": "stdout",
     "output_type": "stream",
     "text": [
      "1.7GHz\n"
     ]
    },
    {
     "name": "stderr",
     "output_type": "stream",
     "text": [
      " 10%|█         | 139/1341 [01:40<13:08,  1.52it/s]"
     ]
    },
    {
     "name": "stdout",
     "output_type": "stream",
     "text": [
      "13.3 inches\n"
     ]
    },
    {
     "name": "stderr",
     "output_type": "stream",
     "text": [
      " 10%|█         | 140/1341 [01:40<12:06,  1.65it/s]"
     ]
    },
    {
     "name": "stdout",
     "output_type": "stream",
     "text": [
      "Intel\n"
     ]
    },
    {
     "name": "stderr",
     "output_type": "stream",
     "text": [
      " 11%|█         | 141/1341 [01:41<12:02,  1.66it/s]"
     ]
    },
    {
     "name": "stdout",
     "output_type": "stream",
     "text": [
      "1.3GHz\n"
     ]
    },
    {
     "name": "stderr",
     "output_type": "stream",
     "text": [
      " 11%|█         | 142/1341 [01:41<13:25,  1.49it/s]"
     ]
    },
    {
     "name": "stdout",
     "output_type": "stream",
     "text": [
      "15.6 inches\n"
     ]
    },
    {
     "name": "stderr",
     "output_type": "stream",
     "text": [
      " 11%|█         | 143/1341 [01:42<12:28,  1.60it/s]"
     ]
    },
    {
     "name": "stdout",
     "output_type": "stream",
     "text": [
      "Intel\n"
     ]
    },
    {
     "name": "stderr",
     "output_type": "stream",
     "text": [
      " 11%|█         | 144/1341 [01:43<16:50,  1.18it/s]"
     ]
    },
    {
     "name": "stdout",
     "output_type": "stream",
     "text": [
      "1.7GHz\n"
     ]
    },
    {
     "name": "stderr",
     "output_type": "stream",
     "text": [
      " 11%|█         | 145/1341 [01:44<15:36,  1.28it/s]"
     ]
    },
    {
     "name": "stdout",
     "output_type": "stream",
     "text": [
      "14 inches\n"
     ]
    },
    {
     "name": "stderr",
     "output_type": "stream",
     "text": [
      " 11%|█         | 146/1341 [01:45<14:25,  1.38it/s]"
     ]
    },
    {
     "name": "stdout",
     "output_type": "stream",
     "text": [
      "Intel\n"
     ]
    },
    {
     "name": "stderr",
     "output_type": "stream",
     "text": [
      " 11%|█         | 147/1341 [01:45<13:31,  1.47it/s]"
     ]
    },
    {
     "name": "stdout",
     "output_type": "stream",
     "text": [
      "1.7GHz\n"
     ]
    },
    {
     "name": "stderr",
     "output_type": "stream",
     "text": [
      " 11%|█         | 148/1341 [01:46<13:14,  1.50it/s]"
     ]
    },
    {
     "name": "stdout",
     "output_type": "stream",
     "text": [
      "15.6 inches\n"
     ]
    },
    {
     "name": "stderr",
     "output_type": "stream",
     "text": [
      " 11%|█         | 149/1341 [01:46<12:45,  1.56it/s]"
     ]
    },
    {
     "name": "stdout",
     "output_type": "stream",
     "text": [
      "Intel\n"
     ]
    },
    {
     "name": "stderr",
     "output_type": "stream",
     "text": [
      " 11%|█         | 150/1341 [01:47<12:11,  1.63it/s]"
     ]
    },
    {
     "name": "stdout",
     "output_type": "stream",
     "text": [
      "1.7GHz\n"
     ]
    },
    {
     "name": "stderr",
     "output_type": "stream",
     "text": [
      " 11%|█▏        | 151/1341 [01:48<12:22,  1.60it/s]"
     ]
    },
    {
     "name": "stdout",
     "output_type": "stream",
     "text": [
      "15.6 inches\n"
     ]
    },
    {
     "name": "stderr",
     "output_type": "stream",
     "text": [
      " 11%|█▏        | 152/1341 [01:48<11:42,  1.69it/s]"
     ]
    },
    {
     "name": "stdout",
     "output_type": "stream",
     "text": [
      "Intel\n"
     ]
    },
    {
     "name": "stderr",
     "output_type": "stream",
     "text": [
      " 11%|█▏        | 153/1341 [01:50<18:06,  1.09it/s]"
     ]
    },
    {
     "name": "stdout",
     "output_type": "stream",
     "text": [
      "1.7GHz\n"
     ]
    },
    {
     "name": "stderr",
     "output_type": "stream",
     "text": [
      " 11%|█▏        | 154/1341 [01:51<17:02,  1.16it/s]"
     ]
    },
    {
     "name": "stdout",
     "output_type": "stream",
     "text": [
      "14 inches\n"
     ]
    },
    {
     "name": "stderr",
     "output_type": "stream",
     "text": [
      " 12%|█▏        | 155/1341 [01:51<14:43,  1.34it/s]"
     ]
    },
    {
     "name": "stdout",
     "output_type": "stream",
     "text": [
      "Intel\n"
     ]
    },
    {
     "name": "stderr",
     "output_type": "stream",
     "text": [
      " 12%|█▏        | 156/1341 [01:52<13:47,  1.43it/s]"
     ]
    },
    {
     "name": "stdout",
     "output_type": "stream",
     "text": [
      "1.7GHz\n"
     ]
    },
    {
     "name": "stderr",
     "output_type": "stream",
     "text": [
      " 12%|█▏        | 157/1341 [01:52<13:10,  1.50it/s]"
     ]
    },
    {
     "name": "stdout",
     "output_type": "stream",
     "text": [
      "15.6 inches\n"
     ]
    },
    {
     "name": "stderr",
     "output_type": "stream",
     "text": [
      " 12%|█▏        | 158/1341 [01:53<13:31,  1.46it/s]"
     ]
    },
    {
     "name": "stdout",
     "output_type": "stream",
     "text": [
      "Intel\n"
     ]
    },
    {
     "name": "stderr",
     "output_type": "stream",
     "text": [
      " 12%|█▏        | 159/1341 [01:53<13:01,  1.51it/s]"
     ]
    },
    {
     "name": "stdout",
     "output_type": "stream",
     "text": [
      "1.3GHz\n"
     ]
    },
    {
     "name": "stderr",
     "output_type": "stream",
     "text": [
      " 12%|█▏        | 160/1341 [01:54<12:19,  1.60it/s]"
     ]
    },
    {
     "name": "stdout",
     "output_type": "stream",
     "text": [
      "15.6 inches\n"
     ]
    },
    {
     "name": "stderr",
     "output_type": "stream",
     "text": [
      " 12%|█▏        | 161/1341 [01:55<12:12,  1.61it/s]"
     ]
    },
    {
     "name": "stdout",
     "output_type": "stream",
     "text": [
      "Intel\n"
     ]
    },
    {
     "name": "stderr",
     "output_type": "stream",
     "text": [
      " 12%|█▏        | 162/1341 [01:55<11:53,  1.65it/s]"
     ]
    },
    {
     "name": "stdout",
     "output_type": "stream",
     "text": [
      "1.3GHz\n"
     ]
    },
    {
     "name": "stderr",
     "output_type": "stream",
     "text": [
      " 12%|█▏        | 163/1341 [01:56<11:18,  1.74it/s]"
     ]
    },
    {
     "name": "stdout",
     "output_type": "stream",
     "text": [
      "15.6 inches\n"
     ]
    },
    {
     "name": "stderr",
     "output_type": "stream",
     "text": [
      " 12%|█▏        | 164/1341 [01:56<11:48,  1.66it/s]"
     ]
    },
    {
     "name": "stdout",
     "output_type": "stream",
     "text": [
      "Intel\n"
     ]
    },
    {
     "name": "stderr",
     "output_type": "stream",
     "text": [
      " 12%|█▏        | 165/1341 [01:57<11:47,  1.66it/s]"
     ]
    },
    {
     "name": "stdout",
     "output_type": "stream",
     "text": [
      "1.3GHz\n"
     ]
    },
    {
     "name": "stderr",
     "output_type": "stream",
     "text": [
      " 12%|█▏        | 166/1341 [01:58<11:22,  1.72it/s]"
     ]
    },
    {
     "name": "stdout",
     "output_type": "stream",
     "text": [
      "15.6 inches\n"
     ]
    },
    {
     "name": "stderr",
     "output_type": "stream",
     "text": [
      " 12%|█▏        | 167/1341 [01:58<11:16,  1.74it/s]"
     ]
    },
    {
     "name": "stdout",
     "output_type": "stream",
     "text": [
      "Intel\n"
     ]
    },
    {
     "name": "stderr",
     "output_type": "stream",
     "text": [
      " 13%|█▎        | 168/1341 [01:59<12:07,  1.61it/s]"
     ]
    },
    {
     "name": "stdout",
     "output_type": "stream",
     "text": [
      "1.3GHz\n"
     ]
    },
    {
     "name": "stderr",
     "output_type": "stream",
     "text": [
      " 13%|█▎        | 169/1341 [01:59<12:15,  1.59it/s]"
     ]
    },
    {
     "name": "stdout",
     "output_type": "stream",
     "text": [
      "15.6 inches\n"
     ]
    },
    {
     "name": "stderr",
     "output_type": "stream",
     "text": [
      " 13%|█▎        | 170/1341 [02:00<11:38,  1.68it/s]"
     ]
    },
    {
     "name": "stdout",
     "output_type": "stream",
     "text": [
      "Intel\n"
     ]
    },
    {
     "name": "stderr",
     "output_type": "stream",
     "text": [
      " 13%|█▎        | 171/1341 [02:00<10:51,  1.80it/s]"
     ]
    },
    {
     "name": "stdout",
     "output_type": "stream",
     "text": [
      "1.3GHz\n"
     ]
    },
    {
     "name": "stderr",
     "output_type": "stream",
     "text": [
      " 13%|█▎        | 172/1341 [02:01<10:52,  1.79it/s]"
     ]
    },
    {
     "name": "stdout",
     "output_type": "stream",
     "text": [
      "15.6 inches\n"
     ]
    },
    {
     "name": "stderr",
     "output_type": "stream",
     "text": [
      " 13%|█▎        | 173/1341 [02:02<10:45,  1.81it/s]"
     ]
    },
    {
     "name": "stdout",
     "output_type": "stream",
     "text": [
      "Intel\n"
     ]
    },
    {
     "name": "stderr",
     "output_type": "stream",
     "text": [
      " 13%|█▎        | 174/1341 [02:02<11:16,  1.72it/s]"
     ]
    },
    {
     "name": "stdout",
     "output_type": "stream",
     "text": [
      "1.3GHz\n"
     ]
    },
    {
     "name": "stderr",
     "output_type": "stream",
     "text": [
      " 13%|█▎        | 175/1341 [02:03<13:03,  1.49it/s]"
     ]
    },
    {
     "name": "stdout",
     "output_type": "stream",
     "text": [
      "15.6 inches\n"
     ]
    },
    {
     "name": "stderr",
     "output_type": "stream",
     "text": [
      " 13%|█▎        | 176/1341 [02:04<12:28,  1.56it/s]"
     ]
    },
    {
     "name": "stdout",
     "output_type": "stream",
     "text": [
      "Intel\n"
     ]
    },
    {
     "name": "stderr",
     "output_type": "stream",
     "text": [
      " 13%|█▎        | 177/1341 [02:04<12:12,  1.59it/s]"
     ]
    },
    {
     "name": "stdout",
     "output_type": "stream",
     "text": [
      "1.7GHz\n"
     ]
    },
    {
     "name": "stderr",
     "output_type": "stream",
     "text": [
      " 13%|█▎        | 178/1341 [02:05<11:59,  1.62it/s]"
     ]
    },
    {
     "name": "stdout",
     "output_type": "stream",
     "text": [
      "14 inches\n"
     ]
    },
    {
     "name": "stderr",
     "output_type": "stream",
     "text": [
      " 13%|█▎        | 179/1341 [02:05<11:16,  1.72it/s]"
     ]
    },
    {
     "name": "stdout",
     "output_type": "stream",
     "text": [
      "Intel\n"
     ]
    },
    {
     "name": "stderr",
     "output_type": "stream",
     "text": [
      " 13%|█▎        | 180/1341 [02:06<11:09,  1.73it/s]"
     ]
    },
    {
     "name": "stdout",
     "output_type": "stream",
     "text": [
      "1.2GHz\n"
     ]
    },
    {
     "name": "stderr",
     "output_type": "stream",
     "text": [
      " 13%|█▎        | 181/1341 [02:06<10:56,  1.77it/s]"
     ]
    },
    {
     "name": "stdout",
     "output_type": "stream",
     "text": [
      "14 inches\n"
     ]
    },
    {
     "name": "stderr",
     "output_type": "stream",
     "text": [
      " 14%|█▎        | 182/1341 [02:07<10:36,  1.82it/s]"
     ]
    },
    {
     "name": "stdout",
     "output_type": "stream",
     "text": [
      "Intel\n"
     ]
    },
    {
     "name": "stderr",
     "output_type": "stream",
     "text": [
      " 14%|█▎        | 183/1341 [02:08<10:55,  1.77it/s]"
     ]
    },
    {
     "name": "stdout",
     "output_type": "stream",
     "text": [
      "1.2GHz\n"
     ]
    },
    {
     "name": "stderr",
     "output_type": "stream",
     "text": [
      " 14%|█▎        | 184/1341 [02:08<11:18,  1.70it/s]"
     ]
    },
    {
     "name": "stdout",
     "output_type": "stream",
     "text": [
      "15.6 inches\n"
     ]
    },
    {
     "name": "stderr",
     "output_type": "stream",
     "text": [
      " 14%|█▍        | 185/1341 [02:09<13:40,  1.41it/s]"
     ]
    },
    {
     "name": "stdout",
     "output_type": "stream",
     "text": [
      "Intel\n"
     ]
    },
    {
     "name": "stderr",
     "output_type": "stream",
     "text": [
      " 14%|█▍        | 186/1341 [02:10<13:12,  1.46it/s]"
     ]
    },
    {
     "name": "stdout",
     "output_type": "stream",
     "text": [
      "1.2GHz\n"
     ]
    },
    {
     "name": "stderr",
     "output_type": "stream",
     "text": [
      " 14%|█▍        | 187/1341 [02:10<12:52,  1.49it/s]"
     ]
    },
    {
     "name": "stdout",
     "output_type": "stream",
     "text": [
      "15.6 inches\n"
     ]
    },
    {
     "name": "stderr",
     "output_type": "stream",
     "text": [
      " 14%|█▍        | 188/1341 [02:11<11:52,  1.62it/s]"
     ]
    },
    {
     "name": "stdout",
     "output_type": "stream",
     "text": [
      "Intel\n"
     ]
    },
    {
     "name": "stderr",
     "output_type": "stream",
     "text": [
      " 14%|█▍        | 189/1341 [02:12<12:04,  1.59it/s]"
     ]
    },
    {
     "name": "stdout",
     "output_type": "stream",
     "text": [
      "2.8GHz\n"
     ]
    },
    {
     "name": "stderr",
     "output_type": "stream",
     "text": [
      " 14%|█▍        | 190/1341 [02:12<11:45,  1.63it/s]"
     ]
    },
    {
     "name": "stdout",
     "output_type": "stream",
     "text": [
      "15.6 inches\n"
     ]
    },
    {
     "name": "stderr",
     "output_type": "stream",
     "text": [
      " 14%|█▍        | 191/1341 [02:13<11:06,  1.73it/s]"
     ]
    },
    {
     "name": "stdout",
     "output_type": "stream",
     "text": [
      "Intel\n"
     ]
    },
    {
     "name": "stderr",
     "output_type": "stream",
     "text": [
      " 14%|█▍        | 192/1341 [02:13<11:16,  1.70it/s]"
     ]
    },
    {
     "name": "stdout",
     "output_type": "stream",
     "text": [
      "2.5GHz\n"
     ]
    },
    {
     "name": "stderr",
     "output_type": "stream",
     "text": [
      " 14%|█▍        | 193/1341 [02:14<10:48,  1.77it/s]"
     ]
    },
    {
     "name": "stdout",
     "output_type": "stream",
     "text": [
      "14 inches\n"
     ]
    },
    {
     "name": "stderr",
     "output_type": "stream",
     "text": [
      " 14%|█▍        | 194/1341 [02:14<10:16,  1.86it/s]"
     ]
    },
    {
     "name": "stdout",
     "output_type": "stream",
     "text": [
      "Intel\n"
     ]
    },
    {
     "name": "stderr",
     "output_type": "stream",
     "text": [
      " 15%|█▍        | 195/1341 [02:15<09:59,  1.91it/s]"
     ]
    },
    {
     "name": "stdout",
     "output_type": "stream",
     "text": [
      "1.2GHz\n"
     ]
    },
    {
     "name": "stderr",
     "output_type": "stream",
     "text": [
      " 15%|█▍        | 196/1341 [02:15<10:50,  1.76it/s]"
     ]
    },
    {
     "name": "stdout",
     "output_type": "stream",
     "text": [
      "15.6 inches\n"
     ]
    },
    {
     "name": "stderr",
     "output_type": "stream",
     "text": [
      " 15%|█▍        | 197/1341 [02:16<11:32,  1.65it/s]"
     ]
    },
    {
     "name": "stdout",
     "output_type": "stream",
     "text": [
      "Intel\n"
     ]
    },
    {
     "name": "stderr",
     "output_type": "stream",
     "text": [
      " 15%|█▍        | 198/1341 [02:17<13:13,  1.44it/s]"
     ]
    },
    {
     "name": "stdout",
     "output_type": "stream",
     "text": [
      "2.7GHz\n"
     ]
    },
    {
     "name": "stderr",
     "output_type": "stream",
     "text": [
      " 15%|█▍        | 199/1341 [02:18<12:40,  1.50it/s]"
     ]
    },
    {
     "name": "stdout",
     "output_type": "stream",
     "text": [
      "16 inches\n"
     ]
    },
    {
     "name": "stderr",
     "output_type": "stream",
     "text": [
      " 15%|█▍        | 200/1341 [02:18<11:40,  1.63it/s]"
     ]
    },
    {
     "name": "stdout",
     "output_type": "stream",
     "text": [
      "Intel\n"
     ]
    },
    {
     "name": "stderr",
     "output_type": "stream",
     "text": [
      " 15%|█▍        | 201/1341 [02:19<11:06,  1.71it/s]"
     ]
    },
    {
     "name": "stdout",
     "output_type": "stream",
     "text": [
      "1.3GHz\n"
     ]
    },
    {
     "name": "stderr",
     "output_type": "stream",
     "text": [
      " 15%|█▌        | 202/1341 [02:19<10:53,  1.74it/s]"
     ]
    },
    {
     "name": "stdout",
     "output_type": "stream",
     "text": [
      "15.6 inches\n"
     ]
    },
    {
     "name": "stderr",
     "output_type": "stream",
     "text": [
      " 15%|█▌        | 203/1341 [02:20<10:28,  1.81it/s]"
     ]
    },
    {
     "name": "stdout",
     "output_type": "stream",
     "text": [
      "Intel\n"
     ]
    },
    {
     "name": "stderr",
     "output_type": "stream",
     "text": [
      " 15%|█▌        | 204/1341 [02:20<10:54,  1.74it/s]"
     ]
    },
    {
     "name": "stdout",
     "output_type": "stream",
     "text": [
      "1.2GHz\n"
     ]
    },
    {
     "name": "stderr",
     "output_type": "stream",
     "text": [
      " 15%|█▌        | 205/1341 [02:21<10:57,  1.73it/s]"
     ]
    },
    {
     "name": "stdout",
     "output_type": "stream",
     "text": [
      "15.6 inches\n"
     ]
    },
    {
     "name": "stderr",
     "output_type": "stream",
     "text": [
      " 15%|█▌        | 206/1341 [02:22<13:09,  1.44it/s]"
     ]
    },
    {
     "name": "stdout",
     "output_type": "stream",
     "text": [
      "Intel\n"
     ]
    },
    {
     "name": "stderr",
     "output_type": "stream",
     "text": [
      " 15%|█▌        | 207/1341 [02:23<14:05,  1.34it/s]"
     ]
    },
    {
     "name": "stdout",
     "output_type": "stream",
     "text": [
      "2.5GHz\n"
     ]
    },
    {
     "name": "stderr",
     "output_type": "stream",
     "text": [
      " 16%|█▌        | 208/1341 [02:23<13:05,  1.44it/s]"
     ]
    },
    {
     "name": "stdout",
     "output_type": "stream",
     "text": [
      "15.6 inches\n"
     ]
    },
    {
     "name": "stderr",
     "output_type": "stream",
     "text": [
      " 16%|█▌        | 209/1341 [02:24<12:36,  1.50it/s]"
     ]
    },
    {
     "name": "stdout",
     "output_type": "stream",
     "text": [
      "Intel\n"
     ]
    },
    {
     "name": "stderr",
     "output_type": "stream",
     "text": [
      " 16%|█▌        | 210/1341 [02:25<13:10,  1.43it/s]"
     ]
    },
    {
     "name": "stdout",
     "output_type": "stream",
     "text": [
      "2.6GHz\n"
     ]
    },
    {
     "name": "stderr",
     "output_type": "stream",
     "text": [
      " 16%|█▌        | 211/1341 [02:25<12:38,  1.49it/s]"
     ]
    },
    {
     "name": "stdout",
     "output_type": "stream",
     "text": [
      "17.3 inches\n"
     ]
    },
    {
     "name": "stderr",
     "output_type": "stream",
     "text": [
      " 16%|█▌        | 212/1341 [02:26<12:04,  1.56it/s]"
     ]
    },
    {
     "name": "stdout",
     "output_type": "stream",
     "text": [
      "Intel\n"
     ]
    },
    {
     "name": "stderr",
     "output_type": "stream",
     "text": [
      " 16%|█▌        | 213/1341 [02:26<11:34,  1.62it/s]"
     ]
    },
    {
     "name": "stdout",
     "output_type": "stream",
     "text": [
      "2.7GHz\n"
     ]
    },
    {
     "name": "stderr",
     "output_type": "stream",
     "text": [
      " 16%|█▌        | 214/1341 [02:27<11:33,  1.62it/s]"
     ]
    },
    {
     "name": "stdout",
     "output_type": "stream",
     "text": [
      "14 inches\n"
     ]
    },
    {
     "name": "stderr",
     "output_type": "stream",
     "text": [
      " 16%|█▌        | 215/1341 [02:28<12:21,  1.52it/s]"
     ]
    },
    {
     "name": "stdout",
     "output_type": "stream",
     "text": [
      "Intel\n"
     ]
    },
    {
     "name": "stderr",
     "output_type": "stream",
     "text": [
      " 16%|█▌        | 216/1341 [02:29<12:40,  1.48it/s]"
     ]
    },
    {
     "name": "stdout",
     "output_type": "stream",
     "text": [
      "1.3GHz\n"
     ]
    },
    {
     "name": "stderr",
     "output_type": "stream",
     "text": [
      " 16%|█▌        | 217/1341 [02:29<12:19,  1.52it/s]"
     ]
    },
    {
     "name": "stdout",
     "output_type": "stream",
     "text": [
      "15.6 inches\n"
     ]
    },
    {
     "name": "stderr",
     "output_type": "stream",
     "text": [
      " 16%|█▋        | 218/1341 [02:30<11:56,  1.57it/s]"
     ]
    },
    {
     "name": "stdout",
     "output_type": "stream",
     "text": [
      "AMD\n"
     ]
    },
    {
     "name": "stderr",
     "output_type": "stream",
     "text": [
      " 16%|█▋        | 219/1341 [02:31<14:43,  1.27it/s]"
     ]
    },
    {
     "name": "stdout",
     "output_type": "stream",
     "text": [
      "3.3GHz\n"
     ]
    },
    {
     "name": "stderr",
     "output_type": "stream",
     "text": [
      " 16%|█▋        | 220/1341 [02:31<13:27,  1.39it/s]"
     ]
    },
    {
     "name": "stdout",
     "output_type": "stream",
     "text": [
      "15.6 inches\n"
     ]
    },
    {
     "name": "stderr",
     "output_type": "stream",
     "text": [
      " 16%|█▋        | 221/1341 [02:32<12:54,  1.45it/s]"
     ]
    },
    {
     "name": "stdout",
     "output_type": "stream",
     "text": [
      "Intel\n"
     ]
    },
    {
     "name": "stderr",
     "output_type": "stream",
     "text": [
      " 17%|█▋        | 222/1341 [02:33<12:41,  1.47it/s]"
     ]
    },
    {
     "name": "stdout",
     "output_type": "stream",
     "text": [
      "1.3GHz\n"
     ]
    },
    {
     "name": "stderr",
     "output_type": "stream",
     "text": [
      " 17%|█▋        | 223/1341 [02:33<13:09,  1.42it/s]"
     ]
    },
    {
     "name": "stdout",
     "output_type": "stream",
     "text": [
      "14 inches\n"
     ]
    },
    {
     "name": "stderr",
     "output_type": "stream",
     "text": [
      " 17%|█▋        | 224/1341 [02:34<11:27,  1.63it/s]"
     ]
    },
    {
     "name": "stdout",
     "output_type": "stream",
     "text": [
      "Intel\n"
     ]
    },
    {
     "name": "stderr",
     "output_type": "stream",
     "text": [
      " 17%|█▋        | 225/1341 [02:35<11:51,  1.57it/s]"
     ]
    },
    {
     "name": "stdout",
     "output_type": "stream",
     "text": [
      "2.6GHz\n"
     ]
    },
    {
     "name": "stderr",
     "output_type": "stream",
     "text": [
      " 17%|█▋        | 226/1341 [02:35<11:49,  1.57it/s]"
     ]
    },
    {
     "name": "stdout",
     "output_type": "stream",
     "text": [
      "14 inches\n"
     ]
    },
    {
     "name": "stderr",
     "output_type": "stream",
     "text": [
      " 17%|█▋        | 227/1341 [02:36<11:12,  1.66it/s]"
     ]
    },
    {
     "name": "stdout",
     "output_type": "stream",
     "text": [
      "Intel\n"
     ]
    },
    {
     "name": "stderr",
     "output_type": "stream",
     "text": [
      " 17%|█▋        | 228/1341 [02:36<11:13,  1.65it/s]"
     ]
    },
    {
     "name": "stdout",
     "output_type": "stream",
     "text": [
      "3GHz\n"
     ]
    },
    {
     "name": "stderr",
     "output_type": "stream",
     "text": [
      " 17%|█▋        | 229/1341 [02:37<11:11,  1.66it/s]"
     ]
    },
    {
     "name": "stdout",
     "output_type": "stream",
     "text": [
      "15.6 inches\n"
     ]
    },
    {
     "name": "stderr",
     "output_type": "stream",
     "text": [
      " 17%|█▋        | 230/1341 [02:37<10:17,  1.80it/s]"
     ]
    },
    {
     "name": "stdout",
     "output_type": "stream",
     "text": [
      "Intel\n"
     ]
    },
    {
     "name": "stderr",
     "output_type": "stream",
     "text": [
      " 17%|█▋        | 231/1341 [02:38<10:41,  1.73it/s]"
     ]
    },
    {
     "name": "stdout",
     "output_type": "stream",
     "text": [
      "2.4GHz\n"
     ]
    },
    {
     "name": "stderr",
     "output_type": "stream",
     "text": [
      " 17%|█▋        | 232/1341 [02:39<11:05,  1.67it/s]"
     ]
    },
    {
     "name": "stdout",
     "output_type": "stream",
     "text": [
      "15.6 inches\n"
     ]
    },
    {
     "name": "stderr",
     "output_type": "stream",
     "text": [
      " 17%|█▋        | 233/1341 [02:39<10:36,  1.74it/s]"
     ]
    },
    {
     "name": "stdout",
     "output_type": "stream",
     "text": [
      "Intel\n"
     ]
    },
    {
     "name": "stderr",
     "output_type": "stream",
     "text": [
      " 17%|█▋        | 234/1341 [02:40<10:31,  1.75it/s]"
     ]
    },
    {
     "name": "stdout",
     "output_type": "stream",
     "text": [
      "2.7GHz\n"
     ]
    },
    {
     "name": "stderr",
     "output_type": "stream",
     "text": [
      " 18%|█▊        | 235/1341 [02:40<10:31,  1.75it/s]"
     ]
    },
    {
     "name": "stdout",
     "output_type": "stream",
     "text": [
      "15.6 inches\n"
     ]
    },
    {
     "name": "stderr",
     "output_type": "stream",
     "text": [
      " 18%|█▊        | 236/1341 [02:41<10:10,  1.81it/s]"
     ]
    },
    {
     "name": "stdout",
     "output_type": "stream",
     "text": [
      "AMD\n"
     ]
    },
    {
     "name": "stderr",
     "output_type": "stream",
     "text": [
      " 18%|█▊        | 237/1341 [02:41<10:31,  1.75it/s]"
     ]
    },
    {
     "name": "stdout",
     "output_type": "stream",
     "text": [
      "3.3GHz\n"
     ]
    },
    {
     "name": "stderr",
     "output_type": "stream",
     "text": [
      " 18%|█▊        | 238/1341 [02:42<10:46,  1.71it/s]"
     ]
    },
    {
     "name": "stdout",
     "output_type": "stream",
     "text": [
      "15.6 inches\n"
     ]
    },
    {
     "name": "stderr",
     "output_type": "stream",
     "text": [
      " 18%|█▊        | 239/1341 [02:43<11:00,  1.67it/s]"
     ]
    },
    {
     "name": "stdout",
     "output_type": "stream",
     "text": [
      "Intel\n"
     ]
    },
    {
     "name": "stderr",
     "output_type": "stream",
     "text": [
      " 18%|█▊        | 240/1341 [02:43<10:47,  1.70it/s]"
     ]
    },
    {
     "name": "stdout",
     "output_type": "stream",
     "text": [
      "2.5GHz\n"
     ]
    },
    {
     "name": "stderr",
     "output_type": "stream",
     "text": [
      " 18%|█▊        | 241/1341 [02:44<10:25,  1.76it/s]"
     ]
    },
    {
     "name": "stdout",
     "output_type": "stream",
     "text": [
      "15.6 inches\n"
     ]
    },
    {
     "name": "stderr",
     "output_type": "stream",
     "text": [
      " 18%|█▊        | 242/1341 [02:44<10:25,  1.76it/s]"
     ]
    },
    {
     "name": "stdout",
     "output_type": "stream",
     "text": [
      "Intel\n"
     ]
    },
    {
     "name": "stderr",
     "output_type": "stream",
     "text": [
      " 18%|█▊        | 243/1341 [02:45<09:32,  1.92it/s]"
     ]
    },
    {
     "name": "stdout",
     "output_type": "stream",
     "text": [
      "3GHz\n"
     ]
    },
    {
     "name": "stderr",
     "output_type": "stream",
     "text": [
      " 18%|█▊        | 244/1341 [02:46<14:14,  1.28it/s]"
     ]
    },
    {
     "name": "stdout",
     "output_type": "stream",
     "text": [
      "14 inches\n"
     ]
    },
    {
     "name": "stderr",
     "output_type": "stream",
     "text": [
      " 18%|█▊        | 245/1341 [02:47<13:05,  1.40it/s]"
     ]
    },
    {
     "name": "stdout",
     "output_type": "stream",
     "text": [
      "Intel\n"
     ]
    },
    {
     "name": "stderr",
     "output_type": "stream",
     "text": [
      " 18%|█▊        | 246/1341 [02:47<12:24,  1.47it/s]"
     ]
    },
    {
     "name": "stdout",
     "output_type": "stream",
     "text": [
      "2.6GHz\n"
     ]
    },
    {
     "name": "stderr",
     "output_type": "stream",
     "text": [
      " 18%|█▊        | 247/1341 [02:48<13:21,  1.37it/s]"
     ]
    },
    {
     "name": "stdout",
     "output_type": "stream",
     "text": [
      "15.6 inches\n"
     ]
    },
    {
     "name": "stderr",
     "output_type": "stream",
     "text": [
      " 18%|█▊        | 248/1341 [02:49<12:19,  1.48it/s]"
     ]
    },
    {
     "name": "stdout",
     "output_type": "stream",
     "text": [
      "Intel\n"
     ]
    },
    {
     "name": "stderr",
     "output_type": "stream",
     "text": [
      " 19%|█▊        | 249/1341 [02:49<11:54,  1.53it/s]"
     ]
    },
    {
     "name": "stdout",
     "output_type": "stream",
     "text": [
      "2.6GHz\n"
     ]
    },
    {
     "name": "stderr",
     "output_type": "stream",
     "text": [
      " 19%|█▊        | 250/1341 [02:51<15:31,  1.17it/s]"
     ]
    },
    {
     "name": "stdout",
     "output_type": "stream",
     "text": [
      "15.6 inches\n"
     ]
    },
    {
     "name": "stderr",
     "output_type": "stream",
     "text": [
      " 19%|█▊        | 251/1341 [02:51<13:26,  1.35it/s]"
     ]
    },
    {
     "name": "stdout",
     "output_type": "stream",
     "text": [
      "Intel\n"
     ]
    },
    {
     "name": "stderr",
     "output_type": "stream",
     "text": [
      " 19%|█▉        | 252/1341 [02:52<13:00,  1.40it/s]"
     ]
    },
    {
     "name": "stdout",
     "output_type": "stream",
     "text": [
      "2.4GHz\n"
     ]
    },
    {
     "name": "stderr",
     "output_type": "stream",
     "text": [
      " 19%|█▉        | 253/1341 [02:52<12:23,  1.46it/s]"
     ]
    },
    {
     "name": "stdout",
     "output_type": "stream",
     "text": [
      "15.6 inches\n"
     ]
    },
    {
     "name": "stderr",
     "output_type": "stream",
     "text": [
      " 19%|█▉        | 254/1341 [02:54<15:49,  1.14it/s]"
     ]
    },
    {
     "name": "stdout",
     "output_type": "stream",
     "text": [
      "AMD\n"
     ]
    },
    {
     "name": "stderr",
     "output_type": "stream",
     "text": [
      " 19%|█▉        | 255/1341 [02:54<15:04,  1.20it/s]"
     ]
    },
    {
     "name": "stdout",
     "output_type": "stream",
     "text": [
      "3.2GHz\n"
     ]
    },
    {
     "name": "stderr",
     "output_type": "stream",
     "text": [
      " 19%|█▉        | 256/1341 [02:55<13:19,  1.36it/s]"
     ]
    },
    {
     "name": "stdout",
     "output_type": "stream",
     "text": [
      "14 inches\n"
     ]
    },
    {
     "name": "stderr",
     "output_type": "stream",
     "text": [
      " 19%|█▉        | 257/1341 [02:56<12:31,  1.44it/s]"
     ]
    },
    {
     "name": "stdout",
     "output_type": "stream",
     "text": [
      "Intel\n"
     ]
    },
    {
     "name": "stderr",
     "output_type": "stream",
     "text": [
      " 19%|█▉        | 258/1341 [02:56<12:05,  1.49it/s]"
     ]
    },
    {
     "name": "stdout",
     "output_type": "stream",
     "text": [
      "1.9GHz\n"
     ]
    },
    {
     "name": "stderr",
     "output_type": "stream",
     "text": [
      " 19%|█▉        | 259/1341 [02:57<11:31,  1.56it/s]"
     ]
    },
    {
     "name": "stdout",
     "output_type": "stream",
     "text": [
      "15.6 inches\n"
     ]
    },
    {
     "name": "stderr",
     "output_type": "stream",
     "text": [
      " 19%|█▉        | 260/1341 [02:57<11:15,  1.60it/s]"
     ]
    },
    {
     "name": "stdout",
     "output_type": "stream",
     "text": [
      "Intel\n"
     ]
    },
    {
     "name": "stderr",
     "output_type": "stream",
     "text": [
      " 19%|█▉        | 261/1341 [02:58<11:43,  1.53it/s]"
     ]
    },
    {
     "name": "stdout",
     "output_type": "stream",
     "text": [
      "2.6GHz\n"
     ]
    },
    {
     "name": "stderr",
     "output_type": "stream",
     "text": [
      " 20%|█▉        | 262/1341 [02:58<10:34,  1.70it/s]"
     ]
    },
    {
     "name": "stdout",
     "output_type": "stream",
     "text": [
      "14 inches\n"
     ]
    },
    {
     "name": "stderr",
     "output_type": "stream",
     "text": [
      " 20%|█▉        | 263/1341 [02:59<10:09,  1.77it/s]"
     ]
    },
    {
     "name": "stdout",
     "output_type": "stream",
     "text": [
      "Intel\n"
     ]
    },
    {
     "name": "stderr",
     "output_type": "stream",
     "text": [
      " 20%|█▉        | 264/1341 [03:00<10:04,  1.78it/s]"
     ]
    },
    {
     "name": "stdout",
     "output_type": "stream",
     "text": [
      "1.4GHz\n"
     ]
    },
    {
     "name": "stderr",
     "output_type": "stream",
     "text": [
      " 20%|█▉        | 265/1341 [03:00<10:28,  1.71it/s]"
     ]
    },
    {
     "name": "stdout",
     "output_type": "stream",
     "text": [
      "15.6 inches\n"
     ]
    },
    {
     "name": "stderr",
     "output_type": "stream",
     "text": [
      " 20%|█▉        | 266/1341 [03:01<09:57,  1.80it/s]"
     ]
    },
    {
     "name": "stdout",
     "output_type": "stream",
     "text": [
      "Intel\n"
     ]
    },
    {
     "name": "stderr",
     "output_type": "stream",
     "text": [
      " 20%|█▉        | 267/1341 [03:01<10:52,  1.65it/s]"
     ]
    },
    {
     "name": "stdout",
     "output_type": "stream",
     "text": [
      "1.7GHz\n"
     ]
    },
    {
     "name": "stderr",
     "output_type": "stream",
     "text": [
      " 20%|█▉        | 268/1341 [03:02<12:39,  1.41it/s]"
     ]
    },
    {
     "name": "stdout",
     "output_type": "stream",
     "text": [
      "14 inches\n"
     ]
    },
    {
     "name": "stderr",
     "output_type": "stream",
     "text": [
      " 20%|██        | 269/1341 [03:03<11:59,  1.49it/s]"
     ]
    },
    {
     "name": "stdout",
     "output_type": "stream",
     "text": [
      "Intel\n"
     ]
    },
    {
     "name": "stderr",
     "output_type": "stream",
     "text": [
      " 20%|██        | 270/1341 [03:03<11:16,  1.58it/s]"
     ]
    },
    {
     "name": "stdout",
     "output_type": "stream",
     "text": [
      "1.9GHz\n"
     ]
    },
    {
     "name": "stderr",
     "output_type": "stream",
     "text": [
      " 20%|██        | 271/1341 [03:04<11:35,  1.54it/s]"
     ]
    },
    {
     "name": "stdout",
     "output_type": "stream",
     "text": [
      "14 inches\n"
     ]
    },
    {
     "name": "stderr",
     "output_type": "stream",
     "text": [
      " 20%|██        | 272/1341 [03:05<11:03,  1.61it/s]"
     ]
    },
    {
     "name": "stdout",
     "output_type": "stream",
     "text": [
      "Intel\n"
     ]
    },
    {
     "name": "stderr",
     "output_type": "stream",
     "text": [
      " 20%|██        | 273/1341 [03:05<11:09,  1.60it/s]"
     ]
    },
    {
     "name": "stdout",
     "output_type": "stream",
     "text": [
      "1.2GHz\n"
     ]
    },
    {
     "name": "stderr",
     "output_type": "stream",
     "text": [
      " 20%|██        | 274/1341 [03:06<10:51,  1.64it/s]"
     ]
    },
    {
     "name": "stdout",
     "output_type": "stream",
     "text": [
      "15.6 inches\n"
     ]
    },
    {
     "name": "stderr",
     "output_type": "stream",
     "text": [
      " 21%|██        | 275/1341 [03:07<10:58,  1.62it/s]"
     ]
    },
    {
     "name": "stdout",
     "output_type": "stream",
     "text": [
      "AMD\n"
     ]
    },
    {
     "name": "stderr",
     "output_type": "stream",
     "text": [
      " 21%|██        | 276/1341 [03:07<10:36,  1.67it/s]"
     ]
    },
    {
     "name": "stdout",
     "output_type": "stream",
     "text": [
      "3.3GHz\n"
     ]
    },
    {
     "name": "stderr",
     "output_type": "stream",
     "text": [
      " 21%|██        | 277/1341 [03:08<10:09,  1.75it/s]"
     ]
    },
    {
     "name": "stdout",
     "output_type": "stream",
     "text": [
      "14 inches\n"
     ]
    },
    {
     "name": "stderr",
     "output_type": "stream",
     "text": [
      " 21%|██        | 278/1341 [03:08<10:34,  1.68it/s]"
     ]
    },
    {
     "name": "stdout",
     "output_type": "stream",
     "text": [
      "Intel\n"
     ]
    },
    {
     "name": "stderr",
     "output_type": "stream",
     "text": [
      " 21%|██        | 279/1341 [03:09<12:02,  1.47it/s]"
     ]
    },
    {
     "name": "stdout",
     "output_type": "stream",
     "text": [
      "2.6GHz\n"
     ]
    },
    {
     "name": "stderr",
     "output_type": "stream",
     "text": [
      " 21%|██        | 280/1341 [03:10<12:43,  1.39it/s]"
     ]
    },
    {
     "name": "stdout",
     "output_type": "stream",
     "text": [
      "16 inches\n"
     ]
    },
    {
     "name": "stderr",
     "output_type": "stream",
     "text": [
      " 21%|██        | 281/1341 [03:10<11:44,  1.50it/s]"
     ]
    },
    {
     "name": "stdout",
     "output_type": "stream",
     "text": [
      "Intel\n"
     ]
    },
    {
     "name": "stderr",
     "output_type": "stream",
     "text": [
      " 21%|██        | 282/1341 [03:11<12:04,  1.46it/s]"
     ]
    },
    {
     "name": "stdout",
     "output_type": "stream",
     "text": [
      "2.30 GHz\n"
     ]
    },
    {
     "name": "stderr",
     "output_type": "stream",
     "text": [
      " 21%|██        | 283/1341 [03:12<11:53,  1.48it/s]"
     ]
    },
    {
     "name": "stdout",
     "output_type": "stream",
     "text": [
      "15.6 inches\n"
     ]
    },
    {
     "name": "stderr",
     "output_type": "stream",
     "text": [
      " 21%|██        | 284/1341 [03:12<11:17,  1.56it/s]"
     ]
    },
    {
     "name": "stdout",
     "output_type": "stream",
     "text": [
      "Intel\n"
     ]
    },
    {
     "name": "stderr",
     "output_type": "stream",
     "text": [
      " 21%|██▏       | 285/1341 [03:13<11:42,  1.50it/s]"
     ]
    },
    {
     "name": "stdout",
     "output_type": "stream",
     "text": [
      "2.8GHz\n"
     ]
    },
    {
     "name": "stderr",
     "output_type": "stream",
     "text": [
      " 21%|██▏       | 286/1341 [03:14<10:47,  1.63it/s]"
     ]
    },
    {
     "name": "stdout",
     "output_type": "stream",
     "text": [
      "16 inches\n"
     ]
    },
    {
     "name": "stderr",
     "output_type": "stream",
     "text": [
      " 21%|██▏       | 287/1341 [03:14<10:54,  1.61it/s]"
     ]
    },
    {
     "name": "stdout",
     "output_type": "stream",
     "text": [
      "I do not know.\n"
     ]
    },
    {
     "name": "stderr",
     "output_type": "stream",
     "text": [
      " 21%|██▏       | 288/1341 [03:15<10:37,  1.65it/s]"
     ]
    },
    {
     "name": "stdout",
     "output_type": "stream",
     "text": [
      "2.30 GHz\n"
     ]
    },
    {
     "name": "stderr",
     "output_type": "stream",
     "text": [
      " 22%|██▏       | 289/1341 [03:16<10:57,  1.60it/s]"
     ]
    },
    {
     "name": "stdout",
     "output_type": "stream",
     "text": [
      "15.6 inches\n"
     ]
    },
    {
     "name": "stderr",
     "output_type": "stream",
     "text": [
      " 22%|██▏       | 290/1341 [03:16<10:47,  1.62it/s]"
     ]
    },
    {
     "name": "stdout",
     "output_type": "stream",
     "text": [
      "AMD\n"
     ]
    },
    {
     "name": "stderr",
     "output_type": "stream",
     "text": [
      " 22%|██▏       | 291/1341 [03:17<11:05,  1.58it/s]"
     ]
    },
    {
     "name": "stdout",
     "output_type": "stream",
     "text": [
      "2.9GHz\n"
     ]
    },
    {
     "name": "stderr",
     "output_type": "stream",
     "text": [
      " 22%|██▏       | 292/1341 [03:18<11:46,  1.48it/s]"
     ]
    },
    {
     "name": "stdout",
     "output_type": "stream",
     "text": [
      "14 inches\n"
     ]
    },
    {
     "name": "stderr",
     "output_type": "stream",
     "text": [
      " 22%|██▏       | 293/1341 [03:18<11:19,  1.54it/s]"
     ]
    },
    {
     "name": "stdout",
     "output_type": "stream",
     "text": [
      "Intel\n"
     ]
    },
    {
     "name": "stderr",
     "output_type": "stream",
     "text": [
      " 22%|██▏       | 294/1341 [03:19<10:40,  1.64it/s]"
     ]
    },
    {
     "name": "stdout",
     "output_type": "stream",
     "text": [
      "1.3GHz\n"
     ]
    },
    {
     "name": "stderr",
     "output_type": "stream",
     "text": [
      " 22%|██▏       | 295/1341 [03:19<10:23,  1.68it/s]"
     ]
    },
    {
     "name": "stdout",
     "output_type": "stream",
     "text": [
      "15.6 inches\n"
     ]
    },
    {
     "name": "stderr",
     "output_type": "stream",
     "text": [
      " 22%|██▏       | 296/1341 [03:20<10:31,  1.66it/s]"
     ]
    },
    {
     "name": "stdout",
     "output_type": "stream",
     "text": [
      "Intel\n"
     ]
    },
    {
     "name": "stderr",
     "output_type": "stream",
     "text": [
      " 22%|██▏       | 297/1341 [03:21<12:40,  1.37it/s]"
     ]
    },
    {
     "name": "stdout",
     "output_type": "stream",
     "text": [
      "2.6GHz\n"
     ]
    },
    {
     "name": "stderr",
     "output_type": "stream",
     "text": [
      " 22%|██▏       | 298/1341 [03:21<11:37,  1.49it/s]"
     ]
    },
    {
     "name": "stdout",
     "output_type": "stream",
     "text": [
      "15.6 inches\n"
     ]
    },
    {
     "name": "stderr",
     "output_type": "stream",
     "text": [
      " 22%|██▏       | 299/1341 [03:22<11:14,  1.55it/s]"
     ]
    },
    {
     "name": "stdout",
     "output_type": "stream",
     "text": [
      "Intel\n"
     ]
    },
    {
     "name": "stderr",
     "output_type": "stream",
     "text": [
      " 22%|██▏       | 300/1341 [03:23<10:40,  1.63it/s]"
     ]
    },
    {
     "name": "stdout",
     "output_type": "stream",
     "text": [
      "2GHz\n"
     ]
    },
    {
     "name": "stderr",
     "output_type": "stream",
     "text": [
      " 22%|██▏       | 301/1341 [03:23<11:28,  1.51it/s]"
     ]
    },
    {
     "name": "stdout",
     "output_type": "stream",
     "text": [
      "14 inches\n"
     ]
    },
    {
     "name": "stderr",
     "output_type": "stream",
     "text": [
      " 23%|██▎       | 302/1341 [03:24<10:56,  1.58it/s]"
     ]
    },
    {
     "name": "stdout",
     "output_type": "stream",
     "text": [
      "Intel\n"
     ]
    },
    {
     "name": "stderr",
     "output_type": "stream",
     "text": [
      " 23%|██▎       | 303/1341 [03:24<10:40,  1.62it/s]"
     ]
    },
    {
     "name": "stdout",
     "output_type": "stream",
     "text": [
      "2.2GHz\n"
     ]
    },
    {
     "name": "stderr",
     "output_type": "stream",
     "text": [
      " 23%|██▎       | 304/1341 [03:25<09:48,  1.76it/s]"
     ]
    },
    {
     "name": "stdout",
     "output_type": "stream",
     "text": [
      "15.6 inches\n"
     ]
    },
    {
     "name": "stderr",
     "output_type": "stream",
     "text": [
      " 23%|██▎       | 305/1341 [03:26<11:07,  1.55it/s]"
     ]
    },
    {
     "name": "stdout",
     "output_type": "stream",
     "text": [
      "Intel\n"
     ]
    },
    {
     "name": "stderr",
     "output_type": "stream",
     "text": [
      " 23%|██▎       | 306/1341 [03:26<10:30,  1.64it/s]"
     ]
    },
    {
     "name": "stdout",
     "output_type": "stream",
     "text": [
      "2.4GHz\n"
     ]
    },
    {
     "name": "stderr",
     "output_type": "stream",
     "text": [
      " 23%|██▎       | 307/1341 [03:27<10:24,  1.66it/s]"
     ]
    },
    {
     "name": "stdout",
     "output_type": "stream",
     "text": [
      "18 inches\n"
     ]
    },
    {
     "name": "stderr",
     "output_type": "stream",
     "text": [
      " 23%|██▎       | 308/1341 [03:27<09:58,  1.73it/s]"
     ]
    },
    {
     "name": "stdout",
     "output_type": "stream",
     "text": [
      "Intel\n"
     ]
    },
    {
     "name": "stderr",
     "output_type": "stream",
     "text": [
      " 23%|██▎       | 309/1341 [03:29<12:57,  1.33it/s]"
     ]
    },
    {
     "name": "stdout",
     "output_type": "stream",
     "text": [
      "2.2GHz\n"
     ]
    },
    {
     "name": "stderr",
     "output_type": "stream",
     "text": [
      " 23%|██▎       | 310/1341 [03:29<12:00,  1.43it/s]"
     ]
    },
    {
     "name": "stdout",
     "output_type": "stream",
     "text": [
      "17.3 inches\n"
     ]
    },
    {
     "name": "stderr",
     "output_type": "stream",
     "text": [
      " 23%|██▎       | 311/1341 [03:30<11:53,  1.44it/s]"
     ]
    },
    {
     "name": "stdout",
     "output_type": "stream",
     "text": [
      "Intel\n"
     ]
    },
    {
     "name": "stderr",
     "output_type": "stream",
     "text": [
      " 23%|██▎       | 312/1341 [03:30<11:03,  1.55it/s]"
     ]
    },
    {
     "name": "stdout",
     "output_type": "stream",
     "text": [
      "2.5GHz\n"
     ]
    },
    {
     "name": "stderr",
     "output_type": "stream",
     "text": [
      " 23%|██▎       | 313/1341 [03:31<10:22,  1.65it/s]"
     ]
    },
    {
     "name": "stdout",
     "output_type": "stream",
     "text": [
      "18 inches\n"
     ]
    },
    {
     "name": "stderr",
     "output_type": "stream",
     "text": [
      " 23%|██▎       | 314/1341 [03:31<09:44,  1.76it/s]"
     ]
    },
    {
     "name": "stdout",
     "output_type": "stream",
     "text": [
      "Intel\n"
     ]
    },
    {
     "name": "stderr",
     "output_type": "stream",
     "text": [
      " 23%|██▎       | 315/1341 [03:32<12:58,  1.32it/s]"
     ]
    },
    {
     "name": "stdout",
     "output_type": "stream",
     "text": [
      "2.2GHz\n"
     ]
    },
    {
     "name": "stderr",
     "output_type": "stream",
     "text": [
      " 24%|██▎       | 316/1341 [03:33<12:00,  1.42it/s]"
     ]
    },
    {
     "name": "stdout",
     "output_type": "stream",
     "text": [
      "16 inches\n"
     ]
    },
    {
     "name": "stderr",
     "output_type": "stream",
     "text": [
      " 24%|██▎       | 317/1341 [03:34<12:04,  1.41it/s]"
     ]
    },
    {
     "name": "stdout",
     "output_type": "stream",
     "text": [
      "Intel Core i9 14900HX\n"
     ]
    },
    {
     "name": "stderr",
     "output_type": "stream",
     "text": [
      " 24%|██▎       | 318/1341 [03:34<11:19,  1.51it/s]"
     ]
    },
    {
     "name": "stdout",
     "output_type": "stream",
     "text": [
      "2.2GHz\n"
     ]
    },
    {
     "name": "stderr",
     "output_type": "stream",
     "text": [
      " 24%|██▍       | 319/1341 [03:35<10:49,  1.57it/s]"
     ]
    },
    {
     "name": "stdout",
     "output_type": "stream",
     "text": [
      "16 inches\n"
     ]
    },
    {
     "name": "stderr",
     "output_type": "stream",
     "text": [
      " 24%|██▍       | 320/1341 [03:35<10:02,  1.69it/s]"
     ]
    },
    {
     "name": "stdout",
     "output_type": "stream",
     "text": [
      "Intel\n"
     ]
    },
    {
     "name": "stderr",
     "output_type": "stream",
     "text": [
      " 24%|██▍       | 321/1341 [03:36<10:05,  1.68it/s]"
     ]
    },
    {
     "name": "stdout",
     "output_type": "stream",
     "text": [
      "2.5GHz\n"
     ]
    },
    {
     "name": "stderr",
     "output_type": "stream",
     "text": [
      " 24%|██▍       | 322/1341 [03:37<10:08,  1.67it/s]"
     ]
    },
    {
     "name": "stdout",
     "output_type": "stream",
     "text": [
      "16 inches\n"
     ]
    },
    {
     "name": "stderr",
     "output_type": "stream",
     "text": [
      " 24%|██▍       | 323/1341 [03:38<13:08,  1.29it/s]"
     ]
    },
    {
     "name": "stdout",
     "output_type": "stream",
     "text": [
      "Intel\n"
     ]
    },
    {
     "name": "stderr",
     "output_type": "stream",
     "text": [
      " 24%|██▍       | 324/1341 [03:38<12:24,  1.37it/s]"
     ]
    },
    {
     "name": "stdout",
     "output_type": "stream",
     "text": [
      "2.2GHz\n"
     ]
    },
    {
     "name": "stderr",
     "output_type": "stream",
     "text": [
      " 24%|██▍       | 325/1341 [03:39<11:35,  1.46it/s]"
     ]
    },
    {
     "name": "stdout",
     "output_type": "stream",
     "text": [
      "16 inches\n"
     ]
    },
    {
     "name": "stderr",
     "output_type": "stream",
     "text": [
      " 24%|██▍       | 326/1341 [03:40<10:50,  1.56it/s]"
     ]
    },
    {
     "name": "stdout",
     "output_type": "stream",
     "text": [
      "Intel\n"
     ]
    },
    {
     "name": "stderr",
     "output_type": "stream",
     "text": [
      " 24%|██▍       | 327/1341 [03:40<10:38,  1.59it/s]"
     ]
    },
    {
     "name": "stdout",
     "output_type": "stream",
     "text": [
      "2.6GHz\n"
     ]
    },
    {
     "name": "stderr",
     "output_type": "stream",
     "text": [
      " 24%|██▍       | 328/1341 [03:41<11:18,  1.49it/s]"
     ]
    },
    {
     "name": "stdout",
     "output_type": "stream",
     "text": [
      "18 inches\n"
     ]
    },
    {
     "name": "stderr",
     "output_type": "stream",
     "text": [
      " 25%|██▍       | 329/1341 [03:41<10:43,  1.57it/s]"
     ]
    },
    {
     "name": "stdout",
     "output_type": "stream",
     "text": [
      "Intel\n"
     ]
    },
    {
     "name": "stderr",
     "output_type": "stream",
     "text": [
      " 25%|██▍       | 330/1341 [03:42<10:14,  1.64it/s]"
     ]
    },
    {
     "name": "stdout",
     "output_type": "stream",
     "text": [
      "2.2GHz\n"
     ]
    },
    {
     "name": "stderr",
     "output_type": "stream",
     "text": [
      " 25%|██▍       | 331/1341 [03:43<09:42,  1.73it/s]"
     ]
    },
    {
     "name": "stdout",
     "output_type": "stream",
     "text": [
      "16 inches\n"
     ]
    },
    {
     "name": "stderr",
     "output_type": "stream",
     "text": [
      " 25%|██▍       | 332/1341 [03:43<10:05,  1.67it/s]"
     ]
    },
    {
     "name": "stdout",
     "output_type": "stream",
     "text": [
      "Intel\n"
     ]
    },
    {
     "name": "stderr",
     "output_type": "stream",
     "text": [
      " 25%|██▍       | 333/1341 [03:44<09:53,  1.70it/s]"
     ]
    },
    {
     "name": "stdout",
     "output_type": "stream",
     "text": [
      "2.6GHz\n"
     ]
    },
    {
     "name": "stderr",
     "output_type": "stream",
     "text": [
      " 25%|██▍       | 334/1341 [03:44<09:41,  1.73it/s]"
     ]
    },
    {
     "name": "stdout",
     "output_type": "stream",
     "text": [
      "13.4 inches\n"
     ]
    },
    {
     "name": "stderr",
     "output_type": "stream",
     "text": [
      " 25%|██▍       | 335/1341 [03:45<09:40,  1.73it/s]"
     ]
    },
    {
     "name": "stdout",
     "output_type": "stream",
     "text": [
      "Intel\n"
     ]
    },
    {
     "name": "stderr",
     "output_type": "stream",
     "text": [
      " 25%|██▌       | 336/1341 [03:45<09:36,  1.74it/s]"
     ]
    },
    {
     "name": "stdout",
     "output_type": "stream",
     "text": [
      "4GHz\n"
     ]
    },
    {
     "name": "stderr",
     "output_type": "stream",
     "text": [
      " 25%|██▌       | 337/1341 [03:46<09:56,  1.68it/s]"
     ]
    },
    {
     "name": "stdout",
     "output_type": "stream",
     "text": [
      "13.3 inches\n"
     ]
    },
    {
     "name": "stderr",
     "output_type": "stream",
     "text": [
      " 25%|██▌       | 338/1341 [03:47<09:25,  1.77it/s]"
     ]
    },
    {
     "name": "stdout",
     "output_type": "stream",
     "text": [
      "Intel\n"
     ]
    },
    {
     "name": "stderr",
     "output_type": "stream",
     "text": [
      " 25%|██▌       | 339/1341 [03:47<09:18,  1.79it/s]"
     ]
    },
    {
     "name": "stdout",
     "output_type": "stream",
     "text": [
      "1.7GHz\n"
     ]
    },
    {
     "name": "stderr",
     "output_type": "stream",
     "text": [
      " 25%|██▌       | 340/1341 [03:48<12:18,  1.36it/s]"
     ]
    },
    {
     "name": "stdout",
     "output_type": "stream",
     "text": [
      "14 inches\n"
     ]
    },
    {
     "name": "stderr",
     "output_type": "stream",
     "text": [
      " 25%|██▌       | 341/1341 [03:49<11:29,  1.45it/s]"
     ]
    },
    {
     "name": "stdout",
     "output_type": "stream",
     "text": [
      "Intel\n"
     ]
    },
    {
     "name": "stderr",
     "output_type": "stream",
     "text": [
      " 26%|██▌       | 342/1341 [03:49<11:21,  1.47it/s]"
     ]
    },
    {
     "name": "stdout",
     "output_type": "stream",
     "text": [
      "1.7GHz\n"
     ]
    },
    {
     "name": "stderr",
     "output_type": "stream",
     "text": [
      " 26%|██▌       | 343/1341 [03:50<11:06,  1.50it/s]"
     ]
    },
    {
     "name": "stdout",
     "output_type": "stream",
     "text": [
      "15.6 inches\n"
     ]
    },
    {
     "name": "stderr",
     "output_type": "stream",
     "text": [
      " 26%|██▌       | 344/1341 [03:51<10:03,  1.65it/s]"
     ]
    },
    {
     "name": "stdout",
     "output_type": "stream",
     "text": [
      "Intel\n"
     ]
    },
    {
     "name": "stderr",
     "output_type": "stream",
     "text": [
      " 26%|██▌       | 345/1341 [03:51<09:40,  1.71it/s]"
     ]
    },
    {
     "name": "stdout",
     "output_type": "stream",
     "text": [
      "2.4GHz\n"
     ]
    },
    {
     "name": "stderr",
     "output_type": "stream",
     "text": [
      " 26%|██▌       | 346/1341 [03:52<09:38,  1.72it/s]"
     ]
    },
    {
     "name": "stdout",
     "output_type": "stream",
     "text": [
      "15.6 inches\n"
     ]
    },
    {
     "name": "stderr",
     "output_type": "stream",
     "text": [
      " 26%|██▌       | 347/1341 [03:52<09:09,  1.81it/s]"
     ]
    },
    {
     "name": "stdout",
     "output_type": "stream",
     "text": [
      "AMD\n"
     ]
    },
    {
     "name": "stderr",
     "output_type": "stream",
     "text": [
      " 26%|██▌       | 348/1341 [03:53<08:50,  1.87it/s]"
     ]
    },
    {
     "name": "stdout",
     "output_type": "stream",
     "text": [
      "4GHz\n"
     ]
    },
    {
     "name": "stderr",
     "output_type": "stream",
     "text": [
      " 26%|██▌       | 349/1341 [03:53<09:48,  1.69it/s]"
     ]
    },
    {
     "name": "stdout",
     "output_type": "stream",
     "text": [
      "14 inches\n"
     ]
    },
    {
     "name": "stderr",
     "output_type": "stream",
     "text": [
      " 26%|██▌       | 350/1341 [03:54<09:23,  1.76it/s]"
     ]
    },
    {
     "name": "stdout",
     "output_type": "stream",
     "text": [
      "AMD\n"
     ]
    },
    {
     "name": "stderr",
     "output_type": "stream",
     "text": [
      " 26%|██▌       | 351/1341 [03:55<10:34,  1.56it/s]"
     ]
    },
    {
     "name": "stdout",
     "output_type": "stream",
     "text": [
      "3.2GHz\n"
     ]
    },
    {
     "name": "stderr",
     "output_type": "stream",
     "text": [
      " 26%|██▌       | 352/1341 [03:55<10:08,  1.62it/s]"
     ]
    },
    {
     "name": "stdout",
     "output_type": "stream",
     "text": [
      "16 inches\n"
     ]
    },
    {
     "name": "stderr",
     "output_type": "stream",
     "text": [
      " 26%|██▋       | 353/1341 [03:57<16:31,  1.00s/it]"
     ]
    },
    {
     "name": "stdout",
     "output_type": "stream",
     "text": [
      "Intel\n"
     ]
    },
    {
     "name": "stderr",
     "output_type": "stream",
     "text": [
      " 26%|██▋       | 354/1341 [03:58<14:12,  1.16it/s]"
     ]
    },
    {
     "name": "stdout",
     "output_type": "stream",
     "text": [
      "2.4GHz\n"
     ]
    },
    {
     "name": "stderr",
     "output_type": "stream",
     "text": [
      " 26%|██▋       | 355/1341 [03:58<12:26,  1.32it/s]"
     ]
    },
    {
     "name": "stdout",
     "output_type": "stream",
     "text": [
      "13.3 inches\n"
     ]
    },
    {
     "name": "stderr",
     "output_type": "stream",
     "text": [
      " 27%|██▋       | 356/1341 [03:59<10:59,  1.49it/s]"
     ]
    },
    {
     "name": "stdout",
     "output_type": "stream",
     "text": [
      "Intel\n"
     ]
    },
    {
     "name": "stderr",
     "output_type": "stream",
     "text": [
      " 27%|██▋       | 357/1341 [03:59<10:02,  1.63it/s]"
     ]
    },
    {
     "name": "stdout",
     "output_type": "stream",
     "text": [
      "1.7GHz\n"
     ]
    },
    {
     "name": "stderr",
     "output_type": "stream",
     "text": [
      " 27%|██▋       | 358/1341 [04:00<09:40,  1.69it/s]"
     ]
    },
    {
     "name": "stdout",
     "output_type": "stream",
     "text": [
      "14 inches\n"
     ]
    },
    {
     "name": "stderr",
     "output_type": "stream",
     "text": [
      " 27%|██▋       | 359/1341 [04:00<09:53,  1.65it/s]"
     ]
    },
    {
     "name": "stdout",
     "output_type": "stream",
     "text": [
      "Intel\n"
     ]
    },
    {
     "name": "stderr",
     "output_type": "stream",
     "text": [
      " 27%|██▋       | 360/1341 [04:01<09:52,  1.65it/s]"
     ]
    },
    {
     "name": "stdout",
     "output_type": "stream",
     "text": [
      "2.2GHz\n"
     ]
    },
    {
     "name": "stderr",
     "output_type": "stream",
     "text": [
      " 27%|██▋       | 361/1341 [04:01<09:03,  1.80it/s]"
     ]
    },
    {
     "name": "stdout",
     "output_type": "stream",
     "text": [
      "14 inches\n"
     ]
    },
    {
     "name": "stderr",
     "output_type": "stream",
     "text": [
      " 27%|██▋       | 362/1341 [04:02<09:12,  1.77it/s]"
     ]
    },
    {
     "name": "stdout",
     "output_type": "stream",
     "text": [
      "AMD\n"
     ]
    },
    {
     "name": "stderr",
     "output_type": "stream",
     "text": [
      " 27%|██▋       | 363/1341 [04:03<09:28,  1.72it/s]"
     ]
    },
    {
     "name": "stdout",
     "output_type": "stream",
     "text": [
      "2GHz\n"
     ]
    },
    {
     "name": "stderr",
     "output_type": "stream",
     "text": [
      " 27%|██▋       | 364/1341 [04:03<09:20,  1.74it/s]"
     ]
    },
    {
     "name": "stdout",
     "output_type": "stream",
     "text": [
      "14 inches\n"
     ]
    },
    {
     "name": "stderr",
     "output_type": "stream",
     "text": [
      " 27%|██▋       | 365/1341 [04:04<09:43,  1.67it/s]"
     ]
    },
    {
     "name": "stdout",
     "output_type": "stream",
     "text": [
      "Intel\n"
     ]
    },
    {
     "name": "stderr",
     "output_type": "stream",
     "text": [
      " 27%|██▋       | 366/1341 [04:05<10:14,  1.59it/s]"
     ]
    },
    {
     "name": "stdout",
     "output_type": "stream",
     "text": [
      "1.2GHz\n"
     ]
    },
    {
     "name": "stderr",
     "output_type": "stream",
     "text": [
      " 27%|██▋       | 367/1341 [04:05<10:32,  1.54it/s]"
     ]
    },
    {
     "name": "stdout",
     "output_type": "stream",
     "text": [
      "15.6 inches\n"
     ]
    },
    {
     "name": "stderr",
     "output_type": "stream",
     "text": [
      " 27%|██▋       | 368/1341 [04:06<09:44,  1.66it/s]"
     ]
    },
    {
     "name": "stdout",
     "output_type": "stream",
     "text": [
      "Intel\n"
     ]
    },
    {
     "name": "stderr",
     "output_type": "stream",
     "text": [
      " 28%|██▊       | 369/1341 [04:06<09:41,  1.67it/s]"
     ]
    },
    {
     "name": "stdout",
     "output_type": "stream",
     "text": [
      "I do not know.\n"
     ]
    },
    {
     "name": "stderr",
     "output_type": "stream",
     "text": [
      " 28%|██▊       | 370/1341 [04:07<09:34,  1.69it/s]"
     ]
    },
    {
     "name": "stdout",
     "output_type": "stream",
     "text": [
      "15.6 inches\n"
     ]
    },
    {
     "name": "stderr",
     "output_type": "stream",
     "text": [
      " 28%|██▊       | 371/1341 [04:07<08:53,  1.82it/s]"
     ]
    },
    {
     "name": "stdout",
     "output_type": "stream",
     "text": [
      "Intel\n"
     ]
    },
    {
     "name": "stderr",
     "output_type": "stream",
     "text": [
      " 28%|██▊       | 372/1341 [04:08<09:19,  1.73it/s]"
     ]
    },
    {
     "name": "stdout",
     "output_type": "stream",
     "text": [
      "2.5GHz\n"
     ]
    },
    {
     "name": "stderr",
     "output_type": "stream",
     "text": [
      " 28%|██▊       | 373/1341 [04:09<09:06,  1.77it/s]"
     ]
    },
    {
     "name": "stdout",
     "output_type": "stream",
     "text": [
      "15.6 inches\n"
     ]
    },
    {
     "name": "stderr",
     "output_type": "stream",
     "text": [
      " 28%|██▊       | 374/1341 [04:09<08:50,  1.82it/s]"
     ]
    },
    {
     "name": "stdout",
     "output_type": "stream",
     "text": [
      "Intel\n"
     ]
    },
    {
     "name": "stderr",
     "output_type": "stream",
     "text": [
      " 28%|██▊       | 375/1341 [04:10<08:52,  1.81it/s]"
     ]
    },
    {
     "name": "stdout",
     "output_type": "stream",
     "text": [
      "2.1GHz\n"
     ]
    },
    {
     "name": "stderr",
     "output_type": "stream",
     "text": [
      " 28%|██▊       | 376/1341 [04:10<08:45,  1.83it/s]"
     ]
    },
    {
     "name": "stdout",
     "output_type": "stream",
     "text": [
      "15.6 inches\n"
     ]
    },
    {
     "name": "stderr",
     "output_type": "stream",
     "text": [
      " 28%|██▊       | 377/1341 [04:11<08:39,  1.86it/s]"
     ]
    },
    {
     "name": "stdout",
     "output_type": "stream",
     "text": [
      "AMD\n"
     ]
    },
    {
     "name": "stderr",
     "output_type": "stream",
     "text": [
      " 28%|██▊       | 378/1341 [04:11<09:01,  1.78it/s]"
     ]
    },
    {
     "name": "stdout",
     "output_type": "stream",
     "text": [
      "1.8GHz\n"
     ]
    },
    {
     "name": "stderr",
     "output_type": "stream",
     "text": [
      " 28%|██▊       | 379/1341 [04:12<09:11,  1.74it/s]"
     ]
    },
    {
     "name": "stdout",
     "output_type": "stream",
     "text": [
      "15.6 inches\n"
     ]
    },
    {
     "name": "stderr",
     "output_type": "stream",
     "text": [
      " 28%|██▊       | 380/1341 [04:12<08:48,  1.82it/s]"
     ]
    },
    {
     "name": "stdout",
     "output_type": "stream",
     "text": [
      "Intel\n"
     ]
    },
    {
     "name": "stderr",
     "output_type": "stream",
     "text": [
      " 28%|██▊       | 381/1341 [04:13<09:13,  1.73it/s]"
     ]
    },
    {
     "name": "stdout",
     "output_type": "stream",
     "text": [
      "2.7GHz\n"
     ]
    },
    {
     "name": "stderr",
     "output_type": "stream",
     "text": [
      " 28%|██▊       | 382/1341 [04:14<09:02,  1.77it/s]"
     ]
    },
    {
     "name": "stdout",
     "output_type": "stream",
     "text": [
      "15.6 inches\n"
     ]
    },
    {
     "name": "stderr",
     "output_type": "stream",
     "text": [
      " 29%|██▊       | 383/1341 [04:14<09:02,  1.77it/s]"
     ]
    },
    {
     "name": "stdout",
     "output_type": "stream",
     "text": [
      "Intel\n"
     ]
    },
    {
     "name": "stderr",
     "output_type": "stream",
     "text": [
      " 29%|██▊       | 384/1341 [04:15<08:54,  1.79it/s]"
     ]
    },
    {
     "name": "stdout",
     "output_type": "stream",
     "text": [
      "2.4GHz\n"
     ]
    },
    {
     "name": "stderr",
     "output_type": "stream",
     "text": [
      " 29%|██▊       | 385/1341 [04:15<08:57,  1.78it/s]"
     ]
    },
    {
     "name": "stdout",
     "output_type": "stream",
     "text": [
      "15.6 inches\n"
     ]
    },
    {
     "name": "stderr",
     "output_type": "stream",
     "text": [
      " 29%|██▉       | 386/1341 [04:16<08:46,  1.81it/s]"
     ]
    },
    {
     "name": "stdout",
     "output_type": "stream",
     "text": [
      "AMD\n"
     ]
    },
    {
     "name": "stderr",
     "output_type": "stream",
     "text": [
      " 29%|██▉       | 387/1341 [04:16<08:41,  1.83it/s]"
     ]
    },
    {
     "name": "stdout",
     "output_type": "stream",
     "text": [
      "2.30 GHz\n"
     ]
    },
    {
     "name": "stderr",
     "output_type": "stream",
     "text": [
      " 29%|██▉       | 388/1341 [04:17<08:58,  1.77it/s]"
     ]
    },
    {
     "name": "stdout",
     "output_type": "stream",
     "text": [
      "15.6 inches\n"
     ]
    },
    {
     "name": "stderr",
     "output_type": "stream",
     "text": [
      " 29%|██▉       | 389/1341 [04:17<08:56,  1.77it/s]"
     ]
    },
    {
     "name": "stdout",
     "output_type": "stream",
     "text": [
      "Intel\n"
     ]
    },
    {
     "name": "stderr",
     "output_type": "stream",
     "text": [
      " 29%|██▉       | 390/1341 [04:18<08:50,  1.79it/s]"
     ]
    },
    {
     "name": "stdout",
     "output_type": "stream",
     "text": [
      "1.2GHz\n"
     ]
    },
    {
     "name": "stderr",
     "output_type": "stream",
     "text": [
      " 29%|██▉       | 391/1341 [04:19<08:52,  1.79it/s]"
     ]
    },
    {
     "name": "stdout",
     "output_type": "stream",
     "text": [
      "14 inches\n"
     ]
    },
    {
     "name": "stderr",
     "output_type": "stream",
     "text": [
      " 29%|██▉       | 392/1341 [04:19<09:13,  1.71it/s]"
     ]
    },
    {
     "name": "stdout",
     "output_type": "stream",
     "text": [
      "AMD\n"
     ]
    },
    {
     "name": "stderr",
     "output_type": "stream",
     "text": [
      " 29%|██▉       | 393/1341 [04:20<09:07,  1.73it/s]"
     ]
    },
    {
     "name": "stdout",
     "output_type": "stream",
     "text": [
      "1.8GHz\n"
     ]
    },
    {
     "name": "stderr",
     "output_type": "stream",
     "text": [
      " 29%|██▉       | 394/1341 [04:20<08:51,  1.78it/s]"
     ]
    },
    {
     "name": "stdout",
     "output_type": "stream",
     "text": [
      "14 inches\n"
     ]
    },
    {
     "name": "stderr",
     "output_type": "stream",
     "text": [
      " 29%|██▉       | 395/1341 [04:21<08:20,  1.89it/s]"
     ]
    },
    {
     "name": "stdout",
     "output_type": "stream",
     "text": [
      "Intel\n"
     ]
    },
    {
     "name": "stderr",
     "output_type": "stream",
     "text": [
      " 30%|██▉       | 396/1341 [04:21<08:27,  1.86it/s]"
     ]
    },
    {
     "name": "stdout",
     "output_type": "stream",
     "text": [
      "2.4GHz\n"
     ]
    },
    {
     "name": "stderr",
     "output_type": "stream",
     "text": [
      " 30%|██▉       | 397/1341 [04:22<09:00,  1.75it/s]"
     ]
    },
    {
     "name": "stdout",
     "output_type": "stream",
     "text": [
      "15.6 inches\n"
     ]
    },
    {
     "name": "stderr",
     "output_type": "stream",
     "text": [
      " 30%|██▉       | 398/1341 [04:23<09:22,  1.68it/s]"
     ]
    },
    {
     "name": "stdout",
     "output_type": "stream",
     "text": [
      "Intel\n"
     ]
    },
    {
     "name": "stderr",
     "output_type": "stream",
     "text": [
      " 30%|██▉       | 399/1341 [04:23<10:02,  1.56it/s]"
     ]
    },
    {
     "name": "stdout",
     "output_type": "stream",
     "text": [
      "1.2GHz\n"
     ]
    },
    {
     "name": "stderr",
     "output_type": "stream",
     "text": [
      " 30%|██▉       | 400/1341 [04:24<10:00,  1.57it/s]"
     ]
    },
    {
     "name": "stdout",
     "output_type": "stream",
     "text": [
      "15.6 inches\n"
     ]
    },
    {
     "name": "stderr",
     "output_type": "stream",
     "text": [
      " 30%|██▉       | 401/1341 [04:24<09:18,  1.68it/s]"
     ]
    },
    {
     "name": "stdout",
     "output_type": "stream",
     "text": [
      "Intel\n"
     ]
    },
    {
     "name": "stderr",
     "output_type": "stream",
     "text": [
      " 30%|██▉       | 402/1341 [04:25<09:46,  1.60it/s]"
     ]
    },
    {
     "name": "stdout",
     "output_type": "stream",
     "text": [
      "2GHz\n"
     ]
    },
    {
     "name": "stderr",
     "output_type": "stream",
     "text": [
      " 30%|███       | 403/1341 [04:26<10:40,  1.46it/s]"
     ]
    },
    {
     "name": "stdout",
     "output_type": "stream",
     "text": [
      "15.6 inches\n"
     ]
    },
    {
     "name": "stderr",
     "output_type": "stream",
     "text": [
      " 30%|███       | 404/1341 [04:26<09:19,  1.68it/s]"
     ]
    },
    {
     "name": "stdout",
     "output_type": "stream",
     "text": [
      "Intel\n"
     ]
    },
    {
     "name": "stderr",
     "output_type": "stream",
     "text": [
      " 30%|███       | 405/1341 [04:27<10:33,  1.48it/s]"
     ]
    },
    {
     "name": "stdout",
     "output_type": "stream",
     "text": [
      "1.3GHz\n"
     ]
    },
    {
     "name": "stderr",
     "output_type": "stream",
     "text": [
      " 30%|███       | 406/1341 [04:28<10:17,  1.51it/s]"
     ]
    },
    {
     "name": "stdout",
     "output_type": "stream",
     "text": [
      "15.6 inches\n"
     ]
    },
    {
     "name": "stderr",
     "output_type": "stream",
     "text": [
      " 30%|███       | 407/1341 [04:28<09:23,  1.66it/s]"
     ]
    },
    {
     "name": "stdout",
     "output_type": "stream",
     "text": [
      "Intel\n"
     ]
    },
    {
     "name": "stderr",
     "output_type": "stream",
     "text": [
      " 30%|███       | 408/1341 [04:29<09:30,  1.64it/s]"
     ]
    },
    {
     "name": "stdout",
     "output_type": "stream",
     "text": [
      "2.1GHz\n"
     ]
    },
    {
     "name": "stderr",
     "output_type": "stream",
     "text": [
      " 30%|███       | 409/1341 [04:30<09:14,  1.68it/s]"
     ]
    },
    {
     "name": "stdout",
     "output_type": "stream",
     "text": [
      "15.6 inches\n"
     ]
    },
    {
     "name": "stderr",
     "output_type": "stream",
     "text": [
      " 31%|███       | 410/1341 [04:30<09:15,  1.68it/s]"
     ]
    },
    {
     "name": "stdout",
     "output_type": "stream",
     "text": [
      "Intel\n"
     ]
    },
    {
     "name": "stderr",
     "output_type": "stream",
     "text": [
      " 31%|███       | 411/1341 [04:31<09:07,  1.70it/s]"
     ]
    },
    {
     "name": "stdout",
     "output_type": "stream",
     "text": [
      "2.4GHz\n"
     ]
    },
    {
     "name": "stderr",
     "output_type": "stream",
     "text": [
      " 31%|███       | 412/1341 [04:31<08:59,  1.72it/s]"
     ]
    },
    {
     "name": "stdout",
     "output_type": "stream",
     "text": [
      "15.6 inches\n"
     ]
    },
    {
     "name": "stderr",
     "output_type": "stream",
     "text": [
      " 31%|███       | 413/1341 [04:32<08:52,  1.74it/s]"
     ]
    },
    {
     "name": "stdout",
     "output_type": "stream",
     "text": [
      "Intel\n"
     ]
    },
    {
     "name": "stderr",
     "output_type": "stream",
     "text": [
      " 31%|███       | 414/1341 [04:33<09:38,  1.60it/s]"
     ]
    },
    {
     "name": "stdout",
     "output_type": "stream",
     "text": [
      "2.5GHz\n"
     ]
    },
    {
     "name": "stderr",
     "output_type": "stream",
     "text": [
      " 31%|███       | 415/1341 [04:34<11:15,  1.37it/s]"
     ]
    },
    {
     "name": "stdout",
     "output_type": "stream",
     "text": [
      "14 inches\n"
     ]
    },
    {
     "name": "stderr",
     "output_type": "stream",
     "text": [
      " 31%|███       | 416/1341 [04:34<10:59,  1.40it/s]"
     ]
    },
    {
     "name": "stdout",
     "output_type": "stream",
     "text": [
      "Intel\n"
     ]
    },
    {
     "name": "stderr",
     "output_type": "stream",
     "text": [
      " 31%|███       | 417/1341 [04:35<10:27,  1.47it/s]"
     ]
    },
    {
     "name": "stdout",
     "output_type": "stream",
     "text": [
      "1.3GHz\n"
     ]
    },
    {
     "name": "stderr",
     "output_type": "stream",
     "text": [
      " 31%|███       | 418/1341 [04:35<09:40,  1.59it/s]"
     ]
    },
    {
     "name": "stdout",
     "output_type": "stream",
     "text": [
      "14 inches\n"
     ]
    },
    {
     "name": "stderr",
     "output_type": "stream",
     "text": [
      " 31%|███       | 419/1341 [04:36<09:02,  1.70it/s]"
     ]
    },
    {
     "name": "stdout",
     "output_type": "stream",
     "text": [
      "Intel\n"
     ]
    },
    {
     "name": "stderr",
     "output_type": "stream",
     "text": [
      " 31%|███▏      | 420/1341 [04:36<09:03,  1.69it/s]"
     ]
    },
    {
     "name": "stdout",
     "output_type": "stream",
     "text": [
      "2.4GHz\n"
     ]
    },
    {
     "name": "stderr",
     "output_type": "stream",
     "text": [
      " 31%|███▏      | 421/1341 [04:37<08:18,  1.84it/s]"
     ]
    },
    {
     "name": "stdout",
     "output_type": "stream",
     "text": [
      "14 inches\n"
     ]
    },
    {
     "name": "stderr",
     "output_type": "stream",
     "text": [
      " 31%|███▏      | 422/1341 [04:37<07:56,  1.93it/s]"
     ]
    },
    {
     "name": "stdout",
     "output_type": "stream",
     "text": [
      "Intel\n"
     ]
    },
    {
     "name": "stderr",
     "output_type": "stream",
     "text": [
      " 32%|███▏      | 423/1341 [04:40<16:15,  1.06s/it]"
     ]
    },
    {
     "name": "stdout",
     "output_type": "stream",
     "text": [
      "1.1GHz\n"
     ]
    },
    {
     "name": "stderr",
     "output_type": "stream",
     "text": [
      " 32%|███▏      | 424/1341 [04:40<13:50,  1.10it/s]"
     ]
    },
    {
     "name": "stdout",
     "output_type": "stream",
     "text": [
      "14 inches\n"
     ]
    },
    {
     "name": "stderr",
     "output_type": "stream",
     "text": [
      " 32%|███▏      | 425/1341 [04:41<12:15,  1.25it/s]"
     ]
    },
    {
     "name": "stdout",
     "output_type": "stream",
     "text": [
      "Intel\n"
     ]
    },
    {
     "name": "stderr",
     "output_type": "stream",
     "text": [
      " 32%|███▏      | 426/1341 [04:41<11:11,  1.36it/s]"
     ]
    },
    {
     "name": "stdout",
     "output_type": "stream",
     "text": [
      "2.4GHz\n"
     ]
    },
    {
     "name": "stderr",
     "output_type": "stream",
     "text": [
      " 32%|███▏      | 427/1341 [04:42<10:23,  1.47it/s]"
     ]
    },
    {
     "name": "stdout",
     "output_type": "stream",
     "text": [
      "14 inches\n"
     ]
    },
    {
     "name": "stderr",
     "output_type": "stream",
     "text": [
      " 32%|███▏      | 428/1341 [04:42<09:29,  1.60it/s]"
     ]
    },
    {
     "name": "stdout",
     "output_type": "stream",
     "text": [
      "Intel\n"
     ]
    },
    {
     "name": "stderr",
     "output_type": "stream",
     "text": [
      " 32%|███▏      | 429/1341 [04:43<09:58,  1.52it/s]"
     ]
    },
    {
     "name": "stdout",
     "output_type": "stream",
     "text": [
      "1.1GHz\n"
     ]
    },
    {
     "name": "stderr",
     "output_type": "stream",
     "text": [
      " 32%|███▏      | 430/1341 [04:44<09:27,  1.61it/s]"
     ]
    },
    {
     "name": "stdout",
     "output_type": "stream",
     "text": [
      "15.6 inches\n"
     ]
    },
    {
     "name": "stderr",
     "output_type": "stream",
     "text": [
      " 32%|███▏      | 431/1341 [04:44<09:06,  1.67it/s]"
     ]
    },
    {
     "name": "stdout",
     "output_type": "stream",
     "text": [
      "Intel\n"
     ]
    },
    {
     "name": "stderr",
     "output_type": "stream",
     "text": [
      " 32%|███▏      | 432/1341 [04:45<09:27,  1.60it/s]"
     ]
    },
    {
     "name": "stdout",
     "output_type": "stream",
     "text": [
      "2.1GHz\n"
     ]
    },
    {
     "name": "stderr",
     "output_type": "stream",
     "text": [
      " 32%|███▏      | 433/1341 [04:45<09:26,  1.60it/s]"
     ]
    },
    {
     "name": "stdout",
     "output_type": "stream",
     "text": [
      "15.6 inches\n"
     ]
    },
    {
     "name": "stderr",
     "output_type": "stream",
     "text": [
      " 32%|███▏      | 434/1341 [04:46<08:56,  1.69it/s]"
     ]
    },
    {
     "name": "stdout",
     "output_type": "stream",
     "text": [
      "Intel\n"
     ]
    },
    {
     "name": "stderr",
     "output_type": "stream",
     "text": [
      " 32%|███▏      | 435/1341 [04:47<09:17,  1.62it/s]"
     ]
    },
    {
     "name": "stdout",
     "output_type": "stream",
     "text": [
      "2.30 GHz\n"
     ]
    },
    {
     "name": "stderr",
     "output_type": "stream",
     "text": [
      " 33%|███▎      | 436/1341 [04:47<09:25,  1.60it/s]"
     ]
    },
    {
     "name": "stdout",
     "output_type": "stream",
     "text": [
      "14 inches\n"
     ]
    },
    {
     "name": "stderr",
     "output_type": "stream",
     "text": [
      " 33%|███▎      | 437/1341 [04:48<09:08,  1.65it/s]"
     ]
    },
    {
     "name": "stdout",
     "output_type": "stream",
     "text": [
      "Intel\n"
     ]
    },
    {
     "name": "stderr",
     "output_type": "stream",
     "text": [
      " 33%|███▎      | 438/1341 [04:48<08:53,  1.69it/s]"
     ]
    },
    {
     "name": "stdout",
     "output_type": "stream",
     "text": [
      "2.4GHz\n"
     ]
    },
    {
     "name": "stderr",
     "output_type": "stream",
     "text": [
      " 33%|███▎      | 439/1341 [04:49<09:11,  1.64it/s]"
     ]
    },
    {
     "name": "stdout",
     "output_type": "stream",
     "text": [
      "15.6 inches\n"
     ]
    },
    {
     "name": "stderr",
     "output_type": "stream",
     "text": [
      " 33%|███▎      | 440/1341 [04:50<09:29,  1.58it/s]"
     ]
    },
    {
     "name": "stdout",
     "output_type": "stream",
     "text": [
      "Intel\n"
     ]
    },
    {
     "name": "stderr",
     "output_type": "stream",
     "text": [
      " 33%|███▎      | 441/1341 [04:50<09:10,  1.63it/s]"
     ]
    },
    {
     "name": "stdout",
     "output_type": "stream",
     "text": [
      "2GHz\n"
     ]
    },
    {
     "name": "stderr",
     "output_type": "stream",
     "text": [
      " 33%|███▎      | 442/1341 [04:51<08:52,  1.69it/s]"
     ]
    },
    {
     "name": "stdout",
     "output_type": "stream",
     "text": [
      "14 inches\n"
     ]
    },
    {
     "name": "stderr",
     "output_type": "stream",
     "text": [
      " 33%|███▎      | 443/1341 [04:51<08:48,  1.70it/s]"
     ]
    },
    {
     "name": "stdout",
     "output_type": "stream",
     "text": [
      "Intel\n"
     ]
    },
    {
     "name": "stderr",
     "output_type": "stream",
     "text": [
      " 33%|███▎      | 444/1341 [04:52<08:54,  1.68it/s]"
     ]
    },
    {
     "name": "stdout",
     "output_type": "stream",
     "text": [
      "1.7GHz\n"
     ]
    },
    {
     "name": "stderr",
     "output_type": "stream",
     "text": [
      " 33%|███▎      | 445/1341 [04:53<08:29,  1.76it/s]"
     ]
    },
    {
     "name": "stdout",
     "output_type": "stream",
     "text": [
      "16 inches\n"
     ]
    },
    {
     "name": "stderr",
     "output_type": "stream",
     "text": [
      " 33%|███▎      | 446/1341 [04:53<08:45,  1.70it/s]"
     ]
    },
    {
     "name": "stdout",
     "output_type": "stream",
     "text": [
      "Intel Core i7\n"
     ]
    },
    {
     "name": "stderr",
     "output_type": "stream",
     "text": [
      " 33%|███▎      | 447/1341 [04:54<09:19,  1.60it/s]"
     ]
    },
    {
     "name": "stdout",
     "output_type": "stream",
     "text": [
      "2.1GHz\n"
     ]
    },
    {
     "name": "stderr",
     "output_type": "stream",
     "text": [
      " 33%|███▎      | 448/1341 [04:55<09:11,  1.62it/s]"
     ]
    },
    {
     "name": "stdout",
     "output_type": "stream",
     "text": [
      "15.6 inches\n"
     ]
    },
    {
     "name": "stderr",
     "output_type": "stream",
     "text": [
      " 33%|███▎      | 449/1341 [04:55<09:41,  1.53it/s]"
     ]
    },
    {
     "name": "stdout",
     "output_type": "stream",
     "text": [
      "Intel\n"
     ]
    },
    {
     "name": "stderr",
     "output_type": "stream",
     "text": [
      " 34%|███▎      | 450/1341 [04:56<09:24,  1.58it/s]"
     ]
    },
    {
     "name": "stdout",
     "output_type": "stream",
     "text": [
      "2.30 GHz\n"
     ]
    },
    {
     "name": "stderr",
     "output_type": "stream",
     "text": [
      " 34%|███▎      | 451/1341 [04:57<11:45,  1.26it/s]"
     ]
    },
    {
     "name": "stdout",
     "output_type": "stream",
     "text": [
      "15.6 inches\n"
     ]
    },
    {
     "name": "stderr",
     "output_type": "stream",
     "text": [
      " 34%|███▎      | 452/1341 [04:58<10:57,  1.35it/s]"
     ]
    },
    {
     "name": "stdout",
     "output_type": "stream",
     "text": [
      "Intel\n"
     ]
    },
    {
     "name": "stderr",
     "output_type": "stream",
     "text": [
      " 34%|███▍      | 453/1341 [04:58<10:47,  1.37it/s]"
     ]
    },
    {
     "name": "stdout",
     "output_type": "stream",
     "text": [
      "2.1GHz\n"
     ]
    },
    {
     "name": "stderr",
     "output_type": "stream",
     "text": [
      " 34%|███▍      | 454/1341 [04:59<10:43,  1.38it/s]"
     ]
    },
    {
     "name": "stdout",
     "output_type": "stream",
     "text": [
      "15.6 inches\n"
     ]
    },
    {
     "name": "stderr",
     "output_type": "stream",
     "text": [
      " 34%|███▍      | 455/1341 [05:00<09:50,  1.50it/s]"
     ]
    },
    {
     "name": "stdout",
     "output_type": "stream",
     "text": [
      "Intel\n"
     ]
    },
    {
     "name": "stderr",
     "output_type": "stream",
     "text": [
      " 34%|███▍      | 456/1341 [05:00<09:16,  1.59it/s]"
     ]
    },
    {
     "name": "stdout",
     "output_type": "stream",
     "text": [
      "2.1GHz\n"
     ]
    },
    {
     "name": "stderr",
     "output_type": "stream",
     "text": [
      " 34%|███▍      | 457/1341 [05:01<09:11,  1.60it/s]"
     ]
    },
    {
     "name": "stdout",
     "output_type": "stream",
     "text": [
      "15.6 inches\n"
     ]
    },
    {
     "name": "stderr",
     "output_type": "stream",
     "text": [
      " 34%|███▍      | 458/1341 [05:01<08:33,  1.72it/s]"
     ]
    },
    {
     "name": "stdout",
     "output_type": "stream",
     "text": [
      "Intel\n"
     ]
    },
    {
     "name": "stderr",
     "output_type": "stream",
     "text": [
      " 34%|███▍      | 459/1341 [05:02<08:47,  1.67it/s]"
     ]
    },
    {
     "name": "stdout",
     "output_type": "stream",
     "text": [
      "2.7GHz\n"
     ]
    },
    {
     "name": "stderr",
     "output_type": "stream",
     "text": [
      " 34%|███▍      | 460/1341 [05:02<08:34,  1.71it/s]"
     ]
    },
    {
     "name": "stdout",
     "output_type": "stream",
     "text": [
      "15.6 inches\n"
     ]
    },
    {
     "name": "stderr",
     "output_type": "stream",
     "text": [
      " 34%|███▍      | 461/1341 [05:03<08:21,  1.76it/s]"
     ]
    },
    {
     "name": "stdout",
     "output_type": "stream",
     "text": [
      "AMD\n"
     ]
    },
    {
     "name": "stderr",
     "output_type": "stream",
     "text": [
      " 34%|███▍      | 462/1341 [05:03<08:20,  1.76it/s]"
     ]
    },
    {
     "name": "stdout",
     "output_type": "stream",
     "text": [
      "1.8GHz\n"
     ]
    },
    {
     "name": "stderr",
     "output_type": "stream",
     "text": [
      " 35%|███▍      | 463/1341 [05:05<12:29,  1.17it/s]"
     ]
    },
    {
     "name": "stdout",
     "output_type": "stream",
     "text": [
      "14 inches\n"
     ]
    },
    {
     "name": "stderr",
     "output_type": "stream",
     "text": [
      " 35%|███▍      | 464/1341 [05:06<10:55,  1.34it/s]"
     ]
    },
    {
     "name": "stdout",
     "output_type": "stream",
     "text": [
      "AMD\n"
     ]
    },
    {
     "name": "stderr",
     "output_type": "stream",
     "text": [
      " 35%|███▍      | 465/1341 [05:06<10:08,  1.44it/s]"
     ]
    },
    {
     "name": "stdout",
     "output_type": "stream",
     "text": [
      "2.30 GHz\n"
     ]
    },
    {
     "name": "stderr",
     "output_type": "stream",
     "text": [
      " 35%|███▍      | 466/1341 [05:07<10:05,  1.45it/s]"
     ]
    },
    {
     "name": "stdout",
     "output_type": "stream",
     "text": [
      "15.6 inches\n"
     ]
    },
    {
     "name": "stderr",
     "output_type": "stream",
     "text": [
      " 35%|███▍      | 467/1341 [05:07<08:51,  1.64it/s]"
     ]
    },
    {
     "name": "stdout",
     "output_type": "stream",
     "text": [
      "Intel\n"
     ]
    },
    {
     "name": "stderr",
     "output_type": "stream",
     "text": [
      " 35%|███▍      | 468/1341 [05:08<08:55,  1.63it/s]"
     ]
    },
    {
     "name": "stdout",
     "output_type": "stream",
     "text": [
      "2GHz\n"
     ]
    },
    {
     "name": "stderr",
     "output_type": "stream",
     "text": [
      " 35%|███▍      | 469/1341 [05:08<09:10,  1.58it/s]"
     ]
    },
    {
     "name": "stdout",
     "output_type": "stream",
     "text": [
      "15.6 inches\n"
     ]
    },
    {
     "name": "stderr",
     "output_type": "stream",
     "text": [
      " 35%|███▌      | 470/1341 [05:09<08:58,  1.62it/s]"
     ]
    },
    {
     "name": "stdout",
     "output_type": "stream",
     "text": [
      "Intel\n"
     ]
    },
    {
     "name": "stderr",
     "output_type": "stream",
     "text": [
      " 35%|███▌      | 471/1341 [05:10<08:49,  1.64it/s]"
     ]
    },
    {
     "name": "stdout",
     "output_type": "stream",
     "text": [
      "1.3GHz\n"
     ]
    },
    {
     "name": "stderr",
     "output_type": "stream",
     "text": [
      " 35%|███▌      | 472/1341 [05:10<08:56,  1.62it/s]"
     ]
    },
    {
     "name": "stdout",
     "output_type": "stream",
     "text": [
      "15.6 inches\n"
     ]
    },
    {
     "name": "stderr",
     "output_type": "stream",
     "text": [
      " 35%|███▌      | 473/1341 [05:11<08:54,  1.62it/s]"
     ]
    },
    {
     "name": "stdout",
     "output_type": "stream",
     "text": [
      "Intel\n"
     ]
    },
    {
     "name": "stderr",
     "output_type": "stream",
     "text": [
      " 35%|███▌      | 474/1341 [05:11<08:43,  1.66it/s]"
     ]
    },
    {
     "name": "stdout",
     "output_type": "stream",
     "text": [
      "1.3GHz\n"
     ]
    },
    {
     "name": "stderr",
     "output_type": "stream",
     "text": [
      " 35%|███▌      | 475/1341 [05:12<08:37,  1.67it/s]"
     ]
    },
    {
     "name": "stdout",
     "output_type": "stream",
     "text": [
      "15.6 inches\n"
     ]
    },
    {
     "name": "stderr",
     "output_type": "stream",
     "text": [
      " 35%|███▌      | 476/1341 [05:13<08:13,  1.75it/s]"
     ]
    },
    {
     "name": "stdout",
     "output_type": "stream",
     "text": [
      "Intel\n"
     ]
    },
    {
     "name": "stderr",
     "output_type": "stream",
     "text": [
      " 36%|███▌      | 477/1341 [05:13<08:17,  1.74it/s]"
     ]
    },
    {
     "name": "stdout",
     "output_type": "stream",
     "text": [
      "1.2GHz\n"
     ]
    },
    {
     "name": "stderr",
     "output_type": "stream",
     "text": [
      " 36%|███▌      | 478/1341 [05:14<09:07,  1.58it/s]"
     ]
    },
    {
     "name": "stdout",
     "output_type": "stream",
     "text": [
      "15.6 inches\n"
     ]
    },
    {
     "name": "stderr",
     "output_type": "stream",
     "text": [
      " 36%|███▌      | 479/1341 [05:14<08:40,  1.66it/s]"
     ]
    },
    {
     "name": "stdout",
     "output_type": "stream",
     "text": [
      "Intel\n"
     ]
    },
    {
     "name": "stderr",
     "output_type": "stream",
     "text": [
      " 36%|███▌      | 480/1341 [05:15<08:24,  1.71it/s]"
     ]
    },
    {
     "name": "stdout",
     "output_type": "stream",
     "text": [
      "2GHz\n"
     ]
    },
    {
     "name": "stderr",
     "output_type": "stream",
     "text": [
      " 36%|███▌      | 481/1341 [05:16<08:50,  1.62it/s]"
     ]
    },
    {
     "name": "stdout",
     "output_type": "stream",
     "text": [
      "15.6 inches\n"
     ]
    },
    {
     "name": "stderr",
     "output_type": "stream",
     "text": [
      " 36%|███▌      | 482/1341 [05:16<08:58,  1.59it/s]"
     ]
    },
    {
     "name": "stdout",
     "output_type": "stream",
     "text": [
      "Intel\n"
     ]
    },
    {
     "name": "stderr",
     "output_type": "stream",
     "text": [
      " 36%|███▌      | 483/1341 [05:17<08:27,  1.69it/s]"
     ]
    },
    {
     "name": "stdout",
     "output_type": "stream",
     "text": [
      "1.2GHz\n"
     ]
    },
    {
     "name": "stderr",
     "output_type": "stream",
     "text": [
      " 36%|███▌      | 484/1341 [05:17<08:37,  1.65it/s]"
     ]
    },
    {
     "name": "stdout",
     "output_type": "stream",
     "text": [
      "15.6 inches\n"
     ]
    },
    {
     "name": "stderr",
     "output_type": "stream",
     "text": [
      " 36%|███▌      | 485/1341 [05:18<08:10,  1.75it/s]"
     ]
    },
    {
     "name": "stdout",
     "output_type": "stream",
     "text": [
      "Intel\n"
     ]
    },
    {
     "name": "stderr",
     "output_type": "stream",
     "text": [
      " 36%|███▌      | 486/1341 [05:19<08:40,  1.64it/s]"
     ]
    },
    {
     "name": "stdout",
     "output_type": "stream",
     "text": [
      "2.5GHz\n"
     ]
    },
    {
     "name": "stderr",
     "output_type": "stream",
     "text": [
      " 36%|███▋      | 487/1341 [05:19<08:33,  1.66it/s]"
     ]
    },
    {
     "name": "stdout",
     "output_type": "stream",
     "text": [
      "15.6 inches\n"
     ]
    },
    {
     "name": "stderr",
     "output_type": "stream",
     "text": [
      " 36%|███▋      | 488/1341 [05:21<12:13,  1.16it/s]"
     ]
    },
    {
     "name": "stdout",
     "output_type": "stream",
     "text": [
      "AMD\n"
     ]
    },
    {
     "name": "stderr",
     "output_type": "stream",
     "text": [
      " 36%|███▋      | 489/1341 [05:22<12:11,  1.17it/s]"
     ]
    },
    {
     "name": "stdout",
     "output_type": "stream",
     "text": [
      "2.8GHz\n"
     ]
    },
    {
     "name": "stderr",
     "output_type": "stream",
     "text": [
      " 37%|███▋      | 490/1341 [05:22<11:14,  1.26it/s]"
     ]
    },
    {
     "name": "stdout",
     "output_type": "stream",
     "text": [
      "15.6 inches\n"
     ]
    },
    {
     "name": "stderr",
     "output_type": "stream",
     "text": [
      " 37%|███▋      | 491/1341 [05:23<10:12,  1.39it/s]"
     ]
    },
    {
     "name": "stdout",
     "output_type": "stream",
     "text": [
      "Intel\n"
     ]
    },
    {
     "name": "stderr",
     "output_type": "stream",
     "text": [
      " 37%|███▋      | 492/1341 [05:24<12:51,  1.10it/s]"
     ]
    },
    {
     "name": "stdout",
     "output_type": "stream",
     "text": [
      "1.7GHz\n"
     ]
    },
    {
     "name": "stderr",
     "output_type": "stream",
     "text": [
      " 37%|███▋      | 493/1341 [05:25<12:31,  1.13it/s]"
     ]
    },
    {
     "name": "stdout",
     "output_type": "stream",
     "text": [
      "15.6 inches\n"
     ]
    },
    {
     "name": "stderr",
     "output_type": "stream",
     "text": [
      " 37%|███▋      | 494/1341 [05:25<10:51,  1.30it/s]"
     ]
    },
    {
     "name": "stdout",
     "output_type": "stream",
     "text": [
      "Intel\n"
     ]
    },
    {
     "name": "stderr",
     "output_type": "stream",
     "text": [
      " 37%|███▋      | 495/1341 [05:26<10:15,  1.37it/s]"
     ]
    },
    {
     "name": "stdout",
     "output_type": "stream",
     "text": [
      "1.2GHz\n"
     ]
    },
    {
     "name": "stderr",
     "output_type": "stream",
     "text": [
      " 37%|███▋      | 496/1341 [05:27<10:08,  1.39it/s]"
     ]
    },
    {
     "name": "stdout",
     "output_type": "stream",
     "text": [
      "15.6 inches\n"
     ]
    },
    {
     "name": "stderr",
     "output_type": "stream",
     "text": [
      " 37%|███▋      | 497/1341 [05:27<09:17,  1.51it/s]"
     ]
    },
    {
     "name": "stdout",
     "output_type": "stream",
     "text": [
      "Intel\n"
     ]
    },
    {
     "name": "stderr",
     "output_type": "stream",
     "text": [
      " 37%|███▋      | 498/1341 [05:28<09:44,  1.44it/s]"
     ]
    },
    {
     "name": "stdout",
     "output_type": "stream",
     "text": [
      "2.4GHz\n"
     ]
    },
    {
     "name": "stderr",
     "output_type": "stream",
     "text": [
      " 37%|███▋      | 499/1341 [05:29<09:38,  1.45it/s]"
     ]
    },
    {
     "name": "stdout",
     "output_type": "stream",
     "text": [
      "15.6 inches\n"
     ]
    },
    {
     "name": "stderr",
     "output_type": "stream",
     "text": [
      " 37%|███▋      | 500/1341 [05:30<10:09,  1.38it/s]"
     ]
    },
    {
     "name": "stdout",
     "output_type": "stream",
     "text": [
      "Intel\n"
     ]
    },
    {
     "name": "stderr",
     "output_type": "stream",
     "text": [
      " 37%|███▋      | 501/1341 [05:30<09:30,  1.47it/s]"
     ]
    },
    {
     "name": "stdout",
     "output_type": "stream",
     "text": [
      "1.7GHz\n"
     ]
    },
    {
     "name": "stderr",
     "output_type": "stream",
     "text": [
      " 37%|███▋      | 502/1341 [05:31<10:24,  1.34it/s]"
     ]
    },
    {
     "name": "stdout",
     "output_type": "stream",
     "text": [
      "14 inches\n"
     ]
    },
    {
     "name": "stderr",
     "output_type": "stream",
     "text": [
      " 38%|███▊      | 503/1341 [05:32<09:49,  1.42it/s]"
     ]
    },
    {
     "name": "stdout",
     "output_type": "stream",
     "text": [
      "Intel\n"
     ]
    },
    {
     "name": "stderr",
     "output_type": "stream",
     "text": [
      " 38%|███▊      | 504/1341 [05:32<09:06,  1.53it/s]"
     ]
    },
    {
     "name": "stdout",
     "output_type": "stream",
     "text": [
      "1.7GHz\n"
     ]
    },
    {
     "name": "stderr",
     "output_type": "stream",
     "text": [
      " 38%|███▊      | 505/1341 [05:33<08:40,  1.61it/s]"
     ]
    },
    {
     "name": "stdout",
     "output_type": "stream",
     "text": [
      "15.6 inches\n"
     ]
    },
    {
     "name": "stderr",
     "output_type": "stream",
     "text": [
      " 38%|███▊      | 506/1341 [05:34<12:41,  1.10it/s]"
     ]
    },
    {
     "name": "stdout",
     "output_type": "stream",
     "text": [
      "AMD\n"
     ]
    },
    {
     "name": "stderr",
     "output_type": "stream",
     "text": [
      " 38%|███▊      | 507/1341 [05:35<11:12,  1.24it/s]"
     ]
    },
    {
     "name": "stdout",
     "output_type": "stream",
     "text": [
      "3.3GHz\n"
     ]
    },
    {
     "name": "stderr",
     "output_type": "stream",
     "text": [
      " 38%|███▊      | 508/1341 [05:35<10:00,  1.39it/s]"
     ]
    },
    {
     "name": "stdout",
     "output_type": "stream",
     "text": [
      "14 inches\n"
     ]
    },
    {
     "name": "stderr",
     "output_type": "stream",
     "text": [
      " 38%|███▊      | 509/1341 [05:36<09:21,  1.48it/s]"
     ]
    },
    {
     "name": "stdout",
     "output_type": "stream",
     "text": [
      "Intel\n"
     ]
    },
    {
     "name": "stderr",
     "output_type": "stream",
     "text": [
      " 38%|███▊      | 510/1341 [05:37<09:19,  1.49it/s]"
     ]
    },
    {
     "name": "stdout",
     "output_type": "stream",
     "text": [
      "2.2GHz\n"
     ]
    },
    {
     "name": "stderr",
     "output_type": "stream",
     "text": [
      " 38%|███▊      | 511/1341 [05:37<09:01,  1.53it/s]"
     ]
    },
    {
     "name": "stdout",
     "output_type": "stream",
     "text": [
      "14 inches\n"
     ]
    },
    {
     "name": "stderr",
     "output_type": "stream",
     "text": [
      " 38%|███▊      | 512/1341 [05:38<08:42,  1.59it/s]"
     ]
    },
    {
     "name": "stdout",
     "output_type": "stream",
     "text": [
      "AMD\n"
     ]
    },
    {
     "name": "stderr",
     "output_type": "stream",
     "text": [
      " 38%|███▊      | 513/1341 [05:38<08:16,  1.67it/s]"
     ]
    },
    {
     "name": "stdout",
     "output_type": "stream",
     "text": [
      "2GHz\n"
     ]
    },
    {
     "name": "stderr",
     "output_type": "stream",
     "text": [
      " 38%|███▊      | 514/1341 [05:39<07:59,  1.72it/s]"
     ]
    },
    {
     "name": "stdout",
     "output_type": "stream",
     "text": [
      "14 inches\n"
     ]
    },
    {
     "name": "stderr",
     "output_type": "stream",
     "text": [
      " 38%|███▊      | 515/1341 [05:39<07:48,  1.76it/s]"
     ]
    },
    {
     "name": "stdout",
     "output_type": "stream",
     "text": [
      "Intel\n"
     ]
    },
    {
     "name": "stderr",
     "output_type": "stream",
     "text": [
      " 38%|███▊      | 516/1341 [05:40<07:45,  1.77it/s]"
     ]
    },
    {
     "name": "stdout",
     "output_type": "stream",
     "text": [
      "2.1GHz\n"
     ]
    },
    {
     "name": "stderr",
     "output_type": "stream",
     "text": [
      " 39%|███▊      | 517/1341 [05:41<08:28,  1.62it/s]"
     ]
    },
    {
     "name": "stdout",
     "output_type": "stream",
     "text": [
      "15.6 inches\n"
     ]
    },
    {
     "name": "stderr",
     "output_type": "stream",
     "text": [
      " 39%|███▊      | 518/1341 [05:41<07:49,  1.75it/s]"
     ]
    },
    {
     "name": "stdout",
     "output_type": "stream",
     "text": [
      "Intel\n"
     ]
    },
    {
     "name": "stderr",
     "output_type": "stream",
     "text": [
      " 39%|███▊      | 519/1341 [05:42<07:43,  1.77it/s]"
     ]
    },
    {
     "name": "stdout",
     "output_type": "stream",
     "text": [
      "3GHz\n"
     ]
    },
    {
     "name": "stderr",
     "output_type": "stream",
     "text": [
      " 39%|███▉      | 520/1341 [05:42<07:51,  1.74it/s]"
     ]
    },
    {
     "name": "stdout",
     "output_type": "stream",
     "text": [
      "14 inches\n"
     ]
    },
    {
     "name": "stderr",
     "output_type": "stream",
     "text": [
      " 39%|███▉      | 521/1341 [05:43<07:40,  1.78it/s]"
     ]
    },
    {
     "name": "stdout",
     "output_type": "stream",
     "text": [
      "Intel\n"
     ]
    },
    {
     "name": "stderr",
     "output_type": "stream",
     "text": [
      " 39%|███▉      | 522/1341 [05:43<07:39,  1.78it/s]"
     ]
    },
    {
     "name": "stdout",
     "output_type": "stream",
     "text": [
      "1.9GHz\n"
     ]
    },
    {
     "name": "stderr",
     "output_type": "stream",
     "text": [
      " 39%|███▉      | 523/1341 [05:44<07:39,  1.78it/s]"
     ]
    },
    {
     "name": "stdout",
     "output_type": "stream",
     "text": [
      "15.6 inches\n"
     ]
    },
    {
     "name": "stderr",
     "output_type": "stream",
     "text": [
      " 39%|███▉      | 524/1341 [05:44<07:07,  1.91it/s]"
     ]
    },
    {
     "name": "stdout",
     "output_type": "stream",
     "text": [
      "Intel\n"
     ]
    },
    {
     "name": "stderr",
     "output_type": "stream",
     "text": [
      " 39%|███▉      | 525/1341 [05:46<09:59,  1.36it/s]"
     ]
    },
    {
     "name": "stdout",
     "output_type": "stream",
     "text": [
      "1.2GHz\n"
     ]
    },
    {
     "name": "stderr",
     "output_type": "stream",
     "text": [
      " 39%|███▉      | 526/1341 [05:46<09:04,  1.50it/s]"
     ]
    },
    {
     "name": "stdout",
     "output_type": "stream",
     "text": [
      "15.6 inches\n"
     ]
    },
    {
     "name": "stderr",
     "output_type": "stream",
     "text": [
      " 39%|███▉      | 527/1341 [05:47<08:56,  1.52it/s]"
     ]
    },
    {
     "name": "stdout",
     "output_type": "stream",
     "text": [
      "Intel\n"
     ]
    },
    {
     "name": "stderr",
     "output_type": "stream",
     "text": [
      " 39%|███▉      | 528/1341 [05:47<08:27,  1.60it/s]"
     ]
    },
    {
     "name": "stdout",
     "output_type": "stream",
     "text": [
      "2.4GHz\n"
     ]
    },
    {
     "name": "stderr",
     "output_type": "stream",
     "text": [
      " 39%|███▉      | 529/1341 [05:48<08:07,  1.67it/s]"
     ]
    },
    {
     "name": "stdout",
     "output_type": "stream",
     "text": [
      "15.6 inches\n"
     ]
    },
    {
     "name": "stderr",
     "output_type": "stream",
     "text": [
      " 40%|███▉      | 530/1341 [05:48<08:07,  1.66it/s]"
     ]
    },
    {
     "name": "stdout",
     "output_type": "stream",
     "text": [
      "Intel\n"
     ]
    },
    {
     "name": "stderr",
     "output_type": "stream",
     "text": [
      " 40%|███▉      | 531/1341 [05:49<08:02,  1.68it/s]"
     ]
    },
    {
     "name": "stdout",
     "output_type": "stream",
     "text": [
      "I do not know.\n"
     ]
    },
    {
     "name": "stderr",
     "output_type": "stream",
     "text": [
      " 40%|███▉      | 532/1341 [05:50<07:59,  1.69it/s]"
     ]
    },
    {
     "name": "stdout",
     "output_type": "stream",
     "text": [
      "16 inches\n"
     ]
    },
    {
     "name": "stderr",
     "output_type": "stream",
     "text": [
      " 40%|███▉      | 533/1341 [05:51<11:04,  1.22it/s]"
     ]
    },
    {
     "name": "stdout",
     "output_type": "stream",
     "text": [
      "Intel\n"
     ]
    },
    {
     "name": "stderr",
     "output_type": "stream",
     "text": [
      " 40%|███▉      | 534/1341 [05:52<09:55,  1.36it/s]"
     ]
    },
    {
     "name": "stdout",
     "output_type": "stream",
     "text": [
      "2.6GHz\n"
     ]
    },
    {
     "name": "stderr",
     "output_type": "stream",
     "text": [
      " 40%|███▉      | 535/1341 [05:52<09:20,  1.44it/s]"
     ]
    },
    {
     "name": "stdout",
     "output_type": "stream",
     "text": [
      "15.6 inches\n"
     ]
    },
    {
     "name": "stderr",
     "output_type": "stream",
     "text": [
      " 40%|███▉      | 536/1341 [05:53<08:58,  1.49it/s]"
     ]
    },
    {
     "name": "stdout",
     "output_type": "stream",
     "text": [
      "Intel\n"
     ]
    },
    {
     "name": "stderr",
     "output_type": "stream",
     "text": [
      " 40%|████      | 537/1341 [05:53<08:22,  1.60it/s]"
     ]
    },
    {
     "name": "stdout",
     "output_type": "stream",
     "text": [
      "2.1GHz\n"
     ]
    },
    {
     "name": "stderr",
     "output_type": "stream",
     "text": [
      " 40%|████      | 538/1341 [05:54<08:36,  1.55it/s]"
     ]
    },
    {
     "name": "stdout",
     "output_type": "stream",
     "text": [
      "15.6 inches\n"
     ]
    },
    {
     "name": "stderr",
     "output_type": "stream",
     "text": [
      " 40%|████      | 539/1341 [05:54<07:59,  1.67it/s]"
     ]
    },
    {
     "name": "stdout",
     "output_type": "stream",
     "text": [
      "Intel\n"
     ]
    },
    {
     "name": "stderr",
     "output_type": "stream",
     "text": [
      " 40%|████      | 540/1341 [05:55<08:08,  1.64it/s]"
     ]
    },
    {
     "name": "stdout",
     "output_type": "stream",
     "text": [
      "1.3GHz\n"
     ]
    },
    {
     "name": "stderr",
     "output_type": "stream",
     "text": [
      " 40%|████      | 541/1341 [05:56<08:05,  1.65it/s]"
     ]
    },
    {
     "name": "stdout",
     "output_type": "stream",
     "text": [
      "15.6 inches\n"
     ]
    },
    {
     "name": "stderr",
     "output_type": "stream",
     "text": [
      " 40%|████      | 542/1341 [05:56<08:13,  1.62it/s]"
     ]
    },
    {
     "name": "stdout",
     "output_type": "stream",
     "text": [
      "Intel\n"
     ]
    },
    {
     "name": "stderr",
     "output_type": "stream",
     "text": [
      " 40%|████      | 543/1341 [05:57<08:10,  1.63it/s]"
     ]
    },
    {
     "name": "stdout",
     "output_type": "stream",
     "text": [
      "2.4GHz\n"
     ]
    },
    {
     "name": "stderr",
     "output_type": "stream",
     "text": [
      " 41%|████      | 544/1341 [05:58<07:59,  1.66it/s]"
     ]
    },
    {
     "name": "stdout",
     "output_type": "stream",
     "text": [
      "14 inches\n"
     ]
    },
    {
     "name": "stderr",
     "output_type": "stream",
     "text": [
      " 41%|████      | 545/1341 [05:58<07:34,  1.75it/s]"
     ]
    },
    {
     "name": "stdout",
     "output_type": "stream",
     "text": [
      "Intel\n"
     ]
    },
    {
     "name": "stderr",
     "output_type": "stream",
     "text": [
      " 41%|████      | 546/1341 [05:59<08:07,  1.63it/s]"
     ]
    },
    {
     "name": "stdout",
     "output_type": "stream",
     "text": [
      "2GHz\n"
     ]
    },
    {
     "name": "stderr",
     "output_type": "stream",
     "text": [
      " 41%|████      | 547/1341 [06:00<11:47,  1.12it/s]"
     ]
    },
    {
     "name": "stdout",
     "output_type": "stream",
     "text": [
      "15.6 inches\n"
     ]
    },
    {
     "name": "stderr",
     "output_type": "stream",
     "text": [
      " 41%|████      | 548/1341 [06:01<11:18,  1.17it/s]"
     ]
    },
    {
     "name": "stdout",
     "output_type": "stream",
     "text": [
      "Intel\n"
     ]
    },
    {
     "name": "stderr",
     "output_type": "stream",
     "text": [
      " 41%|████      | 549/1341 [06:02<10:14,  1.29it/s]"
     ]
    },
    {
     "name": "stdout",
     "output_type": "stream",
     "text": [
      "2.5GHz\n"
     ]
    },
    {
     "name": "stderr",
     "output_type": "stream",
     "text": [
      " 41%|████      | 550/1341 [06:02<09:42,  1.36it/s]"
     ]
    },
    {
     "name": "stdout",
     "output_type": "stream",
     "text": [
      "15.6 inches\n"
     ]
    },
    {
     "name": "stderr",
     "output_type": "stream",
     "text": [
      " 41%|████      | 551/1341 [06:03<09:01,  1.46it/s]"
     ]
    },
    {
     "name": "stdout",
     "output_type": "stream",
     "text": [
      "Intel\n"
     ]
    },
    {
     "name": "stderr",
     "output_type": "stream",
     "text": [
      " 41%|████      | 552/1341 [06:03<08:28,  1.55it/s]"
     ]
    },
    {
     "name": "stdout",
     "output_type": "stream",
     "text": [
      "1.3GHz\n"
     ]
    },
    {
     "name": "stderr",
     "output_type": "stream",
     "text": [
      " 41%|████      | 553/1341 [06:04<08:27,  1.55it/s]"
     ]
    },
    {
     "name": "stdout",
     "output_type": "stream",
     "text": [
      "14 inches\n"
     ]
    },
    {
     "name": "stderr",
     "output_type": "stream",
     "text": [
      " 41%|████▏     | 554/1341 [06:05<08:11,  1.60it/s]"
     ]
    },
    {
     "name": "stdout",
     "output_type": "stream",
     "text": [
      "Intel\n"
     ]
    },
    {
     "name": "stderr",
     "output_type": "stream",
     "text": [
      " 41%|████▏     | 555/1341 [06:05<07:57,  1.65it/s]"
     ]
    },
    {
     "name": "stdout",
     "output_type": "stream",
     "text": [
      "1.3GHz\n"
     ]
    },
    {
     "name": "stderr",
     "output_type": "stream",
     "text": [
      " 41%|████▏     | 556/1341 [06:06<07:44,  1.69it/s]"
     ]
    },
    {
     "name": "stdout",
     "output_type": "stream",
     "text": [
      "14 inches\n"
     ]
    },
    {
     "name": "stderr",
     "output_type": "stream",
     "text": [
      " 42%|████▏     | 557/1341 [06:06<07:25,  1.76it/s]"
     ]
    },
    {
     "name": "stdout",
     "output_type": "stream",
     "text": [
      "Intel\n"
     ]
    },
    {
     "name": "stderr",
     "output_type": "stream",
     "text": [
      " 42%|████▏     | 558/1341 [06:07<07:20,  1.78it/s]"
     ]
    },
    {
     "name": "stdout",
     "output_type": "stream",
     "text": [
      "1.2GHz\n"
     ]
    },
    {
     "name": "stderr",
     "output_type": "stream",
     "text": [
      " 42%|████▏     | 559/1341 [06:08<11:48,  1.10it/s]"
     ]
    },
    {
     "name": "stdout",
     "output_type": "stream",
     "text": [
      "15.6 inches\n"
     ]
    },
    {
     "name": "stderr",
     "output_type": "stream",
     "text": [
      " 42%|████▏     | 560/1341 [06:09<10:17,  1.26it/s]"
     ]
    },
    {
     "name": "stdout",
     "output_type": "stream",
     "text": [
      "Intel\n"
     ]
    },
    {
     "name": "stderr",
     "output_type": "stream",
     "text": [
      " 42%|████▏     | 561/1341 [06:10<09:51,  1.32it/s]"
     ]
    },
    {
     "name": "stdout",
     "output_type": "stream",
     "text": [
      "1.3GHz\n"
     ]
    },
    {
     "name": "stderr",
     "output_type": "stream",
     "text": [
      " 42%|████▏     | 562/1341 [06:10<09:06,  1.43it/s]"
     ]
    },
    {
     "name": "stdout",
     "output_type": "stream",
     "text": [
      "15.6 inches\n"
     ]
    },
    {
     "name": "stderr",
     "output_type": "stream",
     "text": [
      " 42%|████▏     | 563/1341 [06:11<08:52,  1.46it/s]"
     ]
    },
    {
     "name": "stdout",
     "output_type": "stream",
     "text": [
      "Intel\n"
     ]
    },
    {
     "name": "stderr",
     "output_type": "stream",
     "text": [
      " 42%|████▏     | 564/1341 [06:12<08:30,  1.52it/s]"
     ]
    },
    {
     "name": "stdout",
     "output_type": "stream",
     "text": [
      "1.3GHz\n"
     ]
    },
    {
     "name": "stderr",
     "output_type": "stream",
     "text": [
      " 42%|████▏     | 565/1341 [06:12<07:58,  1.62it/s]"
     ]
    },
    {
     "name": "stdout",
     "output_type": "stream",
     "text": [
      "15.6 inches\n"
     ]
    },
    {
     "name": "stderr",
     "output_type": "stream",
     "text": [
      " 42%|████▏     | 566/1341 [06:13<07:28,  1.73it/s]"
     ]
    },
    {
     "name": "stdout",
     "output_type": "stream",
     "text": [
      "Intel\n"
     ]
    },
    {
     "name": "stderr",
     "output_type": "stream",
     "text": [
      " 42%|████▏     | 567/1341 [06:13<07:39,  1.68it/s]"
     ]
    },
    {
     "name": "stdout",
     "output_type": "stream",
     "text": [
      "1.3GHz\n"
     ]
    },
    {
     "name": "stderr",
     "output_type": "stream",
     "text": [
      " 42%|████▏     | 568/1341 [06:14<07:26,  1.73it/s]"
     ]
    },
    {
     "name": "stdout",
     "output_type": "stream",
     "text": [
      "15.6 inches\n"
     ]
    },
    {
     "name": "stderr",
     "output_type": "stream",
     "text": [
      " 42%|████▏     | 569/1341 [06:14<07:23,  1.74it/s]"
     ]
    },
    {
     "name": "stdout",
     "output_type": "stream",
     "text": [
      "Intel\n"
     ]
    },
    {
     "name": "stderr",
     "output_type": "stream",
     "text": [
      " 43%|████▎     | 570/1341 [06:15<07:41,  1.67it/s]"
     ]
    },
    {
     "name": "stdout",
     "output_type": "stream",
     "text": [
      "1.2GHz\n"
     ]
    },
    {
     "name": "stderr",
     "output_type": "stream",
     "text": [
      " 43%|████▎     | 571/1341 [06:16<11:21,  1.13it/s]"
     ]
    },
    {
     "name": "stdout",
     "output_type": "stream",
     "text": [
      "15.6 inches\n"
     ]
    },
    {
     "name": "stderr",
     "output_type": "stream",
     "text": [
      " 43%|████▎     | 572/1341 [06:17<10:02,  1.28it/s]"
     ]
    },
    {
     "name": "stdout",
     "output_type": "stream",
     "text": [
      "Intel\n"
     ]
    },
    {
     "name": "stderr",
     "output_type": "stream",
     "text": [
      " 43%|████▎     | 573/1341 [06:18<09:21,  1.37it/s]"
     ]
    },
    {
     "name": "stdout",
     "output_type": "stream",
     "text": [
      "1.2GHz\n"
     ]
    },
    {
     "name": "stderr",
     "output_type": "stream",
     "text": [
      " 43%|████▎     | 574/1341 [06:18<09:30,  1.34it/s]"
     ]
    },
    {
     "name": "stdout",
     "output_type": "stream",
     "text": [
      "15.6 inches\n"
     ]
    },
    {
     "name": "stderr",
     "output_type": "stream",
     "text": [
      " 43%|████▎     | 575/1341 [06:19<08:34,  1.49it/s]"
     ]
    },
    {
     "name": "stdout",
     "output_type": "stream",
     "text": [
      "Intel\n"
     ]
    },
    {
     "name": "stderr",
     "output_type": "stream",
     "text": [
      " 43%|████▎     | 576/1341 [06:19<08:06,  1.57it/s]"
     ]
    },
    {
     "name": "stdout",
     "output_type": "stream",
     "text": [
      "1.2GHz\n"
     ]
    },
    {
     "name": "stderr",
     "output_type": "stream",
     "text": [
      " 43%|████▎     | 577/1341 [06:20<07:58,  1.60it/s]"
     ]
    },
    {
     "name": "stdout",
     "output_type": "stream",
     "text": [
      "15.6 inches\n"
     ]
    },
    {
     "name": "stderr",
     "output_type": "stream",
     "text": [
      " 43%|████▎     | 578/1341 [06:21<07:54,  1.61it/s]"
     ]
    },
    {
     "name": "stdout",
     "output_type": "stream",
     "text": [
      "Intel\n"
     ]
    },
    {
     "name": "stderr",
     "output_type": "stream",
     "text": [
      " 43%|████▎     | 579/1341 [06:21<07:30,  1.69it/s]"
     ]
    },
    {
     "name": "stdout",
     "output_type": "stream",
     "text": [
      "1.3GHz\n"
     ]
    },
    {
     "name": "stderr",
     "output_type": "stream",
     "text": [
      " 43%|████▎     | 580/1341 [06:22<08:01,  1.58it/s]"
     ]
    },
    {
     "name": "stdout",
     "output_type": "stream",
     "text": [
      "15.6 inches\n"
     ]
    },
    {
     "name": "stderr",
     "output_type": "stream",
     "text": [
      " 43%|████▎     | 581/1341 [06:22<07:39,  1.65it/s]"
     ]
    },
    {
     "name": "stdout",
     "output_type": "stream",
     "text": [
      "Intel\n"
     ]
    },
    {
     "name": "stderr",
     "output_type": "stream",
     "text": [
      " 43%|████▎     | 582/1341 [06:23<07:44,  1.63it/s]"
     ]
    },
    {
     "name": "stdout",
     "output_type": "stream",
     "text": [
      "1.7GHz\n"
     ]
    },
    {
     "name": "stderr",
     "output_type": "stream",
     "text": [
      " 43%|████▎     | 583/1341 [06:24<07:45,  1.63it/s]"
     ]
    },
    {
     "name": "stdout",
     "output_type": "stream",
     "text": [
      "15.6 inches\n"
     ]
    },
    {
     "name": "stderr",
     "output_type": "stream",
     "text": [
      " 44%|████▎     | 584/1341 [06:24<07:21,  1.71it/s]"
     ]
    },
    {
     "name": "stdout",
     "output_type": "stream",
     "text": [
      "Intel\n"
     ]
    },
    {
     "name": "stderr",
     "output_type": "stream",
     "text": [
      " 44%|████▎     | 585/1341 [06:25<07:40,  1.64it/s]"
     ]
    },
    {
     "name": "stdout",
     "output_type": "stream",
     "text": [
      "1.7GHz\n"
     ]
    },
    {
     "name": "stderr",
     "output_type": "stream",
     "text": [
      " 44%|████▎     | 586/1341 [06:25<07:21,  1.71it/s]"
     ]
    },
    {
     "name": "stdout",
     "output_type": "stream",
     "text": [
      "15.6 inches\n"
     ]
    },
    {
     "name": "stderr",
     "output_type": "stream",
     "text": [
      " 44%|████▍     | 587/1341 [06:26<07:22,  1.70it/s]"
     ]
    },
    {
     "name": "stdout",
     "output_type": "stream",
     "text": [
      "Intel\n"
     ]
    },
    {
     "name": "stderr",
     "output_type": "stream",
     "text": [
      " 44%|████▍     | 588/1341 [06:27<09:17,  1.35it/s]"
     ]
    },
    {
     "name": "stdout",
     "output_type": "stream",
     "text": [
      "1.2GHz\n"
     ]
    },
    {
     "name": "stderr",
     "output_type": "stream",
     "text": [
      " 44%|████▍     | 589/1341 [06:28<08:44,  1.43it/s]"
     ]
    },
    {
     "name": "stdout",
     "output_type": "stream",
     "text": [
      "15.6 inches\n"
     ]
    },
    {
     "name": "stderr",
     "output_type": "stream",
     "text": [
      " 44%|████▍     | 590/1341 [06:28<08:00,  1.56it/s]"
     ]
    },
    {
     "name": "stdout",
     "output_type": "stream",
     "text": [
      "Intel\n"
     ]
    },
    {
     "name": "stderr",
     "output_type": "stream",
     "text": [
      " 44%|████▍     | 591/1341 [06:29<09:06,  1.37it/s]"
     ]
    },
    {
     "name": "stdout",
     "output_type": "stream",
     "text": [
      "1.3GHz\n"
     ]
    },
    {
     "name": "stderr",
     "output_type": "stream",
     "text": [
      " 44%|████▍     | 592/1341 [06:30<08:18,  1.50it/s]"
     ]
    },
    {
     "name": "stdout",
     "output_type": "stream",
     "text": [
      "14 inches\n"
     ]
    },
    {
     "name": "stderr",
     "output_type": "stream",
     "text": [
      " 44%|████▍     | 593/1341 [06:30<07:43,  1.61it/s]"
     ]
    },
    {
     "name": "stdout",
     "output_type": "stream",
     "text": [
      "Intel\n"
     ]
    },
    {
     "name": "stderr",
     "output_type": "stream",
     "text": [
      " 44%|████▍     | 594/1341 [06:31<07:37,  1.63it/s]"
     ]
    },
    {
     "name": "stdout",
     "output_type": "stream",
     "text": [
      "1.3GHz\n"
     ]
    },
    {
     "name": "stderr",
     "output_type": "stream",
     "text": [
      " 44%|████▍     | 595/1341 [06:31<07:42,  1.61it/s]"
     ]
    },
    {
     "name": "stdout",
     "output_type": "stream",
     "text": [
      "15.6 inches\n"
     ]
    },
    {
     "name": "stderr",
     "output_type": "stream",
     "text": [
      " 44%|████▍     | 596/1341 [06:32<07:23,  1.68it/s]"
     ]
    },
    {
     "name": "stdout",
     "output_type": "stream",
     "text": [
      "Intel\n"
     ]
    },
    {
     "name": "stderr",
     "output_type": "stream",
     "text": [
      " 45%|████▍     | 597/1341 [06:33<07:31,  1.65it/s]"
     ]
    },
    {
     "name": "stdout",
     "output_type": "stream",
     "text": [
      "1.3GHz\n"
     ]
    },
    {
     "name": "stderr",
     "output_type": "stream",
     "text": [
      " 45%|████▍     | 598/1341 [06:33<07:31,  1.64it/s]"
     ]
    },
    {
     "name": "stdout",
     "output_type": "stream",
     "text": [
      "15.6 inches\n"
     ]
    },
    {
     "name": "stderr",
     "output_type": "stream",
     "text": [
      " 45%|████▍     | 599/1341 [06:35<10:18,  1.20it/s]"
     ]
    },
    {
     "name": "stdout",
     "output_type": "stream",
     "text": [
      "Intel\n"
     ]
    },
    {
     "name": "stderr",
     "output_type": "stream",
     "text": [
      " 45%|████▍     | 600/1341 [06:35<09:47,  1.26it/s]"
     ]
    },
    {
     "name": "stdout",
     "output_type": "stream",
     "text": [
      "1.3GHz\n"
     ]
    },
    {
     "name": "stderr",
     "output_type": "stream",
     "text": [
      " 45%|████▍     | 601/1341 [06:36<08:54,  1.39it/s]"
     ]
    },
    {
     "name": "stdout",
     "output_type": "stream",
     "text": [
      "14 inches\n"
     ]
    },
    {
     "name": "stderr",
     "output_type": "stream",
     "text": [
      " 45%|████▍     | 602/1341 [06:36<07:54,  1.56it/s]"
     ]
    },
    {
     "name": "stdout",
     "output_type": "stream",
     "text": [
      "Intel\n"
     ]
    },
    {
     "name": "stderr",
     "output_type": "stream",
     "text": [
      " 45%|████▍     | 603/1341 [06:37<07:47,  1.58it/s]"
     ]
    },
    {
     "name": "stdout",
     "output_type": "stream",
     "text": [
      "1.7GHz\n"
     ]
    },
    {
     "name": "stderr",
     "output_type": "stream",
     "text": [
      " 45%|████▌     | 604/1341 [06:37<07:23,  1.66it/s]"
     ]
    },
    {
     "name": "stdout",
     "output_type": "stream",
     "text": [
      "15.6 inches\n"
     ]
    },
    {
     "name": "stderr",
     "output_type": "stream",
     "text": [
      " 45%|████▌     | 605/1341 [06:38<07:45,  1.58it/s]"
     ]
    },
    {
     "name": "stdout",
     "output_type": "stream",
     "text": [
      "Intel\n"
     ]
    },
    {
     "name": "stderr",
     "output_type": "stream",
     "text": [
      " 45%|████▌     | 606/1341 [06:39<07:49,  1.56it/s]"
     ]
    },
    {
     "name": "stdout",
     "output_type": "stream",
     "text": [
      "1.3GHz\n"
     ]
    },
    {
     "name": "stderr",
     "output_type": "stream",
     "text": [
      " 45%|████▌     | 607/1341 [06:39<07:39,  1.60it/s]"
     ]
    },
    {
     "name": "stdout",
     "output_type": "stream",
     "text": [
      "14 inches\n"
     ]
    },
    {
     "name": "stderr",
     "output_type": "stream",
     "text": [
      " 45%|████▌     | 608/1341 [06:40<07:47,  1.57it/s]"
     ]
    },
    {
     "name": "stdout",
     "output_type": "stream",
     "text": [
      "Intel\n"
     ]
    },
    {
     "name": "stderr",
     "output_type": "stream",
     "text": [
      " 45%|████▌     | 609/1341 [06:41<07:40,  1.59it/s]"
     ]
    },
    {
     "name": "stdout",
     "output_type": "stream",
     "text": [
      "1.3GHz\n"
     ]
    },
    {
     "name": "stderr",
     "output_type": "stream",
     "text": [
      " 45%|████▌     | 610/1341 [06:41<07:17,  1.67it/s]"
     ]
    },
    {
     "name": "stdout",
     "output_type": "stream",
     "text": [
      "16 inches\n"
     ]
    },
    {
     "name": "stderr",
     "output_type": "stream",
     "text": [
      " 46%|████▌     | 611/1341 [06:42<07:37,  1.60it/s]"
     ]
    },
    {
     "name": "stdout",
     "output_type": "stream",
     "text": [
      "Intel\n"
     ]
    },
    {
     "name": "stderr",
     "output_type": "stream",
     "text": [
      " 46%|████▌     | 612/1341 [06:42<07:20,  1.66it/s]"
     ]
    },
    {
     "name": "stdout",
     "output_type": "stream",
     "text": [
      "2.6GHz\n"
     ]
    },
    {
     "name": "stderr",
     "output_type": "stream",
     "text": [
      " 46%|████▌     | 613/1341 [06:43<08:11,  1.48it/s]"
     ]
    },
    {
     "name": "stdout",
     "output_type": "stream",
     "text": [
      "16 inches\n"
     ]
    },
    {
     "name": "stderr",
     "output_type": "stream",
     "text": [
      " 46%|████▌     | 614/1341 [06:44<08:28,  1.43it/s]"
     ]
    },
    {
     "name": "stdout",
     "output_type": "stream",
     "text": [
      "Intel Core i9\n"
     ]
    },
    {
     "name": "stderr",
     "output_type": "stream",
     "text": [
      " 46%|████▌     | 615/1341 [06:45<08:02,  1.51it/s]"
     ]
    },
    {
     "name": "stdout",
     "output_type": "stream",
     "text": [
      "2.2GHz\n"
     ]
    },
    {
     "name": "stderr",
     "output_type": "stream",
     "text": [
      " 46%|████▌     | 616/1341 [06:45<07:34,  1.59it/s]"
     ]
    },
    {
     "name": "stdout",
     "output_type": "stream",
     "text": [
      "16 inches\n"
     ]
    },
    {
     "name": "stderr",
     "output_type": "stream",
     "text": [
      " 46%|████▌     | 617/1341 [06:46<07:30,  1.61it/s]"
     ]
    },
    {
     "name": "stdout",
     "output_type": "stream",
     "text": [
      "Intel\n"
     ]
    },
    {
     "name": "stderr",
     "output_type": "stream",
     "text": [
      " 46%|████▌     | 618/1341 [06:46<07:33,  1.60it/s]"
     ]
    },
    {
     "name": "stdout",
     "output_type": "stream",
     "text": [
      "2.1GHz\n"
     ]
    },
    {
     "name": "stderr",
     "output_type": "stream",
     "text": [
      " 46%|████▌     | 619/1341 [06:47<07:24,  1.63it/s]"
     ]
    },
    {
     "name": "stdout",
     "output_type": "stream",
     "text": [
      "15.6 inches\n"
     ]
    },
    {
     "name": "stderr",
     "output_type": "stream",
     "text": [
      " 46%|████▌     | 620/1341 [06:48<07:25,  1.62it/s]"
     ]
    },
    {
     "name": "stdout",
     "output_type": "stream",
     "text": [
      "Intel\n"
     ]
    },
    {
     "name": "stderr",
     "output_type": "stream",
     "text": [
      " 46%|████▋     | 621/1341 [06:48<07:29,  1.60it/s]"
     ]
    },
    {
     "name": "stdout",
     "output_type": "stream",
     "text": [
      "2.5GHz\n"
     ]
    },
    {
     "name": "stderr",
     "output_type": "stream",
     "text": [
      " 46%|████▋     | 622/1341 [06:49<07:10,  1.67it/s]"
     ]
    },
    {
     "name": "stdout",
     "output_type": "stream",
     "text": [
      "15.6 inches\n"
     ]
    },
    {
     "name": "stderr",
     "output_type": "stream",
     "text": [
      " 46%|████▋     | 623/1341 [06:51<14:12,  1.19s/it]"
     ]
    },
    {
     "name": "stdout",
     "output_type": "stream",
     "text": [
      "Intel\n"
     ]
    },
    {
     "name": "stderr",
     "output_type": "stream",
     "text": [
      " 47%|████▋     | 624/1341 [06:52<12:05,  1.01s/it]"
     ]
    },
    {
     "name": "stdout",
     "output_type": "stream",
     "text": [
      "2.5GHz\n"
     ]
    },
    {
     "name": "stderr",
     "output_type": "stream",
     "text": [
      " 47%|████▋     | 625/1341 [06:52<10:21,  1.15it/s]"
     ]
    },
    {
     "name": "stdout",
     "output_type": "stream",
     "text": [
      "14 inches\n"
     ]
    },
    {
     "name": "stderr",
     "output_type": "stream",
     "text": [
      " 47%|████▋     | 626/1341 [06:54<14:16,  1.20s/it]"
     ]
    },
    {
     "name": "stdout",
     "output_type": "stream",
     "text": [
      "Intel\n"
     ]
    },
    {
     "name": "stderr",
     "output_type": "stream",
     "text": [
      " 47%|████▋     | 627/1341 [06:55<12:10,  1.02s/it]"
     ]
    },
    {
     "name": "stdout",
     "output_type": "stream",
     "text": [
      "2.4GHz\n"
     ]
    },
    {
     "name": "stderr",
     "output_type": "stream",
     "text": [
      " 47%|████▋     | 628/1341 [06:55<10:10,  1.17it/s]"
     ]
    },
    {
     "name": "stdout",
     "output_type": "stream",
     "text": [
      "15.6 inches\n"
     ]
    },
    {
     "name": "stderr",
     "output_type": "stream",
     "text": [
      " 47%|████▋     | 629/1341 [06:56<09:05,  1.31it/s]"
     ]
    },
    {
     "name": "stdout",
     "output_type": "stream",
     "text": [
      "Intel\n"
     ]
    },
    {
     "name": "stderr",
     "output_type": "stream",
     "text": [
      " 47%|████▋     | 630/1341 [06:57<08:00,  1.48it/s]"
     ]
    },
    {
     "name": "stdout",
     "output_type": "stream",
     "text": [
      "2.6GHz\n"
     ]
    },
    {
     "name": "stderr",
     "output_type": "stream",
     "text": [
      " 47%|████▋     | 631/1341 [06:57<07:58,  1.48it/s]"
     ]
    },
    {
     "name": "stdout",
     "output_type": "stream",
     "text": [
      "14 inches\n"
     ]
    },
    {
     "name": "stderr",
     "output_type": "stream",
     "text": [
      " 47%|████▋     | 632/1341 [06:58<07:52,  1.50it/s]"
     ]
    },
    {
     "name": "stdout",
     "output_type": "stream",
     "text": [
      "Intel\n"
     ]
    },
    {
     "name": "stderr",
     "output_type": "stream",
     "text": [
      " 47%|████▋     | 633/1341 [06:58<07:40,  1.54it/s]"
     ]
    },
    {
     "name": "stdout",
     "output_type": "stream",
     "text": [
      "2.2GHz\n"
     ]
    },
    {
     "name": "stderr",
     "output_type": "stream",
     "text": [
      " 47%|████▋     | 634/1341 [06:59<07:26,  1.58it/s]"
     ]
    },
    {
     "name": "stdout",
     "output_type": "stream",
     "text": [
      "14 inches\n"
     ]
    },
    {
     "name": "stderr",
     "output_type": "stream",
     "text": [
      " 47%|████▋     | 635/1341 [07:00<07:03,  1.67it/s]"
     ]
    },
    {
     "name": "stdout",
     "output_type": "stream",
     "text": [
      "Intel\n"
     ]
    },
    {
     "name": "stderr",
     "output_type": "stream",
     "text": [
      " 47%|████▋     | 636/1341 [07:00<06:57,  1.69it/s]"
     ]
    },
    {
     "name": "stdout",
     "output_type": "stream",
     "text": [
      "1.9GHz\n"
     ]
    },
    {
     "name": "stderr",
     "output_type": "stream",
     "text": [
      " 48%|████▊     | 637/1341 [07:01<06:48,  1.73it/s]"
     ]
    },
    {
     "name": "stdout",
     "output_type": "stream",
     "text": [
      "16 inches\n"
     ]
    },
    {
     "name": "stderr",
     "output_type": "stream",
     "text": [
      " 48%|████▊     | 638/1341 [07:01<06:27,  1.81it/s]"
     ]
    },
    {
     "name": "stdout",
     "output_type": "stream",
     "text": [
      "Intel\n"
     ]
    },
    {
     "name": "stderr",
     "output_type": "stream",
     "text": [
      " 48%|████▊     | 639/1341 [07:02<09:04,  1.29it/s]"
     ]
    },
    {
     "name": "stdout",
     "output_type": "stream",
     "text": [
      "1.3GHz\n"
     ]
    },
    {
     "name": "stderr",
     "output_type": "stream",
     "text": [
      " 48%|████▊     | 640/1341 [07:03<08:40,  1.35it/s]"
     ]
    },
    {
     "name": "stdout",
     "output_type": "stream",
     "text": [
      "14 inches\n"
     ]
    },
    {
     "name": "stderr",
     "output_type": "stream",
     "text": [
      " 48%|████▊     | 641/1341 [07:04<08:54,  1.31it/s]"
     ]
    },
    {
     "name": "stdout",
     "output_type": "stream",
     "text": [
      "Intel\n"
     ]
    },
    {
     "name": "stderr",
     "output_type": "stream",
     "text": [
      " 48%|████▊     | 642/1341 [07:04<08:05,  1.44it/s]"
     ]
    },
    {
     "name": "stdout",
     "output_type": "stream",
     "text": [
      "1.3GHz\n"
     ]
    },
    {
     "name": "stderr",
     "output_type": "stream",
     "text": [
      " 48%|████▊     | 643/1341 [07:05<07:43,  1.50it/s]"
     ]
    },
    {
     "name": "stdout",
     "output_type": "stream",
     "text": [
      "15.6 inches\n"
     ]
    },
    {
     "name": "stderr",
     "output_type": "stream",
     "text": [
      " 48%|████▊     | 644/1341 [07:06<07:22,  1.57it/s]"
     ]
    },
    {
     "name": "stdout",
     "output_type": "stream",
     "text": [
      "Intel\n"
     ]
    },
    {
     "name": "stderr",
     "output_type": "stream",
     "text": [
      " 48%|████▊     | 645/1341 [07:06<07:06,  1.63it/s]"
     ]
    },
    {
     "name": "stdout",
     "output_type": "stream",
     "text": [
      "1.3GHz\n"
     ]
    },
    {
     "name": "stderr",
     "output_type": "stream",
     "text": [
      " 48%|████▊     | 646/1341 [07:07<06:55,  1.67it/s]"
     ]
    },
    {
     "name": "stdout",
     "output_type": "stream",
     "text": [
      "15.6 inches\n"
     ]
    },
    {
     "name": "stderr",
     "output_type": "stream",
     "text": [
      " 48%|████▊     | 647/1341 [07:07<06:39,  1.74it/s]"
     ]
    },
    {
     "name": "stdout",
     "output_type": "stream",
     "text": [
      "Intel\n"
     ]
    },
    {
     "name": "stderr",
     "output_type": "stream",
     "text": [
      " 48%|████▊     | 648/1341 [07:08<06:37,  1.74it/s]"
     ]
    },
    {
     "name": "stdout",
     "output_type": "stream",
     "text": [
      "1.3GHz\n"
     ]
    },
    {
     "name": "stderr",
     "output_type": "stream",
     "text": [
      " 48%|████▊     | 649/1341 [07:08<06:27,  1.79it/s]"
     ]
    },
    {
     "name": "stdout",
     "output_type": "stream",
     "text": [
      "15.6 inches\n"
     ]
    },
    {
     "name": "stderr",
     "output_type": "stream",
     "text": [
      " 48%|████▊     | 650/1341 [07:09<06:41,  1.72it/s]"
     ]
    },
    {
     "name": "stdout",
     "output_type": "stream",
     "text": [
      "Intel\n"
     ]
    },
    {
     "name": "stderr",
     "output_type": "stream",
     "text": [
      " 49%|████▊     | 651/1341 [07:10<06:37,  1.74it/s]"
     ]
    },
    {
     "name": "stdout",
     "output_type": "stream",
     "text": [
      "1.6GHz\n"
     ]
    },
    {
     "name": "stderr",
     "output_type": "stream",
     "text": [
      " 49%|████▊     | 652/1341 [07:10<06:25,  1.79it/s]"
     ]
    },
    {
     "name": "stdout",
     "output_type": "stream",
     "text": [
      "14 inches\n"
     ]
    },
    {
     "name": "stderr",
     "output_type": "stream",
     "text": [
      " 49%|████▊     | 653/1341 [07:11<06:17,  1.82it/s]"
     ]
    },
    {
     "name": "stdout",
     "output_type": "stream",
     "text": [
      "Intel\n"
     ]
    },
    {
     "name": "stderr",
     "output_type": "stream",
     "text": [
      " 49%|████▉     | 654/1341 [07:11<06:08,  1.86it/s]"
     ]
    },
    {
     "name": "stdout",
     "output_type": "stream",
     "text": [
      "3GHz\n"
     ]
    },
    {
     "name": "stderr",
     "output_type": "stream",
     "text": [
      " 49%|████▉     | 655/1341 [07:12<06:05,  1.88it/s]"
     ]
    },
    {
     "name": "stdout",
     "output_type": "stream",
     "text": [
      "15.6 inches\n"
     ]
    },
    {
     "name": "stderr",
     "output_type": "stream",
     "text": [
      " 49%|████▉     | 656/1341 [07:12<05:57,  1.92it/s]"
     ]
    },
    {
     "name": "stdout",
     "output_type": "stream",
     "text": [
      "Intel\n"
     ]
    },
    {
     "name": "stderr",
     "output_type": "stream",
     "text": [
      " 49%|████▉     | 657/1341 [07:13<06:06,  1.87it/s]"
     ]
    },
    {
     "name": "stdout",
     "output_type": "stream",
     "text": [
      "2GHz\n"
     ]
    },
    {
     "name": "stderr",
     "output_type": "stream",
     "text": [
      " 49%|████▉     | 658/1341 [07:13<06:27,  1.76it/s]"
     ]
    },
    {
     "name": "stdout",
     "output_type": "stream",
     "text": [
      "15.6 inches\n"
     ]
    },
    {
     "name": "stderr",
     "output_type": "stream",
     "text": [
      " 49%|████▉     | 659/1341 [07:14<06:51,  1.66it/s]"
     ]
    },
    {
     "name": "stdout",
     "output_type": "stream",
     "text": [
      "Intel\n"
     ]
    },
    {
     "name": "stderr",
     "output_type": "stream",
     "text": [
      " 49%|████▉     | 660/1341 [07:15<07:58,  1.42it/s]"
     ]
    },
    {
     "name": "stdout",
     "output_type": "stream",
     "text": [
      "2GHz\n"
     ]
    },
    {
     "name": "stderr",
     "output_type": "stream",
     "text": [
      " 49%|████▉     | 661/1341 [07:16<08:04,  1.40it/s]"
     ]
    },
    {
     "name": "stdout",
     "output_type": "stream",
     "text": [
      "15.6 inches\n"
     ]
    },
    {
     "name": "stderr",
     "output_type": "stream",
     "text": [
      " 49%|████▉     | 662/1341 [07:16<07:17,  1.55it/s]"
     ]
    },
    {
     "name": "stdout",
     "output_type": "stream",
     "text": [
      "Intel\n"
     ]
    },
    {
     "name": "stderr",
     "output_type": "stream",
     "text": [
      " 49%|████▉     | 663/1341 [07:17<07:20,  1.54it/s]"
     ]
    },
    {
     "name": "stdout",
     "output_type": "stream",
     "text": [
      "1.3GHz\n"
     ]
    },
    {
     "name": "stderr",
     "output_type": "stream",
     "text": [
      " 50%|████▉     | 664/1341 [07:17<06:59,  1.61it/s]"
     ]
    },
    {
     "name": "stdout",
     "output_type": "stream",
     "text": [
      "15.6 inches\n"
     ]
    },
    {
     "name": "stderr",
     "output_type": "stream",
     "text": [
      " 50%|████▉     | 665/1341 [07:18<06:52,  1.64it/s]"
     ]
    },
    {
     "name": "stdout",
     "output_type": "stream",
     "text": [
      "Intel\n"
     ]
    },
    {
     "name": "stderr",
     "output_type": "stream",
     "text": [
      " 50%|████▉     | 666/1341 [07:19<07:56,  1.42it/s]"
     ]
    },
    {
     "name": "stdout",
     "output_type": "stream",
     "text": [
      "2GHz\n"
     ]
    },
    {
     "name": "stderr",
     "output_type": "stream",
     "text": [
      " 50%|████▉     | 667/1341 [07:20<07:33,  1.49it/s]"
     ]
    },
    {
     "name": "stdout",
     "output_type": "stream",
     "text": [
      "15.6 inches\n"
     ]
    },
    {
     "name": "stderr",
     "output_type": "stream",
     "text": [
      " 50%|████▉     | 668/1341 [07:20<07:17,  1.54it/s]"
     ]
    },
    {
     "name": "stdout",
     "output_type": "stream",
     "text": [
      "AMD\n"
     ]
    },
    {
     "name": "stderr",
     "output_type": "stream",
     "text": [
      " 50%|████▉     | 669/1341 [07:21<07:11,  1.56it/s]"
     ]
    },
    {
     "name": "stdout",
     "output_type": "stream",
     "text": [
      "3.3GHz\n"
     ]
    },
    {
     "name": "stderr",
     "output_type": "stream",
     "text": [
      " 50%|████▉     | 670/1341 [07:21<06:43,  1.66it/s]"
     ]
    },
    {
     "name": "stdout",
     "output_type": "stream",
     "text": [
      "15.6 inches\n"
     ]
    },
    {
     "name": "stderr",
     "output_type": "stream",
     "text": [
      " 50%|█████     | 671/1341 [07:22<07:11,  1.55it/s]"
     ]
    },
    {
     "name": "stdout",
     "output_type": "stream",
     "text": [
      "Intel\n"
     ]
    },
    {
     "name": "stderr",
     "output_type": "stream",
     "text": [
      " 50%|█████     | 672/1341 [07:23<07:08,  1.56it/s]"
     ]
    },
    {
     "name": "stdout",
     "output_type": "stream",
     "text": [
      "2.30 GHz\n"
     ]
    },
    {
     "name": "stderr",
     "output_type": "stream",
     "text": [
      " 50%|█████     | 673/1341 [07:23<07:03,  1.58it/s]"
     ]
    },
    {
     "name": "stdout",
     "output_type": "stream",
     "text": [
      "15.6 inches\n"
     ]
    },
    {
     "name": "stderr",
     "output_type": "stream",
     "text": [
      " 50%|█████     | 674/1341 [07:24<06:42,  1.66it/s]"
     ]
    },
    {
     "name": "stdout",
     "output_type": "stream",
     "text": [
      "Intel\n"
     ]
    },
    {
     "name": "stderr",
     "output_type": "stream",
     "text": [
      " 50%|█████     | 675/1341 [07:24<06:31,  1.70it/s]"
     ]
    },
    {
     "name": "stdout",
     "output_type": "stream",
     "text": [
      "2GHz\n"
     ]
    },
    {
     "name": "stderr",
     "output_type": "stream",
     "text": [
      " 50%|█████     | 676/1341 [07:25<06:27,  1.72it/s]"
     ]
    },
    {
     "name": "stdout",
     "output_type": "stream",
     "text": [
      "15.6 inches\n"
     ]
    },
    {
     "name": "stderr",
     "output_type": "stream",
     "text": [
      " 50%|█████     | 677/1341 [07:26<06:41,  1.65it/s]"
     ]
    },
    {
     "name": "stdout",
     "output_type": "stream",
     "text": [
      "Intel\n"
     ]
    },
    {
     "name": "stderr",
     "output_type": "stream",
     "text": [
      " 51%|█████     | 678/1341 [07:26<06:25,  1.72it/s]"
     ]
    },
    {
     "name": "stdout",
     "output_type": "stream",
     "text": [
      "2GHz\n"
     ]
    },
    {
     "name": "stderr",
     "output_type": "stream",
     "text": [
      " 51%|█████     | 679/1341 [07:27<06:35,  1.67it/s]"
     ]
    },
    {
     "name": "stdout",
     "output_type": "stream",
     "text": [
      "15.6 inches\n"
     ]
    },
    {
     "name": "stderr",
     "output_type": "stream",
     "text": [
      " 51%|█████     | 680/1341 [07:27<06:18,  1.74it/s]"
     ]
    },
    {
     "name": "stdout",
     "output_type": "stream",
     "text": [
      "Intel\n"
     ]
    },
    {
     "name": "stderr",
     "output_type": "stream",
     "text": [
      " 51%|█████     | 681/1341 [07:28<06:06,  1.80it/s]"
     ]
    },
    {
     "name": "stdout",
     "output_type": "stream",
     "text": [
      "1.3GHz\n"
     ]
    },
    {
     "name": "stderr",
     "output_type": "stream",
     "text": [
      " 51%|█████     | 682/1341 [07:28<05:59,  1.84it/s]"
     ]
    },
    {
     "name": "stdout",
     "output_type": "stream",
     "text": [
      "14 inches\n"
     ]
    },
    {
     "name": "stderr",
     "output_type": "stream",
     "text": [
      " 51%|█████     | 683/1341 [07:29<05:49,  1.88it/s]"
     ]
    },
    {
     "name": "stdout",
     "output_type": "stream",
     "text": [
      "Intel\n"
     ]
    },
    {
     "name": "stderr",
     "output_type": "stream",
     "text": [
      " 51%|█████     | 684/1341 [07:29<05:55,  1.85it/s]"
     ]
    },
    {
     "name": "stdout",
     "output_type": "stream",
     "text": [
      "2GHz\n"
     ]
    },
    {
     "name": "stderr",
     "output_type": "stream",
     "text": [
      " 51%|█████     | 685/1341 [07:30<05:54,  1.85it/s]"
     ]
    },
    {
     "name": "stdout",
     "output_type": "stream",
     "text": [
      "15.6 inches\n"
     ]
    },
    {
     "name": "stderr",
     "output_type": "stream",
     "text": [
      " 51%|█████     | 686/1341 [07:30<05:44,  1.90it/s]"
     ]
    },
    {
     "name": "stdout",
     "output_type": "stream",
     "text": [
      "Intel\n"
     ]
    },
    {
     "name": "stderr",
     "output_type": "stream",
     "text": [
      " 51%|█████     | 687/1341 [07:31<06:06,  1.79it/s]"
     ]
    },
    {
     "name": "stdout",
     "output_type": "stream",
     "text": [
      "2.30 GHz\n"
     ]
    },
    {
     "name": "stderr",
     "output_type": "stream",
     "text": [
      " 51%|█████▏    | 688/1341 [07:31<05:49,  1.87it/s]"
     ]
    },
    {
     "name": "stdout",
     "output_type": "stream",
     "text": [
      "15.6 inches\n"
     ]
    },
    {
     "name": "stderr",
     "output_type": "stream",
     "text": [
      " 51%|█████▏    | 689/1341 [07:32<05:43,  1.90it/s]"
     ]
    },
    {
     "name": "stdout",
     "output_type": "stream",
     "text": [
      "Intel\n"
     ]
    },
    {
     "name": "stderr",
     "output_type": "stream",
     "text": [
      " 51%|█████▏    | 690/1341 [07:33<05:52,  1.85it/s]"
     ]
    },
    {
     "name": "stdout",
     "output_type": "stream",
     "text": [
      "2.7GHz\n"
     ]
    },
    {
     "name": "stderr",
     "output_type": "stream",
     "text": [
      " 52%|█████▏    | 691/1341 [07:33<06:00,  1.80it/s]"
     ]
    },
    {
     "name": "stdout",
     "output_type": "stream",
     "text": [
      "15.6 inches\n"
     ]
    },
    {
     "name": "stderr",
     "output_type": "stream",
     "text": [
      " 52%|█████▏    | 692/1341 [07:34<06:04,  1.78it/s]"
     ]
    },
    {
     "name": "stdout",
     "output_type": "stream",
     "text": [
      "AMD\n"
     ]
    },
    {
     "name": "stderr",
     "output_type": "stream",
     "text": [
      " 52%|█████▏    | 693/1341 [07:34<06:02,  1.79it/s]"
     ]
    },
    {
     "name": "stdout",
     "output_type": "stream",
     "text": [
      "3.3GHz\n"
     ]
    },
    {
     "name": "stderr",
     "output_type": "stream",
     "text": [
      " 52%|█████▏    | 694/1341 [07:35<06:29,  1.66it/s]"
     ]
    },
    {
     "name": "stdout",
     "output_type": "stream",
     "text": [
      "15.6 inches\n"
     ]
    },
    {
     "name": "stderr",
     "output_type": "stream",
     "text": [
      " 52%|█████▏    | 695/1341 [07:36<06:18,  1.71it/s]"
     ]
    },
    {
     "name": "stdout",
     "output_type": "stream",
     "text": [
      "Intel\n"
     ]
    },
    {
     "name": "stderr",
     "output_type": "stream",
     "text": [
      " 52%|█████▏    | 696/1341 [07:36<06:12,  1.73it/s]"
     ]
    },
    {
     "name": "stdout",
     "output_type": "stream",
     "text": [
      "1.7GHz\n"
     ]
    },
    {
     "name": "stderr",
     "output_type": "stream",
     "text": [
      " 52%|█████▏    | 697/1341 [07:37<06:14,  1.72it/s]"
     ]
    },
    {
     "name": "stdout",
     "output_type": "stream",
     "text": [
      "15.6 inches\n"
     ]
    },
    {
     "name": "stderr",
     "output_type": "stream",
     "text": [
      " 52%|█████▏    | 698/1341 [07:37<05:54,  1.81it/s]"
     ]
    },
    {
     "name": "stdout",
     "output_type": "stream",
     "text": [
      "Intel\n"
     ]
    },
    {
     "name": "stderr",
     "output_type": "stream",
     "text": [
      " 52%|█████▏    | 699/1341 [07:38<06:13,  1.72it/s]"
     ]
    },
    {
     "name": "stdout",
     "output_type": "stream",
     "text": [
      "1.3GHz\n"
     ]
    },
    {
     "name": "stderr",
     "output_type": "stream",
     "text": [
      " 52%|█████▏    | 700/1341 [07:40<10:03,  1.06it/s]"
     ]
    },
    {
     "name": "stdout",
     "output_type": "stream",
     "text": [
      "15.6 inches\n"
     ]
    },
    {
     "name": "stderr",
     "output_type": "stream",
     "text": [
      " 52%|█████▏    | 701/1341 [07:40<08:33,  1.25it/s]"
     ]
    },
    {
     "name": "stdout",
     "output_type": "stream",
     "text": [
      "Intel\n"
     ]
    },
    {
     "name": "stderr",
     "output_type": "stream",
     "text": [
      " 52%|█████▏    | 702/1341 [07:41<08:05,  1.32it/s]"
     ]
    },
    {
     "name": "stdout",
     "output_type": "stream",
     "text": [
      "2.7GHz\n"
     ]
    },
    {
     "name": "stderr",
     "output_type": "stream",
     "text": [
      " 52%|█████▏    | 703/1341 [07:41<07:08,  1.49it/s]"
     ]
    },
    {
     "name": "stdout",
     "output_type": "stream",
     "text": [
      "15.6 inches\n"
     ]
    },
    {
     "name": "stderr",
     "output_type": "stream",
     "text": [
      " 52%|█████▏    | 704/1341 [07:42<07:17,  1.46it/s]"
     ]
    },
    {
     "name": "stdout",
     "output_type": "stream",
     "text": [
      "Intel\n"
     ]
    },
    {
     "name": "stderr",
     "output_type": "stream",
     "text": [
      " 53%|█████▎    | 705/1341 [07:43<07:04,  1.50it/s]"
     ]
    },
    {
     "name": "stdout",
     "output_type": "stream",
     "text": [
      "2GHz\n"
     ]
    },
    {
     "name": "stderr",
     "output_type": "stream",
     "text": [
      " 53%|█████▎    | 706/1341 [07:43<07:12,  1.47it/s]"
     ]
    },
    {
     "name": "stdout",
     "output_type": "stream",
     "text": [
      "14 inches\n"
     ]
    },
    {
     "name": "stderr",
     "output_type": "stream",
     "text": [
      " 53%|█████▎    | 707/1341 [07:44<06:53,  1.53it/s]"
     ]
    },
    {
     "name": "stdout",
     "output_type": "stream",
     "text": [
      "Intel\n"
     ]
    },
    {
     "name": "stderr",
     "output_type": "stream",
     "text": [
      " 53%|█████▎    | 708/1341 [07:44<06:44,  1.56it/s]"
     ]
    },
    {
     "name": "stdout",
     "output_type": "stream",
     "text": [
      "2.6GHz\n"
     ]
    },
    {
     "name": "stderr",
     "output_type": "stream",
     "text": [
      " 53%|█████▎    | 709/1341 [07:45<06:16,  1.68it/s]"
     ]
    },
    {
     "name": "stdout",
     "output_type": "stream",
     "text": [
      "16 inches\n"
     ]
    },
    {
     "name": "stderr",
     "output_type": "stream",
     "text": [
      " 53%|█████▎    | 710/1341 [07:46<06:14,  1.68it/s]"
     ]
    },
    {
     "name": "stdout",
     "output_type": "stream",
     "text": [
      "Intel\n"
     ]
    },
    {
     "name": "stderr",
     "output_type": "stream",
     "text": [
      " 53%|█████▎    | 711/1341 [07:46<06:24,  1.64it/s]"
     ]
    },
    {
     "name": "stdout",
     "output_type": "stream",
     "text": [
      "2.1GHz\n"
     ]
    },
    {
     "name": "stderr",
     "output_type": "stream",
     "text": [
      " 53%|█████▎    | 712/1341 [07:47<06:18,  1.66it/s]"
     ]
    },
    {
     "name": "stdout",
     "output_type": "stream",
     "text": [
      "18 inches\n"
     ]
    },
    {
     "name": "stderr",
     "output_type": "stream",
     "text": [
      " 53%|█████▎    | 713/1341 [07:47<06:09,  1.70it/s]"
     ]
    },
    {
     "name": "stdout",
     "output_type": "stream",
     "text": [
      "Intel\n"
     ]
    },
    {
     "name": "stderr",
     "output_type": "stream",
     "text": [
      " 53%|█████▎    | 714/1341 [07:48<06:21,  1.65it/s]"
     ]
    },
    {
     "name": "stdout",
     "output_type": "stream",
     "text": [
      "2.2GHz\n"
     ]
    },
    {
     "name": "stderr",
     "output_type": "stream",
     "text": [
      " 53%|█████▎    | 715/1341 [07:48<06:03,  1.72it/s]"
     ]
    },
    {
     "name": "stdout",
     "output_type": "stream",
     "text": [
      "16 inches\n"
     ]
    },
    {
     "name": "stderr",
     "output_type": "stream",
     "text": [
      " 53%|█████▎    | 716/1341 [07:49<06:26,  1.62it/s]"
     ]
    },
    {
     "name": "stdout",
     "output_type": "stream",
     "text": [
      "I do not know.\n"
     ]
    },
    {
     "name": "stderr",
     "output_type": "stream",
     "text": [
      " 53%|█████▎    | 717/1341 [07:50<06:32,  1.59it/s]"
     ]
    },
    {
     "name": "stdout",
     "output_type": "stream",
     "text": [
      "2.30 GHz\n"
     ]
    },
    {
     "name": "stderr",
     "output_type": "stream",
     "text": [
      " 54%|█████▎    | 718/1341 [07:50<06:23,  1.62it/s]"
     ]
    },
    {
     "name": "stdout",
     "output_type": "stream",
     "text": [
      "16 inches\n"
     ]
    },
    {
     "name": "stderr",
     "output_type": "stream",
     "text": [
      " 54%|█████▎    | 719/1341 [07:51<06:39,  1.56it/s]"
     ]
    },
    {
     "name": "stdout",
     "output_type": "stream",
     "text": [
      "I do not know.\n"
     ]
    },
    {
     "name": "stderr",
     "output_type": "stream",
     "text": [
      " 54%|█████▎    | 720/1341 [07:52<06:28,  1.60it/s]"
     ]
    },
    {
     "name": "stdout",
     "output_type": "stream",
     "text": [
      "2.30 GHz\n"
     ]
    },
    {
     "name": "stderr",
     "output_type": "stream",
     "text": [
      " 54%|█████▍    | 721/1341 [07:52<06:03,  1.71it/s]"
     ]
    },
    {
     "name": "stdout",
     "output_type": "stream",
     "text": [
      "14 inches\n"
     ]
    },
    {
     "name": "stderr",
     "output_type": "stream",
     "text": [
      " 54%|█████▍    | 722/1341 [07:53<05:47,  1.78it/s]"
     ]
    },
    {
     "name": "stdout",
     "output_type": "stream",
     "text": [
      "Intel\n"
     ]
    },
    {
     "name": "stderr",
     "output_type": "stream",
     "text": [
      " 54%|█████▍    | 723/1341 [07:53<05:41,  1.81it/s]"
     ]
    },
    {
     "name": "stdout",
     "output_type": "stream",
     "text": [
      "1.4GHz\n"
     ]
    },
    {
     "name": "stderr",
     "output_type": "stream",
     "text": [
      " 54%|█████▍    | 724/1341 [07:54<05:38,  1.82it/s]"
     ]
    },
    {
     "name": "stdout",
     "output_type": "stream",
     "text": [
      "16 inches\n"
     ]
    },
    {
     "name": "stderr",
     "output_type": "stream",
     "text": [
      " 54%|█████▍    | 725/1341 [07:54<05:41,  1.80it/s]"
     ]
    },
    {
     "name": "stdout",
     "output_type": "stream",
     "text": [
      "Intel\n"
     ]
    },
    {
     "name": "stderr",
     "output_type": "stream",
     "text": [
      " 54%|█████▍    | 726/1341 [07:55<05:56,  1.73it/s]"
     ]
    },
    {
     "name": "stdout",
     "output_type": "stream",
     "text": [
      "2.4GHz\n"
     ]
    },
    {
     "name": "stderr",
     "output_type": "stream",
     "text": [
      " 54%|█████▍    | 727/1341 [07:56<06:25,  1.59it/s]"
     ]
    },
    {
     "name": "stdout",
     "output_type": "stream",
     "text": [
      "16 inches\n"
     ]
    },
    {
     "name": "stderr",
     "output_type": "stream",
     "text": [
      " 54%|█████▍    | 728/1341 [07:56<06:00,  1.70it/s]"
     ]
    },
    {
     "name": "stdout",
     "output_type": "stream",
     "text": [
      "Intel\n"
     ]
    },
    {
     "name": "stderr",
     "output_type": "stream",
     "text": [
      " 54%|█████▍    | 729/1341 [07:57<05:45,  1.77it/s]"
     ]
    },
    {
     "name": "stdout",
     "output_type": "stream",
     "text": [
      "2.1GHz\n"
     ]
    },
    {
     "name": "stderr",
     "output_type": "stream",
     "text": [
      " 54%|█████▍    | 730/1341 [07:58<06:23,  1.59it/s]"
     ]
    },
    {
     "name": "stdout",
     "output_type": "stream",
     "text": [
      "13.3 inches\n"
     ]
    },
    {
     "name": "stderr",
     "output_type": "stream",
     "text": [
      " 55%|█████▍    | 731/1341 [07:58<06:16,  1.62it/s]"
     ]
    },
    {
     "name": "stdout",
     "output_type": "stream",
     "text": [
      "Intel\n"
     ]
    },
    {
     "name": "stderr",
     "output_type": "stream",
     "text": [
      " 55%|█████▍    | 732/1341 [07:59<06:24,  1.58it/s]"
     ]
    },
    {
     "name": "stdout",
     "output_type": "stream",
     "text": [
      "1.4GHz\n"
     ]
    },
    {
     "name": "stderr",
     "output_type": "stream",
     "text": [
      " 55%|█████▍    | 733/1341 [07:59<06:23,  1.59it/s]"
     ]
    },
    {
     "name": "stdout",
     "output_type": "stream",
     "text": [
      "15.6 inches\n"
     ]
    },
    {
     "name": "stderr",
     "output_type": "stream",
     "text": [
      " 55%|█████▍    | 734/1341 [08:00<06:15,  1.62it/s]"
     ]
    },
    {
     "name": "stdout",
     "output_type": "stream",
     "text": [
      "Intel\n"
     ]
    },
    {
     "name": "stderr",
     "output_type": "stream",
     "text": [
      " 55%|█████▍    | 735/1341 [08:01<06:03,  1.67it/s]"
     ]
    },
    {
     "name": "stdout",
     "output_type": "stream",
     "text": [
      "3.8GHz\n"
     ]
    },
    {
     "name": "stderr",
     "output_type": "stream",
     "text": [
      " 55%|█████▍    | 736/1341 [08:01<05:53,  1.71it/s]"
     ]
    },
    {
     "name": "stdout",
     "output_type": "stream",
     "text": [
      "15.6 inches\n"
     ]
    },
    {
     "name": "stderr",
     "output_type": "stream",
     "text": [
      " 55%|█████▍    | 737/1341 [08:02<06:04,  1.66it/s]"
     ]
    },
    {
     "name": "stdout",
     "output_type": "stream",
     "text": [
      "I do not know.\n"
     ]
    },
    {
     "name": "stderr",
     "output_type": "stream",
     "text": [
      " 55%|█████▌    | 738/1341 [08:02<05:52,  1.71it/s]"
     ]
    },
    {
     "name": "stdout",
     "output_type": "stream",
     "text": [
      "1.4GHz\n"
     ]
    },
    {
     "name": "stderr",
     "output_type": "stream",
     "text": [
      " 55%|█████▌    | 739/1341 [08:03<05:48,  1.73it/s]"
     ]
    },
    {
     "name": "stdout",
     "output_type": "stream",
     "text": [
      "15.6 inches\n"
     ]
    },
    {
     "name": "stderr",
     "output_type": "stream",
     "text": [
      " 55%|█████▌    | 740/1341 [08:03<05:38,  1.77it/s]"
     ]
    },
    {
     "name": "stdout",
     "output_type": "stream",
     "text": [
      "Intel\n"
     ]
    },
    {
     "name": "stderr",
     "output_type": "stream",
     "text": [
      " 55%|█████▌    | 741/1341 [08:04<05:49,  1.72it/s]"
     ]
    },
    {
     "name": "stdout",
     "output_type": "stream",
     "text": [
      "2.4GHz\n"
     ]
    },
    {
     "name": "stderr",
     "output_type": "stream",
     "text": [
      " 55%|█████▌    | 742/1341 [08:05<06:02,  1.65it/s]"
     ]
    },
    {
     "name": "stdout",
     "output_type": "stream",
     "text": [
      "15.6 inches\n"
     ]
    },
    {
     "name": "stderr",
     "output_type": "stream",
     "text": [
      " 55%|█████▌    | 743/1341 [08:05<05:43,  1.74it/s]"
     ]
    },
    {
     "name": "stdout",
     "output_type": "stream",
     "text": [
      "Intel\n"
     ]
    },
    {
     "name": "stderr",
     "output_type": "stream",
     "text": [
      " 55%|█████▌    | 744/1341 [08:06<05:37,  1.77it/s]"
     ]
    },
    {
     "name": "stdout",
     "output_type": "stream",
     "text": [
      "3.8GHz\n"
     ]
    },
    {
     "name": "stderr",
     "output_type": "stream",
     "text": [
      " 56%|█████▌    | 745/1341 [08:06<05:38,  1.76it/s]"
     ]
    },
    {
     "name": "stdout",
     "output_type": "stream",
     "text": [
      "15.6 inches\n"
     ]
    },
    {
     "name": "stderr",
     "output_type": "stream",
     "text": [
      " 56%|█████▌    | 746/1341 [08:07<06:30,  1.53it/s]"
     ]
    },
    {
     "name": "stdout",
     "output_type": "stream",
     "text": [
      "Intel\n"
     ]
    },
    {
     "name": "stderr",
     "output_type": "stream",
     "text": [
      " 56%|█████▌    | 747/1341 [08:08<06:59,  1.42it/s]"
     ]
    },
    {
     "name": "stdout",
     "output_type": "stream",
     "text": [
      "2GHz\n"
     ]
    },
    {
     "name": "stderr",
     "output_type": "stream",
     "text": [
      " 56%|█████▌    | 748/1341 [08:09<06:39,  1.48it/s]"
     ]
    },
    {
     "name": "stdout",
     "output_type": "stream",
     "text": [
      "14 inches\n"
     ]
    },
    {
     "name": "stderr",
     "output_type": "stream",
     "text": [
      " 56%|█████▌    | 749/1341 [08:09<06:37,  1.49it/s]"
     ]
    },
    {
     "name": "stdout",
     "output_type": "stream",
     "text": [
      "AMD\n"
     ]
    },
    {
     "name": "stderr",
     "output_type": "stream",
     "text": [
      " 56%|█████▌    | 750/1341 [08:10<06:45,  1.46it/s]"
     ]
    },
    {
     "name": "stdout",
     "output_type": "stream",
     "text": [
      "I do not know.\n"
     ]
    },
    {
     "name": "stderr",
     "output_type": "stream",
     "text": [
      " 56%|█████▌    | 751/1341 [08:11<06:26,  1.53it/s]"
     ]
    },
    {
     "name": "stdout",
     "output_type": "stream",
     "text": [
      "14.0 inches\n"
     ]
    },
    {
     "name": "stderr",
     "output_type": "stream",
     "text": [
      " 56%|█████▌    | 752/1341 [08:11<06:10,  1.59it/s]"
     ]
    },
    {
     "name": "stdout",
     "output_type": "stream",
     "text": [
      "Ryzen 5\n"
     ]
    },
    {
     "name": "stderr",
     "output_type": "stream",
     "text": [
      " 56%|█████▌    | 753/1341 [08:12<05:57,  1.65it/s]"
     ]
    },
    {
     "name": "stdout",
     "output_type": "stream",
     "text": [
      "I do not know.\n"
     ]
    },
    {
     "name": "stderr",
     "output_type": "stream",
     "text": [
      " 56%|█████▌    | 754/1341 [08:12<05:33,  1.76it/s]"
     ]
    },
    {
     "name": "stdout",
     "output_type": "stream",
     "text": [
      "15.6 inches\n"
     ]
    },
    {
     "name": "stderr",
     "output_type": "stream",
     "text": [
      " 56%|█████▋    | 755/1341 [08:13<05:35,  1.74it/s]"
     ]
    },
    {
     "name": "stdout",
     "output_type": "stream",
     "text": [
      "Intel Core i5\n"
     ]
    },
    {
     "name": "stderr",
     "output_type": "stream",
     "text": [
      " 56%|█████▋    | 756/1341 [08:13<05:28,  1.78it/s]"
     ]
    },
    {
     "name": "stdout",
     "output_type": "stream",
     "text": [
      "I do not know.\n"
     ]
    },
    {
     "name": "stderr",
     "output_type": "stream",
     "text": [
      " 56%|█████▋    | 757/1341 [08:14<05:19,  1.83it/s]"
     ]
    },
    {
     "name": "stdout",
     "output_type": "stream",
     "text": [
      "14 inches\n"
     ]
    },
    {
     "name": "stderr",
     "output_type": "stream",
     "text": [
      " 57%|█████▋    | 758/1341 [08:15<05:51,  1.66it/s]"
     ]
    },
    {
     "name": "stdout",
     "output_type": "stream",
     "text": [
      "AMD\n"
     ]
    },
    {
     "name": "stderr",
     "output_type": "stream",
     "text": [
      " 57%|█████▋    | 759/1341 [08:15<05:53,  1.65it/s]"
     ]
    },
    {
     "name": "stdout",
     "output_type": "stream",
     "text": [
      "I do not know.\n"
     ]
    },
    {
     "name": "stderr",
     "output_type": "stream",
     "text": [
      " 57%|█████▋    | 760/1341 [08:16<05:53,  1.64it/s]"
     ]
    },
    {
     "name": "stdout",
     "output_type": "stream",
     "text": [
      "14.0 inches\n"
     ]
    },
    {
     "name": "stderr",
     "output_type": "stream",
     "text": [
      " 57%|█████▋    | 761/1341 [08:16<05:43,  1.69it/s]"
     ]
    },
    {
     "name": "stdout",
     "output_type": "stream",
     "text": [
      "Ryzen\n"
     ]
    },
    {
     "name": "stderr",
     "output_type": "stream",
     "text": [
      " 57%|█████▋    | 762/1341 [08:17<05:53,  1.64it/s]"
     ]
    },
    {
     "name": "stdout",
     "output_type": "stream",
     "text": [
      "I do not know.\n"
     ]
    },
    {
     "name": "stderr",
     "output_type": "stream",
     "text": [
      " 57%|█████▋    | 763/1341 [08:18<05:59,  1.61it/s]"
     ]
    },
    {
     "name": "stdout",
     "output_type": "stream",
     "text": [
      "15.6 inches\n"
     ]
    },
    {
     "name": "stderr",
     "output_type": "stream",
     "text": [
      " 57%|█████▋    | 764/1341 [08:18<06:01,  1.60it/s]"
     ]
    },
    {
     "name": "stdout",
     "output_type": "stream",
     "text": [
      "Ryzen 7\n"
     ]
    },
    {
     "name": "stderr",
     "output_type": "stream",
     "text": [
      " 57%|█████▋    | 765/1341 [08:19<07:17,  1.32it/s]"
     ]
    },
    {
     "name": "stdout",
     "output_type": "stream",
     "text": [
      "I do not know.\n"
     ]
    },
    {
     "name": "stderr",
     "output_type": "stream",
     "text": [
      " 57%|█████▋    | 766/1341 [08:20<07:51,  1.22it/s]"
     ]
    },
    {
     "name": "stdout",
     "output_type": "stream",
     "text": [
      "13.3 inches\n"
     ]
    },
    {
     "name": "stderr",
     "output_type": "stream",
     "text": [
      " 57%|█████▋    | 767/1341 [08:21<06:59,  1.37it/s]"
     ]
    },
    {
     "name": "stdout",
     "output_type": "stream",
     "text": [
      "AMD\n"
     ]
    },
    {
     "name": "stderr",
     "output_type": "stream",
     "text": [
      " 57%|█████▋    | 768/1341 [08:22<09:05,  1.05it/s]"
     ]
    },
    {
     "name": "stdout",
     "output_type": "stream",
     "text": [
      "I do not know.\n"
     ]
    },
    {
     "name": "stderr",
     "output_type": "stream",
     "text": [
      " 57%|█████▋    | 769/1341 [08:23<07:54,  1.21it/s]"
     ]
    },
    {
     "name": "stdout",
     "output_type": "stream",
     "text": [
      "15.6 inches\n"
     ]
    },
    {
     "name": "stderr",
     "output_type": "stream",
     "text": [
      " 57%|█████▋    | 770/1341 [08:23<07:26,  1.28it/s]"
     ]
    },
    {
     "name": "stdout",
     "output_type": "stream",
     "text": [
      "Intel\n"
     ]
    },
    {
     "name": "stderr",
     "output_type": "stream",
     "text": [
      " 57%|█████▋    | 771/1341 [08:24<07:08,  1.33it/s]"
     ]
    },
    {
     "name": "stdout",
     "output_type": "stream",
     "text": [
      "I do not know.\n"
     ]
    },
    {
     "name": "stderr",
     "output_type": "stream",
     "text": [
      " 58%|█████▊    | 772/1341 [08:25<06:37,  1.43it/s]"
     ]
    },
    {
     "name": "stdout",
     "output_type": "stream",
     "text": [
      "15.6 inches\n"
     ]
    },
    {
     "name": "stderr",
     "output_type": "stream",
     "text": [
      " 58%|█████▊    | 773/1341 [08:25<06:02,  1.57it/s]"
     ]
    },
    {
     "name": "stdout",
     "output_type": "stream",
     "text": [
      "Intel\n"
     ]
    },
    {
     "name": "stderr",
     "output_type": "stream",
     "text": [
      " 58%|█████▊    | 774/1341 [08:26<07:32,  1.25it/s]"
     ]
    },
    {
     "name": "stdout",
     "output_type": "stream",
     "text": [
      "I do not know.\n"
     ]
    },
    {
     "name": "stderr",
     "output_type": "stream",
     "text": [
      " 58%|█████▊    | 775/1341 [08:27<07:00,  1.35it/s]"
     ]
    },
    {
     "name": "stdout",
     "output_type": "stream",
     "text": [
      "14.0 inches\n"
     ]
    },
    {
     "name": "stderr",
     "output_type": "stream",
     "text": [
      " 58%|█████▊    | 776/1341 [08:28<06:48,  1.38it/s]"
     ]
    },
    {
     "name": "stdout",
     "output_type": "stream",
     "text": [
      "Ryzen 5\n"
     ]
    },
    {
     "name": "stderr",
     "output_type": "stream",
     "text": [
      " 58%|█████▊    | 777/1341 [08:28<06:28,  1.45it/s]"
     ]
    },
    {
     "name": "stdout",
     "output_type": "stream",
     "text": [
      "I do not know.\n"
     ]
    },
    {
     "name": "stderr",
     "output_type": "stream",
     "text": [
      " 58%|█████▊    | 778/1341 [08:29<06:16,  1.50it/s]"
     ]
    },
    {
     "name": "stdout",
     "output_type": "stream",
     "text": [
      "15.6 inches\n"
     ]
    },
    {
     "name": "stderr",
     "output_type": "stream",
     "text": [
      " 58%|█████▊    | 779/1341 [08:30<06:02,  1.55it/s]"
     ]
    },
    {
     "name": "stdout",
     "output_type": "stream",
     "text": [
      "Intel\n"
     ]
    },
    {
     "name": "stderr",
     "output_type": "stream",
     "text": [
      " 58%|█████▊    | 780/1341 [08:30<05:46,  1.62it/s]"
     ]
    },
    {
     "name": "stdout",
     "output_type": "stream",
     "text": [
      "I do not know.\n"
     ]
    },
    {
     "name": "stderr",
     "output_type": "stream",
     "text": [
      " 58%|█████▊    | 781/1341 [08:31<05:37,  1.66it/s]"
     ]
    },
    {
     "name": "stdout",
     "output_type": "stream",
     "text": [
      "15.6 inches\n"
     ]
    },
    {
     "name": "stderr",
     "output_type": "stream",
     "text": [
      " 58%|█████▊    | 782/1341 [08:32<07:20,  1.27it/s]"
     ]
    },
    {
     "name": "stdout",
     "output_type": "stream",
     "text": [
      "Intel\n"
     ]
    },
    {
     "name": "stderr",
     "output_type": "stream",
     "text": [
      " 58%|█████▊    | 783/1341 [08:32<06:43,  1.38it/s]"
     ]
    },
    {
     "name": "stdout",
     "output_type": "stream",
     "text": [
      "I do not know.\n"
     ]
    },
    {
     "name": "stderr",
     "output_type": "stream",
     "text": [
      " 58%|█████▊    | 784/1341 [08:33<06:11,  1.50it/s]"
     ]
    },
    {
     "name": "stdout",
     "output_type": "stream",
     "text": [
      "14 inches\n"
     ]
    },
    {
     "name": "stderr",
     "output_type": "stream",
     "text": [
      " 59%|█████▊    | 785/1341 [08:33<05:39,  1.64it/s]"
     ]
    },
    {
     "name": "stdout",
     "output_type": "stream",
     "text": [
      "Intel\n"
     ]
    },
    {
     "name": "stderr",
     "output_type": "stream",
     "text": [
      " 59%|█████▊    | 786/1341 [08:34<06:27,  1.43it/s]"
     ]
    },
    {
     "name": "stdout",
     "output_type": "stream",
     "text": [
      "I do not know.\n"
     ]
    },
    {
     "name": "stderr",
     "output_type": "stream",
     "text": [
      " 59%|█████▊    | 787/1341 [08:35<06:04,  1.52it/s]"
     ]
    },
    {
     "name": "stdout",
     "output_type": "stream",
     "text": [
      "14.0 inches\n"
     ]
    },
    {
     "name": "stderr",
     "output_type": "stream",
     "text": [
      " 59%|█████▉    | 788/1341 [08:35<05:53,  1.57it/s]"
     ]
    },
    {
     "name": "stdout",
     "output_type": "stream",
     "text": [
      "Intel\n"
     ]
    },
    {
     "name": "stderr",
     "output_type": "stream",
     "text": [
      " 59%|█████▉    | 789/1341 [08:36<05:53,  1.56it/s]"
     ]
    },
    {
     "name": "stdout",
     "output_type": "stream",
     "text": [
      "I do not know.\n"
     ]
    },
    {
     "name": "stderr",
     "output_type": "stream",
     "text": [
      " 59%|█████▉    | 790/1341 [08:37<05:38,  1.63it/s]"
     ]
    },
    {
     "name": "stdout",
     "output_type": "stream",
     "text": [
      "15.6 inches\n"
     ]
    },
    {
     "name": "stderr",
     "output_type": "stream",
     "text": [
      " 59%|█████▉    | 791/1341 [08:37<05:52,  1.56it/s]"
     ]
    },
    {
     "name": "stdout",
     "output_type": "stream",
     "text": [
      "Intel\n"
     ]
    },
    {
     "name": "stderr",
     "output_type": "stream",
     "text": [
      " 59%|█████▉    | 792/1341 [08:38<06:10,  1.48it/s]"
     ]
    },
    {
     "name": "stdout",
     "output_type": "stream",
     "text": [
      "I do not know.\n"
     ]
    },
    {
     "name": "stderr",
     "output_type": "stream",
     "text": [
      " 59%|█████▉    | 793/1341 [08:39<05:45,  1.59it/s]"
     ]
    },
    {
     "name": "stdout",
     "output_type": "stream",
     "text": [
      "15.6 inches\n"
     ]
    },
    {
     "name": "stderr",
     "output_type": "stream",
     "text": [
      " 59%|█████▉    | 794/1341 [08:40<08:15,  1.10it/s]"
     ]
    },
    {
     "name": "stdout",
     "output_type": "stream",
     "text": [
      "Intel Core i5\n"
     ]
    },
    {
     "name": "stderr",
     "output_type": "stream",
     "text": [
      " 59%|█████▉    | 795/1341 [08:41<07:21,  1.24it/s]"
     ]
    },
    {
     "name": "stdout",
     "output_type": "stream",
     "text": [
      "I do not know.\n"
     ]
    },
    {
     "name": "stderr",
     "output_type": "stream",
     "text": [
      " 59%|█████▉    | 796/1341 [08:41<07:00,  1.30it/s]"
     ]
    },
    {
     "name": "stdout",
     "output_type": "stream",
     "text": [
      "15.6 inches\n"
     ]
    },
    {
     "name": "stderr",
     "output_type": "stream",
     "text": [
      " 59%|█████▉    | 797/1341 [08:42<06:19,  1.43it/s]"
     ]
    },
    {
     "name": "stdout",
     "output_type": "stream",
     "text": [
      "Intel\n"
     ]
    },
    {
     "name": "stderr",
     "output_type": "stream",
     "text": [
      " 60%|█████▉    | 798/1341 [08:43<05:58,  1.51it/s]"
     ]
    },
    {
     "name": "stdout",
     "output_type": "stream",
     "text": [
      "I do not know.\n"
     ]
    },
    {
     "name": "stderr",
     "output_type": "stream",
     "text": [
      " 60%|█████▉    | 799/1341 [08:43<05:49,  1.55it/s]"
     ]
    },
    {
     "name": "stdout",
     "output_type": "stream",
     "text": [
      "14.0 inches\n"
     ]
    },
    {
     "name": "stderr",
     "output_type": "stream",
     "text": [
      " 60%|█████▉    | 800/1341 [08:44<05:37,  1.60it/s]"
     ]
    },
    {
     "name": "stdout",
     "output_type": "stream",
     "text": [
      "Ryzen 5\n"
     ]
    },
    {
     "name": "stderr",
     "output_type": "stream",
     "text": [
      " 60%|█████▉    | 801/1341 [08:44<05:32,  1.62it/s]"
     ]
    },
    {
     "name": "stdout",
     "output_type": "stream",
     "text": [
      "I do not know.\n"
     ]
    },
    {
     "name": "stderr",
     "output_type": "stream",
     "text": [
      " 60%|█████▉    | 802/1341 [08:45<05:40,  1.58it/s]"
     ]
    },
    {
     "name": "stdout",
     "output_type": "stream",
     "text": [
      "15.6 inches\n"
     ]
    },
    {
     "name": "stderr",
     "output_type": "stream",
     "text": [
      " 60%|█████▉    | 803/1341 [08:45<05:09,  1.74it/s]"
     ]
    },
    {
     "name": "stdout",
     "output_type": "stream",
     "text": [
      "Intel\n"
     ]
    },
    {
     "name": "stderr",
     "output_type": "stream",
     "text": [
      " 60%|█████▉    | 804/1341 [08:46<05:13,  1.71it/s]"
     ]
    },
    {
     "name": "stdout",
     "output_type": "stream",
     "text": [
      "I do not know.\n"
     ]
    },
    {
     "name": "stderr",
     "output_type": "stream",
     "text": [
      " 60%|██████    | 805/1341 [08:47<05:02,  1.77it/s]"
     ]
    },
    {
     "name": "stdout",
     "output_type": "stream",
     "text": [
      "14.0 inches\n"
     ]
    },
    {
     "name": "stderr",
     "output_type": "stream",
     "text": [
      " 60%|██████    | 806/1341 [08:47<05:17,  1.69it/s]"
     ]
    },
    {
     "name": "stdout",
     "output_type": "stream",
     "text": [
      "Intel\n"
     ]
    },
    {
     "name": "stderr",
     "output_type": "stream",
     "text": [
      " 60%|██████    | 807/1341 [08:48<05:11,  1.71it/s]"
     ]
    },
    {
     "name": "stdout",
     "output_type": "stream",
     "text": [
      "I do not know.\n"
     ]
    },
    {
     "name": "stderr",
     "output_type": "stream",
     "text": [
      " 60%|██████    | 808/1341 [08:48<05:01,  1.77it/s]"
     ]
    },
    {
     "name": "stdout",
     "output_type": "stream",
     "text": [
      "15.6 inches\n"
     ]
    },
    {
     "name": "stderr",
     "output_type": "stream",
     "text": [
      " 60%|██████    | 809/1341 [08:49<05:45,  1.54it/s]"
     ]
    },
    {
     "name": "stdout",
     "output_type": "stream",
     "text": [
      "Intel Core i5\n"
     ]
    },
    {
     "name": "stderr",
     "output_type": "stream",
     "text": [
      " 60%|██████    | 810/1341 [08:50<05:34,  1.59it/s]"
     ]
    },
    {
     "name": "stdout",
     "output_type": "stream",
     "text": [
      "I do not know.\n"
     ]
    },
    {
     "name": "stderr",
     "output_type": "stream",
     "text": [
      " 60%|██████    | 811/1341 [08:50<05:27,  1.62it/s]"
     ]
    },
    {
     "name": "stdout",
     "output_type": "stream",
     "text": [
      "15.6 inches\n"
     ]
    },
    {
     "name": "stderr",
     "output_type": "stream",
     "text": [
      " 61%|██████    | 812/1341 [08:51<05:24,  1.63it/s]"
     ]
    },
    {
     "name": "stdout",
     "output_type": "stream",
     "text": [
      "AMD\n"
     ]
    },
    {
     "name": "stderr",
     "output_type": "stream",
     "text": [
      " 61%|██████    | 813/1341 [08:52<05:32,  1.59it/s]"
     ]
    },
    {
     "name": "stdout",
     "output_type": "stream",
     "text": [
      "I do not know.\n"
     ]
    },
    {
     "name": "stderr",
     "output_type": "stream",
     "text": [
      " 61%|██████    | 814/1341 [08:52<05:28,  1.61it/s]"
     ]
    },
    {
     "name": "stdout",
     "output_type": "stream",
     "text": [
      "15.6 inches\n"
     ]
    },
    {
     "name": "stderr",
     "output_type": "stream",
     "text": [
      " 61%|██████    | 815/1341 [08:53<05:38,  1.55it/s]"
     ]
    },
    {
     "name": "stdout",
     "output_type": "stream",
     "text": [
      "Intel\n"
     ]
    },
    {
     "name": "stderr",
     "output_type": "stream",
     "text": [
      " 61%|██████    | 816/1341 [08:54<05:26,  1.61it/s]"
     ]
    },
    {
     "name": "stdout",
     "output_type": "stream",
     "text": [
      "I do not know.\n"
     ]
    },
    {
     "name": "stderr",
     "output_type": "stream",
     "text": [
      " 61%|██████    | 817/1341 [08:54<05:31,  1.58it/s]"
     ]
    },
    {
     "name": "stdout",
     "output_type": "stream",
     "text": [
      "15.6 inches\n"
     ]
    },
    {
     "name": "stderr",
     "output_type": "stream",
     "text": [
      " 61%|██████    | 818/1341 [08:55<05:59,  1.46it/s]"
     ]
    },
    {
     "name": "stdout",
     "output_type": "stream",
     "text": [
      "Ryzen 5\n"
     ]
    },
    {
     "name": "stderr",
     "output_type": "stream",
     "text": [
      " 61%|██████    | 819/1341 [08:56<06:56,  1.25it/s]"
     ]
    },
    {
     "name": "stdout",
     "output_type": "stream",
     "text": [
      "I do not know.\n"
     ]
    },
    {
     "name": "stderr",
     "output_type": "stream",
     "text": [
      " 61%|██████    | 820/1341 [08:57<06:21,  1.37it/s]"
     ]
    },
    {
     "name": "stdout",
     "output_type": "stream",
     "text": [
      "14 inches\n"
     ]
    },
    {
     "name": "stderr",
     "output_type": "stream",
     "text": [
      " 61%|██████    | 821/1341 [08:57<05:49,  1.49it/s]"
     ]
    },
    {
     "name": "stdout",
     "output_type": "stream",
     "text": [
      "Ryzen\n"
     ]
    },
    {
     "name": "stderr",
     "output_type": "stream",
     "text": [
      " 61%|██████▏   | 822/1341 [08:58<05:31,  1.57it/s]"
     ]
    },
    {
     "name": "stdout",
     "output_type": "stream",
     "text": [
      "I do not know.\n"
     ]
    },
    {
     "name": "stderr",
     "output_type": "stream",
     "text": [
      " 61%|██████▏   | 823/1341 [08:58<05:32,  1.56it/s]"
     ]
    },
    {
     "name": "stdout",
     "output_type": "stream",
     "text": [
      "15.6 inches\n"
     ]
    },
    {
     "name": "stderr",
     "output_type": "stream",
     "text": [
      " 61%|██████▏   | 824/1341 [08:59<05:26,  1.58it/s]"
     ]
    },
    {
     "name": "stdout",
     "output_type": "stream",
     "text": [
      "AMD\n"
     ]
    },
    {
     "name": "stderr",
     "output_type": "stream",
     "text": [
      " 62%|██████▏   | 825/1341 [09:00<05:21,  1.61it/s]"
     ]
    },
    {
     "name": "stdout",
     "output_type": "stream",
     "text": [
      "I do not know.\n"
     ]
    },
    {
     "name": "stderr",
     "output_type": "stream",
     "text": [
      " 62%|██████▏   | 826/1341 [09:00<05:04,  1.69it/s]"
     ]
    },
    {
     "name": "stdout",
     "output_type": "stream",
     "text": [
      "14.0 inches\n"
     ]
    },
    {
     "name": "stderr",
     "output_type": "stream",
     "text": [
      " 62%|██████▏   | 827/1341 [09:01<05:01,  1.70it/s]"
     ]
    },
    {
     "name": "stdout",
     "output_type": "stream",
     "text": [
      "Ryzen 5\n"
     ]
    },
    {
     "name": "stderr",
     "output_type": "stream",
     "text": [
      " 62%|██████▏   | 828/1341 [09:01<05:13,  1.63it/s]"
     ]
    },
    {
     "name": "stdout",
     "output_type": "stream",
     "text": [
      "I do not know.\n"
     ]
    },
    {
     "name": "stderr",
     "output_type": "stream",
     "text": [
      " 62%|██████▏   | 829/1341 [09:02<05:02,  1.69it/s]"
     ]
    },
    {
     "name": "stdout",
     "output_type": "stream",
     "text": [
      "14 inches\n"
     ]
    },
    {
     "name": "stderr",
     "output_type": "stream",
     "text": [
      " 62%|██████▏   | 830/1341 [09:03<05:40,  1.50it/s]"
     ]
    },
    {
     "name": "stdout",
     "output_type": "stream",
     "text": [
      "Intel Core i7\n"
     ]
    },
    {
     "name": "stderr",
     "output_type": "stream",
     "text": [
      " 62%|██████▏   | 831/1341 [09:03<05:42,  1.49it/s]"
     ]
    },
    {
     "name": "stdout",
     "output_type": "stream",
     "text": [
      "I do not know.\n"
     ]
    },
    {
     "name": "stderr",
     "output_type": "stream",
     "text": [
      " 62%|██████▏   | 832/1341 [09:04<05:20,  1.59it/s]"
     ]
    },
    {
     "name": "stdout",
     "output_type": "stream",
     "text": [
      "15.6 inches\n"
     ]
    },
    {
     "name": "stderr",
     "output_type": "stream",
     "text": [
      " 62%|██████▏   | 833/1341 [09:04<04:58,  1.70it/s]"
     ]
    },
    {
     "name": "stdout",
     "output_type": "stream",
     "text": [
      "Intel\n"
     ]
    },
    {
     "name": "stderr",
     "output_type": "stream",
     "text": [
      " 62%|██████▏   | 834/1341 [09:05<05:52,  1.44it/s]"
     ]
    },
    {
     "name": "stdout",
     "output_type": "stream",
     "text": [
      "I do not know.\n"
     ]
    },
    {
     "name": "stderr",
     "output_type": "stream",
     "text": [
      " 62%|██████▏   | 835/1341 [09:06<05:55,  1.42it/s]"
     ]
    },
    {
     "name": "stdout",
     "output_type": "stream",
     "text": [
      "14.0 inches\n"
     ]
    },
    {
     "name": "stderr",
     "output_type": "stream",
     "text": [
      " 62%|██████▏   | 836/1341 [09:07<05:32,  1.52it/s]"
     ]
    },
    {
     "name": "stdout",
     "output_type": "stream",
     "text": [
      "Intel\n"
     ]
    },
    {
     "name": "stderr",
     "output_type": "stream",
     "text": [
      " 62%|██████▏   | 837/1341 [09:07<05:30,  1.52it/s]"
     ]
    },
    {
     "name": "stdout",
     "output_type": "stream",
     "text": [
      "I do not know.\n"
     ]
    },
    {
     "name": "stderr",
     "output_type": "stream",
     "text": [
      " 62%|██████▏   | 838/1341 [09:08<06:09,  1.36it/s]"
     ]
    },
    {
     "name": "stdout",
     "output_type": "stream",
     "text": [
      "15.6 inches\n"
     ]
    },
    {
     "name": "stderr",
     "output_type": "stream",
     "text": [
      " 63%|██████▎   | 839/1341 [09:09<05:31,  1.51it/s]"
     ]
    },
    {
     "name": "stdout",
     "output_type": "stream",
     "text": [
      "Intel\n"
     ]
    },
    {
     "name": "stderr",
     "output_type": "stream",
     "text": [
      " 63%|██████▎   | 840/1341 [09:09<05:18,  1.57it/s]"
     ]
    },
    {
     "name": "stdout",
     "output_type": "stream",
     "text": [
      "I do not know.\n"
     ]
    },
    {
     "name": "stderr",
     "output_type": "stream",
     "text": [
      " 63%|██████▎   | 841/1341 [09:10<05:17,  1.57it/s]"
     ]
    },
    {
     "name": "stdout",
     "output_type": "stream",
     "text": [
      "16.0 inches\n"
     ]
    },
    {
     "name": "stderr",
     "output_type": "stream",
     "text": [
      " 63%|██████▎   | 842/1341 [09:11<06:30,  1.28it/s]"
     ]
    },
    {
     "name": "stdout",
     "output_type": "stream",
     "text": [
      "Intel\n"
     ]
    },
    {
     "name": "stderr",
     "output_type": "stream",
     "text": [
      " 63%|██████▎   | 843/1341 [09:12<06:04,  1.37it/s]"
     ]
    },
    {
     "name": "stdout",
     "output_type": "stream",
     "text": [
      "I do not know.\n"
     ]
    },
    {
     "name": "stderr",
     "output_type": "stream",
     "text": [
      " 63%|██████▎   | 844/1341 [09:12<05:27,  1.52it/s]"
     ]
    },
    {
     "name": "stdout",
     "output_type": "stream",
     "text": [
      "15.6 inches\n"
     ]
    },
    {
     "name": "stderr",
     "output_type": "stream",
     "text": [
      " 63%|██████▎   | 845/1341 [09:13<05:12,  1.58it/s]"
     ]
    },
    {
     "name": "stdout",
     "output_type": "stream",
     "text": [
      "Intel\n"
     ]
    },
    {
     "name": "stderr",
     "output_type": "stream",
     "text": [
      " 63%|██████▎   | 846/1341 [09:13<05:20,  1.54it/s]"
     ]
    },
    {
     "name": "stdout",
     "output_type": "stream",
     "text": [
      "I do not know.\n"
     ]
    },
    {
     "name": "stderr",
     "output_type": "stream",
     "text": [
      " 63%|██████▎   | 847/1341 [09:14<05:20,  1.54it/s]"
     ]
    },
    {
     "name": "stdout",
     "output_type": "stream",
     "text": [
      "14 inches\n"
     ]
    },
    {
     "name": "stderr",
     "output_type": "stream",
     "text": [
      " 63%|██████▎   | 848/1341 [09:15<05:04,  1.62it/s]"
     ]
    },
    {
     "name": "stdout",
     "output_type": "stream",
     "text": [
      "Intel\n"
     ]
    },
    {
     "name": "stderr",
     "output_type": "stream",
     "text": [
      " 63%|██████▎   | 849/1341 [09:15<05:10,  1.58it/s]"
     ]
    },
    {
     "name": "stdout",
     "output_type": "stream",
     "text": [
      "I do not know.\n"
     ]
    },
    {
     "name": "stderr",
     "output_type": "stream",
     "text": [
      " 63%|██████▎   | 850/1341 [09:16<05:04,  1.61it/s]"
     ]
    },
    {
     "name": "stdout",
     "output_type": "stream",
     "text": [
      "15.6 inches\n"
     ]
    },
    {
     "name": "stderr",
     "output_type": "stream",
     "text": [
      " 63%|██████▎   | 851/1341 [09:16<05:02,  1.62it/s]"
     ]
    },
    {
     "name": "stdout",
     "output_type": "stream",
     "text": [
      "Intel Core i7\n"
     ]
    },
    {
     "name": "stderr",
     "output_type": "stream",
     "text": [
      " 64%|██████▎   | 852/1341 [09:17<05:23,  1.51it/s]"
     ]
    },
    {
     "name": "stdout",
     "output_type": "stream",
     "text": [
      "I do not know.\n"
     ]
    },
    {
     "name": "stderr",
     "output_type": "stream",
     "text": [
      " 64%|██████▎   | 853/1341 [09:18<05:58,  1.36it/s]"
     ]
    },
    {
     "name": "stdout",
     "output_type": "stream",
     "text": [
      "15.6 inches\n"
     ]
    },
    {
     "name": "stderr",
     "output_type": "stream",
     "text": [
      " 64%|██████▎   | 854/1341 [09:19<05:45,  1.41it/s]"
     ]
    },
    {
     "name": "stdout",
     "output_type": "stream",
     "text": [
      "Intel\n"
     ]
    },
    {
     "name": "stderr",
     "output_type": "stream",
     "text": [
      " 64%|██████▍   | 855/1341 [09:19<05:21,  1.51it/s]"
     ]
    },
    {
     "name": "stdout",
     "output_type": "stream",
     "text": [
      "I do not know.\n"
     ]
    },
    {
     "name": "stderr",
     "output_type": "stream",
     "text": [
      " 64%|██████▍   | 856/1341 [09:20<05:15,  1.54it/s]"
     ]
    },
    {
     "name": "stdout",
     "output_type": "stream",
     "text": [
      "15.6 inches\n"
     ]
    },
    {
     "name": "stderr",
     "output_type": "stream",
     "text": [
      " 64%|██████▍   | 857/1341 [09:20<04:40,  1.72it/s]"
     ]
    },
    {
     "name": "stdout",
     "output_type": "stream",
     "text": [
      "Intel\n"
     ]
    },
    {
     "name": "stderr",
     "output_type": "stream",
     "text": [
      " 64%|██████▍   | 858/1341 [09:21<04:48,  1.68it/s]"
     ]
    },
    {
     "name": "stdout",
     "output_type": "stream",
     "text": [
      "I do not know.\n"
     ]
    },
    {
     "name": "stderr",
     "output_type": "stream",
     "text": [
      " 64%|██████▍   | 859/1341 [09:22<04:52,  1.65it/s]"
     ]
    },
    {
     "name": "stdout",
     "output_type": "stream",
     "text": [
      "15.6 inches\n"
     ]
    },
    {
     "name": "stderr",
     "output_type": "stream",
     "text": [
      " 64%|██████▍   | 860/1341 [09:22<05:18,  1.51it/s]"
     ]
    },
    {
     "name": "stdout",
     "output_type": "stream",
     "text": [
      "Intel\n"
     ]
    },
    {
     "name": "stderr",
     "output_type": "stream",
     "text": [
      " 64%|██████▍   | 861/1341 [09:23<05:12,  1.53it/s]"
     ]
    },
    {
     "name": "stdout",
     "output_type": "stream",
     "text": [
      "I do not know.\n"
     ]
    },
    {
     "name": "stderr",
     "output_type": "stream",
     "text": [
      " 64%|██████▍   | 862/1341 [09:24<05:22,  1.48it/s]"
     ]
    },
    {
     "name": "stdout",
     "output_type": "stream",
     "text": [
      "15.6 inches\n"
     ]
    },
    {
     "name": "stderr",
     "output_type": "stream",
     "text": [
      " 64%|██████▍   | 863/1341 [09:24<04:59,  1.60it/s]"
     ]
    },
    {
     "name": "stdout",
     "output_type": "stream",
     "text": [
      "Intel\n"
     ]
    },
    {
     "name": "stderr",
     "output_type": "stream",
     "text": [
      " 64%|██████▍   | 864/1341 [09:25<05:01,  1.58it/s]"
     ]
    },
    {
     "name": "stdout",
     "output_type": "stream",
     "text": [
      "I do not know.\n"
     ]
    },
    {
     "name": "stderr",
     "output_type": "stream",
     "text": [
      " 65%|██████▍   | 865/1341 [09:26<04:56,  1.60it/s]"
     ]
    },
    {
     "name": "stdout",
     "output_type": "stream",
     "text": [
      "14 inches\n"
     ]
    },
    {
     "name": "stderr",
     "output_type": "stream",
     "text": [
      " 65%|██████▍   | 866/1341 [09:26<04:34,  1.73it/s]"
     ]
    },
    {
     "name": "stdout",
     "output_type": "stream",
     "text": [
      "Intel\n"
     ]
    },
    {
     "name": "stderr",
     "output_type": "stream",
     "text": [
      " 65%|██████▍   | 867/1341 [09:27<04:59,  1.58it/s]"
     ]
    },
    {
     "name": "stdout",
     "output_type": "stream",
     "text": [
      "I do not know.\n"
     ]
    },
    {
     "name": "stderr",
     "output_type": "stream",
     "text": [
      " 65%|██████▍   | 868/1341 [09:27<05:04,  1.55it/s]"
     ]
    },
    {
     "name": "stdout",
     "output_type": "stream",
     "text": [
      "15.6 inches\n"
     ]
    },
    {
     "name": "stderr",
     "output_type": "stream",
     "text": [
      " 65%|██████▍   | 869/1341 [09:28<04:41,  1.67it/s]"
     ]
    },
    {
     "name": "stdout",
     "output_type": "stream",
     "text": [
      "AMD\n"
     ]
    },
    {
     "name": "stderr",
     "output_type": "stream",
     "text": [
      " 65%|██████▍   | 870/1341 [09:29<04:45,  1.65it/s]"
     ]
    },
    {
     "name": "stdout",
     "output_type": "stream",
     "text": [
      "I do not know.\n"
     ]
    },
    {
     "name": "stderr",
     "output_type": "stream",
     "text": [
      " 65%|██████▍   | 871/1341 [09:29<04:36,  1.70it/s]"
     ]
    },
    {
     "name": "stdout",
     "output_type": "stream",
     "text": [
      "14.0 inches\n"
     ]
    },
    {
     "name": "stderr",
     "output_type": "stream",
     "text": [
      " 65%|██████▌   | 872/1341 [09:30<04:39,  1.68it/s]"
     ]
    },
    {
     "name": "stdout",
     "output_type": "stream",
     "text": [
      "Intel Core i9\n"
     ]
    },
    {
     "name": "stderr",
     "output_type": "stream",
     "text": [
      " 65%|██████▌   | 873/1341 [09:30<04:56,  1.58it/s]"
     ]
    },
    {
     "name": "stdout",
     "output_type": "stream",
     "text": [
      "I do not know.\n"
     ]
    },
    {
     "name": "stderr",
     "output_type": "stream",
     "text": [
      " 65%|██████▌   | 874/1341 [09:31<04:45,  1.63it/s]"
     ]
    },
    {
     "name": "stdout",
     "output_type": "stream",
     "text": [
      "14 inches\n"
     ]
    },
    {
     "name": "stderr",
     "output_type": "stream",
     "text": [
      " 65%|██████▌   | 875/1341 [09:32<04:36,  1.69it/s]"
     ]
    },
    {
     "name": "stdout",
     "output_type": "stream",
     "text": [
      "AMD\n"
     ]
    },
    {
     "name": "stderr",
     "output_type": "stream",
     "text": [
      " 65%|██████▌   | 876/1341 [09:33<05:55,  1.31it/s]"
     ]
    },
    {
     "name": "stdout",
     "output_type": "stream",
     "text": [
      "I do not know.\n"
     ]
    },
    {
     "name": "stderr",
     "output_type": "stream",
     "text": [
      " 65%|██████▌   | 877/1341 [09:33<05:34,  1.39it/s]"
     ]
    },
    {
     "name": "stdout",
     "output_type": "stream",
     "text": [
      "15.6 inches\n"
     ]
    },
    {
     "name": "stderr",
     "output_type": "stream",
     "text": [
      " 65%|██████▌   | 878/1341 [09:34<04:58,  1.55it/s]"
     ]
    },
    {
     "name": "stdout",
     "output_type": "stream",
     "text": [
      "Intel\n"
     ]
    },
    {
     "name": "stderr",
     "output_type": "stream",
     "text": [
      " 66%|██████▌   | 879/1341 [09:34<05:00,  1.54it/s]"
     ]
    },
    {
     "name": "stdout",
     "output_type": "stream",
     "text": [
      "I do not know.\n"
     ]
    },
    {
     "name": "stderr",
     "output_type": "stream",
     "text": [
      " 66%|██████▌   | 880/1341 [09:35<05:07,  1.50it/s]"
     ]
    },
    {
     "name": "stdout",
     "output_type": "stream",
     "text": [
      "15.6 inches\n"
     ]
    },
    {
     "name": "stderr",
     "output_type": "stream",
     "text": [
      " 66%|██████▌   | 881/1341 [09:36<04:56,  1.55it/s]"
     ]
    },
    {
     "name": "stdout",
     "output_type": "stream",
     "text": [
      "Intel Core i7\n"
     ]
    },
    {
     "name": "stderr",
     "output_type": "stream",
     "text": [
      " 66%|██████▌   | 882/1341 [09:36<04:45,  1.61it/s]"
     ]
    },
    {
     "name": "stdout",
     "output_type": "stream",
     "text": [
      "I do not know.\n"
     ]
    },
    {
     "name": "stderr",
     "output_type": "stream",
     "text": [
      " 66%|██████▌   | 883/1341 [09:37<04:42,  1.62it/s]"
     ]
    },
    {
     "name": "stdout",
     "output_type": "stream",
     "text": [
      "16 inches\n"
     ]
    },
    {
     "name": "stderr",
     "output_type": "stream",
     "text": [
      " 66%|██████▌   | 884/1341 [09:38<04:53,  1.56it/s]"
     ]
    },
    {
     "name": "stdout",
     "output_type": "stream",
     "text": [
      "Intel\n"
     ]
    },
    {
     "name": "stderr",
     "output_type": "stream",
     "text": [
      " 66%|██████▌   | 885/1341 [09:40<09:05,  1.20s/it]"
     ]
    },
    {
     "name": "stdout",
     "output_type": "stream",
     "text": [
      "I do not know.\n"
     ]
    },
    {
     "name": "stderr",
     "output_type": "stream",
     "text": [
      " 66%|██████▌   | 886/1341 [09:41<08:25,  1.11s/it]"
     ]
    },
    {
     "name": "stdout",
     "output_type": "stream",
     "text": [
      "15.6 inches\n"
     ]
    },
    {
     "name": "stderr",
     "output_type": "stream",
     "text": [
      " 66%|██████▌   | 887/1341 [09:42<07:09,  1.06it/s]"
     ]
    },
    {
     "name": "stdout",
     "output_type": "stream",
     "text": [
      "Intel Core i7\n"
     ]
    },
    {
     "name": "stderr",
     "output_type": "stream",
     "text": [
      " 66%|██████▌   | 888/1341 [09:42<06:30,  1.16it/s]"
     ]
    },
    {
     "name": "stdout",
     "output_type": "stream",
     "text": [
      "I do not know.\n"
     ]
    },
    {
     "name": "stderr",
     "output_type": "stream",
     "text": [
      " 66%|██████▋   | 889/1341 [09:43<05:58,  1.26it/s]"
     ]
    },
    {
     "name": "stdout",
     "output_type": "stream",
     "text": [
      "15.6 inches\n"
     ]
    },
    {
     "name": "stderr",
     "output_type": "stream",
     "text": [
      " 66%|██████▋   | 890/1341 [09:43<05:19,  1.41it/s]"
     ]
    },
    {
     "name": "stdout",
     "output_type": "stream",
     "text": [
      "Intel\n"
     ]
    },
    {
     "name": "stderr",
     "output_type": "stream",
     "text": [
      " 66%|██████▋   | 891/1341 [09:44<05:50,  1.28it/s]"
     ]
    },
    {
     "name": "stdout",
     "output_type": "stream",
     "text": [
      "I do not know.\n"
     ]
    },
    {
     "name": "stderr",
     "output_type": "stream",
     "text": [
      " 67%|██████▋   | 892/1341 [09:45<05:29,  1.36it/s]"
     ]
    },
    {
     "name": "stdout",
     "output_type": "stream",
     "text": [
      "14 inches\n"
     ]
    },
    {
     "name": "stderr",
     "output_type": "stream",
     "text": [
      " 67%|██████▋   | 893/1341 [09:47<08:38,  1.16s/it]"
     ]
    },
    {
     "name": "stdout",
     "output_type": "stream",
     "text": [
      "Intel\n"
     ]
    },
    {
     "name": "stderr",
     "output_type": "stream",
     "text": [
      " 67%|██████▋   | 894/1341 [09:48<07:16,  1.02it/s]"
     ]
    },
    {
     "name": "stdout",
     "output_type": "stream",
     "text": [
      "I do not know.\n"
     ]
    },
    {
     "name": "stderr",
     "output_type": "stream",
     "text": [
      " 67%|██████▋   | 895/1341 [09:48<06:41,  1.11it/s]"
     ]
    },
    {
     "name": "stdout",
     "output_type": "stream",
     "text": [
      "15.6 inches\n"
     ]
    },
    {
     "name": "stderr",
     "output_type": "stream",
     "text": [
      " 67%|██████▋   | 896/1341 [09:49<05:52,  1.26it/s]"
     ]
    },
    {
     "name": "stdout",
     "output_type": "stream",
     "text": [
      "Intel\n"
     ]
    },
    {
     "name": "stderr",
     "output_type": "stream",
     "text": [
      " 67%|██████▋   | 897/1341 [09:50<05:25,  1.36it/s]"
     ]
    },
    {
     "name": "stdout",
     "output_type": "stream",
     "text": [
      "I do not know.\n"
     ]
    },
    {
     "name": "stderr",
     "output_type": "stream",
     "text": [
      " 67%|██████▋   | 898/1341 [09:50<05:01,  1.47it/s]"
     ]
    },
    {
     "name": "stdout",
     "output_type": "stream",
     "text": [
      "15.6 inches\n"
     ]
    },
    {
     "name": "stderr",
     "output_type": "stream",
     "text": [
      " 67%|██████▋   | 899/1341 [09:51<04:45,  1.55it/s]"
     ]
    },
    {
     "name": "stdout",
     "output_type": "stream",
     "text": [
      "AMD\n"
     ]
    },
    {
     "name": "stderr",
     "output_type": "stream",
     "text": [
      " 67%|██████▋   | 900/1341 [09:52<05:11,  1.42it/s]"
     ]
    },
    {
     "name": "stdout",
     "output_type": "stream",
     "text": [
      "I do not know.\n"
     ]
    },
    {
     "name": "stderr",
     "output_type": "stream",
     "text": [
      " 67%|██████▋   | 901/1341 [09:52<05:12,  1.41it/s]"
     ]
    },
    {
     "name": "stdout",
     "output_type": "stream",
     "text": [
      "15.6 inches\n"
     ]
    },
    {
     "name": "stderr",
     "output_type": "stream",
     "text": [
      " 67%|██████▋   | 902/1341 [09:53<04:51,  1.50it/s]"
     ]
    },
    {
     "name": "stdout",
     "output_type": "stream",
     "text": [
      "Intel\n"
     ]
    },
    {
     "name": "stderr",
     "output_type": "stream",
     "text": [
      " 67%|██████▋   | 903/1341 [09:53<04:44,  1.54it/s]"
     ]
    },
    {
     "name": "stdout",
     "output_type": "stream",
     "text": [
      "I do not know.\n"
     ]
    },
    {
     "name": "stderr",
     "output_type": "stream",
     "text": [
      " 67%|██████▋   | 904/1341 [09:54<04:30,  1.61it/s]"
     ]
    },
    {
     "name": "stdout",
     "output_type": "stream",
     "text": [
      "14.0 inches\n"
     ]
    },
    {
     "name": "stderr",
     "output_type": "stream",
     "text": [
      " 67%|██████▋   | 905/1341 [09:55<04:32,  1.60it/s]"
     ]
    },
    {
     "name": "stdout",
     "output_type": "stream",
     "text": [
      "Intel\n"
     ]
    },
    {
     "name": "stderr",
     "output_type": "stream",
     "text": [
      " 68%|██████▊   | 906/1341 [09:55<04:41,  1.55it/s]"
     ]
    },
    {
     "name": "stdout",
     "output_type": "stream",
     "text": [
      "I do not know.\n"
     ]
    },
    {
     "name": "stderr",
     "output_type": "stream",
     "text": [
      " 68%|██████▊   | 907/1341 [09:56<04:32,  1.60it/s]"
     ]
    },
    {
     "name": "stdout",
     "output_type": "stream",
     "text": [
      "17.3 inches\n"
     ]
    },
    {
     "name": "stderr",
     "output_type": "stream",
     "text": [
      " 68%|██████▊   | 908/1341 [09:57<04:40,  1.54it/s]"
     ]
    },
    {
     "name": "stdout",
     "output_type": "stream",
     "text": [
      "Intel\n"
     ]
    },
    {
     "name": "stderr",
     "output_type": "stream",
     "text": [
      " 68%|██████▊   | 909/1341 [09:57<04:53,  1.47it/s]"
     ]
    },
    {
     "name": "stdout",
     "output_type": "stream",
     "text": [
      "I do not know.\n"
     ]
    },
    {
     "name": "stderr",
     "output_type": "stream",
     "text": [
      " 68%|██████▊   | 910/1341 [09:58<04:45,  1.51it/s]"
     ]
    },
    {
     "name": "stdout",
     "output_type": "stream",
     "text": [
      "16.2 inches\n"
     ]
    },
    {
     "name": "stderr",
     "output_type": "stream",
     "text": [
      " 68%|██████▊   | 911/1341 [09:59<04:34,  1.57it/s]"
     ]
    },
    {
     "name": "stdout",
     "output_type": "stream",
     "text": [
      "I do not know.\n"
     ]
    },
    {
     "name": "stderr",
     "output_type": "stream",
     "text": [
      " 68%|██████▊   | 912/1341 [09:59<04:25,  1.62it/s]"
     ]
    },
    {
     "name": "stdout",
     "output_type": "stream",
     "text": [
      "I do not know.\n"
     ]
    },
    {
     "name": "stderr",
     "output_type": "stream",
     "text": [
      " 68%|██████▊   | 913/1341 [10:00<04:23,  1.62it/s]"
     ]
    },
    {
     "name": "stdout",
     "output_type": "stream",
     "text": [
      "14.2 inches\n"
     ]
    },
    {
     "name": "stderr",
     "output_type": "stream",
     "text": [
      " 68%|██████▊   | 914/1341 [10:01<04:48,  1.48it/s]"
     ]
    },
    {
     "name": "stdout",
     "output_type": "stream",
     "text": [
      "I do not know.\n"
     ]
    },
    {
     "name": "stderr",
     "output_type": "stream",
     "text": [
      " 68%|██████▊   | 915/1341 [10:01<04:44,  1.50it/s]"
     ]
    },
    {
     "name": "stdout",
     "output_type": "stream",
     "text": [
      "I do not know.\n"
     ]
    },
    {
     "name": "stderr",
     "output_type": "stream",
     "text": [
      " 68%|██████▊   | 916/1341 [10:02<04:53,  1.45it/s]"
     ]
    },
    {
     "name": "stdout",
     "output_type": "stream",
     "text": [
      "14.2 inches\n"
     ]
    },
    {
     "name": "stderr",
     "output_type": "stream",
     "text": [
      " 68%|██████▊   | 917/1341 [10:02<04:23,  1.61it/s]"
     ]
    },
    {
     "name": "stdout",
     "output_type": "stream",
     "text": [
      "M3 Pro\n"
     ]
    },
    {
     "name": "stderr",
     "output_type": "stream",
     "text": [
      " 68%|██████▊   | 918/1341 [10:03<04:28,  1.57it/s]"
     ]
    },
    {
     "name": "stdout",
     "output_type": "stream",
     "text": [
      "I do not know.\n"
     ]
    },
    {
     "name": "stderr",
     "output_type": "stream",
     "text": [
      " 69%|██████▊   | 919/1341 [10:04<04:34,  1.54it/s]"
     ]
    },
    {
     "name": "stdout",
     "output_type": "stream",
     "text": [
      "14.0 inches\n"
     ]
    },
    {
     "name": "stderr",
     "output_type": "stream",
     "text": [
      " 69%|██████▊   | 920/1341 [10:04<04:29,  1.56it/s]"
     ]
    },
    {
     "name": "stdout",
     "output_type": "stream",
     "text": [
      "Intel\n"
     ]
    },
    {
     "name": "stderr",
     "output_type": "stream",
     "text": [
      " 69%|██████▊   | 921/1341 [10:05<04:21,  1.60it/s]"
     ]
    },
    {
     "name": "stdout",
     "output_type": "stream",
     "text": [
      "I do not know.\n"
     ]
    },
    {
     "name": "stderr",
     "output_type": "stream",
     "text": [
      " 69%|██████▉   | 922/1341 [10:06<04:40,  1.49it/s]"
     ]
    },
    {
     "name": "stdout",
     "output_type": "stream",
     "text": [
      "16.0 inches\n"
     ]
    },
    {
     "name": "stderr",
     "output_type": "stream",
     "text": [
      " 69%|██████▉   | 923/1341 [10:06<04:53,  1.42it/s]"
     ]
    },
    {
     "name": "stdout",
     "output_type": "stream",
     "text": [
      "Intel\n"
     ]
    },
    {
     "name": "stderr",
     "output_type": "stream",
     "text": [
      " 69%|██████▉   | 924/1341 [10:07<04:45,  1.46it/s]"
     ]
    },
    {
     "name": "stdout",
     "output_type": "stream",
     "text": [
      "I do not know.\n"
     ]
    },
    {
     "name": "stderr",
     "output_type": "stream",
     "text": [
      " 69%|██████▉   | 925/1341 [10:08<04:41,  1.48it/s]"
     ]
    },
    {
     "name": "stdout",
     "output_type": "stream",
     "text": [
      "14.2 inches\n"
     ]
    },
    {
     "name": "stderr",
     "output_type": "stream",
     "text": [
      " 69%|██████▉   | 926/1341 [10:08<04:28,  1.55it/s]"
     ]
    },
    {
     "name": "stdout",
     "output_type": "stream",
     "text": [
      "I do not know.\n"
     ]
    },
    {
     "name": "stderr",
     "output_type": "stream",
     "text": [
      " 69%|██████▉   | 927/1341 [10:09<04:28,  1.54it/s]"
     ]
    },
    {
     "name": "stdout",
     "output_type": "stream",
     "text": [
      "I do not know.\n"
     ]
    },
    {
     "name": "stderr",
     "output_type": "stream",
     "text": [
      " 69%|██████▉   | 928/1341 [10:10<04:24,  1.56it/s]"
     ]
    },
    {
     "name": "stdout",
     "output_type": "stream",
     "text": [
      "15.6 inches\n"
     ]
    },
    {
     "name": "stderr",
     "output_type": "stream",
     "text": [
      " 69%|██████▉   | 929/1341 [10:10<04:19,  1.59it/s]"
     ]
    },
    {
     "name": "stdout",
     "output_type": "stream",
     "text": [
      "Intel\n"
     ]
    },
    {
     "name": "stderr",
     "output_type": "stream",
     "text": [
      " 69%|██████▉   | 930/1341 [10:11<04:13,  1.62it/s]"
     ]
    },
    {
     "name": "stdout",
     "output_type": "stream",
     "text": [
      "I do not know.\n"
     ]
    },
    {
     "name": "stderr",
     "output_type": "stream",
     "text": [
      " 69%|██████▉   | 931/1341 [10:11<03:52,  1.76it/s]"
     ]
    },
    {
     "name": "stdout",
     "output_type": "stream",
     "text": [
      "16.0 inches\n"
     ]
    },
    {
     "name": "stderr",
     "output_type": "stream",
     "text": [
      " 70%|██████▉   | 932/1341 [10:12<03:54,  1.75it/s]"
     ]
    },
    {
     "name": "stdout",
     "output_type": "stream",
     "text": [
      "Intel\n"
     ]
    },
    {
     "name": "stderr",
     "output_type": "stream",
     "text": [
      " 70%|██████▉   | 933/1341 [10:13<04:03,  1.68it/s]"
     ]
    },
    {
     "name": "stdout",
     "output_type": "stream",
     "text": [
      "I do not know.\n"
     ]
    },
    {
     "name": "stderr",
     "output_type": "stream",
     "text": [
      " 70%|██████▉   | 934/1341 [10:13<03:58,  1.70it/s]"
     ]
    },
    {
     "name": "stdout",
     "output_type": "stream",
     "text": [
      "16.0 inches\n"
     ]
    },
    {
     "name": "stderr",
     "output_type": "stream",
     "text": [
      " 70%|██████▉   | 935/1341 [10:14<05:24,  1.25it/s]"
     ]
    },
    {
     "name": "stdout",
     "output_type": "stream",
     "text": [
      "Ryzen 7\n"
     ]
    },
    {
     "name": "stderr",
     "output_type": "stream",
     "text": [
      " 70%|██████▉   | 936/1341 [10:15<05:05,  1.33it/s]"
     ]
    },
    {
     "name": "stdout",
     "output_type": "stream",
     "text": [
      "I do not know.\n"
     ]
    },
    {
     "name": "stderr",
     "output_type": "stream",
     "text": [
      " 70%|██████▉   | 937/1341 [10:16<05:43,  1.17it/s]"
     ]
    },
    {
     "name": "stdout",
     "output_type": "stream",
     "text": [
      "14 inches\n"
     ]
    },
    {
     "name": "stderr",
     "output_type": "stream",
     "text": [
      " 70%|██████▉   | 938/1341 [10:17<05:12,  1.29it/s]"
     ]
    },
    {
     "name": "stdout",
     "output_type": "stream",
     "text": [
      "I do not know.\n"
     ]
    },
    {
     "name": "stderr",
     "output_type": "stream",
     "text": [
      " 70%|███████   | 939/1341 [10:17<04:56,  1.36it/s]"
     ]
    },
    {
     "name": "stdout",
     "output_type": "stream",
     "text": [
      "I do not know.\n"
     ]
    },
    {
     "name": "stderr",
     "output_type": "stream",
     "text": [
      " 70%|███████   | 940/1341 [10:18<04:49,  1.39it/s]"
     ]
    },
    {
     "name": "stdout",
     "output_type": "stream",
     "text": [
      "15.6 inches\n"
     ]
    },
    {
     "name": "stderr",
     "output_type": "stream",
     "text": [
      " 70%|███████   | 941/1341 [10:19<04:38,  1.44it/s]"
     ]
    },
    {
     "name": "stdout",
     "output_type": "stream",
     "text": [
      "Intel\n"
     ]
    },
    {
     "name": "stderr",
     "output_type": "stream",
     "text": [
      " 70%|███████   | 942/1341 [10:19<04:26,  1.49it/s]"
     ]
    },
    {
     "name": "stdout",
     "output_type": "stream",
     "text": [
      "I do not know.\n"
     ]
    },
    {
     "name": "stderr",
     "output_type": "stream",
     "text": [
      " 70%|███████   | 943/1341 [10:20<04:32,  1.46it/s]"
     ]
    },
    {
     "name": "stdout",
     "output_type": "stream",
     "text": [
      "14 inches\n"
     ]
    },
    {
     "name": "stderr",
     "output_type": "stream",
     "text": [
      " 70%|███████   | 944/1341 [10:21<04:23,  1.51it/s]"
     ]
    },
    {
     "name": "stdout",
     "output_type": "stream",
     "text": [
      "Intel Core i7\n"
     ]
    },
    {
     "name": "stderr",
     "output_type": "stream",
     "text": [
      " 70%|███████   | 945/1341 [10:21<04:27,  1.48it/s]"
     ]
    },
    {
     "name": "stdout",
     "output_type": "stream",
     "text": [
      "I do not know.\n"
     ]
    },
    {
     "name": "stderr",
     "output_type": "stream",
     "text": [
      " 71%|███████   | 946/1341 [10:22<04:15,  1.55it/s]"
     ]
    },
    {
     "name": "stdout",
     "output_type": "stream",
     "text": [
      "15.6 inches\n"
     ]
    },
    {
     "name": "stderr",
     "output_type": "stream",
     "text": [
      " 71%|███████   | 947/1341 [10:22<04:02,  1.63it/s]"
     ]
    },
    {
     "name": "stdout",
     "output_type": "stream",
     "text": [
      "Intel\n"
     ]
    },
    {
     "name": "stderr",
     "output_type": "stream",
     "text": [
      " 71%|███████   | 948/1341 [10:23<04:00,  1.63it/s]"
     ]
    },
    {
     "name": "stdout",
     "output_type": "stream",
     "text": [
      "I do not know.\n"
     ]
    },
    {
     "name": "stderr",
     "output_type": "stream",
     "text": [
      " 71%|███████   | 949/1341 [10:24<04:21,  1.50it/s]"
     ]
    },
    {
     "name": "stdout",
     "output_type": "stream",
     "text": [
      "14.0 inches\n"
     ]
    },
    {
     "name": "stderr",
     "output_type": "stream",
     "text": [
      " 71%|███████   | 950/1341 [10:24<04:05,  1.59it/s]"
     ]
    },
    {
     "name": "stdout",
     "output_type": "stream",
     "text": [
      "Intel\n"
     ]
    },
    {
     "name": "stderr",
     "output_type": "stream",
     "text": [
      " 71%|███████   | 951/1341 [10:25<03:57,  1.64it/s]"
     ]
    },
    {
     "name": "stdout",
     "output_type": "stream",
     "text": [
      "I do not know.\n"
     ]
    },
    {
     "name": "stderr",
     "output_type": "stream",
     "text": [
      " 71%|███████   | 952/1341 [10:26<04:02,  1.60it/s]"
     ]
    },
    {
     "name": "stdout",
     "output_type": "stream",
     "text": [
      "14 inches\n"
     ]
    },
    {
     "name": "stderr",
     "output_type": "stream",
     "text": [
      " 71%|███████   | 953/1341 [10:26<03:57,  1.64it/s]"
     ]
    },
    {
     "name": "stdout",
     "output_type": "stream",
     "text": [
      "Intel Core i7\n"
     ]
    },
    {
     "name": "stderr",
     "output_type": "stream",
     "text": [
      " 71%|███████   | 954/1341 [10:27<04:03,  1.59it/s]"
     ]
    },
    {
     "name": "stdout",
     "output_type": "stream",
     "text": [
      "I do not know.\n"
     ]
    },
    {
     "name": "stderr",
     "output_type": "stream",
     "text": [
      " 71%|███████   | 955/1341 [10:28<04:15,  1.51it/s]"
     ]
    },
    {
     "name": "stdout",
     "output_type": "stream",
     "text": [
      "15.6 inches\n"
     ]
    },
    {
     "name": "stderr",
     "output_type": "stream",
     "text": [
      " 71%|███████▏  | 956/1341 [10:28<04:27,  1.44it/s]"
     ]
    },
    {
     "name": "stdout",
     "output_type": "stream",
     "text": [
      "I do not know.\n"
     ]
    },
    {
     "name": "stderr",
     "output_type": "stream",
     "text": [
      " 71%|███████▏  | 957/1341 [10:29<04:39,  1.37it/s]"
     ]
    },
    {
     "name": "stdout",
     "output_type": "stream",
     "text": [
      "I do not know.\n"
     ]
    },
    {
     "name": "stderr",
     "output_type": "stream",
     "text": [
      " 71%|███████▏  | 958/1341 [10:30<04:26,  1.44it/s]"
     ]
    },
    {
     "name": "stdout",
     "output_type": "stream",
     "text": [
      "13.6 inches\n"
     ]
    },
    {
     "name": "stderr",
     "output_type": "stream",
     "text": [
      " 72%|███████▏  | 959/1341 [10:30<04:23,  1.45it/s]"
     ]
    },
    {
     "name": "stdout",
     "output_type": "stream",
     "text": [
      "I do not know.\n"
     ]
    },
    {
     "name": "stderr",
     "output_type": "stream",
     "text": [
      " 72%|███████▏  | 960/1341 [10:31<04:20,  1.47it/s]"
     ]
    },
    {
     "name": "stdout",
     "output_type": "stream",
     "text": [
      "I do not know.\n"
     ]
    },
    {
     "name": "stderr",
     "output_type": "stream",
     "text": [
      " 72%|███████▏  | 961/1341 [10:32<05:01,  1.26it/s]"
     ]
    },
    {
     "name": "stdout",
     "output_type": "stream",
     "text": [
      "15.6 inches\n"
     ]
    },
    {
     "name": "stderr",
     "output_type": "stream",
     "text": [
      " 72%|███████▏  | 962/1341 [10:33<05:18,  1.19it/s]"
     ]
    },
    {
     "name": "stdout",
     "output_type": "stream",
     "text": [
      "Intel Core i7\n"
     ]
    },
    {
     "name": "stderr",
     "output_type": "stream",
     "text": [
      " 72%|███████▏  | 963/1341 [10:34<05:03,  1.24it/s]"
     ]
    },
    {
     "name": "stdout",
     "output_type": "stream",
     "text": [
      "I do not know.\n"
     ]
    },
    {
     "name": "stderr",
     "output_type": "stream",
     "text": [
      " 72%|███████▏  | 964/1341 [10:34<04:37,  1.36it/s]"
     ]
    },
    {
     "name": "stdout",
     "output_type": "stream",
     "text": [
      "15.6 inches\n"
     ]
    },
    {
     "name": "stderr",
     "output_type": "stream",
     "text": [
      " 72%|███████▏  | 965/1341 [10:35<04:21,  1.44it/s]"
     ]
    },
    {
     "name": "stdout",
     "output_type": "stream",
     "text": [
      "Intel\n"
     ]
    },
    {
     "name": "stderr",
     "output_type": "stream",
     "text": [
      " 72%|███████▏  | 966/1341 [10:37<07:02,  1.13s/it]"
     ]
    },
    {
     "name": "stdout",
     "output_type": "stream",
     "text": [
      "I do not know.\n"
     ]
    },
    {
     "name": "stderr",
     "output_type": "stream",
     "text": [
      " 72%|███████▏  | 967/1341 [10:38<06:01,  1.03it/s]"
     ]
    },
    {
     "name": "stdout",
     "output_type": "stream",
     "text": [
      "15.6 inches\n"
     ]
    },
    {
     "name": "stderr",
     "output_type": "stream",
     "text": [
      " 72%|███████▏  | 968/1341 [10:38<05:12,  1.19it/s]"
     ]
    },
    {
     "name": "stdout",
     "output_type": "stream",
     "text": [
      "Intel\n"
     ]
    },
    {
     "name": "stderr",
     "output_type": "stream",
     "text": [
      " 72%|███████▏  | 969/1341 [10:39<04:45,  1.30it/s]"
     ]
    },
    {
     "name": "stdout",
     "output_type": "stream",
     "text": [
      "I do not know.\n"
     ]
    },
    {
     "name": "stderr",
     "output_type": "stream",
     "text": [
      " 72%|███████▏  | 970/1341 [10:39<04:12,  1.47it/s]"
     ]
    },
    {
     "name": "stdout",
     "output_type": "stream",
     "text": [
      "14 inches\n"
     ]
    },
    {
     "name": "stderr",
     "output_type": "stream",
     "text": [
      " 72%|███████▏  | 971/1341 [10:40<04:47,  1.29it/s]"
     ]
    },
    {
     "name": "stdout",
     "output_type": "stream",
     "text": [
      "Intel\n"
     ]
    },
    {
     "name": "stderr",
     "output_type": "stream",
     "text": [
      " 72%|███████▏  | 972/1341 [10:41<04:22,  1.41it/s]"
     ]
    },
    {
     "name": "stdout",
     "output_type": "stream",
     "text": [
      "I do not know.\n"
     ]
    },
    {
     "name": "stderr",
     "output_type": "stream",
     "text": [
      " 73%|███████▎  | 973/1341 [10:41<04:06,  1.49it/s]"
     ]
    },
    {
     "name": "stdout",
     "output_type": "stream",
     "text": [
      "15.6 inches\n"
     ]
    },
    {
     "name": "stderr",
     "output_type": "stream",
     "text": [
      " 73%|███████▎  | 974/1341 [10:42<04:41,  1.31it/s]"
     ]
    },
    {
     "name": "stdout",
     "output_type": "stream",
     "text": [
      "Intel Core i5\n"
     ]
    },
    {
     "name": "stderr",
     "output_type": "stream",
     "text": [
      " 73%|███████▎  | 975/1341 [10:43<04:23,  1.39it/s]"
     ]
    },
    {
     "name": "stdout",
     "output_type": "stream",
     "text": [
      "I do not know.\n"
     ]
    },
    {
     "name": "stderr",
     "output_type": "stream",
     "text": [
      " 73%|███████▎  | 976/1341 [10:44<04:13,  1.44it/s]"
     ]
    },
    {
     "name": "stdout",
     "output_type": "stream",
     "text": [
      "14 inches\n"
     ]
    },
    {
     "name": "stderr",
     "output_type": "stream",
     "text": [
      " 73%|███████▎  | 977/1341 [10:44<04:13,  1.43it/s]"
     ]
    },
    {
     "name": "stdout",
     "output_type": "stream",
     "text": [
      "I do not know.\n"
     ]
    },
    {
     "name": "stderr",
     "output_type": "stream",
     "text": [
      " 73%|███████▎  | 978/1341 [10:45<04:05,  1.48it/s]"
     ]
    },
    {
     "name": "stdout",
     "output_type": "stream",
     "text": [
      "I do not know.\n"
     ]
    },
    {
     "name": "stderr",
     "output_type": "stream",
     "text": [
      " 73%|███████▎  | 979/1341 [10:46<04:00,  1.50it/s]"
     ]
    },
    {
     "name": "stdout",
     "output_type": "stream",
     "text": [
      "14 inches\n"
     ]
    },
    {
     "name": "stderr",
     "output_type": "stream",
     "text": [
      " 73%|███████▎  | 980/1341 [10:46<03:54,  1.54it/s]"
     ]
    },
    {
     "name": "stdout",
     "output_type": "stream",
     "text": [
      "Intel\n"
     ]
    },
    {
     "name": "stderr",
     "output_type": "stream",
     "text": [
      " 73%|███████▎  | 981/1341 [10:47<03:52,  1.55it/s]"
     ]
    },
    {
     "name": "stdout",
     "output_type": "stream",
     "text": [
      "I do not know.\n"
     ]
    },
    {
     "name": "stderr",
     "output_type": "stream",
     "text": [
      " 73%|███████▎  | 982/1341 [10:48<03:42,  1.61it/s]"
     ]
    },
    {
     "name": "stdout",
     "output_type": "stream",
     "text": [
      "16 inches\n"
     ]
    },
    {
     "name": "stderr",
     "output_type": "stream",
     "text": [
      " 73%|███████▎  | 983/1341 [10:48<03:47,  1.58it/s]"
     ]
    },
    {
     "name": "stdout",
     "output_type": "stream",
     "text": [
      "Intel\n"
     ]
    },
    {
     "name": "stderr",
     "output_type": "stream",
     "text": [
      " 73%|███████▎  | 984/1341 [10:49<03:42,  1.60it/s]"
     ]
    },
    {
     "name": "stdout",
     "output_type": "stream",
     "text": [
      "I do not know.\n"
     ]
    },
    {
     "name": "stderr",
     "output_type": "stream",
     "text": [
      " 73%|███████▎  | 985/1341 [10:50<03:58,  1.49it/s]"
     ]
    },
    {
     "name": "stdout",
     "output_type": "stream",
     "text": [
      "I do not know.\n"
     ]
    },
    {
     "name": "stderr",
     "output_type": "stream",
     "text": [
      " 74%|███████▎  | 986/1341 [10:50<03:53,  1.52it/s]"
     ]
    },
    {
     "name": "stdout",
     "output_type": "stream",
     "text": [
      "I do not know.\n"
     ]
    },
    {
     "name": "stderr",
     "output_type": "stream",
     "text": [
      " 74%|███████▎  | 987/1341 [10:51<03:43,  1.58it/s]"
     ]
    },
    {
     "name": "stdout",
     "output_type": "stream",
     "text": [
      "I do not know.\n"
     ]
    },
    {
     "name": "stderr",
     "output_type": "stream",
     "text": [
      " 74%|███████▎  | 988/1341 [10:51<03:39,  1.61it/s]"
     ]
    },
    {
     "name": "stdout",
     "output_type": "stream",
     "text": [
      "13.3 inches\n"
     ]
    },
    {
     "name": "stderr",
     "output_type": "stream",
     "text": [
      " 74%|███████▍  | 989/1341 [10:52<03:28,  1.69it/s]"
     ]
    },
    {
     "name": "stdout",
     "output_type": "stream",
     "text": [
      "Intel\n"
     ]
    },
    {
     "name": "stderr",
     "output_type": "stream",
     "text": [
      " 74%|███████▍  | 990/1341 [10:53<03:35,  1.63it/s]"
     ]
    },
    {
     "name": "stdout",
     "output_type": "stream",
     "text": [
      "I do not know.\n"
     ]
    },
    {
     "name": "stderr",
     "output_type": "stream",
     "text": [
      " 74%|███████▍  | 991/1341 [10:53<03:35,  1.63it/s]"
     ]
    },
    {
     "name": "stdout",
     "output_type": "stream",
     "text": [
      "14 inches\n"
     ]
    },
    {
     "name": "stderr",
     "output_type": "stream",
     "text": [
      " 74%|███████▍  | 992/1341 [10:54<03:44,  1.55it/s]"
     ]
    },
    {
     "name": "stdout",
     "output_type": "stream",
     "text": [
      "Intel Core i7\n"
     ]
    },
    {
     "name": "stderr",
     "output_type": "stream",
     "text": [
      " 74%|███████▍  | 993/1341 [10:54<03:35,  1.61it/s]"
     ]
    },
    {
     "name": "stdout",
     "output_type": "stream",
     "text": [
      "I do not know.\n"
     ]
    },
    {
     "name": "stderr",
     "output_type": "stream",
     "text": [
      " 74%|███████▍  | 994/1341 [10:55<04:00,  1.44it/s]"
     ]
    },
    {
     "name": "stdout",
     "output_type": "stream",
     "text": [
      "15.6 inches\n"
     ]
    },
    {
     "name": "stderr",
     "output_type": "stream",
     "text": [
      " 74%|███████▍  | 995/1341 [10:56<03:55,  1.47it/s]"
     ]
    },
    {
     "name": "stdout",
     "output_type": "stream",
     "text": [
      "Intel Core i5\n"
     ]
    },
    {
     "name": "stderr",
     "output_type": "stream",
     "text": [
      " 74%|███████▍  | 996/1341 [10:56<03:40,  1.57it/s]"
     ]
    },
    {
     "name": "stdout",
     "output_type": "stream",
     "text": [
      "I do not know.\n"
     ]
    },
    {
     "name": "stderr",
     "output_type": "stream",
     "text": [
      " 74%|███████▍  | 997/1341 [10:57<03:31,  1.63it/s]"
     ]
    },
    {
     "name": "stdout",
     "output_type": "stream",
     "text": [
      "15.6 inches\n"
     ]
    },
    {
     "name": "stderr",
     "output_type": "stream",
     "text": [
      " 74%|███████▍  | 998/1341 [10:58<03:25,  1.67it/s]"
     ]
    },
    {
     "name": "stdout",
     "output_type": "stream",
     "text": [
      "Intel\n"
     ]
    },
    {
     "name": "stderr",
     "output_type": "stream",
     "text": [
      " 74%|███████▍  | 999/1341 [10:58<03:20,  1.70it/s]"
     ]
    },
    {
     "name": "stdout",
     "output_type": "stream",
     "text": [
      "I do not know.\n"
     ]
    },
    {
     "name": "stderr",
     "output_type": "stream",
     "text": [
      " 75%|███████▍  | 1000/1341 [10:59<03:29,  1.63it/s]"
     ]
    },
    {
     "name": "stdout",
     "output_type": "stream",
     "text": [
      "15.6 inches\n"
     ]
    },
    {
     "name": "stderr",
     "output_type": "stream",
     "text": [
      " 75%|███████▍  | 1001/1341 [10:59<03:21,  1.69it/s]"
     ]
    },
    {
     "name": "stdout",
     "output_type": "stream",
     "text": [
      "AMD\n"
     ]
    },
    {
     "name": "stderr",
     "output_type": "stream",
     "text": [
      " 75%|███████▍  | 1002/1341 [11:00<03:23,  1.66it/s]"
     ]
    },
    {
     "name": "stdout",
     "output_type": "stream",
     "text": [
      "I do not know.\n"
     ]
    },
    {
     "name": "stderr",
     "output_type": "stream",
     "text": [
      " 75%|███████▍  | 1003/1341 [11:01<03:34,  1.58it/s]"
     ]
    },
    {
     "name": "stdout",
     "output_type": "stream",
     "text": [
      "15.6 inches\n"
     ]
    },
    {
     "name": "stderr",
     "output_type": "stream",
     "text": [
      " 75%|███████▍  | 1004/1341 [11:01<03:27,  1.62it/s]"
     ]
    },
    {
     "name": "stdout",
     "output_type": "stream",
     "text": [
      "AMD\n"
     ]
    },
    {
     "name": "stderr",
     "output_type": "stream",
     "text": [
      " 75%|███████▍  | 1005/1341 [11:02<03:51,  1.45it/s]"
     ]
    },
    {
     "name": "stdout",
     "output_type": "stream",
     "text": [
      "I do not know.\n"
     ]
    },
    {
     "name": "stderr",
     "output_type": "stream",
     "text": [
      " 75%|███████▌  | 1006/1341 [11:03<03:56,  1.42it/s]"
     ]
    },
    {
     "name": "stdout",
     "output_type": "stream",
     "text": [
      "13.3 inches\n"
     ]
    },
    {
     "name": "stderr",
     "output_type": "stream",
     "text": [
      " 75%|███████▌  | 1007/1341 [11:03<03:34,  1.55it/s]"
     ]
    },
    {
     "name": "stdout",
     "output_type": "stream",
     "text": [
      "Apple\n"
     ]
    },
    {
     "name": "stderr",
     "output_type": "stream",
     "text": [
      " 75%|███████▌  | 1008/1341 [11:04<03:43,  1.49it/s]"
     ]
    },
    {
     "name": "stdout",
     "output_type": "stream",
     "text": [
      "I do not know.\n"
     ]
    },
    {
     "name": "stderr",
     "output_type": "stream",
     "text": [
      " 75%|███████▌  | 1009/1341 [11:05<04:02,  1.37it/s]"
     ]
    },
    {
     "name": "stdout",
     "output_type": "stream",
     "text": [
      "14.0 inches\n"
     ]
    },
    {
     "name": "stderr",
     "output_type": "stream",
     "text": [
      " 75%|███████▌  | 1010/1341 [11:06<03:45,  1.47it/s]"
     ]
    },
    {
     "name": "stdout",
     "output_type": "stream",
     "text": [
      "Intel Core i7\n"
     ]
    },
    {
     "name": "stderr",
     "output_type": "stream",
     "text": [
      " 75%|███████▌  | 1011/1341 [11:06<03:43,  1.48it/s]"
     ]
    },
    {
     "name": "stdout",
     "output_type": "stream",
     "text": [
      "I do not know.\n"
     ]
    },
    {
     "name": "stderr",
     "output_type": "stream",
     "text": [
      " 75%|███████▌  | 1012/1341 [11:07<03:31,  1.56it/s]"
     ]
    },
    {
     "name": "stdout",
     "output_type": "stream",
     "text": [
      "14 inches\n"
     ]
    },
    {
     "name": "stderr",
     "output_type": "stream",
     "text": [
      " 76%|███████▌  | 1013/1341 [11:07<03:27,  1.58it/s]"
     ]
    },
    {
     "name": "stdout",
     "output_type": "stream",
     "text": [
      "Intel\n"
     ]
    },
    {
     "name": "stderr",
     "output_type": "stream",
     "text": [
      " 76%|███████▌  | 1014/1341 [11:09<04:28,  1.22it/s]"
     ]
    },
    {
     "name": "stdout",
     "output_type": "stream",
     "text": [
      "I do not know.\n"
     ]
    },
    {
     "name": "stderr",
     "output_type": "stream",
     "text": [
      " 76%|███████▌  | 1015/1341 [11:09<04:06,  1.32it/s]"
     ]
    },
    {
     "name": "stdout",
     "output_type": "stream",
     "text": [
      "13.6 inches\n"
     ]
    },
    {
     "name": "stderr",
     "output_type": "stream",
     "text": [
      " 76%|███████▌  | 1016/1341 [11:10<04:09,  1.30it/s]"
     ]
    },
    {
     "name": "stdout",
     "output_type": "stream",
     "text": [
      "I do not know.\n"
     ]
    },
    {
     "name": "stderr",
     "output_type": "stream",
     "text": [
      " 76%|███████▌  | 1017/1341 [11:11<03:51,  1.40it/s]"
     ]
    },
    {
     "name": "stdout",
     "output_type": "stream",
     "text": [
      "I do not know.\n"
     ]
    },
    {
     "name": "stderr",
     "output_type": "stream",
     "text": [
      " 76%|███████▌  | 1018/1341 [11:11<03:34,  1.50it/s]"
     ]
    },
    {
     "name": "stdout",
     "output_type": "stream",
     "text": [
      "15.6 inches\n"
     ]
    },
    {
     "name": "stderr",
     "output_type": "stream",
     "text": [
      " 76%|███████▌  | 1019/1341 [11:12<03:22,  1.59it/s]"
     ]
    },
    {
     "name": "stdout",
     "output_type": "stream",
     "text": [
      "Intel\n"
     ]
    },
    {
     "name": "stderr",
     "output_type": "stream",
     "text": [
      " 76%|███████▌  | 1020/1341 [11:12<03:25,  1.57it/s]"
     ]
    },
    {
     "name": "stdout",
     "output_type": "stream",
     "text": [
      "I do not know.\n"
     ]
    },
    {
     "name": "stderr",
     "output_type": "stream",
     "text": [
      " 76%|███████▌  | 1021/1341 [11:13<03:46,  1.41it/s]"
     ]
    },
    {
     "name": "stdout",
     "output_type": "stream",
     "text": [
      "14.0 inches\n"
     ]
    },
    {
     "name": "stderr",
     "output_type": "stream",
     "text": [
      " 76%|███████▌  | 1022/1341 [11:14<03:38,  1.46it/s]"
     ]
    },
    {
     "name": "stdout",
     "output_type": "stream",
     "text": [
      "Intel Core i7\n"
     ]
    },
    {
     "name": "stderr",
     "output_type": "stream",
     "text": [
      " 76%|███████▋  | 1023/1341 [11:14<03:22,  1.57it/s]"
     ]
    },
    {
     "name": "stdout",
     "output_type": "stream",
     "text": [
      "I do not know.\n"
     ]
    },
    {
     "name": "stderr",
     "output_type": "stream",
     "text": [
      " 76%|███████▋  | 1024/1341 [11:15<03:11,  1.65it/s]"
     ]
    },
    {
     "name": "stdout",
     "output_type": "stream",
     "text": [
      "15.6 inches\n"
     ]
    },
    {
     "name": "stderr",
     "output_type": "stream",
     "text": [
      " 76%|███████▋  | 1025/1341 [11:16<03:16,  1.61it/s]"
     ]
    },
    {
     "name": "stdout",
     "output_type": "stream",
     "text": [
      "Intel Core i7\n"
     ]
    },
    {
     "name": "stderr",
     "output_type": "stream",
     "text": [
      " 77%|███████▋  | 1026/1341 [11:16<03:09,  1.66it/s]"
     ]
    },
    {
     "name": "stdout",
     "output_type": "stream",
     "text": [
      "I do not know.\n"
     ]
    },
    {
     "name": "stderr",
     "output_type": "stream",
     "text": [
      " 77%|███████▋  | 1027/1341 [11:17<03:06,  1.68it/s]"
     ]
    },
    {
     "name": "stdout",
     "output_type": "stream",
     "text": [
      "15.6 inches\n"
     ]
    },
    {
     "name": "stderr",
     "output_type": "stream",
     "text": [
      " 77%|███████▋  | 1028/1341 [11:17<03:04,  1.69it/s]"
     ]
    },
    {
     "name": "stdout",
     "output_type": "stream",
     "text": [
      "Intel Core i5\n"
     ]
    },
    {
     "name": "stderr",
     "output_type": "stream",
     "text": [
      " 77%|███████▋  | 1029/1341 [11:18<03:08,  1.66it/s]"
     ]
    },
    {
     "name": "stdout",
     "output_type": "stream",
     "text": [
      "I do not know.\n"
     ]
    },
    {
     "name": "stderr",
     "output_type": "stream",
     "text": [
      " 77%|███████▋  | 1030/1341 [11:19<03:01,  1.71it/s]"
     ]
    },
    {
     "name": "stdout",
     "output_type": "stream",
     "text": [
      "14.0 inches\n"
     ]
    },
    {
     "name": "stderr",
     "output_type": "stream",
     "text": [
      " 77%|███████▋  | 1031/1341 [11:19<02:54,  1.78it/s]"
     ]
    },
    {
     "name": "stdout",
     "output_type": "stream",
     "text": [
      "Intel\n"
     ]
    },
    {
     "name": "stderr",
     "output_type": "stream",
     "text": [
      " 77%|███████▋  | 1032/1341 [11:20<03:02,  1.70it/s]"
     ]
    },
    {
     "name": "stdout",
     "output_type": "stream",
     "text": [
      "I do not know.\n"
     ]
    },
    {
     "name": "stderr",
     "output_type": "stream",
     "text": [
      " 77%|███████▋  | 1033/1341 [11:20<03:04,  1.67it/s]"
     ]
    },
    {
     "name": "stdout",
     "output_type": "stream",
     "text": [
      "14 inches\n"
     ]
    },
    {
     "name": "stderr",
     "output_type": "stream",
     "text": [
      " 77%|███████▋  | 1034/1341 [11:21<02:59,  1.71it/s]"
     ]
    },
    {
     "name": "stdout",
     "output_type": "stream",
     "text": [
      "Intel\n"
     ]
    },
    {
     "name": "stderr",
     "output_type": "stream",
     "text": [
      " 77%|███████▋  | 1035/1341 [11:22<03:12,  1.59it/s]"
     ]
    },
    {
     "name": "stdout",
     "output_type": "stream",
     "text": [
      "I do not know.\n"
     ]
    },
    {
     "name": "stderr",
     "output_type": "stream",
     "text": [
      " 77%|███████▋  | 1036/1341 [11:22<03:04,  1.66it/s]"
     ]
    },
    {
     "name": "stdout",
     "output_type": "stream",
     "text": [
      "14 inches\n"
     ]
    },
    {
     "name": "stderr",
     "output_type": "stream",
     "text": [
      " 77%|███████▋  | 1037/1341 [11:23<03:01,  1.67it/s]"
     ]
    },
    {
     "name": "stdout",
     "output_type": "stream",
     "text": [
      "Intel\n"
     ]
    },
    {
     "name": "stderr",
     "output_type": "stream",
     "text": [
      " 77%|███████▋  | 1038/1341 [11:23<02:57,  1.70it/s]"
     ]
    },
    {
     "name": "stdout",
     "output_type": "stream",
     "text": [
      "I do not know.\n"
     ]
    },
    {
     "name": "stderr",
     "output_type": "stream",
     "text": [
      " 77%|███████▋  | 1039/1341 [11:24<03:02,  1.65it/s]"
     ]
    },
    {
     "name": "stdout",
     "output_type": "stream",
     "text": [
      "14.0 inches\n"
     ]
    },
    {
     "name": "stderr",
     "output_type": "stream",
     "text": [
      " 78%|███████▊  | 1040/1341 [11:25<03:08,  1.60it/s]"
     ]
    },
    {
     "name": "stdout",
     "output_type": "stream",
     "text": [
      "Intel\n"
     ]
    },
    {
     "name": "stderr",
     "output_type": "stream",
     "text": [
      " 78%|███████▊  | 1041/1341 [11:26<03:59,  1.25it/s]"
     ]
    },
    {
     "name": "stdout",
     "output_type": "stream",
     "text": [
      "I do not know.\n"
     ]
    },
    {
     "name": "stderr",
     "output_type": "stream",
     "text": [
      " 78%|███████▊  | 1042/1341 [11:27<03:50,  1.30it/s]"
     ]
    },
    {
     "name": "stdout",
     "output_type": "stream",
     "text": [
      "16.1 inches\n"
     ]
    },
    {
     "name": "stderr",
     "output_type": "stream",
     "text": [
      " 78%|███████▊  | 1043/1341 [11:27<03:33,  1.40it/s]"
     ]
    },
    {
     "name": "stdout",
     "output_type": "stream",
     "text": [
      "Intel\n"
     ]
    },
    {
     "name": "stderr",
     "output_type": "stream",
     "text": [
      " 78%|███████▊  | 1044/1341 [11:28<03:35,  1.38it/s]"
     ]
    },
    {
     "name": "stdout",
     "output_type": "stream",
     "text": [
      "I do not know.\n"
     ]
    },
    {
     "name": "stderr",
     "output_type": "stream",
     "text": [
      " 78%|███████▊  | 1045/1341 [11:28<03:18,  1.49it/s]"
     ]
    },
    {
     "name": "stdout",
     "output_type": "stream",
     "text": [
      "15.6 inches\n"
     ]
    },
    {
     "name": "stderr",
     "output_type": "stream",
     "text": [
      " 78%|███████▊  | 1046/1341 [11:29<03:07,  1.57it/s]"
     ]
    },
    {
     "name": "stdout",
     "output_type": "stream",
     "text": [
      "Intel\n"
     ]
    },
    {
     "name": "stderr",
     "output_type": "stream",
     "text": [
      " 78%|███████▊  | 1047/1341 [11:30<03:03,  1.60it/s]"
     ]
    },
    {
     "name": "stdout",
     "output_type": "stream",
     "text": [
      "I do not know.\n"
     ]
    },
    {
     "name": "stderr",
     "output_type": "stream",
     "text": [
      " 78%|███████▊  | 1048/1341 [11:30<02:55,  1.67it/s]"
     ]
    },
    {
     "name": "stdout",
     "output_type": "stream",
     "text": [
      "14.0 inches\n"
     ]
    },
    {
     "name": "stderr",
     "output_type": "stream",
     "text": [
      " 78%|███████▊  | 1049/1341 [11:31<02:57,  1.64it/s]"
     ]
    },
    {
     "name": "stdout",
     "output_type": "stream",
     "text": [
      "Intel\n"
     ]
    },
    {
     "name": "stderr",
     "output_type": "stream",
     "text": [
      " 78%|███████▊  | 1050/1341 [11:32<03:42,  1.31it/s]"
     ]
    },
    {
     "name": "stdout",
     "output_type": "stream",
     "text": [
      "I do not know.\n"
     ]
    },
    {
     "name": "stderr",
     "output_type": "stream",
     "text": [
      " 78%|███████▊  | 1051/1341 [11:32<03:32,  1.37it/s]"
     ]
    },
    {
     "name": "stdout",
     "output_type": "stream",
     "text": [
      "15.6 inches\n"
     ]
    },
    {
     "name": "stderr",
     "output_type": "stream",
     "text": [
      " 78%|███████▊  | 1052/1341 [11:33<03:17,  1.46it/s]"
     ]
    },
    {
     "name": "stdout",
     "output_type": "stream",
     "text": [
      "AMD\n"
     ]
    },
    {
     "name": "stderr",
     "output_type": "stream",
     "text": [
      " 79%|███████▊  | 1053/1341 [11:34<03:23,  1.41it/s]"
     ]
    },
    {
     "name": "stdout",
     "output_type": "stream",
     "text": [
      "I do not know.\n"
     ]
    },
    {
     "name": "stderr",
     "output_type": "stream",
     "text": [
      " 79%|███████▊  | 1054/1341 [11:35<03:26,  1.39it/s]"
     ]
    },
    {
     "name": "stdout",
     "output_type": "stream",
     "text": [
      "16.0 inches\n"
     ]
    },
    {
     "name": "stderr",
     "output_type": "stream",
     "text": [
      " 79%|███████▊  | 1055/1341 [11:35<03:13,  1.47it/s]"
     ]
    },
    {
     "name": "stdout",
     "output_type": "stream",
     "text": [
      "Ryzen 5\n"
     ]
    },
    {
     "name": "stderr",
     "output_type": "stream",
     "text": [
      " 79%|███████▊  | 1056/1341 [11:37<05:16,  1.11s/it]"
     ]
    },
    {
     "name": "stdout",
     "output_type": "stream",
     "text": [
      "I do not know.\n"
     ]
    },
    {
     "name": "stderr",
     "output_type": "stream",
     "text": [
      " 79%|███████▉  | 1057/1341 [11:38<04:41,  1.01it/s]"
     ]
    },
    {
     "name": "stdout",
     "output_type": "stream",
     "text": [
      "15.6 inches\n"
     ]
    },
    {
     "name": "stderr",
     "output_type": "stream",
     "text": [
      " 79%|███████▉  | 1058/1341 [11:38<03:50,  1.23it/s]"
     ]
    },
    {
     "name": "stdout",
     "output_type": "stream",
     "text": [
      "Intel\n"
     ]
    },
    {
     "name": "stderr",
     "output_type": "stream",
     "text": [
      " 79%|███████▉  | 1059/1341 [11:39<03:44,  1.26it/s]"
     ]
    },
    {
     "name": "stdout",
     "output_type": "stream",
     "text": [
      "I do not know.\n"
     ]
    },
    {
     "name": "stderr",
     "output_type": "stream",
     "text": [
      " 79%|███████▉  | 1060/1341 [11:40<03:25,  1.37it/s]"
     ]
    },
    {
     "name": "stdout",
     "output_type": "stream",
     "text": [
      "15.6 inches\n"
     ]
    },
    {
     "name": "stderr",
     "output_type": "stream",
     "text": [
      " 79%|███████▉  | 1061/1341 [11:41<04:24,  1.06it/s]"
     ]
    },
    {
     "name": "stdout",
     "output_type": "stream",
     "text": [
      "Intel Core i7\n"
     ]
    },
    {
     "name": "stderr",
     "output_type": "stream",
     "text": [
      " 79%|███████▉  | 1062/1341 [11:42<03:52,  1.20it/s]"
     ]
    },
    {
     "name": "stdout",
     "output_type": "stream",
     "text": [
      "I do not know.\n"
     ]
    },
    {
     "name": "stderr",
     "output_type": "stream",
     "text": [
      " 79%|███████▉  | 1063/1341 [11:42<03:26,  1.34it/s]"
     ]
    },
    {
     "name": "stdout",
     "output_type": "stream",
     "text": [
      "14.0 inches\n"
     ]
    },
    {
     "name": "stderr",
     "output_type": "stream",
     "text": [
      " 79%|███████▉  | 1064/1341 [11:43<03:14,  1.42it/s]"
     ]
    },
    {
     "name": "stdout",
     "output_type": "stream",
     "text": [
      "Intel\n"
     ]
    },
    {
     "name": "stderr",
     "output_type": "stream",
     "text": [
      " 79%|███████▉  | 1065/1341 [11:43<03:04,  1.49it/s]"
     ]
    },
    {
     "name": "stdout",
     "output_type": "stream",
     "text": [
      "I do not know.\n"
     ]
    },
    {
     "name": "stderr",
     "output_type": "stream",
     "text": [
      " 79%|███████▉  | 1066/1341 [11:44<03:01,  1.52it/s]"
     ]
    },
    {
     "name": "stdout",
     "output_type": "stream",
     "text": [
      "14 inches\n"
     ]
    },
    {
     "name": "stderr",
     "output_type": "stream",
     "text": [
      " 80%|███████▉  | 1067/1341 [11:45<02:56,  1.55it/s]"
     ]
    },
    {
     "name": "stdout",
     "output_type": "stream",
     "text": [
      "Intel\n"
     ]
    },
    {
     "name": "stderr",
     "output_type": "stream",
     "text": [
      " 80%|███████▉  | 1068/1341 [11:45<02:51,  1.59it/s]"
     ]
    },
    {
     "name": "stdout",
     "output_type": "stream",
     "text": [
      "I do not know.\n"
     ]
    },
    {
     "name": "stderr",
     "output_type": "stream",
     "text": [
      " 80%|███████▉  | 1069/1341 [11:46<02:47,  1.62it/s]"
     ]
    },
    {
     "name": "stdout",
     "output_type": "stream",
     "text": [
      "15.6 inches\n"
     ]
    },
    {
     "name": "stderr",
     "output_type": "stream",
     "text": [
      " 80%|███████▉  | 1070/1341 [11:47<03:02,  1.49it/s]"
     ]
    },
    {
     "name": "stdout",
     "output_type": "stream",
     "text": [
      "Intel\n"
     ]
    },
    {
     "name": "stderr",
     "output_type": "stream",
     "text": [
      " 80%|███████▉  | 1071/1341 [11:48<03:19,  1.35it/s]"
     ]
    },
    {
     "name": "stdout",
     "output_type": "stream",
     "text": [
      "I do not know.\n"
     ]
    },
    {
     "name": "stderr",
     "output_type": "stream",
     "text": [
      " 80%|███████▉  | 1072/1341 [11:48<03:03,  1.46it/s]"
     ]
    },
    {
     "name": "stdout",
     "output_type": "stream",
     "text": [
      "14.0 inches\n"
     ]
    },
    {
     "name": "stderr",
     "output_type": "stream",
     "text": [
      " 80%|████████  | 1073/1341 [11:49<02:50,  1.57it/s]"
     ]
    },
    {
     "name": "stdout",
     "output_type": "stream",
     "text": [
      "Intel\n"
     ]
    },
    {
     "name": "stderr",
     "output_type": "stream",
     "text": [
      " 80%|████████  | 1074/1341 [11:49<02:49,  1.58it/s]"
     ]
    },
    {
     "name": "stdout",
     "output_type": "stream",
     "text": [
      "I do not know.\n"
     ]
    },
    {
     "name": "stderr",
     "output_type": "stream",
     "text": [
      " 80%|████████  | 1075/1341 [11:50<02:44,  1.62it/s]"
     ]
    },
    {
     "name": "stdout",
     "output_type": "stream",
     "text": [
      "14 inches\n"
     ]
    },
    {
     "name": "stderr",
     "output_type": "stream",
     "text": [
      " 80%|████████  | 1076/1341 [11:50<02:39,  1.66it/s]"
     ]
    },
    {
     "name": "stdout",
     "output_type": "stream",
     "text": [
      "Intel\n"
     ]
    },
    {
     "name": "stderr",
     "output_type": "stream",
     "text": [
      " 80%|████████  | 1077/1341 [11:51<02:42,  1.63it/s]"
     ]
    },
    {
     "name": "stdout",
     "output_type": "stream",
     "text": [
      "I do not know.\n"
     ]
    },
    {
     "name": "stderr",
     "output_type": "stream",
     "text": [
      " 80%|████████  | 1078/1341 [11:52<02:44,  1.60it/s]"
     ]
    },
    {
     "name": "stdout",
     "output_type": "stream",
     "text": [
      "14 inches\n"
     ]
    },
    {
     "name": "stderr",
     "output_type": "stream",
     "text": [
      " 80%|████████  | 1079/1341 [11:53<03:21,  1.30it/s]"
     ]
    },
    {
     "name": "stdout",
     "output_type": "stream",
     "text": [
      "Intel Core i5\n"
     ]
    },
    {
     "name": "stderr",
     "output_type": "stream",
     "text": [
      " 81%|████████  | 1080/1341 [11:53<03:11,  1.36it/s]"
     ]
    },
    {
     "name": "stdout",
     "output_type": "stream",
     "text": [
      "I do not know.\n"
     ]
    },
    {
     "name": "stderr",
     "output_type": "stream",
     "text": [
      " 81%|████████  | 1081/1341 [11:54<02:57,  1.46it/s]"
     ]
    },
    {
     "name": "stdout",
     "output_type": "stream",
     "text": [
      "15.6 inches\n"
     ]
    },
    {
     "name": "stderr",
     "output_type": "stream",
     "text": [
      " 81%|████████  | 1082/1341 [11:55<02:54,  1.48it/s]"
     ]
    },
    {
     "name": "stdout",
     "output_type": "stream",
     "text": [
      "AMD\n"
     ]
    },
    {
     "name": "stderr",
     "output_type": "stream",
     "text": [
      " 81%|████████  | 1083/1341 [11:55<02:49,  1.52it/s]"
     ]
    },
    {
     "name": "stdout",
     "output_type": "stream",
     "text": [
      "I do not know.\n"
     ]
    },
    {
     "name": "stderr",
     "output_type": "stream",
     "text": [
      " 81%|████████  | 1084/1341 [11:56<02:42,  1.58it/s]"
     ]
    },
    {
     "name": "stdout",
     "output_type": "stream",
     "text": [
      "15.6 inches\n"
     ]
    },
    {
     "name": "stderr",
     "output_type": "stream",
     "text": [
      " 81%|████████  | 1085/1341 [11:57<02:39,  1.60it/s]"
     ]
    },
    {
     "name": "stdout",
     "output_type": "stream",
     "text": [
      "AMD\n"
     ]
    },
    {
     "name": "stderr",
     "output_type": "stream",
     "text": [
      " 81%|████████  | 1086/1341 [11:58<03:34,  1.19it/s]"
     ]
    },
    {
     "name": "stdout",
     "output_type": "stream",
     "text": [
      "I do not know.\n"
     ]
    },
    {
     "name": "stderr",
     "output_type": "stream",
     "text": [
      " 81%|████████  | 1087/1341 [11:58<03:12,  1.32it/s]"
     ]
    },
    {
     "name": "stdout",
     "output_type": "stream",
     "text": [
      "16.1 inches\n"
     ]
    },
    {
     "name": "stderr",
     "output_type": "stream",
     "text": [
      " 81%|████████  | 1088/1341 [11:59<03:00,  1.40it/s]"
     ]
    },
    {
     "name": "stdout",
     "output_type": "stream",
     "text": [
      "AMD\n"
     ]
    },
    {
     "name": "stderr",
     "output_type": "stream",
     "text": [
      " 81%|████████  | 1089/1341 [12:00<02:44,  1.53it/s]"
     ]
    },
    {
     "name": "stdout",
     "output_type": "stream",
     "text": [
      "I do not know.\n"
     ]
    },
    {
     "name": "stderr",
     "output_type": "stream",
     "text": [
      " 81%|████████▏ | 1090/1341 [12:00<02:33,  1.64it/s]"
     ]
    },
    {
     "name": "stdout",
     "output_type": "stream",
     "text": [
      "14.0 inches\n"
     ]
    },
    {
     "name": "stderr",
     "output_type": "stream",
     "text": [
      " 81%|████████▏ | 1091/1341 [12:01<02:33,  1.62it/s]"
     ]
    },
    {
     "name": "stdout",
     "output_type": "stream",
     "text": [
      "Intel Core i5\n"
     ]
    },
    {
     "name": "stderr",
     "output_type": "stream",
     "text": [
      " 81%|████████▏ | 1092/1341 [12:01<02:30,  1.66it/s]"
     ]
    },
    {
     "name": "stdout",
     "output_type": "stream",
     "text": [
      "I do not know.\n"
     ]
    },
    {
     "name": "stderr",
     "output_type": "stream",
     "text": [
      " 82%|████████▏ | 1093/1341 [12:02<02:28,  1.67it/s]"
     ]
    },
    {
     "name": "stdout",
     "output_type": "stream",
     "text": [
      "15.6 inches\n"
     ]
    },
    {
     "name": "stderr",
     "output_type": "stream",
     "text": [
      " 82%|████████▏ | 1094/1341 [12:02<02:23,  1.72it/s]"
     ]
    },
    {
     "name": "stdout",
     "output_type": "stream",
     "text": [
      "Intel\n"
     ]
    },
    {
     "name": "stderr",
     "output_type": "stream",
     "text": [
      " 82%|████████▏ | 1095/1341 [12:03<02:43,  1.50it/s]"
     ]
    },
    {
     "name": "stdout",
     "output_type": "stream",
     "text": [
      "I do not know.\n"
     ]
    },
    {
     "name": "stderr",
     "output_type": "stream",
     "text": [
      " 82%|████████▏ | 1096/1341 [12:04<02:52,  1.42it/s]"
     ]
    },
    {
     "name": "stdout",
     "output_type": "stream",
     "text": [
      "14.0 inches\n"
     ]
    },
    {
     "name": "stderr",
     "output_type": "stream",
     "text": [
      " 82%|████████▏ | 1097/1341 [12:05<02:34,  1.58it/s]"
     ]
    },
    {
     "name": "stdout",
     "output_type": "stream",
     "text": [
      "Intel Core i7\n"
     ]
    },
    {
     "name": "stderr",
     "output_type": "stream",
     "text": [
      " 82%|████████▏ | 1098/1341 [12:07<04:21,  1.08s/it]"
     ]
    },
    {
     "name": "stdout",
     "output_type": "stream",
     "text": [
      "I do not know.\n"
     ]
    },
    {
     "name": "stderr",
     "output_type": "stream",
     "text": [
      " 82%|████████▏ | 1099/1341 [12:07<03:41,  1.09it/s]"
     ]
    },
    {
     "name": "stdout",
     "output_type": "stream",
     "text": [
      "15.6 inches\n"
     ]
    },
    {
     "name": "stderr",
     "output_type": "stream",
     "text": [
      " 82%|████████▏ | 1100/1341 [12:08<03:19,  1.21it/s]"
     ]
    },
    {
     "name": "stdout",
     "output_type": "stream",
     "text": [
      "Intel\n"
     ]
    },
    {
     "name": "stderr",
     "output_type": "stream",
     "text": [
      " 82%|████████▏ | 1101/1341 [12:09<03:29,  1.15it/s]"
     ]
    },
    {
     "name": "stdout",
     "output_type": "stream",
     "text": [
      "I do not know.\n"
     ]
    },
    {
     "name": "stderr",
     "output_type": "stream",
     "text": [
      " 82%|████████▏ | 1102/1341 [12:09<03:06,  1.28it/s]"
     ]
    },
    {
     "name": "stdout",
     "output_type": "stream",
     "text": [
      "13.3 inches\n"
     ]
    },
    {
     "name": "stderr",
     "output_type": "stream",
     "text": [
      " 82%|████████▏ | 1103/1341 [12:10<02:45,  1.44it/s]"
     ]
    },
    {
     "name": "stdout",
     "output_type": "stream",
     "text": [
      "Apple\n"
     ]
    },
    {
     "name": "stderr",
     "output_type": "stream",
     "text": [
      " 82%|████████▏ | 1104/1341 [12:11<02:45,  1.43it/s]"
     ]
    },
    {
     "name": "stdout",
     "output_type": "stream",
     "text": [
      "I do not know.\n"
     ]
    },
    {
     "name": "stderr",
     "output_type": "stream",
     "text": [
      " 82%|████████▏ | 1105/1341 [12:11<02:56,  1.34it/s]"
     ]
    },
    {
     "name": "stdout",
     "output_type": "stream",
     "text": [
      "14.0 inches\n"
     ]
    },
    {
     "name": "stderr",
     "output_type": "stream",
     "text": [
      " 82%|████████▏ | 1106/1341 [12:13<03:52,  1.01it/s]"
     ]
    },
    {
     "name": "stdout",
     "output_type": "stream",
     "text": [
      "Intel\n"
     ]
    },
    {
     "name": "stderr",
     "output_type": "stream",
     "text": [
      " 83%|████████▎ | 1107/1341 [12:14<03:36,  1.08it/s]"
     ]
    },
    {
     "name": "stdout",
     "output_type": "stream",
     "text": [
      "I do not know.\n"
     ]
    },
    {
     "name": "stderr",
     "output_type": "stream",
     "text": [
      " 83%|████████▎ | 1108/1341 [12:15<03:35,  1.08it/s]"
     ]
    },
    {
     "name": "stdout",
     "output_type": "stream",
     "text": [
      "15.6 inches\n"
     ]
    },
    {
     "name": "stderr",
     "output_type": "stream",
     "text": [
      " 83%|████████▎ | 1109/1341 [12:15<03:20,  1.16it/s]"
     ]
    },
    {
     "name": "stdout",
     "output_type": "stream",
     "text": [
      "AMD\n"
     ]
    },
    {
     "name": "stderr",
     "output_type": "stream",
     "text": [
      " 83%|████████▎ | 1110/1341 [12:16<03:03,  1.26it/s]"
     ]
    },
    {
     "name": "stdout",
     "output_type": "stream",
     "text": [
      "I do not know.\n"
     ]
    },
    {
     "name": "stderr",
     "output_type": "stream",
     "text": [
      " 83%|████████▎ | 1111/1341 [12:17<02:46,  1.38it/s]"
     ]
    },
    {
     "name": "stdout",
     "output_type": "stream",
     "text": [
      "15.6 inches\n"
     ]
    },
    {
     "name": "stderr",
     "output_type": "stream",
     "text": [
      " 83%|████████▎ | 1112/1341 [12:17<02:41,  1.42it/s]"
     ]
    },
    {
     "name": "stdout",
     "output_type": "stream",
     "text": [
      "Intel\n"
     ]
    },
    {
     "name": "stderr",
     "output_type": "stream",
     "text": [
      " 83%|████████▎ | 1113/1341 [12:18<02:31,  1.51it/s]"
     ]
    },
    {
     "name": "stdout",
     "output_type": "stream",
     "text": [
      "I do not know.\n"
     ]
    },
    {
     "name": "stderr",
     "output_type": "stream",
     "text": [
      " 83%|████████▎ | 1114/1341 [12:18<02:25,  1.56it/s]"
     ]
    },
    {
     "name": "stdout",
     "output_type": "stream",
     "text": [
      "15.6 inches\n"
     ]
    },
    {
     "name": "stderr",
     "output_type": "stream",
     "text": [
      " 83%|████████▎ | 1115/1341 [12:19<02:25,  1.55it/s]"
     ]
    },
    {
     "name": "stdout",
     "output_type": "stream",
     "text": [
      "Intel Core i5\n"
     ]
    },
    {
     "name": "stderr",
     "output_type": "stream",
     "text": [
      " 83%|████████▎ | 1116/1341 [12:20<02:21,  1.59it/s]"
     ]
    },
    {
     "name": "stdout",
     "output_type": "stream",
     "text": [
      "I do not know.\n"
     ]
    },
    {
     "name": "stderr",
     "output_type": "stream",
     "text": [
      " 83%|████████▎ | 1117/1341 [12:20<02:25,  1.54it/s]"
     ]
    },
    {
     "name": "stdout",
     "output_type": "stream",
     "text": [
      "14.0 inches\n"
     ]
    },
    {
     "name": "stderr",
     "output_type": "stream",
     "text": [
      " 83%|████████▎ | 1118/1341 [12:21<02:22,  1.56it/s]"
     ]
    },
    {
     "name": "stdout",
     "output_type": "stream",
     "text": [
      "Intel\n"
     ]
    },
    {
     "name": "stderr",
     "output_type": "stream",
     "text": [
      " 83%|████████▎ | 1119/1341 [12:22<02:20,  1.58it/s]"
     ]
    },
    {
     "name": "stdout",
     "output_type": "stream",
     "text": [
      "I do not know.\n"
     ]
    },
    {
     "name": "stderr",
     "output_type": "stream",
     "text": [
      " 84%|████████▎ | 1120/1341 [12:22<02:09,  1.71it/s]"
     ]
    },
    {
     "name": "stdout",
     "output_type": "stream",
     "text": [
      "15.6 inches\n"
     ]
    },
    {
     "name": "stderr",
     "output_type": "stream",
     "text": [
      " 84%|████████▎ | 1121/1341 [12:23<02:06,  1.74it/s]"
     ]
    },
    {
     "name": "stdout",
     "output_type": "stream",
     "text": [
      "Ryzen\n"
     ]
    },
    {
     "name": "stderr",
     "output_type": "stream",
     "text": [
      " 84%|████████▎ | 1122/1341 [12:23<02:17,  1.60it/s]"
     ]
    },
    {
     "name": "stdout",
     "output_type": "stream",
     "text": [
      "I do not know.\n"
     ]
    },
    {
     "name": "stderr",
     "output_type": "stream",
     "text": [
      " 84%|████████▎ | 1123/1341 [12:24<02:11,  1.65it/s]"
     ]
    },
    {
     "name": "stdout",
     "output_type": "stream",
     "text": [
      "14.0 inches\n"
     ]
    },
    {
     "name": "stderr",
     "output_type": "stream",
     "text": [
      " 84%|████████▍ | 1124/1341 [12:25<02:15,  1.61it/s]"
     ]
    },
    {
     "name": "stdout",
     "output_type": "stream",
     "text": [
      "Intel\n"
     ]
    },
    {
     "name": "stderr",
     "output_type": "stream",
     "text": [
      " 84%|████████▍ | 1125/1341 [12:25<02:18,  1.56it/s]"
     ]
    },
    {
     "name": "stdout",
     "output_type": "stream",
     "text": [
      "I do not know.\n"
     ]
    },
    {
     "name": "stderr",
     "output_type": "stream",
     "text": [
      " 84%|████████▍ | 1126/1341 [12:26<02:31,  1.42it/s]"
     ]
    },
    {
     "name": "stdout",
     "output_type": "stream",
     "text": [
      "15.6 inches\n"
     ]
    },
    {
     "name": "stderr",
     "output_type": "stream",
     "text": [
      " 84%|████████▍ | 1127/1341 [12:27<02:21,  1.51it/s]"
     ]
    },
    {
     "name": "stdout",
     "output_type": "stream",
     "text": [
      "Intel\n"
     ]
    },
    {
     "name": "stderr",
     "output_type": "stream",
     "text": [
      " 84%|████████▍ | 1128/1341 [12:27<02:16,  1.56it/s]"
     ]
    },
    {
     "name": "stdout",
     "output_type": "stream",
     "text": [
      "I do not know.\n"
     ]
    },
    {
     "name": "stderr",
     "output_type": "stream",
     "text": [
      " 84%|████████▍ | 1129/1341 [12:28<02:14,  1.57it/s]"
     ]
    },
    {
     "name": "stdout",
     "output_type": "stream",
     "text": [
      "15.6 inches\n"
     ]
    },
    {
     "name": "stderr",
     "output_type": "stream",
     "text": [
      " 84%|████████▍ | 1130/1341 [12:28<02:09,  1.63it/s]"
     ]
    },
    {
     "name": "stdout",
     "output_type": "stream",
     "text": [
      "Intel Core i5\n"
     ]
    },
    {
     "name": "stderr",
     "output_type": "stream",
     "text": [
      " 84%|████████▍ | 1131/1341 [12:29<02:11,  1.60it/s]"
     ]
    },
    {
     "name": "stdout",
     "output_type": "stream",
     "text": [
      "I do not know.\n"
     ]
    },
    {
     "name": "stderr",
     "output_type": "stream",
     "text": [
      " 84%|████████▍ | 1132/1341 [12:30<02:09,  1.62it/s]"
     ]
    },
    {
     "name": "stdout",
     "output_type": "stream",
     "text": [
      "15.6 inches\n"
     ]
    },
    {
     "name": "stderr",
     "output_type": "stream",
     "text": [
      " 84%|████████▍ | 1133/1341 [12:30<02:11,  1.58it/s]"
     ]
    },
    {
     "name": "stdout",
     "output_type": "stream",
     "text": [
      "Intel\n"
     ]
    },
    {
     "name": "stderr",
     "output_type": "stream",
     "text": [
      " 85%|████████▍ | 1134/1341 [12:31<02:09,  1.60it/s]"
     ]
    },
    {
     "name": "stdout",
     "output_type": "stream",
     "text": [
      "I do not know.\n"
     ]
    },
    {
     "name": "stderr",
     "output_type": "stream",
     "text": [
      " 85%|████████▍ | 1135/1341 [12:32<02:10,  1.58it/s]"
     ]
    },
    {
     "name": "stdout",
     "output_type": "stream",
     "text": [
      "15.6 inches\n"
     ]
    },
    {
     "name": "stderr",
     "output_type": "stream",
     "text": [
      " 85%|████████▍ | 1136/1341 [12:32<02:00,  1.70it/s]"
     ]
    },
    {
     "name": "stdout",
     "output_type": "stream",
     "text": [
      "Intel\n"
     ]
    },
    {
     "name": "stderr",
     "output_type": "stream",
     "text": [
      " 85%|████████▍ | 1137/1341 [12:33<02:01,  1.68it/s]"
     ]
    },
    {
     "name": "stdout",
     "output_type": "stream",
     "text": [
      "I do not know.\n"
     ]
    },
    {
     "name": "stderr",
     "output_type": "stream",
     "text": [
      " 85%|████████▍ | 1138/1341 [12:33<02:08,  1.58it/s]"
     ]
    },
    {
     "name": "stdout",
     "output_type": "stream",
     "text": [
      "15.6 inches\n"
     ]
    },
    {
     "name": "stderr",
     "output_type": "stream",
     "text": [
      " 85%|████████▍ | 1139/1341 [12:34<02:07,  1.58it/s]"
     ]
    },
    {
     "name": "stdout",
     "output_type": "stream",
     "text": [
      "Intel\n"
     ]
    },
    {
     "name": "stderr",
     "output_type": "stream",
     "text": [
      " 85%|████████▌ | 1140/1341 [12:35<02:12,  1.51it/s]"
     ]
    },
    {
     "name": "stdout",
     "output_type": "stream",
     "text": [
      "I do not know.\n"
     ]
    },
    {
     "name": "stderr",
     "output_type": "stream",
     "text": [
      " 85%|████████▌ | 1141/1341 [12:35<02:05,  1.59it/s]"
     ]
    },
    {
     "name": "stdout",
     "output_type": "stream",
     "text": [
      "15.6 inches\n"
     ]
    },
    {
     "name": "stderr",
     "output_type": "stream",
     "text": [
      " 85%|████████▌ | 1142/1341 [12:36<01:56,  1.70it/s]"
     ]
    },
    {
     "name": "stdout",
     "output_type": "stream",
     "text": [
      "Intel\n"
     ]
    },
    {
     "name": "stderr",
     "output_type": "stream",
     "text": [
      " 85%|████████▌ | 1143/1341 [12:38<03:27,  1.05s/it]"
     ]
    },
    {
     "name": "stdout",
     "output_type": "stream",
     "text": [
      "I do not know.\n"
     ]
    },
    {
     "name": "stderr",
     "output_type": "stream",
     "text": [
      " 85%|████████▌ | 1144/1341 [12:39<03:18,  1.01s/it]"
     ]
    },
    {
     "name": "stdout",
     "output_type": "stream",
     "text": [
      "15.6 inches\n"
     ]
    },
    {
     "name": "stderr",
     "output_type": "stream",
     "text": [
      " 85%|████████▌ | 1145/1341 [12:39<02:51,  1.15it/s]"
     ]
    },
    {
     "name": "stdout",
     "output_type": "stream",
     "text": [
      "Intel\n"
     ]
    },
    {
     "name": "stderr",
     "output_type": "stream",
     "text": [
      " 85%|████████▌ | 1146/1341 [12:40<02:36,  1.24it/s]"
     ]
    },
    {
     "name": "stdout",
     "output_type": "stream",
     "text": [
      "I do not know.\n"
     ]
    },
    {
     "name": "stderr",
     "output_type": "stream",
     "text": [
      " 86%|████████▌ | 1147/1341 [12:41<02:25,  1.33it/s]"
     ]
    },
    {
     "name": "stdout",
     "output_type": "stream",
     "text": [
      "15.6 inches\n"
     ]
    },
    {
     "name": "stderr",
     "output_type": "stream",
     "text": [
      " 86%|████████▌ | 1148/1341 [12:41<02:11,  1.47it/s]"
     ]
    },
    {
     "name": "stdout",
     "output_type": "stream",
     "text": [
      "Intel\n"
     ]
    },
    {
     "name": "stderr",
     "output_type": "stream",
     "text": [
      " 86%|████████▌ | 1149/1341 [12:42<02:02,  1.56it/s]"
     ]
    },
    {
     "name": "stdout",
     "output_type": "stream",
     "text": [
      "I do not know.\n"
     ]
    },
    {
     "name": "stderr",
     "output_type": "stream",
     "text": [
      " 86%|████████▌ | 1150/1341 [12:42<02:06,  1.51it/s]"
     ]
    },
    {
     "name": "stdout",
     "output_type": "stream",
     "text": [
      "15.6 inches\n"
     ]
    },
    {
     "name": "stderr",
     "output_type": "stream",
     "text": [
      " 86%|████████▌ | 1151/1341 [12:43<01:58,  1.61it/s]"
     ]
    },
    {
     "name": "stdout",
     "output_type": "stream",
     "text": [
      "Intel Core i5\n"
     ]
    },
    {
     "name": "stderr",
     "output_type": "stream",
     "text": [
      " 86%|████████▌ | 1152/1341 [12:44<01:54,  1.65it/s]"
     ]
    },
    {
     "name": "stdout",
     "output_type": "stream",
     "text": [
      "I do not know.\n"
     ]
    },
    {
     "name": "stderr",
     "output_type": "stream",
     "text": [
      " 86%|████████▌ | 1153/1341 [12:44<01:59,  1.57it/s]"
     ]
    },
    {
     "name": "stdout",
     "output_type": "stream",
     "text": [
      "15.6 inches\n"
     ]
    },
    {
     "name": "stderr",
     "output_type": "stream",
     "text": [
      " 86%|████████▌ | 1154/1341 [12:45<01:51,  1.68it/s]"
     ]
    },
    {
     "name": "stdout",
     "output_type": "stream",
     "text": [
      "Intel\n"
     ]
    },
    {
     "name": "stderr",
     "output_type": "stream",
     "text": [
      " 86%|████████▌ | 1155/1341 [12:45<01:53,  1.63it/s]"
     ]
    },
    {
     "name": "stdout",
     "output_type": "stream",
     "text": [
      "I do not know.\n"
     ]
    },
    {
     "name": "stderr",
     "output_type": "stream",
     "text": [
      " 86%|████████▌ | 1156/1341 [12:46<01:57,  1.58it/s]"
     ]
    },
    {
     "name": "stdout",
     "output_type": "stream",
     "text": [
      "14.0 inches\n"
     ]
    },
    {
     "name": "stderr",
     "output_type": "stream",
     "text": [
      " 86%|████████▋ | 1157/1341 [12:47<01:51,  1.65it/s]"
     ]
    },
    {
     "name": "stdout",
     "output_type": "stream",
     "text": [
      "Intel\n"
     ]
    },
    {
     "name": "stderr",
     "output_type": "stream",
     "text": [
      " 86%|████████▋ | 1158/1341 [12:47<01:52,  1.63it/s]"
     ]
    },
    {
     "name": "stdout",
     "output_type": "stream",
     "text": [
      "I do not know.\n"
     ]
    },
    {
     "name": "stderr",
     "output_type": "stream",
     "text": [
      " 86%|████████▋ | 1159/1341 [12:48<01:49,  1.67it/s]"
     ]
    },
    {
     "name": "stdout",
     "output_type": "stream",
     "text": [
      "15.6 inches\n"
     ]
    },
    {
     "name": "stderr",
     "output_type": "stream",
     "text": [
      " 87%|████████▋ | 1160/1341 [12:48<01:49,  1.66it/s]"
     ]
    },
    {
     "name": "stdout",
     "output_type": "stream",
     "text": [
      "Ryzen 5\n"
     ]
    },
    {
     "name": "stderr",
     "output_type": "stream",
     "text": [
      " 87%|████████▋ | 1161/1341 [12:49<01:56,  1.55it/s]"
     ]
    },
    {
     "name": "stdout",
     "output_type": "stream",
     "text": [
      "I do not know.\n"
     ]
    },
    {
     "name": "stderr",
     "output_type": "stream",
     "text": [
      " 87%|████████▋ | 1162/1341 [12:50<01:53,  1.58it/s]"
     ]
    },
    {
     "name": "stdout",
     "output_type": "stream",
     "text": [
      "15.6 inches\n"
     ]
    },
    {
     "name": "stderr",
     "output_type": "stream",
     "text": [
      " 87%|████████▋ | 1163/1341 [12:50<01:51,  1.59it/s]"
     ]
    },
    {
     "name": "stdout",
     "output_type": "stream",
     "text": [
      "Intel\n"
     ]
    },
    {
     "name": "stderr",
     "output_type": "stream",
     "text": [
      " 87%|████████▋ | 1164/1341 [12:51<01:53,  1.57it/s]"
     ]
    },
    {
     "name": "stdout",
     "output_type": "stream",
     "text": [
      "I do not know.\n"
     ]
    },
    {
     "name": "stderr",
     "output_type": "stream",
     "text": [
      " 87%|████████▋ | 1165/1341 [12:52<01:48,  1.62it/s]"
     ]
    },
    {
     "name": "stdout",
     "output_type": "stream",
     "text": [
      "14 inches\n"
     ]
    },
    {
     "name": "stderr",
     "output_type": "stream",
     "text": [
      " 87%|████████▋ | 1166/1341 [12:52<01:52,  1.55it/s]"
     ]
    },
    {
     "name": "stdout",
     "output_type": "stream",
     "text": [
      "Ryzen 5\n"
     ]
    },
    {
     "name": "stderr",
     "output_type": "stream",
     "text": [
      " 87%|████████▋ | 1167/1341 [12:53<01:55,  1.51it/s]"
     ]
    },
    {
     "name": "stdout",
     "output_type": "stream",
     "text": [
      "I do not know.\n"
     ]
    },
    {
     "name": "stderr",
     "output_type": "stream",
     "text": [
      " 87%|████████▋ | 1168/1341 [12:54<01:49,  1.57it/s]"
     ]
    },
    {
     "name": "stdout",
     "output_type": "stream",
     "text": [
      "15.6 inches\n"
     ]
    },
    {
     "name": "stderr",
     "output_type": "stream",
     "text": [
      " 87%|████████▋ | 1169/1341 [12:54<01:49,  1.57it/s]"
     ]
    },
    {
     "name": "stdout",
     "output_type": "stream",
     "text": [
      "Intel Core i5\n"
     ]
    },
    {
     "name": "stderr",
     "output_type": "stream",
     "text": [
      " 87%|████████▋ | 1170/1341 [12:55<01:46,  1.60it/s]"
     ]
    },
    {
     "name": "stdout",
     "output_type": "stream",
     "text": [
      "I do not know.\n"
     ]
    },
    {
     "name": "stderr",
     "output_type": "stream",
     "text": [
      " 87%|████████▋ | 1171/1341 [12:55<01:42,  1.65it/s]"
     ]
    },
    {
     "name": "stdout",
     "output_type": "stream",
     "text": [
      "14.0 inches\n"
     ]
    },
    {
     "name": "stderr",
     "output_type": "stream",
     "text": [
      " 87%|████████▋ | 1172/1341 [12:56<01:39,  1.70it/s]"
     ]
    },
    {
     "name": "stdout",
     "output_type": "stream",
     "text": [
      "AMD\n"
     ]
    },
    {
     "name": "stderr",
     "output_type": "stream",
     "text": [
      " 87%|████████▋ | 1173/1341 [12:57<01:37,  1.73it/s]"
     ]
    },
    {
     "name": "stdout",
     "output_type": "stream",
     "text": [
      "I do not know.\n"
     ]
    },
    {
     "name": "stderr",
     "output_type": "stream",
     "text": [
      " 88%|████████▊ | 1174/1341 [12:57<01:40,  1.66it/s]"
     ]
    },
    {
     "name": "stdout",
     "output_type": "stream",
     "text": [
      "15.6 inches\n"
     ]
    },
    {
     "name": "stderr",
     "output_type": "stream",
     "text": [
      " 88%|████████▊ | 1175/1341 [12:58<01:36,  1.72it/s]"
     ]
    },
    {
     "name": "stdout",
     "output_type": "stream",
     "text": [
      "Intel\n"
     ]
    },
    {
     "name": "stderr",
     "output_type": "stream",
     "text": [
      " 88%|████████▊ | 1176/1341 [12:59<01:56,  1.42it/s]"
     ]
    },
    {
     "name": "stdout",
     "output_type": "stream",
     "text": [
      "I do not know.\n"
     ]
    },
    {
     "name": "stderr",
     "output_type": "stream",
     "text": [
      " 88%|████████▊ | 1177/1341 [12:59<01:58,  1.39it/s]"
     ]
    },
    {
     "name": "stdout",
     "output_type": "stream",
     "text": [
      "15.6 inches\n"
     ]
    },
    {
     "name": "stderr",
     "output_type": "stream",
     "text": [
      " 88%|████████▊ | 1178/1341 [13:00<01:55,  1.41it/s]"
     ]
    },
    {
     "name": "stdout",
     "output_type": "stream",
     "text": [
      "Ryzen 5\n"
     ]
    },
    {
     "name": "stderr",
     "output_type": "stream",
     "text": [
      " 88%|████████▊ | 1179/1341 [13:01<01:52,  1.44it/s]"
     ]
    },
    {
     "name": "stdout",
     "output_type": "stream",
     "text": [
      "I do not know.\n"
     ]
    },
    {
     "name": "stderr",
     "output_type": "stream",
     "text": [
      " 88%|████████▊ | 1180/1341 [13:01<01:44,  1.54it/s]"
     ]
    },
    {
     "name": "stdout",
     "output_type": "stream",
     "text": [
      "15.6 inches\n"
     ]
    },
    {
     "name": "stderr",
     "output_type": "stream",
     "text": [
      " 88%|████████▊ | 1181/1341 [13:02<01:38,  1.62it/s]"
     ]
    },
    {
     "name": "stdout",
     "output_type": "stream",
     "text": [
      "Intel\n"
     ]
    },
    {
     "name": "stderr",
     "output_type": "stream",
     "text": [
      " 88%|████████▊ | 1182/1341 [13:03<01:39,  1.60it/s]"
     ]
    },
    {
     "name": "stdout",
     "output_type": "stream",
     "text": [
      "I do not know.\n"
     ]
    },
    {
     "name": "stderr",
     "output_type": "stream",
     "text": [
      " 88%|████████▊ | 1183/1341 [13:03<01:35,  1.65it/s]"
     ]
    },
    {
     "name": "stdout",
     "output_type": "stream",
     "text": [
      "15.6 inches\n"
     ]
    },
    {
     "name": "stderr",
     "output_type": "stream",
     "text": [
      " 88%|████████▊ | 1184/1341 [13:04<01:25,  1.84it/s]"
     ]
    },
    {
     "name": "stdout",
     "output_type": "stream",
     "text": [
      "Intel\n"
     ]
    },
    {
     "name": "stderr",
     "output_type": "stream",
     "text": [
      " 88%|████████▊ | 1185/1341 [13:05<02:12,  1.18it/s]"
     ]
    },
    {
     "name": "stdout",
     "output_type": "stream",
     "text": [
      "I do not know.\n"
     ]
    },
    {
     "name": "stderr",
     "output_type": "stream",
     "text": [
      " 88%|████████▊ | 1186/1341 [13:06<01:53,  1.36it/s]"
     ]
    },
    {
     "name": "stdout",
     "output_type": "stream",
     "text": [
      "15.6 inches\n"
     ]
    },
    {
     "name": "stderr",
     "output_type": "stream",
     "text": [
      " 89%|████████▊ | 1187/1341 [13:06<01:43,  1.48it/s]"
     ]
    },
    {
     "name": "stdout",
     "output_type": "stream",
     "text": [
      "Intel\n"
     ]
    },
    {
     "name": "stderr",
     "output_type": "stream",
     "text": [
      " 89%|████████▊ | 1188/1341 [13:07<01:39,  1.54it/s]"
     ]
    },
    {
     "name": "stdout",
     "output_type": "stream",
     "text": [
      "I do not know.\n"
     ]
    },
    {
     "name": "stderr",
     "output_type": "stream",
     "text": [
      " 89%|████████▊ | 1189/1341 [13:07<01:32,  1.64it/s]"
     ]
    },
    {
     "name": "stdout",
     "output_type": "stream",
     "text": [
      "15.6 inches\n"
     ]
    },
    {
     "name": "stderr",
     "output_type": "stream",
     "text": [
      " 89%|████████▊ | 1190/1341 [13:08<01:29,  1.70it/s]"
     ]
    },
    {
     "name": "stdout",
     "output_type": "stream",
     "text": [
      "Ryzen\n"
     ]
    },
    {
     "name": "stderr",
     "output_type": "stream",
     "text": [
      " 89%|████████▉ | 1191/1341 [13:08<01:27,  1.71it/s]"
     ]
    },
    {
     "name": "stdout",
     "output_type": "stream",
     "text": [
      "I do not know.\n"
     ]
    },
    {
     "name": "stderr",
     "output_type": "stream",
     "text": [
      " 89%|████████▉ | 1192/1341 [13:09<01:24,  1.77it/s]"
     ]
    },
    {
     "name": "stdout",
     "output_type": "stream",
     "text": [
      "16 inches\n"
     ]
    },
    {
     "name": "stderr",
     "output_type": "stream",
     "text": [
      " 89%|████████▉ | 1193/1341 [13:09<01:25,  1.74it/s]"
     ]
    },
    {
     "name": "stdout",
     "output_type": "stream",
     "text": [
      "Ryzen\n"
     ]
    },
    {
     "name": "stderr",
     "output_type": "stream",
     "text": [
      " 89%|████████▉ | 1194/1341 [13:10<01:32,  1.59it/s]"
     ]
    },
    {
     "name": "stdout",
     "output_type": "stream",
     "text": [
      "I do not know.\n"
     ]
    },
    {
     "name": "stderr",
     "output_type": "stream",
     "text": [
      " 89%|████████▉ | 1195/1341 [13:11<01:34,  1.55it/s]"
     ]
    },
    {
     "name": "stdout",
     "output_type": "stream",
     "text": [
      "15.6 inches\n"
     ]
    },
    {
     "name": "stderr",
     "output_type": "stream",
     "text": [
      " 89%|████████▉ | 1196/1341 [13:12<01:37,  1.48it/s]"
     ]
    },
    {
     "name": "stdout",
     "output_type": "stream",
     "text": [
      "Ryzen 5\n"
     ]
    },
    {
     "name": "stderr",
     "output_type": "stream",
     "text": [
      " 89%|████████▉ | 1197/1341 [13:12<01:32,  1.55it/s]"
     ]
    },
    {
     "name": "stdout",
     "output_type": "stream",
     "text": [
      "I do not know.\n"
     ]
    },
    {
     "name": "stderr",
     "output_type": "stream",
     "text": [
      " 89%|████████▉ | 1198/1341 [13:13<01:46,  1.35it/s]"
     ]
    },
    {
     "name": "stdout",
     "output_type": "stream",
     "text": [
      "16 inches\n"
     ]
    },
    {
     "name": "stderr",
     "output_type": "stream",
     "text": [
      " 89%|████████▉ | 1199/1341 [13:14<01:37,  1.46it/s]"
     ]
    },
    {
     "name": "stdout",
     "output_type": "stream",
     "text": [
      "Intel\n"
     ]
    },
    {
     "name": "stderr",
     "output_type": "stream",
     "text": [
      " 89%|████████▉ | 1200/1341 [13:14<01:34,  1.50it/s]"
     ]
    },
    {
     "name": "stdout",
     "output_type": "stream",
     "text": [
      "I do not know.\n"
     ]
    },
    {
     "name": "stderr",
     "output_type": "stream",
     "text": [
      " 90%|████████▉ | 1201/1341 [13:15<01:41,  1.37it/s]"
     ]
    },
    {
     "name": "stdout",
     "output_type": "stream",
     "text": [
      "15.6 inches\n"
     ]
    },
    {
     "name": "stderr",
     "output_type": "stream",
     "text": [
      " 90%|████████▉ | 1202/1341 [13:16<01:48,  1.28it/s]"
     ]
    },
    {
     "name": "stdout",
     "output_type": "stream",
     "text": [
      "Intel Core i5\n"
     ]
    },
    {
     "name": "stderr",
     "output_type": "stream",
     "text": [
      " 90%|████████▉ | 1203/1341 [13:17<01:45,  1.31it/s]"
     ]
    },
    {
     "name": "stdout",
     "output_type": "stream",
     "text": [
      "I do not know.\n"
     ]
    },
    {
     "name": "stderr",
     "output_type": "stream",
     "text": [
      " 90%|████████▉ | 1204/1341 [13:17<01:39,  1.38it/s]"
     ]
    },
    {
     "name": "stdout",
     "output_type": "stream",
     "text": [
      "15.6 inches\n"
     ]
    },
    {
     "name": "stderr",
     "output_type": "stream",
     "text": [
      " 90%|████████▉ | 1205/1341 [13:18<01:35,  1.43it/s]"
     ]
    },
    {
     "name": "stdout",
     "output_type": "stream",
     "text": [
      "Intel\n"
     ]
    },
    {
     "name": "stderr",
     "output_type": "stream",
     "text": [
      " 90%|████████▉ | 1206/1341 [13:19<01:35,  1.42it/s]"
     ]
    },
    {
     "name": "stdout",
     "output_type": "stream",
     "text": [
      "I do not know.\n"
     ]
    },
    {
     "name": "stderr",
     "output_type": "stream",
     "text": [
      " 90%|█████████ | 1207/1341 [13:19<01:27,  1.54it/s]"
     ]
    },
    {
     "name": "stdout",
     "output_type": "stream",
     "text": [
      "14 inches\n"
     ]
    },
    {
     "name": "stderr",
     "output_type": "stream",
     "text": [
      " 90%|█████████ | 1208/1341 [13:20<01:22,  1.61it/s]"
     ]
    },
    {
     "name": "stdout",
     "output_type": "stream",
     "text": [
      "Intel\n"
     ]
    },
    {
     "name": "stderr",
     "output_type": "stream",
     "text": [
      " 90%|█████████ | 1209/1341 [13:20<01:20,  1.65it/s]"
     ]
    },
    {
     "name": "stdout",
     "output_type": "stream",
     "text": [
      "I do not know.\n"
     ]
    },
    {
     "name": "stderr",
     "output_type": "stream",
     "text": [
      " 90%|█████████ | 1210/1341 [13:21<01:22,  1.59it/s]"
     ]
    },
    {
     "name": "stdout",
     "output_type": "stream",
     "text": [
      "14.0 inches\n"
     ]
    },
    {
     "name": "stderr",
     "output_type": "stream",
     "text": [
      " 90%|█████████ | 1211/1341 [13:22<01:22,  1.58it/s]"
     ]
    },
    {
     "name": "stdout",
     "output_type": "stream",
     "text": [
      "Intel Core i5\n"
     ]
    },
    {
     "name": "stderr",
     "output_type": "stream",
     "text": [
      " 90%|█████████ | 1212/1341 [13:22<01:18,  1.64it/s]"
     ]
    },
    {
     "name": "stdout",
     "output_type": "stream",
     "text": [
      "I do not know.\n"
     ]
    },
    {
     "name": "stderr",
     "output_type": "stream",
     "text": [
      " 90%|█████████ | 1213/1341 [13:23<01:18,  1.63it/s]"
     ]
    },
    {
     "name": "stdout",
     "output_type": "stream",
     "text": [
      "14.0 inches\n"
     ]
    },
    {
     "name": "stderr",
     "output_type": "stream",
     "text": [
      " 91%|█████████ | 1214/1341 [13:24<01:19,  1.61it/s]"
     ]
    },
    {
     "name": "stdout",
     "output_type": "stream",
     "text": [
      "Intel\n"
     ]
    },
    {
     "name": "stderr",
     "output_type": "stream",
     "text": [
      " 91%|█████████ | 1215/1341 [13:24<01:17,  1.62it/s]"
     ]
    },
    {
     "name": "stdout",
     "output_type": "stream",
     "text": [
      "I do not know.\n"
     ]
    },
    {
     "name": "stderr",
     "output_type": "stream",
     "text": [
      " 91%|█████████ | 1216/1341 [13:25<01:16,  1.64it/s]"
     ]
    },
    {
     "name": "stdout",
     "output_type": "stream",
     "text": [
      "15.6 inches\n"
     ]
    },
    {
     "name": "stderr",
     "output_type": "stream",
     "text": [
      " 91%|█████████ | 1217/1341 [13:25<01:12,  1.71it/s]"
     ]
    },
    {
     "name": "stdout",
     "output_type": "stream",
     "text": [
      "Intel Core i5\n"
     ]
    },
    {
     "name": "stderr",
     "output_type": "stream",
     "text": [
      " 91%|█████████ | 1218/1341 [13:26<01:19,  1.54it/s]"
     ]
    },
    {
     "name": "stdout",
     "output_type": "stream",
     "text": [
      "I do not know.\n"
     ]
    },
    {
     "name": "stderr",
     "output_type": "stream",
     "text": [
      " 91%|█████████ | 1219/1341 [13:27<01:21,  1.50it/s]"
     ]
    },
    {
     "name": "stdout",
     "output_type": "stream",
     "text": [
      "14 inches\n"
     ]
    },
    {
     "name": "stderr",
     "output_type": "stream",
     "text": [
      " 91%|█████████ | 1220/1341 [13:27<01:19,  1.53it/s]"
     ]
    },
    {
     "name": "stdout",
     "output_type": "stream",
     "text": [
      "Intel\n"
     ]
    },
    {
     "name": "stderr",
     "output_type": "stream",
     "text": [
      " 91%|█████████ | 1221/1341 [13:28<01:23,  1.43it/s]"
     ]
    },
    {
     "name": "stdout",
     "output_type": "stream",
     "text": [
      "I do not know.\n"
     ]
    },
    {
     "name": "stderr",
     "output_type": "stream",
     "text": [
      " 91%|█████████ | 1222/1341 [13:29<01:18,  1.52it/s]"
     ]
    },
    {
     "name": "stdout",
     "output_type": "stream",
     "text": [
      "15.6 inches\n"
     ]
    },
    {
     "name": "stderr",
     "output_type": "stream",
     "text": [
      " 91%|█████████ | 1223/1341 [13:29<01:14,  1.58it/s]"
     ]
    },
    {
     "name": "stdout",
     "output_type": "stream",
     "text": [
      "Intel\n"
     ]
    },
    {
     "name": "stderr",
     "output_type": "stream",
     "text": [
      " 91%|█████████▏| 1224/1341 [13:30<01:26,  1.35it/s]"
     ]
    },
    {
     "name": "stdout",
     "output_type": "stream",
     "text": [
      "I do not know.\n"
     ]
    },
    {
     "name": "stderr",
     "output_type": "stream",
     "text": [
      " 91%|█████████▏| 1225/1341 [13:31<01:28,  1.31it/s]"
     ]
    },
    {
     "name": "stdout",
     "output_type": "stream",
     "text": [
      "14.0 inches\n"
     ]
    },
    {
     "name": "stderr",
     "output_type": "stream",
     "text": [
      " 91%|█████████▏| 1226/1341 [13:32<01:20,  1.43it/s]"
     ]
    },
    {
     "name": "stdout",
     "output_type": "stream",
     "text": [
      "Ryzen 5\n"
     ]
    },
    {
     "name": "stderr",
     "output_type": "stream",
     "text": [
      " 91%|█████████▏| 1227/1341 [13:32<01:20,  1.42it/s]"
     ]
    },
    {
     "name": "stdout",
     "output_type": "stream",
     "text": [
      "I do not know.\n"
     ]
    },
    {
     "name": "stderr",
     "output_type": "stream",
     "text": [
      " 92%|█████████▏| 1228/1341 [13:33<01:17,  1.46it/s]"
     ]
    },
    {
     "name": "stdout",
     "output_type": "stream",
     "text": [
      "15.6 inches\n"
     ]
    },
    {
     "name": "stderr",
     "output_type": "stream",
     "text": [
      " 92%|█████████▏| 1229/1341 [13:34<01:21,  1.38it/s]"
     ]
    },
    {
     "name": "stdout",
     "output_type": "stream",
     "text": [
      "Intel\n"
     ]
    },
    {
     "name": "stderr",
     "output_type": "stream",
     "text": [
      " 92%|█████████▏| 1230/1341 [13:35<01:15,  1.47it/s]"
     ]
    },
    {
     "name": "stdout",
     "output_type": "stream",
     "text": [
      "I do not know.\n"
     ]
    },
    {
     "name": "stderr",
     "output_type": "stream",
     "text": [
      " 92%|█████████▏| 1231/1341 [13:35<01:14,  1.47it/s]"
     ]
    },
    {
     "name": "stdout",
     "output_type": "stream",
     "text": [
      "15.6 inches\n"
     ]
    },
    {
     "name": "stderr",
     "output_type": "stream",
     "text": [
      " 92%|█████████▏| 1232/1341 [13:36<01:11,  1.51it/s]"
     ]
    },
    {
     "name": "stdout",
     "output_type": "stream",
     "text": [
      "Intel\n"
     ]
    },
    {
     "name": "stderr",
     "output_type": "stream",
     "text": [
      " 92%|█████████▏| 1233/1341 [13:36<01:08,  1.57it/s]"
     ]
    },
    {
     "name": "stdout",
     "output_type": "stream",
     "text": [
      "I do not know.\n"
     ]
    },
    {
     "name": "stderr",
     "output_type": "stream",
     "text": [
      " 92%|█████████▏| 1234/1341 [13:37<01:11,  1.49it/s]"
     ]
    },
    {
     "name": "stdout",
     "output_type": "stream",
     "text": [
      "15.6 inches\n"
     ]
    },
    {
     "name": "stderr",
     "output_type": "stream",
     "text": [
      " 92%|█████████▏| 1235/1341 [13:38<01:07,  1.58it/s]"
     ]
    },
    {
     "name": "stdout",
     "output_type": "stream",
     "text": [
      "Intel\n"
     ]
    },
    {
     "name": "stderr",
     "output_type": "stream",
     "text": [
      " 92%|█████████▏| 1236/1341 [13:38<01:04,  1.62it/s]"
     ]
    },
    {
     "name": "stdout",
     "output_type": "stream",
     "text": [
      "I do not know.\n"
     ]
    },
    {
     "name": "stderr",
     "output_type": "stream",
     "text": [
      " 92%|█████████▏| 1237/1341 [13:39<00:59,  1.75it/s]"
     ]
    },
    {
     "name": "stdout",
     "output_type": "stream",
     "text": [
      "15.6 inches\n"
     ]
    },
    {
     "name": "stderr",
     "output_type": "stream",
     "text": [
      " 92%|█████████▏| 1238/1341 [13:39<00:59,  1.72it/s]"
     ]
    },
    {
     "name": "stdout",
     "output_type": "stream",
     "text": [
      "Ryzen 5\n"
     ]
    },
    {
     "name": "stderr",
     "output_type": "stream",
     "text": [
      " 92%|█████████▏| 1239/1341 [13:40<01:02,  1.64it/s]"
     ]
    },
    {
     "name": "stdout",
     "output_type": "stream",
     "text": [
      "I do not know.\n"
     ]
    },
    {
     "name": "stderr",
     "output_type": "stream",
     "text": [
      " 92%|█████████▏| 1240/1341 [13:41<01:05,  1.54it/s]"
     ]
    },
    {
     "name": "stdout",
     "output_type": "stream",
     "text": [
      "14 inches\n"
     ]
    },
    {
     "name": "stderr",
     "output_type": "stream",
     "text": [
      " 93%|█████████▎| 1241/1341 [13:41<01:04,  1.55it/s]"
     ]
    },
    {
     "name": "stdout",
     "output_type": "stream",
     "text": [
      "AMD\n"
     ]
    },
    {
     "name": "stderr",
     "output_type": "stream",
     "text": [
      " 93%|█████████▎| 1242/1341 [13:42<01:15,  1.31it/s]"
     ]
    },
    {
     "name": "stdout",
     "output_type": "stream",
     "text": [
      "I do not know.\n"
     ]
    },
    {
     "name": "stderr",
     "output_type": "stream",
     "text": [
      " 93%|█████████▎| 1243/1341 [13:43<01:16,  1.28it/s]"
     ]
    },
    {
     "name": "stdout",
     "output_type": "stream",
     "text": [
      "14.0 inches\n"
     ]
    },
    {
     "name": "stderr",
     "output_type": "stream",
     "text": [
      " 93%|█████████▎| 1244/1341 [13:44<01:09,  1.39it/s]"
     ]
    },
    {
     "name": "stdout",
     "output_type": "stream",
     "text": [
      "Ryzen 5\n"
     ]
    },
    {
     "name": "stderr",
     "output_type": "stream",
     "text": [
      " 93%|█████████▎| 1245/1341 [13:44<01:04,  1.49it/s]"
     ]
    },
    {
     "name": "stdout",
     "output_type": "stream",
     "text": [
      "I do not know.\n"
     ]
    },
    {
     "name": "stderr",
     "output_type": "stream",
     "text": [
      " 93%|█████████▎| 1246/1341 [13:45<01:07,  1.40it/s]"
     ]
    },
    {
     "name": "stdout",
     "output_type": "stream",
     "text": [
      "15.6 inches\n"
     ]
    },
    {
     "name": "stderr",
     "output_type": "stream",
     "text": [
      " 93%|█████████▎| 1247/1341 [13:46<01:02,  1.50it/s]"
     ]
    },
    {
     "name": "stdout",
     "output_type": "stream",
     "text": [
      "Intel\n"
     ]
    },
    {
     "name": "stderr",
     "output_type": "stream",
     "text": [
      " 93%|█████████▎| 1248/1341 [13:46<01:00,  1.55it/s]"
     ]
    },
    {
     "name": "stdout",
     "output_type": "stream",
     "text": [
      "I do not know.\n"
     ]
    },
    {
     "name": "stderr",
     "output_type": "stream",
     "text": [
      " 93%|█████████▎| 1249/1341 [13:47<00:59,  1.56it/s]"
     ]
    },
    {
     "name": "stdout",
     "output_type": "stream",
     "text": [
      "15.6 inches\n"
     ]
    },
    {
     "name": "stderr",
     "output_type": "stream",
     "text": [
      " 93%|█████████▎| 1250/1341 [13:48<01:01,  1.48it/s]"
     ]
    },
    {
     "name": "stdout",
     "output_type": "stream",
     "text": [
      "Ryzen\n"
     ]
    },
    {
     "name": "stderr",
     "output_type": "stream",
     "text": [
      " 93%|█████████▎| 1251/1341 [13:48<01:00,  1.48it/s]"
     ]
    },
    {
     "name": "stdout",
     "output_type": "stream",
     "text": [
      "I do not know.\n"
     ]
    },
    {
     "name": "stderr",
     "output_type": "stream",
     "text": [
      " 93%|█████████▎| 1252/1341 [13:49<00:59,  1.49it/s]"
     ]
    },
    {
     "name": "stdout",
     "output_type": "stream",
     "text": [
      "15.6 inches\n"
     ]
    },
    {
     "name": "stderr",
     "output_type": "stream",
     "text": [
      " 93%|█████████▎| 1253/1341 [13:50<00:57,  1.53it/s]"
     ]
    },
    {
     "name": "stdout",
     "output_type": "stream",
     "text": [
      "Intel\n"
     ]
    },
    {
     "name": "stderr",
     "output_type": "stream",
     "text": [
      " 94%|█████████▎| 1254/1341 [13:50<00:54,  1.58it/s]"
     ]
    },
    {
     "name": "stdout",
     "output_type": "stream",
     "text": [
      "I do not know.\n"
     ]
    },
    {
     "name": "stderr",
     "output_type": "stream",
     "text": [
      " 94%|█████████▎| 1255/1341 [13:51<01:01,  1.41it/s]"
     ]
    },
    {
     "name": "stdout",
     "output_type": "stream",
     "text": [
      "14.0 inches\n"
     ]
    },
    {
     "name": "stderr",
     "output_type": "stream",
     "text": [
      " 94%|█████████▎| 1256/1341 [13:53<01:24,  1.00it/s]"
     ]
    },
    {
     "name": "stdout",
     "output_type": "stream",
     "text": [
      "Intel\n"
     ]
    },
    {
     "name": "stderr",
     "output_type": "stream",
     "text": [
      " 94%|█████████▎| 1257/1341 [13:53<01:14,  1.13it/s]"
     ]
    },
    {
     "name": "stdout",
     "output_type": "stream",
     "text": [
      "I do not know.\n"
     ]
    },
    {
     "name": "stderr",
     "output_type": "stream",
     "text": [
      " 94%|█████████▍| 1258/1341 [13:54<01:05,  1.28it/s]"
     ]
    },
    {
     "name": "stdout",
     "output_type": "stream",
     "text": [
      "15.6 inches\n"
     ]
    },
    {
     "name": "stderr",
     "output_type": "stream",
     "text": [
      " 94%|█████████▍| 1259/1341 [13:55<00:58,  1.40it/s]"
     ]
    },
    {
     "name": "stdout",
     "output_type": "stream",
     "text": [
      "Intel\n"
     ]
    },
    {
     "name": "stderr",
     "output_type": "stream",
     "text": [
      " 94%|█████████▍| 1260/1341 [13:57<01:29,  1.11s/it]"
     ]
    },
    {
     "name": "stdout",
     "output_type": "stream",
     "text": [
      "I do not know.\n"
     ]
    },
    {
     "name": "stderr",
     "output_type": "stream",
     "text": [
      " 94%|█████████▍| 1261/1341 [13:57<01:23,  1.05s/it]"
     ]
    },
    {
     "name": "stdout",
     "output_type": "stream",
     "text": [
      "14.0 inches\n"
     ]
    },
    {
     "name": "stderr",
     "output_type": "stream",
     "text": [
      " 94%|█████████▍| 1262/1341 [13:58<01:09,  1.13it/s]"
     ]
    },
    {
     "name": "stdout",
     "output_type": "stream",
     "text": [
      "AMD\n"
     ]
    },
    {
     "name": "stderr",
     "output_type": "stream",
     "text": [
      " 94%|█████████▍| 1263/1341 [13:59<01:03,  1.23it/s]"
     ]
    },
    {
     "name": "stdout",
     "output_type": "stream",
     "text": [
      "I do not know.\n"
     ]
    },
    {
     "name": "stderr",
     "output_type": "stream",
     "text": [
      " 94%|█████████▍| 1264/1341 [13:59<00:59,  1.30it/s]"
     ]
    },
    {
     "name": "stdout",
     "output_type": "stream",
     "text": [
      "14.0 inches\n"
     ]
    },
    {
     "name": "stderr",
     "output_type": "stream",
     "text": [
      " 94%|█████████▍| 1265/1341 [14:00<00:52,  1.45it/s]"
     ]
    },
    {
     "name": "stdout",
     "output_type": "stream",
     "text": [
      "Intel\n"
     ]
    },
    {
     "name": "stderr",
     "output_type": "stream",
     "text": [
      " 94%|█████████▍| 1266/1341 [14:00<00:48,  1.53it/s]"
     ]
    },
    {
     "name": "stdout",
     "output_type": "stream",
     "text": [
      "I do not know.\n"
     ]
    },
    {
     "name": "stderr",
     "output_type": "stream",
     "text": [
      " 94%|█████████▍| 1267/1341 [14:01<00:48,  1.52it/s]"
     ]
    },
    {
     "name": "stdout",
     "output_type": "stream",
     "text": [
      "15.6 inches\n"
     ]
    },
    {
     "name": "stderr",
     "output_type": "stream",
     "text": [
      " 95%|█████████▍| 1268/1341 [14:02<00:56,  1.30it/s]"
     ]
    },
    {
     "name": "stdout",
     "output_type": "stream",
     "text": [
      "Ryzen 3\n"
     ]
    },
    {
     "name": "stderr",
     "output_type": "stream",
     "text": [
      " 95%|█████████▍| 1269/1341 [14:03<00:52,  1.36it/s]"
     ]
    },
    {
     "name": "stdout",
     "output_type": "stream",
     "text": [
      "I do not know.\n"
     ]
    },
    {
     "name": "stderr",
     "output_type": "stream",
     "text": [
      " 95%|█████████▍| 1270/1341 [14:03<00:50,  1.39it/s]"
     ]
    },
    {
     "name": "stdout",
     "output_type": "stream",
     "text": [
      "14.0 inches\n"
     ]
    },
    {
     "name": "stderr",
     "output_type": "stream",
     "text": [
      " 95%|█████████▍| 1271/1341 [14:04<00:51,  1.36it/s]"
     ]
    },
    {
     "name": "stdout",
     "output_type": "stream",
     "text": [
      "AMD\n"
     ]
    },
    {
     "name": "stderr",
     "output_type": "stream",
     "text": [
      " 95%|█████████▍| 1272/1341 [14:05<00:52,  1.32it/s]"
     ]
    },
    {
     "name": "stdout",
     "output_type": "stream",
     "text": [
      "I do not know.\n"
     ]
    },
    {
     "name": "stderr",
     "output_type": "stream",
     "text": [
      " 95%|█████████▍| 1273/1341 [14:06<00:54,  1.25it/s]"
     ]
    },
    {
     "name": "stdout",
     "output_type": "stream",
     "text": [
      "15.6 inches\n"
     ]
    },
    {
     "name": "stderr",
     "output_type": "stream",
     "text": [
      " 95%|█████████▌| 1274/1341 [14:06<00:48,  1.39it/s]"
     ]
    },
    {
     "name": "stdout",
     "output_type": "stream",
     "text": [
      "Intel\n"
     ]
    },
    {
     "name": "stderr",
     "output_type": "stream",
     "text": [
      " 95%|█████████▌| 1275/1341 [14:07<00:46,  1.42it/s]"
     ]
    },
    {
     "name": "stdout",
     "output_type": "stream",
     "text": [
      "I do not know.\n"
     ]
    },
    {
     "name": "stderr",
     "output_type": "stream",
     "text": [
      " 95%|█████████▌| 1276/1341 [14:08<00:42,  1.53it/s]"
     ]
    },
    {
     "name": "stdout",
     "output_type": "stream",
     "text": [
      "18 inches\n"
     ]
    },
    {
     "name": "stderr",
     "output_type": "stream",
     "text": [
      " 95%|█████████▌| 1277/1341 [14:08<00:40,  1.58it/s]"
     ]
    },
    {
     "name": "stdout",
     "output_type": "stream",
     "text": [
      "Intel Core i9\n"
     ]
    },
    {
     "name": "stderr",
     "output_type": "stream",
     "text": [
      " 95%|█████████▌| 1278/1341 [14:09<00:38,  1.62it/s]"
     ]
    },
    {
     "name": "stdout",
     "output_type": "stream",
     "text": [
      "I do not know.\n"
     ]
    },
    {
     "name": "stderr",
     "output_type": "stream",
     "text": [
      " 95%|█████████▌| 1279/1341 [14:09<00:35,  1.73it/s]"
     ]
    },
    {
     "name": "stdout",
     "output_type": "stream",
     "text": [
      "16.2 inches\n"
     ]
    },
    {
     "name": "stderr",
     "output_type": "stream",
     "text": [
      " 95%|█████████▌| 1280/1341 [14:10<00:34,  1.74it/s]"
     ]
    },
    {
     "name": "stdout",
     "output_type": "stream",
     "text": [
      "M3 Max\n"
     ]
    },
    {
     "name": "stderr",
     "output_type": "stream",
     "text": [
      " 96%|█████████▌| 1281/1341 [14:10<00:35,  1.68it/s]"
     ]
    },
    {
     "name": "stdout",
     "output_type": "stream",
     "text": [
      "I do not know.\n"
     ]
    },
    {
     "name": "stderr",
     "output_type": "stream",
     "text": [
      " 96%|█████████▌| 1282/1341 [14:11<00:34,  1.72it/s]"
     ]
    },
    {
     "name": "stdout",
     "output_type": "stream",
     "text": [
      "16 inches\n"
     ]
    },
    {
     "name": "stderr",
     "output_type": "stream",
     "text": [
      " 96%|█████████▌| 1283/1341 [14:13<01:06,  1.14s/it]"
     ]
    },
    {
     "name": "stdout",
     "output_type": "stream",
     "text": [
      "Intel Core i9\n"
     ]
    },
    {
     "name": "stderr",
     "output_type": "stream",
     "text": [
      " 96%|█████████▌| 1284/1341 [14:14<00:55,  1.03it/s]"
     ]
    },
    {
     "name": "stdout",
     "output_type": "stream",
     "text": [
      "I do not know.\n"
     ]
    },
    {
     "name": "stderr",
     "output_type": "stream",
     "text": [
      " 96%|█████████▌| 1285/1341 [14:15<00:55,  1.01it/s]"
     ]
    },
    {
     "name": "stdout",
     "output_type": "stream",
     "text": [
      "16.2 inches\n"
     ]
    },
    {
     "name": "stderr",
     "output_type": "stream",
     "text": [
      " 96%|█████████▌| 1286/1341 [14:16<00:49,  1.10it/s]"
     ]
    },
    {
     "name": "stdout",
     "output_type": "stream",
     "text": [
      "I do not know.\n"
     ]
    },
    {
     "name": "stderr",
     "output_type": "stream",
     "text": [
      " 96%|█████████▌| 1287/1341 [14:16<00:43,  1.23it/s]"
     ]
    },
    {
     "name": "stdout",
     "output_type": "stream",
     "text": [
      "I do not know.\n"
     ]
    },
    {
     "name": "stderr",
     "output_type": "stream",
     "text": [
      " 96%|█████████▌| 1288/1341 [14:17<00:42,  1.25it/s]"
     ]
    },
    {
     "name": "stdout",
     "output_type": "stream",
     "text": [
      "14.2 inches\n"
     ]
    },
    {
     "name": "stderr",
     "output_type": "stream",
     "text": [
      " 96%|█████████▌| 1289/1341 [14:19<00:56,  1.08s/it]"
     ]
    },
    {
     "name": "stdout",
     "output_type": "stream",
     "text": [
      "M3 Max\n"
     ]
    },
    {
     "name": "stderr",
     "output_type": "stream",
     "text": [
      " 96%|█████████▌| 1290/1341 [14:20<00:49,  1.02it/s]"
     ]
    },
    {
     "name": "stdout",
     "output_type": "stream",
     "text": [
      "I do not know.\n"
     ]
    },
    {
     "name": "stderr",
     "output_type": "stream",
     "text": [
      " 96%|█████████▋| 1291/1341 [14:20<00:44,  1.12it/s]"
     ]
    },
    {
     "name": "stdout",
     "output_type": "stream",
     "text": [
      "16 inches\n"
     ]
    },
    {
     "name": "stderr",
     "output_type": "stream",
     "text": [
      " 96%|█████████▋| 1292/1341 [14:21<00:41,  1.17it/s]"
     ]
    },
    {
     "name": "stdout",
     "output_type": "stream",
     "text": [
      "I do not know.\n"
     ]
    },
    {
     "name": "stderr",
     "output_type": "stream",
     "text": [
      " 96%|█████████▋| 1293/1341 [14:22<00:42,  1.13it/s]"
     ]
    },
    {
     "name": "stdout",
     "output_type": "stream",
     "text": [
      "I do not know.\n"
     ]
    },
    {
     "name": "stderr",
     "output_type": "stream",
     "text": [
      " 96%|█████████▋| 1294/1341 [14:23<00:36,  1.28it/s]"
     ]
    },
    {
     "name": "stdout",
     "output_type": "stream",
     "text": [
      "16.2 inches\n"
     ]
    },
    {
     "name": "stderr",
     "output_type": "stream",
     "text": [
      " 97%|█████████▋| 1295/1341 [14:23<00:32,  1.40it/s]"
     ]
    },
    {
     "name": "stdout",
     "output_type": "stream",
     "text": [
      "I do not know.\n"
     ]
    },
    {
     "name": "stderr",
     "output_type": "stream",
     "text": [
      " 97%|█████████▋| 1296/1341 [14:24<00:31,  1.45it/s]"
     ]
    },
    {
     "name": "stdout",
     "output_type": "stream",
     "text": [
      "I do not know.\n"
     ]
    },
    {
     "name": "stderr",
     "output_type": "stream",
     "text": [
      " 97%|█████████▋| 1297/1341 [14:24<00:29,  1.48it/s]"
     ]
    },
    {
     "name": "stdout",
     "output_type": "stream",
     "text": [
      "18 inches\n"
     ]
    },
    {
     "name": "stderr",
     "output_type": "stream",
     "text": [
      " 97%|█████████▋| 1298/1341 [14:25<00:28,  1.50it/s]"
     ]
    },
    {
     "name": "stdout",
     "output_type": "stream",
     "text": [
      "Intel Core i9\n"
     ]
    },
    {
     "name": "stderr",
     "output_type": "stream",
     "text": [
      " 97%|█████████▋| 1299/1341 [14:26<00:26,  1.56it/s]"
     ]
    },
    {
     "name": "stdout",
     "output_type": "stream",
     "text": [
      "I do not know.\n"
     ]
    },
    {
     "name": "stderr",
     "output_type": "stream",
     "text": [
      " 97%|█████████▋| 1300/1341 [14:26<00:26,  1.57it/s]"
     ]
    },
    {
     "name": "stdout",
     "output_type": "stream",
     "text": [
      "16 inches\n"
     ]
    },
    {
     "name": "stderr",
     "output_type": "stream",
     "text": [
      " 97%|█████████▋| 1301/1341 [14:27<00:23,  1.68it/s]"
     ]
    },
    {
     "name": "stdout",
     "output_type": "stream",
     "text": [
      "I do not know.\n"
     ]
    },
    {
     "name": "stderr",
     "output_type": "stream",
     "text": [
      " 97%|█████████▋| 1302/1341 [14:27<00:23,  1.65it/s]"
     ]
    },
    {
     "name": "stdout",
     "output_type": "stream",
     "text": [
      "I do not know.\n"
     ]
    },
    {
     "name": "stderr",
     "output_type": "stream",
     "text": [
      " 97%|█████████▋| 1303/1341 [14:29<00:38,  1.00s/it]"
     ]
    },
    {
     "name": "stdout",
     "output_type": "stream",
     "text": [
      "16 inches\n"
     ]
    },
    {
     "name": "stderr",
     "output_type": "stream",
     "text": [
      " 97%|█████████▋| 1304/1341 [14:30<00:32,  1.16it/s]"
     ]
    },
    {
     "name": "stdout",
     "output_type": "stream",
     "text": [
      "AMD\n"
     ]
    },
    {
     "name": "stderr",
     "output_type": "stream",
     "text": [
      " 97%|█████████▋| 1305/1341 [14:31<00:29,  1.24it/s]"
     ]
    },
    {
     "name": "stdout",
     "output_type": "stream",
     "text": [
      "I do not know.\n"
     ]
    },
    {
     "name": "stderr",
     "output_type": "stream",
     "text": [
      " 97%|█████████▋| 1306/1341 [14:31<00:26,  1.33it/s]"
     ]
    },
    {
     "name": "stdout",
     "output_type": "stream",
     "text": [
      "16 inches\n"
     ]
    },
    {
     "name": "stderr",
     "output_type": "stream",
     "text": [
      " 97%|█████████▋| 1307/1341 [14:33<00:31,  1.07it/s]"
     ]
    },
    {
     "name": "stdout",
     "output_type": "stream",
     "text": [
      "Intel\n"
     ]
    },
    {
     "name": "stderr",
     "output_type": "stream",
     "text": [
      " 98%|█████████▊| 1308/1341 [14:33<00:30,  1.09it/s]"
     ]
    },
    {
     "name": "stdout",
     "output_type": "stream",
     "text": [
      "I do not know.\n"
     ]
    },
    {
     "name": "stderr",
     "output_type": "stream",
     "text": [
      " 98%|█████████▊| 1309/1341 [14:34<00:25,  1.25it/s]"
     ]
    },
    {
     "name": "stdout",
     "output_type": "stream",
     "text": [
      "16 inches\n"
     ]
    },
    {
     "name": "stderr",
     "output_type": "stream",
     "text": [
      " 98%|█████████▊| 1310/1341 [14:34<00:22,  1.39it/s]"
     ]
    },
    {
     "name": "stdout",
     "output_type": "stream",
     "text": [
      "Intel\n"
     ]
    },
    {
     "name": "stderr",
     "output_type": "stream",
     "text": [
      " 98%|█████████▊| 1311/1341 [14:35<00:20,  1.48it/s]"
     ]
    },
    {
     "name": "stdout",
     "output_type": "stream",
     "text": [
      "I do not know.\n"
     ]
    },
    {
     "name": "stderr",
     "output_type": "stream",
     "text": [
      " 98%|█████████▊| 1312/1341 [14:36<00:18,  1.56it/s]"
     ]
    },
    {
     "name": "stdout",
     "output_type": "stream",
     "text": [
      "15.6 inches\n"
     ]
    },
    {
     "name": "stderr",
     "output_type": "stream",
     "text": [
      " 98%|█████████▊| 1313/1341 [14:36<00:18,  1.55it/s]"
     ]
    },
    {
     "name": "stdout",
     "output_type": "stream",
     "text": [
      "Ryzen 5\n"
     ]
    },
    {
     "name": "stderr",
     "output_type": "stream",
     "text": [
      " 98%|█████████▊| 1314/1341 [14:37<00:17,  1.53it/s]"
     ]
    },
    {
     "name": "stdout",
     "output_type": "stream",
     "text": [
      "I do not know.\n"
     ]
    },
    {
     "name": "stderr",
     "output_type": "stream",
     "text": [
      " 98%|█████████▊| 1315/1341 [14:38<00:16,  1.56it/s]"
     ]
    },
    {
     "name": "stdout",
     "output_type": "stream",
     "text": [
      "14 inches\n"
     ]
    },
    {
     "name": "stderr",
     "output_type": "stream",
     "text": [
      " 98%|█████████▊| 1316/1341 [14:38<00:16,  1.53it/s]"
     ]
    },
    {
     "name": "stdout",
     "output_type": "stream",
     "text": [
      "Ryzen 5\n"
     ]
    },
    {
     "name": "stderr",
     "output_type": "stream",
     "text": [
      " 98%|█████████▊| 1317/1341 [14:39<00:15,  1.58it/s]"
     ]
    },
    {
     "name": "stdout",
     "output_type": "stream",
     "text": [
      "I do not know.\n"
     ]
    },
    {
     "name": "stderr",
     "output_type": "stream",
     "text": [
      " 98%|█████████▊| 1318/1341 [14:40<00:15,  1.44it/s]"
     ]
    },
    {
     "name": "stdout",
     "output_type": "stream",
     "text": [
      "15.6 inches\n"
     ]
    },
    {
     "name": "stderr",
     "output_type": "stream",
     "text": [
      " 98%|█████████▊| 1319/1341 [14:40<00:14,  1.48it/s]"
     ]
    },
    {
     "name": "stdout",
     "output_type": "stream",
     "text": [
      "I do not know.\n"
     ]
    },
    {
     "name": "stderr",
     "output_type": "stream",
     "text": [
      " 98%|█████████▊| 1320/1341 [14:41<00:14,  1.48it/s]"
     ]
    },
    {
     "name": "stdout",
     "output_type": "stream",
     "text": [
      "I do not know.\n"
     ]
    },
    {
     "name": "stderr",
     "output_type": "stream",
     "text": [
      " 99%|█████████▊| 1321/1341 [14:42<00:12,  1.55it/s]"
     ]
    },
    {
     "name": "stdout",
     "output_type": "stream",
     "text": [
      "14 inches\n"
     ]
    },
    {
     "name": "stderr",
     "output_type": "stream",
     "text": [
      " 99%|█████████▊| 1322/1341 [14:42<00:12,  1.56it/s]"
     ]
    },
    {
     "name": "stdout",
     "output_type": "stream",
     "text": [
      "Ryzen 5\n"
     ]
    },
    {
     "name": "stderr",
     "output_type": "stream",
     "text": [
      " 99%|█████████▊| 1323/1341 [14:43<00:11,  1.54it/s]"
     ]
    },
    {
     "name": "stdout",
     "output_type": "stream",
     "text": [
      "I do not know.\n"
     ]
    },
    {
     "name": "stderr",
     "output_type": "stream",
     "text": [
      " 99%|█████████▊| 1324/1341 [14:44<00:12,  1.36it/s]"
     ]
    },
    {
     "name": "stdout",
     "output_type": "stream",
     "text": [
      "15.6 inches\n"
     ]
    },
    {
     "name": "stderr",
     "output_type": "stream",
     "text": [
      " 99%|█████████▉| 1325/1341 [14:44<00:10,  1.51it/s]"
     ]
    },
    {
     "name": "stdout",
     "output_type": "stream",
     "text": [
      "AMD\n"
     ]
    },
    {
     "name": "stderr",
     "output_type": "stream",
     "text": [
      " 99%|█████████▉| 1326/1341 [14:45<00:10,  1.43it/s]"
     ]
    },
    {
     "name": "stdout",
     "output_type": "stream",
     "text": [
      "I do not know.\n"
     ]
    },
    {
     "name": "stderr",
     "output_type": "stream",
     "text": [
      " 99%|█████████▉| 1327/1341 [14:46<00:09,  1.45it/s]"
     ]
    },
    {
     "name": "stdout",
     "output_type": "stream",
     "text": [
      "15.6 inches\n"
     ]
    },
    {
     "name": "stderr",
     "output_type": "stream",
     "text": [
      " 99%|█████████▉| 1328/1341 [14:46<00:08,  1.53it/s]"
     ]
    },
    {
     "name": "stdout",
     "output_type": "stream",
     "text": [
      "AMD\n"
     ]
    },
    {
     "name": "stderr",
     "output_type": "stream",
     "text": [
      " 99%|█████████▉| 1329/1341 [14:47<00:07,  1.53it/s]"
     ]
    },
    {
     "name": "stdout",
     "output_type": "stream",
     "text": [
      "I do not know.\n"
     ]
    },
    {
     "name": "stderr",
     "output_type": "stream",
     "text": [
      " 99%|█████████▉| 1330/1341 [14:47<00:06,  1.63it/s]"
     ]
    },
    {
     "name": "stdout",
     "output_type": "stream",
     "text": [
      "15.6 inches\n"
     ]
    },
    {
     "name": "stderr",
     "output_type": "stream",
     "text": [
      " 99%|█████████▉| 1331/1341 [14:48<00:05,  1.83it/s]"
     ]
    },
    {
     "name": "stdout",
     "output_type": "stream",
     "text": [
      "Intel\n"
     ]
    },
    {
     "name": "stderr",
     "output_type": "stream",
     "text": [
      " 99%|█████████▉| 1332/1341 [14:48<00:05,  1.79it/s]"
     ]
    },
    {
     "name": "stdout",
     "output_type": "stream",
     "text": [
      "I do not know.\n"
     ]
    },
    {
     "name": "stderr",
     "output_type": "stream",
     "text": [
      " 99%|█████████▉| 1333/1341 [14:49<00:04,  1.65it/s]"
     ]
    },
    {
     "name": "stdout",
     "output_type": "stream",
     "text": [
      "14 inches\n"
     ]
    },
    {
     "name": "stderr",
     "output_type": "stream",
     "text": [
      " 99%|█████████▉| 1334/1341 [14:50<00:04,  1.47it/s]"
     ]
    },
    {
     "name": "stdout",
     "output_type": "stream",
     "text": [
      "AMD\n"
     ]
    },
    {
     "name": "stderr",
     "output_type": "stream",
     "text": [
      "100%|█████████▉| 1335/1341 [14:51<00:04,  1.46it/s]"
     ]
    },
    {
     "name": "stdout",
     "output_type": "stream",
     "text": [
      "I do not know.\n"
     ]
    },
    {
     "name": "stderr",
     "output_type": "stream",
     "text": [
      "100%|█████████▉| 1336/1341 [14:51<00:03,  1.47it/s]"
     ]
    },
    {
     "name": "stdout",
     "output_type": "stream",
     "text": [
      "14 inches\n"
     ]
    },
    {
     "name": "stderr",
     "output_type": "stream",
     "text": [
      "100%|█████████▉| 1337/1341 [14:52<00:02,  1.53it/s]"
     ]
    },
    {
     "name": "stdout",
     "output_type": "stream",
     "text": [
      "Intel\n"
     ]
    },
    {
     "name": "stderr",
     "output_type": "stream",
     "text": [
      "100%|█████████▉| 1338/1341 [14:53<00:01,  1.57it/s]"
     ]
    },
    {
     "name": "stdout",
     "output_type": "stream",
     "text": [
      "I do not know.\n"
     ]
    },
    {
     "name": "stderr",
     "output_type": "stream",
     "text": [
      "100%|█████████▉| 1339/1341 [14:53<00:01,  1.59it/s]"
     ]
    },
    {
     "name": "stdout",
     "output_type": "stream",
     "text": [
      "14 inches\n"
     ]
    },
    {
     "name": "stderr",
     "output_type": "stream",
     "text": [
      "100%|█████████▉| 1340/1341 [14:54<00:00,  1.69it/s]"
     ]
    },
    {
     "name": "stdout",
     "output_type": "stream",
     "text": [
      "AMD\n"
     ]
    },
    {
     "name": "stderr",
     "output_type": "stream",
     "text": [
      "100%|██████████| 1341/1341 [14:54<00:00,  1.50it/s]"
     ]
    },
    {
     "name": "stdout",
     "output_type": "stream",
     "text": [
      "I do not know.\n",
      "Total Tokens: 333389\n"
     ]
    },
    {
     "name": "stderr",
     "output_type": "stream",
     "text": [
      "\n"
     ]
    }
   ],
   "source": [
    "# General task prefix\n",
    "from tqdm import tqdm\n",
    "from langchain.callbacks import get_openai_callback\n",
    "\n",
    "with get_openai_callback() as cb:\n",
    "    preds = [select_and_run_llm(example['attribute'], example['human_0'], example['system_0'], example['input']) for example in tqdm(task_dict['examples'])]\n",
    "    \n",
    "    task_dict['total_tokens'] = cb.total_tokens\n",
    "    print(f\"Total Tokens: {cb.total_tokens}\")"
   ]
  },
  {
   "cell_type": "code",
   "execution_count": 21,
   "id": "4bc2cb3d",
   "metadata": {},
   "outputs": [
    {
     "name": "stdout",
     "output_type": "stream",
     "text": [
      "[{'Screen Size': '15.6 inches'}, {'Processor Brand': 'Intel'}, {'Processor Speed': '1.2GHz'}, {'Screen Size': '14 inches'}, {'Processor Brand': 'Intel'}, {'Processor Speed': '1.2GHz'}, {'Screen Size': '15.6 inches'}, {'Processor Brand': 'Intel'}, {'Processor Speed': '1.7GHz'}, {'Screen Size': '14 inches'}, {'Processor Brand': 'AMD'}, {'Processor Speed': '2.8GHz'}, {'Screen Size': '14 inches'}, {'Processor Brand': 'Intel'}, {'Processor Speed': '1.3GHz'}, {'Screen Size': '14 inches'}, {'Processor Brand': 'Intel'}, {'Processor Speed': '1.3GHz'}, {'Screen Size': '15.6 inches'}, {'Processor Brand': 'Intel'}, {'Processor Speed': '1.3GHz'}, {'Screen Size': '15.6 inches'}, {'Processor Brand': 'Intel'}, {'Processor Speed': '1.7GHz'}, {'Screen Size': '15.6 inches'}, {'Processor Brand': 'Intel'}, {'Processor Speed': '1.7GHz'}, {'Screen Size': '14 inches'}, {'Processor Brand': 'Intel'}, {'Processor Speed': '1.3GHz'}, {'Screen Size': '15.6 inches'}, {'Processor Brand': 'Intel'}, {'Processor Speed': '2GHz'}, {'Screen Size': '14 inches'}, {'Processor Brand': 'Intel'}, {'Processor Speed': '1.8GHz'}, {'Screen Size': '15.6 inches'}, {'Processor Brand': 'Intel'}, {'Processor Speed': '2.1GHz'}, {'Screen Size': '15.6 inches'}, {'Processor Brand': 'AMD'}, {'Processor Speed': '3.3GHz'}, {'Screen Size': '14 inches'}, {'Processor Brand': 'Intel'}, {'Processor Speed': '1.3GHz'}, {'Screen Size': '15.6 inches'}, {'Processor Brand': 'Intel'}, {'Processor Speed': '3GHz'}, {'Screen Size': '13.3 inches'}, {'Processor Brand': 'Intel'}, {'Processor Speed': '1.1GHz'}, {'Screen Size': '14 inches'}, {'Processor Brand': 'Intel'}, {'Processor Speed': '1.7GHz'}, {'Screen Size': '15.6 inches'}, {'Processor Brand': 'Intel'}, {'Processor Speed': '1.7GHz'}, {'Screen Size': '14 inches'}, {'Processor Brand': 'Intel'}, {'Processor Speed': '1.3GHz'}, {'Screen Size': '13.3 inches'}, {'Processor Brand': 'Intel'}, {'Processor Speed': '1.00 GHz'}, {'Screen Size': '14 inches'}, {'Processor Brand': 'Intel'}, {'Processor Speed': '1.3GHz'}, {'Screen Size': '15.6 inches'}, {'Processor Brand': 'Intel'}, {'Processor Speed': '1.3GHz'}, {'Screen Size': '15.6 inches'}, {'Processor Brand': 'Intel'}, {'Processor Speed': '1.3GHz'}, {'Screen Size': '15.6 inches'}, {'Processor Brand': 'Intel'}, {'Processor Speed': '1.3GHz'}, {'Screen Size': '14 inches'}, {'Processor Brand': 'Intel'}, {'Processor Speed': '1.3GHz'}, {'Screen Size': '13.3 inches'}, {'Processor Brand': 'Intel'}, {'Processor Speed': '1.3GHz'}, {'Screen Size': '16.1 inches'}, {'Processor Brand': 'AMD'}, {'Processor Speed': '3.8GHz'}, {'Screen Size': '16.1 inches'}, {'Processor Brand': 'AMD'}, {'Processor Speed': '3.3GHz'}, {'Screen Size': '15.6 inches'}, {'Processor Brand': 'Intel'}, {'Processor Speed': '1.2GHz'}, {'Screen Size': '15.6 inches'}, {'Processor Brand': 'Intel'}, {'Processor Speed': '2GHz'}, {'Screen Size': '14 inches'}, {'Processor Brand': 'Intel'}, {'Processor Speed': '1.3GHz'}, {'Screen Size': '14 inches'}, {'Processor Brand': 'AMD'}, {'Processor Speed': '2.30 GHz'}, {'Screen Size': '16.1 inches'}, {'Processor Brand': 'AMD'}, {'Processor Speed': '4GHz'}, {'Screen Size': '16.1 inches'}, {'Processor Brand': 'AMD'}, {'Processor Speed': '3.8GHz'}, {'Screen Size': '16 inches'}, {'Processor Brand': 'Intel'}, {'Processor Speed': '2.5GHz'}, {'Screen Size': '16 inches'}, {'Processor Brand': 'Intel'}, {'Processor Speed': '2.30 GHz'}, {'Screen Size': '13.5 inches'}, {'Processor Brand': 'Intel'}, {'Processor Speed': '1.7GHz'}, {'Screen Size': '16.1 inches'}, {'Processor Brand': 'AMD'}, {'Processor Speed': '3.8GHz'}, {'Screen Size': '16.1 inches'}, {'Processor Brand': 'AMD'}, {'Processor Speed': '3.2GHz'}, {'Screen Size': '14 inches'}, {'Processor Brand': 'Intel'}, {'Processor Speed': '1.7GHz'}, {'Screen Size': '16.1 inches'}, {'Processor Brand': 'AMD'}, {'Processor Speed': '3.8GHz'}, {'Screen Size': '16.1 inches'}, {'Processor Brand': 'Intel'}, {'Processor Speed': '2.6GHz'}, {'Screen Size': '16.1 inches'}, {'Processor Brand': 'Intel'}, {'Processor Speed': '2.6GHz'}, {'Screen Size': '13.3 inches'}, {'Processor Brand': 'Intel'}, {'Processor Speed': '1.7GHz'}, {'Screen Size': '13.3 inches'}, {'Processor Brand': 'Intel'}, {'Processor Speed': '1.7GHz'}, {'Screen Size': '13.3 inches'}, {'Processor Brand': 'Intel'}, {'Processor Speed': '1.3GHz'}, {'Screen Size': '15.6 inches'}, {'Processor Brand': 'Intel'}, {'Processor Speed': '1.7GHz'}, {'Screen Size': '14 inches'}, {'Processor Brand': 'Intel'}, {'Processor Speed': '1.7GHz'}, {'Screen Size': '15.6 inches'}, {'Processor Brand': 'Intel'}, {'Processor Speed': '1.7GHz'}, {'Screen Size': '15.6 inches'}, {'Processor Brand': 'Intel'}, {'Processor Speed': '1.7GHz'}, {'Screen Size': '14 inches'}, {'Processor Brand': 'Intel'}, {'Processor Speed': '1.7GHz'}, {'Screen Size': '15.6 inches'}, {'Processor Brand': 'Intel'}, {'Processor Speed': '1.3GHz'}, {'Screen Size': '15.6 inches'}, {'Processor Brand': 'Intel'}, {'Processor Speed': '1.3GHz'}, {'Screen Size': '15.6 inches'}, {'Processor Brand': 'Intel'}, {'Processor Speed': '1.3GHz'}, {'Screen Size': '15.6 inches'}, {'Processor Brand': 'Intel'}, {'Processor Speed': '1.3GHz'}, {'Screen Size': '15.6 inches'}, {'Processor Brand': 'Intel'}, {'Processor Speed': '1.3GHz'}, {'Screen Size': '15.6 inches'}, {'Processor Brand': 'Intel'}, {'Processor Speed': '1.3GHz'}, {'Screen Size': '15.6 inches'}, {'Processor Brand': 'Intel'}, {'Processor Speed': '1.7GHz'}, {'Screen Size': '14 inches'}, {'Processor Brand': 'Intel'}, {'Processor Speed': '1.2GHz'}, {'Screen Size': '14 inches'}, {'Processor Brand': 'Intel'}, {'Processor Speed': '1.2GHz'}, {'Screen Size': '15.6 inches'}, {'Processor Brand': 'Intel'}, {'Processor Speed': '1.2GHz'}, {'Screen Size': '15.6 inches'}, {'Processor Brand': 'Intel'}, {'Processor Speed': '2.8GHz'}, {'Screen Size': '15.6 inches'}, {'Processor Brand': 'Intel'}, {'Processor Speed': '2.5GHz'}, {'Screen Size': '14 inches'}, {'Processor Brand': 'Intel'}, {'Processor Speed': '1.2GHz'}, {'Screen Size': '15.6 inches'}, {'Processor Brand': 'Intel'}, {'Processor Speed': '2.7GHz'}, {'Screen Size': '16 inches'}, {'Processor Brand': 'Intel'}, {'Processor Speed': '1.3GHz'}, {'Screen Size': '15.6 inches'}, {'Processor Brand': 'Intel'}, {'Processor Speed': '1.2GHz'}, {'Screen Size': '15.6 inches'}, {'Processor Brand': 'Intel'}, {'Processor Speed': '2.5GHz'}, {'Screen Size': '15.6 inches'}, {'Processor Brand': 'Intel'}, {'Processor Speed': '2.6GHz'}, {'Screen Size': '17.3 inches'}, {'Processor Brand': 'Intel'}, {'Processor Speed': '2.7GHz'}, {'Screen Size': '14 inches'}, {'Processor Brand': 'Intel'}, {'Processor Speed': '1.3GHz'}, {'Screen Size': '15.6 inches'}, {'Processor Brand': 'AMD'}, {'Processor Speed': '3.3GHz'}, {'Screen Size': '15.6 inches'}, {'Processor Brand': 'Intel'}, {'Processor Speed': '1.3GHz'}, {'Screen Size': '14 inches'}, {'Processor Brand': 'Intel'}, {'Processor Speed': '2.6GHz'}, {'Screen Size': '14 inches'}, {'Processor Brand': 'Intel'}, {'Processor Speed': '3GHz'}, {'Screen Size': '15.6 inches'}, {'Processor Brand': 'Intel'}, {'Processor Speed': '2.4GHz'}, {'Screen Size': '15.6 inches'}, {'Processor Brand': 'Intel'}, {'Processor Speed': '2.7GHz'}, {'Screen Size': '15.6 inches'}, {'Processor Brand': 'AMD'}, {'Processor Speed': '3.3GHz'}, {'Screen Size': '15.6 inches'}, {'Processor Brand': 'Intel'}, {'Processor Speed': '2.5GHz'}, {'Screen Size': '15.6 inches'}, {'Processor Brand': 'Intel'}, {'Processor Speed': '3GHz'}, {'Screen Size': '14 inches'}, {'Processor Brand': 'Intel'}, {'Processor Speed': '2.6GHz'}, {'Screen Size': '15.6 inches'}, {'Processor Brand': 'Intel'}, {'Processor Speed': '2.6GHz'}, {'Screen Size': '15.6 inches'}, {'Processor Brand': 'Intel'}, {'Processor Speed': '2.4GHz'}, {'Screen Size': '15.6 inches'}, {'Processor Brand': 'AMD'}, {'Processor Speed': '3.2GHz'}, {'Screen Size': '14 inches'}, {'Processor Brand': 'Intel'}, {'Processor Speed': '1.9GHz'}, {'Screen Size': '15.6 inches'}, {'Processor Brand': 'Intel'}, {'Processor Speed': '2.6GHz'}, {'Screen Size': '14 inches'}, {'Processor Brand': 'Intel'}, {'Processor Speed': '1.4GHz'}, {'Screen Size': '15.6 inches'}, {'Processor Brand': 'Intel'}, {'Processor Speed': '1.7GHz'}, {'Screen Size': '14 inches'}, {'Processor Brand': 'Intel'}, {'Processor Speed': '1.9GHz'}, {'Screen Size': '14 inches'}, {'Processor Brand': 'Intel'}, {'Processor Speed': '1.2GHz'}, {'Screen Size': '15.6 inches'}, {'Processor Brand': 'AMD'}, {'Processor Speed': '3.3GHz'}, {'Screen Size': '14 inches'}, {'Processor Brand': 'Intel'}, {'Processor Speed': '2.6GHz'}, {'Screen Size': '16 inches'}, {'Processor Brand': 'Intel'}, {'Processor Speed': '2.30 GHz'}, {'Screen Size': '15.6 inches'}, {'Processor Brand': 'Intel'}, {'Processor Speed': '2.8GHz'}, {'Screen Size': '16 inches'}, {'Processor Brand': 'I do not know.'}, {'Processor Speed': '2.30 GHz'}, {'Screen Size': '15.6 inches'}, {'Processor Brand': 'AMD'}, {'Processor Speed': '2.9GHz'}, {'Screen Size': '14 inches'}, {'Processor Brand': 'Intel'}, {'Processor Speed': '1.3GHz'}, {'Screen Size': '15.6 inches'}, {'Processor Brand': 'Intel'}, {'Processor Speed': '2.6GHz'}, {'Screen Size': '15.6 inches'}, {'Processor Brand': 'Intel'}, {'Processor Speed': '2GHz'}, {'Screen Size': '14 inches'}, {'Processor Brand': 'Intel'}, {'Processor Speed': '2.2GHz'}, {'Screen Size': '15.6 inches'}, {'Processor Brand': 'Intel'}, {'Processor Speed': '2.4GHz'}, {'Screen Size': '18 inches'}, {'Processor Brand': 'Intel'}, {'Processor Speed': '2.2GHz'}, {'Screen Size': '17.3 inches'}, {'Processor Brand': 'Intel'}, {'Processor Speed': '2.5GHz'}, {'Screen Size': '18 inches'}, {'Processor Brand': 'Intel'}, {'Processor Speed': '2.2GHz'}, {'Screen Size': '16 inches'}, {'Processor Brand': 'Intel Core i9 14900HX'}, {'Processor Speed': '2.2GHz'}, {'Screen Size': '16 inches'}, {'Processor Brand': 'Intel'}, {'Processor Speed': '2.5GHz'}, {'Screen Size': '16 inches'}, {'Processor Brand': 'Intel'}, {'Processor Speed': '2.2GHz'}, {'Screen Size': '16 inches'}, {'Processor Brand': 'Intel'}, {'Processor Speed': '2.6GHz'}, {'Screen Size': '18 inches'}, {'Processor Brand': 'Intel'}, {'Processor Speed': '2.2GHz'}, {'Screen Size': '16 inches'}, {'Processor Brand': 'Intel'}, {'Processor Speed': '2.6GHz'}, {'Screen Size': '13.4 inches'}, {'Processor Brand': 'Intel'}, {'Processor Speed': '4GHz'}, {'Screen Size': '13.3 inches'}, {'Processor Brand': 'Intel'}, {'Processor Speed': '1.7GHz'}, {'Screen Size': '14 inches'}, {'Processor Brand': 'Intel'}, {'Processor Speed': '1.7GHz'}, {'Screen Size': '15.6 inches'}, {'Processor Brand': 'Intel'}, {'Processor Speed': '2.4GHz'}, {'Screen Size': '15.6 inches'}, {'Processor Brand': 'AMD'}, {'Processor Speed': '4GHz'}, {'Screen Size': '14 inches'}, {'Processor Brand': 'AMD'}, {'Processor Speed': '3.2GHz'}, {'Screen Size': '16 inches'}, {'Processor Brand': 'Intel'}, {'Processor Speed': '2.4GHz'}, {'Screen Size': '13.3 inches'}, {'Processor Brand': 'Intel'}, {'Processor Speed': '1.7GHz'}, {'Screen Size': '14 inches'}, {'Processor Brand': 'Intel'}, {'Processor Speed': '2.2GHz'}, {'Screen Size': '14 inches'}, {'Processor Brand': 'AMD'}, {'Processor Speed': '2GHz'}, {'Screen Size': '14 inches'}, {'Processor Brand': 'Intel'}, {'Processor Speed': '1.2GHz'}, {'Screen Size': '15.6 inches'}, {'Processor Brand': 'Intel'}, {'Processor Speed': 'I do not know.'}, {'Screen Size': '15.6 inches'}, {'Processor Brand': 'Intel'}, {'Processor Speed': '2.5GHz'}, {'Screen Size': '15.6 inches'}, {'Processor Brand': 'Intel'}, {'Processor Speed': '2.1GHz'}, {'Screen Size': '15.6 inches'}, {'Processor Brand': 'AMD'}, {'Processor Speed': '1.8GHz'}, {'Screen Size': '15.6 inches'}, {'Processor Brand': 'Intel'}, {'Processor Speed': '2.7GHz'}, {'Screen Size': '15.6 inches'}, {'Processor Brand': 'Intel'}, {'Processor Speed': '2.4GHz'}, {'Screen Size': '15.6 inches'}, {'Processor Brand': 'AMD'}, {'Processor Speed': '2.30 GHz'}, {'Screen Size': '15.6 inches'}, {'Processor Brand': 'Intel'}, {'Processor Speed': '1.2GHz'}, {'Screen Size': '14 inches'}, {'Processor Brand': 'AMD'}, {'Processor Speed': '1.8GHz'}, {'Screen Size': '14 inches'}, {'Processor Brand': 'Intel'}, {'Processor Speed': '2.4GHz'}, {'Screen Size': '15.6 inches'}, {'Processor Brand': 'Intel'}, {'Processor Speed': '1.2GHz'}, {'Screen Size': '15.6 inches'}, {'Processor Brand': 'Intel'}, {'Processor Speed': '2GHz'}, {'Screen Size': '15.6 inches'}, {'Processor Brand': 'Intel'}, {'Processor Speed': '1.3GHz'}, {'Screen Size': '15.6 inches'}, {'Processor Brand': 'Intel'}, {'Processor Speed': '2.1GHz'}, {'Screen Size': '15.6 inches'}, {'Processor Brand': 'Intel'}, {'Processor Speed': '2.4GHz'}, {'Screen Size': '15.6 inches'}, {'Processor Brand': 'Intel'}, {'Processor Speed': '2.5GHz'}, {'Screen Size': '14 inches'}, {'Processor Brand': 'Intel'}, {'Processor Speed': '1.3GHz'}, {'Screen Size': '14 inches'}, {'Processor Brand': 'Intel'}, {'Processor Speed': '2.4GHz'}, {'Screen Size': '14 inches'}, {'Processor Brand': 'Intel'}, {'Processor Speed': '1.1GHz'}, {'Screen Size': '14 inches'}, {'Processor Brand': 'Intel'}, {'Processor Speed': '2.4GHz'}, {'Screen Size': '14 inches'}, {'Processor Brand': 'Intel'}, {'Processor Speed': '1.1GHz'}, {'Screen Size': '15.6 inches'}, {'Processor Brand': 'Intel'}, {'Processor Speed': '2.1GHz'}, {'Screen Size': '15.6 inches'}, {'Processor Brand': 'Intel'}, {'Processor Speed': '2.30 GHz'}, {'Screen Size': '14 inches'}, {'Processor Brand': 'Intel'}, {'Processor Speed': '2.4GHz'}, {'Screen Size': '15.6 inches'}, {'Processor Brand': 'Intel'}, {'Processor Speed': '2GHz'}, {'Screen Size': '14 inches'}, {'Processor Brand': 'Intel'}, {'Processor Speed': '1.7GHz'}, {'Screen Size': '16 inches'}, {'Processor Brand': 'Intel Core i7'}, {'Processor Speed': '2.1GHz'}, {'Screen Size': '15.6 inches'}, {'Processor Brand': 'Intel'}, {'Processor Speed': '2.30 GHz'}, {'Screen Size': '15.6 inches'}, {'Processor Brand': 'Intel'}, {'Processor Speed': '2.1GHz'}, {'Screen Size': '15.6 inches'}, {'Processor Brand': 'Intel'}, {'Processor Speed': '2.1GHz'}, {'Screen Size': '15.6 inches'}, {'Processor Brand': 'Intel'}, {'Processor Speed': '2.7GHz'}, {'Screen Size': '15.6 inches'}, {'Processor Brand': 'AMD'}, {'Processor Speed': '1.8GHz'}, {'Screen Size': '14 inches'}, {'Processor Brand': 'AMD'}, {'Processor Speed': '2.30 GHz'}, {'Screen Size': '15.6 inches'}, {'Processor Brand': 'Intel'}, {'Processor Speed': '2GHz'}, {'Screen Size': '15.6 inches'}, {'Processor Brand': 'Intel'}, {'Processor Speed': '1.3GHz'}, {'Screen Size': '15.6 inches'}, {'Processor Brand': 'Intel'}, {'Processor Speed': '1.3GHz'}, {'Screen Size': '15.6 inches'}, {'Processor Brand': 'Intel'}, {'Processor Speed': '1.2GHz'}, {'Screen Size': '15.6 inches'}, {'Processor Brand': 'Intel'}, {'Processor Speed': '2GHz'}, {'Screen Size': '15.6 inches'}, {'Processor Brand': 'Intel'}, {'Processor Speed': '1.2GHz'}, {'Screen Size': '15.6 inches'}, {'Processor Brand': 'Intel'}, {'Processor Speed': '2.5GHz'}, {'Screen Size': '15.6 inches'}, {'Processor Brand': 'AMD'}, {'Processor Speed': '2.8GHz'}, {'Screen Size': '15.6 inches'}, {'Processor Brand': 'Intel'}, {'Processor Speed': '1.7GHz'}, {'Screen Size': '15.6 inches'}, {'Processor Brand': 'Intel'}, {'Processor Speed': '1.2GHz'}, {'Screen Size': '15.6 inches'}, {'Processor Brand': 'Intel'}, {'Processor Speed': '2.4GHz'}, {'Screen Size': '15.6 inches'}, {'Processor Brand': 'Intel'}, {'Processor Speed': '1.7GHz'}, {'Screen Size': '14 inches'}, {'Processor Brand': 'Intel'}, {'Processor Speed': '1.7GHz'}, {'Screen Size': '15.6 inches'}, {'Processor Brand': 'AMD'}, {'Processor Speed': '3.3GHz'}, {'Screen Size': '14 inches'}, {'Processor Brand': 'Intel'}, {'Processor Speed': '2.2GHz'}, {'Screen Size': '14 inches'}, {'Processor Brand': 'AMD'}, {'Processor Speed': '2GHz'}, {'Screen Size': '14 inches'}, {'Processor Brand': 'Intel'}, {'Processor Speed': '2.1GHz'}, {'Screen Size': '15.6 inches'}, {'Processor Brand': 'Intel'}, {'Processor Speed': '3GHz'}, {'Screen Size': '14 inches'}, {'Processor Brand': 'Intel'}, {'Processor Speed': '1.9GHz'}, {'Screen Size': '15.6 inches'}, {'Processor Brand': 'Intel'}, {'Processor Speed': '1.2GHz'}, {'Screen Size': '15.6 inches'}, {'Processor Brand': 'Intel'}, {'Processor Speed': '2.4GHz'}, {'Screen Size': '15.6 inches'}, {'Processor Brand': 'Intel'}, {'Processor Speed': 'I do not know.'}, {'Screen Size': '16 inches'}, {'Processor Brand': 'Intel'}, {'Processor Speed': '2.6GHz'}, {'Screen Size': '15.6 inches'}, {'Processor Brand': 'Intel'}, {'Processor Speed': '2.1GHz'}, {'Screen Size': '15.6 inches'}, {'Processor Brand': 'Intel'}, {'Processor Speed': '1.3GHz'}, {'Screen Size': '15.6 inches'}, {'Processor Brand': 'Intel'}, {'Processor Speed': '2.4GHz'}, {'Screen Size': '14 inches'}, {'Processor Brand': 'Intel'}, {'Processor Speed': '2GHz'}, {'Screen Size': '15.6 inches'}, {'Processor Brand': 'Intel'}, {'Processor Speed': '2.5GHz'}, {'Screen Size': '15.6 inches'}, {'Processor Brand': 'Intel'}, {'Processor Speed': '1.3GHz'}, {'Screen Size': '14 inches'}, {'Processor Brand': 'Intel'}, {'Processor Speed': '1.3GHz'}, {'Screen Size': '14 inches'}, {'Processor Brand': 'Intel'}, {'Processor Speed': '1.2GHz'}, {'Screen Size': '15.6 inches'}, {'Processor Brand': 'Intel'}, {'Processor Speed': '1.3GHz'}, {'Screen Size': '15.6 inches'}, {'Processor Brand': 'Intel'}, {'Processor Speed': '1.3GHz'}, {'Screen Size': '15.6 inches'}, {'Processor Brand': 'Intel'}, {'Processor Speed': '1.3GHz'}, {'Screen Size': '15.6 inches'}, {'Processor Brand': 'Intel'}, {'Processor Speed': '1.2GHz'}, {'Screen Size': '15.6 inches'}, {'Processor Brand': 'Intel'}, {'Processor Speed': '1.2GHz'}, {'Screen Size': '15.6 inches'}, {'Processor Brand': 'Intel'}, {'Processor Speed': '1.2GHz'}, {'Screen Size': '15.6 inches'}, {'Processor Brand': 'Intel'}, {'Processor Speed': '1.3GHz'}, {'Screen Size': '15.6 inches'}, {'Processor Brand': 'Intel'}, {'Processor Speed': '1.7GHz'}, {'Screen Size': '15.6 inches'}, {'Processor Brand': 'Intel'}, {'Processor Speed': '1.7GHz'}, {'Screen Size': '15.6 inches'}, {'Processor Brand': 'Intel'}, {'Processor Speed': '1.2GHz'}, {'Screen Size': '15.6 inches'}, {'Processor Brand': 'Intel'}, {'Processor Speed': '1.3GHz'}, {'Screen Size': '14 inches'}, {'Processor Brand': 'Intel'}, {'Processor Speed': '1.3GHz'}, {'Screen Size': '15.6 inches'}, {'Processor Brand': 'Intel'}, {'Processor Speed': '1.3GHz'}, {'Screen Size': '15.6 inches'}, {'Processor Brand': 'Intel'}, {'Processor Speed': '1.3GHz'}, {'Screen Size': '14 inches'}, {'Processor Brand': 'Intel'}, {'Processor Speed': '1.7GHz'}, {'Screen Size': '15.6 inches'}, {'Processor Brand': 'Intel'}, {'Processor Speed': '1.3GHz'}, {'Screen Size': '14 inches'}, {'Processor Brand': 'Intel'}, {'Processor Speed': '1.3GHz'}, {'Screen Size': '16 inches'}, {'Processor Brand': 'Intel'}, {'Processor Speed': '2.6GHz'}, {'Screen Size': '16 inches'}, {'Processor Brand': 'Intel Core i9'}, {'Processor Speed': '2.2GHz'}, {'Screen Size': '16 inches'}, {'Processor Brand': 'Intel'}, {'Processor Speed': '2.1GHz'}, {'Screen Size': '15.6 inches'}, {'Processor Brand': 'Intel'}, {'Processor Speed': '2.5GHz'}, {'Screen Size': '15.6 inches'}, {'Processor Brand': 'Intel'}, {'Processor Speed': '2.5GHz'}, {'Screen Size': '14 inches'}, {'Processor Brand': 'Intel'}, {'Processor Speed': '2.4GHz'}, {'Screen Size': '15.6 inches'}, {'Processor Brand': 'Intel'}, {'Processor Speed': '2.6GHz'}, {'Screen Size': '14 inches'}, {'Processor Brand': 'Intel'}, {'Processor Speed': '2.2GHz'}, {'Screen Size': '14 inches'}, {'Processor Brand': 'Intel'}, {'Processor Speed': '1.9GHz'}, {'Screen Size': '16 inches'}, {'Processor Brand': 'Intel'}, {'Processor Speed': '1.3GHz'}, {'Screen Size': '14 inches'}, {'Processor Brand': 'Intel'}, {'Processor Speed': '1.3GHz'}, {'Screen Size': '15.6 inches'}, {'Processor Brand': 'Intel'}, {'Processor Speed': '1.3GHz'}, {'Screen Size': '15.6 inches'}, {'Processor Brand': 'Intel'}, {'Processor Speed': '1.3GHz'}, {'Screen Size': '15.6 inches'}, {'Processor Brand': 'Intel'}, {'Processor Speed': '1.6GHz'}, {'Screen Size': '14 inches'}, {'Processor Brand': 'Intel'}, {'Processor Speed': '3GHz'}, {'Screen Size': '15.6 inches'}, {'Processor Brand': 'Intel'}, {'Processor Speed': '2GHz'}, {'Screen Size': '15.6 inches'}, {'Processor Brand': 'Intel'}, {'Processor Speed': '2GHz'}, {'Screen Size': '15.6 inches'}, {'Processor Brand': 'Intel'}, {'Processor Speed': '1.3GHz'}, {'Screen Size': '15.6 inches'}, {'Processor Brand': 'Intel'}, {'Processor Speed': '2GHz'}, {'Screen Size': '15.6 inches'}, {'Processor Brand': 'AMD'}, {'Processor Speed': '3.3GHz'}, {'Screen Size': '15.6 inches'}, {'Processor Brand': 'Intel'}, {'Processor Speed': '2.30 GHz'}, {'Screen Size': '15.6 inches'}, {'Processor Brand': 'Intel'}, {'Processor Speed': '2GHz'}, {'Screen Size': '15.6 inches'}, {'Processor Brand': 'Intel'}, {'Processor Speed': '2GHz'}, {'Screen Size': '15.6 inches'}, {'Processor Brand': 'Intel'}, {'Processor Speed': '1.3GHz'}, {'Screen Size': '14 inches'}, {'Processor Brand': 'Intel'}, {'Processor Speed': '2GHz'}, {'Screen Size': '15.6 inches'}, {'Processor Brand': 'Intel'}, {'Processor Speed': '2.30 GHz'}, {'Screen Size': '15.6 inches'}, {'Processor Brand': 'Intel'}, {'Processor Speed': '2.7GHz'}, {'Screen Size': '15.6 inches'}, {'Processor Brand': 'AMD'}, {'Processor Speed': '3.3GHz'}, {'Screen Size': '15.6 inches'}, {'Processor Brand': 'Intel'}, {'Processor Speed': '1.7GHz'}, {'Screen Size': '15.6 inches'}, {'Processor Brand': 'Intel'}, {'Processor Speed': '1.3GHz'}, {'Screen Size': '15.6 inches'}, {'Processor Brand': 'Intel'}, {'Processor Speed': '2.7GHz'}, {'Screen Size': '15.6 inches'}, {'Processor Brand': 'Intel'}, {'Processor Speed': '2GHz'}, {'Screen Size': '14 inches'}, {'Processor Brand': 'Intel'}, {'Processor Speed': '2.6GHz'}, {'Screen Size': '16 inches'}, {'Processor Brand': 'Intel'}, {'Processor Speed': '2.1GHz'}, {'Screen Size': '18 inches'}, {'Processor Brand': 'Intel'}, {'Processor Speed': '2.2GHz'}, {'Screen Size': '16 inches'}, {'Processor Brand': 'I do not know.'}, {'Processor Speed': '2.30 GHz'}, {'Screen Size': '16 inches'}, {'Processor Brand': 'I do not know.'}, {'Processor Speed': '2.30 GHz'}, {'Screen Size': '14 inches'}, {'Processor Brand': 'Intel'}, {'Processor Speed': '1.4GHz'}, {'Screen Size': '16 inches'}, {'Processor Brand': 'Intel'}, {'Processor Speed': '2.4GHz'}, {'Screen Size': '16 inches'}, {'Processor Brand': 'Intel'}, {'Processor Speed': '2.1GHz'}, {'Screen Size': '13.3 inches'}, {'Processor Brand': 'Intel'}, {'Processor Speed': '1.4GHz'}, {'Screen Size': '15.6 inches'}, {'Processor Brand': 'Intel'}, {'Processor Speed': '3.8GHz'}, {'Screen Size': '15.6 inches'}, {'Processor Brand': 'I do not know.'}, {'Processor Speed': '1.4GHz'}, {'Screen Size': '15.6 inches'}, {'Processor Brand': 'Intel'}, {'Processor Speed': '2.4GHz'}, {'Screen Size': '15.6 inches'}, {'Processor Brand': 'Intel'}, {'Processor Speed': '3.8GHz'}, {'Screen Size': '15.6 inches'}, {'Processor Brand': 'Intel'}, {'Processor Speed': '2GHz'}, {'Screen Size': '14 inches'}, {'Processor Brand': 'AMD'}, {'Processor Speed': 'I do not know.'}, {'Screen Size': '14.0 inches'}, {'Processor Brand': 'Ryzen 5'}, {'Processor Speed': 'I do not know.'}, {'Screen Size': '15.6 inches'}, {'Processor Brand': 'Intel Core i5'}, {'Processor Speed': 'I do not know.'}, {'Screen Size': '14 inches'}, {'Processor Brand': 'AMD'}, {'Processor Speed': 'I do not know.'}, {'Screen Size': '14.0 inches'}, {'Processor Brand': 'Ryzen'}, {'Processor Speed': 'I do not know.'}, {'Screen Size': '15.6 inches'}, {'Processor Brand': 'Ryzen 7'}, {'Processor Speed': 'I do not know.'}, {'Screen Size': '13.3 inches'}, {'Processor Brand': 'AMD'}, {'Processor Speed': 'I do not know.'}, {'Screen Size': '15.6 inches'}, {'Processor Brand': 'Intel'}, {'Processor Speed': 'I do not know.'}, {'Screen Size': '15.6 inches'}, {'Processor Brand': 'Intel'}, {'Processor Speed': 'I do not know.'}, {'Screen Size': '14.0 inches'}, {'Processor Brand': 'Ryzen 5'}, {'Processor Speed': 'I do not know.'}, {'Screen Size': '15.6 inches'}, {'Processor Brand': 'Intel'}, {'Processor Speed': 'I do not know.'}, {'Screen Size': '15.6 inches'}, {'Processor Brand': 'Intel'}, {'Processor Speed': 'I do not know.'}, {'Screen Size': '14 inches'}, {'Processor Brand': 'Intel'}, {'Processor Speed': 'I do not know.'}, {'Screen Size': '14.0 inches'}, {'Processor Brand': 'Intel'}, {'Processor Speed': 'I do not know.'}, {'Screen Size': '15.6 inches'}, {'Processor Brand': 'Intel'}, {'Processor Speed': 'I do not know.'}, {'Screen Size': '15.6 inches'}, {'Processor Brand': 'Intel Core i5'}, {'Processor Speed': 'I do not know.'}, {'Screen Size': '15.6 inches'}, {'Processor Brand': 'Intel'}, {'Processor Speed': 'I do not know.'}, {'Screen Size': '14.0 inches'}, {'Processor Brand': 'Ryzen 5'}, {'Processor Speed': 'I do not know.'}, {'Screen Size': '15.6 inches'}, {'Processor Brand': 'Intel'}, {'Processor Speed': 'I do not know.'}, {'Screen Size': '14.0 inches'}, {'Processor Brand': 'Intel'}, {'Processor Speed': 'I do not know.'}, {'Screen Size': '15.6 inches'}, {'Processor Brand': 'Intel Core i5'}, {'Processor Speed': 'I do not know.'}, {'Screen Size': '15.6 inches'}, {'Processor Brand': 'AMD'}, {'Processor Speed': 'I do not know.'}, {'Screen Size': '15.6 inches'}, {'Processor Brand': 'Intel'}, {'Processor Speed': 'I do not know.'}, {'Screen Size': '15.6 inches'}, {'Processor Brand': 'Ryzen 5'}, {'Processor Speed': 'I do not know.'}, {'Screen Size': '14 inches'}, {'Processor Brand': 'Ryzen'}, {'Processor Speed': 'I do not know.'}, {'Screen Size': '15.6 inches'}, {'Processor Brand': 'AMD'}, {'Processor Speed': 'I do not know.'}, {'Screen Size': '14.0 inches'}, {'Processor Brand': 'Ryzen 5'}, {'Processor Speed': 'I do not know.'}, {'Screen Size': '14 inches'}, {'Processor Brand': 'Intel Core i7'}, {'Processor Speed': 'I do not know.'}, {'Screen Size': '15.6 inches'}, {'Processor Brand': 'Intel'}, {'Processor Speed': 'I do not know.'}, {'Screen Size': '14.0 inches'}, {'Processor Brand': 'Intel'}, {'Processor Speed': 'I do not know.'}, {'Screen Size': '15.6 inches'}, {'Processor Brand': 'Intel'}, {'Processor Speed': 'I do not know.'}, {'Screen Size': '16.0 inches'}, {'Processor Brand': 'Intel'}, {'Processor Speed': 'I do not know.'}, {'Screen Size': '15.6 inches'}, {'Processor Brand': 'Intel'}, {'Processor Speed': 'I do not know.'}, {'Screen Size': '14 inches'}, {'Processor Brand': 'Intel'}, {'Processor Speed': 'I do not know.'}, {'Screen Size': '15.6 inches'}, {'Processor Brand': 'Intel Core i7'}, {'Processor Speed': 'I do not know.'}, {'Screen Size': '15.6 inches'}, {'Processor Brand': 'Intel'}, {'Processor Speed': 'I do not know.'}, {'Screen Size': '15.6 inches'}, {'Processor Brand': 'Intel'}, {'Processor Speed': 'I do not know.'}, {'Screen Size': '15.6 inches'}, {'Processor Brand': 'Intel'}, {'Processor Speed': 'I do not know.'}, {'Screen Size': '15.6 inches'}, {'Processor Brand': 'Intel'}, {'Processor Speed': 'I do not know.'}, {'Screen Size': '14 inches'}, {'Processor Brand': 'Intel'}, {'Processor Speed': 'I do not know.'}, {'Screen Size': '15.6 inches'}, {'Processor Brand': 'AMD'}, {'Processor Speed': 'I do not know.'}, {'Screen Size': '14.0 inches'}, {'Processor Brand': 'Intel Core i9'}, {'Processor Speed': 'I do not know.'}, {'Screen Size': '14 inches'}, {'Processor Brand': 'AMD'}, {'Processor Speed': 'I do not know.'}, {'Screen Size': '15.6 inches'}, {'Processor Brand': 'Intel'}, {'Processor Speed': 'I do not know.'}, {'Screen Size': '15.6 inches'}, {'Processor Brand': 'Intel Core i7'}, {'Processor Speed': 'I do not know.'}, {'Screen Size': '16 inches'}, {'Processor Brand': 'Intel'}, {'Processor Speed': 'I do not know.'}, {'Screen Size': '15.6 inches'}, {'Processor Brand': 'Intel Core i7'}, {'Processor Speed': 'I do not know.'}, {'Screen Size': '15.6 inches'}, {'Processor Brand': 'Intel'}, {'Processor Speed': 'I do not know.'}, {'Screen Size': '14 inches'}, {'Processor Brand': 'Intel'}, {'Processor Speed': 'I do not know.'}, {'Screen Size': '15.6 inches'}, {'Processor Brand': 'Intel'}, {'Processor Speed': 'I do not know.'}, {'Screen Size': '15.6 inches'}, {'Processor Brand': 'AMD'}, {'Processor Speed': 'I do not know.'}, {'Screen Size': '15.6 inches'}, {'Processor Brand': 'Intel'}, {'Processor Speed': 'I do not know.'}, {'Screen Size': '14.0 inches'}, {'Processor Brand': 'Intel'}, {'Processor Speed': 'I do not know.'}, {'Screen Size': '17.3 inches'}, {'Processor Brand': 'Intel'}, {'Processor Speed': 'I do not know.'}, {'Screen Size': '16.2 inches'}, {'Processor Brand': 'I do not know.'}, {'Processor Speed': 'I do not know.'}, {'Screen Size': '14.2 inches'}, {'Processor Brand': 'I do not know.'}, {'Processor Speed': 'I do not know.'}, {'Screen Size': '14.2 inches'}, {'Processor Brand': 'M3 Pro'}, {'Processor Speed': 'I do not know.'}, {'Screen Size': '14.0 inches'}, {'Processor Brand': 'Intel'}, {'Processor Speed': 'I do not know.'}, {'Screen Size': '16.0 inches'}, {'Processor Brand': 'Intel'}, {'Processor Speed': 'I do not know.'}, {'Screen Size': '14.2 inches'}, {'Processor Brand': 'I do not know.'}, {'Processor Speed': 'I do not know.'}, {'Screen Size': '15.6 inches'}, {'Processor Brand': 'Intel'}, {'Processor Speed': 'I do not know.'}, {'Screen Size': '16.0 inches'}, {'Processor Brand': 'Intel'}, {'Processor Speed': 'I do not know.'}, {'Screen Size': '16.0 inches'}, {'Processor Brand': 'Ryzen 7'}, {'Processor Speed': 'I do not know.'}, {'Screen Size': '14 inches'}, {'Processor Brand': 'I do not know.'}, {'Processor Speed': 'I do not know.'}, {'Screen Size': '15.6 inches'}, {'Processor Brand': 'Intel'}, {'Processor Speed': 'I do not know.'}, {'Screen Size': '14 inches'}, {'Processor Brand': 'Intel Core i7'}, {'Processor Speed': 'I do not know.'}, {'Screen Size': '15.6 inches'}, {'Processor Brand': 'Intel'}, {'Processor Speed': 'I do not know.'}, {'Screen Size': '14.0 inches'}, {'Processor Brand': 'Intel'}, {'Processor Speed': 'I do not know.'}, {'Screen Size': '14 inches'}, {'Processor Brand': 'Intel Core i7'}, {'Processor Speed': 'I do not know.'}, {'Screen Size': '15.6 inches'}, {'Processor Brand': 'I do not know.'}, {'Processor Speed': 'I do not know.'}, {'Screen Size': '13.6 inches'}, {'Processor Brand': 'I do not know.'}, {'Processor Speed': 'I do not know.'}, {'Screen Size': '15.6 inches'}, {'Processor Brand': 'Intel Core i7'}, {'Processor Speed': 'I do not know.'}, {'Screen Size': '15.6 inches'}, {'Processor Brand': 'Intel'}, {'Processor Speed': 'I do not know.'}, {'Screen Size': '15.6 inches'}, {'Processor Brand': 'Intel'}, {'Processor Speed': 'I do not know.'}, {'Screen Size': '14 inches'}, {'Processor Brand': 'Intel'}, {'Processor Speed': 'I do not know.'}, {'Screen Size': '15.6 inches'}, {'Processor Brand': 'Intel Core i5'}, {'Processor Speed': 'I do not know.'}, {'Screen Size': '14 inches'}, {'Processor Brand': 'I do not know.'}, {'Processor Speed': 'I do not know.'}, {'Screen Size': '14 inches'}, {'Processor Brand': 'Intel'}, {'Processor Speed': 'I do not know.'}, {'Screen Size': '16 inches'}, {'Processor Brand': 'Intel'}, {'Processor Speed': 'I do not know.'}, {'Screen Size': 'I do not know.'}, {'Processor Brand': 'I do not know.'}, {'Processor Speed': 'I do not know.'}, {'Screen Size': '13.3 inches'}, {'Processor Brand': 'Intel'}, {'Processor Speed': 'I do not know.'}, {'Screen Size': '14 inches'}, {'Processor Brand': 'Intel Core i7'}, {'Processor Speed': 'I do not know.'}, {'Screen Size': '15.6 inches'}, {'Processor Brand': 'Intel Core i5'}, {'Processor Speed': 'I do not know.'}, {'Screen Size': '15.6 inches'}, {'Processor Brand': 'Intel'}, {'Processor Speed': 'I do not know.'}, {'Screen Size': '15.6 inches'}, {'Processor Brand': 'AMD'}, {'Processor Speed': 'I do not know.'}, {'Screen Size': '15.6 inches'}, {'Processor Brand': 'AMD'}, {'Processor Speed': 'I do not know.'}, {'Screen Size': '13.3 inches'}, {'Processor Brand': 'Apple'}, {'Processor Speed': 'I do not know.'}, {'Screen Size': '14.0 inches'}, {'Processor Brand': 'Intel Core i7'}, {'Processor Speed': 'I do not know.'}, {'Screen Size': '14 inches'}, {'Processor Brand': 'Intel'}, {'Processor Speed': 'I do not know.'}, {'Screen Size': '13.6 inches'}, {'Processor Brand': 'I do not know.'}, {'Processor Speed': 'I do not know.'}, {'Screen Size': '15.6 inches'}, {'Processor Brand': 'Intel'}, {'Processor Speed': 'I do not know.'}, {'Screen Size': '14.0 inches'}, {'Processor Brand': 'Intel Core i7'}, {'Processor Speed': 'I do not know.'}, {'Screen Size': '15.6 inches'}, {'Processor Brand': 'Intel Core i7'}, {'Processor Speed': 'I do not know.'}, {'Screen Size': '15.6 inches'}, {'Processor Brand': 'Intel Core i5'}, {'Processor Speed': 'I do not know.'}, {'Screen Size': '14.0 inches'}, {'Processor Brand': 'Intel'}, {'Processor Speed': 'I do not know.'}, {'Screen Size': '14 inches'}, {'Processor Brand': 'Intel'}, {'Processor Speed': 'I do not know.'}, {'Screen Size': '14 inches'}, {'Processor Brand': 'Intel'}, {'Processor Speed': 'I do not know.'}, {'Screen Size': '14.0 inches'}, {'Processor Brand': 'Intel'}, {'Processor Speed': 'I do not know.'}, {'Screen Size': '16.1 inches'}, {'Processor Brand': 'Intel'}, {'Processor Speed': 'I do not know.'}, {'Screen Size': '15.6 inches'}, {'Processor Brand': 'Intel'}, {'Processor Speed': 'I do not know.'}, {'Screen Size': '14.0 inches'}, {'Processor Brand': 'Intel'}, {'Processor Speed': 'I do not know.'}, {'Screen Size': '15.6 inches'}, {'Processor Brand': 'AMD'}, {'Processor Speed': 'I do not know.'}, {'Screen Size': '16.0 inches'}, {'Processor Brand': 'Ryzen 5'}, {'Processor Speed': 'I do not know.'}, {'Screen Size': '15.6 inches'}, {'Processor Brand': 'Intel'}, {'Processor Speed': 'I do not know.'}, {'Screen Size': '15.6 inches'}, {'Processor Brand': 'Intel Core i7'}, {'Processor Speed': 'I do not know.'}, {'Screen Size': '14.0 inches'}, {'Processor Brand': 'Intel'}, {'Processor Speed': 'I do not know.'}, {'Screen Size': '14 inches'}, {'Processor Brand': 'Intel'}, {'Processor Speed': 'I do not know.'}, {'Screen Size': '15.6 inches'}, {'Processor Brand': 'Intel'}, {'Processor Speed': 'I do not know.'}, {'Screen Size': '14.0 inches'}, {'Processor Brand': 'Intel'}, {'Processor Speed': 'I do not know.'}, {'Screen Size': '14 inches'}, {'Processor Brand': 'Intel'}, {'Processor Speed': 'I do not know.'}, {'Screen Size': '14 inches'}, {'Processor Brand': 'Intel Core i5'}, {'Processor Speed': 'I do not know.'}, {'Screen Size': '15.6 inches'}, {'Processor Brand': 'AMD'}, {'Processor Speed': 'I do not know.'}, {'Screen Size': '15.6 inches'}, {'Processor Brand': 'AMD'}, {'Processor Speed': 'I do not know.'}, {'Screen Size': '16.1 inches'}, {'Processor Brand': 'AMD'}, {'Processor Speed': 'I do not know.'}, {'Screen Size': '14.0 inches'}, {'Processor Brand': 'Intel Core i5'}, {'Processor Speed': 'I do not know.'}, {'Screen Size': '15.6 inches'}, {'Processor Brand': 'Intel'}, {'Processor Speed': 'I do not know.'}, {'Screen Size': '14.0 inches'}, {'Processor Brand': 'Intel Core i7'}, {'Processor Speed': 'I do not know.'}, {'Screen Size': '15.6 inches'}, {'Processor Brand': 'Intel'}, {'Processor Speed': 'I do not know.'}, {'Screen Size': '13.3 inches'}, {'Processor Brand': 'Apple'}, {'Processor Speed': 'I do not know.'}, {'Screen Size': '14.0 inches'}, {'Processor Brand': 'Intel'}, {'Processor Speed': 'I do not know.'}, {'Screen Size': '15.6 inches'}, {'Processor Brand': 'AMD'}, {'Processor Speed': 'I do not know.'}, {'Screen Size': '15.6 inches'}, {'Processor Brand': 'Intel'}, {'Processor Speed': 'I do not know.'}, {'Screen Size': '15.6 inches'}, {'Processor Brand': 'Intel Core i5'}, {'Processor Speed': 'I do not know.'}, {'Screen Size': '14.0 inches'}, {'Processor Brand': 'Intel'}, {'Processor Speed': 'I do not know.'}, {'Screen Size': '15.6 inches'}, {'Processor Brand': 'Ryzen'}, {'Processor Speed': 'I do not know.'}, {'Screen Size': '14.0 inches'}, {'Processor Brand': 'Intel'}, {'Processor Speed': 'I do not know.'}, {'Screen Size': '15.6 inches'}, {'Processor Brand': 'Intel'}, {'Processor Speed': 'I do not know.'}, {'Screen Size': '15.6 inches'}, {'Processor Brand': 'Intel Core i5'}, {'Processor Speed': 'I do not know.'}, {'Screen Size': '15.6 inches'}, {'Processor Brand': 'Intel'}, {'Processor Speed': 'I do not know.'}, {'Screen Size': '15.6 inches'}, {'Processor Brand': 'Intel'}, {'Processor Speed': 'I do not know.'}, {'Screen Size': '15.6 inches'}, {'Processor Brand': 'Intel'}, {'Processor Speed': 'I do not know.'}, {'Screen Size': '15.6 inches'}, {'Processor Brand': 'Intel'}, {'Processor Speed': 'I do not know.'}, {'Screen Size': '15.6 inches'}, {'Processor Brand': 'Intel'}, {'Processor Speed': 'I do not know.'}, {'Screen Size': '15.6 inches'}, {'Processor Brand': 'Intel'}, {'Processor Speed': 'I do not know.'}, {'Screen Size': '15.6 inches'}, {'Processor Brand': 'Intel Core i5'}, {'Processor Speed': 'I do not know.'}, {'Screen Size': '15.6 inches'}, {'Processor Brand': 'Intel'}, {'Processor Speed': 'I do not know.'}, {'Screen Size': '14.0 inches'}, {'Processor Brand': 'Intel'}, {'Processor Speed': 'I do not know.'}, {'Screen Size': '15.6 inches'}, {'Processor Brand': 'Ryzen 5'}, {'Processor Speed': 'I do not know.'}, {'Screen Size': '15.6 inches'}, {'Processor Brand': 'Intel'}, {'Processor Speed': 'I do not know.'}, {'Screen Size': '14 inches'}, {'Processor Brand': 'Ryzen 5'}, {'Processor Speed': 'I do not know.'}, {'Screen Size': '15.6 inches'}, {'Processor Brand': 'Intel Core i5'}, {'Processor Speed': 'I do not know.'}, {'Screen Size': '14.0 inches'}, {'Processor Brand': 'AMD'}, {'Processor Speed': 'I do not know.'}, {'Screen Size': '15.6 inches'}, {'Processor Brand': 'Intel'}, {'Processor Speed': 'I do not know.'}, {'Screen Size': '15.6 inches'}, {'Processor Brand': 'Ryzen 5'}, {'Processor Speed': 'I do not know.'}, {'Screen Size': '15.6 inches'}, {'Processor Brand': 'Intel'}, {'Processor Speed': 'I do not know.'}, {'Screen Size': '15.6 inches'}, {'Processor Brand': 'Intel'}, {'Processor Speed': 'I do not know.'}, {'Screen Size': '15.6 inches'}, {'Processor Brand': 'Intel'}, {'Processor Speed': 'I do not know.'}, {'Screen Size': '15.6 inches'}, {'Processor Brand': 'Ryzen'}, {'Processor Speed': 'I do not know.'}, {'Screen Size': '16 inches'}, {'Processor Brand': 'Ryzen'}, {'Processor Speed': 'I do not know.'}, {'Screen Size': '15.6 inches'}, {'Processor Brand': 'Ryzen 5'}, {'Processor Speed': 'I do not know.'}, {'Screen Size': '16 inches'}, {'Processor Brand': 'Intel'}, {'Processor Speed': 'I do not know.'}, {'Screen Size': '15.6 inches'}, {'Processor Brand': 'Intel Core i5'}, {'Processor Speed': 'I do not know.'}, {'Screen Size': '15.6 inches'}, {'Processor Brand': 'Intel'}, {'Processor Speed': 'I do not know.'}, {'Screen Size': '14 inches'}, {'Processor Brand': 'Intel'}, {'Processor Speed': 'I do not know.'}, {'Screen Size': '14.0 inches'}, {'Processor Brand': 'Intel Core i5'}, {'Processor Speed': 'I do not know.'}, {'Screen Size': '14.0 inches'}, {'Processor Brand': 'Intel'}, {'Processor Speed': 'I do not know.'}, {'Screen Size': '15.6 inches'}, {'Processor Brand': 'Intel Core i5'}, {'Processor Speed': 'I do not know.'}, {'Screen Size': '14 inches'}, {'Processor Brand': 'Intel'}, {'Processor Speed': 'I do not know.'}, {'Screen Size': '15.6 inches'}, {'Processor Brand': 'Intel'}, {'Processor Speed': 'I do not know.'}, {'Screen Size': '14.0 inches'}, {'Processor Brand': 'Ryzen 5'}, {'Processor Speed': 'I do not know.'}, {'Screen Size': '15.6 inches'}, {'Processor Brand': 'Intel'}, {'Processor Speed': 'I do not know.'}, {'Screen Size': '15.6 inches'}, {'Processor Brand': 'Intel'}, {'Processor Speed': 'I do not know.'}, {'Screen Size': '15.6 inches'}, {'Processor Brand': 'Intel'}, {'Processor Speed': 'I do not know.'}, {'Screen Size': '15.6 inches'}, {'Processor Brand': 'Ryzen 5'}, {'Processor Speed': 'I do not know.'}, {'Screen Size': '14 inches'}, {'Processor Brand': 'AMD'}, {'Processor Speed': 'I do not know.'}, {'Screen Size': '14.0 inches'}, {'Processor Brand': 'Ryzen 5'}, {'Processor Speed': 'I do not know.'}, {'Screen Size': '15.6 inches'}, {'Processor Brand': 'Intel'}, {'Processor Speed': 'I do not know.'}, {'Screen Size': '15.6 inches'}, {'Processor Brand': 'Ryzen'}, {'Processor Speed': 'I do not know.'}, {'Screen Size': '15.6 inches'}, {'Processor Brand': 'Intel'}, {'Processor Speed': 'I do not know.'}, {'Screen Size': '14.0 inches'}, {'Processor Brand': 'Intel'}, {'Processor Speed': 'I do not know.'}, {'Screen Size': '15.6 inches'}, {'Processor Brand': 'Intel'}, {'Processor Speed': 'I do not know.'}, {'Screen Size': '14.0 inches'}, {'Processor Brand': 'AMD'}, {'Processor Speed': 'I do not know.'}, {'Screen Size': '14.0 inches'}, {'Processor Brand': 'Intel'}, {'Processor Speed': 'I do not know.'}, {'Screen Size': '15.6 inches'}, {'Processor Brand': 'Ryzen 3'}, {'Processor Speed': 'I do not know.'}, {'Screen Size': '14.0 inches'}, {'Processor Brand': 'AMD'}, {'Processor Speed': 'I do not know.'}, {'Screen Size': '15.6 inches'}, {'Processor Brand': 'Intel'}, {'Processor Speed': 'I do not know.'}, {'Screen Size': '18 inches'}, {'Processor Brand': 'Intel Core i9'}, {'Processor Speed': 'I do not know.'}, {'Screen Size': '16.2 inches'}, {'Processor Brand': 'M3 Max'}, {'Processor Speed': 'I do not know.'}, {'Screen Size': '16 inches'}, {'Processor Brand': 'Intel Core i9'}, {'Processor Speed': 'I do not know.'}, {'Screen Size': '16.2 inches'}, {'Processor Brand': 'I do not know.'}, {'Processor Speed': 'I do not know.'}, {'Screen Size': '14.2 inches'}, {'Processor Brand': 'M3 Max'}, {'Processor Speed': 'I do not know.'}, {'Screen Size': '16 inches'}, {'Processor Brand': 'I do not know.'}, {'Processor Speed': 'I do not know.'}, {'Screen Size': '16.2 inches'}, {'Processor Brand': 'I do not know.'}, {'Processor Speed': 'I do not know.'}, {'Screen Size': '18 inches'}, {'Processor Brand': 'Intel Core i9'}, {'Processor Speed': 'I do not know.'}, {'Screen Size': '16 inches'}, {'Processor Brand': 'I do not know.'}, {'Processor Speed': 'I do not know.'}, {'Screen Size': '16 inches'}, {'Processor Brand': 'AMD'}, {'Processor Speed': 'I do not know.'}, {'Screen Size': '16 inches'}, {'Processor Brand': 'Intel'}, {'Processor Speed': 'I do not know.'}, {'Screen Size': '16 inches'}, {'Processor Brand': 'Intel'}, {'Processor Speed': 'I do not know.'}, {'Screen Size': '15.6 inches'}, {'Processor Brand': 'Ryzen 5'}, {'Processor Speed': 'I do not know.'}, {'Screen Size': '14 inches'}, {'Processor Brand': 'Ryzen 5'}, {'Processor Speed': 'I do not know.'}, {'Screen Size': '15.6 inches'}, {'Processor Brand': 'I do not know.'}, {'Processor Speed': 'I do not know.'}, {'Screen Size': '14 inches'}, {'Processor Brand': 'Ryzen 5'}, {'Processor Speed': 'I do not know.'}, {'Screen Size': '15.6 inches'}, {'Processor Brand': 'AMD'}, {'Processor Speed': 'I do not know.'}, {'Screen Size': '15.6 inches'}, {'Processor Brand': 'AMD'}, {'Processor Speed': 'I do not know.'}, {'Screen Size': '15.6 inches'}, {'Processor Brand': 'Intel'}, {'Processor Speed': 'I do not know.'}, {'Screen Size': '14 inches'}, {'Processor Brand': 'AMD'}, {'Processor Speed': 'I do not know.'}, {'Screen Size': '14 inches'}, {'Processor Brand': 'Intel'}, {'Processor Speed': 'I do not know.'}, {'Screen Size': '14 inches'}, {'Processor Brand': 'AMD'}, {'Processor Speed': 'I do not know.'}]\n"
     ]
    }
   ],
   "source": [
    "print(preds)"
   ]
  },
  {
   "cell_type": "code",
   "execution_count": 22,
   "id": "ace72f4c",
   "metadata": {},
   "outputs": [],
   "source": [
    "# Tên tệp JSON bạn muốn lưu\n",
    "file_name = \"result_open.json\"\n",
    "\n",
    "# Ghi từ điển vào tệp JSON\n",
    "with open(file_name, 'w') as json_file:\n",
    "    json.dump(preds, json_file)"
   ]
  },
  {
   "cell_type": "code",
   "execution_count": 26,
   "id": "e2c4e86f",
   "metadata": {},
   "outputs": [],
   "source": [
    "i = 0\n",
    "data=[]\n",
    "with open(PATH_FILE_DATA, 'r') as f:\n",
    "    for line in f:\n",
    "        record = json.loads(line)\n",
    "            \n",
    "        example = {}\n",
    "        example['title'] = record['title']\n",
    "        example['Screen Size'] = preds[i]['Screen Size']\n",
    "        example['Processor Brand'] = preds[i+1]['Processor Brand']\n",
    "        example['Processor Speed'] = preds[i+2]['Processor Speed']\n",
    "        i = i + 3\n",
    "        data.append(example)"
   ]
  },
  {
   "cell_type": "code",
   "execution_count": 27,
   "id": "75d4b1a0",
   "metadata": {},
   "outputs": [],
   "source": [
    "with open('C:/Users/ADMIN/Desktop/DATN/Extract_Information/data_crawl/results/results_generated_datacrawl.json', 'w', encoding='utf-8') as json_file:\n",
    "    json.dump(data, json_file)"
   ]
  },
  {
   "cell_type": "code",
   "execution_count": 28,
   "id": "822eadbc",
   "metadata": {},
   "outputs": [],
   "source": [
    "import pandas as pd\n",
    "# Tạo DataFrame từ danh sách\n",
    "df = pd.DataFrame(data)"
   ]
  },
  {
   "cell_type": "code",
   "execution_count": 29,
   "id": "b2b4bb8a",
   "metadata": {},
   "outputs": [],
   "source": [
    "df.to_csv('extract_gpt_generated.csv', index=False, encoding='utf-8')"
   ]
  },
  {
   "cell_type": "code",
   "execution_count": 2,
   "id": "4fde1b0b",
   "metadata": {},
   "outputs": [
    {
     "name": "stdout",
     "output_type": "stream",
     "text": [
      "[{'title': 'HP 15s fq5229TU i3 1215U (8U237PA) (Intel UHD, 15.6 inches, 1.2GHz)', 'Screen Size': '15.6 inches', 'Processor Brand': 'Intel', 'Processor Speed': '1.2GHz'}, {'title': 'HP 240 G9 i3 1215U (6L1X7PA) (Intel UHD, 14 inches, 1.2GHz)', 'Screen Size': '14 inches', 'Processor Brand': 'Intel', 'Processor Speed': '1.2GHz'}, {'title': 'HP Pavilion 15 eg2081TU i5 1240P (7C0Q4PA) (Intel Iris Xe, 15.6 inches, 1.7GHz)', 'Screen Size': '15.6 inches', 'Processor Brand': 'Intel', 'Processor Speed': '1.7GHz'}, {'title': 'HP 245 G10 R5 7520U (8F155PA) (Radeon, 14 inches, 2.8GHz)', 'Screen Size': '14 inches', 'Processor Brand': 'AMD', 'Processor Speed': '2.8GHz'}, {'title': 'HP Pavilion 14 dv2073TU i5 1235U (7C0P2PA) (Intel Iris Xe, 14 inches, 1.3GHz)', 'Screen Size': '14 inches', 'Processor Brand': 'Intel', 'Processor Speed': '1.3GHz'}, {'title': 'HP 240 G9 i5 1235U (6L1Y2PA) (Intel UHD, 14 inches, 1.3GHz)', 'Screen Size': '14 inches', 'Processor Brand': 'Intel', 'Processor Speed': '1.3GHz'}, {'title': 'HP 15s fq5162TU i5 1235U (7C134PA) (Intel Iris Xe, 15.6 inches, 1.3GHz)', 'Screen Size': '15.6 inches', 'Processor Brand': 'Intel', 'Processor Speed': '1.3GHz'}, {'title': 'HP Pavilion 15 eg2082TU i5 1240P (7C0Q5PA) (Intel Iris Xe, 15.6 inches, 1.7GHz)', 'Screen Size': '15.6 inches', 'Processor Brand': 'Intel', 'Processor Speed': '1.7GHz'}, {'title': 'HP 15s fq5147TU i7 1255U (7C133PA) (Intel Iris Xe, 15.6 inches, 1.7GHz)', 'Screen Size': '15.6 inches', 'Processor Brand': 'Intel', 'Processor Speed': '1.7GHz'}, {'title': 'HP Pavilion 14 dv2074TU i5 1235U (7C0P3PA) (Intel Iris Xe, 14 inches, 1.3GHz)', 'Screen Size': '14 inches', 'Processor Brand': 'Intel', 'Processor Speed': '1.3GHz'}, {'title': 'HP Gaming VICTUS 15 fa1139TX i5 12450H (8Y6W3PA) (RTX 2050 4GB, 15.6 inches, 2GHz)', 'Screen Size': '15.6 inches', 'Processor Brand': 'Intel', 'Processor Speed': '2GHz'}, {'title': 'HP 14 ep0126TU i3 N305 (8U233PA) (Intel UHD, 14 inches, 1.8GHz)', 'Screen Size': '14 inches', 'Processor Brand': 'Intel', 'Processor Speed': '1.8GHz'}, {'title': 'HP Pavilion 15 eg2088TU i7 1260P (7C0R0PA) (Intel Iris Xe, 15.6 inches, 2.1GHz)', 'Screen Size': '15.6 inches', 'Processor Brand': 'Intel', 'Processor Speed': '2.1GHz'}, {'title': 'HP Gaming VICTUS 15 fb1022AX R5 7535HS (94F19PA) (RTX 2050 4GB, 15.6 inches, 3.3GHz)', 'Screen Size': '15.6 inches', 'Processor Brand': 'AMD', 'Processor Speed': '3.3GHz'}, {'title': 'HP 240 G9 i5 1235U (6L1Y1PA) (Intel UHD, 14 inches, 1.3GHz)', 'Screen Size': '14 inches', 'Processor Brand': 'Intel', 'Processor Speed': '1.3GHz'}, {'title': 'HP 15s fq2716TU i3 1115G4 (7C0X3PA) (Intel UHD, 15.6 inches, 3GHz)', 'Screen Size': '15.6 inches', 'Processor Brand': 'Intel', 'Processor Speed': '3GHz'}, {'title': 'HP Envy X360 13 bf0090TU i7 1250U (76B13PA) (Intel Iris Xe, 13.3 inches, 1.1GHz)', 'Screen Size': '13.3 inches', 'Processor Brand': 'Intel', 'Processor Speed': '1.1GHz'}, {'title': 'HP Pavilion X360 14 ek1047TU i7 1355U (80R25PA) (Intel Iris Xe, 14 inches, 1.7GHz)', 'Screen Size': '14 inches', 'Processor Brand': 'Intel', 'Processor Speed': '1.7GHz'}, {'title': 'HP Pavilion 15 eg3091TU i7 1355U (8C5L2PA) (Intel Iris Xe, 15.6 inches, 1.7GHz)', 'Screen Size': '15.6 inches', 'Processor Brand': 'Intel', 'Processor Speed': '1.7GHz'}, {'title': 'HP Pavilion X360 14 ek1048TU i5 1335U (80R26PA) (Intel Iris Xe, 14 inches, 1.3GHz)', 'Screen Size': '14 inches', 'Processor Brand': 'Intel', 'Processor Speed': '1.3GHz'}, {'title': 'HP Envy X360 13 bf0112TU i5 1230U (7C0N9PA) (Intel Iris Xe, 13.3 inches, 1.00 GHz)', 'Screen Size': '13.3 inches', 'Processor Brand': 'Intel', 'Processor Speed': '1.00 GHz'}, {'title': 'HP Pavilion X360 14 ek1049TU i5 1335U (80R27PA) (Intel Iris Xe, 14 inches, 1.3GHz)', 'Screen Size': '14 inches', 'Processor Brand': 'Intel', 'Processor Speed': '1.3GHz'}, {'title': 'HP Pavilion 15 eg3093TU i5 1335U (8C5L4PA) (Intel Iris Xe, 15.6 inches, 1.3GHz)', 'Screen Size': '15.6 inches', 'Processor Brand': 'Intel', 'Processor Speed': '1.3GHz'}, {'title': 'HP Pavilion 15 eg3095TU i5 1335U (8C5L6PA) (Intel Iris Xe, 15.6 inches, 1.3GHz)', 'Screen Size': '15.6 inches', 'Processor Brand': 'Intel', 'Processor Speed': '1.3GHz'}, {'title': 'HP Pavilion 15 eg2062TX i5 1235U (7C0W7PA) (MX550 2GB, 15.6 inches, 1.3GHz)', 'Screen Size': '15.6 inches', 'Processor Brand': 'Intel', 'Processor Speed': '1.3GHz'}, {'title': 'HP 240 G10 i5 1335U (8F134PA) (Intel UHD, 14 inches, 1.3GHz)', 'Screen Size': '14 inches', 'Processor Brand': 'Intel', 'Processor Speed': '1.3GHz'}, {'title': 'HP Elitebook 630 G9 i5 1235U (6M143PA) (Intel UHD, 13.3 inches, 1.3GHz)', 'Screen Size': '13.3 inches', 'Processor Brand': 'Intel', 'Processor Speed': '1.3GHz'}, {'title': 'HP Gaming VICTUS 16 s0077AX R7 7840HS (8C5N6PA) (RTX 3050 6GB, 16.1 inches, 3.8GHz)', 'Screen Size': '16.1 inches', 'Processor Brand': 'AMD', 'Processor Speed': '3.8GHz'}, {'title': 'HP Gaming VICTUS 16 e1106AX R5 6600H (7C0T1PA) (RTX 3050Ti 4GB, 16.1 inches, 3.3GHz)', 'Screen Size': '16.1 inches', 'Processor Brand': 'AMD', 'Processor Speed': '3.3GHz'}, {'title': 'HP Pavilion 15 eg2086TU i3 1215U (7C0Q8PA) (Intel UHD, 15.6 inches, 1.2GHz)', 'Screen Size': '15.6 inches', 'Processor Brand': 'Intel', 'Processor Speed': '1.2GHz'}, {'title': 'HP Gaming VICTUS 15 fa0155TX i5 12450H (81P00PA) (RTX 3050 4GB, 15.6 inches, 2GHz)', 'Screen Size': '15.6 inches', 'Processor Brand': 'Intel', 'Processor Speed': '2GHz'}, {'title': 'HP 240 G10 i5 1335U (8F136PA) (Intel UHD, 14 inches, 1.3GHz)', 'Screen Size': '14 inches', 'Processor Brand': 'Intel', 'Processor Speed': '1.3GHz'}, {'title': 'HP 245 G9 R5 5625U (6L1N9PA) (Radeon, 14 inches, 2.30 GHz)', 'Screen Size': '14 inches', 'Processor Brand': 'AMD', 'Processor Speed': '2.30 GHz'}, {'title': 'HP OMEN 16 xf0070AX R9 7940HS (8W945PA) (RTX 4070 8GB, 16.1 inches, 4GHz)', 'Screen Size': '16.1 inches', 'Processor Brand': 'AMD', 'Processor Speed': '4GHz'}, {'title': 'HP OMEN 16 xf0071AX R7 7840HS (8W946PA) (RTX 4060 8GB, 16.1 inches, 3.8GHz)', 'Screen Size': '16.1 inches', 'Processor Brand': 'AMD', 'Processor Speed': '3.8GHz'}, {'title': 'HP Envy 16 h0205TX i9 12900H (7C0T2PA) (RTX 3060 6GB, 16 inches, 2.5GHz)', 'Screen Size': '16 inches', 'Processor Brand': 'Intel', 'Processor Speed': '2.5GHz'}, {'title': 'HP Envy 16 h0207TX i7 12700H (7C0T4PA) (RTX 3060 6GB, 16 inches, 2.30 GHz)', 'Screen Size': '16 inches', 'Processor Brand': 'Intel', 'Processor Speed': '2.30 GHz'}, {'title': 'HP Elitebook Dragonfly G3 i7 1255U (6Z980PA) (Intel Iris Xe, 13.5 inches, 1.7GHz)', 'Screen Size': '13.5 inches', 'Processor Brand': 'Intel', 'Processor Speed': '1.7GHz'}, {'title': 'HP Gaming VICTUS 16 s0138AX R7 7840HS (9Q985PA) (RTX 4070 8GB, 16.1 inches, 3.8GHz)', 'Screen Size': '16.1 inches', 'Processor Brand': 'AMD', 'Processor Speed': '3.8GHz'}, {'title': 'HP Omen 16 n0087AX R7 6800H (7C0T7PA) (RTX 3060 6GB, 16.1 inches, 3.2GHz)', 'Screen Size': '16.1 inches', 'Processor Brand': 'AMD', 'Processor Speed': '3.2GHz'}, {'title': 'HP Elitebook X360 1040 G9 i7 1255U (6Z982PA) (Intel Iris Xe, 14 inches, 1.7GHz)', 'Screen Size': '14 inches', 'Processor Brand': 'Intel', 'Processor Speed': '1.7GHz'}, {'title': 'HP Gaming VICTUS 16 s0139AX R7 7840HS (9Q986PA) (RTX 4060 8GB, 16.1 inches, 3.8GHz)', 'Screen Size': '16.1 inches', 'Processor Brand': 'AMD', 'Processor Speed': '3.8GHz'}, {'title': 'HP Gaming VICTUS 16 r0227TX i5 13500H (9Q978PA) (RTX 4060 8GB, 16.1 inches, 2.6GHz)', 'Screen Size': '16.1 inches', 'Processor Brand': 'Intel', 'Processor Speed': '2.6GHz'}, {'title': 'HP Gaming VICTUS 16 r0228TX i5 13500H (9Q979PA) (RTX 4050 6GB, 16.1 inches, 2.6GHz)', 'Screen Size': '16.1 inches', 'Processor Brand': 'Intel', 'Processor Speed': '2.6GHz'}, {'title': 'HP Elitebook 630 G10 i7 1355U (9J0B7PT) (Intel UHD, 13.3 inches, 1.7GHz)', 'Screen Size': '13.3 inches', 'Processor Brand': 'Intel', 'Processor Speed': '1.7GHz'}, {'title': 'HP Elitebook 630 G10 i7 1355U (873F2PA) (Intel UHD, 13.3 inches, 1.7GHz)', 'Screen Size': '13.3 inches', 'Processor Brand': 'Intel', 'Processor Speed': '1.7GHz'}, {'title': 'HP Elitebook 630 G10 i5 1335U (9J0B5PT) (Intel UHD, 13.3 inches, 1.3GHz)', 'Screen Size': '13.3 inches', 'Processor Brand': 'Intel', 'Processor Speed': '1.3GHz'}, {'title': 'HP Probook 450 G10 i7 1355U (873D3PA) (Intel UHD, 15.6 inches, 1.7GHz)', 'Screen Size': '15.6 inches', 'Processor Brand': 'Intel', 'Processor Speed': '1.7GHz'}, {'title': 'HP Pavilion X360 14 ek0132TU i7 1255U (7C0W4PA) (Intel Iris Xe, 14 inches, 1.7GHz)', 'Screen Size': '14 inches', 'Processor Brand': 'Intel', 'Processor Speed': '1.7GHz'}, {'title': 'HP Pavilion 15 eg3035TX i7 1355U (8U6L7PA) (MX550 2GB, 15.6 inches, 1.7GHz)', 'Screen Size': '15.6 inches', 'Processor Brand': 'Intel', 'Processor Speed': '1.7GHz'}, {'title': 'HP Pavilion 15 eg2034TX i7 1255U (6K780PA) (MX550 2GB, 15.6 inches, 1.7GHz)', 'Screen Size': '15.6 inches', 'Processor Brand': 'Intel', 'Processor Speed': '1.7GHz'}, {'title': 'HP Pavilion 14 dv2071TU i7 1255U (7C0W0PA) (Intel Iris Xe, 14 inches, 1.7GHz)', 'Screen Size': '14 inches', 'Processor Brand': 'Intel', 'Processor Speed': '1.7GHz'}, {'title': 'HP Probook 450 G10 i5 1335U (873D1PA) (Intel UHD, 15.6 inches, 1.3GHz)', 'Screen Size': '15.6 inches', 'Processor Brand': 'Intel', 'Processor Speed': '1.3GHz'}, {'title': 'HP Pavilion 15 eg3033TX i5 1335U (8U6L6PA) (MX550 2GB, 15.6 inches, 1.3GHz)', 'Screen Size': '15.6 inches', 'Processor Brand': 'Intel', 'Processor Speed': '1.3GHz'}, {'title': 'HP Probook 450 G9 i5 1235U (6M0Y9PA) (Intel UHD, 15.6 inches, 1.3GHz)', 'Screen Size': '15.6 inches', 'Processor Brand': 'Intel', 'Processor Speed': '1.3GHz'}, {'title': 'HP Pavilion 15 eg2035TX i5 1235U (6K781PA) (MX550 2GB, 15.6 inches, 1.3GHz)', 'Screen Size': '15.6 inches', 'Processor Brand': 'Intel', 'Processor Speed': '1.3GHz'}, {'title': 'HP Pavilion 15 eg2036TX i5 1235U (6K782PA) (MX550 2GB, 15.6 inches, 1.3GHz)', 'Screen Size': '15.6 inches', 'Processor Brand': 'Intel', 'Processor Speed': '1.3GHz'}, {'title': 'HP Pavilion 15 eg3094TU i5 1335U (8C5L5PA) (Intel Iris Xe, 15.6 inches, 1.3GHz)', 'Screen Size': '15.6 inches', 'Processor Brand': 'Intel', 'Processor Speed': '1.3GHz'}, {'title': 'HP Pavilion 15 eg2085TU i5 1240P (7C0Q7PA) (Intel Iris Xe, 15.6 inches, 1.7GHz)', 'Screen Size': '15.6 inches', 'Processor Brand': 'Intel', 'Processor Speed': '1.7GHz'}, {'title': 'HP Pavilion X360 14 ek0131TU i3 1215U (7C0P6PA) (Intel UHD, 14 inches, 1.2GHz)', 'Screen Size': '14 inches', 'Processor Brand': 'Intel', 'Processor Speed': '1.2GHz'}, {'title': 'HP Pavilion X360 14 ek0130TU i3 1215U (7C0P5PA) (Intel UHD, 14 inches, 1.2GHz)', 'Screen Size': '14 inches', 'Processor Brand': 'Intel', 'Processor Speed': '1.2GHz'}, {'title': 'HP Pavilion 15 eg3098TU i3 1315U (8C5L9PA) (Intel UHD, 15.6 inches, 1.2GHz)', 'Screen Size': '15.6 inches', 'Processor Brand': 'Intel', 'Processor Speed': '1.2GHz'}, {'title': 'Asus Vivobook Go 15 E1504FA R5 7520U (NJ776W) (Radeon, 15.6 inches, 2.8GHz)', 'Screen Size': '15.6 inches', 'Processor Brand': 'Intel', 'Processor Speed': '2.8GHz'}, {'title': 'Asus Vivobook 15 OLED A1505ZA i5 12500H (L1337W) (Intel Iris Xe, 15.6 inches, 2.5GHz)', 'Screen Size': '15.6 inches', 'Processor Brand': 'Intel', 'Processor Speed': '2.5GHz'}, {'title': 'Asus Vivobook X1404ZA i3 1215U (NK246W) (Intel UHD, 14 inches, 1.2GHz)', 'Screen Size': '14 inches', 'Processor Brand': 'Intel', 'Processor Speed': '1.2GHz'}, {'title': 'Asus TUF Gaming F15 FX506HF i5 11400H (HN014W) (RTX 2050 4GB, 15.6 inches, 2.7GHz)', 'Screen Size': '15.6 inches', 'Processor Brand': 'Intel', 'Processor Speed': '2.7GHz'}, {'title': 'Asus Vivobook 16 X1605VA i5 1335U (MB360W) (Intel Iris Xe, 16 inches, 1.3GHz)', 'Screen Size': '16 inches', 'Processor Brand': 'Intel', 'Processor Speed': '1.3GHz'}, {'title': 'Asus Vivobook 15 X1504ZA i3 1215U (NJ102W) (Intel UHD, 15.6 inches, 1.2GHz)', 'Screen Size': '15.6 inches', 'Processor Brand': 'Intel', 'Processor Speed': '1.2GHz'}, {'title': 'Asus TUF Gaming F15 FX507ZC4 i5 12500H (HN229W) (RTX 3050 4GB, 15.6 inches, 2.5GHz)', 'Screen Size': '15.6 inches', 'Processor Brand': 'Intel', 'Processor Speed': '2.5GHz'}, {'title': 'Asus Vivobook 15 OLED A1505VA i5 13500H (L1341W) (Intel Iris Xe, 15.6 inches, 2.6GHz)', 'Screen Size': '15.6 inches', 'Processor Brand': 'Intel', 'Processor Speed': '2.6GHz'}, {'title': 'Asus TUF Gaming F17 FX706HF i5 11400H (HX390W) (RTX 2050 4GB, 17.3 inches, 2.7GHz)', 'Screen Size': '17.3 inches', 'Processor Brand': 'Intel', 'Processor Speed': '2.7GHz'}, {'title': 'Asus Vivobook 14 X1404VA i5 1335U (NK050W) (Intel Iris Xe, 14 inches, 1.3GHz)', 'Screen Size': '14 inches', 'Processor Brand': 'Intel', 'Processor Speed': '1.3GHz'}, {'title': 'Asus TUF Gaming A15 FA507NU R5 7535HS (LP105W) (RTX 4050 6GB, 15.6 inches, 3.3GHz)', 'Screen Size': '15.6 inches', 'Processor Brand': 'AMD', 'Processor Speed': '3.3GHz'}, {'title': 'Asus Vivobook 15 X1504VA i5 1335U (NJ025W) (Intel UHD, 15.6 inches, 1.3GHz)', 'Screen Size': '15.6 inches', 'Processor Brand': 'Intel', 'Processor Speed': '1.3GHz'}, {'title': 'Asus Vivobook S 14 Flip TP3402VA i5 13500H (LZ031W) (Intel Iris Xe, 14 inches, 2.6GHz)', 'Screen Size': '14 inches', 'Processor Brand': 'Intel', 'Processor Speed': '2.6GHz'}, {'title': 'Asus Vivobook X415EA i3 1115G4 (EK2034W) (Intel UHD, 14 inches, 3GHz)', 'Screen Size': '14 inches', 'Processor Brand': 'Intel', 'Processor Speed': '3GHz'}, {'title': 'Asus TUF Gaming F15 FX507VU i7 13620H (LP167W) (RTX 4050 6GB, 15.6 inches, 2.4GHz)', 'Screen Size': '15.6 inches', 'Processor Brand': 'Intel', 'Processor Speed': '2.4GHz'}, {'title': 'Asus TUF Gaming F15 FX506HC i5 11400H (HN949W) (RTX 3050 4GB, 15.6 inches, 2.7GHz)', 'Screen Size': '15.6 inches', 'Processor Brand': 'Intel', 'Processor Speed': '2.7GHz'}, {'title': 'Asus TUF Gaming A15 FA506NF R5 7535HS (HN012W) (RTX 2050 4GB, 15.6 inches, 3.3GHz)', 'Screen Size': '15.6 inches', 'Processor Brand': 'AMD', 'Processor Speed': '3.3GHz'}, {'title': 'Asus TUF Gaming F15 FX507ZC4 i5 12500H (HN074W) (RTX 3050 4GB, 15.6 inches, 2.5GHz)', 'Screen Size': '15.6 inches', 'Processor Brand': 'Intel', 'Processor Speed': '2.5GHz'}, {'title': 'Asus Vivobook X515EA i3 1115G4 (EJ3948W) (Intel UHD, 15.6 inches, 3GHz)', 'Screen Size': '15.6 inches', 'Processor Brand': 'Intel', 'Processor Speed': '3GHz'}, {'title': 'Asus Vivobook 14X OLED K3405VC i5 13500H (KM006W) (RTX 3050 4GB, 14 inches, 2.6GHz)', 'Screen Size': '14 inches', 'Processor Brand': 'Intel', 'Processor Speed': '2.6GHz'}, {'title': 'Asus Vivobook 15 OLED A1505VA i9 13900H (L1386W) (Intel Iris Xe, 15.6 inches, 2.6GHz)', 'Screen Size': '15.6 inches', 'Processor Brand': 'Intel', 'Processor Speed': '2.6GHz'}, {'title': 'Asus Vivobook 15 OLED A1505VA i7 13700H (L1338W) (Intel Iris Xe, 15.6 inches, 2.4GHz)', 'Screen Size': '15.6 inches', 'Processor Brand': 'Intel', 'Processor Speed': '2.4GHz'}, {'title': 'Asus TUF Gaming A15 FA507NV R7 7735HS (LP031W) (RTX 4060 8GB, 15.6 inches, 3.2GHz)', 'Screen Size': '15.6 inches', 'Processor Brand': 'AMD', 'Processor Speed': '3.2GHz'}, {'title': 'Asus Zenbook 14 OLED UX3402VA i5 1340P (KM085W) (Intel Iris Xe, 14 inches, 1.9GHz)', 'Screen Size': '14 inches', 'Processor Brand': 'Intel', 'Processor Speed': '1.9GHz'}, {'title': 'Asus Vivobook 15 OLED A1505VA i5 13500H (L1052W) (Intel UHD, 15.6 inches, 2.6GHz)', 'Screen Size': '15.6 inches', 'Processor Brand': 'Intel', 'Processor Speed': '2.6GHz'}, {'title': 'Asus Zenbook 14 OLED UX3405MA Ultra 7 155H (PP152W) (Intel Arc Graphics, 14 inches, 1.4GHz)', 'Screen Size': '14 inches', 'Processor Brand': 'Intel', 'Processor Speed': '1.4GHz'}, {'title': 'Asus Vivobook 15 X1504VA i7 1355U (NJ023W) (Intel Iris Xe, 15.6 inches, 1.7GHz)', 'Screen Size': '15.6 inches', 'Processor Brand': 'Intel', 'Processor Speed': '1.7GHz'}, {'title': 'Asus Zenbook 14 Flip OLED UP3404VA i5 1340P (KN038W) (Intel Iris Xe, 14 inches, 1.9GHz)', 'Screen Size': '14 inches', 'Processor Brand': 'Intel', 'Processor Speed': '1.9GHz'}, {'title': 'Asus Zenbook 14 OLED UX3405MA Ultra 5 125H (PP151W) (Intel Arc Graphics, 14 inches, 1.2GHz)', 'Screen Size': '14 inches', 'Processor Brand': 'Intel', 'Processor Speed': '1.2GHz'}, {'title': 'Asus TUF Gaming A15 FA506NC R5 7535HS (HN017W) (RTX 3050 4GB, 15.6 inches, 3.3GHz)', 'Screen Size': '15.6 inches', 'Processor Brand': 'AMD', 'Processor Speed': '3.3GHz'}, {'title': 'Asus Vivobook 14X OLED S3405VA i5 13500H (KM072W) (Intel Iris Xe, 14 inches, 2.6GHz)', 'Screen Size': '14 inches', 'Processor Brand': 'Intel', 'Processor Speed': '2.6GHz'}, {'title': 'Asus Gaming ROG Zephyrus G16 GU605MV Ultra 9 185H (QR135W) (RTX 4060 8GB, 16 inches, 2.30 GHz)', 'Screen Size': '16 inches', 'Processor Brand': 'Intel', 'Processor Speed': '2.30 GHz'}, {'title': 'Asus Vivobook Go 15 E1504FA R5 7520U (NJ630W) (Radeon, 15.6 inches, 2.8GHz)', 'Screen Size': '15.6 inches', 'Processor Brand': 'Intel', 'Processor Speed': '2.8GHz'}, {'title': 'Asus Gaming ROG Zephyrus G16 GU605MI Ultra 9 185H (QR116W) (RTX 4070 8GB, 16 inches, 2.30 GHz)', 'Screen Size': '16 inches', 'Processor Brand': 'I do not know.', 'Processor Speed': '2.30 GHz'}, {'title': 'Asus Gaming ROG Strix G15 G513IH R7 4800H (HN015W) (GTX 1650 4GB, 15.6 inches, 2.9GHz)', 'Screen Size': '15.6 inches', 'Processor Brand': 'AMD', 'Processor Speed': '2.9GHz'}, {'title': 'Asus Vivobook X1404ZA i5 1235U (NK376W) (Intel Iris Xe, 14 inches, 1.3GHz)', 'Screen Size': '14 inches', 'Processor Brand': 'Intel', 'Processor Speed': '1.3GHz'}, {'title': 'Asus Vivobook 15 OLED A1505VA i9 13900H (L1201W) (Intel Iris Xe, 15.6 inches, 2.6GHz)', 'Screen Size': '15.6 inches', 'Processor Brand': 'Intel', 'Processor Speed': '2.6GHz'}, {'title': 'Asus Gaming TUF Dash F15 FX517ZE i5 12450H (HN045W) (RTX 3050Ti 4GB, 15.6 inches, 2GHz)', 'Screen Size': '15.6 inches', 'Processor Brand': 'Intel', 'Processor Speed': '2GHz'}, {'title': 'Asus Zenbook 14 Flip OLED UP3404VA i7 1360P (KN039W) (Intel Iris Xe, 14 inches, 2.2GHz)', 'Screen Size': '14 inches', 'Processor Brand': 'Intel', 'Processor Speed': '2.2GHz'}, {'title': 'Asus TUF Gaming F15 FX507VV i7 13620H (LP181W) (RTX 4060 8GB, 15.6 inches, 2.4GHz)', 'Screen Size': '15.6 inches', 'Processor Brand': 'Intel', 'Processor Speed': '2.4GHz'}, {'title': 'Asus Gaming ROG Strix SCAR 18 G834JY i9 13980HX (N6039W) (RTX 4090 16GB, 18 inches, 2.2GHz)', 'Screen Size': '18 inches', 'Processor Brand': 'Intel', 'Processor Speed': '2.2GHz'}, {'title': 'Asus Gaming ROG Strix SCAR 17 G733PZ R9 7945HX (LL980W) (RTX 4080 12GB, 17.3 inches, 2.5GHz)', 'Screen Size': '17.3 inches', 'Processor Brand': 'Intel', 'Processor Speed': '2.5GHz'}, {'title': 'Asus Gaming ROG Strix SCAR 18 G834JYR i9 14900HX (R6011W) (RTX 4090 16GB, 18 inches, 2.2GHz)', 'Screen Size': '18 inches', 'Processor Brand': 'Intel', 'Processor Speed': '2.2GHz'}, {'title': 'Asus Gaming ROG Strix SCAR 16 G634JZR i9 14900HX (NM009W) (RTX 4080 12GB, 16 inches, 2.2GHz)', 'Screen Size': '16 inches', 'Processor Brand': 'Intel Core i9 14900HX', 'Processor Speed': '2.2GHz'}, {'title': 'Asus Gaming ROG Zephyrus Duo 16 GX650PZ R9 7945HX (NM031W) (RTX 4080 12GB, 16 inches, 2.5GHz)', 'Screen Size': '16 inches', 'Processor Brand': 'Intel', 'Processor Speed': '2.5GHz'}, {'title': 'Asus Gaming ROG Strix SCAR 16 G634JZ i9 13980HX (N4029W) (RTX 4080 12GB, 16 inches, 2.2GHz)', 'Screen Size': '16 inches', 'Processor Brand': 'Intel', 'Processor Speed': '2.2GHz'}, {'title': 'Asus Gaming ROG Zephyrus M16 GU604VI i9 13900H (NM779W) (RTX 4070 8GB, 16 inches, 2.6GHz)', 'Screen Size': '16 inches', 'Processor Brand': 'Intel', 'Processor Speed': '2.6GHz'}, {'title': 'Asus Gaming ROG Strix SCAR G18 G814JIR i9 14900HX (N6007W) (RTX 4070 8GB, 18 inches, 2.2GHz)', 'Screen Size': '18 inches', 'Processor Brand': 'Intel', 'Processor Speed': '2.2GHz'}, {'title': 'Asus Gaming ROG Flow X16 GV601VV i9 13900H (NL016W) (RTX 4060 8GB, 16 inches, 2.6GHz)', 'Screen Size': '16 inches', 'Processor Brand': 'Intel', 'Processor Speed': '2.6GHz'}, {'title': 'Asus Gaming ROG Flow X13 GV302XU R9 7940HS (MU223W) (RTX 4050 6GB, 13.4 inches, 4GHz)', 'Screen Size': '13.4 inches', 'Processor Brand': 'Intel', 'Processor Speed': '4GHz'}, {'title': 'Asus Zenbook S 13 OLED UX5304VA i7 1355U (NQ126W) (Intel Iris Xe, 13.3 inches, 1.7GHz)', 'Screen Size': '13.3 inches', 'Processor Brand': 'Intel', 'Processor Speed': '1.7GHz'}, {'title': 'Asus ExpertBook B9 OLED B9403CVA i7 1355U (KM0157X) (Intel Iris Xe, 14 inches, 1.7GHz)', 'Screen Size': '14 inches', 'Processor Brand': 'Intel', 'Processor Speed': '1.7GHz'}, {'title': 'Asus TUF Gaming F15 FX507VV i7 13620H (LP171W) (RTX 4060 8GB, 15.6 inches, 2.4GHz)', 'Screen Size': '15.6 inches', 'Processor Brand': 'Intel', 'Processor Speed': '2.4GHz'}, {'title': 'Asus TUF Gaming A15 FA507XI R9 7940HS (LP420W) (RTX 4070 8GB, 15.6 inches, 4GHz)', 'Screen Size': '15.6 inches', 'Processor Brand': 'AMD', 'Processor Speed': '4GHz'}, {'title': 'Asus Gaming ROG Zephyrus G14 GA402NJ R7 7735HS (L4056W) (RTX 3050 6GB, 14 inches, 3.2GHz)', 'Screen Size': '14 inches', 'Processor Brand': 'AMD', 'Processor Speed': '3.2GHz'}, {'title': 'Asus Gaming ROG Strix G16 G614JU i5 13450HX (N3135W) (RTX 4050 6GB, 16 inches, 2.4GHz)', 'Screen Size': '16 inches', 'Processor Brand': 'Intel', 'Processor Speed': '2.4GHz'}, {'title': 'Asus Zenbook S 13 OLED UX5304VA i7 1355U (NQ125W) (Intel Iris Xe, 13.3 inches, 1.7GHz)', 'Screen Size': '13.3 inches', 'Processor Brand': 'Intel', 'Processor Speed': '1.7GHz'}, {'title': 'Asus Zenbook 14 OLED UX3402VA i7 1360P (KM068W) (Intel Iris Xe, 14 inches, 2.2GHz)', 'Screen Size': '14 inches', 'Processor Brand': 'Intel', 'Processor Speed': '2.2GHz'}, {'title': 'Asus Zenbook 14 OLED UM3402YA R5 7530U (KM405W) (Radeon, 14 inches, 2GHz)', 'Screen Size': '14 inches', 'Processor Brand': 'AMD', 'Processor Speed': '2GHz'}, {'title': 'Asus Vivobook 14 A1405VA i3 1315U (LY097W) (Intel UHD, 14 inches, 1.2GHz)', 'Screen Size': '14 inches', 'Processor Brand': 'Intel', 'Processor Speed': '1.2GHz'}, {'title': 'Acer Aspire 3 A315 510P 32EF i3 N305 (NX.KDHSV.001) (Intel UHD, 15.6 inches, N305)', 'Screen Size': '15.6 inches', 'Processor Brand': 'Intel', 'Processor Speed': 'I do not know.'}, {'title': 'Acer Aspire Lite 15 51M 5542 i5 1155G7 (NX.KS5SV.001) (Intel Iris Xe, 15.6 inches, 2.5GHz)', 'Screen Size': '15.6 inches', 'Processor Brand': 'Intel', 'Processor Speed': '2.5GHz'}, {'title': 'Acer Aspire 5 Gaming A515 58GM 51LB i5 13420H (NX.KQ4SV.002) (RTX 2050 4GB, 15.6 inches, 2.1GHz)', 'Screen Size': '15.6 inches', 'Processor Brand': 'Intel', 'Processor Speed': '2.1GHz'}, {'title': 'Acer Aspire 3 A315 44P R9W8 R7 5700U (NX.KSJSV.002) (Radeon, 15.6 inches, 1.8GHz)', 'Screen Size': '15.6 inches', 'Processor Brand': 'AMD', 'Processor Speed': '1.8GHz'}, {'title': 'Acer Nitro 5 Gaming AN515 57 5669 i5 11400H (NH.QEHSV.001) (GTX 1650 4GB, 15.6 inches, 2.7GHz)', 'Screen Size': '15.6 inches', 'Processor Brand': 'Intel', 'Processor Speed': '2.7GHz'}, {'title': 'Acer Aspire 3 A315 58 589K i5 1135G7 (NX.AM0SV.008) (Intel Iris Xe, 15.6 inches, 2.4GHz)', 'Screen Size': '15.6 inches', 'Processor Brand': 'Intel', 'Processor Speed': '2.4GHz'}, {'title': 'Acer Aspire 7 Gaming A715 43G R8GA R5 5625U (NH.QHDSV.002) (RTX 3050 4GB, 15.6 inches, 2.30 GHz)', 'Screen Size': '15.6 inches', 'Processor Brand': 'AMD', 'Processor Speed': '2.30 GHz'}, {'title': 'Acer Aspire 3 A315 59 38PG i3 1215U (NX.K6TSV.00A) (Intel UHD, 15.6 inches, 1.2GHz)', 'Screen Size': '15.6 inches', 'Processor Brand': 'Intel', 'Processor Speed': '1.2GHz'}, {'title': 'Acer Aspire 3 A314 42P R3B3 R7 5700U (NX.KSFSV.001) (Radeon, 14 inches, 1.8GHz)', 'Screen Size': '14 inches', 'Processor Brand': 'AMD', 'Processor Speed': '1.8GHz'}, {'title': 'Acer TravelMate P4 TMP414 51 50HX i5 1135G7 (NX.VP2SV.00T) (Intel Iris Xe, 14 inches, 2.4GHz)', 'Screen Size': '14 inches', 'Processor Brand': 'Intel', 'Processor Speed': '2.4GHz'}, {'title': 'Acer Aspire 5 A515 58P 34RJ i3 1315U (NX.KHJSV.003) (Intel UHD, 15.6 inches, 1.2GHz)', 'Screen Size': '15.6 inches', 'Processor Brand': 'Intel', 'Processor Speed': '1.2GHz'}, {'title': 'Acer Aspire 7 Gaming A715 76G 5806 i5 12450H (NH.QMFSV.002) (RTX 3050 4GB, 15.6 inches, 2GHz)', 'Screen Size': '15.6 inches', 'Processor Brand': 'Intel', 'Processor Speed': '2GHz'}, {'title': 'Acer Aspire 3 A315 59 5283 i5 1235U (NX.K6TSV.00B) (Intel UHD, 15.6 inches, 1.3GHz)', 'Screen Size': '15.6 inches', 'Processor Brand': 'Intel', 'Processor Speed': '1.3GHz'}, {'title': 'Acer Gaming Nitro V ANV15 51 53NE i5 13420H (NH.QNASV.002) (RTX 2050 4GB, 15.6 inches, 2.1GHz)', 'Screen Size': '15.6 inches', 'Processor Brand': 'Intel', 'Processor Speed': '2.1GHz'}, {'title': 'Acer Aspire 3 A315 58 54XF i5 1135G7 (NX.AM0SV.007) (Intel Iris Xe, 15.6 inches, 2.4GHz)', 'Screen Size': '15.6 inches', 'Processor Brand': 'Intel', 'Processor Speed': '2.4GHz'}, {'title': 'Acer Nitro 5 Tiger AN515 58 52SP i5 12500H (NH.QFHSV.001) (RTX 3050 4GB, 15.6 inches, 2.5GHz)', 'Screen Size': '15.6 inches', 'Processor Brand': 'Intel', 'Processor Speed': '2.5GHz'}, {'title': 'Acer Aspire 5 A514 56P 54TN i5 1335U (NX.KHRSV.004) (Intel Iris Xe, 14 inches, 1.3GHz)', 'Screen Size': '14 inches', 'Processor Brand': 'Intel', 'Processor Speed': '1.3GHz'}, {'title': 'Acer Aspire 5 A514 54 5127 i5 1135G7 (NX.A28SV.007) (Intel Iris Xe, 14 inches, 2.4GHz)', 'Screen Size': '14 inches', 'Processor Brand': 'Intel', 'Processor Speed': '2.4GHz'}, {'title': 'Acer Aspire 3 A314 35 P3G9 N6000 (NX.A7SSV.007) (Intel UHD, 14 inches, 1.1GHz)', 'Screen Size': '14 inches', 'Processor Brand': 'Intel', 'Processor Speed': '1.1GHz'}, {'title': 'Acer Swift 3 SF314 511 55QE i5 1135G7 (NX.ABNSV.003) (Intel Iris Xe, 14 inches, 2.4GHz)', 'Screen Size': '14 inches', 'Processor Brand': 'Intel', 'Processor Speed': '2.4GHz'}, {'title': 'Acer Aspire 3 A314 35 C3KS N5100 (NX.A7SSV.009) (Intel UHD, 14 inches, 1.1GHz)', 'Screen Size': '14 inches', 'Processor Brand': 'Intel', 'Processor Speed': '1.1GHz'}, {'title': 'Acer Gaming Nitro V ANV15 51 57B2 i5 13420H (NH.QN8SV.001) (RTX 4050 6GB, 15.6 inches, 2.1GHz)', 'Screen Size': '15.6 inches', 'Processor Brand': 'Intel', 'Processor Speed': '2.1GHz'}, {'title': 'Acer Gaming Nitro 5 AN515 58 769J i7 12700H (NH.QFHSV.003) (RTX 3050 4GB, 15.6 inches, 2.30 GHz)', 'Screen Size': '15.6 inches', 'Processor Brand': 'Intel', 'Processor Speed': '2.30 GHz'}, {'title': 'Acer TravelMate P4 TMP414 51G 59R6 i5 1135G7 (NX.VP9SV.001) (MX350 2GB, 14 inches, 2.4GHz)', 'Screen Size': '14 inches', 'Processor Brand': 'Intel', 'Processor Speed': '2.4GHz'}, {'title': 'Acer Aspire 7 Gaming A715 76G 59MW i5 12450H (NH.QMYSV.001) (RTX 2050 4GB, 15.6 inches, 2GHz)', 'Screen Size': '15.6 inches', 'Processor Brand': 'Intel', 'Processor Speed': '2GHz'}, {'title': 'Acer Swift 3 SF314 512 56QN i5 1240P (NX.K0FSV.002) (Intel Iris Xe, 14 inches, 1.7GHz)', 'Screen Size': '14 inches', 'Processor Brand': 'Intel', 'Processor Speed': '1.7GHz'}, {'title': 'Acer Gaming Predator Helios 16 PH16 71 72BV i7 13700HX (NH.QJRSV.001) (RTX 4070 8GB, 16 inches, 2.1GHz)', 'Screen Size': '16 inches', 'Processor Brand': 'Intel Core i7', 'Processor Speed': '2.1GHz'}, {'title': 'Acer Nitro 5 Tiger AN515 58 773Y i7 12700H (NH.QFKSV.001) (RTX 3050Ti 4GB, 15.6 inches, 2.30 GHz)', 'Screen Size': '15.6 inches', 'Processor Brand': 'Intel', 'Processor Speed': '2.30 GHz'}, {'title': 'Acer Gaming Nitro V ANV15 51 58AN i5 13420H (NH.QNASV.001) (RTX 2050 4GB, 15.6 inches, 2.1GHz)', 'Screen Size': '15.6 inches', 'Processor Brand': 'Intel', 'Processor Speed': '2.1GHz'}, {'title': 'Acer Aspire 5 A515 58M 56YX i5 13420H (NX.KQ8SV.005) (Intel UHD, 15.6 inches, 2.1GHz)', 'Screen Size': '15.6 inches', 'Processor Brand': 'Intel', 'Processor Speed': '2.1GHz'}, {'title': 'Acer Gaming Nitro 5 AN515 57 53F9 i5 11400H (NH.QENSV.008) (RTX 3050 4GB, 15.6 inches, 2.7GHz)', 'Screen Size': '15.6 inches', 'Processor Brand': 'Intel', 'Processor Speed': '2.7GHz'}, {'title': 'Lenovo Ideapad 1 15ALC7 R7 5700U (82R400C1VN) (Radeon, 15.6 inches, 1.8GHz)', 'Screen Size': '15.6 inches', 'Processor Brand': 'AMD', 'Processor Speed': '1.8GHz'}, {'title': 'Lenovo V14 G3 ABA R5 5625U (82TU006SVN) (Radeon, 14 inches, 2.30 GHz)', 'Screen Size': '14 inches', 'Processor Brand': 'AMD', 'Processor Speed': '2.30 GHz'}, {'title': 'Lenovo Ideapad Slim 3 15IAH8 i5 12450H (83ER000EVN) (Intel UHD, 15.6 inches, 2GHz)', 'Screen Size': '15.6 inches', 'Processor Brand': 'Intel', 'Processor Speed': '2GHz'}, {'title': 'Lenovo V15 G4 IRU i5 1335U (83A1000LVN) (Intel Iris Xe, 15.6 inches, 1.3GHz)', 'Screen Size': '15.6 inches', 'Processor Brand': 'Intel', 'Processor Speed': '1.3GHz'}, {'title': 'Lenovo Ideapad 5 15IAL7 i5 1235U (82SF005HVN) (Intel Iris Xe, 15.6 inches, 1.3GHz)', 'Screen Size': '15.6 inches', 'Processor Brand': 'Intel', 'Processor Speed': '1.3GHz'}, {'title': 'Lenovo Ideapad 3 15IAU7 i3 1215U (82RK005LVN) (Intel UHD, 15.6 inches, 1.2GHz)', 'Screen Size': '15.6 inches', 'Processor Brand': 'Intel', 'Processor Speed': '1.2GHz'}, {'title': 'Lenovo Ideapad Slim 3 15IAH8 i5 12450H (83ER000FVN) (Intel UHD, 15.6 inches, 2GHz)', 'Screen Size': '15.6 inches', 'Processor Brand': 'Intel', 'Processor Speed': '2GHz'}, {'title': 'Lenovo Ideapad 3 15IAU7 i3 1215U (82RK00RWVN) (Intel UHD, 15.6 inches, 1.2GHz)', 'Screen Size': '15.6 inches', 'Processor Brand': 'Intel', 'Processor Speed': '1.2GHz'}, {'title': 'Lenovo Ideapad 3 15ITL6 i5 1155G7 (82H803RRVN) (Intel Iris Xe, 15.6 inches, 2.5GHz)', 'Screen Size': '15.6 inches', 'Processor Brand': 'Intel', 'Processor Speed': '2.5GHz'}, {'title': 'Lenovo IdeaPad 1 15AMN7 R5 7520U (82VG0061VN) (AMD Radeon 610M, 15.6 inches, 2.8GHz)', 'Screen Size': '15.6 inches', 'Processor Brand': 'AMD', 'Processor Speed': '2.8GHz'}, {'title': 'Lenovo ThinkBook 15 G5 IRL i7 1355U (21JD002AVN) (Intel Iris Xe, 15.6 inches, 1.7GHz)', 'Screen Size': '15.6 inches', 'Processor Brand': 'Intel', 'Processor Speed': '1.7GHz'}, {'title': 'Lenovo Ideapad 3 15IAU7 i3 1215U (82RK001MVN) (Intel UHD, 15.6 inches, 1.2GHz)', 'Screen Size': '15.6 inches', 'Processor Brand': 'Intel', 'Processor Speed': '1.2GHz'}, {'title': 'Lenovo Ideapad Slim 3 15IRH8 i7 13620H (83EM003FVN) (Intel UHD, 15.6 inches, 2.4GHz)', 'Screen Size': '15.6 inches', 'Processor Brand': 'Intel', 'Processor Speed': '2.4GHz'}, {'title': 'Lenovo Ideapad 3 15IAU7 i7 1255U (82RK00X0VN) (Intel Iris Xe, 15.6 inches, 1.7GHz)', 'Screen Size': '15.6 inches', 'Processor Brand': 'Intel', 'Processor Speed': '1.7GHz'}, {'title': 'Lenovo Ideapad 5 Pro 14IAP7 i5 1240P (82SH000SVN) (Intel Iris Xe, 14 inches, 1.7GHz)', 'Screen Size': '14 inches', 'Processor Brand': 'Intel', 'Processor Speed': '1.7GHz'}, {'title': 'Lenovo Ideapad Gaming 3 15ACH6 R5 5500H (82K2027PVN) (RTX 2050 4GB, 15.6 inches, 3.3GHz)', 'Screen Size': '15.6 inches', 'Processor Brand': 'AMD', 'Processor Speed': '3.3GHz'}, {'title': 'Lenovo Yoga 7 14IRL8 i7 1360P (82YL006BVN) (Intel Iris Xe, 14 inches, 2.2GHz)', 'Screen Size': '14 inches', 'Processor Brand': 'Intel', 'Processor Speed': '2.2GHz'}, {'title': 'Lenovo IdeaPad Slim 5 Light 14ABR8 R5 7530U (82XS002KVN) (Radeon, 14 inches, 2GHz)', 'Screen Size': '14 inches', 'Processor Brand': 'AMD', 'Processor Speed': '2GHz'}, {'title': 'Lenovo Ideapad 5 Pro 14IAP7 i7 1260P (82SH002SVN) (Intel Iris Xe, 14 inches, 2.1GHz)', 'Screen Size': '14 inches', 'Processor Brand': 'Intel', 'Processor Speed': '2.1GHz'}, {'title': 'Lenovo Ideapad 3 15ITL6 i3 1115G4 (82H803SFVN) (Intel UHD, 15.6 inches, 3GHz)', 'Screen Size': '15.6 inches', 'Processor Brand': 'Intel', 'Processor Speed': '3GHz'}, {'title': 'Lenovo Yoga 7 14IRL8 i5 1340P (82YL006AVN) (Intel Iris Xe, 14 inches, 1.9GHz)', 'Screen Size': '14 inches', 'Processor Brand': 'Intel', 'Processor Speed': '1.9GHz'}, {'title': 'Lenovo Ideapad 3 15IAU7 i3 1215U (82RK00QYVN) (Intel UHD, 15.6 inches, 1.2GHz)', 'Screen Size': '15.6 inches', 'Processor Brand': 'Intel', 'Processor Speed': '1.2GHz'}, {'title': 'Lenovo LOQ Gaming 15IRH8 i7 13620H (82XV00QXVN) (RTX 4050 6GB, 15.6 inches, 2.4GHz)', 'Screen Size': '15.6 inches', 'Processor Brand': 'Intel', 'Processor Speed': '2.4GHz'}, {'title': 'Lenovo LOQ Gaming 15IAX9 i5 12450HX (83GS000JVN) (RTX 3050 6GB, 15.6 inches, 12450HX)', 'Screen Size': '15.6 inches', 'Processor Brand': 'Intel', 'Processor Speed': 'I do not know.'}, {'title': 'Lenovo Gaming Legion 5 16IRH8 i5 13500H (82YA00BSVN) (RTX 4050 6GB, 16 inches, 2.6GHz)', 'Screen Size': '16 inches', 'Processor Brand': 'Intel', 'Processor Speed': '2.6GHz'}, {'title': 'Lenovo LOQ Gaming 15IRH8 i5 13420H (82XV00Q4VN) (RTX 4050 6GB, 15.6 inches, 2.1GHz)', 'Screen Size': '15.6 inches', 'Processor Brand': 'Intel', 'Processor Speed': '2.1GHz'}, {'title': 'Lenovo ThinkBook 15 G5 IRL i5 1355U (21JD002FVN) (Intel Iris Xe, 15.6 inches, 1.3GHz)', 'Screen Size': '15.6 inches', 'Processor Brand': 'Intel', 'Processor Speed': '1.3GHz'}, {'title': 'Lenovo Ideapad Slim 3 15IRH8 i7 13620H (83EM003EVN) (Intel UHD, 15.6 inches, 2.4GHz)', 'Screen Size': '15.6 inches', 'Processor Brand': 'Intel', 'Processor Speed': '2.4GHz'}, {'title': 'Lenovo Ideapad Slim 5 14IAH8 i5 12450H (83BF003WVN) (Intel UHD, 14 inches, 2GHz)', 'Screen Size': '14 inches', 'Processor Brand': 'Intel', 'Processor Speed': '2GHz'}, {'title': 'Lenovo Ideapad 3 15ITL6 i5 1155G7 (82H803CVVN) (Intel Iris Xe, 15.6 inches, 2.5GHz)', 'Screen Size': '15.6 inches', 'Processor Brand': 'Intel', 'Processor Speed': '2.5GHz'}, {'title': 'Lenovo Ideapad 3 15IAU7 i5 1235U (82RK001PVN) (Intel UHD, 15.6 inches, 1.3GHz)', 'Screen Size': '15.6 inches', 'Processor Brand': 'Intel', 'Processor Speed': '1.3GHz'}, {'title': 'Lenovo Ideapad 5 14IAL7 i5 1235U (82SD0060VN) (Intel Iris Xe, 14 inches, 1.3GHz)', 'Screen Size': '14 inches', 'Processor Brand': 'Intel', 'Processor Speed': '1.3GHz'}, {'title': 'Lenovo V14 G4 IRU i3 1315U (83A0000TVN) (Intel UHD, 14 inches, 1.2GHz)', 'Screen Size': '14 inches', 'Processor Brand': 'Intel', 'Processor Speed': '1.2GHz'}, {'title': 'Dell Inspiron 15 3520 i5 1235U (25P231) (Intel Iris Xe, 15.6 inches, 1.3GHz)', 'Screen Size': '15.6 inches', 'Processor Brand': 'Intel', 'Processor Speed': '1.3GHz'}, {'title': 'Dell Inspiron 15 3520 i5 1235U (i5U085W11BLU) (Intel UHD, 15.6 inches, 1.3GHz)', 'Screen Size': '15.6 inches', 'Processor Brand': 'Intel', 'Processor Speed': '1.3GHz'}, {'title': 'Dell Inspiron 15 3520 i5 1235U (71027003) (Intel UHD, 15.6 inches, 1.3GHz)', 'Screen Size': '15.6 inches', 'Processor Brand': 'Intel', 'Processor Speed': '1.3GHz'}, {'title': 'Dell Inspiron 15 3520 i3 1215U (71003264) (Intel UHD, 15.6 inches, 1.2GHz)', 'Screen Size': '15.6 inches', 'Processor Brand': 'Intel', 'Processor Speed': '1.2GHz'}, {'title': 'Dell Vostro 15 3520 i3 1215U (V5I3614W1) (Intel UHD, 15.6 inches, 1.2GHz)', 'Screen Size': '15.6 inches', 'Processor Brand': 'Intel', 'Processor Speed': '1.2GHz'}, {'title': 'Dell Inspiron 15 3520 i3 1215U (i3U082W11BLU) (Intel UHD, 15.6 inches, 1.2GHz)', 'Screen Size': '15.6 inches', 'Processor Brand': 'Intel', 'Processor Speed': '1.2GHz'}, {'title': 'Dell Vostro 15 3520 i5 1235U (V5I5610W1) (Intel UHD, 15.6 inches, 1.3GHz)', 'Screen Size': '15.6 inches', 'Processor Brand': 'Intel', 'Processor Speed': '1.3GHz'}, {'title': 'Dell Inspiron 15 3530 i7 1355U (N3530I716W1) (MX550 2GB, 15.6 inches, 1.7GHz)', 'Screen Size': '15.6 inches', 'Processor Brand': 'Intel', 'Processor Speed': '1.7GHz'}, {'title': 'Dell Inspiron 15 3530 i7 1355U (71011775) (Intel UHD, 15.6 inches, 1.7GHz)', 'Screen Size': '15.6 inches', 'Processor Brand': 'Intel', 'Processor Speed': '1.7GHz'}, {'title': 'Dell Vostro 15 3520 i3 1215U (5M2TT1) (Intel UHD, 15.6 inches, 1.2GHz)', 'Screen Size': '15.6 inches', 'Processor Brand': 'Intel', 'Processor Speed': '1.2GHz'}, {'title': 'Dell Inspiron 15 3530 i5 1335U (N3530-i5U085W11BLU) (Intel UHD, 15.6 inches, 1.3GHz)', 'Screen Size': '15.6 inches', 'Processor Brand': 'Intel', 'Processor Speed': '1.3GHz'}, {'title': 'Dell Vostro 14 3430 i5 1335U (71011900) (Intel UHD, 14 inches, 1.3GHz)', 'Screen Size': '14 inches', 'Processor Brand': 'Intel', 'Processor Speed': '1.3GHz'}, {'title': 'Dell Inspiron 15 3530 i5 1335U (71014840) (MX550 2GB, 15.6 inches, 1.3GHz)', 'Screen Size': '15.6 inches', 'Processor Brand': 'Intel', 'Processor Speed': '1.3GHz'}, {'title': 'Dell Inspiron 15 3530 i5 1335U (N5I5791W1) (Intel Iris Xe, 15.6 inches, 1.3GHz)', 'Screen Size': '15.6 inches', 'Processor Brand': 'Intel', 'Processor Speed': '1.3GHz'}, {'title': 'Dell Inspiron 14 7430 2-in-1 i7 1355U (i7U165W11SLU) (Intel Iris Xe, 14 inches, 1.7GHz)', 'Screen Size': '14 inches', 'Processor Brand': 'Intel', 'Processor Speed': '1.7GHz'}, {'title': 'Dell Inspiron 15 3520 i5 1235U (N5I5122W1) (Intel UHD, 15.6 inches, 1.3GHz)', 'Screen Size': '15.6 inches', 'Processor Brand': 'Intel', 'Processor Speed': '1.3GHz'}, {'title': 'Dell Inspiron 14 T7430 i5 1335U (N7430I58W1) (Intel Iris Xe, 14 inches, 1.3GHz)', 'Screen Size': '14 inches', 'Processor Brand': 'Intel', 'Processor Speed': '1.3GHz'}, {'title': 'Dell Precision 16 5680 i9 13900H (71024680) (RTX A2000 8GB, 16 inches, 2.6GHz)', 'Screen Size': '16 inches', 'Processor Brand': 'Intel', 'Processor Speed': '2.6GHz'}, {'title': 'Dell Precision 16 7680 i9 13950HX (71024676) (RTX A2000 8GB, 16 inches, 2.2GHz)', 'Screen Size': '16 inches', 'Processor Brand': 'Intel Core i9', 'Processor Speed': '2.2GHz'}, {'title': 'Dell Precision 16 7680 i7 13850HX (71024681) (RTX A2000 8GB, 16 inches, 2.1GHz)', 'Screen Size': '16 inches', 'Processor Brand': 'Intel', 'Processor Speed': '2.1GHz'}, {'title': 'Dell Precision 15 3581 i7 13800H (71024679) (RTX A1000 6GB, 15.6 inches, 2.5GHz)', 'Screen Size': '15.6 inches', 'Processor Brand': 'Intel', 'Processor Speed': '2.5GHz'}, {'title': 'Dell Precision 15 3581 i7 13800H (71024677) (RTX A500 4GB, 15.6 inches, 2.5GHz)', 'Screen Size': '15.6 inches', 'Processor Brand': 'Intel', 'Processor Speed': '2.5GHz'}, {'title': 'Dell Precision 14 3480 i7 12800H (71024682) (RTX A500 4GB, 14 inches, 2.4GHz)', 'Screen Size': '14 inches', 'Processor Brand': 'Intel', 'Processor Speed': '2.4GHz'}, {'title': 'Dell Gaming G15 5530 i7 13650HX (i7H165W11GR4060) (RTX 4060 8GB, 15.6 inches, 2.6GHz)', 'Screen Size': '15.6 inches', 'Processor Brand': 'Intel', 'Processor Speed': '2.6GHz'}, {'title': 'Dell Inspiron 14 5430 i7 1360P (71015633) (RTX 2050 4GB, 14 inches, 2.2GHz)', 'Screen Size': '14 inches', 'Processor Brand': 'Intel', 'Processor Speed': '2.2GHz'}, {'title': 'Dell Inspiron 14 5430 i5 1340P (N5430-i5P165W11SL2050) (RTX 2050 4GB, 14 inches, 1.9GHz)', 'Screen Size': '14 inches', 'Processor Brand': 'Intel', 'Processor Speed': '1.9GHz'}, {'title': 'Dell Inspiron 16 5630 i5 1335U (71020244) (Intel Iris Xe, 16 inches, 1.3GHz)', 'Screen Size': '16 inches', 'Processor Brand': 'Intel', 'Processor Speed': '1.3GHz'}, {'title': 'Dell Vostro 14 3430 i5 1335U (60YGM) (MX550 2GB, 14 inches, 1.3GHz)', 'Screen Size': '14 inches', 'Processor Brand': 'Intel', 'Processor Speed': '1.3GHz'}, {'title': 'Dell Inspiron 15 3520 i5 1235U (N5I5011W1) (Intel Iris Xe, 15.6 inches, 1.3GHz)', 'Screen Size': '15.6 inches', 'Processor Brand': 'Intel', 'Processor Speed': '1.3GHz'}, {'title': 'Dell Vostro 15 3520 i5 1235U (5M2TT2) (Intel UHD, 15.6 inches, 1.3GHz)', 'Screen Size': '15.6 inches', 'Processor Brand': 'Intel', 'Processor Speed': '1.3GHz'}, {'title': 'Dell Vostro 15 3530 i3 1305U (V5I3465W1) (Intel UHD, 15.6 inches, 1.6GHz)', 'Screen Size': '15.6 inches', 'Processor Brand': 'Intel', 'Processor Speed': '1.6GHz'}, {'title': 'MSI Modern 14 C11M i3 1115G4 (011VN) (Intel UHD, 14 inches, 3GHz)', 'Screen Size': '14 inches', 'Processor Brand': 'Intel', 'Processor Speed': '3GHz'}, {'title': 'MSI Gaming GF63 Thin 12UCX i5 12450H (873VN) (RTX 2050 4GB, 15.6 inches, 2GHz)', 'Screen Size': '15.6 inches', 'Processor Brand': 'Intel', 'Processor Speed': '2GHz'}, {'title': 'MSI Modern 15 B7M R5 7530U (231VN) (Radeon, 15.6 inches, 2GHz)', 'Screen Size': '15.6 inches', 'Processor Brand': 'Intel', 'Processor Speed': '2GHz'}, {'title': 'MSI Modern 15 B12MO i5 1235U (625VN) (Intel Iris Xe, 15.6 inches, 1.3GHz)', 'Screen Size': '15.6 inches', 'Processor Brand': 'Intel', 'Processor Speed': '1.3GHz'}, {'title': 'MSI Gaming GF63 12UC i5 12450H (803VN) (RTX 3050 4GB, 15.6 inches, 2GHz)', 'Screen Size': '15.6 inches', 'Processor Brand': 'Intel', 'Processor Speed': '2GHz'}, {'title': 'MSI Gaming Bravo 15 B7ED R5 7535HS (010VN) (RX 6550M 4GB, 15.6 inches, 3.3GHz)', 'Screen Size': '15.6 inches', 'Processor Brand': 'AMD', 'Processor Speed': '3.3GHz'}, {'title': 'MSI Gaming GF63 Thin 11UC i7 11800H (1228VN) (RTX 3050 Max-Q, 4GB, 15.6 inches, 2.30 GHz)', 'Screen Size': '15.6 inches', 'Processor Brand': 'Intel', 'Processor Speed': '2.30 GHz'}, {'title': 'MSI Gaming GF63 Thin 12VE i5 12450H (460VN) (RTX 4050 6GB, 15.6 inches, 2GHz)', 'Screen Size': '15.6 inches', 'Processor Brand': 'Intel', 'Processor Speed': '2GHz'}, {'title': 'MSI Gaming GF63 12UCX i5 12450H (841VN) (RTX 2050 4GB, 15.6 inches, 2GHz)', 'Screen Size': '15.6 inches', 'Processor Brand': 'Intel', 'Processor Speed': '2GHz'}, {'title': 'MSI Modern 15 B12MO i5 1235U (628VN) (Intel Iris Xe, 15.6 inches, 1.3GHz)', 'Screen Size': '15.6 inches', 'Processor Brand': 'Intel', 'Processor Speed': '1.3GHz'}, {'title': 'MSI Modern 14 C7M R5 7530U (083VN) (Radeon, 14 inches, 2GHz)', 'Screen Size': '14 inches', 'Processor Brand': 'Intel', 'Processor Speed': '2GHz'}, {'title': 'MSI Gaming Katana GF66 12UCK i7 12650H (804VN) (RTX 3050 4GB, 15.6 inches, 2.30 GHz)', 'Screen Size': '15.6 inches', 'Processor Brand': 'Intel', 'Processor Speed': '2.30 GHz'}, {'title': 'MSI Gaming GF63 Thin 11UC i5 11400H (1230VN) (RTX 3050 Max-Q, 4GB, 15.6 inches, 2.7GHz)', 'Screen Size': '15.6 inches', 'Processor Brand': 'Intel', 'Processor Speed': '2.7GHz'}, {'title': 'MSI Gaming Thin A15 B7UCX R5 7535HS (020VN) (RTX 2050 4GB, 15.6 inches, 3.3GHz)', 'Screen Size': '15.6 inches', 'Processor Brand': 'AMD', 'Processor Speed': '3.3GHz'}, {'title': 'MSI Modern 15 B12MO i7 1255U (487VN) (Intel Iris Xe, 15.6 inches, 1.7GHz)', 'Screen Size': '15.6 inches', 'Processor Brand': 'Intel', 'Processor Speed': '1.7GHz'}, {'title': 'MSI Modern 15 B13M i5 1335U (438VN) (Intel Iris Xe, 15.6 inches, 1.3GHz)', 'Screen Size': '15.6 inches', 'Processor Brand': 'Intel', 'Processor Speed': '1.3GHz'}, {'title': 'MSI Gaming GF63 Thin 11SC i5 11400H (664VN) (GTX 1650 Max-Q 4GB, 15.6 inches, 2.7GHz)', 'Screen Size': '15.6 inches', 'Processor Brand': 'Intel', 'Processor Speed': '2.7GHz'}, {'title': 'MSI Modern 15 B7M R7 7730U (238VN) (Radeon, 15.6 inches, 2GHz)', 'Screen Size': '15.6 inches', 'Processor Brand': 'Intel', 'Processor Speed': '2GHz'}, {'title': 'MSI Prestige 14 Evo B13M i5 13500H (401VN) (Intel Iris Xe, 14 inches, 2.6GHz)', 'Screen Size': '14 inches', 'Processor Brand': 'Intel', 'Processor Speed': '2.6GHz'}, {'title': 'MSI Gaming Sword 16 HX B14VFKG i7 14700HX (045VN) (RTX 4060 8GB, 16 inches, 2.1GHz)', 'Screen Size': '16 inches', 'Processor Brand': 'Intel', 'Processor Speed': '2.1GHz'}, {'title': 'MSI Gaming Titan 18 HX A14VIG i9 14900HX (205VN) (RTX 4090 16GB, 18 inches, 2.2GHz)', 'Screen Size': '18 inches', 'Processor Brand': 'Intel', 'Processor Speed': '2.2GHz'}, {'title': 'MSI Gaming Stealth 16 AI Studio A1VGG Ultra 9 185H (089VN) (RTX 4070 8GB, 16 inches, 2.30 GHz)', 'Screen Size': '16 inches', 'Processor Brand': 'I do not know.', 'Processor Speed': '2.30 GHz'}, {'title': 'MSI Prestige 16 AI Studio B1VFG Ultra 9 185H (082VN) (RTX 4060 8GB, 16 inches, 2.30 GHz)', 'Screen Size': '16 inches', 'Processor Brand': 'I do not know.', 'Processor Speed': '2.30 GHz'}, {'title': 'MSI Gaming Stealth 14 AI Studio A1VFG Ultra 7 155H (050VN) (RTX 4060 8GB, 14 inches, 1.4GHz)', 'Screen Size': '14 inches', 'Processor Brand': 'Intel', 'Processor Speed': '1.4GHz'}, {'title': 'MSI Prestige 16 Studio A13VE i7 13700H (214VN) (RTX 4050 6GB, 16 inches, 2.4GHz)', 'Screen Size': '16 inches', 'Processor Brand': 'Intel', 'Processor Speed': '2.4GHz'}, {'title': 'MSI Gaming Sword 16 HX B14VEKG i7 14700HX (039VN) (RTX 4050 6GB, 16 inches, 2.1GHz)', 'Screen Size': '16 inches', 'Processor Brand': 'Intel', 'Processor Speed': '2.1GHz'}, {'title': 'MSI Prestige 13 AI Evo A1MG Ultra 7 155H (062VN) (Intel Arc Graphics, 13.3 inches, 1.4GHz)', 'Screen Size': '13.3 inches', 'Processor Brand': 'Intel', 'Processor Speed': '1.4GHz'}, {'title': 'MSI Gaming Katana A15 AI B8VF R7 8845HS (419VN) (RTX 4060 8GB, 15.6 inches, 3.8GHz)', 'Screen Size': '15.6 inches', 'Processor Brand': 'Intel', 'Processor Speed': '3.8GHz'}, {'title': 'MSI Gaming Cyborg 15 AI A1VEK Ultra 7 155H (053VN) (RTX 4050 6GB, 15.6 inches, 1.4GHz)', 'Screen Size': '15.6 inches', 'Processor Brand': 'I do not know.', 'Processor Speed': '1.4GHz'}, {'title': 'MSI Gaming Katana 15 B13VFK i7 13620H (676VN) (RTX 4060 8GB, 15.6 inches, 2.4GHz)', 'Screen Size': '15.6 inches', 'Processor Brand': 'Intel', 'Processor Speed': '2.4GHz'}, {'title': 'MSI Gaming Katana A15 AI B8VE R7 8845HS (402VN) (RTX 4050 6GB, 15.6 inches, 3.8GHz)', 'Screen Size': '15.6 inches', 'Processor Brand': 'Intel', 'Processor Speed': '3.8GHz'}, {'title': 'MSI Gaming Cyborg 15 A12UCX i5 12450H (281VN) (RTX 2050 4GB, 15.6 inches, 2GHz)', 'Screen Size': '15.6 inches', 'Processor Brand': 'Intel', 'Processor Speed': '2GHz'}, {'title': 'HP 245 G10 R5-7520U (9H8X8PT) (Ryzen 5, 14 inches)', 'Screen Size': '14 inches', 'Processor Brand': 'AMD', 'Processor Speed': 'I do not know.'}, {'title': 'Asus Vivobook E1404FA-NK186W R5 7520U (Ryzen 5, 14.0 inches)', 'Screen Size': '14.0 inches', 'Processor Brand': 'Ryzen 5', 'Processor Speed': 'I do not know.'}, {'title': 'Lenovo Gaming LOQ - 15IAX9 i5 12450HX (83GS000GVN) (Core i5, 15.6 inches)', 'Screen Size': '15.6 inches', 'Processor Brand': 'Intel Core i5', 'Processor Speed': 'I do not know.'}, {'title': 'HP 14s-em0086AU R5 7520U (835T9PA) (Ryzen 5, 14 inches)', 'Screen Size': '14 inches', 'Processor Brand': 'AMD', 'Processor Speed': 'I do not know.'}, {'title': 'MSI Modern 14 C7M-221VN R7 7730U (Ryzen 7, 14.0 inches)', 'Screen Size': '14.0 inches', 'Processor Brand': 'Ryzen', 'Processor Speed': 'I do not know.'}, {'title': 'Acer Aspire 3 A315-44P-R5QG R7-5700U (Ryzen 7, 15.6 inches)', 'Screen Size': '15.6 inches', 'Processor Brand': 'Ryzen 7', 'Processor Speed': 'I do not know.'}, {'title': 'HP Pavilion Aero 13-be2098AU R7 7735U (8C5K5PA) (Ryzen 7, 13.3 inches)', 'Screen Size': '13.3 inches', 'Processor Brand': 'AMD', 'Processor Speed': 'I do not know.'}, {'title': 'Asus TUF Gaming FX507ZC4-HN095W i5 12500H (Core i5, 15.6 inches)', 'Screen Size': '15.6 inches', 'Processor Brand': 'Intel', 'Processor Speed': 'I do not know.'}, {'title': 'Lenovo Ideapad 3 15IAU7 i7 1255U (82RK00W4VN) (Core i7, 15.6 inches)', 'Screen Size': '15.6 inches', 'Processor Brand': 'Intel', 'Processor Speed': 'I do not know.'}, {'title': 'MSI Modern 14 C7M-220VN R5 7530U (Ryzen 5, 14.0 inches)', 'Screen Size': '14.0 inches', 'Processor Brand': 'Ryzen 5', 'Processor Speed': 'I do not know.'}, {'title': 'Asus TUF Gaming FX506HF-HN017W i5 11400H (Core i5, 15.6 inches)', 'Screen Size': '15.6 inches', 'Processor Brand': 'Intel', 'Processor Speed': 'I do not know.'}, {'title': 'Dell Inspiron 15 N3530 i5 1335U (N5I5489W1) (Core i5, 15.6 inches)', 'Screen Size': '15.6 inches', 'Processor Brand': 'Intel', 'Processor Speed': 'I do not know.'}, {'title': 'Asus Vivobook X1404ZA-NK387W i3 1215U (Core i3, 14 inches)', 'Screen Size': '14 inches', 'Processor Brand': 'Intel', 'Processor Speed': 'I do not know.'}, {'title': 'Lenovo IdeaPad 3 14IAH8 i5 12450H (83EQ0005VN) (Core i5, 14.0 inches)', 'Screen Size': '14.0 inches', 'Processor Brand': 'Intel', 'Processor Speed': 'I do not know.'}, {'title': 'MSI Gaming Thin GF63 12VE-454VN i5 12450H (Core i5, 15.6 inches)', 'Screen Size': '15.6 inches', 'Processor Brand': 'Intel', 'Processor Speed': 'I do not know.'}, {'title': 'Dell Inspiron 15 N3520 i5 1235U_N5I5011W1 (Core i5, 15.6 inches)', 'Screen Size': '15.6 inches', 'Processor Brand': 'Intel Core i5', 'Processor Speed': 'I do not know.'}, {'title': 'Asus Vivobook 15 OLED A1505VA-L1113W i5 13500H (Core i5, 15.6 inches)', 'Screen Size': '15.6 inches', 'Processor Brand': 'Intel', 'Processor Speed': 'I do not know.'}, {'title': 'HP 245 G10 R5 7520U (8F154PA) (Ryzen 5, 14.0 inches)', 'Screen Size': '14.0 inches', 'Processor Brand': 'Ryzen 5', 'Processor Speed': 'I do not know.'}, {'title': 'Acer Aspire 7 Gaming A715-76-57CY i5 12450H (NH.QGESV.004) (Core i5, 15.6 inches)', 'Screen Size': '15.6 inches', 'Processor Brand': 'Intel', 'Processor Speed': 'I do not know.'}, {'title': 'HP Pavilion 14-dv2073TU i5 1235U (7C0P2PA) (Core i5, 14.0 inches)', 'Screen Size': '14.0 inches', 'Processor Brand': 'Intel', 'Processor Speed': 'I do not know.'}, {'title': 'Asus Vivobook X1504VA-NJ526W i5 1335U (Core i5, 15.6 inches)', 'Screen Size': '15.6 inches', 'Processor Brand': 'Intel Core i5', 'Processor Speed': 'I do not know.'}, {'title': 'Lenovo IdeaPad 1 15ALC7 R5 5500U (82R400BYVN) (Ryzen 5, 15.6 inches)', 'Screen Size': '15.6 inches', 'Processor Brand': 'AMD', 'Processor Speed': 'I do not know.'}, {'title': 'Laptop HP 15s-fq5144TU i7-1255U (Core i7, 15.6 inches)', 'Screen Size': '15.6 inches', 'Processor Brand': 'Intel', 'Processor Speed': 'I do not know.'}, {'title': 'Asus Vivobook M3504YA-L1268W R5 7530U (Ryzen 5, 15.6 inches)', 'Screen Size': '15.6 inches', 'Processor Brand': 'Ryzen 5', 'Processor Speed': 'I do not know.'}, {'title': 'HP 14s-em0078AU R5 7520U (80R28PA) (Ryzen 5, 14 inches)', 'Screen Size': '14 inches', 'Processor Brand': 'Ryzen', 'Processor Speed': 'I do not know.'}, {'title': 'Huawei MateBook D15 R7 5700U (Ryzen 7, 15.6 inches)', 'Screen Size': '15.6 inches', 'Processor Brand': 'AMD', 'Processor Speed': 'I do not know.'}, {'title': 'Asus Vivobook Flip TN3402YA-LZ188W R5 7530U (Ryzen 5, 14.0 inches)', 'Screen Size': '14.0 inches', 'Processor Brand': 'Ryzen 5', 'Processor Speed': 'I do not know.'}, {'title': 'HP Pavilion 14-dv2071TU i7 1255U (7C0W0PA) (Core i7, 14 inches)', 'Screen Size': '14 inches', 'Processor Brand': 'Intel Core i7', 'Processor Speed': 'I do not know.'}, {'title': 'MSI Gaming GF63 Thin 11UC-1228VN i7 11800H (Core i7, 15,6 inches)', 'Screen Size': '15.6 inches', 'Processor Brand': 'Intel', 'Processor Speed': 'I do not know.'}, {'title': 'HP Pavilion 14-dv2075TU i5 1235U (7C0W2PA) (Core i5, 14.0 inches)', 'Screen Size': '14.0 inches', 'Processor Brand': 'Intel', 'Processor Speed': 'I do not know.'}, {'title': 'Dell Vostro V3520 i5 1235U_71030559 (Core i5, 156 inches)', 'Screen Size': '15.6 inches', 'Processor Brand': 'Intel', 'Processor Speed': 'I do not know.'}, {'title': 'Asus Vivobook 16 X1605ZA-MB193W i3 1215U (Core i3, 16.0 inches)', 'Screen Size': '16.0 inches', 'Processor Brand': 'Intel', 'Processor Speed': 'I do not know.'}, {'title': 'Acer Aspire 3 A315-510P-34XZ i3 N305 (Core i3, 15.6 inches)', 'Screen Size': '15.6 inches', 'Processor Brand': 'Intel', 'Processor Speed': 'I do not know.'}, {'title': 'Asus Vivobook A1405VA-KM257W i5 13500H (Core i5, 14 inches)', 'Screen Size': '14 inches', 'Processor Brand': 'Intel', 'Processor Speed': 'I do not know.'}, {'title': 'Dell Inspiron 15 N3530 i7 1355U (N3530I716W1) (Core i7, 15.6 inches)', 'Screen Size': '15.6 inches', 'Processor Brand': 'Intel Core i7', 'Processor Speed': 'I do not know.'}, {'title': 'MSI Gaming GF63 12UCX-841VN i5 12450H (Core i5, 15.6 inches)', 'Screen Size': '15.6 inches', 'Processor Brand': 'Intel', 'Processor Speed': 'I do not know.'}, {'title': 'Acer Aspire 7 Gaming A715-76G-5806 i5 12450H (NH.QMFSV.002) (Core i5, 15.6 inches)', 'Screen Size': '15.6 inches', 'Processor Brand': 'Intel', 'Processor Speed': 'I do not know.'}, {'title': 'Laptop Acer Aspire Lite AL15-51M-55NB i5-1155G7 (Core i5, 15.6 inches)', 'Screen Size': '15.6 inches', 'Processor Brand': 'Intel', 'Processor Speed': 'I do not know.'}, {'title': 'Gigabyte Gaming G5 MF-F2VN313SH i5 12450H (Core i5, 15.6 inches)', 'Screen Size': '15.6 inches', 'Processor Brand': 'Intel', 'Processor Speed': 'I do not know.'}, {'title': 'Asus Vivobook A1405VA-KM059W i5 13500H (Core i5, 14 inches)', 'Screen Size': '14 inches', 'Processor Brand': 'Intel', 'Processor Speed': 'I do not know.'}, {'title': 'Asus TUF Gaming FA507NU-LP045W R7 7735HS (Ryzen 7, 15.6 inches)', 'Screen Size': '15.6 inches', 'Processor Brand': 'AMD', 'Processor Speed': 'I do not know.'}, {'title': 'Asus Vivobook Pro K3405VC-KM070W i9 13900H (Core i9, 14.0 inches)', 'Screen Size': '14.0 inches', 'Processor Brand': 'Intel Core i9', 'Processor Speed': 'I do not know.'}, {'title': 'Lenovo IdeaPad Slim 5 Light 14ABR8 R5 7530U (82XS0006VN) (Ryzen 5, 14 inches)', 'Screen Size': '14 inches', 'Processor Brand': 'AMD', 'Processor Speed': 'I do not know.'}, {'title': 'Asus TUF Gaming FX506HC-HN144W i5 11400H (Core i5, 15.6 inches)', 'Screen Size': '15.6 inches', 'Processor Brand': 'Intel', 'Processor Speed': 'I do not know.'}, {'title': 'HP 15-fd0083TU i7 1355U (8D736PA) (Core i7, 15.6 inches)', 'Screen Size': '15.6 inches', 'Processor Brand': 'Intel Core i7', 'Processor Speed': 'I do not know.'}, {'title': 'Lenovo IdeaPad Slim 5 16IAH8 i5 12450H (83BG001XVN) (Core i5, 16 inches)', 'Screen Size': '16 inches', 'Processor Brand': 'Intel', 'Processor Speed': 'I do not know.'}, {'title': 'HP Pavilion 15-eg3112TU i7 1355U (8U6L9PA) (Core i7, 15.6 inches)', 'Screen Size': '15.6 inches', 'Processor Brand': 'Intel Core i7', 'Processor Speed': 'I do not know.'}, {'title': 'Acer Gaming Aspire 5 A515-58GM-53CM i5 13420H (Core i5, 15.6 inches)', 'Screen Size': '15.6 inches', 'Processor Brand': 'Intel', 'Processor Speed': 'I do not know.'}, {'title': 'Lenovo ThinkBook 14 G6 IRL i5-13500H (21KG00BXVN) (Core i5, 14 inches)', 'Screen Size': '14 inches', 'Processor Brand': 'Intel', 'Processor Speed': 'I do not know.'}, {'title': 'MSI Gaming GF63 Thin 12UC-1006VN i5 12450H (Core i5, 15.6 inches)', 'Screen Size': '15.6 inches', 'Processor Brand': 'Intel', 'Processor Speed': 'I do not know.'}, {'title': 'MSI Gaming Alpha 15 B5EEK-203VN R5 5600H (Ryzen 5, 15.6 inches)', 'Screen Size': '15.6 inches', 'Processor Brand': 'AMD', 'Processor Speed': 'I do not know.'}, {'title': 'MSI Modern 15 B12MO-628VN i5 1235U (Core i5, 15.6 inches)', 'Screen Size': '15.6 inches', 'Processor Brand': 'Intel', 'Processor Speed': 'I do not know.'}, {'title': 'Máy tính xách tay MSI Summit E14Evo A12M-211VN i7-1280P/16GB/512GB/14\"FHD/Win11_Túi_Chuột_Đen (Core i7, 14.0 inches)', 'Screen Size': '14.0 inches', 'Processor Brand': 'Intel', 'Processor Speed': 'I do not know.'}, {'title': 'Máy tính xách tay MSI Gaming Raider GE77HX 12UHS-229VN i9-12900HX/64G/2T/17.3UHD/RTX3080Ti_16G/Win11 (Core i9, 17.3 inches)', 'Screen Size': '17.3 inches', 'Processor Brand': 'Intel', 'Processor Speed': 'I do not know.'}, {'title': 'MacBook Pro 16 2023 M2 Pro 12CPU 19GPU 16GB/1TB (M2 Pro, 16.2 inches)', 'Screen Size': '16.2 inches', 'Processor Brand': 'I do not know.', 'Processor Speed': 'I do not know.'}, {'title': 'MacBook Pro 14 2023 M3 Pro 12 CPU/18 GPU/18GB/1TB (M3 Pro, 14.2 inches)', 'Screen Size': '14.2 inches', 'Processor Brand': 'I do not know.', 'Processor Speed': 'I do not know.'}, {'title': 'MacBook Pro 14 2023 M3 Pro 11 CPU/14 GPU/18GB/512GB (M3 Pro, 14.2 inches)', 'Screen Size': '14.2 inches', 'Processor Brand': 'M3 Pro', 'Processor Speed': 'I do not know.'}, {'title': 'Lenovo ThinkPad X1 Carbon Gen 9 i7-1165G7/20XW00GDVN (Core i7, 14.0 inches)', 'Screen Size': '14.0 inches', 'Processor Brand': 'Intel', 'Processor Speed': 'I do not know.'}, {'title': 'LG Gram 16Z90R-G.AH76A5 i7-1360P (Core i7, 16.0 inches)', 'Screen Size': '16.0 inches', 'Processor Brand': 'Intel', 'Processor Speed': 'I do not know.'}, {'title': 'MacBook Pro 14 2023 M3 8 CPU/10 GPU/8GB/512GB (M3, 14.2 inches)', 'Screen Size': '14.2 inches', 'Processor Brand': 'I do not know.', 'Processor Speed': 'I do not know.'}, {'title': 'Máy tính xách tay MSI Gaming Katana 15 B13VGK-1211VN i7-13620H/16G/1T/15.6\"FHD/RTX4070_8G/Win11_Balo (Core i7, 15.6 inches)', 'Screen Size': '15.6 inches', 'Processor Brand': 'Intel', 'Processor Speed': 'I do not know.'}, {'title': 'MSI Creator M16 B13VE-830VN i7 13700H (Core i7, 16.0 inches)', 'Screen Size': '16.0 inches', 'Processor Brand': 'Intel', 'Processor Speed': 'I do not know.'}, {'title': 'Acer Swift Edge SFA16-41-R3L6 R7 6800U (NX.KABSV.002) (Ryzen 7, 16.0 inches)', 'Screen Size': '16.0 inches', 'Processor Brand': 'Ryzen 7', 'Processor Speed': 'I do not know.'}, {'title': 'Asus Zenbook 14 OLED UX3405MA-PP152W Core Ultra 7-155H (Core Ultra 7, 14 inches)', 'Screen Size': '14 inches', 'Processor Brand': 'I do not know.', 'Processor Speed': 'I do not know.'}, {'title': 'Laptop Asus TUF Gaming FX507VV-LP181W i7-13620H (Core i7, 15.6 inches)', 'Screen Size': '15.6 inches', 'Processor Brand': 'Intel', 'Processor Speed': 'I do not know.'}, {'title': 'LG Gram 14Z90R-G.AH75A5 i7 1360P (Core i7, 14 inches)', 'Screen Size': '14 inches', 'Processor Brand': 'Intel Core i7', 'Processor Speed': 'I do not know.'}, {'title': 'Asus TUF Gaming F15 FX507VU-LP197W i7-13620H (Core i7, 15.6 inches)', 'Screen Size': '15.6 inches', 'Processor Brand': 'Intel', 'Processor Speed': 'I do not know.'}, {'title': 'LG Gram 14T90R-G.AH55A5 i5-1340P (Core i5, 14.0 inches)', 'Screen Size': '14.0 inches', 'Processor Brand': 'Intel', 'Processor Speed': 'I do not know.'}, {'title': 'Asus Zenbook Flip UP3404VA-KN039W i7 1360P (Core i7, 14 inches)', 'Screen Size': '14 inches', 'Processor Brand': 'Intel Core i7', 'Processor Speed': 'I do not know.'}, {'title': 'MSI Gaming Cyborg 15 AI A1VE-053VN Ultra 7 155H (Core Ultra 7, 15.6 inches)', 'Screen Size': '15.6 inches', 'Processor Brand': 'I do not know.', 'Processor Speed': 'I do not know.'}, {'title': 'MacBook Air M2 13 2022 8CPU 8GPU 16GB 256GB (M2, 13.6 inches)', 'Screen Size': '13.6 inches', 'Processor Brand': 'I do not know.', 'Processor Speed': 'I do not know.'}, {'title': 'Lenovo Gaming LOQ - 15IRX9 i7 13650HX (83DV000NVN) (Core i7, 15.6 inches)', 'Screen Size': '15.6 inches', 'Processor Brand': 'Intel Core i7', 'Processor Speed': 'I do not know.'}, {'title': 'MSI Gaming Katana 15 B13VFK-676VN i7 13620H (Core i7, 15.6 inches)', 'Screen Size': '15.6 inches', 'Processor Brand': 'Intel', 'Processor Speed': 'I do not know.'}, {'title': 'Asus TUF Gaming FX507ZV4-LP042W i7 12700H (Core i7, 15.6 inches)', 'Screen Size': '15.6 inches', 'Processor Brand': 'Intel', 'Processor Speed': 'I do not know.'}, {'title': 'Dell Inspiron 14 2in1 T7430 i7 1355U (P172G001) (Core i7, 14 inches)', 'Screen Size': '14 inches', 'Processor Brand': 'Intel', 'Processor Speed': 'I do not know.'}, {'title': 'Asus Vivobook Pro K6502VU-MA089W i5 13500H (Core i5, 15.6 inches)', 'Screen Size': '15.6 inches', 'Processor Brand': 'Intel Core i5', 'Processor Speed': 'I do not know.'}, {'title': 'Asus Zenbook 14 OLED UX3405MA-PP151W Core Ultra 5-125H (Ultra 5 Meteor LakeCore Ultra 5, 14 inches)', 'Screen Size': '14 inches', 'Processor Brand': 'I do not know.', 'Processor Speed': 'I do not know.'}, {'title': 'Asus Zenbook 14 OLED UX3405MA-PP588W Ultra 5-125H (Ultra 5 Meteor Lake, 14 inches)', 'Screen Size': '14 inches', 'Processor Brand': 'Intel', 'Processor Speed': 'I do not know.'}, {'title': 'Gigabyte Gaming G6 KF-H3VN853SH i7-13620H (Core i7Core i7, 16 inches)', 'Screen Size': '16 inches', 'Processor Brand': 'Intel', 'Processor Speed': 'I do not know.'}, {'title': 'MacBook Air 15 inch M2 2023 8 CPU/10 GPU/8 GB/256 GB (M2, 15.0 inches)', 'Screen Size': 'I do not know.', 'Processor Brand': 'I do not know.', 'Processor Speed': 'I do not know.'}, {'title': 'MSI Prestige 13Evo A13M-081VN i7 1360P (Core i7, 13.3 inches)', 'Screen Size': '13.3 inches', 'Processor Brand': 'Intel', 'Processor Speed': 'I do not know.'}, {'title': 'Asus Zenbook 14 OLED UX3402VA-KM068W i7 1360P (Core i7, 14 inches)', 'Screen Size': '14 inches', 'Processor Brand': 'Intel Core i7', 'Processor Speed': 'I do not know.'}, {'title': 'Acer Nitro V Gaming ANV15-51-55CA i5 13420H (NH.QN8SV.004) (Core i5, 15.6 inches)', 'Screen Size': '15.6 inches', 'Processor Brand': 'Intel Core i5', 'Processor Speed': 'I do not know.'}, {'title': 'Asus TUF Gaming FX507ZV4-LP041W i7 12700H (Core i7, 15.6 inches)', 'Screen Size': '15.6 inches', 'Processor Brand': 'Intel', 'Processor Speed': 'I do not know.'}, {'title': 'Asus TUF Gaming FA507NV-LP046W R7 7735HS (Ryzen 7, 15.6 inches)', 'Screen Size': '15.6 inches', 'Processor Brand': 'AMD', 'Processor Speed': 'I do not know.'}, {'title': 'Asus TUF Gaming A15 FA507NV-LP110W R5-7535HS (Ryzen 5, 15.6 inches)', 'Screen Size': '15.6 inches', 'Processor Brand': 'AMD', 'Processor Speed': 'I do not know.'}, {'title': 'Macbook Air 13 2020 M1/16GB/256GB SSD (M1, 13.3 inches)', 'Screen Size': '13.3 inches', 'Processor Brand': 'Apple', 'Processor Speed': 'I do not know.'}, {'title': 'Acer Swift 3 SF314-512-741L i7 1260P (NX.K7JSV.001) (Core i7, 14.0 inches)', 'Screen Size': '14.0 inches', 'Processor Brand': 'Intel Core i7', 'Processor Speed': 'I do not know.'}, {'title': 'Asus Zenbook Flip UP3404VA-KN038W i5 1340P (Core i5, 14 inches)', 'Screen Size': '14 inches', 'Processor Brand': 'Intel', 'Processor Speed': 'I do not know.'}, {'title': 'MacBook Air M2 13 2022 8CPU 8GPU 8GB 256GB (M2, 13.6 inches)', 'Screen Size': '13.6 inches', 'Processor Brand': 'I do not know.', 'Processor Speed': 'I do not know.'}, {'title': 'Gigabyte Gaming G5 MF5-H2VN353SH i7 13620H (Core i7Core i7, 15.6 inches)', 'Screen Size': '15.6 inches', 'Processor Brand': 'Intel', 'Processor Speed': 'I do not know.'}, {'title': 'HP ProBook 440 G10 i7 1360P (873C1PA) (Core i7, 14.0 inches)', 'Screen Size': '14.0 inches', 'Processor Brand': 'Intel Core i7', 'Processor Speed': 'I do not know.'}, {'title': 'Acer Nitro Gaming AN515-58-769J i7 12700H (NH.QFHSV.003) (Core i7, 15.6 inches)', 'Screen Size': '15.6 inches', 'Processor Brand': 'Intel Core i7', 'Processor Speed': 'I do not know.'}, {'title': 'Gigabyte Gaming G5 KF-E3VN313SH i5 12500H (Core i5, 15,6 inches)', 'Screen Size': '15.6 inches', 'Processor Brand': 'Intel Core i5', 'Processor Speed': 'I do not know.'}, {'title': 'Dell Inspiron 14 2in1 T7430 i5 1335U (N7430I58W1) (Core i5, 14.0 inches)', 'Screen Size': '14.0 inches', 'Processor Brand': 'Intel', 'Processor Speed': 'I do not know.'}, {'title': 'Asus Vivobook Flip TP3402VA-LZ118W i9 13900H (Core i9, 14 inches)', 'Screen Size': '14 inches', 'Processor Brand': 'Intel', 'Processor Speed': 'I do not know.'}, {'title': 'Lenovo Yoga Slim 6 14IRH8 i7 13700H (83E0000VVN) (Core i7, 14 inches)', 'Screen Size': '14 inches', 'Processor Brand': 'Intel', 'Processor Speed': 'I do not know.'}, {'title': 'Máy tính xách tay MSI Summit E14 Flip Evo A12MT-210VN i7-1280P/16GB/512GB/14\"QHD/Win11_Túi_Bút_Đen (Core i7, 14.0 inches)', 'Screen Size': '14.0 inches', 'Processor Brand': 'Intel', 'Processor Speed': 'I do not know.'}, {'title': 'Acer Swift X SFX16-51G-50GS i5 11320H (NX.AYLSV.002) (Core i5, 16.1 inches)', 'Screen Size': '16.1 inches', 'Processor Brand': 'Intel', 'Processor Speed': 'I do not know.'}, {'title': 'Gigabyte Gaming G5 MF5-52VN353SH i5 13500H (Core i5Core i5, 15.6 inches)', 'Screen Size': '15.6 inches', 'Processor Brand': 'Intel', 'Processor Speed': 'I do not know.'}, {'title': 'Asus Vivobook S3405VA-KM071W i9 13900H (Core i9, 14.0 inches)', 'Screen Size': '14.0 inches', 'Processor Brand': 'Intel', 'Processor Speed': 'I do not know.'}, {'title': 'Asus TUF Gaming FA507NU-LP034W R7 7735HS (Ryzen 7, 15.6 inches)', 'Screen Size': '15.6 inches', 'Processor Brand': 'AMD', 'Processor Speed': 'I do not know.'}, {'title': 'HP Gaming Victus 16-s0078AX R5 7640HS (8C5N7PA) (Ryzen 5, 16.0 inches)', 'Screen Size': '16.0 inches', 'Processor Brand': 'Ryzen 5', 'Processor Speed': 'I do not know.'}, {'title': 'Acer Nitro 5 Tiger Gaming AN515-58-52SP i5 12500H (NH.QFHSV.001) (Core i5, 15.6 inches)', 'Screen Size': '15.6 inches', 'Processor Brand': 'Intel', 'Processor Speed': 'I do not know.'}, {'title': 'Asus Vivobook S3504VA-L1227WS i7 1360P (Core i7, 15.6 inches)', 'Screen Size': '15.6 inches', 'Processor Brand': 'Intel Core i7', 'Processor Speed': 'I do not know.'}, {'title': 'MSI Prestige 14Evo B13M-401VN i5 13500H (Core i5, 14.0 inches)', 'Screen Size': '14.0 inches', 'Processor Brand': 'Intel', 'Processor Speed': 'I do not know.'}, {'title': 'Asus Vivobook Pro K3405ZF-KM184W i5-12500H (Core i5, 14 inches)', 'Screen Size': '14 inches', 'Processor Brand': 'Intel', 'Processor Speed': 'I do not know.'}, {'title': 'Lenovo Gaming LOQ 15IAX9 i5-12450HX (83GS001RVN) (Core i5, 15.6 inches)', 'Screen Size': '15.6 inches', 'Processor Brand': 'Intel', 'Processor Speed': 'I do not know.'}, {'title': 'HP ProBook 440 G10 i5 1340P (873B2PA) (Core i5, 14.0 inches)', 'Screen Size': '14.0 inches', 'Processor Brand': 'Intel', 'Processor Speed': 'I do not know.'}, {'title': 'Lenovo Thinkpad E14 G5 T i5 1335U (21JK006BVN) (Core i5, 14 inches)', 'Screen Size': '14 inches', 'Processor Brand': 'Intel', 'Processor Speed': 'I do not know.'}, {'title': 'Lenovo Thinkpad T14s Gen 2 i5 1145G7 (20WMS1EE00) (Core i5, 14 inches)', 'Screen Size': '14 inches', 'Processor Brand': 'Intel Core i5', 'Processor Speed': 'I do not know.'}, {'title': 'HP Gaming Victus 15-fb1022AX R5-7535HS (94F19PA) (Ryzen 5, 15.6 inches)', 'Screen Size': '15.6 inches', 'Processor Brand': 'AMD', 'Processor Speed': 'I do not know.'}, {'title': 'Lenovo Ideapad Gaming 3 15ARH7 R5 7535HS (82SB00JUVN) (Ryzen 5, 15.6 inches)', 'Screen Size': '15.6 inches', 'Processor Brand': 'AMD', 'Processor Speed': 'I do not know.'}, {'title': 'HP Gaming Victus 16-e1104AX R7 6800H (7C0S9PA) (Ryzen 7, 16.1 inches)', 'Screen Size': '16.1 inches', 'Processor Brand': 'AMD', 'Processor Speed': 'I do not know.'}, {'title': 'Asus Zenbook UX3402ZA-KM218W i5 1240P (Core i5, 14.0 inches)', 'Screen Size': '14.0 inches', 'Processor Brand': 'Intel Core i5', 'Processor Speed': 'I do not know.'}, {'title': 'Asus TUF Gaming FX517ZC-HN077W i5 12450H (Core i5, 15.6 inches)', 'Screen Size': '15.6 inches', 'Processor Brand': 'Intel', 'Processor Speed': 'I do not know.'}, {'title': 'HP Pavilion 14-dv2072TU i7 1255U (7C0W1PA) (Core i7, 14.0 inches)', 'Screen Size': '14.0 inches', 'Processor Brand': 'Intel Core i7', 'Processor Speed': 'I do not know.'}, {'title': 'HP Pavilion 15-eg3111TU i5 1335U (8U6L8PA) (Core i5, 15.6 inches)', 'Screen Size': '15.6 inches', 'Processor Brand': 'Intel', 'Processor Speed': 'I do not know.'}, {'title': 'Macbook Air 13 2020 M1/8GB/256GB SSD (M1, 13.3 inches)', 'Screen Size': '13.3 inches', 'Processor Brand': 'Apple', 'Processor Speed': 'I do not know.'}, {'title': 'Lenovo ThinkPad E14 Gen 4 i7 1255U (21E300E3VN) (Core i7, 14.0 inches)', 'Screen Size': '14.0 inches', 'Processor Brand': 'Intel', 'Processor Speed': 'I do not know.'}, {'title': 'Lenovo ThinkBook 15 G5 ABP R5 7530U (21JF001SVN) (Ryzen 5, 15.6 inches)', 'Screen Size': '15.6 inches', 'Processor Brand': 'AMD', 'Processor Speed': 'I do not know.'}, {'title': 'Acer Gaming Aspire 5 A515-58GM-59QZ i5 13420H (NX.KQ4SV.006) (Core i5, 15.6 inches)', 'Screen Size': '15.6 inches', 'Processor Brand': 'Intel', 'Processor Speed': 'I do not know.'}, {'title': 'HP Pavilion 15-eg3095TU i5 1335U (8C5L6PA) (Core i5, 15.6 inches)', 'Screen Size': '15.6 inches', 'Processor Brand': 'Intel Core i5', 'Processor Speed': 'I do not know.'}, {'title': 'Lenovo IdeaPad Slim 5 14IRL8 i5 13500H (82XD002VVN) (Core i5, 14.0 inches)', 'Screen Size': '14.0 inches', 'Processor Brand': 'Intel', 'Processor Speed': 'I do not know.'}, {'title': 'Gigabyte Gaming A5 K1-AVN1030SB R5 5600H (Ryzen 5, 15.6 inches)', 'Screen Size': '15.6 inches', 'Processor Brand': 'Ryzen', 'Processor Speed': 'I do not know.'}, {'title': 'Lenovo ThinkBook 14 G4 IAP i5 1235U (21DH00BAVN) (Core i5, 14.0 inches)', 'Screen Size': '14.0 inches', 'Processor Brand': 'Intel', 'Processor Speed': 'I do not know.'}, {'title': 'MSI Gaming Cyborg 15 A12UCX-618VN i5 12450H (Core i5, 15.6 inches)', 'Screen Size': '15.6 inches', 'Processor Brand': 'Intel', 'Processor Speed': 'I do not know.'}, {'title': 'Acer Aspire 7 Gaming A715-76G-55T6 i5 12450H (NH.QMYSV.003) (Core i5, 15.6 inches)', 'Screen Size': '15.6 inches', 'Processor Brand': 'Intel Core i5', 'Processor Speed': 'I do not know.'}, {'title': 'HP 15-fd0079TU i5 1335U (8D732PA) (Core i5, 15.6 inches)', 'Screen Size': '15.6 inches', 'Processor Brand': 'Intel', 'Processor Speed': 'I do not know.'}, {'title': 'HP 15s-fq5146TU i7 1255U (7C0R9PA) (Core i7, 15.6 inches)', 'Screen Size': '15.6 inches', 'Processor Brand': 'Intel', 'Processor Speed': 'I do not know.'}, {'title': 'HP 15s fq5160TU i5 1235U (7C0S1PA) (Core i5, 15.6 inches)', 'Screen Size': '15.6 inches', 'Processor Brand': 'Intel', 'Processor Speed': 'I do not know.'}, {'title': 'HP 15s-fq5146TU i7 1255U (7C0R9PA) (Core i7, 15.6 inches)', 'Screen Size': '15.6 inches', 'Processor Brand': 'Intel', 'Processor Speed': 'I do not know.'}, {'title': 'Acer Nitro 5 Gaming AN515-57-53F9 i5 11400H (NH.QENSV.008) (Core i5, 15.6 inches)', 'Screen Size': '15.6 inches', 'Processor Brand': 'Intel', 'Processor Speed': 'I do not know.'}, {'title': 'Acer Nitro Gaming AN515-57-54MV i5 11400H (NH.QENSV.003) (Core i5, 15.6 inches)', 'Screen Size': '15.6 inches', 'Processor Brand': 'Intel', 'Processor Speed': 'I do not know.'}, {'title': 'Acer Nitro Gaming AN515-57-5669 i5 11400H (NH.QEHSV.001) (Core i5, 15.6 inches)', 'Screen Size': '15.6 inches', 'Processor Brand': 'Intel Core i5', 'Processor Speed': 'I do not know.'}, {'title': 'Acer Aspire 7 A715-76-53PJ i5 12450H (NH.QGESV.007) (Core i5, 15.6 inches)', 'Screen Size': '15.6 inches', 'Processor Brand': 'Intel', 'Processor Speed': 'I do not know.'}, {'title': 'VAIO FE14 i5 1235U (VWNC51427-BK) (Core i5, 14.0 inches)', 'Screen Size': '14.0 inches', 'Processor Brand': 'Intel', 'Processor Speed': 'I do not know.'}, {'title': 'Acer Aspire Gaming A715-43G-R8GA R5 5625U (NH.QHDSV.002) (Ryzen 5, 15.6 inches)', 'Screen Size': '15.6 inches', 'Processor Brand': 'Ryzen 5', 'Processor Speed': 'I do not know.'}, {'title': 'Acer Aspire 5 A515-58GM-53PZ i5 13420H (Core i5, 15.6 inches)', 'Screen Size': '15.6 inches', 'Processor Brand': 'Intel', 'Processor Speed': 'I do not know.'}, {'title': 'Acer Swift Go SFG14-41-R19Z R5 7530U (NX.KG3SV.001) (Ryzen 5, 14 inches)', 'Screen Size': '14 inches', 'Processor Brand': 'Ryzen 5', 'Processor Speed': 'I do not know.'}, {'title': 'MSI Gaming Cyborg 15 A12UCX-281VN i5 12450H (Core i5, 15.6 inches)', 'Screen Size': '15.6 inches', 'Processor Brand': 'Intel Core i5', 'Processor Speed': 'I do not know.'}, {'title': 'Lenovo Ideapad Slim 5 Light 14ABR8 R7 7730U (82XS002JVN) (Ryzen 7, 14.0 inches)', 'Screen Size': '14.0 inches', 'Processor Brand': 'AMD', 'Processor Speed': 'I do not know.'}, {'title': 'Asus Vivobook A1503ZA-L1139W i5 12500H (Core i5, 15.6 inches)', 'Screen Size': '15.6 inches', 'Processor Brand': 'Intel', 'Processor Speed': 'I do not know.'}, {'title': 'Acer Aspire 7 Gaming A715-43G-R09Q R5 5625U (NH.QHBSV.003) (Ryzen 5, 15.6 inches)', 'Screen Size': '15.6 inches', 'Processor Brand': 'Ryzen 5', 'Processor Speed': 'I do not know.'}, {'title': 'Acer Aspire 5 A515-58P-56RP i5 1335U (NX.KHJSV.008) (Core i5, 15.6 inches)', 'Screen Size': '15.6 inches', 'Processor Brand': 'Intel', 'Processor Speed': 'I do not know.'}, {'title': 'HP Pavilion 15-eg2083TU i5 1240P (7C0W9PA) (Core i5, 15,6 inches)', 'Screen Size': '15.6 inches', 'Processor Brand': 'Intel', 'Processor Speed': 'I do not know.'}, {'title': 'Dell Inspiron 15 N3520 i5 1235U (25P231) (Core i5, 15.6 inches)', 'Screen Size': '15.6 inches', 'Processor Brand': 'Intel', 'Processor Speed': 'I do not know.'}, {'title': 'MSI Modern 15 B7M-238VN R7 7730U (Ryzen 7, 15.6 inches)', 'Screen Size': '15.6 inches', 'Processor Brand': 'Ryzen', 'Processor Speed': 'I do not know.'}, {'title': 'Asus Vivobook M1605YA-MB303W R7 7730U (Ryzen 7, 16 inches)', 'Screen Size': '16 inches', 'Processor Brand': 'Ryzen', 'Processor Speed': 'I do not know.'}, {'title': 'Asus Vivobook M3504YA-L1144W R5 7530U (Ryzen 5, 15.6 inches)', 'Screen Size': '15.6 inches', 'Processor Brand': 'Ryzen 5', 'Processor Speed': 'I do not know.'}, {'title': 'Asus Vivobook X1605VA-MB105W i5 1335U (Core i5, 16 inches)', 'Screen Size': '16 inches', 'Processor Brand': 'Intel', 'Processor Speed': 'I do not know.'}, {'title': 'Dell Inspiron 15 N3520 i5 1235U (N5I5122W1) (Core i5, 15.6 inches)', 'Screen Size': '15.6 inches', 'Processor Brand': 'Intel Core i5', 'Processor Speed': 'I do not know.'}, {'title': 'MSI Gaming GF63 Thin 11SC-664VN i5 11400H (Core i5, 15.6 inches)', 'Screen Size': '15.6 inches', 'Processor Brand': 'Intel', 'Processor Speed': 'I do not know.'}, {'title': 'Lenovo V14 G4 IRU i5 1335U (83A00010VN) (Core i5Core i5, 14 inches)', 'Screen Size': '14 inches', 'Processor Brand': 'Intel', 'Processor Speed': 'I do not know.'}, {'title': 'Acer Aspire 5 A514-54-5127 i5 1135G7 (NX.A28SV.007) (Core i5, 14.0 inches)', 'Screen Size': '14.0 inches', 'Processor Brand': 'Intel Core i5', 'Processor Speed': 'I do not know.'}, {'title': 'Acer Swift 3 SF314-511-55QE i5 1135G7 (NX.ABNSV.003) (Core i5, 14.0 inches)', 'Screen Size': '14.0 inches', 'Processor Brand': 'Intel', 'Processor Speed': 'I do not know.'}, {'title': 'Asus Vivobook X1502ZA-BQ126W i5 1240P (Core i5, 15.6 inches)', 'Screen Size': '15.6 inches', 'Processor Brand': 'Intel Core i5', 'Processor Speed': 'I do not know.'}, {'title': 'MSI Modern 14 C13M-458VN i5 1335U (Core i5, 14 inches)', 'Screen Size': '14 inches', 'Processor Brand': 'Intel', 'Processor Speed': 'I do not know.'}, {'title': 'Lenovo V15 G4 IAH i5 12500H (83FS0032VN) (Core i5, 15.6 inches)', 'Screen Size': '15.6 inches', 'Processor Brand': 'Intel', 'Processor Speed': 'I do not know.'}, {'title': 'Acer Swift 3 SF314-43-R4X3 R5 5500U (NX.AB1SV.004) (Ryzen 5, 14.0 inches)', 'Screen Size': '14.0 inches', 'Processor Brand': 'Ryzen 5', 'Processor Speed': 'I do not know.'}, {'title': 'Lenovo IdeaPad 3 15ITL6 i5 1155G7 (82H803RWVN) (Core i5, 15.6 inches)', 'Screen Size': '15.6 inches', 'Processor Brand': 'Intel', 'Processor Speed': 'I do not know.'}, {'title': 'Acer Aspire 3 A315-59-51X8 i5 1235U (NX.K6TSV.00F) (Core i5, 15.6 inches)', 'Screen Size': '15.6 inches', 'Processor Brand': 'Intel', 'Processor Speed': 'I do not know.'}, {'title': 'MSI Modern 15 B13M-438VN i5 1335U (Core i5, 15.6 inches)', 'Screen Size': '15.6 inches', 'Processor Brand': 'Intel', 'Processor Speed': 'I do not know.'}, {'title': 'MSI Modern 15 B7M-231VN R5 7530U (Ryzen 5, 15.6 inches)', 'Screen Size': '15.6 inches', 'Processor Brand': 'Ryzen 5', 'Processor Speed': 'I do not know.'}, {'title': 'Lenovo Ideapad 1 - 14ALC7 R7 5700U (82R30077VN) (Ryzen 7, 14 inches)', 'Screen Size': '14 inches', 'Processor Brand': 'AMD', 'Processor Speed': 'I do not know.'}, {'title': 'Acer Aspire 3 A314-23M-R4TX R5 7520U (NX.KEXSV.001) (Ryzen 5, 14.0 inches)', 'Screen Size': '14.0 inches', 'Processor Brand': 'Ryzen 5', 'Processor Speed': 'I do not know.'}, {'title': 'Acer Aspire 3 A315-58-54M5 i5 1135G7 (NX.ADDSV.00M) (Core i5, 15.6 inches)', 'Screen Size': '15.6 inches', 'Processor Brand': 'Intel', 'Processor Speed': 'I do not know.'}, {'title': 'MSI Modern 15 B7M-098VN R7 7730U (Ryzen 7, 15.6 inches)', 'Screen Size': '15.6 inches', 'Processor Brand': 'Ryzen', 'Processor Speed': 'I do not know.'}, {'title': 'Acer Aspire 5 A515-58P-351N i3 1305U (NX.KHJSV.007) (Core i3, 15.6 inches)', 'Screen Size': '15.6 inches', 'Processor Brand': 'Intel', 'Processor Speed': 'I do not know.'}, {'title': 'Huawei MateBook D14 BE i3 1215U (Core i3, 14.0 inches)', 'Screen Size': '14.0 inches', 'Processor Brand': 'Intel', 'Processor Speed': 'I do not know.'}, {'title': 'HP 15s-fq5230TU i3-1215U (8U238PA) (Core i3, 15.6 inches)', 'Screen Size': '15.6 inches', 'Processor Brand': 'Intel', 'Processor Speed': 'I do not know.'}, {'title': 'HP 245 G9 R5 5625U (6L1N8PA) (Ryzen 5, 14.0 inches)', 'Screen Size': '14.0 inches', 'Processor Brand': 'AMD', 'Processor Speed': 'I do not know.'}, {'title': 'Asus Vivobook X1404ZA-NK075W i3 1215U (Core i3, 14.0 inches)', 'Screen Size': '14.0 inches', 'Processor Brand': 'Intel', 'Processor Speed': 'I do not know.'}, {'title': 'Asus Vivobook E1504FA-NJ426W R3 7320U (Ryzen 3, 15.6 inches)', 'Screen Size': '15.6 inches', 'Processor Brand': 'Ryzen 3', 'Processor Speed': 'I do not know.'}, {'title': 'HP 14s-em0080AU R3 7320U (80R30PA) (Ryzen 3, 14.0 inches)', 'Screen Size': '14.0 inches', 'Processor Brand': 'AMD', 'Processor Speed': 'I do not know.'}, {'title': 'HP 15s-fq2712TU i3 1115G4 (7C0X2PA) (Core i3, 15.6 inches)', 'Screen Size': '15.6 inches', 'Processor Brand': 'Intel', 'Processor Speed': 'I do not know.'}, {'title': 'Asus ROG Strix SCAR 18 G834JYR-R6011W i9-14900HX (Core i9, 18 inches)', 'Screen Size': '18 inches', 'Processor Brand': 'Intel Core i9', 'Processor Speed': 'I do not know.'}, {'title': 'MacBook Pro 16 2023 M3 Max 16 CPU/40 GPU/48GB/1TB (M3 Max, 16.2 inches)', 'Screen Size': '16.2 inches', 'Processor Brand': 'M3 Max', 'Processor Speed': 'I do not know.'}, {'title': 'Asus ROG Strix SCAR 16 G634JZR-NM009W i9-14900HX (Core i9, 16 inches)', 'Screen Size': '16 inches', 'Processor Brand': 'Intel Core i9', 'Processor Speed': 'I do not know.'}, {'title': 'MacBook Pro 16 2023 M3 Max 14 CPU/30 GPU/36GB/1TB (M3 Max, 16.2 inches)', 'Screen Size': '16.2 inches', 'Processor Brand': 'I do not know.', 'Processor Speed': 'I do not know.'}, {'title': 'MacBook Pro 14 2023 M3 Max 14 CPU/30 GPU/36GB/1TB (M3 Max, 14.2 inches)', 'Screen Size': '14.2 inches', 'Processor Brand': 'M3 Max', 'Processor Speed': 'I do not know.'}, {'title': 'Asus Gaming ROG Zephyrus G16 GU605MI-QR116W Ultra 9-185H (Core Ultra 9, 16 inches)', 'Screen Size': '16 inches', 'Processor Brand': 'I do not know.', 'Processor Speed': 'I do not know.'}, {'title': 'MacBook Pro 16 2023 M3 Pro 12 CPU/18 GPU/36GB/512GB (M3 Pro, 16.2 inches)', 'Screen Size': '16.2 inches', 'Processor Brand': 'I do not know.', 'Processor Speed': 'I do not know.'}, {'title': 'Asus ROG Strix G18 G814JIR-N6007W i9-14900HX (Core i9, 18 inches)', 'Screen Size': '18 inches', 'Processor Brand': 'Intel Core i9', 'Processor Speed': 'I do not know.'}, {'title': 'Asus Gaming ROG Zephyrus G16 GU605MV-QR135W Ultra 9-185H (Core Ultra 9, 16 inches)', 'Screen Size': '16 inches', 'Processor Brand': 'I do not know.', 'Processor Speed': 'I do not know.'}, {'title': 'Asus Gaming ROG Zephyrus G14 GA403UU-QS101W R9-8945HS (Ryzen 9, 16 inches)', 'Screen Size': '16 inches', 'Processor Brand': 'AMD', 'Processor Speed': 'I do not know.'}, {'title': 'Lenovo Legion Pro 5 16IRX9 i9 14900HX (83DF0047VN) (Core i9, 16 inches)', 'Screen Size': '16 inches', 'Processor Brand': 'Intel', 'Processor Speed': 'I do not know.'}, {'title': 'Lenovo Gaming Legion 5 16IRX9 i7-14650HX (83DG004YVN) (Core i7, 16 inches)', 'Screen Size': '16 inches', 'Processor Brand': 'Intel', 'Processor Speed': 'I do not know.'}, {'title': 'Asus TUF Gaming FA507NU-LP131W R5 7535HS (Ryzen 5, 15.6 inches)', 'Screen Size': '15.6 inches', 'Processor Brand': 'Ryzen 5', 'Processor Speed': 'I do not know.'}, {'title': 'Asus Zenbook 14 OLED UM3402YA-KM405W R5-7530U (Ryzen 5, 14 inches)', 'Screen Size': '14 inches', 'Processor Brand': 'Ryzen 5', 'Processor Speed': 'I do not know.'}, {'title': 'Asus Vivobook A1505VA-L1201W i9 13900H (Core i9, 15.6 inches)', 'Screen Size': '15.6 inches', 'Processor Brand': 'I do not know.', 'Processor Speed': 'I do not know.'}, {'title': 'ASUS Zenbook 14 OLED UM3402YA-KM826W R5-7430U (Ryzen 5, 14 inches)', 'Screen Size': '14 inches', 'Processor Brand': 'Ryzen 5', 'Processor Speed': 'I do not know.'}, {'title': 'Asus TUF Gaming FA506NC-HN011W R5-7535HS (Ryzen 5, 15.6 inches)', 'Screen Size': '15.6 inches', 'Processor Brand': 'AMD', 'Processor Speed': 'I do not know.'}, {'title': 'Asus TUF Gaming A15 FA506NF-HN012W R5-7535HS (Ryzen 5, 15.6 inches)', 'Screen Size': '15.6 inches', 'Processor Brand': 'AMD', 'Processor Speed': 'I do not know.'}, {'title': 'MSI Modern 15 B12MO-487VN i7 1255U (Core i7, 15.6 inches)', 'Screen Size': '15.6 inches', 'Processor Brand': 'Intel', 'Processor Speed': 'I do not know.'}, {'title': 'Lenovo Ideapad Flex 5 14ALC7 R7 5700U (82R900ECVN) (Ryzen 7, 14 inches)', 'Screen Size': '14 inches', 'Processor Brand': 'AMD', 'Processor Speed': 'I do not know.'}, {'title': 'Lenovo IdeaPad Slim 3 14IAH8 i5 12450H (83EQ0009VN) (Core i5, 14 inches)', 'Screen Size': '14 inches', 'Processor Brand': 'Intel', 'Processor Speed': 'I do not know.'}, {'title': 'Lenovo Ideapad Flex 5 14ALC7 R5 5500U (82R900EDVN) (Ryzen 5, 14 inches)', 'Screen Size': '14 inches', 'Processor Brand': 'AMD', 'Processor Speed': 'I do not know.'}]\n",
      "[{'title': 'HP 15s fq5229TU i3 1215U (8U237PA) (Intel UHD, 15.6 inches, 1.2GHz)', 'Screen Size': '15.6 inches', 'Processor Brand': 'Intel UHD', 'Processor Speed': '1.2GHz'}, {'title': 'HP 240 G9 i3 1215U (6L1X7PA) (Intel UHD, 14 inches, 1.2GHz)', 'Screen Size': '14 inches', 'Processor Brand': 'Intel UHD', 'Processor Speed': '1.2GHz'}, {'title': 'HP Pavilion 15 eg2081TU i5 1240P (7C0Q4PA) (Intel Iris Xe, 15.6 inches, 1.7GHz)', 'Screen Size': '15.6 inches', 'Processor Brand': 'Intel Iris Xe', 'Processor Speed': '1.7GHz'}, {'title': 'HP 245 G10 R5 7520U (8F155PA) (Radeon, 14 inches, 2.8GHz)', 'Screen Size': '14 inches', 'Processor Brand': 'Radeon', 'Processor Speed': '2.8GHz'}, {'title': 'HP Pavilion 14 dv2073TU i5 1235U (7C0P2PA) (Intel Iris Xe, 14 inches, 1.3GHz)', 'Screen Size': '14 inches', 'Processor Brand': 'Intel Iris Xe', 'Processor Speed': '1.3GHz'}, {'title': 'HP 240 G9 i5 1235U (6L1Y2PA) (Intel UHD, 14 inches, 1.3GHz)', 'Screen Size': '14 inches', 'Processor Brand': 'Intel UHD', 'Processor Speed': '1.3GHz'}, {'title': 'HP 15s fq5162TU i5 1235U (7C134PA) (Intel Iris Xe, 15.6 inches, 1.3GHz)', 'Screen Size': '15.6 inches', 'Processor Brand': 'Intel Iris Xe', 'Processor Speed': '1.3GHz'}, {'title': 'HP Pavilion 15 eg2082TU i5 1240P (7C0Q5PA) (Intel Iris Xe, 15.6 inches, 1.7GHz)', 'Screen Size': '15.6 inches', 'Processor Brand': 'Intel Iris Xe', 'Processor Speed': '1.7GHz'}, {'title': 'HP 15s fq5147TU i7 1255U (7C133PA) (Intel Iris Xe, 15.6 inches, 1.7GHz)', 'Screen Size': '15.6 inches', 'Processor Brand': 'Intel Iris Xe', 'Processor Speed': '1.7GHz'}, {'title': 'HP Pavilion 14 dv2074TU i5 1235U (7C0P3PA) (Intel Iris Xe, 14 inches, 1.3GHz)', 'Screen Size': '14 inches', 'Processor Brand': 'Intel Iris Xe', 'Processor Speed': '1.3GHz'}, {'title': 'HP Gaming VICTUS 15 fa1139TX i5 12450H (8Y6W3PA) (RTX 2050 4GB, 15.6 inches, 2GHz)', 'Screen Size': '15.6 inches', 'Processor Brand': 'RTX 2050 4GB', 'Processor Speed': '2GHz'}, {'title': 'HP 14 ep0126TU i3 N305 (8U233PA) (Intel UHD, 14 inches, 1.8GHz)', 'Screen Size': '14 inches', 'Processor Brand': 'Intel UHD', 'Processor Speed': '1.8GHz'}, {'title': 'HP Pavilion 15 eg2088TU i7 1260P (7C0R0PA) (Intel Iris Xe, 15.6 inches, 2.1GHz)', 'Screen Size': '15.6 inches', 'Processor Brand': 'Intel Iris Xe', 'Processor Speed': '2.1GHz'}, {'title': 'HP Gaming VICTUS 15 fb1022AX R5 7535HS (94F19PA) (RTX 2050 4GB, 15.6 inches, 3.3GHz)', 'Screen Size': '15.6 inches', 'Processor Brand': 'RTX 2050 4GB', 'Processor Speed': '3.3GHz'}, {'title': 'HP 240 G9 i5 1235U (6L1Y1PA) (Intel UHD, 14 inches, 1.3GHz)', 'Screen Size': '14 inches', 'Processor Brand': 'Intel UHD', 'Processor Speed': '1.3GHz'}, {'title': 'HP 15s fq2716TU i3 1115G4 (7C0X3PA) (Intel UHD, 15.6 inches, 3GHz)', 'Screen Size': '15.6 inches', 'Processor Brand': 'Intel UHD', 'Processor Speed': '3GHz'}, {'title': 'HP Envy X360 13 bf0090TU i7 1250U (76B13PA) (Intel Iris Xe, 13.3 inches, 1.1GHz)', 'Screen Size': '13.3 inches', 'Processor Brand': 'Intel Iris Xe', 'Processor Speed': '1.1GHz'}, {'title': 'HP Pavilion X360 14 ek1047TU i7 1355U (80R25PA) (Intel Iris Xe, 14 inches, 1.7GHz)', 'Screen Size': '14 inches', 'Processor Brand': 'Intel Iris Xe', 'Processor Speed': '1.7GHz'}, {'title': 'HP Pavilion 15 eg3091TU i7 1355U (8C5L2PA) (Intel Iris Xe, 15.6 inches, 1.7GHz)', 'Screen Size': '15.6 inches', 'Processor Brand': 'Intel Iris Xe', 'Processor Speed': '1.7GHz'}, {'title': 'HP Pavilion X360 14 ek1048TU i5 1335U (80R26PA) (Intel Iris Xe, 14 inches, 1.3GHz)', 'Screen Size': '14 inches', 'Processor Brand': 'Intel Iris Xe', 'Processor Speed': '1.3GHz'}, {'title': 'HP Envy X360 13 bf0112TU i5 1230U (7C0N9PA) (Intel Iris Xe, 13.3 inches, 1.00 GHz)', 'Screen Size': '13.3 inches', 'Processor Brand': 'Intel Iris Xe', 'Processor Speed': '1.00 GHz'}, {'title': 'HP Pavilion X360 14 ek1049TU i5 1335U (80R27PA) (Intel Iris Xe, 14 inches, 1.3GHz)', 'Screen Size': '14 inches', 'Processor Brand': 'Intel Iris Xe', 'Processor Speed': '1.3GHz'}, {'title': 'HP Pavilion 15 eg3093TU i5 1335U (8C5L4PA) (Intel Iris Xe, 15.6 inches, 1.3GHz)', 'Screen Size': '15.6 inches', 'Processor Brand': 'Intel Iris Xe', 'Processor Speed': '1.3GHz'}, {'title': 'HP Pavilion 15 eg3095TU i5 1335U (8C5L6PA) (Intel Iris Xe, 15.6 inches, 1.3GHz)', 'Screen Size': '15.6 inches', 'Processor Brand': 'Intel Iris Xe', 'Processor Speed': '1.3GHz'}, {'title': 'HP Pavilion 15 eg2062TX i5 1235U (7C0W7PA) (MX550 2GB, 15.6 inches, 1.3GHz)', 'Screen Size': '15.6 inches', 'Processor Brand': 'MX550 2GB', 'Processor Speed': '1.3GHz'}, {'title': 'HP 240 G10 i5 1335U (8F134PA) (Intel UHD, 14 inches, 1.3GHz)', 'Screen Size': '14 inches', 'Processor Brand': 'Intel UHD', 'Processor Speed': '1.3GHz'}, {'title': 'HP Elitebook 630 G9 i5 1235U (6M143PA) (Intel UHD, 13.3 inches, 1.3GHz)', 'Screen Size': '13.3 inches', 'Processor Brand': 'Intel UHD', 'Processor Speed': '1.3GHz'}, {'title': 'HP Gaming VICTUS 16 s0077AX R7 7840HS (8C5N6PA) (RTX 3050 6GB, 16.1 inches, 3.8GHz)', 'Screen Size': '16.1 inches', 'Processor Brand': 'RTX 3050 6GB', 'Processor Speed': '3.8GHz'}, {'title': 'HP Gaming VICTUS 16 e1106AX R5 6600H (7C0T1PA) (RTX 3050Ti 4GB, 16.1 inches, 3.3GHz)', 'Screen Size': '16.1 inches', 'Processor Brand': 'RTX 3050Ti 4GB', 'Processor Speed': '3.3GHz'}, {'title': 'HP Pavilion 15 eg2086TU i3 1215U (7C0Q8PA) (Intel UHD, 15.6 inches, 1.2GHz)', 'Screen Size': '15.6 inches', 'Processor Brand': 'Intel UHD', 'Processor Speed': '1.2GHz'}, {'title': 'HP Gaming VICTUS 15 fa0155TX i5 12450H (81P00PA) (RTX 3050 4GB, 15.6 inches, 2GHz)', 'Screen Size': '15.6 inches', 'Processor Brand': 'RTX 3050 4GB', 'Processor Speed': '2GHz'}, {'title': 'HP 240 G10 i5 1335U (8F136PA) (Intel UHD, 14 inches, 1.3GHz)', 'Screen Size': '14 inches', 'Processor Brand': 'Intel UHD', 'Processor Speed': '1.3GHz'}, {'title': 'HP 245 G9 R5 5625U (6L1N9PA) (Radeon, 14 inches, 2.30 GHz)', 'Screen Size': '14 inches', 'Processor Brand': 'Radeon', 'Processor Speed': '2.30 GHz'}, {'title': 'HP OMEN 16 xf0070AX R9 7940HS (8W945PA) (RTX 4070 8GB, 16.1 inches, 4GHz)', 'Screen Size': '16.1 inches', 'Processor Brand': 'RTX 4070 8GB', 'Processor Speed': '4GHz'}, {'title': 'HP OMEN 16 xf0071AX R7 7840HS (8W946PA) (RTX 4060 8GB, 16.1 inches, 3.8GHz)', 'Screen Size': '16.1 inches', 'Processor Brand': 'RTX 4060 8GB', 'Processor Speed': '3.8GHz'}, {'title': 'HP Envy 16 h0205TX i9 12900H (7C0T2PA) (RTX 3060 6GB, 16 inches, 2.5GHz)', 'Screen Size': '16 inches', 'Processor Brand': 'RTX 3060 6GB', 'Processor Speed': '2.5GHz'}, {'title': 'HP Envy 16 h0207TX i7 12700H (7C0T4PA) (RTX 3060 6GB, 16 inches, 2.30 GHz)', 'Screen Size': '16 inches', 'Processor Brand': 'RTX 3060 6GB', 'Processor Speed': '2.30 GHz'}, {'title': 'HP Elitebook Dragonfly G3 i7 1255U (6Z980PA) (Intel Iris Xe, 13.5 inches, 1.7GHz)', 'Screen Size': '13.5 inches', 'Processor Brand': 'Intel Iris Xe', 'Processor Speed': '1.7GHz'}, {'title': 'HP Gaming VICTUS 16 s0138AX R7 7840HS (9Q985PA) (RTX 4070 8GB, 16.1 inches, 3.8GHz)', 'Screen Size': '16.1 inches', 'Processor Brand': 'RTX 4070 8GB', 'Processor Speed': '3.8GHz'}, {'title': 'HP Omen 16 n0087AX R7 6800H (7C0T7PA) (RTX 3060 6GB, 16.1 inches, 3.2GHz)', 'Screen Size': '16.1 inches', 'Processor Brand': 'RTX 3060 6GB', 'Processor Speed': '3.2GHz'}, {'title': 'HP Elitebook X360 1040 G9 i7 1255U (6Z982PA) (Intel Iris Xe, 14 inches, 1.7GHz)', 'Screen Size': '14 inches', 'Processor Brand': 'Intel Iris Xe', 'Processor Speed': '1.7GHz'}, {'title': 'HP Gaming VICTUS 16 s0139AX R7 7840HS (9Q986PA) (RTX 4060 8GB, 16.1 inches, 3.8GHz)', 'Screen Size': '16.1 inches', 'Processor Brand': 'RTX 4060 8GB', 'Processor Speed': '3.8GHz'}, {'title': 'HP Gaming VICTUS 16 r0227TX i5 13500H (9Q978PA) (RTX 4060 8GB, 16.1 inches, 2.6GHz)', 'Screen Size': '16.1 inches', 'Processor Brand': 'RTX 4060 8GB', 'Processor Speed': '2.6GHz'}, {'title': 'HP Gaming VICTUS 16 r0228TX i5 13500H (9Q979PA) (RTX 4050 6GB, 16.1 inches, 2.6GHz)', 'Screen Size': '16.1 inches', 'Processor Brand': 'RTX 4050 6GB', 'Processor Speed': '2.6GHz'}, {'title': 'HP Elitebook 630 G10 i7 1355U (9J0B7PT) (Intel UHD, 13.3 inches, 1.7GHz)', 'Screen Size': '13.3 inches', 'Processor Brand': 'Intel UHD', 'Processor Speed': '1.7GHz'}, {'title': 'HP Elitebook 630 G10 i7 1355U (873F2PA) (Intel UHD, 13.3 inches, 1.7GHz)', 'Screen Size': '13.3 inches', 'Processor Brand': 'Intel UHD', 'Processor Speed': '1.7GHz'}, {'title': 'HP Elitebook 630 G10 i5 1335U (9J0B5PT) (Intel UHD, 13.3 inches, 1.3GHz)', 'Screen Size': '13.3 inches', 'Processor Brand': 'Intel UHD', 'Processor Speed': '1.3GHz'}, {'title': 'HP Probook 450 G10 i7 1355U (873D3PA) (Intel UHD, 15.6 inches, 1.7GHz)', 'Screen Size': '15.6 inches', 'Processor Brand': 'Intel UHD', 'Processor Speed': '1.7GHz'}, {'title': 'HP Pavilion X360 14 ek0132TU i7 1255U (7C0W4PA) (Intel Iris Xe, 14 inches, 1.7GHz)', 'Screen Size': '14 inches', 'Processor Brand': 'Intel Iris Xe', 'Processor Speed': '1.7GHz'}, {'title': 'HP Pavilion 15 eg3035TX i7 1355U (8U6L7PA) (MX550 2GB, 15.6 inches, 1.7GHz)', 'Screen Size': '15.6 inches', 'Processor Brand': 'MX550 2GB', 'Processor Speed': '1.7GHz'}, {'title': 'HP Pavilion 15 eg2034TX i7 1255U (6K780PA) (MX550 2GB, 15.6 inches, 1.7GHz)', 'Screen Size': '15.6 inches', 'Processor Brand': 'MX550 2GB', 'Processor Speed': '1.7GHz'}, {'title': 'HP Pavilion 14 dv2071TU i7 1255U (7C0W0PA) (Intel Iris Xe, 14 inches, 1.7GHz)', 'Screen Size': '14 inches', 'Processor Brand': 'Intel Iris Xe', 'Processor Speed': '1.7GHz'}, {'title': 'HP Probook 450 G10 i5 1335U (873D1PA) (Intel UHD, 15.6 inches, 1.3GHz)', 'Screen Size': '15.6 inches', 'Processor Brand': 'Intel UHD', 'Processor Speed': '1.3GHz'}, {'title': 'HP Pavilion 15 eg3033TX i5 1335U (8U6L6PA) (MX550 2GB, 15.6 inches, 1.3GHz)', 'Screen Size': '15.6 inches', 'Processor Brand': 'MX550 2GB', 'Processor Speed': '1.3GHz'}, {'title': 'HP Probook 450 G9 i5 1235U (6M0Y9PA) (Intel UHD, 15.6 inches, 1.3GHz)', 'Screen Size': '15.6 inches', 'Processor Brand': 'Intel UHD', 'Processor Speed': '1.3GHz'}, {'title': 'HP Pavilion 15 eg2035TX i5 1235U (6K781PA) (MX550 2GB, 15.6 inches, 1.3GHz)', 'Screen Size': '15.6 inches', 'Processor Brand': 'MX550 2GB', 'Processor Speed': '1.3GHz'}, {'title': 'HP Pavilion 15 eg2036TX i5 1235U (6K782PA) (MX550 2GB, 15.6 inches, 1.3GHz)', 'Screen Size': '15.6 inches', 'Processor Brand': 'MX550 2GB', 'Processor Speed': '1.3GHz'}, {'title': 'HP Pavilion 15 eg3094TU i5 1335U (8C5L5PA) (Intel Iris Xe, 15.6 inches, 1.3GHz)', 'Screen Size': '15.6 inches', 'Processor Brand': 'Intel Iris Xe', 'Processor Speed': '1.3GHz'}, {'title': 'HP Pavilion 15 eg2085TU i5 1240P (7C0Q7PA) (Intel Iris Xe, 15.6 inches, 1.7GHz)', 'Screen Size': '15.6 inches', 'Processor Brand': 'Intel Iris Xe', 'Processor Speed': '1.7GHz'}, {'title': 'HP Pavilion X360 14 ek0131TU i3 1215U (7C0P6PA) (Intel UHD, 14 inches, 1.2GHz)', 'Screen Size': '14 inches', 'Processor Brand': 'Intel UHD', 'Processor Speed': '1.2GHz'}, {'title': 'HP Pavilion X360 14 ek0130TU i3 1215U (7C0P5PA) (Intel UHD, 14 inches, 1.2GHz)', 'Screen Size': '14 inches', 'Processor Brand': 'Intel UHD', 'Processor Speed': '1.2GHz'}, {'title': 'HP Pavilion 15 eg3098TU i3 1315U (8C5L9PA) (Intel UHD, 15.6 inches, 1.2GHz)', 'Screen Size': '15.6 inches', 'Processor Brand': 'Intel UHD', 'Processor Speed': '1.2GHz'}, {'title': 'Asus Vivobook Go 15 E1504FA R5 7520U (NJ776W) (Radeon, 15.6 inches, 2.8GHz)', 'Screen Size': '15.6 inches', 'Processor Brand': 'Radeon', 'Processor Speed': '2.8GHz'}, {'title': 'Asus Vivobook 15 OLED A1505ZA i5 12500H (L1337W) (Intel Iris Xe, 15.6 inches, 2.5GHz)', 'Screen Size': '15.6 inches', 'Processor Brand': 'Intel Iris Xe', 'Processor Speed': '2.5GHz'}, {'title': 'Asus Vivobook X1404ZA i3 1215U (NK246W) (Intel UHD, 14 inches, 1.2GHz)', 'Screen Size': '14 inches', 'Processor Brand': 'Intel UHD', 'Processor Speed': '1.2GHz'}, {'title': 'Asus TUF Gaming F15 FX506HF i5 11400H (HN014W) (RTX 2050 4GB, 15.6 inches, 2.7GHz)', 'Screen Size': '15.6 inches', 'Processor Brand': 'RTX 2050 4GB', 'Processor Speed': '2.7GHz'}, {'title': 'Asus Vivobook 16 X1605VA i5 1335U (MB360W) (Intel Iris Xe, 16 inches, 1.3GHz)', 'Screen Size': '16 inches', 'Processor Brand': 'Intel Iris Xe', 'Processor Speed': '1.3GHz'}, {'title': 'Asus Vivobook 15 X1504ZA i3 1215U (NJ102W) (Intel UHD, 15.6 inches, 1.2GHz)', 'Screen Size': '15.6 inches', 'Processor Brand': 'Intel UHD', 'Processor Speed': '1.2GHz'}, {'title': 'Asus TUF Gaming F15 FX507ZC4 i5 12500H (HN229W) (RTX 3050 4GB, 15.6 inches, 2.5GHz)', 'Screen Size': '15.6 inches', 'Processor Brand': 'RTX 3050 4GB', 'Processor Speed': '2.5GHz'}, {'title': 'Asus Vivobook 15 OLED A1505VA i5 13500H (L1341W) (Intel Iris Xe, 15.6 inches, 2.6GHz)', 'Screen Size': '15.6 inches', 'Processor Brand': 'Intel Iris Xe', 'Processor Speed': '2.6GHz'}, {'title': 'Asus TUF Gaming F17 FX706HF i5 11400H (HX390W) (RTX 2050 4GB, 17.3 inches, 2.7GHz)', 'Screen Size': '17.3 inches', 'Processor Brand': 'RTX 2050 4GB', 'Processor Speed': '2.7GHz'}, {'title': 'Asus Vivobook 14 X1404VA i5 1335U (NK050W) (Intel Iris Xe, 14 inches, 1.3GHz)', 'Screen Size': '14 inches', 'Processor Brand': 'Intel Iris Xe', 'Processor Speed': '1.3GHz'}, {'title': 'Asus TUF Gaming A15 FA507NU R5 7535HS (LP105W) (RTX 4050 6GB, 15.6 inches, 3.3GHz)', 'Screen Size': '15.6 inches', 'Processor Brand': 'RTX 4050 6GB', 'Processor Speed': '3.3GHz'}, {'title': 'Asus Vivobook 15 X1504VA i5 1335U (NJ025W) (Intel UHD, 15.6 inches, 1.3GHz)', 'Screen Size': '15.6 inches', 'Processor Brand': 'Intel UHD', 'Processor Speed': '1.3GHz'}, {'title': 'Asus Vivobook S 14 Flip TP3402VA i5 13500H (LZ031W) (Intel Iris Xe, 14 inches, 2.6GHz)', 'Screen Size': '14 inches', 'Processor Brand': 'Intel Iris Xe', 'Processor Speed': '2.6GHz'}, {'title': 'Asus Vivobook X415EA i3 1115G4 (EK2034W) (Intel UHD, 14 inches, 3GHz)', 'Screen Size': '14 inches', 'Processor Brand': 'Intel UHD', 'Processor Speed': '3GHz'}, {'title': 'Asus TUF Gaming F15 FX507VU i7 13620H (LP167W) (RTX 4050 6GB, 15.6 inches, 2.4GHz)', 'Screen Size': '15.6 inches', 'Processor Brand': 'RTX 4050 6GB', 'Processor Speed': '2.4GHz'}, {'title': 'Asus TUF Gaming F15 FX506HC i5 11400H (HN949W) (RTX 3050 4GB, 15.6 inches, 2.7GHz)', 'Screen Size': '15.6 inches', 'Processor Brand': 'RTX 3050 4GB', 'Processor Speed': '2.7GHz'}, {'title': 'Asus TUF Gaming A15 FA506NF R5 7535HS (HN012W) (RTX 2050 4GB, 15.6 inches, 3.3GHz)', 'Screen Size': '15.6 inches', 'Processor Brand': 'RTX 2050 4GB', 'Processor Speed': '3.3GHz'}, {'title': 'Asus TUF Gaming F15 FX507ZC4 i5 12500H (HN074W) (RTX 3050 4GB, 15.6 inches, 2.5GHz)', 'Screen Size': '15.6 inches', 'Processor Brand': 'RTX 3050 4GB', 'Processor Speed': '2.5GHz'}, {'title': 'Asus Vivobook X515EA i3 1115G4 (EJ3948W) (Intel UHD, 15.6 inches, 3GHz)', 'Screen Size': '15.6 inches', 'Processor Brand': 'Intel UHD', 'Processor Speed': '3GHz'}, {'title': 'Asus Vivobook 14X OLED K3405VC i5 13500H (KM006W) (RTX 3050 4GB, 14 inches, 2.6GHz)', 'Screen Size': '14 inches', 'Processor Brand': 'RTX 3050 4GB', 'Processor Speed': '2.6GHz'}, {'title': 'Asus Vivobook 15 OLED A1505VA i9 13900H (L1386W) (Intel Iris Xe, 15.6 inches, 2.6GHz)', 'Screen Size': '15.6 inches', 'Processor Brand': 'Intel Iris Xe', 'Processor Speed': '2.6GHz'}, {'title': 'Asus Vivobook 15 OLED A1505VA i7 13700H (L1338W) (Intel Iris Xe, 15.6 inches, 2.4GHz)', 'Screen Size': '15.6 inches', 'Processor Brand': 'Intel Iris Xe', 'Processor Speed': '2.4GHz'}, {'title': 'Asus TUF Gaming A15 FA507NV R7 7735HS (LP031W) (RTX 4060 8GB, 15.6 inches, 3.2GHz)', 'Screen Size': '15.6 inches', 'Processor Brand': 'RTX 4060 8GB', 'Processor Speed': '3.2GHz'}, {'title': 'Asus Zenbook 14 OLED UX3402VA i5 1340P (KM085W) (Intel Iris Xe, 14 inches, 1.9GHz)', 'Screen Size': '14 inches', 'Processor Brand': 'Intel Iris Xe', 'Processor Speed': '1.9GHz'}, {'title': 'Asus Vivobook 15 OLED A1505VA i5 13500H (L1052W) (Intel UHD, 15.6 inches, 2.6GHz)', 'Screen Size': '15.6 inches', 'Processor Brand': 'Intel UHD', 'Processor Speed': '2.6GHz'}, {'title': 'Asus Zenbook 14 OLED UX3405MA Ultra 7 155H (PP152W) (Intel Arc Graphics, 14 inches, 1.4GHz)', 'Screen Size': '14 inches', 'Processor Brand': 'Intel Arc Graphics', 'Processor Speed': '1.4GHz'}, {'title': 'Asus Vivobook 15 X1504VA i7 1355U (NJ023W) (Intel Iris Xe, 15.6 inches, 1.7GHz)', 'Screen Size': '15.6 inches', 'Processor Brand': 'Intel Iris Xe', 'Processor Speed': '1.7GHz'}, {'title': 'Asus Zenbook 14 Flip OLED UP3404VA i5 1340P (KN038W) (Intel Iris Xe, 14 inches, 1.9GHz)', 'Screen Size': '14 inches', 'Processor Brand': 'Intel Iris Xe', 'Processor Speed': '1.9GHz'}, {'title': 'Asus Zenbook 14 OLED UX3405MA Ultra 5 125H (PP151W) (Intel Arc Graphics, 14 inches, 1.2GHz)', 'Screen Size': '14 inches', 'Processor Brand': 'Intel Arc Graphics', 'Processor Speed': '1.2GHz'}, {'title': 'Asus TUF Gaming A15 FA506NC R5 7535HS (HN017W) (RTX 3050 4GB, 15.6 inches, 3.3GHz)', 'Screen Size': '15.6 inches', 'Processor Brand': 'RTX 3050 4GB', 'Processor Speed': '3.3GHz'}, {'title': 'Asus Vivobook 14X OLED S3405VA i5 13500H (KM072W) (Intel Iris Xe, 14 inches, 2.6GHz)', 'Screen Size': '14 inches', 'Processor Brand': 'Intel Iris Xe', 'Processor Speed': '2.6GHz'}, {'title': 'Asus Gaming ROG Zephyrus G16 GU605MV Ultra 9 185H (QR135W) (RTX 4060 8GB, 16 inches, 2.30 GHz)', 'Screen Size': '16 inches', 'Processor Brand': 'RTX 4060 8GB', 'Processor Speed': '2.30 GHz'}, {'title': 'Asus Vivobook Go 15 E1504FA R5 7520U (NJ630W) (Radeon, 15.6 inches, 2.8GHz)', 'Screen Size': '15.6 inches', 'Processor Brand': 'Radeon', 'Processor Speed': '2.8GHz'}, {'title': 'Asus Gaming ROG Zephyrus G16 GU605MI Ultra 9 185H (QR116W) (RTX 4070 8GB, 16 inches, 2.30 GHz)', 'Screen Size': '16 inches', 'Processor Brand': 'RTX 4070 8GB', 'Processor Speed': '2.30 GHz'}, {'title': 'Asus Gaming ROG Strix G15 G513IH R7 4800H (HN015W) (GTX 1650 4GB, 15.6 inches, 2.9GHz)', 'Screen Size': '15.6 inches', 'Processor Brand': 'GTX 1650 4GB', 'Processor Speed': '2.9GHz'}, {'title': 'Asus Vivobook X1404ZA i5 1235U (NK376W) (Intel Iris Xe, 14 inches, 1.3GHz)', 'Screen Size': '14 inches', 'Processor Brand': 'Intel Iris Xe', 'Processor Speed': '1.3GHz'}, {'title': 'Asus Vivobook 15 OLED A1505VA i9 13900H (L1201W) (Intel Iris Xe, 15.6 inches, 2.6GHz)', 'Screen Size': '15.6 inches', 'Processor Brand': 'Intel Iris Xe', 'Processor Speed': '2.6GHz'}, {'title': 'Asus Gaming TUF Dash F15 FX517ZE i5 12450H (HN045W) (RTX 3050Ti 4GB, 15.6 inches, 2GHz)', 'Screen Size': '15.6 inches', 'Processor Brand': 'RTX 3050Ti 4GB', 'Processor Speed': '2GHz'}, {'title': 'Asus Zenbook 14 Flip OLED UP3404VA i7 1360P (KN039W) (Intel Iris Xe, 14 inches, 2.2GHz)', 'Screen Size': '14 inches', 'Processor Brand': 'Intel Iris Xe', 'Processor Speed': '2.2GHz'}, {'title': 'Asus TUF Gaming F15 FX507VV i7 13620H (LP181W) (RTX 4060 8GB, 15.6 inches, 2.4GHz)', 'Screen Size': '15.6 inches', 'Processor Brand': 'RTX 4060 8GB', 'Processor Speed': '2.4GHz'}, {'title': 'Asus Gaming ROG Strix SCAR 18 G834JY i9 13980HX (N6039W) (RTX 4090 16GB, 18 inches, 2.2GHz)', 'Screen Size': '18 inches', 'Processor Brand': 'RTX 4090 16GB', 'Processor Speed': '2.2GHz'}, {'title': 'Asus Gaming ROG Strix SCAR 17 G733PZ R9 7945HX (LL980W) (RTX 4080 12GB, 17.3 inches, 2.5GHz)', 'Screen Size': '17.3 inches', 'Processor Brand': 'RTX 4080 12GB', 'Processor Speed': '2.5GHz'}, {'title': 'Asus Gaming ROG Strix SCAR 18 G834JYR i9 14900HX (R6011W) (RTX 4090 16GB, 18 inches, 2.2GHz)', 'Screen Size': '18 inches', 'Processor Brand': 'RTX 4090 16GB', 'Processor Speed': '2.2GHz'}, {'title': 'Asus Gaming ROG Strix SCAR 16 G634JZR i9 14900HX (NM009W) (RTX 4080 12GB, 16 inches, 2.2GHz)', 'Screen Size': '16 inches', 'Processor Brand': 'RTX 4080 12GB', 'Processor Speed': '2.2GHz'}, {'title': 'Asus Gaming ROG Zephyrus Duo 16 GX650PZ R9 7945HX (NM031W) (RTX 4080 12GB, 16 inches, 2.5GHz)', 'Screen Size': '16 inches', 'Processor Brand': 'RTX 4080 12GB', 'Processor Speed': '2.5GHz'}, {'title': 'Asus Gaming ROG Strix SCAR 16 G634JZ i9 13980HX (N4029W) (RTX 4080 12GB, 16 inches, 2.2GHz)', 'Screen Size': '16 inches', 'Processor Brand': 'RTX 4080 12GB', 'Processor Speed': '2.2GHz'}, {'title': 'Asus Gaming ROG Zephyrus M16 GU604VI i9 13900H (NM779W) (RTX 4070 8GB, 16 inches, 2.6GHz)', 'Screen Size': '16 inches', 'Processor Brand': 'RTX 4070 8GB', 'Processor Speed': '2.6GHz'}, {'title': 'Asus Gaming ROG Strix SCAR G18 G814JIR i9 14900HX (N6007W) (RTX 4070 8GB, 18 inches, 2.2GHz)', 'Screen Size': '18 inches', 'Processor Brand': 'RTX 4070 8GB', 'Processor Speed': '2.2GHz'}, {'title': 'Asus Gaming ROG Flow X16 GV601VV i9 13900H (NL016W) (RTX 4060 8GB, 16 inches, 2.6GHz)', 'Screen Size': '16 inches', 'Processor Brand': 'RTX 4060 8GB', 'Processor Speed': '2.6GHz'}, {'title': 'Asus Gaming ROG Flow X13 GV302XU R9 7940HS (MU223W) (RTX 4050 6GB, 13.4 inches, 4GHz)', 'Screen Size': '13.4 inches', 'Processor Brand': 'RTX 4050 6GB', 'Processor Speed': '4GHz'}, {'title': 'Asus Zenbook S 13 OLED UX5304VA i7 1355U (NQ126W) (Intel Iris Xe, 13.3 inches, 1.7GHz)', 'Screen Size': '13.3 inches', 'Processor Brand': 'Intel Iris Xe', 'Processor Speed': '1.7GHz'}, {'title': 'Asus ExpertBook B9 OLED B9403CVA i7 1355U (KM0157X) (Intel Iris Xe, 14 inches, 1.7GHz)', 'Screen Size': '14 inches', 'Processor Brand': 'Intel Iris Xe', 'Processor Speed': '1.7GHz'}, {'title': 'Asus TUF Gaming F15 FX507VV i7 13620H (LP171W) (RTX 4060 8GB, 15.6 inches, 2.4GHz)', 'Screen Size': '15.6 inches', 'Processor Brand': 'RTX 4060 8GB', 'Processor Speed': '2.4GHz'}, {'title': 'Asus TUF Gaming A15 FA507XI R9 7940HS (LP420W) (RTX 4070 8GB, 15.6 inches, 4GHz)', 'Screen Size': '15.6 inches', 'Processor Brand': 'RTX 4070 8GB', 'Processor Speed': '4GHz'}, {'title': 'Asus Gaming ROG Zephyrus G14 GA402NJ R7 7735HS (L4056W) (RTX 3050 6GB, 14 inches, 3.2GHz)', 'Screen Size': '14 inches', 'Processor Brand': 'RTX 3050 6GB', 'Processor Speed': '3.2GHz'}, {'title': 'Asus Gaming ROG Strix G16 G614JU i5 13450HX (N3135W) (RTX 4050 6GB, 16 inches, 2.4GHz)', 'Screen Size': '16 inches', 'Processor Brand': 'RTX 4050 6GB', 'Processor Speed': '2.4GHz'}, {'title': 'Asus Zenbook S 13 OLED UX5304VA i7 1355U (NQ125W) (Intel Iris Xe, 13.3 inches, 1.7GHz)', 'Screen Size': '13.3 inches', 'Processor Brand': 'Intel Iris Xe', 'Processor Speed': '1.7GHz'}, {'title': 'Asus Zenbook 14 OLED UX3402VA i7 1360P (KM068W) (Intel Iris Xe, 14 inches, 2.2GHz)', 'Screen Size': '14 inches', 'Processor Brand': 'Intel Iris Xe', 'Processor Speed': '2.2GHz'}, {'title': 'Asus Zenbook 14 OLED UM3402YA R5 7530U (KM405W) (Radeon, 14 inches, 2GHz)', 'Screen Size': '14 inches', 'Processor Brand': 'Radeon', 'Processor Speed': '2GHz'}, {'title': 'Asus Vivobook 14 A1405VA i3 1315U (LY097W) (Intel UHD, 14 inches, 1.2GHz)', 'Screen Size': '14 inches', 'Processor Brand': 'Intel UHD', 'Processor Speed': '1.2GHz'}, {'title': 'Acer Aspire 3 A315 510P 32EF i3 N305 (NX.KDHSV.001) (Intel UHD, 15.6 inches, N305)', 'Screen Size': '15.6 inches', 'Processor Brand': 'Intel UHD', 'Processor Speed': 'N305'}, {'title': 'Acer Aspire Lite 15 51M 5542 i5 1155G7 (NX.KS5SV.001) (Intel Iris Xe, 15.6 inches, 2.5GHz)', 'Screen Size': '15.6 inches', 'Processor Brand': 'Intel Iris Xe', 'Processor Speed': '2.5GHz'}, {'title': 'Acer Aspire 5 Gaming A515 58GM 51LB i5 13420H (NX.KQ4SV.002) (RTX 2050 4GB, 15.6 inches, 2.1GHz)', 'Screen Size': '15.6 inches', 'Processor Brand': 'RTX 2050 4GB', 'Processor Speed': '2.1GHz'}, {'title': 'Acer Aspire 3 A315 44P R9W8 R7 5700U (NX.KSJSV.002) (Radeon, 15.6 inches, 1.8GHz)', 'Screen Size': '15.6 inches', 'Processor Brand': 'Radeon', 'Processor Speed': '1.8GHz'}, {'title': 'Acer Nitro 5 Gaming AN515 57 5669 i5 11400H (NH.QEHSV.001) (GTX 1650 4GB, 15.6 inches, 2.7GHz)', 'Screen Size': '15.6 inches', 'Processor Brand': 'GTX 1650 4GB', 'Processor Speed': '2.7GHz'}, {'title': 'Acer Aspire 3 A315 58 589K i5 1135G7 (NX.AM0SV.008) (Intel Iris Xe, 15.6 inches, 2.4GHz)', 'Screen Size': '15.6 inches', 'Processor Brand': 'Intel Iris Xe', 'Processor Speed': '2.4GHz'}, {'title': 'Acer Aspire 7 Gaming A715 43G R8GA R5 5625U (NH.QHDSV.002) (RTX 3050 4GB, 15.6 inches, 2.30 GHz)', 'Screen Size': '15.6 inches', 'Processor Brand': 'RTX 3050 4GB', 'Processor Speed': '2.30 GHz'}, {'title': 'Acer Aspire 3 A315 59 38PG i3 1215U (NX.K6TSV.00A) (Intel UHD, 15.6 inches, 1.2GHz)', 'Screen Size': '15.6 inches', 'Processor Brand': 'Intel UHD', 'Processor Speed': '1.2GHz'}, {'title': 'Acer Aspire 3 A314 42P R3B3 R7 5700U (NX.KSFSV.001) (Radeon, 14 inches, 1.8GHz)', 'Screen Size': '14 inches', 'Processor Brand': 'Radeon', 'Processor Speed': '1.8GHz'}, {'title': 'Acer TravelMate P4 TMP414 51 50HX i5 1135G7 (NX.VP2SV.00T) (Intel Iris Xe, 14 inches, 2.4GHz)', 'Screen Size': '14 inches', 'Processor Brand': 'Intel Iris Xe', 'Processor Speed': '2.4GHz'}, {'title': 'Acer Aspire 5 A515 58P 34RJ i3 1315U (NX.KHJSV.003) (Intel UHD, 15.6 inches, 1.2GHz)', 'Screen Size': '15.6 inches', 'Processor Brand': 'Intel UHD', 'Processor Speed': '1.2GHz'}, {'title': 'Acer Aspire 7 Gaming A715 76G 5806 i5 12450H (NH.QMFSV.002) (RTX 3050 4GB, 15.6 inches, 2GHz)', 'Screen Size': '15.6 inches', 'Processor Brand': 'RTX 3050 4GB', 'Processor Speed': '2GHz'}, {'title': 'Acer Aspire 3 A315 59 5283 i5 1235U (NX.K6TSV.00B) (Intel UHD, 15.6 inches, 1.3GHz)', 'Screen Size': '15.6 inches', 'Processor Brand': 'Intel UHD', 'Processor Speed': '1.3GHz'}, {'title': 'Acer Gaming Nitro V ANV15 51 53NE i5 13420H (NH.QNASV.002) (RTX 2050 4GB, 15.6 inches, 2.1GHz)', 'Screen Size': '15.6 inches', 'Processor Brand': 'RTX 2050 4GB', 'Processor Speed': '2.1GHz'}, {'title': 'Acer Aspire 3 A315 58 54XF i5 1135G7 (NX.AM0SV.007) (Intel Iris Xe, 15.6 inches, 2.4GHz)', 'Screen Size': '15.6 inches', 'Processor Brand': 'Intel Iris Xe', 'Processor Speed': '2.4GHz'}, {'title': 'Acer Nitro 5 Tiger AN515 58 52SP i5 12500H (NH.QFHSV.001) (RTX 3050 4GB, 15.6 inches, 2.5GHz)', 'Screen Size': '15.6 inches', 'Processor Brand': 'RTX 3050 4GB', 'Processor Speed': '2.5GHz'}, {'title': 'Acer Aspire 5 A514 56P 54TN i5 1335U (NX.KHRSV.004) (Intel Iris Xe, 14 inches, 1.3GHz)', 'Screen Size': '14 inches', 'Processor Brand': 'Intel Iris Xe', 'Processor Speed': '1.3GHz'}, {'title': 'Acer Aspire 5 A514 54 5127 i5 1135G7 (NX.A28SV.007) (Intel Iris Xe, 14 inches, 2.4GHz)', 'Screen Size': '14 inches', 'Processor Brand': 'Intel Iris Xe', 'Processor Speed': '2.4GHz'}, {'title': 'Acer Aspire 3 A314 35 P3G9 N6000 (NX.A7SSV.007) (Intel UHD, 14 inches, 1.1GHz)', 'Screen Size': '14 inches', 'Processor Brand': 'Intel UHD', 'Processor Speed': '1.1GHz'}, {'title': 'Acer Swift 3 SF314 511 55QE i5 1135G7 (NX.ABNSV.003) (Intel Iris Xe, 14 inches, 2.4GHz)', 'Screen Size': '14 inches', 'Processor Brand': 'Intel Iris Xe', 'Processor Speed': '2.4GHz'}, {'title': 'Acer Aspire 3 A314 35 C3KS N5100 (NX.A7SSV.009) (Intel UHD, 14 inches, 1.1GHz)', 'Screen Size': '14 inches', 'Processor Brand': 'Intel UHD', 'Processor Speed': '1.1GHz'}, {'title': 'Acer Gaming Nitro V ANV15 51 57B2 i5 13420H (NH.QN8SV.001) (RTX 4050 6GB, 15.6 inches, 2.1GHz)', 'Screen Size': '15.6 inches', 'Processor Brand': 'RTX 4050 6GB', 'Processor Speed': '2.1GHz'}, {'title': 'Acer Gaming Nitro 5 AN515 58 769J i7 12700H (NH.QFHSV.003) (RTX 3050 4GB, 15.6 inches, 2.30 GHz)', 'Screen Size': '15.6 inches', 'Processor Brand': 'RTX 3050 4GB', 'Processor Speed': '2.30 GHz'}, {'title': 'Acer TravelMate P4 TMP414 51G 59R6 i5 1135G7 (NX.VP9SV.001) (MX350 2GB, 14 inches, 2.4GHz)', 'Screen Size': '14 inches', 'Processor Brand': 'MX350 2GB', 'Processor Speed': '2.4GHz'}, {'title': 'Acer Aspire 7 Gaming A715 76G 59MW i5 12450H (NH.QMYSV.001) (RTX 2050 4GB, 15.6 inches, 2GHz)', 'Screen Size': '15.6 inches', 'Processor Brand': 'RTX 2050 4GB', 'Processor Speed': '2GHz'}, {'title': 'Acer Swift 3 SF314 512 56QN i5 1240P (NX.K0FSV.002) (Intel Iris Xe, 14 inches, 1.7GHz)', 'Screen Size': '14 inches', 'Processor Brand': 'Intel Iris Xe', 'Processor Speed': '1.7GHz'}, {'title': 'Acer Gaming Predator Helios 16 PH16 71 72BV i7 13700HX (NH.QJRSV.001) (RTX 4070 8GB, 16 inches, 2.1GHz)', 'Screen Size': '16 inches', 'Processor Brand': 'RTX 4070 8GB', 'Processor Speed': '2.1GHz'}, {'title': 'Acer Nitro 5 Tiger AN515 58 773Y i7 12700H (NH.QFKSV.001) (RTX 3050Ti 4GB, 15.6 inches, 2.30 GHz)', 'Screen Size': '15.6 inches', 'Processor Brand': 'RTX 3050Ti 4GB', 'Processor Speed': '2.30 GHz'}, {'title': 'Acer Gaming Nitro V ANV15 51 58AN i5 13420H (NH.QNASV.001) (RTX 2050 4GB, 15.6 inches, 2.1GHz)', 'Screen Size': '15.6 inches', 'Processor Brand': 'RTX 2050 4GB', 'Processor Speed': '2.1GHz'}, {'title': 'Acer Aspire 5 A515 58M 56YX i5 13420H (NX.KQ8SV.005) (Intel UHD, 15.6 inches, 2.1GHz)', 'Screen Size': '15.6 inches', 'Processor Brand': 'Intel UHD', 'Processor Speed': '2.1GHz'}, {'title': 'Acer Gaming Nitro 5 AN515 57 53F9 i5 11400H (NH.QENSV.008) (RTX 3050 4GB, 15.6 inches, 2.7GHz)', 'Screen Size': '15.6 inches', 'Processor Brand': 'RTX 3050 4GB', 'Processor Speed': '2.7GHz'}, {'title': 'Lenovo Ideapad 1 15ALC7 R7 5700U (82R400C1VN) (Radeon, 15.6 inches, 1.8GHz)', 'Screen Size': '15.6 inches', 'Processor Brand': 'Radeon', 'Processor Speed': '1.8GHz'}, {'title': 'Lenovo V14 G3 ABA R5 5625U (82TU006SVN) (Radeon, 14 inches, 2.30 GHz)', 'Screen Size': '14 inches', 'Processor Brand': 'Radeon', 'Processor Speed': '2.30 GHz'}, {'title': 'Lenovo Ideapad Slim 3 15IAH8 i5 12450H (83ER000EVN) (Intel UHD, 15.6 inches, 2GHz)', 'Screen Size': '15.6 inches', 'Processor Brand': 'Intel UHD', 'Processor Speed': '2GHz'}, {'title': 'Lenovo V15 G4 IRU i5 1335U (83A1000LVN) (Intel Iris Xe, 15.6 inches, 1.3GHz)', 'Screen Size': '15.6 inches', 'Processor Brand': 'Intel Iris Xe', 'Processor Speed': '1.3GHz'}, {'title': 'Lenovo Ideapad 5 15IAL7 i5 1235U (82SF005HVN) (Intel Iris Xe, 15.6 inches, 1.3GHz)', 'Screen Size': '15.6 inches', 'Processor Brand': 'Intel Iris Xe', 'Processor Speed': '1.3GHz'}, {'title': 'Lenovo Ideapad 3 15IAU7 i3 1215U (82RK005LVN) (Intel UHD, 15.6 inches, 1.2GHz)', 'Screen Size': '15.6 inches', 'Processor Brand': 'Intel UHD', 'Processor Speed': '1.2GHz'}, {'title': 'Lenovo Ideapad Slim 3 15IAH8 i5 12450H (83ER000FVN) (Intel UHD, 15.6 inches, 2GHz)', 'Screen Size': '15.6 inches', 'Processor Brand': 'Intel UHD', 'Processor Speed': '2GHz'}, {'title': 'Lenovo Ideapad 3 15IAU7 i3 1215U (82RK00RWVN) (Intel UHD, 15.6 inches, 1.2GHz)', 'Screen Size': '15.6 inches', 'Processor Brand': 'Intel UHD', 'Processor Speed': '1.2GHz'}, {'title': 'Lenovo Ideapad 3 15ITL6 i5 1155G7 (82H803RRVN) (Intel Iris Xe, 15.6 inches, 2.5GHz)', 'Screen Size': '15.6 inches', 'Processor Brand': 'Intel Iris Xe', 'Processor Speed': '2.5GHz'}, {'title': 'Lenovo IdeaPad 1 15AMN7 R5 7520U (82VG0061VN) (AMD Radeon 610M, 15.6 inches, 2.8GHz)', 'Screen Size': '15.6 inches', 'Processor Brand': 'AMD Radeon 610M', 'Processor Speed': '2.8GHz'}, {'title': 'Lenovo ThinkBook 15 G5 IRL i7 1355U (21JD002AVN) (Intel Iris Xe, 15.6 inches, 1.7GHz)', 'Screen Size': '15.6 inches', 'Processor Brand': 'Intel Iris Xe', 'Processor Speed': '1.7GHz'}, {'title': 'Lenovo Ideapad 3 15IAU7 i3 1215U (82RK001MVN) (Intel UHD, 15.6 inches, 1.2GHz)', 'Screen Size': '15.6 inches', 'Processor Brand': 'Intel UHD', 'Processor Speed': '1.2GHz'}, {'title': 'Lenovo Ideapad Slim 3 15IRH8 i7 13620H (83EM003FVN) (Intel UHD, 15.6 inches, 2.4GHz)', 'Screen Size': '15.6 inches', 'Processor Brand': 'Intel UHD', 'Processor Speed': '2.4GHz'}, {'title': 'Lenovo Ideapad 3 15IAU7 i7 1255U (82RK00X0VN) (Intel Iris Xe, 15.6 inches, 1.7GHz)', 'Screen Size': '15.6 inches', 'Processor Brand': 'Intel Iris Xe', 'Processor Speed': '1.7GHz'}, {'title': 'Lenovo Ideapad 5 Pro 14IAP7 i5 1240P (82SH000SVN) (Intel Iris Xe, 14 inches, 1.7GHz)', 'Screen Size': '14 inches', 'Processor Brand': 'Intel Iris Xe', 'Processor Speed': '1.7GHz'}, {'title': 'Lenovo Ideapad Gaming 3 15ACH6 R5 5500H (82K2027PVN) (RTX 2050 4GB, 15.6 inches, 3.3GHz)', 'Screen Size': '15.6 inches', 'Processor Brand': 'RTX 2050 4GB', 'Processor Speed': '3.3GHz'}, {'title': 'Lenovo Yoga 7 14IRL8 i7 1360P (82YL006BVN) (Intel Iris Xe, 14 inches, 2.2GHz)', 'Screen Size': '14 inches', 'Processor Brand': 'Intel Iris Xe', 'Processor Speed': '2.2GHz'}, {'title': 'Lenovo IdeaPad Slim 5 Light 14ABR8 R5 7530U (82XS002KVN) (Radeon, 14 inches, 2GHz)', 'Screen Size': '14 inches', 'Processor Brand': 'Radeon', 'Processor Speed': '2GHz'}, {'title': 'Lenovo Ideapad 5 Pro 14IAP7 i7 1260P (82SH002SVN) (Intel Iris Xe, 14 inches, 2.1GHz)', 'Screen Size': '14 inches', 'Processor Brand': 'Intel Iris Xe', 'Processor Speed': '2.1GHz'}, {'title': 'Lenovo Ideapad 3 15ITL6 i3 1115G4 (82H803SFVN) (Intel UHD, 15.6 inches, 3GHz)', 'Screen Size': '15.6 inches', 'Processor Brand': 'Intel UHD', 'Processor Speed': '3GHz'}, {'title': 'Lenovo Yoga 7 14IRL8 i5 1340P (82YL006AVN) (Intel Iris Xe, 14 inches, 1.9GHz)', 'Screen Size': '14 inches', 'Processor Brand': 'Intel Iris Xe', 'Processor Speed': '1.9GHz'}, {'title': 'Lenovo Ideapad 3 15IAU7 i3 1215U (82RK00QYVN) (Intel UHD, 15.6 inches, 1.2GHz)', 'Screen Size': '15.6 inches', 'Processor Brand': 'Intel UHD', 'Processor Speed': '1.2GHz'}, {'title': 'Lenovo LOQ Gaming 15IRH8 i7 13620H (82XV00QXVN) (RTX 4050 6GB, 15.6 inches, 2.4GHz)', 'Screen Size': '15.6 inches', 'Processor Brand': 'RTX 4050 6GB', 'Processor Speed': '2.4GHz'}, {'title': 'Lenovo LOQ Gaming 15IAX9 i5 12450HX (83GS000JVN) (RTX 3050 6GB, 15.6 inches, 12450HX)', 'Screen Size': '15.6 inches', 'Processor Brand': 'RTX 3050 6GB', 'Processor Speed': '12450HX'}, {'title': 'Lenovo Gaming Legion 5 16IRH8 i5 13500H (82YA00BSVN) (RTX 4050 6GB, 16 inches, 2.6GHz)', 'Screen Size': '16 inches', 'Processor Brand': 'RTX 4050 6GB', 'Processor Speed': '2.6GHz'}, {'title': 'Lenovo LOQ Gaming 15IRH8 i5 13420H (82XV00Q4VN) (RTX 4050 6GB, 15.6 inches, 2.1GHz)', 'Screen Size': '15.6 inches', 'Processor Brand': 'RTX 4050 6GB', 'Processor Speed': '2.1GHz'}, {'title': 'Lenovo ThinkBook 15 G5 IRL i5 1355U (21JD002FVN) (Intel Iris Xe, 15.6 inches, 1.3GHz)', 'Screen Size': '15.6 inches', 'Processor Brand': 'Intel Iris Xe', 'Processor Speed': '1.3GHz'}, {'title': 'Lenovo Ideapad Slim 3 15IRH8 i7 13620H (83EM003EVN) (Intel UHD, 15.6 inches, 2.4GHz)', 'Screen Size': '15.6 inches', 'Processor Brand': 'Intel UHD', 'Processor Speed': '2.4GHz'}, {'title': 'Lenovo Ideapad Slim 5 14IAH8 i5 12450H (83BF003WVN) (Intel UHD, 14 inches, 2GHz)', 'Screen Size': '14 inches', 'Processor Brand': 'Intel UHD', 'Processor Speed': '2GHz'}, {'title': 'Lenovo Ideapad 3 15ITL6 i5 1155G7 (82H803CVVN) (Intel Iris Xe, 15.6 inches, 2.5GHz)', 'Screen Size': '15.6 inches', 'Processor Brand': 'Intel Iris Xe', 'Processor Speed': '2.5GHz'}, {'title': 'Lenovo Ideapad 3 15IAU7 i5 1235U (82RK001PVN) (Intel UHD, 15.6 inches, 1.3GHz)', 'Screen Size': '15.6 inches', 'Processor Brand': 'Intel UHD', 'Processor Speed': '1.3GHz'}, {'title': 'Lenovo Ideapad 5 14IAL7 i5 1235U (82SD0060VN) (Intel Iris Xe, 14 inches, 1.3GHz)', 'Screen Size': '14 inches', 'Processor Brand': 'Intel Iris Xe', 'Processor Speed': '1.3GHz'}, {'title': 'Lenovo V14 G4 IRU i3 1315U (83A0000TVN) (Intel UHD, 14 inches, 1.2GHz)', 'Screen Size': '14 inches', 'Processor Brand': 'Intel UHD', 'Processor Speed': '1.2GHz'}, {'title': 'Dell Inspiron 15 3520 i5 1235U (25P231) (Intel Iris Xe, 15.6 inches, 1.3GHz)', 'Screen Size': '15.6 inches', 'Processor Brand': 'Intel Iris Xe', 'Processor Speed': '1.3GHz'}, {'title': 'Dell Inspiron 15 3520 i5 1235U (i5U085W11BLU) (Intel UHD, 15.6 inches, 1.3GHz)', 'Screen Size': '15.6 inches', 'Processor Brand': 'Intel UHD', 'Processor Speed': '1.3GHz'}, {'title': 'Dell Inspiron 15 3520 i5 1235U (71027003) (Intel UHD, 15.6 inches, 1.3GHz)', 'Screen Size': '15.6 inches', 'Processor Brand': 'Intel UHD', 'Processor Speed': '1.3GHz'}, {'title': 'Dell Inspiron 15 3520 i3 1215U (71003264) (Intel UHD, 15.6 inches, 1.2GHz)', 'Screen Size': '15.6 inches', 'Processor Brand': 'Intel UHD', 'Processor Speed': '1.2GHz'}, {'title': 'Dell Vostro 15 3520 i3 1215U (V5I3614W1) (Intel UHD, 15.6 inches, 1.2GHz)', 'Screen Size': '15.6 inches', 'Processor Brand': 'Intel UHD', 'Processor Speed': '1.2GHz'}, {'title': 'Dell Inspiron 15 3520 i3 1215U (i3U082W11BLU) (Intel UHD, 15.6 inches, 1.2GHz)', 'Screen Size': '15.6 inches', 'Processor Brand': 'Intel UHD', 'Processor Speed': '1.2GHz'}, {'title': 'Dell Vostro 15 3520 i5 1235U (V5I5610W1) (Intel UHD, 15.6 inches, 1.3GHz)', 'Screen Size': '15.6 inches', 'Processor Brand': 'Intel UHD', 'Processor Speed': '1.3GHz'}, {'title': 'Dell Inspiron 15 3530 i7 1355U (N3530I716W1) (MX550 2GB, 15.6 inches, 1.7GHz)', 'Screen Size': '15.6 inches', 'Processor Brand': 'MX550 2GB', 'Processor Speed': '1.7GHz'}, {'title': 'Dell Inspiron 15 3530 i7 1355U (71011775) (Intel UHD, 15.6 inches, 1.7GHz)', 'Screen Size': '15.6 inches', 'Processor Brand': 'Intel UHD', 'Processor Speed': '1.7GHz'}, {'title': 'Dell Vostro 15 3520 i3 1215U (5M2TT1) (Intel UHD, 15.6 inches, 1.2GHz)', 'Screen Size': '15.6 inches', 'Processor Brand': 'Intel UHD', 'Processor Speed': '1.2GHz'}, {'title': 'Dell Inspiron 15 3530 i5 1335U (N3530-i5U085W11BLU) (Intel UHD, 15.6 inches, 1.3GHz)', 'Screen Size': '15.6 inches', 'Processor Brand': 'Intel UHD', 'Processor Speed': '1.3GHz'}, {'title': 'Dell Vostro 14 3430 i5 1335U (71011900) (Intel UHD, 14 inches, 1.3GHz)', 'Screen Size': '14 inches', 'Processor Brand': 'Intel UHD', 'Processor Speed': '1.3GHz'}, {'title': 'Dell Inspiron 15 3530 i5 1335U (71014840) (MX550 2GB, 15.6 inches, 1.3GHz)', 'Screen Size': '15.6 inches', 'Processor Brand': 'MX550 2GB', 'Processor Speed': '1.3GHz'}, {'title': 'Dell Inspiron 15 3530 i5 1335U (N5I5791W1) (Intel Iris Xe, 15.6 inches, 1.3GHz)', 'Screen Size': '15.6 inches', 'Processor Brand': 'Intel Iris Xe', 'Processor Speed': '1.3GHz'}, {'title': 'Dell Inspiron 14 7430 2-in-1 i7 1355U (i7U165W11SLU) (Intel Iris Xe, 14 inches, 1.7GHz)', 'Screen Size': '14 inches', 'Processor Brand': 'Intel Iris Xe', 'Processor Speed': '1.7GHz'}, {'title': 'Dell Inspiron 15 3520 i5 1235U (N5I5122W1) (Intel UHD, 15.6 inches, 1.3GHz)', 'Screen Size': '15.6 inches', 'Processor Brand': 'Intel UHD', 'Processor Speed': '1.3GHz'}, {'title': 'Dell Inspiron 14 T7430 i5 1335U (N7430I58W1) (Intel Iris Xe, 14 inches, 1.3GHz)', 'Screen Size': '14 inches', 'Processor Brand': 'Intel Iris Xe', 'Processor Speed': '1.3GHz'}, {'title': 'Dell Precision 16 5680 i9 13900H (71024680) (RTX A2000 8GB, 16 inches, 2.6GHz)', 'Screen Size': '16 inches', 'Processor Brand': 'RTX A2000 8GB', 'Processor Speed': '2.6GHz'}, {'title': 'Dell Precision 16 7680 i9 13950HX (71024676) (RTX A2000 8GB, 16 inches, 2.2GHz)', 'Screen Size': '16 inches', 'Processor Brand': 'RTX A2000 8GB', 'Processor Speed': '2.2GHz'}, {'title': 'Dell Precision 16 7680 i7 13850HX (71024681) (RTX A2000 8GB, 16 inches, 2.1GHz)', 'Screen Size': '16 inches', 'Processor Brand': 'RTX A2000 8GB', 'Processor Speed': '2.1GHz'}, {'title': 'Dell Precision 15 3581 i7 13800H (71024679) (RTX A1000 6GB, 15.6 inches, 2.5GHz)', 'Screen Size': '15.6 inches', 'Processor Brand': 'RTX A1000 6GB', 'Processor Speed': '2.5GHz'}, {'title': 'Dell Precision 15 3581 i7 13800H (71024677) (RTX A500 4GB, 15.6 inches, 2.5GHz)', 'Screen Size': '15.6 inches', 'Processor Brand': 'RTX A500 4GB', 'Processor Speed': '2.5GHz'}, {'title': 'Dell Precision 14 3480 i7 12800H (71024682) (RTX A500 4GB, 14 inches, 2.4GHz)', 'Screen Size': '14 inches', 'Processor Brand': 'RTX A500 4GB', 'Processor Speed': '2.4GHz'}, {'title': 'Dell Gaming G15 5530 i7 13650HX (i7H165W11GR4060) (RTX 4060 8GB, 15.6 inches, 2.6GHz)', 'Screen Size': '15.6 inches', 'Processor Brand': 'RTX 4060 8GB', 'Processor Speed': '2.6GHz'}, {'title': 'Dell Inspiron 14 5430 i7 1360P (71015633) (RTX 2050 4GB, 14 inches, 2.2GHz)', 'Screen Size': '14 inches', 'Processor Brand': 'RTX 2050 4GB', 'Processor Speed': '2.2GHz'}, {'title': 'Dell Inspiron 14 5430 i5 1340P (N5430-i5P165W11SL2050) (RTX 2050 4GB, 14 inches, 1.9GHz)', 'Screen Size': '14 inches', 'Processor Brand': 'RTX 2050 4GB', 'Processor Speed': '1.9GHz'}, {'title': 'Dell Inspiron 16 5630 i5 1335U (71020244) (Intel Iris Xe, 16 inches, 1.3GHz)', 'Screen Size': '16 inches', 'Processor Brand': 'Intel Iris Xe', 'Processor Speed': '1.3GHz'}, {'title': 'Dell Vostro 14 3430 i5 1335U (60YGM) (MX550 2GB, 14 inches, 1.3GHz)', 'Screen Size': '14 inches', 'Processor Brand': 'MX550 2GB', 'Processor Speed': '1.3GHz'}, {'title': 'Dell Inspiron 15 3520 i5 1235U (N5I5011W1) (Intel Iris Xe, 15.6 inches, 1.3GHz)', 'Screen Size': '15.6 inches', 'Processor Brand': 'Intel Iris Xe', 'Processor Speed': '1.3GHz'}, {'title': 'Dell Vostro 15 3520 i5 1235U (5M2TT2) (Intel UHD, 15.6 inches, 1.3GHz)', 'Screen Size': '15.6 inches', 'Processor Brand': 'Intel UHD', 'Processor Speed': '1.3GHz'}, {'title': 'Dell Vostro 15 3530 i3 1305U (V5I3465W1) (Intel UHD, 15.6 inches, 1.6GHz)', 'Screen Size': '15.6 inches', 'Processor Brand': 'Intel UHD', 'Processor Speed': '1.6GHz'}, {'title': 'MSI Modern 14 C11M i3 1115G4 (011VN) (Intel UHD, 14 inches, 3GHz)', 'Screen Size': '14 inches', 'Processor Brand': 'Intel UHD', 'Processor Speed': '3GHz'}, {'title': 'MSI Gaming GF63 Thin 12UCX i5 12450H (873VN) (RTX 2050 4GB, 15.6 inches, 2GHz)', 'Screen Size': '15.6 inches', 'Processor Brand': 'RTX 2050 4GB', 'Processor Speed': '2GHz'}, {'title': 'MSI Modern 15 B7M R5 7530U (231VN) (Radeon, 15.6 inches, 2GHz)', 'Screen Size': '15.6 inches', 'Processor Brand': 'Radeon', 'Processor Speed': '2GHz'}, {'title': 'MSI Modern 15 B12MO i5 1235U (625VN) (Intel Iris Xe, 15.6 inches, 1.3GHz)', 'Screen Size': '15.6 inches', 'Processor Brand': 'Intel Iris Xe', 'Processor Speed': '1.3GHz'}, {'title': 'MSI Gaming GF63 12UC i5 12450H (803VN) (RTX 3050 4GB, 15.6 inches, 2GHz)', 'Screen Size': '15.6 inches', 'Processor Brand': 'RTX 3050 4GB', 'Processor Speed': '2GHz'}, {'title': 'MSI Gaming Bravo 15 B7ED R5 7535HS (010VN) (RX 6550M 4GB, 15.6 inches, 3.3GHz)', 'Screen Size': '15.6 inches', 'Processor Brand': 'RX 6550M 4GB', 'Processor Speed': '3.3GHz'}, {'title': 'MSI Gaming GF63 Thin 11UC i7 11800H (1228VN) (RTX 3050 Max-Q, 4GB, 15.6 inches, 2.30 GHz)', 'Screen Size': '15.6 inches', 'Processor Brand': 'RTX 3050 Max-Q, 4GB', 'Processor Speed': '2.30 GHz'}, {'title': 'MSI Gaming GF63 Thin 12VE i5 12450H (460VN) (RTX 4050 6GB, 15.6 inches, 2GHz)', 'Screen Size': '15.6 inches', 'Processor Brand': 'RTX 4050 6GB', 'Processor Speed': '2GHz'}, {'title': 'MSI Gaming GF63 12UCX i5 12450H (841VN) (RTX 2050 4GB, 15.6 inches, 2GHz)', 'Screen Size': '15.6 inches', 'Processor Brand': 'RTX 2050 4GB', 'Processor Speed': '2GHz'}, {'title': 'MSI Modern 15 B12MO i5 1235U (628VN) (Intel Iris Xe, 15.6 inches, 1.3GHz)', 'Screen Size': '15.6 inches', 'Processor Brand': 'Intel Iris Xe', 'Processor Speed': '1.3GHz'}, {'title': 'MSI Modern 14 C7M R5 7530U (083VN) (Radeon, 14 inches, 2GHz)', 'Screen Size': '14 inches', 'Processor Brand': 'Radeon', 'Processor Speed': '2GHz'}, {'title': 'MSI Gaming Katana GF66 12UCK i7 12650H (804VN) (RTX 3050 4GB, 15.6 inches, 2.30 GHz)', 'Screen Size': '15.6 inches', 'Processor Brand': 'RTX 3050 4GB', 'Processor Speed': '2.30 GHz'}, {'title': 'MSI Gaming GF63 Thin 11UC i5 11400H (1230VN) (RTX 3050 Max-Q, 4GB, 15.6 inches, 2.7GHz)', 'Screen Size': '15.6 inches', 'Processor Brand': 'RTX 3050 Max-Q, 4GB', 'Processor Speed': '2.7GHz'}, {'title': 'MSI Gaming Thin A15 B7UCX R5 7535HS (020VN) (RTX 2050 4GB, 15.6 inches, 3.3GHz)', 'Screen Size': '15.6 inches', 'Processor Brand': 'RTX 2050 4GB', 'Processor Speed': '3.3GHz'}, {'title': 'MSI Modern 15 B12MO i7 1255U (487VN) (Intel Iris Xe, 15.6 inches, 1.7GHz)', 'Screen Size': '15.6 inches', 'Processor Brand': 'Intel Iris Xe', 'Processor Speed': '1.7GHz'}, {'title': 'MSI Modern 15 B13M i5 1335U (438VN) (Intel Iris Xe, 15.6 inches, 1.3GHz)', 'Screen Size': '15.6 inches', 'Processor Brand': 'Intel Iris Xe', 'Processor Speed': '1.3GHz'}, {'title': 'MSI Gaming GF63 Thin 11SC i5 11400H (664VN) (GTX 1650 Max-Q 4GB, 15.6 inches, 2.7GHz)', 'Screen Size': '15.6 inches', 'Processor Brand': 'GTX 1650 Max-Q 4GB', 'Processor Speed': '2.7GHz'}, {'title': 'MSI Modern 15 B7M R7 7730U (238VN) (Radeon, 15.6 inches, 2GHz)', 'Screen Size': '15.6 inches', 'Processor Brand': 'Radeon', 'Processor Speed': '2GHz'}, {'title': 'MSI Prestige 14 Evo B13M i5 13500H (401VN) (Intel Iris Xe, 14 inches, 2.6GHz)', 'Screen Size': '14 inches', 'Processor Brand': 'Intel Iris Xe', 'Processor Speed': '2.6GHz'}, {'title': 'MSI Gaming Sword 16 HX B14VFKG i7 14700HX (045VN) (RTX 4060 8GB, 16 inches, 2.1GHz)', 'Screen Size': '16 inches', 'Processor Brand': 'RTX 4060 8GB', 'Processor Speed': '2.1GHz'}, {'title': 'MSI Gaming Titan 18 HX A14VIG i9 14900HX (205VN) (RTX 4090 16GB, 18 inches, 2.2GHz)', 'Screen Size': '18 inches', 'Processor Brand': 'RTX 4090 16GB', 'Processor Speed': '2.2GHz'}, {'title': 'MSI Gaming Stealth 16 AI Studio A1VGG Ultra 9 185H (089VN) (RTX 4070 8GB, 16 inches, 2.30 GHz)', 'Screen Size': '16 inches', 'Processor Brand': 'RTX 4070 8GB', 'Processor Speed': '2.30 GHz'}, {'title': 'MSI Prestige 16 AI Studio B1VFG Ultra 9 185H (082VN) (RTX 4060 8GB, 16 inches, 2.30 GHz)', 'Screen Size': '16 inches', 'Processor Brand': 'RTX 4060 8GB', 'Processor Speed': '2.30 GHz'}, {'title': 'MSI Gaming Stealth 14 AI Studio A1VFG Ultra 7 155H (050VN) (RTX 4060 8GB, 14 inches, 1.4GHz)', 'Screen Size': '14 inches', 'Processor Brand': 'RTX 4060 8GB', 'Processor Speed': '1.4GHz'}, {'title': 'MSI Prestige 16 Studio A13VE i7 13700H (214VN) (RTX 4050 6GB, 16 inches, 2.4GHz)', 'Screen Size': '16 inches', 'Processor Brand': 'RTX 4050 6GB', 'Processor Speed': '2.4GHz'}, {'title': 'MSI Gaming Sword 16 HX B14VEKG i7 14700HX (039VN) (RTX 4050 6GB, 16 inches, 2.1GHz)', 'Screen Size': '16 inches', 'Processor Brand': 'RTX 4050 6GB', 'Processor Speed': '2.1GHz'}, {'title': 'MSI Prestige 13 AI Evo A1MG Ultra 7 155H (062VN) (Intel Arc Graphics, 13.3 inches, 1.4GHz)', 'Screen Size': '13.3 inches', 'Processor Brand': 'Intel Arc Graphics', 'Processor Speed': '1.4GHz'}, {'title': 'MSI Gaming Katana A15 AI B8VF R7 8845HS (419VN) (RTX 4060 8GB, 15.6 inches, 3.8GHz)', 'Screen Size': '15.6 inches', 'Processor Brand': 'RTX 4060 8GB', 'Processor Speed': '3.8GHz'}, {'title': 'MSI Gaming Cyborg 15 AI A1VEK Ultra 7 155H (053VN) (RTX 4050 6GB, 15.6 inches, 1.4GHz)', 'Screen Size': '15.6 inches', 'Processor Brand': 'RTX 4050 6GB', 'Processor Speed': '1.4GHz'}, {'title': 'MSI Gaming Katana 15 B13VFK i7 13620H (676VN) (RTX 4060 8GB, 15.6 inches, 2.4GHz)', 'Screen Size': '15.6 inches', 'Processor Brand': 'RTX 4060 8GB', 'Processor Speed': '2.4GHz'}, {'title': 'MSI Gaming Katana A15 AI B8VE R7 8845HS (402VN) (RTX 4050 6GB, 15.6 inches, 3.8GHz)', 'Screen Size': '15.6 inches', 'Processor Brand': 'RTX 4050 6GB', 'Processor Speed': '3.8GHz'}, {'title': 'MSI Gaming Cyborg 15 A12UCX i5 12450H (281VN) (RTX 2050 4GB, 15.6 inches, 2GHz)', 'Screen Size': '15.6 inches', 'Processor Brand': 'RTX 2050 4GB', 'Processor Speed': '2GHz'}, {'title': 'HP 245 G10 R5-7520U (9H8X8PT) (Ryzen 5, 14 inches)', 'Screen Size': '14 inches', 'Processor Brand': 'Ryzen 5', 'Processor Speed': 'I do not know.'}, {'title': 'Asus Vivobook E1404FA-NK186W R5 7520U (Ryzen 5, 14.0 inches)', 'Screen Size': '14.0 inches', 'Processor Brand': 'Ryzen 5', 'Processor Speed': 'I do not know.'}, {'title': 'Lenovo Gaming LOQ - 15IAX9 i5 12450HX (83GS000GVN) (Core i5, 15.6 inches)', 'Screen Size': '15.6 inches', 'Processor Brand': 'Core i5', 'Processor Speed': 'I do not know.'}, {'title': 'HP 14s-em0086AU R5 7520U (835T9PA) (Ryzen 5, 14 inches)', 'Screen Size': '14 inches', 'Processor Brand': 'Ryzen 5', 'Processor Speed': 'I do not know.'}, {'title': 'MSI Modern 14 C7M-221VN R7 7730U (Ryzen 7, 14.0 inches)', 'Screen Size': '14.0 inches', 'Processor Brand': 'Ryzen 7', 'Processor Speed': 'I do not know.'}, {'title': 'Acer Aspire 3 A315-44P-R5QG R7-5700U (Ryzen 7, 15.6 inches)', 'Screen Size': '15.6 inches', 'Processor Brand': 'Ryzen 7', 'Processor Speed': 'I do not know.'}, {'title': 'HP Pavilion Aero 13-be2098AU R7 7735U (8C5K5PA) (Ryzen 7, 13.3 inches)', 'Screen Size': '13.3 inches', 'Processor Brand': 'Ryzen 7', 'Processor Speed': 'I do not know.'}, {'title': 'Asus TUF Gaming FX507ZC4-HN095W i5 12500H (Core i5, 15.6 inches)', 'Screen Size': '15.6 inches', 'Processor Brand': 'Core i5', 'Processor Speed': 'I do not know.'}, {'title': 'Lenovo Ideapad 3 15IAU7 i7 1255U (82RK00W4VN) (Core i7, 15.6 inches)', 'Screen Size': '15.6 inches', 'Processor Brand': 'Core i7', 'Processor Speed': 'I do not know.'}, {'title': 'MSI Modern 14 C7M-220VN R5 7530U (Ryzen 5, 14.0 inches)', 'Screen Size': '14.0 inches', 'Processor Brand': 'Ryzen 5', 'Processor Speed': 'I do not know.'}, {'title': 'Asus TUF Gaming FX506HF-HN017W i5 11400H (Core i5, 15.6 inches)', 'Screen Size': '15.6 inches', 'Processor Brand': 'Core i5', 'Processor Speed': 'I do not know.'}, {'title': 'Dell Inspiron 15 N3530 i5 1335U (N5I5489W1) (Core i5, 15.6 inches)', 'Screen Size': '15.6 inches', 'Processor Brand': 'Core i5', 'Processor Speed': 'I do not know.'}, {'title': 'Asus Vivobook X1404ZA-NK387W i3 1215U (Core i3, 14 inches)', 'Screen Size': '14 inches', 'Processor Brand': 'Core i3', 'Processor Speed': 'I do not know.'}, {'title': 'Lenovo IdeaPad 3 14IAH8 i5 12450H (83EQ0005VN) (Core i5, 14.0 inches)', 'Screen Size': '14.0 inches', 'Processor Brand': 'Core i5', 'Processor Speed': 'I do not know.'}, {'title': 'MSI Gaming Thin GF63 12VE-454VN i5 12450H (Core i5, 15.6 inches)', 'Screen Size': '15.6 inches', 'Processor Brand': 'Core i5', 'Processor Speed': 'I do not know.'}, {'title': 'Dell Inspiron 15 N3520 i5 1235U_N5I5011W1 (Core i5, 15.6 inches)', 'Screen Size': '15.6 inches', 'Processor Brand': 'Core i5', 'Processor Speed': 'I do not know.'}, {'title': 'Asus Vivobook 15 OLED A1505VA-L1113W i5 13500H (Core i5, 15.6 inches)', 'Screen Size': '15.6 inches', 'Processor Brand': 'Core i5', 'Processor Speed': 'I do not know.'}, {'title': 'HP 245 G10 R5 7520U (8F154PA) (Ryzen 5, 14.0 inches)', 'Screen Size': '14.0 inches', 'Processor Brand': 'Ryzen 5', 'Processor Speed': 'I do not know.'}, {'title': 'Acer Aspire 7 Gaming A715-76-57CY i5 12450H (NH.QGESV.004) (Core i5, 15.6 inches)', 'Screen Size': '15.6 inches', 'Processor Brand': 'Core i5', 'Processor Speed': 'I do not know.'}, {'title': 'HP Pavilion 14-dv2073TU i5 1235U (7C0P2PA) (Core i5, 14.0 inches)', 'Screen Size': '14.0 inches', 'Processor Brand': 'Core i5', 'Processor Speed': 'I do not know.'}, {'title': 'Asus Vivobook X1504VA-NJ526W i5 1335U (Core i5, 15.6 inches)', 'Screen Size': '15.6 inches', 'Processor Brand': 'Core i5', 'Processor Speed': 'I do not know.'}, {'title': 'Lenovo IdeaPad 1 15ALC7 R5 5500U (82R400BYVN) (Ryzen 5, 15.6 inches)', 'Screen Size': '15.6 inches', 'Processor Brand': 'Ryzen 5', 'Processor Speed': 'I do not know.'}, {'title': 'Laptop HP 15s-fq5144TU i7-1255U (Core i7, 15.6 inches)', 'Screen Size': '15.6 inches', 'Processor Brand': 'Core i7', 'Processor Speed': 'I do not know.'}, {'title': 'Asus Vivobook M3504YA-L1268W R5 7530U (Ryzen 5, 15.6 inches)', 'Screen Size': '15.6 inches', 'Processor Brand': 'Ryzen 5', 'Processor Speed': 'I do not know.'}, {'title': 'HP 14s-em0078AU R5 7520U (80R28PA) (Ryzen 5, 14 inches)', 'Screen Size': '14 inches', 'Processor Brand': 'Ryzen 5', 'Processor Speed': 'I do not know.'}, {'title': 'Huawei MateBook D15 R7 5700U (Ryzen 7, 15.6 inches)', 'Screen Size': '15.6 inches', 'Processor Brand': 'Ryzen 7', 'Processor Speed': 'I do not know.'}, {'title': 'Asus Vivobook Flip TN3402YA-LZ188W R5 7530U (Ryzen 5, 14.0 inches)', 'Screen Size': '14.0 inches', 'Processor Brand': 'Ryzen 5', 'Processor Speed': 'I do not know.'}, {'title': 'HP Pavilion 14-dv2071TU i7 1255U (7C0W0PA) (Core i7, 14 inches)', 'Screen Size': '14 inches', 'Processor Brand': 'Core i7', 'Processor Speed': 'I do not know.'}, {'title': 'MSI Gaming GF63 Thin 11UC-1228VN i7 11800H (Core i7, 15,6 inches)', 'Screen Size': '15,6 inches', 'Processor Brand': 'Core i7', 'Processor Speed': 'I do not know.'}, {'title': 'HP Pavilion 14-dv2075TU i5 1235U (7C0W2PA) (Core i5, 14.0 inches)', 'Screen Size': '14.0 inches', 'Processor Brand': 'Core i5', 'Processor Speed': 'I do not know.'}, {'title': 'Dell Vostro V3520 i5 1235U_71030559 (Core i5, 156 inches)', 'Screen Size': '156 inches', 'Processor Brand': 'Core i5', 'Processor Speed': 'I do not know.'}, {'title': 'Asus Vivobook 16 X1605ZA-MB193W i3 1215U (Core i3, 16.0 inches)', 'Screen Size': '16.0 inches', 'Processor Brand': 'Core i3', 'Processor Speed': 'I do not know.'}, {'title': 'Acer Aspire 3 A315-510P-34XZ i3 N305 (Core i3, 15.6 inches)', 'Screen Size': '15.6 inches', 'Processor Brand': 'Core i3', 'Processor Speed': 'I do not know.'}, {'title': 'Asus Vivobook A1405VA-KM257W i5 13500H (Core i5, 14 inches)', 'Screen Size': '14 inches', 'Processor Brand': 'Core i5', 'Processor Speed': 'I do not know.'}, {'title': 'Dell Inspiron 15 N3530 i7 1355U (N3530I716W1) (Core i7, 15.6 inches)', 'Screen Size': '15.6 inches', 'Processor Brand': 'Core i7', 'Processor Speed': 'I do not know.'}, {'title': 'MSI Gaming GF63 12UCX-841VN i5 12450H (Core i5, 15.6 inches)', 'Screen Size': '15.6 inches', 'Processor Brand': 'Core i5', 'Processor Speed': 'I do not know.'}, {'title': 'Acer Aspire 7 Gaming A715-76G-5806 i5 12450H (NH.QMFSV.002) (Core i5, 15.6 inches)', 'Screen Size': '15.6 inches', 'Processor Brand': 'Core i5', 'Processor Speed': 'I do not know.'}, {'title': 'Laptop Acer Aspire Lite AL15-51M-55NB i5-1155G7 (Core i5, 15.6 inches)', 'Screen Size': '15.6 inches', 'Processor Brand': 'Core i5', 'Processor Speed': 'I do not know.'}, {'title': 'Gigabyte Gaming G5 MF-F2VN313SH i5 12450H (Core i5, 15.6 inches)', 'Screen Size': '15.6 inches', 'Processor Brand': 'Core i5', 'Processor Speed': 'I do not know.'}, {'title': 'Asus Vivobook A1405VA-KM059W i5 13500H (Core i5, 14 inches)', 'Screen Size': '14 inches', 'Processor Brand': 'Core i5', 'Processor Speed': 'I do not know.'}, {'title': 'Asus TUF Gaming FA507NU-LP045W R7 7735HS (Ryzen 7, 15.6 inches)', 'Screen Size': '15.6 inches', 'Processor Brand': 'Ryzen 7', 'Processor Speed': 'I do not know.'}, {'title': 'Asus Vivobook Pro K3405VC-KM070W i9 13900H (Core i9, 14.0 inches)', 'Screen Size': '14.0 inches', 'Processor Brand': 'Core i9', 'Processor Speed': 'I do not know.'}, {'title': 'Lenovo IdeaPad Slim 5 Light 14ABR8 R5 7530U (82XS0006VN) (Ryzen 5, 14 inches)', 'Screen Size': '14 inches', 'Processor Brand': 'Ryzen 5', 'Processor Speed': 'I do not know.'}, {'title': 'Asus TUF Gaming FX506HC-HN144W i5 11400H (Core i5, 15.6 inches)', 'Screen Size': '15.6 inches', 'Processor Brand': 'Core i5', 'Processor Speed': 'I do not know.'}, {'title': 'HP 15-fd0083TU i7 1355U (8D736PA) (Core i7, 15.6 inches)', 'Screen Size': '15.6 inches', 'Processor Brand': 'Core i7', 'Processor Speed': 'I do not know.'}, {'title': 'Lenovo IdeaPad Slim 5 16IAH8 i5 12450H (83BG001XVN) (Core i5, 16 inches)', 'Screen Size': '16 inches', 'Processor Brand': 'Core i5', 'Processor Speed': 'I do not know.'}, {'title': 'HP Pavilion 15-eg3112TU i7 1355U (8U6L9PA) (Core i7, 15.6 inches)', 'Screen Size': '15.6 inches', 'Processor Brand': 'Core i7', 'Processor Speed': 'I do not know.'}, {'title': 'Acer Gaming Aspire 5 A515-58GM-53CM i5 13420H (Core i5, 15.6 inches)', 'Screen Size': '15.6 inches', 'Processor Brand': 'Core i5', 'Processor Speed': 'I do not know.'}, {'title': 'Lenovo ThinkBook 14 G6 IRL i5-13500H (21KG00BXVN) (Core i5, 14 inches)', 'Screen Size': '14 inches', 'Processor Brand': 'Core i5', 'Processor Speed': 'I do not know.'}, {'title': 'MSI Gaming GF63 Thin 12UC-1006VN i5 12450H (Core i5, 15.6 inches)', 'Screen Size': '15.6 inches', 'Processor Brand': 'Core i5', 'Processor Speed': 'I do not know.'}, {'title': 'MSI Gaming Alpha 15 B5EEK-203VN R5 5600H (Ryzen 5, 15.6 inches)', 'Screen Size': '15.6 inches', 'Processor Brand': 'Ryzen 5', 'Processor Speed': 'I do not know.'}, {'title': 'MSI Modern 15 B12MO-628VN i5 1235U (Core i5, 15.6 inches)', 'Screen Size': '15.6 inches', 'Processor Brand': 'Core i5', 'Processor Speed': 'I do not know.'}, {'title': 'Máy tính xách tay MSI Summit E14Evo A12M-211VN i7-1280P/16GB/512GB/14\"FHD/Win11_Túi_Chuột_Đen (Core i7, 14.0 inches)', 'Screen Size': '14.0 inches', 'Processor Brand': 'Core i7', 'Processor Speed': 'I do not know.'}, {'title': 'Máy tính xách tay MSI Gaming Raider GE77HX 12UHS-229VN i9-12900HX/64G/2T/17.3UHD/RTX3080Ti_16G/Win11 (Core i9, 17.3 inches)', 'Screen Size': '17.3 inches', 'Processor Brand': 'Core i9', 'Processor Speed': 'I do not know.'}, {'title': 'MacBook Pro 16 2023 M2 Pro 12CPU 19GPU 16GB/1TB (M2 Pro, 16.2 inches)', 'Screen Size': '16.2 inches', 'Processor Brand': 'M2 Pro', 'Processor Speed': 'I do not know.'}, {'title': 'MacBook Pro 14 2023 M3 Pro 12 CPU/18 GPU/18GB/1TB (M3 Pro, 14.2 inches)', 'Screen Size': '14.2 inches', 'Processor Brand': 'M3 Pro', 'Processor Speed': 'I do not know.'}, {'title': 'MacBook Pro 14 2023 M3 Pro 11 CPU/14 GPU/18GB/512GB (M3 Pro, 14.2 inches)', 'Screen Size': '14.2 inches', 'Processor Brand': 'M3 Pro', 'Processor Speed': 'I do not know.'}, {'title': 'Lenovo ThinkPad X1 Carbon Gen 9 i7-1165G7/20XW00GDVN (Core i7, 14.0 inches)', 'Screen Size': '14.0 inches', 'Processor Brand': 'Core i7', 'Processor Speed': 'I do not know.'}, {'title': 'LG Gram 16Z90R-G.AH76A5 i7-1360P (Core i7, 16.0 inches)', 'Screen Size': '16.0 inches', 'Processor Brand': 'Core i7', 'Processor Speed': 'I do not know.'}, {'title': 'MacBook Pro 14 2023 M3 8 CPU/10 GPU/8GB/512GB (M3, 14.2 inches)', 'Screen Size': '14.2 inches', 'Processor Brand': 'M3', 'Processor Speed': 'I do not know.'}, {'title': 'Máy tính xách tay MSI Gaming Katana 15 B13VGK-1211VN i7-13620H/16G/1T/15.6\"FHD/RTX4070_8G/Win11_Balo (Core i7, 15.6 inches)', 'Screen Size': '15.6 inches', 'Processor Brand': 'Core i7', 'Processor Speed': 'I do not know.'}, {'title': 'MSI Creator M16 B13VE-830VN i7 13700H (Core i7, 16.0 inches)', 'Screen Size': '16.0 inches', 'Processor Brand': 'Core i7', 'Processor Speed': 'I do not know.'}, {'title': 'Acer Swift Edge SFA16-41-R3L6 R7 6800U (NX.KABSV.002) (Ryzen 7, 16.0 inches)', 'Screen Size': '16.0 inches', 'Processor Brand': 'Ryzen 7', 'Processor Speed': 'I do not know.'}, {'title': 'Asus Zenbook 14 OLED UX3405MA-PP152W Core Ultra 7-155H (Core Ultra 7, 14 inches)', 'Screen Size': '14 inches', 'Processor Brand': 'Core Ultra 7', 'Processor Speed': 'I do not know.'}, {'title': 'Laptop Asus TUF Gaming FX507VV-LP181W i7-13620H (Core i7, 15.6 inches)', 'Screen Size': '15.6 inches', 'Processor Brand': 'Core i7', 'Processor Speed': 'I do not know.'}, {'title': 'LG Gram 14Z90R-G.AH75A5 i7 1360P (Core i7, 14 inches)', 'Screen Size': '14 inches', 'Processor Brand': 'Core i7', 'Processor Speed': 'I do not know.'}, {'title': 'Asus TUF Gaming F15 FX507VU-LP197W i7-13620H (Core i7, 15.6 inches)', 'Screen Size': '15.6 inches', 'Processor Brand': 'Core i7', 'Processor Speed': 'I do not know.'}, {'title': 'LG Gram 14T90R-G.AH55A5 i5-1340P (Core i5, 14.0 inches)', 'Screen Size': '14.0 inches', 'Processor Brand': 'Core i5', 'Processor Speed': 'I do not know.'}, {'title': 'Asus Zenbook Flip UP3404VA-KN039W i7 1360P (Core i7, 14 inches)', 'Screen Size': '14 inches', 'Processor Brand': 'Core i7', 'Processor Speed': 'I do not know.'}, {'title': 'MSI Gaming Cyborg 15 AI A1VE-053VN Ultra 7 155H (Core Ultra 7, 15.6 inches)', 'Screen Size': '15.6 inches', 'Processor Brand': 'Core Ultra 7', 'Processor Speed': 'I do not know.'}, {'title': 'MacBook Air M2 13 2022 8CPU 8GPU 16GB 256GB (M2, 13.6 inches)', 'Screen Size': '13.6 inches', 'Processor Brand': 'M2', 'Processor Speed': 'I do not know.'}, {'title': 'Lenovo Gaming LOQ - 15IRX9 i7 13650HX (83DV000NVN) (Core i7, 15.6 inches)', 'Screen Size': '15.6 inches', 'Processor Brand': 'Core i7', 'Processor Speed': 'I do not know.'}, {'title': 'MSI Gaming Katana 15 B13VFK-676VN i7 13620H (Core i7, 15.6 inches)', 'Screen Size': '15.6 inches', 'Processor Brand': 'Core i7', 'Processor Speed': 'I do not know.'}, {'title': 'Asus TUF Gaming FX507ZV4-LP042W i7 12700H (Core i7, 15.6 inches)', 'Screen Size': '15.6 inches', 'Processor Brand': 'Core i7', 'Processor Speed': 'I do not know.'}, {'title': 'Dell Inspiron 14 2in1 T7430 i7 1355U (P172G001) (Core i7, 14 inches)', 'Screen Size': '14 inches', 'Processor Brand': 'Core i7', 'Processor Speed': 'I do not know.'}, {'title': 'Asus Vivobook Pro K6502VU-MA089W i5 13500H (Core i5, 15.6 inches)', 'Screen Size': '15.6 inches', 'Processor Brand': 'Core i5', 'Processor Speed': 'I do not know.'}, {'title': 'Asus Zenbook 14 OLED UX3405MA-PP151W Core Ultra 5-125H (Ultra 5 Meteor LakeCore Ultra 5, 14 inches)', 'Screen Size': '14 inches', 'Processor Brand': 'Ultra 5 Meteor LakeCore Ultra 5', 'Processor Speed': 'I do not know.'}, {'title': 'Asus Zenbook 14 OLED UX3405MA-PP588W Ultra 5-125H (Ultra 5 Meteor Lake, 14 inches)', 'Screen Size': '14 inches', 'Processor Brand': 'Ultra 5 Meteor Lake', 'Processor Speed': 'I do not know.'}, {'title': 'Gigabyte Gaming G6 KF-H3VN853SH i7-13620H (Core i7Core i7, 16 inches)', 'Screen Size': '16 inches', 'Processor Brand': 'Core i7Core i7', 'Processor Speed': 'I do not know.'}, {'title': 'MacBook Air 15 inch M2 2023 8 CPU/10 GPU/8 GB/256 GB (M2, 15.0 inches)', 'Screen Size': '15.0 inches', 'Processor Brand': 'M2', 'Processor Speed': 'I do not know.'}, {'title': 'MSI Prestige 13Evo A13M-081VN i7 1360P (Core i7, 13.3 inches)', 'Screen Size': '13.3 inches', 'Processor Brand': 'Core i7', 'Processor Speed': 'I do not know.'}, {'title': 'Asus Zenbook 14 OLED UX3402VA-KM068W i7 1360P (Core i7, 14 inches)', 'Screen Size': '14 inches', 'Processor Brand': 'Core i7', 'Processor Speed': 'I do not know.'}, {'title': 'Acer Nitro V Gaming ANV15-51-55CA i5 13420H (NH.QN8SV.004) (Core i5, 15.6 inches)', 'Screen Size': '15.6 inches', 'Processor Brand': 'Core i5', 'Processor Speed': 'I do not know.'}, {'title': 'Asus TUF Gaming FX507ZV4-LP041W i7 12700H (Core i7, 15.6 inches)', 'Screen Size': '15.6 inches', 'Processor Brand': 'Core i7', 'Processor Speed': 'I do not know.'}, {'title': 'Asus TUF Gaming FA507NV-LP046W R7 7735HS (Ryzen 7, 15.6 inches)', 'Screen Size': '15.6 inches', 'Processor Brand': 'Ryzen 7', 'Processor Speed': 'I do not know.'}, {'title': 'Asus TUF Gaming A15 FA507NV-LP110W R5-7535HS (Ryzen 5, 15.6 inches)', 'Screen Size': '15.6 inches', 'Processor Brand': 'Ryzen 5', 'Processor Speed': 'I do not know.'}, {'title': 'Macbook Air 13 2020 M1/16GB/256GB SSD (M1, 13.3 inches)', 'Screen Size': '13.3 inches', 'Processor Brand': 'M1', 'Processor Speed': 'I do not know.'}, {'title': 'Acer Swift 3 SF314-512-741L i7 1260P (NX.K7JSV.001) (Core i7, 14.0 inches)', 'Screen Size': '14.0 inches', 'Processor Brand': 'Core i7', 'Processor Speed': 'I do not know.'}, {'title': 'Asus Zenbook Flip UP3404VA-KN038W i5 1340P (Core i5, 14 inches)', 'Screen Size': '14 inches', 'Processor Brand': 'Core i5', 'Processor Speed': 'I do not know.'}, {'title': 'MacBook Air M2 13 2022 8CPU 8GPU 8GB 256GB (M2, 13.6 inches)', 'Screen Size': '13.6 inches', 'Processor Brand': 'M2', 'Processor Speed': 'I do not know.'}, {'title': 'Gigabyte Gaming G5 MF5-H2VN353SH i7 13620H (Core i7Core i7, 15.6 inches)', 'Screen Size': '15.6 inches', 'Processor Brand': 'Core i7Core i7', 'Processor Speed': 'I do not know.'}, {'title': 'HP ProBook 440 G10 i7 1360P (873C1PA) (Core i7, 14.0 inches)', 'Screen Size': '14.0 inches', 'Processor Brand': 'Core i7', 'Processor Speed': 'I do not know.'}, {'title': 'Acer Nitro Gaming AN515-58-769J i7 12700H (NH.QFHSV.003) (Core i7, 15.6 inches)', 'Screen Size': '15.6 inches', 'Processor Brand': 'Core i7', 'Processor Speed': 'I do not know.'}, {'title': 'Gigabyte Gaming G5 KF-E3VN313SH i5 12500H (Core i5, 15,6 inches)', 'Screen Size': '15,6 inches', 'Processor Brand': 'Core i5', 'Processor Speed': 'I do not know.'}, {'title': 'Dell Inspiron 14 2in1 T7430 i5 1335U (N7430I58W1) (Core i5, 14.0 inches)', 'Screen Size': '14.0 inches', 'Processor Brand': 'Core i5', 'Processor Speed': 'I do not know.'}, {'title': 'Asus Vivobook Flip TP3402VA-LZ118W i9 13900H (Core i9, 14 inches)', 'Screen Size': '14 inches', 'Processor Brand': 'Core i9', 'Processor Speed': 'I do not know.'}, {'title': 'Lenovo Yoga Slim 6 14IRH8 i7 13700H (83E0000VVN) (Core i7, 14 inches)', 'Screen Size': '14 inches', 'Processor Brand': 'Core i7', 'Processor Speed': 'I do not know.'}, {'title': 'Máy tính xách tay MSI Summit E14 Flip Evo A12MT-210VN i7-1280P/16GB/512GB/14\"QHD/Win11_Túi_Bút_Đen (Core i7, 14.0 inches)', 'Screen Size': '14.0 inches', 'Processor Brand': 'Core i7', 'Processor Speed': 'I do not know.'}, {'title': 'Acer Swift X SFX16-51G-50GS i5 11320H (NX.AYLSV.002) (Core i5, 16.1 inches)', 'Screen Size': '16.1 inches', 'Processor Brand': 'Core i5', 'Processor Speed': 'I do not know.'}, {'title': 'Gigabyte Gaming G5 MF5-52VN353SH i5 13500H (Core i5Core i5, 15.6 inches)', 'Screen Size': '15.6 inches', 'Processor Brand': 'Core i5Core i5', 'Processor Speed': 'I do not know.'}, {'title': 'Asus Vivobook S3405VA-KM071W i9 13900H (Core i9, 14.0 inches)', 'Screen Size': '14.0 inches', 'Processor Brand': 'Core i9', 'Processor Speed': 'I do not know.'}, {'title': 'Asus TUF Gaming FA507NU-LP034W R7 7735HS (Ryzen 7, 15.6 inches)', 'Screen Size': '15.6 inches', 'Processor Brand': 'Ryzen 7', 'Processor Speed': 'I do not know.'}, {'title': 'HP Gaming Victus 16-s0078AX R5 7640HS (8C5N7PA) (Ryzen 5, 16.0 inches)', 'Screen Size': '16.0 inches', 'Processor Brand': 'Ryzen 5', 'Processor Speed': 'I do not know.'}, {'title': 'Acer Nitro 5 Tiger Gaming AN515-58-52SP i5 12500H (NH.QFHSV.001) (Core i5, 15.6 inches)', 'Screen Size': '15.6 inches', 'Processor Brand': 'Core i5', 'Processor Speed': 'I do not know.'}, {'title': 'Asus Vivobook S3504VA-L1227WS i7 1360P (Core i7, 15.6 inches)', 'Screen Size': '15.6 inches', 'Processor Brand': 'Core i7', 'Processor Speed': 'I do not know.'}, {'title': 'MSI Prestige 14Evo B13M-401VN i5 13500H (Core i5, 14.0 inches)', 'Screen Size': '14.0 inches', 'Processor Brand': 'Core i5', 'Processor Speed': 'I do not know.'}, {'title': 'Asus Vivobook Pro K3405ZF-KM184W i5-12500H (Core i5, 14 inches)', 'Screen Size': '14 inches', 'Processor Brand': 'Core i5', 'Processor Speed': 'I do not know.'}, {'title': 'Lenovo Gaming LOQ 15IAX9 i5-12450HX (83GS001RVN) (Core i5, 15.6 inches)', 'Screen Size': '15.6 inches', 'Processor Brand': 'Core i5', 'Processor Speed': 'I do not know.'}, {'title': 'HP ProBook 440 G10 i5 1340P (873B2PA) (Core i5, 14.0 inches)', 'Screen Size': '14.0 inches', 'Processor Brand': 'Core i5', 'Processor Speed': 'I do not know.'}, {'title': 'Lenovo Thinkpad E14 G5 T i5 1335U (21JK006BVN) (Core i5, 14 inches)', 'Screen Size': '14 inches', 'Processor Brand': 'Core i5', 'Processor Speed': 'I do not know.'}, {'title': 'Lenovo Thinkpad T14s Gen 2 i5 1145G7 (20WMS1EE00) (Core i5, 14 inches)', 'Screen Size': '14 inches', 'Processor Brand': 'Core i5', 'Processor Speed': 'I do not know.'}, {'title': 'HP Gaming Victus 15-fb1022AX R5-7535HS (94F19PA) (Ryzen 5, 15.6 inches)', 'Screen Size': '15.6 inches', 'Processor Brand': 'Ryzen 5', 'Processor Speed': 'I do not know.'}, {'title': 'Lenovo Ideapad Gaming 3 15ARH7 R5 7535HS (82SB00JUVN) (Ryzen 5, 15.6 inches)', 'Screen Size': '15.6 inches', 'Processor Brand': 'Ryzen 5', 'Processor Speed': 'I do not know.'}, {'title': 'HP Gaming Victus 16-e1104AX R7 6800H (7C0S9PA) (Ryzen 7, 16.1 inches)', 'Screen Size': '16.1 inches', 'Processor Brand': 'Ryzen 7', 'Processor Speed': 'I do not know.'}, {'title': 'Asus Zenbook UX3402ZA-KM218W i5 1240P (Core i5, 14.0 inches)', 'Screen Size': '14.0 inches', 'Processor Brand': 'Core i5', 'Processor Speed': 'I do not know.'}, {'title': 'Asus TUF Gaming FX517ZC-HN077W i5 12450H (Core i5, 15.6 inches)', 'Screen Size': '15.6 inches', 'Processor Brand': 'Core i5', 'Processor Speed': 'I do not know.'}, {'title': 'HP Pavilion 14-dv2072TU i7 1255U (7C0W1PA) (Core i7, 14.0 inches)', 'Screen Size': '14.0 inches', 'Processor Brand': 'Core i7', 'Processor Speed': 'I do not know.'}, {'title': 'HP Pavilion 15-eg3111TU i5 1335U (8U6L8PA) (Core i5, 15.6 inches)', 'Screen Size': '15.6 inches', 'Processor Brand': 'Core i5', 'Processor Speed': 'I do not know.'}, {'title': 'Macbook Air 13 2020 M1/8GB/256GB SSD (M1, 13.3 inches)', 'Screen Size': '13.3 inches', 'Processor Brand': 'M1', 'Processor Speed': 'I do not know.'}, {'title': 'Lenovo ThinkPad E14 Gen 4 i7 1255U (21E300E3VN) (Core i7, 14.0 inches)', 'Screen Size': '14.0 inches', 'Processor Brand': 'Core i7', 'Processor Speed': 'I do not know.'}, {'title': 'Lenovo ThinkBook 15 G5 ABP R5 7530U (21JF001SVN) (Ryzen 5, 15.6 inches)', 'Screen Size': '15.6 inches', 'Processor Brand': 'Ryzen 5', 'Processor Speed': 'I do not know.'}, {'title': 'Acer Gaming Aspire 5 A515-58GM-59QZ i5 13420H (NX.KQ4SV.006) (Core i5, 15.6 inches)', 'Screen Size': '15.6 inches', 'Processor Brand': 'Core i5', 'Processor Speed': 'I do not know.'}, {'title': 'HP Pavilion 15-eg3095TU i5 1335U (8C5L6PA) (Core i5, 15.6 inches)', 'Screen Size': '15.6 inches', 'Processor Brand': 'Core i5', 'Processor Speed': 'I do not know.'}, {'title': 'Lenovo IdeaPad Slim 5 14IRL8 i5 13500H (82XD002VVN) (Core i5, 14.0 inches)', 'Screen Size': '14.0 inches', 'Processor Brand': 'Core i5', 'Processor Speed': 'I do not know.'}, {'title': 'Gigabyte Gaming A5 K1-AVN1030SB R5 5600H (Ryzen 5, 15.6 inches)', 'Screen Size': '15.6 inches', 'Processor Brand': 'Ryzen 5', 'Processor Speed': 'I do not know.'}, {'title': 'Lenovo ThinkBook 14 G4 IAP i5 1235U (21DH00BAVN) (Core i5, 14.0 inches)', 'Screen Size': '14.0 inches', 'Processor Brand': 'Core i5', 'Processor Speed': 'I do not know.'}, {'title': 'MSI Gaming Cyborg 15 A12UCX-618VN i5 12450H (Core i5, 15.6 inches)', 'Screen Size': '15.6 inches', 'Processor Brand': 'Core i5', 'Processor Speed': 'I do not know.'}, {'title': 'Acer Aspire 7 Gaming A715-76G-55T6 i5 12450H (NH.QMYSV.003) (Core i5, 15.6 inches)', 'Screen Size': '15.6 inches', 'Processor Brand': 'Core i5', 'Processor Speed': 'I do not know.'}, {'title': 'HP 15-fd0079TU i5 1335U (8D732PA) (Core i5, 15.6 inches)', 'Screen Size': '15.6 inches', 'Processor Brand': 'Core i5', 'Processor Speed': 'I do not know.'}, {'title': 'HP 15s-fq5146TU i7 1255U (7C0R9PA) (Core i7, 15.6 inches)', 'Screen Size': '15.6 inches', 'Processor Brand': 'Core i7', 'Processor Speed': 'I do not know.'}, {'title': 'HP 15s fq5160TU i5 1235U (7C0S1PA) (Core i5, 15.6 inches)', 'Screen Size': '15.6 inches', 'Processor Brand': 'Core i5', 'Processor Speed': 'I do not know.'}, {'title': 'HP 15s-fq5146TU i7 1255U (7C0R9PA) (Core i7, 15.6 inches)', 'Screen Size': '15.6 inches', 'Processor Brand': 'Core i7', 'Processor Speed': 'I do not know.'}, {'title': 'Acer Nitro 5 Gaming AN515-57-53F9 i5 11400H (NH.QENSV.008) (Core i5, 15.6 inches)', 'Screen Size': '15.6 inches', 'Processor Brand': 'Core i5', 'Processor Speed': 'I do not know.'}, {'title': 'Acer Nitro Gaming AN515-57-54MV i5 11400H (NH.QENSV.003) (Core i5, 15.6 inches)', 'Screen Size': '15.6 inches', 'Processor Brand': 'Core i5', 'Processor Speed': 'I do not know.'}, {'title': 'Acer Nitro Gaming AN515-57-5669 i5 11400H (NH.QEHSV.001) (Core i5, 15.6 inches)', 'Screen Size': '15.6 inches', 'Processor Brand': 'Core i5', 'Processor Speed': 'I do not know.'}, {'title': 'Acer Aspire 7 A715-76-53PJ i5 12450H (NH.QGESV.007) (Core i5, 15.6 inches)', 'Screen Size': '15.6 inches', 'Processor Brand': 'Core i5', 'Processor Speed': 'I do not know.'}, {'title': 'VAIO FE14 i5 1235U (VWNC51427-BK) (Core i5, 14.0 inches)', 'Screen Size': '14.0 inches', 'Processor Brand': 'Core i5', 'Processor Speed': 'I do not know.'}, {'title': 'Acer Aspire Gaming A715-43G-R8GA R5 5625U (NH.QHDSV.002) (Ryzen 5, 15.6 inches)', 'Screen Size': '15.6 inches', 'Processor Brand': 'Ryzen 5', 'Processor Speed': 'I do not know.'}, {'title': 'Acer Aspire 5 A515-58GM-53PZ i5 13420H (Core i5, 15.6 inches)', 'Screen Size': '15.6 inches', 'Processor Brand': 'Core i5', 'Processor Speed': 'I do not know.'}, {'title': 'Acer Swift Go SFG14-41-R19Z R5 7530U (NX.KG3SV.001) (Ryzen 5, 14 inches)', 'Screen Size': '14 inches', 'Processor Brand': 'Ryzen 5', 'Processor Speed': 'I do not know.'}, {'title': 'MSI Gaming Cyborg 15 A12UCX-281VN i5 12450H (Core i5, 15.6 inches)', 'Screen Size': '15.6 inches', 'Processor Brand': 'Core i5', 'Processor Speed': 'I do not know.'}, {'title': 'Lenovo Ideapad Slim 5 Light 14ABR8 R7 7730U (82XS002JVN) (Ryzen 7, 14.0 inches)', 'Screen Size': '14.0 inches', 'Processor Brand': 'Ryzen 7', 'Processor Speed': 'I do not know.'}, {'title': 'Asus Vivobook A1503ZA-L1139W i5 12500H (Core i5, 15.6 inches)', 'Screen Size': '15.6 inches', 'Processor Brand': 'Core i5', 'Processor Speed': 'I do not know.'}, {'title': 'Acer Aspire 7 Gaming A715-43G-R09Q R5 5625U (NH.QHBSV.003) (Ryzen 5, 15.6 inches)', 'Screen Size': '15.6 inches', 'Processor Brand': 'Ryzen 5', 'Processor Speed': 'I do not know.'}, {'title': 'Acer Aspire 5 A515-58P-56RP i5 1335U (NX.KHJSV.008) (Core i5, 15.6 inches)', 'Screen Size': '15.6 inches', 'Processor Brand': 'Core i5', 'Processor Speed': 'I do not know.'}, {'title': 'HP Pavilion 15-eg2083TU i5 1240P (7C0W9PA) (Core i5, 15,6 inches)', 'Screen Size': '15,6 inches', 'Processor Brand': 'Core i5', 'Processor Speed': 'I do not know.'}, {'title': 'Dell Inspiron 15 N3520 i5 1235U (25P231) (Core i5, 15.6 inches)', 'Screen Size': '15.6 inches', 'Processor Brand': 'Core i5', 'Processor Speed': 'I do not know.'}, {'title': 'MSI Modern 15 B7M-238VN R7 7730U (Ryzen 7, 15.6 inches)', 'Screen Size': '15.6 inches', 'Processor Brand': 'Ryzen 7', 'Processor Speed': 'I do not know.'}, {'title': 'Asus Vivobook M1605YA-MB303W R7 7730U (Ryzen 7, 16 inches)', 'Screen Size': '16 inches', 'Processor Brand': 'Ryzen 7', 'Processor Speed': 'I do not know.'}, {'title': 'Asus Vivobook M3504YA-L1144W R5 7530U (Ryzen 5, 15.6 inches)', 'Screen Size': '15.6 inches', 'Processor Brand': 'Ryzen 5', 'Processor Speed': 'I do not know.'}, {'title': 'Asus Vivobook X1605VA-MB105W i5 1335U (Core i5, 16 inches)', 'Screen Size': '16 inches', 'Processor Brand': 'Core i5', 'Processor Speed': 'I do not know.'}, {'title': 'Dell Inspiron 15 N3520 i5 1235U (N5I5122W1) (Core i5, 15.6 inches)', 'Screen Size': '15.6 inches', 'Processor Brand': 'Core i5', 'Processor Speed': 'I do not know.'}, {'title': 'MSI Gaming GF63 Thin 11SC-664VN i5 11400H (Core i5, 15.6 inches)', 'Screen Size': '15.6 inches', 'Processor Brand': 'Core i5', 'Processor Speed': 'I do not know.'}, {'title': 'Lenovo V14 G4 IRU i5 1335U (83A00010VN) (Core i5Core i5, 14 inches)', 'Screen Size': '14 inches', 'Processor Brand': 'Core i5Core i5', 'Processor Speed': 'I do not know.'}, {'title': 'Acer Aspire 5 A514-54-5127 i5 1135G7 (NX.A28SV.007) (Core i5, 14.0 inches)', 'Screen Size': '14.0 inches', 'Processor Brand': 'Core i5', 'Processor Speed': 'I do not know.'}, {'title': 'Acer Swift 3 SF314-511-55QE i5 1135G7 (NX.ABNSV.003) (Core i5, 14.0 inches)', 'Screen Size': '14.0 inches', 'Processor Brand': 'Core i5', 'Processor Speed': 'I do not know.'}, {'title': 'Asus Vivobook X1502ZA-BQ126W i5 1240P (Core i5, 15.6 inches)', 'Screen Size': '15.6 inches', 'Processor Brand': 'Core i5', 'Processor Speed': 'I do not know.'}, {'title': 'MSI Modern 14 C13M-458VN i5 1335U (Core i5, 14 inches)', 'Screen Size': '14 inches', 'Processor Brand': 'Core i5', 'Processor Speed': 'I do not know.'}, {'title': 'Lenovo V15 G4 IAH i5 12500H (83FS0032VN) (Core i5, 15.6 inches)', 'Screen Size': '15.6 inches', 'Processor Brand': 'Core i5', 'Processor Speed': 'I do not know.'}, {'title': 'Acer Swift 3 SF314-43-R4X3 R5 5500U (NX.AB1SV.004) (Ryzen 5, 14.0 inches)', 'Screen Size': '14.0 inches', 'Processor Brand': 'Ryzen 5', 'Processor Speed': 'I do not know.'}, {'title': 'Lenovo IdeaPad 3 15ITL6 i5 1155G7 (82H803RWVN) (Core i5, 15.6 inches)', 'Screen Size': '15.6 inches', 'Processor Brand': 'Core i5', 'Processor Speed': 'I do not know.'}, {'title': 'Acer Aspire 3 A315-59-51X8 i5 1235U (NX.K6TSV.00F) (Core i5, 15.6 inches)', 'Screen Size': '15.6 inches', 'Processor Brand': 'Core i5', 'Processor Speed': 'I do not know.'}, {'title': 'MSI Modern 15 B13M-438VN i5 1335U (Core i5, 15.6 inches)', 'Screen Size': '15.6 inches', 'Processor Brand': 'Core i5', 'Processor Speed': 'I do not know.'}, {'title': 'MSI Modern 15 B7M-231VN R5 7530U (Ryzen 5, 15.6 inches)', 'Screen Size': '15.6 inches', 'Processor Brand': 'Ryzen 5', 'Processor Speed': 'I do not know.'}, {'title': 'Lenovo Ideapad 1 - 14ALC7 R7 5700U (82R30077VN) (Ryzen 7, 14 inches)', 'Screen Size': '14 inches', 'Processor Brand': 'Ryzen 7', 'Processor Speed': 'I do not know.'}, {'title': 'Acer Aspire 3 A314-23M-R4TX R5 7520U (NX.KEXSV.001) (Ryzen 5, 14.0 inches)', 'Screen Size': '14.0 inches', 'Processor Brand': 'Ryzen 5', 'Processor Speed': 'I do not know.'}, {'title': 'Acer Aspire 3 A315-58-54M5 i5 1135G7 (NX.ADDSV.00M) (Core i5, 15.6 inches)', 'Screen Size': '15.6 inches', 'Processor Brand': 'Core i5', 'Processor Speed': 'I do not know.'}, {'title': 'MSI Modern 15 B7M-098VN R7 7730U (Ryzen 7, 15.6 inches)', 'Screen Size': '15.6 inches', 'Processor Brand': 'Ryzen 7', 'Processor Speed': 'I do not know.'}, {'title': 'Acer Aspire 5 A515-58P-351N i3 1305U (NX.KHJSV.007) (Core i3, 15.6 inches)', 'Screen Size': '15.6 inches', 'Processor Brand': 'Core i3', 'Processor Speed': 'I do not know.'}, {'title': 'Huawei MateBook D14 BE i3 1215U (Core i3, 14.0 inches)', 'Screen Size': '14.0 inches', 'Processor Brand': 'Core i3', 'Processor Speed': 'I do not know.'}, {'title': 'HP 15s-fq5230TU i3-1215U (8U238PA) (Core i3, 15.6 inches)', 'Screen Size': '15.6 inches', 'Processor Brand': 'Core i3', 'Processor Speed': 'I do not know.'}, {'title': 'HP 245 G9 R5 5625U (6L1N8PA) (Ryzen 5, 14.0 inches)', 'Screen Size': '14.0 inches', 'Processor Brand': 'Ryzen 5', 'Processor Speed': 'I do not know.'}, {'title': 'Asus Vivobook X1404ZA-NK075W i3 1215U (Core i3, 14.0 inches)', 'Screen Size': '14.0 inches', 'Processor Brand': 'Core i3', 'Processor Speed': 'I do not know.'}, {'title': 'Asus Vivobook E1504FA-NJ426W R3 7320U (Ryzen 3, 15.6 inches)', 'Screen Size': '15.6 inches', 'Processor Brand': 'Ryzen 3', 'Processor Speed': 'I do not know.'}, {'title': 'HP 14s-em0080AU R3 7320U (80R30PA) (Ryzen 3, 14.0 inches)', 'Screen Size': '14.0 inches', 'Processor Brand': 'Ryzen 3', 'Processor Speed': 'I do not know.'}, {'title': 'HP 15s-fq2712TU i3 1115G4 (7C0X2PA) (Core i3, 15.6 inches)', 'Screen Size': '15.6 inches', 'Processor Brand': 'Core i3', 'Processor Speed': 'I do not know.'}, {'title': 'Asus ROG Strix SCAR 18 G834JYR-R6011W i9-14900HX (Core i9, 18 inches)', 'Screen Size': '18 inches', 'Processor Brand': 'Core i9', 'Processor Speed': 'I do not know.'}, {'title': 'MacBook Pro 16 2023 M3 Max 16 CPU/40 GPU/48GB/1TB (M3 Max, 16.2 inches)', 'Screen Size': '16.2 inches', 'Processor Brand': 'M3 Max', 'Processor Speed': 'I do not know.'}, {'title': 'Asus ROG Strix SCAR 16 G634JZR-NM009W i9-14900HX (Core i9, 16 inches)', 'Screen Size': '16 inches', 'Processor Brand': 'Core i9', 'Processor Speed': 'I do not know.'}, {'title': 'MacBook Pro 16 2023 M3 Max 14 CPU/30 GPU/36GB/1TB (M3 Max, 16.2 inches)', 'Screen Size': '16.2 inches', 'Processor Brand': 'M3 Max', 'Processor Speed': 'I do not know.'}, {'title': 'MacBook Pro 14 2023 M3 Max 14 CPU/30 GPU/36GB/1TB (M3 Max, 14.2 inches)', 'Screen Size': '14.2 inches', 'Processor Brand': 'M3 Max', 'Processor Speed': 'I do not know.'}, {'title': 'Asus Gaming ROG Zephyrus G16 GU605MI-QR116W Ultra 9-185H (Core Ultra 9, 16 inches)', 'Screen Size': '16 inches', 'Processor Brand': 'Core Ultra 9', 'Processor Speed': 'I do not know.'}, {'title': 'MacBook Pro 16 2023 M3 Pro 12 CPU/18 GPU/36GB/512GB (M3 Pro, 16.2 inches)', 'Screen Size': '16.2 inches', 'Processor Brand': 'M3 Pro', 'Processor Speed': 'I do not know.'}, {'title': 'Asus ROG Strix G18 G814JIR-N6007W i9-14900HX (Core i9, 18 inches)', 'Screen Size': '18 inches', 'Processor Brand': 'Core i9', 'Processor Speed': 'I do not know.'}, {'title': 'Asus Gaming ROG Zephyrus G16 GU605MV-QR135W Ultra 9-185H (Core Ultra 9, 16 inches)', 'Screen Size': '16 inches', 'Processor Brand': 'Core Ultra 9', 'Processor Speed': 'I do not know.'}, {'title': 'Asus Gaming ROG Zephyrus G14 GA403UU-QS101W R9-8945HS (Ryzen 9, 16 inches)', 'Screen Size': '16 inches', 'Processor Brand': 'Ryzen 9', 'Processor Speed': 'I do not know.'}, {'title': 'Lenovo Legion Pro 5 16IRX9 i9 14900HX (83DF0047VN) (Core i9, 16 inches)', 'Screen Size': '16 inches', 'Processor Brand': 'Core i9', 'Processor Speed': 'I do not know.'}, {'title': 'Lenovo Gaming Legion 5 16IRX9 i7-14650HX (83DG004YVN) (Core i7, 16 inches)', 'Screen Size': '16 inches', 'Processor Brand': 'Core i7', 'Processor Speed': 'I do not know.'}, {'title': 'Asus TUF Gaming FA507NU-LP131W R5 7535HS (Ryzen 5, 15.6 inches)', 'Screen Size': '15.6 inches', 'Processor Brand': 'Ryzen 5', 'Processor Speed': 'I do not know.'}, {'title': 'Asus Zenbook 14 OLED UM3402YA-KM405W R5-7530U (Ryzen 5, 14 inches)', 'Screen Size': '14 inches', 'Processor Brand': 'Ryzen 5', 'Processor Speed': 'I do not know.'}, {'title': 'Asus Vivobook A1505VA-L1201W i9 13900H (Core i9, 15.6 inches)', 'Screen Size': '15.6 inches', 'Processor Brand': 'Core i9', 'Processor Speed': 'I do not know.'}, {'title': 'ASUS Zenbook 14 OLED UM3402YA-KM826W R5-7430U (Ryzen 5, 14 inches)', 'Screen Size': '14 inches', 'Processor Brand': 'Ryzen 5', 'Processor Speed': 'I do not know.'}, {'title': 'Asus TUF Gaming FA506NC-HN011W R5-7535HS (Ryzen 5, 15.6 inches)', 'Screen Size': '15.6 inches', 'Processor Brand': 'Ryzen 5', 'Processor Speed': 'I do not know.'}, {'title': 'Asus TUF Gaming A15 FA506NF-HN012W R5-7535HS (Ryzen 5, 15.6 inches)', 'Screen Size': '15.6 inches', 'Processor Brand': 'Ryzen 5', 'Processor Speed': 'I do not know.'}, {'title': 'MSI Modern 15 B12MO-487VN i7 1255U (Core i7, 15.6 inches)', 'Screen Size': '15.6 inches', 'Processor Brand': 'Core i7', 'Processor Speed': 'I do not know.'}, {'title': 'Lenovo Ideapad Flex 5 14ALC7 R7 5700U (82R900ECVN) (Ryzen 7, 14 inches)', 'Screen Size': '14 inches', 'Processor Brand': 'Ryzen 7', 'Processor Speed': 'I do not know.'}, {'title': 'Lenovo IdeaPad Slim 3 14IAH8 i5 12450H (83EQ0009VN) (Core i5, 14 inches)', 'Screen Size': '14 inches', 'Processor Brand': 'Core i5', 'Processor Speed': 'I do not know.'}, {'title': 'Lenovo Ideapad Flex 5 14ALC7 R5 5500U (82R900EDVN) (Ryzen 5, 14 inches)', 'Screen Size': '14 inches', 'Processor Brand': 'Ryzen 5', 'Processor Speed': 'I do not know.'}]\n"
     ]
    }
   ],
   "source": [
    "import json\n",
    "with open('C:/Users/ADMIN/Desktop/DATN/Extract_Information/data_crawl/results/results_generated_datacrawl.json', 'r', encoding='utf-8') as json_file:\n",
    "    data = json.load(json_file)\n",
    "  \n",
    "data_compare = []  \n",
    "with open('C:/Users/ADMIN/Desktop/DATN/Extract_Information/data_crawl/data/data_crawl.jsonl', 'r') as f:\n",
    "    for line in f:\n",
    "        product = json.loads(line)  \n",
    "        extract_product = {}\n",
    "        extract_product['title'] = product['title']\n",
    "        extract_product['Screen Size'] = product['Screen Size']\n",
    "        extract_product['Processor Brand'] = product['Processor Brand']\n",
    "        extract_product['Processor Speed'] = product['Processor Speed']\n",
    "        data_compare.append(extract_product)\n",
    "\n",
    "print(data)\n",
    "print(data_compare)\n",
    "        \n",
    "# for dt, data_compare in zip(data, data_compare):"
   ]
  },
  {
   "cell_type": "code",
   "execution_count": 3,
   "id": "17dbd9fc",
   "metadata": {},
   "outputs": [
    {
     "name": "stdout",
     "output_type": "stream",
     "text": [
      "Precision: 63.37\n",
      "Recall: 62.2\n",
      "F1: 62.78\n"
     ]
    }
   ],
   "source": [
    "eval_nn = 0 # the model can predict No value (I do not know.) when ground truth is No attribute value\n",
    "eval_nv = 0 # some incorrect Value when ground truth is No attribute value\n",
    "eval_vn = 0 # the model can predict No value (I do not know.) when the ground truth has attribute Values\n",
    "eval_vc = 0 # Correct values when the ground truth has attribute Values (TP)\n",
    "eval_vw = 0 # Wrong values when the ground truth has attribute Values (FN-FP)\n",
    "\n",
    "for dt, dt_compare in zip(data,data_compare):\n",
    "    if dt_compare['Screen Size'] == \"I do not know.\":\n",
    "        if dt_compare['Screen Size'] == dt['Screen Size']:\n",
    "            eval_nn += 1\n",
    "        else:\n",
    "            eval_nv += 1\n",
    "    else:   \n",
    "        if dt_compare['Screen Size'] == dt['Screen Size']:\n",
    "            eval_vc += 1\n",
    "        elif dt['Screen Size'] == \"I do not know.\":\n",
    "            eval_vn += 1\n",
    "        else:\n",
    "            eval_vw += 1\n",
    "            \n",
    "    if dt_compare['Processor Brand'] == \"I do not know.\":\n",
    "        if dt_compare['Processor Brand'] == dt['Processor Brand']:\n",
    "            eval_nn += 1\n",
    "        else:\n",
    "            eval_nv += 1\n",
    "    else:   \n",
    "        if dt_compare['Processor Brand'] == dt['Processor Brand']:\n",
    "            eval_vc += 1\n",
    "        elif dt['Processor Brand'] == \"I do not know.\":\n",
    "            eval_vn += 1\n",
    "        else:\n",
    "            eval_vw += 1\n",
    "            \n",
    "    if dt_compare['Processor Speed'] == \"I do not know.\":\n",
    "        if dt_compare['Processor Speed'] == dt['Processor Speed']:\n",
    "            eval_nn += 1\n",
    "        else:\n",
    "            eval_nv += 1\n",
    "    else:   \n",
    "        if dt_compare['Processor Speed'] == dt['Processor Speed']:\n",
    "            eval_vc += 1\n",
    "        elif dt['Processor Speed'] == \"I do not know.\":\n",
    "            eval_vn += 1\n",
    "        else:\n",
    "            eval_vw += 1\n",
    "\n",
    "precision = round((eval_vc / (eval_nv + eval_vc + eval_vw))*100, 2) if (eval_nv + eval_vc + eval_vw) > 0 else 0 \n",
    "recall = round((eval_vc / (eval_vn + eval_vc + eval_vw))*100, 2) if (eval_vn + eval_vc + eval_vw) > 0 else 0\n",
    "f1 = round(2* precision* recall/ (precision + recall), 2) if (precision + recall) > 0 else 0\n",
    "\n",
    "print(f\"Precision: {precision}\")\n",
    "print(f\"Recall: {recall}\")\n",
    "print(f\"F1: {f1}\")                "
   ]
  }
 ],
 "metadata": {
  "kernelspec": {
   "display_name": "Python 3 (ipykernel)",
   "language": "python",
   "name": "python3"
  },
  "language_info": {
   "codemirror_mode": {
    "name": "ipython",
    "version": 3
   },
   "file_extension": ".py",
   "mimetype": "text/x-python",
   "name": "python",
   "nbconvert_exporter": "python",
   "pygments_lexer": "ipython3",
   "version": "3.8.19"
  }
 },
 "nbformat": 4,
 "nbformat_minor": 5
}
