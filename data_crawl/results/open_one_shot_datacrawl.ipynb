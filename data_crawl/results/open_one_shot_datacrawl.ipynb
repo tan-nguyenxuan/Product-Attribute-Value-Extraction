{
 "cells": [
  {
   "cell_type": "code",
   "execution_count": 1,
   "id": "3594136c",
   "metadata": {},
   "outputs": [],
   "source": [
    "import json"
   ]
  },
  {
   "cell_type": "code",
   "execution_count": 5,
   "id": "a3514677",
   "metadata": {},
   "outputs": [],
   "source": [
    "PATH_FILE_DATA = 'C:/Users/ADMIN/Desktop/DATN/Extract_Information/data_crawl/data/data_crawl.jsonl'\n",
    "PATH_FILE_TEMPLATE = 'C:/Users/ADMIN/Desktop/DATN/Extract_Information/tasks/task_template.json'"
   ]
  },
  {
   "cell_type": "code",
   "execution_count": 3,
   "id": "dbe83c95",
   "metadata": {},
   "outputs": [],
   "source": [
    "category_attribute_2_human_msg = {\n",
    "    'Laptops': 'Acer Aspire S7 13.3-Inch Touchscreen Ultrabook (Intel Core i5-4200U Processor up to 2.6GHz, 8GB DDR3 Memory, 256GB SSD, FHD 1080P Touchscreen Display, Backlit Keyboard, 802.11AC WiFi, Windows 8.1, 0.5 inch thin and 2.9 Lbs) Crystal White',\n",
    "}\n",
    "\n",
    "category_attribute_2_system_msg = {\n",
    "    'Laptops': 'Brand: Acer \\n Model: Aspire S7 \\n Screen Size: 13.3 inches \\n Screen Type: Touchscreen \\n Processor Brand: Intel Core i5-4200U \\n Processor Speed: 2.6GHz \\n Memory: 8GB DDR3 \\n Storage: 256GB SSD \\n Resolution: FHD 1080P \\n Keyboard: Backlit\\n Wireless Connectivity: 802.11AC WiFi \\n Operating System: Windows 8.1 \\n Color: Crystal White \\n Thickness: 0.5 inch \\n Weight: 2.9 lbs',\n",
    "}\n",
    "\n",
    "# Update Task Dict\n",
    "def update_task_dict_from_file(file_name, task_dict):\n",
    "    with open(file_name, 'r') as f:\n",
    "        for line in f:\n",
    "            record = json.loads(line)\n",
    "            example = {}\n",
    "            example['human_0'] = category_attribute_2_human_msg['Laptops']\n",
    "            example['system_0'] = category_attribute_2_system_msg['Laptops']\n",
    "            example['input'] = record['title']\n",
    "\n",
    "            task_dict['examples'].append(example)\n",
    "    return task_dict"
   ]
  },
  {
   "cell_type": "code",
   "execution_count": 6,
   "id": "29536f5c",
   "metadata": {},
   "outputs": [],
   "source": [
    "# Load task template\n",
    "with open(PATH_FILE_TEMPLATE, 'r') as f:\n",
    "    task_dict = json.load(f)\n",
    "\n",
    "task_dict['task_prefix'] = \"Extract all important attribute name : attribute value pairs mentioned in the product title below. All parts of the product title should be assigned to an attribute. \\n Desired format: <attribute name>: <attribute value> \\n <attribute name>: <attribute value>\"\n",
    "\n",
    "# Generate examples\n",
    "task_dict = update_task_dict_from_file(PATH_FILE_DATA, task_dict)\n",
    "\n",
    "with open('task_data_crawl.json', 'w', encoding='utf-8') as f:\n",
    "    json.dump(task_dict, f, indent=4)"
   ]
  },
  {
   "cell_type": "markdown",
   "id": "094cf781",
   "metadata": {},
   "source": [
    "## Evaluate Task"
   ]
  },
  {
   "cell_type": "code",
   "execution_count": 7,
   "id": "4ed23b69",
   "metadata": {
    "scrolled": true
   },
   "outputs": [
    {
     "name": "stdout",
     "output_type": "stream",
     "text": [
      "{'name': 'product_information_extraction', 'description': 'Product Information Extraction deals with the extraction of product information based on an attribute from product title & product description', 'examples': [{'human_0': 'Acer Aspire S7 13.3-Inch Touchscreen Ultrabook (Intel Core i5-4200U Processor up to 2.6GHz, 8GB DDR3 Memory, 256GB SSD, FHD 1080P Touchscreen Display, Backlit Keyboard, 802.11AC WiFi, Windows 8.1, 0.5 inch thin and 2.9 Lbs) Crystal White', 'system_0': 'Brand: Acer \\n Model: Aspire S7 \\n Screen Size: 13.3 inches \\n Screen Type: Touchscreen \\n Processor Brand: Intel Core i5-4200U \\n Processor Speed: 2.6GHz \\n Memory: 8GB DDR3 \\n Storage: 256GB SSD \\n Resolution: FHD 1080P \\n Keyboard: Backlit\\n Wireless Connectivity: 802.11AC WiFi \\n Operating System: Windows 8.1 \\n Color: Crystal White \\n Thickness: 0.5 inch \\n Weight: 2.9 lbs', 'input': 'HP 15s fq5229TU i3 1215U (8U237PA) (Intel UHD, 15.6 inches, 1.2GHz)', 'Screen Size': '15.6 inches', 'Processor Brand': 'Intel UHD', 'Processor Speed': '1.2GHz'}, {'human_0': 'Acer Aspire S7 13.3-Inch Touchscreen Ultrabook (Intel Core i5-4200U Processor up to 2.6GHz, 8GB DDR3 Memory, 256GB SSD, FHD 1080P Touchscreen Display, Backlit Keyboard, 802.11AC WiFi, Windows 8.1, 0.5 inch thin and 2.9 Lbs) Crystal White', 'system_0': 'Brand: Acer \\n Model: Aspire S7 \\n Screen Size: 13.3 inches \\n Screen Type: Touchscreen \\n Processor Brand: Intel Core i5-4200U \\n Processor Speed: 2.6GHz \\n Memory: 8GB DDR3 \\n Storage: 256GB SSD \\n Resolution: FHD 1080P \\n Keyboard: Backlit\\n Wireless Connectivity: 802.11AC WiFi \\n Operating System: Windows 8.1 \\n Color: Crystal White \\n Thickness: 0.5 inch \\n Weight: 2.9 lbs', 'input': 'HP 240 G9 i3 1215U (6L1X7PA) (Intel UHD, 14 inches, 1.2GHz)', 'Screen Size': '14 inches', 'Processor Brand': 'Intel UHD', 'Processor Speed': '1.2GHz'}, {'human_0': 'Acer Aspire S7 13.3-Inch Touchscreen Ultrabook (Intel Core i5-4200U Processor up to 2.6GHz, 8GB DDR3 Memory, 256GB SSD, FHD 1080P Touchscreen Display, Backlit Keyboard, 802.11AC WiFi, Windows 8.1, 0.5 inch thin and 2.9 Lbs) Crystal White', 'system_0': 'Brand: Acer \\n Model: Aspire S7 \\n Screen Size: 13.3 inches \\n Screen Type: Touchscreen \\n Processor Brand: Intel Core i5-4200U \\n Processor Speed: 2.6GHz \\n Memory: 8GB DDR3 \\n Storage: 256GB SSD \\n Resolution: FHD 1080P \\n Keyboard: Backlit\\n Wireless Connectivity: 802.11AC WiFi \\n Operating System: Windows 8.1 \\n Color: Crystal White \\n Thickness: 0.5 inch \\n Weight: 2.9 lbs', 'input': 'HP Pavilion 15 eg2081TU i5 1240P (7C0Q4PA) (Intel Iris Xe, 15.6 inches, 1.7GHz)', 'Screen Size': '15.6 inches', 'Processor Brand': 'Intel Iris Xe', 'Processor Speed': '1.7GHz'}, {'human_0': 'Acer Aspire S7 13.3-Inch Touchscreen Ultrabook (Intel Core i5-4200U Processor up to 2.6GHz, 8GB DDR3 Memory, 256GB SSD, FHD 1080P Touchscreen Display, Backlit Keyboard, 802.11AC WiFi, Windows 8.1, 0.5 inch thin and 2.9 Lbs) Crystal White', 'system_0': 'Brand: Acer \\n Model: Aspire S7 \\n Screen Size: 13.3 inches \\n Screen Type: Touchscreen \\n Processor Brand: Intel Core i5-4200U \\n Processor Speed: 2.6GHz \\n Memory: 8GB DDR3 \\n Storage: 256GB SSD \\n Resolution: FHD 1080P \\n Keyboard: Backlit\\n Wireless Connectivity: 802.11AC WiFi \\n Operating System: Windows 8.1 \\n Color: Crystal White \\n Thickness: 0.5 inch \\n Weight: 2.9 lbs', 'input': 'HP 245 G10 R5 7520U (8F155PA) (Radeon, 14 inches, 2.8GHz)', 'Screen Size': '14 inches', 'Processor Brand': 'Radeon', 'Processor Speed': '2.8GHz'}, {'human_0': 'Acer Aspire S7 13.3-Inch Touchscreen Ultrabook (Intel Core i5-4200U Processor up to 2.6GHz, 8GB DDR3 Memory, 256GB SSD, FHD 1080P Touchscreen Display, Backlit Keyboard, 802.11AC WiFi, Windows 8.1, 0.5 inch thin and 2.9 Lbs) Crystal White', 'system_0': 'Brand: Acer \\n Model: Aspire S7 \\n Screen Size: 13.3 inches \\n Screen Type: Touchscreen \\n Processor Brand: Intel Core i5-4200U \\n Processor Speed: 2.6GHz \\n Memory: 8GB DDR3 \\n Storage: 256GB SSD \\n Resolution: FHD 1080P \\n Keyboard: Backlit\\n Wireless Connectivity: 802.11AC WiFi \\n Operating System: Windows 8.1 \\n Color: Crystal White \\n Thickness: 0.5 inch \\n Weight: 2.9 lbs', 'input': 'HP Pavilion 14 dv2073TU i5 1235U (7C0P2PA) (Intel Iris Xe, 14 inches, 1.3GHz)', 'Screen Size': '14 inches', 'Processor Brand': 'Intel Iris Xe', 'Processor Speed': '1.3GHz'}, {'human_0': 'Acer Aspire S7 13.3-Inch Touchscreen Ultrabook (Intel Core i5-4200U Processor up to 2.6GHz, 8GB DDR3 Memory, 256GB SSD, FHD 1080P Touchscreen Display, Backlit Keyboard, 802.11AC WiFi, Windows 8.1, 0.5 inch thin and 2.9 Lbs) Crystal White', 'system_0': 'Brand: Acer \\n Model: Aspire S7 \\n Screen Size: 13.3 inches \\n Screen Type: Touchscreen \\n Processor Brand: Intel Core i5-4200U \\n Processor Speed: 2.6GHz \\n Memory: 8GB DDR3 \\n Storage: 256GB SSD \\n Resolution: FHD 1080P \\n Keyboard: Backlit\\n Wireless Connectivity: 802.11AC WiFi \\n Operating System: Windows 8.1 \\n Color: Crystal White \\n Thickness: 0.5 inch \\n Weight: 2.9 lbs', 'input': 'HP 240 G9 i5 1235U (6L1Y2PA) (Intel UHD, 14 inches, 1.3GHz)', 'Screen Size': '14 inches', 'Processor Brand': 'Intel UHD', 'Processor Speed': '1.3GHz'}, {'human_0': 'Acer Aspire S7 13.3-Inch Touchscreen Ultrabook (Intel Core i5-4200U Processor up to 2.6GHz, 8GB DDR3 Memory, 256GB SSD, FHD 1080P Touchscreen Display, Backlit Keyboard, 802.11AC WiFi, Windows 8.1, 0.5 inch thin and 2.9 Lbs) Crystal White', 'system_0': 'Brand: Acer \\n Model: Aspire S7 \\n Screen Size: 13.3 inches \\n Screen Type: Touchscreen \\n Processor Brand: Intel Core i5-4200U \\n Processor Speed: 2.6GHz \\n Memory: 8GB DDR3 \\n Storage: 256GB SSD \\n Resolution: FHD 1080P \\n Keyboard: Backlit\\n Wireless Connectivity: 802.11AC WiFi \\n Operating System: Windows 8.1 \\n Color: Crystal White \\n Thickness: 0.5 inch \\n Weight: 2.9 lbs', 'input': 'HP 15s fq5162TU i5 1235U (7C134PA) (Intel Iris Xe, 15.6 inches, 1.3GHz)', 'Screen Size': '15.6 inches', 'Processor Brand': 'Intel Iris Xe', 'Processor Speed': '1.3GHz'}, {'human_0': 'Acer Aspire S7 13.3-Inch Touchscreen Ultrabook (Intel Core i5-4200U Processor up to 2.6GHz, 8GB DDR3 Memory, 256GB SSD, FHD 1080P Touchscreen Display, Backlit Keyboard, 802.11AC WiFi, Windows 8.1, 0.5 inch thin and 2.9 Lbs) Crystal White', 'system_0': 'Brand: Acer \\n Model: Aspire S7 \\n Screen Size: 13.3 inches \\n Screen Type: Touchscreen \\n Processor Brand: Intel Core i5-4200U \\n Processor Speed: 2.6GHz \\n Memory: 8GB DDR3 \\n Storage: 256GB SSD \\n Resolution: FHD 1080P \\n Keyboard: Backlit\\n Wireless Connectivity: 802.11AC WiFi \\n Operating System: Windows 8.1 \\n Color: Crystal White \\n Thickness: 0.5 inch \\n Weight: 2.9 lbs', 'input': 'HP Pavilion 15 eg2082TU i5 1240P (7C0Q5PA) (Intel Iris Xe, 15.6 inches, 1.7GHz)', 'Screen Size': '15.6 inches', 'Processor Brand': 'Intel Iris Xe', 'Processor Speed': '1.7GHz'}, {'human_0': 'Acer Aspire S7 13.3-Inch Touchscreen Ultrabook (Intel Core i5-4200U Processor up to 2.6GHz, 8GB DDR3 Memory, 256GB SSD, FHD 1080P Touchscreen Display, Backlit Keyboard, 802.11AC WiFi, Windows 8.1, 0.5 inch thin and 2.9 Lbs) Crystal White', 'system_0': 'Brand: Acer \\n Model: Aspire S7 \\n Screen Size: 13.3 inches \\n Screen Type: Touchscreen \\n Processor Brand: Intel Core i5-4200U \\n Processor Speed: 2.6GHz \\n Memory: 8GB DDR3 \\n Storage: 256GB SSD \\n Resolution: FHD 1080P \\n Keyboard: Backlit\\n Wireless Connectivity: 802.11AC WiFi \\n Operating System: Windows 8.1 \\n Color: Crystal White \\n Thickness: 0.5 inch \\n Weight: 2.9 lbs', 'input': 'HP 15s fq5147TU i7 1255U (7C133PA) (Intel Iris Xe, 15.6 inches, 1.7GHz)', 'Screen Size': '15.6 inches', 'Processor Brand': 'Intel Iris Xe', 'Processor Speed': '1.7GHz'}, {'human_0': 'Acer Aspire S7 13.3-Inch Touchscreen Ultrabook (Intel Core i5-4200U Processor up to 2.6GHz, 8GB DDR3 Memory, 256GB SSD, FHD 1080P Touchscreen Display, Backlit Keyboard, 802.11AC WiFi, Windows 8.1, 0.5 inch thin and 2.9 Lbs) Crystal White', 'system_0': 'Brand: Acer \\n Model: Aspire S7 \\n Screen Size: 13.3 inches \\n Screen Type: Touchscreen \\n Processor Brand: Intel Core i5-4200U \\n Processor Speed: 2.6GHz \\n Memory: 8GB DDR3 \\n Storage: 256GB SSD \\n Resolution: FHD 1080P \\n Keyboard: Backlit\\n Wireless Connectivity: 802.11AC WiFi \\n Operating System: Windows 8.1 \\n Color: Crystal White \\n Thickness: 0.5 inch \\n Weight: 2.9 lbs', 'input': 'HP Pavilion 14 dv2074TU i5 1235U (7C0P3PA) (Intel Iris Xe, 14 inches, 1.3GHz)', 'Screen Size': '14 inches', 'Processor Brand': 'Intel Iris Xe', 'Processor Speed': '1.3GHz'}, {'human_0': 'Acer Aspire S7 13.3-Inch Touchscreen Ultrabook (Intel Core i5-4200U Processor up to 2.6GHz, 8GB DDR3 Memory, 256GB SSD, FHD 1080P Touchscreen Display, Backlit Keyboard, 802.11AC WiFi, Windows 8.1, 0.5 inch thin and 2.9 Lbs) Crystal White', 'system_0': 'Brand: Acer \\n Model: Aspire S7 \\n Screen Size: 13.3 inches \\n Screen Type: Touchscreen \\n Processor Brand: Intel Core i5-4200U \\n Processor Speed: 2.6GHz \\n Memory: 8GB DDR3 \\n Storage: 256GB SSD \\n Resolution: FHD 1080P \\n Keyboard: Backlit\\n Wireless Connectivity: 802.11AC WiFi \\n Operating System: Windows 8.1 \\n Color: Crystal White \\n Thickness: 0.5 inch \\n Weight: 2.9 lbs', 'input': 'HP Gaming VICTUS 15 fa1139TX i5 12450H (8Y6W3PA) (RTX 2050 4GB, 15.6 inches, 2GHz)', 'Screen Size': '15.6 inches', 'Processor Brand': 'RTX 2050 4GB', 'Processor Speed': '2GHz'}, {'human_0': 'Acer Aspire S7 13.3-Inch Touchscreen Ultrabook (Intel Core i5-4200U Processor up to 2.6GHz, 8GB DDR3 Memory, 256GB SSD, FHD 1080P Touchscreen Display, Backlit Keyboard, 802.11AC WiFi, Windows 8.1, 0.5 inch thin and 2.9 Lbs) Crystal White', 'system_0': 'Brand: Acer \\n Model: Aspire S7 \\n Screen Size: 13.3 inches \\n Screen Type: Touchscreen \\n Processor Brand: Intel Core i5-4200U \\n Processor Speed: 2.6GHz \\n Memory: 8GB DDR3 \\n Storage: 256GB SSD \\n Resolution: FHD 1080P \\n Keyboard: Backlit\\n Wireless Connectivity: 802.11AC WiFi \\n Operating System: Windows 8.1 \\n Color: Crystal White \\n Thickness: 0.5 inch \\n Weight: 2.9 lbs', 'input': 'HP 14 ep0126TU i3 N305 (8U233PA) (Intel UHD, 14 inches, 1.8GHz)', 'Screen Size': '14 inches', 'Processor Brand': 'Intel UHD', 'Processor Speed': '1.8GHz'}, {'human_0': 'Acer Aspire S7 13.3-Inch Touchscreen Ultrabook (Intel Core i5-4200U Processor up to 2.6GHz, 8GB DDR3 Memory, 256GB SSD, FHD 1080P Touchscreen Display, Backlit Keyboard, 802.11AC WiFi, Windows 8.1, 0.5 inch thin and 2.9 Lbs) Crystal White', 'system_0': 'Brand: Acer \\n Model: Aspire S7 \\n Screen Size: 13.3 inches \\n Screen Type: Touchscreen \\n Processor Brand: Intel Core i5-4200U \\n Processor Speed: 2.6GHz \\n Memory: 8GB DDR3 \\n Storage: 256GB SSD \\n Resolution: FHD 1080P \\n Keyboard: Backlit\\n Wireless Connectivity: 802.11AC WiFi \\n Operating System: Windows 8.1 \\n Color: Crystal White \\n Thickness: 0.5 inch \\n Weight: 2.9 lbs', 'input': 'HP Pavilion 15 eg2088TU i7 1260P (7C0R0PA) (Intel Iris Xe, 15.6 inches, 2.1GHz)', 'Screen Size': '15.6 inches', 'Processor Brand': 'Intel Iris Xe', 'Processor Speed': '2.1GHz'}, {'human_0': 'Acer Aspire S7 13.3-Inch Touchscreen Ultrabook (Intel Core i5-4200U Processor up to 2.6GHz, 8GB DDR3 Memory, 256GB SSD, FHD 1080P Touchscreen Display, Backlit Keyboard, 802.11AC WiFi, Windows 8.1, 0.5 inch thin and 2.9 Lbs) Crystal White', 'system_0': 'Brand: Acer \\n Model: Aspire S7 \\n Screen Size: 13.3 inches \\n Screen Type: Touchscreen \\n Processor Brand: Intel Core i5-4200U \\n Processor Speed: 2.6GHz \\n Memory: 8GB DDR3 \\n Storage: 256GB SSD \\n Resolution: FHD 1080P \\n Keyboard: Backlit\\n Wireless Connectivity: 802.11AC WiFi \\n Operating System: Windows 8.1 \\n Color: Crystal White \\n Thickness: 0.5 inch \\n Weight: 2.9 lbs', 'input': 'HP Gaming VICTUS 15 fb1022AX R5 7535HS (94F19PA) (RTX 2050 4GB, 15.6 inches, 3.3GHz)', 'Screen Size': '15.6 inches', 'Processor Brand': 'RTX 2050 4GB', 'Processor Speed': '3.3GHz'}, {'human_0': 'Acer Aspire S7 13.3-Inch Touchscreen Ultrabook (Intel Core i5-4200U Processor up to 2.6GHz, 8GB DDR3 Memory, 256GB SSD, FHD 1080P Touchscreen Display, Backlit Keyboard, 802.11AC WiFi, Windows 8.1, 0.5 inch thin and 2.9 Lbs) Crystal White', 'system_0': 'Brand: Acer \\n Model: Aspire S7 \\n Screen Size: 13.3 inches \\n Screen Type: Touchscreen \\n Processor Brand: Intel Core i5-4200U \\n Processor Speed: 2.6GHz \\n Memory: 8GB DDR3 \\n Storage: 256GB SSD \\n Resolution: FHD 1080P \\n Keyboard: Backlit\\n Wireless Connectivity: 802.11AC WiFi \\n Operating System: Windows 8.1 \\n Color: Crystal White \\n Thickness: 0.5 inch \\n Weight: 2.9 lbs', 'input': 'HP 240 G9 i5 1235U (6L1Y1PA) (Intel UHD, 14 inches, 1.3GHz)', 'Screen Size': '14 inches', 'Processor Brand': 'Intel UHD', 'Processor Speed': '1.3GHz'}, {'human_0': 'Acer Aspire S7 13.3-Inch Touchscreen Ultrabook (Intel Core i5-4200U Processor up to 2.6GHz, 8GB DDR3 Memory, 256GB SSD, FHD 1080P Touchscreen Display, Backlit Keyboard, 802.11AC WiFi, Windows 8.1, 0.5 inch thin and 2.9 Lbs) Crystal White', 'system_0': 'Brand: Acer \\n Model: Aspire S7 \\n Screen Size: 13.3 inches \\n Screen Type: Touchscreen \\n Processor Brand: Intel Core i5-4200U \\n Processor Speed: 2.6GHz \\n Memory: 8GB DDR3 \\n Storage: 256GB SSD \\n Resolution: FHD 1080P \\n Keyboard: Backlit\\n Wireless Connectivity: 802.11AC WiFi \\n Operating System: Windows 8.1 \\n Color: Crystal White \\n Thickness: 0.5 inch \\n Weight: 2.9 lbs', 'input': 'HP 15s fq2716TU i3 1115G4 (7C0X3PA) (Intel UHD, 15.6 inches, 3GHz)', 'Screen Size': '15.6 inches', 'Processor Brand': 'Intel UHD', 'Processor Speed': '3GHz'}, {'human_0': 'Acer Aspire S7 13.3-Inch Touchscreen Ultrabook (Intel Core i5-4200U Processor up to 2.6GHz, 8GB DDR3 Memory, 256GB SSD, FHD 1080P Touchscreen Display, Backlit Keyboard, 802.11AC WiFi, Windows 8.1, 0.5 inch thin and 2.9 Lbs) Crystal White', 'system_0': 'Brand: Acer \\n Model: Aspire S7 \\n Screen Size: 13.3 inches \\n Screen Type: Touchscreen \\n Processor Brand: Intel Core i5-4200U \\n Processor Speed: 2.6GHz \\n Memory: 8GB DDR3 \\n Storage: 256GB SSD \\n Resolution: FHD 1080P \\n Keyboard: Backlit\\n Wireless Connectivity: 802.11AC WiFi \\n Operating System: Windows 8.1 \\n Color: Crystal White \\n Thickness: 0.5 inch \\n Weight: 2.9 lbs', 'input': 'HP Envy X360 13 bf0090TU i7 1250U (76B13PA) (Intel Iris Xe, 13.3 inches, 1.1GHz)', 'Screen Size': '13.3 inches', 'Processor Brand': 'Intel Iris Xe', 'Processor Speed': '1.1GHz'}, {'human_0': 'Acer Aspire S7 13.3-Inch Touchscreen Ultrabook (Intel Core i5-4200U Processor up to 2.6GHz, 8GB DDR3 Memory, 256GB SSD, FHD 1080P Touchscreen Display, Backlit Keyboard, 802.11AC WiFi, Windows 8.1, 0.5 inch thin and 2.9 Lbs) Crystal White', 'system_0': 'Brand: Acer \\n Model: Aspire S7 \\n Screen Size: 13.3 inches \\n Screen Type: Touchscreen \\n Processor Brand: Intel Core i5-4200U \\n Processor Speed: 2.6GHz \\n Memory: 8GB DDR3 \\n Storage: 256GB SSD \\n Resolution: FHD 1080P \\n Keyboard: Backlit\\n Wireless Connectivity: 802.11AC WiFi \\n Operating System: Windows 8.1 \\n Color: Crystal White \\n Thickness: 0.5 inch \\n Weight: 2.9 lbs', 'input': 'HP Pavilion X360 14 ek1047TU i7 1355U (80R25PA) (Intel Iris Xe, 14 inches, 1.7GHz)', 'Screen Size': '14 inches', 'Processor Brand': 'Intel Iris Xe', 'Processor Speed': '1.7GHz'}, {'human_0': 'Acer Aspire S7 13.3-Inch Touchscreen Ultrabook (Intel Core i5-4200U Processor up to 2.6GHz, 8GB DDR3 Memory, 256GB SSD, FHD 1080P Touchscreen Display, Backlit Keyboard, 802.11AC WiFi, Windows 8.1, 0.5 inch thin and 2.9 Lbs) Crystal White', 'system_0': 'Brand: Acer \\n Model: Aspire S7 \\n Screen Size: 13.3 inches \\n Screen Type: Touchscreen \\n Processor Brand: Intel Core i5-4200U \\n Processor Speed: 2.6GHz \\n Memory: 8GB DDR3 \\n Storage: 256GB SSD \\n Resolution: FHD 1080P \\n Keyboard: Backlit\\n Wireless Connectivity: 802.11AC WiFi \\n Operating System: Windows 8.1 \\n Color: Crystal White \\n Thickness: 0.5 inch \\n Weight: 2.9 lbs', 'input': 'HP Pavilion 15 eg3091TU i7 1355U (8C5L2PA) (Intel Iris Xe, 15.6 inches, 1.7GHz)', 'Screen Size': '15.6 inches', 'Processor Brand': 'Intel Iris Xe', 'Processor Speed': '1.7GHz'}, {'human_0': 'Acer Aspire S7 13.3-Inch Touchscreen Ultrabook (Intel Core i5-4200U Processor up to 2.6GHz, 8GB DDR3 Memory, 256GB SSD, FHD 1080P Touchscreen Display, Backlit Keyboard, 802.11AC WiFi, Windows 8.1, 0.5 inch thin and 2.9 Lbs) Crystal White', 'system_0': 'Brand: Acer \\n Model: Aspire S7 \\n Screen Size: 13.3 inches \\n Screen Type: Touchscreen \\n Processor Brand: Intel Core i5-4200U \\n Processor Speed: 2.6GHz \\n Memory: 8GB DDR3 \\n Storage: 256GB SSD \\n Resolution: FHD 1080P \\n Keyboard: Backlit\\n Wireless Connectivity: 802.11AC WiFi \\n Operating System: Windows 8.1 \\n Color: Crystal White \\n Thickness: 0.5 inch \\n Weight: 2.9 lbs', 'input': 'HP Pavilion X360 14 ek1048TU i5 1335U (80R26PA) (Intel Iris Xe, 14 inches, 1.3GHz)', 'Screen Size': '14 inches', 'Processor Brand': 'Intel Iris Xe', 'Processor Speed': '1.3GHz'}, {'human_0': 'Acer Aspire S7 13.3-Inch Touchscreen Ultrabook (Intel Core i5-4200U Processor up to 2.6GHz, 8GB DDR3 Memory, 256GB SSD, FHD 1080P Touchscreen Display, Backlit Keyboard, 802.11AC WiFi, Windows 8.1, 0.5 inch thin and 2.9 Lbs) Crystal White', 'system_0': 'Brand: Acer \\n Model: Aspire S7 \\n Screen Size: 13.3 inches \\n Screen Type: Touchscreen \\n Processor Brand: Intel Core i5-4200U \\n Processor Speed: 2.6GHz \\n Memory: 8GB DDR3 \\n Storage: 256GB SSD \\n Resolution: FHD 1080P \\n Keyboard: Backlit\\n Wireless Connectivity: 802.11AC WiFi \\n Operating System: Windows 8.1 \\n Color: Crystal White \\n Thickness: 0.5 inch \\n Weight: 2.9 lbs', 'input': 'HP Envy X360 13 bf0112TU i5 1230U (7C0N9PA) (Intel Iris Xe, 13.3 inches, 1.00 GHz)', 'Screen Size': '13.3 inches', 'Processor Brand': 'Intel Iris Xe', 'Processor Speed': '1.00 GHz'}, {'human_0': 'Acer Aspire S7 13.3-Inch Touchscreen Ultrabook (Intel Core i5-4200U Processor up to 2.6GHz, 8GB DDR3 Memory, 256GB SSD, FHD 1080P Touchscreen Display, Backlit Keyboard, 802.11AC WiFi, Windows 8.1, 0.5 inch thin and 2.9 Lbs) Crystal White', 'system_0': 'Brand: Acer \\n Model: Aspire S7 \\n Screen Size: 13.3 inches \\n Screen Type: Touchscreen \\n Processor Brand: Intel Core i5-4200U \\n Processor Speed: 2.6GHz \\n Memory: 8GB DDR3 \\n Storage: 256GB SSD \\n Resolution: FHD 1080P \\n Keyboard: Backlit\\n Wireless Connectivity: 802.11AC WiFi \\n Operating System: Windows 8.1 \\n Color: Crystal White \\n Thickness: 0.5 inch \\n Weight: 2.9 lbs', 'input': 'HP Pavilion X360 14 ek1049TU i5 1335U (80R27PA) (Intel Iris Xe, 14 inches, 1.3GHz)', 'Screen Size': '14 inches', 'Processor Brand': 'Intel Iris Xe', 'Processor Speed': '1.3GHz'}, {'human_0': 'Acer Aspire S7 13.3-Inch Touchscreen Ultrabook (Intel Core i5-4200U Processor up to 2.6GHz, 8GB DDR3 Memory, 256GB SSD, FHD 1080P Touchscreen Display, Backlit Keyboard, 802.11AC WiFi, Windows 8.1, 0.5 inch thin and 2.9 Lbs) Crystal White', 'system_0': 'Brand: Acer \\n Model: Aspire S7 \\n Screen Size: 13.3 inches \\n Screen Type: Touchscreen \\n Processor Brand: Intel Core i5-4200U \\n Processor Speed: 2.6GHz \\n Memory: 8GB DDR3 \\n Storage: 256GB SSD \\n Resolution: FHD 1080P \\n Keyboard: Backlit\\n Wireless Connectivity: 802.11AC WiFi \\n Operating System: Windows 8.1 \\n Color: Crystal White \\n Thickness: 0.5 inch \\n Weight: 2.9 lbs', 'input': 'HP Pavilion 15 eg3093TU i5 1335U (8C5L4PA) (Intel Iris Xe, 15.6 inches, 1.3GHz)', 'Screen Size': '15.6 inches', 'Processor Brand': 'Intel Iris Xe', 'Processor Speed': '1.3GHz'}, {'human_0': 'Acer Aspire S7 13.3-Inch Touchscreen Ultrabook (Intel Core i5-4200U Processor up to 2.6GHz, 8GB DDR3 Memory, 256GB SSD, FHD 1080P Touchscreen Display, Backlit Keyboard, 802.11AC WiFi, Windows 8.1, 0.5 inch thin and 2.9 Lbs) Crystal White', 'system_0': 'Brand: Acer \\n Model: Aspire S7 \\n Screen Size: 13.3 inches \\n Screen Type: Touchscreen \\n Processor Brand: Intel Core i5-4200U \\n Processor Speed: 2.6GHz \\n Memory: 8GB DDR3 \\n Storage: 256GB SSD \\n Resolution: FHD 1080P \\n Keyboard: Backlit\\n Wireless Connectivity: 802.11AC WiFi \\n Operating System: Windows 8.1 \\n Color: Crystal White \\n Thickness: 0.5 inch \\n Weight: 2.9 lbs', 'input': 'HP Pavilion 15 eg3095TU i5 1335U (8C5L6PA) (Intel Iris Xe, 15.6 inches, 1.3GHz)', 'Screen Size': '15.6 inches', 'Processor Brand': 'Intel Iris Xe', 'Processor Speed': '1.3GHz'}, {'human_0': 'Acer Aspire S7 13.3-Inch Touchscreen Ultrabook (Intel Core i5-4200U Processor up to 2.6GHz, 8GB DDR3 Memory, 256GB SSD, FHD 1080P Touchscreen Display, Backlit Keyboard, 802.11AC WiFi, Windows 8.1, 0.5 inch thin and 2.9 Lbs) Crystal White', 'system_0': 'Brand: Acer \\n Model: Aspire S7 \\n Screen Size: 13.3 inches \\n Screen Type: Touchscreen \\n Processor Brand: Intel Core i5-4200U \\n Processor Speed: 2.6GHz \\n Memory: 8GB DDR3 \\n Storage: 256GB SSD \\n Resolution: FHD 1080P \\n Keyboard: Backlit\\n Wireless Connectivity: 802.11AC WiFi \\n Operating System: Windows 8.1 \\n Color: Crystal White \\n Thickness: 0.5 inch \\n Weight: 2.9 lbs', 'input': 'HP Pavilion 15 eg2062TX i5 1235U (7C0W7PA) (MX550 2GB, 15.6 inches, 1.3GHz)', 'Screen Size': '15.6 inches', 'Processor Brand': 'MX550 2GB', 'Processor Speed': '1.3GHz'}, {'human_0': 'Acer Aspire S7 13.3-Inch Touchscreen Ultrabook (Intel Core i5-4200U Processor up to 2.6GHz, 8GB DDR3 Memory, 256GB SSD, FHD 1080P Touchscreen Display, Backlit Keyboard, 802.11AC WiFi, Windows 8.1, 0.5 inch thin and 2.9 Lbs) Crystal White', 'system_0': 'Brand: Acer \\n Model: Aspire S7 \\n Screen Size: 13.3 inches \\n Screen Type: Touchscreen \\n Processor Brand: Intel Core i5-4200U \\n Processor Speed: 2.6GHz \\n Memory: 8GB DDR3 \\n Storage: 256GB SSD \\n Resolution: FHD 1080P \\n Keyboard: Backlit\\n Wireless Connectivity: 802.11AC WiFi \\n Operating System: Windows 8.1 \\n Color: Crystal White \\n Thickness: 0.5 inch \\n Weight: 2.9 lbs', 'input': 'HP 240 G10 i5 1335U (8F134PA) (Intel UHD, 14 inches, 1.3GHz)', 'Screen Size': '14 inches', 'Processor Brand': 'Intel UHD', 'Processor Speed': '1.3GHz'}, {'human_0': 'Acer Aspire S7 13.3-Inch Touchscreen Ultrabook (Intel Core i5-4200U Processor up to 2.6GHz, 8GB DDR3 Memory, 256GB SSD, FHD 1080P Touchscreen Display, Backlit Keyboard, 802.11AC WiFi, Windows 8.1, 0.5 inch thin and 2.9 Lbs) Crystal White', 'system_0': 'Brand: Acer \\n Model: Aspire S7 \\n Screen Size: 13.3 inches \\n Screen Type: Touchscreen \\n Processor Brand: Intel Core i5-4200U \\n Processor Speed: 2.6GHz \\n Memory: 8GB DDR3 \\n Storage: 256GB SSD \\n Resolution: FHD 1080P \\n Keyboard: Backlit\\n Wireless Connectivity: 802.11AC WiFi \\n Operating System: Windows 8.1 \\n Color: Crystal White \\n Thickness: 0.5 inch \\n Weight: 2.9 lbs', 'input': 'HP Elitebook 630 G9 i5 1235U (6M143PA) (Intel UHD, 13.3 inches, 1.3GHz)', 'Screen Size': '13.3 inches', 'Processor Brand': 'Intel UHD', 'Processor Speed': '1.3GHz'}, {'human_0': 'Acer Aspire S7 13.3-Inch Touchscreen Ultrabook (Intel Core i5-4200U Processor up to 2.6GHz, 8GB DDR3 Memory, 256GB SSD, FHD 1080P Touchscreen Display, Backlit Keyboard, 802.11AC WiFi, Windows 8.1, 0.5 inch thin and 2.9 Lbs) Crystal White', 'system_0': 'Brand: Acer \\n Model: Aspire S7 \\n Screen Size: 13.3 inches \\n Screen Type: Touchscreen \\n Processor Brand: Intel Core i5-4200U \\n Processor Speed: 2.6GHz \\n Memory: 8GB DDR3 \\n Storage: 256GB SSD \\n Resolution: FHD 1080P \\n Keyboard: Backlit\\n Wireless Connectivity: 802.11AC WiFi \\n Operating System: Windows 8.1 \\n Color: Crystal White \\n Thickness: 0.5 inch \\n Weight: 2.9 lbs', 'input': 'HP Gaming VICTUS 16 s0077AX R7 7840HS (8C5N6PA) (RTX 3050 6GB, 16.1 inches, 3.8GHz)', 'Screen Size': '16.1 inches', 'Processor Brand': 'RTX 3050 6GB', 'Processor Speed': '3.8GHz'}, {'human_0': 'Acer Aspire S7 13.3-Inch Touchscreen Ultrabook (Intel Core i5-4200U Processor up to 2.6GHz, 8GB DDR3 Memory, 256GB SSD, FHD 1080P Touchscreen Display, Backlit Keyboard, 802.11AC WiFi, Windows 8.1, 0.5 inch thin and 2.9 Lbs) Crystal White', 'system_0': 'Brand: Acer \\n Model: Aspire S7 \\n Screen Size: 13.3 inches \\n Screen Type: Touchscreen \\n Processor Brand: Intel Core i5-4200U \\n Processor Speed: 2.6GHz \\n Memory: 8GB DDR3 \\n Storage: 256GB SSD \\n Resolution: FHD 1080P \\n Keyboard: Backlit\\n Wireless Connectivity: 802.11AC WiFi \\n Operating System: Windows 8.1 \\n Color: Crystal White \\n Thickness: 0.5 inch \\n Weight: 2.9 lbs', 'input': 'HP Gaming VICTUS 16 e1106AX R5 6600H (7C0T1PA) (RTX 3050Ti 4GB, 16.1 inches, 3.3GHz)', 'Screen Size': '16.1 inches', 'Processor Brand': 'RTX 3050Ti 4GB', 'Processor Speed': '3.3GHz'}, {'human_0': 'Acer Aspire S7 13.3-Inch Touchscreen Ultrabook (Intel Core i5-4200U Processor up to 2.6GHz, 8GB DDR3 Memory, 256GB SSD, FHD 1080P Touchscreen Display, Backlit Keyboard, 802.11AC WiFi, Windows 8.1, 0.5 inch thin and 2.9 Lbs) Crystal White', 'system_0': 'Brand: Acer \\n Model: Aspire S7 \\n Screen Size: 13.3 inches \\n Screen Type: Touchscreen \\n Processor Brand: Intel Core i5-4200U \\n Processor Speed: 2.6GHz \\n Memory: 8GB DDR3 \\n Storage: 256GB SSD \\n Resolution: FHD 1080P \\n Keyboard: Backlit\\n Wireless Connectivity: 802.11AC WiFi \\n Operating System: Windows 8.1 \\n Color: Crystal White \\n Thickness: 0.5 inch \\n Weight: 2.9 lbs', 'input': 'HP Pavilion 15 eg2086TU i3 1215U (7C0Q8PA) (Intel UHD, 15.6 inches, 1.2GHz)', 'Screen Size': '15.6 inches', 'Processor Brand': 'Intel UHD', 'Processor Speed': '1.2GHz'}, {'human_0': 'Acer Aspire S7 13.3-Inch Touchscreen Ultrabook (Intel Core i5-4200U Processor up to 2.6GHz, 8GB DDR3 Memory, 256GB SSD, FHD 1080P Touchscreen Display, Backlit Keyboard, 802.11AC WiFi, Windows 8.1, 0.5 inch thin and 2.9 Lbs) Crystal White', 'system_0': 'Brand: Acer \\n Model: Aspire S7 \\n Screen Size: 13.3 inches \\n Screen Type: Touchscreen \\n Processor Brand: Intel Core i5-4200U \\n Processor Speed: 2.6GHz \\n Memory: 8GB DDR3 \\n Storage: 256GB SSD \\n Resolution: FHD 1080P \\n Keyboard: Backlit\\n Wireless Connectivity: 802.11AC WiFi \\n Operating System: Windows 8.1 \\n Color: Crystal White \\n Thickness: 0.5 inch \\n Weight: 2.9 lbs', 'input': 'HP Gaming VICTUS 15 fa0155TX i5 12450H (81P00PA) (RTX 3050 4GB, 15.6 inches, 2GHz)', 'Screen Size': '15.6 inches', 'Processor Brand': 'RTX 3050 4GB', 'Processor Speed': '2GHz'}, {'human_0': 'Acer Aspire S7 13.3-Inch Touchscreen Ultrabook (Intel Core i5-4200U Processor up to 2.6GHz, 8GB DDR3 Memory, 256GB SSD, FHD 1080P Touchscreen Display, Backlit Keyboard, 802.11AC WiFi, Windows 8.1, 0.5 inch thin and 2.9 Lbs) Crystal White', 'system_0': 'Brand: Acer \\n Model: Aspire S7 \\n Screen Size: 13.3 inches \\n Screen Type: Touchscreen \\n Processor Brand: Intel Core i5-4200U \\n Processor Speed: 2.6GHz \\n Memory: 8GB DDR3 \\n Storage: 256GB SSD \\n Resolution: FHD 1080P \\n Keyboard: Backlit\\n Wireless Connectivity: 802.11AC WiFi \\n Operating System: Windows 8.1 \\n Color: Crystal White \\n Thickness: 0.5 inch \\n Weight: 2.9 lbs', 'input': 'HP 240 G10 i5 1335U (8F136PA) (Intel UHD, 14 inches, 1.3GHz)', 'Screen Size': '14 inches', 'Processor Brand': 'Intel UHD', 'Processor Speed': '1.3GHz'}, {'human_0': 'Acer Aspire S7 13.3-Inch Touchscreen Ultrabook (Intel Core i5-4200U Processor up to 2.6GHz, 8GB DDR3 Memory, 256GB SSD, FHD 1080P Touchscreen Display, Backlit Keyboard, 802.11AC WiFi, Windows 8.1, 0.5 inch thin and 2.9 Lbs) Crystal White', 'system_0': 'Brand: Acer \\n Model: Aspire S7 \\n Screen Size: 13.3 inches \\n Screen Type: Touchscreen \\n Processor Brand: Intel Core i5-4200U \\n Processor Speed: 2.6GHz \\n Memory: 8GB DDR3 \\n Storage: 256GB SSD \\n Resolution: FHD 1080P \\n Keyboard: Backlit\\n Wireless Connectivity: 802.11AC WiFi \\n Operating System: Windows 8.1 \\n Color: Crystal White \\n Thickness: 0.5 inch \\n Weight: 2.9 lbs', 'input': 'HP 245 G9 R5 5625U (6L1N9PA) (Radeon, 14 inches, 2.30 GHz)', 'Screen Size': '14 inches', 'Processor Brand': 'Radeon', 'Processor Speed': '2.30 GHz'}, {'human_0': 'Acer Aspire S7 13.3-Inch Touchscreen Ultrabook (Intel Core i5-4200U Processor up to 2.6GHz, 8GB DDR3 Memory, 256GB SSD, FHD 1080P Touchscreen Display, Backlit Keyboard, 802.11AC WiFi, Windows 8.1, 0.5 inch thin and 2.9 Lbs) Crystal White', 'system_0': 'Brand: Acer \\n Model: Aspire S7 \\n Screen Size: 13.3 inches \\n Screen Type: Touchscreen \\n Processor Brand: Intel Core i5-4200U \\n Processor Speed: 2.6GHz \\n Memory: 8GB DDR3 \\n Storage: 256GB SSD \\n Resolution: FHD 1080P \\n Keyboard: Backlit\\n Wireless Connectivity: 802.11AC WiFi \\n Operating System: Windows 8.1 \\n Color: Crystal White \\n Thickness: 0.5 inch \\n Weight: 2.9 lbs', 'input': 'HP OMEN 16 xf0070AX R9 7940HS (8W945PA) (RTX 4070 8GB, 16.1 inches, 4GHz)', 'Screen Size': '16.1 inches', 'Processor Brand': 'RTX 4070 8GB', 'Processor Speed': '4GHz'}, {'human_0': 'Acer Aspire S7 13.3-Inch Touchscreen Ultrabook (Intel Core i5-4200U Processor up to 2.6GHz, 8GB DDR3 Memory, 256GB SSD, FHD 1080P Touchscreen Display, Backlit Keyboard, 802.11AC WiFi, Windows 8.1, 0.5 inch thin and 2.9 Lbs) Crystal White', 'system_0': 'Brand: Acer \\n Model: Aspire S7 \\n Screen Size: 13.3 inches \\n Screen Type: Touchscreen \\n Processor Brand: Intel Core i5-4200U \\n Processor Speed: 2.6GHz \\n Memory: 8GB DDR3 \\n Storage: 256GB SSD \\n Resolution: FHD 1080P \\n Keyboard: Backlit\\n Wireless Connectivity: 802.11AC WiFi \\n Operating System: Windows 8.1 \\n Color: Crystal White \\n Thickness: 0.5 inch \\n Weight: 2.9 lbs', 'input': 'HP OMEN 16 xf0071AX R7 7840HS (8W946PA) (RTX 4060 8GB, 16.1 inches, 3.8GHz)', 'Screen Size': '16.1 inches', 'Processor Brand': 'RTX 4060 8GB', 'Processor Speed': '3.8GHz'}, {'human_0': 'Acer Aspire S7 13.3-Inch Touchscreen Ultrabook (Intel Core i5-4200U Processor up to 2.6GHz, 8GB DDR3 Memory, 256GB SSD, FHD 1080P Touchscreen Display, Backlit Keyboard, 802.11AC WiFi, Windows 8.1, 0.5 inch thin and 2.9 Lbs) Crystal White', 'system_0': 'Brand: Acer \\n Model: Aspire S7 \\n Screen Size: 13.3 inches \\n Screen Type: Touchscreen \\n Processor Brand: Intel Core i5-4200U \\n Processor Speed: 2.6GHz \\n Memory: 8GB DDR3 \\n Storage: 256GB SSD \\n Resolution: FHD 1080P \\n Keyboard: Backlit\\n Wireless Connectivity: 802.11AC WiFi \\n Operating System: Windows 8.1 \\n Color: Crystal White \\n Thickness: 0.5 inch \\n Weight: 2.9 lbs', 'input': 'HP Envy 16 h0205TX i9 12900H (7C0T2PA) (RTX 3060 6GB, 16 inches, 2.5GHz)', 'Screen Size': '16 inches', 'Processor Brand': 'RTX 3060 6GB', 'Processor Speed': '2.5GHz'}, {'human_0': 'Acer Aspire S7 13.3-Inch Touchscreen Ultrabook (Intel Core i5-4200U Processor up to 2.6GHz, 8GB DDR3 Memory, 256GB SSD, FHD 1080P Touchscreen Display, Backlit Keyboard, 802.11AC WiFi, Windows 8.1, 0.5 inch thin and 2.9 Lbs) Crystal White', 'system_0': 'Brand: Acer \\n Model: Aspire S7 \\n Screen Size: 13.3 inches \\n Screen Type: Touchscreen \\n Processor Brand: Intel Core i5-4200U \\n Processor Speed: 2.6GHz \\n Memory: 8GB DDR3 \\n Storage: 256GB SSD \\n Resolution: FHD 1080P \\n Keyboard: Backlit\\n Wireless Connectivity: 802.11AC WiFi \\n Operating System: Windows 8.1 \\n Color: Crystal White \\n Thickness: 0.5 inch \\n Weight: 2.9 lbs', 'input': 'HP Envy 16 h0207TX i7 12700H (7C0T4PA) (RTX 3060 6GB, 16 inches, 2.30 GHz)', 'Screen Size': '16 inches', 'Processor Brand': 'RTX 3060 6GB', 'Processor Speed': '2.30 GHz'}, {'human_0': 'Acer Aspire S7 13.3-Inch Touchscreen Ultrabook (Intel Core i5-4200U Processor up to 2.6GHz, 8GB DDR3 Memory, 256GB SSD, FHD 1080P Touchscreen Display, Backlit Keyboard, 802.11AC WiFi, Windows 8.1, 0.5 inch thin and 2.9 Lbs) Crystal White', 'system_0': 'Brand: Acer \\n Model: Aspire S7 \\n Screen Size: 13.3 inches \\n Screen Type: Touchscreen \\n Processor Brand: Intel Core i5-4200U \\n Processor Speed: 2.6GHz \\n Memory: 8GB DDR3 \\n Storage: 256GB SSD \\n Resolution: FHD 1080P \\n Keyboard: Backlit\\n Wireless Connectivity: 802.11AC WiFi \\n Operating System: Windows 8.1 \\n Color: Crystal White \\n Thickness: 0.5 inch \\n Weight: 2.9 lbs', 'input': 'HP Elitebook Dragonfly G3 i7 1255U (6Z980PA) (Intel Iris Xe, 13.5 inches, 1.7GHz)', 'Screen Size': '13.5 inches', 'Processor Brand': 'Intel Iris Xe', 'Processor Speed': '1.7GHz'}, {'human_0': 'Acer Aspire S7 13.3-Inch Touchscreen Ultrabook (Intel Core i5-4200U Processor up to 2.6GHz, 8GB DDR3 Memory, 256GB SSD, FHD 1080P Touchscreen Display, Backlit Keyboard, 802.11AC WiFi, Windows 8.1, 0.5 inch thin and 2.9 Lbs) Crystal White', 'system_0': 'Brand: Acer \\n Model: Aspire S7 \\n Screen Size: 13.3 inches \\n Screen Type: Touchscreen \\n Processor Brand: Intel Core i5-4200U \\n Processor Speed: 2.6GHz \\n Memory: 8GB DDR3 \\n Storage: 256GB SSD \\n Resolution: FHD 1080P \\n Keyboard: Backlit\\n Wireless Connectivity: 802.11AC WiFi \\n Operating System: Windows 8.1 \\n Color: Crystal White \\n Thickness: 0.5 inch \\n Weight: 2.9 lbs', 'input': 'HP Gaming VICTUS 16 s0138AX R7 7840HS (9Q985PA) (RTX 4070 8GB, 16.1 inches, 3.8GHz)', 'Screen Size': '16.1 inches', 'Processor Brand': 'RTX 4070 8GB', 'Processor Speed': '3.8GHz'}, {'human_0': 'Acer Aspire S7 13.3-Inch Touchscreen Ultrabook (Intel Core i5-4200U Processor up to 2.6GHz, 8GB DDR3 Memory, 256GB SSD, FHD 1080P Touchscreen Display, Backlit Keyboard, 802.11AC WiFi, Windows 8.1, 0.5 inch thin and 2.9 Lbs) Crystal White', 'system_0': 'Brand: Acer \\n Model: Aspire S7 \\n Screen Size: 13.3 inches \\n Screen Type: Touchscreen \\n Processor Brand: Intel Core i5-4200U \\n Processor Speed: 2.6GHz \\n Memory: 8GB DDR3 \\n Storage: 256GB SSD \\n Resolution: FHD 1080P \\n Keyboard: Backlit\\n Wireless Connectivity: 802.11AC WiFi \\n Operating System: Windows 8.1 \\n Color: Crystal White \\n Thickness: 0.5 inch \\n Weight: 2.9 lbs', 'input': 'HP Omen 16 n0087AX R7 6800H (7C0T7PA) (RTX 3060 6GB, 16.1 inches, 3.2GHz)', 'Screen Size': '16.1 inches', 'Processor Brand': 'RTX 3060 6GB', 'Processor Speed': '3.2GHz'}, {'human_0': 'Acer Aspire S7 13.3-Inch Touchscreen Ultrabook (Intel Core i5-4200U Processor up to 2.6GHz, 8GB DDR3 Memory, 256GB SSD, FHD 1080P Touchscreen Display, Backlit Keyboard, 802.11AC WiFi, Windows 8.1, 0.5 inch thin and 2.9 Lbs) Crystal White', 'system_0': 'Brand: Acer \\n Model: Aspire S7 \\n Screen Size: 13.3 inches \\n Screen Type: Touchscreen \\n Processor Brand: Intel Core i5-4200U \\n Processor Speed: 2.6GHz \\n Memory: 8GB DDR3 \\n Storage: 256GB SSD \\n Resolution: FHD 1080P \\n Keyboard: Backlit\\n Wireless Connectivity: 802.11AC WiFi \\n Operating System: Windows 8.1 \\n Color: Crystal White \\n Thickness: 0.5 inch \\n Weight: 2.9 lbs', 'input': 'HP Elitebook X360 1040 G9 i7 1255U (6Z982PA) (Intel Iris Xe, 14 inches, 1.7GHz)', 'Screen Size': '14 inches', 'Processor Brand': 'Intel Iris Xe', 'Processor Speed': '1.7GHz'}, {'human_0': 'Acer Aspire S7 13.3-Inch Touchscreen Ultrabook (Intel Core i5-4200U Processor up to 2.6GHz, 8GB DDR3 Memory, 256GB SSD, FHD 1080P Touchscreen Display, Backlit Keyboard, 802.11AC WiFi, Windows 8.1, 0.5 inch thin and 2.9 Lbs) Crystal White', 'system_0': 'Brand: Acer \\n Model: Aspire S7 \\n Screen Size: 13.3 inches \\n Screen Type: Touchscreen \\n Processor Brand: Intel Core i5-4200U \\n Processor Speed: 2.6GHz \\n Memory: 8GB DDR3 \\n Storage: 256GB SSD \\n Resolution: FHD 1080P \\n Keyboard: Backlit\\n Wireless Connectivity: 802.11AC WiFi \\n Operating System: Windows 8.1 \\n Color: Crystal White \\n Thickness: 0.5 inch \\n Weight: 2.9 lbs', 'input': 'HP Gaming VICTUS 16 s0139AX R7 7840HS (9Q986PA) (RTX 4060 8GB, 16.1 inches, 3.8GHz)', 'Screen Size': '16.1 inches', 'Processor Brand': 'RTX 4060 8GB', 'Processor Speed': '3.8GHz'}, {'human_0': 'Acer Aspire S7 13.3-Inch Touchscreen Ultrabook (Intel Core i5-4200U Processor up to 2.6GHz, 8GB DDR3 Memory, 256GB SSD, FHD 1080P Touchscreen Display, Backlit Keyboard, 802.11AC WiFi, Windows 8.1, 0.5 inch thin and 2.9 Lbs) Crystal White', 'system_0': 'Brand: Acer \\n Model: Aspire S7 \\n Screen Size: 13.3 inches \\n Screen Type: Touchscreen \\n Processor Brand: Intel Core i5-4200U \\n Processor Speed: 2.6GHz \\n Memory: 8GB DDR3 \\n Storage: 256GB SSD \\n Resolution: FHD 1080P \\n Keyboard: Backlit\\n Wireless Connectivity: 802.11AC WiFi \\n Operating System: Windows 8.1 \\n Color: Crystal White \\n Thickness: 0.5 inch \\n Weight: 2.9 lbs', 'input': 'HP Gaming VICTUS 16 r0227TX i5 13500H (9Q978PA) (RTX 4060 8GB, 16.1 inches, 2.6GHz)', 'Screen Size': '16.1 inches', 'Processor Brand': 'RTX 4060 8GB', 'Processor Speed': '2.6GHz'}, {'human_0': 'Acer Aspire S7 13.3-Inch Touchscreen Ultrabook (Intel Core i5-4200U Processor up to 2.6GHz, 8GB DDR3 Memory, 256GB SSD, FHD 1080P Touchscreen Display, Backlit Keyboard, 802.11AC WiFi, Windows 8.1, 0.5 inch thin and 2.9 Lbs) Crystal White', 'system_0': 'Brand: Acer \\n Model: Aspire S7 \\n Screen Size: 13.3 inches \\n Screen Type: Touchscreen \\n Processor Brand: Intel Core i5-4200U \\n Processor Speed: 2.6GHz \\n Memory: 8GB DDR3 \\n Storage: 256GB SSD \\n Resolution: FHD 1080P \\n Keyboard: Backlit\\n Wireless Connectivity: 802.11AC WiFi \\n Operating System: Windows 8.1 \\n Color: Crystal White \\n Thickness: 0.5 inch \\n Weight: 2.9 lbs', 'input': 'HP Gaming VICTUS 16 r0228TX i5 13500H (9Q979PA) (RTX 4050 6GB, 16.1 inches, 2.6GHz)', 'Screen Size': '16.1 inches', 'Processor Brand': 'RTX 4050 6GB', 'Processor Speed': '2.6GHz'}, {'human_0': 'Acer Aspire S7 13.3-Inch Touchscreen Ultrabook (Intel Core i5-4200U Processor up to 2.6GHz, 8GB DDR3 Memory, 256GB SSD, FHD 1080P Touchscreen Display, Backlit Keyboard, 802.11AC WiFi, Windows 8.1, 0.5 inch thin and 2.9 Lbs) Crystal White', 'system_0': 'Brand: Acer \\n Model: Aspire S7 \\n Screen Size: 13.3 inches \\n Screen Type: Touchscreen \\n Processor Brand: Intel Core i5-4200U \\n Processor Speed: 2.6GHz \\n Memory: 8GB DDR3 \\n Storage: 256GB SSD \\n Resolution: FHD 1080P \\n Keyboard: Backlit\\n Wireless Connectivity: 802.11AC WiFi \\n Operating System: Windows 8.1 \\n Color: Crystal White \\n Thickness: 0.5 inch \\n Weight: 2.9 lbs', 'input': 'HP Elitebook 630 G10 i7 1355U (9J0B7PT) (Intel UHD, 13.3 inches, 1.7GHz)', 'Screen Size': '13.3 inches', 'Processor Brand': 'Intel UHD', 'Processor Speed': '1.7GHz'}, {'human_0': 'Acer Aspire S7 13.3-Inch Touchscreen Ultrabook (Intel Core i5-4200U Processor up to 2.6GHz, 8GB DDR3 Memory, 256GB SSD, FHD 1080P Touchscreen Display, Backlit Keyboard, 802.11AC WiFi, Windows 8.1, 0.5 inch thin and 2.9 Lbs) Crystal White', 'system_0': 'Brand: Acer \\n Model: Aspire S7 \\n Screen Size: 13.3 inches \\n Screen Type: Touchscreen \\n Processor Brand: Intel Core i5-4200U \\n Processor Speed: 2.6GHz \\n Memory: 8GB DDR3 \\n Storage: 256GB SSD \\n Resolution: FHD 1080P \\n Keyboard: Backlit\\n Wireless Connectivity: 802.11AC WiFi \\n Operating System: Windows 8.1 \\n Color: Crystal White \\n Thickness: 0.5 inch \\n Weight: 2.9 lbs', 'input': 'HP Elitebook 630 G10 i7 1355U (873F2PA) (Intel UHD, 13.3 inches, 1.7GHz)', 'Screen Size': '13.3 inches', 'Processor Brand': 'Intel UHD', 'Processor Speed': '1.7GHz'}, {'human_0': 'Acer Aspire S7 13.3-Inch Touchscreen Ultrabook (Intel Core i5-4200U Processor up to 2.6GHz, 8GB DDR3 Memory, 256GB SSD, FHD 1080P Touchscreen Display, Backlit Keyboard, 802.11AC WiFi, Windows 8.1, 0.5 inch thin and 2.9 Lbs) Crystal White', 'system_0': 'Brand: Acer \\n Model: Aspire S7 \\n Screen Size: 13.3 inches \\n Screen Type: Touchscreen \\n Processor Brand: Intel Core i5-4200U \\n Processor Speed: 2.6GHz \\n Memory: 8GB DDR3 \\n Storage: 256GB SSD \\n Resolution: FHD 1080P \\n Keyboard: Backlit\\n Wireless Connectivity: 802.11AC WiFi \\n Operating System: Windows 8.1 \\n Color: Crystal White \\n Thickness: 0.5 inch \\n Weight: 2.9 lbs', 'input': 'HP Elitebook 630 G10 i5 1335U (9J0B5PT) (Intel UHD, 13.3 inches, 1.3GHz)', 'Screen Size': '13.3 inches', 'Processor Brand': 'Intel UHD', 'Processor Speed': '1.3GHz'}, {'human_0': 'Acer Aspire S7 13.3-Inch Touchscreen Ultrabook (Intel Core i5-4200U Processor up to 2.6GHz, 8GB DDR3 Memory, 256GB SSD, FHD 1080P Touchscreen Display, Backlit Keyboard, 802.11AC WiFi, Windows 8.1, 0.5 inch thin and 2.9 Lbs) Crystal White', 'system_0': 'Brand: Acer \\n Model: Aspire S7 \\n Screen Size: 13.3 inches \\n Screen Type: Touchscreen \\n Processor Brand: Intel Core i5-4200U \\n Processor Speed: 2.6GHz \\n Memory: 8GB DDR3 \\n Storage: 256GB SSD \\n Resolution: FHD 1080P \\n Keyboard: Backlit\\n Wireless Connectivity: 802.11AC WiFi \\n Operating System: Windows 8.1 \\n Color: Crystal White \\n Thickness: 0.5 inch \\n Weight: 2.9 lbs', 'input': 'HP Probook 450 G10 i7 1355U (873D3PA) (Intel UHD, 15.6 inches, 1.7GHz)', 'Screen Size': '15.6 inches', 'Processor Brand': 'Intel UHD', 'Processor Speed': '1.7GHz'}, {'human_0': 'Acer Aspire S7 13.3-Inch Touchscreen Ultrabook (Intel Core i5-4200U Processor up to 2.6GHz, 8GB DDR3 Memory, 256GB SSD, FHD 1080P Touchscreen Display, Backlit Keyboard, 802.11AC WiFi, Windows 8.1, 0.5 inch thin and 2.9 Lbs) Crystal White', 'system_0': 'Brand: Acer \\n Model: Aspire S7 \\n Screen Size: 13.3 inches \\n Screen Type: Touchscreen \\n Processor Brand: Intel Core i5-4200U \\n Processor Speed: 2.6GHz \\n Memory: 8GB DDR3 \\n Storage: 256GB SSD \\n Resolution: FHD 1080P \\n Keyboard: Backlit\\n Wireless Connectivity: 802.11AC WiFi \\n Operating System: Windows 8.1 \\n Color: Crystal White \\n Thickness: 0.5 inch \\n Weight: 2.9 lbs', 'input': 'HP Pavilion X360 14 ek0132TU i7 1255U (7C0W4PA) (Intel Iris Xe, 14 inches, 1.7GHz)', 'Screen Size': '14 inches', 'Processor Brand': 'Intel Iris Xe', 'Processor Speed': '1.7GHz'}, {'human_0': 'Acer Aspire S7 13.3-Inch Touchscreen Ultrabook (Intel Core i5-4200U Processor up to 2.6GHz, 8GB DDR3 Memory, 256GB SSD, FHD 1080P Touchscreen Display, Backlit Keyboard, 802.11AC WiFi, Windows 8.1, 0.5 inch thin and 2.9 Lbs) Crystal White', 'system_0': 'Brand: Acer \\n Model: Aspire S7 \\n Screen Size: 13.3 inches \\n Screen Type: Touchscreen \\n Processor Brand: Intel Core i5-4200U \\n Processor Speed: 2.6GHz \\n Memory: 8GB DDR3 \\n Storage: 256GB SSD \\n Resolution: FHD 1080P \\n Keyboard: Backlit\\n Wireless Connectivity: 802.11AC WiFi \\n Operating System: Windows 8.1 \\n Color: Crystal White \\n Thickness: 0.5 inch \\n Weight: 2.9 lbs', 'input': 'HP Pavilion 15 eg3035TX i7 1355U (8U6L7PA) (MX550 2GB, 15.6 inches, 1.7GHz)', 'Screen Size': '15.6 inches', 'Processor Brand': 'MX550 2GB', 'Processor Speed': '1.7GHz'}, {'human_0': 'Acer Aspire S7 13.3-Inch Touchscreen Ultrabook (Intel Core i5-4200U Processor up to 2.6GHz, 8GB DDR3 Memory, 256GB SSD, FHD 1080P Touchscreen Display, Backlit Keyboard, 802.11AC WiFi, Windows 8.1, 0.5 inch thin and 2.9 Lbs) Crystal White', 'system_0': 'Brand: Acer \\n Model: Aspire S7 \\n Screen Size: 13.3 inches \\n Screen Type: Touchscreen \\n Processor Brand: Intel Core i5-4200U \\n Processor Speed: 2.6GHz \\n Memory: 8GB DDR3 \\n Storage: 256GB SSD \\n Resolution: FHD 1080P \\n Keyboard: Backlit\\n Wireless Connectivity: 802.11AC WiFi \\n Operating System: Windows 8.1 \\n Color: Crystal White \\n Thickness: 0.5 inch \\n Weight: 2.9 lbs', 'input': 'HP Pavilion 15 eg2034TX i7 1255U (6K780PA) (MX550 2GB, 15.6 inches, 1.7GHz)', 'Screen Size': '15.6 inches', 'Processor Brand': 'MX550 2GB', 'Processor Speed': '1.7GHz'}, {'human_0': 'Acer Aspire S7 13.3-Inch Touchscreen Ultrabook (Intel Core i5-4200U Processor up to 2.6GHz, 8GB DDR3 Memory, 256GB SSD, FHD 1080P Touchscreen Display, Backlit Keyboard, 802.11AC WiFi, Windows 8.1, 0.5 inch thin and 2.9 Lbs) Crystal White', 'system_0': 'Brand: Acer \\n Model: Aspire S7 \\n Screen Size: 13.3 inches \\n Screen Type: Touchscreen \\n Processor Brand: Intel Core i5-4200U \\n Processor Speed: 2.6GHz \\n Memory: 8GB DDR3 \\n Storage: 256GB SSD \\n Resolution: FHD 1080P \\n Keyboard: Backlit\\n Wireless Connectivity: 802.11AC WiFi \\n Operating System: Windows 8.1 \\n Color: Crystal White \\n Thickness: 0.5 inch \\n Weight: 2.9 lbs', 'input': 'HP Pavilion 14 dv2071TU i7 1255U (7C0W0PA) (Intel Iris Xe, 14 inches, 1.7GHz)', 'Screen Size': '14 inches', 'Processor Brand': 'Intel Iris Xe', 'Processor Speed': '1.7GHz'}, {'human_0': 'Acer Aspire S7 13.3-Inch Touchscreen Ultrabook (Intel Core i5-4200U Processor up to 2.6GHz, 8GB DDR3 Memory, 256GB SSD, FHD 1080P Touchscreen Display, Backlit Keyboard, 802.11AC WiFi, Windows 8.1, 0.5 inch thin and 2.9 Lbs) Crystal White', 'system_0': 'Brand: Acer \\n Model: Aspire S7 \\n Screen Size: 13.3 inches \\n Screen Type: Touchscreen \\n Processor Brand: Intel Core i5-4200U \\n Processor Speed: 2.6GHz \\n Memory: 8GB DDR3 \\n Storage: 256GB SSD \\n Resolution: FHD 1080P \\n Keyboard: Backlit\\n Wireless Connectivity: 802.11AC WiFi \\n Operating System: Windows 8.1 \\n Color: Crystal White \\n Thickness: 0.5 inch \\n Weight: 2.9 lbs', 'input': 'HP Probook 450 G10 i5 1335U (873D1PA) (Intel UHD, 15.6 inches, 1.3GHz)', 'Screen Size': '15.6 inches', 'Processor Brand': 'Intel UHD', 'Processor Speed': '1.3GHz'}, {'human_0': 'Acer Aspire S7 13.3-Inch Touchscreen Ultrabook (Intel Core i5-4200U Processor up to 2.6GHz, 8GB DDR3 Memory, 256GB SSD, FHD 1080P Touchscreen Display, Backlit Keyboard, 802.11AC WiFi, Windows 8.1, 0.5 inch thin and 2.9 Lbs) Crystal White', 'system_0': 'Brand: Acer \\n Model: Aspire S7 \\n Screen Size: 13.3 inches \\n Screen Type: Touchscreen \\n Processor Brand: Intel Core i5-4200U \\n Processor Speed: 2.6GHz \\n Memory: 8GB DDR3 \\n Storage: 256GB SSD \\n Resolution: FHD 1080P \\n Keyboard: Backlit\\n Wireless Connectivity: 802.11AC WiFi \\n Operating System: Windows 8.1 \\n Color: Crystal White \\n Thickness: 0.5 inch \\n Weight: 2.9 lbs', 'input': 'HP Pavilion 15 eg3033TX i5 1335U (8U6L6PA) (MX550 2GB, 15.6 inches, 1.3GHz)', 'Screen Size': '15.6 inches', 'Processor Brand': 'MX550 2GB', 'Processor Speed': '1.3GHz'}, {'human_0': 'Acer Aspire S7 13.3-Inch Touchscreen Ultrabook (Intel Core i5-4200U Processor up to 2.6GHz, 8GB DDR3 Memory, 256GB SSD, FHD 1080P Touchscreen Display, Backlit Keyboard, 802.11AC WiFi, Windows 8.1, 0.5 inch thin and 2.9 Lbs) Crystal White', 'system_0': 'Brand: Acer \\n Model: Aspire S7 \\n Screen Size: 13.3 inches \\n Screen Type: Touchscreen \\n Processor Brand: Intel Core i5-4200U \\n Processor Speed: 2.6GHz \\n Memory: 8GB DDR3 \\n Storage: 256GB SSD \\n Resolution: FHD 1080P \\n Keyboard: Backlit\\n Wireless Connectivity: 802.11AC WiFi \\n Operating System: Windows 8.1 \\n Color: Crystal White \\n Thickness: 0.5 inch \\n Weight: 2.9 lbs', 'input': 'HP Probook 450 G9 i5 1235U (6M0Y9PA) (Intel UHD, 15.6 inches, 1.3GHz)', 'Screen Size': '15.6 inches', 'Processor Brand': 'Intel UHD', 'Processor Speed': '1.3GHz'}, {'human_0': 'Acer Aspire S7 13.3-Inch Touchscreen Ultrabook (Intel Core i5-4200U Processor up to 2.6GHz, 8GB DDR3 Memory, 256GB SSD, FHD 1080P Touchscreen Display, Backlit Keyboard, 802.11AC WiFi, Windows 8.1, 0.5 inch thin and 2.9 Lbs) Crystal White', 'system_0': 'Brand: Acer \\n Model: Aspire S7 \\n Screen Size: 13.3 inches \\n Screen Type: Touchscreen \\n Processor Brand: Intel Core i5-4200U \\n Processor Speed: 2.6GHz \\n Memory: 8GB DDR3 \\n Storage: 256GB SSD \\n Resolution: FHD 1080P \\n Keyboard: Backlit\\n Wireless Connectivity: 802.11AC WiFi \\n Operating System: Windows 8.1 \\n Color: Crystal White \\n Thickness: 0.5 inch \\n Weight: 2.9 lbs', 'input': 'HP Pavilion 15 eg2035TX i5 1235U (6K781PA) (MX550 2GB, 15.6 inches, 1.3GHz)', 'Screen Size': '15.6 inches', 'Processor Brand': 'MX550 2GB', 'Processor Speed': '1.3GHz'}, {'human_0': 'Acer Aspire S7 13.3-Inch Touchscreen Ultrabook (Intel Core i5-4200U Processor up to 2.6GHz, 8GB DDR3 Memory, 256GB SSD, FHD 1080P Touchscreen Display, Backlit Keyboard, 802.11AC WiFi, Windows 8.1, 0.5 inch thin and 2.9 Lbs) Crystal White', 'system_0': 'Brand: Acer \\n Model: Aspire S7 \\n Screen Size: 13.3 inches \\n Screen Type: Touchscreen \\n Processor Brand: Intel Core i5-4200U \\n Processor Speed: 2.6GHz \\n Memory: 8GB DDR3 \\n Storage: 256GB SSD \\n Resolution: FHD 1080P \\n Keyboard: Backlit\\n Wireless Connectivity: 802.11AC WiFi \\n Operating System: Windows 8.1 \\n Color: Crystal White \\n Thickness: 0.5 inch \\n Weight: 2.9 lbs', 'input': 'HP Pavilion 15 eg2036TX i5 1235U (6K782PA) (MX550 2GB, 15.6 inches, 1.3GHz)', 'Screen Size': '15.6 inches', 'Processor Brand': 'MX550 2GB', 'Processor Speed': '1.3GHz'}, {'human_0': 'Acer Aspire S7 13.3-Inch Touchscreen Ultrabook (Intel Core i5-4200U Processor up to 2.6GHz, 8GB DDR3 Memory, 256GB SSD, FHD 1080P Touchscreen Display, Backlit Keyboard, 802.11AC WiFi, Windows 8.1, 0.5 inch thin and 2.9 Lbs) Crystal White', 'system_0': 'Brand: Acer \\n Model: Aspire S7 \\n Screen Size: 13.3 inches \\n Screen Type: Touchscreen \\n Processor Brand: Intel Core i5-4200U \\n Processor Speed: 2.6GHz \\n Memory: 8GB DDR3 \\n Storage: 256GB SSD \\n Resolution: FHD 1080P \\n Keyboard: Backlit\\n Wireless Connectivity: 802.11AC WiFi \\n Operating System: Windows 8.1 \\n Color: Crystal White \\n Thickness: 0.5 inch \\n Weight: 2.9 lbs', 'input': 'HP Pavilion 15 eg3094TU i5 1335U (8C5L5PA) (Intel Iris Xe, 15.6 inches, 1.3GHz)', 'Screen Size': '15.6 inches', 'Processor Brand': 'Intel Iris Xe', 'Processor Speed': '1.3GHz'}, {'human_0': 'Acer Aspire S7 13.3-Inch Touchscreen Ultrabook (Intel Core i5-4200U Processor up to 2.6GHz, 8GB DDR3 Memory, 256GB SSD, FHD 1080P Touchscreen Display, Backlit Keyboard, 802.11AC WiFi, Windows 8.1, 0.5 inch thin and 2.9 Lbs) Crystal White', 'system_0': 'Brand: Acer \\n Model: Aspire S7 \\n Screen Size: 13.3 inches \\n Screen Type: Touchscreen \\n Processor Brand: Intel Core i5-4200U \\n Processor Speed: 2.6GHz \\n Memory: 8GB DDR3 \\n Storage: 256GB SSD \\n Resolution: FHD 1080P \\n Keyboard: Backlit\\n Wireless Connectivity: 802.11AC WiFi \\n Operating System: Windows 8.1 \\n Color: Crystal White \\n Thickness: 0.5 inch \\n Weight: 2.9 lbs', 'input': 'HP Pavilion 15 eg2085TU i5 1240P (7C0Q7PA) (Intel Iris Xe, 15.6 inches, 1.7GHz)', 'Screen Size': '15.6 inches', 'Processor Brand': 'Intel Iris Xe', 'Processor Speed': '1.7GHz'}, {'human_0': 'Acer Aspire S7 13.3-Inch Touchscreen Ultrabook (Intel Core i5-4200U Processor up to 2.6GHz, 8GB DDR3 Memory, 256GB SSD, FHD 1080P Touchscreen Display, Backlit Keyboard, 802.11AC WiFi, Windows 8.1, 0.5 inch thin and 2.9 Lbs) Crystal White', 'system_0': 'Brand: Acer \\n Model: Aspire S7 \\n Screen Size: 13.3 inches \\n Screen Type: Touchscreen \\n Processor Brand: Intel Core i5-4200U \\n Processor Speed: 2.6GHz \\n Memory: 8GB DDR3 \\n Storage: 256GB SSD \\n Resolution: FHD 1080P \\n Keyboard: Backlit\\n Wireless Connectivity: 802.11AC WiFi \\n Operating System: Windows 8.1 \\n Color: Crystal White \\n Thickness: 0.5 inch \\n Weight: 2.9 lbs', 'input': 'HP Pavilion X360 14 ek0131TU i3 1215U (7C0P6PA) (Intel UHD, 14 inches, 1.2GHz)', 'Screen Size': '14 inches', 'Processor Brand': 'Intel UHD', 'Processor Speed': '1.2GHz'}, {'human_0': 'Acer Aspire S7 13.3-Inch Touchscreen Ultrabook (Intel Core i5-4200U Processor up to 2.6GHz, 8GB DDR3 Memory, 256GB SSD, FHD 1080P Touchscreen Display, Backlit Keyboard, 802.11AC WiFi, Windows 8.1, 0.5 inch thin and 2.9 Lbs) Crystal White', 'system_0': 'Brand: Acer \\n Model: Aspire S7 \\n Screen Size: 13.3 inches \\n Screen Type: Touchscreen \\n Processor Brand: Intel Core i5-4200U \\n Processor Speed: 2.6GHz \\n Memory: 8GB DDR3 \\n Storage: 256GB SSD \\n Resolution: FHD 1080P \\n Keyboard: Backlit\\n Wireless Connectivity: 802.11AC WiFi \\n Operating System: Windows 8.1 \\n Color: Crystal White \\n Thickness: 0.5 inch \\n Weight: 2.9 lbs', 'input': 'HP Pavilion X360 14 ek0130TU i3 1215U (7C0P5PA) (Intel UHD, 14 inches, 1.2GHz)', 'Screen Size': '14 inches', 'Processor Brand': 'Intel UHD', 'Processor Speed': '1.2GHz'}, {'human_0': 'Acer Aspire S7 13.3-Inch Touchscreen Ultrabook (Intel Core i5-4200U Processor up to 2.6GHz, 8GB DDR3 Memory, 256GB SSD, FHD 1080P Touchscreen Display, Backlit Keyboard, 802.11AC WiFi, Windows 8.1, 0.5 inch thin and 2.9 Lbs) Crystal White', 'system_0': 'Brand: Acer \\n Model: Aspire S7 \\n Screen Size: 13.3 inches \\n Screen Type: Touchscreen \\n Processor Brand: Intel Core i5-4200U \\n Processor Speed: 2.6GHz \\n Memory: 8GB DDR3 \\n Storage: 256GB SSD \\n Resolution: FHD 1080P \\n Keyboard: Backlit\\n Wireless Connectivity: 802.11AC WiFi \\n Operating System: Windows 8.1 \\n Color: Crystal White \\n Thickness: 0.5 inch \\n Weight: 2.9 lbs', 'input': 'HP Pavilion 15 eg3098TU i3 1315U (8C5L9PA) (Intel UHD, 15.6 inches, 1.2GHz)', 'Screen Size': '15.6 inches', 'Processor Brand': 'Intel UHD', 'Processor Speed': '1.2GHz'}, {'human_0': 'Acer Aspire S7 13.3-Inch Touchscreen Ultrabook (Intel Core i5-4200U Processor up to 2.6GHz, 8GB DDR3 Memory, 256GB SSD, FHD 1080P Touchscreen Display, Backlit Keyboard, 802.11AC WiFi, Windows 8.1, 0.5 inch thin and 2.9 Lbs) Crystal White', 'system_0': 'Brand: Acer \\n Model: Aspire S7 \\n Screen Size: 13.3 inches \\n Screen Type: Touchscreen \\n Processor Brand: Intel Core i5-4200U \\n Processor Speed: 2.6GHz \\n Memory: 8GB DDR3 \\n Storage: 256GB SSD \\n Resolution: FHD 1080P \\n Keyboard: Backlit\\n Wireless Connectivity: 802.11AC WiFi \\n Operating System: Windows 8.1 \\n Color: Crystal White \\n Thickness: 0.5 inch \\n Weight: 2.9 lbs', 'input': 'Asus Vivobook Go 15 E1504FA R5 7520U (NJ776W) (Radeon, 15.6 inches, 2.8GHz)', 'Screen Size': '15.6 inches', 'Processor Brand': 'Radeon', 'Processor Speed': '2.8GHz'}, {'human_0': 'Acer Aspire S7 13.3-Inch Touchscreen Ultrabook (Intel Core i5-4200U Processor up to 2.6GHz, 8GB DDR3 Memory, 256GB SSD, FHD 1080P Touchscreen Display, Backlit Keyboard, 802.11AC WiFi, Windows 8.1, 0.5 inch thin and 2.9 Lbs) Crystal White', 'system_0': 'Brand: Acer \\n Model: Aspire S7 \\n Screen Size: 13.3 inches \\n Screen Type: Touchscreen \\n Processor Brand: Intel Core i5-4200U \\n Processor Speed: 2.6GHz \\n Memory: 8GB DDR3 \\n Storage: 256GB SSD \\n Resolution: FHD 1080P \\n Keyboard: Backlit\\n Wireless Connectivity: 802.11AC WiFi \\n Operating System: Windows 8.1 \\n Color: Crystal White \\n Thickness: 0.5 inch \\n Weight: 2.9 lbs', 'input': 'Asus Vivobook 15 OLED A1505ZA i5 12500H (L1337W) (Intel Iris Xe, 15.6 inches, 2.5GHz)', 'Screen Size': '15.6 inches', 'Processor Brand': 'Intel Iris Xe', 'Processor Speed': '2.5GHz'}, {'human_0': 'Acer Aspire S7 13.3-Inch Touchscreen Ultrabook (Intel Core i5-4200U Processor up to 2.6GHz, 8GB DDR3 Memory, 256GB SSD, FHD 1080P Touchscreen Display, Backlit Keyboard, 802.11AC WiFi, Windows 8.1, 0.5 inch thin and 2.9 Lbs) Crystal White', 'system_0': 'Brand: Acer \\n Model: Aspire S7 \\n Screen Size: 13.3 inches \\n Screen Type: Touchscreen \\n Processor Brand: Intel Core i5-4200U \\n Processor Speed: 2.6GHz \\n Memory: 8GB DDR3 \\n Storage: 256GB SSD \\n Resolution: FHD 1080P \\n Keyboard: Backlit\\n Wireless Connectivity: 802.11AC WiFi \\n Operating System: Windows 8.1 \\n Color: Crystal White \\n Thickness: 0.5 inch \\n Weight: 2.9 lbs', 'input': 'Asus Vivobook X1404ZA i3 1215U (NK246W) (Intel UHD, 14 inches, 1.2GHz)', 'Screen Size': '14 inches', 'Processor Brand': 'Intel UHD', 'Processor Speed': '1.2GHz'}, {'human_0': 'Acer Aspire S7 13.3-Inch Touchscreen Ultrabook (Intel Core i5-4200U Processor up to 2.6GHz, 8GB DDR3 Memory, 256GB SSD, FHD 1080P Touchscreen Display, Backlit Keyboard, 802.11AC WiFi, Windows 8.1, 0.5 inch thin and 2.9 Lbs) Crystal White', 'system_0': 'Brand: Acer \\n Model: Aspire S7 \\n Screen Size: 13.3 inches \\n Screen Type: Touchscreen \\n Processor Brand: Intel Core i5-4200U \\n Processor Speed: 2.6GHz \\n Memory: 8GB DDR3 \\n Storage: 256GB SSD \\n Resolution: FHD 1080P \\n Keyboard: Backlit\\n Wireless Connectivity: 802.11AC WiFi \\n Operating System: Windows 8.1 \\n Color: Crystal White \\n Thickness: 0.5 inch \\n Weight: 2.9 lbs', 'input': 'Asus TUF Gaming F15 FX506HF i5 11400H (HN014W) (RTX 2050 4GB, 15.6 inches, 2.7GHz)', 'Screen Size': '15.6 inches', 'Processor Brand': 'RTX 2050 4GB', 'Processor Speed': '2.7GHz'}, {'human_0': 'Acer Aspire S7 13.3-Inch Touchscreen Ultrabook (Intel Core i5-4200U Processor up to 2.6GHz, 8GB DDR3 Memory, 256GB SSD, FHD 1080P Touchscreen Display, Backlit Keyboard, 802.11AC WiFi, Windows 8.1, 0.5 inch thin and 2.9 Lbs) Crystal White', 'system_0': 'Brand: Acer \\n Model: Aspire S7 \\n Screen Size: 13.3 inches \\n Screen Type: Touchscreen \\n Processor Brand: Intel Core i5-4200U \\n Processor Speed: 2.6GHz \\n Memory: 8GB DDR3 \\n Storage: 256GB SSD \\n Resolution: FHD 1080P \\n Keyboard: Backlit\\n Wireless Connectivity: 802.11AC WiFi \\n Operating System: Windows 8.1 \\n Color: Crystal White \\n Thickness: 0.5 inch \\n Weight: 2.9 lbs', 'input': 'Asus Vivobook 16 X1605VA i5 1335U (MB360W) (Intel Iris Xe, 16 inches, 1.3GHz)', 'Screen Size': '16 inches', 'Processor Brand': 'Intel Iris Xe', 'Processor Speed': '1.3GHz'}, {'human_0': 'Acer Aspire S7 13.3-Inch Touchscreen Ultrabook (Intel Core i5-4200U Processor up to 2.6GHz, 8GB DDR3 Memory, 256GB SSD, FHD 1080P Touchscreen Display, Backlit Keyboard, 802.11AC WiFi, Windows 8.1, 0.5 inch thin and 2.9 Lbs) Crystal White', 'system_0': 'Brand: Acer \\n Model: Aspire S7 \\n Screen Size: 13.3 inches \\n Screen Type: Touchscreen \\n Processor Brand: Intel Core i5-4200U \\n Processor Speed: 2.6GHz \\n Memory: 8GB DDR3 \\n Storage: 256GB SSD \\n Resolution: FHD 1080P \\n Keyboard: Backlit\\n Wireless Connectivity: 802.11AC WiFi \\n Operating System: Windows 8.1 \\n Color: Crystal White \\n Thickness: 0.5 inch \\n Weight: 2.9 lbs', 'input': 'Asus Vivobook 15 X1504ZA i3 1215U (NJ102W) (Intel UHD, 15.6 inches, 1.2GHz)', 'Screen Size': '15.6 inches', 'Processor Brand': 'Intel UHD', 'Processor Speed': '1.2GHz'}, {'human_0': 'Acer Aspire S7 13.3-Inch Touchscreen Ultrabook (Intel Core i5-4200U Processor up to 2.6GHz, 8GB DDR3 Memory, 256GB SSD, FHD 1080P Touchscreen Display, Backlit Keyboard, 802.11AC WiFi, Windows 8.1, 0.5 inch thin and 2.9 Lbs) Crystal White', 'system_0': 'Brand: Acer \\n Model: Aspire S7 \\n Screen Size: 13.3 inches \\n Screen Type: Touchscreen \\n Processor Brand: Intel Core i5-4200U \\n Processor Speed: 2.6GHz \\n Memory: 8GB DDR3 \\n Storage: 256GB SSD \\n Resolution: FHD 1080P \\n Keyboard: Backlit\\n Wireless Connectivity: 802.11AC WiFi \\n Operating System: Windows 8.1 \\n Color: Crystal White \\n Thickness: 0.5 inch \\n Weight: 2.9 lbs', 'input': 'Asus TUF Gaming F15 FX507ZC4 i5 12500H (HN229W) (RTX 3050 4GB, 15.6 inches, 2.5GHz)', 'Screen Size': '15.6 inches', 'Processor Brand': 'RTX 3050 4GB', 'Processor Speed': '2.5GHz'}, {'human_0': 'Acer Aspire S7 13.3-Inch Touchscreen Ultrabook (Intel Core i5-4200U Processor up to 2.6GHz, 8GB DDR3 Memory, 256GB SSD, FHD 1080P Touchscreen Display, Backlit Keyboard, 802.11AC WiFi, Windows 8.1, 0.5 inch thin and 2.9 Lbs) Crystal White', 'system_0': 'Brand: Acer \\n Model: Aspire S7 \\n Screen Size: 13.3 inches \\n Screen Type: Touchscreen \\n Processor Brand: Intel Core i5-4200U \\n Processor Speed: 2.6GHz \\n Memory: 8GB DDR3 \\n Storage: 256GB SSD \\n Resolution: FHD 1080P \\n Keyboard: Backlit\\n Wireless Connectivity: 802.11AC WiFi \\n Operating System: Windows 8.1 \\n Color: Crystal White \\n Thickness: 0.5 inch \\n Weight: 2.9 lbs', 'input': 'Asus Vivobook 15 OLED A1505VA i5 13500H (L1341W) (Intel Iris Xe, 15.6 inches, 2.6GHz)', 'Screen Size': '15.6 inches', 'Processor Brand': 'Intel Iris Xe', 'Processor Speed': '2.6GHz'}, {'human_0': 'Acer Aspire S7 13.3-Inch Touchscreen Ultrabook (Intel Core i5-4200U Processor up to 2.6GHz, 8GB DDR3 Memory, 256GB SSD, FHD 1080P Touchscreen Display, Backlit Keyboard, 802.11AC WiFi, Windows 8.1, 0.5 inch thin and 2.9 Lbs) Crystal White', 'system_0': 'Brand: Acer \\n Model: Aspire S7 \\n Screen Size: 13.3 inches \\n Screen Type: Touchscreen \\n Processor Brand: Intel Core i5-4200U \\n Processor Speed: 2.6GHz \\n Memory: 8GB DDR3 \\n Storage: 256GB SSD \\n Resolution: FHD 1080P \\n Keyboard: Backlit\\n Wireless Connectivity: 802.11AC WiFi \\n Operating System: Windows 8.1 \\n Color: Crystal White \\n Thickness: 0.5 inch \\n Weight: 2.9 lbs', 'input': 'Asus TUF Gaming F17 FX706HF i5 11400H (HX390W) (RTX 2050 4GB, 17.3 inches, 2.7GHz)', 'Screen Size': '17.3 inches', 'Processor Brand': 'RTX 2050 4GB', 'Processor Speed': '2.7GHz'}, {'human_0': 'Acer Aspire S7 13.3-Inch Touchscreen Ultrabook (Intel Core i5-4200U Processor up to 2.6GHz, 8GB DDR3 Memory, 256GB SSD, FHD 1080P Touchscreen Display, Backlit Keyboard, 802.11AC WiFi, Windows 8.1, 0.5 inch thin and 2.9 Lbs) Crystal White', 'system_0': 'Brand: Acer \\n Model: Aspire S7 \\n Screen Size: 13.3 inches \\n Screen Type: Touchscreen \\n Processor Brand: Intel Core i5-4200U \\n Processor Speed: 2.6GHz \\n Memory: 8GB DDR3 \\n Storage: 256GB SSD \\n Resolution: FHD 1080P \\n Keyboard: Backlit\\n Wireless Connectivity: 802.11AC WiFi \\n Operating System: Windows 8.1 \\n Color: Crystal White \\n Thickness: 0.5 inch \\n Weight: 2.9 lbs', 'input': 'Asus Vivobook 14 X1404VA i5 1335U (NK050W) (Intel Iris Xe, 14 inches, 1.3GHz)', 'Screen Size': '14 inches', 'Processor Brand': 'Intel Iris Xe', 'Processor Speed': '1.3GHz'}, {'human_0': 'Acer Aspire S7 13.3-Inch Touchscreen Ultrabook (Intel Core i5-4200U Processor up to 2.6GHz, 8GB DDR3 Memory, 256GB SSD, FHD 1080P Touchscreen Display, Backlit Keyboard, 802.11AC WiFi, Windows 8.1, 0.5 inch thin and 2.9 Lbs) Crystal White', 'system_0': 'Brand: Acer \\n Model: Aspire S7 \\n Screen Size: 13.3 inches \\n Screen Type: Touchscreen \\n Processor Brand: Intel Core i5-4200U \\n Processor Speed: 2.6GHz \\n Memory: 8GB DDR3 \\n Storage: 256GB SSD \\n Resolution: FHD 1080P \\n Keyboard: Backlit\\n Wireless Connectivity: 802.11AC WiFi \\n Operating System: Windows 8.1 \\n Color: Crystal White \\n Thickness: 0.5 inch \\n Weight: 2.9 lbs', 'input': 'Asus TUF Gaming A15 FA507NU R5 7535HS (LP105W) (RTX 4050 6GB, 15.6 inches, 3.3GHz)', 'Screen Size': '15.6 inches', 'Processor Brand': 'RTX 4050 6GB', 'Processor Speed': '3.3GHz'}, {'human_0': 'Acer Aspire S7 13.3-Inch Touchscreen Ultrabook (Intel Core i5-4200U Processor up to 2.6GHz, 8GB DDR3 Memory, 256GB SSD, FHD 1080P Touchscreen Display, Backlit Keyboard, 802.11AC WiFi, Windows 8.1, 0.5 inch thin and 2.9 Lbs) Crystal White', 'system_0': 'Brand: Acer \\n Model: Aspire S7 \\n Screen Size: 13.3 inches \\n Screen Type: Touchscreen \\n Processor Brand: Intel Core i5-4200U \\n Processor Speed: 2.6GHz \\n Memory: 8GB DDR3 \\n Storage: 256GB SSD \\n Resolution: FHD 1080P \\n Keyboard: Backlit\\n Wireless Connectivity: 802.11AC WiFi \\n Operating System: Windows 8.1 \\n Color: Crystal White \\n Thickness: 0.5 inch \\n Weight: 2.9 lbs', 'input': 'Asus Vivobook 15 X1504VA i5 1335U (NJ025W) (Intel UHD, 15.6 inches, 1.3GHz)', 'Screen Size': '15.6 inches', 'Processor Brand': 'Intel UHD', 'Processor Speed': '1.3GHz'}, {'human_0': 'Acer Aspire S7 13.3-Inch Touchscreen Ultrabook (Intel Core i5-4200U Processor up to 2.6GHz, 8GB DDR3 Memory, 256GB SSD, FHD 1080P Touchscreen Display, Backlit Keyboard, 802.11AC WiFi, Windows 8.1, 0.5 inch thin and 2.9 Lbs) Crystal White', 'system_0': 'Brand: Acer \\n Model: Aspire S7 \\n Screen Size: 13.3 inches \\n Screen Type: Touchscreen \\n Processor Brand: Intel Core i5-4200U \\n Processor Speed: 2.6GHz \\n Memory: 8GB DDR3 \\n Storage: 256GB SSD \\n Resolution: FHD 1080P \\n Keyboard: Backlit\\n Wireless Connectivity: 802.11AC WiFi \\n Operating System: Windows 8.1 \\n Color: Crystal White \\n Thickness: 0.5 inch \\n Weight: 2.9 lbs', 'input': 'Asus Vivobook S 14 Flip TP3402VA i5 13500H (LZ031W) (Intel Iris Xe, 14 inches, 2.6GHz)', 'Screen Size': '14 inches', 'Processor Brand': 'Intel Iris Xe', 'Processor Speed': '2.6GHz'}, {'human_0': 'Acer Aspire S7 13.3-Inch Touchscreen Ultrabook (Intel Core i5-4200U Processor up to 2.6GHz, 8GB DDR3 Memory, 256GB SSD, FHD 1080P Touchscreen Display, Backlit Keyboard, 802.11AC WiFi, Windows 8.1, 0.5 inch thin and 2.9 Lbs) Crystal White', 'system_0': 'Brand: Acer \\n Model: Aspire S7 \\n Screen Size: 13.3 inches \\n Screen Type: Touchscreen \\n Processor Brand: Intel Core i5-4200U \\n Processor Speed: 2.6GHz \\n Memory: 8GB DDR3 \\n Storage: 256GB SSD \\n Resolution: FHD 1080P \\n Keyboard: Backlit\\n Wireless Connectivity: 802.11AC WiFi \\n Operating System: Windows 8.1 \\n Color: Crystal White \\n Thickness: 0.5 inch \\n Weight: 2.9 lbs', 'input': 'Asus Vivobook X415EA i3 1115G4 (EK2034W) (Intel UHD, 14 inches, 3GHz)', 'Screen Size': '14 inches', 'Processor Brand': 'Intel UHD', 'Processor Speed': '3GHz'}, {'human_0': 'Acer Aspire S7 13.3-Inch Touchscreen Ultrabook (Intel Core i5-4200U Processor up to 2.6GHz, 8GB DDR3 Memory, 256GB SSD, FHD 1080P Touchscreen Display, Backlit Keyboard, 802.11AC WiFi, Windows 8.1, 0.5 inch thin and 2.9 Lbs) Crystal White', 'system_0': 'Brand: Acer \\n Model: Aspire S7 \\n Screen Size: 13.3 inches \\n Screen Type: Touchscreen \\n Processor Brand: Intel Core i5-4200U \\n Processor Speed: 2.6GHz \\n Memory: 8GB DDR3 \\n Storage: 256GB SSD \\n Resolution: FHD 1080P \\n Keyboard: Backlit\\n Wireless Connectivity: 802.11AC WiFi \\n Operating System: Windows 8.1 \\n Color: Crystal White \\n Thickness: 0.5 inch \\n Weight: 2.9 lbs', 'input': 'Asus TUF Gaming F15 FX507VU i7 13620H (LP167W) (RTX 4050 6GB, 15.6 inches, 2.4GHz)', 'Screen Size': '15.6 inches', 'Processor Brand': 'RTX 4050 6GB', 'Processor Speed': '2.4GHz'}, {'human_0': 'Acer Aspire S7 13.3-Inch Touchscreen Ultrabook (Intel Core i5-4200U Processor up to 2.6GHz, 8GB DDR3 Memory, 256GB SSD, FHD 1080P Touchscreen Display, Backlit Keyboard, 802.11AC WiFi, Windows 8.1, 0.5 inch thin and 2.9 Lbs) Crystal White', 'system_0': 'Brand: Acer \\n Model: Aspire S7 \\n Screen Size: 13.3 inches \\n Screen Type: Touchscreen \\n Processor Brand: Intel Core i5-4200U \\n Processor Speed: 2.6GHz \\n Memory: 8GB DDR3 \\n Storage: 256GB SSD \\n Resolution: FHD 1080P \\n Keyboard: Backlit\\n Wireless Connectivity: 802.11AC WiFi \\n Operating System: Windows 8.1 \\n Color: Crystal White \\n Thickness: 0.5 inch \\n Weight: 2.9 lbs', 'input': 'Asus TUF Gaming F15 FX506HC i5 11400H (HN949W) (RTX 3050 4GB, 15.6 inches, 2.7GHz)', 'Screen Size': '15.6 inches', 'Processor Brand': 'RTX 3050 4GB', 'Processor Speed': '2.7GHz'}, {'human_0': 'Acer Aspire S7 13.3-Inch Touchscreen Ultrabook (Intel Core i5-4200U Processor up to 2.6GHz, 8GB DDR3 Memory, 256GB SSD, FHD 1080P Touchscreen Display, Backlit Keyboard, 802.11AC WiFi, Windows 8.1, 0.5 inch thin and 2.9 Lbs) Crystal White', 'system_0': 'Brand: Acer \\n Model: Aspire S7 \\n Screen Size: 13.3 inches \\n Screen Type: Touchscreen \\n Processor Brand: Intel Core i5-4200U \\n Processor Speed: 2.6GHz \\n Memory: 8GB DDR3 \\n Storage: 256GB SSD \\n Resolution: FHD 1080P \\n Keyboard: Backlit\\n Wireless Connectivity: 802.11AC WiFi \\n Operating System: Windows 8.1 \\n Color: Crystal White \\n Thickness: 0.5 inch \\n Weight: 2.9 lbs', 'input': 'Asus TUF Gaming A15 FA506NF R5 7535HS (HN012W) (RTX 2050 4GB, 15.6 inches, 3.3GHz)', 'Screen Size': '15.6 inches', 'Processor Brand': 'RTX 2050 4GB', 'Processor Speed': '3.3GHz'}, {'human_0': 'Acer Aspire S7 13.3-Inch Touchscreen Ultrabook (Intel Core i5-4200U Processor up to 2.6GHz, 8GB DDR3 Memory, 256GB SSD, FHD 1080P Touchscreen Display, Backlit Keyboard, 802.11AC WiFi, Windows 8.1, 0.5 inch thin and 2.9 Lbs) Crystal White', 'system_0': 'Brand: Acer \\n Model: Aspire S7 \\n Screen Size: 13.3 inches \\n Screen Type: Touchscreen \\n Processor Brand: Intel Core i5-4200U \\n Processor Speed: 2.6GHz \\n Memory: 8GB DDR3 \\n Storage: 256GB SSD \\n Resolution: FHD 1080P \\n Keyboard: Backlit\\n Wireless Connectivity: 802.11AC WiFi \\n Operating System: Windows 8.1 \\n Color: Crystal White \\n Thickness: 0.5 inch \\n Weight: 2.9 lbs', 'input': 'Asus TUF Gaming F15 FX507ZC4 i5 12500H (HN074W) (RTX 3050 4GB, 15.6 inches, 2.5GHz)', 'Screen Size': '15.6 inches', 'Processor Brand': 'RTX 3050 4GB', 'Processor Speed': '2.5GHz'}, {'human_0': 'Acer Aspire S7 13.3-Inch Touchscreen Ultrabook (Intel Core i5-4200U Processor up to 2.6GHz, 8GB DDR3 Memory, 256GB SSD, FHD 1080P Touchscreen Display, Backlit Keyboard, 802.11AC WiFi, Windows 8.1, 0.5 inch thin and 2.9 Lbs) Crystal White', 'system_0': 'Brand: Acer \\n Model: Aspire S7 \\n Screen Size: 13.3 inches \\n Screen Type: Touchscreen \\n Processor Brand: Intel Core i5-4200U \\n Processor Speed: 2.6GHz \\n Memory: 8GB DDR3 \\n Storage: 256GB SSD \\n Resolution: FHD 1080P \\n Keyboard: Backlit\\n Wireless Connectivity: 802.11AC WiFi \\n Operating System: Windows 8.1 \\n Color: Crystal White \\n Thickness: 0.5 inch \\n Weight: 2.9 lbs', 'input': 'Asus Vivobook X515EA i3 1115G4 (EJ3948W) (Intel UHD, 15.6 inches, 3GHz)', 'Screen Size': '15.6 inches', 'Processor Brand': 'Intel UHD', 'Processor Speed': '3GHz'}, {'human_0': 'Acer Aspire S7 13.3-Inch Touchscreen Ultrabook (Intel Core i5-4200U Processor up to 2.6GHz, 8GB DDR3 Memory, 256GB SSD, FHD 1080P Touchscreen Display, Backlit Keyboard, 802.11AC WiFi, Windows 8.1, 0.5 inch thin and 2.9 Lbs) Crystal White', 'system_0': 'Brand: Acer \\n Model: Aspire S7 \\n Screen Size: 13.3 inches \\n Screen Type: Touchscreen \\n Processor Brand: Intel Core i5-4200U \\n Processor Speed: 2.6GHz \\n Memory: 8GB DDR3 \\n Storage: 256GB SSD \\n Resolution: FHD 1080P \\n Keyboard: Backlit\\n Wireless Connectivity: 802.11AC WiFi \\n Operating System: Windows 8.1 \\n Color: Crystal White \\n Thickness: 0.5 inch \\n Weight: 2.9 lbs', 'input': 'Asus Vivobook 14X OLED K3405VC i5 13500H (KM006W) (RTX 3050 4GB, 14 inches, 2.6GHz)', 'Screen Size': '14 inches', 'Processor Brand': 'RTX 3050 4GB', 'Processor Speed': '2.6GHz'}, {'human_0': 'Acer Aspire S7 13.3-Inch Touchscreen Ultrabook (Intel Core i5-4200U Processor up to 2.6GHz, 8GB DDR3 Memory, 256GB SSD, FHD 1080P Touchscreen Display, Backlit Keyboard, 802.11AC WiFi, Windows 8.1, 0.5 inch thin and 2.9 Lbs) Crystal White', 'system_0': 'Brand: Acer \\n Model: Aspire S7 \\n Screen Size: 13.3 inches \\n Screen Type: Touchscreen \\n Processor Brand: Intel Core i5-4200U \\n Processor Speed: 2.6GHz \\n Memory: 8GB DDR3 \\n Storage: 256GB SSD \\n Resolution: FHD 1080P \\n Keyboard: Backlit\\n Wireless Connectivity: 802.11AC WiFi \\n Operating System: Windows 8.1 \\n Color: Crystal White \\n Thickness: 0.5 inch \\n Weight: 2.9 lbs', 'input': 'Asus Vivobook 15 OLED A1505VA i9 13900H (L1386W) (Intel Iris Xe, 15.6 inches, 2.6GHz)', 'Screen Size': '15.6 inches', 'Processor Brand': 'Intel Iris Xe', 'Processor Speed': '2.6GHz'}, {'human_0': 'Acer Aspire S7 13.3-Inch Touchscreen Ultrabook (Intel Core i5-4200U Processor up to 2.6GHz, 8GB DDR3 Memory, 256GB SSD, FHD 1080P Touchscreen Display, Backlit Keyboard, 802.11AC WiFi, Windows 8.1, 0.5 inch thin and 2.9 Lbs) Crystal White', 'system_0': 'Brand: Acer \\n Model: Aspire S7 \\n Screen Size: 13.3 inches \\n Screen Type: Touchscreen \\n Processor Brand: Intel Core i5-4200U \\n Processor Speed: 2.6GHz \\n Memory: 8GB DDR3 \\n Storage: 256GB SSD \\n Resolution: FHD 1080P \\n Keyboard: Backlit\\n Wireless Connectivity: 802.11AC WiFi \\n Operating System: Windows 8.1 \\n Color: Crystal White \\n Thickness: 0.5 inch \\n Weight: 2.9 lbs', 'input': 'Asus Vivobook 15 OLED A1505VA i7 13700H (L1338W) (Intel Iris Xe, 15.6 inches, 2.4GHz)', 'Screen Size': '15.6 inches', 'Processor Brand': 'Intel Iris Xe', 'Processor Speed': '2.4GHz'}, {'human_0': 'Acer Aspire S7 13.3-Inch Touchscreen Ultrabook (Intel Core i5-4200U Processor up to 2.6GHz, 8GB DDR3 Memory, 256GB SSD, FHD 1080P Touchscreen Display, Backlit Keyboard, 802.11AC WiFi, Windows 8.1, 0.5 inch thin and 2.9 Lbs) Crystal White', 'system_0': 'Brand: Acer \\n Model: Aspire S7 \\n Screen Size: 13.3 inches \\n Screen Type: Touchscreen \\n Processor Brand: Intel Core i5-4200U \\n Processor Speed: 2.6GHz \\n Memory: 8GB DDR3 \\n Storage: 256GB SSD \\n Resolution: FHD 1080P \\n Keyboard: Backlit\\n Wireless Connectivity: 802.11AC WiFi \\n Operating System: Windows 8.1 \\n Color: Crystal White \\n Thickness: 0.5 inch \\n Weight: 2.9 lbs', 'input': 'Asus TUF Gaming A15 FA507NV R7 7735HS (LP031W) (RTX 4060 8GB, 15.6 inches, 3.2GHz)', 'Screen Size': '15.6 inches', 'Processor Brand': 'RTX 4060 8GB', 'Processor Speed': '3.2GHz'}, {'human_0': 'Acer Aspire S7 13.3-Inch Touchscreen Ultrabook (Intel Core i5-4200U Processor up to 2.6GHz, 8GB DDR3 Memory, 256GB SSD, FHD 1080P Touchscreen Display, Backlit Keyboard, 802.11AC WiFi, Windows 8.1, 0.5 inch thin and 2.9 Lbs) Crystal White', 'system_0': 'Brand: Acer \\n Model: Aspire S7 \\n Screen Size: 13.3 inches \\n Screen Type: Touchscreen \\n Processor Brand: Intel Core i5-4200U \\n Processor Speed: 2.6GHz \\n Memory: 8GB DDR3 \\n Storage: 256GB SSD \\n Resolution: FHD 1080P \\n Keyboard: Backlit\\n Wireless Connectivity: 802.11AC WiFi \\n Operating System: Windows 8.1 \\n Color: Crystal White \\n Thickness: 0.5 inch \\n Weight: 2.9 lbs', 'input': 'Asus Zenbook 14 OLED UX3402VA i5 1340P (KM085W) (Intel Iris Xe, 14 inches, 1.9GHz)', 'Screen Size': '14 inches', 'Processor Brand': 'Intel Iris Xe', 'Processor Speed': '1.9GHz'}, {'human_0': 'Acer Aspire S7 13.3-Inch Touchscreen Ultrabook (Intel Core i5-4200U Processor up to 2.6GHz, 8GB DDR3 Memory, 256GB SSD, FHD 1080P Touchscreen Display, Backlit Keyboard, 802.11AC WiFi, Windows 8.1, 0.5 inch thin and 2.9 Lbs) Crystal White', 'system_0': 'Brand: Acer \\n Model: Aspire S7 \\n Screen Size: 13.3 inches \\n Screen Type: Touchscreen \\n Processor Brand: Intel Core i5-4200U \\n Processor Speed: 2.6GHz \\n Memory: 8GB DDR3 \\n Storage: 256GB SSD \\n Resolution: FHD 1080P \\n Keyboard: Backlit\\n Wireless Connectivity: 802.11AC WiFi \\n Operating System: Windows 8.1 \\n Color: Crystal White \\n Thickness: 0.5 inch \\n Weight: 2.9 lbs', 'input': 'Asus Vivobook 15 OLED A1505VA i5 13500H (L1052W) (Intel UHD, 15.6 inches, 2.6GHz)', 'Screen Size': '15.6 inches', 'Processor Brand': 'Intel UHD', 'Processor Speed': '2.6GHz'}, {'human_0': 'Acer Aspire S7 13.3-Inch Touchscreen Ultrabook (Intel Core i5-4200U Processor up to 2.6GHz, 8GB DDR3 Memory, 256GB SSD, FHD 1080P Touchscreen Display, Backlit Keyboard, 802.11AC WiFi, Windows 8.1, 0.5 inch thin and 2.9 Lbs) Crystal White', 'system_0': 'Brand: Acer \\n Model: Aspire S7 \\n Screen Size: 13.3 inches \\n Screen Type: Touchscreen \\n Processor Brand: Intel Core i5-4200U \\n Processor Speed: 2.6GHz \\n Memory: 8GB DDR3 \\n Storage: 256GB SSD \\n Resolution: FHD 1080P \\n Keyboard: Backlit\\n Wireless Connectivity: 802.11AC WiFi \\n Operating System: Windows 8.1 \\n Color: Crystal White \\n Thickness: 0.5 inch \\n Weight: 2.9 lbs', 'input': 'Asus Zenbook 14 OLED UX3405MA Ultra 7 155H (PP152W) (Intel Arc Graphics, 14 inches, 1.4GHz)', 'Screen Size': '14 inches', 'Processor Brand': 'Intel Arc Graphics', 'Processor Speed': '1.4GHz'}, {'human_0': 'Acer Aspire S7 13.3-Inch Touchscreen Ultrabook (Intel Core i5-4200U Processor up to 2.6GHz, 8GB DDR3 Memory, 256GB SSD, FHD 1080P Touchscreen Display, Backlit Keyboard, 802.11AC WiFi, Windows 8.1, 0.5 inch thin and 2.9 Lbs) Crystal White', 'system_0': 'Brand: Acer \\n Model: Aspire S7 \\n Screen Size: 13.3 inches \\n Screen Type: Touchscreen \\n Processor Brand: Intel Core i5-4200U \\n Processor Speed: 2.6GHz \\n Memory: 8GB DDR3 \\n Storage: 256GB SSD \\n Resolution: FHD 1080P \\n Keyboard: Backlit\\n Wireless Connectivity: 802.11AC WiFi \\n Operating System: Windows 8.1 \\n Color: Crystal White \\n Thickness: 0.5 inch \\n Weight: 2.9 lbs', 'input': 'Asus Vivobook 15 X1504VA i7 1355U (NJ023W) (Intel Iris Xe, 15.6 inches, 1.7GHz)', 'Screen Size': '15.6 inches', 'Processor Brand': 'Intel Iris Xe', 'Processor Speed': '1.7GHz'}, {'human_0': 'Acer Aspire S7 13.3-Inch Touchscreen Ultrabook (Intel Core i5-4200U Processor up to 2.6GHz, 8GB DDR3 Memory, 256GB SSD, FHD 1080P Touchscreen Display, Backlit Keyboard, 802.11AC WiFi, Windows 8.1, 0.5 inch thin and 2.9 Lbs) Crystal White', 'system_0': 'Brand: Acer \\n Model: Aspire S7 \\n Screen Size: 13.3 inches \\n Screen Type: Touchscreen \\n Processor Brand: Intel Core i5-4200U \\n Processor Speed: 2.6GHz \\n Memory: 8GB DDR3 \\n Storage: 256GB SSD \\n Resolution: FHD 1080P \\n Keyboard: Backlit\\n Wireless Connectivity: 802.11AC WiFi \\n Operating System: Windows 8.1 \\n Color: Crystal White \\n Thickness: 0.5 inch \\n Weight: 2.9 lbs', 'input': 'Asus Zenbook 14 Flip OLED UP3404VA i5 1340P (KN038W) (Intel Iris Xe, 14 inches, 1.9GHz)', 'Screen Size': '14 inches', 'Processor Brand': 'Intel Iris Xe', 'Processor Speed': '1.9GHz'}, {'human_0': 'Acer Aspire S7 13.3-Inch Touchscreen Ultrabook (Intel Core i5-4200U Processor up to 2.6GHz, 8GB DDR3 Memory, 256GB SSD, FHD 1080P Touchscreen Display, Backlit Keyboard, 802.11AC WiFi, Windows 8.1, 0.5 inch thin and 2.9 Lbs) Crystal White', 'system_0': 'Brand: Acer \\n Model: Aspire S7 \\n Screen Size: 13.3 inches \\n Screen Type: Touchscreen \\n Processor Brand: Intel Core i5-4200U \\n Processor Speed: 2.6GHz \\n Memory: 8GB DDR3 \\n Storage: 256GB SSD \\n Resolution: FHD 1080P \\n Keyboard: Backlit\\n Wireless Connectivity: 802.11AC WiFi \\n Operating System: Windows 8.1 \\n Color: Crystal White \\n Thickness: 0.5 inch \\n Weight: 2.9 lbs', 'input': 'Asus Zenbook 14 OLED UX3405MA Ultra 5 125H (PP151W) (Intel Arc Graphics, 14 inches, 1.2GHz)', 'Screen Size': '14 inches', 'Processor Brand': 'Intel Arc Graphics', 'Processor Speed': '1.2GHz'}, {'human_0': 'Acer Aspire S7 13.3-Inch Touchscreen Ultrabook (Intel Core i5-4200U Processor up to 2.6GHz, 8GB DDR3 Memory, 256GB SSD, FHD 1080P Touchscreen Display, Backlit Keyboard, 802.11AC WiFi, Windows 8.1, 0.5 inch thin and 2.9 Lbs) Crystal White', 'system_0': 'Brand: Acer \\n Model: Aspire S7 \\n Screen Size: 13.3 inches \\n Screen Type: Touchscreen \\n Processor Brand: Intel Core i5-4200U \\n Processor Speed: 2.6GHz \\n Memory: 8GB DDR3 \\n Storage: 256GB SSD \\n Resolution: FHD 1080P \\n Keyboard: Backlit\\n Wireless Connectivity: 802.11AC WiFi \\n Operating System: Windows 8.1 \\n Color: Crystal White \\n Thickness: 0.5 inch \\n Weight: 2.9 lbs', 'input': 'Asus TUF Gaming A15 FA506NC R5 7535HS (HN017W) (RTX 3050 4GB, 15.6 inches, 3.3GHz)', 'Screen Size': '15.6 inches', 'Processor Brand': 'RTX 3050 4GB', 'Processor Speed': '3.3GHz'}, {'human_0': 'Acer Aspire S7 13.3-Inch Touchscreen Ultrabook (Intel Core i5-4200U Processor up to 2.6GHz, 8GB DDR3 Memory, 256GB SSD, FHD 1080P Touchscreen Display, Backlit Keyboard, 802.11AC WiFi, Windows 8.1, 0.5 inch thin and 2.9 Lbs) Crystal White', 'system_0': 'Brand: Acer \\n Model: Aspire S7 \\n Screen Size: 13.3 inches \\n Screen Type: Touchscreen \\n Processor Brand: Intel Core i5-4200U \\n Processor Speed: 2.6GHz \\n Memory: 8GB DDR3 \\n Storage: 256GB SSD \\n Resolution: FHD 1080P \\n Keyboard: Backlit\\n Wireless Connectivity: 802.11AC WiFi \\n Operating System: Windows 8.1 \\n Color: Crystal White \\n Thickness: 0.5 inch \\n Weight: 2.9 lbs', 'input': 'Asus Vivobook 14X OLED S3405VA i5 13500H (KM072W) (Intel Iris Xe, 14 inches, 2.6GHz)', 'Screen Size': '14 inches', 'Processor Brand': 'Intel Iris Xe', 'Processor Speed': '2.6GHz'}, {'human_0': 'Acer Aspire S7 13.3-Inch Touchscreen Ultrabook (Intel Core i5-4200U Processor up to 2.6GHz, 8GB DDR3 Memory, 256GB SSD, FHD 1080P Touchscreen Display, Backlit Keyboard, 802.11AC WiFi, Windows 8.1, 0.5 inch thin and 2.9 Lbs) Crystal White', 'system_0': 'Brand: Acer \\n Model: Aspire S7 \\n Screen Size: 13.3 inches \\n Screen Type: Touchscreen \\n Processor Brand: Intel Core i5-4200U \\n Processor Speed: 2.6GHz \\n Memory: 8GB DDR3 \\n Storage: 256GB SSD \\n Resolution: FHD 1080P \\n Keyboard: Backlit\\n Wireless Connectivity: 802.11AC WiFi \\n Operating System: Windows 8.1 \\n Color: Crystal White \\n Thickness: 0.5 inch \\n Weight: 2.9 lbs', 'input': 'Asus Gaming ROG Zephyrus G16 GU605MV Ultra 9 185H (QR135W) (RTX 4060 8GB, 16 inches, 2.30 GHz)', 'Screen Size': '16 inches', 'Processor Brand': 'RTX 4060 8GB', 'Processor Speed': '2.30 GHz'}, {'human_0': 'Acer Aspire S7 13.3-Inch Touchscreen Ultrabook (Intel Core i5-4200U Processor up to 2.6GHz, 8GB DDR3 Memory, 256GB SSD, FHD 1080P Touchscreen Display, Backlit Keyboard, 802.11AC WiFi, Windows 8.1, 0.5 inch thin and 2.9 Lbs) Crystal White', 'system_0': 'Brand: Acer \\n Model: Aspire S7 \\n Screen Size: 13.3 inches \\n Screen Type: Touchscreen \\n Processor Brand: Intel Core i5-4200U \\n Processor Speed: 2.6GHz \\n Memory: 8GB DDR3 \\n Storage: 256GB SSD \\n Resolution: FHD 1080P \\n Keyboard: Backlit\\n Wireless Connectivity: 802.11AC WiFi \\n Operating System: Windows 8.1 \\n Color: Crystal White \\n Thickness: 0.5 inch \\n Weight: 2.9 lbs', 'input': 'Asus Vivobook Go 15 E1504FA R5 7520U (NJ630W) (Radeon, 15.6 inches, 2.8GHz)', 'Screen Size': '15.6 inches', 'Processor Brand': 'Radeon', 'Processor Speed': '2.8GHz'}, {'human_0': 'Acer Aspire S7 13.3-Inch Touchscreen Ultrabook (Intel Core i5-4200U Processor up to 2.6GHz, 8GB DDR3 Memory, 256GB SSD, FHD 1080P Touchscreen Display, Backlit Keyboard, 802.11AC WiFi, Windows 8.1, 0.5 inch thin and 2.9 Lbs) Crystal White', 'system_0': 'Brand: Acer \\n Model: Aspire S7 \\n Screen Size: 13.3 inches \\n Screen Type: Touchscreen \\n Processor Brand: Intel Core i5-4200U \\n Processor Speed: 2.6GHz \\n Memory: 8GB DDR3 \\n Storage: 256GB SSD \\n Resolution: FHD 1080P \\n Keyboard: Backlit\\n Wireless Connectivity: 802.11AC WiFi \\n Operating System: Windows 8.1 \\n Color: Crystal White \\n Thickness: 0.5 inch \\n Weight: 2.9 lbs', 'input': 'Asus Gaming ROG Zephyrus G16 GU605MI Ultra 9 185H (QR116W) (RTX 4070 8GB, 16 inches, 2.30 GHz)', 'Screen Size': '16 inches', 'Processor Brand': 'RTX 4070 8GB', 'Processor Speed': '2.30 GHz'}, {'human_0': 'Acer Aspire S7 13.3-Inch Touchscreen Ultrabook (Intel Core i5-4200U Processor up to 2.6GHz, 8GB DDR3 Memory, 256GB SSD, FHD 1080P Touchscreen Display, Backlit Keyboard, 802.11AC WiFi, Windows 8.1, 0.5 inch thin and 2.9 Lbs) Crystal White', 'system_0': 'Brand: Acer \\n Model: Aspire S7 \\n Screen Size: 13.3 inches \\n Screen Type: Touchscreen \\n Processor Brand: Intel Core i5-4200U \\n Processor Speed: 2.6GHz \\n Memory: 8GB DDR3 \\n Storage: 256GB SSD \\n Resolution: FHD 1080P \\n Keyboard: Backlit\\n Wireless Connectivity: 802.11AC WiFi \\n Operating System: Windows 8.1 \\n Color: Crystal White \\n Thickness: 0.5 inch \\n Weight: 2.9 lbs', 'input': 'Asus Gaming ROG Strix G15 G513IH R7 4800H (HN015W) (GTX 1650 4GB, 15.6 inches, 2.9GHz)', 'Screen Size': '15.6 inches', 'Processor Brand': 'GTX 1650 4GB', 'Processor Speed': '2.9GHz'}, {'human_0': 'Acer Aspire S7 13.3-Inch Touchscreen Ultrabook (Intel Core i5-4200U Processor up to 2.6GHz, 8GB DDR3 Memory, 256GB SSD, FHD 1080P Touchscreen Display, Backlit Keyboard, 802.11AC WiFi, Windows 8.1, 0.5 inch thin and 2.9 Lbs) Crystal White', 'system_0': 'Brand: Acer \\n Model: Aspire S7 \\n Screen Size: 13.3 inches \\n Screen Type: Touchscreen \\n Processor Brand: Intel Core i5-4200U \\n Processor Speed: 2.6GHz \\n Memory: 8GB DDR3 \\n Storage: 256GB SSD \\n Resolution: FHD 1080P \\n Keyboard: Backlit\\n Wireless Connectivity: 802.11AC WiFi \\n Operating System: Windows 8.1 \\n Color: Crystal White \\n Thickness: 0.5 inch \\n Weight: 2.9 lbs', 'input': 'Asus Vivobook X1404ZA i5 1235U (NK376W) (Intel Iris Xe, 14 inches, 1.3GHz)', 'Screen Size': '14 inches', 'Processor Brand': 'Intel Iris Xe', 'Processor Speed': '1.3GHz'}, {'human_0': 'Acer Aspire S7 13.3-Inch Touchscreen Ultrabook (Intel Core i5-4200U Processor up to 2.6GHz, 8GB DDR3 Memory, 256GB SSD, FHD 1080P Touchscreen Display, Backlit Keyboard, 802.11AC WiFi, Windows 8.1, 0.5 inch thin and 2.9 Lbs) Crystal White', 'system_0': 'Brand: Acer \\n Model: Aspire S7 \\n Screen Size: 13.3 inches \\n Screen Type: Touchscreen \\n Processor Brand: Intel Core i5-4200U \\n Processor Speed: 2.6GHz \\n Memory: 8GB DDR3 \\n Storage: 256GB SSD \\n Resolution: FHD 1080P \\n Keyboard: Backlit\\n Wireless Connectivity: 802.11AC WiFi \\n Operating System: Windows 8.1 \\n Color: Crystal White \\n Thickness: 0.5 inch \\n Weight: 2.9 lbs', 'input': 'Asus Vivobook 15 OLED A1505VA i9 13900H (L1201W) (Intel Iris Xe, 15.6 inches, 2.6GHz)', 'Screen Size': '15.6 inches', 'Processor Brand': 'Intel Iris Xe', 'Processor Speed': '2.6GHz'}, {'human_0': 'Acer Aspire S7 13.3-Inch Touchscreen Ultrabook (Intel Core i5-4200U Processor up to 2.6GHz, 8GB DDR3 Memory, 256GB SSD, FHD 1080P Touchscreen Display, Backlit Keyboard, 802.11AC WiFi, Windows 8.1, 0.5 inch thin and 2.9 Lbs) Crystal White', 'system_0': 'Brand: Acer \\n Model: Aspire S7 \\n Screen Size: 13.3 inches \\n Screen Type: Touchscreen \\n Processor Brand: Intel Core i5-4200U \\n Processor Speed: 2.6GHz \\n Memory: 8GB DDR3 \\n Storage: 256GB SSD \\n Resolution: FHD 1080P \\n Keyboard: Backlit\\n Wireless Connectivity: 802.11AC WiFi \\n Operating System: Windows 8.1 \\n Color: Crystal White \\n Thickness: 0.5 inch \\n Weight: 2.9 lbs', 'input': 'Asus Gaming TUF Dash F15 FX517ZE i5 12450H (HN045W) (RTX 3050Ti 4GB, 15.6 inches, 2GHz)', 'Screen Size': '15.6 inches', 'Processor Brand': 'RTX 3050Ti 4GB', 'Processor Speed': '2GHz'}, {'human_0': 'Acer Aspire S7 13.3-Inch Touchscreen Ultrabook (Intel Core i5-4200U Processor up to 2.6GHz, 8GB DDR3 Memory, 256GB SSD, FHD 1080P Touchscreen Display, Backlit Keyboard, 802.11AC WiFi, Windows 8.1, 0.5 inch thin and 2.9 Lbs) Crystal White', 'system_0': 'Brand: Acer \\n Model: Aspire S7 \\n Screen Size: 13.3 inches \\n Screen Type: Touchscreen \\n Processor Brand: Intel Core i5-4200U \\n Processor Speed: 2.6GHz \\n Memory: 8GB DDR3 \\n Storage: 256GB SSD \\n Resolution: FHD 1080P \\n Keyboard: Backlit\\n Wireless Connectivity: 802.11AC WiFi \\n Operating System: Windows 8.1 \\n Color: Crystal White \\n Thickness: 0.5 inch \\n Weight: 2.9 lbs', 'input': 'Asus Zenbook 14 Flip OLED UP3404VA i7 1360P (KN039W) (Intel Iris Xe, 14 inches, 2.2GHz)', 'Screen Size': '14 inches', 'Processor Brand': 'Intel Iris Xe', 'Processor Speed': '2.2GHz'}, {'human_0': 'Acer Aspire S7 13.3-Inch Touchscreen Ultrabook (Intel Core i5-4200U Processor up to 2.6GHz, 8GB DDR3 Memory, 256GB SSD, FHD 1080P Touchscreen Display, Backlit Keyboard, 802.11AC WiFi, Windows 8.1, 0.5 inch thin and 2.9 Lbs) Crystal White', 'system_0': 'Brand: Acer \\n Model: Aspire S7 \\n Screen Size: 13.3 inches \\n Screen Type: Touchscreen \\n Processor Brand: Intel Core i5-4200U \\n Processor Speed: 2.6GHz \\n Memory: 8GB DDR3 \\n Storage: 256GB SSD \\n Resolution: FHD 1080P \\n Keyboard: Backlit\\n Wireless Connectivity: 802.11AC WiFi \\n Operating System: Windows 8.1 \\n Color: Crystal White \\n Thickness: 0.5 inch \\n Weight: 2.9 lbs', 'input': 'Asus TUF Gaming F15 FX507VV i7 13620H (LP181W) (RTX 4060 8GB, 15.6 inches, 2.4GHz)', 'Screen Size': '15.6 inches', 'Processor Brand': 'RTX 4060 8GB', 'Processor Speed': '2.4GHz'}, {'human_0': 'Acer Aspire S7 13.3-Inch Touchscreen Ultrabook (Intel Core i5-4200U Processor up to 2.6GHz, 8GB DDR3 Memory, 256GB SSD, FHD 1080P Touchscreen Display, Backlit Keyboard, 802.11AC WiFi, Windows 8.1, 0.5 inch thin and 2.9 Lbs) Crystal White', 'system_0': 'Brand: Acer \\n Model: Aspire S7 \\n Screen Size: 13.3 inches \\n Screen Type: Touchscreen \\n Processor Brand: Intel Core i5-4200U \\n Processor Speed: 2.6GHz \\n Memory: 8GB DDR3 \\n Storage: 256GB SSD \\n Resolution: FHD 1080P \\n Keyboard: Backlit\\n Wireless Connectivity: 802.11AC WiFi \\n Operating System: Windows 8.1 \\n Color: Crystal White \\n Thickness: 0.5 inch \\n Weight: 2.9 lbs', 'input': 'Asus Gaming ROG Strix SCAR 18 G834JY i9 13980HX (N6039W) (RTX 4090 16GB, 18 inches, 2.2GHz)', 'Screen Size': '18 inches', 'Processor Brand': 'RTX 4090 16GB', 'Processor Speed': '2.2GHz'}, {'human_0': 'Acer Aspire S7 13.3-Inch Touchscreen Ultrabook (Intel Core i5-4200U Processor up to 2.6GHz, 8GB DDR3 Memory, 256GB SSD, FHD 1080P Touchscreen Display, Backlit Keyboard, 802.11AC WiFi, Windows 8.1, 0.5 inch thin and 2.9 Lbs) Crystal White', 'system_0': 'Brand: Acer \\n Model: Aspire S7 \\n Screen Size: 13.3 inches \\n Screen Type: Touchscreen \\n Processor Brand: Intel Core i5-4200U \\n Processor Speed: 2.6GHz \\n Memory: 8GB DDR3 \\n Storage: 256GB SSD \\n Resolution: FHD 1080P \\n Keyboard: Backlit\\n Wireless Connectivity: 802.11AC WiFi \\n Operating System: Windows 8.1 \\n Color: Crystal White \\n Thickness: 0.5 inch \\n Weight: 2.9 lbs', 'input': 'Asus Gaming ROG Strix SCAR 17 G733PZ R9 7945HX (LL980W) (RTX 4080 12GB, 17.3 inches, 2.5GHz)', 'Screen Size': '17.3 inches', 'Processor Brand': 'RTX 4080 12GB', 'Processor Speed': '2.5GHz'}, {'human_0': 'Acer Aspire S7 13.3-Inch Touchscreen Ultrabook (Intel Core i5-4200U Processor up to 2.6GHz, 8GB DDR3 Memory, 256GB SSD, FHD 1080P Touchscreen Display, Backlit Keyboard, 802.11AC WiFi, Windows 8.1, 0.5 inch thin and 2.9 Lbs) Crystal White', 'system_0': 'Brand: Acer \\n Model: Aspire S7 \\n Screen Size: 13.3 inches \\n Screen Type: Touchscreen \\n Processor Brand: Intel Core i5-4200U \\n Processor Speed: 2.6GHz \\n Memory: 8GB DDR3 \\n Storage: 256GB SSD \\n Resolution: FHD 1080P \\n Keyboard: Backlit\\n Wireless Connectivity: 802.11AC WiFi \\n Operating System: Windows 8.1 \\n Color: Crystal White \\n Thickness: 0.5 inch \\n Weight: 2.9 lbs', 'input': 'Asus Gaming ROG Strix SCAR 18 G834JYR i9 14900HX (R6011W) (RTX 4090 16GB, 18 inches, 2.2GHz)', 'Screen Size': '18 inches', 'Processor Brand': 'RTX 4090 16GB', 'Processor Speed': '2.2GHz'}, {'human_0': 'Acer Aspire S7 13.3-Inch Touchscreen Ultrabook (Intel Core i5-4200U Processor up to 2.6GHz, 8GB DDR3 Memory, 256GB SSD, FHD 1080P Touchscreen Display, Backlit Keyboard, 802.11AC WiFi, Windows 8.1, 0.5 inch thin and 2.9 Lbs) Crystal White', 'system_0': 'Brand: Acer \\n Model: Aspire S7 \\n Screen Size: 13.3 inches \\n Screen Type: Touchscreen \\n Processor Brand: Intel Core i5-4200U \\n Processor Speed: 2.6GHz \\n Memory: 8GB DDR3 \\n Storage: 256GB SSD \\n Resolution: FHD 1080P \\n Keyboard: Backlit\\n Wireless Connectivity: 802.11AC WiFi \\n Operating System: Windows 8.1 \\n Color: Crystal White \\n Thickness: 0.5 inch \\n Weight: 2.9 lbs', 'input': 'Asus Gaming ROG Strix SCAR 16 G634JZR i9 14900HX (NM009W) (RTX 4080 12GB, 16 inches, 2.2GHz)', 'Screen Size': '16 inches', 'Processor Brand': 'RTX 4080 12GB', 'Processor Speed': '2.2GHz'}, {'human_0': 'Acer Aspire S7 13.3-Inch Touchscreen Ultrabook (Intel Core i5-4200U Processor up to 2.6GHz, 8GB DDR3 Memory, 256GB SSD, FHD 1080P Touchscreen Display, Backlit Keyboard, 802.11AC WiFi, Windows 8.1, 0.5 inch thin and 2.9 Lbs) Crystal White', 'system_0': 'Brand: Acer \\n Model: Aspire S7 \\n Screen Size: 13.3 inches \\n Screen Type: Touchscreen \\n Processor Brand: Intel Core i5-4200U \\n Processor Speed: 2.6GHz \\n Memory: 8GB DDR3 \\n Storage: 256GB SSD \\n Resolution: FHD 1080P \\n Keyboard: Backlit\\n Wireless Connectivity: 802.11AC WiFi \\n Operating System: Windows 8.1 \\n Color: Crystal White \\n Thickness: 0.5 inch \\n Weight: 2.9 lbs', 'input': 'Asus Gaming ROG Zephyrus Duo 16 GX650PZ R9 7945HX (NM031W) (RTX 4080 12GB, 16 inches, 2.5GHz)', 'Screen Size': '16 inches', 'Processor Brand': 'RTX 4080 12GB', 'Processor Speed': '2.5GHz'}, {'human_0': 'Acer Aspire S7 13.3-Inch Touchscreen Ultrabook (Intel Core i5-4200U Processor up to 2.6GHz, 8GB DDR3 Memory, 256GB SSD, FHD 1080P Touchscreen Display, Backlit Keyboard, 802.11AC WiFi, Windows 8.1, 0.5 inch thin and 2.9 Lbs) Crystal White', 'system_0': 'Brand: Acer \\n Model: Aspire S7 \\n Screen Size: 13.3 inches \\n Screen Type: Touchscreen \\n Processor Brand: Intel Core i5-4200U \\n Processor Speed: 2.6GHz \\n Memory: 8GB DDR3 \\n Storage: 256GB SSD \\n Resolution: FHD 1080P \\n Keyboard: Backlit\\n Wireless Connectivity: 802.11AC WiFi \\n Operating System: Windows 8.1 \\n Color: Crystal White \\n Thickness: 0.5 inch \\n Weight: 2.9 lbs', 'input': 'Asus Gaming ROG Strix SCAR 16 G634JZ i9 13980HX (N4029W) (RTX 4080 12GB, 16 inches, 2.2GHz)', 'Screen Size': '16 inches', 'Processor Brand': 'RTX 4080 12GB', 'Processor Speed': '2.2GHz'}, {'human_0': 'Acer Aspire S7 13.3-Inch Touchscreen Ultrabook (Intel Core i5-4200U Processor up to 2.6GHz, 8GB DDR3 Memory, 256GB SSD, FHD 1080P Touchscreen Display, Backlit Keyboard, 802.11AC WiFi, Windows 8.1, 0.5 inch thin and 2.9 Lbs) Crystal White', 'system_0': 'Brand: Acer \\n Model: Aspire S7 \\n Screen Size: 13.3 inches \\n Screen Type: Touchscreen \\n Processor Brand: Intel Core i5-4200U \\n Processor Speed: 2.6GHz \\n Memory: 8GB DDR3 \\n Storage: 256GB SSD \\n Resolution: FHD 1080P \\n Keyboard: Backlit\\n Wireless Connectivity: 802.11AC WiFi \\n Operating System: Windows 8.1 \\n Color: Crystal White \\n Thickness: 0.5 inch \\n Weight: 2.9 lbs', 'input': 'Asus Gaming ROG Zephyrus M16 GU604VI i9 13900H (NM779W) (RTX 4070 8GB, 16 inches, 2.6GHz)', 'Screen Size': '16 inches', 'Processor Brand': 'RTX 4070 8GB', 'Processor Speed': '2.6GHz'}, {'human_0': 'Acer Aspire S7 13.3-Inch Touchscreen Ultrabook (Intel Core i5-4200U Processor up to 2.6GHz, 8GB DDR3 Memory, 256GB SSD, FHD 1080P Touchscreen Display, Backlit Keyboard, 802.11AC WiFi, Windows 8.1, 0.5 inch thin and 2.9 Lbs) Crystal White', 'system_0': 'Brand: Acer \\n Model: Aspire S7 \\n Screen Size: 13.3 inches \\n Screen Type: Touchscreen \\n Processor Brand: Intel Core i5-4200U \\n Processor Speed: 2.6GHz \\n Memory: 8GB DDR3 \\n Storage: 256GB SSD \\n Resolution: FHD 1080P \\n Keyboard: Backlit\\n Wireless Connectivity: 802.11AC WiFi \\n Operating System: Windows 8.1 \\n Color: Crystal White \\n Thickness: 0.5 inch \\n Weight: 2.9 lbs', 'input': 'Asus Gaming ROG Strix SCAR G18 G814JIR i9 14900HX (N6007W) (RTX 4070 8GB, 18 inches, 2.2GHz)', 'Screen Size': '18 inches', 'Processor Brand': 'RTX 4070 8GB', 'Processor Speed': '2.2GHz'}, {'human_0': 'Acer Aspire S7 13.3-Inch Touchscreen Ultrabook (Intel Core i5-4200U Processor up to 2.6GHz, 8GB DDR3 Memory, 256GB SSD, FHD 1080P Touchscreen Display, Backlit Keyboard, 802.11AC WiFi, Windows 8.1, 0.5 inch thin and 2.9 Lbs) Crystal White', 'system_0': 'Brand: Acer \\n Model: Aspire S7 \\n Screen Size: 13.3 inches \\n Screen Type: Touchscreen \\n Processor Brand: Intel Core i5-4200U \\n Processor Speed: 2.6GHz \\n Memory: 8GB DDR3 \\n Storage: 256GB SSD \\n Resolution: FHD 1080P \\n Keyboard: Backlit\\n Wireless Connectivity: 802.11AC WiFi \\n Operating System: Windows 8.1 \\n Color: Crystal White \\n Thickness: 0.5 inch \\n Weight: 2.9 lbs', 'input': 'Asus Gaming ROG Flow X16 GV601VV i9 13900H (NL016W) (RTX 4060 8GB, 16 inches, 2.6GHz)', 'Screen Size': '16 inches', 'Processor Brand': 'RTX 4060 8GB', 'Processor Speed': '2.6GHz'}, {'human_0': 'Acer Aspire S7 13.3-Inch Touchscreen Ultrabook (Intel Core i5-4200U Processor up to 2.6GHz, 8GB DDR3 Memory, 256GB SSD, FHD 1080P Touchscreen Display, Backlit Keyboard, 802.11AC WiFi, Windows 8.1, 0.5 inch thin and 2.9 Lbs) Crystal White', 'system_0': 'Brand: Acer \\n Model: Aspire S7 \\n Screen Size: 13.3 inches \\n Screen Type: Touchscreen \\n Processor Brand: Intel Core i5-4200U \\n Processor Speed: 2.6GHz \\n Memory: 8GB DDR3 \\n Storage: 256GB SSD \\n Resolution: FHD 1080P \\n Keyboard: Backlit\\n Wireless Connectivity: 802.11AC WiFi \\n Operating System: Windows 8.1 \\n Color: Crystal White \\n Thickness: 0.5 inch \\n Weight: 2.9 lbs', 'input': 'Asus Gaming ROG Flow X13 GV302XU R9 7940HS (MU223W) (RTX 4050 6GB, 13.4 inches, 4GHz)', 'Screen Size': '13.4 inches', 'Processor Brand': 'RTX 4050 6GB', 'Processor Speed': '4GHz'}, {'human_0': 'Acer Aspire S7 13.3-Inch Touchscreen Ultrabook (Intel Core i5-4200U Processor up to 2.6GHz, 8GB DDR3 Memory, 256GB SSD, FHD 1080P Touchscreen Display, Backlit Keyboard, 802.11AC WiFi, Windows 8.1, 0.5 inch thin and 2.9 Lbs) Crystal White', 'system_0': 'Brand: Acer \\n Model: Aspire S7 \\n Screen Size: 13.3 inches \\n Screen Type: Touchscreen \\n Processor Brand: Intel Core i5-4200U \\n Processor Speed: 2.6GHz \\n Memory: 8GB DDR3 \\n Storage: 256GB SSD \\n Resolution: FHD 1080P \\n Keyboard: Backlit\\n Wireless Connectivity: 802.11AC WiFi \\n Operating System: Windows 8.1 \\n Color: Crystal White \\n Thickness: 0.5 inch \\n Weight: 2.9 lbs', 'input': 'Asus Zenbook S 13 OLED UX5304VA i7 1355U (NQ126W) (Intel Iris Xe, 13.3 inches, 1.7GHz)', 'Screen Size': '13.3 inches', 'Processor Brand': 'Intel Iris Xe', 'Processor Speed': '1.7GHz'}, {'human_0': 'Acer Aspire S7 13.3-Inch Touchscreen Ultrabook (Intel Core i5-4200U Processor up to 2.6GHz, 8GB DDR3 Memory, 256GB SSD, FHD 1080P Touchscreen Display, Backlit Keyboard, 802.11AC WiFi, Windows 8.1, 0.5 inch thin and 2.9 Lbs) Crystal White', 'system_0': 'Brand: Acer \\n Model: Aspire S7 \\n Screen Size: 13.3 inches \\n Screen Type: Touchscreen \\n Processor Brand: Intel Core i5-4200U \\n Processor Speed: 2.6GHz \\n Memory: 8GB DDR3 \\n Storage: 256GB SSD \\n Resolution: FHD 1080P \\n Keyboard: Backlit\\n Wireless Connectivity: 802.11AC WiFi \\n Operating System: Windows 8.1 \\n Color: Crystal White \\n Thickness: 0.5 inch \\n Weight: 2.9 lbs', 'input': 'Asus ExpertBook B9 OLED B9403CVA i7 1355U (KM0157X) (Intel Iris Xe, 14 inches, 1.7GHz)', 'Screen Size': '14 inches', 'Processor Brand': 'Intel Iris Xe', 'Processor Speed': '1.7GHz'}, {'human_0': 'Acer Aspire S7 13.3-Inch Touchscreen Ultrabook (Intel Core i5-4200U Processor up to 2.6GHz, 8GB DDR3 Memory, 256GB SSD, FHD 1080P Touchscreen Display, Backlit Keyboard, 802.11AC WiFi, Windows 8.1, 0.5 inch thin and 2.9 Lbs) Crystal White', 'system_0': 'Brand: Acer \\n Model: Aspire S7 \\n Screen Size: 13.3 inches \\n Screen Type: Touchscreen \\n Processor Brand: Intel Core i5-4200U \\n Processor Speed: 2.6GHz \\n Memory: 8GB DDR3 \\n Storage: 256GB SSD \\n Resolution: FHD 1080P \\n Keyboard: Backlit\\n Wireless Connectivity: 802.11AC WiFi \\n Operating System: Windows 8.1 \\n Color: Crystal White \\n Thickness: 0.5 inch \\n Weight: 2.9 lbs', 'input': 'Asus TUF Gaming F15 FX507VV i7 13620H (LP171W) (RTX 4060 8GB, 15.6 inches, 2.4GHz)', 'Screen Size': '15.6 inches', 'Processor Brand': 'RTX 4060 8GB', 'Processor Speed': '2.4GHz'}, {'human_0': 'Acer Aspire S7 13.3-Inch Touchscreen Ultrabook (Intel Core i5-4200U Processor up to 2.6GHz, 8GB DDR3 Memory, 256GB SSD, FHD 1080P Touchscreen Display, Backlit Keyboard, 802.11AC WiFi, Windows 8.1, 0.5 inch thin and 2.9 Lbs) Crystal White', 'system_0': 'Brand: Acer \\n Model: Aspire S7 \\n Screen Size: 13.3 inches \\n Screen Type: Touchscreen \\n Processor Brand: Intel Core i5-4200U \\n Processor Speed: 2.6GHz \\n Memory: 8GB DDR3 \\n Storage: 256GB SSD \\n Resolution: FHD 1080P \\n Keyboard: Backlit\\n Wireless Connectivity: 802.11AC WiFi \\n Operating System: Windows 8.1 \\n Color: Crystal White \\n Thickness: 0.5 inch \\n Weight: 2.9 lbs', 'input': 'Asus TUF Gaming A15 FA507XI R9 7940HS (LP420W) (RTX 4070 8GB, 15.6 inches, 4GHz)', 'Screen Size': '15.6 inches', 'Processor Brand': 'RTX 4070 8GB', 'Processor Speed': '4GHz'}, {'human_0': 'Acer Aspire S7 13.3-Inch Touchscreen Ultrabook (Intel Core i5-4200U Processor up to 2.6GHz, 8GB DDR3 Memory, 256GB SSD, FHD 1080P Touchscreen Display, Backlit Keyboard, 802.11AC WiFi, Windows 8.1, 0.5 inch thin and 2.9 Lbs) Crystal White', 'system_0': 'Brand: Acer \\n Model: Aspire S7 \\n Screen Size: 13.3 inches \\n Screen Type: Touchscreen \\n Processor Brand: Intel Core i5-4200U \\n Processor Speed: 2.6GHz \\n Memory: 8GB DDR3 \\n Storage: 256GB SSD \\n Resolution: FHD 1080P \\n Keyboard: Backlit\\n Wireless Connectivity: 802.11AC WiFi \\n Operating System: Windows 8.1 \\n Color: Crystal White \\n Thickness: 0.5 inch \\n Weight: 2.9 lbs', 'input': 'Asus Gaming ROG Zephyrus G14 GA402NJ R7 7735HS (L4056W) (RTX 3050 6GB, 14 inches, 3.2GHz)', 'Screen Size': '14 inches', 'Processor Brand': 'RTX 3050 6GB', 'Processor Speed': '3.2GHz'}, {'human_0': 'Acer Aspire S7 13.3-Inch Touchscreen Ultrabook (Intel Core i5-4200U Processor up to 2.6GHz, 8GB DDR3 Memory, 256GB SSD, FHD 1080P Touchscreen Display, Backlit Keyboard, 802.11AC WiFi, Windows 8.1, 0.5 inch thin and 2.9 Lbs) Crystal White', 'system_0': 'Brand: Acer \\n Model: Aspire S7 \\n Screen Size: 13.3 inches \\n Screen Type: Touchscreen \\n Processor Brand: Intel Core i5-4200U \\n Processor Speed: 2.6GHz \\n Memory: 8GB DDR3 \\n Storage: 256GB SSD \\n Resolution: FHD 1080P \\n Keyboard: Backlit\\n Wireless Connectivity: 802.11AC WiFi \\n Operating System: Windows 8.1 \\n Color: Crystal White \\n Thickness: 0.5 inch \\n Weight: 2.9 lbs', 'input': 'Asus Gaming ROG Strix G16 G614JU i5 13450HX (N3135W) (RTX 4050 6GB, 16 inches, 2.4GHz)', 'Screen Size': '16 inches', 'Processor Brand': 'RTX 4050 6GB', 'Processor Speed': '2.4GHz'}, {'human_0': 'Acer Aspire S7 13.3-Inch Touchscreen Ultrabook (Intel Core i5-4200U Processor up to 2.6GHz, 8GB DDR3 Memory, 256GB SSD, FHD 1080P Touchscreen Display, Backlit Keyboard, 802.11AC WiFi, Windows 8.1, 0.5 inch thin and 2.9 Lbs) Crystal White', 'system_0': 'Brand: Acer \\n Model: Aspire S7 \\n Screen Size: 13.3 inches \\n Screen Type: Touchscreen \\n Processor Brand: Intel Core i5-4200U \\n Processor Speed: 2.6GHz \\n Memory: 8GB DDR3 \\n Storage: 256GB SSD \\n Resolution: FHD 1080P \\n Keyboard: Backlit\\n Wireless Connectivity: 802.11AC WiFi \\n Operating System: Windows 8.1 \\n Color: Crystal White \\n Thickness: 0.5 inch \\n Weight: 2.9 lbs', 'input': 'Asus Zenbook S 13 OLED UX5304VA i7 1355U (NQ125W) (Intel Iris Xe, 13.3 inches, 1.7GHz)', 'Screen Size': '13.3 inches', 'Processor Brand': 'Intel Iris Xe', 'Processor Speed': '1.7GHz'}, {'human_0': 'Acer Aspire S7 13.3-Inch Touchscreen Ultrabook (Intel Core i5-4200U Processor up to 2.6GHz, 8GB DDR3 Memory, 256GB SSD, FHD 1080P Touchscreen Display, Backlit Keyboard, 802.11AC WiFi, Windows 8.1, 0.5 inch thin and 2.9 Lbs) Crystal White', 'system_0': 'Brand: Acer \\n Model: Aspire S7 \\n Screen Size: 13.3 inches \\n Screen Type: Touchscreen \\n Processor Brand: Intel Core i5-4200U \\n Processor Speed: 2.6GHz \\n Memory: 8GB DDR3 \\n Storage: 256GB SSD \\n Resolution: FHD 1080P \\n Keyboard: Backlit\\n Wireless Connectivity: 802.11AC WiFi \\n Operating System: Windows 8.1 \\n Color: Crystal White \\n Thickness: 0.5 inch \\n Weight: 2.9 lbs', 'input': 'Asus Zenbook 14 OLED UX3402VA i7 1360P (KM068W) (Intel Iris Xe, 14 inches, 2.2GHz)', 'Screen Size': '14 inches', 'Processor Brand': 'Intel Iris Xe', 'Processor Speed': '2.2GHz'}, {'human_0': 'Acer Aspire S7 13.3-Inch Touchscreen Ultrabook (Intel Core i5-4200U Processor up to 2.6GHz, 8GB DDR3 Memory, 256GB SSD, FHD 1080P Touchscreen Display, Backlit Keyboard, 802.11AC WiFi, Windows 8.1, 0.5 inch thin and 2.9 Lbs) Crystal White', 'system_0': 'Brand: Acer \\n Model: Aspire S7 \\n Screen Size: 13.3 inches \\n Screen Type: Touchscreen \\n Processor Brand: Intel Core i5-4200U \\n Processor Speed: 2.6GHz \\n Memory: 8GB DDR3 \\n Storage: 256GB SSD \\n Resolution: FHD 1080P \\n Keyboard: Backlit\\n Wireless Connectivity: 802.11AC WiFi \\n Operating System: Windows 8.1 \\n Color: Crystal White \\n Thickness: 0.5 inch \\n Weight: 2.9 lbs', 'input': 'Asus Zenbook 14 OLED UM3402YA R5 7530U (KM405W) (Radeon, 14 inches, 2GHz)', 'Screen Size': '14 inches', 'Processor Brand': 'Radeon', 'Processor Speed': '2GHz'}, {'human_0': 'Acer Aspire S7 13.3-Inch Touchscreen Ultrabook (Intel Core i5-4200U Processor up to 2.6GHz, 8GB DDR3 Memory, 256GB SSD, FHD 1080P Touchscreen Display, Backlit Keyboard, 802.11AC WiFi, Windows 8.1, 0.5 inch thin and 2.9 Lbs) Crystal White', 'system_0': 'Brand: Acer \\n Model: Aspire S7 \\n Screen Size: 13.3 inches \\n Screen Type: Touchscreen \\n Processor Brand: Intel Core i5-4200U \\n Processor Speed: 2.6GHz \\n Memory: 8GB DDR3 \\n Storage: 256GB SSD \\n Resolution: FHD 1080P \\n Keyboard: Backlit\\n Wireless Connectivity: 802.11AC WiFi \\n Operating System: Windows 8.1 \\n Color: Crystal White \\n Thickness: 0.5 inch \\n Weight: 2.9 lbs', 'input': 'Asus Vivobook 14 A1405VA i3 1315U (LY097W) (Intel UHD, 14 inches, 1.2GHz)', 'Screen Size': '14 inches', 'Processor Brand': 'Intel UHD', 'Processor Speed': '1.2GHz'}, {'human_0': 'Acer Aspire S7 13.3-Inch Touchscreen Ultrabook (Intel Core i5-4200U Processor up to 2.6GHz, 8GB DDR3 Memory, 256GB SSD, FHD 1080P Touchscreen Display, Backlit Keyboard, 802.11AC WiFi, Windows 8.1, 0.5 inch thin and 2.9 Lbs) Crystal White', 'system_0': 'Brand: Acer \\n Model: Aspire S7 \\n Screen Size: 13.3 inches \\n Screen Type: Touchscreen \\n Processor Brand: Intel Core i5-4200U \\n Processor Speed: 2.6GHz \\n Memory: 8GB DDR3 \\n Storage: 256GB SSD \\n Resolution: FHD 1080P \\n Keyboard: Backlit\\n Wireless Connectivity: 802.11AC WiFi \\n Operating System: Windows 8.1 \\n Color: Crystal White \\n Thickness: 0.5 inch \\n Weight: 2.9 lbs', 'input': 'Acer Aspire 3 A315 510P 32EF i3 N305 (NX.KDHSV.001) (Intel UHD, 15.6 inches, N305)', 'Screen Size': '15.6 inches', 'Processor Brand': 'Intel UHD', 'Processor Speed': 'N305'}, {'human_0': 'Acer Aspire S7 13.3-Inch Touchscreen Ultrabook (Intel Core i5-4200U Processor up to 2.6GHz, 8GB DDR3 Memory, 256GB SSD, FHD 1080P Touchscreen Display, Backlit Keyboard, 802.11AC WiFi, Windows 8.1, 0.5 inch thin and 2.9 Lbs) Crystal White', 'system_0': 'Brand: Acer \\n Model: Aspire S7 \\n Screen Size: 13.3 inches \\n Screen Type: Touchscreen \\n Processor Brand: Intel Core i5-4200U \\n Processor Speed: 2.6GHz \\n Memory: 8GB DDR3 \\n Storage: 256GB SSD \\n Resolution: FHD 1080P \\n Keyboard: Backlit\\n Wireless Connectivity: 802.11AC WiFi \\n Operating System: Windows 8.1 \\n Color: Crystal White \\n Thickness: 0.5 inch \\n Weight: 2.9 lbs', 'input': 'Acer Aspire Lite 15 51M 5542 i5 1155G7 (NX.KS5SV.001) (Intel Iris Xe, 15.6 inches, 2.5GHz)', 'Screen Size': '15.6 inches', 'Processor Brand': 'Intel Iris Xe', 'Processor Speed': '2.5GHz'}, {'human_0': 'Acer Aspire S7 13.3-Inch Touchscreen Ultrabook (Intel Core i5-4200U Processor up to 2.6GHz, 8GB DDR3 Memory, 256GB SSD, FHD 1080P Touchscreen Display, Backlit Keyboard, 802.11AC WiFi, Windows 8.1, 0.5 inch thin and 2.9 Lbs) Crystal White', 'system_0': 'Brand: Acer \\n Model: Aspire S7 \\n Screen Size: 13.3 inches \\n Screen Type: Touchscreen \\n Processor Brand: Intel Core i5-4200U \\n Processor Speed: 2.6GHz \\n Memory: 8GB DDR3 \\n Storage: 256GB SSD \\n Resolution: FHD 1080P \\n Keyboard: Backlit\\n Wireless Connectivity: 802.11AC WiFi \\n Operating System: Windows 8.1 \\n Color: Crystal White \\n Thickness: 0.5 inch \\n Weight: 2.9 lbs', 'input': 'Acer Aspire 5 Gaming A515 58GM 51LB i5 13420H (NX.KQ4SV.002) (RTX 2050 4GB, 15.6 inches, 2.1GHz)', 'Screen Size': '15.6 inches', 'Processor Brand': 'RTX 2050 4GB', 'Processor Speed': '2.1GHz'}, {'human_0': 'Acer Aspire S7 13.3-Inch Touchscreen Ultrabook (Intel Core i5-4200U Processor up to 2.6GHz, 8GB DDR3 Memory, 256GB SSD, FHD 1080P Touchscreen Display, Backlit Keyboard, 802.11AC WiFi, Windows 8.1, 0.5 inch thin and 2.9 Lbs) Crystal White', 'system_0': 'Brand: Acer \\n Model: Aspire S7 \\n Screen Size: 13.3 inches \\n Screen Type: Touchscreen \\n Processor Brand: Intel Core i5-4200U \\n Processor Speed: 2.6GHz \\n Memory: 8GB DDR3 \\n Storage: 256GB SSD \\n Resolution: FHD 1080P \\n Keyboard: Backlit\\n Wireless Connectivity: 802.11AC WiFi \\n Operating System: Windows 8.1 \\n Color: Crystal White \\n Thickness: 0.5 inch \\n Weight: 2.9 lbs', 'input': 'Acer Aspire 3 A315 44P R9W8 R7 5700U (NX.KSJSV.002) (Radeon, 15.6 inches, 1.8GHz)', 'Screen Size': '15.6 inches', 'Processor Brand': 'Radeon', 'Processor Speed': '1.8GHz'}, {'human_0': 'Acer Aspire S7 13.3-Inch Touchscreen Ultrabook (Intel Core i5-4200U Processor up to 2.6GHz, 8GB DDR3 Memory, 256GB SSD, FHD 1080P Touchscreen Display, Backlit Keyboard, 802.11AC WiFi, Windows 8.1, 0.5 inch thin and 2.9 Lbs) Crystal White', 'system_0': 'Brand: Acer \\n Model: Aspire S7 \\n Screen Size: 13.3 inches \\n Screen Type: Touchscreen \\n Processor Brand: Intel Core i5-4200U \\n Processor Speed: 2.6GHz \\n Memory: 8GB DDR3 \\n Storage: 256GB SSD \\n Resolution: FHD 1080P \\n Keyboard: Backlit\\n Wireless Connectivity: 802.11AC WiFi \\n Operating System: Windows 8.1 \\n Color: Crystal White \\n Thickness: 0.5 inch \\n Weight: 2.9 lbs', 'input': 'Acer Nitro 5 Gaming AN515 57 5669 i5 11400H (NH.QEHSV.001) (GTX 1650 4GB, 15.6 inches, 2.7GHz)', 'Screen Size': '15.6 inches', 'Processor Brand': 'GTX 1650 4GB', 'Processor Speed': '2.7GHz'}, {'human_0': 'Acer Aspire S7 13.3-Inch Touchscreen Ultrabook (Intel Core i5-4200U Processor up to 2.6GHz, 8GB DDR3 Memory, 256GB SSD, FHD 1080P Touchscreen Display, Backlit Keyboard, 802.11AC WiFi, Windows 8.1, 0.5 inch thin and 2.9 Lbs) Crystal White', 'system_0': 'Brand: Acer \\n Model: Aspire S7 \\n Screen Size: 13.3 inches \\n Screen Type: Touchscreen \\n Processor Brand: Intel Core i5-4200U \\n Processor Speed: 2.6GHz \\n Memory: 8GB DDR3 \\n Storage: 256GB SSD \\n Resolution: FHD 1080P \\n Keyboard: Backlit\\n Wireless Connectivity: 802.11AC WiFi \\n Operating System: Windows 8.1 \\n Color: Crystal White \\n Thickness: 0.5 inch \\n Weight: 2.9 lbs', 'input': 'Acer Aspire 3 A315 58 589K i5 1135G7 (NX.AM0SV.008) (Intel Iris Xe, 15.6 inches, 2.4GHz)', 'Screen Size': '15.6 inches', 'Processor Brand': 'Intel Iris Xe', 'Processor Speed': '2.4GHz'}, {'human_0': 'Acer Aspire S7 13.3-Inch Touchscreen Ultrabook (Intel Core i5-4200U Processor up to 2.6GHz, 8GB DDR3 Memory, 256GB SSD, FHD 1080P Touchscreen Display, Backlit Keyboard, 802.11AC WiFi, Windows 8.1, 0.5 inch thin and 2.9 Lbs) Crystal White', 'system_0': 'Brand: Acer \\n Model: Aspire S7 \\n Screen Size: 13.3 inches \\n Screen Type: Touchscreen \\n Processor Brand: Intel Core i5-4200U \\n Processor Speed: 2.6GHz \\n Memory: 8GB DDR3 \\n Storage: 256GB SSD \\n Resolution: FHD 1080P \\n Keyboard: Backlit\\n Wireless Connectivity: 802.11AC WiFi \\n Operating System: Windows 8.1 \\n Color: Crystal White \\n Thickness: 0.5 inch \\n Weight: 2.9 lbs', 'input': 'Acer Aspire 7 Gaming A715 43G R8GA R5 5625U (NH.QHDSV.002) (RTX 3050 4GB, 15.6 inches, 2.30 GHz)', 'Screen Size': '15.6 inches', 'Processor Brand': 'RTX 3050 4GB', 'Processor Speed': '2.30 GHz'}, {'human_0': 'Acer Aspire S7 13.3-Inch Touchscreen Ultrabook (Intel Core i5-4200U Processor up to 2.6GHz, 8GB DDR3 Memory, 256GB SSD, FHD 1080P Touchscreen Display, Backlit Keyboard, 802.11AC WiFi, Windows 8.1, 0.5 inch thin and 2.9 Lbs) Crystal White', 'system_0': 'Brand: Acer \\n Model: Aspire S7 \\n Screen Size: 13.3 inches \\n Screen Type: Touchscreen \\n Processor Brand: Intel Core i5-4200U \\n Processor Speed: 2.6GHz \\n Memory: 8GB DDR3 \\n Storage: 256GB SSD \\n Resolution: FHD 1080P \\n Keyboard: Backlit\\n Wireless Connectivity: 802.11AC WiFi \\n Operating System: Windows 8.1 \\n Color: Crystal White \\n Thickness: 0.5 inch \\n Weight: 2.9 lbs', 'input': 'Acer Aspire 3 A315 59 38PG i3 1215U (NX.K6TSV.00A) (Intel UHD, 15.6 inches, 1.2GHz)', 'Screen Size': '15.6 inches', 'Processor Brand': 'Intel UHD', 'Processor Speed': '1.2GHz'}, {'human_0': 'Acer Aspire S7 13.3-Inch Touchscreen Ultrabook (Intel Core i5-4200U Processor up to 2.6GHz, 8GB DDR3 Memory, 256GB SSD, FHD 1080P Touchscreen Display, Backlit Keyboard, 802.11AC WiFi, Windows 8.1, 0.5 inch thin and 2.9 Lbs) Crystal White', 'system_0': 'Brand: Acer \\n Model: Aspire S7 \\n Screen Size: 13.3 inches \\n Screen Type: Touchscreen \\n Processor Brand: Intel Core i5-4200U \\n Processor Speed: 2.6GHz \\n Memory: 8GB DDR3 \\n Storage: 256GB SSD \\n Resolution: FHD 1080P \\n Keyboard: Backlit\\n Wireless Connectivity: 802.11AC WiFi \\n Operating System: Windows 8.1 \\n Color: Crystal White \\n Thickness: 0.5 inch \\n Weight: 2.9 lbs', 'input': 'Acer Aspire 3 A314 42P R3B3 R7 5700U (NX.KSFSV.001) (Radeon, 14 inches, 1.8GHz)', 'Screen Size': '14 inches', 'Processor Brand': 'Radeon', 'Processor Speed': '1.8GHz'}, {'human_0': 'Acer Aspire S7 13.3-Inch Touchscreen Ultrabook (Intel Core i5-4200U Processor up to 2.6GHz, 8GB DDR3 Memory, 256GB SSD, FHD 1080P Touchscreen Display, Backlit Keyboard, 802.11AC WiFi, Windows 8.1, 0.5 inch thin and 2.9 Lbs) Crystal White', 'system_0': 'Brand: Acer \\n Model: Aspire S7 \\n Screen Size: 13.3 inches \\n Screen Type: Touchscreen \\n Processor Brand: Intel Core i5-4200U \\n Processor Speed: 2.6GHz \\n Memory: 8GB DDR3 \\n Storage: 256GB SSD \\n Resolution: FHD 1080P \\n Keyboard: Backlit\\n Wireless Connectivity: 802.11AC WiFi \\n Operating System: Windows 8.1 \\n Color: Crystal White \\n Thickness: 0.5 inch \\n Weight: 2.9 lbs', 'input': 'Acer TravelMate P4 TMP414 51 50HX i5 1135G7 (NX.VP2SV.00T) (Intel Iris Xe, 14 inches, 2.4GHz)', 'Screen Size': '14 inches', 'Processor Brand': 'Intel Iris Xe', 'Processor Speed': '2.4GHz'}, {'human_0': 'Acer Aspire S7 13.3-Inch Touchscreen Ultrabook (Intel Core i5-4200U Processor up to 2.6GHz, 8GB DDR3 Memory, 256GB SSD, FHD 1080P Touchscreen Display, Backlit Keyboard, 802.11AC WiFi, Windows 8.1, 0.5 inch thin and 2.9 Lbs) Crystal White', 'system_0': 'Brand: Acer \\n Model: Aspire S7 \\n Screen Size: 13.3 inches \\n Screen Type: Touchscreen \\n Processor Brand: Intel Core i5-4200U \\n Processor Speed: 2.6GHz \\n Memory: 8GB DDR3 \\n Storage: 256GB SSD \\n Resolution: FHD 1080P \\n Keyboard: Backlit\\n Wireless Connectivity: 802.11AC WiFi \\n Operating System: Windows 8.1 \\n Color: Crystal White \\n Thickness: 0.5 inch \\n Weight: 2.9 lbs', 'input': 'Acer Aspire 5 A515 58P 34RJ i3 1315U (NX.KHJSV.003) (Intel UHD, 15.6 inches, 1.2GHz)', 'Screen Size': '15.6 inches', 'Processor Brand': 'Intel UHD', 'Processor Speed': '1.2GHz'}, {'human_0': 'Acer Aspire S7 13.3-Inch Touchscreen Ultrabook (Intel Core i5-4200U Processor up to 2.6GHz, 8GB DDR3 Memory, 256GB SSD, FHD 1080P Touchscreen Display, Backlit Keyboard, 802.11AC WiFi, Windows 8.1, 0.5 inch thin and 2.9 Lbs) Crystal White', 'system_0': 'Brand: Acer \\n Model: Aspire S7 \\n Screen Size: 13.3 inches \\n Screen Type: Touchscreen \\n Processor Brand: Intel Core i5-4200U \\n Processor Speed: 2.6GHz \\n Memory: 8GB DDR3 \\n Storage: 256GB SSD \\n Resolution: FHD 1080P \\n Keyboard: Backlit\\n Wireless Connectivity: 802.11AC WiFi \\n Operating System: Windows 8.1 \\n Color: Crystal White \\n Thickness: 0.5 inch \\n Weight: 2.9 lbs', 'input': 'Acer Aspire 7 Gaming A715 76G 5806 i5 12450H (NH.QMFSV.002) (RTX 3050 4GB, 15.6 inches, 2GHz)', 'Screen Size': '15.6 inches', 'Processor Brand': 'RTX 3050 4GB', 'Processor Speed': '2GHz'}, {'human_0': 'Acer Aspire S7 13.3-Inch Touchscreen Ultrabook (Intel Core i5-4200U Processor up to 2.6GHz, 8GB DDR3 Memory, 256GB SSD, FHD 1080P Touchscreen Display, Backlit Keyboard, 802.11AC WiFi, Windows 8.1, 0.5 inch thin and 2.9 Lbs) Crystal White', 'system_0': 'Brand: Acer \\n Model: Aspire S7 \\n Screen Size: 13.3 inches \\n Screen Type: Touchscreen \\n Processor Brand: Intel Core i5-4200U \\n Processor Speed: 2.6GHz \\n Memory: 8GB DDR3 \\n Storage: 256GB SSD \\n Resolution: FHD 1080P \\n Keyboard: Backlit\\n Wireless Connectivity: 802.11AC WiFi \\n Operating System: Windows 8.1 \\n Color: Crystal White \\n Thickness: 0.5 inch \\n Weight: 2.9 lbs', 'input': 'Acer Aspire 3 A315 59 5283 i5 1235U (NX.K6TSV.00B) (Intel UHD, 15.6 inches, 1.3GHz)', 'Screen Size': '15.6 inches', 'Processor Brand': 'Intel UHD', 'Processor Speed': '1.3GHz'}, {'human_0': 'Acer Aspire S7 13.3-Inch Touchscreen Ultrabook (Intel Core i5-4200U Processor up to 2.6GHz, 8GB DDR3 Memory, 256GB SSD, FHD 1080P Touchscreen Display, Backlit Keyboard, 802.11AC WiFi, Windows 8.1, 0.5 inch thin and 2.9 Lbs) Crystal White', 'system_0': 'Brand: Acer \\n Model: Aspire S7 \\n Screen Size: 13.3 inches \\n Screen Type: Touchscreen \\n Processor Brand: Intel Core i5-4200U \\n Processor Speed: 2.6GHz \\n Memory: 8GB DDR3 \\n Storage: 256GB SSD \\n Resolution: FHD 1080P \\n Keyboard: Backlit\\n Wireless Connectivity: 802.11AC WiFi \\n Operating System: Windows 8.1 \\n Color: Crystal White \\n Thickness: 0.5 inch \\n Weight: 2.9 lbs', 'input': 'Acer Gaming Nitro V ANV15 51 53NE i5 13420H (NH.QNASV.002) (RTX 2050 4GB, 15.6 inches, 2.1GHz)', 'Screen Size': '15.6 inches', 'Processor Brand': 'RTX 2050 4GB', 'Processor Speed': '2.1GHz'}, {'human_0': 'Acer Aspire S7 13.3-Inch Touchscreen Ultrabook (Intel Core i5-4200U Processor up to 2.6GHz, 8GB DDR3 Memory, 256GB SSD, FHD 1080P Touchscreen Display, Backlit Keyboard, 802.11AC WiFi, Windows 8.1, 0.5 inch thin and 2.9 Lbs) Crystal White', 'system_0': 'Brand: Acer \\n Model: Aspire S7 \\n Screen Size: 13.3 inches \\n Screen Type: Touchscreen \\n Processor Brand: Intel Core i5-4200U \\n Processor Speed: 2.6GHz \\n Memory: 8GB DDR3 \\n Storage: 256GB SSD \\n Resolution: FHD 1080P \\n Keyboard: Backlit\\n Wireless Connectivity: 802.11AC WiFi \\n Operating System: Windows 8.1 \\n Color: Crystal White \\n Thickness: 0.5 inch \\n Weight: 2.9 lbs', 'input': 'Acer Aspire 3 A315 58 54XF i5 1135G7 (NX.AM0SV.007) (Intel Iris Xe, 15.6 inches, 2.4GHz)', 'Screen Size': '15.6 inches', 'Processor Brand': 'Intel Iris Xe', 'Processor Speed': '2.4GHz'}, {'human_0': 'Acer Aspire S7 13.3-Inch Touchscreen Ultrabook (Intel Core i5-4200U Processor up to 2.6GHz, 8GB DDR3 Memory, 256GB SSD, FHD 1080P Touchscreen Display, Backlit Keyboard, 802.11AC WiFi, Windows 8.1, 0.5 inch thin and 2.9 Lbs) Crystal White', 'system_0': 'Brand: Acer \\n Model: Aspire S7 \\n Screen Size: 13.3 inches \\n Screen Type: Touchscreen \\n Processor Brand: Intel Core i5-4200U \\n Processor Speed: 2.6GHz \\n Memory: 8GB DDR3 \\n Storage: 256GB SSD \\n Resolution: FHD 1080P \\n Keyboard: Backlit\\n Wireless Connectivity: 802.11AC WiFi \\n Operating System: Windows 8.1 \\n Color: Crystal White \\n Thickness: 0.5 inch \\n Weight: 2.9 lbs', 'input': 'Acer Nitro 5 Tiger AN515 58 52SP i5 12500H (NH.QFHSV.001) (RTX 3050 4GB, 15.6 inches, 2.5GHz)', 'Screen Size': '15.6 inches', 'Processor Brand': 'RTX 3050 4GB', 'Processor Speed': '2.5GHz'}, {'human_0': 'Acer Aspire S7 13.3-Inch Touchscreen Ultrabook (Intel Core i5-4200U Processor up to 2.6GHz, 8GB DDR3 Memory, 256GB SSD, FHD 1080P Touchscreen Display, Backlit Keyboard, 802.11AC WiFi, Windows 8.1, 0.5 inch thin and 2.9 Lbs) Crystal White', 'system_0': 'Brand: Acer \\n Model: Aspire S7 \\n Screen Size: 13.3 inches \\n Screen Type: Touchscreen \\n Processor Brand: Intel Core i5-4200U \\n Processor Speed: 2.6GHz \\n Memory: 8GB DDR3 \\n Storage: 256GB SSD \\n Resolution: FHD 1080P \\n Keyboard: Backlit\\n Wireless Connectivity: 802.11AC WiFi \\n Operating System: Windows 8.1 \\n Color: Crystal White \\n Thickness: 0.5 inch \\n Weight: 2.9 lbs', 'input': 'Acer Aspire 5 A514 56P 54TN i5 1335U (NX.KHRSV.004) (Intel Iris Xe, 14 inches, 1.3GHz)', 'Screen Size': '14 inches', 'Processor Brand': 'Intel Iris Xe', 'Processor Speed': '1.3GHz'}, {'human_0': 'Acer Aspire S7 13.3-Inch Touchscreen Ultrabook (Intel Core i5-4200U Processor up to 2.6GHz, 8GB DDR3 Memory, 256GB SSD, FHD 1080P Touchscreen Display, Backlit Keyboard, 802.11AC WiFi, Windows 8.1, 0.5 inch thin and 2.9 Lbs) Crystal White', 'system_0': 'Brand: Acer \\n Model: Aspire S7 \\n Screen Size: 13.3 inches \\n Screen Type: Touchscreen \\n Processor Brand: Intel Core i5-4200U \\n Processor Speed: 2.6GHz \\n Memory: 8GB DDR3 \\n Storage: 256GB SSD \\n Resolution: FHD 1080P \\n Keyboard: Backlit\\n Wireless Connectivity: 802.11AC WiFi \\n Operating System: Windows 8.1 \\n Color: Crystal White \\n Thickness: 0.5 inch \\n Weight: 2.9 lbs', 'input': 'Acer Aspire 5 A514 54 5127 i5 1135G7 (NX.A28SV.007) (Intel Iris Xe, 14 inches, 2.4GHz)', 'Screen Size': '14 inches', 'Processor Brand': 'Intel Iris Xe', 'Processor Speed': '2.4GHz'}, {'human_0': 'Acer Aspire S7 13.3-Inch Touchscreen Ultrabook (Intel Core i5-4200U Processor up to 2.6GHz, 8GB DDR3 Memory, 256GB SSD, FHD 1080P Touchscreen Display, Backlit Keyboard, 802.11AC WiFi, Windows 8.1, 0.5 inch thin and 2.9 Lbs) Crystal White', 'system_0': 'Brand: Acer \\n Model: Aspire S7 \\n Screen Size: 13.3 inches \\n Screen Type: Touchscreen \\n Processor Brand: Intel Core i5-4200U \\n Processor Speed: 2.6GHz \\n Memory: 8GB DDR3 \\n Storage: 256GB SSD \\n Resolution: FHD 1080P \\n Keyboard: Backlit\\n Wireless Connectivity: 802.11AC WiFi \\n Operating System: Windows 8.1 \\n Color: Crystal White \\n Thickness: 0.5 inch \\n Weight: 2.9 lbs', 'input': 'Acer Aspire 3 A314 35 P3G9 N6000 (NX.A7SSV.007) (Intel UHD, 14 inches, 1.1GHz)', 'Screen Size': '14 inches', 'Processor Brand': 'Intel UHD', 'Processor Speed': '1.1GHz'}, {'human_0': 'Acer Aspire S7 13.3-Inch Touchscreen Ultrabook (Intel Core i5-4200U Processor up to 2.6GHz, 8GB DDR3 Memory, 256GB SSD, FHD 1080P Touchscreen Display, Backlit Keyboard, 802.11AC WiFi, Windows 8.1, 0.5 inch thin and 2.9 Lbs) Crystal White', 'system_0': 'Brand: Acer \\n Model: Aspire S7 \\n Screen Size: 13.3 inches \\n Screen Type: Touchscreen \\n Processor Brand: Intel Core i5-4200U \\n Processor Speed: 2.6GHz \\n Memory: 8GB DDR3 \\n Storage: 256GB SSD \\n Resolution: FHD 1080P \\n Keyboard: Backlit\\n Wireless Connectivity: 802.11AC WiFi \\n Operating System: Windows 8.1 \\n Color: Crystal White \\n Thickness: 0.5 inch \\n Weight: 2.9 lbs', 'input': 'Acer Swift 3 SF314 511 55QE i5 1135G7 (NX.ABNSV.003) (Intel Iris Xe, 14 inches, 2.4GHz)', 'Screen Size': '14 inches', 'Processor Brand': 'Intel Iris Xe', 'Processor Speed': '2.4GHz'}, {'human_0': 'Acer Aspire S7 13.3-Inch Touchscreen Ultrabook (Intel Core i5-4200U Processor up to 2.6GHz, 8GB DDR3 Memory, 256GB SSD, FHD 1080P Touchscreen Display, Backlit Keyboard, 802.11AC WiFi, Windows 8.1, 0.5 inch thin and 2.9 Lbs) Crystal White', 'system_0': 'Brand: Acer \\n Model: Aspire S7 \\n Screen Size: 13.3 inches \\n Screen Type: Touchscreen \\n Processor Brand: Intel Core i5-4200U \\n Processor Speed: 2.6GHz \\n Memory: 8GB DDR3 \\n Storage: 256GB SSD \\n Resolution: FHD 1080P \\n Keyboard: Backlit\\n Wireless Connectivity: 802.11AC WiFi \\n Operating System: Windows 8.1 \\n Color: Crystal White \\n Thickness: 0.5 inch \\n Weight: 2.9 lbs', 'input': 'Acer Aspire 3 A314 35 C3KS N5100 (NX.A7SSV.009) (Intel UHD, 14 inches, 1.1GHz)', 'Screen Size': '14 inches', 'Processor Brand': 'Intel UHD', 'Processor Speed': '1.1GHz'}, {'human_0': 'Acer Aspire S7 13.3-Inch Touchscreen Ultrabook (Intel Core i5-4200U Processor up to 2.6GHz, 8GB DDR3 Memory, 256GB SSD, FHD 1080P Touchscreen Display, Backlit Keyboard, 802.11AC WiFi, Windows 8.1, 0.5 inch thin and 2.9 Lbs) Crystal White', 'system_0': 'Brand: Acer \\n Model: Aspire S7 \\n Screen Size: 13.3 inches \\n Screen Type: Touchscreen \\n Processor Brand: Intel Core i5-4200U \\n Processor Speed: 2.6GHz \\n Memory: 8GB DDR3 \\n Storage: 256GB SSD \\n Resolution: FHD 1080P \\n Keyboard: Backlit\\n Wireless Connectivity: 802.11AC WiFi \\n Operating System: Windows 8.1 \\n Color: Crystal White \\n Thickness: 0.5 inch \\n Weight: 2.9 lbs', 'input': 'Acer Gaming Nitro V ANV15 51 57B2 i5 13420H (NH.QN8SV.001) (RTX 4050 6GB, 15.6 inches, 2.1GHz)', 'Screen Size': '15.6 inches', 'Processor Brand': 'RTX 4050 6GB', 'Processor Speed': '2.1GHz'}, {'human_0': 'Acer Aspire S7 13.3-Inch Touchscreen Ultrabook (Intel Core i5-4200U Processor up to 2.6GHz, 8GB DDR3 Memory, 256GB SSD, FHD 1080P Touchscreen Display, Backlit Keyboard, 802.11AC WiFi, Windows 8.1, 0.5 inch thin and 2.9 Lbs) Crystal White', 'system_0': 'Brand: Acer \\n Model: Aspire S7 \\n Screen Size: 13.3 inches \\n Screen Type: Touchscreen \\n Processor Brand: Intel Core i5-4200U \\n Processor Speed: 2.6GHz \\n Memory: 8GB DDR3 \\n Storage: 256GB SSD \\n Resolution: FHD 1080P \\n Keyboard: Backlit\\n Wireless Connectivity: 802.11AC WiFi \\n Operating System: Windows 8.1 \\n Color: Crystal White \\n Thickness: 0.5 inch \\n Weight: 2.9 lbs', 'input': 'Acer Gaming Nitro 5 AN515 58 769J i7 12700H (NH.QFHSV.003) (RTX 3050 4GB, 15.6 inches, 2.30 GHz)', 'Screen Size': '15.6 inches', 'Processor Brand': 'RTX 3050 4GB', 'Processor Speed': '2.30 GHz'}, {'human_0': 'Acer Aspire S7 13.3-Inch Touchscreen Ultrabook (Intel Core i5-4200U Processor up to 2.6GHz, 8GB DDR3 Memory, 256GB SSD, FHD 1080P Touchscreen Display, Backlit Keyboard, 802.11AC WiFi, Windows 8.1, 0.5 inch thin and 2.9 Lbs) Crystal White', 'system_0': 'Brand: Acer \\n Model: Aspire S7 \\n Screen Size: 13.3 inches \\n Screen Type: Touchscreen \\n Processor Brand: Intel Core i5-4200U \\n Processor Speed: 2.6GHz \\n Memory: 8GB DDR3 \\n Storage: 256GB SSD \\n Resolution: FHD 1080P \\n Keyboard: Backlit\\n Wireless Connectivity: 802.11AC WiFi \\n Operating System: Windows 8.1 \\n Color: Crystal White \\n Thickness: 0.5 inch \\n Weight: 2.9 lbs', 'input': 'Acer TravelMate P4 TMP414 51G 59R6 i5 1135G7 (NX.VP9SV.001) (MX350 2GB, 14 inches, 2.4GHz)', 'Screen Size': '14 inches', 'Processor Brand': 'MX350 2GB', 'Processor Speed': '2.4GHz'}, {'human_0': 'Acer Aspire S7 13.3-Inch Touchscreen Ultrabook (Intel Core i5-4200U Processor up to 2.6GHz, 8GB DDR3 Memory, 256GB SSD, FHD 1080P Touchscreen Display, Backlit Keyboard, 802.11AC WiFi, Windows 8.1, 0.5 inch thin and 2.9 Lbs) Crystal White', 'system_0': 'Brand: Acer \\n Model: Aspire S7 \\n Screen Size: 13.3 inches \\n Screen Type: Touchscreen \\n Processor Brand: Intel Core i5-4200U \\n Processor Speed: 2.6GHz \\n Memory: 8GB DDR3 \\n Storage: 256GB SSD \\n Resolution: FHD 1080P \\n Keyboard: Backlit\\n Wireless Connectivity: 802.11AC WiFi \\n Operating System: Windows 8.1 \\n Color: Crystal White \\n Thickness: 0.5 inch \\n Weight: 2.9 lbs', 'input': 'Acer Aspire 7 Gaming A715 76G 59MW i5 12450H (NH.QMYSV.001) (RTX 2050 4GB, 15.6 inches, 2GHz)', 'Screen Size': '15.6 inches', 'Processor Brand': 'RTX 2050 4GB', 'Processor Speed': '2GHz'}, {'human_0': 'Acer Aspire S7 13.3-Inch Touchscreen Ultrabook (Intel Core i5-4200U Processor up to 2.6GHz, 8GB DDR3 Memory, 256GB SSD, FHD 1080P Touchscreen Display, Backlit Keyboard, 802.11AC WiFi, Windows 8.1, 0.5 inch thin and 2.9 Lbs) Crystal White', 'system_0': 'Brand: Acer \\n Model: Aspire S7 \\n Screen Size: 13.3 inches \\n Screen Type: Touchscreen \\n Processor Brand: Intel Core i5-4200U \\n Processor Speed: 2.6GHz \\n Memory: 8GB DDR3 \\n Storage: 256GB SSD \\n Resolution: FHD 1080P \\n Keyboard: Backlit\\n Wireless Connectivity: 802.11AC WiFi \\n Operating System: Windows 8.1 \\n Color: Crystal White \\n Thickness: 0.5 inch \\n Weight: 2.9 lbs', 'input': 'Acer Swift 3 SF314 512 56QN i5 1240P (NX.K0FSV.002) (Intel Iris Xe, 14 inches, 1.7GHz)', 'Screen Size': '14 inches', 'Processor Brand': 'Intel Iris Xe', 'Processor Speed': '1.7GHz'}, {'human_0': 'Acer Aspire S7 13.3-Inch Touchscreen Ultrabook (Intel Core i5-4200U Processor up to 2.6GHz, 8GB DDR3 Memory, 256GB SSD, FHD 1080P Touchscreen Display, Backlit Keyboard, 802.11AC WiFi, Windows 8.1, 0.5 inch thin and 2.9 Lbs) Crystal White', 'system_0': 'Brand: Acer \\n Model: Aspire S7 \\n Screen Size: 13.3 inches \\n Screen Type: Touchscreen \\n Processor Brand: Intel Core i5-4200U \\n Processor Speed: 2.6GHz \\n Memory: 8GB DDR3 \\n Storage: 256GB SSD \\n Resolution: FHD 1080P \\n Keyboard: Backlit\\n Wireless Connectivity: 802.11AC WiFi \\n Operating System: Windows 8.1 \\n Color: Crystal White \\n Thickness: 0.5 inch \\n Weight: 2.9 lbs', 'input': 'Acer Gaming Predator Helios 16 PH16 71 72BV i7 13700HX (NH.QJRSV.001) (RTX 4070 8GB, 16 inches, 2.1GHz)', 'Screen Size': '16 inches', 'Processor Brand': 'RTX 4070 8GB', 'Processor Speed': '2.1GHz'}, {'human_0': 'Acer Aspire S7 13.3-Inch Touchscreen Ultrabook (Intel Core i5-4200U Processor up to 2.6GHz, 8GB DDR3 Memory, 256GB SSD, FHD 1080P Touchscreen Display, Backlit Keyboard, 802.11AC WiFi, Windows 8.1, 0.5 inch thin and 2.9 Lbs) Crystal White', 'system_0': 'Brand: Acer \\n Model: Aspire S7 \\n Screen Size: 13.3 inches \\n Screen Type: Touchscreen \\n Processor Brand: Intel Core i5-4200U \\n Processor Speed: 2.6GHz \\n Memory: 8GB DDR3 \\n Storage: 256GB SSD \\n Resolution: FHD 1080P \\n Keyboard: Backlit\\n Wireless Connectivity: 802.11AC WiFi \\n Operating System: Windows 8.1 \\n Color: Crystal White \\n Thickness: 0.5 inch \\n Weight: 2.9 lbs', 'input': 'Acer Nitro 5 Tiger AN515 58 773Y i7 12700H (NH.QFKSV.001) (RTX 3050Ti 4GB, 15.6 inches, 2.30 GHz)', 'Screen Size': '15.6 inches', 'Processor Brand': 'RTX 3050Ti 4GB', 'Processor Speed': '2.30 GHz'}, {'human_0': 'Acer Aspire S7 13.3-Inch Touchscreen Ultrabook (Intel Core i5-4200U Processor up to 2.6GHz, 8GB DDR3 Memory, 256GB SSD, FHD 1080P Touchscreen Display, Backlit Keyboard, 802.11AC WiFi, Windows 8.1, 0.5 inch thin and 2.9 Lbs) Crystal White', 'system_0': 'Brand: Acer \\n Model: Aspire S7 \\n Screen Size: 13.3 inches \\n Screen Type: Touchscreen \\n Processor Brand: Intel Core i5-4200U \\n Processor Speed: 2.6GHz \\n Memory: 8GB DDR3 \\n Storage: 256GB SSD \\n Resolution: FHD 1080P \\n Keyboard: Backlit\\n Wireless Connectivity: 802.11AC WiFi \\n Operating System: Windows 8.1 \\n Color: Crystal White \\n Thickness: 0.5 inch \\n Weight: 2.9 lbs', 'input': 'Acer Gaming Nitro V ANV15 51 58AN i5 13420H (NH.QNASV.001) (RTX 2050 4GB, 15.6 inches, 2.1GHz)', 'Screen Size': '15.6 inches', 'Processor Brand': 'RTX 2050 4GB', 'Processor Speed': '2.1GHz'}, {'human_0': 'Acer Aspire S7 13.3-Inch Touchscreen Ultrabook (Intel Core i5-4200U Processor up to 2.6GHz, 8GB DDR3 Memory, 256GB SSD, FHD 1080P Touchscreen Display, Backlit Keyboard, 802.11AC WiFi, Windows 8.1, 0.5 inch thin and 2.9 Lbs) Crystal White', 'system_0': 'Brand: Acer \\n Model: Aspire S7 \\n Screen Size: 13.3 inches \\n Screen Type: Touchscreen \\n Processor Brand: Intel Core i5-4200U \\n Processor Speed: 2.6GHz \\n Memory: 8GB DDR3 \\n Storage: 256GB SSD \\n Resolution: FHD 1080P \\n Keyboard: Backlit\\n Wireless Connectivity: 802.11AC WiFi \\n Operating System: Windows 8.1 \\n Color: Crystal White \\n Thickness: 0.5 inch \\n Weight: 2.9 lbs', 'input': 'Acer Aspire 5 A515 58M 56YX i5 13420H (NX.KQ8SV.005) (Intel UHD, 15.6 inches, 2.1GHz)', 'Screen Size': '15.6 inches', 'Processor Brand': 'Intel UHD', 'Processor Speed': '2.1GHz'}, {'human_0': 'Acer Aspire S7 13.3-Inch Touchscreen Ultrabook (Intel Core i5-4200U Processor up to 2.6GHz, 8GB DDR3 Memory, 256GB SSD, FHD 1080P Touchscreen Display, Backlit Keyboard, 802.11AC WiFi, Windows 8.1, 0.5 inch thin and 2.9 Lbs) Crystal White', 'system_0': 'Brand: Acer \\n Model: Aspire S7 \\n Screen Size: 13.3 inches \\n Screen Type: Touchscreen \\n Processor Brand: Intel Core i5-4200U \\n Processor Speed: 2.6GHz \\n Memory: 8GB DDR3 \\n Storage: 256GB SSD \\n Resolution: FHD 1080P \\n Keyboard: Backlit\\n Wireless Connectivity: 802.11AC WiFi \\n Operating System: Windows 8.1 \\n Color: Crystal White \\n Thickness: 0.5 inch \\n Weight: 2.9 lbs', 'input': 'Acer Gaming Nitro 5 AN515 57 53F9 i5 11400H (NH.QENSV.008) (RTX 3050 4GB, 15.6 inches, 2.7GHz)', 'Screen Size': '15.6 inches', 'Processor Brand': 'RTX 3050 4GB', 'Processor Speed': '2.7GHz'}, {'human_0': 'Acer Aspire S7 13.3-Inch Touchscreen Ultrabook (Intel Core i5-4200U Processor up to 2.6GHz, 8GB DDR3 Memory, 256GB SSD, FHD 1080P Touchscreen Display, Backlit Keyboard, 802.11AC WiFi, Windows 8.1, 0.5 inch thin and 2.9 Lbs) Crystal White', 'system_0': 'Brand: Acer \\n Model: Aspire S7 \\n Screen Size: 13.3 inches \\n Screen Type: Touchscreen \\n Processor Brand: Intel Core i5-4200U \\n Processor Speed: 2.6GHz \\n Memory: 8GB DDR3 \\n Storage: 256GB SSD \\n Resolution: FHD 1080P \\n Keyboard: Backlit\\n Wireless Connectivity: 802.11AC WiFi \\n Operating System: Windows 8.1 \\n Color: Crystal White \\n Thickness: 0.5 inch \\n Weight: 2.9 lbs', 'input': 'Lenovo Ideapad 1 15ALC7 R7 5700U (82R400C1VN) (Radeon, 15.6 inches, 1.8GHz)', 'Screen Size': '15.6 inches', 'Processor Brand': 'Radeon', 'Processor Speed': '1.8GHz'}, {'human_0': 'Acer Aspire S7 13.3-Inch Touchscreen Ultrabook (Intel Core i5-4200U Processor up to 2.6GHz, 8GB DDR3 Memory, 256GB SSD, FHD 1080P Touchscreen Display, Backlit Keyboard, 802.11AC WiFi, Windows 8.1, 0.5 inch thin and 2.9 Lbs) Crystal White', 'system_0': 'Brand: Acer \\n Model: Aspire S7 \\n Screen Size: 13.3 inches \\n Screen Type: Touchscreen \\n Processor Brand: Intel Core i5-4200U \\n Processor Speed: 2.6GHz \\n Memory: 8GB DDR3 \\n Storage: 256GB SSD \\n Resolution: FHD 1080P \\n Keyboard: Backlit\\n Wireless Connectivity: 802.11AC WiFi \\n Operating System: Windows 8.1 \\n Color: Crystal White \\n Thickness: 0.5 inch \\n Weight: 2.9 lbs', 'input': 'Lenovo V14 G3 ABA R5 5625U (82TU006SVN) (Radeon, 14 inches, 2.30 GHz)', 'Screen Size': '14 inches', 'Processor Brand': 'Radeon', 'Processor Speed': '2.30 GHz'}, {'human_0': 'Acer Aspire S7 13.3-Inch Touchscreen Ultrabook (Intel Core i5-4200U Processor up to 2.6GHz, 8GB DDR3 Memory, 256GB SSD, FHD 1080P Touchscreen Display, Backlit Keyboard, 802.11AC WiFi, Windows 8.1, 0.5 inch thin and 2.9 Lbs) Crystal White', 'system_0': 'Brand: Acer \\n Model: Aspire S7 \\n Screen Size: 13.3 inches \\n Screen Type: Touchscreen \\n Processor Brand: Intel Core i5-4200U \\n Processor Speed: 2.6GHz \\n Memory: 8GB DDR3 \\n Storage: 256GB SSD \\n Resolution: FHD 1080P \\n Keyboard: Backlit\\n Wireless Connectivity: 802.11AC WiFi \\n Operating System: Windows 8.1 \\n Color: Crystal White \\n Thickness: 0.5 inch \\n Weight: 2.9 lbs', 'input': 'Lenovo Ideapad Slim 3 15IAH8 i5 12450H (83ER000EVN) (Intel UHD, 15.6 inches, 2GHz)', 'Screen Size': '15.6 inches', 'Processor Brand': 'Intel UHD', 'Processor Speed': '2GHz'}, {'human_0': 'Acer Aspire S7 13.3-Inch Touchscreen Ultrabook (Intel Core i5-4200U Processor up to 2.6GHz, 8GB DDR3 Memory, 256GB SSD, FHD 1080P Touchscreen Display, Backlit Keyboard, 802.11AC WiFi, Windows 8.1, 0.5 inch thin and 2.9 Lbs) Crystal White', 'system_0': 'Brand: Acer \\n Model: Aspire S7 \\n Screen Size: 13.3 inches \\n Screen Type: Touchscreen \\n Processor Brand: Intel Core i5-4200U \\n Processor Speed: 2.6GHz \\n Memory: 8GB DDR3 \\n Storage: 256GB SSD \\n Resolution: FHD 1080P \\n Keyboard: Backlit\\n Wireless Connectivity: 802.11AC WiFi \\n Operating System: Windows 8.1 \\n Color: Crystal White \\n Thickness: 0.5 inch \\n Weight: 2.9 lbs', 'input': 'Lenovo V15 G4 IRU i5 1335U (83A1000LVN) (Intel Iris Xe, 15.6 inches, 1.3GHz)', 'Screen Size': '15.6 inches', 'Processor Brand': 'Intel Iris Xe', 'Processor Speed': '1.3GHz'}, {'human_0': 'Acer Aspire S7 13.3-Inch Touchscreen Ultrabook (Intel Core i5-4200U Processor up to 2.6GHz, 8GB DDR3 Memory, 256GB SSD, FHD 1080P Touchscreen Display, Backlit Keyboard, 802.11AC WiFi, Windows 8.1, 0.5 inch thin and 2.9 Lbs) Crystal White', 'system_0': 'Brand: Acer \\n Model: Aspire S7 \\n Screen Size: 13.3 inches \\n Screen Type: Touchscreen \\n Processor Brand: Intel Core i5-4200U \\n Processor Speed: 2.6GHz \\n Memory: 8GB DDR3 \\n Storage: 256GB SSD \\n Resolution: FHD 1080P \\n Keyboard: Backlit\\n Wireless Connectivity: 802.11AC WiFi \\n Operating System: Windows 8.1 \\n Color: Crystal White \\n Thickness: 0.5 inch \\n Weight: 2.9 lbs', 'input': 'Lenovo Ideapad 5 15IAL7 i5 1235U (82SF005HVN) (Intel Iris Xe, 15.6 inches, 1.3GHz)', 'Screen Size': '15.6 inches', 'Processor Brand': 'Intel Iris Xe', 'Processor Speed': '1.3GHz'}, {'human_0': 'Acer Aspire S7 13.3-Inch Touchscreen Ultrabook (Intel Core i5-4200U Processor up to 2.6GHz, 8GB DDR3 Memory, 256GB SSD, FHD 1080P Touchscreen Display, Backlit Keyboard, 802.11AC WiFi, Windows 8.1, 0.5 inch thin and 2.9 Lbs) Crystal White', 'system_0': 'Brand: Acer \\n Model: Aspire S7 \\n Screen Size: 13.3 inches \\n Screen Type: Touchscreen \\n Processor Brand: Intel Core i5-4200U \\n Processor Speed: 2.6GHz \\n Memory: 8GB DDR3 \\n Storage: 256GB SSD \\n Resolution: FHD 1080P \\n Keyboard: Backlit\\n Wireless Connectivity: 802.11AC WiFi \\n Operating System: Windows 8.1 \\n Color: Crystal White \\n Thickness: 0.5 inch \\n Weight: 2.9 lbs', 'input': 'Lenovo Ideapad 3 15IAU7 i3 1215U (82RK005LVN) (Intel UHD, 15.6 inches, 1.2GHz)', 'Screen Size': '15.6 inches', 'Processor Brand': 'Intel UHD', 'Processor Speed': '1.2GHz'}, {'human_0': 'Acer Aspire S7 13.3-Inch Touchscreen Ultrabook (Intel Core i5-4200U Processor up to 2.6GHz, 8GB DDR3 Memory, 256GB SSD, FHD 1080P Touchscreen Display, Backlit Keyboard, 802.11AC WiFi, Windows 8.1, 0.5 inch thin and 2.9 Lbs) Crystal White', 'system_0': 'Brand: Acer \\n Model: Aspire S7 \\n Screen Size: 13.3 inches \\n Screen Type: Touchscreen \\n Processor Brand: Intel Core i5-4200U \\n Processor Speed: 2.6GHz \\n Memory: 8GB DDR3 \\n Storage: 256GB SSD \\n Resolution: FHD 1080P \\n Keyboard: Backlit\\n Wireless Connectivity: 802.11AC WiFi \\n Operating System: Windows 8.1 \\n Color: Crystal White \\n Thickness: 0.5 inch \\n Weight: 2.9 lbs', 'input': 'Lenovo Ideapad Slim 3 15IAH8 i5 12450H (83ER000FVN) (Intel UHD, 15.6 inches, 2GHz)', 'Screen Size': '15.6 inches', 'Processor Brand': 'Intel UHD', 'Processor Speed': '2GHz'}, {'human_0': 'Acer Aspire S7 13.3-Inch Touchscreen Ultrabook (Intel Core i5-4200U Processor up to 2.6GHz, 8GB DDR3 Memory, 256GB SSD, FHD 1080P Touchscreen Display, Backlit Keyboard, 802.11AC WiFi, Windows 8.1, 0.5 inch thin and 2.9 Lbs) Crystal White', 'system_0': 'Brand: Acer \\n Model: Aspire S7 \\n Screen Size: 13.3 inches \\n Screen Type: Touchscreen \\n Processor Brand: Intel Core i5-4200U \\n Processor Speed: 2.6GHz \\n Memory: 8GB DDR3 \\n Storage: 256GB SSD \\n Resolution: FHD 1080P \\n Keyboard: Backlit\\n Wireless Connectivity: 802.11AC WiFi \\n Operating System: Windows 8.1 \\n Color: Crystal White \\n Thickness: 0.5 inch \\n Weight: 2.9 lbs', 'input': 'Lenovo Ideapad 3 15IAU7 i3 1215U (82RK00RWVN) (Intel UHD, 15.6 inches, 1.2GHz)', 'Screen Size': '15.6 inches', 'Processor Brand': 'Intel UHD', 'Processor Speed': '1.2GHz'}, {'human_0': 'Acer Aspire S7 13.3-Inch Touchscreen Ultrabook (Intel Core i5-4200U Processor up to 2.6GHz, 8GB DDR3 Memory, 256GB SSD, FHD 1080P Touchscreen Display, Backlit Keyboard, 802.11AC WiFi, Windows 8.1, 0.5 inch thin and 2.9 Lbs) Crystal White', 'system_0': 'Brand: Acer \\n Model: Aspire S7 \\n Screen Size: 13.3 inches \\n Screen Type: Touchscreen \\n Processor Brand: Intel Core i5-4200U \\n Processor Speed: 2.6GHz \\n Memory: 8GB DDR3 \\n Storage: 256GB SSD \\n Resolution: FHD 1080P \\n Keyboard: Backlit\\n Wireless Connectivity: 802.11AC WiFi \\n Operating System: Windows 8.1 \\n Color: Crystal White \\n Thickness: 0.5 inch \\n Weight: 2.9 lbs', 'input': 'Lenovo Ideapad 3 15ITL6 i5 1155G7 (82H803RRVN) (Intel Iris Xe, 15.6 inches, 2.5GHz)', 'Screen Size': '15.6 inches', 'Processor Brand': 'Intel Iris Xe', 'Processor Speed': '2.5GHz'}, {'human_0': 'Acer Aspire S7 13.3-Inch Touchscreen Ultrabook (Intel Core i5-4200U Processor up to 2.6GHz, 8GB DDR3 Memory, 256GB SSD, FHD 1080P Touchscreen Display, Backlit Keyboard, 802.11AC WiFi, Windows 8.1, 0.5 inch thin and 2.9 Lbs) Crystal White', 'system_0': 'Brand: Acer \\n Model: Aspire S7 \\n Screen Size: 13.3 inches \\n Screen Type: Touchscreen \\n Processor Brand: Intel Core i5-4200U \\n Processor Speed: 2.6GHz \\n Memory: 8GB DDR3 \\n Storage: 256GB SSD \\n Resolution: FHD 1080P \\n Keyboard: Backlit\\n Wireless Connectivity: 802.11AC WiFi \\n Operating System: Windows 8.1 \\n Color: Crystal White \\n Thickness: 0.5 inch \\n Weight: 2.9 lbs', 'input': 'Lenovo IdeaPad 1 15AMN7 R5 7520U (82VG0061VN) (AMD Radeon 610M, 15.6 inches, 2.8GHz)', 'Screen Size': '15.6 inches', 'Processor Brand': 'AMD Radeon 610M', 'Processor Speed': '2.8GHz'}, {'human_0': 'Acer Aspire S7 13.3-Inch Touchscreen Ultrabook (Intel Core i5-4200U Processor up to 2.6GHz, 8GB DDR3 Memory, 256GB SSD, FHD 1080P Touchscreen Display, Backlit Keyboard, 802.11AC WiFi, Windows 8.1, 0.5 inch thin and 2.9 Lbs) Crystal White', 'system_0': 'Brand: Acer \\n Model: Aspire S7 \\n Screen Size: 13.3 inches \\n Screen Type: Touchscreen \\n Processor Brand: Intel Core i5-4200U \\n Processor Speed: 2.6GHz \\n Memory: 8GB DDR3 \\n Storage: 256GB SSD \\n Resolution: FHD 1080P \\n Keyboard: Backlit\\n Wireless Connectivity: 802.11AC WiFi \\n Operating System: Windows 8.1 \\n Color: Crystal White \\n Thickness: 0.5 inch \\n Weight: 2.9 lbs', 'input': 'Lenovo ThinkBook 15 G5 IRL i7 1355U (21JD002AVN) (Intel Iris Xe, 15.6 inches, 1.7GHz)', 'Screen Size': '15.6 inches', 'Processor Brand': 'Intel Iris Xe', 'Processor Speed': '1.7GHz'}, {'human_0': 'Acer Aspire S7 13.3-Inch Touchscreen Ultrabook (Intel Core i5-4200U Processor up to 2.6GHz, 8GB DDR3 Memory, 256GB SSD, FHD 1080P Touchscreen Display, Backlit Keyboard, 802.11AC WiFi, Windows 8.1, 0.5 inch thin and 2.9 Lbs) Crystal White', 'system_0': 'Brand: Acer \\n Model: Aspire S7 \\n Screen Size: 13.3 inches \\n Screen Type: Touchscreen \\n Processor Brand: Intel Core i5-4200U \\n Processor Speed: 2.6GHz \\n Memory: 8GB DDR3 \\n Storage: 256GB SSD \\n Resolution: FHD 1080P \\n Keyboard: Backlit\\n Wireless Connectivity: 802.11AC WiFi \\n Operating System: Windows 8.1 \\n Color: Crystal White \\n Thickness: 0.5 inch \\n Weight: 2.9 lbs', 'input': 'Lenovo Ideapad 3 15IAU7 i3 1215U (82RK001MVN) (Intel UHD, 15.6 inches, 1.2GHz)', 'Screen Size': '15.6 inches', 'Processor Brand': 'Intel UHD', 'Processor Speed': '1.2GHz'}, {'human_0': 'Acer Aspire S7 13.3-Inch Touchscreen Ultrabook (Intel Core i5-4200U Processor up to 2.6GHz, 8GB DDR3 Memory, 256GB SSD, FHD 1080P Touchscreen Display, Backlit Keyboard, 802.11AC WiFi, Windows 8.1, 0.5 inch thin and 2.9 Lbs) Crystal White', 'system_0': 'Brand: Acer \\n Model: Aspire S7 \\n Screen Size: 13.3 inches \\n Screen Type: Touchscreen \\n Processor Brand: Intel Core i5-4200U \\n Processor Speed: 2.6GHz \\n Memory: 8GB DDR3 \\n Storage: 256GB SSD \\n Resolution: FHD 1080P \\n Keyboard: Backlit\\n Wireless Connectivity: 802.11AC WiFi \\n Operating System: Windows 8.1 \\n Color: Crystal White \\n Thickness: 0.5 inch \\n Weight: 2.9 lbs', 'input': 'Lenovo Ideapad Slim 3 15IRH8 i7 13620H (83EM003FVN) (Intel UHD, 15.6 inches, 2.4GHz)', 'Screen Size': '15.6 inches', 'Processor Brand': 'Intel UHD', 'Processor Speed': '2.4GHz'}, {'human_0': 'Acer Aspire S7 13.3-Inch Touchscreen Ultrabook (Intel Core i5-4200U Processor up to 2.6GHz, 8GB DDR3 Memory, 256GB SSD, FHD 1080P Touchscreen Display, Backlit Keyboard, 802.11AC WiFi, Windows 8.1, 0.5 inch thin and 2.9 Lbs) Crystal White', 'system_0': 'Brand: Acer \\n Model: Aspire S7 \\n Screen Size: 13.3 inches \\n Screen Type: Touchscreen \\n Processor Brand: Intel Core i5-4200U \\n Processor Speed: 2.6GHz \\n Memory: 8GB DDR3 \\n Storage: 256GB SSD \\n Resolution: FHD 1080P \\n Keyboard: Backlit\\n Wireless Connectivity: 802.11AC WiFi \\n Operating System: Windows 8.1 \\n Color: Crystal White \\n Thickness: 0.5 inch \\n Weight: 2.9 lbs', 'input': 'Lenovo Ideapad 3 15IAU7 i7 1255U (82RK00X0VN) (Intel Iris Xe, 15.6 inches, 1.7GHz)', 'Screen Size': '15.6 inches', 'Processor Brand': 'Intel Iris Xe', 'Processor Speed': '1.7GHz'}, {'human_0': 'Acer Aspire S7 13.3-Inch Touchscreen Ultrabook (Intel Core i5-4200U Processor up to 2.6GHz, 8GB DDR3 Memory, 256GB SSD, FHD 1080P Touchscreen Display, Backlit Keyboard, 802.11AC WiFi, Windows 8.1, 0.5 inch thin and 2.9 Lbs) Crystal White', 'system_0': 'Brand: Acer \\n Model: Aspire S7 \\n Screen Size: 13.3 inches \\n Screen Type: Touchscreen \\n Processor Brand: Intel Core i5-4200U \\n Processor Speed: 2.6GHz \\n Memory: 8GB DDR3 \\n Storage: 256GB SSD \\n Resolution: FHD 1080P \\n Keyboard: Backlit\\n Wireless Connectivity: 802.11AC WiFi \\n Operating System: Windows 8.1 \\n Color: Crystal White \\n Thickness: 0.5 inch \\n Weight: 2.9 lbs', 'input': 'Lenovo Ideapad 5 Pro 14IAP7 i5 1240P (82SH000SVN) (Intel Iris Xe, 14 inches, 1.7GHz)', 'Screen Size': '14 inches', 'Processor Brand': 'Intel Iris Xe', 'Processor Speed': '1.7GHz'}, {'human_0': 'Acer Aspire S7 13.3-Inch Touchscreen Ultrabook (Intel Core i5-4200U Processor up to 2.6GHz, 8GB DDR3 Memory, 256GB SSD, FHD 1080P Touchscreen Display, Backlit Keyboard, 802.11AC WiFi, Windows 8.1, 0.5 inch thin and 2.9 Lbs) Crystal White', 'system_0': 'Brand: Acer \\n Model: Aspire S7 \\n Screen Size: 13.3 inches \\n Screen Type: Touchscreen \\n Processor Brand: Intel Core i5-4200U \\n Processor Speed: 2.6GHz \\n Memory: 8GB DDR3 \\n Storage: 256GB SSD \\n Resolution: FHD 1080P \\n Keyboard: Backlit\\n Wireless Connectivity: 802.11AC WiFi \\n Operating System: Windows 8.1 \\n Color: Crystal White \\n Thickness: 0.5 inch \\n Weight: 2.9 lbs', 'input': 'Lenovo Ideapad Gaming 3 15ACH6 R5 5500H (82K2027PVN) (RTX 2050 4GB, 15.6 inches, 3.3GHz)', 'Screen Size': '15.6 inches', 'Processor Brand': 'RTX 2050 4GB', 'Processor Speed': '3.3GHz'}, {'human_0': 'Acer Aspire S7 13.3-Inch Touchscreen Ultrabook (Intel Core i5-4200U Processor up to 2.6GHz, 8GB DDR3 Memory, 256GB SSD, FHD 1080P Touchscreen Display, Backlit Keyboard, 802.11AC WiFi, Windows 8.1, 0.5 inch thin and 2.9 Lbs) Crystal White', 'system_0': 'Brand: Acer \\n Model: Aspire S7 \\n Screen Size: 13.3 inches \\n Screen Type: Touchscreen \\n Processor Brand: Intel Core i5-4200U \\n Processor Speed: 2.6GHz \\n Memory: 8GB DDR3 \\n Storage: 256GB SSD \\n Resolution: FHD 1080P \\n Keyboard: Backlit\\n Wireless Connectivity: 802.11AC WiFi \\n Operating System: Windows 8.1 \\n Color: Crystal White \\n Thickness: 0.5 inch \\n Weight: 2.9 lbs', 'input': 'Lenovo Yoga 7 14IRL8 i7 1360P (82YL006BVN) (Intel Iris Xe, 14 inches, 2.2GHz)', 'Screen Size': '14 inches', 'Processor Brand': 'Intel Iris Xe', 'Processor Speed': '2.2GHz'}, {'human_0': 'Acer Aspire S7 13.3-Inch Touchscreen Ultrabook (Intel Core i5-4200U Processor up to 2.6GHz, 8GB DDR3 Memory, 256GB SSD, FHD 1080P Touchscreen Display, Backlit Keyboard, 802.11AC WiFi, Windows 8.1, 0.5 inch thin and 2.9 Lbs) Crystal White', 'system_0': 'Brand: Acer \\n Model: Aspire S7 \\n Screen Size: 13.3 inches \\n Screen Type: Touchscreen \\n Processor Brand: Intel Core i5-4200U \\n Processor Speed: 2.6GHz \\n Memory: 8GB DDR3 \\n Storage: 256GB SSD \\n Resolution: FHD 1080P \\n Keyboard: Backlit\\n Wireless Connectivity: 802.11AC WiFi \\n Operating System: Windows 8.1 \\n Color: Crystal White \\n Thickness: 0.5 inch \\n Weight: 2.9 lbs', 'input': 'Lenovo IdeaPad Slim 5 Light 14ABR8 R5 7530U (82XS002KVN) (Radeon, 14 inches, 2GHz)', 'Screen Size': '14 inches', 'Processor Brand': 'Radeon', 'Processor Speed': '2GHz'}, {'human_0': 'Acer Aspire S7 13.3-Inch Touchscreen Ultrabook (Intel Core i5-4200U Processor up to 2.6GHz, 8GB DDR3 Memory, 256GB SSD, FHD 1080P Touchscreen Display, Backlit Keyboard, 802.11AC WiFi, Windows 8.1, 0.5 inch thin and 2.9 Lbs) Crystal White', 'system_0': 'Brand: Acer \\n Model: Aspire S7 \\n Screen Size: 13.3 inches \\n Screen Type: Touchscreen \\n Processor Brand: Intel Core i5-4200U \\n Processor Speed: 2.6GHz \\n Memory: 8GB DDR3 \\n Storage: 256GB SSD \\n Resolution: FHD 1080P \\n Keyboard: Backlit\\n Wireless Connectivity: 802.11AC WiFi \\n Operating System: Windows 8.1 \\n Color: Crystal White \\n Thickness: 0.5 inch \\n Weight: 2.9 lbs', 'input': 'Lenovo Ideapad 5 Pro 14IAP7 i7 1260P (82SH002SVN) (Intel Iris Xe, 14 inches, 2.1GHz)', 'Screen Size': '14 inches', 'Processor Brand': 'Intel Iris Xe', 'Processor Speed': '2.1GHz'}, {'human_0': 'Acer Aspire S7 13.3-Inch Touchscreen Ultrabook (Intel Core i5-4200U Processor up to 2.6GHz, 8GB DDR3 Memory, 256GB SSD, FHD 1080P Touchscreen Display, Backlit Keyboard, 802.11AC WiFi, Windows 8.1, 0.5 inch thin and 2.9 Lbs) Crystal White', 'system_0': 'Brand: Acer \\n Model: Aspire S7 \\n Screen Size: 13.3 inches \\n Screen Type: Touchscreen \\n Processor Brand: Intel Core i5-4200U \\n Processor Speed: 2.6GHz \\n Memory: 8GB DDR3 \\n Storage: 256GB SSD \\n Resolution: FHD 1080P \\n Keyboard: Backlit\\n Wireless Connectivity: 802.11AC WiFi \\n Operating System: Windows 8.1 \\n Color: Crystal White \\n Thickness: 0.5 inch \\n Weight: 2.9 lbs', 'input': 'Lenovo Ideapad 3 15ITL6 i3 1115G4 (82H803SFVN) (Intel UHD, 15.6 inches, 3GHz)', 'Screen Size': '15.6 inches', 'Processor Brand': 'Intel UHD', 'Processor Speed': '3GHz'}, {'human_0': 'Acer Aspire S7 13.3-Inch Touchscreen Ultrabook (Intel Core i5-4200U Processor up to 2.6GHz, 8GB DDR3 Memory, 256GB SSD, FHD 1080P Touchscreen Display, Backlit Keyboard, 802.11AC WiFi, Windows 8.1, 0.5 inch thin and 2.9 Lbs) Crystal White', 'system_0': 'Brand: Acer \\n Model: Aspire S7 \\n Screen Size: 13.3 inches \\n Screen Type: Touchscreen \\n Processor Brand: Intel Core i5-4200U \\n Processor Speed: 2.6GHz \\n Memory: 8GB DDR3 \\n Storage: 256GB SSD \\n Resolution: FHD 1080P \\n Keyboard: Backlit\\n Wireless Connectivity: 802.11AC WiFi \\n Operating System: Windows 8.1 \\n Color: Crystal White \\n Thickness: 0.5 inch \\n Weight: 2.9 lbs', 'input': 'Lenovo Yoga 7 14IRL8 i5 1340P (82YL006AVN) (Intel Iris Xe, 14 inches, 1.9GHz)', 'Screen Size': '14 inches', 'Processor Brand': 'Intel Iris Xe', 'Processor Speed': '1.9GHz'}, {'human_0': 'Acer Aspire S7 13.3-Inch Touchscreen Ultrabook (Intel Core i5-4200U Processor up to 2.6GHz, 8GB DDR3 Memory, 256GB SSD, FHD 1080P Touchscreen Display, Backlit Keyboard, 802.11AC WiFi, Windows 8.1, 0.5 inch thin and 2.9 Lbs) Crystal White', 'system_0': 'Brand: Acer \\n Model: Aspire S7 \\n Screen Size: 13.3 inches \\n Screen Type: Touchscreen \\n Processor Brand: Intel Core i5-4200U \\n Processor Speed: 2.6GHz \\n Memory: 8GB DDR3 \\n Storage: 256GB SSD \\n Resolution: FHD 1080P \\n Keyboard: Backlit\\n Wireless Connectivity: 802.11AC WiFi \\n Operating System: Windows 8.1 \\n Color: Crystal White \\n Thickness: 0.5 inch \\n Weight: 2.9 lbs', 'input': 'Lenovo Ideapad 3 15IAU7 i3 1215U (82RK00QYVN) (Intel UHD, 15.6 inches, 1.2GHz)', 'Screen Size': '15.6 inches', 'Processor Brand': 'Intel UHD', 'Processor Speed': '1.2GHz'}, {'human_0': 'Acer Aspire S7 13.3-Inch Touchscreen Ultrabook (Intel Core i5-4200U Processor up to 2.6GHz, 8GB DDR3 Memory, 256GB SSD, FHD 1080P Touchscreen Display, Backlit Keyboard, 802.11AC WiFi, Windows 8.1, 0.5 inch thin and 2.9 Lbs) Crystal White', 'system_0': 'Brand: Acer \\n Model: Aspire S7 \\n Screen Size: 13.3 inches \\n Screen Type: Touchscreen \\n Processor Brand: Intel Core i5-4200U \\n Processor Speed: 2.6GHz \\n Memory: 8GB DDR3 \\n Storage: 256GB SSD \\n Resolution: FHD 1080P \\n Keyboard: Backlit\\n Wireless Connectivity: 802.11AC WiFi \\n Operating System: Windows 8.1 \\n Color: Crystal White \\n Thickness: 0.5 inch \\n Weight: 2.9 lbs', 'input': 'Lenovo LOQ Gaming 15IRH8 i7 13620H (82XV00QXVN) (RTX 4050 6GB, 15.6 inches, 2.4GHz)', 'Screen Size': '15.6 inches', 'Processor Brand': 'RTX 4050 6GB', 'Processor Speed': '2.4GHz'}, {'human_0': 'Acer Aspire S7 13.3-Inch Touchscreen Ultrabook (Intel Core i5-4200U Processor up to 2.6GHz, 8GB DDR3 Memory, 256GB SSD, FHD 1080P Touchscreen Display, Backlit Keyboard, 802.11AC WiFi, Windows 8.1, 0.5 inch thin and 2.9 Lbs) Crystal White', 'system_0': 'Brand: Acer \\n Model: Aspire S7 \\n Screen Size: 13.3 inches \\n Screen Type: Touchscreen \\n Processor Brand: Intel Core i5-4200U \\n Processor Speed: 2.6GHz \\n Memory: 8GB DDR3 \\n Storage: 256GB SSD \\n Resolution: FHD 1080P \\n Keyboard: Backlit\\n Wireless Connectivity: 802.11AC WiFi \\n Operating System: Windows 8.1 \\n Color: Crystal White \\n Thickness: 0.5 inch \\n Weight: 2.9 lbs', 'input': 'Lenovo LOQ Gaming 15IAX9 i5 12450HX (83GS000JVN) (RTX 3050 6GB, 15.6 inches, 12450HX)', 'Screen Size': '15.6 inches', 'Processor Brand': 'RTX 3050 6GB', 'Processor Speed': '12450HX'}, {'human_0': 'Acer Aspire S7 13.3-Inch Touchscreen Ultrabook (Intel Core i5-4200U Processor up to 2.6GHz, 8GB DDR3 Memory, 256GB SSD, FHD 1080P Touchscreen Display, Backlit Keyboard, 802.11AC WiFi, Windows 8.1, 0.5 inch thin and 2.9 Lbs) Crystal White', 'system_0': 'Brand: Acer \\n Model: Aspire S7 \\n Screen Size: 13.3 inches \\n Screen Type: Touchscreen \\n Processor Brand: Intel Core i5-4200U \\n Processor Speed: 2.6GHz \\n Memory: 8GB DDR3 \\n Storage: 256GB SSD \\n Resolution: FHD 1080P \\n Keyboard: Backlit\\n Wireless Connectivity: 802.11AC WiFi \\n Operating System: Windows 8.1 \\n Color: Crystal White \\n Thickness: 0.5 inch \\n Weight: 2.9 lbs', 'input': 'Lenovo Gaming Legion 5 16IRH8 i5 13500H (82YA00BSVN) (RTX 4050 6GB, 16 inches, 2.6GHz)', 'Screen Size': '16 inches', 'Processor Brand': 'RTX 4050 6GB', 'Processor Speed': '2.6GHz'}, {'human_0': 'Acer Aspire S7 13.3-Inch Touchscreen Ultrabook (Intel Core i5-4200U Processor up to 2.6GHz, 8GB DDR3 Memory, 256GB SSD, FHD 1080P Touchscreen Display, Backlit Keyboard, 802.11AC WiFi, Windows 8.1, 0.5 inch thin and 2.9 Lbs) Crystal White', 'system_0': 'Brand: Acer \\n Model: Aspire S7 \\n Screen Size: 13.3 inches \\n Screen Type: Touchscreen \\n Processor Brand: Intel Core i5-4200U \\n Processor Speed: 2.6GHz \\n Memory: 8GB DDR3 \\n Storage: 256GB SSD \\n Resolution: FHD 1080P \\n Keyboard: Backlit\\n Wireless Connectivity: 802.11AC WiFi \\n Operating System: Windows 8.1 \\n Color: Crystal White \\n Thickness: 0.5 inch \\n Weight: 2.9 lbs', 'input': 'Lenovo LOQ Gaming 15IRH8 i5 13420H (82XV00Q4VN) (RTX 4050 6GB, 15.6 inches, 2.1GHz)', 'Screen Size': '15.6 inches', 'Processor Brand': 'RTX 4050 6GB', 'Processor Speed': '2.1GHz'}, {'human_0': 'Acer Aspire S7 13.3-Inch Touchscreen Ultrabook (Intel Core i5-4200U Processor up to 2.6GHz, 8GB DDR3 Memory, 256GB SSD, FHD 1080P Touchscreen Display, Backlit Keyboard, 802.11AC WiFi, Windows 8.1, 0.5 inch thin and 2.9 Lbs) Crystal White', 'system_0': 'Brand: Acer \\n Model: Aspire S7 \\n Screen Size: 13.3 inches \\n Screen Type: Touchscreen \\n Processor Brand: Intel Core i5-4200U \\n Processor Speed: 2.6GHz \\n Memory: 8GB DDR3 \\n Storage: 256GB SSD \\n Resolution: FHD 1080P \\n Keyboard: Backlit\\n Wireless Connectivity: 802.11AC WiFi \\n Operating System: Windows 8.1 \\n Color: Crystal White \\n Thickness: 0.5 inch \\n Weight: 2.9 lbs', 'input': 'Lenovo ThinkBook 15 G5 IRL i5 1355U (21JD002FVN) (Intel Iris Xe, 15.6 inches, 1.3GHz)', 'Screen Size': '15.6 inches', 'Processor Brand': 'Intel Iris Xe', 'Processor Speed': '1.3GHz'}, {'human_0': 'Acer Aspire S7 13.3-Inch Touchscreen Ultrabook (Intel Core i5-4200U Processor up to 2.6GHz, 8GB DDR3 Memory, 256GB SSD, FHD 1080P Touchscreen Display, Backlit Keyboard, 802.11AC WiFi, Windows 8.1, 0.5 inch thin and 2.9 Lbs) Crystal White', 'system_0': 'Brand: Acer \\n Model: Aspire S7 \\n Screen Size: 13.3 inches \\n Screen Type: Touchscreen \\n Processor Brand: Intel Core i5-4200U \\n Processor Speed: 2.6GHz \\n Memory: 8GB DDR3 \\n Storage: 256GB SSD \\n Resolution: FHD 1080P \\n Keyboard: Backlit\\n Wireless Connectivity: 802.11AC WiFi \\n Operating System: Windows 8.1 \\n Color: Crystal White \\n Thickness: 0.5 inch \\n Weight: 2.9 lbs', 'input': 'Lenovo Ideapad Slim 3 15IRH8 i7 13620H (83EM003EVN) (Intel UHD, 15.6 inches, 2.4GHz)', 'Screen Size': '15.6 inches', 'Processor Brand': 'Intel UHD', 'Processor Speed': '2.4GHz'}, {'human_0': 'Acer Aspire S7 13.3-Inch Touchscreen Ultrabook (Intel Core i5-4200U Processor up to 2.6GHz, 8GB DDR3 Memory, 256GB SSD, FHD 1080P Touchscreen Display, Backlit Keyboard, 802.11AC WiFi, Windows 8.1, 0.5 inch thin and 2.9 Lbs) Crystal White', 'system_0': 'Brand: Acer \\n Model: Aspire S7 \\n Screen Size: 13.3 inches \\n Screen Type: Touchscreen \\n Processor Brand: Intel Core i5-4200U \\n Processor Speed: 2.6GHz \\n Memory: 8GB DDR3 \\n Storage: 256GB SSD \\n Resolution: FHD 1080P \\n Keyboard: Backlit\\n Wireless Connectivity: 802.11AC WiFi \\n Operating System: Windows 8.1 \\n Color: Crystal White \\n Thickness: 0.5 inch \\n Weight: 2.9 lbs', 'input': 'Lenovo Ideapad Slim 5 14IAH8 i5 12450H (83BF003WVN) (Intel UHD, 14 inches, 2GHz)', 'Screen Size': '14 inches', 'Processor Brand': 'Intel UHD', 'Processor Speed': '2GHz'}, {'human_0': 'Acer Aspire S7 13.3-Inch Touchscreen Ultrabook (Intel Core i5-4200U Processor up to 2.6GHz, 8GB DDR3 Memory, 256GB SSD, FHD 1080P Touchscreen Display, Backlit Keyboard, 802.11AC WiFi, Windows 8.1, 0.5 inch thin and 2.9 Lbs) Crystal White', 'system_0': 'Brand: Acer \\n Model: Aspire S7 \\n Screen Size: 13.3 inches \\n Screen Type: Touchscreen \\n Processor Brand: Intel Core i5-4200U \\n Processor Speed: 2.6GHz \\n Memory: 8GB DDR3 \\n Storage: 256GB SSD \\n Resolution: FHD 1080P \\n Keyboard: Backlit\\n Wireless Connectivity: 802.11AC WiFi \\n Operating System: Windows 8.1 \\n Color: Crystal White \\n Thickness: 0.5 inch \\n Weight: 2.9 lbs', 'input': 'Lenovo Ideapad 3 15ITL6 i5 1155G7 (82H803CVVN) (Intel Iris Xe, 15.6 inches, 2.5GHz)', 'Screen Size': '15.6 inches', 'Processor Brand': 'Intel Iris Xe', 'Processor Speed': '2.5GHz'}, {'human_0': 'Acer Aspire S7 13.3-Inch Touchscreen Ultrabook (Intel Core i5-4200U Processor up to 2.6GHz, 8GB DDR3 Memory, 256GB SSD, FHD 1080P Touchscreen Display, Backlit Keyboard, 802.11AC WiFi, Windows 8.1, 0.5 inch thin and 2.9 Lbs) Crystal White', 'system_0': 'Brand: Acer \\n Model: Aspire S7 \\n Screen Size: 13.3 inches \\n Screen Type: Touchscreen \\n Processor Brand: Intel Core i5-4200U \\n Processor Speed: 2.6GHz \\n Memory: 8GB DDR3 \\n Storage: 256GB SSD \\n Resolution: FHD 1080P \\n Keyboard: Backlit\\n Wireless Connectivity: 802.11AC WiFi \\n Operating System: Windows 8.1 \\n Color: Crystal White \\n Thickness: 0.5 inch \\n Weight: 2.9 lbs', 'input': 'Lenovo Ideapad 3 15IAU7 i5 1235U (82RK001PVN) (Intel UHD, 15.6 inches, 1.3GHz)', 'Screen Size': '15.6 inches', 'Processor Brand': 'Intel UHD', 'Processor Speed': '1.3GHz'}, {'human_0': 'Acer Aspire S7 13.3-Inch Touchscreen Ultrabook (Intel Core i5-4200U Processor up to 2.6GHz, 8GB DDR3 Memory, 256GB SSD, FHD 1080P Touchscreen Display, Backlit Keyboard, 802.11AC WiFi, Windows 8.1, 0.5 inch thin and 2.9 Lbs) Crystal White', 'system_0': 'Brand: Acer \\n Model: Aspire S7 \\n Screen Size: 13.3 inches \\n Screen Type: Touchscreen \\n Processor Brand: Intel Core i5-4200U \\n Processor Speed: 2.6GHz \\n Memory: 8GB DDR3 \\n Storage: 256GB SSD \\n Resolution: FHD 1080P \\n Keyboard: Backlit\\n Wireless Connectivity: 802.11AC WiFi \\n Operating System: Windows 8.1 \\n Color: Crystal White \\n Thickness: 0.5 inch \\n Weight: 2.9 lbs', 'input': 'Lenovo Ideapad 5 14IAL7 i5 1235U (82SD0060VN) (Intel Iris Xe, 14 inches, 1.3GHz)', 'Screen Size': '14 inches', 'Processor Brand': 'Intel Iris Xe', 'Processor Speed': '1.3GHz'}, {'human_0': 'Acer Aspire S7 13.3-Inch Touchscreen Ultrabook (Intel Core i5-4200U Processor up to 2.6GHz, 8GB DDR3 Memory, 256GB SSD, FHD 1080P Touchscreen Display, Backlit Keyboard, 802.11AC WiFi, Windows 8.1, 0.5 inch thin and 2.9 Lbs) Crystal White', 'system_0': 'Brand: Acer \\n Model: Aspire S7 \\n Screen Size: 13.3 inches \\n Screen Type: Touchscreen \\n Processor Brand: Intel Core i5-4200U \\n Processor Speed: 2.6GHz \\n Memory: 8GB DDR3 \\n Storage: 256GB SSD \\n Resolution: FHD 1080P \\n Keyboard: Backlit\\n Wireless Connectivity: 802.11AC WiFi \\n Operating System: Windows 8.1 \\n Color: Crystal White \\n Thickness: 0.5 inch \\n Weight: 2.9 lbs', 'input': 'Lenovo V14 G4 IRU i3 1315U (83A0000TVN) (Intel UHD, 14 inches, 1.2GHz)', 'Screen Size': '14 inches', 'Processor Brand': 'Intel UHD', 'Processor Speed': '1.2GHz'}, {'human_0': 'Acer Aspire S7 13.3-Inch Touchscreen Ultrabook (Intel Core i5-4200U Processor up to 2.6GHz, 8GB DDR3 Memory, 256GB SSD, FHD 1080P Touchscreen Display, Backlit Keyboard, 802.11AC WiFi, Windows 8.1, 0.5 inch thin and 2.9 Lbs) Crystal White', 'system_0': 'Brand: Acer \\n Model: Aspire S7 \\n Screen Size: 13.3 inches \\n Screen Type: Touchscreen \\n Processor Brand: Intel Core i5-4200U \\n Processor Speed: 2.6GHz \\n Memory: 8GB DDR3 \\n Storage: 256GB SSD \\n Resolution: FHD 1080P \\n Keyboard: Backlit\\n Wireless Connectivity: 802.11AC WiFi \\n Operating System: Windows 8.1 \\n Color: Crystal White \\n Thickness: 0.5 inch \\n Weight: 2.9 lbs', 'input': 'Dell Inspiron 15 3520 i5 1235U (25P231) (Intel Iris Xe, 15.6 inches, 1.3GHz)', 'Screen Size': '15.6 inches', 'Processor Brand': 'Intel Iris Xe', 'Processor Speed': '1.3GHz'}, {'human_0': 'Acer Aspire S7 13.3-Inch Touchscreen Ultrabook (Intel Core i5-4200U Processor up to 2.6GHz, 8GB DDR3 Memory, 256GB SSD, FHD 1080P Touchscreen Display, Backlit Keyboard, 802.11AC WiFi, Windows 8.1, 0.5 inch thin and 2.9 Lbs) Crystal White', 'system_0': 'Brand: Acer \\n Model: Aspire S7 \\n Screen Size: 13.3 inches \\n Screen Type: Touchscreen \\n Processor Brand: Intel Core i5-4200U \\n Processor Speed: 2.6GHz \\n Memory: 8GB DDR3 \\n Storage: 256GB SSD \\n Resolution: FHD 1080P \\n Keyboard: Backlit\\n Wireless Connectivity: 802.11AC WiFi \\n Operating System: Windows 8.1 \\n Color: Crystal White \\n Thickness: 0.5 inch \\n Weight: 2.9 lbs', 'input': 'Dell Inspiron 15 3520 i5 1235U (i5U085W11BLU) (Intel UHD, 15.6 inches, 1.3GHz)', 'Screen Size': '15.6 inches', 'Processor Brand': 'Intel UHD', 'Processor Speed': '1.3GHz'}, {'human_0': 'Acer Aspire S7 13.3-Inch Touchscreen Ultrabook (Intel Core i5-4200U Processor up to 2.6GHz, 8GB DDR3 Memory, 256GB SSD, FHD 1080P Touchscreen Display, Backlit Keyboard, 802.11AC WiFi, Windows 8.1, 0.5 inch thin and 2.9 Lbs) Crystal White', 'system_0': 'Brand: Acer \\n Model: Aspire S7 \\n Screen Size: 13.3 inches \\n Screen Type: Touchscreen \\n Processor Brand: Intel Core i5-4200U \\n Processor Speed: 2.6GHz \\n Memory: 8GB DDR3 \\n Storage: 256GB SSD \\n Resolution: FHD 1080P \\n Keyboard: Backlit\\n Wireless Connectivity: 802.11AC WiFi \\n Operating System: Windows 8.1 \\n Color: Crystal White \\n Thickness: 0.5 inch \\n Weight: 2.9 lbs', 'input': 'Dell Inspiron 15 3520 i5 1235U (71027003) (Intel UHD, 15.6 inches, 1.3GHz)', 'Screen Size': '15.6 inches', 'Processor Brand': 'Intel UHD', 'Processor Speed': '1.3GHz'}, {'human_0': 'Acer Aspire S7 13.3-Inch Touchscreen Ultrabook (Intel Core i5-4200U Processor up to 2.6GHz, 8GB DDR3 Memory, 256GB SSD, FHD 1080P Touchscreen Display, Backlit Keyboard, 802.11AC WiFi, Windows 8.1, 0.5 inch thin and 2.9 Lbs) Crystal White', 'system_0': 'Brand: Acer \\n Model: Aspire S7 \\n Screen Size: 13.3 inches \\n Screen Type: Touchscreen \\n Processor Brand: Intel Core i5-4200U \\n Processor Speed: 2.6GHz \\n Memory: 8GB DDR3 \\n Storage: 256GB SSD \\n Resolution: FHD 1080P \\n Keyboard: Backlit\\n Wireless Connectivity: 802.11AC WiFi \\n Operating System: Windows 8.1 \\n Color: Crystal White \\n Thickness: 0.5 inch \\n Weight: 2.9 lbs', 'input': 'Dell Inspiron 15 3520 i3 1215U (71003264) (Intel UHD, 15.6 inches, 1.2GHz)', 'Screen Size': '15.6 inches', 'Processor Brand': 'Intel UHD', 'Processor Speed': '1.2GHz'}, {'human_0': 'Acer Aspire S7 13.3-Inch Touchscreen Ultrabook (Intel Core i5-4200U Processor up to 2.6GHz, 8GB DDR3 Memory, 256GB SSD, FHD 1080P Touchscreen Display, Backlit Keyboard, 802.11AC WiFi, Windows 8.1, 0.5 inch thin and 2.9 Lbs) Crystal White', 'system_0': 'Brand: Acer \\n Model: Aspire S7 \\n Screen Size: 13.3 inches \\n Screen Type: Touchscreen \\n Processor Brand: Intel Core i5-4200U \\n Processor Speed: 2.6GHz \\n Memory: 8GB DDR3 \\n Storage: 256GB SSD \\n Resolution: FHD 1080P \\n Keyboard: Backlit\\n Wireless Connectivity: 802.11AC WiFi \\n Operating System: Windows 8.1 \\n Color: Crystal White \\n Thickness: 0.5 inch \\n Weight: 2.9 lbs', 'input': 'Dell Vostro 15 3520 i3 1215U (V5I3614W1) (Intel UHD, 15.6 inches, 1.2GHz)', 'Screen Size': '15.6 inches', 'Processor Brand': 'Intel UHD', 'Processor Speed': '1.2GHz'}, {'human_0': 'Acer Aspire S7 13.3-Inch Touchscreen Ultrabook (Intel Core i5-4200U Processor up to 2.6GHz, 8GB DDR3 Memory, 256GB SSD, FHD 1080P Touchscreen Display, Backlit Keyboard, 802.11AC WiFi, Windows 8.1, 0.5 inch thin and 2.9 Lbs) Crystal White', 'system_0': 'Brand: Acer \\n Model: Aspire S7 \\n Screen Size: 13.3 inches \\n Screen Type: Touchscreen \\n Processor Brand: Intel Core i5-4200U \\n Processor Speed: 2.6GHz \\n Memory: 8GB DDR3 \\n Storage: 256GB SSD \\n Resolution: FHD 1080P \\n Keyboard: Backlit\\n Wireless Connectivity: 802.11AC WiFi \\n Operating System: Windows 8.1 \\n Color: Crystal White \\n Thickness: 0.5 inch \\n Weight: 2.9 lbs', 'input': 'Dell Inspiron 15 3520 i3 1215U (i3U082W11BLU) (Intel UHD, 15.6 inches, 1.2GHz)', 'Screen Size': '15.6 inches', 'Processor Brand': 'Intel UHD', 'Processor Speed': '1.2GHz'}, {'human_0': 'Acer Aspire S7 13.3-Inch Touchscreen Ultrabook (Intel Core i5-4200U Processor up to 2.6GHz, 8GB DDR3 Memory, 256GB SSD, FHD 1080P Touchscreen Display, Backlit Keyboard, 802.11AC WiFi, Windows 8.1, 0.5 inch thin and 2.9 Lbs) Crystal White', 'system_0': 'Brand: Acer \\n Model: Aspire S7 \\n Screen Size: 13.3 inches \\n Screen Type: Touchscreen \\n Processor Brand: Intel Core i5-4200U \\n Processor Speed: 2.6GHz \\n Memory: 8GB DDR3 \\n Storage: 256GB SSD \\n Resolution: FHD 1080P \\n Keyboard: Backlit\\n Wireless Connectivity: 802.11AC WiFi \\n Operating System: Windows 8.1 \\n Color: Crystal White \\n Thickness: 0.5 inch \\n Weight: 2.9 lbs', 'input': 'Dell Vostro 15 3520 i5 1235U (V5I5610W1) (Intel UHD, 15.6 inches, 1.3GHz)', 'Screen Size': '15.6 inches', 'Processor Brand': 'Intel UHD', 'Processor Speed': '1.3GHz'}, {'human_0': 'Acer Aspire S7 13.3-Inch Touchscreen Ultrabook (Intel Core i5-4200U Processor up to 2.6GHz, 8GB DDR3 Memory, 256GB SSD, FHD 1080P Touchscreen Display, Backlit Keyboard, 802.11AC WiFi, Windows 8.1, 0.5 inch thin and 2.9 Lbs) Crystal White', 'system_0': 'Brand: Acer \\n Model: Aspire S7 \\n Screen Size: 13.3 inches \\n Screen Type: Touchscreen \\n Processor Brand: Intel Core i5-4200U \\n Processor Speed: 2.6GHz \\n Memory: 8GB DDR3 \\n Storage: 256GB SSD \\n Resolution: FHD 1080P \\n Keyboard: Backlit\\n Wireless Connectivity: 802.11AC WiFi \\n Operating System: Windows 8.1 \\n Color: Crystal White \\n Thickness: 0.5 inch \\n Weight: 2.9 lbs', 'input': 'Dell Inspiron 15 3530 i7 1355U (N3530I716W1) (MX550 2GB, 15.6 inches, 1.7GHz)', 'Screen Size': '15.6 inches', 'Processor Brand': 'MX550 2GB', 'Processor Speed': '1.7GHz'}, {'human_0': 'Acer Aspire S7 13.3-Inch Touchscreen Ultrabook (Intel Core i5-4200U Processor up to 2.6GHz, 8GB DDR3 Memory, 256GB SSD, FHD 1080P Touchscreen Display, Backlit Keyboard, 802.11AC WiFi, Windows 8.1, 0.5 inch thin and 2.9 Lbs) Crystal White', 'system_0': 'Brand: Acer \\n Model: Aspire S7 \\n Screen Size: 13.3 inches \\n Screen Type: Touchscreen \\n Processor Brand: Intel Core i5-4200U \\n Processor Speed: 2.6GHz \\n Memory: 8GB DDR3 \\n Storage: 256GB SSD \\n Resolution: FHD 1080P \\n Keyboard: Backlit\\n Wireless Connectivity: 802.11AC WiFi \\n Operating System: Windows 8.1 \\n Color: Crystal White \\n Thickness: 0.5 inch \\n Weight: 2.9 lbs', 'input': 'Dell Inspiron 15 3530 i7 1355U (71011775) (Intel UHD, 15.6 inches, 1.7GHz)', 'Screen Size': '15.6 inches', 'Processor Brand': 'Intel UHD', 'Processor Speed': '1.7GHz'}, {'human_0': 'Acer Aspire S7 13.3-Inch Touchscreen Ultrabook (Intel Core i5-4200U Processor up to 2.6GHz, 8GB DDR3 Memory, 256GB SSD, FHD 1080P Touchscreen Display, Backlit Keyboard, 802.11AC WiFi, Windows 8.1, 0.5 inch thin and 2.9 Lbs) Crystal White', 'system_0': 'Brand: Acer \\n Model: Aspire S7 \\n Screen Size: 13.3 inches \\n Screen Type: Touchscreen \\n Processor Brand: Intel Core i5-4200U \\n Processor Speed: 2.6GHz \\n Memory: 8GB DDR3 \\n Storage: 256GB SSD \\n Resolution: FHD 1080P \\n Keyboard: Backlit\\n Wireless Connectivity: 802.11AC WiFi \\n Operating System: Windows 8.1 \\n Color: Crystal White \\n Thickness: 0.5 inch \\n Weight: 2.9 lbs', 'input': 'Dell Vostro 15 3520 i3 1215U (5M2TT1) (Intel UHD, 15.6 inches, 1.2GHz)', 'Screen Size': '15.6 inches', 'Processor Brand': 'Intel UHD', 'Processor Speed': '1.2GHz'}, {'human_0': 'Acer Aspire S7 13.3-Inch Touchscreen Ultrabook (Intel Core i5-4200U Processor up to 2.6GHz, 8GB DDR3 Memory, 256GB SSD, FHD 1080P Touchscreen Display, Backlit Keyboard, 802.11AC WiFi, Windows 8.1, 0.5 inch thin and 2.9 Lbs) Crystal White', 'system_0': 'Brand: Acer \\n Model: Aspire S7 \\n Screen Size: 13.3 inches \\n Screen Type: Touchscreen \\n Processor Brand: Intel Core i5-4200U \\n Processor Speed: 2.6GHz \\n Memory: 8GB DDR3 \\n Storage: 256GB SSD \\n Resolution: FHD 1080P \\n Keyboard: Backlit\\n Wireless Connectivity: 802.11AC WiFi \\n Operating System: Windows 8.1 \\n Color: Crystal White \\n Thickness: 0.5 inch \\n Weight: 2.9 lbs', 'input': 'Dell Inspiron 15 3530 i5 1335U (N3530-i5U085W11BLU) (Intel UHD, 15.6 inches, 1.3GHz)', 'Screen Size': '15.6 inches', 'Processor Brand': 'Intel UHD', 'Processor Speed': '1.3GHz'}, {'human_0': 'Acer Aspire S7 13.3-Inch Touchscreen Ultrabook (Intel Core i5-4200U Processor up to 2.6GHz, 8GB DDR3 Memory, 256GB SSD, FHD 1080P Touchscreen Display, Backlit Keyboard, 802.11AC WiFi, Windows 8.1, 0.5 inch thin and 2.9 Lbs) Crystal White', 'system_0': 'Brand: Acer \\n Model: Aspire S7 \\n Screen Size: 13.3 inches \\n Screen Type: Touchscreen \\n Processor Brand: Intel Core i5-4200U \\n Processor Speed: 2.6GHz \\n Memory: 8GB DDR3 \\n Storage: 256GB SSD \\n Resolution: FHD 1080P \\n Keyboard: Backlit\\n Wireless Connectivity: 802.11AC WiFi \\n Operating System: Windows 8.1 \\n Color: Crystal White \\n Thickness: 0.5 inch \\n Weight: 2.9 lbs', 'input': 'Dell Vostro 14 3430 i5 1335U (71011900) (Intel UHD, 14 inches, 1.3GHz)', 'Screen Size': '14 inches', 'Processor Brand': 'Intel UHD', 'Processor Speed': '1.3GHz'}, {'human_0': 'Acer Aspire S7 13.3-Inch Touchscreen Ultrabook (Intel Core i5-4200U Processor up to 2.6GHz, 8GB DDR3 Memory, 256GB SSD, FHD 1080P Touchscreen Display, Backlit Keyboard, 802.11AC WiFi, Windows 8.1, 0.5 inch thin and 2.9 Lbs) Crystal White', 'system_0': 'Brand: Acer \\n Model: Aspire S7 \\n Screen Size: 13.3 inches \\n Screen Type: Touchscreen \\n Processor Brand: Intel Core i5-4200U \\n Processor Speed: 2.6GHz \\n Memory: 8GB DDR3 \\n Storage: 256GB SSD \\n Resolution: FHD 1080P \\n Keyboard: Backlit\\n Wireless Connectivity: 802.11AC WiFi \\n Operating System: Windows 8.1 \\n Color: Crystal White \\n Thickness: 0.5 inch \\n Weight: 2.9 lbs', 'input': 'Dell Inspiron 15 3530 i5 1335U (71014840) (MX550 2GB, 15.6 inches, 1.3GHz)', 'Screen Size': '15.6 inches', 'Processor Brand': 'MX550 2GB', 'Processor Speed': '1.3GHz'}, {'human_0': 'Acer Aspire S7 13.3-Inch Touchscreen Ultrabook (Intel Core i5-4200U Processor up to 2.6GHz, 8GB DDR3 Memory, 256GB SSD, FHD 1080P Touchscreen Display, Backlit Keyboard, 802.11AC WiFi, Windows 8.1, 0.5 inch thin and 2.9 Lbs) Crystal White', 'system_0': 'Brand: Acer \\n Model: Aspire S7 \\n Screen Size: 13.3 inches \\n Screen Type: Touchscreen \\n Processor Brand: Intel Core i5-4200U \\n Processor Speed: 2.6GHz \\n Memory: 8GB DDR3 \\n Storage: 256GB SSD \\n Resolution: FHD 1080P \\n Keyboard: Backlit\\n Wireless Connectivity: 802.11AC WiFi \\n Operating System: Windows 8.1 \\n Color: Crystal White \\n Thickness: 0.5 inch \\n Weight: 2.9 lbs', 'input': 'Dell Inspiron 15 3530 i5 1335U (N5I5791W1) (Intel Iris Xe, 15.6 inches, 1.3GHz)', 'Screen Size': '15.6 inches', 'Processor Brand': 'Intel Iris Xe', 'Processor Speed': '1.3GHz'}, {'human_0': 'Acer Aspire S7 13.3-Inch Touchscreen Ultrabook (Intel Core i5-4200U Processor up to 2.6GHz, 8GB DDR3 Memory, 256GB SSD, FHD 1080P Touchscreen Display, Backlit Keyboard, 802.11AC WiFi, Windows 8.1, 0.5 inch thin and 2.9 Lbs) Crystal White', 'system_0': 'Brand: Acer \\n Model: Aspire S7 \\n Screen Size: 13.3 inches \\n Screen Type: Touchscreen \\n Processor Brand: Intel Core i5-4200U \\n Processor Speed: 2.6GHz \\n Memory: 8GB DDR3 \\n Storage: 256GB SSD \\n Resolution: FHD 1080P \\n Keyboard: Backlit\\n Wireless Connectivity: 802.11AC WiFi \\n Operating System: Windows 8.1 \\n Color: Crystal White \\n Thickness: 0.5 inch \\n Weight: 2.9 lbs', 'input': 'Dell Inspiron 14 7430 2-in-1 i7 1355U (i7U165W11SLU) (Intel Iris Xe, 14 inches, 1.7GHz)', 'Screen Size': '14 inches', 'Processor Brand': 'Intel Iris Xe', 'Processor Speed': '1.7GHz'}, {'human_0': 'Acer Aspire S7 13.3-Inch Touchscreen Ultrabook (Intel Core i5-4200U Processor up to 2.6GHz, 8GB DDR3 Memory, 256GB SSD, FHD 1080P Touchscreen Display, Backlit Keyboard, 802.11AC WiFi, Windows 8.1, 0.5 inch thin and 2.9 Lbs) Crystal White', 'system_0': 'Brand: Acer \\n Model: Aspire S7 \\n Screen Size: 13.3 inches \\n Screen Type: Touchscreen \\n Processor Brand: Intel Core i5-4200U \\n Processor Speed: 2.6GHz \\n Memory: 8GB DDR3 \\n Storage: 256GB SSD \\n Resolution: FHD 1080P \\n Keyboard: Backlit\\n Wireless Connectivity: 802.11AC WiFi \\n Operating System: Windows 8.1 \\n Color: Crystal White \\n Thickness: 0.5 inch \\n Weight: 2.9 lbs', 'input': 'Dell Inspiron 15 3520 i5 1235U (N5I5122W1) (Intel UHD, 15.6 inches, 1.3GHz)', 'Screen Size': '15.6 inches', 'Processor Brand': 'Intel UHD', 'Processor Speed': '1.3GHz'}, {'human_0': 'Acer Aspire S7 13.3-Inch Touchscreen Ultrabook (Intel Core i5-4200U Processor up to 2.6GHz, 8GB DDR3 Memory, 256GB SSD, FHD 1080P Touchscreen Display, Backlit Keyboard, 802.11AC WiFi, Windows 8.1, 0.5 inch thin and 2.9 Lbs) Crystal White', 'system_0': 'Brand: Acer \\n Model: Aspire S7 \\n Screen Size: 13.3 inches \\n Screen Type: Touchscreen \\n Processor Brand: Intel Core i5-4200U \\n Processor Speed: 2.6GHz \\n Memory: 8GB DDR3 \\n Storage: 256GB SSD \\n Resolution: FHD 1080P \\n Keyboard: Backlit\\n Wireless Connectivity: 802.11AC WiFi \\n Operating System: Windows 8.1 \\n Color: Crystal White \\n Thickness: 0.5 inch \\n Weight: 2.9 lbs', 'input': 'Dell Inspiron 14 T7430 i5 1335U (N7430I58W1) (Intel Iris Xe, 14 inches, 1.3GHz)', 'Screen Size': '14 inches', 'Processor Brand': 'Intel Iris Xe', 'Processor Speed': '1.3GHz'}, {'human_0': 'Acer Aspire S7 13.3-Inch Touchscreen Ultrabook (Intel Core i5-4200U Processor up to 2.6GHz, 8GB DDR3 Memory, 256GB SSD, FHD 1080P Touchscreen Display, Backlit Keyboard, 802.11AC WiFi, Windows 8.1, 0.5 inch thin and 2.9 Lbs) Crystal White', 'system_0': 'Brand: Acer \\n Model: Aspire S7 \\n Screen Size: 13.3 inches \\n Screen Type: Touchscreen \\n Processor Brand: Intel Core i5-4200U \\n Processor Speed: 2.6GHz \\n Memory: 8GB DDR3 \\n Storage: 256GB SSD \\n Resolution: FHD 1080P \\n Keyboard: Backlit\\n Wireless Connectivity: 802.11AC WiFi \\n Operating System: Windows 8.1 \\n Color: Crystal White \\n Thickness: 0.5 inch \\n Weight: 2.9 lbs', 'input': 'Dell Precision 16 5680 i9 13900H (71024680) (RTX A2000 8GB, 16 inches, 2.6GHz)', 'Screen Size': '16 inches', 'Processor Brand': 'RTX A2000 8GB', 'Processor Speed': '2.6GHz'}, {'human_0': 'Acer Aspire S7 13.3-Inch Touchscreen Ultrabook (Intel Core i5-4200U Processor up to 2.6GHz, 8GB DDR3 Memory, 256GB SSD, FHD 1080P Touchscreen Display, Backlit Keyboard, 802.11AC WiFi, Windows 8.1, 0.5 inch thin and 2.9 Lbs) Crystal White', 'system_0': 'Brand: Acer \\n Model: Aspire S7 \\n Screen Size: 13.3 inches \\n Screen Type: Touchscreen \\n Processor Brand: Intel Core i5-4200U \\n Processor Speed: 2.6GHz \\n Memory: 8GB DDR3 \\n Storage: 256GB SSD \\n Resolution: FHD 1080P \\n Keyboard: Backlit\\n Wireless Connectivity: 802.11AC WiFi \\n Operating System: Windows 8.1 \\n Color: Crystal White \\n Thickness: 0.5 inch \\n Weight: 2.9 lbs', 'input': 'Dell Precision 16 7680 i9 13950HX (71024676) (RTX A2000 8GB, 16 inches, 2.2GHz)', 'Screen Size': '16 inches', 'Processor Brand': 'RTX A2000 8GB', 'Processor Speed': '2.2GHz'}, {'human_0': 'Acer Aspire S7 13.3-Inch Touchscreen Ultrabook (Intel Core i5-4200U Processor up to 2.6GHz, 8GB DDR3 Memory, 256GB SSD, FHD 1080P Touchscreen Display, Backlit Keyboard, 802.11AC WiFi, Windows 8.1, 0.5 inch thin and 2.9 Lbs) Crystal White', 'system_0': 'Brand: Acer \\n Model: Aspire S7 \\n Screen Size: 13.3 inches \\n Screen Type: Touchscreen \\n Processor Brand: Intel Core i5-4200U \\n Processor Speed: 2.6GHz \\n Memory: 8GB DDR3 \\n Storage: 256GB SSD \\n Resolution: FHD 1080P \\n Keyboard: Backlit\\n Wireless Connectivity: 802.11AC WiFi \\n Operating System: Windows 8.1 \\n Color: Crystal White \\n Thickness: 0.5 inch \\n Weight: 2.9 lbs', 'input': 'Dell Precision 16 7680 i7 13850HX (71024681) (RTX A2000 8GB, 16 inches, 2.1GHz)', 'Screen Size': '16 inches', 'Processor Brand': 'RTX A2000 8GB', 'Processor Speed': '2.1GHz'}, {'human_0': 'Acer Aspire S7 13.3-Inch Touchscreen Ultrabook (Intel Core i5-4200U Processor up to 2.6GHz, 8GB DDR3 Memory, 256GB SSD, FHD 1080P Touchscreen Display, Backlit Keyboard, 802.11AC WiFi, Windows 8.1, 0.5 inch thin and 2.9 Lbs) Crystal White', 'system_0': 'Brand: Acer \\n Model: Aspire S7 \\n Screen Size: 13.3 inches \\n Screen Type: Touchscreen \\n Processor Brand: Intel Core i5-4200U \\n Processor Speed: 2.6GHz \\n Memory: 8GB DDR3 \\n Storage: 256GB SSD \\n Resolution: FHD 1080P \\n Keyboard: Backlit\\n Wireless Connectivity: 802.11AC WiFi \\n Operating System: Windows 8.1 \\n Color: Crystal White \\n Thickness: 0.5 inch \\n Weight: 2.9 lbs', 'input': 'Dell Precision 15 3581 i7 13800H (71024679) (RTX A1000 6GB, 15.6 inches, 2.5GHz)', 'Screen Size': '15.6 inches', 'Processor Brand': 'RTX A1000 6GB', 'Processor Speed': '2.5GHz'}, {'human_0': 'Acer Aspire S7 13.3-Inch Touchscreen Ultrabook (Intel Core i5-4200U Processor up to 2.6GHz, 8GB DDR3 Memory, 256GB SSD, FHD 1080P Touchscreen Display, Backlit Keyboard, 802.11AC WiFi, Windows 8.1, 0.5 inch thin and 2.9 Lbs) Crystal White', 'system_0': 'Brand: Acer \\n Model: Aspire S7 \\n Screen Size: 13.3 inches \\n Screen Type: Touchscreen \\n Processor Brand: Intel Core i5-4200U \\n Processor Speed: 2.6GHz \\n Memory: 8GB DDR3 \\n Storage: 256GB SSD \\n Resolution: FHD 1080P \\n Keyboard: Backlit\\n Wireless Connectivity: 802.11AC WiFi \\n Operating System: Windows 8.1 \\n Color: Crystal White \\n Thickness: 0.5 inch \\n Weight: 2.9 lbs', 'input': 'Dell Precision 15 3581 i7 13800H (71024677) (RTX A500 4GB, 15.6 inches, 2.5GHz)', 'Screen Size': '15.6 inches', 'Processor Brand': 'RTX A500 4GB', 'Processor Speed': '2.5GHz'}, {'human_0': 'Acer Aspire S7 13.3-Inch Touchscreen Ultrabook (Intel Core i5-4200U Processor up to 2.6GHz, 8GB DDR3 Memory, 256GB SSD, FHD 1080P Touchscreen Display, Backlit Keyboard, 802.11AC WiFi, Windows 8.1, 0.5 inch thin and 2.9 Lbs) Crystal White', 'system_0': 'Brand: Acer \\n Model: Aspire S7 \\n Screen Size: 13.3 inches \\n Screen Type: Touchscreen \\n Processor Brand: Intel Core i5-4200U \\n Processor Speed: 2.6GHz \\n Memory: 8GB DDR3 \\n Storage: 256GB SSD \\n Resolution: FHD 1080P \\n Keyboard: Backlit\\n Wireless Connectivity: 802.11AC WiFi \\n Operating System: Windows 8.1 \\n Color: Crystal White \\n Thickness: 0.5 inch \\n Weight: 2.9 lbs', 'input': 'Dell Precision 14 3480 i7 12800H (71024682) (RTX A500 4GB, 14 inches, 2.4GHz)', 'Screen Size': '14 inches', 'Processor Brand': 'RTX A500 4GB', 'Processor Speed': '2.4GHz'}, {'human_0': 'Acer Aspire S7 13.3-Inch Touchscreen Ultrabook (Intel Core i5-4200U Processor up to 2.6GHz, 8GB DDR3 Memory, 256GB SSD, FHD 1080P Touchscreen Display, Backlit Keyboard, 802.11AC WiFi, Windows 8.1, 0.5 inch thin and 2.9 Lbs) Crystal White', 'system_0': 'Brand: Acer \\n Model: Aspire S7 \\n Screen Size: 13.3 inches \\n Screen Type: Touchscreen \\n Processor Brand: Intel Core i5-4200U \\n Processor Speed: 2.6GHz \\n Memory: 8GB DDR3 \\n Storage: 256GB SSD \\n Resolution: FHD 1080P \\n Keyboard: Backlit\\n Wireless Connectivity: 802.11AC WiFi \\n Operating System: Windows 8.1 \\n Color: Crystal White \\n Thickness: 0.5 inch \\n Weight: 2.9 lbs', 'input': 'Dell Gaming G15 5530 i7 13650HX (i7H165W11GR4060) (RTX 4060 8GB, 15.6 inches, 2.6GHz)', 'Screen Size': '15.6 inches', 'Processor Brand': 'RTX 4060 8GB', 'Processor Speed': '2.6GHz'}, {'human_0': 'Acer Aspire S7 13.3-Inch Touchscreen Ultrabook (Intel Core i5-4200U Processor up to 2.6GHz, 8GB DDR3 Memory, 256GB SSD, FHD 1080P Touchscreen Display, Backlit Keyboard, 802.11AC WiFi, Windows 8.1, 0.5 inch thin and 2.9 Lbs) Crystal White', 'system_0': 'Brand: Acer \\n Model: Aspire S7 \\n Screen Size: 13.3 inches \\n Screen Type: Touchscreen \\n Processor Brand: Intel Core i5-4200U \\n Processor Speed: 2.6GHz \\n Memory: 8GB DDR3 \\n Storage: 256GB SSD \\n Resolution: FHD 1080P \\n Keyboard: Backlit\\n Wireless Connectivity: 802.11AC WiFi \\n Operating System: Windows 8.1 \\n Color: Crystal White \\n Thickness: 0.5 inch \\n Weight: 2.9 lbs', 'input': 'Dell Inspiron 14 5430 i7 1360P (71015633) (RTX 2050 4GB, 14 inches, 2.2GHz)', 'Screen Size': '14 inches', 'Processor Brand': 'RTX 2050 4GB', 'Processor Speed': '2.2GHz'}, {'human_0': 'Acer Aspire S7 13.3-Inch Touchscreen Ultrabook (Intel Core i5-4200U Processor up to 2.6GHz, 8GB DDR3 Memory, 256GB SSD, FHD 1080P Touchscreen Display, Backlit Keyboard, 802.11AC WiFi, Windows 8.1, 0.5 inch thin and 2.9 Lbs) Crystal White', 'system_0': 'Brand: Acer \\n Model: Aspire S7 \\n Screen Size: 13.3 inches \\n Screen Type: Touchscreen \\n Processor Brand: Intel Core i5-4200U \\n Processor Speed: 2.6GHz \\n Memory: 8GB DDR3 \\n Storage: 256GB SSD \\n Resolution: FHD 1080P \\n Keyboard: Backlit\\n Wireless Connectivity: 802.11AC WiFi \\n Operating System: Windows 8.1 \\n Color: Crystal White \\n Thickness: 0.5 inch \\n Weight: 2.9 lbs', 'input': 'Dell Inspiron 14 5430 i5 1340P (N5430-i5P165W11SL2050) (RTX 2050 4GB, 14 inches, 1.9GHz)', 'Screen Size': '14 inches', 'Processor Brand': 'RTX 2050 4GB', 'Processor Speed': '1.9GHz'}, {'human_0': 'Acer Aspire S7 13.3-Inch Touchscreen Ultrabook (Intel Core i5-4200U Processor up to 2.6GHz, 8GB DDR3 Memory, 256GB SSD, FHD 1080P Touchscreen Display, Backlit Keyboard, 802.11AC WiFi, Windows 8.1, 0.5 inch thin and 2.9 Lbs) Crystal White', 'system_0': 'Brand: Acer \\n Model: Aspire S7 \\n Screen Size: 13.3 inches \\n Screen Type: Touchscreen \\n Processor Brand: Intel Core i5-4200U \\n Processor Speed: 2.6GHz \\n Memory: 8GB DDR3 \\n Storage: 256GB SSD \\n Resolution: FHD 1080P \\n Keyboard: Backlit\\n Wireless Connectivity: 802.11AC WiFi \\n Operating System: Windows 8.1 \\n Color: Crystal White \\n Thickness: 0.5 inch \\n Weight: 2.9 lbs', 'input': 'Dell Inspiron 16 5630 i5 1335U (71020244) (Intel Iris Xe, 16 inches, 1.3GHz)', 'Screen Size': '16 inches', 'Processor Brand': 'Intel Iris Xe', 'Processor Speed': '1.3GHz'}, {'human_0': 'Acer Aspire S7 13.3-Inch Touchscreen Ultrabook (Intel Core i5-4200U Processor up to 2.6GHz, 8GB DDR3 Memory, 256GB SSD, FHD 1080P Touchscreen Display, Backlit Keyboard, 802.11AC WiFi, Windows 8.1, 0.5 inch thin and 2.9 Lbs) Crystal White', 'system_0': 'Brand: Acer \\n Model: Aspire S7 \\n Screen Size: 13.3 inches \\n Screen Type: Touchscreen \\n Processor Brand: Intel Core i5-4200U \\n Processor Speed: 2.6GHz \\n Memory: 8GB DDR3 \\n Storage: 256GB SSD \\n Resolution: FHD 1080P \\n Keyboard: Backlit\\n Wireless Connectivity: 802.11AC WiFi \\n Operating System: Windows 8.1 \\n Color: Crystal White \\n Thickness: 0.5 inch \\n Weight: 2.9 lbs', 'input': 'Dell Vostro 14 3430 i5 1335U (60YGM) (MX550 2GB, 14 inches, 1.3GHz)', 'Screen Size': '14 inches', 'Processor Brand': 'MX550 2GB', 'Processor Speed': '1.3GHz'}, {'human_0': 'Acer Aspire S7 13.3-Inch Touchscreen Ultrabook (Intel Core i5-4200U Processor up to 2.6GHz, 8GB DDR3 Memory, 256GB SSD, FHD 1080P Touchscreen Display, Backlit Keyboard, 802.11AC WiFi, Windows 8.1, 0.5 inch thin and 2.9 Lbs) Crystal White', 'system_0': 'Brand: Acer \\n Model: Aspire S7 \\n Screen Size: 13.3 inches \\n Screen Type: Touchscreen \\n Processor Brand: Intel Core i5-4200U \\n Processor Speed: 2.6GHz \\n Memory: 8GB DDR3 \\n Storage: 256GB SSD \\n Resolution: FHD 1080P \\n Keyboard: Backlit\\n Wireless Connectivity: 802.11AC WiFi \\n Operating System: Windows 8.1 \\n Color: Crystal White \\n Thickness: 0.5 inch \\n Weight: 2.9 lbs', 'input': 'Dell Inspiron 15 3520 i5 1235U (N5I5011W1) (Intel Iris Xe, 15.6 inches, 1.3GHz)', 'Screen Size': '15.6 inches', 'Processor Brand': 'Intel Iris Xe', 'Processor Speed': '1.3GHz'}, {'human_0': 'Acer Aspire S7 13.3-Inch Touchscreen Ultrabook (Intel Core i5-4200U Processor up to 2.6GHz, 8GB DDR3 Memory, 256GB SSD, FHD 1080P Touchscreen Display, Backlit Keyboard, 802.11AC WiFi, Windows 8.1, 0.5 inch thin and 2.9 Lbs) Crystal White', 'system_0': 'Brand: Acer \\n Model: Aspire S7 \\n Screen Size: 13.3 inches \\n Screen Type: Touchscreen \\n Processor Brand: Intel Core i5-4200U \\n Processor Speed: 2.6GHz \\n Memory: 8GB DDR3 \\n Storage: 256GB SSD \\n Resolution: FHD 1080P \\n Keyboard: Backlit\\n Wireless Connectivity: 802.11AC WiFi \\n Operating System: Windows 8.1 \\n Color: Crystal White \\n Thickness: 0.5 inch \\n Weight: 2.9 lbs', 'input': 'Dell Vostro 15 3520 i5 1235U (5M2TT2) (Intel UHD, 15.6 inches, 1.3GHz)', 'Screen Size': '15.6 inches', 'Processor Brand': 'Intel UHD', 'Processor Speed': '1.3GHz'}, {'human_0': 'Acer Aspire S7 13.3-Inch Touchscreen Ultrabook (Intel Core i5-4200U Processor up to 2.6GHz, 8GB DDR3 Memory, 256GB SSD, FHD 1080P Touchscreen Display, Backlit Keyboard, 802.11AC WiFi, Windows 8.1, 0.5 inch thin and 2.9 Lbs) Crystal White', 'system_0': 'Brand: Acer \\n Model: Aspire S7 \\n Screen Size: 13.3 inches \\n Screen Type: Touchscreen \\n Processor Brand: Intel Core i5-4200U \\n Processor Speed: 2.6GHz \\n Memory: 8GB DDR3 \\n Storage: 256GB SSD \\n Resolution: FHD 1080P \\n Keyboard: Backlit\\n Wireless Connectivity: 802.11AC WiFi \\n Operating System: Windows 8.1 \\n Color: Crystal White \\n Thickness: 0.5 inch \\n Weight: 2.9 lbs', 'input': 'Dell Vostro 15 3530 i3 1305U (V5I3465W1) (Intel UHD, 15.6 inches, 1.6GHz)', 'Screen Size': '15.6 inches', 'Processor Brand': 'Intel UHD', 'Processor Speed': '1.6GHz'}, {'human_0': 'Acer Aspire S7 13.3-Inch Touchscreen Ultrabook (Intel Core i5-4200U Processor up to 2.6GHz, 8GB DDR3 Memory, 256GB SSD, FHD 1080P Touchscreen Display, Backlit Keyboard, 802.11AC WiFi, Windows 8.1, 0.5 inch thin and 2.9 Lbs) Crystal White', 'system_0': 'Brand: Acer \\n Model: Aspire S7 \\n Screen Size: 13.3 inches \\n Screen Type: Touchscreen \\n Processor Brand: Intel Core i5-4200U \\n Processor Speed: 2.6GHz \\n Memory: 8GB DDR3 \\n Storage: 256GB SSD \\n Resolution: FHD 1080P \\n Keyboard: Backlit\\n Wireless Connectivity: 802.11AC WiFi \\n Operating System: Windows 8.1 \\n Color: Crystal White \\n Thickness: 0.5 inch \\n Weight: 2.9 lbs', 'input': 'MSI Modern 14 C11M i3 1115G4 (011VN) (Intel UHD, 14 inches, 3GHz)', 'Screen Size': '14 inches', 'Processor Brand': 'Intel UHD', 'Processor Speed': '3GHz'}, {'human_0': 'Acer Aspire S7 13.3-Inch Touchscreen Ultrabook (Intel Core i5-4200U Processor up to 2.6GHz, 8GB DDR3 Memory, 256GB SSD, FHD 1080P Touchscreen Display, Backlit Keyboard, 802.11AC WiFi, Windows 8.1, 0.5 inch thin and 2.9 Lbs) Crystal White', 'system_0': 'Brand: Acer \\n Model: Aspire S7 \\n Screen Size: 13.3 inches \\n Screen Type: Touchscreen \\n Processor Brand: Intel Core i5-4200U \\n Processor Speed: 2.6GHz \\n Memory: 8GB DDR3 \\n Storage: 256GB SSD \\n Resolution: FHD 1080P \\n Keyboard: Backlit\\n Wireless Connectivity: 802.11AC WiFi \\n Operating System: Windows 8.1 \\n Color: Crystal White \\n Thickness: 0.5 inch \\n Weight: 2.9 lbs', 'input': 'MSI Gaming GF63 Thin 12UCX i5 12450H (873VN) (RTX 2050 4GB, 15.6 inches, 2GHz)', 'Screen Size': '15.6 inches', 'Processor Brand': 'RTX 2050 4GB', 'Processor Speed': '2GHz'}, {'human_0': 'Acer Aspire S7 13.3-Inch Touchscreen Ultrabook (Intel Core i5-4200U Processor up to 2.6GHz, 8GB DDR3 Memory, 256GB SSD, FHD 1080P Touchscreen Display, Backlit Keyboard, 802.11AC WiFi, Windows 8.1, 0.5 inch thin and 2.9 Lbs) Crystal White', 'system_0': 'Brand: Acer \\n Model: Aspire S7 \\n Screen Size: 13.3 inches \\n Screen Type: Touchscreen \\n Processor Brand: Intel Core i5-4200U \\n Processor Speed: 2.6GHz \\n Memory: 8GB DDR3 \\n Storage: 256GB SSD \\n Resolution: FHD 1080P \\n Keyboard: Backlit\\n Wireless Connectivity: 802.11AC WiFi \\n Operating System: Windows 8.1 \\n Color: Crystal White \\n Thickness: 0.5 inch \\n Weight: 2.9 lbs', 'input': 'MSI Modern 15 B7M R5 7530U (231VN) (Radeon, 15.6 inches, 2GHz)', 'Screen Size': '15.6 inches', 'Processor Brand': 'Radeon', 'Processor Speed': '2GHz'}, {'human_0': 'Acer Aspire S7 13.3-Inch Touchscreen Ultrabook (Intel Core i5-4200U Processor up to 2.6GHz, 8GB DDR3 Memory, 256GB SSD, FHD 1080P Touchscreen Display, Backlit Keyboard, 802.11AC WiFi, Windows 8.1, 0.5 inch thin and 2.9 Lbs) Crystal White', 'system_0': 'Brand: Acer \\n Model: Aspire S7 \\n Screen Size: 13.3 inches \\n Screen Type: Touchscreen \\n Processor Brand: Intel Core i5-4200U \\n Processor Speed: 2.6GHz \\n Memory: 8GB DDR3 \\n Storage: 256GB SSD \\n Resolution: FHD 1080P \\n Keyboard: Backlit\\n Wireless Connectivity: 802.11AC WiFi \\n Operating System: Windows 8.1 \\n Color: Crystal White \\n Thickness: 0.5 inch \\n Weight: 2.9 lbs', 'input': 'MSI Modern 15 B12MO i5 1235U (625VN) (Intel Iris Xe, 15.6 inches, 1.3GHz)', 'Screen Size': '15.6 inches', 'Processor Brand': 'Intel Iris Xe', 'Processor Speed': '1.3GHz'}, {'human_0': 'Acer Aspire S7 13.3-Inch Touchscreen Ultrabook (Intel Core i5-4200U Processor up to 2.6GHz, 8GB DDR3 Memory, 256GB SSD, FHD 1080P Touchscreen Display, Backlit Keyboard, 802.11AC WiFi, Windows 8.1, 0.5 inch thin and 2.9 Lbs) Crystal White', 'system_0': 'Brand: Acer \\n Model: Aspire S7 \\n Screen Size: 13.3 inches \\n Screen Type: Touchscreen \\n Processor Brand: Intel Core i5-4200U \\n Processor Speed: 2.6GHz \\n Memory: 8GB DDR3 \\n Storage: 256GB SSD \\n Resolution: FHD 1080P \\n Keyboard: Backlit\\n Wireless Connectivity: 802.11AC WiFi \\n Operating System: Windows 8.1 \\n Color: Crystal White \\n Thickness: 0.5 inch \\n Weight: 2.9 lbs', 'input': 'MSI Gaming GF63 12UC i5 12450H (803VN) (RTX 3050 4GB, 15.6 inches, 2GHz)', 'Screen Size': '15.6 inches', 'Processor Brand': 'RTX 3050 4GB', 'Processor Speed': '2GHz'}, {'human_0': 'Acer Aspire S7 13.3-Inch Touchscreen Ultrabook (Intel Core i5-4200U Processor up to 2.6GHz, 8GB DDR3 Memory, 256GB SSD, FHD 1080P Touchscreen Display, Backlit Keyboard, 802.11AC WiFi, Windows 8.1, 0.5 inch thin and 2.9 Lbs) Crystal White', 'system_0': 'Brand: Acer \\n Model: Aspire S7 \\n Screen Size: 13.3 inches \\n Screen Type: Touchscreen \\n Processor Brand: Intel Core i5-4200U \\n Processor Speed: 2.6GHz \\n Memory: 8GB DDR3 \\n Storage: 256GB SSD \\n Resolution: FHD 1080P \\n Keyboard: Backlit\\n Wireless Connectivity: 802.11AC WiFi \\n Operating System: Windows 8.1 \\n Color: Crystal White \\n Thickness: 0.5 inch \\n Weight: 2.9 lbs', 'input': 'MSI Gaming Bravo 15 B7ED R5 7535HS (010VN) (RX 6550M 4GB, 15.6 inches, 3.3GHz)', 'Screen Size': '15.6 inches', 'Processor Brand': 'RX 6550M 4GB', 'Processor Speed': '3.3GHz'}, {'human_0': 'Acer Aspire S7 13.3-Inch Touchscreen Ultrabook (Intel Core i5-4200U Processor up to 2.6GHz, 8GB DDR3 Memory, 256GB SSD, FHD 1080P Touchscreen Display, Backlit Keyboard, 802.11AC WiFi, Windows 8.1, 0.5 inch thin and 2.9 Lbs) Crystal White', 'system_0': 'Brand: Acer \\n Model: Aspire S7 \\n Screen Size: 13.3 inches \\n Screen Type: Touchscreen \\n Processor Brand: Intel Core i5-4200U \\n Processor Speed: 2.6GHz \\n Memory: 8GB DDR3 \\n Storage: 256GB SSD \\n Resolution: FHD 1080P \\n Keyboard: Backlit\\n Wireless Connectivity: 802.11AC WiFi \\n Operating System: Windows 8.1 \\n Color: Crystal White \\n Thickness: 0.5 inch \\n Weight: 2.9 lbs', 'input': 'MSI Gaming GF63 Thin 11UC i7 11800H (1228VN) (RTX 3050 Max-Q, 4GB, 15.6 inches, 2.30 GHz)', 'Screen Size': '15.6 inches', 'Processor Brand': 'RTX 3050 Max-Q, 4GB', 'Processor Speed': '2.30 GHz'}, {'human_0': 'Acer Aspire S7 13.3-Inch Touchscreen Ultrabook (Intel Core i5-4200U Processor up to 2.6GHz, 8GB DDR3 Memory, 256GB SSD, FHD 1080P Touchscreen Display, Backlit Keyboard, 802.11AC WiFi, Windows 8.1, 0.5 inch thin and 2.9 Lbs) Crystal White', 'system_0': 'Brand: Acer \\n Model: Aspire S7 \\n Screen Size: 13.3 inches \\n Screen Type: Touchscreen \\n Processor Brand: Intel Core i5-4200U \\n Processor Speed: 2.6GHz \\n Memory: 8GB DDR3 \\n Storage: 256GB SSD \\n Resolution: FHD 1080P \\n Keyboard: Backlit\\n Wireless Connectivity: 802.11AC WiFi \\n Operating System: Windows 8.1 \\n Color: Crystal White \\n Thickness: 0.5 inch \\n Weight: 2.9 lbs', 'input': 'MSI Gaming GF63 Thin 12VE i5 12450H (460VN) (RTX 4050 6GB, 15.6 inches, 2GHz)', 'Screen Size': '15.6 inches', 'Processor Brand': 'RTX 4050 6GB', 'Processor Speed': '2GHz'}, {'human_0': 'Acer Aspire S7 13.3-Inch Touchscreen Ultrabook (Intel Core i5-4200U Processor up to 2.6GHz, 8GB DDR3 Memory, 256GB SSD, FHD 1080P Touchscreen Display, Backlit Keyboard, 802.11AC WiFi, Windows 8.1, 0.5 inch thin and 2.9 Lbs) Crystal White', 'system_0': 'Brand: Acer \\n Model: Aspire S7 \\n Screen Size: 13.3 inches \\n Screen Type: Touchscreen \\n Processor Brand: Intel Core i5-4200U \\n Processor Speed: 2.6GHz \\n Memory: 8GB DDR3 \\n Storage: 256GB SSD \\n Resolution: FHD 1080P \\n Keyboard: Backlit\\n Wireless Connectivity: 802.11AC WiFi \\n Operating System: Windows 8.1 \\n Color: Crystal White \\n Thickness: 0.5 inch \\n Weight: 2.9 lbs', 'input': 'MSI Gaming GF63 12UCX i5 12450H (841VN) (RTX 2050 4GB, 15.6 inches, 2GHz)', 'Screen Size': '15.6 inches', 'Processor Brand': 'RTX 2050 4GB', 'Processor Speed': '2GHz'}, {'human_0': 'Acer Aspire S7 13.3-Inch Touchscreen Ultrabook (Intel Core i5-4200U Processor up to 2.6GHz, 8GB DDR3 Memory, 256GB SSD, FHD 1080P Touchscreen Display, Backlit Keyboard, 802.11AC WiFi, Windows 8.1, 0.5 inch thin and 2.9 Lbs) Crystal White', 'system_0': 'Brand: Acer \\n Model: Aspire S7 \\n Screen Size: 13.3 inches \\n Screen Type: Touchscreen \\n Processor Brand: Intel Core i5-4200U \\n Processor Speed: 2.6GHz \\n Memory: 8GB DDR3 \\n Storage: 256GB SSD \\n Resolution: FHD 1080P \\n Keyboard: Backlit\\n Wireless Connectivity: 802.11AC WiFi \\n Operating System: Windows 8.1 \\n Color: Crystal White \\n Thickness: 0.5 inch \\n Weight: 2.9 lbs', 'input': 'MSI Modern 15 B12MO i5 1235U (628VN) (Intel Iris Xe, 15.6 inches, 1.3GHz)', 'Screen Size': '15.6 inches', 'Processor Brand': 'Intel Iris Xe', 'Processor Speed': '1.3GHz'}, {'human_0': 'Acer Aspire S7 13.3-Inch Touchscreen Ultrabook (Intel Core i5-4200U Processor up to 2.6GHz, 8GB DDR3 Memory, 256GB SSD, FHD 1080P Touchscreen Display, Backlit Keyboard, 802.11AC WiFi, Windows 8.1, 0.5 inch thin and 2.9 Lbs) Crystal White', 'system_0': 'Brand: Acer \\n Model: Aspire S7 \\n Screen Size: 13.3 inches \\n Screen Type: Touchscreen \\n Processor Brand: Intel Core i5-4200U \\n Processor Speed: 2.6GHz \\n Memory: 8GB DDR3 \\n Storage: 256GB SSD \\n Resolution: FHD 1080P \\n Keyboard: Backlit\\n Wireless Connectivity: 802.11AC WiFi \\n Operating System: Windows 8.1 \\n Color: Crystal White \\n Thickness: 0.5 inch \\n Weight: 2.9 lbs', 'input': 'MSI Modern 14 C7M R5 7530U (083VN) (Radeon, 14 inches, 2GHz)', 'Screen Size': '14 inches', 'Processor Brand': 'Radeon', 'Processor Speed': '2GHz'}, {'human_0': 'Acer Aspire S7 13.3-Inch Touchscreen Ultrabook (Intel Core i5-4200U Processor up to 2.6GHz, 8GB DDR3 Memory, 256GB SSD, FHD 1080P Touchscreen Display, Backlit Keyboard, 802.11AC WiFi, Windows 8.1, 0.5 inch thin and 2.9 Lbs) Crystal White', 'system_0': 'Brand: Acer \\n Model: Aspire S7 \\n Screen Size: 13.3 inches \\n Screen Type: Touchscreen \\n Processor Brand: Intel Core i5-4200U \\n Processor Speed: 2.6GHz \\n Memory: 8GB DDR3 \\n Storage: 256GB SSD \\n Resolution: FHD 1080P \\n Keyboard: Backlit\\n Wireless Connectivity: 802.11AC WiFi \\n Operating System: Windows 8.1 \\n Color: Crystal White \\n Thickness: 0.5 inch \\n Weight: 2.9 lbs', 'input': 'MSI Gaming Katana GF66 12UCK i7 12650H (804VN) (RTX 3050 4GB, 15.6 inches, 2.30 GHz)', 'Screen Size': '15.6 inches', 'Processor Brand': 'RTX 3050 4GB', 'Processor Speed': '2.30 GHz'}, {'human_0': 'Acer Aspire S7 13.3-Inch Touchscreen Ultrabook (Intel Core i5-4200U Processor up to 2.6GHz, 8GB DDR3 Memory, 256GB SSD, FHD 1080P Touchscreen Display, Backlit Keyboard, 802.11AC WiFi, Windows 8.1, 0.5 inch thin and 2.9 Lbs) Crystal White', 'system_0': 'Brand: Acer \\n Model: Aspire S7 \\n Screen Size: 13.3 inches \\n Screen Type: Touchscreen \\n Processor Brand: Intel Core i5-4200U \\n Processor Speed: 2.6GHz \\n Memory: 8GB DDR3 \\n Storage: 256GB SSD \\n Resolution: FHD 1080P \\n Keyboard: Backlit\\n Wireless Connectivity: 802.11AC WiFi \\n Operating System: Windows 8.1 \\n Color: Crystal White \\n Thickness: 0.5 inch \\n Weight: 2.9 lbs', 'input': 'MSI Gaming GF63 Thin 11UC i5 11400H (1230VN) (RTX 3050 Max-Q, 4GB, 15.6 inches, 2.7GHz)', 'Screen Size': '15.6 inches', 'Processor Brand': 'RTX 3050 Max-Q, 4GB', 'Processor Speed': '2.7GHz'}, {'human_0': 'Acer Aspire S7 13.3-Inch Touchscreen Ultrabook (Intel Core i5-4200U Processor up to 2.6GHz, 8GB DDR3 Memory, 256GB SSD, FHD 1080P Touchscreen Display, Backlit Keyboard, 802.11AC WiFi, Windows 8.1, 0.5 inch thin and 2.9 Lbs) Crystal White', 'system_0': 'Brand: Acer \\n Model: Aspire S7 \\n Screen Size: 13.3 inches \\n Screen Type: Touchscreen \\n Processor Brand: Intel Core i5-4200U \\n Processor Speed: 2.6GHz \\n Memory: 8GB DDR3 \\n Storage: 256GB SSD \\n Resolution: FHD 1080P \\n Keyboard: Backlit\\n Wireless Connectivity: 802.11AC WiFi \\n Operating System: Windows 8.1 \\n Color: Crystal White \\n Thickness: 0.5 inch \\n Weight: 2.9 lbs', 'input': 'MSI Gaming Thin A15 B7UCX R5 7535HS (020VN) (RTX 2050 4GB, 15.6 inches, 3.3GHz)', 'Screen Size': '15.6 inches', 'Processor Brand': 'RTX 2050 4GB', 'Processor Speed': '3.3GHz'}, {'human_0': 'Acer Aspire S7 13.3-Inch Touchscreen Ultrabook (Intel Core i5-4200U Processor up to 2.6GHz, 8GB DDR3 Memory, 256GB SSD, FHD 1080P Touchscreen Display, Backlit Keyboard, 802.11AC WiFi, Windows 8.1, 0.5 inch thin and 2.9 Lbs) Crystal White', 'system_0': 'Brand: Acer \\n Model: Aspire S7 \\n Screen Size: 13.3 inches \\n Screen Type: Touchscreen \\n Processor Brand: Intel Core i5-4200U \\n Processor Speed: 2.6GHz \\n Memory: 8GB DDR3 \\n Storage: 256GB SSD \\n Resolution: FHD 1080P \\n Keyboard: Backlit\\n Wireless Connectivity: 802.11AC WiFi \\n Operating System: Windows 8.1 \\n Color: Crystal White \\n Thickness: 0.5 inch \\n Weight: 2.9 lbs', 'input': 'MSI Modern 15 B12MO i7 1255U (487VN) (Intel Iris Xe, 15.6 inches, 1.7GHz)', 'Screen Size': '15.6 inches', 'Processor Brand': 'Intel Iris Xe', 'Processor Speed': '1.7GHz'}, {'human_0': 'Acer Aspire S7 13.3-Inch Touchscreen Ultrabook (Intel Core i5-4200U Processor up to 2.6GHz, 8GB DDR3 Memory, 256GB SSD, FHD 1080P Touchscreen Display, Backlit Keyboard, 802.11AC WiFi, Windows 8.1, 0.5 inch thin and 2.9 Lbs) Crystal White', 'system_0': 'Brand: Acer \\n Model: Aspire S7 \\n Screen Size: 13.3 inches \\n Screen Type: Touchscreen \\n Processor Brand: Intel Core i5-4200U \\n Processor Speed: 2.6GHz \\n Memory: 8GB DDR3 \\n Storage: 256GB SSD \\n Resolution: FHD 1080P \\n Keyboard: Backlit\\n Wireless Connectivity: 802.11AC WiFi \\n Operating System: Windows 8.1 \\n Color: Crystal White \\n Thickness: 0.5 inch \\n Weight: 2.9 lbs', 'input': 'MSI Modern 15 B13M i5 1335U (438VN) (Intel Iris Xe, 15.6 inches, 1.3GHz)', 'Screen Size': '15.6 inches', 'Processor Brand': 'Intel Iris Xe', 'Processor Speed': '1.3GHz'}, {'human_0': 'Acer Aspire S7 13.3-Inch Touchscreen Ultrabook (Intel Core i5-4200U Processor up to 2.6GHz, 8GB DDR3 Memory, 256GB SSD, FHD 1080P Touchscreen Display, Backlit Keyboard, 802.11AC WiFi, Windows 8.1, 0.5 inch thin and 2.9 Lbs) Crystal White', 'system_0': 'Brand: Acer \\n Model: Aspire S7 \\n Screen Size: 13.3 inches \\n Screen Type: Touchscreen \\n Processor Brand: Intel Core i5-4200U \\n Processor Speed: 2.6GHz \\n Memory: 8GB DDR3 \\n Storage: 256GB SSD \\n Resolution: FHD 1080P \\n Keyboard: Backlit\\n Wireless Connectivity: 802.11AC WiFi \\n Operating System: Windows 8.1 \\n Color: Crystal White \\n Thickness: 0.5 inch \\n Weight: 2.9 lbs', 'input': 'MSI Gaming GF63 Thin 11SC i5 11400H (664VN) (GTX 1650 Max-Q 4GB, 15.6 inches, 2.7GHz)', 'Screen Size': '15.6 inches', 'Processor Brand': 'GTX 1650 Max-Q 4GB', 'Processor Speed': '2.7GHz'}, {'human_0': 'Acer Aspire S7 13.3-Inch Touchscreen Ultrabook (Intel Core i5-4200U Processor up to 2.6GHz, 8GB DDR3 Memory, 256GB SSD, FHD 1080P Touchscreen Display, Backlit Keyboard, 802.11AC WiFi, Windows 8.1, 0.5 inch thin and 2.9 Lbs) Crystal White', 'system_0': 'Brand: Acer \\n Model: Aspire S7 \\n Screen Size: 13.3 inches \\n Screen Type: Touchscreen \\n Processor Brand: Intel Core i5-4200U \\n Processor Speed: 2.6GHz \\n Memory: 8GB DDR3 \\n Storage: 256GB SSD \\n Resolution: FHD 1080P \\n Keyboard: Backlit\\n Wireless Connectivity: 802.11AC WiFi \\n Operating System: Windows 8.1 \\n Color: Crystal White \\n Thickness: 0.5 inch \\n Weight: 2.9 lbs', 'input': 'MSI Modern 15 B7M R7 7730U (238VN) (Radeon, 15.6 inches, 2GHz)', 'Screen Size': '15.6 inches', 'Processor Brand': 'Radeon', 'Processor Speed': '2GHz'}, {'human_0': 'Acer Aspire S7 13.3-Inch Touchscreen Ultrabook (Intel Core i5-4200U Processor up to 2.6GHz, 8GB DDR3 Memory, 256GB SSD, FHD 1080P Touchscreen Display, Backlit Keyboard, 802.11AC WiFi, Windows 8.1, 0.5 inch thin and 2.9 Lbs) Crystal White', 'system_0': 'Brand: Acer \\n Model: Aspire S7 \\n Screen Size: 13.3 inches \\n Screen Type: Touchscreen \\n Processor Brand: Intel Core i5-4200U \\n Processor Speed: 2.6GHz \\n Memory: 8GB DDR3 \\n Storage: 256GB SSD \\n Resolution: FHD 1080P \\n Keyboard: Backlit\\n Wireless Connectivity: 802.11AC WiFi \\n Operating System: Windows 8.1 \\n Color: Crystal White \\n Thickness: 0.5 inch \\n Weight: 2.9 lbs', 'input': 'MSI Prestige 14 Evo B13M i5 13500H (401VN) (Intel Iris Xe, 14 inches, 2.6GHz)', 'Screen Size': '14 inches', 'Processor Brand': 'Intel Iris Xe', 'Processor Speed': '2.6GHz'}, {'human_0': 'Acer Aspire S7 13.3-Inch Touchscreen Ultrabook (Intel Core i5-4200U Processor up to 2.6GHz, 8GB DDR3 Memory, 256GB SSD, FHD 1080P Touchscreen Display, Backlit Keyboard, 802.11AC WiFi, Windows 8.1, 0.5 inch thin and 2.9 Lbs) Crystal White', 'system_0': 'Brand: Acer \\n Model: Aspire S7 \\n Screen Size: 13.3 inches \\n Screen Type: Touchscreen \\n Processor Brand: Intel Core i5-4200U \\n Processor Speed: 2.6GHz \\n Memory: 8GB DDR3 \\n Storage: 256GB SSD \\n Resolution: FHD 1080P \\n Keyboard: Backlit\\n Wireless Connectivity: 802.11AC WiFi \\n Operating System: Windows 8.1 \\n Color: Crystal White \\n Thickness: 0.5 inch \\n Weight: 2.9 lbs', 'input': 'MSI Gaming Sword 16 HX B14VFKG i7 14700HX (045VN) (RTX 4060 8GB, 16 inches, 2.1GHz)', 'Screen Size': '16 inches', 'Processor Brand': 'RTX 4060 8GB', 'Processor Speed': '2.1GHz'}, {'human_0': 'Acer Aspire S7 13.3-Inch Touchscreen Ultrabook (Intel Core i5-4200U Processor up to 2.6GHz, 8GB DDR3 Memory, 256GB SSD, FHD 1080P Touchscreen Display, Backlit Keyboard, 802.11AC WiFi, Windows 8.1, 0.5 inch thin and 2.9 Lbs) Crystal White', 'system_0': 'Brand: Acer \\n Model: Aspire S7 \\n Screen Size: 13.3 inches \\n Screen Type: Touchscreen \\n Processor Brand: Intel Core i5-4200U \\n Processor Speed: 2.6GHz \\n Memory: 8GB DDR3 \\n Storage: 256GB SSD \\n Resolution: FHD 1080P \\n Keyboard: Backlit\\n Wireless Connectivity: 802.11AC WiFi \\n Operating System: Windows 8.1 \\n Color: Crystal White \\n Thickness: 0.5 inch \\n Weight: 2.9 lbs', 'input': 'MSI Gaming Titan 18 HX A14VIG i9 14900HX (205VN) (RTX 4090 16GB, 18 inches, 2.2GHz)', 'Screen Size': '18 inches', 'Processor Brand': 'RTX 4090 16GB', 'Processor Speed': '2.2GHz'}, {'human_0': 'Acer Aspire S7 13.3-Inch Touchscreen Ultrabook (Intel Core i5-4200U Processor up to 2.6GHz, 8GB DDR3 Memory, 256GB SSD, FHD 1080P Touchscreen Display, Backlit Keyboard, 802.11AC WiFi, Windows 8.1, 0.5 inch thin and 2.9 Lbs) Crystal White', 'system_0': 'Brand: Acer \\n Model: Aspire S7 \\n Screen Size: 13.3 inches \\n Screen Type: Touchscreen \\n Processor Brand: Intel Core i5-4200U \\n Processor Speed: 2.6GHz \\n Memory: 8GB DDR3 \\n Storage: 256GB SSD \\n Resolution: FHD 1080P \\n Keyboard: Backlit\\n Wireless Connectivity: 802.11AC WiFi \\n Operating System: Windows 8.1 \\n Color: Crystal White \\n Thickness: 0.5 inch \\n Weight: 2.9 lbs', 'input': 'MSI Gaming Stealth 16 AI Studio A1VGG Ultra 9 185H (089VN) (RTX 4070 8GB, 16 inches, 2.30 GHz)', 'Screen Size': '16 inches', 'Processor Brand': 'RTX 4070 8GB', 'Processor Speed': '2.30 GHz'}, {'human_0': 'Acer Aspire S7 13.3-Inch Touchscreen Ultrabook (Intel Core i5-4200U Processor up to 2.6GHz, 8GB DDR3 Memory, 256GB SSD, FHD 1080P Touchscreen Display, Backlit Keyboard, 802.11AC WiFi, Windows 8.1, 0.5 inch thin and 2.9 Lbs) Crystal White', 'system_0': 'Brand: Acer \\n Model: Aspire S7 \\n Screen Size: 13.3 inches \\n Screen Type: Touchscreen \\n Processor Brand: Intel Core i5-4200U \\n Processor Speed: 2.6GHz \\n Memory: 8GB DDR3 \\n Storage: 256GB SSD \\n Resolution: FHD 1080P \\n Keyboard: Backlit\\n Wireless Connectivity: 802.11AC WiFi \\n Operating System: Windows 8.1 \\n Color: Crystal White \\n Thickness: 0.5 inch \\n Weight: 2.9 lbs', 'input': 'MSI Prestige 16 AI Studio B1VFG Ultra 9 185H (082VN) (RTX 4060 8GB, 16 inches, 2.30 GHz)', 'Screen Size': '16 inches', 'Processor Brand': 'RTX 4060 8GB', 'Processor Speed': '2.30 GHz'}, {'human_0': 'Acer Aspire S7 13.3-Inch Touchscreen Ultrabook (Intel Core i5-4200U Processor up to 2.6GHz, 8GB DDR3 Memory, 256GB SSD, FHD 1080P Touchscreen Display, Backlit Keyboard, 802.11AC WiFi, Windows 8.1, 0.5 inch thin and 2.9 Lbs) Crystal White', 'system_0': 'Brand: Acer \\n Model: Aspire S7 \\n Screen Size: 13.3 inches \\n Screen Type: Touchscreen \\n Processor Brand: Intel Core i5-4200U \\n Processor Speed: 2.6GHz \\n Memory: 8GB DDR3 \\n Storage: 256GB SSD \\n Resolution: FHD 1080P \\n Keyboard: Backlit\\n Wireless Connectivity: 802.11AC WiFi \\n Operating System: Windows 8.1 \\n Color: Crystal White \\n Thickness: 0.5 inch \\n Weight: 2.9 lbs', 'input': 'MSI Gaming Stealth 14 AI Studio A1VFG Ultra 7 155H (050VN) (RTX 4060 8GB, 14 inches, 1.4GHz)', 'Screen Size': '14 inches', 'Processor Brand': 'RTX 4060 8GB', 'Processor Speed': '1.4GHz'}, {'human_0': 'Acer Aspire S7 13.3-Inch Touchscreen Ultrabook (Intel Core i5-4200U Processor up to 2.6GHz, 8GB DDR3 Memory, 256GB SSD, FHD 1080P Touchscreen Display, Backlit Keyboard, 802.11AC WiFi, Windows 8.1, 0.5 inch thin and 2.9 Lbs) Crystal White', 'system_0': 'Brand: Acer \\n Model: Aspire S7 \\n Screen Size: 13.3 inches \\n Screen Type: Touchscreen \\n Processor Brand: Intel Core i5-4200U \\n Processor Speed: 2.6GHz \\n Memory: 8GB DDR3 \\n Storage: 256GB SSD \\n Resolution: FHD 1080P \\n Keyboard: Backlit\\n Wireless Connectivity: 802.11AC WiFi \\n Operating System: Windows 8.1 \\n Color: Crystal White \\n Thickness: 0.5 inch \\n Weight: 2.9 lbs', 'input': 'MSI Prestige 16 Studio A13VE i7 13700H (214VN) (RTX 4050 6GB, 16 inches, 2.4GHz)', 'Screen Size': '16 inches', 'Processor Brand': 'RTX 4050 6GB', 'Processor Speed': '2.4GHz'}, {'human_0': 'Acer Aspire S7 13.3-Inch Touchscreen Ultrabook (Intel Core i5-4200U Processor up to 2.6GHz, 8GB DDR3 Memory, 256GB SSD, FHD 1080P Touchscreen Display, Backlit Keyboard, 802.11AC WiFi, Windows 8.1, 0.5 inch thin and 2.9 Lbs) Crystal White', 'system_0': 'Brand: Acer \\n Model: Aspire S7 \\n Screen Size: 13.3 inches \\n Screen Type: Touchscreen \\n Processor Brand: Intel Core i5-4200U \\n Processor Speed: 2.6GHz \\n Memory: 8GB DDR3 \\n Storage: 256GB SSD \\n Resolution: FHD 1080P \\n Keyboard: Backlit\\n Wireless Connectivity: 802.11AC WiFi \\n Operating System: Windows 8.1 \\n Color: Crystal White \\n Thickness: 0.5 inch \\n Weight: 2.9 lbs', 'input': 'MSI Gaming Sword 16 HX B14VEKG i7 14700HX (039VN) (RTX 4050 6GB, 16 inches, 2.1GHz)', 'Screen Size': '16 inches', 'Processor Brand': 'RTX 4050 6GB', 'Processor Speed': '2.1GHz'}, {'human_0': 'Acer Aspire S7 13.3-Inch Touchscreen Ultrabook (Intel Core i5-4200U Processor up to 2.6GHz, 8GB DDR3 Memory, 256GB SSD, FHD 1080P Touchscreen Display, Backlit Keyboard, 802.11AC WiFi, Windows 8.1, 0.5 inch thin and 2.9 Lbs) Crystal White', 'system_0': 'Brand: Acer \\n Model: Aspire S7 \\n Screen Size: 13.3 inches \\n Screen Type: Touchscreen \\n Processor Brand: Intel Core i5-4200U \\n Processor Speed: 2.6GHz \\n Memory: 8GB DDR3 \\n Storage: 256GB SSD \\n Resolution: FHD 1080P \\n Keyboard: Backlit\\n Wireless Connectivity: 802.11AC WiFi \\n Operating System: Windows 8.1 \\n Color: Crystal White \\n Thickness: 0.5 inch \\n Weight: 2.9 lbs', 'input': 'MSI Prestige 13 AI Evo A1MG Ultra 7 155H (062VN) (Intel Arc Graphics, 13.3 inches, 1.4GHz)', 'Screen Size': '13.3 inches', 'Processor Brand': 'Intel Arc Graphics', 'Processor Speed': '1.4GHz'}, {'human_0': 'Acer Aspire S7 13.3-Inch Touchscreen Ultrabook (Intel Core i5-4200U Processor up to 2.6GHz, 8GB DDR3 Memory, 256GB SSD, FHD 1080P Touchscreen Display, Backlit Keyboard, 802.11AC WiFi, Windows 8.1, 0.5 inch thin and 2.9 Lbs) Crystal White', 'system_0': 'Brand: Acer \\n Model: Aspire S7 \\n Screen Size: 13.3 inches \\n Screen Type: Touchscreen \\n Processor Brand: Intel Core i5-4200U \\n Processor Speed: 2.6GHz \\n Memory: 8GB DDR3 \\n Storage: 256GB SSD \\n Resolution: FHD 1080P \\n Keyboard: Backlit\\n Wireless Connectivity: 802.11AC WiFi \\n Operating System: Windows 8.1 \\n Color: Crystal White \\n Thickness: 0.5 inch \\n Weight: 2.9 lbs', 'input': 'MSI Gaming Katana A15 AI B8VF R7 8845HS (419VN) (RTX 4060 8GB, 15.6 inches, 3.8GHz)', 'Screen Size': '15.6 inches', 'Processor Brand': 'RTX 4060 8GB', 'Processor Speed': '3.8GHz'}, {'human_0': 'Acer Aspire S7 13.3-Inch Touchscreen Ultrabook (Intel Core i5-4200U Processor up to 2.6GHz, 8GB DDR3 Memory, 256GB SSD, FHD 1080P Touchscreen Display, Backlit Keyboard, 802.11AC WiFi, Windows 8.1, 0.5 inch thin and 2.9 Lbs) Crystal White', 'system_0': 'Brand: Acer \\n Model: Aspire S7 \\n Screen Size: 13.3 inches \\n Screen Type: Touchscreen \\n Processor Brand: Intel Core i5-4200U \\n Processor Speed: 2.6GHz \\n Memory: 8GB DDR3 \\n Storage: 256GB SSD \\n Resolution: FHD 1080P \\n Keyboard: Backlit\\n Wireless Connectivity: 802.11AC WiFi \\n Operating System: Windows 8.1 \\n Color: Crystal White \\n Thickness: 0.5 inch \\n Weight: 2.9 lbs', 'input': 'MSI Gaming Cyborg 15 AI A1VEK Ultra 7 155H (053VN) (RTX 4050 6GB, 15.6 inches, 1.4GHz)', 'Screen Size': '15.6 inches', 'Processor Brand': 'RTX 4050 6GB', 'Processor Speed': '1.4GHz'}, {'human_0': 'Acer Aspire S7 13.3-Inch Touchscreen Ultrabook (Intel Core i5-4200U Processor up to 2.6GHz, 8GB DDR3 Memory, 256GB SSD, FHD 1080P Touchscreen Display, Backlit Keyboard, 802.11AC WiFi, Windows 8.1, 0.5 inch thin and 2.9 Lbs) Crystal White', 'system_0': 'Brand: Acer \\n Model: Aspire S7 \\n Screen Size: 13.3 inches \\n Screen Type: Touchscreen \\n Processor Brand: Intel Core i5-4200U \\n Processor Speed: 2.6GHz \\n Memory: 8GB DDR3 \\n Storage: 256GB SSD \\n Resolution: FHD 1080P \\n Keyboard: Backlit\\n Wireless Connectivity: 802.11AC WiFi \\n Operating System: Windows 8.1 \\n Color: Crystal White \\n Thickness: 0.5 inch \\n Weight: 2.9 lbs', 'input': 'MSI Gaming Katana 15 B13VFK i7 13620H (676VN) (RTX 4060 8GB, 15.6 inches, 2.4GHz)', 'Screen Size': '15.6 inches', 'Processor Brand': 'RTX 4060 8GB', 'Processor Speed': '2.4GHz'}, {'human_0': 'Acer Aspire S7 13.3-Inch Touchscreen Ultrabook (Intel Core i5-4200U Processor up to 2.6GHz, 8GB DDR3 Memory, 256GB SSD, FHD 1080P Touchscreen Display, Backlit Keyboard, 802.11AC WiFi, Windows 8.1, 0.5 inch thin and 2.9 Lbs) Crystal White', 'system_0': 'Brand: Acer \\n Model: Aspire S7 \\n Screen Size: 13.3 inches \\n Screen Type: Touchscreen \\n Processor Brand: Intel Core i5-4200U \\n Processor Speed: 2.6GHz \\n Memory: 8GB DDR3 \\n Storage: 256GB SSD \\n Resolution: FHD 1080P \\n Keyboard: Backlit\\n Wireless Connectivity: 802.11AC WiFi \\n Operating System: Windows 8.1 \\n Color: Crystal White \\n Thickness: 0.5 inch \\n Weight: 2.9 lbs', 'input': 'MSI Gaming Katana A15 AI B8VE R7 8845HS (402VN) (RTX 4050 6GB, 15.6 inches, 3.8GHz)', 'Screen Size': '15.6 inches', 'Processor Brand': 'RTX 4050 6GB', 'Processor Speed': '3.8GHz'}, {'human_0': 'Acer Aspire S7 13.3-Inch Touchscreen Ultrabook (Intel Core i5-4200U Processor up to 2.6GHz, 8GB DDR3 Memory, 256GB SSD, FHD 1080P Touchscreen Display, Backlit Keyboard, 802.11AC WiFi, Windows 8.1, 0.5 inch thin and 2.9 Lbs) Crystal White', 'system_0': 'Brand: Acer \\n Model: Aspire S7 \\n Screen Size: 13.3 inches \\n Screen Type: Touchscreen \\n Processor Brand: Intel Core i5-4200U \\n Processor Speed: 2.6GHz \\n Memory: 8GB DDR3 \\n Storage: 256GB SSD \\n Resolution: FHD 1080P \\n Keyboard: Backlit\\n Wireless Connectivity: 802.11AC WiFi \\n Operating System: Windows 8.1 \\n Color: Crystal White \\n Thickness: 0.5 inch \\n Weight: 2.9 lbs', 'input': 'MSI Gaming Cyborg 15 A12UCX i5 12450H (281VN) (RTX 2050 4GB, 15.6 inches, 2GHz)', 'Screen Size': '15.6 inches', 'Processor Brand': 'RTX 2050 4GB', 'Processor Speed': '2GHz'}, {'human_0': 'Acer Aspire S7 13.3-Inch Touchscreen Ultrabook (Intel Core i5-4200U Processor up to 2.6GHz, 8GB DDR3 Memory, 256GB SSD, FHD 1080P Touchscreen Display, Backlit Keyboard, 802.11AC WiFi, Windows 8.1, 0.5 inch thin and 2.9 Lbs) Crystal White', 'system_0': 'Brand: Acer \\n Model: Aspire S7 \\n Screen Size: 13.3 inches \\n Screen Type: Touchscreen \\n Processor Brand: Intel Core i5-4200U \\n Processor Speed: 2.6GHz \\n Memory: 8GB DDR3 \\n Storage: 256GB SSD \\n Resolution: FHD 1080P \\n Keyboard: Backlit\\n Wireless Connectivity: 802.11AC WiFi \\n Operating System: Windows 8.1 \\n Color: Crystal White \\n Thickness: 0.5 inch \\n Weight: 2.9 lbs', 'input': 'HP 245 G10 R5-7520U (9H8X8PT) (Ryzen 5, 14 inches)', 'Screen Size': '14 inches', 'Processor Brand': 'Ryzen 5', 'Processor Speed': 'I do not know.'}, {'human_0': 'Acer Aspire S7 13.3-Inch Touchscreen Ultrabook (Intel Core i5-4200U Processor up to 2.6GHz, 8GB DDR3 Memory, 256GB SSD, FHD 1080P Touchscreen Display, Backlit Keyboard, 802.11AC WiFi, Windows 8.1, 0.5 inch thin and 2.9 Lbs) Crystal White', 'system_0': 'Brand: Acer \\n Model: Aspire S7 \\n Screen Size: 13.3 inches \\n Screen Type: Touchscreen \\n Processor Brand: Intel Core i5-4200U \\n Processor Speed: 2.6GHz \\n Memory: 8GB DDR3 \\n Storage: 256GB SSD \\n Resolution: FHD 1080P \\n Keyboard: Backlit\\n Wireless Connectivity: 802.11AC WiFi \\n Operating System: Windows 8.1 \\n Color: Crystal White \\n Thickness: 0.5 inch \\n Weight: 2.9 lbs', 'input': 'Asus Vivobook E1404FA-NK186W R5 7520U (Ryzen 5, 14.0 inches)', 'Screen Size': '14.0 inches', 'Processor Brand': 'Ryzen 5', 'Processor Speed': 'I do not know.'}, {'human_0': 'Acer Aspire S7 13.3-Inch Touchscreen Ultrabook (Intel Core i5-4200U Processor up to 2.6GHz, 8GB DDR3 Memory, 256GB SSD, FHD 1080P Touchscreen Display, Backlit Keyboard, 802.11AC WiFi, Windows 8.1, 0.5 inch thin and 2.9 Lbs) Crystal White', 'system_0': 'Brand: Acer \\n Model: Aspire S7 \\n Screen Size: 13.3 inches \\n Screen Type: Touchscreen \\n Processor Brand: Intel Core i5-4200U \\n Processor Speed: 2.6GHz \\n Memory: 8GB DDR3 \\n Storage: 256GB SSD \\n Resolution: FHD 1080P \\n Keyboard: Backlit\\n Wireless Connectivity: 802.11AC WiFi \\n Operating System: Windows 8.1 \\n Color: Crystal White \\n Thickness: 0.5 inch \\n Weight: 2.9 lbs', 'input': 'Lenovo Gaming LOQ - 15IAX9 i5 12450HX (83GS000GVN) (Core i5, 15.6 inches)', 'Screen Size': '15.6 inches', 'Processor Brand': 'Core i5', 'Processor Speed': 'I do not know.'}, {'human_0': 'Acer Aspire S7 13.3-Inch Touchscreen Ultrabook (Intel Core i5-4200U Processor up to 2.6GHz, 8GB DDR3 Memory, 256GB SSD, FHD 1080P Touchscreen Display, Backlit Keyboard, 802.11AC WiFi, Windows 8.1, 0.5 inch thin and 2.9 Lbs) Crystal White', 'system_0': 'Brand: Acer \\n Model: Aspire S7 \\n Screen Size: 13.3 inches \\n Screen Type: Touchscreen \\n Processor Brand: Intel Core i5-4200U \\n Processor Speed: 2.6GHz \\n Memory: 8GB DDR3 \\n Storage: 256GB SSD \\n Resolution: FHD 1080P \\n Keyboard: Backlit\\n Wireless Connectivity: 802.11AC WiFi \\n Operating System: Windows 8.1 \\n Color: Crystal White \\n Thickness: 0.5 inch \\n Weight: 2.9 lbs', 'input': 'HP 14s-em0086AU R5 7520U (835T9PA) (Ryzen 5, 14 inches)', 'Screen Size': '14 inches', 'Processor Brand': 'Ryzen 5', 'Processor Speed': 'I do not know.'}, {'human_0': 'Acer Aspire S7 13.3-Inch Touchscreen Ultrabook (Intel Core i5-4200U Processor up to 2.6GHz, 8GB DDR3 Memory, 256GB SSD, FHD 1080P Touchscreen Display, Backlit Keyboard, 802.11AC WiFi, Windows 8.1, 0.5 inch thin and 2.9 Lbs) Crystal White', 'system_0': 'Brand: Acer \\n Model: Aspire S7 \\n Screen Size: 13.3 inches \\n Screen Type: Touchscreen \\n Processor Brand: Intel Core i5-4200U \\n Processor Speed: 2.6GHz \\n Memory: 8GB DDR3 \\n Storage: 256GB SSD \\n Resolution: FHD 1080P \\n Keyboard: Backlit\\n Wireless Connectivity: 802.11AC WiFi \\n Operating System: Windows 8.1 \\n Color: Crystal White \\n Thickness: 0.5 inch \\n Weight: 2.9 lbs', 'input': 'MSI Modern 14 C7M-221VN R7 7730U (Ryzen 7, 14.0 inches)', 'Screen Size': '14.0 inches', 'Processor Brand': 'Ryzen 7', 'Processor Speed': 'I do not know.'}, {'human_0': 'Acer Aspire S7 13.3-Inch Touchscreen Ultrabook (Intel Core i5-4200U Processor up to 2.6GHz, 8GB DDR3 Memory, 256GB SSD, FHD 1080P Touchscreen Display, Backlit Keyboard, 802.11AC WiFi, Windows 8.1, 0.5 inch thin and 2.9 Lbs) Crystal White', 'system_0': 'Brand: Acer \\n Model: Aspire S7 \\n Screen Size: 13.3 inches \\n Screen Type: Touchscreen \\n Processor Brand: Intel Core i5-4200U \\n Processor Speed: 2.6GHz \\n Memory: 8GB DDR3 \\n Storage: 256GB SSD \\n Resolution: FHD 1080P \\n Keyboard: Backlit\\n Wireless Connectivity: 802.11AC WiFi \\n Operating System: Windows 8.1 \\n Color: Crystal White \\n Thickness: 0.5 inch \\n Weight: 2.9 lbs', 'input': 'Acer Aspire 3 A315-44P-R5QG R7-5700U (Ryzen 7, 15.6 inches)', 'Screen Size': '15.6 inches', 'Processor Brand': 'Ryzen 7', 'Processor Speed': 'I do not know.'}, {'human_0': 'Acer Aspire S7 13.3-Inch Touchscreen Ultrabook (Intel Core i5-4200U Processor up to 2.6GHz, 8GB DDR3 Memory, 256GB SSD, FHD 1080P Touchscreen Display, Backlit Keyboard, 802.11AC WiFi, Windows 8.1, 0.5 inch thin and 2.9 Lbs) Crystal White', 'system_0': 'Brand: Acer \\n Model: Aspire S7 \\n Screen Size: 13.3 inches \\n Screen Type: Touchscreen \\n Processor Brand: Intel Core i5-4200U \\n Processor Speed: 2.6GHz \\n Memory: 8GB DDR3 \\n Storage: 256GB SSD \\n Resolution: FHD 1080P \\n Keyboard: Backlit\\n Wireless Connectivity: 802.11AC WiFi \\n Operating System: Windows 8.1 \\n Color: Crystal White \\n Thickness: 0.5 inch \\n Weight: 2.9 lbs', 'input': 'HP Pavilion Aero 13-be2098AU R7 7735U (8C5K5PA) (Ryzen 7, 13.3 inches)', 'Screen Size': '13.3 inches', 'Processor Brand': 'Ryzen 7', 'Processor Speed': 'I do not know.'}, {'human_0': 'Acer Aspire S7 13.3-Inch Touchscreen Ultrabook (Intel Core i5-4200U Processor up to 2.6GHz, 8GB DDR3 Memory, 256GB SSD, FHD 1080P Touchscreen Display, Backlit Keyboard, 802.11AC WiFi, Windows 8.1, 0.5 inch thin and 2.9 Lbs) Crystal White', 'system_0': 'Brand: Acer \\n Model: Aspire S7 \\n Screen Size: 13.3 inches \\n Screen Type: Touchscreen \\n Processor Brand: Intel Core i5-4200U \\n Processor Speed: 2.6GHz \\n Memory: 8GB DDR3 \\n Storage: 256GB SSD \\n Resolution: FHD 1080P \\n Keyboard: Backlit\\n Wireless Connectivity: 802.11AC WiFi \\n Operating System: Windows 8.1 \\n Color: Crystal White \\n Thickness: 0.5 inch \\n Weight: 2.9 lbs', 'input': 'Asus TUF Gaming FX507ZC4-HN095W i5 12500H (Core i5, 15.6 inches)', 'Screen Size': '15.6 inches', 'Processor Brand': 'Core i5', 'Processor Speed': 'I do not know.'}, {'human_0': 'Acer Aspire S7 13.3-Inch Touchscreen Ultrabook (Intel Core i5-4200U Processor up to 2.6GHz, 8GB DDR3 Memory, 256GB SSD, FHD 1080P Touchscreen Display, Backlit Keyboard, 802.11AC WiFi, Windows 8.1, 0.5 inch thin and 2.9 Lbs) Crystal White', 'system_0': 'Brand: Acer \\n Model: Aspire S7 \\n Screen Size: 13.3 inches \\n Screen Type: Touchscreen \\n Processor Brand: Intel Core i5-4200U \\n Processor Speed: 2.6GHz \\n Memory: 8GB DDR3 \\n Storage: 256GB SSD \\n Resolution: FHD 1080P \\n Keyboard: Backlit\\n Wireless Connectivity: 802.11AC WiFi \\n Operating System: Windows 8.1 \\n Color: Crystal White \\n Thickness: 0.5 inch \\n Weight: 2.9 lbs', 'input': 'Lenovo Ideapad 3 15IAU7 i7 1255U (82RK00W4VN) (Core i7, 15.6 inches)', 'Screen Size': '15.6 inches', 'Processor Brand': 'Core i7', 'Processor Speed': 'I do not know.'}, {'human_0': 'Acer Aspire S7 13.3-Inch Touchscreen Ultrabook (Intel Core i5-4200U Processor up to 2.6GHz, 8GB DDR3 Memory, 256GB SSD, FHD 1080P Touchscreen Display, Backlit Keyboard, 802.11AC WiFi, Windows 8.1, 0.5 inch thin and 2.9 Lbs) Crystal White', 'system_0': 'Brand: Acer \\n Model: Aspire S7 \\n Screen Size: 13.3 inches \\n Screen Type: Touchscreen \\n Processor Brand: Intel Core i5-4200U \\n Processor Speed: 2.6GHz \\n Memory: 8GB DDR3 \\n Storage: 256GB SSD \\n Resolution: FHD 1080P \\n Keyboard: Backlit\\n Wireless Connectivity: 802.11AC WiFi \\n Operating System: Windows 8.1 \\n Color: Crystal White \\n Thickness: 0.5 inch \\n Weight: 2.9 lbs', 'input': 'MSI Modern 14 C7M-220VN R5 7530U (Ryzen 5, 14.0 inches)', 'Screen Size': '14.0 inches', 'Processor Brand': 'Ryzen 5', 'Processor Speed': 'I do not know.'}, {'human_0': 'Acer Aspire S7 13.3-Inch Touchscreen Ultrabook (Intel Core i5-4200U Processor up to 2.6GHz, 8GB DDR3 Memory, 256GB SSD, FHD 1080P Touchscreen Display, Backlit Keyboard, 802.11AC WiFi, Windows 8.1, 0.5 inch thin and 2.9 Lbs) Crystal White', 'system_0': 'Brand: Acer \\n Model: Aspire S7 \\n Screen Size: 13.3 inches \\n Screen Type: Touchscreen \\n Processor Brand: Intel Core i5-4200U \\n Processor Speed: 2.6GHz \\n Memory: 8GB DDR3 \\n Storage: 256GB SSD \\n Resolution: FHD 1080P \\n Keyboard: Backlit\\n Wireless Connectivity: 802.11AC WiFi \\n Operating System: Windows 8.1 \\n Color: Crystal White \\n Thickness: 0.5 inch \\n Weight: 2.9 lbs', 'input': 'Asus TUF Gaming FX506HF-HN017W i5 11400H (Core i5, 15.6 inches)', 'Screen Size': '15.6 inches', 'Processor Brand': 'Core i5', 'Processor Speed': 'I do not know.'}, {'human_0': 'Acer Aspire S7 13.3-Inch Touchscreen Ultrabook (Intel Core i5-4200U Processor up to 2.6GHz, 8GB DDR3 Memory, 256GB SSD, FHD 1080P Touchscreen Display, Backlit Keyboard, 802.11AC WiFi, Windows 8.1, 0.5 inch thin and 2.9 Lbs) Crystal White', 'system_0': 'Brand: Acer \\n Model: Aspire S7 \\n Screen Size: 13.3 inches \\n Screen Type: Touchscreen \\n Processor Brand: Intel Core i5-4200U \\n Processor Speed: 2.6GHz \\n Memory: 8GB DDR3 \\n Storage: 256GB SSD \\n Resolution: FHD 1080P \\n Keyboard: Backlit\\n Wireless Connectivity: 802.11AC WiFi \\n Operating System: Windows 8.1 \\n Color: Crystal White \\n Thickness: 0.5 inch \\n Weight: 2.9 lbs', 'input': 'Dell Inspiron 15 N3530 i5 1335U (N5I5489W1) (Core i5, 15.6 inches)', 'Screen Size': '15.6 inches', 'Processor Brand': 'Core i5', 'Processor Speed': 'I do not know.'}, {'human_0': 'Acer Aspire S7 13.3-Inch Touchscreen Ultrabook (Intel Core i5-4200U Processor up to 2.6GHz, 8GB DDR3 Memory, 256GB SSD, FHD 1080P Touchscreen Display, Backlit Keyboard, 802.11AC WiFi, Windows 8.1, 0.5 inch thin and 2.9 Lbs) Crystal White', 'system_0': 'Brand: Acer \\n Model: Aspire S7 \\n Screen Size: 13.3 inches \\n Screen Type: Touchscreen \\n Processor Brand: Intel Core i5-4200U \\n Processor Speed: 2.6GHz \\n Memory: 8GB DDR3 \\n Storage: 256GB SSD \\n Resolution: FHD 1080P \\n Keyboard: Backlit\\n Wireless Connectivity: 802.11AC WiFi \\n Operating System: Windows 8.1 \\n Color: Crystal White \\n Thickness: 0.5 inch \\n Weight: 2.9 lbs', 'input': 'Asus Vivobook X1404ZA-NK387W i3 1215U (Core i3, 14 inches)', 'Screen Size': '14 inches', 'Processor Brand': 'Core i3', 'Processor Speed': 'I do not know.'}, {'human_0': 'Acer Aspire S7 13.3-Inch Touchscreen Ultrabook (Intel Core i5-4200U Processor up to 2.6GHz, 8GB DDR3 Memory, 256GB SSD, FHD 1080P Touchscreen Display, Backlit Keyboard, 802.11AC WiFi, Windows 8.1, 0.5 inch thin and 2.9 Lbs) Crystal White', 'system_0': 'Brand: Acer \\n Model: Aspire S7 \\n Screen Size: 13.3 inches \\n Screen Type: Touchscreen \\n Processor Brand: Intel Core i5-4200U \\n Processor Speed: 2.6GHz \\n Memory: 8GB DDR3 \\n Storage: 256GB SSD \\n Resolution: FHD 1080P \\n Keyboard: Backlit\\n Wireless Connectivity: 802.11AC WiFi \\n Operating System: Windows 8.1 \\n Color: Crystal White \\n Thickness: 0.5 inch \\n Weight: 2.9 lbs', 'input': 'Lenovo IdeaPad 3 14IAH8 i5 12450H (83EQ0005VN) (Core i5, 14.0 inches)', 'Screen Size': '14.0 inches', 'Processor Brand': 'Core i5', 'Processor Speed': 'I do not know.'}, {'human_0': 'Acer Aspire S7 13.3-Inch Touchscreen Ultrabook (Intel Core i5-4200U Processor up to 2.6GHz, 8GB DDR3 Memory, 256GB SSD, FHD 1080P Touchscreen Display, Backlit Keyboard, 802.11AC WiFi, Windows 8.1, 0.5 inch thin and 2.9 Lbs) Crystal White', 'system_0': 'Brand: Acer \\n Model: Aspire S7 \\n Screen Size: 13.3 inches \\n Screen Type: Touchscreen \\n Processor Brand: Intel Core i5-4200U \\n Processor Speed: 2.6GHz \\n Memory: 8GB DDR3 \\n Storage: 256GB SSD \\n Resolution: FHD 1080P \\n Keyboard: Backlit\\n Wireless Connectivity: 802.11AC WiFi \\n Operating System: Windows 8.1 \\n Color: Crystal White \\n Thickness: 0.5 inch \\n Weight: 2.9 lbs', 'input': 'MSI Gaming Thin GF63 12VE-454VN i5 12450H (Core i5, 15.6 inches)', 'Screen Size': '15.6 inches', 'Processor Brand': 'Core i5', 'Processor Speed': 'I do not know.'}, {'human_0': 'Acer Aspire S7 13.3-Inch Touchscreen Ultrabook (Intel Core i5-4200U Processor up to 2.6GHz, 8GB DDR3 Memory, 256GB SSD, FHD 1080P Touchscreen Display, Backlit Keyboard, 802.11AC WiFi, Windows 8.1, 0.5 inch thin and 2.9 Lbs) Crystal White', 'system_0': 'Brand: Acer \\n Model: Aspire S7 \\n Screen Size: 13.3 inches \\n Screen Type: Touchscreen \\n Processor Brand: Intel Core i5-4200U \\n Processor Speed: 2.6GHz \\n Memory: 8GB DDR3 \\n Storage: 256GB SSD \\n Resolution: FHD 1080P \\n Keyboard: Backlit\\n Wireless Connectivity: 802.11AC WiFi \\n Operating System: Windows 8.1 \\n Color: Crystal White \\n Thickness: 0.5 inch \\n Weight: 2.9 lbs', 'input': 'Dell Inspiron 15 N3520 i5 1235U_N5I5011W1 (Core i5, 15.6 inches)', 'Screen Size': '15.6 inches', 'Processor Brand': 'Core i5', 'Processor Speed': 'I do not know.'}, {'human_0': 'Acer Aspire S7 13.3-Inch Touchscreen Ultrabook (Intel Core i5-4200U Processor up to 2.6GHz, 8GB DDR3 Memory, 256GB SSD, FHD 1080P Touchscreen Display, Backlit Keyboard, 802.11AC WiFi, Windows 8.1, 0.5 inch thin and 2.9 Lbs) Crystal White', 'system_0': 'Brand: Acer \\n Model: Aspire S7 \\n Screen Size: 13.3 inches \\n Screen Type: Touchscreen \\n Processor Brand: Intel Core i5-4200U \\n Processor Speed: 2.6GHz \\n Memory: 8GB DDR3 \\n Storage: 256GB SSD \\n Resolution: FHD 1080P \\n Keyboard: Backlit\\n Wireless Connectivity: 802.11AC WiFi \\n Operating System: Windows 8.1 \\n Color: Crystal White \\n Thickness: 0.5 inch \\n Weight: 2.9 lbs', 'input': 'Asus Vivobook 15 OLED A1505VA-L1113W i5 13500H (Core i5, 15.6 inches)', 'Screen Size': '15.6 inches', 'Processor Brand': 'Core i5', 'Processor Speed': 'I do not know.'}, {'human_0': 'Acer Aspire S7 13.3-Inch Touchscreen Ultrabook (Intel Core i5-4200U Processor up to 2.6GHz, 8GB DDR3 Memory, 256GB SSD, FHD 1080P Touchscreen Display, Backlit Keyboard, 802.11AC WiFi, Windows 8.1, 0.5 inch thin and 2.9 Lbs) Crystal White', 'system_0': 'Brand: Acer \\n Model: Aspire S7 \\n Screen Size: 13.3 inches \\n Screen Type: Touchscreen \\n Processor Brand: Intel Core i5-4200U \\n Processor Speed: 2.6GHz \\n Memory: 8GB DDR3 \\n Storage: 256GB SSD \\n Resolution: FHD 1080P \\n Keyboard: Backlit\\n Wireless Connectivity: 802.11AC WiFi \\n Operating System: Windows 8.1 \\n Color: Crystal White \\n Thickness: 0.5 inch \\n Weight: 2.9 lbs', 'input': 'HP 245 G10 R5 7520U (8F154PA) (Ryzen 5, 14.0 inches)', 'Screen Size': '14.0 inches', 'Processor Brand': 'Ryzen 5', 'Processor Speed': 'I do not know.'}, {'human_0': 'Acer Aspire S7 13.3-Inch Touchscreen Ultrabook (Intel Core i5-4200U Processor up to 2.6GHz, 8GB DDR3 Memory, 256GB SSD, FHD 1080P Touchscreen Display, Backlit Keyboard, 802.11AC WiFi, Windows 8.1, 0.5 inch thin and 2.9 Lbs) Crystal White', 'system_0': 'Brand: Acer \\n Model: Aspire S7 \\n Screen Size: 13.3 inches \\n Screen Type: Touchscreen \\n Processor Brand: Intel Core i5-4200U \\n Processor Speed: 2.6GHz \\n Memory: 8GB DDR3 \\n Storage: 256GB SSD \\n Resolution: FHD 1080P \\n Keyboard: Backlit\\n Wireless Connectivity: 802.11AC WiFi \\n Operating System: Windows 8.1 \\n Color: Crystal White \\n Thickness: 0.5 inch \\n Weight: 2.9 lbs', 'input': 'Acer Aspire 7 Gaming A715-76-57CY i5 12450H (NH.QGESV.004) (Core i5, 15.6 inches)', 'Screen Size': '15.6 inches', 'Processor Brand': 'Core i5', 'Processor Speed': 'I do not know.'}, {'human_0': 'Acer Aspire S7 13.3-Inch Touchscreen Ultrabook (Intel Core i5-4200U Processor up to 2.6GHz, 8GB DDR3 Memory, 256GB SSD, FHD 1080P Touchscreen Display, Backlit Keyboard, 802.11AC WiFi, Windows 8.1, 0.5 inch thin and 2.9 Lbs) Crystal White', 'system_0': 'Brand: Acer \\n Model: Aspire S7 \\n Screen Size: 13.3 inches \\n Screen Type: Touchscreen \\n Processor Brand: Intel Core i5-4200U \\n Processor Speed: 2.6GHz \\n Memory: 8GB DDR3 \\n Storage: 256GB SSD \\n Resolution: FHD 1080P \\n Keyboard: Backlit\\n Wireless Connectivity: 802.11AC WiFi \\n Operating System: Windows 8.1 \\n Color: Crystal White \\n Thickness: 0.5 inch \\n Weight: 2.9 lbs', 'input': 'HP Pavilion 14-dv2073TU i5 1235U (7C0P2PA) (Core i5, 14.0 inches)', 'Screen Size': '14.0 inches', 'Processor Brand': 'Core i5', 'Processor Speed': 'I do not know.'}, {'human_0': 'Acer Aspire S7 13.3-Inch Touchscreen Ultrabook (Intel Core i5-4200U Processor up to 2.6GHz, 8GB DDR3 Memory, 256GB SSD, FHD 1080P Touchscreen Display, Backlit Keyboard, 802.11AC WiFi, Windows 8.1, 0.5 inch thin and 2.9 Lbs) Crystal White', 'system_0': 'Brand: Acer \\n Model: Aspire S7 \\n Screen Size: 13.3 inches \\n Screen Type: Touchscreen \\n Processor Brand: Intel Core i5-4200U \\n Processor Speed: 2.6GHz \\n Memory: 8GB DDR3 \\n Storage: 256GB SSD \\n Resolution: FHD 1080P \\n Keyboard: Backlit\\n Wireless Connectivity: 802.11AC WiFi \\n Operating System: Windows 8.1 \\n Color: Crystal White \\n Thickness: 0.5 inch \\n Weight: 2.9 lbs', 'input': 'Asus Vivobook X1504VA-NJ526W i5 1335U (Core i5, 15.6 inches)', 'Screen Size': '15.6 inches', 'Processor Brand': 'Core i5', 'Processor Speed': 'I do not know.'}, {'human_0': 'Acer Aspire S7 13.3-Inch Touchscreen Ultrabook (Intel Core i5-4200U Processor up to 2.6GHz, 8GB DDR3 Memory, 256GB SSD, FHD 1080P Touchscreen Display, Backlit Keyboard, 802.11AC WiFi, Windows 8.1, 0.5 inch thin and 2.9 Lbs) Crystal White', 'system_0': 'Brand: Acer \\n Model: Aspire S7 \\n Screen Size: 13.3 inches \\n Screen Type: Touchscreen \\n Processor Brand: Intel Core i5-4200U \\n Processor Speed: 2.6GHz \\n Memory: 8GB DDR3 \\n Storage: 256GB SSD \\n Resolution: FHD 1080P \\n Keyboard: Backlit\\n Wireless Connectivity: 802.11AC WiFi \\n Operating System: Windows 8.1 \\n Color: Crystal White \\n Thickness: 0.5 inch \\n Weight: 2.9 lbs', 'input': 'Lenovo IdeaPad 1 15ALC7 R5 5500U (82R400BYVN) (Ryzen 5, 15.6 inches)', 'Screen Size': '15.6 inches', 'Processor Brand': 'Ryzen 5', 'Processor Speed': 'I do not know.'}, {'human_0': 'Acer Aspire S7 13.3-Inch Touchscreen Ultrabook (Intel Core i5-4200U Processor up to 2.6GHz, 8GB DDR3 Memory, 256GB SSD, FHD 1080P Touchscreen Display, Backlit Keyboard, 802.11AC WiFi, Windows 8.1, 0.5 inch thin and 2.9 Lbs) Crystal White', 'system_0': 'Brand: Acer \\n Model: Aspire S7 \\n Screen Size: 13.3 inches \\n Screen Type: Touchscreen \\n Processor Brand: Intel Core i5-4200U \\n Processor Speed: 2.6GHz \\n Memory: 8GB DDR3 \\n Storage: 256GB SSD \\n Resolution: FHD 1080P \\n Keyboard: Backlit\\n Wireless Connectivity: 802.11AC WiFi \\n Operating System: Windows 8.1 \\n Color: Crystal White \\n Thickness: 0.5 inch \\n Weight: 2.9 lbs', 'input': 'Laptop HP 15s-fq5144TU i7-1255U (Core i7, 15.6 inches)', 'Screen Size': '15.6 inches', 'Processor Brand': 'Core i7', 'Processor Speed': 'I do not know.'}, {'human_0': 'Acer Aspire S7 13.3-Inch Touchscreen Ultrabook (Intel Core i5-4200U Processor up to 2.6GHz, 8GB DDR3 Memory, 256GB SSD, FHD 1080P Touchscreen Display, Backlit Keyboard, 802.11AC WiFi, Windows 8.1, 0.5 inch thin and 2.9 Lbs) Crystal White', 'system_0': 'Brand: Acer \\n Model: Aspire S7 \\n Screen Size: 13.3 inches \\n Screen Type: Touchscreen \\n Processor Brand: Intel Core i5-4200U \\n Processor Speed: 2.6GHz \\n Memory: 8GB DDR3 \\n Storage: 256GB SSD \\n Resolution: FHD 1080P \\n Keyboard: Backlit\\n Wireless Connectivity: 802.11AC WiFi \\n Operating System: Windows 8.1 \\n Color: Crystal White \\n Thickness: 0.5 inch \\n Weight: 2.9 lbs', 'input': 'Asus Vivobook M3504YA-L1268W R5 7530U (Ryzen 5, 15.6 inches)', 'Screen Size': '15.6 inches', 'Processor Brand': 'Ryzen 5', 'Processor Speed': 'I do not know.'}, {'human_0': 'Acer Aspire S7 13.3-Inch Touchscreen Ultrabook (Intel Core i5-4200U Processor up to 2.6GHz, 8GB DDR3 Memory, 256GB SSD, FHD 1080P Touchscreen Display, Backlit Keyboard, 802.11AC WiFi, Windows 8.1, 0.5 inch thin and 2.9 Lbs) Crystal White', 'system_0': 'Brand: Acer \\n Model: Aspire S7 \\n Screen Size: 13.3 inches \\n Screen Type: Touchscreen \\n Processor Brand: Intel Core i5-4200U \\n Processor Speed: 2.6GHz \\n Memory: 8GB DDR3 \\n Storage: 256GB SSD \\n Resolution: FHD 1080P \\n Keyboard: Backlit\\n Wireless Connectivity: 802.11AC WiFi \\n Operating System: Windows 8.1 \\n Color: Crystal White \\n Thickness: 0.5 inch \\n Weight: 2.9 lbs', 'input': 'HP 14s-em0078AU R5 7520U (80R28PA) (Ryzen 5, 14 inches)', 'Screen Size': '14 inches', 'Processor Brand': 'Ryzen 5', 'Processor Speed': 'I do not know.'}, {'human_0': 'Acer Aspire S7 13.3-Inch Touchscreen Ultrabook (Intel Core i5-4200U Processor up to 2.6GHz, 8GB DDR3 Memory, 256GB SSD, FHD 1080P Touchscreen Display, Backlit Keyboard, 802.11AC WiFi, Windows 8.1, 0.5 inch thin and 2.9 Lbs) Crystal White', 'system_0': 'Brand: Acer \\n Model: Aspire S7 \\n Screen Size: 13.3 inches \\n Screen Type: Touchscreen \\n Processor Brand: Intel Core i5-4200U \\n Processor Speed: 2.6GHz \\n Memory: 8GB DDR3 \\n Storage: 256GB SSD \\n Resolution: FHD 1080P \\n Keyboard: Backlit\\n Wireless Connectivity: 802.11AC WiFi \\n Operating System: Windows 8.1 \\n Color: Crystal White \\n Thickness: 0.5 inch \\n Weight: 2.9 lbs', 'input': 'Huawei MateBook D15 R7 5700U (Ryzen 7, 15.6 inches)', 'Screen Size': '15.6 inches', 'Processor Brand': 'Ryzen 7', 'Processor Speed': 'I do not know.'}, {'human_0': 'Acer Aspire S7 13.3-Inch Touchscreen Ultrabook (Intel Core i5-4200U Processor up to 2.6GHz, 8GB DDR3 Memory, 256GB SSD, FHD 1080P Touchscreen Display, Backlit Keyboard, 802.11AC WiFi, Windows 8.1, 0.5 inch thin and 2.9 Lbs) Crystal White', 'system_0': 'Brand: Acer \\n Model: Aspire S7 \\n Screen Size: 13.3 inches \\n Screen Type: Touchscreen \\n Processor Brand: Intel Core i5-4200U \\n Processor Speed: 2.6GHz \\n Memory: 8GB DDR3 \\n Storage: 256GB SSD \\n Resolution: FHD 1080P \\n Keyboard: Backlit\\n Wireless Connectivity: 802.11AC WiFi \\n Operating System: Windows 8.1 \\n Color: Crystal White \\n Thickness: 0.5 inch \\n Weight: 2.9 lbs', 'input': 'Asus Vivobook Flip TN3402YA-LZ188W R5 7530U (Ryzen 5, 14.0 inches)', 'Screen Size': '14.0 inches', 'Processor Brand': 'Ryzen 5', 'Processor Speed': 'I do not know.'}, {'human_0': 'Acer Aspire S7 13.3-Inch Touchscreen Ultrabook (Intel Core i5-4200U Processor up to 2.6GHz, 8GB DDR3 Memory, 256GB SSD, FHD 1080P Touchscreen Display, Backlit Keyboard, 802.11AC WiFi, Windows 8.1, 0.5 inch thin and 2.9 Lbs) Crystal White', 'system_0': 'Brand: Acer \\n Model: Aspire S7 \\n Screen Size: 13.3 inches \\n Screen Type: Touchscreen \\n Processor Brand: Intel Core i5-4200U \\n Processor Speed: 2.6GHz \\n Memory: 8GB DDR3 \\n Storage: 256GB SSD \\n Resolution: FHD 1080P \\n Keyboard: Backlit\\n Wireless Connectivity: 802.11AC WiFi \\n Operating System: Windows 8.1 \\n Color: Crystal White \\n Thickness: 0.5 inch \\n Weight: 2.9 lbs', 'input': 'HP Pavilion 14-dv2071TU i7 1255U (7C0W0PA) (Core i7, 14 inches)', 'Screen Size': '14 inches', 'Processor Brand': 'Core i7', 'Processor Speed': 'I do not know.'}, {'human_0': 'Acer Aspire S7 13.3-Inch Touchscreen Ultrabook (Intel Core i5-4200U Processor up to 2.6GHz, 8GB DDR3 Memory, 256GB SSD, FHD 1080P Touchscreen Display, Backlit Keyboard, 802.11AC WiFi, Windows 8.1, 0.5 inch thin and 2.9 Lbs) Crystal White', 'system_0': 'Brand: Acer \\n Model: Aspire S7 \\n Screen Size: 13.3 inches \\n Screen Type: Touchscreen \\n Processor Brand: Intel Core i5-4200U \\n Processor Speed: 2.6GHz \\n Memory: 8GB DDR3 \\n Storage: 256GB SSD \\n Resolution: FHD 1080P \\n Keyboard: Backlit\\n Wireless Connectivity: 802.11AC WiFi \\n Operating System: Windows 8.1 \\n Color: Crystal White \\n Thickness: 0.5 inch \\n Weight: 2.9 lbs', 'input': 'MSI Gaming GF63 Thin 11UC-1228VN i7 11800H (Core i7, 15,6 inches)', 'Screen Size': '15,6 inches', 'Processor Brand': 'Core i7', 'Processor Speed': 'I do not know.'}, {'human_0': 'Acer Aspire S7 13.3-Inch Touchscreen Ultrabook (Intel Core i5-4200U Processor up to 2.6GHz, 8GB DDR3 Memory, 256GB SSD, FHD 1080P Touchscreen Display, Backlit Keyboard, 802.11AC WiFi, Windows 8.1, 0.5 inch thin and 2.9 Lbs) Crystal White', 'system_0': 'Brand: Acer \\n Model: Aspire S7 \\n Screen Size: 13.3 inches \\n Screen Type: Touchscreen \\n Processor Brand: Intel Core i5-4200U \\n Processor Speed: 2.6GHz \\n Memory: 8GB DDR3 \\n Storage: 256GB SSD \\n Resolution: FHD 1080P \\n Keyboard: Backlit\\n Wireless Connectivity: 802.11AC WiFi \\n Operating System: Windows 8.1 \\n Color: Crystal White \\n Thickness: 0.5 inch \\n Weight: 2.9 lbs', 'input': 'HP Pavilion 14-dv2075TU i5 1235U (7C0W2PA) (Core i5, 14.0 inches)', 'Screen Size': '14.0 inches', 'Processor Brand': 'Core i5', 'Processor Speed': 'I do not know.'}, {'human_0': 'Acer Aspire S7 13.3-Inch Touchscreen Ultrabook (Intel Core i5-4200U Processor up to 2.6GHz, 8GB DDR3 Memory, 256GB SSD, FHD 1080P Touchscreen Display, Backlit Keyboard, 802.11AC WiFi, Windows 8.1, 0.5 inch thin and 2.9 Lbs) Crystal White', 'system_0': 'Brand: Acer \\n Model: Aspire S7 \\n Screen Size: 13.3 inches \\n Screen Type: Touchscreen \\n Processor Brand: Intel Core i5-4200U \\n Processor Speed: 2.6GHz \\n Memory: 8GB DDR3 \\n Storage: 256GB SSD \\n Resolution: FHD 1080P \\n Keyboard: Backlit\\n Wireless Connectivity: 802.11AC WiFi \\n Operating System: Windows 8.1 \\n Color: Crystal White \\n Thickness: 0.5 inch \\n Weight: 2.9 lbs', 'input': 'Dell Vostro V3520 i5 1235U_71030559 (Core i5, 156 inches)', 'Screen Size': '156 inches', 'Processor Brand': 'Core i5', 'Processor Speed': 'I do not know.'}, {'human_0': 'Acer Aspire S7 13.3-Inch Touchscreen Ultrabook (Intel Core i5-4200U Processor up to 2.6GHz, 8GB DDR3 Memory, 256GB SSD, FHD 1080P Touchscreen Display, Backlit Keyboard, 802.11AC WiFi, Windows 8.1, 0.5 inch thin and 2.9 Lbs) Crystal White', 'system_0': 'Brand: Acer \\n Model: Aspire S7 \\n Screen Size: 13.3 inches \\n Screen Type: Touchscreen \\n Processor Brand: Intel Core i5-4200U \\n Processor Speed: 2.6GHz \\n Memory: 8GB DDR3 \\n Storage: 256GB SSD \\n Resolution: FHD 1080P \\n Keyboard: Backlit\\n Wireless Connectivity: 802.11AC WiFi \\n Operating System: Windows 8.1 \\n Color: Crystal White \\n Thickness: 0.5 inch \\n Weight: 2.9 lbs', 'input': 'Asus Vivobook 16 X1605ZA-MB193W i3 1215U (Core i3, 16.0 inches)', 'Screen Size': '16.0 inches', 'Processor Brand': 'Core i3', 'Processor Speed': 'I do not know.'}, {'human_0': 'Acer Aspire S7 13.3-Inch Touchscreen Ultrabook (Intel Core i5-4200U Processor up to 2.6GHz, 8GB DDR3 Memory, 256GB SSD, FHD 1080P Touchscreen Display, Backlit Keyboard, 802.11AC WiFi, Windows 8.1, 0.5 inch thin and 2.9 Lbs) Crystal White', 'system_0': 'Brand: Acer \\n Model: Aspire S7 \\n Screen Size: 13.3 inches \\n Screen Type: Touchscreen \\n Processor Brand: Intel Core i5-4200U \\n Processor Speed: 2.6GHz \\n Memory: 8GB DDR3 \\n Storage: 256GB SSD \\n Resolution: FHD 1080P \\n Keyboard: Backlit\\n Wireless Connectivity: 802.11AC WiFi \\n Operating System: Windows 8.1 \\n Color: Crystal White \\n Thickness: 0.5 inch \\n Weight: 2.9 lbs', 'input': 'Acer Aspire 3 A315-510P-34XZ i3 N305 (Core i3, 15.6 inches)', 'Screen Size': '15.6 inches', 'Processor Brand': 'Core i3', 'Processor Speed': 'I do not know.'}, {'human_0': 'Acer Aspire S7 13.3-Inch Touchscreen Ultrabook (Intel Core i5-4200U Processor up to 2.6GHz, 8GB DDR3 Memory, 256GB SSD, FHD 1080P Touchscreen Display, Backlit Keyboard, 802.11AC WiFi, Windows 8.1, 0.5 inch thin and 2.9 Lbs) Crystal White', 'system_0': 'Brand: Acer \\n Model: Aspire S7 \\n Screen Size: 13.3 inches \\n Screen Type: Touchscreen \\n Processor Brand: Intel Core i5-4200U \\n Processor Speed: 2.6GHz \\n Memory: 8GB DDR3 \\n Storage: 256GB SSD \\n Resolution: FHD 1080P \\n Keyboard: Backlit\\n Wireless Connectivity: 802.11AC WiFi \\n Operating System: Windows 8.1 \\n Color: Crystal White \\n Thickness: 0.5 inch \\n Weight: 2.9 lbs', 'input': 'Asus Vivobook A1405VA-KM257W i5 13500H (Core i5, 14 inches)', 'Screen Size': '14 inches', 'Processor Brand': 'Core i5', 'Processor Speed': 'I do not know.'}, {'human_0': 'Acer Aspire S7 13.3-Inch Touchscreen Ultrabook (Intel Core i5-4200U Processor up to 2.6GHz, 8GB DDR3 Memory, 256GB SSD, FHD 1080P Touchscreen Display, Backlit Keyboard, 802.11AC WiFi, Windows 8.1, 0.5 inch thin and 2.9 Lbs) Crystal White', 'system_0': 'Brand: Acer \\n Model: Aspire S7 \\n Screen Size: 13.3 inches \\n Screen Type: Touchscreen \\n Processor Brand: Intel Core i5-4200U \\n Processor Speed: 2.6GHz \\n Memory: 8GB DDR3 \\n Storage: 256GB SSD \\n Resolution: FHD 1080P \\n Keyboard: Backlit\\n Wireless Connectivity: 802.11AC WiFi \\n Operating System: Windows 8.1 \\n Color: Crystal White \\n Thickness: 0.5 inch \\n Weight: 2.9 lbs', 'input': 'Dell Inspiron 15 N3530 i7 1355U (N3530I716W1) (Core i7, 15.6 inches)', 'Screen Size': '15.6 inches', 'Processor Brand': 'Core i7', 'Processor Speed': 'I do not know.'}, {'human_0': 'Acer Aspire S7 13.3-Inch Touchscreen Ultrabook (Intel Core i5-4200U Processor up to 2.6GHz, 8GB DDR3 Memory, 256GB SSD, FHD 1080P Touchscreen Display, Backlit Keyboard, 802.11AC WiFi, Windows 8.1, 0.5 inch thin and 2.9 Lbs) Crystal White', 'system_0': 'Brand: Acer \\n Model: Aspire S7 \\n Screen Size: 13.3 inches \\n Screen Type: Touchscreen \\n Processor Brand: Intel Core i5-4200U \\n Processor Speed: 2.6GHz \\n Memory: 8GB DDR3 \\n Storage: 256GB SSD \\n Resolution: FHD 1080P \\n Keyboard: Backlit\\n Wireless Connectivity: 802.11AC WiFi \\n Operating System: Windows 8.1 \\n Color: Crystal White \\n Thickness: 0.5 inch \\n Weight: 2.9 lbs', 'input': 'MSI Gaming GF63 12UCX-841VN i5 12450H (Core i5, 15.6 inches)', 'Screen Size': '15.6 inches', 'Processor Brand': 'Core i5', 'Processor Speed': 'I do not know.'}, {'human_0': 'Acer Aspire S7 13.3-Inch Touchscreen Ultrabook (Intel Core i5-4200U Processor up to 2.6GHz, 8GB DDR3 Memory, 256GB SSD, FHD 1080P Touchscreen Display, Backlit Keyboard, 802.11AC WiFi, Windows 8.1, 0.5 inch thin and 2.9 Lbs) Crystal White', 'system_0': 'Brand: Acer \\n Model: Aspire S7 \\n Screen Size: 13.3 inches \\n Screen Type: Touchscreen \\n Processor Brand: Intel Core i5-4200U \\n Processor Speed: 2.6GHz \\n Memory: 8GB DDR3 \\n Storage: 256GB SSD \\n Resolution: FHD 1080P \\n Keyboard: Backlit\\n Wireless Connectivity: 802.11AC WiFi \\n Operating System: Windows 8.1 \\n Color: Crystal White \\n Thickness: 0.5 inch \\n Weight: 2.9 lbs', 'input': 'Acer Aspire 7 Gaming A715-76G-5806 i5 12450H (NH.QMFSV.002) (Core i5, 15.6 inches)', 'Screen Size': '15.6 inches', 'Processor Brand': 'Core i5', 'Processor Speed': 'I do not know.'}, {'human_0': 'Acer Aspire S7 13.3-Inch Touchscreen Ultrabook (Intel Core i5-4200U Processor up to 2.6GHz, 8GB DDR3 Memory, 256GB SSD, FHD 1080P Touchscreen Display, Backlit Keyboard, 802.11AC WiFi, Windows 8.1, 0.5 inch thin and 2.9 Lbs) Crystal White', 'system_0': 'Brand: Acer \\n Model: Aspire S7 \\n Screen Size: 13.3 inches \\n Screen Type: Touchscreen \\n Processor Brand: Intel Core i5-4200U \\n Processor Speed: 2.6GHz \\n Memory: 8GB DDR3 \\n Storage: 256GB SSD \\n Resolution: FHD 1080P \\n Keyboard: Backlit\\n Wireless Connectivity: 802.11AC WiFi \\n Operating System: Windows 8.1 \\n Color: Crystal White \\n Thickness: 0.5 inch \\n Weight: 2.9 lbs', 'input': 'Laptop Acer Aspire Lite AL15-51M-55NB i5-1155G7 (Core i5, 15.6 inches)', 'Screen Size': '15.6 inches', 'Processor Brand': 'Core i5', 'Processor Speed': 'I do not know.'}, {'human_0': 'Acer Aspire S7 13.3-Inch Touchscreen Ultrabook (Intel Core i5-4200U Processor up to 2.6GHz, 8GB DDR3 Memory, 256GB SSD, FHD 1080P Touchscreen Display, Backlit Keyboard, 802.11AC WiFi, Windows 8.1, 0.5 inch thin and 2.9 Lbs) Crystal White', 'system_0': 'Brand: Acer \\n Model: Aspire S7 \\n Screen Size: 13.3 inches \\n Screen Type: Touchscreen \\n Processor Brand: Intel Core i5-4200U \\n Processor Speed: 2.6GHz \\n Memory: 8GB DDR3 \\n Storage: 256GB SSD \\n Resolution: FHD 1080P \\n Keyboard: Backlit\\n Wireless Connectivity: 802.11AC WiFi \\n Operating System: Windows 8.1 \\n Color: Crystal White \\n Thickness: 0.5 inch \\n Weight: 2.9 lbs', 'input': 'Gigabyte Gaming G5 MF-F2VN313SH i5 12450H (Core i5, 15.6 inches)', 'Screen Size': '15.6 inches', 'Processor Brand': 'Core i5', 'Processor Speed': 'I do not know.'}, {'human_0': 'Acer Aspire S7 13.3-Inch Touchscreen Ultrabook (Intel Core i5-4200U Processor up to 2.6GHz, 8GB DDR3 Memory, 256GB SSD, FHD 1080P Touchscreen Display, Backlit Keyboard, 802.11AC WiFi, Windows 8.1, 0.5 inch thin and 2.9 Lbs) Crystal White', 'system_0': 'Brand: Acer \\n Model: Aspire S7 \\n Screen Size: 13.3 inches \\n Screen Type: Touchscreen \\n Processor Brand: Intel Core i5-4200U \\n Processor Speed: 2.6GHz \\n Memory: 8GB DDR3 \\n Storage: 256GB SSD \\n Resolution: FHD 1080P \\n Keyboard: Backlit\\n Wireless Connectivity: 802.11AC WiFi \\n Operating System: Windows 8.1 \\n Color: Crystal White \\n Thickness: 0.5 inch \\n Weight: 2.9 lbs', 'input': 'Asus Vivobook A1405VA-KM059W i5 13500H (Core i5, 14 inches)', 'Screen Size': '14 inches', 'Processor Brand': 'Core i5', 'Processor Speed': 'I do not know.'}, {'human_0': 'Acer Aspire S7 13.3-Inch Touchscreen Ultrabook (Intel Core i5-4200U Processor up to 2.6GHz, 8GB DDR3 Memory, 256GB SSD, FHD 1080P Touchscreen Display, Backlit Keyboard, 802.11AC WiFi, Windows 8.1, 0.5 inch thin and 2.9 Lbs) Crystal White', 'system_0': 'Brand: Acer \\n Model: Aspire S7 \\n Screen Size: 13.3 inches \\n Screen Type: Touchscreen \\n Processor Brand: Intel Core i5-4200U \\n Processor Speed: 2.6GHz \\n Memory: 8GB DDR3 \\n Storage: 256GB SSD \\n Resolution: FHD 1080P \\n Keyboard: Backlit\\n Wireless Connectivity: 802.11AC WiFi \\n Operating System: Windows 8.1 \\n Color: Crystal White \\n Thickness: 0.5 inch \\n Weight: 2.9 lbs', 'input': 'Asus TUF Gaming FA507NU-LP045W R7 7735HS (Ryzen 7, 15.6 inches)', 'Screen Size': '15.6 inches', 'Processor Brand': 'Ryzen 7', 'Processor Speed': 'I do not know.'}, {'human_0': 'Acer Aspire S7 13.3-Inch Touchscreen Ultrabook (Intel Core i5-4200U Processor up to 2.6GHz, 8GB DDR3 Memory, 256GB SSD, FHD 1080P Touchscreen Display, Backlit Keyboard, 802.11AC WiFi, Windows 8.1, 0.5 inch thin and 2.9 Lbs) Crystal White', 'system_0': 'Brand: Acer \\n Model: Aspire S7 \\n Screen Size: 13.3 inches \\n Screen Type: Touchscreen \\n Processor Brand: Intel Core i5-4200U \\n Processor Speed: 2.6GHz \\n Memory: 8GB DDR3 \\n Storage: 256GB SSD \\n Resolution: FHD 1080P \\n Keyboard: Backlit\\n Wireless Connectivity: 802.11AC WiFi \\n Operating System: Windows 8.1 \\n Color: Crystal White \\n Thickness: 0.5 inch \\n Weight: 2.9 lbs', 'input': 'Asus Vivobook Pro K3405VC-KM070W i9 13900H (Core i9, 14.0 inches)', 'Screen Size': '14.0 inches', 'Processor Brand': 'Core i9', 'Processor Speed': 'I do not know.'}, {'human_0': 'Acer Aspire S7 13.3-Inch Touchscreen Ultrabook (Intel Core i5-4200U Processor up to 2.6GHz, 8GB DDR3 Memory, 256GB SSD, FHD 1080P Touchscreen Display, Backlit Keyboard, 802.11AC WiFi, Windows 8.1, 0.5 inch thin and 2.9 Lbs) Crystal White', 'system_0': 'Brand: Acer \\n Model: Aspire S7 \\n Screen Size: 13.3 inches \\n Screen Type: Touchscreen \\n Processor Brand: Intel Core i5-4200U \\n Processor Speed: 2.6GHz \\n Memory: 8GB DDR3 \\n Storage: 256GB SSD \\n Resolution: FHD 1080P \\n Keyboard: Backlit\\n Wireless Connectivity: 802.11AC WiFi \\n Operating System: Windows 8.1 \\n Color: Crystal White \\n Thickness: 0.5 inch \\n Weight: 2.9 lbs', 'input': 'Lenovo IdeaPad Slim 5 Light 14ABR8 R5 7530U (82XS0006VN) (Ryzen 5, 14 inches)', 'Screen Size': '14 inches', 'Processor Brand': 'Ryzen 5', 'Processor Speed': 'I do not know.'}, {'human_0': 'Acer Aspire S7 13.3-Inch Touchscreen Ultrabook (Intel Core i5-4200U Processor up to 2.6GHz, 8GB DDR3 Memory, 256GB SSD, FHD 1080P Touchscreen Display, Backlit Keyboard, 802.11AC WiFi, Windows 8.1, 0.5 inch thin and 2.9 Lbs) Crystal White', 'system_0': 'Brand: Acer \\n Model: Aspire S7 \\n Screen Size: 13.3 inches \\n Screen Type: Touchscreen \\n Processor Brand: Intel Core i5-4200U \\n Processor Speed: 2.6GHz \\n Memory: 8GB DDR3 \\n Storage: 256GB SSD \\n Resolution: FHD 1080P \\n Keyboard: Backlit\\n Wireless Connectivity: 802.11AC WiFi \\n Operating System: Windows 8.1 \\n Color: Crystal White \\n Thickness: 0.5 inch \\n Weight: 2.9 lbs', 'input': 'Asus TUF Gaming FX506HC-HN144W i5 11400H (Core i5, 15.6 inches)', 'Screen Size': '15.6 inches', 'Processor Brand': 'Core i5', 'Processor Speed': 'I do not know.'}, {'human_0': 'Acer Aspire S7 13.3-Inch Touchscreen Ultrabook (Intel Core i5-4200U Processor up to 2.6GHz, 8GB DDR3 Memory, 256GB SSD, FHD 1080P Touchscreen Display, Backlit Keyboard, 802.11AC WiFi, Windows 8.1, 0.5 inch thin and 2.9 Lbs) Crystal White', 'system_0': 'Brand: Acer \\n Model: Aspire S7 \\n Screen Size: 13.3 inches \\n Screen Type: Touchscreen \\n Processor Brand: Intel Core i5-4200U \\n Processor Speed: 2.6GHz \\n Memory: 8GB DDR3 \\n Storage: 256GB SSD \\n Resolution: FHD 1080P \\n Keyboard: Backlit\\n Wireless Connectivity: 802.11AC WiFi \\n Operating System: Windows 8.1 \\n Color: Crystal White \\n Thickness: 0.5 inch \\n Weight: 2.9 lbs', 'input': 'HP 15-fd0083TU i7 1355U (8D736PA) (Core i7, 15.6 inches)', 'Screen Size': '15.6 inches', 'Processor Brand': 'Core i7', 'Processor Speed': 'I do not know.'}, {'human_0': 'Acer Aspire S7 13.3-Inch Touchscreen Ultrabook (Intel Core i5-4200U Processor up to 2.6GHz, 8GB DDR3 Memory, 256GB SSD, FHD 1080P Touchscreen Display, Backlit Keyboard, 802.11AC WiFi, Windows 8.1, 0.5 inch thin and 2.9 Lbs) Crystal White', 'system_0': 'Brand: Acer \\n Model: Aspire S7 \\n Screen Size: 13.3 inches \\n Screen Type: Touchscreen \\n Processor Brand: Intel Core i5-4200U \\n Processor Speed: 2.6GHz \\n Memory: 8GB DDR3 \\n Storage: 256GB SSD \\n Resolution: FHD 1080P \\n Keyboard: Backlit\\n Wireless Connectivity: 802.11AC WiFi \\n Operating System: Windows 8.1 \\n Color: Crystal White \\n Thickness: 0.5 inch \\n Weight: 2.9 lbs', 'input': 'Lenovo IdeaPad Slim 5 16IAH8 i5 12450H (83BG001XVN) (Core i5, 16 inches)', 'Screen Size': '16 inches', 'Processor Brand': 'Core i5', 'Processor Speed': 'I do not know.'}, {'human_0': 'Acer Aspire S7 13.3-Inch Touchscreen Ultrabook (Intel Core i5-4200U Processor up to 2.6GHz, 8GB DDR3 Memory, 256GB SSD, FHD 1080P Touchscreen Display, Backlit Keyboard, 802.11AC WiFi, Windows 8.1, 0.5 inch thin and 2.9 Lbs) Crystal White', 'system_0': 'Brand: Acer \\n Model: Aspire S7 \\n Screen Size: 13.3 inches \\n Screen Type: Touchscreen \\n Processor Brand: Intel Core i5-4200U \\n Processor Speed: 2.6GHz \\n Memory: 8GB DDR3 \\n Storage: 256GB SSD \\n Resolution: FHD 1080P \\n Keyboard: Backlit\\n Wireless Connectivity: 802.11AC WiFi \\n Operating System: Windows 8.1 \\n Color: Crystal White \\n Thickness: 0.5 inch \\n Weight: 2.9 lbs', 'input': 'HP Pavilion 15-eg3112TU i7 1355U (8U6L9PA) (Core i7, 15.6 inches)', 'Screen Size': '15.6 inches', 'Processor Brand': 'Core i7', 'Processor Speed': 'I do not know.'}, {'human_0': 'Acer Aspire S7 13.3-Inch Touchscreen Ultrabook (Intel Core i5-4200U Processor up to 2.6GHz, 8GB DDR3 Memory, 256GB SSD, FHD 1080P Touchscreen Display, Backlit Keyboard, 802.11AC WiFi, Windows 8.1, 0.5 inch thin and 2.9 Lbs) Crystal White', 'system_0': 'Brand: Acer \\n Model: Aspire S7 \\n Screen Size: 13.3 inches \\n Screen Type: Touchscreen \\n Processor Brand: Intel Core i5-4200U \\n Processor Speed: 2.6GHz \\n Memory: 8GB DDR3 \\n Storage: 256GB SSD \\n Resolution: FHD 1080P \\n Keyboard: Backlit\\n Wireless Connectivity: 802.11AC WiFi \\n Operating System: Windows 8.1 \\n Color: Crystal White \\n Thickness: 0.5 inch \\n Weight: 2.9 lbs', 'input': 'Acer Gaming Aspire 5 A515-58GM-53CM i5 13420H (Core i5, 15.6 inches)', 'Screen Size': '15.6 inches', 'Processor Brand': 'Core i5', 'Processor Speed': 'I do not know.'}, {'human_0': 'Acer Aspire S7 13.3-Inch Touchscreen Ultrabook (Intel Core i5-4200U Processor up to 2.6GHz, 8GB DDR3 Memory, 256GB SSD, FHD 1080P Touchscreen Display, Backlit Keyboard, 802.11AC WiFi, Windows 8.1, 0.5 inch thin and 2.9 Lbs) Crystal White', 'system_0': 'Brand: Acer \\n Model: Aspire S7 \\n Screen Size: 13.3 inches \\n Screen Type: Touchscreen \\n Processor Brand: Intel Core i5-4200U \\n Processor Speed: 2.6GHz \\n Memory: 8GB DDR3 \\n Storage: 256GB SSD \\n Resolution: FHD 1080P \\n Keyboard: Backlit\\n Wireless Connectivity: 802.11AC WiFi \\n Operating System: Windows 8.1 \\n Color: Crystal White \\n Thickness: 0.5 inch \\n Weight: 2.9 lbs', 'input': 'Lenovo ThinkBook 14 G6 IRL i5-13500H (21KG00BXVN) (Core i5, 14 inches)', 'Screen Size': '14 inches', 'Processor Brand': 'Core i5', 'Processor Speed': 'I do not know.'}, {'human_0': 'Acer Aspire S7 13.3-Inch Touchscreen Ultrabook (Intel Core i5-4200U Processor up to 2.6GHz, 8GB DDR3 Memory, 256GB SSD, FHD 1080P Touchscreen Display, Backlit Keyboard, 802.11AC WiFi, Windows 8.1, 0.5 inch thin and 2.9 Lbs) Crystal White', 'system_0': 'Brand: Acer \\n Model: Aspire S7 \\n Screen Size: 13.3 inches \\n Screen Type: Touchscreen \\n Processor Brand: Intel Core i5-4200U \\n Processor Speed: 2.6GHz \\n Memory: 8GB DDR3 \\n Storage: 256GB SSD \\n Resolution: FHD 1080P \\n Keyboard: Backlit\\n Wireless Connectivity: 802.11AC WiFi \\n Operating System: Windows 8.1 \\n Color: Crystal White \\n Thickness: 0.5 inch \\n Weight: 2.9 lbs', 'input': 'MSI Gaming GF63 Thin 12UC-1006VN i5 12450H (Core i5, 15.6 inches)', 'Screen Size': '15.6 inches', 'Processor Brand': 'Core i5', 'Processor Speed': 'I do not know.'}, {'human_0': 'Acer Aspire S7 13.3-Inch Touchscreen Ultrabook (Intel Core i5-4200U Processor up to 2.6GHz, 8GB DDR3 Memory, 256GB SSD, FHD 1080P Touchscreen Display, Backlit Keyboard, 802.11AC WiFi, Windows 8.1, 0.5 inch thin and 2.9 Lbs) Crystal White', 'system_0': 'Brand: Acer \\n Model: Aspire S7 \\n Screen Size: 13.3 inches \\n Screen Type: Touchscreen \\n Processor Brand: Intel Core i5-4200U \\n Processor Speed: 2.6GHz \\n Memory: 8GB DDR3 \\n Storage: 256GB SSD \\n Resolution: FHD 1080P \\n Keyboard: Backlit\\n Wireless Connectivity: 802.11AC WiFi \\n Operating System: Windows 8.1 \\n Color: Crystal White \\n Thickness: 0.5 inch \\n Weight: 2.9 lbs', 'input': 'MSI Gaming Alpha 15 B5EEK-203VN R5 5600H (Ryzen 5, 15.6 inches)', 'Screen Size': '15.6 inches', 'Processor Brand': 'Ryzen 5', 'Processor Speed': 'I do not know.'}, {'human_0': 'Acer Aspire S7 13.3-Inch Touchscreen Ultrabook (Intel Core i5-4200U Processor up to 2.6GHz, 8GB DDR3 Memory, 256GB SSD, FHD 1080P Touchscreen Display, Backlit Keyboard, 802.11AC WiFi, Windows 8.1, 0.5 inch thin and 2.9 Lbs) Crystal White', 'system_0': 'Brand: Acer \\n Model: Aspire S7 \\n Screen Size: 13.3 inches \\n Screen Type: Touchscreen \\n Processor Brand: Intel Core i5-4200U \\n Processor Speed: 2.6GHz \\n Memory: 8GB DDR3 \\n Storage: 256GB SSD \\n Resolution: FHD 1080P \\n Keyboard: Backlit\\n Wireless Connectivity: 802.11AC WiFi \\n Operating System: Windows 8.1 \\n Color: Crystal White \\n Thickness: 0.5 inch \\n Weight: 2.9 lbs', 'input': 'MSI Modern 15 B12MO-628VN i5 1235U (Core i5, 15.6 inches)', 'Screen Size': '15.6 inches', 'Processor Brand': 'Core i5', 'Processor Speed': 'I do not know.'}, {'human_0': 'Acer Aspire S7 13.3-Inch Touchscreen Ultrabook (Intel Core i5-4200U Processor up to 2.6GHz, 8GB DDR3 Memory, 256GB SSD, FHD 1080P Touchscreen Display, Backlit Keyboard, 802.11AC WiFi, Windows 8.1, 0.5 inch thin and 2.9 Lbs) Crystal White', 'system_0': 'Brand: Acer \\n Model: Aspire S7 \\n Screen Size: 13.3 inches \\n Screen Type: Touchscreen \\n Processor Brand: Intel Core i5-4200U \\n Processor Speed: 2.6GHz \\n Memory: 8GB DDR3 \\n Storage: 256GB SSD \\n Resolution: FHD 1080P \\n Keyboard: Backlit\\n Wireless Connectivity: 802.11AC WiFi \\n Operating System: Windows 8.1 \\n Color: Crystal White \\n Thickness: 0.5 inch \\n Weight: 2.9 lbs', 'input': 'Máy tính xách tay MSI Summit E14Evo A12M-211VN i7-1280P/16GB/512GB/14\"FHD/Win11_Túi_Chuột_Đen (Core i7, 14.0 inches)', 'Screen Size': '14.0 inches', 'Processor Brand': 'Core i7', 'Processor Speed': 'I do not know.'}, {'human_0': 'Acer Aspire S7 13.3-Inch Touchscreen Ultrabook (Intel Core i5-4200U Processor up to 2.6GHz, 8GB DDR3 Memory, 256GB SSD, FHD 1080P Touchscreen Display, Backlit Keyboard, 802.11AC WiFi, Windows 8.1, 0.5 inch thin and 2.9 Lbs) Crystal White', 'system_0': 'Brand: Acer \\n Model: Aspire S7 \\n Screen Size: 13.3 inches \\n Screen Type: Touchscreen \\n Processor Brand: Intel Core i5-4200U \\n Processor Speed: 2.6GHz \\n Memory: 8GB DDR3 \\n Storage: 256GB SSD \\n Resolution: FHD 1080P \\n Keyboard: Backlit\\n Wireless Connectivity: 802.11AC WiFi \\n Operating System: Windows 8.1 \\n Color: Crystal White \\n Thickness: 0.5 inch \\n Weight: 2.9 lbs', 'input': 'Máy tính xách tay MSI Gaming Raider GE77HX 12UHS-229VN i9-12900HX/64G/2T/17.3UHD/RTX3080Ti_16G/Win11 (Core i9, 17.3 inches)', 'Screen Size': '17.3 inches', 'Processor Brand': 'Core i9', 'Processor Speed': 'I do not know.'}, {'human_0': 'Acer Aspire S7 13.3-Inch Touchscreen Ultrabook (Intel Core i5-4200U Processor up to 2.6GHz, 8GB DDR3 Memory, 256GB SSD, FHD 1080P Touchscreen Display, Backlit Keyboard, 802.11AC WiFi, Windows 8.1, 0.5 inch thin and 2.9 Lbs) Crystal White', 'system_0': 'Brand: Acer \\n Model: Aspire S7 \\n Screen Size: 13.3 inches \\n Screen Type: Touchscreen \\n Processor Brand: Intel Core i5-4200U \\n Processor Speed: 2.6GHz \\n Memory: 8GB DDR3 \\n Storage: 256GB SSD \\n Resolution: FHD 1080P \\n Keyboard: Backlit\\n Wireless Connectivity: 802.11AC WiFi \\n Operating System: Windows 8.1 \\n Color: Crystal White \\n Thickness: 0.5 inch \\n Weight: 2.9 lbs', 'input': 'MacBook Pro 16 2023 M2 Pro 12CPU 19GPU 16GB/1TB (M2 Pro, 16.2 inches)', 'Screen Size': '16.2 inches', 'Processor Brand': 'M2 Pro', 'Processor Speed': 'I do not know.'}, {'human_0': 'Acer Aspire S7 13.3-Inch Touchscreen Ultrabook (Intel Core i5-4200U Processor up to 2.6GHz, 8GB DDR3 Memory, 256GB SSD, FHD 1080P Touchscreen Display, Backlit Keyboard, 802.11AC WiFi, Windows 8.1, 0.5 inch thin and 2.9 Lbs) Crystal White', 'system_0': 'Brand: Acer \\n Model: Aspire S7 \\n Screen Size: 13.3 inches \\n Screen Type: Touchscreen \\n Processor Brand: Intel Core i5-4200U \\n Processor Speed: 2.6GHz \\n Memory: 8GB DDR3 \\n Storage: 256GB SSD \\n Resolution: FHD 1080P \\n Keyboard: Backlit\\n Wireless Connectivity: 802.11AC WiFi \\n Operating System: Windows 8.1 \\n Color: Crystal White \\n Thickness: 0.5 inch \\n Weight: 2.9 lbs', 'input': 'MacBook Pro 14 2023 M3 Pro 12 CPU/18 GPU/18GB/1TB (M3 Pro, 14.2 inches)', 'Screen Size': '14.2 inches', 'Processor Brand': 'M3 Pro', 'Processor Speed': 'I do not know.'}, {'human_0': 'Acer Aspire S7 13.3-Inch Touchscreen Ultrabook (Intel Core i5-4200U Processor up to 2.6GHz, 8GB DDR3 Memory, 256GB SSD, FHD 1080P Touchscreen Display, Backlit Keyboard, 802.11AC WiFi, Windows 8.1, 0.5 inch thin and 2.9 Lbs) Crystal White', 'system_0': 'Brand: Acer \\n Model: Aspire S7 \\n Screen Size: 13.3 inches \\n Screen Type: Touchscreen \\n Processor Brand: Intel Core i5-4200U \\n Processor Speed: 2.6GHz \\n Memory: 8GB DDR3 \\n Storage: 256GB SSD \\n Resolution: FHD 1080P \\n Keyboard: Backlit\\n Wireless Connectivity: 802.11AC WiFi \\n Operating System: Windows 8.1 \\n Color: Crystal White \\n Thickness: 0.5 inch \\n Weight: 2.9 lbs', 'input': 'MacBook Pro 14 2023 M3 Pro 11 CPU/14 GPU/18GB/512GB (M3 Pro, 14.2 inches)', 'Screen Size': '14.2 inches', 'Processor Brand': 'M3 Pro', 'Processor Speed': 'I do not know.'}, {'human_0': 'Acer Aspire S7 13.3-Inch Touchscreen Ultrabook (Intel Core i5-4200U Processor up to 2.6GHz, 8GB DDR3 Memory, 256GB SSD, FHD 1080P Touchscreen Display, Backlit Keyboard, 802.11AC WiFi, Windows 8.1, 0.5 inch thin and 2.9 Lbs) Crystal White', 'system_0': 'Brand: Acer \\n Model: Aspire S7 \\n Screen Size: 13.3 inches \\n Screen Type: Touchscreen \\n Processor Brand: Intel Core i5-4200U \\n Processor Speed: 2.6GHz \\n Memory: 8GB DDR3 \\n Storage: 256GB SSD \\n Resolution: FHD 1080P \\n Keyboard: Backlit\\n Wireless Connectivity: 802.11AC WiFi \\n Operating System: Windows 8.1 \\n Color: Crystal White \\n Thickness: 0.5 inch \\n Weight: 2.9 lbs', 'input': 'Lenovo ThinkPad X1 Carbon Gen 9 i7-1165G7/20XW00GDVN (Core i7, 14.0 inches)', 'Screen Size': '14.0 inches', 'Processor Brand': 'Core i7', 'Processor Speed': 'I do not know.'}, {'human_0': 'Acer Aspire S7 13.3-Inch Touchscreen Ultrabook (Intel Core i5-4200U Processor up to 2.6GHz, 8GB DDR3 Memory, 256GB SSD, FHD 1080P Touchscreen Display, Backlit Keyboard, 802.11AC WiFi, Windows 8.1, 0.5 inch thin and 2.9 Lbs) Crystal White', 'system_0': 'Brand: Acer \\n Model: Aspire S7 \\n Screen Size: 13.3 inches \\n Screen Type: Touchscreen \\n Processor Brand: Intel Core i5-4200U \\n Processor Speed: 2.6GHz \\n Memory: 8GB DDR3 \\n Storage: 256GB SSD \\n Resolution: FHD 1080P \\n Keyboard: Backlit\\n Wireless Connectivity: 802.11AC WiFi \\n Operating System: Windows 8.1 \\n Color: Crystal White \\n Thickness: 0.5 inch \\n Weight: 2.9 lbs', 'input': 'LG Gram 16Z90R-G.AH76A5 i7-1360P (Core i7, 16.0 inches)', 'Screen Size': '16.0 inches', 'Processor Brand': 'Core i7', 'Processor Speed': 'I do not know.'}, {'human_0': 'Acer Aspire S7 13.3-Inch Touchscreen Ultrabook (Intel Core i5-4200U Processor up to 2.6GHz, 8GB DDR3 Memory, 256GB SSD, FHD 1080P Touchscreen Display, Backlit Keyboard, 802.11AC WiFi, Windows 8.1, 0.5 inch thin and 2.9 Lbs) Crystal White', 'system_0': 'Brand: Acer \\n Model: Aspire S7 \\n Screen Size: 13.3 inches \\n Screen Type: Touchscreen \\n Processor Brand: Intel Core i5-4200U \\n Processor Speed: 2.6GHz \\n Memory: 8GB DDR3 \\n Storage: 256GB SSD \\n Resolution: FHD 1080P \\n Keyboard: Backlit\\n Wireless Connectivity: 802.11AC WiFi \\n Operating System: Windows 8.1 \\n Color: Crystal White \\n Thickness: 0.5 inch \\n Weight: 2.9 lbs', 'input': 'MacBook Pro 14 2023 M3 8 CPU/10 GPU/8GB/512GB (M3, 14.2 inches)', 'Screen Size': '14.2 inches', 'Processor Brand': 'M3', 'Processor Speed': 'I do not know.'}, {'human_0': 'Acer Aspire S7 13.3-Inch Touchscreen Ultrabook (Intel Core i5-4200U Processor up to 2.6GHz, 8GB DDR3 Memory, 256GB SSD, FHD 1080P Touchscreen Display, Backlit Keyboard, 802.11AC WiFi, Windows 8.1, 0.5 inch thin and 2.9 Lbs) Crystal White', 'system_0': 'Brand: Acer \\n Model: Aspire S7 \\n Screen Size: 13.3 inches \\n Screen Type: Touchscreen \\n Processor Brand: Intel Core i5-4200U \\n Processor Speed: 2.6GHz \\n Memory: 8GB DDR3 \\n Storage: 256GB SSD \\n Resolution: FHD 1080P \\n Keyboard: Backlit\\n Wireless Connectivity: 802.11AC WiFi \\n Operating System: Windows 8.1 \\n Color: Crystal White \\n Thickness: 0.5 inch \\n Weight: 2.9 lbs', 'input': 'Máy tính xách tay MSI Gaming Katana 15 B13VGK-1211VN i7-13620H/16G/1T/15.6\"FHD/RTX4070_8G/Win11_Balo (Core i7, 15.6 inches)', 'Screen Size': '15.6 inches', 'Processor Brand': 'Core i7', 'Processor Speed': 'I do not know.'}, {'human_0': 'Acer Aspire S7 13.3-Inch Touchscreen Ultrabook (Intel Core i5-4200U Processor up to 2.6GHz, 8GB DDR3 Memory, 256GB SSD, FHD 1080P Touchscreen Display, Backlit Keyboard, 802.11AC WiFi, Windows 8.1, 0.5 inch thin and 2.9 Lbs) Crystal White', 'system_0': 'Brand: Acer \\n Model: Aspire S7 \\n Screen Size: 13.3 inches \\n Screen Type: Touchscreen \\n Processor Brand: Intel Core i5-4200U \\n Processor Speed: 2.6GHz \\n Memory: 8GB DDR3 \\n Storage: 256GB SSD \\n Resolution: FHD 1080P \\n Keyboard: Backlit\\n Wireless Connectivity: 802.11AC WiFi \\n Operating System: Windows 8.1 \\n Color: Crystal White \\n Thickness: 0.5 inch \\n Weight: 2.9 lbs', 'input': 'MSI Creator M16 B13VE-830VN i7 13700H (Core i7, 16.0 inches)', 'Screen Size': '16.0 inches', 'Processor Brand': 'Core i7', 'Processor Speed': 'I do not know.'}, {'human_0': 'Acer Aspire S7 13.3-Inch Touchscreen Ultrabook (Intel Core i5-4200U Processor up to 2.6GHz, 8GB DDR3 Memory, 256GB SSD, FHD 1080P Touchscreen Display, Backlit Keyboard, 802.11AC WiFi, Windows 8.1, 0.5 inch thin and 2.9 Lbs) Crystal White', 'system_0': 'Brand: Acer \\n Model: Aspire S7 \\n Screen Size: 13.3 inches \\n Screen Type: Touchscreen \\n Processor Brand: Intel Core i5-4200U \\n Processor Speed: 2.6GHz \\n Memory: 8GB DDR3 \\n Storage: 256GB SSD \\n Resolution: FHD 1080P \\n Keyboard: Backlit\\n Wireless Connectivity: 802.11AC WiFi \\n Operating System: Windows 8.1 \\n Color: Crystal White \\n Thickness: 0.5 inch \\n Weight: 2.9 lbs', 'input': 'Acer Swift Edge SFA16-41-R3L6 R7 6800U (NX.KABSV.002) (Ryzen 7, 16.0 inches)', 'Screen Size': '16.0 inches', 'Processor Brand': 'Ryzen 7', 'Processor Speed': 'I do not know.'}, {'human_0': 'Acer Aspire S7 13.3-Inch Touchscreen Ultrabook (Intel Core i5-4200U Processor up to 2.6GHz, 8GB DDR3 Memory, 256GB SSD, FHD 1080P Touchscreen Display, Backlit Keyboard, 802.11AC WiFi, Windows 8.1, 0.5 inch thin and 2.9 Lbs) Crystal White', 'system_0': 'Brand: Acer \\n Model: Aspire S7 \\n Screen Size: 13.3 inches \\n Screen Type: Touchscreen \\n Processor Brand: Intel Core i5-4200U \\n Processor Speed: 2.6GHz \\n Memory: 8GB DDR3 \\n Storage: 256GB SSD \\n Resolution: FHD 1080P \\n Keyboard: Backlit\\n Wireless Connectivity: 802.11AC WiFi \\n Operating System: Windows 8.1 \\n Color: Crystal White \\n Thickness: 0.5 inch \\n Weight: 2.9 lbs', 'input': 'Asus Zenbook 14 OLED UX3405MA-PP152W Core Ultra 7-155H (Core Ultra 7, 14 inches)', 'Screen Size': '14 inches', 'Processor Brand': 'Core Ultra 7', 'Processor Speed': 'I do not know.'}, {'human_0': 'Acer Aspire S7 13.3-Inch Touchscreen Ultrabook (Intel Core i5-4200U Processor up to 2.6GHz, 8GB DDR3 Memory, 256GB SSD, FHD 1080P Touchscreen Display, Backlit Keyboard, 802.11AC WiFi, Windows 8.1, 0.5 inch thin and 2.9 Lbs) Crystal White', 'system_0': 'Brand: Acer \\n Model: Aspire S7 \\n Screen Size: 13.3 inches \\n Screen Type: Touchscreen \\n Processor Brand: Intel Core i5-4200U \\n Processor Speed: 2.6GHz \\n Memory: 8GB DDR3 \\n Storage: 256GB SSD \\n Resolution: FHD 1080P \\n Keyboard: Backlit\\n Wireless Connectivity: 802.11AC WiFi \\n Operating System: Windows 8.1 \\n Color: Crystal White \\n Thickness: 0.5 inch \\n Weight: 2.9 lbs', 'input': 'Laptop Asus TUF Gaming FX507VV-LP181W i7-13620H (Core i7, 15.6 inches)', 'Screen Size': '15.6 inches', 'Processor Brand': 'Core i7', 'Processor Speed': 'I do not know.'}, {'human_0': 'Acer Aspire S7 13.3-Inch Touchscreen Ultrabook (Intel Core i5-4200U Processor up to 2.6GHz, 8GB DDR3 Memory, 256GB SSD, FHD 1080P Touchscreen Display, Backlit Keyboard, 802.11AC WiFi, Windows 8.1, 0.5 inch thin and 2.9 Lbs) Crystal White', 'system_0': 'Brand: Acer \\n Model: Aspire S7 \\n Screen Size: 13.3 inches \\n Screen Type: Touchscreen \\n Processor Brand: Intel Core i5-4200U \\n Processor Speed: 2.6GHz \\n Memory: 8GB DDR3 \\n Storage: 256GB SSD \\n Resolution: FHD 1080P \\n Keyboard: Backlit\\n Wireless Connectivity: 802.11AC WiFi \\n Operating System: Windows 8.1 \\n Color: Crystal White \\n Thickness: 0.5 inch \\n Weight: 2.9 lbs', 'input': 'LG Gram 14Z90R-G.AH75A5 i7 1360P (Core i7, 14 inches)', 'Screen Size': '14 inches', 'Processor Brand': 'Core i7', 'Processor Speed': 'I do not know.'}, {'human_0': 'Acer Aspire S7 13.3-Inch Touchscreen Ultrabook (Intel Core i5-4200U Processor up to 2.6GHz, 8GB DDR3 Memory, 256GB SSD, FHD 1080P Touchscreen Display, Backlit Keyboard, 802.11AC WiFi, Windows 8.1, 0.5 inch thin and 2.9 Lbs) Crystal White', 'system_0': 'Brand: Acer \\n Model: Aspire S7 \\n Screen Size: 13.3 inches \\n Screen Type: Touchscreen \\n Processor Brand: Intel Core i5-4200U \\n Processor Speed: 2.6GHz \\n Memory: 8GB DDR3 \\n Storage: 256GB SSD \\n Resolution: FHD 1080P \\n Keyboard: Backlit\\n Wireless Connectivity: 802.11AC WiFi \\n Operating System: Windows 8.1 \\n Color: Crystal White \\n Thickness: 0.5 inch \\n Weight: 2.9 lbs', 'input': 'Asus TUF Gaming F15 FX507VU-LP197W i7-13620H (Core i7, 15.6 inches)', 'Screen Size': '15.6 inches', 'Processor Brand': 'Core i7', 'Processor Speed': 'I do not know.'}, {'human_0': 'Acer Aspire S7 13.3-Inch Touchscreen Ultrabook (Intel Core i5-4200U Processor up to 2.6GHz, 8GB DDR3 Memory, 256GB SSD, FHD 1080P Touchscreen Display, Backlit Keyboard, 802.11AC WiFi, Windows 8.1, 0.5 inch thin and 2.9 Lbs) Crystal White', 'system_0': 'Brand: Acer \\n Model: Aspire S7 \\n Screen Size: 13.3 inches \\n Screen Type: Touchscreen \\n Processor Brand: Intel Core i5-4200U \\n Processor Speed: 2.6GHz \\n Memory: 8GB DDR3 \\n Storage: 256GB SSD \\n Resolution: FHD 1080P \\n Keyboard: Backlit\\n Wireless Connectivity: 802.11AC WiFi \\n Operating System: Windows 8.1 \\n Color: Crystal White \\n Thickness: 0.5 inch \\n Weight: 2.9 lbs', 'input': 'LG Gram 14T90R-G.AH55A5 i5-1340P (Core i5, 14.0 inches)', 'Screen Size': '14.0 inches', 'Processor Brand': 'Core i5', 'Processor Speed': 'I do not know.'}, {'human_0': 'Acer Aspire S7 13.3-Inch Touchscreen Ultrabook (Intel Core i5-4200U Processor up to 2.6GHz, 8GB DDR3 Memory, 256GB SSD, FHD 1080P Touchscreen Display, Backlit Keyboard, 802.11AC WiFi, Windows 8.1, 0.5 inch thin and 2.9 Lbs) Crystal White', 'system_0': 'Brand: Acer \\n Model: Aspire S7 \\n Screen Size: 13.3 inches \\n Screen Type: Touchscreen \\n Processor Brand: Intel Core i5-4200U \\n Processor Speed: 2.6GHz \\n Memory: 8GB DDR3 \\n Storage: 256GB SSD \\n Resolution: FHD 1080P \\n Keyboard: Backlit\\n Wireless Connectivity: 802.11AC WiFi \\n Operating System: Windows 8.1 \\n Color: Crystal White \\n Thickness: 0.5 inch \\n Weight: 2.9 lbs', 'input': 'Asus Zenbook Flip UP3404VA-KN039W i7 1360P (Core i7, 14 inches)', 'Screen Size': '14 inches', 'Processor Brand': 'Core i7', 'Processor Speed': 'I do not know.'}, {'human_0': 'Acer Aspire S7 13.3-Inch Touchscreen Ultrabook (Intel Core i5-4200U Processor up to 2.6GHz, 8GB DDR3 Memory, 256GB SSD, FHD 1080P Touchscreen Display, Backlit Keyboard, 802.11AC WiFi, Windows 8.1, 0.5 inch thin and 2.9 Lbs) Crystal White', 'system_0': 'Brand: Acer \\n Model: Aspire S7 \\n Screen Size: 13.3 inches \\n Screen Type: Touchscreen \\n Processor Brand: Intel Core i5-4200U \\n Processor Speed: 2.6GHz \\n Memory: 8GB DDR3 \\n Storage: 256GB SSD \\n Resolution: FHD 1080P \\n Keyboard: Backlit\\n Wireless Connectivity: 802.11AC WiFi \\n Operating System: Windows 8.1 \\n Color: Crystal White \\n Thickness: 0.5 inch \\n Weight: 2.9 lbs', 'input': 'MSI Gaming Cyborg 15 AI A1VE-053VN Ultra 7 155H (Core Ultra 7, 15.6 inches)', 'Screen Size': '15.6 inches', 'Processor Brand': 'Core Ultra 7', 'Processor Speed': 'I do not know.'}, {'human_0': 'Acer Aspire S7 13.3-Inch Touchscreen Ultrabook (Intel Core i5-4200U Processor up to 2.6GHz, 8GB DDR3 Memory, 256GB SSD, FHD 1080P Touchscreen Display, Backlit Keyboard, 802.11AC WiFi, Windows 8.1, 0.5 inch thin and 2.9 Lbs) Crystal White', 'system_0': 'Brand: Acer \\n Model: Aspire S7 \\n Screen Size: 13.3 inches \\n Screen Type: Touchscreen \\n Processor Brand: Intel Core i5-4200U \\n Processor Speed: 2.6GHz \\n Memory: 8GB DDR3 \\n Storage: 256GB SSD \\n Resolution: FHD 1080P \\n Keyboard: Backlit\\n Wireless Connectivity: 802.11AC WiFi \\n Operating System: Windows 8.1 \\n Color: Crystal White \\n Thickness: 0.5 inch \\n Weight: 2.9 lbs', 'input': 'MacBook Air M2 13 2022 8CPU 8GPU 16GB 256GB (M2, 13.6 inches)', 'Screen Size': '13.6 inches', 'Processor Brand': 'M2', 'Processor Speed': 'I do not know.'}, {'human_0': 'Acer Aspire S7 13.3-Inch Touchscreen Ultrabook (Intel Core i5-4200U Processor up to 2.6GHz, 8GB DDR3 Memory, 256GB SSD, FHD 1080P Touchscreen Display, Backlit Keyboard, 802.11AC WiFi, Windows 8.1, 0.5 inch thin and 2.9 Lbs) Crystal White', 'system_0': 'Brand: Acer \\n Model: Aspire S7 \\n Screen Size: 13.3 inches \\n Screen Type: Touchscreen \\n Processor Brand: Intel Core i5-4200U \\n Processor Speed: 2.6GHz \\n Memory: 8GB DDR3 \\n Storage: 256GB SSD \\n Resolution: FHD 1080P \\n Keyboard: Backlit\\n Wireless Connectivity: 802.11AC WiFi \\n Operating System: Windows 8.1 \\n Color: Crystal White \\n Thickness: 0.5 inch \\n Weight: 2.9 lbs', 'input': 'Lenovo Gaming LOQ - 15IRX9 i7 13650HX (83DV000NVN) (Core i7, 15.6 inches)', 'Screen Size': '15.6 inches', 'Processor Brand': 'Core i7', 'Processor Speed': 'I do not know.'}, {'human_0': 'Acer Aspire S7 13.3-Inch Touchscreen Ultrabook (Intel Core i5-4200U Processor up to 2.6GHz, 8GB DDR3 Memory, 256GB SSD, FHD 1080P Touchscreen Display, Backlit Keyboard, 802.11AC WiFi, Windows 8.1, 0.5 inch thin and 2.9 Lbs) Crystal White', 'system_0': 'Brand: Acer \\n Model: Aspire S7 \\n Screen Size: 13.3 inches \\n Screen Type: Touchscreen \\n Processor Brand: Intel Core i5-4200U \\n Processor Speed: 2.6GHz \\n Memory: 8GB DDR3 \\n Storage: 256GB SSD \\n Resolution: FHD 1080P \\n Keyboard: Backlit\\n Wireless Connectivity: 802.11AC WiFi \\n Operating System: Windows 8.1 \\n Color: Crystal White \\n Thickness: 0.5 inch \\n Weight: 2.9 lbs', 'input': 'MSI Gaming Katana 15 B13VFK-676VN i7 13620H (Core i7, 15.6 inches)', 'Screen Size': '15.6 inches', 'Processor Brand': 'Core i7', 'Processor Speed': 'I do not know.'}, {'human_0': 'Acer Aspire S7 13.3-Inch Touchscreen Ultrabook (Intel Core i5-4200U Processor up to 2.6GHz, 8GB DDR3 Memory, 256GB SSD, FHD 1080P Touchscreen Display, Backlit Keyboard, 802.11AC WiFi, Windows 8.1, 0.5 inch thin and 2.9 Lbs) Crystal White', 'system_0': 'Brand: Acer \\n Model: Aspire S7 \\n Screen Size: 13.3 inches \\n Screen Type: Touchscreen \\n Processor Brand: Intel Core i5-4200U \\n Processor Speed: 2.6GHz \\n Memory: 8GB DDR3 \\n Storage: 256GB SSD \\n Resolution: FHD 1080P \\n Keyboard: Backlit\\n Wireless Connectivity: 802.11AC WiFi \\n Operating System: Windows 8.1 \\n Color: Crystal White \\n Thickness: 0.5 inch \\n Weight: 2.9 lbs', 'input': 'Asus TUF Gaming FX507ZV4-LP042W i7 12700H (Core i7, 15.6 inches)', 'Screen Size': '15.6 inches', 'Processor Brand': 'Core i7', 'Processor Speed': 'I do not know.'}, {'human_0': 'Acer Aspire S7 13.3-Inch Touchscreen Ultrabook (Intel Core i5-4200U Processor up to 2.6GHz, 8GB DDR3 Memory, 256GB SSD, FHD 1080P Touchscreen Display, Backlit Keyboard, 802.11AC WiFi, Windows 8.1, 0.5 inch thin and 2.9 Lbs) Crystal White', 'system_0': 'Brand: Acer \\n Model: Aspire S7 \\n Screen Size: 13.3 inches \\n Screen Type: Touchscreen \\n Processor Brand: Intel Core i5-4200U \\n Processor Speed: 2.6GHz \\n Memory: 8GB DDR3 \\n Storage: 256GB SSD \\n Resolution: FHD 1080P \\n Keyboard: Backlit\\n Wireless Connectivity: 802.11AC WiFi \\n Operating System: Windows 8.1 \\n Color: Crystal White \\n Thickness: 0.5 inch \\n Weight: 2.9 lbs', 'input': 'Dell Inspiron 14 2in1 T7430 i7 1355U (P172G001) (Core i7, 14 inches)', 'Screen Size': '14 inches', 'Processor Brand': 'Core i7', 'Processor Speed': 'I do not know.'}, {'human_0': 'Acer Aspire S7 13.3-Inch Touchscreen Ultrabook (Intel Core i5-4200U Processor up to 2.6GHz, 8GB DDR3 Memory, 256GB SSD, FHD 1080P Touchscreen Display, Backlit Keyboard, 802.11AC WiFi, Windows 8.1, 0.5 inch thin and 2.9 Lbs) Crystal White', 'system_0': 'Brand: Acer \\n Model: Aspire S7 \\n Screen Size: 13.3 inches \\n Screen Type: Touchscreen \\n Processor Brand: Intel Core i5-4200U \\n Processor Speed: 2.6GHz \\n Memory: 8GB DDR3 \\n Storage: 256GB SSD \\n Resolution: FHD 1080P \\n Keyboard: Backlit\\n Wireless Connectivity: 802.11AC WiFi \\n Operating System: Windows 8.1 \\n Color: Crystal White \\n Thickness: 0.5 inch \\n Weight: 2.9 lbs', 'input': 'Asus Vivobook Pro K6502VU-MA089W i5 13500H (Core i5, 15.6 inches)', 'Screen Size': '15.6 inches', 'Processor Brand': 'Core i5', 'Processor Speed': 'I do not know.'}, {'human_0': 'Acer Aspire S7 13.3-Inch Touchscreen Ultrabook (Intel Core i5-4200U Processor up to 2.6GHz, 8GB DDR3 Memory, 256GB SSD, FHD 1080P Touchscreen Display, Backlit Keyboard, 802.11AC WiFi, Windows 8.1, 0.5 inch thin and 2.9 Lbs) Crystal White', 'system_0': 'Brand: Acer \\n Model: Aspire S7 \\n Screen Size: 13.3 inches \\n Screen Type: Touchscreen \\n Processor Brand: Intel Core i5-4200U \\n Processor Speed: 2.6GHz \\n Memory: 8GB DDR3 \\n Storage: 256GB SSD \\n Resolution: FHD 1080P \\n Keyboard: Backlit\\n Wireless Connectivity: 802.11AC WiFi \\n Operating System: Windows 8.1 \\n Color: Crystal White \\n Thickness: 0.5 inch \\n Weight: 2.9 lbs', 'input': 'Asus Zenbook 14 OLED UX3405MA-PP151W Core Ultra 5-125H (Ultra 5 Meteor LakeCore Ultra 5, 14 inches)', 'Screen Size': '14 inches', 'Processor Brand': 'Ultra 5 Meteor LakeCore Ultra 5', 'Processor Speed': 'I do not know.'}, {'human_0': 'Acer Aspire S7 13.3-Inch Touchscreen Ultrabook (Intel Core i5-4200U Processor up to 2.6GHz, 8GB DDR3 Memory, 256GB SSD, FHD 1080P Touchscreen Display, Backlit Keyboard, 802.11AC WiFi, Windows 8.1, 0.5 inch thin and 2.9 Lbs) Crystal White', 'system_0': 'Brand: Acer \\n Model: Aspire S7 \\n Screen Size: 13.3 inches \\n Screen Type: Touchscreen \\n Processor Brand: Intel Core i5-4200U \\n Processor Speed: 2.6GHz \\n Memory: 8GB DDR3 \\n Storage: 256GB SSD \\n Resolution: FHD 1080P \\n Keyboard: Backlit\\n Wireless Connectivity: 802.11AC WiFi \\n Operating System: Windows 8.1 \\n Color: Crystal White \\n Thickness: 0.5 inch \\n Weight: 2.9 lbs', 'input': 'Asus Zenbook 14 OLED UX3405MA-PP588W Ultra 5-125H (Ultra 5 Meteor Lake, 14 inches)', 'Screen Size': '14 inches', 'Processor Brand': 'Ultra 5 Meteor Lake', 'Processor Speed': 'I do not know.'}, {'human_0': 'Acer Aspire S7 13.3-Inch Touchscreen Ultrabook (Intel Core i5-4200U Processor up to 2.6GHz, 8GB DDR3 Memory, 256GB SSD, FHD 1080P Touchscreen Display, Backlit Keyboard, 802.11AC WiFi, Windows 8.1, 0.5 inch thin and 2.9 Lbs) Crystal White', 'system_0': 'Brand: Acer \\n Model: Aspire S7 \\n Screen Size: 13.3 inches \\n Screen Type: Touchscreen \\n Processor Brand: Intel Core i5-4200U \\n Processor Speed: 2.6GHz \\n Memory: 8GB DDR3 \\n Storage: 256GB SSD \\n Resolution: FHD 1080P \\n Keyboard: Backlit\\n Wireless Connectivity: 802.11AC WiFi \\n Operating System: Windows 8.1 \\n Color: Crystal White \\n Thickness: 0.5 inch \\n Weight: 2.9 lbs', 'input': 'Gigabyte Gaming G6 KF-H3VN853SH i7-13620H (Core i7Core i7, 16 inches)', 'Screen Size': '16 inches', 'Processor Brand': 'Core i7Core i7', 'Processor Speed': 'I do not know.'}, {'human_0': 'Acer Aspire S7 13.3-Inch Touchscreen Ultrabook (Intel Core i5-4200U Processor up to 2.6GHz, 8GB DDR3 Memory, 256GB SSD, FHD 1080P Touchscreen Display, Backlit Keyboard, 802.11AC WiFi, Windows 8.1, 0.5 inch thin and 2.9 Lbs) Crystal White', 'system_0': 'Brand: Acer \\n Model: Aspire S7 \\n Screen Size: 13.3 inches \\n Screen Type: Touchscreen \\n Processor Brand: Intel Core i5-4200U \\n Processor Speed: 2.6GHz \\n Memory: 8GB DDR3 \\n Storage: 256GB SSD \\n Resolution: FHD 1080P \\n Keyboard: Backlit\\n Wireless Connectivity: 802.11AC WiFi \\n Operating System: Windows 8.1 \\n Color: Crystal White \\n Thickness: 0.5 inch \\n Weight: 2.9 lbs', 'input': 'MacBook Air 15 inch M2 2023 8 CPU/10 GPU/8 GB/256 GB (M2, 15.0 inches)', 'Screen Size': '15.0 inches', 'Processor Brand': 'M2', 'Processor Speed': 'I do not know.'}, {'human_0': 'Acer Aspire S7 13.3-Inch Touchscreen Ultrabook (Intel Core i5-4200U Processor up to 2.6GHz, 8GB DDR3 Memory, 256GB SSD, FHD 1080P Touchscreen Display, Backlit Keyboard, 802.11AC WiFi, Windows 8.1, 0.5 inch thin and 2.9 Lbs) Crystal White', 'system_0': 'Brand: Acer \\n Model: Aspire S7 \\n Screen Size: 13.3 inches \\n Screen Type: Touchscreen \\n Processor Brand: Intel Core i5-4200U \\n Processor Speed: 2.6GHz \\n Memory: 8GB DDR3 \\n Storage: 256GB SSD \\n Resolution: FHD 1080P \\n Keyboard: Backlit\\n Wireless Connectivity: 802.11AC WiFi \\n Operating System: Windows 8.1 \\n Color: Crystal White \\n Thickness: 0.5 inch \\n Weight: 2.9 lbs', 'input': 'MSI Prestige 13Evo A13M-081VN i7 1360P (Core i7, 13.3 inches)', 'Screen Size': '13.3 inches', 'Processor Brand': 'Core i7', 'Processor Speed': 'I do not know.'}, {'human_0': 'Acer Aspire S7 13.3-Inch Touchscreen Ultrabook (Intel Core i5-4200U Processor up to 2.6GHz, 8GB DDR3 Memory, 256GB SSD, FHD 1080P Touchscreen Display, Backlit Keyboard, 802.11AC WiFi, Windows 8.1, 0.5 inch thin and 2.9 Lbs) Crystal White', 'system_0': 'Brand: Acer \\n Model: Aspire S7 \\n Screen Size: 13.3 inches \\n Screen Type: Touchscreen \\n Processor Brand: Intel Core i5-4200U \\n Processor Speed: 2.6GHz \\n Memory: 8GB DDR3 \\n Storage: 256GB SSD \\n Resolution: FHD 1080P \\n Keyboard: Backlit\\n Wireless Connectivity: 802.11AC WiFi \\n Operating System: Windows 8.1 \\n Color: Crystal White \\n Thickness: 0.5 inch \\n Weight: 2.9 lbs', 'input': 'Asus Zenbook 14 OLED UX3402VA-KM068W i7 1360P (Core i7, 14 inches)', 'Screen Size': '14 inches', 'Processor Brand': 'Core i7', 'Processor Speed': 'I do not know.'}, {'human_0': 'Acer Aspire S7 13.3-Inch Touchscreen Ultrabook (Intel Core i5-4200U Processor up to 2.6GHz, 8GB DDR3 Memory, 256GB SSD, FHD 1080P Touchscreen Display, Backlit Keyboard, 802.11AC WiFi, Windows 8.1, 0.5 inch thin and 2.9 Lbs) Crystal White', 'system_0': 'Brand: Acer \\n Model: Aspire S7 \\n Screen Size: 13.3 inches \\n Screen Type: Touchscreen \\n Processor Brand: Intel Core i5-4200U \\n Processor Speed: 2.6GHz \\n Memory: 8GB DDR3 \\n Storage: 256GB SSD \\n Resolution: FHD 1080P \\n Keyboard: Backlit\\n Wireless Connectivity: 802.11AC WiFi \\n Operating System: Windows 8.1 \\n Color: Crystal White \\n Thickness: 0.5 inch \\n Weight: 2.9 lbs', 'input': 'Acer Nitro V Gaming ANV15-51-55CA i5 13420H (NH.QN8SV.004) (Core i5, 15.6 inches)', 'Screen Size': '15.6 inches', 'Processor Brand': 'Core i5', 'Processor Speed': 'I do not know.'}, {'human_0': 'Acer Aspire S7 13.3-Inch Touchscreen Ultrabook (Intel Core i5-4200U Processor up to 2.6GHz, 8GB DDR3 Memory, 256GB SSD, FHD 1080P Touchscreen Display, Backlit Keyboard, 802.11AC WiFi, Windows 8.1, 0.5 inch thin and 2.9 Lbs) Crystal White', 'system_0': 'Brand: Acer \\n Model: Aspire S7 \\n Screen Size: 13.3 inches \\n Screen Type: Touchscreen \\n Processor Brand: Intel Core i5-4200U \\n Processor Speed: 2.6GHz \\n Memory: 8GB DDR3 \\n Storage: 256GB SSD \\n Resolution: FHD 1080P \\n Keyboard: Backlit\\n Wireless Connectivity: 802.11AC WiFi \\n Operating System: Windows 8.1 \\n Color: Crystal White \\n Thickness: 0.5 inch \\n Weight: 2.9 lbs', 'input': 'Asus TUF Gaming FX507ZV4-LP041W i7 12700H (Core i7, 15.6 inches)', 'Screen Size': '15.6 inches', 'Processor Brand': 'Core i7', 'Processor Speed': 'I do not know.'}, {'human_0': 'Acer Aspire S7 13.3-Inch Touchscreen Ultrabook (Intel Core i5-4200U Processor up to 2.6GHz, 8GB DDR3 Memory, 256GB SSD, FHD 1080P Touchscreen Display, Backlit Keyboard, 802.11AC WiFi, Windows 8.1, 0.5 inch thin and 2.9 Lbs) Crystal White', 'system_0': 'Brand: Acer \\n Model: Aspire S7 \\n Screen Size: 13.3 inches \\n Screen Type: Touchscreen \\n Processor Brand: Intel Core i5-4200U \\n Processor Speed: 2.6GHz \\n Memory: 8GB DDR3 \\n Storage: 256GB SSD \\n Resolution: FHD 1080P \\n Keyboard: Backlit\\n Wireless Connectivity: 802.11AC WiFi \\n Operating System: Windows 8.1 \\n Color: Crystal White \\n Thickness: 0.5 inch \\n Weight: 2.9 lbs', 'input': 'Asus TUF Gaming FA507NV-LP046W R7 7735HS (Ryzen 7, 15.6 inches)', 'Screen Size': '15.6 inches', 'Processor Brand': 'Ryzen 7', 'Processor Speed': 'I do not know.'}, {'human_0': 'Acer Aspire S7 13.3-Inch Touchscreen Ultrabook (Intel Core i5-4200U Processor up to 2.6GHz, 8GB DDR3 Memory, 256GB SSD, FHD 1080P Touchscreen Display, Backlit Keyboard, 802.11AC WiFi, Windows 8.1, 0.5 inch thin and 2.9 Lbs) Crystal White', 'system_0': 'Brand: Acer \\n Model: Aspire S7 \\n Screen Size: 13.3 inches \\n Screen Type: Touchscreen \\n Processor Brand: Intel Core i5-4200U \\n Processor Speed: 2.6GHz \\n Memory: 8GB DDR3 \\n Storage: 256GB SSD \\n Resolution: FHD 1080P \\n Keyboard: Backlit\\n Wireless Connectivity: 802.11AC WiFi \\n Operating System: Windows 8.1 \\n Color: Crystal White \\n Thickness: 0.5 inch \\n Weight: 2.9 lbs', 'input': 'Asus TUF Gaming A15 FA507NV-LP110W R5-7535HS (Ryzen 5, 15.6 inches)', 'Screen Size': '15.6 inches', 'Processor Brand': 'Ryzen 5', 'Processor Speed': 'I do not know.'}, {'human_0': 'Acer Aspire S7 13.3-Inch Touchscreen Ultrabook (Intel Core i5-4200U Processor up to 2.6GHz, 8GB DDR3 Memory, 256GB SSD, FHD 1080P Touchscreen Display, Backlit Keyboard, 802.11AC WiFi, Windows 8.1, 0.5 inch thin and 2.9 Lbs) Crystal White', 'system_0': 'Brand: Acer \\n Model: Aspire S7 \\n Screen Size: 13.3 inches \\n Screen Type: Touchscreen \\n Processor Brand: Intel Core i5-4200U \\n Processor Speed: 2.6GHz \\n Memory: 8GB DDR3 \\n Storage: 256GB SSD \\n Resolution: FHD 1080P \\n Keyboard: Backlit\\n Wireless Connectivity: 802.11AC WiFi \\n Operating System: Windows 8.1 \\n Color: Crystal White \\n Thickness: 0.5 inch \\n Weight: 2.9 lbs', 'input': 'Macbook Air 13 2020 M1/16GB/256GB SSD (M1, 13.3 inches)', 'Screen Size': '13.3 inches', 'Processor Brand': 'M1', 'Processor Speed': 'I do not know.'}, {'human_0': 'Acer Aspire S7 13.3-Inch Touchscreen Ultrabook (Intel Core i5-4200U Processor up to 2.6GHz, 8GB DDR3 Memory, 256GB SSD, FHD 1080P Touchscreen Display, Backlit Keyboard, 802.11AC WiFi, Windows 8.1, 0.5 inch thin and 2.9 Lbs) Crystal White', 'system_0': 'Brand: Acer \\n Model: Aspire S7 \\n Screen Size: 13.3 inches \\n Screen Type: Touchscreen \\n Processor Brand: Intel Core i5-4200U \\n Processor Speed: 2.6GHz \\n Memory: 8GB DDR3 \\n Storage: 256GB SSD \\n Resolution: FHD 1080P \\n Keyboard: Backlit\\n Wireless Connectivity: 802.11AC WiFi \\n Operating System: Windows 8.1 \\n Color: Crystal White \\n Thickness: 0.5 inch \\n Weight: 2.9 lbs', 'input': 'Acer Swift 3 SF314-512-741L i7 1260P (NX.K7JSV.001) (Core i7, 14.0 inches)', 'Screen Size': '14.0 inches', 'Processor Brand': 'Core i7', 'Processor Speed': 'I do not know.'}, {'human_0': 'Acer Aspire S7 13.3-Inch Touchscreen Ultrabook (Intel Core i5-4200U Processor up to 2.6GHz, 8GB DDR3 Memory, 256GB SSD, FHD 1080P Touchscreen Display, Backlit Keyboard, 802.11AC WiFi, Windows 8.1, 0.5 inch thin and 2.9 Lbs) Crystal White', 'system_0': 'Brand: Acer \\n Model: Aspire S7 \\n Screen Size: 13.3 inches \\n Screen Type: Touchscreen \\n Processor Brand: Intel Core i5-4200U \\n Processor Speed: 2.6GHz \\n Memory: 8GB DDR3 \\n Storage: 256GB SSD \\n Resolution: FHD 1080P \\n Keyboard: Backlit\\n Wireless Connectivity: 802.11AC WiFi \\n Operating System: Windows 8.1 \\n Color: Crystal White \\n Thickness: 0.5 inch \\n Weight: 2.9 lbs', 'input': 'Asus Zenbook Flip UP3404VA-KN038W i5 1340P (Core i5, 14 inches)', 'Screen Size': '14 inches', 'Processor Brand': 'Core i5', 'Processor Speed': 'I do not know.'}, {'human_0': 'Acer Aspire S7 13.3-Inch Touchscreen Ultrabook (Intel Core i5-4200U Processor up to 2.6GHz, 8GB DDR3 Memory, 256GB SSD, FHD 1080P Touchscreen Display, Backlit Keyboard, 802.11AC WiFi, Windows 8.1, 0.5 inch thin and 2.9 Lbs) Crystal White', 'system_0': 'Brand: Acer \\n Model: Aspire S7 \\n Screen Size: 13.3 inches \\n Screen Type: Touchscreen \\n Processor Brand: Intel Core i5-4200U \\n Processor Speed: 2.6GHz \\n Memory: 8GB DDR3 \\n Storage: 256GB SSD \\n Resolution: FHD 1080P \\n Keyboard: Backlit\\n Wireless Connectivity: 802.11AC WiFi \\n Operating System: Windows 8.1 \\n Color: Crystal White \\n Thickness: 0.5 inch \\n Weight: 2.9 lbs', 'input': 'MacBook Air M2 13 2022 8CPU 8GPU 8GB 256GB (M2, 13.6 inches)', 'Screen Size': '13.6 inches', 'Processor Brand': 'M2', 'Processor Speed': 'I do not know.'}, {'human_0': 'Acer Aspire S7 13.3-Inch Touchscreen Ultrabook (Intel Core i5-4200U Processor up to 2.6GHz, 8GB DDR3 Memory, 256GB SSD, FHD 1080P Touchscreen Display, Backlit Keyboard, 802.11AC WiFi, Windows 8.1, 0.5 inch thin and 2.9 Lbs) Crystal White', 'system_0': 'Brand: Acer \\n Model: Aspire S7 \\n Screen Size: 13.3 inches \\n Screen Type: Touchscreen \\n Processor Brand: Intel Core i5-4200U \\n Processor Speed: 2.6GHz \\n Memory: 8GB DDR3 \\n Storage: 256GB SSD \\n Resolution: FHD 1080P \\n Keyboard: Backlit\\n Wireless Connectivity: 802.11AC WiFi \\n Operating System: Windows 8.1 \\n Color: Crystal White \\n Thickness: 0.5 inch \\n Weight: 2.9 lbs', 'input': 'Gigabyte Gaming G5 MF5-H2VN353SH i7 13620H (Core i7Core i7, 15.6 inches)', 'Screen Size': '15.6 inches', 'Processor Brand': 'Core i7Core i7', 'Processor Speed': 'I do not know.'}, {'human_0': 'Acer Aspire S7 13.3-Inch Touchscreen Ultrabook (Intel Core i5-4200U Processor up to 2.6GHz, 8GB DDR3 Memory, 256GB SSD, FHD 1080P Touchscreen Display, Backlit Keyboard, 802.11AC WiFi, Windows 8.1, 0.5 inch thin and 2.9 Lbs) Crystal White', 'system_0': 'Brand: Acer \\n Model: Aspire S7 \\n Screen Size: 13.3 inches \\n Screen Type: Touchscreen \\n Processor Brand: Intel Core i5-4200U \\n Processor Speed: 2.6GHz \\n Memory: 8GB DDR3 \\n Storage: 256GB SSD \\n Resolution: FHD 1080P \\n Keyboard: Backlit\\n Wireless Connectivity: 802.11AC WiFi \\n Operating System: Windows 8.1 \\n Color: Crystal White \\n Thickness: 0.5 inch \\n Weight: 2.9 lbs', 'input': 'HP ProBook 440 G10 i7 1360P (873C1PA) (Core i7, 14.0 inches)', 'Screen Size': '14.0 inches', 'Processor Brand': 'Core i7', 'Processor Speed': 'I do not know.'}, {'human_0': 'Acer Aspire S7 13.3-Inch Touchscreen Ultrabook (Intel Core i5-4200U Processor up to 2.6GHz, 8GB DDR3 Memory, 256GB SSD, FHD 1080P Touchscreen Display, Backlit Keyboard, 802.11AC WiFi, Windows 8.1, 0.5 inch thin and 2.9 Lbs) Crystal White', 'system_0': 'Brand: Acer \\n Model: Aspire S7 \\n Screen Size: 13.3 inches \\n Screen Type: Touchscreen \\n Processor Brand: Intel Core i5-4200U \\n Processor Speed: 2.6GHz \\n Memory: 8GB DDR3 \\n Storage: 256GB SSD \\n Resolution: FHD 1080P \\n Keyboard: Backlit\\n Wireless Connectivity: 802.11AC WiFi \\n Operating System: Windows 8.1 \\n Color: Crystal White \\n Thickness: 0.5 inch \\n Weight: 2.9 lbs', 'input': 'Acer Nitro Gaming AN515-58-769J i7 12700H (NH.QFHSV.003) (Core i7, 15.6 inches)', 'Screen Size': '15.6 inches', 'Processor Brand': 'Core i7', 'Processor Speed': 'I do not know.'}, {'human_0': 'Acer Aspire S7 13.3-Inch Touchscreen Ultrabook (Intel Core i5-4200U Processor up to 2.6GHz, 8GB DDR3 Memory, 256GB SSD, FHD 1080P Touchscreen Display, Backlit Keyboard, 802.11AC WiFi, Windows 8.1, 0.5 inch thin and 2.9 Lbs) Crystal White', 'system_0': 'Brand: Acer \\n Model: Aspire S7 \\n Screen Size: 13.3 inches \\n Screen Type: Touchscreen \\n Processor Brand: Intel Core i5-4200U \\n Processor Speed: 2.6GHz \\n Memory: 8GB DDR3 \\n Storage: 256GB SSD \\n Resolution: FHD 1080P \\n Keyboard: Backlit\\n Wireless Connectivity: 802.11AC WiFi \\n Operating System: Windows 8.1 \\n Color: Crystal White \\n Thickness: 0.5 inch \\n Weight: 2.9 lbs', 'input': 'Gigabyte Gaming G5 KF-E3VN313SH i5 12500H (Core i5, 15,6 inches)', 'Screen Size': '15,6 inches', 'Processor Brand': 'Core i5', 'Processor Speed': 'I do not know.'}, {'human_0': 'Acer Aspire S7 13.3-Inch Touchscreen Ultrabook (Intel Core i5-4200U Processor up to 2.6GHz, 8GB DDR3 Memory, 256GB SSD, FHD 1080P Touchscreen Display, Backlit Keyboard, 802.11AC WiFi, Windows 8.1, 0.5 inch thin and 2.9 Lbs) Crystal White', 'system_0': 'Brand: Acer \\n Model: Aspire S7 \\n Screen Size: 13.3 inches \\n Screen Type: Touchscreen \\n Processor Brand: Intel Core i5-4200U \\n Processor Speed: 2.6GHz \\n Memory: 8GB DDR3 \\n Storage: 256GB SSD \\n Resolution: FHD 1080P \\n Keyboard: Backlit\\n Wireless Connectivity: 802.11AC WiFi \\n Operating System: Windows 8.1 \\n Color: Crystal White \\n Thickness: 0.5 inch \\n Weight: 2.9 lbs', 'input': 'Dell Inspiron 14 2in1 T7430 i5 1335U (N7430I58W1) (Core i5, 14.0 inches)', 'Screen Size': '14.0 inches', 'Processor Brand': 'Core i5', 'Processor Speed': 'I do not know.'}, {'human_0': 'Acer Aspire S7 13.3-Inch Touchscreen Ultrabook (Intel Core i5-4200U Processor up to 2.6GHz, 8GB DDR3 Memory, 256GB SSD, FHD 1080P Touchscreen Display, Backlit Keyboard, 802.11AC WiFi, Windows 8.1, 0.5 inch thin and 2.9 Lbs) Crystal White', 'system_0': 'Brand: Acer \\n Model: Aspire S7 \\n Screen Size: 13.3 inches \\n Screen Type: Touchscreen \\n Processor Brand: Intel Core i5-4200U \\n Processor Speed: 2.6GHz \\n Memory: 8GB DDR3 \\n Storage: 256GB SSD \\n Resolution: FHD 1080P \\n Keyboard: Backlit\\n Wireless Connectivity: 802.11AC WiFi \\n Operating System: Windows 8.1 \\n Color: Crystal White \\n Thickness: 0.5 inch \\n Weight: 2.9 lbs', 'input': 'Asus Vivobook Flip TP3402VA-LZ118W i9 13900H (Core i9, 14 inches)', 'Screen Size': '14 inches', 'Processor Brand': 'Core i9', 'Processor Speed': 'I do not know.'}, {'human_0': 'Acer Aspire S7 13.3-Inch Touchscreen Ultrabook (Intel Core i5-4200U Processor up to 2.6GHz, 8GB DDR3 Memory, 256GB SSD, FHD 1080P Touchscreen Display, Backlit Keyboard, 802.11AC WiFi, Windows 8.1, 0.5 inch thin and 2.9 Lbs) Crystal White', 'system_0': 'Brand: Acer \\n Model: Aspire S7 \\n Screen Size: 13.3 inches \\n Screen Type: Touchscreen \\n Processor Brand: Intel Core i5-4200U \\n Processor Speed: 2.6GHz \\n Memory: 8GB DDR3 \\n Storage: 256GB SSD \\n Resolution: FHD 1080P \\n Keyboard: Backlit\\n Wireless Connectivity: 802.11AC WiFi \\n Operating System: Windows 8.1 \\n Color: Crystal White \\n Thickness: 0.5 inch \\n Weight: 2.9 lbs', 'input': 'Lenovo Yoga Slim 6 14IRH8 i7 13700H (83E0000VVN) (Core i7, 14 inches)', 'Screen Size': '14 inches', 'Processor Brand': 'Core i7', 'Processor Speed': 'I do not know.'}, {'human_0': 'Acer Aspire S7 13.3-Inch Touchscreen Ultrabook (Intel Core i5-4200U Processor up to 2.6GHz, 8GB DDR3 Memory, 256GB SSD, FHD 1080P Touchscreen Display, Backlit Keyboard, 802.11AC WiFi, Windows 8.1, 0.5 inch thin and 2.9 Lbs) Crystal White', 'system_0': 'Brand: Acer \\n Model: Aspire S7 \\n Screen Size: 13.3 inches \\n Screen Type: Touchscreen \\n Processor Brand: Intel Core i5-4200U \\n Processor Speed: 2.6GHz \\n Memory: 8GB DDR3 \\n Storage: 256GB SSD \\n Resolution: FHD 1080P \\n Keyboard: Backlit\\n Wireless Connectivity: 802.11AC WiFi \\n Operating System: Windows 8.1 \\n Color: Crystal White \\n Thickness: 0.5 inch \\n Weight: 2.9 lbs', 'input': 'Máy tính xách tay MSI Summit E14 Flip Evo A12MT-210VN i7-1280P/16GB/512GB/14\"QHD/Win11_Túi_Bút_Đen (Core i7, 14.0 inches)', 'Screen Size': '14.0 inches', 'Processor Brand': 'Core i7', 'Processor Speed': 'I do not know.'}, {'human_0': 'Acer Aspire S7 13.3-Inch Touchscreen Ultrabook (Intel Core i5-4200U Processor up to 2.6GHz, 8GB DDR3 Memory, 256GB SSD, FHD 1080P Touchscreen Display, Backlit Keyboard, 802.11AC WiFi, Windows 8.1, 0.5 inch thin and 2.9 Lbs) Crystal White', 'system_0': 'Brand: Acer \\n Model: Aspire S7 \\n Screen Size: 13.3 inches \\n Screen Type: Touchscreen \\n Processor Brand: Intel Core i5-4200U \\n Processor Speed: 2.6GHz \\n Memory: 8GB DDR3 \\n Storage: 256GB SSD \\n Resolution: FHD 1080P \\n Keyboard: Backlit\\n Wireless Connectivity: 802.11AC WiFi \\n Operating System: Windows 8.1 \\n Color: Crystal White \\n Thickness: 0.5 inch \\n Weight: 2.9 lbs', 'input': 'Acer Swift X SFX16-51G-50GS i5 11320H (NX.AYLSV.002) (Core i5, 16.1 inches)', 'Screen Size': '16.1 inches', 'Processor Brand': 'Core i5', 'Processor Speed': 'I do not know.'}, {'human_0': 'Acer Aspire S7 13.3-Inch Touchscreen Ultrabook (Intel Core i5-4200U Processor up to 2.6GHz, 8GB DDR3 Memory, 256GB SSD, FHD 1080P Touchscreen Display, Backlit Keyboard, 802.11AC WiFi, Windows 8.1, 0.5 inch thin and 2.9 Lbs) Crystal White', 'system_0': 'Brand: Acer \\n Model: Aspire S7 \\n Screen Size: 13.3 inches \\n Screen Type: Touchscreen \\n Processor Brand: Intel Core i5-4200U \\n Processor Speed: 2.6GHz \\n Memory: 8GB DDR3 \\n Storage: 256GB SSD \\n Resolution: FHD 1080P \\n Keyboard: Backlit\\n Wireless Connectivity: 802.11AC WiFi \\n Operating System: Windows 8.1 \\n Color: Crystal White \\n Thickness: 0.5 inch \\n Weight: 2.9 lbs', 'input': 'Gigabyte Gaming G5 MF5-52VN353SH i5 13500H (Core i5Core i5, 15.6 inches)', 'Screen Size': '15.6 inches', 'Processor Brand': 'Core i5Core i5', 'Processor Speed': 'I do not know.'}, {'human_0': 'Acer Aspire S7 13.3-Inch Touchscreen Ultrabook (Intel Core i5-4200U Processor up to 2.6GHz, 8GB DDR3 Memory, 256GB SSD, FHD 1080P Touchscreen Display, Backlit Keyboard, 802.11AC WiFi, Windows 8.1, 0.5 inch thin and 2.9 Lbs) Crystal White', 'system_0': 'Brand: Acer \\n Model: Aspire S7 \\n Screen Size: 13.3 inches \\n Screen Type: Touchscreen \\n Processor Brand: Intel Core i5-4200U \\n Processor Speed: 2.6GHz \\n Memory: 8GB DDR3 \\n Storage: 256GB SSD \\n Resolution: FHD 1080P \\n Keyboard: Backlit\\n Wireless Connectivity: 802.11AC WiFi \\n Operating System: Windows 8.1 \\n Color: Crystal White \\n Thickness: 0.5 inch \\n Weight: 2.9 lbs', 'input': 'Asus Vivobook S3405VA-KM071W i9 13900H (Core i9, 14.0 inches)', 'Screen Size': '14.0 inches', 'Processor Brand': 'Core i9', 'Processor Speed': 'I do not know.'}, {'human_0': 'Acer Aspire S7 13.3-Inch Touchscreen Ultrabook (Intel Core i5-4200U Processor up to 2.6GHz, 8GB DDR3 Memory, 256GB SSD, FHD 1080P Touchscreen Display, Backlit Keyboard, 802.11AC WiFi, Windows 8.1, 0.5 inch thin and 2.9 Lbs) Crystal White', 'system_0': 'Brand: Acer \\n Model: Aspire S7 \\n Screen Size: 13.3 inches \\n Screen Type: Touchscreen \\n Processor Brand: Intel Core i5-4200U \\n Processor Speed: 2.6GHz \\n Memory: 8GB DDR3 \\n Storage: 256GB SSD \\n Resolution: FHD 1080P \\n Keyboard: Backlit\\n Wireless Connectivity: 802.11AC WiFi \\n Operating System: Windows 8.1 \\n Color: Crystal White \\n Thickness: 0.5 inch \\n Weight: 2.9 lbs', 'input': 'Asus TUF Gaming FA507NU-LP034W R7 7735HS (Ryzen 7, 15.6 inches)', 'Screen Size': '15.6 inches', 'Processor Brand': 'Ryzen 7', 'Processor Speed': 'I do not know.'}, {'human_0': 'Acer Aspire S7 13.3-Inch Touchscreen Ultrabook (Intel Core i5-4200U Processor up to 2.6GHz, 8GB DDR3 Memory, 256GB SSD, FHD 1080P Touchscreen Display, Backlit Keyboard, 802.11AC WiFi, Windows 8.1, 0.5 inch thin and 2.9 Lbs) Crystal White', 'system_0': 'Brand: Acer \\n Model: Aspire S7 \\n Screen Size: 13.3 inches \\n Screen Type: Touchscreen \\n Processor Brand: Intel Core i5-4200U \\n Processor Speed: 2.6GHz \\n Memory: 8GB DDR3 \\n Storage: 256GB SSD \\n Resolution: FHD 1080P \\n Keyboard: Backlit\\n Wireless Connectivity: 802.11AC WiFi \\n Operating System: Windows 8.1 \\n Color: Crystal White \\n Thickness: 0.5 inch \\n Weight: 2.9 lbs', 'input': 'HP Gaming Victus 16-s0078AX R5 7640HS (8C5N7PA) (Ryzen 5, 16.0 inches)', 'Screen Size': '16.0 inches', 'Processor Brand': 'Ryzen 5', 'Processor Speed': 'I do not know.'}, {'human_0': 'Acer Aspire S7 13.3-Inch Touchscreen Ultrabook (Intel Core i5-4200U Processor up to 2.6GHz, 8GB DDR3 Memory, 256GB SSD, FHD 1080P Touchscreen Display, Backlit Keyboard, 802.11AC WiFi, Windows 8.1, 0.5 inch thin and 2.9 Lbs) Crystal White', 'system_0': 'Brand: Acer \\n Model: Aspire S7 \\n Screen Size: 13.3 inches \\n Screen Type: Touchscreen \\n Processor Brand: Intel Core i5-4200U \\n Processor Speed: 2.6GHz \\n Memory: 8GB DDR3 \\n Storage: 256GB SSD \\n Resolution: FHD 1080P \\n Keyboard: Backlit\\n Wireless Connectivity: 802.11AC WiFi \\n Operating System: Windows 8.1 \\n Color: Crystal White \\n Thickness: 0.5 inch \\n Weight: 2.9 lbs', 'input': 'Acer Nitro 5 Tiger Gaming AN515-58-52SP i5 12500H (NH.QFHSV.001) (Core i5, 15.6 inches)', 'Screen Size': '15.6 inches', 'Processor Brand': 'Core i5', 'Processor Speed': 'I do not know.'}, {'human_0': 'Acer Aspire S7 13.3-Inch Touchscreen Ultrabook (Intel Core i5-4200U Processor up to 2.6GHz, 8GB DDR3 Memory, 256GB SSD, FHD 1080P Touchscreen Display, Backlit Keyboard, 802.11AC WiFi, Windows 8.1, 0.5 inch thin and 2.9 Lbs) Crystal White', 'system_0': 'Brand: Acer \\n Model: Aspire S7 \\n Screen Size: 13.3 inches \\n Screen Type: Touchscreen \\n Processor Brand: Intel Core i5-4200U \\n Processor Speed: 2.6GHz \\n Memory: 8GB DDR3 \\n Storage: 256GB SSD \\n Resolution: FHD 1080P \\n Keyboard: Backlit\\n Wireless Connectivity: 802.11AC WiFi \\n Operating System: Windows 8.1 \\n Color: Crystal White \\n Thickness: 0.5 inch \\n Weight: 2.9 lbs', 'input': 'Asus Vivobook S3504VA-L1227WS i7 1360P (Core i7, 15.6 inches)', 'Screen Size': '15.6 inches', 'Processor Brand': 'Core i7', 'Processor Speed': 'I do not know.'}, {'human_0': 'Acer Aspire S7 13.3-Inch Touchscreen Ultrabook (Intel Core i5-4200U Processor up to 2.6GHz, 8GB DDR3 Memory, 256GB SSD, FHD 1080P Touchscreen Display, Backlit Keyboard, 802.11AC WiFi, Windows 8.1, 0.5 inch thin and 2.9 Lbs) Crystal White', 'system_0': 'Brand: Acer \\n Model: Aspire S7 \\n Screen Size: 13.3 inches \\n Screen Type: Touchscreen \\n Processor Brand: Intel Core i5-4200U \\n Processor Speed: 2.6GHz \\n Memory: 8GB DDR3 \\n Storage: 256GB SSD \\n Resolution: FHD 1080P \\n Keyboard: Backlit\\n Wireless Connectivity: 802.11AC WiFi \\n Operating System: Windows 8.1 \\n Color: Crystal White \\n Thickness: 0.5 inch \\n Weight: 2.9 lbs', 'input': 'MSI Prestige 14Evo B13M-401VN i5 13500H (Core i5, 14.0 inches)', 'Screen Size': '14.0 inches', 'Processor Brand': 'Core i5', 'Processor Speed': 'I do not know.'}, {'human_0': 'Acer Aspire S7 13.3-Inch Touchscreen Ultrabook (Intel Core i5-4200U Processor up to 2.6GHz, 8GB DDR3 Memory, 256GB SSD, FHD 1080P Touchscreen Display, Backlit Keyboard, 802.11AC WiFi, Windows 8.1, 0.5 inch thin and 2.9 Lbs) Crystal White', 'system_0': 'Brand: Acer \\n Model: Aspire S7 \\n Screen Size: 13.3 inches \\n Screen Type: Touchscreen \\n Processor Brand: Intel Core i5-4200U \\n Processor Speed: 2.6GHz \\n Memory: 8GB DDR3 \\n Storage: 256GB SSD \\n Resolution: FHD 1080P \\n Keyboard: Backlit\\n Wireless Connectivity: 802.11AC WiFi \\n Operating System: Windows 8.1 \\n Color: Crystal White \\n Thickness: 0.5 inch \\n Weight: 2.9 lbs', 'input': 'Asus Vivobook Pro K3405ZF-KM184W i5-12500H (Core i5, 14 inches)', 'Screen Size': '14 inches', 'Processor Brand': 'Core i5', 'Processor Speed': 'I do not know.'}, {'human_0': 'Acer Aspire S7 13.3-Inch Touchscreen Ultrabook (Intel Core i5-4200U Processor up to 2.6GHz, 8GB DDR3 Memory, 256GB SSD, FHD 1080P Touchscreen Display, Backlit Keyboard, 802.11AC WiFi, Windows 8.1, 0.5 inch thin and 2.9 Lbs) Crystal White', 'system_0': 'Brand: Acer \\n Model: Aspire S7 \\n Screen Size: 13.3 inches \\n Screen Type: Touchscreen \\n Processor Brand: Intel Core i5-4200U \\n Processor Speed: 2.6GHz \\n Memory: 8GB DDR3 \\n Storage: 256GB SSD \\n Resolution: FHD 1080P \\n Keyboard: Backlit\\n Wireless Connectivity: 802.11AC WiFi \\n Operating System: Windows 8.1 \\n Color: Crystal White \\n Thickness: 0.5 inch \\n Weight: 2.9 lbs', 'input': 'Lenovo Gaming LOQ 15IAX9 i5-12450HX (83GS001RVN) (Core i5, 15.6 inches)', 'Screen Size': '15.6 inches', 'Processor Brand': 'Core i5', 'Processor Speed': 'I do not know.'}, {'human_0': 'Acer Aspire S7 13.3-Inch Touchscreen Ultrabook (Intel Core i5-4200U Processor up to 2.6GHz, 8GB DDR3 Memory, 256GB SSD, FHD 1080P Touchscreen Display, Backlit Keyboard, 802.11AC WiFi, Windows 8.1, 0.5 inch thin and 2.9 Lbs) Crystal White', 'system_0': 'Brand: Acer \\n Model: Aspire S7 \\n Screen Size: 13.3 inches \\n Screen Type: Touchscreen \\n Processor Brand: Intel Core i5-4200U \\n Processor Speed: 2.6GHz \\n Memory: 8GB DDR3 \\n Storage: 256GB SSD \\n Resolution: FHD 1080P \\n Keyboard: Backlit\\n Wireless Connectivity: 802.11AC WiFi \\n Operating System: Windows 8.1 \\n Color: Crystal White \\n Thickness: 0.5 inch \\n Weight: 2.9 lbs', 'input': 'HP ProBook 440 G10 i5 1340P (873B2PA) (Core i5, 14.0 inches)', 'Screen Size': '14.0 inches', 'Processor Brand': 'Core i5', 'Processor Speed': 'I do not know.'}, {'human_0': 'Acer Aspire S7 13.3-Inch Touchscreen Ultrabook (Intel Core i5-4200U Processor up to 2.6GHz, 8GB DDR3 Memory, 256GB SSD, FHD 1080P Touchscreen Display, Backlit Keyboard, 802.11AC WiFi, Windows 8.1, 0.5 inch thin and 2.9 Lbs) Crystal White', 'system_0': 'Brand: Acer \\n Model: Aspire S7 \\n Screen Size: 13.3 inches \\n Screen Type: Touchscreen \\n Processor Brand: Intel Core i5-4200U \\n Processor Speed: 2.6GHz \\n Memory: 8GB DDR3 \\n Storage: 256GB SSD \\n Resolution: FHD 1080P \\n Keyboard: Backlit\\n Wireless Connectivity: 802.11AC WiFi \\n Operating System: Windows 8.1 \\n Color: Crystal White \\n Thickness: 0.5 inch \\n Weight: 2.9 lbs', 'input': 'Lenovo Thinkpad E14 G5 T i5 1335U (21JK006BVN) (Core i5, 14 inches)', 'Screen Size': '14 inches', 'Processor Brand': 'Core i5', 'Processor Speed': 'I do not know.'}, {'human_0': 'Acer Aspire S7 13.3-Inch Touchscreen Ultrabook (Intel Core i5-4200U Processor up to 2.6GHz, 8GB DDR3 Memory, 256GB SSD, FHD 1080P Touchscreen Display, Backlit Keyboard, 802.11AC WiFi, Windows 8.1, 0.5 inch thin and 2.9 Lbs) Crystal White', 'system_0': 'Brand: Acer \\n Model: Aspire S7 \\n Screen Size: 13.3 inches \\n Screen Type: Touchscreen \\n Processor Brand: Intel Core i5-4200U \\n Processor Speed: 2.6GHz \\n Memory: 8GB DDR3 \\n Storage: 256GB SSD \\n Resolution: FHD 1080P \\n Keyboard: Backlit\\n Wireless Connectivity: 802.11AC WiFi \\n Operating System: Windows 8.1 \\n Color: Crystal White \\n Thickness: 0.5 inch \\n Weight: 2.9 lbs', 'input': 'Lenovo Thinkpad T14s Gen 2 i5 1145G7 (20WMS1EE00) (Core i5, 14 inches)', 'Screen Size': '14 inches', 'Processor Brand': 'Core i5', 'Processor Speed': 'I do not know.'}, {'human_0': 'Acer Aspire S7 13.3-Inch Touchscreen Ultrabook (Intel Core i5-4200U Processor up to 2.6GHz, 8GB DDR3 Memory, 256GB SSD, FHD 1080P Touchscreen Display, Backlit Keyboard, 802.11AC WiFi, Windows 8.1, 0.5 inch thin and 2.9 Lbs) Crystal White', 'system_0': 'Brand: Acer \\n Model: Aspire S7 \\n Screen Size: 13.3 inches \\n Screen Type: Touchscreen \\n Processor Brand: Intel Core i5-4200U \\n Processor Speed: 2.6GHz \\n Memory: 8GB DDR3 \\n Storage: 256GB SSD \\n Resolution: FHD 1080P \\n Keyboard: Backlit\\n Wireless Connectivity: 802.11AC WiFi \\n Operating System: Windows 8.1 \\n Color: Crystal White \\n Thickness: 0.5 inch \\n Weight: 2.9 lbs', 'input': 'HP Gaming Victus 15-fb1022AX R5-7535HS (94F19PA) (Ryzen 5, 15.6 inches)', 'Screen Size': '15.6 inches', 'Processor Brand': 'Ryzen 5', 'Processor Speed': 'I do not know.'}, {'human_0': 'Acer Aspire S7 13.3-Inch Touchscreen Ultrabook (Intel Core i5-4200U Processor up to 2.6GHz, 8GB DDR3 Memory, 256GB SSD, FHD 1080P Touchscreen Display, Backlit Keyboard, 802.11AC WiFi, Windows 8.1, 0.5 inch thin and 2.9 Lbs) Crystal White', 'system_0': 'Brand: Acer \\n Model: Aspire S7 \\n Screen Size: 13.3 inches \\n Screen Type: Touchscreen \\n Processor Brand: Intel Core i5-4200U \\n Processor Speed: 2.6GHz \\n Memory: 8GB DDR3 \\n Storage: 256GB SSD \\n Resolution: FHD 1080P \\n Keyboard: Backlit\\n Wireless Connectivity: 802.11AC WiFi \\n Operating System: Windows 8.1 \\n Color: Crystal White \\n Thickness: 0.5 inch \\n Weight: 2.9 lbs', 'input': 'Lenovo Ideapad Gaming 3 15ARH7 R5 7535HS (82SB00JUVN) (Ryzen 5, 15.6 inches)', 'Screen Size': '15.6 inches', 'Processor Brand': 'Ryzen 5', 'Processor Speed': 'I do not know.'}, {'human_0': 'Acer Aspire S7 13.3-Inch Touchscreen Ultrabook (Intel Core i5-4200U Processor up to 2.6GHz, 8GB DDR3 Memory, 256GB SSD, FHD 1080P Touchscreen Display, Backlit Keyboard, 802.11AC WiFi, Windows 8.1, 0.5 inch thin and 2.9 Lbs) Crystal White', 'system_0': 'Brand: Acer \\n Model: Aspire S7 \\n Screen Size: 13.3 inches \\n Screen Type: Touchscreen \\n Processor Brand: Intel Core i5-4200U \\n Processor Speed: 2.6GHz \\n Memory: 8GB DDR3 \\n Storage: 256GB SSD \\n Resolution: FHD 1080P \\n Keyboard: Backlit\\n Wireless Connectivity: 802.11AC WiFi \\n Operating System: Windows 8.1 \\n Color: Crystal White \\n Thickness: 0.5 inch \\n Weight: 2.9 lbs', 'input': 'HP Gaming Victus 16-e1104AX R7 6800H (7C0S9PA) (Ryzen 7, 16.1 inches)', 'Screen Size': '16.1 inches', 'Processor Brand': 'Ryzen 7', 'Processor Speed': 'I do not know.'}, {'human_0': 'Acer Aspire S7 13.3-Inch Touchscreen Ultrabook (Intel Core i5-4200U Processor up to 2.6GHz, 8GB DDR3 Memory, 256GB SSD, FHD 1080P Touchscreen Display, Backlit Keyboard, 802.11AC WiFi, Windows 8.1, 0.5 inch thin and 2.9 Lbs) Crystal White', 'system_0': 'Brand: Acer \\n Model: Aspire S7 \\n Screen Size: 13.3 inches \\n Screen Type: Touchscreen \\n Processor Brand: Intel Core i5-4200U \\n Processor Speed: 2.6GHz \\n Memory: 8GB DDR3 \\n Storage: 256GB SSD \\n Resolution: FHD 1080P \\n Keyboard: Backlit\\n Wireless Connectivity: 802.11AC WiFi \\n Operating System: Windows 8.1 \\n Color: Crystal White \\n Thickness: 0.5 inch \\n Weight: 2.9 lbs', 'input': 'Asus Zenbook UX3402ZA-KM218W i5 1240P (Core i5, 14.0 inches)', 'Screen Size': '14.0 inches', 'Processor Brand': 'Core i5', 'Processor Speed': 'I do not know.'}, {'human_0': 'Acer Aspire S7 13.3-Inch Touchscreen Ultrabook (Intel Core i5-4200U Processor up to 2.6GHz, 8GB DDR3 Memory, 256GB SSD, FHD 1080P Touchscreen Display, Backlit Keyboard, 802.11AC WiFi, Windows 8.1, 0.5 inch thin and 2.9 Lbs) Crystal White', 'system_0': 'Brand: Acer \\n Model: Aspire S7 \\n Screen Size: 13.3 inches \\n Screen Type: Touchscreen \\n Processor Brand: Intel Core i5-4200U \\n Processor Speed: 2.6GHz \\n Memory: 8GB DDR3 \\n Storage: 256GB SSD \\n Resolution: FHD 1080P \\n Keyboard: Backlit\\n Wireless Connectivity: 802.11AC WiFi \\n Operating System: Windows 8.1 \\n Color: Crystal White \\n Thickness: 0.5 inch \\n Weight: 2.9 lbs', 'input': 'Asus TUF Gaming FX517ZC-HN077W i5 12450H (Core i5, 15.6 inches)', 'Screen Size': '15.6 inches', 'Processor Brand': 'Core i5', 'Processor Speed': 'I do not know.'}, {'human_0': 'Acer Aspire S7 13.3-Inch Touchscreen Ultrabook (Intel Core i5-4200U Processor up to 2.6GHz, 8GB DDR3 Memory, 256GB SSD, FHD 1080P Touchscreen Display, Backlit Keyboard, 802.11AC WiFi, Windows 8.1, 0.5 inch thin and 2.9 Lbs) Crystal White', 'system_0': 'Brand: Acer \\n Model: Aspire S7 \\n Screen Size: 13.3 inches \\n Screen Type: Touchscreen \\n Processor Brand: Intel Core i5-4200U \\n Processor Speed: 2.6GHz \\n Memory: 8GB DDR3 \\n Storage: 256GB SSD \\n Resolution: FHD 1080P \\n Keyboard: Backlit\\n Wireless Connectivity: 802.11AC WiFi \\n Operating System: Windows 8.1 \\n Color: Crystal White \\n Thickness: 0.5 inch \\n Weight: 2.9 lbs', 'input': 'HP Pavilion 14-dv2072TU i7 1255U (7C0W1PA) (Core i7, 14.0 inches)', 'Screen Size': '14.0 inches', 'Processor Brand': 'Core i7', 'Processor Speed': 'I do not know.'}, {'human_0': 'Acer Aspire S7 13.3-Inch Touchscreen Ultrabook (Intel Core i5-4200U Processor up to 2.6GHz, 8GB DDR3 Memory, 256GB SSD, FHD 1080P Touchscreen Display, Backlit Keyboard, 802.11AC WiFi, Windows 8.1, 0.5 inch thin and 2.9 Lbs) Crystal White', 'system_0': 'Brand: Acer \\n Model: Aspire S7 \\n Screen Size: 13.3 inches \\n Screen Type: Touchscreen \\n Processor Brand: Intel Core i5-4200U \\n Processor Speed: 2.6GHz \\n Memory: 8GB DDR3 \\n Storage: 256GB SSD \\n Resolution: FHD 1080P \\n Keyboard: Backlit\\n Wireless Connectivity: 802.11AC WiFi \\n Operating System: Windows 8.1 \\n Color: Crystal White \\n Thickness: 0.5 inch \\n Weight: 2.9 lbs', 'input': 'HP Pavilion 15-eg3111TU i5 1335U (8U6L8PA) (Core i5, 15.6 inches)', 'Screen Size': '15.6 inches', 'Processor Brand': 'Core i5', 'Processor Speed': 'I do not know.'}, {'human_0': 'Acer Aspire S7 13.3-Inch Touchscreen Ultrabook (Intel Core i5-4200U Processor up to 2.6GHz, 8GB DDR3 Memory, 256GB SSD, FHD 1080P Touchscreen Display, Backlit Keyboard, 802.11AC WiFi, Windows 8.1, 0.5 inch thin and 2.9 Lbs) Crystal White', 'system_0': 'Brand: Acer \\n Model: Aspire S7 \\n Screen Size: 13.3 inches \\n Screen Type: Touchscreen \\n Processor Brand: Intel Core i5-4200U \\n Processor Speed: 2.6GHz \\n Memory: 8GB DDR3 \\n Storage: 256GB SSD \\n Resolution: FHD 1080P \\n Keyboard: Backlit\\n Wireless Connectivity: 802.11AC WiFi \\n Operating System: Windows 8.1 \\n Color: Crystal White \\n Thickness: 0.5 inch \\n Weight: 2.9 lbs', 'input': 'Macbook Air 13 2020 M1/8GB/256GB SSD (M1, 13.3 inches)', 'Screen Size': '13.3 inches', 'Processor Brand': 'M1', 'Processor Speed': 'I do not know.'}, {'human_0': 'Acer Aspire S7 13.3-Inch Touchscreen Ultrabook (Intel Core i5-4200U Processor up to 2.6GHz, 8GB DDR3 Memory, 256GB SSD, FHD 1080P Touchscreen Display, Backlit Keyboard, 802.11AC WiFi, Windows 8.1, 0.5 inch thin and 2.9 Lbs) Crystal White', 'system_0': 'Brand: Acer \\n Model: Aspire S7 \\n Screen Size: 13.3 inches \\n Screen Type: Touchscreen \\n Processor Brand: Intel Core i5-4200U \\n Processor Speed: 2.6GHz \\n Memory: 8GB DDR3 \\n Storage: 256GB SSD \\n Resolution: FHD 1080P \\n Keyboard: Backlit\\n Wireless Connectivity: 802.11AC WiFi \\n Operating System: Windows 8.1 \\n Color: Crystal White \\n Thickness: 0.5 inch \\n Weight: 2.9 lbs', 'input': 'Lenovo ThinkPad E14 Gen 4 i7 1255U (21E300E3VN) (Core i7, 14.0 inches)', 'Screen Size': '14.0 inches', 'Processor Brand': 'Core i7', 'Processor Speed': 'I do not know.'}, {'human_0': 'Acer Aspire S7 13.3-Inch Touchscreen Ultrabook (Intel Core i5-4200U Processor up to 2.6GHz, 8GB DDR3 Memory, 256GB SSD, FHD 1080P Touchscreen Display, Backlit Keyboard, 802.11AC WiFi, Windows 8.1, 0.5 inch thin and 2.9 Lbs) Crystal White', 'system_0': 'Brand: Acer \\n Model: Aspire S7 \\n Screen Size: 13.3 inches \\n Screen Type: Touchscreen \\n Processor Brand: Intel Core i5-4200U \\n Processor Speed: 2.6GHz \\n Memory: 8GB DDR3 \\n Storage: 256GB SSD \\n Resolution: FHD 1080P \\n Keyboard: Backlit\\n Wireless Connectivity: 802.11AC WiFi \\n Operating System: Windows 8.1 \\n Color: Crystal White \\n Thickness: 0.5 inch \\n Weight: 2.9 lbs', 'input': 'Lenovo ThinkBook 15 G5 ABP R5 7530U (21JF001SVN) (Ryzen 5, 15.6 inches)', 'Screen Size': '15.6 inches', 'Processor Brand': 'Ryzen 5', 'Processor Speed': 'I do not know.'}, {'human_0': 'Acer Aspire S7 13.3-Inch Touchscreen Ultrabook (Intel Core i5-4200U Processor up to 2.6GHz, 8GB DDR3 Memory, 256GB SSD, FHD 1080P Touchscreen Display, Backlit Keyboard, 802.11AC WiFi, Windows 8.1, 0.5 inch thin and 2.9 Lbs) Crystal White', 'system_0': 'Brand: Acer \\n Model: Aspire S7 \\n Screen Size: 13.3 inches \\n Screen Type: Touchscreen \\n Processor Brand: Intel Core i5-4200U \\n Processor Speed: 2.6GHz \\n Memory: 8GB DDR3 \\n Storage: 256GB SSD \\n Resolution: FHD 1080P \\n Keyboard: Backlit\\n Wireless Connectivity: 802.11AC WiFi \\n Operating System: Windows 8.1 \\n Color: Crystal White \\n Thickness: 0.5 inch \\n Weight: 2.9 lbs', 'input': 'Acer Gaming Aspire 5 A515-58GM-59QZ i5 13420H (NX.KQ4SV.006) (Core i5, 15.6 inches)', 'Screen Size': '15.6 inches', 'Processor Brand': 'Core i5', 'Processor Speed': 'I do not know.'}, {'human_0': 'Acer Aspire S7 13.3-Inch Touchscreen Ultrabook (Intel Core i5-4200U Processor up to 2.6GHz, 8GB DDR3 Memory, 256GB SSD, FHD 1080P Touchscreen Display, Backlit Keyboard, 802.11AC WiFi, Windows 8.1, 0.5 inch thin and 2.9 Lbs) Crystal White', 'system_0': 'Brand: Acer \\n Model: Aspire S7 \\n Screen Size: 13.3 inches \\n Screen Type: Touchscreen \\n Processor Brand: Intel Core i5-4200U \\n Processor Speed: 2.6GHz \\n Memory: 8GB DDR3 \\n Storage: 256GB SSD \\n Resolution: FHD 1080P \\n Keyboard: Backlit\\n Wireless Connectivity: 802.11AC WiFi \\n Operating System: Windows 8.1 \\n Color: Crystal White \\n Thickness: 0.5 inch \\n Weight: 2.9 lbs', 'input': 'HP Pavilion 15-eg3095TU i5 1335U (8C5L6PA) (Core i5, 15.6 inches)', 'Screen Size': '15.6 inches', 'Processor Brand': 'Core i5', 'Processor Speed': 'I do not know.'}, {'human_0': 'Acer Aspire S7 13.3-Inch Touchscreen Ultrabook (Intel Core i5-4200U Processor up to 2.6GHz, 8GB DDR3 Memory, 256GB SSD, FHD 1080P Touchscreen Display, Backlit Keyboard, 802.11AC WiFi, Windows 8.1, 0.5 inch thin and 2.9 Lbs) Crystal White', 'system_0': 'Brand: Acer \\n Model: Aspire S7 \\n Screen Size: 13.3 inches \\n Screen Type: Touchscreen \\n Processor Brand: Intel Core i5-4200U \\n Processor Speed: 2.6GHz \\n Memory: 8GB DDR3 \\n Storage: 256GB SSD \\n Resolution: FHD 1080P \\n Keyboard: Backlit\\n Wireless Connectivity: 802.11AC WiFi \\n Operating System: Windows 8.1 \\n Color: Crystal White \\n Thickness: 0.5 inch \\n Weight: 2.9 lbs', 'input': 'Lenovo IdeaPad Slim 5 14IRL8 i5 13500H (82XD002VVN) (Core i5, 14.0 inches)', 'Screen Size': '14.0 inches', 'Processor Brand': 'Core i5', 'Processor Speed': 'I do not know.'}, {'human_0': 'Acer Aspire S7 13.3-Inch Touchscreen Ultrabook (Intel Core i5-4200U Processor up to 2.6GHz, 8GB DDR3 Memory, 256GB SSD, FHD 1080P Touchscreen Display, Backlit Keyboard, 802.11AC WiFi, Windows 8.1, 0.5 inch thin and 2.9 Lbs) Crystal White', 'system_0': 'Brand: Acer \\n Model: Aspire S7 \\n Screen Size: 13.3 inches \\n Screen Type: Touchscreen \\n Processor Brand: Intel Core i5-4200U \\n Processor Speed: 2.6GHz \\n Memory: 8GB DDR3 \\n Storage: 256GB SSD \\n Resolution: FHD 1080P \\n Keyboard: Backlit\\n Wireless Connectivity: 802.11AC WiFi \\n Operating System: Windows 8.1 \\n Color: Crystal White \\n Thickness: 0.5 inch \\n Weight: 2.9 lbs', 'input': 'Gigabyte Gaming A5 K1-AVN1030SB R5 5600H (Ryzen 5, 15.6 inches)', 'Screen Size': '15.6 inches', 'Processor Brand': 'Ryzen 5', 'Processor Speed': 'I do not know.'}, {'human_0': 'Acer Aspire S7 13.3-Inch Touchscreen Ultrabook (Intel Core i5-4200U Processor up to 2.6GHz, 8GB DDR3 Memory, 256GB SSD, FHD 1080P Touchscreen Display, Backlit Keyboard, 802.11AC WiFi, Windows 8.1, 0.5 inch thin and 2.9 Lbs) Crystal White', 'system_0': 'Brand: Acer \\n Model: Aspire S7 \\n Screen Size: 13.3 inches \\n Screen Type: Touchscreen \\n Processor Brand: Intel Core i5-4200U \\n Processor Speed: 2.6GHz \\n Memory: 8GB DDR3 \\n Storage: 256GB SSD \\n Resolution: FHD 1080P \\n Keyboard: Backlit\\n Wireless Connectivity: 802.11AC WiFi \\n Operating System: Windows 8.1 \\n Color: Crystal White \\n Thickness: 0.5 inch \\n Weight: 2.9 lbs', 'input': 'Lenovo ThinkBook 14 G4 IAP i5 1235U (21DH00BAVN) (Core i5, 14.0 inches)', 'Screen Size': '14.0 inches', 'Processor Brand': 'Core i5', 'Processor Speed': 'I do not know.'}, {'human_0': 'Acer Aspire S7 13.3-Inch Touchscreen Ultrabook (Intel Core i5-4200U Processor up to 2.6GHz, 8GB DDR3 Memory, 256GB SSD, FHD 1080P Touchscreen Display, Backlit Keyboard, 802.11AC WiFi, Windows 8.1, 0.5 inch thin and 2.9 Lbs) Crystal White', 'system_0': 'Brand: Acer \\n Model: Aspire S7 \\n Screen Size: 13.3 inches \\n Screen Type: Touchscreen \\n Processor Brand: Intel Core i5-4200U \\n Processor Speed: 2.6GHz \\n Memory: 8GB DDR3 \\n Storage: 256GB SSD \\n Resolution: FHD 1080P \\n Keyboard: Backlit\\n Wireless Connectivity: 802.11AC WiFi \\n Operating System: Windows 8.1 \\n Color: Crystal White \\n Thickness: 0.5 inch \\n Weight: 2.9 lbs', 'input': 'MSI Gaming Cyborg 15 A12UCX-618VN i5 12450H (Core i5, 15.6 inches)', 'Screen Size': '15.6 inches', 'Processor Brand': 'Core i5', 'Processor Speed': 'I do not know.'}, {'human_0': 'Acer Aspire S7 13.3-Inch Touchscreen Ultrabook (Intel Core i5-4200U Processor up to 2.6GHz, 8GB DDR3 Memory, 256GB SSD, FHD 1080P Touchscreen Display, Backlit Keyboard, 802.11AC WiFi, Windows 8.1, 0.5 inch thin and 2.9 Lbs) Crystal White', 'system_0': 'Brand: Acer \\n Model: Aspire S7 \\n Screen Size: 13.3 inches \\n Screen Type: Touchscreen \\n Processor Brand: Intel Core i5-4200U \\n Processor Speed: 2.6GHz \\n Memory: 8GB DDR3 \\n Storage: 256GB SSD \\n Resolution: FHD 1080P \\n Keyboard: Backlit\\n Wireless Connectivity: 802.11AC WiFi \\n Operating System: Windows 8.1 \\n Color: Crystal White \\n Thickness: 0.5 inch \\n Weight: 2.9 lbs', 'input': 'Acer Aspire 7 Gaming A715-76G-55T6 i5 12450H (NH.QMYSV.003) (Core i5, 15.6 inches)', 'Screen Size': '15.6 inches', 'Processor Brand': 'Core i5', 'Processor Speed': 'I do not know.'}, {'human_0': 'Acer Aspire S7 13.3-Inch Touchscreen Ultrabook (Intel Core i5-4200U Processor up to 2.6GHz, 8GB DDR3 Memory, 256GB SSD, FHD 1080P Touchscreen Display, Backlit Keyboard, 802.11AC WiFi, Windows 8.1, 0.5 inch thin and 2.9 Lbs) Crystal White', 'system_0': 'Brand: Acer \\n Model: Aspire S7 \\n Screen Size: 13.3 inches \\n Screen Type: Touchscreen \\n Processor Brand: Intel Core i5-4200U \\n Processor Speed: 2.6GHz \\n Memory: 8GB DDR3 \\n Storage: 256GB SSD \\n Resolution: FHD 1080P \\n Keyboard: Backlit\\n Wireless Connectivity: 802.11AC WiFi \\n Operating System: Windows 8.1 \\n Color: Crystal White \\n Thickness: 0.5 inch \\n Weight: 2.9 lbs', 'input': 'HP 15-fd0079TU i5 1335U (8D732PA) (Core i5, 15.6 inches)', 'Screen Size': '15.6 inches', 'Processor Brand': 'Core i5', 'Processor Speed': 'I do not know.'}, {'human_0': 'Acer Aspire S7 13.3-Inch Touchscreen Ultrabook (Intel Core i5-4200U Processor up to 2.6GHz, 8GB DDR3 Memory, 256GB SSD, FHD 1080P Touchscreen Display, Backlit Keyboard, 802.11AC WiFi, Windows 8.1, 0.5 inch thin and 2.9 Lbs) Crystal White', 'system_0': 'Brand: Acer \\n Model: Aspire S7 \\n Screen Size: 13.3 inches \\n Screen Type: Touchscreen \\n Processor Brand: Intel Core i5-4200U \\n Processor Speed: 2.6GHz \\n Memory: 8GB DDR3 \\n Storage: 256GB SSD \\n Resolution: FHD 1080P \\n Keyboard: Backlit\\n Wireless Connectivity: 802.11AC WiFi \\n Operating System: Windows 8.1 \\n Color: Crystal White \\n Thickness: 0.5 inch \\n Weight: 2.9 lbs', 'input': 'HP 15s-fq5146TU i7 1255U (7C0R9PA) (Core i7, 15.6 inches)', 'Screen Size': '15.6 inches', 'Processor Brand': 'Core i7', 'Processor Speed': 'I do not know.'}, {'human_0': 'Acer Aspire S7 13.3-Inch Touchscreen Ultrabook (Intel Core i5-4200U Processor up to 2.6GHz, 8GB DDR3 Memory, 256GB SSD, FHD 1080P Touchscreen Display, Backlit Keyboard, 802.11AC WiFi, Windows 8.1, 0.5 inch thin and 2.9 Lbs) Crystal White', 'system_0': 'Brand: Acer \\n Model: Aspire S7 \\n Screen Size: 13.3 inches \\n Screen Type: Touchscreen \\n Processor Brand: Intel Core i5-4200U \\n Processor Speed: 2.6GHz \\n Memory: 8GB DDR3 \\n Storage: 256GB SSD \\n Resolution: FHD 1080P \\n Keyboard: Backlit\\n Wireless Connectivity: 802.11AC WiFi \\n Operating System: Windows 8.1 \\n Color: Crystal White \\n Thickness: 0.5 inch \\n Weight: 2.9 lbs', 'input': 'HP 15s fq5160TU i5 1235U (7C0S1PA) (Core i5, 15.6 inches)', 'Screen Size': '15.6 inches', 'Processor Brand': 'Core i5', 'Processor Speed': 'I do not know.'}, {'human_0': 'Acer Aspire S7 13.3-Inch Touchscreen Ultrabook (Intel Core i5-4200U Processor up to 2.6GHz, 8GB DDR3 Memory, 256GB SSD, FHD 1080P Touchscreen Display, Backlit Keyboard, 802.11AC WiFi, Windows 8.1, 0.5 inch thin and 2.9 Lbs) Crystal White', 'system_0': 'Brand: Acer \\n Model: Aspire S7 \\n Screen Size: 13.3 inches \\n Screen Type: Touchscreen \\n Processor Brand: Intel Core i5-4200U \\n Processor Speed: 2.6GHz \\n Memory: 8GB DDR3 \\n Storage: 256GB SSD \\n Resolution: FHD 1080P \\n Keyboard: Backlit\\n Wireless Connectivity: 802.11AC WiFi \\n Operating System: Windows 8.1 \\n Color: Crystal White \\n Thickness: 0.5 inch \\n Weight: 2.9 lbs', 'input': 'HP 15s-fq5146TU i7 1255U (7C0R9PA) (Core i7, 15.6 inches)', 'Screen Size': '15.6 inches', 'Processor Brand': 'Core i7', 'Processor Speed': 'I do not know.'}, {'human_0': 'Acer Aspire S7 13.3-Inch Touchscreen Ultrabook (Intel Core i5-4200U Processor up to 2.6GHz, 8GB DDR3 Memory, 256GB SSD, FHD 1080P Touchscreen Display, Backlit Keyboard, 802.11AC WiFi, Windows 8.1, 0.5 inch thin and 2.9 Lbs) Crystal White', 'system_0': 'Brand: Acer \\n Model: Aspire S7 \\n Screen Size: 13.3 inches \\n Screen Type: Touchscreen \\n Processor Brand: Intel Core i5-4200U \\n Processor Speed: 2.6GHz \\n Memory: 8GB DDR3 \\n Storage: 256GB SSD \\n Resolution: FHD 1080P \\n Keyboard: Backlit\\n Wireless Connectivity: 802.11AC WiFi \\n Operating System: Windows 8.1 \\n Color: Crystal White \\n Thickness: 0.5 inch \\n Weight: 2.9 lbs', 'input': 'Acer Nitro 5 Gaming AN515-57-53F9 i5 11400H (NH.QENSV.008) (Core i5, 15.6 inches)', 'Screen Size': '15.6 inches', 'Processor Brand': 'Core i5', 'Processor Speed': 'I do not know.'}, {'human_0': 'Acer Aspire S7 13.3-Inch Touchscreen Ultrabook (Intel Core i5-4200U Processor up to 2.6GHz, 8GB DDR3 Memory, 256GB SSD, FHD 1080P Touchscreen Display, Backlit Keyboard, 802.11AC WiFi, Windows 8.1, 0.5 inch thin and 2.9 Lbs) Crystal White', 'system_0': 'Brand: Acer \\n Model: Aspire S7 \\n Screen Size: 13.3 inches \\n Screen Type: Touchscreen \\n Processor Brand: Intel Core i5-4200U \\n Processor Speed: 2.6GHz \\n Memory: 8GB DDR3 \\n Storage: 256GB SSD \\n Resolution: FHD 1080P \\n Keyboard: Backlit\\n Wireless Connectivity: 802.11AC WiFi \\n Operating System: Windows 8.1 \\n Color: Crystal White \\n Thickness: 0.5 inch \\n Weight: 2.9 lbs', 'input': 'Acer Nitro Gaming AN515-57-54MV i5 11400H (NH.QENSV.003) (Core i5, 15.6 inches)', 'Screen Size': '15.6 inches', 'Processor Brand': 'Core i5', 'Processor Speed': 'I do not know.'}, {'human_0': 'Acer Aspire S7 13.3-Inch Touchscreen Ultrabook (Intel Core i5-4200U Processor up to 2.6GHz, 8GB DDR3 Memory, 256GB SSD, FHD 1080P Touchscreen Display, Backlit Keyboard, 802.11AC WiFi, Windows 8.1, 0.5 inch thin and 2.9 Lbs) Crystal White', 'system_0': 'Brand: Acer \\n Model: Aspire S7 \\n Screen Size: 13.3 inches \\n Screen Type: Touchscreen \\n Processor Brand: Intel Core i5-4200U \\n Processor Speed: 2.6GHz \\n Memory: 8GB DDR3 \\n Storage: 256GB SSD \\n Resolution: FHD 1080P \\n Keyboard: Backlit\\n Wireless Connectivity: 802.11AC WiFi \\n Operating System: Windows 8.1 \\n Color: Crystal White \\n Thickness: 0.5 inch \\n Weight: 2.9 lbs', 'input': 'Acer Nitro Gaming AN515-57-5669 i5 11400H (NH.QEHSV.001) (Core i5, 15.6 inches)', 'Screen Size': '15.6 inches', 'Processor Brand': 'Core i5', 'Processor Speed': 'I do not know.'}, {'human_0': 'Acer Aspire S7 13.3-Inch Touchscreen Ultrabook (Intel Core i5-4200U Processor up to 2.6GHz, 8GB DDR3 Memory, 256GB SSD, FHD 1080P Touchscreen Display, Backlit Keyboard, 802.11AC WiFi, Windows 8.1, 0.5 inch thin and 2.9 Lbs) Crystal White', 'system_0': 'Brand: Acer \\n Model: Aspire S7 \\n Screen Size: 13.3 inches \\n Screen Type: Touchscreen \\n Processor Brand: Intel Core i5-4200U \\n Processor Speed: 2.6GHz \\n Memory: 8GB DDR3 \\n Storage: 256GB SSD \\n Resolution: FHD 1080P \\n Keyboard: Backlit\\n Wireless Connectivity: 802.11AC WiFi \\n Operating System: Windows 8.1 \\n Color: Crystal White \\n Thickness: 0.5 inch \\n Weight: 2.9 lbs', 'input': 'Acer Aspire 7 A715-76-53PJ i5 12450H (NH.QGESV.007) (Core i5, 15.6 inches)', 'Screen Size': '15.6 inches', 'Processor Brand': 'Core i5', 'Processor Speed': 'I do not know.'}, {'human_0': 'Acer Aspire S7 13.3-Inch Touchscreen Ultrabook (Intel Core i5-4200U Processor up to 2.6GHz, 8GB DDR3 Memory, 256GB SSD, FHD 1080P Touchscreen Display, Backlit Keyboard, 802.11AC WiFi, Windows 8.1, 0.5 inch thin and 2.9 Lbs) Crystal White', 'system_0': 'Brand: Acer \\n Model: Aspire S7 \\n Screen Size: 13.3 inches \\n Screen Type: Touchscreen \\n Processor Brand: Intel Core i5-4200U \\n Processor Speed: 2.6GHz \\n Memory: 8GB DDR3 \\n Storage: 256GB SSD \\n Resolution: FHD 1080P \\n Keyboard: Backlit\\n Wireless Connectivity: 802.11AC WiFi \\n Operating System: Windows 8.1 \\n Color: Crystal White \\n Thickness: 0.5 inch \\n Weight: 2.9 lbs', 'input': 'VAIO FE14 i5 1235U (VWNC51427-BK) (Core i5, 14.0 inches)', 'Screen Size': '14.0 inches', 'Processor Brand': 'Core i5', 'Processor Speed': 'I do not know.'}, {'human_0': 'Acer Aspire S7 13.3-Inch Touchscreen Ultrabook (Intel Core i5-4200U Processor up to 2.6GHz, 8GB DDR3 Memory, 256GB SSD, FHD 1080P Touchscreen Display, Backlit Keyboard, 802.11AC WiFi, Windows 8.1, 0.5 inch thin and 2.9 Lbs) Crystal White', 'system_0': 'Brand: Acer \\n Model: Aspire S7 \\n Screen Size: 13.3 inches \\n Screen Type: Touchscreen \\n Processor Brand: Intel Core i5-4200U \\n Processor Speed: 2.6GHz \\n Memory: 8GB DDR3 \\n Storage: 256GB SSD \\n Resolution: FHD 1080P \\n Keyboard: Backlit\\n Wireless Connectivity: 802.11AC WiFi \\n Operating System: Windows 8.1 \\n Color: Crystal White \\n Thickness: 0.5 inch \\n Weight: 2.9 lbs', 'input': 'Acer Aspire Gaming A715-43G-R8GA R5 5625U (NH.QHDSV.002) (Ryzen 5, 15.6 inches)', 'Screen Size': '15.6 inches', 'Processor Brand': 'Ryzen 5', 'Processor Speed': 'I do not know.'}, {'human_0': 'Acer Aspire S7 13.3-Inch Touchscreen Ultrabook (Intel Core i5-4200U Processor up to 2.6GHz, 8GB DDR3 Memory, 256GB SSD, FHD 1080P Touchscreen Display, Backlit Keyboard, 802.11AC WiFi, Windows 8.1, 0.5 inch thin and 2.9 Lbs) Crystal White', 'system_0': 'Brand: Acer \\n Model: Aspire S7 \\n Screen Size: 13.3 inches \\n Screen Type: Touchscreen \\n Processor Brand: Intel Core i5-4200U \\n Processor Speed: 2.6GHz \\n Memory: 8GB DDR3 \\n Storage: 256GB SSD \\n Resolution: FHD 1080P \\n Keyboard: Backlit\\n Wireless Connectivity: 802.11AC WiFi \\n Operating System: Windows 8.1 \\n Color: Crystal White \\n Thickness: 0.5 inch \\n Weight: 2.9 lbs', 'input': 'Acer Aspire 5 A515-58GM-53PZ i5 13420H (Core i5, 15.6 inches)', 'Screen Size': '15.6 inches', 'Processor Brand': 'Core i5', 'Processor Speed': 'I do not know.'}, {'human_0': 'Acer Aspire S7 13.3-Inch Touchscreen Ultrabook (Intel Core i5-4200U Processor up to 2.6GHz, 8GB DDR3 Memory, 256GB SSD, FHD 1080P Touchscreen Display, Backlit Keyboard, 802.11AC WiFi, Windows 8.1, 0.5 inch thin and 2.9 Lbs) Crystal White', 'system_0': 'Brand: Acer \\n Model: Aspire S7 \\n Screen Size: 13.3 inches \\n Screen Type: Touchscreen \\n Processor Brand: Intel Core i5-4200U \\n Processor Speed: 2.6GHz \\n Memory: 8GB DDR3 \\n Storage: 256GB SSD \\n Resolution: FHD 1080P \\n Keyboard: Backlit\\n Wireless Connectivity: 802.11AC WiFi \\n Operating System: Windows 8.1 \\n Color: Crystal White \\n Thickness: 0.5 inch \\n Weight: 2.9 lbs', 'input': 'Acer Swift Go SFG14-41-R19Z R5 7530U (NX.KG3SV.001) (Ryzen 5, 14 inches)', 'Screen Size': '14 inches', 'Processor Brand': 'Ryzen 5', 'Processor Speed': 'I do not know.'}, {'human_0': 'Acer Aspire S7 13.3-Inch Touchscreen Ultrabook (Intel Core i5-4200U Processor up to 2.6GHz, 8GB DDR3 Memory, 256GB SSD, FHD 1080P Touchscreen Display, Backlit Keyboard, 802.11AC WiFi, Windows 8.1, 0.5 inch thin and 2.9 Lbs) Crystal White', 'system_0': 'Brand: Acer \\n Model: Aspire S7 \\n Screen Size: 13.3 inches \\n Screen Type: Touchscreen \\n Processor Brand: Intel Core i5-4200U \\n Processor Speed: 2.6GHz \\n Memory: 8GB DDR3 \\n Storage: 256GB SSD \\n Resolution: FHD 1080P \\n Keyboard: Backlit\\n Wireless Connectivity: 802.11AC WiFi \\n Operating System: Windows 8.1 \\n Color: Crystal White \\n Thickness: 0.5 inch \\n Weight: 2.9 lbs', 'input': 'MSI Gaming Cyborg 15 A12UCX-281VN i5 12450H (Core i5, 15.6 inches)', 'Screen Size': '15.6 inches', 'Processor Brand': 'Core i5', 'Processor Speed': 'I do not know.'}, {'human_0': 'Acer Aspire S7 13.3-Inch Touchscreen Ultrabook (Intel Core i5-4200U Processor up to 2.6GHz, 8GB DDR3 Memory, 256GB SSD, FHD 1080P Touchscreen Display, Backlit Keyboard, 802.11AC WiFi, Windows 8.1, 0.5 inch thin and 2.9 Lbs) Crystal White', 'system_0': 'Brand: Acer \\n Model: Aspire S7 \\n Screen Size: 13.3 inches \\n Screen Type: Touchscreen \\n Processor Brand: Intel Core i5-4200U \\n Processor Speed: 2.6GHz \\n Memory: 8GB DDR3 \\n Storage: 256GB SSD \\n Resolution: FHD 1080P \\n Keyboard: Backlit\\n Wireless Connectivity: 802.11AC WiFi \\n Operating System: Windows 8.1 \\n Color: Crystal White \\n Thickness: 0.5 inch \\n Weight: 2.9 lbs', 'input': 'Lenovo Ideapad Slim 5 Light 14ABR8 R7 7730U (82XS002JVN) (Ryzen 7, 14.0 inches)', 'Screen Size': '14.0 inches', 'Processor Brand': 'Ryzen 7', 'Processor Speed': 'I do not know.'}, {'human_0': 'Acer Aspire S7 13.3-Inch Touchscreen Ultrabook (Intel Core i5-4200U Processor up to 2.6GHz, 8GB DDR3 Memory, 256GB SSD, FHD 1080P Touchscreen Display, Backlit Keyboard, 802.11AC WiFi, Windows 8.1, 0.5 inch thin and 2.9 Lbs) Crystal White', 'system_0': 'Brand: Acer \\n Model: Aspire S7 \\n Screen Size: 13.3 inches \\n Screen Type: Touchscreen \\n Processor Brand: Intel Core i5-4200U \\n Processor Speed: 2.6GHz \\n Memory: 8GB DDR3 \\n Storage: 256GB SSD \\n Resolution: FHD 1080P \\n Keyboard: Backlit\\n Wireless Connectivity: 802.11AC WiFi \\n Operating System: Windows 8.1 \\n Color: Crystal White \\n Thickness: 0.5 inch \\n Weight: 2.9 lbs', 'input': 'Asus Vivobook A1503ZA-L1139W i5 12500H (Core i5, 15.6 inches)', 'Screen Size': '15.6 inches', 'Processor Brand': 'Core i5', 'Processor Speed': 'I do not know.'}, {'human_0': 'Acer Aspire S7 13.3-Inch Touchscreen Ultrabook (Intel Core i5-4200U Processor up to 2.6GHz, 8GB DDR3 Memory, 256GB SSD, FHD 1080P Touchscreen Display, Backlit Keyboard, 802.11AC WiFi, Windows 8.1, 0.5 inch thin and 2.9 Lbs) Crystal White', 'system_0': 'Brand: Acer \\n Model: Aspire S7 \\n Screen Size: 13.3 inches \\n Screen Type: Touchscreen \\n Processor Brand: Intel Core i5-4200U \\n Processor Speed: 2.6GHz \\n Memory: 8GB DDR3 \\n Storage: 256GB SSD \\n Resolution: FHD 1080P \\n Keyboard: Backlit\\n Wireless Connectivity: 802.11AC WiFi \\n Operating System: Windows 8.1 \\n Color: Crystal White \\n Thickness: 0.5 inch \\n Weight: 2.9 lbs', 'input': 'Acer Aspire 7 Gaming A715-43G-R09Q R5 5625U (NH.QHBSV.003) (Ryzen 5, 15.6 inches)', 'Screen Size': '15.6 inches', 'Processor Brand': 'Ryzen 5', 'Processor Speed': 'I do not know.'}, {'human_0': 'Acer Aspire S7 13.3-Inch Touchscreen Ultrabook (Intel Core i5-4200U Processor up to 2.6GHz, 8GB DDR3 Memory, 256GB SSD, FHD 1080P Touchscreen Display, Backlit Keyboard, 802.11AC WiFi, Windows 8.1, 0.5 inch thin and 2.9 Lbs) Crystal White', 'system_0': 'Brand: Acer \\n Model: Aspire S7 \\n Screen Size: 13.3 inches \\n Screen Type: Touchscreen \\n Processor Brand: Intel Core i5-4200U \\n Processor Speed: 2.6GHz \\n Memory: 8GB DDR3 \\n Storage: 256GB SSD \\n Resolution: FHD 1080P \\n Keyboard: Backlit\\n Wireless Connectivity: 802.11AC WiFi \\n Operating System: Windows 8.1 \\n Color: Crystal White \\n Thickness: 0.5 inch \\n Weight: 2.9 lbs', 'input': 'Acer Aspire 5 A515-58P-56RP i5 1335U (NX.KHJSV.008) (Core i5, 15.6 inches)', 'Screen Size': '15.6 inches', 'Processor Brand': 'Core i5', 'Processor Speed': 'I do not know.'}, {'human_0': 'Acer Aspire S7 13.3-Inch Touchscreen Ultrabook (Intel Core i5-4200U Processor up to 2.6GHz, 8GB DDR3 Memory, 256GB SSD, FHD 1080P Touchscreen Display, Backlit Keyboard, 802.11AC WiFi, Windows 8.1, 0.5 inch thin and 2.9 Lbs) Crystal White', 'system_0': 'Brand: Acer \\n Model: Aspire S7 \\n Screen Size: 13.3 inches \\n Screen Type: Touchscreen \\n Processor Brand: Intel Core i5-4200U \\n Processor Speed: 2.6GHz \\n Memory: 8GB DDR3 \\n Storage: 256GB SSD \\n Resolution: FHD 1080P \\n Keyboard: Backlit\\n Wireless Connectivity: 802.11AC WiFi \\n Operating System: Windows 8.1 \\n Color: Crystal White \\n Thickness: 0.5 inch \\n Weight: 2.9 lbs', 'input': 'HP Pavilion 15-eg2083TU i5 1240P (7C0W9PA) (Core i5, 15,6 inches)', 'Screen Size': '15,6 inches', 'Processor Brand': 'Core i5', 'Processor Speed': 'I do not know.'}, {'human_0': 'Acer Aspire S7 13.3-Inch Touchscreen Ultrabook (Intel Core i5-4200U Processor up to 2.6GHz, 8GB DDR3 Memory, 256GB SSD, FHD 1080P Touchscreen Display, Backlit Keyboard, 802.11AC WiFi, Windows 8.1, 0.5 inch thin and 2.9 Lbs) Crystal White', 'system_0': 'Brand: Acer \\n Model: Aspire S7 \\n Screen Size: 13.3 inches \\n Screen Type: Touchscreen \\n Processor Brand: Intel Core i5-4200U \\n Processor Speed: 2.6GHz \\n Memory: 8GB DDR3 \\n Storage: 256GB SSD \\n Resolution: FHD 1080P \\n Keyboard: Backlit\\n Wireless Connectivity: 802.11AC WiFi \\n Operating System: Windows 8.1 \\n Color: Crystal White \\n Thickness: 0.5 inch \\n Weight: 2.9 lbs', 'input': 'Dell Inspiron 15 N3520 i5 1235U (25P231) (Core i5, 15.6 inches)', 'Screen Size': '15.6 inches', 'Processor Brand': 'Core i5', 'Processor Speed': 'I do not know.'}, {'human_0': 'Acer Aspire S7 13.3-Inch Touchscreen Ultrabook (Intel Core i5-4200U Processor up to 2.6GHz, 8GB DDR3 Memory, 256GB SSD, FHD 1080P Touchscreen Display, Backlit Keyboard, 802.11AC WiFi, Windows 8.1, 0.5 inch thin and 2.9 Lbs) Crystal White', 'system_0': 'Brand: Acer \\n Model: Aspire S7 \\n Screen Size: 13.3 inches \\n Screen Type: Touchscreen \\n Processor Brand: Intel Core i5-4200U \\n Processor Speed: 2.6GHz \\n Memory: 8GB DDR3 \\n Storage: 256GB SSD \\n Resolution: FHD 1080P \\n Keyboard: Backlit\\n Wireless Connectivity: 802.11AC WiFi \\n Operating System: Windows 8.1 \\n Color: Crystal White \\n Thickness: 0.5 inch \\n Weight: 2.9 lbs', 'input': 'MSI Modern 15 B7M-238VN R7 7730U (Ryzen 7, 15.6 inches)', 'Screen Size': '15.6 inches', 'Processor Brand': 'Ryzen 7', 'Processor Speed': 'I do not know.'}, {'human_0': 'Acer Aspire S7 13.3-Inch Touchscreen Ultrabook (Intel Core i5-4200U Processor up to 2.6GHz, 8GB DDR3 Memory, 256GB SSD, FHD 1080P Touchscreen Display, Backlit Keyboard, 802.11AC WiFi, Windows 8.1, 0.5 inch thin and 2.9 Lbs) Crystal White', 'system_0': 'Brand: Acer \\n Model: Aspire S7 \\n Screen Size: 13.3 inches \\n Screen Type: Touchscreen \\n Processor Brand: Intel Core i5-4200U \\n Processor Speed: 2.6GHz \\n Memory: 8GB DDR3 \\n Storage: 256GB SSD \\n Resolution: FHD 1080P \\n Keyboard: Backlit\\n Wireless Connectivity: 802.11AC WiFi \\n Operating System: Windows 8.1 \\n Color: Crystal White \\n Thickness: 0.5 inch \\n Weight: 2.9 lbs', 'input': 'Asus Vivobook M1605YA-MB303W R7 7730U (Ryzen 7, 16 inches)', 'Screen Size': '16 inches', 'Processor Brand': 'Ryzen 7', 'Processor Speed': 'I do not know.'}, {'human_0': 'Acer Aspire S7 13.3-Inch Touchscreen Ultrabook (Intel Core i5-4200U Processor up to 2.6GHz, 8GB DDR3 Memory, 256GB SSD, FHD 1080P Touchscreen Display, Backlit Keyboard, 802.11AC WiFi, Windows 8.1, 0.5 inch thin and 2.9 Lbs) Crystal White', 'system_0': 'Brand: Acer \\n Model: Aspire S7 \\n Screen Size: 13.3 inches \\n Screen Type: Touchscreen \\n Processor Brand: Intel Core i5-4200U \\n Processor Speed: 2.6GHz \\n Memory: 8GB DDR3 \\n Storage: 256GB SSD \\n Resolution: FHD 1080P \\n Keyboard: Backlit\\n Wireless Connectivity: 802.11AC WiFi \\n Operating System: Windows 8.1 \\n Color: Crystal White \\n Thickness: 0.5 inch \\n Weight: 2.9 lbs', 'input': 'Asus Vivobook M3504YA-L1144W R5 7530U (Ryzen 5, 15.6 inches)', 'Screen Size': '15.6 inches', 'Processor Brand': 'Ryzen 5', 'Processor Speed': 'I do not know.'}, {'human_0': 'Acer Aspire S7 13.3-Inch Touchscreen Ultrabook (Intel Core i5-4200U Processor up to 2.6GHz, 8GB DDR3 Memory, 256GB SSD, FHD 1080P Touchscreen Display, Backlit Keyboard, 802.11AC WiFi, Windows 8.1, 0.5 inch thin and 2.9 Lbs) Crystal White', 'system_0': 'Brand: Acer \\n Model: Aspire S7 \\n Screen Size: 13.3 inches \\n Screen Type: Touchscreen \\n Processor Brand: Intel Core i5-4200U \\n Processor Speed: 2.6GHz \\n Memory: 8GB DDR3 \\n Storage: 256GB SSD \\n Resolution: FHD 1080P \\n Keyboard: Backlit\\n Wireless Connectivity: 802.11AC WiFi \\n Operating System: Windows 8.1 \\n Color: Crystal White \\n Thickness: 0.5 inch \\n Weight: 2.9 lbs', 'input': 'Asus Vivobook X1605VA-MB105W i5 1335U (Core i5, 16 inches)', 'Screen Size': '16 inches', 'Processor Brand': 'Core i5', 'Processor Speed': 'I do not know.'}, {'human_0': 'Acer Aspire S7 13.3-Inch Touchscreen Ultrabook (Intel Core i5-4200U Processor up to 2.6GHz, 8GB DDR3 Memory, 256GB SSD, FHD 1080P Touchscreen Display, Backlit Keyboard, 802.11AC WiFi, Windows 8.1, 0.5 inch thin and 2.9 Lbs) Crystal White', 'system_0': 'Brand: Acer \\n Model: Aspire S7 \\n Screen Size: 13.3 inches \\n Screen Type: Touchscreen \\n Processor Brand: Intel Core i5-4200U \\n Processor Speed: 2.6GHz \\n Memory: 8GB DDR3 \\n Storage: 256GB SSD \\n Resolution: FHD 1080P \\n Keyboard: Backlit\\n Wireless Connectivity: 802.11AC WiFi \\n Operating System: Windows 8.1 \\n Color: Crystal White \\n Thickness: 0.5 inch \\n Weight: 2.9 lbs', 'input': 'Dell Inspiron 15 N3520 i5 1235U (N5I5122W1) (Core i5, 15.6 inches)', 'Screen Size': '15.6 inches', 'Processor Brand': 'Core i5', 'Processor Speed': 'I do not know.'}, {'human_0': 'Acer Aspire S7 13.3-Inch Touchscreen Ultrabook (Intel Core i5-4200U Processor up to 2.6GHz, 8GB DDR3 Memory, 256GB SSD, FHD 1080P Touchscreen Display, Backlit Keyboard, 802.11AC WiFi, Windows 8.1, 0.5 inch thin and 2.9 Lbs) Crystal White', 'system_0': 'Brand: Acer \\n Model: Aspire S7 \\n Screen Size: 13.3 inches \\n Screen Type: Touchscreen \\n Processor Brand: Intel Core i5-4200U \\n Processor Speed: 2.6GHz \\n Memory: 8GB DDR3 \\n Storage: 256GB SSD \\n Resolution: FHD 1080P \\n Keyboard: Backlit\\n Wireless Connectivity: 802.11AC WiFi \\n Operating System: Windows 8.1 \\n Color: Crystal White \\n Thickness: 0.5 inch \\n Weight: 2.9 lbs', 'input': 'MSI Gaming GF63 Thin 11SC-664VN i5 11400H (Core i5, 15.6 inches)', 'Screen Size': '15.6 inches', 'Processor Brand': 'Core i5', 'Processor Speed': 'I do not know.'}, {'human_0': 'Acer Aspire S7 13.3-Inch Touchscreen Ultrabook (Intel Core i5-4200U Processor up to 2.6GHz, 8GB DDR3 Memory, 256GB SSD, FHD 1080P Touchscreen Display, Backlit Keyboard, 802.11AC WiFi, Windows 8.1, 0.5 inch thin and 2.9 Lbs) Crystal White', 'system_0': 'Brand: Acer \\n Model: Aspire S7 \\n Screen Size: 13.3 inches \\n Screen Type: Touchscreen \\n Processor Brand: Intel Core i5-4200U \\n Processor Speed: 2.6GHz \\n Memory: 8GB DDR3 \\n Storage: 256GB SSD \\n Resolution: FHD 1080P \\n Keyboard: Backlit\\n Wireless Connectivity: 802.11AC WiFi \\n Operating System: Windows 8.1 \\n Color: Crystal White \\n Thickness: 0.5 inch \\n Weight: 2.9 lbs', 'input': 'Lenovo V14 G4 IRU i5 1335U (83A00010VN) (Core i5Core i5, 14 inches)', 'Screen Size': '14 inches', 'Processor Brand': 'Core i5Core i5', 'Processor Speed': 'I do not know.'}, {'human_0': 'Acer Aspire S7 13.3-Inch Touchscreen Ultrabook (Intel Core i5-4200U Processor up to 2.6GHz, 8GB DDR3 Memory, 256GB SSD, FHD 1080P Touchscreen Display, Backlit Keyboard, 802.11AC WiFi, Windows 8.1, 0.5 inch thin and 2.9 Lbs) Crystal White', 'system_0': 'Brand: Acer \\n Model: Aspire S7 \\n Screen Size: 13.3 inches \\n Screen Type: Touchscreen \\n Processor Brand: Intel Core i5-4200U \\n Processor Speed: 2.6GHz \\n Memory: 8GB DDR3 \\n Storage: 256GB SSD \\n Resolution: FHD 1080P \\n Keyboard: Backlit\\n Wireless Connectivity: 802.11AC WiFi \\n Operating System: Windows 8.1 \\n Color: Crystal White \\n Thickness: 0.5 inch \\n Weight: 2.9 lbs', 'input': 'Acer Aspire 5 A514-54-5127 i5 1135G7 (NX.A28SV.007) (Core i5, 14.0 inches)', 'Screen Size': '14.0 inches', 'Processor Brand': 'Core i5', 'Processor Speed': 'I do not know.'}, {'human_0': 'Acer Aspire S7 13.3-Inch Touchscreen Ultrabook (Intel Core i5-4200U Processor up to 2.6GHz, 8GB DDR3 Memory, 256GB SSD, FHD 1080P Touchscreen Display, Backlit Keyboard, 802.11AC WiFi, Windows 8.1, 0.5 inch thin and 2.9 Lbs) Crystal White', 'system_0': 'Brand: Acer \\n Model: Aspire S7 \\n Screen Size: 13.3 inches \\n Screen Type: Touchscreen \\n Processor Brand: Intel Core i5-4200U \\n Processor Speed: 2.6GHz \\n Memory: 8GB DDR3 \\n Storage: 256GB SSD \\n Resolution: FHD 1080P \\n Keyboard: Backlit\\n Wireless Connectivity: 802.11AC WiFi \\n Operating System: Windows 8.1 \\n Color: Crystal White \\n Thickness: 0.5 inch \\n Weight: 2.9 lbs', 'input': 'Acer Swift 3 SF314-511-55QE i5 1135G7 (NX.ABNSV.003) (Core i5, 14.0 inches)', 'Screen Size': '14.0 inches', 'Processor Brand': 'Core i5', 'Processor Speed': 'I do not know.'}, {'human_0': 'Acer Aspire S7 13.3-Inch Touchscreen Ultrabook (Intel Core i5-4200U Processor up to 2.6GHz, 8GB DDR3 Memory, 256GB SSD, FHD 1080P Touchscreen Display, Backlit Keyboard, 802.11AC WiFi, Windows 8.1, 0.5 inch thin and 2.9 Lbs) Crystal White', 'system_0': 'Brand: Acer \\n Model: Aspire S7 \\n Screen Size: 13.3 inches \\n Screen Type: Touchscreen \\n Processor Brand: Intel Core i5-4200U \\n Processor Speed: 2.6GHz \\n Memory: 8GB DDR3 \\n Storage: 256GB SSD \\n Resolution: FHD 1080P \\n Keyboard: Backlit\\n Wireless Connectivity: 802.11AC WiFi \\n Operating System: Windows 8.1 \\n Color: Crystal White \\n Thickness: 0.5 inch \\n Weight: 2.9 lbs', 'input': 'Asus Vivobook X1502ZA-BQ126W i5 1240P (Core i5, 15.6 inches)', 'Screen Size': '15.6 inches', 'Processor Brand': 'Core i5', 'Processor Speed': 'I do not know.'}, {'human_0': 'Acer Aspire S7 13.3-Inch Touchscreen Ultrabook (Intel Core i5-4200U Processor up to 2.6GHz, 8GB DDR3 Memory, 256GB SSD, FHD 1080P Touchscreen Display, Backlit Keyboard, 802.11AC WiFi, Windows 8.1, 0.5 inch thin and 2.9 Lbs) Crystal White', 'system_0': 'Brand: Acer \\n Model: Aspire S7 \\n Screen Size: 13.3 inches \\n Screen Type: Touchscreen \\n Processor Brand: Intel Core i5-4200U \\n Processor Speed: 2.6GHz \\n Memory: 8GB DDR3 \\n Storage: 256GB SSD \\n Resolution: FHD 1080P \\n Keyboard: Backlit\\n Wireless Connectivity: 802.11AC WiFi \\n Operating System: Windows 8.1 \\n Color: Crystal White \\n Thickness: 0.5 inch \\n Weight: 2.9 lbs', 'input': 'MSI Modern 14 C13M-458VN i5 1335U (Core i5, 14 inches)', 'Screen Size': '14 inches', 'Processor Brand': 'Core i5', 'Processor Speed': 'I do not know.'}, {'human_0': 'Acer Aspire S7 13.3-Inch Touchscreen Ultrabook (Intel Core i5-4200U Processor up to 2.6GHz, 8GB DDR3 Memory, 256GB SSD, FHD 1080P Touchscreen Display, Backlit Keyboard, 802.11AC WiFi, Windows 8.1, 0.5 inch thin and 2.9 Lbs) Crystal White', 'system_0': 'Brand: Acer \\n Model: Aspire S7 \\n Screen Size: 13.3 inches \\n Screen Type: Touchscreen \\n Processor Brand: Intel Core i5-4200U \\n Processor Speed: 2.6GHz \\n Memory: 8GB DDR3 \\n Storage: 256GB SSD \\n Resolution: FHD 1080P \\n Keyboard: Backlit\\n Wireless Connectivity: 802.11AC WiFi \\n Operating System: Windows 8.1 \\n Color: Crystal White \\n Thickness: 0.5 inch \\n Weight: 2.9 lbs', 'input': 'Lenovo V15 G4 IAH i5 12500H (83FS0032VN) (Core i5, 15.6 inches)', 'Screen Size': '15.6 inches', 'Processor Brand': 'Core i5', 'Processor Speed': 'I do not know.'}, {'human_0': 'Acer Aspire S7 13.3-Inch Touchscreen Ultrabook (Intel Core i5-4200U Processor up to 2.6GHz, 8GB DDR3 Memory, 256GB SSD, FHD 1080P Touchscreen Display, Backlit Keyboard, 802.11AC WiFi, Windows 8.1, 0.5 inch thin and 2.9 Lbs) Crystal White', 'system_0': 'Brand: Acer \\n Model: Aspire S7 \\n Screen Size: 13.3 inches \\n Screen Type: Touchscreen \\n Processor Brand: Intel Core i5-4200U \\n Processor Speed: 2.6GHz \\n Memory: 8GB DDR3 \\n Storage: 256GB SSD \\n Resolution: FHD 1080P \\n Keyboard: Backlit\\n Wireless Connectivity: 802.11AC WiFi \\n Operating System: Windows 8.1 \\n Color: Crystal White \\n Thickness: 0.5 inch \\n Weight: 2.9 lbs', 'input': 'Acer Swift 3 SF314-43-R4X3 R5 5500U (NX.AB1SV.004) (Ryzen 5, 14.0 inches)', 'Screen Size': '14.0 inches', 'Processor Brand': 'Ryzen 5', 'Processor Speed': 'I do not know.'}, {'human_0': 'Acer Aspire S7 13.3-Inch Touchscreen Ultrabook (Intel Core i5-4200U Processor up to 2.6GHz, 8GB DDR3 Memory, 256GB SSD, FHD 1080P Touchscreen Display, Backlit Keyboard, 802.11AC WiFi, Windows 8.1, 0.5 inch thin and 2.9 Lbs) Crystal White', 'system_0': 'Brand: Acer \\n Model: Aspire S7 \\n Screen Size: 13.3 inches \\n Screen Type: Touchscreen \\n Processor Brand: Intel Core i5-4200U \\n Processor Speed: 2.6GHz \\n Memory: 8GB DDR3 \\n Storage: 256GB SSD \\n Resolution: FHD 1080P \\n Keyboard: Backlit\\n Wireless Connectivity: 802.11AC WiFi \\n Operating System: Windows 8.1 \\n Color: Crystal White \\n Thickness: 0.5 inch \\n Weight: 2.9 lbs', 'input': 'Lenovo IdeaPad 3 15ITL6 i5 1155G7 (82H803RWVN) (Core i5, 15.6 inches)', 'Screen Size': '15.6 inches', 'Processor Brand': 'Core i5', 'Processor Speed': 'I do not know.'}, {'human_0': 'Acer Aspire S7 13.3-Inch Touchscreen Ultrabook (Intel Core i5-4200U Processor up to 2.6GHz, 8GB DDR3 Memory, 256GB SSD, FHD 1080P Touchscreen Display, Backlit Keyboard, 802.11AC WiFi, Windows 8.1, 0.5 inch thin and 2.9 Lbs) Crystal White', 'system_0': 'Brand: Acer \\n Model: Aspire S7 \\n Screen Size: 13.3 inches \\n Screen Type: Touchscreen \\n Processor Brand: Intel Core i5-4200U \\n Processor Speed: 2.6GHz \\n Memory: 8GB DDR3 \\n Storage: 256GB SSD \\n Resolution: FHD 1080P \\n Keyboard: Backlit\\n Wireless Connectivity: 802.11AC WiFi \\n Operating System: Windows 8.1 \\n Color: Crystal White \\n Thickness: 0.5 inch \\n Weight: 2.9 lbs', 'input': 'Acer Aspire 3 A315-59-51X8 i5 1235U (NX.K6TSV.00F) (Core i5, 15.6 inches)', 'Screen Size': '15.6 inches', 'Processor Brand': 'Core i5', 'Processor Speed': 'I do not know.'}, {'human_0': 'Acer Aspire S7 13.3-Inch Touchscreen Ultrabook (Intel Core i5-4200U Processor up to 2.6GHz, 8GB DDR3 Memory, 256GB SSD, FHD 1080P Touchscreen Display, Backlit Keyboard, 802.11AC WiFi, Windows 8.1, 0.5 inch thin and 2.9 Lbs) Crystal White', 'system_0': 'Brand: Acer \\n Model: Aspire S7 \\n Screen Size: 13.3 inches \\n Screen Type: Touchscreen \\n Processor Brand: Intel Core i5-4200U \\n Processor Speed: 2.6GHz \\n Memory: 8GB DDR3 \\n Storage: 256GB SSD \\n Resolution: FHD 1080P \\n Keyboard: Backlit\\n Wireless Connectivity: 802.11AC WiFi \\n Operating System: Windows 8.1 \\n Color: Crystal White \\n Thickness: 0.5 inch \\n Weight: 2.9 lbs', 'input': 'MSI Modern 15 B13M-438VN i5 1335U (Core i5, 15.6 inches)', 'Screen Size': '15.6 inches', 'Processor Brand': 'Core i5', 'Processor Speed': 'I do not know.'}, {'human_0': 'Acer Aspire S7 13.3-Inch Touchscreen Ultrabook (Intel Core i5-4200U Processor up to 2.6GHz, 8GB DDR3 Memory, 256GB SSD, FHD 1080P Touchscreen Display, Backlit Keyboard, 802.11AC WiFi, Windows 8.1, 0.5 inch thin and 2.9 Lbs) Crystal White', 'system_0': 'Brand: Acer \\n Model: Aspire S7 \\n Screen Size: 13.3 inches \\n Screen Type: Touchscreen \\n Processor Brand: Intel Core i5-4200U \\n Processor Speed: 2.6GHz \\n Memory: 8GB DDR3 \\n Storage: 256GB SSD \\n Resolution: FHD 1080P \\n Keyboard: Backlit\\n Wireless Connectivity: 802.11AC WiFi \\n Operating System: Windows 8.1 \\n Color: Crystal White \\n Thickness: 0.5 inch \\n Weight: 2.9 lbs', 'input': 'MSI Modern 15 B7M-231VN R5 7530U (Ryzen 5, 15.6 inches)', 'Screen Size': '15.6 inches', 'Processor Brand': 'Ryzen 5', 'Processor Speed': 'I do not know.'}, {'human_0': 'Acer Aspire S7 13.3-Inch Touchscreen Ultrabook (Intel Core i5-4200U Processor up to 2.6GHz, 8GB DDR3 Memory, 256GB SSD, FHD 1080P Touchscreen Display, Backlit Keyboard, 802.11AC WiFi, Windows 8.1, 0.5 inch thin and 2.9 Lbs) Crystal White', 'system_0': 'Brand: Acer \\n Model: Aspire S7 \\n Screen Size: 13.3 inches \\n Screen Type: Touchscreen \\n Processor Brand: Intel Core i5-4200U \\n Processor Speed: 2.6GHz \\n Memory: 8GB DDR3 \\n Storage: 256GB SSD \\n Resolution: FHD 1080P \\n Keyboard: Backlit\\n Wireless Connectivity: 802.11AC WiFi \\n Operating System: Windows 8.1 \\n Color: Crystal White \\n Thickness: 0.5 inch \\n Weight: 2.9 lbs', 'input': 'Lenovo Ideapad 1 - 14ALC7 R7 5700U (82R30077VN) (Ryzen 7, 14 inches)', 'Screen Size': '14 inches', 'Processor Brand': 'Ryzen 7', 'Processor Speed': 'I do not know.'}, {'human_0': 'Acer Aspire S7 13.3-Inch Touchscreen Ultrabook (Intel Core i5-4200U Processor up to 2.6GHz, 8GB DDR3 Memory, 256GB SSD, FHD 1080P Touchscreen Display, Backlit Keyboard, 802.11AC WiFi, Windows 8.1, 0.5 inch thin and 2.9 Lbs) Crystal White', 'system_0': 'Brand: Acer \\n Model: Aspire S7 \\n Screen Size: 13.3 inches \\n Screen Type: Touchscreen \\n Processor Brand: Intel Core i5-4200U \\n Processor Speed: 2.6GHz \\n Memory: 8GB DDR3 \\n Storage: 256GB SSD \\n Resolution: FHD 1080P \\n Keyboard: Backlit\\n Wireless Connectivity: 802.11AC WiFi \\n Operating System: Windows 8.1 \\n Color: Crystal White \\n Thickness: 0.5 inch \\n Weight: 2.9 lbs', 'input': 'Acer Aspire 3 A314-23M-R4TX R5 7520U (NX.KEXSV.001) (Ryzen 5, 14.0 inches)', 'Screen Size': '14.0 inches', 'Processor Brand': 'Ryzen 5', 'Processor Speed': 'I do not know.'}, {'human_0': 'Acer Aspire S7 13.3-Inch Touchscreen Ultrabook (Intel Core i5-4200U Processor up to 2.6GHz, 8GB DDR3 Memory, 256GB SSD, FHD 1080P Touchscreen Display, Backlit Keyboard, 802.11AC WiFi, Windows 8.1, 0.5 inch thin and 2.9 Lbs) Crystal White', 'system_0': 'Brand: Acer \\n Model: Aspire S7 \\n Screen Size: 13.3 inches \\n Screen Type: Touchscreen \\n Processor Brand: Intel Core i5-4200U \\n Processor Speed: 2.6GHz \\n Memory: 8GB DDR3 \\n Storage: 256GB SSD \\n Resolution: FHD 1080P \\n Keyboard: Backlit\\n Wireless Connectivity: 802.11AC WiFi \\n Operating System: Windows 8.1 \\n Color: Crystal White \\n Thickness: 0.5 inch \\n Weight: 2.9 lbs', 'input': 'Acer Aspire 3 A315-58-54M5 i5 1135G7 (NX.ADDSV.00M) (Core i5, 15.6 inches)', 'Screen Size': '15.6 inches', 'Processor Brand': 'Core i5', 'Processor Speed': 'I do not know.'}, {'human_0': 'Acer Aspire S7 13.3-Inch Touchscreen Ultrabook (Intel Core i5-4200U Processor up to 2.6GHz, 8GB DDR3 Memory, 256GB SSD, FHD 1080P Touchscreen Display, Backlit Keyboard, 802.11AC WiFi, Windows 8.1, 0.5 inch thin and 2.9 Lbs) Crystal White', 'system_0': 'Brand: Acer \\n Model: Aspire S7 \\n Screen Size: 13.3 inches \\n Screen Type: Touchscreen \\n Processor Brand: Intel Core i5-4200U \\n Processor Speed: 2.6GHz \\n Memory: 8GB DDR3 \\n Storage: 256GB SSD \\n Resolution: FHD 1080P \\n Keyboard: Backlit\\n Wireless Connectivity: 802.11AC WiFi \\n Operating System: Windows 8.1 \\n Color: Crystal White \\n Thickness: 0.5 inch \\n Weight: 2.9 lbs', 'input': 'MSI Modern 15 B7M-098VN R7 7730U (Ryzen 7, 15.6 inches)', 'Screen Size': '15.6 inches', 'Processor Brand': 'Ryzen 7', 'Processor Speed': 'I do not know.'}, {'human_0': 'Acer Aspire S7 13.3-Inch Touchscreen Ultrabook (Intel Core i5-4200U Processor up to 2.6GHz, 8GB DDR3 Memory, 256GB SSD, FHD 1080P Touchscreen Display, Backlit Keyboard, 802.11AC WiFi, Windows 8.1, 0.5 inch thin and 2.9 Lbs) Crystal White', 'system_0': 'Brand: Acer \\n Model: Aspire S7 \\n Screen Size: 13.3 inches \\n Screen Type: Touchscreen \\n Processor Brand: Intel Core i5-4200U \\n Processor Speed: 2.6GHz \\n Memory: 8GB DDR3 \\n Storage: 256GB SSD \\n Resolution: FHD 1080P \\n Keyboard: Backlit\\n Wireless Connectivity: 802.11AC WiFi \\n Operating System: Windows 8.1 \\n Color: Crystal White \\n Thickness: 0.5 inch \\n Weight: 2.9 lbs', 'input': 'Acer Aspire 5 A515-58P-351N i3 1305U (NX.KHJSV.007) (Core i3, 15.6 inches)', 'Screen Size': '15.6 inches', 'Processor Brand': 'Core i3', 'Processor Speed': 'I do not know.'}, {'human_0': 'Acer Aspire S7 13.3-Inch Touchscreen Ultrabook (Intel Core i5-4200U Processor up to 2.6GHz, 8GB DDR3 Memory, 256GB SSD, FHD 1080P Touchscreen Display, Backlit Keyboard, 802.11AC WiFi, Windows 8.1, 0.5 inch thin and 2.9 Lbs) Crystal White', 'system_0': 'Brand: Acer \\n Model: Aspire S7 \\n Screen Size: 13.3 inches \\n Screen Type: Touchscreen \\n Processor Brand: Intel Core i5-4200U \\n Processor Speed: 2.6GHz \\n Memory: 8GB DDR3 \\n Storage: 256GB SSD \\n Resolution: FHD 1080P \\n Keyboard: Backlit\\n Wireless Connectivity: 802.11AC WiFi \\n Operating System: Windows 8.1 \\n Color: Crystal White \\n Thickness: 0.5 inch \\n Weight: 2.9 lbs', 'input': 'Huawei MateBook D14 BE i3 1215U (Core i3, 14.0 inches)', 'Screen Size': '14.0 inches', 'Processor Brand': 'Core i3', 'Processor Speed': 'I do not know.'}, {'human_0': 'Acer Aspire S7 13.3-Inch Touchscreen Ultrabook (Intel Core i5-4200U Processor up to 2.6GHz, 8GB DDR3 Memory, 256GB SSD, FHD 1080P Touchscreen Display, Backlit Keyboard, 802.11AC WiFi, Windows 8.1, 0.5 inch thin and 2.9 Lbs) Crystal White', 'system_0': 'Brand: Acer \\n Model: Aspire S7 \\n Screen Size: 13.3 inches \\n Screen Type: Touchscreen \\n Processor Brand: Intel Core i5-4200U \\n Processor Speed: 2.6GHz \\n Memory: 8GB DDR3 \\n Storage: 256GB SSD \\n Resolution: FHD 1080P \\n Keyboard: Backlit\\n Wireless Connectivity: 802.11AC WiFi \\n Operating System: Windows 8.1 \\n Color: Crystal White \\n Thickness: 0.5 inch \\n Weight: 2.9 lbs', 'input': 'HP 15s-fq5230TU i3-1215U (8U238PA) (Core i3, 15.6 inches)', 'Screen Size': '15.6 inches', 'Processor Brand': 'Core i3', 'Processor Speed': 'I do not know.'}, {'human_0': 'Acer Aspire S7 13.3-Inch Touchscreen Ultrabook (Intel Core i5-4200U Processor up to 2.6GHz, 8GB DDR3 Memory, 256GB SSD, FHD 1080P Touchscreen Display, Backlit Keyboard, 802.11AC WiFi, Windows 8.1, 0.5 inch thin and 2.9 Lbs) Crystal White', 'system_0': 'Brand: Acer \\n Model: Aspire S7 \\n Screen Size: 13.3 inches \\n Screen Type: Touchscreen \\n Processor Brand: Intel Core i5-4200U \\n Processor Speed: 2.6GHz \\n Memory: 8GB DDR3 \\n Storage: 256GB SSD \\n Resolution: FHD 1080P \\n Keyboard: Backlit\\n Wireless Connectivity: 802.11AC WiFi \\n Operating System: Windows 8.1 \\n Color: Crystal White \\n Thickness: 0.5 inch \\n Weight: 2.9 lbs', 'input': 'HP 245 G9 R5 5625U (6L1N8PA) (Ryzen 5, 14.0 inches)', 'Screen Size': '14.0 inches', 'Processor Brand': 'Ryzen 5', 'Processor Speed': 'I do not know.'}, {'human_0': 'Acer Aspire S7 13.3-Inch Touchscreen Ultrabook (Intel Core i5-4200U Processor up to 2.6GHz, 8GB DDR3 Memory, 256GB SSD, FHD 1080P Touchscreen Display, Backlit Keyboard, 802.11AC WiFi, Windows 8.1, 0.5 inch thin and 2.9 Lbs) Crystal White', 'system_0': 'Brand: Acer \\n Model: Aspire S7 \\n Screen Size: 13.3 inches \\n Screen Type: Touchscreen \\n Processor Brand: Intel Core i5-4200U \\n Processor Speed: 2.6GHz \\n Memory: 8GB DDR3 \\n Storage: 256GB SSD \\n Resolution: FHD 1080P \\n Keyboard: Backlit\\n Wireless Connectivity: 802.11AC WiFi \\n Operating System: Windows 8.1 \\n Color: Crystal White \\n Thickness: 0.5 inch \\n Weight: 2.9 lbs', 'input': 'Asus Vivobook X1404ZA-NK075W i3 1215U (Core i3, 14.0 inches)', 'Screen Size': '14.0 inches', 'Processor Brand': 'Core i3', 'Processor Speed': 'I do not know.'}, {'human_0': 'Acer Aspire S7 13.3-Inch Touchscreen Ultrabook (Intel Core i5-4200U Processor up to 2.6GHz, 8GB DDR3 Memory, 256GB SSD, FHD 1080P Touchscreen Display, Backlit Keyboard, 802.11AC WiFi, Windows 8.1, 0.5 inch thin and 2.9 Lbs) Crystal White', 'system_0': 'Brand: Acer \\n Model: Aspire S7 \\n Screen Size: 13.3 inches \\n Screen Type: Touchscreen \\n Processor Brand: Intel Core i5-4200U \\n Processor Speed: 2.6GHz \\n Memory: 8GB DDR3 \\n Storage: 256GB SSD \\n Resolution: FHD 1080P \\n Keyboard: Backlit\\n Wireless Connectivity: 802.11AC WiFi \\n Operating System: Windows 8.1 \\n Color: Crystal White \\n Thickness: 0.5 inch \\n Weight: 2.9 lbs', 'input': 'Asus Vivobook E1504FA-NJ426W R3 7320U (Ryzen 3, 15.6 inches)', 'Screen Size': '15.6 inches', 'Processor Brand': 'Ryzen 3', 'Processor Speed': 'I do not know.'}, {'human_0': 'Acer Aspire S7 13.3-Inch Touchscreen Ultrabook (Intel Core i5-4200U Processor up to 2.6GHz, 8GB DDR3 Memory, 256GB SSD, FHD 1080P Touchscreen Display, Backlit Keyboard, 802.11AC WiFi, Windows 8.1, 0.5 inch thin and 2.9 Lbs) Crystal White', 'system_0': 'Brand: Acer \\n Model: Aspire S7 \\n Screen Size: 13.3 inches \\n Screen Type: Touchscreen \\n Processor Brand: Intel Core i5-4200U \\n Processor Speed: 2.6GHz \\n Memory: 8GB DDR3 \\n Storage: 256GB SSD \\n Resolution: FHD 1080P \\n Keyboard: Backlit\\n Wireless Connectivity: 802.11AC WiFi \\n Operating System: Windows 8.1 \\n Color: Crystal White \\n Thickness: 0.5 inch \\n Weight: 2.9 lbs', 'input': 'HP 14s-em0080AU R3 7320U (80R30PA) (Ryzen 3, 14.0 inches)', 'Screen Size': '14.0 inches', 'Processor Brand': 'Ryzen 3', 'Processor Speed': 'I do not know.'}, {'human_0': 'Acer Aspire S7 13.3-Inch Touchscreen Ultrabook (Intel Core i5-4200U Processor up to 2.6GHz, 8GB DDR3 Memory, 256GB SSD, FHD 1080P Touchscreen Display, Backlit Keyboard, 802.11AC WiFi, Windows 8.1, 0.5 inch thin and 2.9 Lbs) Crystal White', 'system_0': 'Brand: Acer \\n Model: Aspire S7 \\n Screen Size: 13.3 inches \\n Screen Type: Touchscreen \\n Processor Brand: Intel Core i5-4200U \\n Processor Speed: 2.6GHz \\n Memory: 8GB DDR3 \\n Storage: 256GB SSD \\n Resolution: FHD 1080P \\n Keyboard: Backlit\\n Wireless Connectivity: 802.11AC WiFi \\n Operating System: Windows 8.1 \\n Color: Crystal White \\n Thickness: 0.5 inch \\n Weight: 2.9 lbs', 'input': 'HP 15s-fq2712TU i3 1115G4 (7C0X2PA) (Core i3, 15.6 inches)', 'Screen Size': '15.6 inches', 'Processor Brand': 'Core i3', 'Processor Speed': 'I do not know.'}, {'human_0': 'Acer Aspire S7 13.3-Inch Touchscreen Ultrabook (Intel Core i5-4200U Processor up to 2.6GHz, 8GB DDR3 Memory, 256GB SSD, FHD 1080P Touchscreen Display, Backlit Keyboard, 802.11AC WiFi, Windows 8.1, 0.5 inch thin and 2.9 Lbs) Crystal White', 'system_0': 'Brand: Acer \\n Model: Aspire S7 \\n Screen Size: 13.3 inches \\n Screen Type: Touchscreen \\n Processor Brand: Intel Core i5-4200U \\n Processor Speed: 2.6GHz \\n Memory: 8GB DDR3 \\n Storage: 256GB SSD \\n Resolution: FHD 1080P \\n Keyboard: Backlit\\n Wireless Connectivity: 802.11AC WiFi \\n Operating System: Windows 8.1 \\n Color: Crystal White \\n Thickness: 0.5 inch \\n Weight: 2.9 lbs', 'input': 'Asus ROG Strix SCAR 18 G834JYR-R6011W i9-14900HX (Core i9, 18 inches)', 'Screen Size': '18 inches', 'Processor Brand': 'Core i9', 'Processor Speed': 'I do not know.'}, {'human_0': 'Acer Aspire S7 13.3-Inch Touchscreen Ultrabook (Intel Core i5-4200U Processor up to 2.6GHz, 8GB DDR3 Memory, 256GB SSD, FHD 1080P Touchscreen Display, Backlit Keyboard, 802.11AC WiFi, Windows 8.1, 0.5 inch thin and 2.9 Lbs) Crystal White', 'system_0': 'Brand: Acer \\n Model: Aspire S7 \\n Screen Size: 13.3 inches \\n Screen Type: Touchscreen \\n Processor Brand: Intel Core i5-4200U \\n Processor Speed: 2.6GHz \\n Memory: 8GB DDR3 \\n Storage: 256GB SSD \\n Resolution: FHD 1080P \\n Keyboard: Backlit\\n Wireless Connectivity: 802.11AC WiFi \\n Operating System: Windows 8.1 \\n Color: Crystal White \\n Thickness: 0.5 inch \\n Weight: 2.9 lbs', 'input': 'MacBook Pro 16 2023 M3 Max 16 CPU/40 GPU/48GB/1TB (M3 Max, 16.2 inches)', 'Screen Size': '16.2 inches', 'Processor Brand': 'M3 Max', 'Processor Speed': 'I do not know.'}, {'human_0': 'Acer Aspire S7 13.3-Inch Touchscreen Ultrabook (Intel Core i5-4200U Processor up to 2.6GHz, 8GB DDR3 Memory, 256GB SSD, FHD 1080P Touchscreen Display, Backlit Keyboard, 802.11AC WiFi, Windows 8.1, 0.5 inch thin and 2.9 Lbs) Crystal White', 'system_0': 'Brand: Acer \\n Model: Aspire S7 \\n Screen Size: 13.3 inches \\n Screen Type: Touchscreen \\n Processor Brand: Intel Core i5-4200U \\n Processor Speed: 2.6GHz \\n Memory: 8GB DDR3 \\n Storage: 256GB SSD \\n Resolution: FHD 1080P \\n Keyboard: Backlit\\n Wireless Connectivity: 802.11AC WiFi \\n Operating System: Windows 8.1 \\n Color: Crystal White \\n Thickness: 0.5 inch \\n Weight: 2.9 lbs', 'input': 'Asus ROG Strix SCAR 16 G634JZR-NM009W i9-14900HX (Core i9, 16 inches)', 'Screen Size': '16 inches', 'Processor Brand': 'Core i9', 'Processor Speed': 'I do not know.'}, {'human_0': 'Acer Aspire S7 13.3-Inch Touchscreen Ultrabook (Intel Core i5-4200U Processor up to 2.6GHz, 8GB DDR3 Memory, 256GB SSD, FHD 1080P Touchscreen Display, Backlit Keyboard, 802.11AC WiFi, Windows 8.1, 0.5 inch thin and 2.9 Lbs) Crystal White', 'system_0': 'Brand: Acer \\n Model: Aspire S7 \\n Screen Size: 13.3 inches \\n Screen Type: Touchscreen \\n Processor Brand: Intel Core i5-4200U \\n Processor Speed: 2.6GHz \\n Memory: 8GB DDR3 \\n Storage: 256GB SSD \\n Resolution: FHD 1080P \\n Keyboard: Backlit\\n Wireless Connectivity: 802.11AC WiFi \\n Operating System: Windows 8.1 \\n Color: Crystal White \\n Thickness: 0.5 inch \\n Weight: 2.9 lbs', 'input': 'MacBook Pro 16 2023 M3 Max 14 CPU/30 GPU/36GB/1TB (M3 Max, 16.2 inches)', 'Screen Size': '16.2 inches', 'Processor Brand': 'M3 Max', 'Processor Speed': 'I do not know.'}, {'human_0': 'Acer Aspire S7 13.3-Inch Touchscreen Ultrabook (Intel Core i5-4200U Processor up to 2.6GHz, 8GB DDR3 Memory, 256GB SSD, FHD 1080P Touchscreen Display, Backlit Keyboard, 802.11AC WiFi, Windows 8.1, 0.5 inch thin and 2.9 Lbs) Crystal White', 'system_0': 'Brand: Acer \\n Model: Aspire S7 \\n Screen Size: 13.3 inches \\n Screen Type: Touchscreen \\n Processor Brand: Intel Core i5-4200U \\n Processor Speed: 2.6GHz \\n Memory: 8GB DDR3 \\n Storage: 256GB SSD \\n Resolution: FHD 1080P \\n Keyboard: Backlit\\n Wireless Connectivity: 802.11AC WiFi \\n Operating System: Windows 8.1 \\n Color: Crystal White \\n Thickness: 0.5 inch \\n Weight: 2.9 lbs', 'input': 'MacBook Pro 14 2023 M3 Max 14 CPU/30 GPU/36GB/1TB (M3 Max, 14.2 inches)', 'Screen Size': '14.2 inches', 'Processor Brand': 'M3 Max', 'Processor Speed': 'I do not know.'}, {'human_0': 'Acer Aspire S7 13.3-Inch Touchscreen Ultrabook (Intel Core i5-4200U Processor up to 2.6GHz, 8GB DDR3 Memory, 256GB SSD, FHD 1080P Touchscreen Display, Backlit Keyboard, 802.11AC WiFi, Windows 8.1, 0.5 inch thin and 2.9 Lbs) Crystal White', 'system_0': 'Brand: Acer \\n Model: Aspire S7 \\n Screen Size: 13.3 inches \\n Screen Type: Touchscreen \\n Processor Brand: Intel Core i5-4200U \\n Processor Speed: 2.6GHz \\n Memory: 8GB DDR3 \\n Storage: 256GB SSD \\n Resolution: FHD 1080P \\n Keyboard: Backlit\\n Wireless Connectivity: 802.11AC WiFi \\n Operating System: Windows 8.1 \\n Color: Crystal White \\n Thickness: 0.5 inch \\n Weight: 2.9 lbs', 'input': 'Asus Gaming ROG Zephyrus G16 GU605MI-QR116W Ultra 9-185H (Core Ultra 9, 16 inches)', 'Screen Size': '16 inches', 'Processor Brand': 'Core Ultra 9', 'Processor Speed': 'I do not know.'}, {'human_0': 'Acer Aspire S7 13.3-Inch Touchscreen Ultrabook (Intel Core i5-4200U Processor up to 2.6GHz, 8GB DDR3 Memory, 256GB SSD, FHD 1080P Touchscreen Display, Backlit Keyboard, 802.11AC WiFi, Windows 8.1, 0.5 inch thin and 2.9 Lbs) Crystal White', 'system_0': 'Brand: Acer \\n Model: Aspire S7 \\n Screen Size: 13.3 inches \\n Screen Type: Touchscreen \\n Processor Brand: Intel Core i5-4200U \\n Processor Speed: 2.6GHz \\n Memory: 8GB DDR3 \\n Storage: 256GB SSD \\n Resolution: FHD 1080P \\n Keyboard: Backlit\\n Wireless Connectivity: 802.11AC WiFi \\n Operating System: Windows 8.1 \\n Color: Crystal White \\n Thickness: 0.5 inch \\n Weight: 2.9 lbs', 'input': 'MacBook Pro 16 2023 M3 Pro 12 CPU/18 GPU/36GB/512GB (M3 Pro, 16.2 inches)', 'Screen Size': '16.2 inches', 'Processor Brand': 'M3 Pro', 'Processor Speed': 'I do not know.'}, {'human_0': 'Acer Aspire S7 13.3-Inch Touchscreen Ultrabook (Intel Core i5-4200U Processor up to 2.6GHz, 8GB DDR3 Memory, 256GB SSD, FHD 1080P Touchscreen Display, Backlit Keyboard, 802.11AC WiFi, Windows 8.1, 0.5 inch thin and 2.9 Lbs) Crystal White', 'system_0': 'Brand: Acer \\n Model: Aspire S7 \\n Screen Size: 13.3 inches \\n Screen Type: Touchscreen \\n Processor Brand: Intel Core i5-4200U \\n Processor Speed: 2.6GHz \\n Memory: 8GB DDR3 \\n Storage: 256GB SSD \\n Resolution: FHD 1080P \\n Keyboard: Backlit\\n Wireless Connectivity: 802.11AC WiFi \\n Operating System: Windows 8.1 \\n Color: Crystal White \\n Thickness: 0.5 inch \\n Weight: 2.9 lbs', 'input': 'Asus ROG Strix G18 G814JIR-N6007W i9-14900HX (Core i9, 18 inches)', 'Screen Size': '18 inches', 'Processor Brand': 'Core i9', 'Processor Speed': 'I do not know.'}, {'human_0': 'Acer Aspire S7 13.3-Inch Touchscreen Ultrabook (Intel Core i5-4200U Processor up to 2.6GHz, 8GB DDR3 Memory, 256GB SSD, FHD 1080P Touchscreen Display, Backlit Keyboard, 802.11AC WiFi, Windows 8.1, 0.5 inch thin and 2.9 Lbs) Crystal White', 'system_0': 'Brand: Acer \\n Model: Aspire S7 \\n Screen Size: 13.3 inches \\n Screen Type: Touchscreen \\n Processor Brand: Intel Core i5-4200U \\n Processor Speed: 2.6GHz \\n Memory: 8GB DDR3 \\n Storage: 256GB SSD \\n Resolution: FHD 1080P \\n Keyboard: Backlit\\n Wireless Connectivity: 802.11AC WiFi \\n Operating System: Windows 8.1 \\n Color: Crystal White \\n Thickness: 0.5 inch \\n Weight: 2.9 lbs', 'input': 'Asus Gaming ROG Zephyrus G16 GU605MV-QR135W Ultra 9-185H (Core Ultra 9, 16 inches)', 'Screen Size': '16 inches', 'Processor Brand': 'Core Ultra 9', 'Processor Speed': 'I do not know.'}, {'human_0': 'Acer Aspire S7 13.3-Inch Touchscreen Ultrabook (Intel Core i5-4200U Processor up to 2.6GHz, 8GB DDR3 Memory, 256GB SSD, FHD 1080P Touchscreen Display, Backlit Keyboard, 802.11AC WiFi, Windows 8.1, 0.5 inch thin and 2.9 Lbs) Crystal White', 'system_0': 'Brand: Acer \\n Model: Aspire S7 \\n Screen Size: 13.3 inches \\n Screen Type: Touchscreen \\n Processor Brand: Intel Core i5-4200U \\n Processor Speed: 2.6GHz \\n Memory: 8GB DDR3 \\n Storage: 256GB SSD \\n Resolution: FHD 1080P \\n Keyboard: Backlit\\n Wireless Connectivity: 802.11AC WiFi \\n Operating System: Windows 8.1 \\n Color: Crystal White \\n Thickness: 0.5 inch \\n Weight: 2.9 lbs', 'input': 'Asus Gaming ROG Zephyrus G14 GA403UU-QS101W R9-8945HS (Ryzen 9, 16 inches)', 'Screen Size': '16 inches', 'Processor Brand': 'Ryzen 9', 'Processor Speed': 'I do not know.'}, {'human_0': 'Acer Aspire S7 13.3-Inch Touchscreen Ultrabook (Intel Core i5-4200U Processor up to 2.6GHz, 8GB DDR3 Memory, 256GB SSD, FHD 1080P Touchscreen Display, Backlit Keyboard, 802.11AC WiFi, Windows 8.1, 0.5 inch thin and 2.9 Lbs) Crystal White', 'system_0': 'Brand: Acer \\n Model: Aspire S7 \\n Screen Size: 13.3 inches \\n Screen Type: Touchscreen \\n Processor Brand: Intel Core i5-4200U \\n Processor Speed: 2.6GHz \\n Memory: 8GB DDR3 \\n Storage: 256GB SSD \\n Resolution: FHD 1080P \\n Keyboard: Backlit\\n Wireless Connectivity: 802.11AC WiFi \\n Operating System: Windows 8.1 \\n Color: Crystal White \\n Thickness: 0.5 inch \\n Weight: 2.9 lbs', 'input': 'Lenovo Legion Pro 5 16IRX9 i9 14900HX (83DF0047VN) (Core i9, 16 inches)', 'Screen Size': '16 inches', 'Processor Brand': 'Core i9', 'Processor Speed': 'I do not know.'}, {'human_0': 'Acer Aspire S7 13.3-Inch Touchscreen Ultrabook (Intel Core i5-4200U Processor up to 2.6GHz, 8GB DDR3 Memory, 256GB SSD, FHD 1080P Touchscreen Display, Backlit Keyboard, 802.11AC WiFi, Windows 8.1, 0.5 inch thin and 2.9 Lbs) Crystal White', 'system_0': 'Brand: Acer \\n Model: Aspire S7 \\n Screen Size: 13.3 inches \\n Screen Type: Touchscreen \\n Processor Brand: Intel Core i5-4200U \\n Processor Speed: 2.6GHz \\n Memory: 8GB DDR3 \\n Storage: 256GB SSD \\n Resolution: FHD 1080P \\n Keyboard: Backlit\\n Wireless Connectivity: 802.11AC WiFi \\n Operating System: Windows 8.1 \\n Color: Crystal White \\n Thickness: 0.5 inch \\n Weight: 2.9 lbs', 'input': 'Lenovo Gaming Legion 5 16IRX9 i7-14650HX (83DG004YVN) (Core i7, 16 inches)', 'Screen Size': '16 inches', 'Processor Brand': 'Core i7', 'Processor Speed': 'I do not know.'}, {'human_0': 'Acer Aspire S7 13.3-Inch Touchscreen Ultrabook (Intel Core i5-4200U Processor up to 2.6GHz, 8GB DDR3 Memory, 256GB SSD, FHD 1080P Touchscreen Display, Backlit Keyboard, 802.11AC WiFi, Windows 8.1, 0.5 inch thin and 2.9 Lbs) Crystal White', 'system_0': 'Brand: Acer \\n Model: Aspire S7 \\n Screen Size: 13.3 inches \\n Screen Type: Touchscreen \\n Processor Brand: Intel Core i5-4200U \\n Processor Speed: 2.6GHz \\n Memory: 8GB DDR3 \\n Storage: 256GB SSD \\n Resolution: FHD 1080P \\n Keyboard: Backlit\\n Wireless Connectivity: 802.11AC WiFi \\n Operating System: Windows 8.1 \\n Color: Crystal White \\n Thickness: 0.5 inch \\n Weight: 2.9 lbs', 'input': 'Asus TUF Gaming FA507NU-LP131W R5 7535HS (Ryzen 5, 15.6 inches)', 'Screen Size': '15.6 inches', 'Processor Brand': 'Ryzen 5', 'Processor Speed': 'I do not know.'}, {'human_0': 'Acer Aspire S7 13.3-Inch Touchscreen Ultrabook (Intel Core i5-4200U Processor up to 2.6GHz, 8GB DDR3 Memory, 256GB SSD, FHD 1080P Touchscreen Display, Backlit Keyboard, 802.11AC WiFi, Windows 8.1, 0.5 inch thin and 2.9 Lbs) Crystal White', 'system_0': 'Brand: Acer \\n Model: Aspire S7 \\n Screen Size: 13.3 inches \\n Screen Type: Touchscreen \\n Processor Brand: Intel Core i5-4200U \\n Processor Speed: 2.6GHz \\n Memory: 8GB DDR3 \\n Storage: 256GB SSD \\n Resolution: FHD 1080P \\n Keyboard: Backlit\\n Wireless Connectivity: 802.11AC WiFi \\n Operating System: Windows 8.1 \\n Color: Crystal White \\n Thickness: 0.5 inch \\n Weight: 2.9 lbs', 'input': 'Asus Zenbook 14 OLED UM3402YA-KM405W R5-7530U (Ryzen 5, 14 inches)', 'Screen Size': '14 inches', 'Processor Brand': 'Ryzen 5', 'Processor Speed': 'I do not know.'}, {'human_0': 'Acer Aspire S7 13.3-Inch Touchscreen Ultrabook (Intel Core i5-4200U Processor up to 2.6GHz, 8GB DDR3 Memory, 256GB SSD, FHD 1080P Touchscreen Display, Backlit Keyboard, 802.11AC WiFi, Windows 8.1, 0.5 inch thin and 2.9 Lbs) Crystal White', 'system_0': 'Brand: Acer \\n Model: Aspire S7 \\n Screen Size: 13.3 inches \\n Screen Type: Touchscreen \\n Processor Brand: Intel Core i5-4200U \\n Processor Speed: 2.6GHz \\n Memory: 8GB DDR3 \\n Storage: 256GB SSD \\n Resolution: FHD 1080P \\n Keyboard: Backlit\\n Wireless Connectivity: 802.11AC WiFi \\n Operating System: Windows 8.1 \\n Color: Crystal White \\n Thickness: 0.5 inch \\n Weight: 2.9 lbs', 'input': 'Asus Vivobook A1505VA-L1201W i9 13900H (Core i9, 15.6 inches)', 'Screen Size': '15.6 inches', 'Processor Brand': 'Core i9', 'Processor Speed': 'I do not know.'}, {'human_0': 'Acer Aspire S7 13.3-Inch Touchscreen Ultrabook (Intel Core i5-4200U Processor up to 2.6GHz, 8GB DDR3 Memory, 256GB SSD, FHD 1080P Touchscreen Display, Backlit Keyboard, 802.11AC WiFi, Windows 8.1, 0.5 inch thin and 2.9 Lbs) Crystal White', 'system_0': 'Brand: Acer \\n Model: Aspire S7 \\n Screen Size: 13.3 inches \\n Screen Type: Touchscreen \\n Processor Brand: Intel Core i5-4200U \\n Processor Speed: 2.6GHz \\n Memory: 8GB DDR3 \\n Storage: 256GB SSD \\n Resolution: FHD 1080P \\n Keyboard: Backlit\\n Wireless Connectivity: 802.11AC WiFi \\n Operating System: Windows 8.1 \\n Color: Crystal White \\n Thickness: 0.5 inch \\n Weight: 2.9 lbs', 'input': 'ASUS Zenbook 14 OLED UM3402YA-KM826W R5-7430U (Ryzen 5, 14 inches)', 'Screen Size': '14 inches', 'Processor Brand': 'Ryzen 5', 'Processor Speed': 'I do not know.'}, {'human_0': 'Acer Aspire S7 13.3-Inch Touchscreen Ultrabook (Intel Core i5-4200U Processor up to 2.6GHz, 8GB DDR3 Memory, 256GB SSD, FHD 1080P Touchscreen Display, Backlit Keyboard, 802.11AC WiFi, Windows 8.1, 0.5 inch thin and 2.9 Lbs) Crystal White', 'system_0': 'Brand: Acer \\n Model: Aspire S7 \\n Screen Size: 13.3 inches \\n Screen Type: Touchscreen \\n Processor Brand: Intel Core i5-4200U \\n Processor Speed: 2.6GHz \\n Memory: 8GB DDR3 \\n Storage: 256GB SSD \\n Resolution: FHD 1080P \\n Keyboard: Backlit\\n Wireless Connectivity: 802.11AC WiFi \\n Operating System: Windows 8.1 \\n Color: Crystal White \\n Thickness: 0.5 inch \\n Weight: 2.9 lbs', 'input': 'Asus TUF Gaming FA506NC-HN011W R5-7535HS (Ryzen 5, 15.6 inches)', 'Screen Size': '15.6 inches', 'Processor Brand': 'Ryzen 5', 'Processor Speed': 'I do not know.'}, {'human_0': 'Acer Aspire S7 13.3-Inch Touchscreen Ultrabook (Intel Core i5-4200U Processor up to 2.6GHz, 8GB DDR3 Memory, 256GB SSD, FHD 1080P Touchscreen Display, Backlit Keyboard, 802.11AC WiFi, Windows 8.1, 0.5 inch thin and 2.9 Lbs) Crystal White', 'system_0': 'Brand: Acer \\n Model: Aspire S7 \\n Screen Size: 13.3 inches \\n Screen Type: Touchscreen \\n Processor Brand: Intel Core i5-4200U \\n Processor Speed: 2.6GHz \\n Memory: 8GB DDR3 \\n Storage: 256GB SSD \\n Resolution: FHD 1080P \\n Keyboard: Backlit\\n Wireless Connectivity: 802.11AC WiFi \\n Operating System: Windows 8.1 \\n Color: Crystal White \\n Thickness: 0.5 inch \\n Weight: 2.9 lbs', 'input': 'Asus TUF Gaming A15 FA506NF-HN012W R5-7535HS (Ryzen 5, 15.6 inches)', 'Screen Size': '15.6 inches', 'Processor Brand': 'Ryzen 5', 'Processor Speed': 'I do not know.'}, {'human_0': 'Acer Aspire S7 13.3-Inch Touchscreen Ultrabook (Intel Core i5-4200U Processor up to 2.6GHz, 8GB DDR3 Memory, 256GB SSD, FHD 1080P Touchscreen Display, Backlit Keyboard, 802.11AC WiFi, Windows 8.1, 0.5 inch thin and 2.9 Lbs) Crystal White', 'system_0': 'Brand: Acer \\n Model: Aspire S7 \\n Screen Size: 13.3 inches \\n Screen Type: Touchscreen \\n Processor Brand: Intel Core i5-4200U \\n Processor Speed: 2.6GHz \\n Memory: 8GB DDR3 \\n Storage: 256GB SSD \\n Resolution: FHD 1080P \\n Keyboard: Backlit\\n Wireless Connectivity: 802.11AC WiFi \\n Operating System: Windows 8.1 \\n Color: Crystal White \\n Thickness: 0.5 inch \\n Weight: 2.9 lbs', 'input': 'MSI Modern 15 B12MO-487VN i7 1255U (Core i7, 15.6 inches)', 'Screen Size': '15.6 inches', 'Processor Brand': 'Core i7', 'Processor Speed': 'I do not know.'}, {'human_0': 'Acer Aspire S7 13.3-Inch Touchscreen Ultrabook (Intel Core i5-4200U Processor up to 2.6GHz, 8GB DDR3 Memory, 256GB SSD, FHD 1080P Touchscreen Display, Backlit Keyboard, 802.11AC WiFi, Windows 8.1, 0.5 inch thin and 2.9 Lbs) Crystal White', 'system_0': 'Brand: Acer \\n Model: Aspire S7 \\n Screen Size: 13.3 inches \\n Screen Type: Touchscreen \\n Processor Brand: Intel Core i5-4200U \\n Processor Speed: 2.6GHz \\n Memory: 8GB DDR3 \\n Storage: 256GB SSD \\n Resolution: FHD 1080P \\n Keyboard: Backlit\\n Wireless Connectivity: 802.11AC WiFi \\n Operating System: Windows 8.1 \\n Color: Crystal White \\n Thickness: 0.5 inch \\n Weight: 2.9 lbs', 'input': 'Lenovo Ideapad Flex 5 14ALC7 R7 5700U (82R900ECVN) (Ryzen 7, 14 inches)', 'Screen Size': '14 inches', 'Processor Brand': 'Ryzen 7', 'Processor Speed': 'I do not know.'}, {'human_0': 'Acer Aspire S7 13.3-Inch Touchscreen Ultrabook (Intel Core i5-4200U Processor up to 2.6GHz, 8GB DDR3 Memory, 256GB SSD, FHD 1080P Touchscreen Display, Backlit Keyboard, 802.11AC WiFi, Windows 8.1, 0.5 inch thin and 2.9 Lbs) Crystal White', 'system_0': 'Brand: Acer \\n Model: Aspire S7 \\n Screen Size: 13.3 inches \\n Screen Type: Touchscreen \\n Processor Brand: Intel Core i5-4200U \\n Processor Speed: 2.6GHz \\n Memory: 8GB DDR3 \\n Storage: 256GB SSD \\n Resolution: FHD 1080P \\n Keyboard: Backlit\\n Wireless Connectivity: 802.11AC WiFi \\n Operating System: Windows 8.1 \\n Color: Crystal White \\n Thickness: 0.5 inch \\n Weight: 2.9 lbs', 'input': 'Lenovo IdeaPad Slim 3 14IAH8 i5 12450H (83EQ0009VN) (Core i5, 14 inches)', 'Screen Size': '14 inches', 'Processor Brand': 'Core i5', 'Processor Speed': 'I do not know.'}, {'human_0': 'Acer Aspire S7 13.3-Inch Touchscreen Ultrabook (Intel Core i5-4200U Processor up to 2.6GHz, 8GB DDR3 Memory, 256GB SSD, FHD 1080P Touchscreen Display, Backlit Keyboard, 802.11AC WiFi, Windows 8.1, 0.5 inch thin and 2.9 Lbs) Crystal White', 'system_0': 'Brand: Acer \\n Model: Aspire S7 \\n Screen Size: 13.3 inches \\n Screen Type: Touchscreen \\n Processor Brand: Intel Core i5-4200U \\n Processor Speed: 2.6GHz \\n Memory: 8GB DDR3 \\n Storage: 256GB SSD \\n Resolution: FHD 1080P \\n Keyboard: Backlit\\n Wireless Connectivity: 802.11AC WiFi \\n Operating System: Windows 8.1 \\n Color: Crystal White \\n Thickness: 0.5 inch \\n Weight: 2.9 lbs', 'input': 'Lenovo Ideapad Flex 5 14ALC7 R5 5500U (82R900EDVN) (Ryzen 5, 14 inches)', 'Screen Size': '14 inches', 'Processor Brand': 'Ryzen 5', 'Processor Speed': 'I do not know.'}], 'task_prefix': 'Extract all important attribute name : attribute value pairs mentioned in the product title below. All parts of the product title should be assigned to an attribute. \\n Desired format: <attribute name>: <attribute value> \\n <attribute name>: <attribute value>'}\n"
     ]
    },
    {
     "data": {
      "text/plain": [
       "True"
      ]
     },
     "execution_count": 7,
     "metadata": {},
     "output_type": "execute_result"
    }
   ],
   "source": [
    "from dotenv import load_dotenv\n",
    "\n",
    "# print the dictionary\n",
    "print(task_dict)\n",
    "\n",
    "# Load OPENAI_API_KEY from .env file\n",
    "load_dotenv()"
   ]
  },
  {
   "cell_type": "code",
   "execution_count": 8,
   "id": "d55fb8c7",
   "metadata": {},
   "outputs": [],
   "source": [
    "# Initialize processing\n",
    "from tqdm import tqdm\n",
    "from langchain import LLMChain\n",
    "from langchain.chat_models import ChatOpenAI\n",
    "\n",
    "from langchain.prompts import (\n",
    "    ChatPromptTemplate,\n",
    "    SystemMessagePromptTemplate,\n",
    "    AIMessagePromptTemplate,\n",
    "    HumanMessagePromptTemplate,\n",
    ")\n",
    "\n",
    "# Put task prefix into system message.\n",
    "prompt_list = []\n",
    "system_message_prompt = SystemMessagePromptTemplate.from_template(task_dict['task_prefix'])\n",
    "prompt_list.append(system_message_prompt)\n",
    "\n",
    "# Prepare 1-shot  \n",
    "human_example_template=\"{human_msg_0}\"\n",
    "human_example_message_prompt = HumanMessagePromptTemplate.from_template(human_example_template)\n",
    "prompt_list.append(human_example_message_prompt)\n",
    "\n",
    "ai_example_template=\"{ai_msg_0}\"\n",
    "ai_example_message_prompt = AIMessagePromptTemplate.from_template(ai_example_template)\n",
    "prompt_list.append(ai_example_message_prompt)\n",
    "\n",
    "system_message_prompt_2 = SystemMessagePromptTemplate.from_template(task_dict['task_prefix'])\n",
    "prompt_list.append(system_message_prompt_2)\n",
    "\n",
    "# Add \n",
    "human_template=\"{input_string}\"\n",
    "human_message_prompt = HumanMessagePromptTemplate.from_template(human_template)\n",
    "prompt_list.append(human_message_prompt)\n",
    "\n",
    "chat_prompt = ChatPromptTemplate.from_messages(prompt_list)\n",
    "\n",
    "gpt_3_turbo = ChatOpenAI(model_name='gpt-3.5-turbo-0125', temperature=0)\n",
    "\n",
    "llm_chain = LLMChain(\n",
    "    prompt=chat_prompt,\n",
    "    llm=gpt_3_turbo\n",
    ")\n",
    "\n",
    "# Save model\n",
    "task_dict['model'] = llm_chain.llm.model_name"
   ]
  },
  {
   "cell_type": "code",
   "execution_count": 9,
   "id": "81531cda",
   "metadata": {},
   "outputs": [],
   "source": [
    "def parse_gpt_response_to_dict(response):\n",
    "    # Split Response by new line\n",
    "    response_parts = response.split('\\n')\n",
    "    response_parts = [part.strip() for part in response_parts if part.strip() != '']\n",
    "\n",
    "    # Try to parse line as a JSON object - 2nd attempt\n",
    "    response_dict = {}\n",
    "\n",
    "    i = 0\n",
    "\n",
    "    while i < len(response_parts):\n",
    "        parsed_response_part = response_parts[i].replace('Human:', '')\\\n",
    "                            .replace('AI:', '').replace('System:', '').strip()\n",
    "        if ':' in parsed_response_part:\n",
    "            parsed_response_part = parsed_response_part.split(':')\n",
    "\n",
    "        if len(parsed_response_part) == 2 and parsed_response_part[1] == \" {\":\n",
    "            temp = \"\"\n",
    "            i = i + 1\n",
    "            while response_parts[i] != \"}\":\n",
    "                temp = temp + response_parts[i]+\" \"\n",
    "                i = i + 1\n",
    "            response_dict[parsed_response_part[0].replace('\"', '').replace(\"'\", \"\").strip()] = temp.replace('\"', '').replace(\"'\", \"\").replace(\"[\",\"\").replace(\"]\",\"\").strip().rstrip(',!')\n",
    "        elif len(parsed_response_part) == 2 and isinstance(parsed_response_part[0], str) and isinstance(parsed_response_part[1], list):\n",
    "            parse_str = \", \".join(parsed_response_part[1])\n",
    "            parsed_response_part[1] = parse_str\n",
    "            response_dict[parsed_response_part[0].replace('\"', '').replace(\"'\", \"\").strip()] = parsed_response_part[1].replace('\"', '').replace(\"'\", \"\").replace(\"[\",\"\").replace(\"]\",\"\").strip().rstrip(',!')\n",
    "        elif len(parsed_response_part) == 2 and isinstance(parsed_response_part[0], str) and isinstance(parsed_response_part[1], str):\n",
    "            response_dict[parsed_response_part[0].replace('\"', '').replace(\"'\", \"\").strip()] = parsed_response_part[1].replace('\"', '').replace(\"'\", \"\").replace(\"[\",\"\").replace(\"]\",\"\").strip().rstrip(',!')\n",
    "        i = i + 1\n",
    "\n",
    "    return response_dict"
   ]
  },
  {
   "cell_type": "code",
   "execution_count": 10,
   "id": "20d23e3f",
   "metadata": {},
   "outputs": [],
   "source": [
    "def select_and_run_llm(human_0, system_0, input):\n",
    "        pred = None\n",
    "        if len(input) == 0:\n",
    "            # No input text provided.\n",
    "            return pred\n",
    "        \n",
    "        response = llm_chain.run({'human_msg_0': human_0, 'ai_msg_0': system_0, 'input_string': input})\n",
    "        try:\n",
    "            pred = parse_gpt_response_to_dict(response)\n",
    "            print(response)\n",
    "        except Exception as e:\n",
    "            print(e)\n",
    "            print('Response: ')\n",
    "            print(response)\n",
    "        return pred"
   ]
  },
  {
   "cell_type": "code",
   "execution_count": 11,
   "id": "62eec27b",
   "metadata": {
    "scrolled": false
   },
   "outputs": [
    {
     "name": "stderr",
     "output_type": "stream",
     "text": [
      "  0%|          | 0/447 [00:00<?, ?it/s]"
     ]
    },
    {
     "name": "stderr",
     "output_type": "stream",
     "text": [
      "  0%|          | 1/447 [00:02<17:46,  2.39s/it]"
     ]
    },
    {
     "name": "stdout",
     "output_type": "stream",
     "text": [
      "Brand: HP \n",
      " Model: 15s fq5229TU \n",
      " Processor: Intel Core i3 1215U \n",
      " Model Number: 8U237PA \n",
      " Graphics: Intel UHD \n",
      " Screen Size: 15.6 inches \n",
      " Processor Speed: 1.2GHz\n"
     ]
    },
    {
     "name": "stderr",
     "output_type": "stream",
     "text": [
      "  0%|          | 2/447 [00:04<15:39,  2.11s/it]"
     ]
    },
    {
     "name": "stdout",
     "output_type": "stream",
     "text": [
      "Brand: HP \n",
      " Model: 240 G9 \n",
      " Processor: Intel Core i3-1215U \n",
      " Graphics: Intel UHD \n",
      " Screen Size: 14 inches \n",
      " Processor Speed: 1.2GHz \n",
      " Model Number: 6L1X7PA\n"
     ]
    },
    {
     "name": "stderr",
     "output_type": "stream",
     "text": [
      "  1%|          | 3/447 [00:05<13:43,  1.85s/it]"
     ]
    },
    {
     "name": "stdout",
     "output_type": "stream",
     "text": [
      "Brand: HP \n",
      " Series: Pavilion \n",
      " Model: 15 eg2081TU \n",
      " Processor: Intel Core i5 1240P \n",
      " Graphics: Intel Iris Xe \n",
      " Screen Size: 15.6 inches \n",
      " Processor Speed: 1.7GHz\n"
     ]
    },
    {
     "name": "stderr",
     "output_type": "stream",
     "text": [
      "  1%|          | 4/447 [00:07<12:52,  1.74s/it]"
     ]
    },
    {
     "name": "stdout",
     "output_type": "stream",
     "text": [
      "Brand: HP \n",
      " Model: 245 G10 R5 7520U (8F155PA) \n",
      " Processor: AMD Ryzen 5 7520U \n",
      " Graphics: Radeon \n",
      " Screen Size: 14 inches \n",
      " Processor Speed: 2.8GHz\n"
     ]
    },
    {
     "name": "stderr",
     "output_type": "stream",
     "text": [
      "  1%|          | 5/447 [00:09<12:46,  1.74s/it]"
     ]
    },
    {
     "name": "stdout",
     "output_type": "stream",
     "text": [
      "Brand: HP \n",
      " Series: Pavilion 14 dv2073TU \n",
      " Model: i5 1235U (7C0P2PA) \n",
      " Processor Brand: Intel \n",
      " Processor Model: i5 1235U \n",
      " Graphics: Intel Iris Xe \n",
      " Screen Size: 14 inches \n",
      " Processor Speed: 1.3GHz\n"
     ]
    },
    {
     "name": "stderr",
     "output_type": "stream",
     "text": [
      "  1%|▏         | 6/447 [00:10<12:36,  1.72s/it]"
     ]
    },
    {
     "name": "stdout",
     "output_type": "stream",
     "text": [
      "Brand: HP \n",
      " Model: 240 G9 \n",
      " Processor: Intel Core i5-1235U \n",
      " Model Number: 6L1Y2PA \n",
      " Graphics: Intel UHD \n",
      " Screen Size: 14 inches \n",
      " Processor Speed: 1.3GHz\n"
     ]
    },
    {
     "name": "stderr",
     "output_type": "stream",
     "text": [
      "  2%|▏         | 7/447 [00:12<12:08,  1.66s/it]"
     ]
    },
    {
     "name": "stdout",
     "output_type": "stream",
     "text": [
      "Brand: HP \n",
      " Model: 15s fq5162TU \n",
      " Processor: Intel Core i5-1235U \n",
      " Graphics: Intel Iris Xe \n",
      " Screen Size: 15.6 inches \n",
      " Processor Speed: 1.3GHz\n"
     ]
    },
    {
     "name": "stderr",
     "output_type": "stream",
     "text": [
      "  2%|▏         | 8/447 [00:14<12:32,  1.71s/it]"
     ]
    },
    {
     "name": "stdout",
     "output_type": "stream",
     "text": [
      "Brand: HP \n",
      " Series: Pavilion \n",
      " Model: 15 eg2082TU \n",
      " Processor: Intel Core i5 1240P \n",
      " Graphics: Intel Iris Xe \n",
      " Screen Size: 15.6 inches \n",
      " Processor Speed: 1.7GHz\n"
     ]
    },
    {
     "name": "stderr",
     "output_type": "stream",
     "text": [
      "  2%|▏         | 9/447 [00:17<15:11,  2.08s/it]"
     ]
    },
    {
     "name": "stdout",
     "output_type": "stream",
     "text": [
      "Brand: HP \n",
      " Model: 15s fq5147TU \n",
      " Processor: i7 1255U \n",
      " Model Number: 7C133PA \n",
      " Graphics: Intel Iris Xe \n",
      " Screen Size: 15.6 inches \n",
      " Processor Speed: 1.7GHz\n"
     ]
    },
    {
     "name": "stderr",
     "output_type": "stream",
     "text": [
      "  2%|▏         | 10/447 [00:18<14:21,  1.97s/it]"
     ]
    },
    {
     "name": "stdout",
     "output_type": "stream",
     "text": [
      "Brand: HP \n",
      " Series: Pavilion \n",
      " Model: 14 dv2074TU \n",
      " Processor: Intel Core i5-1235U \n",
      " Graphics: Intel Iris Xe \n",
      " Screen Size: 14 inches \n",
      " Processor Speed: 1.3GHz\n"
     ]
    },
    {
     "name": "stderr",
     "output_type": "stream",
     "text": [
      "  2%|▏         | 11/447 [00:20<13:53,  1.91s/it]"
     ]
    },
    {
     "name": "stdout",
     "output_type": "stream",
     "text": [
      "Brand: HP \n",
      " Series: Gaming VICTUS 15 \n",
      " Model: fa1139TX \n",
      " Processor: i5 12450H \n",
      " Model Number: 8Y6W3PA \n",
      " Graphics Card: RTX 2050 4GB \n",
      " Screen Size: 15.6 inches \n",
      " Processor Speed: 2GHz\n"
     ]
    },
    {
     "name": "stderr",
     "output_type": "stream",
     "text": [
      "  3%|▎         | 12/447 [00:22<13:14,  1.83s/it]"
     ]
    },
    {
     "name": "stdout",
     "output_type": "stream",
     "text": [
      "Brand: HP \n",
      " Model: 14 ep0126TU \n",
      " Processor: Intel Core i3 N305 \n",
      " Model Number: 8U233PA \n",
      " Graphics: Intel UHD \n",
      " Screen Size: 14 inches \n",
      " Processor Speed: 1.8GHz\n"
     ]
    },
    {
     "name": "stderr",
     "output_type": "stream",
     "text": [
      "  3%|▎         | 13/447 [00:24<13:24,  1.85s/it]"
     ]
    },
    {
     "name": "stdout",
     "output_type": "stream",
     "text": [
      "Brand: HP \n",
      " Series: Pavilion \n",
      " Model: 15 eg2088TU \n",
      " Processor: i7 1260P \n",
      " Part Number: 7C0R0PA \n",
      " Graphics: Intel Iris Xe \n",
      " Screen Size: 15.6 inches \n",
      " Processor Speed: 2.1GHz\n"
     ]
    },
    {
     "name": "stderr",
     "output_type": "stream",
     "text": [
      "  3%|▎         | 14/447 [00:26<13:24,  1.86s/it]"
     ]
    },
    {
     "name": "stdout",
     "output_type": "stream",
     "text": [
      "Brand: HP \n",
      " Series: Gaming VICTUS \n",
      " Model: 15 fb1022AX \n",
      " Processor: R5 7535HS \n",
      " Model Number: 94F19PA \n",
      " Graphics Card: RTX 2050 4GB \n",
      " Screen Size: 15.6 inches \n",
      " Processor Speed: 3.3GHz\n"
     ]
    },
    {
     "name": "stderr",
     "output_type": "stream",
     "text": [
      "  3%|▎         | 15/447 [00:27<12:50,  1.78s/it]"
     ]
    },
    {
     "name": "stdout",
     "output_type": "stream",
     "text": [
      "Brand: HP \n",
      " Model: 240 G9 \n",
      " Processor: Intel Core i5-1235U \n",
      " Model Number: 6L1Y1PA \n",
      " Graphics: Intel UHD \n",
      " Screen Size: 14 inches \n",
      " Processor Speed: 1.3GHz\n"
     ]
    },
    {
     "name": "stderr",
     "output_type": "stream",
     "text": [
      "  4%|▎         | 16/447 [00:29<12:38,  1.76s/it]"
     ]
    },
    {
     "name": "stdout",
     "output_type": "stream",
     "text": [
      "Brand: HP \n",
      " Model: 15s fq2716TU \n",
      " Processor: Intel Core i3 1115G4 \n",
      " Graphics: Intel UHD \n",
      " Screen Size: 15.6 inches \n",
      " Processor Speed: 3GHz \n",
      " Model Number: 7C0X3PA\n"
     ]
    },
    {
     "name": "stderr",
     "output_type": "stream",
     "text": [
      "  4%|▍         | 17/447 [00:30<11:49,  1.65s/it]"
     ]
    },
    {
     "name": "stdout",
     "output_type": "stream",
     "text": [
      "Brand: HP \n",
      " Model: Envy X360 13 bf0090TU \n",
      " Processor: Intel Core i7-1250U \n",
      " Graphics: Intel Iris Xe \n",
      " Screen Size: 13.3 inches \n",
      " Processor Speed: 1.1GHz\n"
     ]
    },
    {
     "name": "stderr",
     "output_type": "stream",
     "text": [
      "  4%|▍         | 18/447 [00:32<12:08,  1.70s/it]"
     ]
    },
    {
     "name": "stdout",
     "output_type": "stream",
     "text": [
      "Brand: HP \n",
      " Series: Pavilion X360 \n",
      " Model: 14 ek1047TU \n",
      " Processor: i7 1355U \n",
      " Part Number: 80R25PA \n",
      " Graphics: Intel Iris Xe \n",
      " Screen Size: 14 inches \n",
      " Processor Speed: 1.7GHz\n"
     ]
    },
    {
     "name": "stderr",
     "output_type": "stream",
     "text": [
      "  4%|▍         | 19/447 [00:34<12:22,  1.73s/it]"
     ]
    },
    {
     "name": "stdout",
     "output_type": "stream",
     "text": [
      "Brand: HP \n",
      " Series: Pavilion \n",
      " Model: 15 eg3091TU \n",
      " Processor: i7 1355U \n",
      " Part Number: 8C5L2PA \n",
      " Graphics: Intel Iris Xe \n",
      " Screen Size: 15.6 inches \n",
      " Processor Speed: 1.7GHz\n"
     ]
    },
    {
     "name": "stderr",
     "output_type": "stream",
     "text": [
      "  4%|▍         | 20/447 [00:36<12:21,  1.74s/it]"
     ]
    },
    {
     "name": "stdout",
     "output_type": "stream",
     "text": [
      "Brand: HP \n",
      " Series: Pavilion X360 \n",
      " Model: 14 ek1048TU \n",
      " Processor: Intel Core i5-1335U \n",
      " Graphics: Intel Iris Xe \n",
      " Screen Size: 14 inches \n",
      " Processor Speed: 1.3GHz\n"
     ]
    },
    {
     "name": "stderr",
     "output_type": "stream",
     "text": [
      "  5%|▍         | 21/447 [00:37<12:22,  1.74s/it]"
     ]
    },
    {
     "name": "stdout",
     "output_type": "stream",
     "text": [
      "Brand: HP \n",
      " Model: Envy X360 13 bf0112TU \n",
      " Processor: Intel Core i5 1230U \n",
      " Graphics: Intel Iris Xe \n",
      " Screen Size: 13.3 inches \n",
      " Processor Speed: 1.00 GHz\n"
     ]
    },
    {
     "name": "stderr",
     "output_type": "stream",
     "text": [
      "  5%|▍         | 22/447 [00:39<12:40,  1.79s/it]"
     ]
    },
    {
     "name": "stdout",
     "output_type": "stream",
     "text": [
      "Brand: HP \n",
      " Series: Pavilion X360 \n",
      " Model: 14 ek1049TU \n",
      " Processor: Intel Core i5-1335U \n",
      " Graphics: Intel Iris Xe \n",
      " Screen Size: 14 inches \n",
      " Processor Speed: 1.3GHz \n",
      " Model Number: 80R27PA\n"
     ]
    },
    {
     "name": "stderr",
     "output_type": "stream",
     "text": [
      "  5%|▌         | 23/447 [00:41<12:50,  1.82s/it]"
     ]
    },
    {
     "name": "stdout",
     "output_type": "stream",
     "text": [
      "Brand: HP \n",
      " Series: Pavilion \n",
      " Model: 15 eg3093TU \n",
      " Processor: i5 1335U \n",
      " Part Number: 8C5L4PA \n",
      " Graphics: Intel Iris Xe \n",
      " Screen Size: 15.6 inches \n",
      " Processor Speed: 1.3GHz\n"
     ]
    },
    {
     "name": "stderr",
     "output_type": "stream",
     "text": [
      "  5%|▌         | 24/447 [00:43<13:11,  1.87s/it]"
     ]
    },
    {
     "name": "stdout",
     "output_type": "stream",
     "text": [
      "Brand: HP \n",
      " Series: Pavilion 15 \n",
      " Model: eg3095TU \n",
      " Processor: i5 1335U \n",
      " Part Number: 8C5L6PA \n",
      " Graphics: Intel Iris Xe \n",
      " Screen Size: 15.6 inches \n",
      " Processor Speed: 1.3GHz\n"
     ]
    },
    {
     "name": "stderr",
     "output_type": "stream",
     "text": [
      "  6%|▌         | 25/447 [00:45<12:50,  1.83s/it]"
     ]
    },
    {
     "name": "stdout",
     "output_type": "stream",
     "text": [
      "Brand: HP \n",
      " Series: Pavilion \n",
      " Model: 15 eg2062TX \n",
      " Processor: i5 1235U \n",
      " Part Number: 7C0W7PA \n",
      " Graphics Card: MX550 2GB \n",
      " Screen Size: 15.6 inches \n",
      " Processor Speed: 1.3GHz\n"
     ]
    },
    {
     "name": "stderr",
     "output_type": "stream",
     "text": [
      "  6%|▌         | 26/447 [00:47<12:43,  1.81s/it]"
     ]
    },
    {
     "name": "stdout",
     "output_type": "stream",
     "text": [
      "Brand: HP \n",
      " Model: 240 G10 \n",
      " Processor: Intel Core i5-1335U \n",
      " Model Number: 8F134PA \n",
      " Graphics: Intel UHD \n",
      " Screen Size: 14 inches \n",
      " Processor Speed: 1.3GHz\n"
     ]
    },
    {
     "name": "stderr",
     "output_type": "stream",
     "text": [
      "  6%|▌         | 27/447 [00:48<12:14,  1.75s/it]"
     ]
    },
    {
     "name": "stdout",
     "output_type": "stream",
     "text": [
      "Brand: HP \n",
      " Series: Elitebook 630 G9 \n",
      " Model: i5 1235U (6M143PA) \n",
      " Processor Brand: Intel \n",
      " Graphics: Intel UHD \n",
      " Screen Size: 13.3 inches \n",
      " Processor Speed: 1.3GHz\n"
     ]
    },
    {
     "name": "stderr",
     "output_type": "stream",
     "text": [
      "  6%|▋         | 28/447 [00:50<12:40,  1.82s/it]"
     ]
    },
    {
     "name": "stdout",
     "output_type": "stream",
     "text": [
      "Brand: HP \n",
      " Series: Gaming VICTUS 16 s0077AX \n",
      " Model Number: 8C5N6PA \n",
      " Processor: R7 7840HS \n",
      " Graphics Card: RTX 3050 6GB \n",
      " Screen Size: 16.1 inches \n",
      " Processor Speed: 3.8GHz\n"
     ]
    },
    {
     "name": "stderr",
     "output_type": "stream",
     "text": [
      "  6%|▋         | 29/447 [00:52<13:19,  1.91s/it]"
     ]
    },
    {
     "name": "stdout",
     "output_type": "stream",
     "text": [
      "Brand: HP \n",
      " Series: Gaming VICTUS \n",
      " Model: 16 e1106AX \n",
      " Processor: AMD Ryzen 5 6600H \n",
      " Model Number: 7C0T1PA \n",
      " Graphics Card: NVIDIA GeForce RTX 3050Ti (4GB) \n",
      " Screen Size: 16.1 inches \n",
      " Processor Speed: 3.3GHz\n"
     ]
    },
    {
     "name": "stderr",
     "output_type": "stream",
     "text": [
      "  7%|▋         | 30/447 [00:54<13:27,  1.94s/it]"
     ]
    },
    {
     "name": "stdout",
     "output_type": "stream",
     "text": [
      "Brand: HP \n",
      " Model: Pavilion 15 eg2086TU \n",
      " Processor: Intel Core i3 1215U \n",
      " Model Number: 7C0Q8PA \n",
      " Graphics: Intel UHD \n",
      " Screen Size: 15.6 inches \n",
      " Processor Speed: 1.2GHz\n"
     ]
    },
    {
     "name": "stderr",
     "output_type": "stream",
     "text": [
      "  7%|▋         | 31/447 [00:56<13:37,  1.97s/it]"
     ]
    },
    {
     "name": "stdout",
     "output_type": "stream",
     "text": [
      "Brand: HP \n",
      " Series: Gaming VICTUS 15 \n",
      " Model: fa0155TX \n",
      " Processor: i5 12450H \n",
      " Model Number: 81P00PA \n",
      " Graphics Card: RTX 3050 4GB \n",
      " Screen Size: 15.6 inches \n",
      " Processor Speed: 2GHz\n"
     ]
    },
    {
     "name": "stderr",
     "output_type": "stream",
     "text": [
      "  7%|▋         | 32/447 [00:58<12:58,  1.88s/it]"
     ]
    },
    {
     "name": "stdout",
     "output_type": "stream",
     "text": [
      "Brand: HP \n",
      " Model: 240 G10 \n",
      " Processor: Intel Core i5-1335U \n",
      " Model Number: 8F136PA \n",
      " Graphics: Intel UHD \n",
      " Screen Size: 14 inches \n",
      " Processor Speed: 1.3GHz\n"
     ]
    },
    {
     "name": "stderr",
     "output_type": "stream",
     "text": [
      "  7%|▋         | 33/447 [01:01<16:04,  2.33s/it]"
     ]
    },
    {
     "name": "stdout",
     "output_type": "stream",
     "text": [
      "Brand: HP \n",
      " Model: 245 G9 R5 5625U (6L1N9PA) \n",
      " Processor: AMD Ryzen 5 5625U \n",
      " Graphics: Radeon \n",
      " Screen Size: 14 inches \n",
      " Processor Speed: 2.30 GHz\n"
     ]
    },
    {
     "name": "stderr",
     "output_type": "stream",
     "text": [
      "  8%|▊         | 34/447 [01:03<14:43,  2.14s/it]"
     ]
    },
    {
     "name": "stdout",
     "output_type": "stream",
     "text": [
      "Brand: HP \n",
      " Model: OMEN 16 xf0070AX R9 7940HS (8W945PA) \n",
      " Graphics Card: RTX 4070 8GB \n",
      " Screen Size: 16.1 inches \n",
      " Processor: 4GHz\n"
     ]
    },
    {
     "name": "stderr",
     "output_type": "stream",
     "text": [
      "  8%|▊         | 35/447 [01:05<13:24,  1.95s/it]"
     ]
    },
    {
     "name": "stdout",
     "output_type": "stream",
     "text": [
      "Brand: HP \n",
      " Series: OMEN 16 xf0071AX \n",
      " Model Number: R7 7840HS (8W946PA) \n",
      " Graphics Card: RTX 4060 8GB \n",
      " Screen Size: 16.1 inches \n",
      " Processor Speed: 3.8GHz\n"
     ]
    },
    {
     "name": "stderr",
     "output_type": "stream",
     "text": [
      "  8%|▊         | 36/447 [01:06<13:03,  1.91s/it]"
     ]
    },
    {
     "name": "stdout",
     "output_type": "stream",
     "text": [
      "Brand: HP \n",
      " Model: Envy 16 h0205TX \n",
      " Processor: i9 12900H \n",
      " Model Number: 7C0T2PA \n",
      " Graphics Card: RTX 3060 (6GB) \n",
      " Screen Size: 16 inches \n",
      " Processor Speed: 2.5GHz\n"
     ]
    },
    {
     "name": "stderr",
     "output_type": "stream",
     "text": [
      "  8%|▊         | 37/447 [01:08<12:22,  1.81s/it]"
     ]
    },
    {
     "name": "stdout",
     "output_type": "stream",
     "text": [
      "Brand: HP \n",
      " Model: Envy 16 h0207TX \n",
      " Processor: i7 12700H \n",
      " Model Number: 7C0T4PA \n",
      " Graphics Card: RTX 3060 6GB \n",
      " Screen Size: 16 inches \n",
      " Processor Speed: 2.30 GHz\n"
     ]
    },
    {
     "name": "stderr",
     "output_type": "stream",
     "text": [
      "  9%|▊         | 38/447 [01:10<11:45,  1.72s/it]"
     ]
    },
    {
     "name": "stdout",
     "output_type": "stream",
     "text": [
      "Brand: HP \n",
      " Model: Elitebook Dragonfly G3 \n",
      " Processor: i7 1255U \n",
      " Graphics: Intel Iris Xe \n",
      " Screen Size: 13.5 inches \n",
      " Processor Speed: 1.7GHz\n"
     ]
    },
    {
     "name": "stderr",
     "output_type": "stream",
     "text": [
      "  9%|▊         | 39/447 [01:13<14:24,  2.12s/it]"
     ]
    },
    {
     "name": "stdout",
     "output_type": "stream",
     "text": [
      "Brand: HP \n",
      " Series: Gaming VICTUS 16 s0138AX \n",
      " Model Number: 9Q985PA \n",
      " Processor: R7 7840HS \n",
      " Graphics Card: RTX 4070 8GB \n",
      " Screen Size: 16.1 inches \n",
      " Processor Speed: 3.8GHz\n"
     ]
    },
    {
     "name": "stderr",
     "output_type": "stream",
     "text": [
      "  9%|▉         | 40/447 [01:14<13:24,  1.98s/it]"
     ]
    },
    {
     "name": "stdout",
     "output_type": "stream",
     "text": [
      "Brand: HP \n",
      " Model: Omen 16 n0087AX R7 6800H (7C0T7PA) \n",
      " Graphics Card: RTX 3060 6GB \n",
      " Screen Size: 16.1 inches \n",
      " Processor Speed: 3.2GHz\n"
     ]
    },
    {
     "name": "stderr",
     "output_type": "stream",
     "text": [
      "  9%|▉         | 41/447 [01:16<12:24,  1.83s/it]"
     ]
    },
    {
     "name": "stdout",
     "output_type": "stream",
     "text": [
      "Brand: HP \n",
      " Series: Elitebook X360 1040 G9 \n",
      " Model: i7 1255U (6Z982PA) \n",
      " Graphics: Intel Iris Xe \n",
      " Screen Size: 14 inches \n",
      " Processor Speed: 1.7GHz\n"
     ]
    },
    {
     "name": "stderr",
     "output_type": "stream",
     "text": [
      "  9%|▉         | 42/447 [01:18<12:32,  1.86s/it]"
     ]
    },
    {
     "name": "stdout",
     "output_type": "stream",
     "text": [
      "Brand: HP \n",
      " Product Line: Gaming VICTUS \n",
      " Model: 16 s0139AX R7 7840HS (9Q986PA) \n",
      " Graphics Card: RTX 4060 8GB \n",
      " Screen Size: 16.1 inches \n",
      " Processor Speed: 3.8GHz\n"
     ]
    },
    {
     "name": "stderr",
     "output_type": "stream",
     "text": [
      " 10%|▉         | 43/447 [01:19<12:08,  1.80s/it]"
     ]
    },
    {
     "name": "stdout",
     "output_type": "stream",
     "text": [
      "Brand: HP \n",
      " Series: Gaming VICTUS 16 r0227TX \n",
      " Model: i5 13500H (9Q978PA) \n",
      " Graphics Card: RTX 4060 8GB \n",
      " Screen Size: 16.1 inches \n",
      " Processor Speed: 2.6GHz\n"
     ]
    },
    {
     "name": "stderr",
     "output_type": "stream",
     "text": [
      " 10%|▉         | 44/447 [01:21<12:04,  1.80s/it]"
     ]
    },
    {
     "name": "stdout",
     "output_type": "stream",
     "text": [
      "Brand: HP \n",
      " Series: Gaming VICTUS 16 r0228TX \n",
      " Model: i5 13500H (9Q979PA) \n",
      " Graphics Card: RTX 4050 6GB \n",
      " Screen Size: 16.1 inches \n",
      " Processor Speed: 2.6GHz\n"
     ]
    },
    {
     "name": "stderr",
     "output_type": "stream",
     "text": [
      " 10%|█         | 45/447 [01:23<12:25,  1.85s/it]"
     ]
    },
    {
     "name": "stdout",
     "output_type": "stream",
     "text": [
      "Brand: HP \n",
      " Series: Elitebook 630 G10 \n",
      " Model: i7 1355U (9J0B7PT) \n",
      " Processor Brand: Intel \n",
      " Graphics: Intel UHD \n",
      " Screen Size: 13.3 inches \n",
      " Processor Speed: 1.7GHz\n"
     ]
    },
    {
     "name": "stderr",
     "output_type": "stream",
     "text": [
      " 10%|█         | 46/447 [01:25<12:37,  1.89s/it]"
     ]
    },
    {
     "name": "stdout",
     "output_type": "stream",
     "text": [
      "Brand: HP \n",
      " Series: Elitebook 630 G10 \n",
      " Model: i7 1355U (873F2PA) \n",
      " Processor Brand: Intel \n",
      " Processor Model: i7 1355U \n",
      " Graphics: Intel UHD \n",
      " Screen Size: 13.3 inches \n",
      " Processor Speed: 1.7GHz\n"
     ]
    },
    {
     "name": "stderr",
     "output_type": "stream",
     "text": [
      " 11%|█         | 47/447 [01:27<11:57,  1.79s/it]"
     ]
    },
    {
     "name": "stdout",
     "output_type": "stream",
     "text": [
      "Brand: HP \n",
      " Series: Elitebook 630 G10 \n",
      " Model: i5 1335U (9J0B5PT) \n",
      " Processor Brand: Intel \n",
      " Graphics: Intel UHD \n",
      " Screen Size: 13.3 inches \n",
      " Processor Speed: 1.3GHz\n"
     ]
    },
    {
     "name": "stderr",
     "output_type": "stream",
     "text": [
      " 11%|█         | 48/447 [01:28<10:39,  1.60s/it]"
     ]
    },
    {
     "name": "stdout",
     "output_type": "stream",
     "text": [
      "Brand: HP \n",
      " Model: Probook 450 G10 \n",
      " Processor: Intel Core i7-1355U \n",
      " Graphics: Intel UHD \n",
      " Screen Size: 15.6 inches \n",
      " Processor Speed: 1.7GHz\n"
     ]
    },
    {
     "name": "stderr",
     "output_type": "stream",
     "text": [
      " 11%|█         | 49/447 [01:30<11:09,  1.68s/it]"
     ]
    },
    {
     "name": "stdout",
     "output_type": "stream",
     "text": [
      "Brand: HP \n",
      " Series: Pavilion X360 \n",
      " Model: 14 ek0132TU \n",
      " Processor: Intel Core i7-1255U \n",
      " Graphics: Intel Iris Xe \n",
      " Screen Size: 14 inches \n",
      " Processor Speed: 1.7GHz\n"
     ]
    },
    {
     "name": "stderr",
     "output_type": "stream",
     "text": [
      " 11%|█         | 50/447 [01:31<11:26,  1.73s/it]"
     ]
    },
    {
     "name": "stdout",
     "output_type": "stream",
     "text": [
      "Brand: HP \n",
      " Series: Pavilion \n",
      " Model: 15 eg3035TX \n",
      " Processor: i7 1355U \n",
      " Part Number: 8U6L7PA \n",
      " Graphics Card: MX550 2GB \n",
      " Screen Size: 15.6 inches \n",
      " Processor Speed: 1.7GHz\n"
     ]
    },
    {
     "name": "stderr",
     "output_type": "stream",
     "text": [
      " 11%|█▏        | 51/447 [01:33<11:55,  1.81s/it]"
     ]
    },
    {
     "name": "stdout",
     "output_type": "stream",
     "text": [
      "Brand: HP \n",
      " Series: Pavilion \n",
      " Model: 15 eg2034TX \n",
      " Processor: i7 1255U \n",
      " Part Number: 6K780PA \n",
      " Graphics Card: MX550 2GB \n",
      " Screen Size: 15.6 inches \n",
      " Processor Speed: 1.7GHz\n"
     ]
    },
    {
     "name": "stderr",
     "output_type": "stream",
     "text": [
      " 12%|█▏        | 52/447 [01:37<15:16,  2.32s/it]"
     ]
    },
    {
     "name": "stdout",
     "output_type": "stream",
     "text": [
      "Brand: HP \n",
      " Series: Pavilion 14 dv2071TU \n",
      " Model: i7 1255U (7C0W0PA) \n",
      " Processor Brand: Intel \n",
      " Processor Model: i7 1255U \n",
      " Graphics: Intel Iris Xe \n",
      " Screen Size: 14 inches \n",
      " Processor Speed: 1.7GHz\n"
     ]
    },
    {
     "name": "stderr",
     "output_type": "stream",
     "text": [
      " 12%|█▏        | 53/447 [01:39<13:50,  2.11s/it]"
     ]
    },
    {
     "name": "stdout",
     "output_type": "stream",
     "text": [
      "Brand: HP \n",
      " Model: Probook 450 G10 \n",
      " Processor: Intel Core i5-1335U \n",
      " Model Number: 873D1PA \n",
      " Graphics: Intel UHD \n",
      " Screen Size: 15.6 inches \n",
      " Processor Speed: 1.3GHz\n"
     ]
    },
    {
     "name": "stderr",
     "output_type": "stream",
     "text": [
      " 12%|█▏        | 54/447 [01:40<13:16,  2.03s/it]"
     ]
    },
    {
     "name": "stdout",
     "output_type": "stream",
     "text": [
      "Brand: HP \n",
      " Series: Pavilion \n",
      " Model: 15 eg3033TX \n",
      " Processor: i5 1335U \n",
      " Part Number: 8U6L6PA \n",
      " Graphics Card: MX550 2GB \n",
      " Screen Size: 15.6 inches \n",
      " Processor Speed: 1.3GHz\n"
     ]
    },
    {
     "name": "stderr",
     "output_type": "stream",
     "text": [
      " 12%|█▏        | 55/447 [01:42<12:13,  1.87s/it]"
     ]
    },
    {
     "name": "stdout",
     "output_type": "stream",
     "text": [
      "Brand: HP \n",
      " Model: Probook 450 G9 \n",
      " Processor: Intel Core i5-1235U \n",
      " Model Number: 6M0Y9PA \n",
      " Graphics: Intel UHD \n",
      " Screen Size: 15.6 inches \n",
      " Processor Speed: 1.3GHz\n"
     ]
    },
    {
     "name": "stderr",
     "output_type": "stream",
     "text": [
      " 13%|█▎        | 56/447 [01:44<11:36,  1.78s/it]"
     ]
    },
    {
     "name": "stdout",
     "output_type": "stream",
     "text": [
      "Brand: HP \n",
      " Series: Pavilion 15 eg2035TX \n",
      " Model: i5 1235U (6K781PA) \n",
      " Graphics Card: MX550 2GB \n",
      " Screen Size: 15.6 inches \n",
      " Processor Speed: 1.3GHz\n"
     ]
    },
    {
     "name": "stderr",
     "output_type": "stream",
     "text": [
      " 13%|█▎        | 57/447 [01:46<12:09,  1.87s/it]"
     ]
    },
    {
     "name": "stdout",
     "output_type": "stream",
     "text": [
      "Brand: HP \n",
      " Model: Pavilion 15 eg2036TX \n",
      " Processor: i5 1235U \n",
      " Model Number: 6K782PA \n",
      " Graphics Card: MX550 2GB \n",
      " Screen Size: 15.6 inches \n",
      " Processor Speed: 1.3GHz\n"
     ]
    },
    {
     "name": "stderr",
     "output_type": "stream",
     "text": [
      " 13%|█▎        | 58/447 [01:47<12:08,  1.87s/it]"
     ]
    },
    {
     "name": "stdout",
     "output_type": "stream",
     "text": [
      "Brand: HP \n",
      " Series: Pavilion 15 \n",
      " Model: eg3094TU \n",
      " Processor: i5 1335U \n",
      " Part Number: 8C5L5PA \n",
      " Graphics: Intel Iris Xe \n",
      " Screen Size: 15.6 inches \n",
      " Processor Speed: 1.3GHz\n"
     ]
    },
    {
     "name": "stderr",
     "output_type": "stream",
     "text": [
      " 13%|█▎        | 59/447 [01:49<12:03,  1.86s/it]"
     ]
    },
    {
     "name": "stdout",
     "output_type": "stream",
     "text": [
      "Brand: HP \n",
      " Series: Pavilion \n",
      " Model: 15 eg2085TU \n",
      " Processor: Intel Core i5 1240P \n",
      " Graphics: Intel Iris Xe \n",
      " Screen Size: 15.6 inches \n",
      " Processor Speed: 1.7GHz\n"
     ]
    },
    {
     "name": "stderr",
     "output_type": "stream",
     "text": [
      " 13%|█▎        | 60/447 [01:51<12:07,  1.88s/it]"
     ]
    },
    {
     "name": "stdout",
     "output_type": "stream",
     "text": [
      "Brand: HP \n",
      " Series: Pavilion X360 \n",
      " Model: 14 ek0131TU \n",
      " Processor: Intel Core i3 1215U \n",
      " Model Number: 7C0P6PA \n",
      " Graphics: Intel UHD \n",
      " Screen Size: 14 inches \n",
      " Processor Speed: 1.2GHz\n"
     ]
    },
    {
     "name": "stderr",
     "output_type": "stream",
     "text": [
      " 14%|█▎        | 61/447 [01:53<12:33,  1.95s/it]"
     ]
    },
    {
     "name": "stdout",
     "output_type": "stream",
     "text": [
      "Brand: HP \n",
      " Series: Pavilion X360 \n",
      " Model: 14 ek0130TU \n",
      " Processor: Intel Core i3 1215U \n",
      " Model Number: 7C0P5PA \n",
      " Graphics: Intel UHD \n",
      " Screen Size: 14 inches \n",
      " Processor Speed: 1.2GHz\n"
     ]
    },
    {
     "name": "stderr",
     "output_type": "stream",
     "text": [
      " 14%|█▍        | 62/447 [01:55<12:43,  1.98s/it]"
     ]
    },
    {
     "name": "stdout",
     "output_type": "stream",
     "text": [
      "Brand: HP \n",
      " Series: Pavilion \n",
      " Model: 15 eg3098TU \n",
      " Processor: i3 1315U \n",
      " Part Number: 8C5L9PA \n",
      " Graphics: Intel UHD \n",
      " Screen Size: 15.6 inches \n",
      " Processor Speed: 1.2GHz\n"
     ]
    },
    {
     "name": "stderr",
     "output_type": "stream",
     "text": [
      " 14%|█▍        | 63/447 [01:57<11:36,  1.81s/it]"
     ]
    },
    {
     "name": "stdout",
     "output_type": "stream",
     "text": [
      "Brand: Asus \n",
      " Series: Vivobook Go 15 E1504FA \n",
      " Model Number: R5 7520U (NJ776W) \n",
      " Graphics Card: Radeon \n",
      " Screen Size: 15.6 inches \n",
      " Processor Speed: 2.8GHz\n"
     ]
    },
    {
     "name": "stderr",
     "output_type": "stream",
     "text": [
      " 14%|█▍        | 64/447 [01:59<11:46,  1.85s/it]"
     ]
    },
    {
     "name": "stdout",
     "output_type": "stream",
     "text": [
      "Brand: Asus \n",
      " Series: Vivobook 15 OLED A1505ZA \n",
      " Model: i5 12500H (L1337W) \n",
      " Processor Brand: Intel \n",
      " Processor Model: i5 12500H \n",
      " Graphics: Intel Iris Xe \n",
      " Screen Size: 15.6 inches \n",
      " Processor Speed: 2.5GHz\n"
     ]
    },
    {
     "name": "stderr",
     "output_type": "stream",
     "text": [
      " 15%|█▍        | 65/447 [02:00<11:20,  1.78s/it]"
     ]
    },
    {
     "name": "stdout",
     "output_type": "stream",
     "text": [
      "Brand: Asus \n",
      " Model: Vivobook X1404ZA \n",
      " Processor: Intel Core i3-1215U \n",
      " Graphics: Intel UHD \n",
      " Screen Size: 14 inches \n",
      " Processor Speed: 1.2GHz\n"
     ]
    },
    {
     "name": "stderr",
     "output_type": "stream",
     "text": [
      " 15%|█▍        | 66/447 [02:02<11:32,  1.82s/it]"
     ]
    },
    {
     "name": "stdout",
     "output_type": "stream",
     "text": [
      "Brand: Asus \n",
      " Series: TUF Gaming F15 FX506HF \n",
      " Model: i5 11400H (HN014W) \n",
      " Graphics Card: RTX 2050 4GB \n",
      " Screen Size: 15.6 inches \n",
      " Processor Speed: 2.7GHz\n"
     ]
    },
    {
     "name": "stderr",
     "output_type": "stream",
     "text": [
      " 15%|█▍        | 67/447 [02:04<11:31,  1.82s/it]"
     ]
    },
    {
     "name": "stdout",
     "output_type": "stream",
     "text": [
      "Brand: Asus \n",
      " Model: Vivobook 16 X1605VA i5 1335U (MB360W) \n",
      " Processor Brand: Intel \n",
      " Processor Model: i5 1335U \n",
      " Graphics: Intel Iris Xe \n",
      " Screen Size: 16 inches \n",
      " Processor Speed: 1.3GHz\n"
     ]
    },
    {
     "name": "stderr",
     "output_type": "stream",
     "text": [
      " 15%|█▌        | 68/447 [02:06<10:45,  1.70s/it]"
     ]
    },
    {
     "name": "stdout",
     "output_type": "stream",
     "text": [
      "Brand: Asus \n",
      " Model: Vivobook 15 X1504ZA i3 1215U (NJ102W) \n",
      " Processor Brand: Intel \n",
      " Graphics: UHD \n",
      " Screen Size: 15.6 inches \n",
      " Processor Speed: 1.2GHz\n"
     ]
    },
    {
     "name": "stderr",
     "output_type": "stream",
     "text": [
      " 15%|█▌        | 69/447 [02:08<11:56,  1.90s/it]"
     ]
    },
    {
     "name": "stdout",
     "output_type": "stream",
     "text": [
      "Brand: Asus \n",
      " Series: TUF Gaming F15 \n",
      " Model: FX507ZC4 i5 12500H (HN229W) \n",
      " Graphics Card: RTX 3050 4GB \n",
      " Screen Size: 15.6 inches \n",
      " Processor Speed: 2.5GHz\n"
     ]
    },
    {
     "name": "stderr",
     "output_type": "stream",
     "text": [
      " 16%|█▌        | 70/447 [02:10<12:30,  1.99s/it]"
     ]
    },
    {
     "name": "stdout",
     "output_type": "stream",
     "text": [
      "Brand: Asus \n",
      " Series: Vivobook 15 OLED A1505VA \n",
      " Model: i5 13500H (L1341W) \n",
      " Processor Brand: Intel \n",
      " Processor Model: i5 13500H \n",
      " Graphics: Intel Iris Xe \n",
      " Screen Size: 15.6 inches \n",
      " Processor Speed: 2.6GHz\n"
     ]
    },
    {
     "name": "stderr",
     "output_type": "stream",
     "text": [
      " 16%|█▌        | 71/447 [02:12<11:31,  1.84s/it]"
     ]
    },
    {
     "name": "stdout",
     "output_type": "stream",
     "text": [
      "Brand: Asus \n",
      " Series: TUF Gaming F17 FX706HF \n",
      " Processor: Intel Core i5-11400H (HX390W) \n",
      " Graphics Card: RTX 2050 4GB \n",
      " Screen Size: 17.3 inches \n",
      " Processor Speed: 2.7GHz\n"
     ]
    },
    {
     "name": "stderr",
     "output_type": "stream",
     "text": [
      " 16%|█▌        | 72/447 [02:13<11:24,  1.83s/it]"
     ]
    },
    {
     "name": "stdout",
     "output_type": "stream",
     "text": [
      "Brand: Asus \n",
      " Model: Vivobook 14 X1404VA i5 1335U (NK050W) \n",
      " Processor Brand: Intel \n",
      " Processor Model: i5 1335U \n",
      " Graphics: Intel Iris Xe \n",
      " Screen Size: 14 inches \n",
      " Processor Speed: 1.3GHz\n"
     ]
    },
    {
     "name": "stderr",
     "output_type": "stream",
     "text": [
      " 16%|█▋        | 73/447 [02:15<10:55,  1.75s/it]"
     ]
    },
    {
     "name": "stdout",
     "output_type": "stream",
     "text": [
      "Brand: Asus \n",
      " Series: TUF Gaming A15 \n",
      " Model: FA507NU \n",
      " Processor: Ryzen 5 7535HS \n",
      " Graphics Card: RTX 4050 6GB \n",
      " Screen Size: 15.6 inches \n",
      " Processor Speed: 3.3GHz\n"
     ]
    },
    {
     "name": "stderr",
     "output_type": "stream",
     "text": [
      " 17%|█▋        | 74/447 [02:17<10:51,  1.75s/it]"
     ]
    },
    {
     "name": "stdout",
     "output_type": "stream",
     "text": [
      "Brand: Asus \n",
      " Model: Vivobook 15 X1504VA i5 1335U (NJ025W) \n",
      " Processor Brand: Intel \n",
      " Processor Model: i5 1335U \n",
      " Graphics: Intel UHD \n",
      " Screen Size: 15.6 inches \n",
      " Processor Speed: 1.3GHz\n"
     ]
    },
    {
     "name": "stderr",
     "output_type": "stream",
     "text": [
      " 17%|█▋        | 75/447 [02:18<10:26,  1.68s/it]"
     ]
    },
    {
     "name": "stdout",
     "output_type": "stream",
     "text": [
      "Brand: Asus \n",
      " Model: Vivobook S 14 Flip TP3402VA i5 13500H (LZ031W) \n",
      " Processor Brand: Intel \n",
      " Processor Model: i5 13500H \n",
      " Graphics: Intel Iris Xe \n",
      " Screen Size: 14 inches \n",
      " Processor Speed: 2.6GHz\n"
     ]
    },
    {
     "name": "stderr",
     "output_type": "stream",
     "text": [
      " 17%|█▋        | 76/447 [02:20<10:49,  1.75s/it]"
     ]
    },
    {
     "name": "stdout",
     "output_type": "stream",
     "text": [
      "Brand: Asus \n",
      " Model: Vivobook X415EA i3 1115G4 (EK2034W) \n",
      " Processor: Intel Core i3-1115G4 \n",
      " Graphics: Intel UHD \n",
      " Screen Size: 14 inches \n",
      " Processor Speed: 3GHz\n"
     ]
    },
    {
     "name": "stderr",
     "output_type": "stream",
     "text": [
      " 17%|█▋        | 77/447 [02:22<10:33,  1.71s/it]"
     ]
    },
    {
     "name": "stdout",
     "output_type": "stream",
     "text": [
      "Brand: Asus \n",
      " Series: TUF Gaming F15 FX507VU \n",
      " Processor: i7-13620H (LP167W) \n",
      " Graphics Card: RTX 4050 6GB \n",
      " Screen Size: 15.6 inches \n",
      " Processor Speed: 2.4GHz\n"
     ]
    },
    {
     "name": "stderr",
     "output_type": "stream",
     "text": [
      " 17%|█▋        | 78/447 [02:24<10:36,  1.73s/it]"
     ]
    },
    {
     "name": "stdout",
     "output_type": "stream",
     "text": [
      "Brand: Asus \n",
      " Series: TUF Gaming F15 FX506HC \n",
      " Model: i5 11400H (HN949W) \n",
      " Graphics Card: RTX 3050 4GB \n",
      " Screen Size: 15.6 inches \n",
      " Processor Speed: 2.7GHz\n"
     ]
    },
    {
     "name": "stderr",
     "output_type": "stream",
     "text": [
      " 18%|█▊        | 79/447 [02:25<10:54,  1.78s/it]"
     ]
    },
    {
     "name": "stdout",
     "output_type": "stream",
     "text": [
      "Brand: Asus \n",
      " Series: TUF Gaming A15 \n",
      " Model: FA506NF R5 7535HS (HN012W) \n",
      " Graphics Card: RTX 2050 4GB \n",
      " Screen Size: 15.6 inches \n",
      " Processor Speed: 3.3GHz\n"
     ]
    },
    {
     "name": "stderr",
     "output_type": "stream",
     "text": [
      " 18%|█▊        | 80/447 [02:27<10:05,  1.65s/it]"
     ]
    },
    {
     "name": "stdout",
     "output_type": "stream",
     "text": [
      "Brand: Asus \n",
      " Series: TUF Gaming F15 FX507ZC4 \n",
      " Model: i5 12500H (HN074W) \n",
      " Graphics Card: RTX 3050 4GB \n",
      " Screen Size: 15.6 inches \n",
      " Processor Speed: 2.5GHz\n"
     ]
    },
    {
     "name": "stderr",
     "output_type": "stream",
     "text": [
      " 18%|█▊        | 81/447 [02:28<09:34,  1.57s/it]"
     ]
    },
    {
     "name": "stdout",
     "output_type": "stream",
     "text": [
      "Brand: Asus \n",
      " Model: Vivobook X515EA i3 1115G4 (EJ3948W) \n",
      " Processor: Intel Core i3-1115G4 \n",
      " Graphics: Intel UHD \n",
      " Screen Size: 15.6 inches \n",
      " Processor Speed: 3GHz\n"
     ]
    },
    {
     "name": "stderr",
     "output_type": "stream",
     "text": [
      " 18%|█▊        | 82/447 [02:30<10:42,  1.76s/it]"
     ]
    },
    {
     "name": "stdout",
     "output_type": "stream",
     "text": [
      "Brand: Asus \n",
      " Series: Vivobook 14X OLED K3405VC \n",
      " Model: i5 13500H (KM006W) \n",
      " Graphics Card: RTX 3050 4GB \n",
      " Screen Size: 14 inches \n",
      " Processor Speed: 2.6GHz\n"
     ]
    },
    {
     "name": "stderr",
     "output_type": "stream",
     "text": [
      " 19%|█▊        | 83/447 [02:33<11:53,  1.96s/it]"
     ]
    },
    {
     "name": "stdout",
     "output_type": "stream",
     "text": [
      "Brand: Asus \n",
      " Series: Vivobook 15 OLED A1505VA \n",
      " Model: i9 13900H (L1386W) \n",
      " Processor Brand: Intel \n",
      " Processor Model: i9 13900H \n",
      " Graphics: Intel Iris Xe \n",
      " Screen Size: 15.6 inches \n",
      " Processor Speed: 2.6GHz\n"
     ]
    },
    {
     "name": "stderr",
     "output_type": "stream",
     "text": [
      " 19%|█▉        | 84/447 [02:35<11:32,  1.91s/it]"
     ]
    },
    {
     "name": "stdout",
     "output_type": "stream",
     "text": [
      "Brand: Asus \n",
      " Series: Vivobook 15 OLED A1505VA \n",
      " Model: i7 13700H (L1338W) \n",
      " Processor Brand: Intel \n",
      " Processor Model: Core i7 13700H \n",
      " Graphics: Intel Iris Xe \n",
      " Screen Size: 15.6 inches \n",
      " Processor Speed: 2.4GHz\n"
     ]
    },
    {
     "name": "stderr",
     "output_type": "stream",
     "text": [
      " 19%|█▉        | 85/447 [02:36<11:32,  1.91s/it]"
     ]
    },
    {
     "name": "stdout",
     "output_type": "stream",
     "text": [
      "Brand: Asus \n",
      " Series: TUF Gaming A15 \n",
      " Model: FA507NV R7 7735HS (LP031W) \n",
      " Graphics Card: RTX 4060 8GB \n",
      " Screen Size: 15.6 inches \n",
      " Processor Speed: 3.2GHz\n"
     ]
    },
    {
     "name": "stderr",
     "output_type": "stream",
     "text": [
      " 19%|█▉        | 86/447 [02:38<10:50,  1.80s/it]"
     ]
    },
    {
     "name": "stdout",
     "output_type": "stream",
     "text": [
      "Brand: Asus \n",
      " Model: Zenbook 14 OLED UX3402VA i5 1340P (KM085W) \n",
      " Processor Brand: Intel \n",
      " Processor Model: Iris Xe \n",
      " Screen Size: 14 inches \n",
      " Processor Speed: 1.9GHz\n"
     ]
    },
    {
     "name": "stderr",
     "output_type": "stream",
     "text": [
      " 19%|█▉        | 87/447 [02:41<13:02,  2.17s/it]"
     ]
    },
    {
     "name": "stdout",
     "output_type": "stream",
     "text": [
      "Brand: Asus \n",
      " Series: Vivobook 15 OLED A1505VA \n",
      " Model: i5 13500H (L1052W) \n",
      " Processor Brand: Intel \n",
      " Processor Model: i5 13500H \n",
      " Graphics: Intel UHD \n",
      " Screen Size: 15.6 inches \n",
      " Processor Speed: 2.6GHz\n"
     ]
    },
    {
     "name": "stderr",
     "output_type": "stream",
     "text": [
      " 20%|█▉        | 88/447 [02:43<12:13,  2.04s/it]"
     ]
    },
    {
     "name": "stdout",
     "output_type": "stream",
     "text": [
      "Brand: Asus \n",
      " Model: Zenbook 14 OLED UX3405MA \n",
      " Series: Ultra 7 155H (PP152W) \n",
      " Graphics: Intel Arc Graphics \n",
      " Screen Size: 14 inches \n",
      " Processor Speed: 1.4GHz\n"
     ]
    },
    {
     "name": "stderr",
     "output_type": "stream",
     "text": [
      " 20%|█▉        | 89/447 [02:44<11:22,  1.91s/it]"
     ]
    },
    {
     "name": "stdout",
     "output_type": "stream",
     "text": [
      "Brand: Asus \n",
      " Model: Vivobook 15 X1504VA i7 1355U (NJ023W) \n",
      " Processor Brand: Intel \n",
      " Processor Model: i7 1355U \n",
      " Graphics: Intel Iris Xe \n",
      " Screen Size: 15.6 inches \n",
      " Processor Speed: 1.7GHz\n"
     ]
    },
    {
     "name": "stderr",
     "output_type": "stream",
     "text": [
      " 20%|██        | 90/447 [02:46<11:04,  1.86s/it]"
     ]
    },
    {
     "name": "stdout",
     "output_type": "stream",
     "text": [
      "Brand: Asus \n",
      " Model: Zenbook 14 Flip OLED UP3404VA i5 1340P (KN038W) \n",
      " Processor Brand: Intel \n",
      " Processor Model: i5 1340P \n",
      " Graphics: Intel Iris Xe \n",
      " Screen Size: 14 inches \n",
      " Processor Speed: 1.9GHz\n"
     ]
    },
    {
     "name": "stderr",
     "output_type": "stream",
     "text": [
      " 20%|██        | 91/447 [02:48<10:20,  1.74s/it]"
     ]
    },
    {
     "name": "stdout",
     "output_type": "stream",
     "text": [
      "Brand: Asus \n",
      " Model: Zenbook 14 OLED UX3405MA Ultra 5 125H (PP151W) \n",
      " Graphics: Intel Arc Graphics \n",
      " Screen Size: 14 inches \n",
      " Processor Speed: 1.2GHz\n"
     ]
    },
    {
     "name": "stderr",
     "output_type": "stream",
     "text": [
      " 21%|██        | 92/447 [02:49<10:30,  1.78s/it]"
     ]
    },
    {
     "name": "stdout",
     "output_type": "stream",
     "text": [
      "Brand: Asus \n",
      " Series: TUF Gaming A15 \n",
      " Model: FA506NC R5 7535HS (HN017W) \n",
      " Graphics Card: RTX 3050 4GB \n",
      " Screen Size: 15.6 inches \n",
      " Processor Speed: 3.3GHz\n"
     ]
    },
    {
     "name": "stderr",
     "output_type": "stream",
     "text": [
      " 21%|██        | 93/447 [02:51<10:24,  1.76s/it]"
     ]
    },
    {
     "name": "stdout",
     "output_type": "stream",
     "text": [
      "Brand: Asus \n",
      " Model: Vivobook 14X OLED S3405VA i5 13500H (KM072W) \n",
      " Processor Brand: Intel \n",
      " Processor Model: i5 13500H \n",
      " Graphics: Intel Iris Xe \n",
      " Screen Size: 14 inches \n",
      " Processor Speed: 2.6GHz\n"
     ]
    },
    {
     "name": "stderr",
     "output_type": "stream",
     "text": [
      " 21%|██        | 94/447 [02:53<10:29,  1.78s/it]"
     ]
    },
    {
     "name": "stdout",
     "output_type": "stream",
     "text": [
      "Brand: Asus \n",
      " Product Line: Gaming ROG Zephyrus G16 GU605MV Ultra 9 185H (QR135W) \n",
      " Graphics Card: RTX 4060 8GB \n",
      " Screen Size: 16 inches \n",
      " Processor Speed: 2.30 GHz\n"
     ]
    },
    {
     "name": "stderr",
     "output_type": "stream",
     "text": [
      " 21%|██▏       | 95/447 [02:55<10:09,  1.73s/it]"
     ]
    },
    {
     "name": "stdout",
     "output_type": "stream",
     "text": [
      "Brand: Asus \n",
      " Model: Vivobook Go 15 E1504FA R5 7520U (NJ630W) \n",
      " Processor Brand: Radeon \n",
      " Screen Size: 15.6 inches \n",
      " Processor Speed: 2.8GHz\n"
     ]
    },
    {
     "name": "stderr",
     "output_type": "stream",
     "text": [
      " 21%|██▏       | 96/447 [02:56<10:11,  1.74s/it]"
     ]
    },
    {
     "name": "stdout",
     "output_type": "stream",
     "text": [
      "Brand: Asus \n",
      " Product Line: Gaming ROG Zephyrus G16 GU605MI Ultra 9 185H (QR116W) \n",
      " Graphics Card: RTX 4070 8GB \n",
      " Screen Size: 16 inches \n",
      " Processor Speed: 2.30 GHz\n"
     ]
    },
    {
     "name": "stderr",
     "output_type": "stream",
     "text": [
      " 22%|██▏       | 97/447 [02:58<09:40,  1.66s/it]"
     ]
    },
    {
     "name": "stdout",
     "output_type": "stream",
     "text": [
      "Brand: Asus \n",
      " Product Line: Gaming ROG Strix G15 \n",
      " Model: G513IH R7 4800H (HN015W) \n",
      " Graphics Card: GTX 1650 4GB \n",
      " Screen Size: 15.6 inches \n",
      " Processor: 2.9GHz\n"
     ]
    },
    {
     "name": "stderr",
     "output_type": "stream",
     "text": [
      " 22%|██▏       | 98/447 [02:59<09:26,  1.62s/it]"
     ]
    },
    {
     "name": "stdout",
     "output_type": "stream",
     "text": [
      "Brand: Asus \n",
      " Model: Vivobook X1404ZA \n",
      " Processor: i5 1235U \n",
      " Graphics: Intel Iris Xe \n",
      " Screen Size: 14 inches \n",
      " Processor Speed: 1.3GHz\n"
     ]
    },
    {
     "name": "stderr",
     "output_type": "stream",
     "text": [
      " 22%|██▏       | 99/447 [03:02<10:14,  1.76s/it]"
     ]
    },
    {
     "name": "stdout",
     "output_type": "stream",
     "text": [
      "Brand: Asus \n",
      " Series: Vivobook 15 OLED A1505VA \n",
      " Model: i9 13900H (L1201W) \n",
      " Processor Brand: Intel \n",
      " Processor Model: i9 13900H \n",
      " Graphics: Intel Iris Xe \n",
      " Screen Size: 15.6 inches \n",
      " Processor Speed: 2.6GHz\n"
     ]
    },
    {
     "name": "stderr",
     "output_type": "stream",
     "text": [
      " 22%|██▏       | 100/447 [03:04<11:20,  1.96s/it]"
     ]
    },
    {
     "name": "stdout",
     "output_type": "stream",
     "text": [
      "Brand: Asus \n",
      " Product Line: TUF Dash F15 FX517ZE \n",
      " Processor: Intel Core i5-12450H \n",
      " Model Number: HN045W \n",
      " Graphics Card: RTX 3050Ti 4GB \n",
      " Screen Size: 15.6 inches \n",
      " Processor Speed: 2GHz\n"
     ]
    },
    {
     "name": "stderr",
     "output_type": "stream",
     "text": [
      " 23%|██▎       | 101/447 [03:06<11:38,  2.02s/it]"
     ]
    },
    {
     "name": "stdout",
     "output_type": "stream",
     "text": [
      "Brand: Asus \n",
      " Model: Zenbook 14 Flip OLED UP3404VA i7 1360P (KN039W) \n",
      " Processor Brand: Intel \n",
      " Processor Model: i7 \n",
      " Graphics: Intel Iris Xe \n",
      " Screen Size: 14 inches \n",
      " Resolution: 1360P \n",
      " Processor Speed: 2.2GHz\n"
     ]
    },
    {
     "name": "stderr",
     "output_type": "stream",
     "text": [
      " 23%|██▎       | 102/447 [03:08<11:21,  1.98s/it]"
     ]
    },
    {
     "name": "stdout",
     "output_type": "stream",
     "text": [
      "Brand: Asus \n",
      " Series: TUF Gaming F15 FX507VV \n",
      " Processor: i7-13620H (LP181W) \n",
      " Graphics Card: RTX 4060 8GB \n",
      " Screen Size: 15.6 inches \n",
      " Processor Speed: 2.4GHz\n"
     ]
    },
    {
     "name": "stderr",
     "output_type": "stream",
     "text": [
      " 23%|██▎       | 103/447 [03:10<10:48,  1.88s/it]"
     ]
    },
    {
     "name": "stdout",
     "output_type": "stream",
     "text": [
      "Brand: Asus \n",
      " Product Line: Gaming ROG Strix SCAR 18 G834JY \n",
      " Model: i9 13980HX (N6039W) \n",
      " Graphics Card: RTX 4090 16GB \n",
      " Screen Size: 18 inches \n",
      " Processor Speed: 2.2GHz\n"
     ]
    },
    {
     "name": "stderr",
     "output_type": "stream",
     "text": [
      " 23%|██▎       | 104/447 [03:11<10:17,  1.80s/it]"
     ]
    },
    {
     "name": "stdout",
     "output_type": "stream",
     "text": [
      "Brand: Asus \n",
      " Product Line: Gaming ROG Strix SCAR 17 G733PZ R9 7945HX (LL980W) \n",
      " Graphics Card: RTX 4080 12GB \n",
      " Screen Size: 17.3 inches \n",
      " Processor Speed: 2.5GHz\n"
     ]
    },
    {
     "name": "stderr",
     "output_type": "stream",
     "text": [
      " 23%|██▎       | 105/447 [03:13<10:15,  1.80s/it]"
     ]
    },
    {
     "name": "stdout",
     "output_type": "stream",
     "text": [
      "Brand: Asus \n",
      " Product Line: ROG Strix SCAR 18 G834JYR \n",
      " Model: i9 14900HX (R6011W) \n",
      " Graphics Card: RTX 4090 16GB \n",
      " Screen Size: 18 inches \n",
      " Processor Speed: 2.2GHz\n"
     ]
    },
    {
     "name": "stderr",
     "output_type": "stream",
     "text": [
      " 24%|██▎       | 106/447 [03:15<09:51,  1.73s/it]"
     ]
    },
    {
     "name": "stdout",
     "output_type": "stream",
     "text": [
      "Brand: Asus \n",
      " Product Line: Gaming ROG Strix SCAR 16 G634JZR \n",
      " Model: i9 14900HX (NM009W) \n",
      " Graphics Card: RTX 4080 12GB \n",
      " Screen Size: 16 inches \n",
      " Processor Speed: 2.2GHz\n"
     ]
    },
    {
     "name": "stderr",
     "output_type": "stream",
     "text": [
      " 24%|██▍       | 107/447 [03:16<09:24,  1.66s/it]"
     ]
    },
    {
     "name": "stdout",
     "output_type": "stream",
     "text": [
      "Brand: Asus \n",
      " Product Line: ROG Zephyrus Duo 16 GX650PZ \n",
      " Model Number: R9 7945HX (NM031W) \n",
      " Graphics Card: RTX 4080 12GB \n",
      " Screen Size: 16 inches \n",
      " Processor Speed: 2.5GHz\n"
     ]
    },
    {
     "name": "stderr",
     "output_type": "stream",
     "text": [
      " 24%|██▍       | 108/447 [03:18<09:38,  1.71s/it]"
     ]
    },
    {
     "name": "stdout",
     "output_type": "stream",
     "text": [
      "Brand: Asus \n",
      " Product Line: Gaming ROG Strix SCAR 16 G634JZ \n",
      " Processor: i9 13980HX \n",
      " Model Number: N4029W \n",
      " Graphics Card: RTX 4080 12GB \n",
      " Screen Size: 16 inches \n",
      " Processor Speed: 2.2GHz\n"
     ]
    },
    {
     "name": "stderr",
     "output_type": "stream",
     "text": [
      " 24%|██▍       | 109/447 [03:20<09:36,  1.70s/it]"
     ]
    },
    {
     "name": "stdout",
     "output_type": "stream",
     "text": [
      "Brand: Asus \n",
      " Product Line: Gaming ROG Zephyrus M16 GU604VI \n",
      " Model: i9 13900H (NM779W) \n",
      " Graphics Card: RTX 4070 8GB \n",
      " Screen Size: 16 inches \n",
      " Processor Speed: 2.6GHz\n"
     ]
    },
    {
     "name": "stderr",
     "output_type": "stream",
     "text": [
      " 25%|██▍       | 110/447 [03:21<09:26,  1.68s/it]"
     ]
    },
    {
     "name": "stdout",
     "output_type": "stream",
     "text": [
      "Brand: Asus \n",
      " Product Line: Gaming ROG Strix SCAR G18 G814JIR \n",
      " Processor: i9 14900HX \n",
      " Model Number: N6007W \n",
      " Graphics Card: RTX 4070 8GB \n",
      " Screen Size: 18 inches \n",
      " Processor Speed: 2.2GHz\n"
     ]
    },
    {
     "name": "stderr",
     "output_type": "stream",
     "text": [
      " 25%|██▍       | 111/447 [03:23<09:05,  1.62s/it]"
     ]
    },
    {
     "name": "stdout",
     "output_type": "stream",
     "text": [
      "Brand: Asus \n",
      " Product Line: Gaming ROG Flow X16 GV601VV \n",
      " Model: i9 13900H (NL016W) \n",
      " Graphics Card: RTX 4060 8GB \n",
      " Screen Size: 16 inches \n",
      " Processor Speed: 2.6GHz\n"
     ]
    },
    {
     "name": "stderr",
     "output_type": "stream",
     "text": [
      " 25%|██▌       | 112/447 [03:24<08:51,  1.59s/it]"
     ]
    },
    {
     "name": "stdout",
     "output_type": "stream",
     "text": [
      "Brand: Asus \n",
      " Product Line: Gaming ROG Flow X13 \n",
      " Model: GV302XU R9 7940HS (MU223W) \n",
      " Graphics Card: RTX 4050 6GB \n",
      " Screen Size: 13.4 inches \n",
      " Processor Speed: 4GHz\n"
     ]
    },
    {
     "name": "stderr",
     "output_type": "stream",
     "text": [
      " 25%|██▌       | 113/447 [03:26<08:54,  1.60s/it]"
     ]
    },
    {
     "name": "stdout",
     "output_type": "stream",
     "text": [
      "Brand: Asus \n",
      " Model: Zenbook S 13 OLED UX5304VA i7 1355U (NQ126W) \n",
      " Processor Brand: Intel \n",
      " Processor Model: i7 1355U \n",
      " Graphics: Intel Iris Xe \n",
      " Screen Size: 13.3 inches \n",
      " Processor Speed: 1.7GHz\n"
     ]
    },
    {
     "name": "stderr",
     "output_type": "stream",
     "text": [
      " 26%|██▌       | 114/447 [03:28<09:05,  1.64s/it]"
     ]
    },
    {
     "name": "stdout",
     "output_type": "stream",
     "text": [
      "Brand: Asus \n",
      " Model: ExpertBook B9 OLED B9403CVA i7 1355U (KM0157X) \n",
      " Processor Brand: Intel \n",
      " Processor Model: Core i7 1355U \n",
      " Graphics: Intel Iris Xe \n",
      " Screen Size: 14 inches \n",
      " Processor Speed: 1.7GHz\n"
     ]
    },
    {
     "name": "stderr",
     "output_type": "stream",
     "text": [
      " 26%|██▌       | 115/447 [03:29<09:01,  1.63s/it]"
     ]
    },
    {
     "name": "stdout",
     "output_type": "stream",
     "text": [
      "Brand: Asus \n",
      " Series: TUF Gaming F15 FX507VV \n",
      " Processor: i7-13620H \n",
      " Graphics Card: RTX 4060 8GB \n",
      " Screen Size: 15.6 inches \n",
      " Processor Speed: 2.4GHz\n"
     ]
    },
    {
     "name": "stderr",
     "output_type": "stream",
     "text": [
      " 26%|██▌       | 116/447 [03:31<09:01,  1.63s/it]"
     ]
    },
    {
     "name": "stdout",
     "output_type": "stream",
     "text": [
      "Brand: Asus \n",
      " Series: TUF Gaming A15 \n",
      " Model: FA507XI \n",
      " Processor: R9 7940HS (LP420W) \n",
      " Graphics Card: RTX 4070 8GB \n",
      " Screen Size: 15.6 inches \n",
      " Processor Speed: 4GHz\n"
     ]
    },
    {
     "name": "stderr",
     "output_type": "stream",
     "text": [
      " 26%|██▌       | 117/447 [03:33<09:21,  1.70s/it]"
     ]
    },
    {
     "name": "stdout",
     "output_type": "stream",
     "text": [
      "Brand: Asus \n",
      " Product Line: Gaming ROG Zephyrus G14 \n",
      " Model: GA402NJ R7 7735HS (L4056W) \n",
      " Graphics Card: RTX 3050 6GB \n",
      " Screen Size: 14 inches \n",
      " Processor Speed: 3.2GHz\n"
     ]
    },
    {
     "name": "stderr",
     "output_type": "stream",
     "text": [
      " 26%|██▋       | 118/447 [03:34<09:08,  1.67s/it]"
     ]
    },
    {
     "name": "stdout",
     "output_type": "stream",
     "text": [
      "Brand: Asus \n",
      " Product Line: Gaming ROG Strix G16 G614JU \n",
      " Model: i5 13450HX (N3135W) \n",
      " Graphics Card: RTX 4050 6GB \n",
      " Screen Size: 16 inches \n",
      " Processor Speed: 2.4GHz\n"
     ]
    },
    {
     "name": "stderr",
     "output_type": "stream",
     "text": [
      " 27%|██▋       | 119/447 [03:36<08:52,  1.62s/it]"
     ]
    },
    {
     "name": "stdout",
     "output_type": "stream",
     "text": [
      "Brand: Asus \n",
      " Model: Zenbook S 13 OLED UX5304VA \n",
      " Processor: Intel Core i7-1355U \n",
      " Graphics: Intel Iris Xe \n",
      " Screen Size: 13.3 inches \n",
      " Processor Speed: 1.7GHz\n"
     ]
    },
    {
     "name": "stderr",
     "output_type": "stream",
     "text": [
      " 27%|██▋       | 120/447 [03:37<08:46,  1.61s/it]"
     ]
    },
    {
     "name": "stdout",
     "output_type": "stream",
     "text": [
      "Brand: Asus \n",
      " Model: Zenbook 14 OLED UX3402VA i7 1360P (KM068W) \n",
      " Processor Brand: Intel \n",
      " Processor Model: Core i7 \n",
      " Graphics: Intel Iris Xe \n",
      " Screen Size: 14 inches \n",
      " Resolution: 1360P \n",
      " Processor Speed: 2.2GHz\n"
     ]
    },
    {
     "name": "stderr",
     "output_type": "stream",
     "text": [
      " 27%|██▋       | 121/447 [03:39<08:28,  1.56s/it]"
     ]
    },
    {
     "name": "stdout",
     "output_type": "stream",
     "text": [
      "Brand: Asus \n",
      " Model: Zenbook 14 OLED UM3402YA R5 7530U (KM405W) \n",
      " Processor: AMD Ryzen 5 7530U \n",
      " Graphics: Radeon \n",
      " Screen Size: 14 inches \n",
      " Processor Speed: 2GHz\n"
     ]
    },
    {
     "name": "stderr",
     "output_type": "stream",
     "text": [
      " 27%|██▋       | 122/447 [03:41<08:46,  1.62s/it]"
     ]
    },
    {
     "name": "stdout",
     "output_type": "stream",
     "text": [
      "Brand: Asus \n",
      " Model: Vivobook 14 A1405VA i3 1315U (LY097W) \n",
      " Processor: Intel Core i3-1315U \n",
      " Graphics: Intel UHD \n",
      " Screen Size: 14 inches \n",
      " Processor Speed: 1.2GHz\n"
     ]
    },
    {
     "name": "stderr",
     "output_type": "stream",
     "text": [
      " 28%|██▊       | 123/447 [03:43<09:32,  1.77s/it]"
     ]
    },
    {
     "name": "stdout",
     "output_type": "stream",
     "text": [
      "Brand: Acer \n",
      " Model: Aspire 3 A315 510P 32EF \n",
      " Processor: Intel Core i3 N305 \n",
      " Model Number: NX.KDHSV.001 \n",
      " Graphics: Intel UHD \n",
      " Screen Size: 15.6 inches\n"
     ]
    },
    {
     "name": "stderr",
     "output_type": "stream",
     "text": [
      " 28%|██▊       | 124/447 [03:45<09:38,  1.79s/it]"
     ]
    },
    {
     "name": "stdout",
     "output_type": "stream",
     "text": [
      "Brand: Acer \n",
      " Model: Aspire Lite 15 51M 5542 \n",
      " Model Number: NX.KS5SV.001 \n",
      " Processor: Intel Core i5-1155G7 \n",
      " Graphics: Intel Iris Xe \n",
      " Screen Size: 15.6 inches \n",
      " Processor Speed: 2.5GHz\n"
     ]
    },
    {
     "name": "stderr",
     "output_type": "stream",
     "text": [
      " 28%|██▊       | 125/447 [03:46<09:12,  1.72s/it]"
     ]
    },
    {
     "name": "stdout",
     "output_type": "stream",
     "text": [
      "Brand: Acer \n",
      " Model: Aspire 5 Gaming A515-58GM-51LB \n",
      " Processor: i5-13420H \n",
      " Model Number: NX.KQ4SV.002 \n",
      " Graphics Card: RTX 2050 4GB \n",
      " Screen Size: 15.6 inches \n",
      " Processor Speed: 2.1GHz\n"
     ]
    },
    {
     "name": "stderr",
     "output_type": "stream",
     "text": [
      " 28%|██▊       | 126/447 [03:48<08:48,  1.65s/it]"
     ]
    },
    {
     "name": "stdout",
     "output_type": "stream",
     "text": [
      "Brand: Acer \n",
      " Model: Aspire 3 A315 44P R9W8 \n",
      " Processor: AMD Ryzen 7 5700U \n",
      " Model Number: NX.KSJSV.002 \n",
      " Graphics: Radeon \n",
      " Screen Size: 15.6 inches \n",
      " Processor Speed: 1.8GHz\n"
     ]
    },
    {
     "name": "stderr",
     "output_type": "stream",
     "text": [
      " 28%|██▊       | 127/447 [03:49<08:31,  1.60s/it]"
     ]
    },
    {
     "name": "stdout",
     "output_type": "stream",
     "text": [
      "Brand: Acer \n",
      " Product Line: Nitro 5 Gaming AN515 57 5669 \n",
      " Model: i5 11400H (NH.QEHSV.001) \n",
      " Graphics Card: GTX 1650 4GB \n",
      " Screen Size: 15.6 inches \n",
      " Processor Speed: 2.7GHz\n"
     ]
    },
    {
     "name": "stderr",
     "output_type": "stream",
     "text": [
      " 29%|██▊       | 128/447 [03:51<08:52,  1.67s/it]"
     ]
    },
    {
     "name": "stdout",
     "output_type": "stream",
     "text": [
      "Brand: Acer \n",
      " Model: Aspire 3 A315 58 589K \n",
      " Model Number: NX.AM0SV.008 \n",
      " Processor: Intel Core i5-1135G7 \n",
      " Graphics: Intel Iris Xe \n",
      " Screen Size: 15.6 inches \n",
      " Processor Speed: 2.4GHz\n"
     ]
    },
    {
     "name": "stderr",
     "output_type": "stream",
     "text": [
      " 29%|██▉       | 129/447 [03:53<09:01,  1.70s/it]"
     ]
    },
    {
     "name": "stdout",
     "output_type": "stream",
     "text": [
      "Brand: Acer \n",
      " Model: Aspire 7 Gaming A715 43G R8GA R5 5625U (NH.QHDSV.002) \n",
      " Graphics Card: RTX 3050 4GB \n",
      " Screen Size: 15.6 inches \n",
      " Processor: 2.30 GHz\n"
     ]
    },
    {
     "name": "stderr",
     "output_type": "stream",
     "text": [
      " 29%|██▉       | 130/447 [03:55<09:16,  1.76s/it]"
     ]
    },
    {
     "name": "stdout",
     "output_type": "stream",
     "text": [
      "Brand: Acer \n",
      " Model: Aspire 3 A315-59-38PG \n",
      " Processor: Intel Core i3-1215U \n",
      " Model Number: NX.K6TSV.00A \n",
      " Graphics: Intel UHD \n",
      " Screen Size: 15.6 inches \n",
      " Processor Speed: 1.2GHz\n"
     ]
    },
    {
     "name": "stderr",
     "output_type": "stream",
     "text": [
      " 29%|██▉       | 131/447 [03:56<09:17,  1.77s/it]"
     ]
    },
    {
     "name": "stdout",
     "output_type": "stream",
     "text": [
      "Brand: Acer \n",
      " Model: Aspire 3 A314 42P R3B3 R7 \n",
      " Processor: AMD Ryzen 7 5700U \n",
      " Model Number: NX.KSFSV.001 \n",
      " Graphics: Radeon \n",
      " Screen Size: 14 inches \n",
      " Processor Speed: 1.8GHz\n"
     ]
    },
    {
     "name": "stderr",
     "output_type": "stream",
     "text": [
      " 30%|██▉       | 132/447 [03:58<09:26,  1.80s/it]"
     ]
    },
    {
     "name": "stdout",
     "output_type": "stream",
     "text": [
      "Brand: Acer \n",
      " Product Line: TravelMate P4 TMP414 51 50HX \n",
      " Model: NX.VP2SV.00T \n",
      " Processor: Intel Core i5-1135G7 \n",
      " Graphics: Intel Iris Xe \n",
      " Screen Size: 14 inches \n",
      " Processor Speed: 2.4GHz\n"
     ]
    },
    {
     "name": "stderr",
     "output_type": "stream",
     "text": [
      " 30%|██▉       | 133/447 [04:00<09:16,  1.77s/it]"
     ]
    },
    {
     "name": "stdout",
     "output_type": "stream",
     "text": [
      "Brand: Acer \n",
      " Model: Aspire 5 A515-58P-34RJ \n",
      " Processor: Intel Core i3-1315U \n",
      " Model Number: NX.KHJSV.003 \n",
      " Graphics: Intel UHD \n",
      " Screen Size: 15.6 inches \n",
      " Processor Speed: 1.2GHz\n"
     ]
    },
    {
     "name": "stderr",
     "output_type": "stream",
     "text": [
      " 30%|██▉       | 134/447 [04:02<09:06,  1.75s/it]"
     ]
    },
    {
     "name": "stdout",
     "output_type": "stream",
     "text": [
      "Brand: Acer \n",
      " Series: Aspire 7 Gaming A715 76G 5806 \n",
      " Model Number: NH.QMFSV.002 \n",
      " Processor: Intel Core i5-12450H \n",
      " Graphics Card: RTX 3050 4GB \n",
      " Screen Size: 15.6 inches \n",
      " Processor Speed: 2GHz\n"
     ]
    },
    {
     "name": "stderr",
     "output_type": "stream",
     "text": [
      " 30%|███       | 135/447 [04:03<08:54,  1.71s/it]"
     ]
    },
    {
     "name": "stdout",
     "output_type": "stream",
     "text": [
      "Brand: Acer \n",
      " Model: Aspire 3 A315-59-5283 \n",
      " Processor: Intel Core i5-1235U \n",
      " Model Number: NX.K6TSV.00B \n",
      " Graphics: Intel UHD \n",
      " Screen Size: 15.6 inches \n",
      " Processor Speed: 1.3GHz\n"
     ]
    },
    {
     "name": "stderr",
     "output_type": "stream",
     "text": [
      " 30%|███       | 136/447 [04:05<08:48,  1.70s/it]"
     ]
    },
    {
     "name": "stdout",
     "output_type": "stream",
     "text": [
      "Brand: Acer \n",
      " Product Line: Gaming Nitro V ANV15 51 53NE \n",
      " Model: i5 13420H (NH.QNASV.002) \n",
      " Graphics Card: RTX 2050 4GB \n",
      " Screen Size: 15.6 inches \n",
      " Processor Speed: 2.1GHz\n"
     ]
    },
    {
     "name": "stderr",
     "output_type": "stream",
     "text": [
      " 31%|███       | 137/447 [04:07<08:50,  1.71s/it]"
     ]
    },
    {
     "name": "stdout",
     "output_type": "stream",
     "text": [
      "Brand: Acer \n",
      " Model: Aspire 3 A315 58 54XF \n",
      " Processor: Intel Core i5 1135G7 \n",
      " Model Number: NX.AM0SV.007 \n",
      " Graphics: Intel Iris Xe \n",
      " Screen Size: 15.6 inches \n",
      " Processor Speed: 2.4GHz\n"
     ]
    },
    {
     "name": "stderr",
     "output_type": "stream",
     "text": [
      " 31%|███       | 138/447 [04:09<09:24,  1.83s/it]"
     ]
    },
    {
     "name": "stdout",
     "output_type": "stream",
     "text": [
      "Brand: Acer \n",
      " Series: Nitro 5 Tiger AN515 58 52SP \n",
      " Model: NH.QFHSV.001 \n",
      " Processor: i5 12500H \n",
      " Graphics Card: RTX 3050 4GB \n",
      " Screen Size: 15.6 inches \n",
      " Processor Speed: 2.5GHz\n"
     ]
    },
    {
     "name": "stderr",
     "output_type": "stream",
     "text": [
      " 31%|███       | 139/447 [04:10<08:56,  1.74s/it]"
     ]
    },
    {
     "name": "stdout",
     "output_type": "stream",
     "text": [
      "Brand: Acer \n",
      " Model: Aspire 5 A514 56P 54TN \n",
      " Processor: Intel Core i5 1335U \n",
      " Graphics: Intel Iris Xe \n",
      " Screen Size: 14 inches \n",
      " Processor Speed: 1.3GHz \n",
      " Model Number: NX.KHRSV.004\n"
     ]
    },
    {
     "name": "stderr",
     "output_type": "stream",
     "text": [
      " 31%|███▏      | 140/447 [04:12<08:53,  1.74s/it]"
     ]
    },
    {
     "name": "stdout",
     "output_type": "stream",
     "text": [
      "Brand: Acer \n",
      " Model: Aspire 5 A514-54-5127 \n",
      " Processor: Intel Core i5-1135G7 \n",
      " Graphics: Intel Iris Xe \n",
      " Screen Size: 14 inches \n",
      " Processor Speed: 2.4GHz \n",
      " Model Number: NX.A28SV.007\n"
     ]
    },
    {
     "name": "stderr",
     "output_type": "stream",
     "text": [
      " 32%|███▏      | 141/447 [04:14<08:31,  1.67s/it]"
     ]
    },
    {
     "name": "stdout",
     "output_type": "stream",
     "text": [
      "Brand: Acer \n",
      " Model: Aspire 3 A314 35 P3G9 N6000 \n",
      " Model Number: NX.A7SSV.007 \n",
      " Graphics: Intel UHD \n",
      " Screen Size: 14 inches \n",
      " Processor Speed: 1.1GHz\n"
     ]
    },
    {
     "name": "stderr",
     "output_type": "stream",
     "text": [
      " 32%|███▏      | 142/447 [04:15<08:36,  1.69s/it]"
     ]
    },
    {
     "name": "stdout",
     "output_type": "stream",
     "text": [
      "Brand: Acer \n",
      " Model: Swift 3 SF314 511 55QE \n",
      " Processor: Intel Core i5 1135G7 \n",
      " Graphics: Intel Iris Xe \n",
      " Screen Size: 14 inches \n",
      " Processor Speed: 2.4GHz \n",
      " Model Number: NX.ABNSV.003\n"
     ]
    },
    {
     "name": "stderr",
     "output_type": "stream",
     "text": [
      " 32%|███▏      | 143/447 [04:17<08:44,  1.73s/it]"
     ]
    },
    {
     "name": "stdout",
     "output_type": "stream",
     "text": [
      "Brand: Acer \n",
      " Model: Aspire 3 A314 35 C3KS N5100 (NX.A7SSV.009) \n",
      " Graphics: Intel UHD \n",
      " Screen Size: 14 inches \n",
      " Processor Speed: 1.1GHz\n"
     ]
    },
    {
     "name": "stderr",
     "output_type": "stream",
     "text": [
      " 32%|███▏      | 144/447 [04:19<08:58,  1.78s/it]"
     ]
    },
    {
     "name": "stdout",
     "output_type": "stream",
     "text": [
      "Brand: Acer \n",
      " Product Line: Gaming Nitro V ANV15 51 57B2 \n",
      " Model: i5 13420H (NH.QN8SV.001) \n",
      " Graphics Card: RTX 4050 6GB \n",
      " Screen Size: 15.6 inches \n",
      " Processor Speed: 2.1GHz\n"
     ]
    },
    {
     "name": "stderr",
     "output_type": "stream",
     "text": [
      " 32%|███▏      | 145/447 [04:21<09:26,  1.88s/it]"
     ]
    },
    {
     "name": "stdout",
     "output_type": "stream",
     "text": [
      "Brand: Acer \n",
      " Product Line: Nitro 5 AN515 58 769J \n",
      " Model: NH.QFHSV.003 \n",
      " Processor: Intel Core i7-12700H \n",
      " Graphics Card: RTX 3050 4GB \n",
      " Screen Size: 15.6 inches \n",
      " Processor Speed: 2.30 GHz\n"
     ]
    },
    {
     "name": "stderr",
     "output_type": "stream",
     "text": [
      " 33%|███▎      | 146/447 [04:23<09:02,  1.80s/it]"
     ]
    },
    {
     "name": "stdout",
     "output_type": "stream",
     "text": [
      "Brand: Acer \n",
      " Product Line: TravelMate P4 TMP414 51G 59R6 \n",
      " Model: NX.VP9SV.001 \n",
      " Processor: Intel Core i5 1135G7 \n",
      " Graphics Card: MX350 2GB \n",
      " Screen Size: 14 inches \n",
      " Processor Speed: 2.4GHz\n"
     ]
    },
    {
     "name": "stderr",
     "output_type": "stream",
     "text": [
      " 33%|███▎      | 147/447 [04:25<09:18,  1.86s/it]"
     ]
    },
    {
     "name": "stdout",
     "output_type": "stream",
     "text": [
      "Brand: Acer \n",
      " Series: Aspire 7 Gaming A715 76G 59MW \n",
      " Model: NH.QMYSV.001 \n",
      " Processor: Intel Core i5-12450H \n",
      " Graphics Card: RTX 2050 4GB \n",
      " Screen Size: 15.6 inches \n",
      " Processor Speed: 2GHz\n"
     ]
    },
    {
     "name": "stderr",
     "output_type": "stream",
     "text": [
      " 33%|███▎      | 148/447 [04:27<09:28,  1.90s/it]"
     ]
    },
    {
     "name": "stdout",
     "output_type": "stream",
     "text": [
      "Brand: Acer \n",
      " Model: Swift 3 SF314 512 56QN \n",
      " Processor: Intel Core i5 1240P \n",
      " Graphics: Intel Iris Xe \n",
      " Screen Size: 14 inches \n",
      " Processor Speed: 1.7GHz \n",
      " Model Number: NX.K0FSV.002\n"
     ]
    },
    {
     "name": "stderr",
     "output_type": "stream",
     "text": [
      " 33%|███▎      | 149/447 [04:29<09:33,  1.92s/it]"
     ]
    },
    {
     "name": "stdout",
     "output_type": "stream",
     "text": [
      "Brand: Acer \n",
      " Product Line: Predator Helios 16 PH16 71 72BV \n",
      " Model: i7 13700HX (NH.QJRSV.001) \n",
      " Graphics Card: RTX 4070 8GB \n",
      " Screen Size: 16 inches \n",
      " Processor Speed: 2.1GHz\n"
     ]
    },
    {
     "name": "stderr",
     "output_type": "stream",
     "text": [
      " 34%|███▎      | 150/447 [04:30<08:48,  1.78s/it]"
     ]
    },
    {
     "name": "stdout",
     "output_type": "stream",
     "text": [
      "Brand: Acer \n",
      " Model: Nitro 5 Tiger AN515 58 773Y \n",
      " Processor: i7 12700H \n",
      " Model Number: NH.QFKSV.001 \n",
      " Graphics Card: RTX 3050Ti 4GB \n",
      " Screen Size: 15.6 inches \n",
      " Processor Speed: 2.30 GHz\n"
     ]
    },
    {
     "name": "stderr",
     "output_type": "stream",
     "text": [
      " 34%|███▍      | 151/447 [04:32<08:38,  1.75s/it]"
     ]
    },
    {
     "name": "stdout",
     "output_type": "stream",
     "text": [
      "Brand: Acer \n",
      " Product Line: Gaming Nitro V ANV15 51 58AN \n",
      " Model: i5 13420H (NH.QNASV.001) \n",
      " Graphics Card: RTX 2050 4GB \n",
      " Screen Size: 15.6 inches \n",
      " Processor Speed: 2.1GHz\n"
     ]
    },
    {
     "name": "stderr",
     "output_type": "stream",
     "text": [
      " 34%|███▍      | 152/447 [04:33<08:16,  1.68s/it]"
     ]
    },
    {
     "name": "stdout",
     "output_type": "stream",
     "text": [
      "Brand: Acer \n",
      " Model: Aspire 5 A515-58M-56YX \n",
      " Processor: Intel Core i5-13420H \n",
      " Model Number: NX.KQ8SV.005 \n",
      " Graphics: Intel UHD \n",
      " Screen Size: 15.6 inches \n",
      " Processor Speed: 2.1GHz\n"
     ]
    },
    {
     "name": "stderr",
     "output_type": "stream",
     "text": [
      " 34%|███▍      | 153/447 [04:35<08:17,  1.69s/it]"
     ]
    },
    {
     "name": "stdout",
     "output_type": "stream",
     "text": [
      "Brand: Acer \n",
      " Product Line: Nitro 5 AN515 57 53F9 \n",
      " Model: NH.QENSV.008 \n",
      " Processor: Intel Core i5-11400H \n",
      " Graphics Card: RTX 3050 4GB \n",
      " Screen Size: 15.6 inches \n",
      " Processor Speed: 2.7GHz\n"
     ]
    },
    {
     "name": "stderr",
     "output_type": "stream",
     "text": [
      " 34%|███▍      | 154/447 [04:36<07:47,  1.59s/it]"
     ]
    },
    {
     "name": "stdout",
     "output_type": "stream",
     "text": [
      "Brand: Lenovo \n",
      " Model: Ideapad 1 15ALC7 R7 5700U (82R400C1VN) \n",
      " Graphics: Radeon \n",
      " Screen Size: 15.6 inches \n",
      " Processor Speed: 1.8GHz\n"
     ]
    },
    {
     "name": "stderr",
     "output_type": "stream",
     "text": [
      " 35%|███▍      | 155/447 [04:38<07:21,  1.51s/it]"
     ]
    },
    {
     "name": "stdout",
     "output_type": "stream",
     "text": [
      "Brand: Lenovo \n",
      " Model: V14 G3 ABA R5 5625U (82TU006SVN) \n",
      " Processor: AMD Ryzen 5 5625U \n",
      " Graphics: Radeon \n",
      " Screen Size: 14 inches \n",
      " Processor Speed: 2.30 GHz\n"
     ]
    },
    {
     "name": "stderr",
     "output_type": "stream",
     "text": [
      " 35%|███▍      | 156/447 [04:40<07:57,  1.64s/it]"
     ]
    },
    {
     "name": "stdout",
     "output_type": "stream",
     "text": [
      "Brand: Lenovo \n",
      " Model: Ideapad Slim 3 15IAH8 i5 12450H (83ER000EVN) \n",
      " Processor: Intel Core i5-12450H \n",
      " Graphics: Intel UHD \n",
      " Screen Size: 15.6 inches \n",
      " Processor Speed: 2GHz\n"
     ]
    },
    {
     "name": "stderr",
     "output_type": "stream",
     "text": [
      " 35%|███▌      | 157/447 [04:41<07:55,  1.64s/it]"
     ]
    },
    {
     "name": "stdout",
     "output_type": "stream",
     "text": [
      "Brand: Lenovo \n",
      " Model: V15 G4 IRU i5 1335U (83A1000LVN) \n",
      " Processor Brand: Intel \n",
      " Processor Model: i5 1335U \n",
      " Graphics: Intel Iris Xe \n",
      " Screen Size: 15.6 inches \n",
      " Processor Speed: 1.3GHz\n"
     ]
    },
    {
     "name": "stderr",
     "output_type": "stream",
     "text": [
      " 35%|███▌      | 158/447 [04:43<08:18,  1.73s/it]"
     ]
    },
    {
     "name": "stdout",
     "output_type": "stream",
     "text": [
      "Brand: Lenovo \n",
      " Model: Ideapad 5 15IAL7 i5 1235U (82SF005HVN) \n",
      " Processor Brand: Intel \n",
      " Processor Model: i5 1235U \n",
      " Graphics: Intel Iris Xe \n",
      " Screen Size: 15.6 inches \n",
      " Processor Speed: 1.3GHz\n"
     ]
    },
    {
     "name": "stderr",
     "output_type": "stream",
     "text": [
      " 36%|███▌      | 159/447 [04:45<08:18,  1.73s/it]"
     ]
    },
    {
     "name": "stdout",
     "output_type": "stream",
     "text": [
      "Brand: Lenovo \n",
      " Model: Ideapad 3 15IAU7 i3 1215U (82RK005LVN) \n",
      " Processor Brand: Intel \n",
      " Graphics: Intel UHD \n",
      " Screen Size: 15.6 inches \n",
      " Processor Speed: 1.2GHz\n"
     ]
    },
    {
     "name": "stderr",
     "output_type": "stream",
     "text": [
      " 36%|███▌      | 160/447 [04:47<07:56,  1.66s/it]"
     ]
    },
    {
     "name": "stdout",
     "output_type": "stream",
     "text": [
      "Brand: Lenovo \n",
      " Model: Ideapad Slim 3 15IAH8 i5 12450H (83ER000FVN) \n",
      " Processor: Intel Core i5-12450H \n",
      " Graphics: Intel UHD \n",
      " Screen Size: 15.6 inches \n",
      " Processor Speed: 2GHz\n"
     ]
    },
    {
     "name": "stderr",
     "output_type": "stream",
     "text": [
      " 36%|███▌      | 161/447 [04:49<08:57,  1.88s/it]"
     ]
    },
    {
     "name": "stdout",
     "output_type": "stream",
     "text": [
      "Brand: Lenovo \n",
      " Model: Ideapad 3 15IAU7 i3 1215U (82RK00RWVN) \n",
      " Processor Brand: Intel \n",
      " Graphics: Intel UHD \n",
      " Screen Size: 15.6 inches \n",
      " Processor Speed: 1.2GHz\n"
     ]
    },
    {
     "name": "stderr",
     "output_type": "stream",
     "text": [
      " 36%|███▌      | 162/447 [04:51<08:47,  1.85s/it]"
     ]
    },
    {
     "name": "stdout",
     "output_type": "stream",
     "text": [
      "Brand: Lenovo \n",
      " Model: Ideapad 3 15ITL6 i5 1155G7 (82H803RRVN) \n",
      " Processor Brand: Intel \n",
      " Processor Model: i5 1155G7 \n",
      " Graphics: Intel Iris Xe \n",
      " Screen Size: 15.6 inches \n",
      " Processor Speed: 2.5GHz\n"
     ]
    },
    {
     "name": "stderr",
     "output_type": "stream",
     "text": [
      " 36%|███▋      | 163/447 [04:52<08:18,  1.75s/it]"
     ]
    },
    {
     "name": "stdout",
     "output_type": "stream",
     "text": [
      "Brand: Lenovo \n",
      " Model: IdeaPad 1 15AMN7 R5 7520U (82VG0061VN) \n",
      " Graphics Card: AMD Radeon 610M \n",
      " Screen Size: 15.6 inches \n",
      " Processor Speed: 2.8GHz\n"
     ]
    },
    {
     "name": "stderr",
     "output_type": "stream",
     "text": [
      " 37%|███▋      | 164/447 [04:54<08:03,  1.71s/it]"
     ]
    },
    {
     "name": "stdout",
     "output_type": "stream",
     "text": [
      "Brand: Lenovo \n",
      " Product Line: ThinkBook 15 G5 IRL \n",
      " Model Number: 21JD002AVN \n",
      " Processor: Intel Core i7 1355U \n",
      " Graphics: Intel Iris Xe \n",
      " Screen Size: 15.6 inches \n",
      " Processor Speed: 1.7GHz\n"
     ]
    },
    {
     "name": "stderr",
     "output_type": "stream",
     "text": [
      " 37%|███▋      | 165/447 [04:56<08:21,  1.78s/it]"
     ]
    },
    {
     "name": "stdout",
     "output_type": "stream",
     "text": [
      "Brand: Lenovo \n",
      " Model: Ideapad 3 15IAU7 i3 1215U (82RK001MVN) \n",
      " Processor Brand: Intel \n",
      " Graphics: Intel UHD \n",
      " Screen Size: 15.6 inches \n",
      " Processor Speed: 1.2GHz\n"
     ]
    },
    {
     "name": "stderr",
     "output_type": "stream",
     "text": [
      " 37%|███▋      | 166/447 [04:57<08:09,  1.74s/it]"
     ]
    },
    {
     "name": "stdout",
     "output_type": "stream",
     "text": [
      "Brand: Lenovo \n",
      " Model: Ideapad Slim 3 15IRH8 i7 13620H (83EM003FVN) \n",
      " Processor: Intel Core i7-13620H \n",
      " Graphics: Intel UHD \n",
      " Screen Size: 15.6 inches \n",
      " Processor Speed: 2.4GHz\n"
     ]
    },
    {
     "name": "stderr",
     "output_type": "stream",
     "text": [
      " 37%|███▋      | 167/447 [04:59<07:39,  1.64s/it]"
     ]
    },
    {
     "name": "stdout",
     "output_type": "stream",
     "text": [
      "Brand: Lenovo \n",
      " Model: Ideapad 3 15IAU7 i7 1255U (82RK00X0VN) \n",
      " Graphics: Intel Iris Xe \n",
      " Screen Size: 15.6 inches \n",
      " Processor Speed: 1.7GHz\n"
     ]
    },
    {
     "name": "stderr",
     "output_type": "stream",
     "text": [
      " 38%|███▊      | 168/447 [05:01<07:42,  1.66s/it]"
     ]
    },
    {
     "name": "stdout",
     "output_type": "stream",
     "text": [
      "Brand: Lenovo \n",
      " Model: Ideapad 5 Pro 14IAP7 i5 1240P (82SH000SVN) \n",
      " Graphics: Intel Iris Xe \n",
      " Screen Size: 14 inches \n",
      " Processor Speed: 1.7GHz\n"
     ]
    },
    {
     "name": "stderr",
     "output_type": "stream",
     "text": [
      " 38%|███▊      | 169/447 [05:02<07:31,  1.62s/it]"
     ]
    },
    {
     "name": "stdout",
     "output_type": "stream",
     "text": [
      "Brand: Lenovo \n",
      " Product Line: Ideapad Gaming 3 \n",
      " Model: 15ACH6 R5 5500H (82K2027PVN) \n",
      " Graphics Card: RTX 2050 4GB \n",
      " Screen Size: 15.6 inches \n",
      " Processor Speed: 3.3GHz\n"
     ]
    },
    {
     "name": "stderr",
     "output_type": "stream",
     "text": [
      " 38%|███▊      | 170/447 [05:04<07:33,  1.64s/it]"
     ]
    },
    {
     "name": "stdout",
     "output_type": "stream",
     "text": [
      "Brand: Lenovo \n",
      " Series: Yoga 7 14IRL8 \n",
      " Model: 82YL006BVN \n",
      " Processor: Intel Core i7 \n",
      " Graphics: Intel Iris Xe \n",
      " Screen Size: 14 inches \n",
      " Resolution: 1360P \n",
      " Processor Speed: 2.2GHz\n"
     ]
    },
    {
     "name": "stderr",
     "output_type": "stream",
     "text": [
      " 38%|███▊      | 171/447 [05:06<07:48,  1.70s/it]"
     ]
    },
    {
     "name": "stdout",
     "output_type": "stream",
     "text": [
      "Brand: Lenovo \n",
      " Product Line: IdeaPad Slim 5 \n",
      " Model: 14ABR8 R5 7530U (82XS002KVN) \n",
      " Processor Brand: AMD Ryzen 5 7530U \n",
      " Graphics: Radeon \n",
      " Screen Size: 14 inches \n",
      " Processor Speed: 2GHz\n"
     ]
    },
    {
     "name": "stderr",
     "output_type": "stream",
     "text": [
      " 38%|███▊      | 172/447 [05:07<07:41,  1.68s/it]"
     ]
    },
    {
     "name": "stdout",
     "output_type": "stream",
     "text": [
      "Brand: Lenovo \n",
      " Model: Ideapad 5 Pro 14IAP7 i7 1260P (82SH002SVN) \n",
      " Graphics: Intel Iris Xe \n",
      " Screen Size: 14 inches \n",
      " Processor Speed: 2.1GHz\n"
     ]
    },
    {
     "name": "stderr",
     "output_type": "stream",
     "text": [
      " 39%|███▊      | 173/447 [05:09<08:00,  1.75s/it]"
     ]
    },
    {
     "name": "stdout",
     "output_type": "stream",
     "text": [
      "Brand: Lenovo \n",
      " Model: Ideapad 3 15ITL6 i3 1115G4 (82H803SFVN) \n",
      " Processor: Intel Core i3-1115G4 \n",
      " Graphics: Intel UHD \n",
      " Screen Size: 15.6 inches \n",
      " Processor Speed: 3GHz\n"
     ]
    },
    {
     "name": "stderr",
     "output_type": "stream",
     "text": [
      " 39%|███▉      | 174/447 [05:11<08:01,  1.76s/it]"
     ]
    },
    {
     "name": "stdout",
     "output_type": "stream",
     "text": [
      "Brand: Lenovo \n",
      " Model: Yoga 7 14IRL8 i5 1340P (82YL006AVN) \n",
      " Processor Brand: Intel \n",
      " Graphics: Iris Xe \n",
      " Screen Size: 14 inches \n",
      " Processor Speed: 1.9GHz\n"
     ]
    },
    {
     "name": "stderr",
     "output_type": "stream",
     "text": [
      " 39%|███▉      | 175/447 [05:12<07:36,  1.68s/it]"
     ]
    },
    {
     "name": "stdout",
     "output_type": "stream",
     "text": [
      "Brand: Lenovo \n",
      " Model: Ideapad 3 15IAU7 i3 1215U (82RK00QYVN) \n",
      " Processor: Intel UHD \n",
      " Screen Size: 15.6 inches \n",
      " Processor Speed: 1.2GHz\n"
     ]
    },
    {
     "name": "stderr",
     "output_type": "stream",
     "text": [
      " 39%|███▉      | 176/447 [05:14<07:37,  1.69s/it]"
     ]
    },
    {
     "name": "stdout",
     "output_type": "stream",
     "text": [
      "Brand: Lenovo \n",
      " Model: LOQ Gaming 15IRH8 \n",
      " Processor: i7 13620H \n",
      " Model Number: 82XV00QXVN \n",
      " Graphics Card: RTX 4050 6GB \n",
      " Screen Size: 15.6 inches \n",
      " Processor Speed: 2.4GHz\n"
     ]
    },
    {
     "name": "stderr",
     "output_type": "stream",
     "text": [
      " 40%|███▉      | 177/447 [05:16<07:32,  1.68s/it]"
     ]
    },
    {
     "name": "stdout",
     "output_type": "stream",
     "text": [
      "Brand: Lenovo \n",
      " Model: LOQ Gaming 15IAX9 \n",
      " Processor: Intel Core i5 12450HX \n",
      " Model Number: 83GS000JVN \n",
      " Graphics Card: RTX 3050 6GB \n",
      " Screen Size: 15.6 inches\n"
     ]
    },
    {
     "name": "stderr",
     "output_type": "stream",
     "text": [
      " 40%|███▉      | 178/447 [05:18<07:41,  1.72s/it]"
     ]
    },
    {
     "name": "stdout",
     "output_type": "stream",
     "text": [
      "Brand: Lenovo \n",
      " Product Line: Legion 5 16IRH8 \n",
      " Model Number: 82YA00BSVN \n",
      " Processor: Intel Core i5-13500H \n",
      " Graphics Card: RTX 4050 6GB \n",
      " Screen Size: 16 inches \n",
      " Processor Speed: 2.6GHz\n"
     ]
    },
    {
     "name": "stderr",
     "output_type": "stream",
     "text": [
      " 40%|████      | 179/447 [05:19<07:33,  1.69s/it]"
     ]
    },
    {
     "name": "stdout",
     "output_type": "stream",
     "text": [
      "Brand: Lenovo \n",
      " Model: LOQ Gaming 15IRH8 \n",
      " Processor: i5 13420H \n",
      " Model Number: 82XV00Q4VN \n",
      " Graphics Card: RTX 4050 6GB \n",
      " Screen Size: 15.6 inches \n",
      " Processor Speed: 2.1GHz\n"
     ]
    },
    {
     "name": "stderr",
     "output_type": "stream",
     "text": [
      " 40%|████      | 180/447 [05:21<07:31,  1.69s/it]"
     ]
    },
    {
     "name": "stdout",
     "output_type": "stream",
     "text": [
      "Brand: Lenovo \n",
      " Product Line: ThinkBook 15 G5 IRL \n",
      " Model: i5 1355U (21JD002FVN) \n",
      " Graphics: Intel Iris Xe \n",
      " Screen Size: 15.6 inches \n",
      " Processor Speed: 1.3GHz\n"
     ]
    },
    {
     "name": "stderr",
     "output_type": "stream",
     "text": [
      " 40%|████      | 181/447 [05:22<07:17,  1.65s/it]"
     ]
    },
    {
     "name": "stdout",
     "output_type": "stream",
     "text": [
      "Brand: Lenovo \n",
      " Model: Ideapad Slim 3 15IRH8 i7 13620H (83EM003EVN) \n",
      " Processor: Intel Core i7-13620H \n",
      " Graphics: Intel UHD \n",
      " Screen Size: 15.6 inches \n",
      " Processor Speed: 2.4GHz\n"
     ]
    },
    {
     "name": "stderr",
     "output_type": "stream",
     "text": [
      " 41%|████      | 182/447 [05:24<07:43,  1.75s/it]"
     ]
    },
    {
     "name": "stdout",
     "output_type": "stream",
     "text": [
      "Brand: Lenovo \n",
      " Model: Ideapad Slim 5 14IAH8 i5 12450H (83BF003WVN) \n",
      " Processor: Intel Core i5-12450H \n",
      " Graphics: Intel UHD \n",
      " Screen Size: 14 inches \n",
      " Processor Speed: 2GHz\n"
     ]
    },
    {
     "name": "stderr",
     "output_type": "stream",
     "text": [
      " 41%|████      | 183/447 [05:26<07:17,  1.66s/it]"
     ]
    },
    {
     "name": "stdout",
     "output_type": "stream",
     "text": [
      "Brand: Lenovo \n",
      " Model: Ideapad 3 15ITL6 i5 1155G7 (82H803CVVN) \n",
      " Graphics: Intel Iris Xe \n",
      " Screen Size: 15.6 inches \n",
      " Processor Speed: 2.5GHz\n"
     ]
    },
    {
     "name": "stderr",
     "output_type": "stream",
     "text": [
      " 41%|████      | 184/447 [05:28<07:16,  1.66s/it]"
     ]
    },
    {
     "name": "stdout",
     "output_type": "stream",
     "text": [
      "Brand: Lenovo \n",
      " Model: Ideapad 3 15IAU7 i5 1235U (82RK001PVN) \n",
      " Graphics: Intel UHD \n",
      " Screen Size: 15.6 inches \n",
      " Processor Speed: 1.3GHz\n"
     ]
    },
    {
     "name": "stderr",
     "output_type": "stream",
     "text": [
      " 41%|████▏     | 185/447 [05:29<06:48,  1.56s/it]"
     ]
    },
    {
     "name": "stdout",
     "output_type": "stream",
     "text": [
      "Brand: Lenovo \n",
      " Model: Ideapad 5 14IAL7 \n",
      " Processor: Intel Core i5-1235U \n",
      " Graphics: Intel Iris Xe \n",
      " Screen Size: 14 inches \n",
      " Processor Speed: 1.3GHz\n"
     ]
    },
    {
     "name": "stderr",
     "output_type": "stream",
     "text": [
      " 42%|████▏     | 186/447 [05:30<06:46,  1.56s/it]"
     ]
    },
    {
     "name": "stdout",
     "output_type": "stream",
     "text": [
      "Brand: Lenovo \n",
      " Model: V14 G4 IRU i3 1315U (83A0000TVN) \n",
      " Processor: Intel Core i3-1315U \n",
      " Graphics: Intel UHD \n",
      " Screen Size: 14 inches \n",
      " Processor Speed: 1.2GHz\n"
     ]
    },
    {
     "name": "stderr",
     "output_type": "stream",
     "text": [
      " 42%|████▏     | 187/447 [05:32<06:35,  1.52s/it]"
     ]
    },
    {
     "name": "stdout",
     "output_type": "stream",
     "text": [
      "Brand: Dell \n",
      " Model: Inspiron 15 3520 \n",
      " Processor: Intel Core i5 1235U \n",
      " Graphics: Intel Iris Xe \n",
      " Screen Size: 15.6 inches \n",
      " Processor Speed: 1.3GHz\n"
     ]
    },
    {
     "name": "stderr",
     "output_type": "stream",
     "text": [
      " 42%|████▏     | 188/447 [05:34<07:08,  1.66s/it]"
     ]
    },
    {
     "name": "stdout",
     "output_type": "stream",
     "text": [
      "Brand: Dell \n",
      " Model: Inspiron 15 3520 i5 1235U (i5U085W11BLU) \n",
      " Processor: Intel Core i5-1235U \n",
      " Graphics: Intel UHD \n",
      " Screen Size: 15.6 inches \n",
      " Processor Speed: 1.3GHz\n"
     ]
    },
    {
     "name": "stderr",
     "output_type": "stream",
     "text": [
      " 42%|████▏     | 189/447 [05:36<08:24,  1.96s/it]"
     ]
    },
    {
     "name": "stdout",
     "output_type": "stream",
     "text": [
      "Brand: Dell \n",
      " Model: Inspiron 15 3520 \n",
      " Processor: Intel Core i5-1235U \n",
      " Graphics: Intel UHD \n",
      " Screen Size: 15.6 inches \n",
      " Processor Speed: 1.3GHz\n"
     ]
    },
    {
     "name": "stderr",
     "output_type": "stream",
     "text": [
      " 43%|████▎     | 190/447 [05:40<09:56,  2.32s/it]"
     ]
    },
    {
     "name": "stdout",
     "output_type": "stream",
     "text": [
      "Brand: Dell \n",
      " Model: Inspiron 15 3520 \n",
      " Processor: Intel Core i3 1215U \n",
      " Graphics: Intel UHD \n",
      " Screen Size: 15.6 inches \n",
      " Processor Speed: 1.2GHz\n"
     ]
    },
    {
     "name": "stderr",
     "output_type": "stream",
     "text": [
      " 43%|████▎     | 191/447 [05:41<09:11,  2.15s/it]"
     ]
    },
    {
     "name": "stdout",
     "output_type": "stream",
     "text": [
      "Brand: Dell \n",
      " Model: Vostro 15 3520 i3 1215U (V5I3614W1) \n",
      " Processor: Intel Core i3-1215U \n",
      " Graphics: Intel UHD \n",
      " Screen Size: 15.6 inches \n",
      " Processor Speed: 1.2GHz\n"
     ]
    },
    {
     "name": "stderr",
     "output_type": "stream",
     "text": [
      " 43%|████▎     | 192/447 [05:43<08:28,  1.99s/it]"
     ]
    },
    {
     "name": "stdout",
     "output_type": "stream",
     "text": [
      "Brand: Dell \n",
      " Model: Inspiron 15 3520 i3 1215U (i3U082W11BLU) \n",
      " Processor: Intel Core i3 1215U \n",
      " Graphics: Intel UHD \n",
      " Screen Size: 15.6 inches \n",
      " Processor Speed: 1.2GHz\n"
     ]
    },
    {
     "name": "stderr",
     "output_type": "stream",
     "text": [
      " 43%|████▎     | 193/447 [05:45<08:15,  1.95s/it]"
     ]
    },
    {
     "name": "stdout",
     "output_type": "stream",
     "text": [
      "Brand: Dell \n",
      " Model: Vostro 15 3520 i5 1235U (V5I5610W1) \n",
      " Processor Brand: Intel \n",
      " Processor Model: i5 1235U \n",
      " Graphics: Intel UHD \n",
      " Screen Size: 15.6 inches \n",
      " Processor Speed: 1.3GHz\n"
     ]
    },
    {
     "name": "stderr",
     "output_type": "stream",
     "text": [
      " 43%|████▎     | 194/447 [05:46<07:34,  1.80s/it]"
     ]
    },
    {
     "name": "stdout",
     "output_type": "stream",
     "text": [
      "Brand: Dell \n",
      " Model: Inspiron 15 3530 i7 1355U (N3530I716W1) \n",
      " Graphics Card: MX550 2GB \n",
      " Screen Size: 15.6 inches \n",
      " Processor Speed: 1.7GHz\n"
     ]
    },
    {
     "name": "stderr",
     "output_type": "stream",
     "text": [
      " 44%|████▎     | 195/447 [05:48<07:03,  1.68s/it]"
     ]
    },
    {
     "name": "stdout",
     "output_type": "stream",
     "text": [
      "Brand: Dell \n",
      " Model: Inspiron 15 3530 \n",
      " Processor: Intel Core i7-1355U \n",
      " Graphics: Intel UHD \n",
      " Screen Size: 15.6 inches \n",
      " Processor Speed: 1.7GHz\n"
     ]
    },
    {
     "name": "stderr",
     "output_type": "stream",
     "text": [
      " 44%|████▍     | 196/447 [05:50<07:22,  1.76s/it]"
     ]
    },
    {
     "name": "stdout",
     "output_type": "stream",
     "text": [
      "Brand: Dell \n",
      " Model: Vostro 15 3520 i3 1215U (5M2TT1) \n",
      " Processor: Intel Core i3-1215U \n",
      " Graphics: Intel UHD \n",
      " Screen Size: 15.6 inches \n",
      " Processor Speed: 1.2GHz\n"
     ]
    },
    {
     "name": "stderr",
     "output_type": "stream",
     "text": [
      " 44%|████▍     | 197/447 [05:51<07:25,  1.78s/it]"
     ]
    },
    {
     "name": "stdout",
     "output_type": "stream",
     "text": [
      "Brand: Dell \n",
      " Model: Inspiron 15 3530 i5 1335U (N3530-i5U085W11BLU) \n",
      " Processor: Intel UHD \n",
      " Screen Size: 15.6 inches \n",
      " Processor Speed: 1.3GHz\n"
     ]
    },
    {
     "name": "stderr",
     "output_type": "stream",
     "text": [
      " 44%|████▍     | 198/447 [05:53<06:47,  1.64s/it]"
     ]
    },
    {
     "name": "stdout",
     "output_type": "stream",
     "text": [
      "Brand: Dell \n",
      " Model: Vostro 14 3430 \n",
      " Processor: Intel Core i5-1335U \n",
      " Graphics: Intel UHD \n",
      " Screen Size: 14 inches \n",
      " Processor Speed: 1.3GHz\n"
     ]
    },
    {
     "name": "stderr",
     "output_type": "stream",
     "text": [
      " 45%|████▍     | 199/447 [05:55<07:04,  1.71s/it]"
     ]
    },
    {
     "name": "stdout",
     "output_type": "stream",
     "text": [
      "Brand: Dell \n",
      " Model: Inspiron 15 3530 \n",
      " Processor: i5 1335U \n",
      " Graphics Card: MX550 2GB \n",
      " Screen Size: 15.6 inches \n",
      " Processor Speed: 1.3GHz\n"
     ]
    },
    {
     "name": "stderr",
     "output_type": "stream",
     "text": [
      " 45%|████▍     | 200/447 [05:57<08:22,  2.03s/it]"
     ]
    },
    {
     "name": "stdout",
     "output_type": "stream",
     "text": [
      "Brand: Dell \n",
      " Model: Inspiron 15 3530 i5 1335U (N5I5791W1) \n",
      " Processor Brand: Intel \n",
      " Graphics: Iris Xe \n",
      " Screen Size: 15.6 inches \n",
      " Processor Speed: 1.3GHz\n"
     ]
    },
    {
     "name": "stderr",
     "output_type": "stream",
     "text": [
      " 45%|████▍     | 201/447 [05:59<07:49,  1.91s/it]"
     ]
    },
    {
     "name": "stdout",
     "output_type": "stream",
     "text": [
      "Brand: Dell \n",
      " Model: Inspiron 14 7430 2-in-1 \n",
      " Processor: i7 1355U \n",
      " Processor Model: i7U165W11SLU \n",
      " Graphics: Intel Iris Xe \n",
      " Screen Size: 14 inches \n",
      " Processor Speed: 1.7GHz\n"
     ]
    },
    {
     "name": "stderr",
     "output_type": "stream",
     "text": [
      " 45%|████▌     | 202/447 [06:01<07:32,  1.85s/it]"
     ]
    },
    {
     "name": "stdout",
     "output_type": "stream",
     "text": [
      "Brand: Dell \n",
      " Model: Inspiron 15 3520 \n",
      " Processor: Intel Core i5-1235U \n",
      " Graphics: Intel UHD \n",
      " Screen Size: 15.6 inches \n",
      " Processor Speed: 1.3GHz\n"
     ]
    },
    {
     "name": "stderr",
     "output_type": "stream",
     "text": [
      " 45%|████▌     | 203/447 [06:05<10:55,  2.69s/it]"
     ]
    },
    {
     "name": "stdout",
     "output_type": "stream",
     "text": [
      "Brand: Dell \n",
      " Model: Inspiron 14 T7430 i5 1335U (N7430I58W1) \n",
      " Processor Brand: Intel \n",
      " Processor Model: i5 1335U \n",
      " Graphics: Intel Iris Xe \n",
      " Screen Size: 14 inches \n",
      " Processor Speed: 1.3GHz\n"
     ]
    },
    {
     "name": "stderr",
     "output_type": "stream",
     "text": [
      " 46%|████▌     | 204/447 [06:07<10:05,  2.49s/it]"
     ]
    },
    {
     "name": "stdout",
     "output_type": "stream",
     "text": [
      "Brand: Dell \n",
      " Model: Precision 16 5680 \n",
      " Processor: i9 13900H \n",
      " Graphics Card: RTX A2000 8GB \n",
      " Screen Size: 16 inches \n",
      " Processor Speed: 2.6GHz\n"
     ]
    },
    {
     "name": "stderr",
     "output_type": "stream",
     "text": [
      " 46%|████▌     | 205/447 [06:09<08:58,  2.23s/it]"
     ]
    },
    {
     "name": "stdout",
     "output_type": "stream",
     "text": [
      "Brand: Dell \n",
      " Model: Precision 16 7680 \n",
      " Processor: i9 13950HX \n",
      " Graphics Card: RTX A2000 8GB \n",
      " Screen Size: 16 inches \n",
      " Processor Speed: 2.2GHz\n"
     ]
    },
    {
     "name": "stderr",
     "output_type": "stream",
     "text": [
      " 46%|████▌     | 206/447 [06:11<08:03,  2.00s/it]"
     ]
    },
    {
     "name": "stdout",
     "output_type": "stream",
     "text": [
      "Brand: Dell \n",
      " Model: Precision 16 7680 \n",
      " Processor: i7 13850HX \n",
      " Graphics Card: RTX A2000 8GB \n",
      " Screen Size: 16 inches \n",
      " Processor Speed: 2.1GHz\n"
     ]
    },
    {
     "name": "stderr",
     "output_type": "stream",
     "text": [
      " 46%|████▋     | 207/447 [06:12<07:12,  1.80s/it]"
     ]
    },
    {
     "name": "stdout",
     "output_type": "stream",
     "text": [
      "Brand: Dell \n",
      " Model: Precision 15 3581 \n",
      " Processor: i7 13800H \n",
      " Graphics Card: RTX A1000 6GB \n",
      " Screen Size: 15.6 inches \n",
      " Processor Speed: 2.5GHz\n"
     ]
    },
    {
     "name": "stderr",
     "output_type": "stream",
     "text": [
      " 47%|████▋     | 208/447 [06:14<06:59,  1.75s/it]"
     ]
    },
    {
     "name": "stdout",
     "output_type": "stream",
     "text": [
      "Brand: Dell \n",
      " Model: Precision 15 3581 \n",
      " Processor: i7 13800H \n",
      " Graphics Card: RTX A500 4GB \n",
      " Screen Size: 15.6 inches \n",
      " Processor Speed: 2.5GHz\n"
     ]
    },
    {
     "name": "stderr",
     "output_type": "stream",
     "text": [
      " 47%|████▋     | 209/447 [06:15<06:44,  1.70s/it]"
     ]
    },
    {
     "name": "stdout",
     "output_type": "stream",
     "text": [
      "Brand: Dell \n",
      " Model: Precision 14 3480 \n",
      " Processor: i7 12800H \n",
      " Graphics Card: RTX A500 4GB \n",
      " Screen Size: 14 inches \n",
      " Processor Speed: 2.4GHz\n"
     ]
    },
    {
     "name": "stderr",
     "output_type": "stream",
     "text": [
      " 47%|████▋     | 210/447 [06:16<06:15,  1.59s/it]"
     ]
    },
    {
     "name": "stdout",
     "output_type": "stream",
     "text": [
      "Brand: Dell \n",
      " Series: Gaming G15 5530 \n",
      " Processor: i7 13650HX \n",
      " Graphics Card: RTX 4060 8GB \n",
      " Screen Size: 15.6 inches \n",
      " Processor Speed: 2.6GHz\n"
     ]
    },
    {
     "name": "stderr",
     "output_type": "stream",
     "text": [
      " 47%|████▋     | 211/447 [06:18<06:10,  1.57s/it]"
     ]
    },
    {
     "name": "stdout",
     "output_type": "stream",
     "text": [
      "Brand: Dell \n",
      " Model: Inspiron 14 5430 \n",
      " Processor: i7 \n",
      " Resolution: 1360P \n",
      " Graphics Card: RTX 2050 4GB \n",
      " Screen Size: 14 inches \n",
      " Processor Speed: 2.2GHz\n"
     ]
    },
    {
     "name": "stderr",
     "output_type": "stream",
     "text": [
      " 47%|████▋     | 212/447 [06:20<06:11,  1.58s/it]"
     ]
    },
    {
     "name": "stdout",
     "output_type": "stream",
     "text": [
      "Brand: Dell \n",
      " Model: Inspiron 14 5430 i5 1340P (N5430-i5P165W11SL2050) \n",
      " Graphics Card: RTX 2050 4GB \n",
      " Screen Size: 14 inches \n",
      " Processor Speed: 1.9GHz\n"
     ]
    },
    {
     "name": "stderr",
     "output_type": "stream",
     "text": [
      " 48%|████▊     | 213/447 [06:21<06:11,  1.59s/it]"
     ]
    },
    {
     "name": "stdout",
     "output_type": "stream",
     "text": [
      "Brand: Dell \n",
      " Model: Inspiron 16 5630 \n",
      " Processor: Intel Core i5-1335U \n",
      " Graphics: Intel Iris Xe \n",
      " Screen Size: 16 inches \n",
      " Processor Speed: 1.3GHz\n"
     ]
    },
    {
     "name": "stderr",
     "output_type": "stream",
     "text": [
      " 48%|████▊     | 214/447 [06:22<05:46,  1.49s/it]"
     ]
    },
    {
     "name": "stdout",
     "output_type": "stream",
     "text": [
      "Brand: Dell \n",
      " Model: Vostro 14 3430 \n",
      " Processor: i5 1335U \n",
      " Graphics Card: MX550 2GB \n",
      " Screen Size: 14 inches \n",
      " Processor Speed: 1.3GHz\n"
     ]
    },
    {
     "name": "stderr",
     "output_type": "stream",
     "text": [
      " 48%|████▊     | 215/447 [06:24<05:28,  1.42s/it]"
     ]
    },
    {
     "name": "stdout",
     "output_type": "stream",
     "text": [
      "Brand: Dell \n",
      " Model: Inspiron 15 3520 \n",
      " Processor: Intel Core i5 1235U \n",
      " Graphics: Intel Iris Xe \n",
      " Screen Size: 15.6 inches \n",
      " Processor Speed: 1.3GHz\n"
     ]
    },
    {
     "name": "stderr",
     "output_type": "stream",
     "text": [
      " 48%|████▊     | 216/447 [06:25<05:20,  1.39s/it]"
     ]
    },
    {
     "name": "stdout",
     "output_type": "stream",
     "text": [
      "Brand: Dell \n",
      " Model: Vostro 15 3520 \n",
      " Processor: Intel Core i5-1235U \n",
      " Graphics: Intel UHD \n",
      " Screen Size: 15.6 inches \n",
      " Processor Speed: 1.3GHz\n"
     ]
    },
    {
     "name": "stderr",
     "output_type": "stream",
     "text": [
      " 49%|████▊     | 217/447 [06:27<05:35,  1.46s/it]"
     ]
    },
    {
     "name": "stdout",
     "output_type": "stream",
     "text": [
      "Brand: Dell \n",
      " Model: Vostro 15 3530 i3 1305U (V5I3465W1) \n",
      " Processor Brand: Intel \n",
      " Processor Model: i3 1305U \n",
      " Graphics: Intel UHD \n",
      " Screen Size: 15.6 inches \n",
      " Processor Speed: 1.6GHz\n"
     ]
    },
    {
     "name": "stderr",
     "output_type": "stream",
     "text": [
      " 49%|████▉     | 218/447 [06:28<05:32,  1.45s/it]"
     ]
    },
    {
     "name": "stdout",
     "output_type": "stream",
     "text": [
      "Brand: MSI \n",
      " Model: Modern 14 C11M i3 1115G4 (011VN) \n",
      " Processor: Intel Core i3-1115G4 \n",
      " Graphics: Intel UHD \n",
      " Screen Size: 14 inches \n",
      " Processor Speed: 3GHz\n"
     ]
    },
    {
     "name": "stderr",
     "output_type": "stream",
     "text": [
      " 49%|████▉     | 219/447 [06:30<05:45,  1.52s/it]"
     ]
    },
    {
     "name": "stdout",
     "output_type": "stream",
     "text": [
      "Brand: MSI \n",
      " Series: Gaming GF63 Thin 12UCX \n",
      " Processor: Intel Core i5-12450H \n",
      " Model Number: 873VN \n",
      " Graphics Card: RTX 2050 4GB \n",
      " Screen Size: 15.6 inches \n",
      " Processor Speed: 2GHz\n"
     ]
    },
    {
     "name": "stderr",
     "output_type": "stream",
     "text": [
      " 49%|████▉     | 220/447 [06:31<05:32,  1.46s/it]"
     ]
    },
    {
     "name": "stdout",
     "output_type": "stream",
     "text": [
      "Brand: MSI \n",
      " Series: Modern 15 B7M R5 7530U \n",
      " Model Number: 231VN \n",
      " Graphics Card: Radeon \n",
      " Screen Size: 15.6 inches \n",
      " Processor Speed: 2GHz\n"
     ]
    },
    {
     "name": "stderr",
     "output_type": "stream",
     "text": [
      " 49%|████▉     | 221/447 [06:33<05:43,  1.52s/it]"
     ]
    },
    {
     "name": "stdout",
     "output_type": "stream",
     "text": [
      "Brand: MSI \n",
      " Model: Modern 15 B12MO \n",
      " Processor: Intel Core i5 1235U \n",
      " Graphics: Intel Iris Xe \n",
      " Screen Size: 15.6 inches \n",
      " Processor Speed: 1.3GHz\n"
     ]
    },
    {
     "name": "stderr",
     "output_type": "stream",
     "text": [
      " 50%|████▉     | 222/447 [06:34<05:54,  1.58s/it]"
     ]
    },
    {
     "name": "stdout",
     "output_type": "stream",
     "text": [
      "Brand: MSI \n",
      " Series: Gaming GF63 12UC \n",
      " Model: i5 12450H (803VN) \n",
      " Graphics Card: RTX 3050 4GB \n",
      " Screen Size: 15.6 inches \n",
      " Processor Speed: 2GHz\n"
     ]
    },
    {
     "name": "stderr",
     "output_type": "stream",
     "text": [
      " 50%|████▉     | 223/447 [06:36<05:52,  1.57s/it]"
     ]
    },
    {
     "name": "stdout",
     "output_type": "stream",
     "text": [
      "Brand: MSI \n",
      " Series: Gaming Bravo 15 B7ED R5 7535HS (010VN) \n",
      " Graphics Card: RX 6550M 4GB \n",
      " Screen Size: 15.6 inches \n",
      " Processor Speed: 3.3GHz\n"
     ]
    },
    {
     "name": "stderr",
     "output_type": "stream",
     "text": [
      " 50%|█████     | 224/447 [06:38<05:55,  1.59s/it]"
     ]
    },
    {
     "name": "stdout",
     "output_type": "stream",
     "text": [
      "Brand: MSI \n",
      " Series: Gaming GF63 Thin 11UC \n",
      " Processor: Intel Core i7-11800H \n",
      " Model Number: 1228VN \n",
      " Graphics Card: NVIDIA GeForce RTX 3050 Max-Q \n",
      " VRAM: 4GB \n",
      " Screen Size: 15.6 inches \n",
      " Processor Speed: 2.30 GHz\n"
     ]
    },
    {
     "name": "stderr",
     "output_type": "stream",
     "text": [
      " 50%|█████     | 225/447 [06:39<05:46,  1.56s/it]"
     ]
    },
    {
     "name": "stdout",
     "output_type": "stream",
     "text": [
      "Brand: MSI \n",
      " Series: Gaming GF63 Thin 12VE \n",
      " Processor: Intel Core i5-12450H \n",
      " Graphics Card: RTX 4050 6GB \n",
      " Screen Size: 15.6 inches \n",
      " Processor Speed: 2GHz\n"
     ]
    },
    {
     "name": "stderr",
     "output_type": "stream",
     "text": [
      " 51%|█████     | 226/447 [06:41<05:46,  1.57s/it]"
     ]
    },
    {
     "name": "stdout",
     "output_type": "stream",
     "text": [
      "Brand: MSI \n",
      " Series: Gaming GF63 12UCX \n",
      " Processor: Intel Core i5-12450H \n",
      " Model Number: 841VN \n",
      " Graphics Card: RTX 2050 4GB \n",
      " Screen Size: 15.6 inches \n",
      " Processor Speed: 2GHz\n"
     ]
    },
    {
     "name": "stderr",
     "output_type": "stream",
     "text": [
      " 51%|█████     | 227/447 [06:43<06:27,  1.76s/it]"
     ]
    },
    {
     "name": "stdout",
     "output_type": "stream",
     "text": [
      "Brand: MSI \n",
      " Series: Modern 15 B12MO \n",
      " Model: i5 1235U (628VN) \n",
      " Processor Brand: Intel \n",
      " Graphics: Iris Xe \n",
      " Screen Size: 15.6 inches \n",
      " Processor Speed: 1.3GHz\n"
     ]
    },
    {
     "name": "stderr",
     "output_type": "stream",
     "text": [
      " 51%|█████     | 228/447 [06:44<05:51,  1.61s/it]"
     ]
    },
    {
     "name": "stdout",
     "output_type": "stream",
     "text": [
      "Brand: MSI \n",
      " Model: Modern 14 C7M R5 7530U (083VN) \n",
      " Graphics Card: Radeon \n",
      " Screen Size: 14 inches \n",
      " Processor Speed: 2GHz\n"
     ]
    },
    {
     "name": "stderr",
     "output_type": "stream",
     "text": [
      " 51%|█████     | 229/447 [06:46<05:41,  1.57s/it]"
     ]
    },
    {
     "name": "stdout",
     "output_type": "stream",
     "text": [
      "Brand: MSI \n",
      " Series: Gaming Katana GF66 12UCK \n",
      " Model: i7 12650H (804VN) \n",
      " Graphics Card: RTX 3050 4GB \n",
      " Screen Size: 15.6 inches \n",
      " Processor Speed: 2.30 GHz\n"
     ]
    },
    {
     "name": "stderr",
     "output_type": "stream",
     "text": [
      " 51%|█████▏    | 230/447 [06:47<05:52,  1.62s/it]"
     ]
    },
    {
     "name": "stdout",
     "output_type": "stream",
     "text": [
      "Brand: MSI \n",
      " Series: Gaming GF63 Thin 11UC \n",
      " Processor: Intel Core i5-11400H \n",
      " Graphics Card: RTX 3050 Max-Q \n",
      " Graphics Memory: 4GB \n",
      " Screen Size: 15.6 inches \n",
      " Processor Speed: 2.7GHz\n"
     ]
    },
    {
     "name": "stderr",
     "output_type": "stream",
     "text": [
      " 52%|█████▏    | 231/447 [06:49<05:45,  1.60s/it]"
     ]
    },
    {
     "name": "stdout",
     "output_type": "stream",
     "text": [
      "Brand: MSI \n",
      " Series: Gaming Thin A15 B7UCX \n",
      " Model: R5 7535HS (020VN) \n",
      " Graphics Card: RTX 2050 4GB \n",
      " Screen Size: 15.6 inches \n",
      " Processor Speed: 3.3GHz\n"
     ]
    },
    {
     "name": "stderr",
     "output_type": "stream",
     "text": [
      " 52%|█████▏    | 232/447 [06:51<06:20,  1.77s/it]"
     ]
    },
    {
     "name": "stdout",
     "output_type": "stream",
     "text": [
      "Brand: MSI \n",
      " Series: Modern 15 B12MO \n",
      " Model: i7 1255U (487VN) \n",
      " Graphics: Intel Iris Xe \n",
      " Screen Size: 15.6 inches \n",
      " Processor Speed: 1.7GHz\n"
     ]
    },
    {
     "name": "stderr",
     "output_type": "stream",
     "text": [
      " 52%|█████▏    | 233/447 [06:53<05:59,  1.68s/it]"
     ]
    },
    {
     "name": "stdout",
     "output_type": "stream",
     "text": [
      "Brand: MSI \n",
      " Series: Modern 15 B13M \n",
      " Model: i5 1335U (438VN) \n",
      " Processor Brand: Intel \n",
      " Graphics: Iris Xe \n",
      " Screen Size: 15.6 inches \n",
      " Processor Speed: 1.3GHz\n"
     ]
    },
    {
     "name": "stderr",
     "output_type": "stream",
     "text": [
      " 52%|█████▏    | 234/447 [06:54<05:47,  1.63s/it]"
     ]
    },
    {
     "name": "stdout",
     "output_type": "stream",
     "text": [
      "Brand: MSI \n",
      " Series: Gaming GF63 Thin 11SC \n",
      " Processor: Intel Core i5 11400H \n",
      " Model Number: 664VN \n",
      " Graphics Card: GTX 1650 Max-Q 4GB \n",
      " Screen Size: 15.6 inches \n",
      " Processor Speed: 2.7GHz\n"
     ]
    },
    {
     "name": "stderr",
     "output_type": "stream",
     "text": [
      " 53%|█████▎    | 235/447 [06:56<05:44,  1.62s/it]"
     ]
    },
    {
     "name": "stdout",
     "output_type": "stream",
     "text": [
      "Brand: MSI \n",
      " Series: Modern 15 B7M R7 7730U (238VN) \n",
      " Graphics Card: Radeon \n",
      " Screen Size: 15.6 inches \n",
      " Processor Speed: 2GHz\n"
     ]
    },
    {
     "name": "stderr",
     "output_type": "stream",
     "text": [
      " 53%|█████▎    | 236/447 [06:57<05:20,  1.52s/it]"
     ]
    },
    {
     "name": "stdout",
     "output_type": "stream",
     "text": [
      "Brand: MSI \n",
      " Series: Prestige 14 Evo B13M \n",
      " Model: i5 13500H (401VN) \n",
      " Graphics: Intel Iris Xe \n",
      " Screen Size: 14 inches \n",
      " Processor Speed: 2.6GHz\n"
     ]
    },
    {
     "name": "stderr",
     "output_type": "stream",
     "text": [
      " 53%|█████▎    | 237/447 [06:59<05:25,  1.55s/it]"
     ]
    },
    {
     "name": "stdout",
     "output_type": "stream",
     "text": [
      "Brand: MSI \n",
      " Product Line: Gaming Sword 16 HX B14VFKG \n",
      " Processor: i7 14700HX (045VN) \n",
      " Graphics Card: RTX 4060 8GB \n",
      " Screen Size: 16 inches \n",
      " Processor Speed: 2.1GHz\n"
     ]
    },
    {
     "name": "stderr",
     "output_type": "stream",
     "text": [
      " 53%|█████▎    | 238/447 [07:00<05:25,  1.56s/it]"
     ]
    },
    {
     "name": "stdout",
     "output_type": "stream",
     "text": [
      "Brand: MSI \n",
      " Product Line: Gaming Titan 18 HX A14VIG \n",
      " Processor: i9 14900HX \n",
      " Graphics Card: RTX 4090 16GB \n",
      " Screen Size: 18 inches \n",
      " Processor Speed: 2.2GHz\n"
     ]
    },
    {
     "name": "stderr",
     "output_type": "stream",
     "text": [
      " 53%|█████▎    | 239/447 [07:02<05:21,  1.54s/it]"
     ]
    },
    {
     "name": "stdout",
     "output_type": "stream",
     "text": [
      "Brand: MSI \n",
      " Series: Gaming Stealth 16 AI Studio A1VGG Ultra 9 185H (089VN) \n",
      " Graphics Card: RTX 4070 8GB \n",
      " Screen Size: 16 inches \n",
      " Processor Speed: 2.30 GHz\n"
     ]
    },
    {
     "name": "stderr",
     "output_type": "stream",
     "text": [
      " 54%|█████▎    | 240/447 [07:03<05:08,  1.49s/it]"
     ]
    },
    {
     "name": "stdout",
     "output_type": "stream",
     "text": [
      "Brand: MSI \n",
      " Series: Prestige 16 AI Studio B1VFG Ultra 9 185H (082VN) \n",
      " Graphics Card: RTX 4060 8GB \n",
      " Screen Size: 16 inches \n",
      " Processor Speed: 2.30 GHz\n"
     ]
    },
    {
     "name": "stderr",
     "output_type": "stream",
     "text": [
      " 54%|█████▍    | 241/447 [07:05<05:16,  1.54s/it]"
     ]
    },
    {
     "name": "stdout",
     "output_type": "stream",
     "text": [
      "Brand: MSI \n",
      " Series: Gaming Stealth 14 AI Studio A1VFG Ultra 7 155H (050VN) \n",
      " Graphics Card: RTX 4060 8GB \n",
      " Screen Size: 14 inches \n",
      " Processor Speed: 1.4GHz\n"
     ]
    },
    {
     "name": "stderr",
     "output_type": "stream",
     "text": [
      " 54%|█████▍    | 242/447 [07:06<05:24,  1.58s/it]"
     ]
    },
    {
     "name": "stdout",
     "output_type": "stream",
     "text": [
      "Brand: MSI \n",
      " Series: Prestige 16 Studio A13VE i7 13700H (214VN) \n",
      " Graphics Card: RTX 4050 6GB \n",
      " Screen Size: 16 inches \n",
      " Processor Speed: 2.4GHz\n"
     ]
    },
    {
     "name": "stderr",
     "output_type": "stream",
     "text": [
      " 54%|█████▍    | 243/447 [07:08<05:25,  1.59s/it]"
     ]
    },
    {
     "name": "stdout",
     "output_type": "stream",
     "text": [
      "Brand: MSI \n",
      " Series: Gaming Sword 16 HX B14VEKG \n",
      " Model: i7 14700HX (039VN) \n",
      " Graphics Card: RTX 4050 6GB \n",
      " Screen Size: 16 inches \n",
      " Processor Speed: 2.1GHz\n"
     ]
    },
    {
     "name": "stderr",
     "output_type": "stream",
     "text": [
      " 55%|█████▍    | 244/447 [07:09<05:07,  1.52s/it]"
     ]
    },
    {
     "name": "stdout",
     "output_type": "stream",
     "text": [
      "Brand: MSI \n",
      " Model: Prestige 13 AI Evo A1MG Ultra 7 155H (062VN) \n",
      " Graphics: Intel Arc Graphics \n",
      " Screen Size: 13.3 inches \n",
      " Processor Speed: 1.4GHz\n"
     ]
    },
    {
     "name": "stderr",
     "output_type": "stream",
     "text": [
      " 55%|█████▍    | 245/447 [07:11<05:11,  1.54s/it]"
     ]
    },
    {
     "name": "stdout",
     "output_type": "stream",
     "text": [
      "Brand: MSI \n",
      " Series: Gaming Katana A15 AI B8VF R7 8845HS (419VN) \n",
      " Graphics Card: RTX 4060 8GB \n",
      " Screen Size: 15.6 inches \n",
      " Processor Speed: 3.8GHz\n"
     ]
    },
    {
     "name": "stderr",
     "output_type": "stream",
     "text": [
      " 55%|█████▌    | 246/447 [07:13<05:39,  1.69s/it]"
     ]
    },
    {
     "name": "stdout",
     "output_type": "stream",
     "text": [
      "Brand: MSI \n",
      " Series: Gaming Cyborg 15 AI A1VEK Ultra 7 155H (053VN) \n",
      " Graphics Card: RTX 4050 6GB \n",
      " Screen Size: 15.6 inches \n",
      " Processor Speed: 1.4GHz\n"
     ]
    },
    {
     "name": "stderr",
     "output_type": "stream",
     "text": [
      " 55%|█████▌    | 247/447 [07:14<05:25,  1.63s/it]"
     ]
    },
    {
     "name": "stdout",
     "output_type": "stream",
     "text": [
      "Brand: MSI \n",
      " Series: Gaming Katana 15 B13VFK \n",
      " Model: i7 13620H (676VN) \n",
      " Graphics Card: RTX 4060 8GB \n",
      " Screen Size: 15.6 inches \n",
      " Processor Speed: 2.4GHz\n"
     ]
    },
    {
     "name": "stderr",
     "output_type": "stream",
     "text": [
      " 55%|█████▌    | 248/447 [07:16<05:17,  1.60s/it]"
     ]
    },
    {
     "name": "stdout",
     "output_type": "stream",
     "text": [
      "Brand: MSI \n",
      " Series: Gaming Katana A15 AI B8VE R7 8845HS \n",
      " Model Number: 402VN \n",
      " Graphics Card: RTX 4050 6GB \n",
      " Screen Size: 15.6 inches \n",
      " Processor Speed: 3.8GHz\n"
     ]
    },
    {
     "name": "stderr",
     "output_type": "stream",
     "text": [
      " 56%|█████▌    | 249/447 [07:17<05:00,  1.52s/it]"
     ]
    },
    {
     "name": "stdout",
     "output_type": "stream",
     "text": [
      "Brand: MSI \n",
      " Series: Gaming Cyborg 15 A12UCX \n",
      " Processor: Intel Core i5-12450H \n",
      " Graphics Card: RTX 2050 4GB \n",
      " Screen Size: 15.6 inches \n",
      " Processor Speed: 2GHz\n"
     ]
    },
    {
     "name": "stderr",
     "output_type": "stream",
     "text": [
      " 56%|█████▌    | 250/447 [07:19<04:52,  1.48s/it]"
     ]
    },
    {
     "name": "stdout",
     "output_type": "stream",
     "text": [
      "Brand: HP \n",
      " Model: 245 G10 R5-7520U (9H8X8PT) \n",
      " Processor: Ryzen 5 \n",
      " Screen Size: 14 inches\n"
     ]
    },
    {
     "name": "stderr",
     "output_type": "stream",
     "text": [
      " 56%|█████▌    | 251/447 [07:20<04:31,  1.38s/it]"
     ]
    },
    {
     "name": "stdout",
     "output_type": "stream",
     "text": [
      "Brand: Asus \n",
      " Model: Vivobook E1404FA-NK186W \n",
      " Processor: Ryzen 5 7520U \n",
      " Screen Size: 14.0 inches\n"
     ]
    },
    {
     "name": "stderr",
     "output_type": "stream",
     "text": [
      " 56%|█████▋    | 252/447 [07:21<04:30,  1.39s/it]"
     ]
    },
    {
     "name": "stdout",
     "output_type": "stream",
     "text": [
      "Brand: Lenovo \n",
      " Product Line: Gaming LOQ - 15IAX9 \n",
      " Model: i5 12450HX (83GS000GVN) \n",
      " Processor Type: Core i5 \n",
      " Screen Size: 15.6 inches\n"
     ]
    },
    {
     "name": "stderr",
     "output_type": "stream",
     "text": [
      " 57%|█████▋    | 253/447 [07:22<04:18,  1.33s/it]"
     ]
    },
    {
     "name": "stdout",
     "output_type": "stream",
     "text": [
      "Brand: HP \n",
      " Model: 14s-em0086AU \n",
      " Processor: Ryzen 5 7520U \n",
      " Model Number: 835T9PA \n",
      " Screen Size: 14 inches\n"
     ]
    },
    {
     "name": "stderr",
     "output_type": "stream",
     "text": [
      " 57%|█████▋    | 254/447 [07:24<04:02,  1.26s/it]"
     ]
    },
    {
     "name": "stdout",
     "output_type": "stream",
     "text": [
      "Brand: MSI \n",
      " Model: Modern 14 C7M-221VN \n",
      " Processor: Ryzen 7 7730U \n",
      " Screen Size: 14.0 inches\n"
     ]
    },
    {
     "name": "stderr",
     "output_type": "stream",
     "text": [
      " 57%|█████▋    | 255/447 [07:25<04:04,  1.27s/it]"
     ]
    },
    {
     "name": "stdout",
     "output_type": "stream",
     "text": [
      "Brand: Acer \n",
      " Model: Aspire 3 A315-44P-R5QG \n",
      " Processor: R7-5700U (Ryzen 7) \n",
      " Screen Size: 15.6 inches\n"
     ]
    },
    {
     "name": "stderr",
     "output_type": "stream",
     "text": [
      " 57%|█████▋    | 256/447 [07:26<04:08,  1.30s/it]"
     ]
    },
    {
     "name": "stdout",
     "output_type": "stream",
     "text": [
      "Brand: HP \n",
      " Series: Pavilion Aero \n",
      " Model: 13-be2098AU \n",
      " Processor: Ryzen 7 7735U \n",
      " Screen Size: 13.3 inches \n",
      " Model Number: 8C5K5PA\n"
     ]
    },
    {
     "name": "stderr",
     "output_type": "stream",
     "text": [
      " 57%|█████▋    | 257/447 [07:27<04:01,  1.27s/it]"
     ]
    },
    {
     "name": "stdout",
     "output_type": "stream",
     "text": [
      "Brand: Asus \n",
      " Product Line: TUF Gaming \n",
      " Model: FX507ZC4-HN095W \n",
      " Processor: Core i5-12500H \n",
      " Screen Size: 15.6 inches\n"
     ]
    },
    {
     "name": "stderr",
     "output_type": "stream",
     "text": [
      " 58%|█████▊    | 258/447 [07:29<04:01,  1.28s/it]"
     ]
    },
    {
     "name": "stdout",
     "output_type": "stream",
     "text": [
      "Brand: Lenovo \n",
      " Model: Ideapad 3 15IAU7 i7 1255U (82RK00W4VN) \n",
      " Processor: Core i7 \n",
      " Screen Size: 15.6 inches\n"
     ]
    },
    {
     "name": "stderr",
     "output_type": "stream",
     "text": [
      " 58%|█████▊    | 259/447 [07:30<03:53,  1.24s/it]"
     ]
    },
    {
     "name": "stdout",
     "output_type": "stream",
     "text": [
      "Brand: MSI \n",
      " Model: Modern 14 C7M-220VN \n",
      " Processor: Ryzen 5 7530U \n",
      " Screen Size: 14.0 inches\n"
     ]
    },
    {
     "name": "stderr",
     "output_type": "stream",
     "text": [
      " 58%|█████▊    | 260/447 [07:31<04:13,  1.35s/it]"
     ]
    },
    {
     "name": "stdout",
     "output_type": "stream",
     "text": [
      "Brand: Asus \n",
      " Product Line: TUF Gaming \n",
      " Model: FX506HF-HN017W \n",
      " Processor: Intel Core i5-11400H \n",
      " Processor Type: Core i5 \n",
      " Screen Size: 15.6 inches\n"
     ]
    },
    {
     "name": "stderr",
     "output_type": "stream",
     "text": [
      " 58%|█████▊    | 261/447 [07:33<04:10,  1.35s/it]"
     ]
    },
    {
     "name": "stdout",
     "output_type": "stream",
     "text": [
      "Brand: Dell \n",
      " Model: Inspiron 15 N3530 i5 1335U (N5I5489W1) \n",
      " Processor Type: Core i5 \n",
      " Screen Size: 15.6 inches\n"
     ]
    },
    {
     "name": "stderr",
     "output_type": "stream",
     "text": [
      " 59%|█████▊    | 262/447 [07:34<04:02,  1.31s/it]"
     ]
    },
    {
     "name": "stdout",
     "output_type": "stream",
     "text": [
      "Brand: Asus \n",
      " Model: Vivobook X1404ZA-NK387W \n",
      " Processor: Core i3 1215U \n",
      " Screen Size: 14 inches\n"
     ]
    },
    {
     "name": "stderr",
     "output_type": "stream",
     "text": [
      " 59%|█████▉    | 263/447 [07:36<04:14,  1.38s/it]"
     ]
    },
    {
     "name": "stdout",
     "output_type": "stream",
     "text": [
      "Brand: Lenovo \n",
      " Model: IdeaPad 3 14IAH8 \n",
      " Model Number: 83EQ0005VN \n",
      " Processor: Core i5-12450H \n",
      " Screen Size: 14.0 inches\n"
     ]
    },
    {
     "name": "stderr",
     "output_type": "stream",
     "text": [
      " 59%|█████▉    | 264/447 [07:37<04:04,  1.34s/it]"
     ]
    },
    {
     "name": "stdout",
     "output_type": "stream",
     "text": [
      "Brand: MSI \n",
      " Series: Gaming Thin GF63 \n",
      " Model: 12VE-454VN \n",
      " Processor: Intel Core i5-12450H \n",
      " Screen Size: 15.6 inches\n"
     ]
    },
    {
     "name": "stderr",
     "output_type": "stream",
     "text": [
      " 59%|█████▉    | 265/447 [07:38<04:10,  1.38s/it]"
     ]
    },
    {
     "name": "stdout",
     "output_type": "stream",
     "text": [
      "Brand: Dell \n",
      " Model: Inspiron 15 N3520 i5 1235U_N5I5011W1 \n",
      " Processor Type: Core i5 \n",
      " Screen Size: 15.6 inches\n"
     ]
    },
    {
     "name": "stderr",
     "output_type": "stream",
     "text": [
      " 60%|█████▉    | 266/447 [07:40<04:03,  1.34s/it]"
     ]
    },
    {
     "name": "stdout",
     "output_type": "stream",
     "text": [
      "Brand: Asus \n",
      " Model: Vivobook 15 OLED A1505VA-L1113W \n",
      " Processor: i5 13500H (Core i5) \n",
      " Screen Size: 15.6 inches\n"
     ]
    },
    {
     "name": "stderr",
     "output_type": "stream",
     "text": [
      " 60%|█████▉    | 267/447 [07:41<04:00,  1.34s/it]"
     ]
    },
    {
     "name": "stdout",
     "output_type": "stream",
     "text": [
      "Brand: HP \n",
      " Model: 245 G10 R5 7520U (8F154PA) \n",
      " Processor: Ryzen 5 \n",
      " Screen Size: 14.0 inches\n"
     ]
    },
    {
     "name": "stderr",
     "output_type": "stream",
     "text": [
      " 60%|█████▉    | 268/447 [07:42<04:05,  1.37s/it]"
     ]
    },
    {
     "name": "stdout",
     "output_type": "stream",
     "text": [
      "Brand: Acer \n",
      " Model: Aspire 7 Gaming A715-76-57CY \n",
      " Processor: i5 12450H \n",
      " Model Number: NH.QGESV.004 \n",
      " Processor Type: Core i5 \n",
      " Screen Size: 15.6 inches\n"
     ]
    },
    {
     "name": "stderr",
     "output_type": "stream",
     "text": [
      " 60%|██████    | 269/447 [07:45<05:04,  1.71s/it]"
     ]
    },
    {
     "name": "stdout",
     "output_type": "stream",
     "text": [
      "Brand: HP \n",
      " Model: Pavilion 14-dv2073TU \n",
      " Processor: Core i5 1235U \n",
      " Model Number: 7C0P2PA \n",
      " Processor Type: Core i5 \n",
      " Screen Size: 14.0 inches\n"
     ]
    },
    {
     "name": "stderr",
     "output_type": "stream",
     "text": [
      " 60%|██████    | 270/447 [07:46<04:58,  1.69s/it]"
     ]
    },
    {
     "name": "stdout",
     "output_type": "stream",
     "text": [
      "Brand: Asus \n",
      " Model: Vivobook X1504VA-NJ526W \n",
      " Processor: Core i5-1335U \n",
      " Processor Brand: Intel \n",
      " Screen Size: 15.6 inches\n"
     ]
    },
    {
     "name": "stderr",
     "output_type": "stream",
     "text": [
      " 61%|██████    | 271/447 [07:48<04:38,  1.58s/it]"
     ]
    },
    {
     "name": "stdout",
     "output_type": "stream",
     "text": [
      "Brand: Lenovo \n",
      " Model: IdeaPad 1 15ALC7 R5 5500U (82R400BYVN) \n",
      " Processor: Ryzen 5 \n",
      " Screen Size: 15.6 inches\n"
     ]
    },
    {
     "name": "stderr",
     "output_type": "stream",
     "text": [
      " 61%|██████    | 272/447 [07:49<04:20,  1.49s/it]"
     ]
    },
    {
     "name": "stdout",
     "output_type": "stream",
     "text": [
      "Brand: HP \n",
      " Model: 15s-fq5144TU \n",
      " Processor: Core i7-1255U \n",
      " Processor Brand: Intel \n",
      " Screen Size: 15.6 inches\n"
     ]
    },
    {
     "name": "stderr",
     "output_type": "stream",
     "text": [
      " 61%|██████    | 273/447 [07:50<04:07,  1.42s/it]"
     ]
    },
    {
     "name": "stdout",
     "output_type": "stream",
     "text": [
      "Brand: Asus \n",
      " Model: Vivobook M3504YA-L1268W \n",
      " Processor: Ryzen 5 7530U \n",
      " Processor Brand: AMD \n",
      " Screen Size: 15.6 inches\n"
     ]
    },
    {
     "name": "stderr",
     "output_type": "stream",
     "text": [
      " 61%|██████▏   | 274/447 [07:52<04:05,  1.42s/it]"
     ]
    },
    {
     "name": "stdout",
     "output_type": "stream",
     "text": [
      "Brand: HP \n",
      " Model: 14s-em0078AU \n",
      " Processor: Ryzen 5 7520U \n",
      " Model Number: 80R28PA \n",
      " Screen Size: 14 inches\n"
     ]
    },
    {
     "name": "stderr",
     "output_type": "stream",
     "text": [
      " 62%|██████▏   | 275/447 [07:54<04:35,  1.60s/it]"
     ]
    },
    {
     "name": "stdout",
     "output_type": "stream",
     "text": [
      "Brand: Huawei \n",
      " Model: MateBook D15 \n",
      " Processor: Ryzen 7 5700U \n",
      " Processor Brand: AMD \n",
      " Screen Size: 15.6 inches\n"
     ]
    },
    {
     "name": "stderr",
     "output_type": "stream",
     "text": [
      " 62%|██████▏   | 276/447 [07:55<04:22,  1.53s/it]"
     ]
    },
    {
     "name": "stdout",
     "output_type": "stream",
     "text": [
      "Brand: Asus \n",
      " Model: Vivobook Flip TN3402YA-LZ188W \n",
      " Processor: Ryzen 5 7530U \n",
      " Processor Type: Ryzen 5 \n",
      " Screen Size: 14.0 inches\n"
     ]
    },
    {
     "name": "stderr",
     "output_type": "stream",
     "text": [
      " 62%|██████▏   | 277/447 [07:56<04:07,  1.46s/it]"
     ]
    },
    {
     "name": "stdout",
     "output_type": "stream",
     "text": [
      "Brand: HP \n",
      " Model: Pavilion 14-dv2071TU \n",
      " Processor: i7 1255U \n",
      " Model Number: 7C0W0PA \n",
      " Processor Type: Core i7 \n",
      " Screen Size: 14 inches\n"
     ]
    },
    {
     "name": "stderr",
     "output_type": "stream",
     "text": [
      " 62%|██████▏   | 278/447 [07:58<03:56,  1.40s/it]"
     ]
    },
    {
     "name": "stdout",
     "output_type": "stream",
     "text": [
      "Brand: MSI \n",
      " Product Line: Gaming GF63 Thin \n",
      " Model: 11UC-1228VN \n",
      " Processor: i7 11800H (Core i7) \n",
      " Screen Size: 15.6 inches\n"
     ]
    },
    {
     "name": "stderr",
     "output_type": "stream",
     "text": [
      " 62%|██████▏   | 279/447 [08:00<04:34,  1.63s/it]"
     ]
    },
    {
     "name": "stdout",
     "output_type": "stream",
     "text": [
      "Brand: HP \n",
      " Model: Pavilion 14-dv2075TU \n",
      " Processor: Core i5 1235U \n",
      " Model Number: 7C0W2PA \n",
      " Screen Size: 14.0 inches\n"
     ]
    },
    {
     "name": "stderr",
     "output_type": "stream",
     "text": [
      " 63%|██████▎   | 280/447 [08:01<04:06,  1.47s/it]"
     ]
    },
    {
     "name": "stdout",
     "output_type": "stream",
     "text": [
      "Brand: Dell \n",
      " Model: Vostro V3520 \n",
      " Processor: Core i5 1235U \n",
      " Screen Size: 15.6 inches\n"
     ]
    },
    {
     "name": "stderr",
     "output_type": "stream",
     "text": [
      " 63%|██████▎   | 281/447 [08:03<04:10,  1.51s/it]"
     ]
    },
    {
     "name": "stdout",
     "output_type": "stream",
     "text": [
      "Brand: Asus \n",
      " Model: Vivobook 16 X1605ZA-MB193W \n",
      " Processor: Core i3 1215U \n",
      " Processor Type: Intel Core i3 \n",
      " Screen Size: 16.0 inches\n"
     ]
    },
    {
     "name": "stderr",
     "output_type": "stream",
     "text": [
      " 63%|██████▎   | 282/447 [08:04<03:52,  1.41s/it]"
     ]
    },
    {
     "name": "stdout",
     "output_type": "stream",
     "text": [
      "Brand: Acer \n",
      " Model: Aspire 3 A315-510P-34XZ \n",
      " Processor: Core i3 N305 \n",
      " Processor Type: Intel Core i3 \n",
      " Screen Size: 15.6 inches\n"
     ]
    },
    {
     "name": "stderr",
     "output_type": "stream",
     "text": [
      " 63%|██████▎   | 283/447 [08:05<03:35,  1.31s/it]"
     ]
    },
    {
     "name": "stdout",
     "output_type": "stream",
     "text": [
      "Brand: Asus \n",
      " Model: Vivobook A1405VA-KM257W \n",
      " Processor: Core i5-13500H \n",
      " Screen Size: 14 inches\n"
     ]
    },
    {
     "name": "stderr",
     "output_type": "stream",
     "text": [
      " 64%|██████▎   | 284/447 [08:06<03:34,  1.32s/it]"
     ]
    },
    {
     "name": "stdout",
     "output_type": "stream",
     "text": [
      "Brand: Dell \n",
      " Model: Inspiron 15 N3530 i7 1355U (N3530I716W1) \n",
      " Processor Type: Core i7 \n",
      " Screen Size: 15.6 inches\n"
     ]
    },
    {
     "name": "stderr",
     "output_type": "stream",
     "text": [
      " 64%|██████▍   | 285/447 [08:07<03:33,  1.32s/it]"
     ]
    },
    {
     "name": "stdout",
     "output_type": "stream",
     "text": [
      "Brand: MSI \n",
      " Product Line: Gaming GF63 \n",
      " Model Number: 12UCX-841VN \n",
      " Processor: i5 12450H (Core i5) \n",
      " Screen Size: 15.6 inches\n"
     ]
    },
    {
     "name": "stderr",
     "output_type": "stream",
     "text": [
      " 64%|██████▍   | 286/447 [08:09<04:01,  1.50s/it]"
     ]
    },
    {
     "name": "stdout",
     "output_type": "stream",
     "text": [
      "Brand: Acer \n",
      " Model: Aspire 7 Gaming A715-76G-5806 \n",
      " Processor: i5 12450H \n",
      " Model Number: NH.QMFSV.002 \n",
      " Processor Type: Core i5 \n",
      " Screen Size: 15.6 inches\n"
     ]
    },
    {
     "name": "stderr",
     "output_type": "stream",
     "text": [
      " 64%|██████▍   | 287/447 [08:11<03:44,  1.40s/it]"
     ]
    },
    {
     "name": "stdout",
     "output_type": "stream",
     "text": [
      "Brand: Acer \n",
      " Model: Aspire Lite AL15-51M-55NB \n",
      " Processor: i5-1155G7 (Core i5) \n",
      " Screen Size: 15.6 inches\n"
     ]
    },
    {
     "name": "stderr",
     "output_type": "stream",
     "text": [
      " 64%|██████▍   | 288/447 [08:12<03:29,  1.32s/it]"
     ]
    },
    {
     "name": "stdout",
     "output_type": "stream",
     "text": [
      "Brand: Gigabyte \n",
      " Model: Gaming G5 MF-F2VN313SH \n",
      " Processor: Core i5-12450H \n",
      " Screen Size: 15.6 inches\n"
     ]
    },
    {
     "name": "stderr",
     "output_type": "stream",
     "text": [
      " 65%|██████▍   | 289/447 [08:13<03:21,  1.27s/it]"
     ]
    },
    {
     "name": "stdout",
     "output_type": "stream",
     "text": [
      "Brand: Asus \n",
      " Model: Vivobook A1405VA-KM059W \n",
      " Processor: i5 13500H (Core i5) \n",
      " Screen Size: 14 inches\n"
     ]
    },
    {
     "name": "stderr",
     "output_type": "stream",
     "text": [
      " 65%|██████▍   | 290/447 [08:15<03:59,  1.52s/it]"
     ]
    },
    {
     "name": "stdout",
     "output_type": "stream",
     "text": [
      "Brand: Asus \n",
      " Series: TUF Gaming \n",
      " Model: FA507NU-LP045W \n",
      " Processor: Ryzen 7 7735HS \n",
      " Screen Size: 15.6 inches\n"
     ]
    },
    {
     "name": "stderr",
     "output_type": "stream",
     "text": [
      " 65%|██████▌   | 291/447 [08:16<03:39,  1.40s/it]"
     ]
    },
    {
     "name": "stdout",
     "output_type": "stream",
     "text": [
      "Brand: Asus \n",
      " Model: Vivobook Pro K3405VC-KM070W \n",
      " Processor: Core i9 13900H \n",
      " Screen Size: 14.0 inches\n"
     ]
    },
    {
     "name": "stderr",
     "output_type": "stream",
     "text": [
      " 65%|██████▌   | 292/447 [08:18<03:39,  1.42s/it]"
     ]
    },
    {
     "name": "stdout",
     "output_type": "stream",
     "text": [
      "Brand: Lenovo \n",
      " Product Line: IdeaPad Slim 5 \n",
      " Model: 14ABR8 R5 7530U (82XS0006VN) \n",
      " Processor: Ryzen 5 \n",
      " Screen Size: 14 inches\n"
     ]
    },
    {
     "name": "stderr",
     "output_type": "stream",
     "text": [
      " 66%|██████▌   | 293/447 [08:19<03:47,  1.47s/it]"
     ]
    },
    {
     "name": "stdout",
     "output_type": "stream",
     "text": [
      "Brand: Asus \n",
      " Product Line: TUF Gaming \n",
      " Model: FX506HC-HN144W \n",
      " Processor: i5 11400H \n",
      " Processor Type: Core i5 \n",
      " Screen Size: 15.6 inches\n"
     ]
    },
    {
     "name": "stderr",
     "output_type": "stream",
     "text": [
      " 66%|██████▌   | 294/447 [08:20<03:37,  1.42s/it]"
     ]
    },
    {
     "name": "stdout",
     "output_type": "stream",
     "text": [
      "Brand: HP \n",
      " Model: 15-fd0083TU \n",
      " Processor: Core i7 1355U \n",
      " Model Number: 8D736PA \n",
      " Processor Type: Core i7 \n",
      " Screen Size: 15.6 inches\n"
     ]
    },
    {
     "name": "stderr",
     "output_type": "stream",
     "text": [
      " 66%|██████▌   | 295/447 [08:22<03:31,  1.39s/it]"
     ]
    },
    {
     "name": "stdout",
     "output_type": "stream",
     "text": [
      "Brand: Lenovo \n",
      " Product Line: IdeaPad Slim 5 16IAH8 \n",
      " Model Number: 83BG001XVN \n",
      " Processor: Core i5 \n",
      " Processor Model: 12450H \n",
      " Screen Size: 16 inches\n"
     ]
    },
    {
     "name": "stderr",
     "output_type": "stream",
     "text": [
      " 66%|██████▌   | 296/447 [08:23<03:31,  1.40s/it]"
     ]
    },
    {
     "name": "stdout",
     "output_type": "stream",
     "text": [
      "Brand: HP \n",
      " Series: Pavilion \n",
      " Model: 15-eg3112TU \n",
      " Processor: i7 1355U \n",
      " Model Number: 8U6L9PA \n",
      " Processor Type: Core i7 \n",
      " Screen Size: 15.6 inches\n"
     ]
    },
    {
     "name": "stderr",
     "output_type": "stream",
     "text": [
      " 66%|██████▋   | 297/447 [08:25<03:27,  1.38s/it]"
     ]
    },
    {
     "name": "stdout",
     "output_type": "stream",
     "text": [
      "Brand: Acer \n",
      " Product Line: Gaming Aspire 5 \n",
      " Model: A515-58GM-53CM \n",
      " Processor: Core i5-13420H \n",
      " Processor Type: Core i5 \n",
      " Screen Size: 15.6 inches\n"
     ]
    },
    {
     "name": "stderr",
     "output_type": "stream",
     "text": [
      " 67%|██████▋   | 298/447 [08:26<03:30,  1.42s/it]"
     ]
    },
    {
     "name": "stdout",
     "output_type": "stream",
     "text": [
      "Brand: Lenovo \n",
      " Product Line: ThinkBook 14 G6 IRL \n",
      " Model Number: 21KG00BXVN \n",
      " Processor: Core i5-13500H \n",
      " Screen Size: 14 inches\n"
     ]
    },
    {
     "name": "stderr",
     "output_type": "stream",
     "text": [
      " 67%|██████▋   | 299/447 [08:27<03:17,  1.33s/it]"
     ]
    },
    {
     "name": "stdout",
     "output_type": "stream",
     "text": [
      "Brand: MSI \n",
      " Product Line: Gaming GF63 Thin \n",
      " Model: 12UC-1006VN \n",
      " Processor: Intel Core i5-12450H \n",
      " Screen Size: 15.6 inches\n"
     ]
    },
    {
     "name": "stderr",
     "output_type": "stream",
     "text": [
      " 67%|██████▋   | 300/447 [08:28<03:05,  1.26s/it]"
     ]
    },
    {
     "name": "stdout",
     "output_type": "stream",
     "text": [
      "Brand: MSI \n",
      " Product Line: Gaming Alpha 15 \n",
      " Model: B5EEK-203VN \n",
      " Processor: Ryzen 5 5600H \n",
      " Screen Size: 15.6 inches\n"
     ]
    },
    {
     "name": "stderr",
     "output_type": "stream",
     "text": [
      " 67%|██████▋   | 301/447 [08:30<03:05,  1.27s/it]"
     ]
    },
    {
     "name": "stdout",
     "output_type": "stream",
     "text": [
      "Brand: MSI \n",
      " Model: Modern 15 B12MO-628VN \n",
      " Processor: Core i5 1235U \n",
      " Screen Size: 15.6 inches\n"
     ]
    },
    {
     "name": "stderr",
     "output_type": "stream",
     "text": [
      " 68%|██████▊   | 302/447 [08:31<03:31,  1.46s/it]"
     ]
    },
    {
     "name": "stdout",
     "output_type": "stream",
     "text": [
      "Brand: MSI \n",
      " Model: Summit E14Evo A12M-211VN \n",
      " Processor: Core i7 \n",
      " Resolution: 1280P \n",
      " Memory: 16GB \n",
      " Storage: 512GB \n",
      " Screen Size: 14 inches \n",
      " Screen Type: FHD \n",
      " Operating System: Windows 11 \n",
      " Accessories: Túi_Chuột_Đen (Black Bag and Mouse)\n"
     ]
    },
    {
     "name": "stderr",
     "output_type": "stream",
     "text": [
      " 68%|██████▊   | 303/447 [08:33<03:46,  1.57s/it]"
     ]
    },
    {
     "name": "stdout",
     "output_type": "stream",
     "text": [
      "Brand: MSI \n",
      " Series: Gaming Raider GE77HX 12UHS-229VN \n",
      " Processor: i9-12900HX \n",
      " RAM: 64GB \n",
      " Storage: 2TB \n",
      " Screen Size: 17.3 inches \n",
      " Screen Type: UHD \n",
      " Graphics Card: RTX3080Ti_16G \n",
      " Operating System: Win11 \n",
      " Processor Type: Core i9\n"
     ]
    },
    {
     "name": "stderr",
     "output_type": "stream",
     "text": [
      " 68%|██████▊   | 304/447 [08:35<03:36,  1.51s/it]"
     ]
    },
    {
     "name": "stdout",
     "output_type": "stream",
     "text": [
      "Brand: MacBook \n",
      " Model: Pro 16 \n",
      " Year: 2023 \n",
      " Processor: M2 Pro \n",
      " CPU Cores: 12 \n",
      " GPU Cores: 19 \n",
      " RAM: 16GB \n",
      " Storage: 1TB \n",
      " Screen Size: 16.2 inches\n"
     ]
    },
    {
     "name": "stderr",
     "output_type": "stream",
     "text": [
      " 68%|██████▊   | 305/447 [08:36<03:38,  1.54s/it]"
     ]
    },
    {
     "name": "stdout",
     "output_type": "stream",
     "text": [
      "Brand: MacBook Pro \n",
      " Model: 14 \n",
      " Year: 2023 \n",
      " Processor: M3 Pro 12 CPU \n",
      " Graphics: 18 GPU \n",
      " RAM: 18GB \n",
      " Storage: 1TB \n",
      " Screen Size: 14.2 inches\n"
     ]
    },
    {
     "name": "stderr",
     "output_type": "stream",
     "text": [
      " 68%|██████▊   | 306/447 [08:38<03:47,  1.61s/it]"
     ]
    },
    {
     "name": "stdout",
     "output_type": "stream",
     "text": [
      "Brand: MacBook Pro \n",
      " Model: 14 \n",
      " Year: 2023 \n",
      " Processor: M3 Pro 11 CPU \n",
      " Graphics: 14 GPU \n",
      " RAM: 18GB \n",
      " Storage: 512GB \n",
      " Screen Size: 14.2 inches\n"
     ]
    },
    {
     "name": "stderr",
     "output_type": "stream",
     "text": [
      " 69%|██████▊   | 307/447 [08:40<03:44,  1.60s/it]"
     ]
    },
    {
     "name": "stdout",
     "output_type": "stream",
     "text": [
      "Brand: Lenovo \n",
      " Product Line: ThinkPad X1 Carbon Gen 9 \n",
      " Processor: i7-1165G7 \n",
      " Model Number: 20XW00GDVN \n",
      " Processor Type: Core i7 \n",
      " Screen Size: 14.0 inches\n"
     ]
    },
    {
     "name": "stderr",
     "output_type": "stream",
     "text": [
      " 69%|██████▉   | 308/447 [08:41<03:18,  1.43s/it]"
     ]
    },
    {
     "name": "stdout",
     "output_type": "stream",
     "text": [
      "Brand: LG \n",
      " Model: Gram 16Z90R-G.AH76A5 \n",
      " Processor: Core i7 \n",
      " Screen Size: 16.0 inches\n"
     ]
    },
    {
     "name": "stderr",
     "output_type": "stream",
     "text": [
      " 69%|██████▉   | 309/447 [08:42<03:10,  1.38s/it]"
     ]
    },
    {
     "name": "stdout",
     "output_type": "stream",
     "text": [
      "Brand: MacBook \n",
      " Model: Pro 14 \n",
      " Year: 2023 \n",
      " Processor: M3 \n",
      " CPU Cores: 8 \n",
      " GPU Cores: 10 \n",
      " RAM: 8GB \n",
      " Storage: 512GB \n",
      " Screen Size: 14.2 inches\n"
     ]
    },
    {
     "name": "stderr",
     "output_type": "stream",
     "text": [
      " 69%|██████▉   | 310/447 [08:44<03:43,  1.63s/it]"
     ]
    },
    {
     "name": "stdout",
     "output_type": "stream",
     "text": [
      "Brand: MSI \n",
      " Model: Gaming Katana 15 B13VGK-1211VN \n",
      " Processor: Core i7-13620H \n",
      " RAM: 16GB \n",
      " Storage: 1TB \n",
      " Screen Size: 15.6 inches \n",
      " Screen Type: FHD \n",
      " Graphics Card: RTX4070_8G \n",
      " Operating System: Windows 11 \n",
      " Additional Item: Balo (Backpack)\n"
     ]
    },
    {
     "name": "stderr",
     "output_type": "stream",
     "text": [
      " 70%|██████▉   | 311/447 [08:46<04:07,  1.82s/it]"
     ]
    },
    {
     "name": "stdout",
     "output_type": "stream",
     "text": [
      "Brand: MSI \n",
      " Model: Creator M16 B13VE-830VN \n",
      " Processor: Core i7-13700H \n",
      " Screen Size: 16.0 inches\n"
     ]
    },
    {
     "name": "stderr",
     "output_type": "stream",
     "text": [
      " 70%|██████▉   | 312/447 [08:48<03:47,  1.69s/it]"
     ]
    },
    {
     "name": "stdout",
     "output_type": "stream",
     "text": [
      "Brand: Acer \n",
      " Model: Swift Edge SFA16-41-R3L6 \n",
      " Processor: Ryzen 7 6800U \n",
      " Model Number: NX.KABSV.002 \n",
      " Screen Size: 16.0 inches\n"
     ]
    },
    {
     "name": "stderr",
     "output_type": "stream",
     "text": [
      " 70%|███████   | 313/447 [08:49<03:32,  1.58s/it]"
     ]
    },
    {
     "name": "stdout",
     "output_type": "stream",
     "text": [
      "Brand: Asus \n",
      " Model: Zenbook 14 OLED UX3405MA-PP152W \n",
      " Processor: Core Ultra 7-155H \n",
      " Screen Size: 14 inches\n"
     ]
    },
    {
     "name": "stderr",
     "output_type": "stream",
     "text": [
      " 70%|███████   | 314/447 [08:50<03:22,  1.52s/it]"
     ]
    },
    {
     "name": "stdout",
     "output_type": "stream",
     "text": [
      "Brand: Asus \n",
      " Product Line: TUF Gaming \n",
      " Model: FX507VV-LP181W \n",
      " Processor: Core i7-13620H \n",
      " Processor Type: Core i7 \n",
      " Screen Size: 15.6 inches\n"
     ]
    },
    {
     "name": "stderr",
     "output_type": "stream",
     "text": [
      " 70%|███████   | 315/447 [08:52<03:16,  1.49s/it]"
     ]
    },
    {
     "name": "stdout",
     "output_type": "stream",
     "text": [
      "Brand: LG \n",
      " Model: Gram 14Z90R-G.AH75A5 \n",
      " Processor: Core i7 \n",
      " Screen Size: 14 inches \n",
      " Resolution: 1360P\n"
     ]
    },
    {
     "name": "stderr",
     "output_type": "stream",
     "text": [
      " 71%|███████   | 316/447 [08:53<03:11,  1.46s/it]"
     ]
    },
    {
     "name": "stdout",
     "output_type": "stream",
     "text": [
      "Brand: Asus \n",
      " Series: TUF Gaming F15 \n",
      " Model: FX507VU-LP197W \n",
      " Processor: Core i7-13620H \n",
      " Processor Type: Intel Core i7 \n",
      " Screen Size: 15.6 inches\n"
     ]
    },
    {
     "name": "stderr",
     "output_type": "stream",
     "text": [
      " 71%|███████   | 317/447 [08:54<02:55,  1.35s/it]"
     ]
    },
    {
     "name": "stdout",
     "output_type": "stream",
     "text": [
      "Brand: LG \n",
      " Model: Gram 14T90R-G.AH55A5 \n",
      " Processor: Core i5-1340P \n",
      " Processor Brand: Intel \n",
      " Screen Size: 14.0 inches\n"
     ]
    },
    {
     "name": "stderr",
     "output_type": "stream",
     "text": [
      " 71%|███████   | 318/447 [08:56<03:01,  1.41s/it]"
     ]
    },
    {
     "name": "stdout",
     "output_type": "stream",
     "text": [
      "Brand: Asus \n",
      " Model: Zenbook Flip UP3404VA-KN039W \n",
      " Processor: Core i7 \n",
      " Resolution: 1360P \n",
      " Processor Brand: Intel Core i7 \n",
      " Screen Size: 14 inches\n"
     ]
    },
    {
     "name": "stderr",
     "output_type": "stream",
     "text": [
      " 71%|███████▏  | 319/447 [08:57<02:58,  1.39s/it]"
     ]
    },
    {
     "name": "stdout",
     "output_type": "stream",
     "text": [
      "Brand: MSI \n",
      " Series: Gaming Cyborg 15 AI A1VE-053VN \n",
      " Model: Ultra 7 155H \n",
      " Processor: Core Ultra 7 \n",
      " Screen Size: 15.6 inches\n"
     ]
    },
    {
     "name": "stderr",
     "output_type": "stream",
     "text": [
      " 72%|███████▏  | 320/447 [08:59<02:57,  1.40s/it]"
     ]
    },
    {
     "name": "stdout",
     "output_type": "stream",
     "text": [
      "Brand: MacBook Air \n",
      " Model: M2 \n",
      " Year: 2022 \n",
      " Processor: 8CPU \n",
      " Graphics: 8GPU \n",
      " RAM: 16GB \n",
      " Storage: 256GB \n",
      " Screen Size: 13.6 inches\n"
     ]
    },
    {
     "name": "stderr",
     "output_type": "stream",
     "text": [
      " 72%|███████▏  | 321/447 [09:00<03:10,  1.51s/it]"
     ]
    },
    {
     "name": "stdout",
     "output_type": "stream",
     "text": [
      "Brand: Lenovo \n",
      " Product Line: Gaming LOQ - 15IRX9 \n",
      " Model: 83DV000NVN \n",
      " Processor: Core i7 13650HX \n",
      " Screen Size: 15.6 inches\n"
     ]
    },
    {
     "name": "stderr",
     "output_type": "stream",
     "text": [
      " 72%|███████▏  | 322/447 [09:02<03:03,  1.47s/it]"
     ]
    },
    {
     "name": "stdout",
     "output_type": "stream",
     "text": [
      "Brand: MSI \n",
      " Series: Gaming Katana 15 \n",
      " Model: B13VFK-676VN \n",
      " Processor: Intel Core i7-13620H \n",
      " Processor Type: Core i7 \n",
      " Screen Size: 15.6 inches\n"
     ]
    },
    {
     "name": "stderr",
     "output_type": "stream",
     "text": [
      " 72%|███████▏  | 323/447 [09:03<03:08,  1.52s/it]"
     ]
    },
    {
     "name": "stdout",
     "output_type": "stream",
     "text": [
      "Brand: Asus \n",
      " Product Line: TUF Gaming \n",
      " Model: FX507ZV4-LP042W \n",
      " Processor: Core i7 12700H \n",
      " Processor Type: Intel Core i7 \n",
      " Screen Size: 15.6 inches\n"
     ]
    },
    {
     "name": "stderr",
     "output_type": "stream",
     "text": [
      " 72%|███████▏  | 324/447 [09:07<04:27,  2.17s/it]"
     ]
    },
    {
     "name": "stdout",
     "output_type": "stream",
     "text": [
      "Brand: Dell \n",
      " Model: Inspiron 14 2in1 T7430 i7 1355U (P172G001) \n",
      " Processor Type: Core i7 \n",
      " Screen Size: 14 inches\n"
     ]
    },
    {
     "name": "stderr",
     "output_type": "stream",
     "text": [
      " 73%|███████▎  | 325/447 [09:09<04:22,  2.15s/it]"
     ]
    },
    {
     "name": "stdout",
     "output_type": "stream",
     "text": [
      "Brand: Asus \n",
      " Model: Vivobook Pro K6502VU-MA089W \n",
      " Processor: i5 13500H (Core i5) \n",
      " Screen Size: 15.6 inches\n"
     ]
    },
    {
     "name": "stderr",
     "output_type": "stream",
     "text": [
      " 73%|███████▎  | 326/447 [09:11<03:51,  1.91s/it]"
     ]
    },
    {
     "name": "stdout",
     "output_type": "stream",
     "text": [
      "Brand: Asus \n",
      " Model: Zenbook 14 OLED UX3405MA-PP151W \n",
      " Processor: Core Ultra 5-125H \n",
      " Screen Size: 14 inches \n",
      " Processor Model: Meteor LakeCore Ultra 5\n"
     ]
    },
    {
     "name": "stderr",
     "output_type": "stream",
     "text": [
      " 73%|███████▎  | 327/447 [09:12<03:25,  1.72s/it]"
     ]
    },
    {
     "name": "stdout",
     "output_type": "stream",
     "text": [
      "Brand: Asus \n",
      " Model: Zenbook 14 OLED UX3405MA-PP588W \n",
      " Series: Ultra 5-125H \n",
      " Processor: Ultra 5 Meteor Lake \n",
      " Screen Size: 14 inches\n"
     ]
    },
    {
     "name": "stderr",
     "output_type": "stream",
     "text": [
      " 73%|███████▎  | 328/447 [09:13<03:05,  1.56s/it]"
     ]
    },
    {
     "name": "stdout",
     "output_type": "stream",
     "text": [
      "Brand: Gigabyte \n",
      " Model: Gaming G6 KF-H3VN853SH \n",
      " Processor: i7-13620H \n",
      " Processor Type: Core i7 \n",
      " Screen Size: 16 inches\n"
     ]
    },
    {
     "name": "stderr",
     "output_type": "stream",
     "text": [
      " 74%|███████▎  | 329/447 [09:15<03:05,  1.57s/it]"
     ]
    },
    {
     "name": "stdout",
     "output_type": "stream",
     "text": [
      "Brand: MacBook \n",
      " Model: Air \n",
      " Screen Size: 15 inches \n",
      " Processor: M2 \n",
      " Year: 2023 \n",
      " CPU Cores: 8 \n",
      " GPU Cores: 10 \n",
      " RAM: 8 GB \n",
      " Storage: 256 GB \n",
      " Screen Type: M2 \n",
      " Screen Size: 15.0 inches\n"
     ]
    },
    {
     "name": "stderr",
     "output_type": "stream",
     "text": [
      " 74%|███████▍  | 330/447 [09:16<02:57,  1.52s/it]"
     ]
    },
    {
     "name": "stdout",
     "output_type": "stream",
     "text": [
      "Brand: MSI \n",
      " Series: Prestige 13Evo A13M-081VN \n",
      " Processor: Core i7 \n",
      " Screen Size: 13.3 inches \n",
      " Resolution: 1360P\n"
     ]
    },
    {
     "name": "stderr",
     "output_type": "stream",
     "text": [
      " 74%|███████▍  | 331/447 [09:18<02:53,  1.50s/it]"
     ]
    },
    {
     "name": "stdout",
     "output_type": "stream",
     "text": [
      "Brand: Asus \n",
      " Model: Zenbook 14 OLED UX3402VA-KM068W \n",
      " Processor: Core i7 \n",
      " Resolution: 1360P \n",
      " Screen Size: 14 inches\n"
     ]
    },
    {
     "name": "stderr",
     "output_type": "stream",
     "text": [
      " 74%|███████▍  | 332/447 [09:19<03:05,  1.61s/it]"
     ]
    },
    {
     "name": "stdout",
     "output_type": "stream",
     "text": [
      "Brand: Acer \n",
      " Series: Nitro V Gaming \n",
      " Model: ANV15-51-55CA \n",
      " Processor: i5 13420H \n",
      " Model Number: NH.QN8SV.004 \n",
      " Processor Type: Core i5 \n",
      " Screen Size: 15.6 inches\n"
     ]
    },
    {
     "name": "stderr",
     "output_type": "stream",
     "text": [
      " 74%|███████▍  | 333/447 [09:22<03:27,  1.82s/it]"
     ]
    },
    {
     "name": "stdout",
     "output_type": "stream",
     "text": [
      "Brand: Asus \n",
      " Product Line: TUF Gaming \n",
      " Model: FX507ZV4-LP041W \n",
      " Processor: Core i7-12700H \n",
      " Processor Brand: Intel \n",
      " Screen Size: 15.6 inches\n"
     ]
    },
    {
     "name": "stderr",
     "output_type": "stream",
     "text": [
      " 75%|███████▍  | 334/447 [09:23<03:07,  1.66s/it]"
     ]
    },
    {
     "name": "stdout",
     "output_type": "stream",
     "text": [
      "Brand: Asus \n",
      " Series: TUF Gaming \n",
      " Model: FA507NV-LP046W \n",
      " Processor: Ryzen 7 7735HS \n",
      " Screen Size: 15.6 inches\n"
     ]
    },
    {
     "name": "stderr",
     "output_type": "stream",
     "text": [
      " 75%|███████▍  | 335/447 [09:24<02:53,  1.55s/it]"
     ]
    },
    {
     "name": "stdout",
     "output_type": "stream",
     "text": [
      "Brand: Asus \n",
      " Series: TUF Gaming A15 \n",
      " Model: FA507NV-LP110W \n",
      " Processor: Ryzen 5 7535HS \n",
      " Screen Size: 15.6 inches\n"
     ]
    },
    {
     "name": "stderr",
     "output_type": "stream",
     "text": [
      " 75%|███████▌  | 336/447 [09:26<02:43,  1.47s/it]"
     ]
    },
    {
     "name": "stdout",
     "output_type": "stream",
     "text": [
      "Brand: Macbook \n",
      " Model: Air \n",
      " Year: 2020 \n",
      " Processor: M1 \n",
      " Memory: 16GB \n",
      " Storage: 256GB SSD \n",
      " Screen Size: 13.3 inches\n"
     ]
    },
    {
     "name": "stderr",
     "output_type": "stream",
     "text": [
      " 75%|███████▌  | 337/447 [09:27<02:43,  1.48s/it]"
     ]
    },
    {
     "name": "stdout",
     "output_type": "stream",
     "text": [
      "Brand: Acer \n",
      " Model: Swift 3 SF314-512-741L \n",
      " Processor: Core i7 \n",
      " Model Number: NX.K7JSV.001 \n",
      " Screen Size: 14.0 inches\n"
     ]
    },
    {
     "name": "stderr",
     "output_type": "stream",
     "text": [
      " 76%|███████▌  | 338/447 [09:28<02:24,  1.33s/it]"
     ]
    },
    {
     "name": "stdout",
     "output_type": "stream",
     "text": [
      "Brand: Asus \n",
      " Model: Zenbook Flip UP3404VA-KN038W \n",
      " Processor: Core i5 \n",
      " Screen Size: 14 inches\n"
     ]
    },
    {
     "name": "stderr",
     "output_type": "stream",
     "text": [
      " 76%|███████▌  | 339/447 [09:30<02:28,  1.37s/it]"
     ]
    },
    {
     "name": "stdout",
     "output_type": "stream",
     "text": [
      "Brand: MacBook \n",
      " Model: Air M2 13 2022 \n",
      " Processor: 8CPU \n",
      " Graphics: 8GPU \n",
      " Memory: 8GB \n",
      " Storage: 256GB \n",
      " Screen Size: 13.6 inches\n"
     ]
    },
    {
     "name": "stderr",
     "output_type": "stream",
     "text": [
      " 76%|███████▌  | 340/447 [09:31<02:24,  1.35s/it]"
     ]
    },
    {
     "name": "stdout",
     "output_type": "stream",
     "text": [
      "Brand: Gigabyte \n",
      " Series: Gaming G5 \n",
      " Model: MF5-H2VN353SH \n",
      " Processor: i7 13620H \n",
      " Processor Type: Core i7 \n",
      " Screen Size: 15.6 inches\n"
     ]
    },
    {
     "name": "stderr",
     "output_type": "stream",
     "text": [
      " 76%|███████▋  | 341/447 [09:32<02:22,  1.34s/it]"
     ]
    },
    {
     "name": "stdout",
     "output_type": "stream",
     "text": [
      "Brand: HP \n",
      " Series: ProBook 440 G10 \n",
      " Model Number: 873C1PA \n",
      " Processor: Core i7 \n",
      " Screen Size: 14.0 inches \n",
      " Resolution: 1360P\n"
     ]
    },
    {
     "name": "stderr",
     "output_type": "stream",
     "text": [
      " 77%|███████▋  | 342/447 [09:33<02:19,  1.33s/it]"
     ]
    },
    {
     "name": "stdout",
     "output_type": "stream",
     "text": [
      "Brand: Acer \n",
      " Product Line: Nitro Gaming AN515-58-769J \n",
      " Model: NH.QFHSV.003 \n",
      " Processor: Core i7 12700H \n",
      " Screen Size: 15.6 inches\n"
     ]
    },
    {
     "name": "stderr",
     "output_type": "stream",
     "text": [
      " 77%|███████▋  | 343/447 [09:35<02:14,  1.29s/it]"
     ]
    },
    {
     "name": "stdout",
     "output_type": "stream",
     "text": [
      "Brand: Gigabyte \n",
      " Model: Gaming G5 KF-E3VN313SH \n",
      " Processor: Core i5 12500H \n",
      " Screen Size: 15.6 inches\n"
     ]
    },
    {
     "name": "stderr",
     "output_type": "stream",
     "text": [
      " 77%|███████▋  | 344/447 [09:36<02:23,  1.39s/it]"
     ]
    },
    {
     "name": "stdout",
     "output_type": "stream",
     "text": [
      "Brand: Dell \n",
      " Model: Inspiron 14 2in1 T7430 i5 1335U (N7430I58W1) \n",
      " Processor: Core i5 \n",
      " Processor Model: 1335U \n",
      " Screen Size: 14.0 inches\n"
     ]
    },
    {
     "name": "stderr",
     "output_type": "stream",
     "text": [
      " 77%|███████▋  | 345/447 [09:38<02:24,  1.42s/it]"
     ]
    },
    {
     "name": "stdout",
     "output_type": "stream",
     "text": [
      "Brand: Asus \n",
      " Model: Vivobook Flip TP3402VA-LZ118W \n",
      " Processor: i9 13900H (Core i9) \n",
      " Screen Size: 14 inches\n"
     ]
    },
    {
     "name": "stderr",
     "output_type": "stream",
     "text": [
      " 77%|███████▋  | 346/447 [09:39<02:16,  1.35s/it]"
     ]
    },
    {
     "name": "stdout",
     "output_type": "stream",
     "text": [
      "Brand: Lenovo \n",
      " Model: Yoga Slim 6 14IRH8 i7 13700H (83E0000VVN) \n",
      " Processor: Core i7 \n",
      " Screen Size: 14 inches\n"
     ]
    },
    {
     "name": "stderr",
     "output_type": "stream",
     "text": [
      " 78%|███████▊  | 347/447 [09:41<02:30,  1.50s/it]"
     ]
    },
    {
     "name": "stdout",
     "output_type": "stream",
     "text": [
      "Brand: MSI \n",
      " Model: Summit E14 Flip Evo A12MT-210VN \n",
      " Processor: Core i7 \n",
      " Resolution: 1280P \n",
      " Memory: 16GB \n",
      " Storage: 512GB \n",
      " Screen Size: 14 inches \n",
      " Screen Type: QHD \n",
      " Operating System: Windows 11 \n",
      " Accessories: Túi (Bag), Bút (Pen) \n",
      " Color: Đen (Black)\n"
     ]
    },
    {
     "name": "stderr",
     "output_type": "stream",
     "text": [
      " 78%|███████▊  | 348/447 [09:42<02:21,  1.43s/it]"
     ]
    },
    {
     "name": "stdout",
     "output_type": "stream",
     "text": [
      "Brand: Acer \n",
      " Model: Swift X SFX16-51G-50GS \n",
      " Model Number: NX.AYLSV.002 \n",
      " Processor: Core i5 11320H \n",
      " Screen Size: 16.1 inches\n"
     ]
    },
    {
     "name": "stderr",
     "output_type": "stream",
     "text": [
      " 78%|███████▊  | 349/447 [09:43<02:12,  1.35s/it]"
     ]
    },
    {
     "name": "stdout",
     "output_type": "stream",
     "text": [
      "Brand: Gigabyte \n",
      " Model: Gaming G5 MF5-52VN353SH \n",
      " Processor: i5 13500H \n",
      " Processor Type: Core i5 \n",
      " Screen Size: 15.6 inches\n"
     ]
    },
    {
     "name": "stderr",
     "output_type": "stream",
     "text": [
      " 78%|███████▊  | 350/447 [09:44<02:04,  1.28s/it]"
     ]
    },
    {
     "name": "stdout",
     "output_type": "stream",
     "text": [
      "Brand: Asus \n",
      " Model: Vivobook S3405VA-KM071W \n",
      " Processor: i9 13900H (Core i9) \n",
      " Screen Size: 14.0 inches\n"
     ]
    },
    {
     "name": "stderr",
     "output_type": "stream",
     "text": [
      " 79%|███████▊  | 351/447 [09:46<01:59,  1.24s/it]"
     ]
    },
    {
     "name": "stdout",
     "output_type": "stream",
     "text": [
      "Brand: Asus \n",
      " Series: TUF Gaming \n",
      " Model: FA507NU-LP034W \n",
      " Processor: Ryzen 7 7735HS \n",
      " Screen Size: 15.6 inches\n"
     ]
    },
    {
     "name": "stderr",
     "output_type": "stream",
     "text": [
      " 79%|███████▊  | 352/447 [09:47<02:02,  1.29s/it]"
     ]
    },
    {
     "name": "stdout",
     "output_type": "stream",
     "text": [
      "Brand: HP \n",
      " Product Line: Gaming Victus \n",
      " Model: 16-s0078AX \n",
      " Part Number: 8C5N7PA \n",
      " Processor: Ryzen 5 \n",
      " Screen Size: 16.0 inches\n"
     ]
    },
    {
     "name": "stderr",
     "output_type": "stream",
     "text": [
      " 79%|███████▉  | 353/447 [09:49<02:14,  1.43s/it]"
     ]
    },
    {
     "name": "stdout",
     "output_type": "stream",
     "text": [
      "Brand: Acer \n",
      " Model: Nitro 5 Tiger Gaming AN515-58-52SP \n",
      " Processor: i5 12500H \n",
      " Model Number: NH.QFHSV.001 \n",
      " Processor Type: Core i5 \n",
      " Screen Size: 15.6 inches\n"
     ]
    },
    {
     "name": "stderr",
     "output_type": "stream",
     "text": [
      " 79%|███████▉  | 354/447 [09:50<02:10,  1.40s/it]"
     ]
    },
    {
     "name": "stdout",
     "output_type": "stream",
     "text": [
      "Brand: Asus \n",
      " Model: Vivobook S3504VA-L1227WS \n",
      " Processor: Core i7 \n",
      " Resolution: 1360P \n",
      " Processor Brand: Intel Core i7 \n",
      " Screen Size: 15.6 inches\n"
     ]
    },
    {
     "name": "stderr",
     "output_type": "stream",
     "text": [
      " 79%|███████▉  | 355/447 [09:51<02:04,  1.35s/it]"
     ]
    },
    {
     "name": "stdout",
     "output_type": "stream",
     "text": [
      "Brand: MSI \n",
      " Series: Prestige 14Evo \n",
      " Model: B13M-401VN \n",
      " Processor: i5 13500H (Core i5) \n",
      " Screen Size: 14.0 inches\n"
     ]
    },
    {
     "name": "stderr",
     "output_type": "stream",
     "text": [
      " 80%|███████▉  | 356/447 [09:53<02:14,  1.48s/it]"
     ]
    },
    {
     "name": "stdout",
     "output_type": "stream",
     "text": [
      "Brand: Asus \n",
      " Model: Vivobook Pro K3405ZF-KM184W \n",
      " Processor: i5-12500H (Core i5) \n",
      " Screen Size: 14 inches\n"
     ]
    },
    {
     "name": "stderr",
     "output_type": "stream",
     "text": [
      " 80%|███████▉  | 357/447 [09:54<02:07,  1.41s/it]"
     ]
    },
    {
     "name": "stdout",
     "output_type": "stream",
     "text": [
      "Brand: Lenovo \n",
      " Series: Gaming LOQ 15IAX9 \n",
      " Model: i5-12450HX (83GS001RVN) \n",
      " Processor: Core i5 \n",
      " Screen Size: 15.6 inches\n"
     ]
    },
    {
     "name": "stderr",
     "output_type": "stream",
     "text": [
      " 80%|████████  | 358/447 [09:56<02:05,  1.40s/it]"
     ]
    },
    {
     "name": "stdout",
     "output_type": "stream",
     "text": [
      "Brand: HP \n",
      " Series: ProBook 440 G10 \n",
      " Model: i5 1340P (873B2PA) \n",
      " Processor Type: Core i5 \n",
      " Screen Size: 14.0 inches\n"
     ]
    },
    {
     "name": "stderr",
     "output_type": "stream",
     "text": [
      " 80%|████████  | 359/447 [09:57<02:00,  1.37s/it]"
     ]
    },
    {
     "name": "stdout",
     "output_type": "stream",
     "text": [
      "Brand: Lenovo \n",
      " Series: Thinkpad E14 G5 \n",
      " Model: T i5 1335U (21JK006BVN) \n",
      " Processor: Core i5 \n",
      " Screen Size: 14 inches\n"
     ]
    },
    {
     "name": "stderr",
     "output_type": "stream",
     "text": [
      " 81%|████████  | 360/447 [09:58<02:00,  1.38s/it]"
     ]
    },
    {
     "name": "stdout",
     "output_type": "stream",
     "text": [
      "Brand: Lenovo \n",
      " Model: Thinkpad T14s Gen 2 \n",
      " Processor: i5 1145G7 \n",
      " Model Number: 20WMS1EE00 \n",
      " Processor Type: Core i5 \n",
      " Screen Size: 14 inches\n"
     ]
    },
    {
     "name": "stderr",
     "output_type": "stream",
     "text": [
      " 81%|████████  | 361/447 [10:00<01:55,  1.34s/it]"
     ]
    },
    {
     "name": "stdout",
     "output_type": "stream",
     "text": [
      "Brand: HP \n",
      " Product Line: Gaming Victus \n",
      " Model: 15-fb1022AX \n",
      " Model Number: 94F19PA \n",
      " Processor: Ryzen 5 \n",
      " Screen Size: 15.6 inches\n"
     ]
    },
    {
     "name": "stderr",
     "output_type": "stream",
     "text": [
      " 81%|████████  | 362/447 [10:01<01:56,  1.37s/it]"
     ]
    },
    {
     "name": "stdout",
     "output_type": "stream",
     "text": [
      "Brand: Lenovo \n",
      " Product Line: Ideapad Gaming 3 \n",
      " Model: 15ARH7 R5 7535HS (82SB00JUVN) \n",
      " Processor: Ryzen 5 \n",
      " Screen Size: 15.6 inches\n"
     ]
    },
    {
     "name": "stderr",
     "output_type": "stream",
     "text": [
      " 81%|████████  | 363/447 [10:02<01:56,  1.39s/it]"
     ]
    },
    {
     "name": "stdout",
     "output_type": "stream",
     "text": [
      "Brand: HP \n",
      " Series: Gaming Victus \n",
      " Model: 16-e1104AX \n",
      " Model Number: 7C0S9PA \n",
      " Processor: Ryzen 7 6800H \n",
      " Screen Size: 16.1 inches\n"
     ]
    },
    {
     "name": "stderr",
     "output_type": "stream",
     "text": [
      " 81%|████████▏ | 364/447 [10:04<01:50,  1.34s/it]"
     ]
    },
    {
     "name": "stdout",
     "output_type": "stream",
     "text": [
      "Brand: Asus \n",
      " Model: Zenbook UX3402ZA-KM218W \n",
      " Processor: Core i5 \n",
      " Processor Model: 1240P \n",
      " Screen Size: 14.0 inches\n"
     ]
    },
    {
     "name": "stderr",
     "output_type": "stream",
     "text": [
      " 82%|████████▏ | 365/447 [10:05<01:47,  1.32s/it]"
     ]
    },
    {
     "name": "stdout",
     "output_type": "stream",
     "text": [
      "Brand: Asus \n",
      " Product Line: TUF Gaming \n",
      " Model: FX517ZC-HN077W \n",
      " Processor: Core i5-12450H \n",
      " Screen Size: 15.6 inches\n"
     ]
    },
    {
     "name": "stderr",
     "output_type": "stream",
     "text": [
      " 82%|████████▏ | 366/447 [10:07<01:57,  1.45s/it]"
     ]
    },
    {
     "name": "stdout",
     "output_type": "stream",
     "text": [
      "Brand: HP \n",
      " Series: Pavilion \n",
      " Model: 14-dv2072TU \n",
      " Processor: Core i7 1255U \n",
      " Model Number: 7C0W1PA \n",
      " Processor Type: Core i7 \n",
      " Screen Size: 14.0 inches\n"
     ]
    },
    {
     "name": "stderr",
     "output_type": "stream",
     "text": [
      " 82%|████████▏ | 367/447 [10:09<02:05,  1.57s/it]"
     ]
    },
    {
     "name": "stdout",
     "output_type": "stream",
     "text": [
      "Brand: HP \n",
      " Model: Pavilion 15-eg3111TU \n",
      " Processor: Core i5-1335U \n",
      " Model Number: 8U6L8PA \n",
      " Processor Type: Core i5 \n",
      " Screen Size: 15.6 inches\n"
     ]
    },
    {
     "name": "stderr",
     "output_type": "stream",
     "text": [
      " 82%|████████▏ | 368/447 [10:10<01:54,  1.45s/it]"
     ]
    },
    {
     "name": "stdout",
     "output_type": "stream",
     "text": [
      "Brand: Macbook \n",
      " Model: Air 13 2020 \n",
      " Processor: M1 \n",
      " Memory: 8GB \n",
      " Storage: 256GB SSD \n",
      " Screen Size: 13.3 inches\n"
     ]
    },
    {
     "name": "stderr",
     "output_type": "stream",
     "text": [
      " 83%|████████▎ | 369/447 [10:11<01:58,  1.51s/it]"
     ]
    },
    {
     "name": "stdout",
     "output_type": "stream",
     "text": [
      "Brand: Lenovo \n",
      " Series: ThinkPad E14 Gen 4 \n",
      " Model: 21E300E3VN \n",
      " Processor: Core i7 \n",
      " Processor Model: i7 1255U \n",
      " Screen Size: 14.0 inches\n"
     ]
    },
    {
     "name": "stderr",
     "output_type": "stream",
     "text": [
      " 83%|████████▎ | 370/447 [10:13<01:50,  1.44s/it]"
     ]
    },
    {
     "name": "stdout",
     "output_type": "stream",
     "text": [
      "Brand: Lenovo \n",
      " Product Line: ThinkBook 15 G5 ABP R5 7530U \n",
      " Model Number: 21JF001SVN \n",
      " Processor: Ryzen 5 \n",
      " Screen Size: 15.6 inches\n"
     ]
    },
    {
     "name": "stderr",
     "output_type": "stream",
     "text": [
      " 83%|████████▎ | 371/447 [10:14<01:50,  1.45s/it]"
     ]
    },
    {
     "name": "stdout",
     "output_type": "stream",
     "text": [
      "Brand: Acer \n",
      " Product Line: Gaming Aspire 5 \n",
      " Model: A515-58GM-59QZ \n",
      " Processor: i5 13420H \n",
      " Model Number: NX.KQ4SV.006 \n",
      " Processor Type: Core i5 \n",
      " Screen Size: 15.6 inches\n"
     ]
    },
    {
     "name": "stderr",
     "output_type": "stream",
     "text": [
      " 83%|████████▎ | 372/447 [10:16<01:54,  1.53s/it]"
     ]
    },
    {
     "name": "stdout",
     "output_type": "stream",
     "text": [
      "Brand: HP \n",
      " Model: Pavilion 15-eg3095TU \n",
      " Processor: Core i5-1335U \n",
      " Model Number: 8C5L6PA \n",
      " Processor Type: Core i5 \n",
      " Screen Size: 15.6 inches\n"
     ]
    },
    {
     "name": "stderr",
     "output_type": "stream",
     "text": [
      " 83%|████████▎ | 373/447 [10:17<01:46,  1.44s/it]"
     ]
    },
    {
     "name": "stdout",
     "output_type": "stream",
     "text": [
      "Brand: Lenovo \n",
      " Model: IdeaPad Slim 5 14IRL8 i5 13500H (82XD002VVN) \n",
      " Processor: Core i5 \n",
      " Screen Size: 14.0 inches\n"
     ]
    },
    {
     "name": "stderr",
     "output_type": "stream",
     "text": [
      " 84%|████████▎ | 374/447 [10:18<01:39,  1.36s/it]"
     ]
    },
    {
     "name": "stdout",
     "output_type": "stream",
     "text": [
      "Brand: Gigabyte \n",
      " Series: Gaming A5 \n",
      " Model: K1-AVN1030SB \n",
      " Processor: Ryzen 5 5600H \n",
      " Screen Size: 15.6 inches\n"
     ]
    },
    {
     "name": "stderr",
     "output_type": "stream",
     "text": [
      " 84%|████████▍ | 375/447 [10:19<01:32,  1.28s/it]"
     ]
    },
    {
     "name": "stdout",
     "output_type": "stream",
     "text": [
      "Brand: Lenovo \n",
      " Product Line: ThinkBook 14 G4 IAP \n",
      " Model Number: 21DH00BAVN \n",
      " Processor: Core i5-1235U \n",
      " Screen Size: 14.0 inches\n"
     ]
    },
    {
     "name": "stderr",
     "output_type": "stream",
     "text": [
      " 84%|████████▍ | 376/447 [10:21<01:27,  1.24s/it]"
     ]
    },
    {
     "name": "stdout",
     "output_type": "stream",
     "text": [
      "Brand: MSI \n",
      " Product Line: Gaming Cyborg 15 \n",
      " Model: A12UCX-618VN \n",
      " Processor: Intel Core i5-12450H \n",
      " Screen Size: 15.6 inches\n"
     ]
    },
    {
     "name": "stderr",
     "output_type": "stream",
     "text": [
      " 84%|████████▍ | 377/447 [10:22<01:30,  1.29s/it]"
     ]
    },
    {
     "name": "stdout",
     "output_type": "stream",
     "text": [
      "Brand: Acer \n",
      " Model: Aspire 7 Gaming A715-76G-55T6 \n",
      " Processor: i5 12450H \n",
      " Model Number: NH.QMYSV.003 \n",
      " Processor Type: Core i5 \n",
      " Screen Size: 15.6 inches\n"
     ]
    },
    {
     "name": "stderr",
     "output_type": "stream",
     "text": [
      " 85%|████████▍ | 378/447 [10:23<01:26,  1.25s/it]"
     ]
    },
    {
     "name": "stdout",
     "output_type": "stream",
     "text": [
      "Brand: HP \n",
      " Model: 15-fd0079TU \n",
      " Processor: Core i5-1335U \n",
      " Model Number: 8D732PA \n",
      " Processor Type: Core i5 \n",
      " Screen Size: 15.6 inches\n"
     ]
    },
    {
     "name": "stderr",
     "output_type": "stream",
     "text": [
      " 85%|████████▍ | 379/447 [10:24<01:28,  1.30s/it]"
     ]
    },
    {
     "name": "stdout",
     "output_type": "stream",
     "text": [
      "Brand: HP \n",
      " Model: 15s-fq5146TU \n",
      " Processor: Core i7 1255U \n",
      " Model Number: 7C0R9PA \n",
      " Processor Type: Core i7 \n",
      " Screen Size: 15.6 inches\n"
     ]
    },
    {
     "name": "stderr",
     "output_type": "stream",
     "text": [
      " 85%|████████▌ | 380/447 [10:26<01:25,  1.28s/it]"
     ]
    },
    {
     "name": "stdout",
     "output_type": "stream",
     "text": [
      "Brand: HP \n",
      " Model: 15s fq5160TU \n",
      " Processor: Core i5-1235U \n",
      " Model Number: 7C0S1PA \n",
      " Screen Size: 15.6 inches\n"
     ]
    },
    {
     "name": "stderr",
     "output_type": "stream",
     "text": [
      " 85%|████████▌ | 381/447 [10:27<01:26,  1.32s/it]"
     ]
    },
    {
     "name": "stdout",
     "output_type": "stream",
     "text": [
      "Brand: HP \n",
      " Model: 15s-fq5146TU \n",
      " Processor: Core i7 1255U \n",
      " Model Number: 7C0R9PA \n",
      " Processor Type: Core i7 \n",
      " Screen Size: 15.6 inches\n"
     ]
    },
    {
     "name": "stderr",
     "output_type": "stream",
     "text": [
      " 85%|████████▌ | 382/447 [10:29<01:31,  1.41s/it]"
     ]
    },
    {
     "name": "stdout",
     "output_type": "stream",
     "text": [
      "Brand: Acer \n",
      " Product Line: Nitro 5 Gaming \n",
      " Model: AN515-57-53F9 \n",
      " Processor: i5 11400H \n",
      " Model Number: NH.QENSV.008 \n",
      " Processor Type: Core i5 \n",
      " Screen Size: 15.6 inches\n"
     ]
    },
    {
     "name": "stderr",
     "output_type": "stream",
     "text": [
      " 86%|████████▌ | 383/447 [10:30<01:25,  1.33s/it]"
     ]
    },
    {
     "name": "stdout",
     "output_type": "stream",
     "text": [
      "Brand: Acer \n",
      " Product Line: Nitro Gaming AN515-57-54MV \n",
      " Model: NH.QENSV.003 \n",
      " Processor: Core i5 11400H \n",
      " Screen Size: 15.6 inches\n"
     ]
    },
    {
     "name": "stderr",
     "output_type": "stream",
     "text": [
      " 86%|████████▌ | 384/447 [10:32<01:29,  1.42s/it]"
     ]
    },
    {
     "name": "stdout",
     "output_type": "stream",
     "text": [
      "Brand: Acer \n",
      " Product Line: Nitro Gaming \n",
      " Model: AN515-57-5669 \n",
      " Processor: i5 11400H \n",
      " Model Number: NH.QEHSV.001 \n",
      " Processor Type: Core i5 \n",
      " Screen Size: 15.6 inches\n"
     ]
    },
    {
     "name": "stderr",
     "output_type": "stream",
     "text": [
      " 86%|████████▌ | 385/447 [10:33<01:30,  1.45s/it]"
     ]
    },
    {
     "name": "stdout",
     "output_type": "stream",
     "text": [
      "Brand: Acer \n",
      " Model: Aspire 7 A715-76-53PJ \n",
      " Processor: i5 12450H \n",
      " Model Number: NH.QGESV.007 \n",
      " Processor Type: Core i5 \n",
      " Screen Size: 15.6 inches\n"
     ]
    },
    {
     "name": "stderr",
     "output_type": "stream",
     "text": [
      " 86%|████████▋ | 386/447 [10:34<01:27,  1.44s/it]"
     ]
    },
    {
     "name": "stdout",
     "output_type": "stream",
     "text": [
      "Brand: VAIO \n",
      " Model: FE14 \n",
      " Processor: Core i5 1235U \n",
      " Model Number: VWNC51427-BK \n",
      " Screen Size: 14.0 inches\n"
     ]
    },
    {
     "name": "stderr",
     "output_type": "stream",
     "text": [
      " 87%|████████▋ | 387/447 [10:36<01:25,  1.42s/it]"
     ]
    },
    {
     "name": "stdout",
     "output_type": "stream",
     "text": [
      "Brand: Acer \n",
      " Product Line: Aspire Gaming A715-43G-R8GA \n",
      " Model: R5 5625U (NH.QHDSV.002) \n",
      " Processor: Ryzen 5 \n",
      " Screen Size: 15.6 inches\n"
     ]
    },
    {
     "name": "stderr",
     "output_type": "stream",
     "text": [
      " 87%|████████▋ | 388/447 [10:37<01:25,  1.45s/it]"
     ]
    },
    {
     "name": "stdout",
     "output_type": "stream",
     "text": [
      "Brand: Acer \n",
      " Model: Aspire 5 A515-58GM-53PZ \n",
      " Processor: i5 13420H (Core i5) \n",
      " Screen Size: 15.6 inches\n"
     ]
    },
    {
     "name": "stderr",
     "output_type": "stream",
     "text": [
      " 87%|████████▋ | 389/447 [10:40<01:47,  1.86s/it]"
     ]
    },
    {
     "name": "stdout",
     "output_type": "stream",
     "text": [
      "Brand: Acer \n",
      " Model: Swift Go SFG14-41-R19Z \n",
      " Processor: Ryzen 5 7530U \n",
      " Model Number: NX.KG3SV.001 \n",
      " Screen Size: 14 inches\n"
     ]
    },
    {
     "name": "stderr",
     "output_type": "stream",
     "text": [
      " 87%|████████▋ | 390/447 [10:42<01:41,  1.77s/it]"
     ]
    },
    {
     "name": "stdout",
     "output_type": "stream",
     "text": [
      "Brand: MSI \n",
      " Product Line: Gaming Cyborg \n",
      " Model: 15 A12UCX-281VN \n",
      " Processor: i5 12450H \n",
      " Processor Type: Core i5 \n",
      " Screen Size: 15.6 inches\n"
     ]
    },
    {
     "name": "stderr",
     "output_type": "stream",
     "text": [
      " 87%|████████▋ | 391/447 [10:43<01:32,  1.65s/it]"
     ]
    },
    {
     "name": "stdout",
     "output_type": "stream",
     "text": [
      "Brand: Lenovo \n",
      " Model: Ideapad Slim 5 Light 14ABR8 R7 7730U (82XS002JVN) \n",
      " Processor: Ryzen 7 \n",
      " Screen Size: 14.0 inches\n"
     ]
    },
    {
     "name": "stderr",
     "output_type": "stream",
     "text": [
      " 88%|████████▊ | 392/447 [10:45<01:27,  1.59s/it]"
     ]
    },
    {
     "name": "stdout",
     "output_type": "stream",
     "text": [
      "Brand: Asus \n",
      " Model: Vivobook A1503ZA-L1139W \n",
      " Processor: i5 12500H (Core i5) \n",
      " Screen Size: 15.6 inches\n"
     ]
    },
    {
     "name": "stderr",
     "output_type": "stream",
     "text": [
      " 88%|████████▊ | 393/447 [10:46<01:24,  1.57s/it]"
     ]
    },
    {
     "name": "stdout",
     "output_type": "stream",
     "text": [
      "Brand: Acer \n",
      " Series: Aspire 7 Gaming \n",
      " Model: A715-43G-R09Q \n",
      " Processor: Ryzen 5 5625U \n",
      " Model Number: NH.QHBSV.003 \n",
      " Screen Size: 15.6 inches\n"
     ]
    },
    {
     "name": "stderr",
     "output_type": "stream",
     "text": [
      " 88%|████████▊ | 394/447 [10:48<01:23,  1.57s/it]"
     ]
    },
    {
     "name": "stdout",
     "output_type": "stream",
     "text": [
      "Brand: Acer \n",
      " Model: Aspire 5 A515-58P-56RP \n",
      " Processor Model: i5 1335U \n",
      " Part Number: NX.KHJSV.008 \n",
      " Processor Type: Core i5 \n",
      " Screen Size: 15.6 inches\n"
     ]
    },
    {
     "name": "stderr",
     "output_type": "stream",
     "text": [
      " 88%|████████▊ | 395/447 [10:49<01:22,  1.60s/it]"
     ]
    },
    {
     "name": "stdout",
     "output_type": "stream",
     "text": [
      "Brand: HP \n",
      " Model: Pavilion 15-eg2083TU \n",
      " Processor: Core i5 1240P \n",
      " Model Number: 7C0W9PA \n",
      " Processor Type: Core i5 \n",
      " Screen Size: 15.6 inches\n"
     ]
    },
    {
     "name": "stderr",
     "output_type": "stream",
     "text": [
      " 89%|████████▊ | 396/447 [10:51<01:18,  1.55s/it]"
     ]
    },
    {
     "name": "stdout",
     "output_type": "stream",
     "text": [
      "Brand: Dell \n",
      " Model: Inspiron 15 N3520 i5 1235U (25P231) \n",
      " Processor Type: Core i5 \n",
      " Screen Size: 15.6 inches\n"
     ]
    },
    {
     "name": "stderr",
     "output_type": "stream",
     "text": [
      " 89%|████████▉ | 397/447 [10:52<01:14,  1.49s/it]"
     ]
    },
    {
     "name": "stdout",
     "output_type": "stream",
     "text": [
      "Brand: MSI \n",
      " Series: Modern 15 \n",
      " Model: B7M-238VN \n",
      " Processor: Ryzen 7 7730U \n",
      " Screen Size: 15.6 inches\n"
     ]
    },
    {
     "name": "stderr",
     "output_type": "stream",
     "text": [
      " 89%|████████▉ | 398/447 [10:53<01:10,  1.43s/it]"
     ]
    },
    {
     "name": "stdout",
     "output_type": "stream",
     "text": [
      "Brand: Asus \n",
      " Model: Vivobook M1605YA-MB303W \n",
      " Processor: Ryzen 7 7730U \n",
      " Processor Type: Ryzen 7 \n",
      " Screen Size: 16 inches\n"
     ]
    },
    {
     "name": "stderr",
     "output_type": "stream",
     "text": [
      " 89%|████████▉ | 399/447 [10:55<01:13,  1.53s/it]"
     ]
    },
    {
     "name": "stdout",
     "output_type": "stream",
     "text": [
      "Brand: Asus \n",
      " Model: Vivobook M3504YA-L1144W \n",
      " Processor: Ryzen 5 7530U \n",
      " Processor Type: Ryzen 5 \n",
      " Screen Size: 15.6 inches\n"
     ]
    },
    {
     "name": "stderr",
     "output_type": "stream",
     "text": [
      " 89%|████████▉ | 400/447 [10:57<01:14,  1.58s/it]"
     ]
    },
    {
     "name": "stdout",
     "output_type": "stream",
     "text": [
      "Brand: Asus \n",
      " Model: Vivobook X1605VA-MB105W \n",
      " Processor: Core i5-1335U \n",
      " Screen Size: 16 inches\n"
     ]
    },
    {
     "name": "stderr",
     "output_type": "stream",
     "text": [
      " 90%|████████▉ | 401/447 [10:58<01:07,  1.47s/it]"
     ]
    },
    {
     "name": "stdout",
     "output_type": "stream",
     "text": [
      "Brand: Dell \n",
      " Model: Inspiron 15 N3520 i5 1235U (N5I5122W1) \n",
      " Processor: Core i5 \n",
      " Processor Model: 1235U \n",
      " Screen Size: 15.6 inches\n"
     ]
    },
    {
     "name": "stderr",
     "output_type": "stream",
     "text": [
      " 90%|████████▉ | 402/447 [10:59<01:03,  1.41s/it]"
     ]
    },
    {
     "name": "stdout",
     "output_type": "stream",
     "text": [
      "Brand: MSI \n",
      " Product Line: Gaming GF63 Thin \n",
      " Model Number: 11SC-664VN \n",
      " Processor: i5 11400H \n",
      " Processor Type: Core i5 \n",
      " Screen Size: 15.6 inches\n"
     ]
    },
    {
     "name": "stderr",
     "output_type": "stream",
     "text": [
      " 90%|█████████ | 403/447 [11:01<00:59,  1.34s/it]"
     ]
    },
    {
     "name": "stdout",
     "output_type": "stream",
     "text": [
      "Brand: Lenovo \n",
      " Model: V14 G4 IRU i5 1335U (83A00010VN) \n",
      " Processor: Core i5 \n",
      " Screen Size: 14 inches\n"
     ]
    },
    {
     "name": "stderr",
     "output_type": "stream",
     "text": [
      " 90%|█████████ | 404/447 [11:02<01:04,  1.49s/it]"
     ]
    },
    {
     "name": "stdout",
     "output_type": "stream",
     "text": [
      "Brand: Acer \n",
      " Model: Aspire 5 A514-54-5127 \n",
      " Processor: i5 1135G7 \n",
      " Model Number: NX.A28SV.007 \n",
      " Processor Type: Core i5 \n",
      " Screen Size: 14.0 inches\n"
     ]
    },
    {
     "name": "stderr",
     "output_type": "stream",
     "text": [
      " 91%|█████████ | 405/447 [11:04<01:05,  1.56s/it]"
     ]
    },
    {
     "name": "stdout",
     "output_type": "stream",
     "text": [
      "Brand: Acer \n",
      " Model: Swift 3 SF314-511-55QE \n",
      " Processor: i5 1135G7 \n",
      " Model Number: NX.ABNSV.003 \n",
      " Processor Type: Core i5 \n",
      " Screen Size: 14.0 inches\n"
     ]
    },
    {
     "name": "stderr",
     "output_type": "stream",
     "text": [
      " 91%|█████████ | 406/447 [11:05<00:59,  1.46s/it]"
     ]
    },
    {
     "name": "stdout",
     "output_type": "stream",
     "text": [
      "Brand: Asus \n",
      " Model: Vivobook X1502ZA-BQ126W \n",
      " Processor: Core i5 1240P \n",
      " Processor Type: Intel Core i5 \n",
      " Screen Size: 15.6 inches\n"
     ]
    },
    {
     "name": "stderr",
     "output_type": "stream",
     "text": [
      " 91%|█████████ | 407/447 [11:06<00:52,  1.30s/it]"
     ]
    },
    {
     "name": "stdout",
     "output_type": "stream",
     "text": [
      "Brand: MSI \n",
      " Model: Modern 14 C13M-458VN \n",
      " Processor: Core i5 1335U \n",
      " Screen Size: 14 inches\n"
     ]
    },
    {
     "name": "stderr",
     "output_type": "stream",
     "text": [
      " 91%|█████████▏| 408/447 [11:08<00:51,  1.32s/it]"
     ]
    },
    {
     "name": "stdout",
     "output_type": "stream",
     "text": [
      "Brand: Lenovo \n",
      " Model: V15 G4 IAH i5 12500H (83FS0032VN) \n",
      " Processor: Core i5 \n",
      " Processor Model: i5 12500H \n",
      " Screen Size: 15.6 inches\n"
     ]
    },
    {
     "name": "stderr",
     "output_type": "stream",
     "text": [
      " 91%|█████████▏| 409/447 [11:09<00:53,  1.40s/it]"
     ]
    },
    {
     "name": "stdout",
     "output_type": "stream",
     "text": [
      "Brand: Acer \n",
      " Model: Swift 3 SF314-43-R4X3 \n",
      " Processor: Ryzen 5 5500U \n",
      " Model Number: NX.AB1SV.004 \n",
      " Screen Size: 14.0 inches\n"
     ]
    },
    {
     "name": "stderr",
     "output_type": "stream",
     "text": [
      " 92%|█████████▏| 410/447 [11:11<00:51,  1.38s/it]"
     ]
    },
    {
     "name": "stdout",
     "output_type": "stream",
     "text": [
      "Brand: Lenovo \n",
      " Model: IdeaPad 3 15ITL6 \n",
      " Processor: i5 1155G7 \n",
      " Model Number: 82H803RWVN \n",
      " Processor Type: Core i5 \n",
      " Screen Size: 15.6 inches\n"
     ]
    },
    {
     "name": "stderr",
     "output_type": "stream",
     "text": [
      " 92%|█████████▏| 411/447 [11:12<00:49,  1.38s/it]"
     ]
    },
    {
     "name": "stdout",
     "output_type": "stream",
     "text": [
      "Brand: Acer \n",
      " Model: Aspire 3 A315-59-51X8 \n",
      " Processor: Core i5 1235U \n",
      " Model Number: NX.K6TSV.00F \n",
      " Screen Size: 15.6 inches\n"
     ]
    },
    {
     "name": "stderr",
     "output_type": "stream",
     "text": [
      " 92%|█████████▏| 412/447 [11:13<00:45,  1.30s/it]"
     ]
    },
    {
     "name": "stdout",
     "output_type": "stream",
     "text": [
      "Brand: MSI \n",
      " Model: Modern 15 B13M-438VN \n",
      " Processor: Core i5-1335U \n",
      " Processor Brand: Intel \n",
      " Screen Size: 15.6 inches\n"
     ]
    },
    {
     "name": "stderr",
     "output_type": "stream",
     "text": [
      " 92%|█████████▏| 413/447 [11:14<00:42,  1.26s/it]"
     ]
    },
    {
     "name": "stdout",
     "output_type": "stream",
     "text": [
      "Brand: MSI \n",
      " Series: Modern 15 \n",
      " Model: B7M-231VN \n",
      " Processor: Ryzen 5 7530U \n",
      " Screen Size: 15.6 inches\n"
     ]
    },
    {
     "name": "stderr",
     "output_type": "stream",
     "text": [
      " 93%|█████████▎| 414/447 [11:15<00:41,  1.26s/it]"
     ]
    },
    {
     "name": "stdout",
     "output_type": "stream",
     "text": [
      "Brand: Lenovo \n",
      " Model: Ideapad 1 - 14ALC7 R7 5700U (82R30077VN) \n",
      " Processor: Ryzen 7 \n",
      " Screen Size: 14 inches\n"
     ]
    },
    {
     "name": "stderr",
     "output_type": "stream",
     "text": [
      " 93%|█████████▎| 415/447 [11:17<00:44,  1.41s/it]"
     ]
    },
    {
     "name": "stdout",
     "output_type": "stream",
     "text": [
      "Brand: Acer \n",
      " Model: Aspire 3 A314-23M-R4TX \n",
      " Processor: Ryzen 5 7520U \n",
      " Model Number: NX.KEXSV.001 \n",
      " Screen Size: 14.0 inches\n"
     ]
    },
    {
     "name": "stderr",
     "output_type": "stream",
     "text": [
      " 93%|█████████▎| 416/447 [11:19<00:44,  1.43s/it]"
     ]
    },
    {
     "name": "stdout",
     "output_type": "stream",
     "text": [
      "Brand: Acer \n",
      " Model: Aspire 3 A315-58-54M5 \n",
      " Processor: i5 1135G7 \n",
      " Model Number: NX.ADDSV.00M \n",
      " Processor Type: Core i5 \n",
      " Screen Size: 15.6 inches\n"
     ]
    },
    {
     "name": "stderr",
     "output_type": "stream",
     "text": [
      " 93%|█████████▎| 417/447 [11:20<00:39,  1.31s/it]"
     ]
    },
    {
     "name": "stdout",
     "output_type": "stream",
     "text": [
      "Brand: MSI \n",
      " Model: Modern 15 B7M-098VN \n",
      " Processor: Ryzen 7 7730U \n",
      " Screen Size: 15.6 inches\n"
     ]
    },
    {
     "name": "stderr",
     "output_type": "stream",
     "text": [
      " 94%|█████████▎| 418/447 [11:21<00:39,  1.37s/it]"
     ]
    },
    {
     "name": "stdout",
     "output_type": "stream",
     "text": [
      "Brand: Acer \n",
      " Model: Aspire 5 A515-58P-351N \n",
      " Processor: i3 1305U \n",
      " Model Number: NX.KHJSV.007 \n",
      " Processor Type: Core i3 \n",
      " Screen Size: 15.6 inches\n"
     ]
    },
    {
     "name": "stderr",
     "output_type": "stream",
     "text": [
      " 94%|█████████▎| 419/447 [11:22<00:35,  1.28s/it]"
     ]
    },
    {
     "name": "stdout",
     "output_type": "stream",
     "text": [
      "Brand: Huawei \n",
      " Model: MateBook D14 BE \n",
      " Processor: Core i3 1215U \n",
      " Processor Type: Intel Core i3 \n",
      " Screen Size: 14.0 inches\n"
     ]
    },
    {
     "name": "stderr",
     "output_type": "stream",
     "text": [
      " 94%|█████████▍| 420/447 [11:24<00:36,  1.34s/it]"
     ]
    },
    {
     "name": "stdout",
     "output_type": "stream",
     "text": [
      "Brand: HP \n",
      " Model: 15s-fq5230TU \n",
      " Processor: Core i3-1215U \n",
      " Model Number: 8U238PA \n",
      " Processor Type: Core i3 \n",
      " Screen Size: 15.6 inches\n"
     ]
    },
    {
     "name": "stderr",
     "output_type": "stream",
     "text": [
      " 94%|█████████▍| 421/447 [11:25<00:33,  1.29s/it]"
     ]
    },
    {
     "name": "stdout",
     "output_type": "stream",
     "text": [
      "Brand: HP \n",
      " Model: 245 G9 R5 5625U (6L1N8PA) \n",
      " Processor: Ryzen 5 \n",
      " Screen Size: 14.0 inches\n"
     ]
    },
    {
     "name": "stderr",
     "output_type": "stream",
     "text": [
      " 94%|█████████▍| 422/447 [11:26<00:32,  1.30s/it]"
     ]
    },
    {
     "name": "stdout",
     "output_type": "stream",
     "text": [
      "Brand: Asus \n",
      " Model: Vivobook X1404ZA-NK075W \n",
      " Processor: Core i3 1215U \n",
      " Processor Type: Intel Core i3 \n",
      " Screen Size: 14.0 inches\n"
     ]
    },
    {
     "name": "stderr",
     "output_type": "stream",
     "text": [
      " 95%|█████████▍| 423/447 [11:28<00:30,  1.29s/it]"
     ]
    },
    {
     "name": "stdout",
     "output_type": "stream",
     "text": [
      "Brand: Asus \n",
      " Model: Vivobook E1504FA-NJ426W \n",
      " Processor: Ryzen 3 7320U \n",
      " Screen Size: 15.6 inches\n"
     ]
    },
    {
     "name": "stderr",
     "output_type": "stream",
     "text": [
      " 95%|█████████▍| 424/447 [11:29<00:30,  1.33s/it]"
     ]
    },
    {
     "name": "stdout",
     "output_type": "stream",
     "text": [
      "Brand: HP \n",
      " Model: 14s-em0080AU \n",
      " Processor: Ryzen 3 7320U \n",
      " Model Number: 80R30PA \n",
      " Screen Size: 14.0 inches\n"
     ]
    },
    {
     "name": "stderr",
     "output_type": "stream",
     "text": [
      " 95%|█████████▌| 425/447 [11:31<00:32,  1.47s/it]"
     ]
    },
    {
     "name": "stdout",
     "output_type": "stream",
     "text": [
      "Brand: HP \n",
      " Model: 15s-fq2712TU \n",
      " Processor: Core i3 1115G4 \n",
      " Model Number: 7C0X2PA \n",
      " Processor Type: Core i3 \n",
      " Screen Size: 15.6 inches\n"
     ]
    },
    {
     "name": "stderr",
     "output_type": "stream",
     "text": [
      " 95%|█████████▌| 426/447 [11:32<00:30,  1.44s/it]"
     ]
    },
    {
     "name": "stdout",
     "output_type": "stream",
     "text": [
      "Brand: Asus \n",
      " Product Line: ROG Strix SCAR 18 \n",
      " Model Number: G834JYR-R6011W \n",
      " Processor: i9-14900HX \n",
      " Processor Type: Core i9 \n",
      " Screen Size: 18 inches\n"
     ]
    },
    {
     "name": "stderr",
     "output_type": "stream",
     "text": [
      " 96%|█████████▌| 427/447 [11:34<00:28,  1.45s/it]"
     ]
    },
    {
     "name": "stdout",
     "output_type": "stream",
     "text": [
      "Brand: MacBook \n",
      " Model: Pro 16 \n",
      " Year: 2023 \n",
      " Processor: M3 Max 16 CPU \n",
      " Graphics: 40 GPU \n",
      " RAM: 48GB \n",
      " Storage: 1TB \n",
      " Screen Size: 16.2 inches\n"
     ]
    },
    {
     "name": "stderr",
     "output_type": "stream",
     "text": [
      " 96%|█████████▌| 428/447 [11:35<00:27,  1.45s/it]"
     ]
    },
    {
     "name": "stdout",
     "output_type": "stream",
     "text": [
      "Brand: Asus \n",
      " Series: ROG Strix SCAR 16 \n",
      " Model: G634JZR-NM009W \n",
      " Processor: i9-14900HX \n",
      " Processor Type: Core i9 \n",
      " Screen Size: 16 inches\n"
     ]
    },
    {
     "name": "stderr",
     "output_type": "stream",
     "text": [
      " 96%|█████████▌| 429/447 [11:36<00:26,  1.45s/it]"
     ]
    },
    {
     "name": "stdout",
     "output_type": "stream",
     "text": [
      "Brand: MacBook Pro \n",
      " Model: 16 \n",
      " Year: 2023 \n",
      " Processor: M3 Max 14 CPU \n",
      " Graphics: M3 Max 30 GPU \n",
      " RAM: 36GB \n",
      " Storage: 1TB \n",
      " Screen Size: 16.2 inches\n"
     ]
    },
    {
     "name": "stderr",
     "output_type": "stream",
     "text": [
      " 96%|█████████▌| 430/447 [11:38<00:24,  1.42s/it]"
     ]
    },
    {
     "name": "stdout",
     "output_type": "stream",
     "text": [
      "Brand: MacBook Pro \n",
      " Model: 14 \n",
      " Year: 2023 \n",
      " Processor: M3 Max 14 CPU \n",
      " Graphics: 30 GPU \n",
      " RAM: 36GB \n",
      " Storage: 1TB \n",
      " Screen Size: 14.2 inches\n"
     ]
    },
    {
     "name": "stderr",
     "output_type": "stream",
     "text": [
      " 96%|█████████▋| 431/447 [11:39<00:21,  1.36s/it]"
     ]
    },
    {
     "name": "stdout",
     "output_type": "stream",
     "text": [
      "Brand: Asus \n",
      " Product Line: Gaming ROG Zephyrus \n",
      " Model: G16 GU605MI-QR116W \n",
      " Processor: Core Ultra 9 \n",
      " Screen Size: 16 inches\n"
     ]
    },
    {
     "name": "stderr",
     "output_type": "stream",
     "text": [
      " 97%|█████████▋| 432/447 [11:40<00:20,  1.38s/it]"
     ]
    },
    {
     "name": "stdout",
     "output_type": "stream",
     "text": [
      "Brand: MacBook \n",
      " Model: Pro 16 \n",
      " Year: 2023 \n",
      " Processor: M3 Pro 12 CPU \n",
      " Graphics: M3 Pro 18 GPU \n",
      " RAM: 36GB \n",
      " Storage: 512GB \n",
      " Screen Size: 16.2 inches\n"
     ]
    },
    {
     "name": "stderr",
     "output_type": "stream",
     "text": [
      " 97%|█████████▋| 433/447 [11:42<00:18,  1.34s/it]"
     ]
    },
    {
     "name": "stdout",
     "output_type": "stream",
     "text": [
      "Brand: Asus \n",
      " Series: ROG Strix G18 \n",
      " Model: G814JIR-N6007W \n",
      " Processor: i9-14900HX \n",
      " Processor Type: Core i9 \n",
      " Screen Size: 18 inches\n"
     ]
    },
    {
     "name": "stderr",
     "output_type": "stream",
     "text": [
      " 97%|█████████▋| 434/447 [11:43<00:17,  1.32s/it]"
     ]
    },
    {
     "name": "stdout",
     "output_type": "stream",
     "text": [
      "Brand: Asus \n",
      " Product Line: Gaming ROG Zephyrus \n",
      " Model: G16 GU605MV-QR135W \n",
      " Screen Size: 16 inches \n",
      " Processor: Core Ultra 9-185H\n"
     ]
    },
    {
     "name": "stderr",
     "output_type": "stream",
     "text": [
      " 97%|█████████▋| 435/447 [11:44<00:16,  1.36s/it]"
     ]
    },
    {
     "name": "stdout",
     "output_type": "stream",
     "text": [
      "Brand: Asus \n",
      " Product Line: Gaming ROG Zephyrus G14 \n",
      " Model: GA403UU-QS101W \n",
      " Processor: Ryzen 9 \n",
      " Processor Model: R9-8945HS \n",
      " Screen Size: 16 inches\n"
     ]
    },
    {
     "name": "stderr",
     "output_type": "stream",
     "text": [
      " 98%|█████████▊| 436/447 [11:46<00:14,  1.31s/it]"
     ]
    },
    {
     "name": "stdout",
     "output_type": "stream",
     "text": [
      "Brand: Lenovo \n",
      " Series: Legion Pro 5 16IRX9 \n",
      " Model Number: 83DF0047VN \n",
      " Processor: Core i9 \n",
      " Screen Size: 16 inches\n"
     ]
    },
    {
     "name": "stderr",
     "output_type": "stream",
     "text": [
      " 98%|█████████▊| 437/447 [11:47<00:13,  1.31s/it]"
     ]
    },
    {
     "name": "stdout",
     "output_type": "stream",
     "text": [
      "Brand: Lenovo \n",
      " Product Line: Legion 5 \n",
      " Model: 16IRX9 i7-14650HX (83DG004YVN) \n",
      " Processor: Core i7 \n",
      " Screen Size: 16 inches\n"
     ]
    },
    {
     "name": "stderr",
     "output_type": "stream",
     "text": [
      " 98%|█████████▊| 438/447 [11:48<00:11,  1.31s/it]"
     ]
    },
    {
     "name": "stdout",
     "output_type": "stream",
     "text": [
      "Brand: Asus \n",
      " Series: TUF Gaming \n",
      " Model: FA507NU-LP131W \n",
      " Processor: Ryzen 5 7535HS \n",
      " Screen Size: 15.6 inches\n"
     ]
    },
    {
     "name": "stderr",
     "output_type": "stream",
     "text": [
      " 98%|█████████▊| 439/447 [11:50<00:11,  1.38s/it]"
     ]
    },
    {
     "name": "stdout",
     "output_type": "stream",
     "text": [
      "Brand: Asus \n",
      " Model: Zenbook 14 OLED UM3402YA-KM405W \n",
      " Processor: R5-7530U (Ryzen 5) \n",
      " Screen Size: 14 inches\n"
     ]
    },
    {
     "name": "stderr",
     "output_type": "stream",
     "text": [
      " 98%|█████████▊| 440/447 [11:51<00:09,  1.34s/it]"
     ]
    },
    {
     "name": "stdout",
     "output_type": "stream",
     "text": [
      "Brand: Asus \n",
      " Model: Vivobook A1505VA-L1201W \n",
      " Processor: i9 13900H (Core i9) \n",
      " Screen Size: 15.6 inches\n"
     ]
    },
    {
     "name": "stderr",
     "output_type": "stream",
     "text": [
      " 99%|█████████▊| 441/447 [11:52<00:07,  1.28s/it]"
     ]
    },
    {
     "name": "stdout",
     "output_type": "stream",
     "text": [
      "Brand: ASUS \n",
      " Model: Zenbook 14 OLED UM3402YA-KM826W \n",
      " Processor: R5-7430U (Ryzen 5) \n",
      " Screen Size: 14 inches\n"
     ]
    },
    {
     "name": "stderr",
     "output_type": "stream",
     "text": [
      " 99%|█████████▉| 442/447 [11:53<00:06,  1.25s/it]"
     ]
    },
    {
     "name": "stdout",
     "output_type": "stream",
     "text": [
      "Brand: Asus \n",
      " Product Line: TUF Gaming \n",
      " Model: FA506NC-HN011W \n",
      " Processor: Ryzen 5-7535HS \n",
      " Screen Size: 15.6 inches\n"
     ]
    },
    {
     "name": "stderr",
     "output_type": "stream",
     "text": [
      " 99%|█████████▉| 443/447 [11:55<00:05,  1.37s/it]"
     ]
    },
    {
     "name": "stdout",
     "output_type": "stream",
     "text": [
      "Brand: Asus \n",
      " Series: TUF Gaming A15 \n",
      " Model: FA506NF-HN012W \n",
      " Processor: Ryzen 5 7535HS \n",
      " Screen Size: 15.6 inches\n"
     ]
    },
    {
     "name": "stderr",
     "output_type": "stream",
     "text": [
      " 99%|█████████▉| 444/447 [11:56<00:03,  1.33s/it]"
     ]
    },
    {
     "name": "stdout",
     "output_type": "stream",
     "text": [
      "Brand: MSI \n",
      " Model: Modern 15 B12MO-487VN \n",
      " Processor: Core i7 1255U \n",
      " Processor Brand: Intel \n",
      " Screen Size: 15.6 inches\n"
     ]
    },
    {
     "name": "stderr",
     "output_type": "stream",
     "text": [
      "100%|█████████▉| 445/447 [11:58<00:02,  1.44s/it]"
     ]
    },
    {
     "name": "stdout",
     "output_type": "stream",
     "text": [
      "Brand: Lenovo \n",
      " Model: Ideapad Flex 5 14ALC7 R7 5700U (82R900ECVN) \n",
      " Processor: Ryzen 7 \n",
      " Screen Size: 14 inches\n"
     ]
    },
    {
     "name": "stderr",
     "output_type": "stream",
     "text": [
      "100%|█████████▉| 446/447 [11:59<00:01,  1.42s/it]"
     ]
    },
    {
     "name": "stdout",
     "output_type": "stream",
     "text": [
      "Brand: Lenovo \n",
      " Model: IdeaPad Slim 3 14IAH8 \n",
      " Model Number: 83EQ0009VN \n",
      " Processor: Core i5-12450H \n",
      " Screen Size: 14 inches\n"
     ]
    },
    {
     "name": "stderr",
     "output_type": "stream",
     "text": [
      "100%|██████████| 447/447 [12:01<00:00,  1.61s/it]"
     ]
    },
    {
     "name": "stdout",
     "output_type": "stream",
     "text": [
      "Brand: Lenovo \n",
      " Model: Ideapad Flex 5 14ALC7 R5 5500U (82R900EDVN) \n",
      " Processor: Ryzen 5 \n",
      " Screen Size: 14 inches\n",
      "Total Tokens: 187000\n"
     ]
    },
    {
     "name": "stderr",
     "output_type": "stream",
     "text": [
      "\n"
     ]
    }
   ],
   "source": [
    "# General task prefix\n",
    "from tqdm import tqdm\n",
    "from langchain.callbacks import get_openai_callback\n",
    "\n",
    "with get_openai_callback() as cb:\n",
    "    preds = [select_and_run_llm(example['human_0'], example['system_0'], example['input']) for example in tqdm(task_dict['examples'])]\n",
    "    \n",
    "    task_dict['total_tokens'] = cb.total_tokens\n",
    "    print(f\"Total Tokens: {cb.total_tokens}\")"
   ]
  },
  {
   "cell_type": "code",
   "execution_count": 12,
   "id": "4bc2cb3d",
   "metadata": {},
   "outputs": [
    {
     "name": "stdout",
     "output_type": "stream",
     "text": [
      "[{'Brand': 'HP', 'Model': '15s fq5229TU', 'Processor': 'Intel Core i3 1215U', 'Model Number': '8U237PA', 'Graphics': 'Intel UHD', 'Screen Size': '15.6 inches', 'Processor Speed': '1.2GHz'}, {'Brand': 'HP', 'Model': '240 G9', 'Processor': 'Intel Core i3-1215U', 'Graphics': 'Intel UHD', 'Screen Size': '14 inches', 'Processor Speed': '1.2GHz', 'Model Number': '6L1X7PA'}, {'Brand': 'HP', 'Series': 'Pavilion', 'Model': '15 eg2081TU', 'Processor': 'Intel Core i5 1240P', 'Graphics': 'Intel Iris Xe', 'Screen Size': '15.6 inches', 'Processor Speed': '1.7GHz'}, {'Brand': 'HP', 'Model': '245 G10 R5 7520U (8F155PA)', 'Processor': 'AMD Ryzen 5 7520U', 'Graphics': 'Radeon', 'Screen Size': '14 inches', 'Processor Speed': '2.8GHz'}, {'Brand': 'HP', 'Series': 'Pavilion 14 dv2073TU', 'Model': 'i5 1235U (7C0P2PA)', 'Processor Brand': 'Intel', 'Processor Model': 'i5 1235U', 'Graphics': 'Intel Iris Xe', 'Screen Size': '14 inches', 'Processor Speed': '1.3GHz'}, {'Brand': 'HP', 'Model': '240 G9', 'Processor': 'Intel Core i5-1235U', 'Model Number': '6L1Y2PA', 'Graphics': 'Intel UHD', 'Screen Size': '14 inches', 'Processor Speed': '1.3GHz'}, {'Brand': 'HP', 'Model': '15s fq5162TU', 'Processor': 'Intel Core i5-1235U', 'Graphics': 'Intel Iris Xe', 'Screen Size': '15.6 inches', 'Processor Speed': '1.3GHz'}, {'Brand': 'HP', 'Series': 'Pavilion', 'Model': '15 eg2082TU', 'Processor': 'Intel Core i5 1240P', 'Graphics': 'Intel Iris Xe', 'Screen Size': '15.6 inches', 'Processor Speed': '1.7GHz'}, {'Brand': 'HP', 'Model': '15s fq5147TU', 'Processor': 'i7 1255U', 'Model Number': '7C133PA', 'Graphics': 'Intel Iris Xe', 'Screen Size': '15.6 inches', 'Processor Speed': '1.7GHz'}, {'Brand': 'HP', 'Series': 'Pavilion', 'Model': '14 dv2074TU', 'Processor': 'Intel Core i5-1235U', 'Graphics': 'Intel Iris Xe', 'Screen Size': '14 inches', 'Processor Speed': '1.3GHz'}, {'Brand': 'HP', 'Series': 'Gaming VICTUS 15', 'Model': 'fa1139TX', 'Processor': 'i5 12450H', 'Model Number': '8Y6W3PA', 'Graphics Card': 'RTX 2050 4GB', 'Screen Size': '15.6 inches', 'Processor Speed': '2GHz'}, {'Brand': 'HP', 'Model': '14 ep0126TU', 'Processor': 'Intel Core i3 N305', 'Model Number': '8U233PA', 'Graphics': 'Intel UHD', 'Screen Size': '14 inches', 'Processor Speed': '1.8GHz'}, {'Brand': 'HP', 'Series': 'Pavilion', 'Model': '15 eg2088TU', 'Processor': 'i7 1260P', 'Part Number': '7C0R0PA', 'Graphics': 'Intel Iris Xe', 'Screen Size': '15.6 inches', 'Processor Speed': '2.1GHz'}, {'Brand': 'HP', 'Series': 'Gaming VICTUS', 'Model': '15 fb1022AX', 'Processor': 'R5 7535HS', 'Model Number': '94F19PA', 'Graphics Card': 'RTX 2050 4GB', 'Screen Size': '15.6 inches', 'Processor Speed': '3.3GHz'}, {'Brand': 'HP', 'Model': '240 G9', 'Processor': 'Intel Core i5-1235U', 'Model Number': '6L1Y1PA', 'Graphics': 'Intel UHD', 'Screen Size': '14 inches', 'Processor Speed': '1.3GHz'}, {'Brand': 'HP', 'Model': '15s fq2716TU', 'Processor': 'Intel Core i3 1115G4', 'Graphics': 'Intel UHD', 'Screen Size': '15.6 inches', 'Processor Speed': '3GHz', 'Model Number': '7C0X3PA'}, {'Brand': 'HP', 'Model': 'Envy X360 13 bf0090TU', 'Processor': 'Intel Core i7-1250U', 'Graphics': 'Intel Iris Xe', 'Screen Size': '13.3 inches', 'Processor Speed': '1.1GHz'}, {'Brand': 'HP', 'Series': 'Pavilion X360', 'Model': '14 ek1047TU', 'Processor': 'i7 1355U', 'Part Number': '80R25PA', 'Graphics': 'Intel Iris Xe', 'Screen Size': '14 inches', 'Processor Speed': '1.7GHz'}, {'Brand': 'HP', 'Series': 'Pavilion', 'Model': '15 eg3091TU', 'Processor': 'i7 1355U', 'Part Number': '8C5L2PA', 'Graphics': 'Intel Iris Xe', 'Screen Size': '15.6 inches', 'Processor Speed': '1.7GHz'}, {'Brand': 'HP', 'Series': 'Pavilion X360', 'Model': '14 ek1048TU', 'Processor': 'Intel Core i5-1335U', 'Graphics': 'Intel Iris Xe', 'Screen Size': '14 inches', 'Processor Speed': '1.3GHz'}, {'Brand': 'HP', 'Model': 'Envy X360 13 bf0112TU', 'Processor': 'Intel Core i5 1230U', 'Graphics': 'Intel Iris Xe', 'Screen Size': '13.3 inches', 'Processor Speed': '1.00 GHz'}, {'Brand': 'HP', 'Series': 'Pavilion X360', 'Model': '14 ek1049TU', 'Processor': 'Intel Core i5-1335U', 'Graphics': 'Intel Iris Xe', 'Screen Size': '14 inches', 'Processor Speed': '1.3GHz', 'Model Number': '80R27PA'}, {'Brand': 'HP', 'Series': 'Pavilion', 'Model': '15 eg3093TU', 'Processor': 'i5 1335U', 'Part Number': '8C5L4PA', 'Graphics': 'Intel Iris Xe', 'Screen Size': '15.6 inches', 'Processor Speed': '1.3GHz'}, {'Brand': 'HP', 'Series': 'Pavilion 15', 'Model': 'eg3095TU', 'Processor': 'i5 1335U', 'Part Number': '8C5L6PA', 'Graphics': 'Intel Iris Xe', 'Screen Size': '15.6 inches', 'Processor Speed': '1.3GHz'}, {'Brand': 'HP', 'Series': 'Pavilion', 'Model': '15 eg2062TX', 'Processor': 'i5 1235U', 'Part Number': '7C0W7PA', 'Graphics Card': 'MX550 2GB', 'Screen Size': '15.6 inches', 'Processor Speed': '1.3GHz'}, {'Brand': 'HP', 'Model': '240 G10', 'Processor': 'Intel Core i5-1335U', 'Model Number': '8F134PA', 'Graphics': 'Intel UHD', 'Screen Size': '14 inches', 'Processor Speed': '1.3GHz'}, {'Brand': 'HP', 'Series': 'Elitebook 630 G9', 'Model': 'i5 1235U (6M143PA)', 'Processor Brand': 'Intel', 'Graphics': 'Intel UHD', 'Screen Size': '13.3 inches', 'Processor Speed': '1.3GHz'}, {'Brand': 'HP', 'Series': 'Gaming VICTUS 16 s0077AX', 'Model Number': '8C5N6PA', 'Processor': 'R7 7840HS', 'Graphics Card': 'RTX 3050 6GB', 'Screen Size': '16.1 inches', 'Processor Speed': '3.8GHz'}, {'Brand': 'HP', 'Series': 'Gaming VICTUS', 'Model': '16 e1106AX', 'Processor': 'AMD Ryzen 5 6600H', 'Model Number': '7C0T1PA', 'Graphics Card': 'NVIDIA GeForce RTX 3050Ti (4GB)', 'Screen Size': '16.1 inches', 'Processor Speed': '3.3GHz'}, {'Brand': 'HP', 'Model': 'Pavilion 15 eg2086TU', 'Processor': 'Intel Core i3 1215U', 'Model Number': '7C0Q8PA', 'Graphics': 'Intel UHD', 'Screen Size': '15.6 inches', 'Processor Speed': '1.2GHz'}, {'Brand': 'HP', 'Series': 'Gaming VICTUS 15', 'Model': 'fa0155TX', 'Processor': 'i5 12450H', 'Model Number': '81P00PA', 'Graphics Card': 'RTX 3050 4GB', 'Screen Size': '15.6 inches', 'Processor Speed': '2GHz'}, {'Brand': 'HP', 'Model': '240 G10', 'Processor': 'Intel Core i5-1335U', 'Model Number': '8F136PA', 'Graphics': 'Intel UHD', 'Screen Size': '14 inches', 'Processor Speed': '1.3GHz'}, {'Brand': 'HP', 'Model': '245 G9 R5 5625U (6L1N9PA)', 'Processor': 'AMD Ryzen 5 5625U', 'Graphics': 'Radeon', 'Screen Size': '14 inches', 'Processor Speed': '2.30 GHz'}, {'Brand': 'HP', 'Model': 'OMEN 16 xf0070AX R9 7940HS (8W945PA)', 'Graphics Card': 'RTX 4070 8GB', 'Screen Size': '16.1 inches', 'Processor': '4GHz'}, {'Brand': 'HP', 'Series': 'OMEN 16 xf0071AX', 'Model Number': 'R7 7840HS (8W946PA)', 'Graphics Card': 'RTX 4060 8GB', 'Screen Size': '16.1 inches', 'Processor Speed': '3.8GHz'}, {'Brand': 'HP', 'Model': 'Envy 16 h0205TX', 'Processor': 'i9 12900H', 'Model Number': '7C0T2PA', 'Graphics Card': 'RTX 3060 (6GB)', 'Screen Size': '16 inches', 'Processor Speed': '2.5GHz'}, {'Brand': 'HP', 'Model': 'Envy 16 h0207TX', 'Processor': 'i7 12700H', 'Model Number': '7C0T4PA', 'Graphics Card': 'RTX 3060 6GB', 'Screen Size': '16 inches', 'Processor Speed': '2.30 GHz'}, {'Brand': 'HP', 'Model': 'Elitebook Dragonfly G3', 'Processor': 'i7 1255U', 'Graphics': 'Intel Iris Xe', 'Screen Size': '13.5 inches', 'Processor Speed': '1.7GHz'}, {'Brand': 'HP', 'Series': 'Gaming VICTUS 16 s0138AX', 'Model Number': '9Q985PA', 'Processor': 'R7 7840HS', 'Graphics Card': 'RTX 4070 8GB', 'Screen Size': '16.1 inches', 'Processor Speed': '3.8GHz'}, {'Brand': 'HP', 'Model': 'Omen 16 n0087AX R7 6800H (7C0T7PA)', 'Graphics Card': 'RTX 3060 6GB', 'Screen Size': '16.1 inches', 'Processor Speed': '3.2GHz'}, {'Brand': 'HP', 'Series': 'Elitebook X360 1040 G9', 'Model': 'i7 1255U (6Z982PA)', 'Graphics': 'Intel Iris Xe', 'Screen Size': '14 inches', 'Processor Speed': '1.7GHz'}, {'Brand': 'HP', 'Product Line': 'Gaming VICTUS', 'Model': '16 s0139AX R7 7840HS (9Q986PA)', 'Graphics Card': 'RTX 4060 8GB', 'Screen Size': '16.1 inches', 'Processor Speed': '3.8GHz'}, {'Brand': 'HP', 'Series': 'Gaming VICTUS 16 r0227TX', 'Model': 'i5 13500H (9Q978PA)', 'Graphics Card': 'RTX 4060 8GB', 'Screen Size': '16.1 inches', 'Processor Speed': '2.6GHz'}, {'Brand': 'HP', 'Series': 'Gaming VICTUS 16 r0228TX', 'Model': 'i5 13500H (9Q979PA)', 'Graphics Card': 'RTX 4050 6GB', 'Screen Size': '16.1 inches', 'Processor Speed': '2.6GHz'}, {'Brand': 'HP', 'Series': 'Elitebook 630 G10', 'Model': 'i7 1355U (9J0B7PT)', 'Processor Brand': 'Intel', 'Graphics': 'Intel UHD', 'Screen Size': '13.3 inches', 'Processor Speed': '1.7GHz'}, {'Brand': 'HP', 'Series': 'Elitebook 630 G10', 'Model': 'i7 1355U (873F2PA)', 'Processor Brand': 'Intel', 'Processor Model': 'i7 1355U', 'Graphics': 'Intel UHD', 'Screen Size': '13.3 inches', 'Processor Speed': '1.7GHz'}, {'Brand': 'HP', 'Series': 'Elitebook 630 G10', 'Model': 'i5 1335U (9J0B5PT)', 'Processor Brand': 'Intel', 'Graphics': 'Intel UHD', 'Screen Size': '13.3 inches', 'Processor Speed': '1.3GHz'}, {'Brand': 'HP', 'Model': 'Probook 450 G10', 'Processor': 'Intel Core i7-1355U', 'Graphics': 'Intel UHD', 'Screen Size': '15.6 inches', 'Processor Speed': '1.7GHz'}, {'Brand': 'HP', 'Series': 'Pavilion X360', 'Model': '14 ek0132TU', 'Processor': 'Intel Core i7-1255U', 'Graphics': 'Intel Iris Xe', 'Screen Size': '14 inches', 'Processor Speed': '1.7GHz'}, {'Brand': 'HP', 'Series': 'Pavilion', 'Model': '15 eg3035TX', 'Processor': 'i7 1355U', 'Part Number': '8U6L7PA', 'Graphics Card': 'MX550 2GB', 'Screen Size': '15.6 inches', 'Processor Speed': '1.7GHz'}, {'Brand': 'HP', 'Series': 'Pavilion', 'Model': '15 eg2034TX', 'Processor': 'i7 1255U', 'Part Number': '6K780PA', 'Graphics Card': 'MX550 2GB', 'Screen Size': '15.6 inches', 'Processor Speed': '1.7GHz'}, {'Brand': 'HP', 'Series': 'Pavilion 14 dv2071TU', 'Model': 'i7 1255U (7C0W0PA)', 'Processor Brand': 'Intel', 'Processor Model': 'i7 1255U', 'Graphics': 'Intel Iris Xe', 'Screen Size': '14 inches', 'Processor Speed': '1.7GHz'}, {'Brand': 'HP', 'Model': 'Probook 450 G10', 'Processor': 'Intel Core i5-1335U', 'Model Number': '873D1PA', 'Graphics': 'Intel UHD', 'Screen Size': '15.6 inches', 'Processor Speed': '1.3GHz'}, {'Brand': 'HP', 'Series': 'Pavilion', 'Model': '15 eg3033TX', 'Processor': 'i5 1335U', 'Part Number': '8U6L6PA', 'Graphics Card': 'MX550 2GB', 'Screen Size': '15.6 inches', 'Processor Speed': '1.3GHz'}, {'Brand': 'HP', 'Model': 'Probook 450 G9', 'Processor': 'Intel Core i5-1235U', 'Model Number': '6M0Y9PA', 'Graphics': 'Intel UHD', 'Screen Size': '15.6 inches', 'Processor Speed': '1.3GHz'}, {'Brand': 'HP', 'Series': 'Pavilion 15 eg2035TX', 'Model': 'i5 1235U (6K781PA)', 'Graphics Card': 'MX550 2GB', 'Screen Size': '15.6 inches', 'Processor Speed': '1.3GHz'}, {'Brand': 'HP', 'Model': 'Pavilion 15 eg2036TX', 'Processor': 'i5 1235U', 'Model Number': '6K782PA', 'Graphics Card': 'MX550 2GB', 'Screen Size': '15.6 inches', 'Processor Speed': '1.3GHz'}, {'Brand': 'HP', 'Series': 'Pavilion 15', 'Model': 'eg3094TU', 'Processor': 'i5 1335U', 'Part Number': '8C5L5PA', 'Graphics': 'Intel Iris Xe', 'Screen Size': '15.6 inches', 'Processor Speed': '1.3GHz'}, {'Brand': 'HP', 'Series': 'Pavilion', 'Model': '15 eg2085TU', 'Processor': 'Intel Core i5 1240P', 'Graphics': 'Intel Iris Xe', 'Screen Size': '15.6 inches', 'Processor Speed': '1.7GHz'}, {'Brand': 'HP', 'Series': 'Pavilion X360', 'Model': '14 ek0131TU', 'Processor': 'Intel Core i3 1215U', 'Model Number': '7C0P6PA', 'Graphics': 'Intel UHD', 'Screen Size': '14 inches', 'Processor Speed': '1.2GHz'}, {'Brand': 'HP', 'Series': 'Pavilion X360', 'Model': '14 ek0130TU', 'Processor': 'Intel Core i3 1215U', 'Model Number': '7C0P5PA', 'Graphics': 'Intel UHD', 'Screen Size': '14 inches', 'Processor Speed': '1.2GHz'}, {'Brand': 'HP', 'Series': 'Pavilion', 'Model': '15 eg3098TU', 'Processor': 'i3 1315U', 'Part Number': '8C5L9PA', 'Graphics': 'Intel UHD', 'Screen Size': '15.6 inches', 'Processor Speed': '1.2GHz'}, {'Brand': 'Asus', 'Series': 'Vivobook Go 15 E1504FA', 'Model Number': 'R5 7520U (NJ776W)', 'Graphics Card': 'Radeon', 'Screen Size': '15.6 inches', 'Processor Speed': '2.8GHz'}, {'Brand': 'Asus', 'Series': 'Vivobook 15 OLED A1505ZA', 'Model': 'i5 12500H (L1337W)', 'Processor Brand': 'Intel', 'Processor Model': 'i5 12500H', 'Graphics': 'Intel Iris Xe', 'Screen Size': '15.6 inches', 'Processor Speed': '2.5GHz'}, {'Brand': 'Asus', 'Model': 'Vivobook X1404ZA', 'Processor': 'Intel Core i3-1215U', 'Graphics': 'Intel UHD', 'Screen Size': '14 inches', 'Processor Speed': '1.2GHz'}, {'Brand': 'Asus', 'Series': 'TUF Gaming F15 FX506HF', 'Model': 'i5 11400H (HN014W)', 'Graphics Card': 'RTX 2050 4GB', 'Screen Size': '15.6 inches', 'Processor Speed': '2.7GHz'}, {'Brand': 'Asus', 'Model': 'Vivobook 16 X1605VA i5 1335U (MB360W)', 'Processor Brand': 'Intel', 'Processor Model': 'i5 1335U', 'Graphics': 'Intel Iris Xe', 'Screen Size': '16 inches', 'Processor Speed': '1.3GHz'}, {'Brand': 'Asus', 'Model': 'Vivobook 15 X1504ZA i3 1215U (NJ102W)', 'Processor Brand': 'Intel', 'Graphics': 'UHD', 'Screen Size': '15.6 inches', 'Processor Speed': '1.2GHz'}, {'Brand': 'Asus', 'Series': 'TUF Gaming F15', 'Model': 'FX507ZC4 i5 12500H (HN229W)', 'Graphics Card': 'RTX 3050 4GB', 'Screen Size': '15.6 inches', 'Processor Speed': '2.5GHz'}, {'Brand': 'Asus', 'Series': 'Vivobook 15 OLED A1505VA', 'Model': 'i5 13500H (L1341W)', 'Processor Brand': 'Intel', 'Processor Model': 'i5 13500H', 'Graphics': 'Intel Iris Xe', 'Screen Size': '15.6 inches', 'Processor Speed': '2.6GHz'}, {'Brand': 'Asus', 'Series': 'TUF Gaming F17 FX706HF', 'Processor': 'Intel Core i5-11400H (HX390W)', 'Graphics Card': 'RTX 2050 4GB', 'Screen Size': '17.3 inches', 'Processor Speed': '2.7GHz'}, {'Brand': 'Asus', 'Model': 'Vivobook 14 X1404VA i5 1335U (NK050W)', 'Processor Brand': 'Intel', 'Processor Model': 'i5 1335U', 'Graphics': 'Intel Iris Xe', 'Screen Size': '14 inches', 'Processor Speed': '1.3GHz'}, {'Brand': 'Asus', 'Series': 'TUF Gaming A15', 'Model': 'FA507NU', 'Processor': 'Ryzen 5 7535HS', 'Graphics Card': 'RTX 4050 6GB', 'Screen Size': '15.6 inches', 'Processor Speed': '3.3GHz'}, {'Brand': 'Asus', 'Model': 'Vivobook 15 X1504VA i5 1335U (NJ025W)', 'Processor Brand': 'Intel', 'Processor Model': 'i5 1335U', 'Graphics': 'Intel UHD', 'Screen Size': '15.6 inches', 'Processor Speed': '1.3GHz'}, {'Brand': 'Asus', 'Model': 'Vivobook S 14 Flip TP3402VA i5 13500H (LZ031W)', 'Processor Brand': 'Intel', 'Processor Model': 'i5 13500H', 'Graphics': 'Intel Iris Xe', 'Screen Size': '14 inches', 'Processor Speed': '2.6GHz'}, {'Brand': 'Asus', 'Model': 'Vivobook X415EA i3 1115G4 (EK2034W)', 'Processor': 'Intel Core i3-1115G4', 'Graphics': 'Intel UHD', 'Screen Size': '14 inches', 'Processor Speed': '3GHz'}, {'Brand': 'Asus', 'Series': 'TUF Gaming F15 FX507VU', 'Processor': 'i7-13620H (LP167W)', 'Graphics Card': 'RTX 4050 6GB', 'Screen Size': '15.6 inches', 'Processor Speed': '2.4GHz'}, {'Brand': 'Asus', 'Series': 'TUF Gaming F15 FX506HC', 'Model': 'i5 11400H (HN949W)', 'Graphics Card': 'RTX 3050 4GB', 'Screen Size': '15.6 inches', 'Processor Speed': '2.7GHz'}, {'Brand': 'Asus', 'Series': 'TUF Gaming A15', 'Model': 'FA506NF R5 7535HS (HN012W)', 'Graphics Card': 'RTX 2050 4GB', 'Screen Size': '15.6 inches', 'Processor Speed': '3.3GHz'}, {'Brand': 'Asus', 'Series': 'TUF Gaming F15 FX507ZC4', 'Model': 'i5 12500H (HN074W)', 'Graphics Card': 'RTX 3050 4GB', 'Screen Size': '15.6 inches', 'Processor Speed': '2.5GHz'}, {'Brand': 'Asus', 'Model': 'Vivobook X515EA i3 1115G4 (EJ3948W)', 'Processor': 'Intel Core i3-1115G4', 'Graphics': 'Intel UHD', 'Screen Size': '15.6 inches', 'Processor Speed': '3GHz'}, {'Brand': 'Asus', 'Series': 'Vivobook 14X OLED K3405VC', 'Model': 'i5 13500H (KM006W)', 'Graphics Card': 'RTX 3050 4GB', 'Screen Size': '14 inches', 'Processor Speed': '2.6GHz'}, {'Brand': 'Asus', 'Series': 'Vivobook 15 OLED A1505VA', 'Model': 'i9 13900H (L1386W)', 'Processor Brand': 'Intel', 'Processor Model': 'i9 13900H', 'Graphics': 'Intel Iris Xe', 'Screen Size': '15.6 inches', 'Processor Speed': '2.6GHz'}, {'Brand': 'Asus', 'Series': 'Vivobook 15 OLED A1505VA', 'Model': 'i7 13700H (L1338W)', 'Processor Brand': 'Intel', 'Processor Model': 'Core i7 13700H', 'Graphics': 'Intel Iris Xe', 'Screen Size': '15.6 inches', 'Processor Speed': '2.4GHz'}, {'Brand': 'Asus', 'Series': 'TUF Gaming A15', 'Model': 'FA507NV R7 7735HS (LP031W)', 'Graphics Card': 'RTX 4060 8GB', 'Screen Size': '15.6 inches', 'Processor Speed': '3.2GHz'}, {'Brand': 'Asus', 'Model': 'Zenbook 14 OLED UX3402VA i5 1340P (KM085W)', 'Processor Brand': 'Intel', 'Processor Model': 'Iris Xe', 'Screen Size': '14 inches', 'Processor Speed': '1.9GHz'}, {'Brand': 'Asus', 'Series': 'Vivobook 15 OLED A1505VA', 'Model': 'i5 13500H (L1052W)', 'Processor Brand': 'Intel', 'Processor Model': 'i5 13500H', 'Graphics': 'Intel UHD', 'Screen Size': '15.6 inches', 'Processor Speed': '2.6GHz'}, {'Brand': 'Asus', 'Model': 'Zenbook 14 OLED UX3405MA', 'Series': 'Ultra 7 155H (PP152W)', 'Graphics': 'Intel Arc Graphics', 'Screen Size': '14 inches', 'Processor Speed': '1.4GHz'}, {'Brand': 'Asus', 'Model': 'Vivobook 15 X1504VA i7 1355U (NJ023W)', 'Processor Brand': 'Intel', 'Processor Model': 'i7 1355U', 'Graphics': 'Intel Iris Xe', 'Screen Size': '15.6 inches', 'Processor Speed': '1.7GHz'}, {'Brand': 'Asus', 'Model': 'Zenbook 14 Flip OLED UP3404VA i5 1340P (KN038W)', 'Processor Brand': 'Intel', 'Processor Model': 'i5 1340P', 'Graphics': 'Intel Iris Xe', 'Screen Size': '14 inches', 'Processor Speed': '1.9GHz'}, {'Brand': 'Asus', 'Model': 'Zenbook 14 OLED UX3405MA Ultra 5 125H (PP151W)', 'Graphics': 'Intel Arc Graphics', 'Screen Size': '14 inches', 'Processor Speed': '1.2GHz'}, {'Brand': 'Asus', 'Series': 'TUF Gaming A15', 'Model': 'FA506NC R5 7535HS (HN017W)', 'Graphics Card': 'RTX 3050 4GB', 'Screen Size': '15.6 inches', 'Processor Speed': '3.3GHz'}, {'Brand': 'Asus', 'Model': 'Vivobook 14X OLED S3405VA i5 13500H (KM072W)', 'Processor Brand': 'Intel', 'Processor Model': 'i5 13500H', 'Graphics': 'Intel Iris Xe', 'Screen Size': '14 inches', 'Processor Speed': '2.6GHz'}, {'Brand': 'Asus', 'Product Line': 'Gaming ROG Zephyrus G16 GU605MV Ultra 9 185H (QR135W)', 'Graphics Card': 'RTX 4060 8GB', 'Screen Size': '16 inches', 'Processor Speed': '2.30 GHz'}, {'Brand': 'Asus', 'Model': 'Vivobook Go 15 E1504FA R5 7520U (NJ630W)', 'Processor Brand': 'Radeon', 'Screen Size': '15.6 inches', 'Processor Speed': '2.8GHz'}, {'Brand': 'Asus', 'Product Line': 'Gaming ROG Zephyrus G16 GU605MI Ultra 9 185H (QR116W)', 'Graphics Card': 'RTX 4070 8GB', 'Screen Size': '16 inches', 'Processor Speed': '2.30 GHz'}, {'Brand': 'Asus', 'Product Line': 'Gaming ROG Strix G15', 'Model': 'G513IH R7 4800H (HN015W)', 'Graphics Card': 'GTX 1650 4GB', 'Screen Size': '15.6 inches', 'Processor': '2.9GHz'}, {'Brand': 'Asus', 'Model': 'Vivobook X1404ZA', 'Processor': 'i5 1235U', 'Graphics': 'Intel Iris Xe', 'Screen Size': '14 inches', 'Processor Speed': '1.3GHz'}, {'Brand': 'Asus', 'Series': 'Vivobook 15 OLED A1505VA', 'Model': 'i9 13900H (L1201W)', 'Processor Brand': 'Intel', 'Processor Model': 'i9 13900H', 'Graphics': 'Intel Iris Xe', 'Screen Size': '15.6 inches', 'Processor Speed': '2.6GHz'}, {'Brand': 'Asus', 'Product Line': 'TUF Dash F15 FX517ZE', 'Processor': 'Intel Core i5-12450H', 'Model Number': 'HN045W', 'Graphics Card': 'RTX 3050Ti 4GB', 'Screen Size': '15.6 inches', 'Processor Speed': '2GHz'}, {'Brand': 'Asus', 'Model': 'Zenbook 14 Flip OLED UP3404VA i7 1360P (KN039W)', 'Processor Brand': 'Intel', 'Processor Model': 'i7', 'Graphics': 'Intel Iris Xe', 'Screen Size': '14 inches', 'Resolution': '1360P', 'Processor Speed': '2.2GHz'}, {'Brand': 'Asus', 'Series': 'TUF Gaming F15 FX507VV', 'Processor': 'i7-13620H (LP181W)', 'Graphics Card': 'RTX 4060 8GB', 'Screen Size': '15.6 inches', 'Processor Speed': '2.4GHz'}, {'Brand': 'Asus', 'Product Line': 'Gaming ROG Strix SCAR 18 G834JY', 'Model': 'i9 13980HX (N6039W)', 'Graphics Card': 'RTX 4090 16GB', 'Screen Size': '18 inches', 'Processor Speed': '2.2GHz'}, {'Brand': 'Asus', 'Product Line': 'Gaming ROG Strix SCAR 17 G733PZ R9 7945HX (LL980W)', 'Graphics Card': 'RTX 4080 12GB', 'Screen Size': '17.3 inches', 'Processor Speed': '2.5GHz'}, {'Brand': 'Asus', 'Product Line': 'ROG Strix SCAR 18 G834JYR', 'Model': 'i9 14900HX (R6011W)', 'Graphics Card': 'RTX 4090 16GB', 'Screen Size': '18 inches', 'Processor Speed': '2.2GHz'}, {'Brand': 'Asus', 'Product Line': 'Gaming ROG Strix SCAR 16 G634JZR', 'Model': 'i9 14900HX (NM009W)', 'Graphics Card': 'RTX 4080 12GB', 'Screen Size': '16 inches', 'Processor Speed': '2.2GHz'}, {'Brand': 'Asus', 'Product Line': 'ROG Zephyrus Duo 16 GX650PZ', 'Model Number': 'R9 7945HX (NM031W)', 'Graphics Card': 'RTX 4080 12GB', 'Screen Size': '16 inches', 'Processor Speed': '2.5GHz'}, {'Brand': 'Asus', 'Product Line': 'Gaming ROG Strix SCAR 16 G634JZ', 'Processor': 'i9 13980HX', 'Model Number': 'N4029W', 'Graphics Card': 'RTX 4080 12GB', 'Screen Size': '16 inches', 'Processor Speed': '2.2GHz'}, {'Brand': 'Asus', 'Product Line': 'Gaming ROG Zephyrus M16 GU604VI', 'Model': 'i9 13900H (NM779W)', 'Graphics Card': 'RTX 4070 8GB', 'Screen Size': '16 inches', 'Processor Speed': '2.6GHz'}, {'Brand': 'Asus', 'Product Line': 'Gaming ROG Strix SCAR G18 G814JIR', 'Processor': 'i9 14900HX', 'Model Number': 'N6007W', 'Graphics Card': 'RTX 4070 8GB', 'Screen Size': '18 inches', 'Processor Speed': '2.2GHz'}, {'Brand': 'Asus', 'Product Line': 'Gaming ROG Flow X16 GV601VV', 'Model': 'i9 13900H (NL016W)', 'Graphics Card': 'RTX 4060 8GB', 'Screen Size': '16 inches', 'Processor Speed': '2.6GHz'}, {'Brand': 'Asus', 'Product Line': 'Gaming ROG Flow X13', 'Model': 'GV302XU R9 7940HS (MU223W)', 'Graphics Card': 'RTX 4050 6GB', 'Screen Size': '13.4 inches', 'Processor Speed': '4GHz'}, {'Brand': 'Asus', 'Model': 'Zenbook S 13 OLED UX5304VA i7 1355U (NQ126W)', 'Processor Brand': 'Intel', 'Processor Model': 'i7 1355U', 'Graphics': 'Intel Iris Xe', 'Screen Size': '13.3 inches', 'Processor Speed': '1.7GHz'}, {'Brand': 'Asus', 'Model': 'ExpertBook B9 OLED B9403CVA i7 1355U (KM0157X)', 'Processor Brand': 'Intel', 'Processor Model': 'Core i7 1355U', 'Graphics': 'Intel Iris Xe', 'Screen Size': '14 inches', 'Processor Speed': '1.7GHz'}, {'Brand': 'Asus', 'Series': 'TUF Gaming F15 FX507VV', 'Processor': 'i7-13620H', 'Graphics Card': 'RTX 4060 8GB', 'Screen Size': '15.6 inches', 'Processor Speed': '2.4GHz'}, {'Brand': 'Asus', 'Series': 'TUF Gaming A15', 'Model': 'FA507XI', 'Processor': 'R9 7940HS (LP420W)', 'Graphics Card': 'RTX 4070 8GB', 'Screen Size': '15.6 inches', 'Processor Speed': '4GHz'}, {'Brand': 'Asus', 'Product Line': 'Gaming ROG Zephyrus G14', 'Model': 'GA402NJ R7 7735HS (L4056W)', 'Graphics Card': 'RTX 3050 6GB', 'Screen Size': '14 inches', 'Processor Speed': '3.2GHz'}, {'Brand': 'Asus', 'Product Line': 'Gaming ROG Strix G16 G614JU', 'Model': 'i5 13450HX (N3135W)', 'Graphics Card': 'RTX 4050 6GB', 'Screen Size': '16 inches', 'Processor Speed': '2.4GHz'}, {'Brand': 'Asus', 'Model': 'Zenbook S 13 OLED UX5304VA', 'Processor': 'Intel Core i7-1355U', 'Graphics': 'Intel Iris Xe', 'Screen Size': '13.3 inches', 'Processor Speed': '1.7GHz'}, {'Brand': 'Asus', 'Model': 'Zenbook 14 OLED UX3402VA i7 1360P (KM068W)', 'Processor Brand': 'Intel', 'Processor Model': 'Core i7', 'Graphics': 'Intel Iris Xe', 'Screen Size': '14 inches', 'Resolution': '1360P', 'Processor Speed': '2.2GHz'}, {'Brand': 'Asus', 'Model': 'Zenbook 14 OLED UM3402YA R5 7530U (KM405W)', 'Processor': 'AMD Ryzen 5 7530U', 'Graphics': 'Radeon', 'Screen Size': '14 inches', 'Processor Speed': '2GHz'}, {'Brand': 'Asus', 'Model': 'Vivobook 14 A1405VA i3 1315U (LY097W)', 'Processor': 'Intel Core i3-1315U', 'Graphics': 'Intel UHD', 'Screen Size': '14 inches', 'Processor Speed': '1.2GHz'}, {'Brand': 'Acer', 'Model': 'Aspire 3 A315 510P 32EF', 'Processor': 'Intel Core i3 N305', 'Model Number': 'NX.KDHSV.001', 'Graphics': 'Intel UHD', 'Screen Size': '15.6 inches'}, {'Brand': 'Acer', 'Model': 'Aspire Lite 15 51M 5542', 'Model Number': 'NX.KS5SV.001', 'Processor': 'Intel Core i5-1155G7', 'Graphics': 'Intel Iris Xe', 'Screen Size': '15.6 inches', 'Processor Speed': '2.5GHz'}, {'Brand': 'Acer', 'Model': 'Aspire 5 Gaming A515-58GM-51LB', 'Processor': 'i5-13420H', 'Model Number': 'NX.KQ4SV.002', 'Graphics Card': 'RTX 2050 4GB', 'Screen Size': '15.6 inches', 'Processor Speed': '2.1GHz'}, {'Brand': 'Acer', 'Model': 'Aspire 3 A315 44P R9W8', 'Processor': 'AMD Ryzen 7 5700U', 'Model Number': 'NX.KSJSV.002', 'Graphics': 'Radeon', 'Screen Size': '15.6 inches', 'Processor Speed': '1.8GHz'}, {'Brand': 'Acer', 'Product Line': 'Nitro 5 Gaming AN515 57 5669', 'Model': 'i5 11400H (NH.QEHSV.001)', 'Graphics Card': 'GTX 1650 4GB', 'Screen Size': '15.6 inches', 'Processor Speed': '2.7GHz'}, {'Brand': 'Acer', 'Model': 'Aspire 3 A315 58 589K', 'Model Number': 'NX.AM0SV.008', 'Processor': 'Intel Core i5-1135G7', 'Graphics': 'Intel Iris Xe', 'Screen Size': '15.6 inches', 'Processor Speed': '2.4GHz'}, {'Brand': 'Acer', 'Model': 'Aspire 7 Gaming A715 43G R8GA R5 5625U (NH.QHDSV.002)', 'Graphics Card': 'RTX 3050 4GB', 'Screen Size': '15.6 inches', 'Processor': '2.30 GHz'}, {'Brand': 'Acer', 'Model': 'Aspire 3 A315-59-38PG', 'Processor': 'Intel Core i3-1215U', 'Model Number': 'NX.K6TSV.00A', 'Graphics': 'Intel UHD', 'Screen Size': '15.6 inches', 'Processor Speed': '1.2GHz'}, {'Brand': 'Acer', 'Model': 'Aspire 3 A314 42P R3B3 R7', 'Processor': 'AMD Ryzen 7 5700U', 'Model Number': 'NX.KSFSV.001', 'Graphics': 'Radeon', 'Screen Size': '14 inches', 'Processor Speed': '1.8GHz'}, {'Brand': 'Acer', 'Product Line': 'TravelMate P4 TMP414 51 50HX', 'Model': 'NX.VP2SV.00T', 'Processor': 'Intel Core i5-1135G7', 'Graphics': 'Intel Iris Xe', 'Screen Size': '14 inches', 'Processor Speed': '2.4GHz'}, {'Brand': 'Acer', 'Model': 'Aspire 5 A515-58P-34RJ', 'Processor': 'Intel Core i3-1315U', 'Model Number': 'NX.KHJSV.003', 'Graphics': 'Intel UHD', 'Screen Size': '15.6 inches', 'Processor Speed': '1.2GHz'}, {'Brand': 'Acer', 'Series': 'Aspire 7 Gaming A715 76G 5806', 'Model Number': 'NH.QMFSV.002', 'Processor': 'Intel Core i5-12450H', 'Graphics Card': 'RTX 3050 4GB', 'Screen Size': '15.6 inches', 'Processor Speed': '2GHz'}, {'Brand': 'Acer', 'Model': 'Aspire 3 A315-59-5283', 'Processor': 'Intel Core i5-1235U', 'Model Number': 'NX.K6TSV.00B', 'Graphics': 'Intel UHD', 'Screen Size': '15.6 inches', 'Processor Speed': '1.3GHz'}, {'Brand': 'Acer', 'Product Line': 'Gaming Nitro V ANV15 51 53NE', 'Model': 'i5 13420H (NH.QNASV.002)', 'Graphics Card': 'RTX 2050 4GB', 'Screen Size': '15.6 inches', 'Processor Speed': '2.1GHz'}, {'Brand': 'Acer', 'Model': 'Aspire 3 A315 58 54XF', 'Processor': 'Intel Core i5 1135G7', 'Model Number': 'NX.AM0SV.007', 'Graphics': 'Intel Iris Xe', 'Screen Size': '15.6 inches', 'Processor Speed': '2.4GHz'}, {'Brand': 'Acer', 'Series': 'Nitro 5 Tiger AN515 58 52SP', 'Model': 'NH.QFHSV.001', 'Processor': 'i5 12500H', 'Graphics Card': 'RTX 3050 4GB', 'Screen Size': '15.6 inches', 'Processor Speed': '2.5GHz'}, {'Brand': 'Acer', 'Model': 'Aspire 5 A514 56P 54TN', 'Processor': 'Intel Core i5 1335U', 'Graphics': 'Intel Iris Xe', 'Screen Size': '14 inches', 'Processor Speed': '1.3GHz', 'Model Number': 'NX.KHRSV.004'}, {'Brand': 'Acer', 'Model': 'Aspire 5 A514-54-5127', 'Processor': 'Intel Core i5-1135G7', 'Graphics': 'Intel Iris Xe', 'Screen Size': '14 inches', 'Processor Speed': '2.4GHz', 'Model Number': 'NX.A28SV.007'}, {'Brand': 'Acer', 'Model': 'Aspire 3 A314 35 P3G9 N6000', 'Model Number': 'NX.A7SSV.007', 'Graphics': 'Intel UHD', 'Screen Size': '14 inches', 'Processor Speed': '1.1GHz'}, {'Brand': 'Acer', 'Model': 'Swift 3 SF314 511 55QE', 'Processor': 'Intel Core i5 1135G7', 'Graphics': 'Intel Iris Xe', 'Screen Size': '14 inches', 'Processor Speed': '2.4GHz', 'Model Number': 'NX.ABNSV.003'}, {'Brand': 'Acer', 'Model': 'Aspire 3 A314 35 C3KS N5100 (NX.A7SSV.009)', 'Graphics': 'Intel UHD', 'Screen Size': '14 inches', 'Processor Speed': '1.1GHz'}, {'Brand': 'Acer', 'Product Line': 'Gaming Nitro V ANV15 51 57B2', 'Model': 'i5 13420H (NH.QN8SV.001)', 'Graphics Card': 'RTX 4050 6GB', 'Screen Size': '15.6 inches', 'Processor Speed': '2.1GHz'}, {'Brand': 'Acer', 'Product Line': 'Nitro 5 AN515 58 769J', 'Model': 'NH.QFHSV.003', 'Processor': 'Intel Core i7-12700H', 'Graphics Card': 'RTX 3050 4GB', 'Screen Size': '15.6 inches', 'Processor Speed': '2.30 GHz'}, {'Brand': 'Acer', 'Product Line': 'TravelMate P4 TMP414 51G 59R6', 'Model': 'NX.VP9SV.001', 'Processor': 'Intel Core i5 1135G7', 'Graphics Card': 'MX350 2GB', 'Screen Size': '14 inches', 'Processor Speed': '2.4GHz'}, {'Brand': 'Acer', 'Series': 'Aspire 7 Gaming A715 76G 59MW', 'Model': 'NH.QMYSV.001', 'Processor': 'Intel Core i5-12450H', 'Graphics Card': 'RTX 2050 4GB', 'Screen Size': '15.6 inches', 'Processor Speed': '2GHz'}, {'Brand': 'Acer', 'Model': 'Swift 3 SF314 512 56QN', 'Processor': 'Intel Core i5 1240P', 'Graphics': 'Intel Iris Xe', 'Screen Size': '14 inches', 'Processor Speed': '1.7GHz', 'Model Number': 'NX.K0FSV.002'}, {'Brand': 'Acer', 'Product Line': 'Predator Helios 16 PH16 71 72BV', 'Model': 'i7 13700HX (NH.QJRSV.001)', 'Graphics Card': 'RTX 4070 8GB', 'Screen Size': '16 inches', 'Processor Speed': '2.1GHz'}, {'Brand': 'Acer', 'Model': 'Nitro 5 Tiger AN515 58 773Y', 'Processor': 'i7 12700H', 'Model Number': 'NH.QFKSV.001', 'Graphics Card': 'RTX 3050Ti 4GB', 'Screen Size': '15.6 inches', 'Processor Speed': '2.30 GHz'}, {'Brand': 'Acer', 'Product Line': 'Gaming Nitro V ANV15 51 58AN', 'Model': 'i5 13420H (NH.QNASV.001)', 'Graphics Card': 'RTX 2050 4GB', 'Screen Size': '15.6 inches', 'Processor Speed': '2.1GHz'}, {'Brand': 'Acer', 'Model': 'Aspire 5 A515-58M-56YX', 'Processor': 'Intel Core i5-13420H', 'Model Number': 'NX.KQ8SV.005', 'Graphics': 'Intel UHD', 'Screen Size': '15.6 inches', 'Processor Speed': '2.1GHz'}, {'Brand': 'Acer', 'Product Line': 'Nitro 5 AN515 57 53F9', 'Model': 'NH.QENSV.008', 'Processor': 'Intel Core i5-11400H', 'Graphics Card': 'RTX 3050 4GB', 'Screen Size': '15.6 inches', 'Processor Speed': '2.7GHz'}, {'Brand': 'Lenovo', 'Model': 'Ideapad 1 15ALC7 R7 5700U (82R400C1VN)', 'Graphics': 'Radeon', 'Screen Size': '15.6 inches', 'Processor Speed': '1.8GHz'}, {'Brand': 'Lenovo', 'Model': 'V14 G3 ABA R5 5625U (82TU006SVN)', 'Processor': 'AMD Ryzen 5 5625U', 'Graphics': 'Radeon', 'Screen Size': '14 inches', 'Processor Speed': '2.30 GHz'}, {'Brand': 'Lenovo', 'Model': 'Ideapad Slim 3 15IAH8 i5 12450H (83ER000EVN)', 'Processor': 'Intel Core i5-12450H', 'Graphics': 'Intel UHD', 'Screen Size': '15.6 inches', 'Processor Speed': '2GHz'}, {'Brand': 'Lenovo', 'Model': 'V15 G4 IRU i5 1335U (83A1000LVN)', 'Processor Brand': 'Intel', 'Processor Model': 'i5 1335U', 'Graphics': 'Intel Iris Xe', 'Screen Size': '15.6 inches', 'Processor Speed': '1.3GHz'}, {'Brand': 'Lenovo', 'Model': 'Ideapad 5 15IAL7 i5 1235U (82SF005HVN)', 'Processor Brand': 'Intel', 'Processor Model': 'i5 1235U', 'Graphics': 'Intel Iris Xe', 'Screen Size': '15.6 inches', 'Processor Speed': '1.3GHz'}, {'Brand': 'Lenovo', 'Model': 'Ideapad 3 15IAU7 i3 1215U (82RK005LVN)', 'Processor Brand': 'Intel', 'Graphics': 'Intel UHD', 'Screen Size': '15.6 inches', 'Processor Speed': '1.2GHz'}, {'Brand': 'Lenovo', 'Model': 'Ideapad Slim 3 15IAH8 i5 12450H (83ER000FVN)', 'Processor': 'Intel Core i5-12450H', 'Graphics': 'Intel UHD', 'Screen Size': '15.6 inches', 'Processor Speed': '2GHz'}, {'Brand': 'Lenovo', 'Model': 'Ideapad 3 15IAU7 i3 1215U (82RK00RWVN)', 'Processor Brand': 'Intel', 'Graphics': 'Intel UHD', 'Screen Size': '15.6 inches', 'Processor Speed': '1.2GHz'}, {'Brand': 'Lenovo', 'Model': 'Ideapad 3 15ITL6 i5 1155G7 (82H803RRVN)', 'Processor Brand': 'Intel', 'Processor Model': 'i5 1155G7', 'Graphics': 'Intel Iris Xe', 'Screen Size': '15.6 inches', 'Processor Speed': '2.5GHz'}, {'Brand': 'Lenovo', 'Model': 'IdeaPad 1 15AMN7 R5 7520U (82VG0061VN)', 'Graphics Card': 'AMD Radeon 610M', 'Screen Size': '15.6 inches', 'Processor Speed': '2.8GHz'}, {'Brand': 'Lenovo', 'Product Line': 'ThinkBook 15 G5 IRL', 'Model Number': '21JD002AVN', 'Processor': 'Intel Core i7 1355U', 'Graphics': 'Intel Iris Xe', 'Screen Size': '15.6 inches', 'Processor Speed': '1.7GHz'}, {'Brand': 'Lenovo', 'Model': 'Ideapad 3 15IAU7 i3 1215U (82RK001MVN)', 'Processor Brand': 'Intel', 'Graphics': 'Intel UHD', 'Screen Size': '15.6 inches', 'Processor Speed': '1.2GHz'}, {'Brand': 'Lenovo', 'Model': 'Ideapad Slim 3 15IRH8 i7 13620H (83EM003FVN)', 'Processor': 'Intel Core i7-13620H', 'Graphics': 'Intel UHD', 'Screen Size': '15.6 inches', 'Processor Speed': '2.4GHz'}, {'Brand': 'Lenovo', 'Model': 'Ideapad 3 15IAU7 i7 1255U (82RK00X0VN)', 'Graphics': 'Intel Iris Xe', 'Screen Size': '15.6 inches', 'Processor Speed': '1.7GHz'}, {'Brand': 'Lenovo', 'Model': 'Ideapad 5 Pro 14IAP7 i5 1240P (82SH000SVN)', 'Graphics': 'Intel Iris Xe', 'Screen Size': '14 inches', 'Processor Speed': '1.7GHz'}, {'Brand': 'Lenovo', 'Product Line': 'Ideapad Gaming 3', 'Model': '15ACH6 R5 5500H (82K2027PVN)', 'Graphics Card': 'RTX 2050 4GB', 'Screen Size': '15.6 inches', 'Processor Speed': '3.3GHz'}, {'Brand': 'Lenovo', 'Series': 'Yoga 7 14IRL8', 'Model': '82YL006BVN', 'Processor': 'Intel Core i7', 'Graphics': 'Intel Iris Xe', 'Screen Size': '14 inches', 'Resolution': '1360P', 'Processor Speed': '2.2GHz'}, {'Brand': 'Lenovo', 'Product Line': 'IdeaPad Slim 5', 'Model': '14ABR8 R5 7530U (82XS002KVN)', 'Processor Brand': 'AMD Ryzen 5 7530U', 'Graphics': 'Radeon', 'Screen Size': '14 inches', 'Processor Speed': '2GHz'}, {'Brand': 'Lenovo', 'Model': 'Ideapad 5 Pro 14IAP7 i7 1260P (82SH002SVN)', 'Graphics': 'Intel Iris Xe', 'Screen Size': '14 inches', 'Processor Speed': '2.1GHz'}, {'Brand': 'Lenovo', 'Model': 'Ideapad 3 15ITL6 i3 1115G4 (82H803SFVN)', 'Processor': 'Intel Core i3-1115G4', 'Graphics': 'Intel UHD', 'Screen Size': '15.6 inches', 'Processor Speed': '3GHz'}, {'Brand': 'Lenovo', 'Model': 'Yoga 7 14IRL8 i5 1340P (82YL006AVN)', 'Processor Brand': 'Intel', 'Graphics': 'Iris Xe', 'Screen Size': '14 inches', 'Processor Speed': '1.9GHz'}, {'Brand': 'Lenovo', 'Model': 'Ideapad 3 15IAU7 i3 1215U (82RK00QYVN)', 'Processor': 'Intel UHD', 'Screen Size': '15.6 inches', 'Processor Speed': '1.2GHz'}, {'Brand': 'Lenovo', 'Model': 'LOQ Gaming 15IRH8', 'Processor': 'i7 13620H', 'Model Number': '82XV00QXVN', 'Graphics Card': 'RTX 4050 6GB', 'Screen Size': '15.6 inches', 'Processor Speed': '2.4GHz'}, {'Brand': 'Lenovo', 'Model': 'LOQ Gaming 15IAX9', 'Processor': 'Intel Core i5 12450HX', 'Model Number': '83GS000JVN', 'Graphics Card': 'RTX 3050 6GB', 'Screen Size': '15.6 inches'}, {'Brand': 'Lenovo', 'Product Line': 'Legion 5 16IRH8', 'Model Number': '82YA00BSVN', 'Processor': 'Intel Core i5-13500H', 'Graphics Card': 'RTX 4050 6GB', 'Screen Size': '16 inches', 'Processor Speed': '2.6GHz'}, {'Brand': 'Lenovo', 'Model': 'LOQ Gaming 15IRH8', 'Processor': 'i5 13420H', 'Model Number': '82XV00Q4VN', 'Graphics Card': 'RTX 4050 6GB', 'Screen Size': '15.6 inches', 'Processor Speed': '2.1GHz'}, {'Brand': 'Lenovo', 'Product Line': 'ThinkBook 15 G5 IRL', 'Model': 'i5 1355U (21JD002FVN)', 'Graphics': 'Intel Iris Xe', 'Screen Size': '15.6 inches', 'Processor Speed': '1.3GHz'}, {'Brand': 'Lenovo', 'Model': 'Ideapad Slim 3 15IRH8 i7 13620H (83EM003EVN)', 'Processor': 'Intel Core i7-13620H', 'Graphics': 'Intel UHD', 'Screen Size': '15.6 inches', 'Processor Speed': '2.4GHz'}, {'Brand': 'Lenovo', 'Model': 'Ideapad Slim 5 14IAH8 i5 12450H (83BF003WVN)', 'Processor': 'Intel Core i5-12450H', 'Graphics': 'Intel UHD', 'Screen Size': '14 inches', 'Processor Speed': '2GHz'}, {'Brand': 'Lenovo', 'Model': 'Ideapad 3 15ITL6 i5 1155G7 (82H803CVVN)', 'Graphics': 'Intel Iris Xe', 'Screen Size': '15.6 inches', 'Processor Speed': '2.5GHz'}, {'Brand': 'Lenovo', 'Model': 'Ideapad 3 15IAU7 i5 1235U (82RK001PVN)', 'Graphics': 'Intel UHD', 'Screen Size': '15.6 inches', 'Processor Speed': '1.3GHz'}, {'Brand': 'Lenovo', 'Model': 'Ideapad 5 14IAL7', 'Processor': 'Intel Core i5-1235U', 'Graphics': 'Intel Iris Xe', 'Screen Size': '14 inches', 'Processor Speed': '1.3GHz'}, {'Brand': 'Lenovo', 'Model': 'V14 G4 IRU i3 1315U (83A0000TVN)', 'Processor': 'Intel Core i3-1315U', 'Graphics': 'Intel UHD', 'Screen Size': '14 inches', 'Processor Speed': '1.2GHz'}, {'Brand': 'Dell', 'Model': 'Inspiron 15 3520', 'Processor': 'Intel Core i5 1235U', 'Graphics': 'Intel Iris Xe', 'Screen Size': '15.6 inches', 'Processor Speed': '1.3GHz'}, {'Brand': 'Dell', 'Model': 'Inspiron 15 3520 i5 1235U (i5U085W11BLU)', 'Processor': 'Intel Core i5-1235U', 'Graphics': 'Intel UHD', 'Screen Size': '15.6 inches', 'Processor Speed': '1.3GHz'}, {'Brand': 'Dell', 'Model': 'Inspiron 15 3520', 'Processor': 'Intel Core i5-1235U', 'Graphics': 'Intel UHD', 'Screen Size': '15.6 inches', 'Processor Speed': '1.3GHz'}, {'Brand': 'Dell', 'Model': 'Inspiron 15 3520', 'Processor': 'Intel Core i3 1215U', 'Graphics': 'Intel UHD', 'Screen Size': '15.6 inches', 'Processor Speed': '1.2GHz'}, {'Brand': 'Dell', 'Model': 'Vostro 15 3520 i3 1215U (V5I3614W1)', 'Processor': 'Intel Core i3-1215U', 'Graphics': 'Intel UHD', 'Screen Size': '15.6 inches', 'Processor Speed': '1.2GHz'}, {'Brand': 'Dell', 'Model': 'Inspiron 15 3520 i3 1215U (i3U082W11BLU)', 'Processor': 'Intel Core i3 1215U', 'Graphics': 'Intel UHD', 'Screen Size': '15.6 inches', 'Processor Speed': '1.2GHz'}, {'Brand': 'Dell', 'Model': 'Vostro 15 3520 i5 1235U (V5I5610W1)', 'Processor Brand': 'Intel', 'Processor Model': 'i5 1235U', 'Graphics': 'Intel UHD', 'Screen Size': '15.6 inches', 'Processor Speed': '1.3GHz'}, {'Brand': 'Dell', 'Model': 'Inspiron 15 3530 i7 1355U (N3530I716W1)', 'Graphics Card': 'MX550 2GB', 'Screen Size': '15.6 inches', 'Processor Speed': '1.7GHz'}, {'Brand': 'Dell', 'Model': 'Inspiron 15 3530', 'Processor': 'Intel Core i7-1355U', 'Graphics': 'Intel UHD', 'Screen Size': '15.6 inches', 'Processor Speed': '1.7GHz'}, {'Brand': 'Dell', 'Model': 'Vostro 15 3520 i3 1215U (5M2TT1)', 'Processor': 'Intel Core i3-1215U', 'Graphics': 'Intel UHD', 'Screen Size': '15.6 inches', 'Processor Speed': '1.2GHz'}, {'Brand': 'Dell', 'Model': 'Inspiron 15 3530 i5 1335U (N3530-i5U085W11BLU)', 'Processor': 'Intel UHD', 'Screen Size': '15.6 inches', 'Processor Speed': '1.3GHz'}, {'Brand': 'Dell', 'Model': 'Vostro 14 3430', 'Processor': 'Intel Core i5-1335U', 'Graphics': 'Intel UHD', 'Screen Size': '14 inches', 'Processor Speed': '1.3GHz'}, {'Brand': 'Dell', 'Model': 'Inspiron 15 3530', 'Processor': 'i5 1335U', 'Graphics Card': 'MX550 2GB', 'Screen Size': '15.6 inches', 'Processor Speed': '1.3GHz'}, {'Brand': 'Dell', 'Model': 'Inspiron 15 3530 i5 1335U (N5I5791W1)', 'Processor Brand': 'Intel', 'Graphics': 'Iris Xe', 'Screen Size': '15.6 inches', 'Processor Speed': '1.3GHz'}, {'Brand': 'Dell', 'Model': 'Inspiron 14 7430 2-in-1', 'Processor': 'i7 1355U', 'Processor Model': 'i7U165W11SLU', 'Graphics': 'Intel Iris Xe', 'Screen Size': '14 inches', 'Processor Speed': '1.7GHz'}, {'Brand': 'Dell', 'Model': 'Inspiron 15 3520', 'Processor': 'Intel Core i5-1235U', 'Graphics': 'Intel UHD', 'Screen Size': '15.6 inches', 'Processor Speed': '1.3GHz'}, {'Brand': 'Dell', 'Model': 'Inspiron 14 T7430 i5 1335U (N7430I58W1)', 'Processor Brand': 'Intel', 'Processor Model': 'i5 1335U', 'Graphics': 'Intel Iris Xe', 'Screen Size': '14 inches', 'Processor Speed': '1.3GHz'}, {'Brand': 'Dell', 'Model': 'Precision 16 5680', 'Processor': 'i9 13900H', 'Graphics Card': 'RTX A2000 8GB', 'Screen Size': '16 inches', 'Processor Speed': '2.6GHz'}, {'Brand': 'Dell', 'Model': 'Precision 16 7680', 'Processor': 'i9 13950HX', 'Graphics Card': 'RTX A2000 8GB', 'Screen Size': '16 inches', 'Processor Speed': '2.2GHz'}, {'Brand': 'Dell', 'Model': 'Precision 16 7680', 'Processor': 'i7 13850HX', 'Graphics Card': 'RTX A2000 8GB', 'Screen Size': '16 inches', 'Processor Speed': '2.1GHz'}, {'Brand': 'Dell', 'Model': 'Precision 15 3581', 'Processor': 'i7 13800H', 'Graphics Card': 'RTX A1000 6GB', 'Screen Size': '15.6 inches', 'Processor Speed': '2.5GHz'}, {'Brand': 'Dell', 'Model': 'Precision 15 3581', 'Processor': 'i7 13800H', 'Graphics Card': 'RTX A500 4GB', 'Screen Size': '15.6 inches', 'Processor Speed': '2.5GHz'}, {'Brand': 'Dell', 'Model': 'Precision 14 3480', 'Processor': 'i7 12800H', 'Graphics Card': 'RTX A500 4GB', 'Screen Size': '14 inches', 'Processor Speed': '2.4GHz'}, {'Brand': 'Dell', 'Series': 'Gaming G15 5530', 'Processor': 'i7 13650HX', 'Graphics Card': 'RTX 4060 8GB', 'Screen Size': '15.6 inches', 'Processor Speed': '2.6GHz'}, {'Brand': 'Dell', 'Model': 'Inspiron 14 5430', 'Processor': 'i7', 'Resolution': '1360P', 'Graphics Card': 'RTX 2050 4GB', 'Screen Size': '14 inches', 'Processor Speed': '2.2GHz'}, {'Brand': 'Dell', 'Model': 'Inspiron 14 5430 i5 1340P (N5430-i5P165W11SL2050)', 'Graphics Card': 'RTX 2050 4GB', 'Screen Size': '14 inches', 'Processor Speed': '1.9GHz'}, {'Brand': 'Dell', 'Model': 'Inspiron 16 5630', 'Processor': 'Intel Core i5-1335U', 'Graphics': 'Intel Iris Xe', 'Screen Size': '16 inches', 'Processor Speed': '1.3GHz'}, {'Brand': 'Dell', 'Model': 'Vostro 14 3430', 'Processor': 'i5 1335U', 'Graphics Card': 'MX550 2GB', 'Screen Size': '14 inches', 'Processor Speed': '1.3GHz'}, {'Brand': 'Dell', 'Model': 'Inspiron 15 3520', 'Processor': 'Intel Core i5 1235U', 'Graphics': 'Intel Iris Xe', 'Screen Size': '15.6 inches', 'Processor Speed': '1.3GHz'}, {'Brand': 'Dell', 'Model': 'Vostro 15 3520', 'Processor': 'Intel Core i5-1235U', 'Graphics': 'Intel UHD', 'Screen Size': '15.6 inches', 'Processor Speed': '1.3GHz'}, {'Brand': 'Dell', 'Model': 'Vostro 15 3530 i3 1305U (V5I3465W1)', 'Processor Brand': 'Intel', 'Processor Model': 'i3 1305U', 'Graphics': 'Intel UHD', 'Screen Size': '15.6 inches', 'Processor Speed': '1.6GHz'}, {'Brand': 'MSI', 'Model': 'Modern 14 C11M i3 1115G4 (011VN)', 'Processor': 'Intel Core i3-1115G4', 'Graphics': 'Intel UHD', 'Screen Size': '14 inches', 'Processor Speed': '3GHz'}, {'Brand': 'MSI', 'Series': 'Gaming GF63 Thin 12UCX', 'Processor': 'Intel Core i5-12450H', 'Model Number': '873VN', 'Graphics Card': 'RTX 2050 4GB', 'Screen Size': '15.6 inches', 'Processor Speed': '2GHz'}, {'Brand': 'MSI', 'Series': 'Modern 15 B7M R5 7530U', 'Model Number': '231VN', 'Graphics Card': 'Radeon', 'Screen Size': '15.6 inches', 'Processor Speed': '2GHz'}, {'Brand': 'MSI', 'Model': 'Modern 15 B12MO', 'Processor': 'Intel Core i5 1235U', 'Graphics': 'Intel Iris Xe', 'Screen Size': '15.6 inches', 'Processor Speed': '1.3GHz'}, {'Brand': 'MSI', 'Series': 'Gaming GF63 12UC', 'Model': 'i5 12450H (803VN)', 'Graphics Card': 'RTX 3050 4GB', 'Screen Size': '15.6 inches', 'Processor Speed': '2GHz'}, {'Brand': 'MSI', 'Series': 'Gaming Bravo 15 B7ED R5 7535HS (010VN)', 'Graphics Card': 'RX 6550M 4GB', 'Screen Size': '15.6 inches', 'Processor Speed': '3.3GHz'}, {'Brand': 'MSI', 'Series': 'Gaming GF63 Thin 11UC', 'Processor': 'Intel Core i7-11800H', 'Model Number': '1228VN', 'Graphics Card': 'NVIDIA GeForce RTX 3050 Max-Q', 'VRAM': '4GB', 'Screen Size': '15.6 inches', 'Processor Speed': '2.30 GHz'}, {'Brand': 'MSI', 'Series': 'Gaming GF63 Thin 12VE', 'Processor': 'Intel Core i5-12450H', 'Graphics Card': 'RTX 4050 6GB', 'Screen Size': '15.6 inches', 'Processor Speed': '2GHz'}, {'Brand': 'MSI', 'Series': 'Gaming GF63 12UCX', 'Processor': 'Intel Core i5-12450H', 'Model Number': '841VN', 'Graphics Card': 'RTX 2050 4GB', 'Screen Size': '15.6 inches', 'Processor Speed': '2GHz'}, {'Brand': 'MSI', 'Series': 'Modern 15 B12MO', 'Model': 'i5 1235U (628VN)', 'Processor Brand': 'Intel', 'Graphics': 'Iris Xe', 'Screen Size': '15.6 inches', 'Processor Speed': '1.3GHz'}, {'Brand': 'MSI', 'Model': 'Modern 14 C7M R5 7530U (083VN)', 'Graphics Card': 'Radeon', 'Screen Size': '14 inches', 'Processor Speed': '2GHz'}, {'Brand': 'MSI', 'Series': 'Gaming Katana GF66 12UCK', 'Model': 'i7 12650H (804VN)', 'Graphics Card': 'RTX 3050 4GB', 'Screen Size': '15.6 inches', 'Processor Speed': '2.30 GHz'}, {'Brand': 'MSI', 'Series': 'Gaming GF63 Thin 11UC', 'Processor': 'Intel Core i5-11400H', 'Graphics Card': 'RTX 3050 Max-Q', 'Graphics Memory': '4GB', 'Screen Size': '15.6 inches', 'Processor Speed': '2.7GHz'}, {'Brand': 'MSI', 'Series': 'Gaming Thin A15 B7UCX', 'Model': 'R5 7535HS (020VN)', 'Graphics Card': 'RTX 2050 4GB', 'Screen Size': '15.6 inches', 'Processor Speed': '3.3GHz'}, {'Brand': 'MSI', 'Series': 'Modern 15 B12MO', 'Model': 'i7 1255U (487VN)', 'Graphics': 'Intel Iris Xe', 'Screen Size': '15.6 inches', 'Processor Speed': '1.7GHz'}, {'Brand': 'MSI', 'Series': 'Modern 15 B13M', 'Model': 'i5 1335U (438VN)', 'Processor Brand': 'Intel', 'Graphics': 'Iris Xe', 'Screen Size': '15.6 inches', 'Processor Speed': '1.3GHz'}, {'Brand': 'MSI', 'Series': 'Gaming GF63 Thin 11SC', 'Processor': 'Intel Core i5 11400H', 'Model Number': '664VN', 'Graphics Card': 'GTX 1650 Max-Q 4GB', 'Screen Size': '15.6 inches', 'Processor Speed': '2.7GHz'}, {'Brand': 'MSI', 'Series': 'Modern 15 B7M R7 7730U (238VN)', 'Graphics Card': 'Radeon', 'Screen Size': '15.6 inches', 'Processor Speed': '2GHz'}, {'Brand': 'MSI', 'Series': 'Prestige 14 Evo B13M', 'Model': 'i5 13500H (401VN)', 'Graphics': 'Intel Iris Xe', 'Screen Size': '14 inches', 'Processor Speed': '2.6GHz'}, {'Brand': 'MSI', 'Product Line': 'Gaming Sword 16 HX B14VFKG', 'Processor': 'i7 14700HX (045VN)', 'Graphics Card': 'RTX 4060 8GB', 'Screen Size': '16 inches', 'Processor Speed': '2.1GHz'}, {'Brand': 'MSI', 'Product Line': 'Gaming Titan 18 HX A14VIG', 'Processor': 'i9 14900HX', 'Graphics Card': 'RTX 4090 16GB', 'Screen Size': '18 inches', 'Processor Speed': '2.2GHz'}, {'Brand': 'MSI', 'Series': 'Gaming Stealth 16 AI Studio A1VGG Ultra 9 185H (089VN)', 'Graphics Card': 'RTX 4070 8GB', 'Screen Size': '16 inches', 'Processor Speed': '2.30 GHz'}, {'Brand': 'MSI', 'Series': 'Prestige 16 AI Studio B1VFG Ultra 9 185H (082VN)', 'Graphics Card': 'RTX 4060 8GB', 'Screen Size': '16 inches', 'Processor Speed': '2.30 GHz'}, {'Brand': 'MSI', 'Series': 'Gaming Stealth 14 AI Studio A1VFG Ultra 7 155H (050VN)', 'Graphics Card': 'RTX 4060 8GB', 'Screen Size': '14 inches', 'Processor Speed': '1.4GHz'}, {'Brand': 'MSI', 'Series': 'Prestige 16 Studio A13VE i7 13700H (214VN)', 'Graphics Card': 'RTX 4050 6GB', 'Screen Size': '16 inches', 'Processor Speed': '2.4GHz'}, {'Brand': 'MSI', 'Series': 'Gaming Sword 16 HX B14VEKG', 'Model': 'i7 14700HX (039VN)', 'Graphics Card': 'RTX 4050 6GB', 'Screen Size': '16 inches', 'Processor Speed': '2.1GHz'}, {'Brand': 'MSI', 'Model': 'Prestige 13 AI Evo A1MG Ultra 7 155H (062VN)', 'Graphics': 'Intel Arc Graphics', 'Screen Size': '13.3 inches', 'Processor Speed': '1.4GHz'}, {'Brand': 'MSI', 'Series': 'Gaming Katana A15 AI B8VF R7 8845HS (419VN)', 'Graphics Card': 'RTX 4060 8GB', 'Screen Size': '15.6 inches', 'Processor Speed': '3.8GHz'}, {'Brand': 'MSI', 'Series': 'Gaming Cyborg 15 AI A1VEK Ultra 7 155H (053VN)', 'Graphics Card': 'RTX 4050 6GB', 'Screen Size': '15.6 inches', 'Processor Speed': '1.4GHz'}, {'Brand': 'MSI', 'Series': 'Gaming Katana 15 B13VFK', 'Model': 'i7 13620H (676VN)', 'Graphics Card': 'RTX 4060 8GB', 'Screen Size': '15.6 inches', 'Processor Speed': '2.4GHz'}, {'Brand': 'MSI', 'Series': 'Gaming Katana A15 AI B8VE R7 8845HS', 'Model Number': '402VN', 'Graphics Card': 'RTX 4050 6GB', 'Screen Size': '15.6 inches', 'Processor Speed': '3.8GHz'}, {'Brand': 'MSI', 'Series': 'Gaming Cyborg 15 A12UCX', 'Processor': 'Intel Core i5-12450H', 'Graphics Card': 'RTX 2050 4GB', 'Screen Size': '15.6 inches', 'Processor Speed': '2GHz'}, {'Brand': 'HP', 'Model': '245 G10 R5-7520U (9H8X8PT)', 'Processor': 'Ryzen 5', 'Screen Size': '14 inches'}, {'Brand': 'Asus', 'Model': 'Vivobook E1404FA-NK186W', 'Processor': 'Ryzen 5 7520U', 'Screen Size': '14.0 inches'}, {'Brand': 'Lenovo', 'Product Line': 'Gaming LOQ - 15IAX9', 'Model': 'i5 12450HX (83GS000GVN)', 'Processor Type': 'Core i5', 'Screen Size': '15.6 inches'}, {'Brand': 'HP', 'Model': '14s-em0086AU', 'Processor': 'Ryzen 5 7520U', 'Model Number': '835T9PA', 'Screen Size': '14 inches'}, {'Brand': 'MSI', 'Model': 'Modern 14 C7M-221VN', 'Processor': 'Ryzen 7 7730U', 'Screen Size': '14.0 inches'}, {'Brand': 'Acer', 'Model': 'Aspire 3 A315-44P-R5QG', 'Processor': 'R7-5700U (Ryzen 7)', 'Screen Size': '15.6 inches'}, {'Brand': 'HP', 'Series': 'Pavilion Aero', 'Model': '13-be2098AU', 'Processor': 'Ryzen 7 7735U', 'Screen Size': '13.3 inches', 'Model Number': '8C5K5PA'}, {'Brand': 'Asus', 'Product Line': 'TUF Gaming', 'Model': 'FX507ZC4-HN095W', 'Processor': 'Core i5-12500H', 'Screen Size': '15.6 inches'}, {'Brand': 'Lenovo', 'Model': 'Ideapad 3 15IAU7 i7 1255U (82RK00W4VN)', 'Processor': 'Core i7', 'Screen Size': '15.6 inches'}, {'Brand': 'MSI', 'Model': 'Modern 14 C7M-220VN', 'Processor': 'Ryzen 5 7530U', 'Screen Size': '14.0 inches'}, {'Brand': 'Asus', 'Product Line': 'TUF Gaming', 'Model': 'FX506HF-HN017W', 'Processor': 'Intel Core i5-11400H', 'Processor Type': 'Core i5', 'Screen Size': '15.6 inches'}, {'Brand': 'Dell', 'Model': 'Inspiron 15 N3530 i5 1335U (N5I5489W1)', 'Processor Type': 'Core i5', 'Screen Size': '15.6 inches'}, {'Brand': 'Asus', 'Model': 'Vivobook X1404ZA-NK387W', 'Processor': 'Core i3 1215U', 'Screen Size': '14 inches'}, {'Brand': 'Lenovo', 'Model': 'IdeaPad 3 14IAH8', 'Model Number': '83EQ0005VN', 'Processor': 'Core i5-12450H', 'Screen Size': '14.0 inches'}, {'Brand': 'MSI', 'Series': 'Gaming Thin GF63', 'Model': '12VE-454VN', 'Processor': 'Intel Core i5-12450H', 'Screen Size': '15.6 inches'}, {'Brand': 'Dell', 'Model': 'Inspiron 15 N3520 i5 1235U_N5I5011W1', 'Processor Type': 'Core i5', 'Screen Size': '15.6 inches'}, {'Brand': 'Asus', 'Model': 'Vivobook 15 OLED A1505VA-L1113W', 'Processor': 'i5 13500H (Core i5)', 'Screen Size': '15.6 inches'}, {'Brand': 'HP', 'Model': '245 G10 R5 7520U (8F154PA)', 'Processor': 'Ryzen 5', 'Screen Size': '14.0 inches'}, {'Brand': 'Acer', 'Model': 'Aspire 7 Gaming A715-76-57CY', 'Processor': 'i5 12450H', 'Model Number': 'NH.QGESV.004', 'Processor Type': 'Core i5', 'Screen Size': '15.6 inches'}, {'Brand': 'HP', 'Model': 'Pavilion 14-dv2073TU', 'Processor': 'Core i5 1235U', 'Model Number': '7C0P2PA', 'Processor Type': 'Core i5', 'Screen Size': '14.0 inches'}, {'Brand': 'Asus', 'Model': 'Vivobook X1504VA-NJ526W', 'Processor': 'Core i5-1335U', 'Processor Brand': 'Intel', 'Screen Size': '15.6 inches'}, {'Brand': 'Lenovo', 'Model': 'IdeaPad 1 15ALC7 R5 5500U (82R400BYVN)', 'Processor': 'Ryzen 5', 'Screen Size': '15.6 inches'}, {'Brand': 'HP', 'Model': '15s-fq5144TU', 'Processor': 'Core i7-1255U', 'Processor Brand': 'Intel', 'Screen Size': '15.6 inches'}, {'Brand': 'Asus', 'Model': 'Vivobook M3504YA-L1268W', 'Processor': 'Ryzen 5 7530U', 'Processor Brand': 'AMD', 'Screen Size': '15.6 inches'}, {'Brand': 'HP', 'Model': '14s-em0078AU', 'Processor': 'Ryzen 5 7520U', 'Model Number': '80R28PA', 'Screen Size': '14 inches'}, {'Brand': 'Huawei', 'Model': 'MateBook D15', 'Processor': 'Ryzen 7 5700U', 'Processor Brand': 'AMD', 'Screen Size': '15.6 inches'}, {'Brand': 'Asus', 'Model': 'Vivobook Flip TN3402YA-LZ188W', 'Processor': 'Ryzen 5 7530U', 'Processor Type': 'Ryzen 5', 'Screen Size': '14.0 inches'}, {'Brand': 'HP', 'Model': 'Pavilion 14-dv2071TU', 'Processor': 'i7 1255U', 'Model Number': '7C0W0PA', 'Processor Type': 'Core i7', 'Screen Size': '14 inches'}, {'Brand': 'MSI', 'Product Line': 'Gaming GF63 Thin', 'Model': '11UC-1228VN', 'Processor': 'i7 11800H (Core i7)', 'Screen Size': '15.6 inches'}, {'Brand': 'HP', 'Model': 'Pavilion 14-dv2075TU', 'Processor': 'Core i5 1235U', 'Model Number': '7C0W2PA', 'Screen Size': '14.0 inches'}, {'Brand': 'Dell', 'Model': 'Vostro V3520', 'Processor': 'Core i5 1235U', 'Screen Size': '15.6 inches'}, {'Brand': 'Asus', 'Model': 'Vivobook 16 X1605ZA-MB193W', 'Processor': 'Core i3 1215U', 'Processor Type': 'Intel Core i3', 'Screen Size': '16.0 inches'}, {'Brand': 'Acer', 'Model': 'Aspire 3 A315-510P-34XZ', 'Processor': 'Core i3 N305', 'Processor Type': 'Intel Core i3', 'Screen Size': '15.6 inches'}, {'Brand': 'Asus', 'Model': 'Vivobook A1405VA-KM257W', 'Processor': 'Core i5-13500H', 'Screen Size': '14 inches'}, {'Brand': 'Dell', 'Model': 'Inspiron 15 N3530 i7 1355U (N3530I716W1)', 'Processor Type': 'Core i7', 'Screen Size': '15.6 inches'}, {'Brand': 'MSI', 'Product Line': 'Gaming GF63', 'Model Number': '12UCX-841VN', 'Processor': 'i5 12450H (Core i5)', 'Screen Size': '15.6 inches'}, {'Brand': 'Acer', 'Model': 'Aspire 7 Gaming A715-76G-5806', 'Processor': 'i5 12450H', 'Model Number': 'NH.QMFSV.002', 'Processor Type': 'Core i5', 'Screen Size': '15.6 inches'}, {'Brand': 'Acer', 'Model': 'Aspire Lite AL15-51M-55NB', 'Processor': 'i5-1155G7 (Core i5)', 'Screen Size': '15.6 inches'}, {'Brand': 'Gigabyte', 'Model': 'Gaming G5 MF-F2VN313SH', 'Processor': 'Core i5-12450H', 'Screen Size': '15.6 inches'}, {'Brand': 'Asus', 'Model': 'Vivobook A1405VA-KM059W', 'Processor': 'i5 13500H (Core i5)', 'Screen Size': '14 inches'}, {'Brand': 'Asus', 'Series': 'TUF Gaming', 'Model': 'FA507NU-LP045W', 'Processor': 'Ryzen 7 7735HS', 'Screen Size': '15.6 inches'}, {'Brand': 'Asus', 'Model': 'Vivobook Pro K3405VC-KM070W', 'Processor': 'Core i9 13900H', 'Screen Size': '14.0 inches'}, {'Brand': 'Lenovo', 'Product Line': 'IdeaPad Slim 5', 'Model': '14ABR8 R5 7530U (82XS0006VN)', 'Processor': 'Ryzen 5', 'Screen Size': '14 inches'}, {'Brand': 'Asus', 'Product Line': 'TUF Gaming', 'Model': 'FX506HC-HN144W', 'Processor': 'i5 11400H', 'Processor Type': 'Core i5', 'Screen Size': '15.6 inches'}, {'Brand': 'HP', 'Model': '15-fd0083TU', 'Processor': 'Core i7 1355U', 'Model Number': '8D736PA', 'Processor Type': 'Core i7', 'Screen Size': '15.6 inches'}, {'Brand': 'Lenovo', 'Product Line': 'IdeaPad Slim 5 16IAH8', 'Model Number': '83BG001XVN', 'Processor': 'Core i5', 'Processor Model': '12450H', 'Screen Size': '16 inches'}, {'Brand': 'HP', 'Series': 'Pavilion', 'Model': '15-eg3112TU', 'Processor': 'i7 1355U', 'Model Number': '8U6L9PA', 'Processor Type': 'Core i7', 'Screen Size': '15.6 inches'}, {'Brand': 'Acer', 'Product Line': 'Gaming Aspire 5', 'Model': 'A515-58GM-53CM', 'Processor': 'Core i5-13420H', 'Processor Type': 'Core i5', 'Screen Size': '15.6 inches'}, {'Brand': 'Lenovo', 'Product Line': 'ThinkBook 14 G6 IRL', 'Model Number': '21KG00BXVN', 'Processor': 'Core i5-13500H', 'Screen Size': '14 inches'}, {'Brand': 'MSI', 'Product Line': 'Gaming GF63 Thin', 'Model': '12UC-1006VN', 'Processor': 'Intel Core i5-12450H', 'Screen Size': '15.6 inches'}, {'Brand': 'MSI', 'Product Line': 'Gaming Alpha 15', 'Model': 'B5EEK-203VN', 'Processor': 'Ryzen 5 5600H', 'Screen Size': '15.6 inches'}, {'Brand': 'MSI', 'Model': 'Modern 15 B12MO-628VN', 'Processor': 'Core i5 1235U', 'Screen Size': '15.6 inches'}, {'Brand': 'MSI', 'Model': 'Summit E14Evo A12M-211VN', 'Processor': 'Core i7', 'Resolution': '1280P', 'Memory': '16GB', 'Storage': '512GB', 'Screen Size': '14 inches', 'Screen Type': 'FHD', 'Accessories': 'Túi_Chuột_Đen (Black Bag and Mouse)'}, {'Brand': 'MSI', 'Series': 'Gaming Raider GE77HX 12UHS-229VN', 'Processor': 'i9-12900HX', 'RAM': '64GB', 'Storage': '2TB', 'Screen Size': '17.3 inches', 'Screen Type': 'UHD', 'Graphics Card': 'RTX3080Ti_16G', 'Processor Type': 'Core i9'}, {'Brand': 'MacBook', 'Model': 'Pro 16', 'Year': '2023', 'Processor': 'M2 Pro', 'CPU Cores': '12', 'GPU Cores': '19', 'RAM': '16GB', 'Storage': '1TB', 'Screen Size': '16.2 inches'}, {'Brand': 'MacBook Pro', 'Model': '14', 'Year': '2023', 'Processor': 'M3 Pro 12 CPU', 'Graphics': '18 GPU', 'RAM': '18GB', 'Storage': '1TB', 'Screen Size': '14.2 inches'}, {'Brand': 'MacBook Pro', 'Model': '14', 'Year': '2023', 'Processor': 'M3 Pro 11 CPU', 'Graphics': '14 GPU', 'RAM': '18GB', 'Storage': '512GB', 'Screen Size': '14.2 inches'}, {'Brand': 'Lenovo', 'Product Line': 'ThinkPad X1 Carbon Gen 9', 'Processor': 'i7-1165G7', 'Model Number': '20XW00GDVN', 'Processor Type': 'Core i7', 'Screen Size': '14.0 inches'}, {'Brand': 'LG', 'Model': 'Gram 16Z90R-G.AH76A5', 'Processor': 'Core i7', 'Screen Size': '16.0 inches'}, {'Brand': 'MacBook', 'Model': 'Pro 14', 'Year': '2023', 'Processor': 'M3', 'CPU Cores': '8', 'GPU Cores': '10', 'RAM': '8GB', 'Storage': '512GB', 'Screen Size': '14.2 inches'}, {'Brand': 'MSI', 'Model': 'Gaming Katana 15 B13VGK-1211VN', 'Processor': 'Core i7-13620H', 'RAM': '16GB', 'Storage': '1TB', 'Screen Size': '15.6 inches', 'Screen Type': 'FHD', 'Graphics Card': 'RTX4070_8G', 'Additional Item': 'Balo (Backpack)'}, {'Brand': 'MSI', 'Model': 'Creator M16 B13VE-830VN', 'Processor': 'Core i7-13700H', 'Screen Size': '16.0 inches'}, {'Brand': 'Acer', 'Model': 'Swift Edge SFA16-41-R3L6', 'Processor': 'Ryzen 7 6800U', 'Model Number': 'NX.KABSV.002', 'Screen Size': '16.0 inches'}, {'Brand': 'Asus', 'Model': 'Zenbook 14 OLED UX3405MA-PP152W', 'Processor': 'Core Ultra 7-155H', 'Screen Size': '14 inches'}, {'Brand': 'Asus', 'Product Line': 'TUF Gaming', 'Model': 'FX507VV-LP181W', 'Processor': 'Core i7-13620H', 'Processor Type': 'Core i7', 'Screen Size': '15.6 inches'}, {'Brand': 'LG', 'Model': 'Gram 14Z90R-G.AH75A5', 'Processor': 'Core i7', 'Screen Size': '14 inches', 'Resolution': '1360P'}, {'Brand': 'Asus', 'Series': 'TUF Gaming F15', 'Model': 'FX507VU-LP197W', 'Processor': 'Core i7-13620H', 'Processor Type': 'Intel Core i7', 'Screen Size': '15.6 inches'}, {'Brand': 'LG', 'Model': 'Gram 14T90R-G.AH55A5', 'Processor': 'Core i5-1340P', 'Processor Brand': 'Intel', 'Screen Size': '14.0 inches'}, {'Brand': 'Asus', 'Model': 'Zenbook Flip UP3404VA-KN039W', 'Processor': 'Core i7', 'Resolution': '1360P', 'Processor Brand': 'Intel Core i7', 'Screen Size': '14 inches'}, {'Brand': 'MSI', 'Series': 'Gaming Cyborg 15 AI A1VE-053VN', 'Model': 'Ultra 7 155H', 'Processor': 'Core Ultra 7', 'Screen Size': '15.6 inches'}, {'Brand': 'MacBook Air', 'Model': 'M2', 'Year': '2022', 'Processor': '8CPU', 'Graphics': '8GPU', 'RAM': '16GB', 'Storage': '256GB', 'Screen Size': '13.6 inches'}, {'Brand': 'Lenovo', 'Product Line': 'Gaming LOQ - 15IRX9', 'Model': '83DV000NVN', 'Processor': 'Core i7 13650HX', 'Screen Size': '15.6 inches'}, {'Brand': 'MSI', 'Series': 'Gaming Katana 15', 'Model': 'B13VFK-676VN', 'Processor': 'Intel Core i7-13620H', 'Processor Type': 'Core i7', 'Screen Size': '15.6 inches'}, {'Brand': 'Asus', 'Product Line': 'TUF Gaming', 'Model': 'FX507ZV4-LP042W', 'Processor': 'Core i7 12700H', 'Processor Type': 'Intel Core i7', 'Screen Size': '15.6 inches'}, {'Brand': 'Dell', 'Model': 'Inspiron 14 2in1 T7430 i7 1355U (P172G001)', 'Processor Type': 'Core i7', 'Screen Size': '14 inches'}, {'Brand': 'Asus', 'Model': 'Vivobook Pro K6502VU-MA089W', 'Processor': 'i5 13500H (Core i5)', 'Screen Size': '15.6 inches'}, {'Brand': 'Asus', 'Model': 'Zenbook 14 OLED UX3405MA-PP151W', 'Processor': 'Core Ultra 5-125H', 'Screen Size': '14 inches', 'Processor Model': 'Meteor LakeCore Ultra 5'}, {'Brand': 'Asus', 'Model': 'Zenbook 14 OLED UX3405MA-PP588W', 'Series': 'Ultra 5-125H', 'Processor': 'Ultra 5 Meteor Lake', 'Screen Size': '14 inches'}, {'Brand': 'Gigabyte', 'Model': 'Gaming G6 KF-H3VN853SH', 'Processor': 'i7-13620H', 'Processor Type': 'Core i7', 'Screen Size': '16 inches'}, {'Brand': 'MacBook', 'Model': 'Air', 'Screen Size': '15.0 inches', 'Processor': 'M2', 'Year': '2023', 'CPU Cores': '8', 'GPU Cores': '10', 'RAM': '8 GB', 'Storage': '256 GB', 'Screen Type': 'M2'}, {'Brand': 'MSI', 'Series': 'Prestige 13Evo A13M-081VN', 'Processor': 'Core i7', 'Screen Size': '13.3 inches', 'Resolution': '1360P'}, {'Brand': 'Asus', 'Model': 'Zenbook 14 OLED UX3402VA-KM068W', 'Processor': 'Core i7', 'Resolution': '1360P', 'Screen Size': '14 inches'}, {'Brand': 'Acer', 'Series': 'Nitro V Gaming', 'Model': 'ANV15-51-55CA', 'Processor': 'i5 13420H', 'Model Number': 'NH.QN8SV.004', 'Processor Type': 'Core i5', 'Screen Size': '15.6 inches'}, {'Brand': 'Asus', 'Product Line': 'TUF Gaming', 'Model': 'FX507ZV4-LP041W', 'Processor': 'Core i7-12700H', 'Processor Brand': 'Intel', 'Screen Size': '15.6 inches'}, {'Brand': 'Asus', 'Series': 'TUF Gaming', 'Model': 'FA507NV-LP046W', 'Processor': 'Ryzen 7 7735HS', 'Screen Size': '15.6 inches'}, {'Brand': 'Asus', 'Series': 'TUF Gaming A15', 'Model': 'FA507NV-LP110W', 'Processor': 'Ryzen 5 7535HS', 'Screen Size': '15.6 inches'}, {'Brand': 'Macbook', 'Model': 'Air', 'Year': '2020', 'Processor': 'M1', 'Memory': '16GB', 'Storage': '256GB SSD', 'Screen Size': '13.3 inches'}, {'Brand': 'Acer', 'Model': 'Swift 3 SF314-512-741L', 'Processor': 'Core i7', 'Model Number': 'NX.K7JSV.001', 'Screen Size': '14.0 inches'}, {'Brand': 'Asus', 'Model': 'Zenbook Flip UP3404VA-KN038W', 'Processor': 'Core i5', 'Screen Size': '14 inches'}, {'Brand': 'MacBook', 'Model': 'Air M2 13 2022', 'Processor': '8CPU', 'Graphics': '8GPU', 'Memory': '8GB', 'Storage': '256GB', 'Screen Size': '13.6 inches'}, {'Brand': 'Gigabyte', 'Series': 'Gaming G5', 'Model': 'MF5-H2VN353SH', 'Processor': 'i7 13620H', 'Processor Type': 'Core i7', 'Screen Size': '15.6 inches'}, {'Brand': 'HP', 'Series': 'ProBook 440 G10', 'Model Number': '873C1PA', 'Processor': 'Core i7', 'Screen Size': '14.0 inches', 'Resolution': '1360P'}, {'Brand': 'Acer', 'Product Line': 'Nitro Gaming AN515-58-769J', 'Model': 'NH.QFHSV.003', 'Processor': 'Core i7 12700H', 'Screen Size': '15.6 inches'}, {'Brand': 'Gigabyte', 'Model': 'Gaming G5 KF-E3VN313SH', 'Processor': 'Core i5 12500H', 'Screen Size': '15.6 inches'}, {'Brand': 'Dell', 'Model': 'Inspiron 14 2in1 T7430 i5 1335U (N7430I58W1)', 'Processor': 'Core i5', 'Processor Model': '1335U', 'Screen Size': '14.0 inches'}, {'Brand': 'Asus', 'Model': 'Vivobook Flip TP3402VA-LZ118W', 'Processor': 'i9 13900H (Core i9)', 'Screen Size': '14 inches'}, {'Brand': 'Lenovo', 'Model': 'Yoga Slim 6 14IRH8 i7 13700H (83E0000VVN)', 'Processor': 'Core i7', 'Screen Size': '14 inches'}, {'Brand': 'MSI', 'Model': 'Summit E14 Flip Evo A12MT-210VN', 'Processor': 'Core i7', 'Resolution': '1280P', 'Memory': '16GB', 'Storage': '512GB', 'Screen Size': '14 inches', 'Screen Type': 'QHD', 'Accessories': 'Túi (Bag), Bút (Pen)', 'Color': 'Đen (Black)'}, {'Brand': 'Acer', 'Model': 'Swift X SFX16-51G-50GS', 'Model Number': 'NX.AYLSV.002', 'Processor': 'Core i5 11320H', 'Screen Size': '16.1 inches'}, {'Brand': 'Gigabyte', 'Model': 'Gaming G5 MF5-52VN353SH', 'Processor': 'i5 13500H', 'Processor Type': 'Core i5', 'Screen Size': '15.6 inches'}, {'Brand': 'Asus', 'Model': 'Vivobook S3405VA-KM071W', 'Processor': 'i9 13900H (Core i9)', 'Screen Size': '14.0 inches'}, {'Brand': 'Asus', 'Series': 'TUF Gaming', 'Model': 'FA507NU-LP034W', 'Processor': 'Ryzen 7 7735HS', 'Screen Size': '15.6 inches'}, {'Brand': 'HP', 'Product Line': 'Gaming Victus', 'Model': '16-s0078AX', 'Part Number': '8C5N7PA', 'Processor': 'Ryzen 5', 'Screen Size': '16.0 inches'}, {'Brand': 'Acer', 'Model': 'Nitro 5 Tiger Gaming AN515-58-52SP', 'Processor': 'i5 12500H', 'Model Number': 'NH.QFHSV.001', 'Processor Type': 'Core i5', 'Screen Size': '15.6 inches'}, {'Brand': 'Asus', 'Model': 'Vivobook S3504VA-L1227WS', 'Processor': 'Core i7', 'Resolution': '1360P', 'Processor Brand': 'Intel Core i7', 'Screen Size': '15.6 inches'}, {'Brand': 'MSI', 'Series': 'Prestige 14Evo', 'Model': 'B13M-401VN', 'Processor': 'i5 13500H (Core i5)', 'Screen Size': '14.0 inches'}, {'Brand': 'Asus', 'Model': 'Vivobook Pro K3405ZF-KM184W', 'Processor': 'i5-12500H (Core i5)', 'Screen Size': '14 inches'}, {'Brand': 'Lenovo', 'Series': 'Gaming LOQ 15IAX9', 'Model': 'i5-12450HX (83GS001RVN)', 'Processor': 'Core i5', 'Screen Size': '15.6 inches'}, {'Brand': 'HP', 'Series': 'ProBook 440 G10', 'Model': 'i5 1340P (873B2PA)', 'Processor Type': 'Core i5', 'Screen Size': '14.0 inches'}, {'Brand': 'Lenovo', 'Series': 'Thinkpad E14 G5', 'Model': 'T i5 1335U (21JK006BVN)', 'Processor': 'Core i5', 'Screen Size': '14 inches'}, {'Brand': 'Lenovo', 'Model': 'Thinkpad T14s Gen 2', 'Processor': 'i5 1145G7', 'Model Number': '20WMS1EE00', 'Processor Type': 'Core i5', 'Screen Size': '14 inches'}, {'Brand': 'HP', 'Product Line': 'Gaming Victus', 'Model': '15-fb1022AX', 'Model Number': '94F19PA', 'Processor': 'Ryzen 5', 'Screen Size': '15.6 inches'}, {'Brand': 'Lenovo', 'Product Line': 'Ideapad Gaming 3', 'Model': '15ARH7 R5 7535HS (82SB00JUVN)', 'Processor': 'Ryzen 5', 'Screen Size': '15.6 inches'}, {'Brand': 'HP', 'Series': 'Gaming Victus', 'Model': '16-e1104AX', 'Model Number': '7C0S9PA', 'Processor': 'Ryzen 7 6800H', 'Screen Size': '16.1 inches'}, {'Brand': 'Asus', 'Model': 'Zenbook UX3402ZA-KM218W', 'Processor': 'Core i5', 'Processor Model': '1240P', 'Screen Size': '14.0 inches'}, {'Brand': 'Asus', 'Product Line': 'TUF Gaming', 'Model': 'FX517ZC-HN077W', 'Processor': 'Core i5-12450H', 'Screen Size': '15.6 inches'}, {'Brand': 'HP', 'Series': 'Pavilion', 'Model': '14-dv2072TU', 'Processor': 'Core i7 1255U', 'Model Number': '7C0W1PA', 'Processor Type': 'Core i7', 'Screen Size': '14.0 inches'}, {'Brand': 'HP', 'Model': 'Pavilion 15-eg3111TU', 'Processor': 'Core i5-1335U', 'Model Number': '8U6L8PA', 'Processor Type': 'Core i5', 'Screen Size': '15.6 inches'}, {'Brand': 'Macbook', 'Model': 'Air 13 2020', 'Processor': 'M1', 'Memory': '8GB', 'Storage': '256GB SSD', 'Screen Size': '13.3 inches'}, {'Brand': 'Lenovo', 'Series': 'ThinkPad E14 Gen 4', 'Model': '21E300E3VN', 'Processor': 'Core i7', 'Processor Model': 'i7 1255U', 'Screen Size': '14.0 inches'}, {'Brand': 'Lenovo', 'Product Line': 'ThinkBook 15 G5 ABP R5 7530U', 'Model Number': '21JF001SVN', 'Processor': 'Ryzen 5', 'Screen Size': '15.6 inches'}, {'Brand': 'Acer', 'Product Line': 'Gaming Aspire 5', 'Model': 'A515-58GM-59QZ', 'Processor': 'i5 13420H', 'Model Number': 'NX.KQ4SV.006', 'Processor Type': 'Core i5', 'Screen Size': '15.6 inches'}, {'Brand': 'HP', 'Model': 'Pavilion 15-eg3095TU', 'Processor': 'Core i5-1335U', 'Model Number': '8C5L6PA', 'Processor Type': 'Core i5', 'Screen Size': '15.6 inches'}, {'Brand': 'Lenovo', 'Model': 'IdeaPad Slim 5 14IRL8 i5 13500H (82XD002VVN)', 'Processor': 'Core i5', 'Screen Size': '14.0 inches'}, {'Brand': 'Gigabyte', 'Series': 'Gaming A5', 'Model': 'K1-AVN1030SB', 'Processor': 'Ryzen 5 5600H', 'Screen Size': '15.6 inches'}, {'Brand': 'Lenovo', 'Product Line': 'ThinkBook 14 G4 IAP', 'Model Number': '21DH00BAVN', 'Processor': 'Core i5-1235U', 'Screen Size': '14.0 inches'}, {'Brand': 'MSI', 'Product Line': 'Gaming Cyborg 15', 'Model': 'A12UCX-618VN', 'Processor': 'Intel Core i5-12450H', 'Screen Size': '15.6 inches'}, {'Brand': 'Acer', 'Model': 'Aspire 7 Gaming A715-76G-55T6', 'Processor': 'i5 12450H', 'Model Number': 'NH.QMYSV.003', 'Processor Type': 'Core i5', 'Screen Size': '15.6 inches'}, {'Brand': 'HP', 'Model': '15-fd0079TU', 'Processor': 'Core i5-1335U', 'Model Number': '8D732PA', 'Processor Type': 'Core i5', 'Screen Size': '15.6 inches'}, {'Brand': 'HP', 'Model': '15s-fq5146TU', 'Processor': 'Core i7 1255U', 'Model Number': '7C0R9PA', 'Processor Type': 'Core i7', 'Screen Size': '15.6 inches'}, {'Brand': 'HP', 'Model': '15s fq5160TU', 'Processor': 'Core i5-1235U', 'Model Number': '7C0S1PA', 'Screen Size': '15.6 inches'}, {'Brand': 'HP', 'Model': '15s-fq5146TU', 'Processor': 'Core i7 1255U', 'Model Number': '7C0R9PA', 'Processor Type': 'Core i7', 'Screen Size': '15.6 inches'}, {'Brand': 'Acer', 'Product Line': 'Nitro 5 Gaming', 'Model': 'AN515-57-53F9', 'Processor': 'i5 11400H', 'Model Number': 'NH.QENSV.008', 'Processor Type': 'Core i5', 'Screen Size': '15.6 inches'}, {'Brand': 'Acer', 'Product Line': 'Nitro Gaming AN515-57-54MV', 'Model': 'NH.QENSV.003', 'Processor': 'Core i5 11400H', 'Screen Size': '15.6 inches'}, {'Brand': 'Acer', 'Product Line': 'Nitro Gaming', 'Model': 'AN515-57-5669', 'Processor': 'i5 11400H', 'Model Number': 'NH.QEHSV.001', 'Processor Type': 'Core i5', 'Screen Size': '15.6 inches'}, {'Brand': 'Acer', 'Model': 'Aspire 7 A715-76-53PJ', 'Processor': 'i5 12450H', 'Model Number': 'NH.QGESV.007', 'Processor Type': 'Core i5', 'Screen Size': '15.6 inches'}, {'Brand': 'VAIO', 'Model': 'FE14', 'Processor': 'Core i5 1235U', 'Model Number': 'VWNC51427-BK', 'Screen Size': '14.0 inches'}, {'Brand': 'Acer', 'Product Line': 'Aspire Gaming A715-43G-R8GA', 'Model': 'R5 5625U (NH.QHDSV.002)', 'Processor': 'Ryzen 5', 'Screen Size': '15.6 inches'}, {'Brand': 'Acer', 'Model': 'Aspire 5 A515-58GM-53PZ', 'Processor': 'i5 13420H (Core i5)', 'Screen Size': '15.6 inches'}, {'Brand': 'Acer', 'Model': 'Swift Go SFG14-41-R19Z', 'Processor': 'Ryzen 5 7530U', 'Model Number': 'NX.KG3SV.001', 'Screen Size': '14 inches'}, {'Brand': 'MSI', 'Product Line': 'Gaming Cyborg', 'Model': '15 A12UCX-281VN', 'Processor': 'i5 12450H', 'Processor Type': 'Core i5', 'Screen Size': '15.6 inches'}, {'Brand': 'Lenovo', 'Model': 'Ideapad Slim 5 Light 14ABR8 R7 7730U (82XS002JVN)', 'Processor': 'Ryzen 7', 'Screen Size': '14.0 inches'}, {'Brand': 'Asus', 'Model': 'Vivobook A1503ZA-L1139W', 'Processor': 'i5 12500H (Core i5)', 'Screen Size': '15.6 inches'}, {'Brand': 'Acer', 'Series': 'Aspire 7 Gaming', 'Model': 'A715-43G-R09Q', 'Processor': 'Ryzen 5 5625U', 'Model Number': 'NH.QHBSV.003', 'Screen Size': '15.6 inches'}, {'Brand': 'Acer', 'Model': 'Aspire 5 A515-58P-56RP', 'Processor Model': 'i5 1335U', 'Part Number': 'NX.KHJSV.008', 'Processor Type': 'Core i5', 'Screen Size': '15.6 inches'}, {'Brand': 'HP', 'Model': 'Pavilion 15-eg2083TU', 'Processor': 'Core i5 1240P', 'Model Number': '7C0W9PA', 'Processor Type': 'Core i5', 'Screen Size': '15.6 inches'}, {'Brand': 'Dell', 'Model': 'Inspiron 15 N3520 i5 1235U (25P231)', 'Processor Type': 'Core i5', 'Screen Size': '15.6 inches'}, {'Brand': 'MSI', 'Series': 'Modern 15', 'Model': 'B7M-238VN', 'Processor': 'Ryzen 7 7730U', 'Screen Size': '15.6 inches'}, {'Brand': 'Asus', 'Model': 'Vivobook M1605YA-MB303W', 'Processor': 'Ryzen 7 7730U', 'Processor Type': 'Ryzen 7', 'Screen Size': '16 inches'}, {'Brand': 'Asus', 'Model': 'Vivobook M3504YA-L1144W', 'Processor': 'Ryzen 5 7530U', 'Processor Type': 'Ryzen 5', 'Screen Size': '15.6 inches'}, {'Brand': 'Asus', 'Model': 'Vivobook X1605VA-MB105W', 'Processor': 'Core i5-1335U', 'Screen Size': '16 inches'}, {'Brand': 'Dell', 'Model': 'Inspiron 15 N3520 i5 1235U (N5I5122W1)', 'Processor': 'Core i5', 'Processor Model': '1235U', 'Screen Size': '15.6 inches'}, {'Brand': 'MSI', 'Product Line': 'Gaming GF63 Thin', 'Model Number': '11SC-664VN', 'Processor': 'i5 11400H', 'Processor Type': 'Core i5', 'Screen Size': '15.6 inches'}, {'Brand': 'Lenovo', 'Model': 'V14 G4 IRU i5 1335U (83A00010VN)', 'Processor': 'Core i5', 'Screen Size': '14 inches'}, {'Brand': 'Acer', 'Model': 'Aspire 5 A514-54-5127', 'Processor': 'i5 1135G7', 'Model Number': 'NX.A28SV.007', 'Processor Type': 'Core i5', 'Screen Size': '14.0 inches'}, {'Brand': 'Acer', 'Model': 'Swift 3 SF314-511-55QE', 'Processor': 'i5 1135G7', 'Model Number': 'NX.ABNSV.003', 'Processor Type': 'Core i5', 'Screen Size': '14.0 inches'}, {'Brand': 'Asus', 'Model': 'Vivobook X1502ZA-BQ126W', 'Processor': 'Core i5 1240P', 'Processor Type': 'Intel Core i5', 'Screen Size': '15.6 inches'}, {'Brand': 'MSI', 'Model': 'Modern 14 C13M-458VN', 'Processor': 'Core i5 1335U', 'Screen Size': '14 inches'}, {'Brand': 'Lenovo', 'Model': 'V15 G4 IAH i5 12500H (83FS0032VN)', 'Processor': 'Core i5', 'Processor Model': 'i5 12500H', 'Screen Size': '15.6 inches'}, {'Brand': 'Acer', 'Model': 'Swift 3 SF314-43-R4X3', 'Processor': 'Ryzen 5 5500U', 'Model Number': 'NX.AB1SV.004', 'Screen Size': '14.0 inches'}, {'Brand': 'Lenovo', 'Model': 'IdeaPad 3 15ITL6', 'Processor': 'i5 1155G7', 'Model Number': '82H803RWVN', 'Processor Type': 'Core i5', 'Screen Size': '15.6 inches'}, {'Brand': 'Acer', 'Model': 'Aspire 3 A315-59-51X8', 'Processor': 'Core i5 1235U', 'Model Number': 'NX.K6TSV.00F', 'Screen Size': '15.6 inches'}, {'Brand': 'MSI', 'Model': 'Modern 15 B13M-438VN', 'Processor': 'Core i5-1335U', 'Processor Brand': 'Intel', 'Screen Size': '15.6 inches'}, {'Brand': 'MSI', 'Series': 'Modern 15', 'Model': 'B7M-231VN', 'Processor': 'Ryzen 5 7530U', 'Screen Size': '15.6 inches'}, {'Brand': 'Lenovo', 'Model': 'Ideapad 1 - 14ALC7 R7 5700U (82R30077VN)', 'Processor': 'Ryzen 7', 'Screen Size': '14 inches'}, {'Brand': 'Acer', 'Model': 'Aspire 3 A314-23M-R4TX', 'Processor': 'Ryzen 5 7520U', 'Model Number': 'NX.KEXSV.001', 'Screen Size': '14.0 inches'}, {'Brand': 'Acer', 'Model': 'Aspire 3 A315-58-54M5', 'Processor': 'i5 1135G7', 'Model Number': 'NX.ADDSV.00M', 'Processor Type': 'Core i5', 'Screen Size': '15.6 inches'}, {'Brand': 'MSI', 'Model': 'Modern 15 B7M-098VN', 'Processor': 'Ryzen 7 7730U', 'Screen Size': '15.6 inches'}, {'Brand': 'Acer', 'Model': 'Aspire 5 A515-58P-351N', 'Processor': 'i3 1305U', 'Model Number': 'NX.KHJSV.007', 'Processor Type': 'Core i3', 'Screen Size': '15.6 inches'}, {'Brand': 'Huawei', 'Model': 'MateBook D14 BE', 'Processor': 'Core i3 1215U', 'Processor Type': 'Intel Core i3', 'Screen Size': '14.0 inches'}, {'Brand': 'HP', 'Model': '15s-fq5230TU', 'Processor': 'Core i3-1215U', 'Model Number': '8U238PA', 'Processor Type': 'Core i3', 'Screen Size': '15.6 inches'}, {'Brand': 'HP', 'Model': '245 G9 R5 5625U (6L1N8PA)', 'Processor': 'Ryzen 5', 'Screen Size': '14.0 inches'}, {'Brand': 'Asus', 'Model': 'Vivobook X1404ZA-NK075W', 'Processor': 'Core i3 1215U', 'Processor Type': 'Intel Core i3', 'Screen Size': '14.0 inches'}, {'Brand': 'Asus', 'Model': 'Vivobook E1504FA-NJ426W', 'Processor': 'Ryzen 3 7320U', 'Screen Size': '15.6 inches'}, {'Brand': 'HP', 'Model': '14s-em0080AU', 'Processor': 'Ryzen 3 7320U', 'Model Number': '80R30PA', 'Screen Size': '14.0 inches'}, {'Brand': 'HP', 'Model': '15s-fq2712TU', 'Processor': 'Core i3 1115G4', 'Model Number': '7C0X2PA', 'Processor Type': 'Core i3', 'Screen Size': '15.6 inches'}, {'Brand': 'Asus', 'Product Line': 'ROG Strix SCAR 18', 'Model Number': 'G834JYR-R6011W', 'Processor': 'i9-14900HX', 'Processor Type': 'Core i9', 'Screen Size': '18 inches'}, {'Brand': 'MacBook', 'Model': 'Pro 16', 'Year': '2023', 'Processor': 'M3 Max 16 CPU', 'Graphics': '40 GPU', 'RAM': '48GB', 'Storage': '1TB', 'Screen Size': '16.2 inches'}, {'Brand': 'Asus', 'Series': 'ROG Strix SCAR 16', 'Model': 'G634JZR-NM009W', 'Processor': 'i9-14900HX', 'Processor Type': 'Core i9', 'Screen Size': '16 inches'}, {'Brand': 'MacBook Pro', 'Model': '16', 'Year': '2023', 'Processor': 'M3 Max 14 CPU', 'Graphics': 'M3 Max 30 GPU', 'RAM': '36GB', 'Storage': '1TB', 'Screen Size': '16.2 inches'}, {'Brand': 'MacBook Pro', 'Model': '14', 'Year': '2023', 'Processor': 'M3 Max 14 CPU', 'Graphics': '30 GPU', 'RAM': '36GB', 'Storage': '1TB', 'Screen Size': '14.2 inches'}, {'Brand': 'Asus', 'Product Line': 'Gaming ROG Zephyrus', 'Model': 'G16 GU605MI-QR116W', 'Processor': 'Core Ultra 9', 'Screen Size': '16 inches'}, {'Brand': 'MacBook', 'Model': 'Pro 16', 'Year': '2023', 'Processor': 'M3 Pro 12 CPU', 'Graphics': 'M3 Pro 18 GPU', 'RAM': '36GB', 'Storage': '512GB', 'Screen Size': '16.2 inches'}, {'Brand': 'Asus', 'Series': 'ROG Strix G18', 'Model': 'G814JIR-N6007W', 'Processor': 'i9-14900HX', 'Processor Type': 'Core i9', 'Screen Size': '18 inches'}, {'Brand': 'Asus', 'Product Line': 'Gaming ROG Zephyrus', 'Model': 'G16 GU605MV-QR135W', 'Screen Size': '16 inches', 'Processor': 'Core Ultra 9-185H'}, {'Brand': 'Asus', 'Product Line': 'Gaming ROG Zephyrus G14', 'Model': 'GA403UU-QS101W', 'Processor': 'Ryzen 9', 'Processor Model': 'R9-8945HS', 'Screen Size': '16 inches'}, {'Brand': 'Lenovo', 'Series': 'Legion Pro 5 16IRX9', 'Model Number': '83DF0047VN', 'Processor': 'Core i9', 'Screen Size': '16 inches'}, {'Brand': 'Lenovo', 'Product Line': 'Legion 5', 'Model': '16IRX9 i7-14650HX (83DG004YVN)', 'Processor': 'Core i7', 'Screen Size': '16 inches'}, {'Brand': 'Asus', 'Series': 'TUF Gaming', 'Model': 'FA507NU-LP131W', 'Processor': 'Ryzen 5 7535HS', 'Screen Size': '15.6 inches'}, {'Brand': 'Asus', 'Model': 'Zenbook 14 OLED UM3402YA-KM405W', 'Processor': 'R5-7530U (Ryzen 5)', 'Screen Size': '14 inches'}, {'Brand': 'Asus', 'Model': 'Vivobook A1505VA-L1201W', 'Processor': 'i9 13900H (Core i9)', 'Screen Size': '15.6 inches'}, {'Brand': 'ASUS', 'Model': 'Zenbook 14 OLED UM3402YA-KM826W', 'Processor': 'R5-7430U (Ryzen 5)', 'Screen Size': '14 inches'}, {'Brand': 'Asus', 'Product Line': 'TUF Gaming', 'Model': 'FA506NC-HN011W', 'Processor': 'Ryzen 5-7535HS', 'Screen Size': '15.6 inches'}, {'Brand': 'Asus', 'Series': 'TUF Gaming A15', 'Model': 'FA506NF-HN012W', 'Processor': 'Ryzen 5 7535HS', 'Screen Size': '15.6 inches'}, {'Brand': 'MSI', 'Model': 'Modern 15 B12MO-487VN', 'Processor': 'Core i7 1255U', 'Processor Brand': 'Intel', 'Screen Size': '15.6 inches'}, {'Brand': 'Lenovo', 'Model': 'Ideapad Flex 5 14ALC7 R7 5700U (82R900ECVN)', 'Processor': 'Ryzen 7', 'Screen Size': '14 inches'}, {'Brand': 'Lenovo', 'Model': 'IdeaPad Slim 3 14IAH8', 'Model Number': '83EQ0009VN', 'Processor': 'Core i5-12450H', 'Screen Size': '14 inches'}, {'Brand': 'Lenovo', 'Model': 'Ideapad Flex 5 14ALC7 R5 5500U (82R900EDVN)', 'Processor': 'Ryzen 5', 'Screen Size': '14 inches'}]\n"
     ]
    }
   ],
   "source": [
    "print(preds)"
   ]
  },
  {
   "cell_type": "code",
   "execution_count": 13,
   "id": "189dd723",
   "metadata": {},
   "outputs": [],
   "source": [
    "# Tên tệp JSON bạn muốn lưu\n",
    "file_name = \"result_open.json\"\n",
    "\n",
    "# Ghi từ điển vào tệp JSON\n",
    "with open(file_name, 'w') as json_file:\n",
    "    json.dump(preds, json_file)"
   ]
  },
  {
   "cell_type": "code",
   "execution_count": 14,
   "id": "1de27c80",
   "metadata": {
    "scrolled": false
   },
   "outputs": [],
   "source": [
    "preds=[]\n",
    "with open(file_name, 'r') as f:\n",
    "    task_results = json.load(f)\n",
    "    for task_result in task_results:\n",
    "        preds.append(task_result)\n",
    "\n",
    "data=[]\n",
    "for pred, example in zip(preds, task_dict['examples']):\n",
    "    extract_product={}\n",
    "    extract_product['title'] = example['input']\n",
    "    if 'Screen Size' in pred:\n",
    "        extract_product['Screen Size'] = pred['Screen Size']\n",
    "    else:\n",
    "        extract_product['Screen Size'] = 'I do not know.'\n",
    "    \n",
    "    if 'Processor Brand' in pred:    \n",
    "        extract_product['Processor Brand'] = pred['Processor Brand']\n",
    "    elif 'Processor' in pred: \n",
    "        extract_product['Processor Brand'] = pred['Processor']\n",
    "    else:    \n",
    "        extract_product['Processor Brand'] = 'I do not know.'\n",
    "        \n",
    "    if 'Processor Speed' in pred:\n",
    "        extract_product['Processor Speed'] = pred['Processor Speed']\n",
    "    else:\n",
    "        extract_product['Processor Speed'] = 'I do not know.'\n",
    "    data.append(extract_product)"
   ]
  },
  {
   "cell_type": "code",
   "execution_count": 15,
   "id": "b1319f77",
   "metadata": {},
   "outputs": [],
   "source": [
    "with open('C:/Users/ADMIN/Desktop/DATN/Extract_Information/data_crawl/results/results_open_datacrawl.json', 'w', encoding='utf-8') as json_file:\n",
    "    json.dump(data, json_file)"
   ]
  },
  {
   "cell_type": "code",
   "execution_count": 16,
   "id": "6a153dc5",
   "metadata": {},
   "outputs": [],
   "source": [
    "import pandas as pd\n",
    "# Tạo DataFrame từ danh sách\n",
    "df = pd.DataFrame(data)"
   ]
  },
  {
   "cell_type": "code",
   "execution_count": 17,
   "id": "fb7481fd",
   "metadata": {},
   "outputs": [],
   "source": [
    "df.to_csv('extract_gpt.csv', index=False, encoding='utf-8')"
   ]
  },
  {
   "cell_type": "code",
   "execution_count": 2,
   "id": "16ab4798",
   "metadata": {},
   "outputs": [
    {
     "name": "stdout",
     "output_type": "stream",
     "text": [
      "[{'title': 'HP 15s fq5229TU i3 1215U (8U237PA) (Intel UHD, 15.6 inches, 1.2GHz)', 'Screen Size': '15.6 inches', 'Processor Brand': 'Intel Core i3 1215U', 'Processor Speed': '1.2GHz'}, {'title': 'HP 240 G9 i3 1215U (6L1X7PA) (Intel UHD, 14 inches, 1.2GHz)', 'Screen Size': '14 inches', 'Processor Brand': 'Intel Core i3-1215U', 'Processor Speed': '1.2GHz'}, {'title': 'HP Pavilion 15 eg2081TU i5 1240P (7C0Q4PA) (Intel Iris Xe, 15.6 inches, 1.7GHz)', 'Screen Size': '15.6 inches', 'Processor Brand': 'Intel Core i5 1240P', 'Processor Speed': '1.7GHz'}, {'title': 'HP 245 G10 R5 7520U (8F155PA) (Radeon, 14 inches, 2.8GHz)', 'Screen Size': '14 inches', 'Processor Brand': 'AMD Ryzen 5 7520U', 'Processor Speed': '2.8GHz'}, {'title': 'HP Pavilion 14 dv2073TU i5 1235U (7C0P2PA) (Intel Iris Xe, 14 inches, 1.3GHz)', 'Screen Size': '14 inches', 'Processor Brand': 'Intel', 'Processor Speed': '1.3GHz'}, {'title': 'HP 240 G9 i5 1235U (6L1Y2PA) (Intel UHD, 14 inches, 1.3GHz)', 'Screen Size': '14 inches', 'Processor Brand': 'Intel Core i5-1235U', 'Processor Speed': '1.3GHz'}, {'title': 'HP 15s fq5162TU i5 1235U (7C134PA) (Intel Iris Xe, 15.6 inches, 1.3GHz)', 'Screen Size': '15.6 inches', 'Processor Brand': 'Intel Core i5-1235U', 'Processor Speed': '1.3GHz'}, {'title': 'HP Pavilion 15 eg2082TU i5 1240P (7C0Q5PA) (Intel Iris Xe, 15.6 inches, 1.7GHz)', 'Screen Size': '15.6 inches', 'Processor Brand': 'Intel Core i5 1240P', 'Processor Speed': '1.7GHz'}, {'title': 'HP 15s fq5147TU i7 1255U (7C133PA) (Intel Iris Xe, 15.6 inches, 1.7GHz)', 'Screen Size': '15.6 inches', 'Processor Brand': 'i7 1255U', 'Processor Speed': '1.7GHz'}, {'title': 'HP Pavilion 14 dv2074TU i5 1235U (7C0P3PA) (Intel Iris Xe, 14 inches, 1.3GHz)', 'Screen Size': '14 inches', 'Processor Brand': 'Intel Core i5-1235U', 'Processor Speed': '1.3GHz'}, {'title': 'HP Gaming VICTUS 15 fa1139TX i5 12450H (8Y6W3PA) (RTX 2050 4GB, 15.6 inches, 2GHz)', 'Screen Size': '15.6 inches', 'Processor Brand': 'i5 12450H', 'Processor Speed': '2GHz'}, {'title': 'HP 14 ep0126TU i3 N305 (8U233PA) (Intel UHD, 14 inches, 1.8GHz)', 'Screen Size': '14 inches', 'Processor Brand': 'Intel Core i3 N305', 'Processor Speed': '1.8GHz'}, {'title': 'HP Pavilion 15 eg2088TU i7 1260P (7C0R0PA) (Intel Iris Xe, 15.6 inches, 2.1GHz)', 'Screen Size': '15.6 inches', 'Processor Brand': 'i7 1260P', 'Processor Speed': '2.1GHz'}, {'title': 'HP Gaming VICTUS 15 fb1022AX R5 7535HS (94F19PA) (RTX 2050 4GB, 15.6 inches, 3.3GHz)', 'Screen Size': '15.6 inches', 'Processor Brand': 'R5 7535HS', 'Processor Speed': '3.3GHz'}, {'title': 'HP 240 G9 i5 1235U (6L1Y1PA) (Intel UHD, 14 inches, 1.3GHz)', 'Screen Size': '14 inches', 'Processor Brand': 'Intel Core i5-1235U', 'Processor Speed': '1.3GHz'}, {'title': 'HP 15s fq2716TU i3 1115G4 (7C0X3PA) (Intel UHD, 15.6 inches, 3GHz)', 'Screen Size': '15.6 inches', 'Processor Brand': 'Intel Core i3 1115G4', 'Processor Speed': '3GHz'}, {'title': 'HP Envy X360 13 bf0090TU i7 1250U (76B13PA) (Intel Iris Xe, 13.3 inches, 1.1GHz)', 'Screen Size': '13.3 inches', 'Processor Brand': 'Intel Core i7-1250U', 'Processor Speed': '1.1GHz'}, {'title': 'HP Pavilion X360 14 ek1047TU i7 1355U (80R25PA) (Intel Iris Xe, 14 inches, 1.7GHz)', 'Screen Size': '14 inches', 'Processor Brand': 'i7 1355U', 'Processor Speed': '1.7GHz'}, {'title': 'HP Pavilion 15 eg3091TU i7 1355U (8C5L2PA) (Intel Iris Xe, 15.6 inches, 1.7GHz)', 'Screen Size': '15.6 inches', 'Processor Brand': 'i7 1355U', 'Processor Speed': '1.7GHz'}, {'title': 'HP Pavilion X360 14 ek1048TU i5 1335U (80R26PA) (Intel Iris Xe, 14 inches, 1.3GHz)', 'Screen Size': '14 inches', 'Processor Brand': 'Intel Core i5-1335U', 'Processor Speed': '1.3GHz'}, {'title': 'HP Envy X360 13 bf0112TU i5 1230U (7C0N9PA) (Intel Iris Xe, 13.3 inches, 1.00 GHz)', 'Screen Size': '13.3 inches', 'Processor Brand': 'Intel Core i5 1230U', 'Processor Speed': '1.00 GHz'}, {'title': 'HP Pavilion X360 14 ek1049TU i5 1335U (80R27PA) (Intel Iris Xe, 14 inches, 1.3GHz)', 'Screen Size': '14 inches', 'Processor Brand': 'Intel Core i5-1335U', 'Processor Speed': '1.3GHz'}, {'title': 'HP Pavilion 15 eg3093TU i5 1335U (8C5L4PA) (Intel Iris Xe, 15.6 inches, 1.3GHz)', 'Screen Size': '15.6 inches', 'Processor Brand': 'i5 1335U', 'Processor Speed': '1.3GHz'}, {'title': 'HP Pavilion 15 eg3095TU i5 1335U (8C5L6PA) (Intel Iris Xe, 15.6 inches, 1.3GHz)', 'Screen Size': '15.6 inches', 'Processor Brand': 'i5 1335U', 'Processor Speed': '1.3GHz'}, {'title': 'HP Pavilion 15 eg2062TX i5 1235U (7C0W7PA) (MX550 2GB, 15.6 inches, 1.3GHz)', 'Screen Size': '15.6 inches', 'Processor Brand': 'i5 1235U', 'Processor Speed': '1.3GHz'}, {'title': 'HP 240 G10 i5 1335U (8F134PA) (Intel UHD, 14 inches, 1.3GHz)', 'Screen Size': '14 inches', 'Processor Brand': 'Intel Core i5-1335U', 'Processor Speed': '1.3GHz'}, {'title': 'HP Elitebook 630 G9 i5 1235U (6M143PA) (Intel UHD, 13.3 inches, 1.3GHz)', 'Screen Size': '13.3 inches', 'Processor Brand': 'Intel', 'Processor Speed': '1.3GHz'}, {'title': 'HP Gaming VICTUS 16 s0077AX R7 7840HS (8C5N6PA) (RTX 3050 6GB, 16.1 inches, 3.8GHz)', 'Screen Size': '16.1 inches', 'Processor Brand': 'R7 7840HS', 'Processor Speed': '3.8GHz'}, {'title': 'HP Gaming VICTUS 16 e1106AX R5 6600H (7C0T1PA) (RTX 3050Ti 4GB, 16.1 inches, 3.3GHz)', 'Screen Size': '16.1 inches', 'Processor Brand': 'AMD Ryzen 5 6600H', 'Processor Speed': '3.3GHz'}, {'title': 'HP Pavilion 15 eg2086TU i3 1215U (7C0Q8PA) (Intel UHD, 15.6 inches, 1.2GHz)', 'Screen Size': '15.6 inches', 'Processor Brand': 'Intel Core i3 1215U', 'Processor Speed': '1.2GHz'}, {'title': 'HP Gaming VICTUS 15 fa0155TX i5 12450H (81P00PA) (RTX 3050 4GB, 15.6 inches, 2GHz)', 'Screen Size': '15.6 inches', 'Processor Brand': 'i5 12450H', 'Processor Speed': '2GHz'}, {'title': 'HP 240 G10 i5 1335U (8F136PA) (Intel UHD, 14 inches, 1.3GHz)', 'Screen Size': '14 inches', 'Processor Brand': 'Intel Core i5-1335U', 'Processor Speed': '1.3GHz'}, {'title': 'HP 245 G9 R5 5625U (6L1N9PA) (Radeon, 14 inches, 2.30 GHz)', 'Screen Size': '14 inches', 'Processor Brand': 'AMD Ryzen 5 5625U', 'Processor Speed': '2.30 GHz'}, {'title': 'HP OMEN 16 xf0070AX R9 7940HS (8W945PA) (RTX 4070 8GB, 16.1 inches, 4GHz)', 'Screen Size': '16.1 inches', 'Processor Brand': '4GHz', 'Processor Speed': 'I do not know.'}, {'title': 'HP OMEN 16 xf0071AX R7 7840HS (8W946PA) (RTX 4060 8GB, 16.1 inches, 3.8GHz)', 'Screen Size': '16.1 inches', 'Processor Brand': 'I do not know.', 'Processor Speed': '3.8GHz'}, {'title': 'HP Envy 16 h0205TX i9 12900H (7C0T2PA) (RTX 3060 6GB, 16 inches, 2.5GHz)', 'Screen Size': '16 inches', 'Processor Brand': 'i9 12900H', 'Processor Speed': '2.5GHz'}, {'title': 'HP Envy 16 h0207TX i7 12700H (7C0T4PA) (RTX 3060 6GB, 16 inches, 2.30 GHz)', 'Screen Size': '16 inches', 'Processor Brand': 'i7 12700H', 'Processor Speed': '2.30 GHz'}, {'title': 'HP Elitebook Dragonfly G3 i7 1255U (6Z980PA) (Intel Iris Xe, 13.5 inches, 1.7GHz)', 'Screen Size': '13.5 inches', 'Processor Brand': 'i7 1255U', 'Processor Speed': '1.7GHz'}, {'title': 'HP Gaming VICTUS 16 s0138AX R7 7840HS (9Q985PA) (RTX 4070 8GB, 16.1 inches, 3.8GHz)', 'Screen Size': '16.1 inches', 'Processor Brand': 'R7 7840HS', 'Processor Speed': '3.8GHz'}, {'title': 'HP Omen 16 n0087AX R7 6800H (7C0T7PA) (RTX 3060 6GB, 16.1 inches, 3.2GHz)', 'Screen Size': '16.1 inches', 'Processor Brand': 'I do not know.', 'Processor Speed': '3.2GHz'}, {'title': 'HP Elitebook X360 1040 G9 i7 1255U (6Z982PA) (Intel Iris Xe, 14 inches, 1.7GHz)', 'Screen Size': '14 inches', 'Processor Brand': 'I do not know.', 'Processor Speed': '1.7GHz'}, {'title': 'HP Gaming VICTUS 16 s0139AX R7 7840HS (9Q986PA) (RTX 4060 8GB, 16.1 inches, 3.8GHz)', 'Screen Size': '16.1 inches', 'Processor Brand': 'I do not know.', 'Processor Speed': '3.8GHz'}, {'title': 'HP Gaming VICTUS 16 r0227TX i5 13500H (9Q978PA) (RTX 4060 8GB, 16.1 inches, 2.6GHz)', 'Screen Size': '16.1 inches', 'Processor Brand': 'I do not know.', 'Processor Speed': '2.6GHz'}, {'title': 'HP Gaming VICTUS 16 r0228TX i5 13500H (9Q979PA) (RTX 4050 6GB, 16.1 inches, 2.6GHz)', 'Screen Size': '16.1 inches', 'Processor Brand': 'I do not know.', 'Processor Speed': '2.6GHz'}, {'title': 'HP Elitebook 630 G10 i7 1355U (9J0B7PT) (Intel UHD, 13.3 inches, 1.7GHz)', 'Screen Size': '13.3 inches', 'Processor Brand': 'Intel', 'Processor Speed': '1.7GHz'}, {'title': 'HP Elitebook 630 G10 i7 1355U (873F2PA) (Intel UHD, 13.3 inches, 1.7GHz)', 'Screen Size': '13.3 inches', 'Processor Brand': 'Intel', 'Processor Speed': '1.7GHz'}, {'title': 'HP Elitebook 630 G10 i5 1335U (9J0B5PT) (Intel UHD, 13.3 inches, 1.3GHz)', 'Screen Size': '13.3 inches', 'Processor Brand': 'Intel', 'Processor Speed': '1.3GHz'}, {'title': 'HP Probook 450 G10 i7 1355U (873D3PA) (Intel UHD, 15.6 inches, 1.7GHz)', 'Screen Size': '15.6 inches', 'Processor Brand': 'Intel Core i7-1355U', 'Processor Speed': '1.7GHz'}, {'title': 'HP Pavilion X360 14 ek0132TU i7 1255U (7C0W4PA) (Intel Iris Xe, 14 inches, 1.7GHz)', 'Screen Size': '14 inches', 'Processor Brand': 'Intel Core i7-1255U', 'Processor Speed': '1.7GHz'}, {'title': 'HP Pavilion 15 eg3035TX i7 1355U (8U6L7PA) (MX550 2GB, 15.6 inches, 1.7GHz)', 'Screen Size': '15.6 inches', 'Processor Brand': 'i7 1355U', 'Processor Speed': '1.7GHz'}, {'title': 'HP Pavilion 15 eg2034TX i7 1255U (6K780PA) (MX550 2GB, 15.6 inches, 1.7GHz)', 'Screen Size': '15.6 inches', 'Processor Brand': 'i7 1255U', 'Processor Speed': '1.7GHz'}, {'title': 'HP Pavilion 14 dv2071TU i7 1255U (7C0W0PA) (Intel Iris Xe, 14 inches, 1.7GHz)', 'Screen Size': '14 inches', 'Processor Brand': 'Intel', 'Processor Speed': '1.7GHz'}, {'title': 'HP Probook 450 G10 i5 1335U (873D1PA) (Intel UHD, 15.6 inches, 1.3GHz)', 'Screen Size': '15.6 inches', 'Processor Brand': 'Intel Core i5-1335U', 'Processor Speed': '1.3GHz'}, {'title': 'HP Pavilion 15 eg3033TX i5 1335U (8U6L6PA) (MX550 2GB, 15.6 inches, 1.3GHz)', 'Screen Size': '15.6 inches', 'Processor Brand': 'i5 1335U', 'Processor Speed': '1.3GHz'}, {'title': 'HP Probook 450 G9 i5 1235U (6M0Y9PA) (Intel UHD, 15.6 inches, 1.3GHz)', 'Screen Size': '15.6 inches', 'Processor Brand': 'Intel Core i5-1235U', 'Processor Speed': '1.3GHz'}, {'title': 'HP Pavilion 15 eg2035TX i5 1235U (6K781PA) (MX550 2GB, 15.6 inches, 1.3GHz)', 'Screen Size': '15.6 inches', 'Processor Brand': 'I do not know.', 'Processor Speed': '1.3GHz'}, {'title': 'HP Pavilion 15 eg2036TX i5 1235U (6K782PA) (MX550 2GB, 15.6 inches, 1.3GHz)', 'Screen Size': '15.6 inches', 'Processor Brand': 'i5 1235U', 'Processor Speed': '1.3GHz'}, {'title': 'HP Pavilion 15 eg3094TU i5 1335U (8C5L5PA) (Intel Iris Xe, 15.6 inches, 1.3GHz)', 'Screen Size': '15.6 inches', 'Processor Brand': 'i5 1335U', 'Processor Speed': '1.3GHz'}, {'title': 'HP Pavilion 15 eg2085TU i5 1240P (7C0Q7PA) (Intel Iris Xe, 15.6 inches, 1.7GHz)', 'Screen Size': '15.6 inches', 'Processor Brand': 'Intel Core i5 1240P', 'Processor Speed': '1.7GHz'}, {'title': 'HP Pavilion X360 14 ek0131TU i3 1215U (7C0P6PA) (Intel UHD, 14 inches, 1.2GHz)', 'Screen Size': '14 inches', 'Processor Brand': 'Intel Core i3 1215U', 'Processor Speed': '1.2GHz'}, {'title': 'HP Pavilion X360 14 ek0130TU i3 1215U (7C0P5PA) (Intel UHD, 14 inches, 1.2GHz)', 'Screen Size': '14 inches', 'Processor Brand': 'Intel Core i3 1215U', 'Processor Speed': '1.2GHz'}, {'title': 'HP Pavilion 15 eg3098TU i3 1315U (8C5L9PA) (Intel UHD, 15.6 inches, 1.2GHz)', 'Screen Size': '15.6 inches', 'Processor Brand': 'i3 1315U', 'Processor Speed': '1.2GHz'}, {'title': 'Asus Vivobook Go 15 E1504FA R5 7520U (NJ776W) (Radeon, 15.6 inches, 2.8GHz)', 'Screen Size': '15.6 inches', 'Processor Brand': 'I do not know.', 'Processor Speed': '2.8GHz'}, {'title': 'Asus Vivobook 15 OLED A1505ZA i5 12500H (L1337W) (Intel Iris Xe, 15.6 inches, 2.5GHz)', 'Screen Size': '15.6 inches', 'Processor Brand': 'Intel', 'Processor Speed': '2.5GHz'}, {'title': 'Asus Vivobook X1404ZA i3 1215U (NK246W) (Intel UHD, 14 inches, 1.2GHz)', 'Screen Size': '14 inches', 'Processor Brand': 'Intel Core i3-1215U', 'Processor Speed': '1.2GHz'}, {'title': 'Asus TUF Gaming F15 FX506HF i5 11400H (HN014W) (RTX 2050 4GB, 15.6 inches, 2.7GHz)', 'Screen Size': '15.6 inches', 'Processor Brand': 'I do not know.', 'Processor Speed': '2.7GHz'}, {'title': 'Asus Vivobook 16 X1605VA i5 1335U (MB360W) (Intel Iris Xe, 16 inches, 1.3GHz)', 'Screen Size': '16 inches', 'Processor Brand': 'Intel', 'Processor Speed': '1.3GHz'}, {'title': 'Asus Vivobook 15 X1504ZA i3 1215U (NJ102W) (Intel UHD, 15.6 inches, 1.2GHz)', 'Screen Size': '15.6 inches', 'Processor Brand': 'Intel', 'Processor Speed': '1.2GHz'}, {'title': 'Asus TUF Gaming F15 FX507ZC4 i5 12500H (HN229W) (RTX 3050 4GB, 15.6 inches, 2.5GHz)', 'Screen Size': '15.6 inches', 'Processor Brand': 'I do not know.', 'Processor Speed': '2.5GHz'}, {'title': 'Asus Vivobook 15 OLED A1505VA i5 13500H (L1341W) (Intel Iris Xe, 15.6 inches, 2.6GHz)', 'Screen Size': '15.6 inches', 'Processor Brand': 'Intel', 'Processor Speed': '2.6GHz'}, {'title': 'Asus TUF Gaming F17 FX706HF i5 11400H (HX390W) (RTX 2050 4GB, 17.3 inches, 2.7GHz)', 'Screen Size': '17.3 inches', 'Processor Brand': 'Intel Core i5-11400H (HX390W)', 'Processor Speed': '2.7GHz'}, {'title': 'Asus Vivobook 14 X1404VA i5 1335U (NK050W) (Intel Iris Xe, 14 inches, 1.3GHz)', 'Screen Size': '14 inches', 'Processor Brand': 'Intel', 'Processor Speed': '1.3GHz'}, {'title': 'Asus TUF Gaming A15 FA507NU R5 7535HS (LP105W) (RTX 4050 6GB, 15.6 inches, 3.3GHz)', 'Screen Size': '15.6 inches', 'Processor Brand': 'Ryzen 5 7535HS', 'Processor Speed': '3.3GHz'}, {'title': 'Asus Vivobook 15 X1504VA i5 1335U (NJ025W) (Intel UHD, 15.6 inches, 1.3GHz)', 'Screen Size': '15.6 inches', 'Processor Brand': 'Intel', 'Processor Speed': '1.3GHz'}, {'title': 'Asus Vivobook S 14 Flip TP3402VA i5 13500H (LZ031W) (Intel Iris Xe, 14 inches, 2.6GHz)', 'Screen Size': '14 inches', 'Processor Brand': 'Intel', 'Processor Speed': '2.6GHz'}, {'title': 'Asus Vivobook X415EA i3 1115G4 (EK2034W) (Intel UHD, 14 inches, 3GHz)', 'Screen Size': '14 inches', 'Processor Brand': 'Intel Core i3-1115G4', 'Processor Speed': '3GHz'}, {'title': 'Asus TUF Gaming F15 FX507VU i7 13620H (LP167W) (RTX 4050 6GB, 15.6 inches, 2.4GHz)', 'Screen Size': '15.6 inches', 'Processor Brand': 'i7-13620H (LP167W)', 'Processor Speed': '2.4GHz'}, {'title': 'Asus TUF Gaming F15 FX506HC i5 11400H (HN949W) (RTX 3050 4GB, 15.6 inches, 2.7GHz)', 'Screen Size': '15.6 inches', 'Processor Brand': 'I do not know.', 'Processor Speed': '2.7GHz'}, {'title': 'Asus TUF Gaming A15 FA506NF R5 7535HS (HN012W) (RTX 2050 4GB, 15.6 inches, 3.3GHz)', 'Screen Size': '15.6 inches', 'Processor Brand': 'I do not know.', 'Processor Speed': '3.3GHz'}, {'title': 'Asus TUF Gaming F15 FX507ZC4 i5 12500H (HN074W) (RTX 3050 4GB, 15.6 inches, 2.5GHz)', 'Screen Size': '15.6 inches', 'Processor Brand': 'I do not know.', 'Processor Speed': '2.5GHz'}, {'title': 'Asus Vivobook X515EA i3 1115G4 (EJ3948W) (Intel UHD, 15.6 inches, 3GHz)', 'Screen Size': '15.6 inches', 'Processor Brand': 'Intel Core i3-1115G4', 'Processor Speed': '3GHz'}, {'title': 'Asus Vivobook 14X OLED K3405VC i5 13500H (KM006W) (RTX 3050 4GB, 14 inches, 2.6GHz)', 'Screen Size': '14 inches', 'Processor Brand': 'I do not know.', 'Processor Speed': '2.6GHz'}, {'title': 'Asus Vivobook 15 OLED A1505VA i9 13900H (L1386W) (Intel Iris Xe, 15.6 inches, 2.6GHz)', 'Screen Size': '15.6 inches', 'Processor Brand': 'Intel', 'Processor Speed': '2.6GHz'}, {'title': 'Asus Vivobook 15 OLED A1505VA i7 13700H (L1338W) (Intel Iris Xe, 15.6 inches, 2.4GHz)', 'Screen Size': '15.6 inches', 'Processor Brand': 'Intel', 'Processor Speed': '2.4GHz'}, {'title': 'Asus TUF Gaming A15 FA507NV R7 7735HS (LP031W) (RTX 4060 8GB, 15.6 inches, 3.2GHz)', 'Screen Size': '15.6 inches', 'Processor Brand': 'I do not know.', 'Processor Speed': '3.2GHz'}, {'title': 'Asus Zenbook 14 OLED UX3402VA i5 1340P (KM085W) (Intel Iris Xe, 14 inches, 1.9GHz)', 'Screen Size': '14 inches', 'Processor Brand': 'Intel', 'Processor Speed': '1.9GHz'}, {'title': 'Asus Vivobook 15 OLED A1505VA i5 13500H (L1052W) (Intel UHD, 15.6 inches, 2.6GHz)', 'Screen Size': '15.6 inches', 'Processor Brand': 'Intel', 'Processor Speed': '2.6GHz'}, {'title': 'Asus Zenbook 14 OLED UX3405MA Ultra 7 155H (PP152W) (Intel Arc Graphics, 14 inches, 1.4GHz)', 'Screen Size': '14 inches', 'Processor Brand': 'I do not know.', 'Processor Speed': '1.4GHz'}, {'title': 'Asus Vivobook 15 X1504VA i7 1355U (NJ023W) (Intel Iris Xe, 15.6 inches, 1.7GHz)', 'Screen Size': '15.6 inches', 'Processor Brand': 'Intel', 'Processor Speed': '1.7GHz'}, {'title': 'Asus Zenbook 14 Flip OLED UP3404VA i5 1340P (KN038W) (Intel Iris Xe, 14 inches, 1.9GHz)', 'Screen Size': '14 inches', 'Processor Brand': 'Intel', 'Processor Speed': '1.9GHz'}, {'title': 'Asus Zenbook 14 OLED UX3405MA Ultra 5 125H (PP151W) (Intel Arc Graphics, 14 inches, 1.2GHz)', 'Screen Size': '14 inches', 'Processor Brand': 'I do not know.', 'Processor Speed': '1.2GHz'}, {'title': 'Asus TUF Gaming A15 FA506NC R5 7535HS (HN017W) (RTX 3050 4GB, 15.6 inches, 3.3GHz)', 'Screen Size': '15.6 inches', 'Processor Brand': 'I do not know.', 'Processor Speed': '3.3GHz'}, {'title': 'Asus Vivobook 14X OLED S3405VA i5 13500H (KM072W) (Intel Iris Xe, 14 inches, 2.6GHz)', 'Screen Size': '14 inches', 'Processor Brand': 'Intel', 'Processor Speed': '2.6GHz'}, {'title': 'Asus Gaming ROG Zephyrus G16 GU605MV Ultra 9 185H (QR135W) (RTX 4060 8GB, 16 inches, 2.30 GHz)', 'Screen Size': '16 inches', 'Processor Brand': 'I do not know.', 'Processor Speed': '2.30 GHz'}, {'title': 'Asus Vivobook Go 15 E1504FA R5 7520U (NJ630W) (Radeon, 15.6 inches, 2.8GHz)', 'Screen Size': '15.6 inches', 'Processor Brand': 'Radeon', 'Processor Speed': '2.8GHz'}, {'title': 'Asus Gaming ROG Zephyrus G16 GU605MI Ultra 9 185H (QR116W) (RTX 4070 8GB, 16 inches, 2.30 GHz)', 'Screen Size': '16 inches', 'Processor Brand': 'I do not know.', 'Processor Speed': '2.30 GHz'}, {'title': 'Asus Gaming ROG Strix G15 G513IH R7 4800H (HN015W) (GTX 1650 4GB, 15.6 inches, 2.9GHz)', 'Screen Size': '15.6 inches', 'Processor Brand': '2.9GHz', 'Processor Speed': 'I do not know.'}, {'title': 'Asus Vivobook X1404ZA i5 1235U (NK376W) (Intel Iris Xe, 14 inches, 1.3GHz)', 'Screen Size': '14 inches', 'Processor Brand': 'i5 1235U', 'Processor Speed': '1.3GHz'}, {'title': 'Asus Vivobook 15 OLED A1505VA i9 13900H (L1201W) (Intel Iris Xe, 15.6 inches, 2.6GHz)', 'Screen Size': '15.6 inches', 'Processor Brand': 'Intel', 'Processor Speed': '2.6GHz'}, {'title': 'Asus Gaming TUF Dash F15 FX517ZE i5 12450H (HN045W) (RTX 3050Ti 4GB, 15.6 inches, 2GHz)', 'Screen Size': '15.6 inches', 'Processor Brand': 'Intel Core i5-12450H', 'Processor Speed': '2GHz'}, {'title': 'Asus Zenbook 14 Flip OLED UP3404VA i7 1360P (KN039W) (Intel Iris Xe, 14 inches, 2.2GHz)', 'Screen Size': '14 inches', 'Processor Brand': 'Intel', 'Processor Speed': '2.2GHz'}, {'title': 'Asus TUF Gaming F15 FX507VV i7 13620H (LP181W) (RTX 4060 8GB, 15.6 inches, 2.4GHz)', 'Screen Size': '15.6 inches', 'Processor Brand': 'i7-13620H (LP181W)', 'Processor Speed': '2.4GHz'}, {'title': 'Asus Gaming ROG Strix SCAR 18 G834JY i9 13980HX (N6039W) (RTX 4090 16GB, 18 inches, 2.2GHz)', 'Screen Size': '18 inches', 'Processor Brand': 'I do not know.', 'Processor Speed': '2.2GHz'}, {'title': 'Asus Gaming ROG Strix SCAR 17 G733PZ R9 7945HX (LL980W) (RTX 4080 12GB, 17.3 inches, 2.5GHz)', 'Screen Size': '17.3 inches', 'Processor Brand': 'I do not know.', 'Processor Speed': '2.5GHz'}, {'title': 'Asus Gaming ROG Strix SCAR 18 G834JYR i9 14900HX (R6011W) (RTX 4090 16GB, 18 inches, 2.2GHz)', 'Screen Size': '18 inches', 'Processor Brand': 'I do not know.', 'Processor Speed': '2.2GHz'}, {'title': 'Asus Gaming ROG Strix SCAR 16 G634JZR i9 14900HX (NM009W) (RTX 4080 12GB, 16 inches, 2.2GHz)', 'Screen Size': '16 inches', 'Processor Brand': 'I do not know.', 'Processor Speed': '2.2GHz'}, {'title': 'Asus Gaming ROG Zephyrus Duo 16 GX650PZ R9 7945HX (NM031W) (RTX 4080 12GB, 16 inches, 2.5GHz)', 'Screen Size': '16 inches', 'Processor Brand': 'I do not know.', 'Processor Speed': '2.5GHz'}, {'title': 'Asus Gaming ROG Strix SCAR 16 G634JZ i9 13980HX (N4029W) (RTX 4080 12GB, 16 inches, 2.2GHz)', 'Screen Size': '16 inches', 'Processor Brand': 'i9 13980HX', 'Processor Speed': '2.2GHz'}, {'title': 'Asus Gaming ROG Zephyrus M16 GU604VI i9 13900H (NM779W) (RTX 4070 8GB, 16 inches, 2.6GHz)', 'Screen Size': '16 inches', 'Processor Brand': 'I do not know.', 'Processor Speed': '2.6GHz'}, {'title': 'Asus Gaming ROG Strix SCAR G18 G814JIR i9 14900HX (N6007W) (RTX 4070 8GB, 18 inches, 2.2GHz)', 'Screen Size': '18 inches', 'Processor Brand': 'i9 14900HX', 'Processor Speed': '2.2GHz'}, {'title': 'Asus Gaming ROG Flow X16 GV601VV i9 13900H (NL016W) (RTX 4060 8GB, 16 inches, 2.6GHz)', 'Screen Size': '16 inches', 'Processor Brand': 'I do not know.', 'Processor Speed': '2.6GHz'}, {'title': 'Asus Gaming ROG Flow X13 GV302XU R9 7940HS (MU223W) (RTX 4050 6GB, 13.4 inches, 4GHz)', 'Screen Size': '13.4 inches', 'Processor Brand': 'I do not know.', 'Processor Speed': '4GHz'}, {'title': 'Asus Zenbook S 13 OLED UX5304VA i7 1355U (NQ126W) (Intel Iris Xe, 13.3 inches, 1.7GHz)', 'Screen Size': '13.3 inches', 'Processor Brand': 'Intel', 'Processor Speed': '1.7GHz'}, {'title': 'Asus ExpertBook B9 OLED B9403CVA i7 1355U (KM0157X) (Intel Iris Xe, 14 inches, 1.7GHz)', 'Screen Size': '14 inches', 'Processor Brand': 'Intel', 'Processor Speed': '1.7GHz'}, {'title': 'Asus TUF Gaming F15 FX507VV i7 13620H (LP171W) (RTX 4060 8GB, 15.6 inches, 2.4GHz)', 'Screen Size': '15.6 inches', 'Processor Brand': 'i7-13620H', 'Processor Speed': '2.4GHz'}, {'title': 'Asus TUF Gaming A15 FA507XI R9 7940HS (LP420W) (RTX 4070 8GB, 15.6 inches, 4GHz)', 'Screen Size': '15.6 inches', 'Processor Brand': 'R9 7940HS (LP420W)', 'Processor Speed': '4GHz'}, {'title': 'Asus Gaming ROG Zephyrus G14 GA402NJ R7 7735HS (L4056W) (RTX 3050 6GB, 14 inches, 3.2GHz)', 'Screen Size': '14 inches', 'Processor Brand': 'I do not know.', 'Processor Speed': '3.2GHz'}, {'title': 'Asus Gaming ROG Strix G16 G614JU i5 13450HX (N3135W) (RTX 4050 6GB, 16 inches, 2.4GHz)', 'Screen Size': '16 inches', 'Processor Brand': 'I do not know.', 'Processor Speed': '2.4GHz'}, {'title': 'Asus Zenbook S 13 OLED UX5304VA i7 1355U (NQ125W) (Intel Iris Xe, 13.3 inches, 1.7GHz)', 'Screen Size': '13.3 inches', 'Processor Brand': 'Intel Core i7-1355U', 'Processor Speed': '1.7GHz'}, {'title': 'Asus Zenbook 14 OLED UX3402VA i7 1360P (KM068W) (Intel Iris Xe, 14 inches, 2.2GHz)', 'Screen Size': '14 inches', 'Processor Brand': 'Intel', 'Processor Speed': '2.2GHz'}, {'title': 'Asus Zenbook 14 OLED UM3402YA R5 7530U (KM405W) (Radeon, 14 inches, 2GHz)', 'Screen Size': '14 inches', 'Processor Brand': 'AMD Ryzen 5 7530U', 'Processor Speed': '2GHz'}, {'title': 'Asus Vivobook 14 A1405VA i3 1315U (LY097W) (Intel UHD, 14 inches, 1.2GHz)', 'Screen Size': '14 inches', 'Processor Brand': 'Intel Core i3-1315U', 'Processor Speed': '1.2GHz'}, {'title': 'Acer Aspire 3 A315 510P 32EF i3 N305 (NX.KDHSV.001) (Intel UHD, 15.6 inches, N305)', 'Screen Size': '15.6 inches', 'Processor Brand': 'Intel Core i3 N305', 'Processor Speed': 'I do not know.'}, {'title': 'Acer Aspire Lite 15 51M 5542 i5 1155G7 (NX.KS5SV.001) (Intel Iris Xe, 15.6 inches, 2.5GHz)', 'Screen Size': '15.6 inches', 'Processor Brand': 'Intel Core i5-1155G7', 'Processor Speed': '2.5GHz'}, {'title': 'Acer Aspire 5 Gaming A515 58GM 51LB i5 13420H (NX.KQ4SV.002) (RTX 2050 4GB, 15.6 inches, 2.1GHz)', 'Screen Size': '15.6 inches', 'Processor Brand': 'i5-13420H', 'Processor Speed': '2.1GHz'}, {'title': 'Acer Aspire 3 A315 44P R9W8 R7 5700U (NX.KSJSV.002) (Radeon, 15.6 inches, 1.8GHz)', 'Screen Size': '15.6 inches', 'Processor Brand': 'AMD Ryzen 7 5700U', 'Processor Speed': '1.8GHz'}, {'title': 'Acer Nitro 5 Gaming AN515 57 5669 i5 11400H (NH.QEHSV.001) (GTX 1650 4GB, 15.6 inches, 2.7GHz)', 'Screen Size': '15.6 inches', 'Processor Brand': 'I do not know.', 'Processor Speed': '2.7GHz'}, {'title': 'Acer Aspire 3 A315 58 589K i5 1135G7 (NX.AM0SV.008) (Intel Iris Xe, 15.6 inches, 2.4GHz)', 'Screen Size': '15.6 inches', 'Processor Brand': 'Intel Core i5-1135G7', 'Processor Speed': '2.4GHz'}, {'title': 'Acer Aspire 7 Gaming A715 43G R8GA R5 5625U (NH.QHDSV.002) (RTX 3050 4GB, 15.6 inches, 2.30 GHz)', 'Screen Size': '15.6 inches', 'Processor Brand': '2.30 GHz', 'Processor Speed': 'I do not know.'}, {'title': 'Acer Aspire 3 A315 59 38PG i3 1215U (NX.K6TSV.00A) (Intel UHD, 15.6 inches, 1.2GHz)', 'Screen Size': '15.6 inches', 'Processor Brand': 'Intel Core i3-1215U', 'Processor Speed': '1.2GHz'}, {'title': 'Acer Aspire 3 A314 42P R3B3 R7 5700U (NX.KSFSV.001) (Radeon, 14 inches, 1.8GHz)', 'Screen Size': '14 inches', 'Processor Brand': 'AMD Ryzen 7 5700U', 'Processor Speed': '1.8GHz'}, {'title': 'Acer TravelMate P4 TMP414 51 50HX i5 1135G7 (NX.VP2SV.00T) (Intel Iris Xe, 14 inches, 2.4GHz)', 'Screen Size': '14 inches', 'Processor Brand': 'Intel Core i5-1135G7', 'Processor Speed': '2.4GHz'}, {'title': 'Acer Aspire 5 A515 58P 34RJ i3 1315U (NX.KHJSV.003) (Intel UHD, 15.6 inches, 1.2GHz)', 'Screen Size': '15.6 inches', 'Processor Brand': 'Intel Core i3-1315U', 'Processor Speed': '1.2GHz'}, {'title': 'Acer Aspire 7 Gaming A715 76G 5806 i5 12450H (NH.QMFSV.002) (RTX 3050 4GB, 15.6 inches, 2GHz)', 'Screen Size': '15.6 inches', 'Processor Brand': 'Intel Core i5-12450H', 'Processor Speed': '2GHz'}, {'title': 'Acer Aspire 3 A315 59 5283 i5 1235U (NX.K6TSV.00B) (Intel UHD, 15.6 inches, 1.3GHz)', 'Screen Size': '15.6 inches', 'Processor Brand': 'Intel Core i5-1235U', 'Processor Speed': '1.3GHz'}, {'title': 'Acer Gaming Nitro V ANV15 51 53NE i5 13420H (NH.QNASV.002) (RTX 2050 4GB, 15.6 inches, 2.1GHz)', 'Screen Size': '15.6 inches', 'Processor Brand': 'I do not know.', 'Processor Speed': '2.1GHz'}, {'title': 'Acer Aspire 3 A315 58 54XF i5 1135G7 (NX.AM0SV.007) (Intel Iris Xe, 15.6 inches, 2.4GHz)', 'Screen Size': '15.6 inches', 'Processor Brand': 'Intel Core i5 1135G7', 'Processor Speed': '2.4GHz'}, {'title': 'Acer Nitro 5 Tiger AN515 58 52SP i5 12500H (NH.QFHSV.001) (RTX 3050 4GB, 15.6 inches, 2.5GHz)', 'Screen Size': '15.6 inches', 'Processor Brand': 'i5 12500H', 'Processor Speed': '2.5GHz'}, {'title': 'Acer Aspire 5 A514 56P 54TN i5 1335U (NX.KHRSV.004) (Intel Iris Xe, 14 inches, 1.3GHz)', 'Screen Size': '14 inches', 'Processor Brand': 'Intel Core i5 1335U', 'Processor Speed': '1.3GHz'}, {'title': 'Acer Aspire 5 A514 54 5127 i5 1135G7 (NX.A28SV.007) (Intel Iris Xe, 14 inches, 2.4GHz)', 'Screen Size': '14 inches', 'Processor Brand': 'Intel Core i5-1135G7', 'Processor Speed': '2.4GHz'}, {'title': 'Acer Aspire 3 A314 35 P3G9 N6000 (NX.A7SSV.007) (Intel UHD, 14 inches, 1.1GHz)', 'Screen Size': '14 inches', 'Processor Brand': 'I do not know.', 'Processor Speed': '1.1GHz'}, {'title': 'Acer Swift 3 SF314 511 55QE i5 1135G7 (NX.ABNSV.003) (Intel Iris Xe, 14 inches, 2.4GHz)', 'Screen Size': '14 inches', 'Processor Brand': 'Intel Core i5 1135G7', 'Processor Speed': '2.4GHz'}, {'title': 'Acer Aspire 3 A314 35 C3KS N5100 (NX.A7SSV.009) (Intel UHD, 14 inches, 1.1GHz)', 'Screen Size': '14 inches', 'Processor Brand': 'I do not know.', 'Processor Speed': '1.1GHz'}, {'title': 'Acer Gaming Nitro V ANV15 51 57B2 i5 13420H (NH.QN8SV.001) (RTX 4050 6GB, 15.6 inches, 2.1GHz)', 'Screen Size': '15.6 inches', 'Processor Brand': 'I do not know.', 'Processor Speed': '2.1GHz'}, {'title': 'Acer Gaming Nitro 5 AN515 58 769J i7 12700H (NH.QFHSV.003) (RTX 3050 4GB, 15.6 inches, 2.30 GHz)', 'Screen Size': '15.6 inches', 'Processor Brand': 'Intel Core i7-12700H', 'Processor Speed': '2.30 GHz'}, {'title': 'Acer TravelMate P4 TMP414 51G 59R6 i5 1135G7 (NX.VP9SV.001) (MX350 2GB, 14 inches, 2.4GHz)', 'Screen Size': '14 inches', 'Processor Brand': 'Intel Core i5 1135G7', 'Processor Speed': '2.4GHz'}, {'title': 'Acer Aspire 7 Gaming A715 76G 59MW i5 12450H (NH.QMYSV.001) (RTX 2050 4GB, 15.6 inches, 2GHz)', 'Screen Size': '15.6 inches', 'Processor Brand': 'Intel Core i5-12450H', 'Processor Speed': '2GHz'}, {'title': 'Acer Swift 3 SF314 512 56QN i5 1240P (NX.K0FSV.002) (Intel Iris Xe, 14 inches, 1.7GHz)', 'Screen Size': '14 inches', 'Processor Brand': 'Intel Core i5 1240P', 'Processor Speed': '1.7GHz'}, {'title': 'Acer Gaming Predator Helios 16 PH16 71 72BV i7 13700HX (NH.QJRSV.001) (RTX 4070 8GB, 16 inches, 2.1GHz)', 'Screen Size': '16 inches', 'Processor Brand': 'I do not know.', 'Processor Speed': '2.1GHz'}, {'title': 'Acer Nitro 5 Tiger AN515 58 773Y i7 12700H (NH.QFKSV.001) (RTX 3050Ti 4GB, 15.6 inches, 2.30 GHz)', 'Screen Size': '15.6 inches', 'Processor Brand': 'i7 12700H', 'Processor Speed': '2.30 GHz'}, {'title': 'Acer Gaming Nitro V ANV15 51 58AN i5 13420H (NH.QNASV.001) (RTX 2050 4GB, 15.6 inches, 2.1GHz)', 'Screen Size': '15.6 inches', 'Processor Brand': 'I do not know.', 'Processor Speed': '2.1GHz'}, {'title': 'Acer Aspire 5 A515 58M 56YX i5 13420H (NX.KQ8SV.005) (Intel UHD, 15.6 inches, 2.1GHz)', 'Screen Size': '15.6 inches', 'Processor Brand': 'Intel Core i5-13420H', 'Processor Speed': '2.1GHz'}, {'title': 'Acer Gaming Nitro 5 AN515 57 53F9 i5 11400H (NH.QENSV.008) (RTX 3050 4GB, 15.6 inches, 2.7GHz)', 'Screen Size': '15.6 inches', 'Processor Brand': 'Intel Core i5-11400H', 'Processor Speed': '2.7GHz'}, {'title': 'Lenovo Ideapad 1 15ALC7 R7 5700U (82R400C1VN) (Radeon, 15.6 inches, 1.8GHz)', 'Screen Size': '15.6 inches', 'Processor Brand': 'I do not know.', 'Processor Speed': '1.8GHz'}, {'title': 'Lenovo V14 G3 ABA R5 5625U (82TU006SVN) (Radeon, 14 inches, 2.30 GHz)', 'Screen Size': '14 inches', 'Processor Brand': 'AMD Ryzen 5 5625U', 'Processor Speed': '2.30 GHz'}, {'title': 'Lenovo Ideapad Slim 3 15IAH8 i5 12450H (83ER000EVN) (Intel UHD, 15.6 inches, 2GHz)', 'Screen Size': '15.6 inches', 'Processor Brand': 'Intel Core i5-12450H', 'Processor Speed': '2GHz'}, {'title': 'Lenovo V15 G4 IRU i5 1335U (83A1000LVN) (Intel Iris Xe, 15.6 inches, 1.3GHz)', 'Screen Size': '15.6 inches', 'Processor Brand': 'Intel', 'Processor Speed': '1.3GHz'}, {'title': 'Lenovo Ideapad 5 15IAL7 i5 1235U (82SF005HVN) (Intel Iris Xe, 15.6 inches, 1.3GHz)', 'Screen Size': '15.6 inches', 'Processor Brand': 'Intel', 'Processor Speed': '1.3GHz'}, {'title': 'Lenovo Ideapad 3 15IAU7 i3 1215U (82RK005LVN) (Intel UHD, 15.6 inches, 1.2GHz)', 'Screen Size': '15.6 inches', 'Processor Brand': 'Intel', 'Processor Speed': '1.2GHz'}, {'title': 'Lenovo Ideapad Slim 3 15IAH8 i5 12450H (83ER000FVN) (Intel UHD, 15.6 inches, 2GHz)', 'Screen Size': '15.6 inches', 'Processor Brand': 'Intel Core i5-12450H', 'Processor Speed': '2GHz'}, {'title': 'Lenovo Ideapad 3 15IAU7 i3 1215U (82RK00RWVN) (Intel UHD, 15.6 inches, 1.2GHz)', 'Screen Size': '15.6 inches', 'Processor Brand': 'Intel', 'Processor Speed': '1.2GHz'}, {'title': 'Lenovo Ideapad 3 15ITL6 i5 1155G7 (82H803RRVN) (Intel Iris Xe, 15.6 inches, 2.5GHz)', 'Screen Size': '15.6 inches', 'Processor Brand': 'Intel', 'Processor Speed': '2.5GHz'}, {'title': 'Lenovo IdeaPad 1 15AMN7 R5 7520U (82VG0061VN) (AMD Radeon 610M, 15.6 inches, 2.8GHz)', 'Screen Size': '15.6 inches', 'Processor Brand': 'I do not know.', 'Processor Speed': '2.8GHz'}, {'title': 'Lenovo ThinkBook 15 G5 IRL i7 1355U (21JD002AVN) (Intel Iris Xe, 15.6 inches, 1.7GHz)', 'Screen Size': '15.6 inches', 'Processor Brand': 'Intel Core i7 1355U', 'Processor Speed': '1.7GHz'}, {'title': 'Lenovo Ideapad 3 15IAU7 i3 1215U (82RK001MVN) (Intel UHD, 15.6 inches, 1.2GHz)', 'Screen Size': '15.6 inches', 'Processor Brand': 'Intel', 'Processor Speed': '1.2GHz'}, {'title': 'Lenovo Ideapad Slim 3 15IRH8 i7 13620H (83EM003FVN) (Intel UHD, 15.6 inches, 2.4GHz)', 'Screen Size': '15.6 inches', 'Processor Brand': 'Intel Core i7-13620H', 'Processor Speed': '2.4GHz'}, {'title': 'Lenovo Ideapad 3 15IAU7 i7 1255U (82RK00X0VN) (Intel Iris Xe, 15.6 inches, 1.7GHz)', 'Screen Size': '15.6 inches', 'Processor Brand': 'I do not know.', 'Processor Speed': '1.7GHz'}, {'title': 'Lenovo Ideapad 5 Pro 14IAP7 i5 1240P (82SH000SVN) (Intel Iris Xe, 14 inches, 1.7GHz)', 'Screen Size': '14 inches', 'Processor Brand': 'I do not know.', 'Processor Speed': '1.7GHz'}, {'title': 'Lenovo Ideapad Gaming 3 15ACH6 R5 5500H (82K2027PVN) (RTX 2050 4GB, 15.6 inches, 3.3GHz)', 'Screen Size': '15.6 inches', 'Processor Brand': 'I do not know.', 'Processor Speed': '3.3GHz'}, {'title': 'Lenovo Yoga 7 14IRL8 i7 1360P (82YL006BVN) (Intel Iris Xe, 14 inches, 2.2GHz)', 'Screen Size': '14 inches', 'Processor Brand': 'Intel Core i7', 'Processor Speed': '2.2GHz'}, {'title': 'Lenovo IdeaPad Slim 5 Light 14ABR8 R5 7530U (82XS002KVN) (Radeon, 14 inches, 2GHz)', 'Screen Size': '14 inches', 'Processor Brand': 'AMD Ryzen 5 7530U', 'Processor Speed': '2GHz'}, {'title': 'Lenovo Ideapad 5 Pro 14IAP7 i7 1260P (82SH002SVN) (Intel Iris Xe, 14 inches, 2.1GHz)', 'Screen Size': '14 inches', 'Processor Brand': 'I do not know.', 'Processor Speed': '2.1GHz'}, {'title': 'Lenovo Ideapad 3 15ITL6 i3 1115G4 (82H803SFVN) (Intel UHD, 15.6 inches, 3GHz)', 'Screen Size': '15.6 inches', 'Processor Brand': 'Intel Core i3-1115G4', 'Processor Speed': '3GHz'}, {'title': 'Lenovo Yoga 7 14IRL8 i5 1340P (82YL006AVN) (Intel Iris Xe, 14 inches, 1.9GHz)', 'Screen Size': '14 inches', 'Processor Brand': 'Intel', 'Processor Speed': '1.9GHz'}, {'title': 'Lenovo Ideapad 3 15IAU7 i3 1215U (82RK00QYVN) (Intel UHD, 15.6 inches, 1.2GHz)', 'Screen Size': '15.6 inches', 'Processor Brand': 'Intel UHD', 'Processor Speed': '1.2GHz'}, {'title': 'Lenovo LOQ Gaming 15IRH8 i7 13620H (82XV00QXVN) (RTX 4050 6GB, 15.6 inches, 2.4GHz)', 'Screen Size': '15.6 inches', 'Processor Brand': 'i7 13620H', 'Processor Speed': '2.4GHz'}, {'title': 'Lenovo LOQ Gaming 15IAX9 i5 12450HX (83GS000JVN) (RTX 3050 6GB, 15.6 inches, 12450HX)', 'Screen Size': '15.6 inches', 'Processor Brand': 'Intel Core i5 12450HX', 'Processor Speed': 'I do not know.'}, {'title': 'Lenovo Gaming Legion 5 16IRH8 i5 13500H (82YA00BSVN) (RTX 4050 6GB, 16 inches, 2.6GHz)', 'Screen Size': '16 inches', 'Processor Brand': 'Intel Core i5-13500H', 'Processor Speed': '2.6GHz'}, {'title': 'Lenovo LOQ Gaming 15IRH8 i5 13420H (82XV00Q4VN) (RTX 4050 6GB, 15.6 inches, 2.1GHz)', 'Screen Size': '15.6 inches', 'Processor Brand': 'i5 13420H', 'Processor Speed': '2.1GHz'}, {'title': 'Lenovo ThinkBook 15 G5 IRL i5 1355U (21JD002FVN) (Intel Iris Xe, 15.6 inches, 1.3GHz)', 'Screen Size': '15.6 inches', 'Processor Brand': 'I do not know.', 'Processor Speed': '1.3GHz'}, {'title': 'Lenovo Ideapad Slim 3 15IRH8 i7 13620H (83EM003EVN) (Intel UHD, 15.6 inches, 2.4GHz)', 'Screen Size': '15.6 inches', 'Processor Brand': 'Intel Core i7-13620H', 'Processor Speed': '2.4GHz'}, {'title': 'Lenovo Ideapad Slim 5 14IAH8 i5 12450H (83BF003WVN) (Intel UHD, 14 inches, 2GHz)', 'Screen Size': '14 inches', 'Processor Brand': 'Intel Core i5-12450H', 'Processor Speed': '2GHz'}, {'title': 'Lenovo Ideapad 3 15ITL6 i5 1155G7 (82H803CVVN) (Intel Iris Xe, 15.6 inches, 2.5GHz)', 'Screen Size': '15.6 inches', 'Processor Brand': 'I do not know.', 'Processor Speed': '2.5GHz'}, {'title': 'Lenovo Ideapad 3 15IAU7 i5 1235U (82RK001PVN) (Intel UHD, 15.6 inches, 1.3GHz)', 'Screen Size': '15.6 inches', 'Processor Brand': 'I do not know.', 'Processor Speed': '1.3GHz'}, {'title': 'Lenovo Ideapad 5 14IAL7 i5 1235U (82SD0060VN) (Intel Iris Xe, 14 inches, 1.3GHz)', 'Screen Size': '14 inches', 'Processor Brand': 'Intel Core i5-1235U', 'Processor Speed': '1.3GHz'}, {'title': 'Lenovo V14 G4 IRU i3 1315U (83A0000TVN) (Intel UHD, 14 inches, 1.2GHz)', 'Screen Size': '14 inches', 'Processor Brand': 'Intel Core i3-1315U', 'Processor Speed': '1.2GHz'}, {'title': 'Dell Inspiron 15 3520 i5 1235U (25P231) (Intel Iris Xe, 15.6 inches, 1.3GHz)', 'Screen Size': '15.6 inches', 'Processor Brand': 'Intel Core i5 1235U', 'Processor Speed': '1.3GHz'}, {'title': 'Dell Inspiron 15 3520 i5 1235U (i5U085W11BLU) (Intel UHD, 15.6 inches, 1.3GHz)', 'Screen Size': '15.6 inches', 'Processor Brand': 'Intel Core i5-1235U', 'Processor Speed': '1.3GHz'}, {'title': 'Dell Inspiron 15 3520 i5 1235U (71027003) (Intel UHD, 15.6 inches, 1.3GHz)', 'Screen Size': '15.6 inches', 'Processor Brand': 'Intel Core i5-1235U', 'Processor Speed': '1.3GHz'}, {'title': 'Dell Inspiron 15 3520 i3 1215U (71003264) (Intel UHD, 15.6 inches, 1.2GHz)', 'Screen Size': '15.6 inches', 'Processor Brand': 'Intel Core i3 1215U', 'Processor Speed': '1.2GHz'}, {'title': 'Dell Vostro 15 3520 i3 1215U (V5I3614W1) (Intel UHD, 15.6 inches, 1.2GHz)', 'Screen Size': '15.6 inches', 'Processor Brand': 'Intel Core i3-1215U', 'Processor Speed': '1.2GHz'}, {'title': 'Dell Inspiron 15 3520 i3 1215U (i3U082W11BLU) (Intel UHD, 15.6 inches, 1.2GHz)', 'Screen Size': '15.6 inches', 'Processor Brand': 'Intel Core i3 1215U', 'Processor Speed': '1.2GHz'}, {'title': 'Dell Vostro 15 3520 i5 1235U (V5I5610W1) (Intel UHD, 15.6 inches, 1.3GHz)', 'Screen Size': '15.6 inches', 'Processor Brand': 'Intel', 'Processor Speed': '1.3GHz'}, {'title': 'Dell Inspiron 15 3530 i7 1355U (N3530I716W1) (MX550 2GB, 15.6 inches, 1.7GHz)', 'Screen Size': '15.6 inches', 'Processor Brand': 'I do not know.', 'Processor Speed': '1.7GHz'}, {'title': 'Dell Inspiron 15 3530 i7 1355U (71011775) (Intel UHD, 15.6 inches, 1.7GHz)', 'Screen Size': '15.6 inches', 'Processor Brand': 'Intel Core i7-1355U', 'Processor Speed': '1.7GHz'}, {'title': 'Dell Vostro 15 3520 i3 1215U (5M2TT1) (Intel UHD, 15.6 inches, 1.2GHz)', 'Screen Size': '15.6 inches', 'Processor Brand': 'Intel Core i3-1215U', 'Processor Speed': '1.2GHz'}, {'title': 'Dell Inspiron 15 3530 i5 1335U (N3530-i5U085W11BLU) (Intel UHD, 15.6 inches, 1.3GHz)', 'Screen Size': '15.6 inches', 'Processor Brand': 'Intel UHD', 'Processor Speed': '1.3GHz'}, {'title': 'Dell Vostro 14 3430 i5 1335U (71011900) (Intel UHD, 14 inches, 1.3GHz)', 'Screen Size': '14 inches', 'Processor Brand': 'Intel Core i5-1335U', 'Processor Speed': '1.3GHz'}, {'title': 'Dell Inspiron 15 3530 i5 1335U (71014840) (MX550 2GB, 15.6 inches, 1.3GHz)', 'Screen Size': '15.6 inches', 'Processor Brand': 'i5 1335U', 'Processor Speed': '1.3GHz'}, {'title': 'Dell Inspiron 15 3530 i5 1335U (N5I5791W1) (Intel Iris Xe, 15.6 inches, 1.3GHz)', 'Screen Size': '15.6 inches', 'Processor Brand': 'Intel', 'Processor Speed': '1.3GHz'}, {'title': 'Dell Inspiron 14 7430 2-in-1 i7 1355U (i7U165W11SLU) (Intel Iris Xe, 14 inches, 1.7GHz)', 'Screen Size': '14 inches', 'Processor Brand': 'i7 1355U', 'Processor Speed': '1.7GHz'}, {'title': 'Dell Inspiron 15 3520 i5 1235U (N5I5122W1) (Intel UHD, 15.6 inches, 1.3GHz)', 'Screen Size': '15.6 inches', 'Processor Brand': 'Intel Core i5-1235U', 'Processor Speed': '1.3GHz'}, {'title': 'Dell Inspiron 14 T7430 i5 1335U (N7430I58W1) (Intel Iris Xe, 14 inches, 1.3GHz)', 'Screen Size': '14 inches', 'Processor Brand': 'Intel', 'Processor Speed': '1.3GHz'}, {'title': 'Dell Precision 16 5680 i9 13900H (71024680) (RTX A2000 8GB, 16 inches, 2.6GHz)', 'Screen Size': '16 inches', 'Processor Brand': 'i9 13900H', 'Processor Speed': '2.6GHz'}, {'title': 'Dell Precision 16 7680 i9 13950HX (71024676) (RTX A2000 8GB, 16 inches, 2.2GHz)', 'Screen Size': '16 inches', 'Processor Brand': 'i9 13950HX', 'Processor Speed': '2.2GHz'}, {'title': 'Dell Precision 16 7680 i7 13850HX (71024681) (RTX A2000 8GB, 16 inches, 2.1GHz)', 'Screen Size': '16 inches', 'Processor Brand': 'i7 13850HX', 'Processor Speed': '2.1GHz'}, {'title': 'Dell Precision 15 3581 i7 13800H (71024679) (RTX A1000 6GB, 15.6 inches, 2.5GHz)', 'Screen Size': '15.6 inches', 'Processor Brand': 'i7 13800H', 'Processor Speed': '2.5GHz'}, {'title': 'Dell Precision 15 3581 i7 13800H (71024677) (RTX A500 4GB, 15.6 inches, 2.5GHz)', 'Screen Size': '15.6 inches', 'Processor Brand': 'i7 13800H', 'Processor Speed': '2.5GHz'}, {'title': 'Dell Precision 14 3480 i7 12800H (71024682) (RTX A500 4GB, 14 inches, 2.4GHz)', 'Screen Size': '14 inches', 'Processor Brand': 'i7 12800H', 'Processor Speed': '2.4GHz'}, {'title': 'Dell Gaming G15 5530 i7 13650HX (i7H165W11GR4060) (RTX 4060 8GB, 15.6 inches, 2.6GHz)', 'Screen Size': '15.6 inches', 'Processor Brand': 'i7 13650HX', 'Processor Speed': '2.6GHz'}, {'title': 'Dell Inspiron 14 5430 i7 1360P (71015633) (RTX 2050 4GB, 14 inches, 2.2GHz)', 'Screen Size': '14 inches', 'Processor Brand': 'i7', 'Processor Speed': '2.2GHz'}, {'title': 'Dell Inspiron 14 5430 i5 1340P (N5430-i5P165W11SL2050) (RTX 2050 4GB, 14 inches, 1.9GHz)', 'Screen Size': '14 inches', 'Processor Brand': 'I do not know.', 'Processor Speed': '1.9GHz'}, {'title': 'Dell Inspiron 16 5630 i5 1335U (71020244) (Intel Iris Xe, 16 inches, 1.3GHz)', 'Screen Size': '16 inches', 'Processor Brand': 'Intel Core i5-1335U', 'Processor Speed': '1.3GHz'}, {'title': 'Dell Vostro 14 3430 i5 1335U (60YGM) (MX550 2GB, 14 inches, 1.3GHz)', 'Screen Size': '14 inches', 'Processor Brand': 'i5 1335U', 'Processor Speed': '1.3GHz'}, {'title': 'Dell Inspiron 15 3520 i5 1235U (N5I5011W1) (Intel Iris Xe, 15.6 inches, 1.3GHz)', 'Screen Size': '15.6 inches', 'Processor Brand': 'Intel Core i5 1235U', 'Processor Speed': '1.3GHz'}, {'title': 'Dell Vostro 15 3520 i5 1235U (5M2TT2) (Intel UHD, 15.6 inches, 1.3GHz)', 'Screen Size': '15.6 inches', 'Processor Brand': 'Intel Core i5-1235U', 'Processor Speed': '1.3GHz'}, {'title': 'Dell Vostro 15 3530 i3 1305U (V5I3465W1) (Intel UHD, 15.6 inches, 1.6GHz)', 'Screen Size': '15.6 inches', 'Processor Brand': 'Intel', 'Processor Speed': '1.6GHz'}, {'title': 'MSI Modern 14 C11M i3 1115G4 (011VN) (Intel UHD, 14 inches, 3GHz)', 'Screen Size': '14 inches', 'Processor Brand': 'Intel Core i3-1115G4', 'Processor Speed': '3GHz'}, {'title': 'MSI Gaming GF63 Thin 12UCX i5 12450H (873VN) (RTX 2050 4GB, 15.6 inches, 2GHz)', 'Screen Size': '15.6 inches', 'Processor Brand': 'Intel Core i5-12450H', 'Processor Speed': '2GHz'}, {'title': 'MSI Modern 15 B7M R5 7530U (231VN) (Radeon, 15.6 inches, 2GHz)', 'Screen Size': '15.6 inches', 'Processor Brand': 'I do not know.', 'Processor Speed': '2GHz'}, {'title': 'MSI Modern 15 B12MO i5 1235U (625VN) (Intel Iris Xe, 15.6 inches, 1.3GHz)', 'Screen Size': '15.6 inches', 'Processor Brand': 'Intel Core i5 1235U', 'Processor Speed': '1.3GHz'}, {'title': 'MSI Gaming GF63 12UC i5 12450H (803VN) (RTX 3050 4GB, 15.6 inches, 2GHz)', 'Screen Size': '15.6 inches', 'Processor Brand': 'I do not know.', 'Processor Speed': '2GHz'}, {'title': 'MSI Gaming Bravo 15 B7ED R5 7535HS (010VN) (RX 6550M 4GB, 15.6 inches, 3.3GHz)', 'Screen Size': '15.6 inches', 'Processor Brand': 'I do not know.', 'Processor Speed': '3.3GHz'}, {'title': 'MSI Gaming GF63 Thin 11UC i7 11800H (1228VN) (RTX 3050 Max-Q, 4GB, 15.6 inches, 2.30 GHz)', 'Screen Size': '15.6 inches', 'Processor Brand': 'Intel Core i7-11800H', 'Processor Speed': '2.30 GHz'}, {'title': 'MSI Gaming GF63 Thin 12VE i5 12450H (460VN) (RTX 4050 6GB, 15.6 inches, 2GHz)', 'Screen Size': '15.6 inches', 'Processor Brand': 'Intel Core i5-12450H', 'Processor Speed': '2GHz'}, {'title': 'MSI Gaming GF63 12UCX i5 12450H (841VN) (RTX 2050 4GB, 15.6 inches, 2GHz)', 'Screen Size': '15.6 inches', 'Processor Brand': 'Intel Core i5-12450H', 'Processor Speed': '2GHz'}, {'title': 'MSI Modern 15 B12MO i5 1235U (628VN) (Intel Iris Xe, 15.6 inches, 1.3GHz)', 'Screen Size': '15.6 inches', 'Processor Brand': 'Intel', 'Processor Speed': '1.3GHz'}, {'title': 'MSI Modern 14 C7M R5 7530U (083VN) (Radeon, 14 inches, 2GHz)', 'Screen Size': '14 inches', 'Processor Brand': 'I do not know.', 'Processor Speed': '2GHz'}, {'title': 'MSI Gaming Katana GF66 12UCK i7 12650H (804VN) (RTX 3050 4GB, 15.6 inches, 2.30 GHz)', 'Screen Size': '15.6 inches', 'Processor Brand': 'I do not know.', 'Processor Speed': '2.30 GHz'}, {'title': 'MSI Gaming GF63 Thin 11UC i5 11400H (1230VN) (RTX 3050 Max-Q, 4GB, 15.6 inches, 2.7GHz)', 'Screen Size': '15.6 inches', 'Processor Brand': 'Intel Core i5-11400H', 'Processor Speed': '2.7GHz'}, {'title': 'MSI Gaming Thin A15 B7UCX R5 7535HS (020VN) (RTX 2050 4GB, 15.6 inches, 3.3GHz)', 'Screen Size': '15.6 inches', 'Processor Brand': 'I do not know.', 'Processor Speed': '3.3GHz'}, {'title': 'MSI Modern 15 B12MO i7 1255U (487VN) (Intel Iris Xe, 15.6 inches, 1.7GHz)', 'Screen Size': '15.6 inches', 'Processor Brand': 'I do not know.', 'Processor Speed': '1.7GHz'}, {'title': 'MSI Modern 15 B13M i5 1335U (438VN) (Intel Iris Xe, 15.6 inches, 1.3GHz)', 'Screen Size': '15.6 inches', 'Processor Brand': 'Intel', 'Processor Speed': '1.3GHz'}, {'title': 'MSI Gaming GF63 Thin 11SC i5 11400H (664VN) (GTX 1650 Max-Q 4GB, 15.6 inches, 2.7GHz)', 'Screen Size': '15.6 inches', 'Processor Brand': 'Intel Core i5 11400H', 'Processor Speed': '2.7GHz'}, {'title': 'MSI Modern 15 B7M R7 7730U (238VN) (Radeon, 15.6 inches, 2GHz)', 'Screen Size': '15.6 inches', 'Processor Brand': 'I do not know.', 'Processor Speed': '2GHz'}, {'title': 'MSI Prestige 14 Evo B13M i5 13500H (401VN) (Intel Iris Xe, 14 inches, 2.6GHz)', 'Screen Size': '14 inches', 'Processor Brand': 'I do not know.', 'Processor Speed': '2.6GHz'}, {'title': 'MSI Gaming Sword 16 HX B14VFKG i7 14700HX (045VN) (RTX 4060 8GB, 16 inches, 2.1GHz)', 'Screen Size': '16 inches', 'Processor Brand': 'i7 14700HX (045VN)', 'Processor Speed': '2.1GHz'}, {'title': 'MSI Gaming Titan 18 HX A14VIG i9 14900HX (205VN) (RTX 4090 16GB, 18 inches, 2.2GHz)', 'Screen Size': '18 inches', 'Processor Brand': 'i9 14900HX', 'Processor Speed': '2.2GHz'}, {'title': 'MSI Gaming Stealth 16 AI Studio A1VGG Ultra 9 185H (089VN) (RTX 4070 8GB, 16 inches, 2.30 GHz)', 'Screen Size': '16 inches', 'Processor Brand': 'I do not know.', 'Processor Speed': '2.30 GHz'}, {'title': 'MSI Prestige 16 AI Studio B1VFG Ultra 9 185H (082VN) (RTX 4060 8GB, 16 inches, 2.30 GHz)', 'Screen Size': '16 inches', 'Processor Brand': 'I do not know.', 'Processor Speed': '2.30 GHz'}, {'title': 'MSI Gaming Stealth 14 AI Studio A1VFG Ultra 7 155H (050VN) (RTX 4060 8GB, 14 inches, 1.4GHz)', 'Screen Size': '14 inches', 'Processor Brand': 'I do not know.', 'Processor Speed': '1.4GHz'}, {'title': 'MSI Prestige 16 Studio A13VE i7 13700H (214VN) (RTX 4050 6GB, 16 inches, 2.4GHz)', 'Screen Size': '16 inches', 'Processor Brand': 'I do not know.', 'Processor Speed': '2.4GHz'}, {'title': 'MSI Gaming Sword 16 HX B14VEKG i7 14700HX (039VN) (RTX 4050 6GB, 16 inches, 2.1GHz)', 'Screen Size': '16 inches', 'Processor Brand': 'I do not know.', 'Processor Speed': '2.1GHz'}, {'title': 'MSI Prestige 13 AI Evo A1MG Ultra 7 155H (062VN) (Intel Arc Graphics, 13.3 inches, 1.4GHz)', 'Screen Size': '13.3 inches', 'Processor Brand': 'I do not know.', 'Processor Speed': '1.4GHz'}, {'title': 'MSI Gaming Katana A15 AI B8VF R7 8845HS (419VN) (RTX 4060 8GB, 15.6 inches, 3.8GHz)', 'Screen Size': '15.6 inches', 'Processor Brand': 'I do not know.', 'Processor Speed': '3.8GHz'}, {'title': 'MSI Gaming Cyborg 15 AI A1VEK Ultra 7 155H (053VN) (RTX 4050 6GB, 15.6 inches, 1.4GHz)', 'Screen Size': '15.6 inches', 'Processor Brand': 'I do not know.', 'Processor Speed': '1.4GHz'}, {'title': 'MSI Gaming Katana 15 B13VFK i7 13620H (676VN) (RTX 4060 8GB, 15.6 inches, 2.4GHz)', 'Screen Size': '15.6 inches', 'Processor Brand': 'I do not know.', 'Processor Speed': '2.4GHz'}, {'title': 'MSI Gaming Katana A15 AI B8VE R7 8845HS (402VN) (RTX 4050 6GB, 15.6 inches, 3.8GHz)', 'Screen Size': '15.6 inches', 'Processor Brand': 'I do not know.', 'Processor Speed': '3.8GHz'}, {'title': 'MSI Gaming Cyborg 15 A12UCX i5 12450H (281VN) (RTX 2050 4GB, 15.6 inches, 2GHz)', 'Screen Size': '15.6 inches', 'Processor Brand': 'Intel Core i5-12450H', 'Processor Speed': '2GHz'}, {'title': 'HP 245 G10 R5-7520U (9H8X8PT) (Ryzen 5, 14 inches)', 'Screen Size': '14 inches', 'Processor Brand': 'Ryzen 5', 'Processor Speed': 'I do not know.'}, {'title': 'Asus Vivobook E1404FA-NK186W R5 7520U (Ryzen 5, 14.0 inches)', 'Screen Size': '14.0 inches', 'Processor Brand': 'Ryzen 5 7520U', 'Processor Speed': 'I do not know.'}, {'title': 'Lenovo Gaming LOQ - 15IAX9 i5 12450HX (83GS000GVN) (Core i5, 15.6 inches)', 'Screen Size': '15.6 inches', 'Processor Brand': 'I do not know.', 'Processor Speed': 'I do not know.'}, {'title': 'HP 14s-em0086AU R5 7520U (835T9PA) (Ryzen 5, 14 inches)', 'Screen Size': '14 inches', 'Processor Brand': 'Ryzen 5 7520U', 'Processor Speed': 'I do not know.'}, {'title': 'MSI Modern 14 C7M-221VN R7 7730U (Ryzen 7, 14.0 inches)', 'Screen Size': '14.0 inches', 'Processor Brand': 'Ryzen 7 7730U', 'Processor Speed': 'I do not know.'}, {'title': 'Acer Aspire 3 A315-44P-R5QG R7-5700U (Ryzen 7, 15.6 inches)', 'Screen Size': '15.6 inches', 'Processor Brand': 'R7-5700U (Ryzen 7)', 'Processor Speed': 'I do not know.'}, {'title': 'HP Pavilion Aero 13-be2098AU R7 7735U (8C5K5PA) (Ryzen 7, 13.3 inches)', 'Screen Size': '13.3 inches', 'Processor Brand': 'Ryzen 7 7735U', 'Processor Speed': 'I do not know.'}, {'title': 'Asus TUF Gaming FX507ZC4-HN095W i5 12500H (Core i5, 15.6 inches)', 'Screen Size': '15.6 inches', 'Processor Brand': 'Core i5-12500H', 'Processor Speed': 'I do not know.'}, {'title': 'Lenovo Ideapad 3 15IAU7 i7 1255U (82RK00W4VN) (Core i7, 15.6 inches)', 'Screen Size': '15.6 inches', 'Processor Brand': 'Core i7', 'Processor Speed': 'I do not know.'}, {'title': 'MSI Modern 14 C7M-220VN R5 7530U (Ryzen 5, 14.0 inches)', 'Screen Size': '14.0 inches', 'Processor Brand': 'Ryzen 5 7530U', 'Processor Speed': 'I do not know.'}, {'title': 'Asus TUF Gaming FX506HF-HN017W i5 11400H (Core i5, 15.6 inches)', 'Screen Size': '15.6 inches', 'Processor Brand': 'Intel Core i5-11400H', 'Processor Speed': 'I do not know.'}, {'title': 'Dell Inspiron 15 N3530 i5 1335U (N5I5489W1) (Core i5, 15.6 inches)', 'Screen Size': '15.6 inches', 'Processor Brand': 'I do not know.', 'Processor Speed': 'I do not know.'}, {'title': 'Asus Vivobook X1404ZA-NK387W i3 1215U (Core i3, 14 inches)', 'Screen Size': '14 inches', 'Processor Brand': 'Core i3 1215U', 'Processor Speed': 'I do not know.'}, {'title': 'Lenovo IdeaPad 3 14IAH8 i5 12450H (83EQ0005VN) (Core i5, 14.0 inches)', 'Screen Size': '14.0 inches', 'Processor Brand': 'Core i5-12450H', 'Processor Speed': 'I do not know.'}, {'title': 'MSI Gaming Thin GF63 12VE-454VN i5 12450H (Core i5, 15.6 inches)', 'Screen Size': '15.6 inches', 'Processor Brand': 'Intel Core i5-12450H', 'Processor Speed': 'I do not know.'}, {'title': 'Dell Inspiron 15 N3520 i5 1235U_N5I5011W1 (Core i5, 15.6 inches)', 'Screen Size': '15.6 inches', 'Processor Brand': 'I do not know.', 'Processor Speed': 'I do not know.'}, {'title': 'Asus Vivobook 15 OLED A1505VA-L1113W i5 13500H (Core i5, 15.6 inches)', 'Screen Size': '15.6 inches', 'Processor Brand': 'i5 13500H (Core i5)', 'Processor Speed': 'I do not know.'}, {'title': 'HP 245 G10 R5 7520U (8F154PA) (Ryzen 5, 14.0 inches)', 'Screen Size': '14.0 inches', 'Processor Brand': 'Ryzen 5', 'Processor Speed': 'I do not know.'}, {'title': 'Acer Aspire 7 Gaming A715-76-57CY i5 12450H (NH.QGESV.004) (Core i5, 15.6 inches)', 'Screen Size': '15.6 inches', 'Processor Brand': 'i5 12450H', 'Processor Speed': 'I do not know.'}, {'title': 'HP Pavilion 14-dv2073TU i5 1235U (7C0P2PA) (Core i5, 14.0 inches)', 'Screen Size': '14.0 inches', 'Processor Brand': 'Core i5 1235U', 'Processor Speed': 'I do not know.'}, {'title': 'Asus Vivobook X1504VA-NJ526W i5 1335U (Core i5, 15.6 inches)', 'Screen Size': '15.6 inches', 'Processor Brand': 'Intel', 'Processor Speed': 'I do not know.'}, {'title': 'Lenovo IdeaPad 1 15ALC7 R5 5500U (82R400BYVN) (Ryzen 5, 15.6 inches)', 'Screen Size': '15.6 inches', 'Processor Brand': 'Ryzen 5', 'Processor Speed': 'I do not know.'}, {'title': 'Laptop HP 15s-fq5144TU i7-1255U (Core i7, 15.6 inches)', 'Screen Size': '15.6 inches', 'Processor Brand': 'Intel', 'Processor Speed': 'I do not know.'}, {'title': 'Asus Vivobook M3504YA-L1268W R5 7530U (Ryzen 5, 15.6 inches)', 'Screen Size': '15.6 inches', 'Processor Brand': 'AMD', 'Processor Speed': 'I do not know.'}, {'title': 'HP 14s-em0078AU R5 7520U (80R28PA) (Ryzen 5, 14 inches)', 'Screen Size': '14 inches', 'Processor Brand': 'Ryzen 5 7520U', 'Processor Speed': 'I do not know.'}, {'title': 'Huawei MateBook D15 R7 5700U (Ryzen 7, 15.6 inches)', 'Screen Size': '15.6 inches', 'Processor Brand': 'AMD', 'Processor Speed': 'I do not know.'}, {'title': 'Asus Vivobook Flip TN3402YA-LZ188W R5 7530U (Ryzen 5, 14.0 inches)', 'Screen Size': '14.0 inches', 'Processor Brand': 'Ryzen 5 7530U', 'Processor Speed': 'I do not know.'}, {'title': 'HP Pavilion 14-dv2071TU i7 1255U (7C0W0PA) (Core i7, 14 inches)', 'Screen Size': '14 inches', 'Processor Brand': 'i7 1255U', 'Processor Speed': 'I do not know.'}, {'title': 'MSI Gaming GF63 Thin 11UC-1228VN i7 11800H (Core i7, 15,6 inches)', 'Screen Size': '15.6 inches', 'Processor Brand': 'i7 11800H (Core i7)', 'Processor Speed': 'I do not know.'}, {'title': 'HP Pavilion 14-dv2075TU i5 1235U (7C0W2PA) (Core i5, 14.0 inches)', 'Screen Size': '14.0 inches', 'Processor Brand': 'Core i5 1235U', 'Processor Speed': 'I do not know.'}, {'title': 'Dell Vostro V3520 i5 1235U_71030559 (Core i5, 156 inches)', 'Screen Size': '15.6 inches', 'Processor Brand': 'Core i5 1235U', 'Processor Speed': 'I do not know.'}, {'title': 'Asus Vivobook 16 X1605ZA-MB193W i3 1215U (Core i3, 16.0 inches)', 'Screen Size': '16.0 inches', 'Processor Brand': 'Core i3 1215U', 'Processor Speed': 'I do not know.'}, {'title': 'Acer Aspire 3 A315-510P-34XZ i3 N305 (Core i3, 15.6 inches)', 'Screen Size': '15.6 inches', 'Processor Brand': 'Core i3 N305', 'Processor Speed': 'I do not know.'}, {'title': 'Asus Vivobook A1405VA-KM257W i5 13500H (Core i5, 14 inches)', 'Screen Size': '14 inches', 'Processor Brand': 'Core i5-13500H', 'Processor Speed': 'I do not know.'}, {'title': 'Dell Inspiron 15 N3530 i7 1355U (N3530I716W1) (Core i7, 15.6 inches)', 'Screen Size': '15.6 inches', 'Processor Brand': 'I do not know.', 'Processor Speed': 'I do not know.'}, {'title': 'MSI Gaming GF63 12UCX-841VN i5 12450H (Core i5, 15.6 inches)', 'Screen Size': '15.6 inches', 'Processor Brand': 'i5 12450H (Core i5)', 'Processor Speed': 'I do not know.'}, {'title': 'Acer Aspire 7 Gaming A715-76G-5806 i5 12450H (NH.QMFSV.002) (Core i5, 15.6 inches)', 'Screen Size': '15.6 inches', 'Processor Brand': 'i5 12450H', 'Processor Speed': 'I do not know.'}, {'title': 'Laptop Acer Aspire Lite AL15-51M-55NB i5-1155G7 (Core i5, 15.6 inches)', 'Screen Size': '15.6 inches', 'Processor Brand': 'i5-1155G7 (Core i5)', 'Processor Speed': 'I do not know.'}, {'title': 'Gigabyte Gaming G5 MF-F2VN313SH i5 12450H (Core i5, 15.6 inches)', 'Screen Size': '15.6 inches', 'Processor Brand': 'Core i5-12450H', 'Processor Speed': 'I do not know.'}, {'title': 'Asus Vivobook A1405VA-KM059W i5 13500H (Core i5, 14 inches)', 'Screen Size': '14 inches', 'Processor Brand': 'i5 13500H (Core i5)', 'Processor Speed': 'I do not know.'}, {'title': 'Asus TUF Gaming FA507NU-LP045W R7 7735HS (Ryzen 7, 15.6 inches)', 'Screen Size': '15.6 inches', 'Processor Brand': 'Ryzen 7 7735HS', 'Processor Speed': 'I do not know.'}, {'title': 'Asus Vivobook Pro K3405VC-KM070W i9 13900H (Core i9, 14.0 inches)', 'Screen Size': '14.0 inches', 'Processor Brand': 'Core i9 13900H', 'Processor Speed': 'I do not know.'}, {'title': 'Lenovo IdeaPad Slim 5 Light 14ABR8 R5 7530U (82XS0006VN) (Ryzen 5, 14 inches)', 'Screen Size': '14 inches', 'Processor Brand': 'Ryzen 5', 'Processor Speed': 'I do not know.'}, {'title': 'Asus TUF Gaming FX506HC-HN144W i5 11400H (Core i5, 15.6 inches)', 'Screen Size': '15.6 inches', 'Processor Brand': 'i5 11400H', 'Processor Speed': 'I do not know.'}, {'title': 'HP 15-fd0083TU i7 1355U (8D736PA) (Core i7, 15.6 inches)', 'Screen Size': '15.6 inches', 'Processor Brand': 'Core i7 1355U', 'Processor Speed': 'I do not know.'}, {'title': 'Lenovo IdeaPad Slim 5 16IAH8 i5 12450H (83BG001XVN) (Core i5, 16 inches)', 'Screen Size': '16 inches', 'Processor Brand': 'Core i5', 'Processor Speed': 'I do not know.'}, {'title': 'HP Pavilion 15-eg3112TU i7 1355U (8U6L9PA) (Core i7, 15.6 inches)', 'Screen Size': '15.6 inches', 'Processor Brand': 'i7 1355U', 'Processor Speed': 'I do not know.'}, {'title': 'Acer Gaming Aspire 5 A515-58GM-53CM i5 13420H (Core i5, 15.6 inches)', 'Screen Size': '15.6 inches', 'Processor Brand': 'Core i5-13420H', 'Processor Speed': 'I do not know.'}, {'title': 'Lenovo ThinkBook 14 G6 IRL i5-13500H (21KG00BXVN) (Core i5, 14 inches)', 'Screen Size': '14 inches', 'Processor Brand': 'Core i5-13500H', 'Processor Speed': 'I do not know.'}, {'title': 'MSI Gaming GF63 Thin 12UC-1006VN i5 12450H (Core i5, 15.6 inches)', 'Screen Size': '15.6 inches', 'Processor Brand': 'Intel Core i5-12450H', 'Processor Speed': 'I do not know.'}, {'title': 'MSI Gaming Alpha 15 B5EEK-203VN R5 5600H (Ryzen 5, 15.6 inches)', 'Screen Size': '15.6 inches', 'Processor Brand': 'Ryzen 5 5600H', 'Processor Speed': 'I do not know.'}, {'title': 'MSI Modern 15 B12MO-628VN i5 1235U (Core i5, 15.6 inches)', 'Screen Size': '15.6 inches', 'Processor Brand': 'Core i5 1235U', 'Processor Speed': 'I do not know.'}, {'title': 'Máy tính xách tay MSI Summit E14Evo A12M-211VN i7-1280P/16GB/512GB/14\"FHD/Win11_Túi_Chuột_Đen (Core i7, 14.0 inches)', 'Screen Size': '14 inches', 'Processor Brand': 'Core i7', 'Processor Speed': 'I do not know.'}, {'title': 'Máy tính xách tay MSI Gaming Raider GE77HX 12UHS-229VN i9-12900HX/64G/2T/17.3UHD/RTX3080Ti_16G/Win11 (Core i9, 17.3 inches)', 'Screen Size': '17.3 inches', 'Processor Brand': 'i9-12900HX', 'Processor Speed': 'I do not know.'}, {'title': 'MacBook Pro 16 2023 M2 Pro 12CPU 19GPU 16GB/1TB (M2 Pro, 16.2 inches)', 'Screen Size': '16.2 inches', 'Processor Brand': 'M2 Pro', 'Processor Speed': 'I do not know.'}, {'title': 'MacBook Pro 14 2023 M3 Pro 12 CPU/18 GPU/18GB/1TB (M3 Pro, 14.2 inches)', 'Screen Size': '14.2 inches', 'Processor Brand': 'M3 Pro 12 CPU', 'Processor Speed': 'I do not know.'}, {'title': 'MacBook Pro 14 2023 M3 Pro 11 CPU/14 GPU/18GB/512GB (M3 Pro, 14.2 inches)', 'Screen Size': '14.2 inches', 'Processor Brand': 'M3 Pro 11 CPU', 'Processor Speed': 'I do not know.'}, {'title': 'Lenovo ThinkPad X1 Carbon Gen 9 i7-1165G7/20XW00GDVN (Core i7, 14.0 inches)', 'Screen Size': '14.0 inches', 'Processor Brand': 'i7-1165G7', 'Processor Speed': 'I do not know.'}, {'title': 'LG Gram 16Z90R-G.AH76A5 i7-1360P (Core i7, 16.0 inches)', 'Screen Size': '16.0 inches', 'Processor Brand': 'Core i7', 'Processor Speed': 'I do not know.'}, {'title': 'MacBook Pro 14 2023 M3 8 CPU/10 GPU/8GB/512GB (M3, 14.2 inches)', 'Screen Size': '14.2 inches', 'Processor Brand': 'M3', 'Processor Speed': 'I do not know.'}, {'title': 'Máy tính xách tay MSI Gaming Katana 15 B13VGK-1211VN i7-13620H/16G/1T/15.6\"FHD/RTX4070_8G/Win11_Balo (Core i7, 15.6 inches)', 'Screen Size': '15.6 inches', 'Processor Brand': 'Core i7-13620H', 'Processor Speed': 'I do not know.'}, {'title': 'MSI Creator M16 B13VE-830VN i7 13700H (Core i7, 16.0 inches)', 'Screen Size': '16.0 inches', 'Processor Brand': 'Core i7-13700H', 'Processor Speed': 'I do not know.'}, {'title': 'Acer Swift Edge SFA16-41-R3L6 R7 6800U (NX.KABSV.002) (Ryzen 7, 16.0 inches)', 'Screen Size': '16.0 inches', 'Processor Brand': 'Ryzen 7 6800U', 'Processor Speed': 'I do not know.'}, {'title': 'Asus Zenbook 14 OLED UX3405MA-PP152W Core Ultra 7-155H (Core Ultra 7, 14 inches)', 'Screen Size': '14 inches', 'Processor Brand': 'Core Ultra 7-155H', 'Processor Speed': 'I do not know.'}, {'title': 'Laptop Asus TUF Gaming FX507VV-LP181W i7-13620H (Core i7, 15.6 inches)', 'Screen Size': '15.6 inches', 'Processor Brand': 'Core i7-13620H', 'Processor Speed': 'I do not know.'}, {'title': 'LG Gram 14Z90R-G.AH75A5 i7 1360P (Core i7, 14 inches)', 'Screen Size': '14 inches', 'Processor Brand': 'Core i7', 'Processor Speed': 'I do not know.'}, {'title': 'Asus TUF Gaming F15 FX507VU-LP197W i7-13620H (Core i7, 15.6 inches)', 'Screen Size': '15.6 inches', 'Processor Brand': 'Core i7-13620H', 'Processor Speed': 'I do not know.'}, {'title': 'LG Gram 14T90R-G.AH55A5 i5-1340P (Core i5, 14.0 inches)', 'Screen Size': '14.0 inches', 'Processor Brand': 'Intel', 'Processor Speed': 'I do not know.'}, {'title': 'Asus Zenbook Flip UP3404VA-KN039W i7 1360P (Core i7, 14 inches)', 'Screen Size': '14 inches', 'Processor Brand': 'Intel Core i7', 'Processor Speed': 'I do not know.'}, {'title': 'MSI Gaming Cyborg 15 AI A1VE-053VN Ultra 7 155H (Core Ultra 7, 15.6 inches)', 'Screen Size': '15.6 inches', 'Processor Brand': 'Core Ultra 7', 'Processor Speed': 'I do not know.'}, {'title': 'MacBook Air M2 13 2022 8CPU 8GPU 16GB 256GB (M2, 13.6 inches)', 'Screen Size': '13.6 inches', 'Processor Brand': '8CPU', 'Processor Speed': 'I do not know.'}, {'title': 'Lenovo Gaming LOQ - 15IRX9 i7 13650HX (83DV000NVN) (Core i7, 15.6 inches)', 'Screen Size': '15.6 inches', 'Processor Brand': 'Core i7 13650HX', 'Processor Speed': 'I do not know.'}, {'title': 'MSI Gaming Katana 15 B13VFK-676VN i7 13620H (Core i7, 15.6 inches)', 'Screen Size': '15.6 inches', 'Processor Brand': 'Intel Core i7-13620H', 'Processor Speed': 'I do not know.'}, {'title': 'Asus TUF Gaming FX507ZV4-LP042W i7 12700H (Core i7, 15.6 inches)', 'Screen Size': '15.6 inches', 'Processor Brand': 'Core i7 12700H', 'Processor Speed': 'I do not know.'}, {'title': 'Dell Inspiron 14 2in1 T7430 i7 1355U (P172G001) (Core i7, 14 inches)', 'Screen Size': '14 inches', 'Processor Brand': 'I do not know.', 'Processor Speed': 'I do not know.'}, {'title': 'Asus Vivobook Pro K6502VU-MA089W i5 13500H (Core i5, 15.6 inches)', 'Screen Size': '15.6 inches', 'Processor Brand': 'i5 13500H (Core i5)', 'Processor Speed': 'I do not know.'}, {'title': 'Asus Zenbook 14 OLED UX3405MA-PP151W Core Ultra 5-125H (Ultra 5 Meteor LakeCore Ultra 5, 14 inches)', 'Screen Size': '14 inches', 'Processor Brand': 'Core Ultra 5-125H', 'Processor Speed': 'I do not know.'}, {'title': 'Asus Zenbook 14 OLED UX3405MA-PP588W Ultra 5-125H (Ultra 5 Meteor Lake, 14 inches)', 'Screen Size': '14 inches', 'Processor Brand': 'Ultra 5 Meteor Lake', 'Processor Speed': 'I do not know.'}, {'title': 'Gigabyte Gaming G6 KF-H3VN853SH i7-13620H (Core i7Core i7, 16 inches)', 'Screen Size': '16 inches', 'Processor Brand': 'i7-13620H', 'Processor Speed': 'I do not know.'}, {'title': 'MacBook Air 15 inch M2 2023 8 CPU/10 GPU/8 GB/256 GB (M2, 15.0 inches)', 'Screen Size': '15.0 inches', 'Processor Brand': 'M2', 'Processor Speed': 'I do not know.'}, {'title': 'MSI Prestige 13Evo A13M-081VN i7 1360P (Core i7, 13.3 inches)', 'Screen Size': '13.3 inches', 'Processor Brand': 'Core i7', 'Processor Speed': 'I do not know.'}, {'title': 'Asus Zenbook 14 OLED UX3402VA-KM068W i7 1360P (Core i7, 14 inches)', 'Screen Size': '14 inches', 'Processor Brand': 'Core i7', 'Processor Speed': 'I do not know.'}, {'title': 'Acer Nitro V Gaming ANV15-51-55CA i5 13420H (NH.QN8SV.004) (Core i5, 15.6 inches)', 'Screen Size': '15.6 inches', 'Processor Brand': 'i5 13420H', 'Processor Speed': 'I do not know.'}, {'title': 'Asus TUF Gaming FX507ZV4-LP041W i7 12700H (Core i7, 15.6 inches)', 'Screen Size': '15.6 inches', 'Processor Brand': 'Intel', 'Processor Speed': 'I do not know.'}, {'title': 'Asus TUF Gaming FA507NV-LP046W R7 7735HS (Ryzen 7, 15.6 inches)', 'Screen Size': '15.6 inches', 'Processor Brand': 'Ryzen 7 7735HS', 'Processor Speed': 'I do not know.'}, {'title': 'Asus TUF Gaming A15 FA507NV-LP110W R5-7535HS (Ryzen 5, 15.6 inches)', 'Screen Size': '15.6 inches', 'Processor Brand': 'Ryzen 5 7535HS', 'Processor Speed': 'I do not know.'}, {'title': 'Macbook Air 13 2020 M1/16GB/256GB SSD (M1, 13.3 inches)', 'Screen Size': '13.3 inches', 'Processor Brand': 'M1', 'Processor Speed': 'I do not know.'}, {'title': 'Acer Swift 3 SF314-512-741L i7 1260P (NX.K7JSV.001) (Core i7, 14.0 inches)', 'Screen Size': '14.0 inches', 'Processor Brand': 'Core i7', 'Processor Speed': 'I do not know.'}, {'title': 'Asus Zenbook Flip UP3404VA-KN038W i5 1340P (Core i5, 14 inches)', 'Screen Size': '14 inches', 'Processor Brand': 'Core i5', 'Processor Speed': 'I do not know.'}, {'title': 'MacBook Air M2 13 2022 8CPU 8GPU 8GB 256GB (M2, 13.6 inches)', 'Screen Size': '13.6 inches', 'Processor Brand': '8CPU', 'Processor Speed': 'I do not know.'}, {'title': 'Gigabyte Gaming G5 MF5-H2VN353SH i7 13620H (Core i7Core i7, 15.6 inches)', 'Screen Size': '15.6 inches', 'Processor Brand': 'i7 13620H', 'Processor Speed': 'I do not know.'}, {'title': 'HP ProBook 440 G10 i7 1360P (873C1PA) (Core i7, 14.0 inches)', 'Screen Size': '14.0 inches', 'Processor Brand': 'Core i7', 'Processor Speed': 'I do not know.'}, {'title': 'Acer Nitro Gaming AN515-58-769J i7 12700H (NH.QFHSV.003) (Core i7, 15.6 inches)', 'Screen Size': '15.6 inches', 'Processor Brand': 'Core i7 12700H', 'Processor Speed': 'I do not know.'}, {'title': 'Gigabyte Gaming G5 KF-E3VN313SH i5 12500H (Core i5, 15,6 inches)', 'Screen Size': '15.6 inches', 'Processor Brand': 'Core i5 12500H', 'Processor Speed': 'I do not know.'}, {'title': 'Dell Inspiron 14 2in1 T7430 i5 1335U (N7430I58W1) (Core i5, 14.0 inches)', 'Screen Size': '14.0 inches', 'Processor Brand': 'Core i5', 'Processor Speed': 'I do not know.'}, {'title': 'Asus Vivobook Flip TP3402VA-LZ118W i9 13900H (Core i9, 14 inches)', 'Screen Size': '14 inches', 'Processor Brand': 'i9 13900H (Core i9)', 'Processor Speed': 'I do not know.'}, {'title': 'Lenovo Yoga Slim 6 14IRH8 i7 13700H (83E0000VVN) (Core i7, 14 inches)', 'Screen Size': '14 inches', 'Processor Brand': 'Core i7', 'Processor Speed': 'I do not know.'}, {'title': 'Máy tính xách tay MSI Summit E14 Flip Evo A12MT-210VN i7-1280P/16GB/512GB/14\"QHD/Win11_Túi_Bút_Đen (Core i7, 14.0 inches)', 'Screen Size': '14 inches', 'Processor Brand': 'Core i7', 'Processor Speed': 'I do not know.'}, {'title': 'Acer Swift X SFX16-51G-50GS i5 11320H (NX.AYLSV.002) (Core i5, 16.1 inches)', 'Screen Size': '16.1 inches', 'Processor Brand': 'Core i5 11320H', 'Processor Speed': 'I do not know.'}, {'title': 'Gigabyte Gaming G5 MF5-52VN353SH i5 13500H (Core i5Core i5, 15.6 inches)', 'Screen Size': '15.6 inches', 'Processor Brand': 'i5 13500H', 'Processor Speed': 'I do not know.'}, {'title': 'Asus Vivobook S3405VA-KM071W i9 13900H (Core i9, 14.0 inches)', 'Screen Size': '14.0 inches', 'Processor Brand': 'i9 13900H (Core i9)', 'Processor Speed': 'I do not know.'}, {'title': 'Asus TUF Gaming FA507NU-LP034W R7 7735HS (Ryzen 7, 15.6 inches)', 'Screen Size': '15.6 inches', 'Processor Brand': 'Ryzen 7 7735HS', 'Processor Speed': 'I do not know.'}, {'title': 'HP Gaming Victus 16-s0078AX R5 7640HS (8C5N7PA) (Ryzen 5, 16.0 inches)', 'Screen Size': '16.0 inches', 'Processor Brand': 'Ryzen 5', 'Processor Speed': 'I do not know.'}, {'title': 'Acer Nitro 5 Tiger Gaming AN515-58-52SP i5 12500H (NH.QFHSV.001) (Core i5, 15.6 inches)', 'Screen Size': '15.6 inches', 'Processor Brand': 'i5 12500H', 'Processor Speed': 'I do not know.'}, {'title': 'Asus Vivobook S3504VA-L1227WS i7 1360P (Core i7, 15.6 inches)', 'Screen Size': '15.6 inches', 'Processor Brand': 'Intel Core i7', 'Processor Speed': 'I do not know.'}, {'title': 'MSI Prestige 14Evo B13M-401VN i5 13500H (Core i5, 14.0 inches)', 'Screen Size': '14.0 inches', 'Processor Brand': 'i5 13500H (Core i5)', 'Processor Speed': 'I do not know.'}, {'title': 'Asus Vivobook Pro K3405ZF-KM184W i5-12500H (Core i5, 14 inches)', 'Screen Size': '14 inches', 'Processor Brand': 'i5-12500H (Core i5)', 'Processor Speed': 'I do not know.'}, {'title': 'Lenovo Gaming LOQ 15IAX9 i5-12450HX (83GS001RVN) (Core i5, 15.6 inches)', 'Screen Size': '15.6 inches', 'Processor Brand': 'Core i5', 'Processor Speed': 'I do not know.'}, {'title': 'HP ProBook 440 G10 i5 1340P (873B2PA) (Core i5, 14.0 inches)', 'Screen Size': '14.0 inches', 'Processor Brand': 'I do not know.', 'Processor Speed': 'I do not know.'}, {'title': 'Lenovo Thinkpad E14 G5 T i5 1335U (21JK006BVN) (Core i5, 14 inches)', 'Screen Size': '14 inches', 'Processor Brand': 'Core i5', 'Processor Speed': 'I do not know.'}, {'title': 'Lenovo Thinkpad T14s Gen 2 i5 1145G7 (20WMS1EE00) (Core i5, 14 inches)', 'Screen Size': '14 inches', 'Processor Brand': 'i5 1145G7', 'Processor Speed': 'I do not know.'}, {'title': 'HP Gaming Victus 15-fb1022AX R5-7535HS (94F19PA) (Ryzen 5, 15.6 inches)', 'Screen Size': '15.6 inches', 'Processor Brand': 'Ryzen 5', 'Processor Speed': 'I do not know.'}, {'title': 'Lenovo Ideapad Gaming 3 15ARH7 R5 7535HS (82SB00JUVN) (Ryzen 5, 15.6 inches)', 'Screen Size': '15.6 inches', 'Processor Brand': 'Ryzen 5', 'Processor Speed': 'I do not know.'}, {'title': 'HP Gaming Victus 16-e1104AX R7 6800H (7C0S9PA) (Ryzen 7, 16.1 inches)', 'Screen Size': '16.1 inches', 'Processor Brand': 'Ryzen 7 6800H', 'Processor Speed': 'I do not know.'}, {'title': 'Asus Zenbook UX3402ZA-KM218W i5 1240P (Core i5, 14.0 inches)', 'Screen Size': '14.0 inches', 'Processor Brand': 'Core i5', 'Processor Speed': 'I do not know.'}, {'title': 'Asus TUF Gaming FX517ZC-HN077W i5 12450H (Core i5, 15.6 inches)', 'Screen Size': '15.6 inches', 'Processor Brand': 'Core i5-12450H', 'Processor Speed': 'I do not know.'}, {'title': 'HP Pavilion 14-dv2072TU i7 1255U (7C0W1PA) (Core i7, 14.0 inches)', 'Screen Size': '14.0 inches', 'Processor Brand': 'Core i7 1255U', 'Processor Speed': 'I do not know.'}, {'title': 'HP Pavilion 15-eg3111TU i5 1335U (8U6L8PA) (Core i5, 15.6 inches)', 'Screen Size': '15.6 inches', 'Processor Brand': 'Core i5-1335U', 'Processor Speed': 'I do not know.'}, {'title': 'Macbook Air 13 2020 M1/8GB/256GB SSD (M1, 13.3 inches)', 'Screen Size': '13.3 inches', 'Processor Brand': 'M1', 'Processor Speed': 'I do not know.'}, {'title': 'Lenovo ThinkPad E14 Gen 4 i7 1255U (21E300E3VN) (Core i7, 14.0 inches)', 'Screen Size': '14.0 inches', 'Processor Brand': 'Core i7', 'Processor Speed': 'I do not know.'}, {'title': 'Lenovo ThinkBook 15 G5 ABP R5 7530U (21JF001SVN) (Ryzen 5, 15.6 inches)', 'Screen Size': '15.6 inches', 'Processor Brand': 'Ryzen 5', 'Processor Speed': 'I do not know.'}, {'title': 'Acer Gaming Aspire 5 A515-58GM-59QZ i5 13420H (NX.KQ4SV.006) (Core i5, 15.6 inches)', 'Screen Size': '15.6 inches', 'Processor Brand': 'i5 13420H', 'Processor Speed': 'I do not know.'}, {'title': 'HP Pavilion 15-eg3095TU i5 1335U (8C5L6PA) (Core i5, 15.6 inches)', 'Screen Size': '15.6 inches', 'Processor Brand': 'Core i5-1335U', 'Processor Speed': 'I do not know.'}, {'title': 'Lenovo IdeaPad Slim 5 14IRL8 i5 13500H (82XD002VVN) (Core i5, 14.0 inches)', 'Screen Size': '14.0 inches', 'Processor Brand': 'Core i5', 'Processor Speed': 'I do not know.'}, {'title': 'Gigabyte Gaming A5 K1-AVN1030SB R5 5600H (Ryzen 5, 15.6 inches)', 'Screen Size': '15.6 inches', 'Processor Brand': 'Ryzen 5 5600H', 'Processor Speed': 'I do not know.'}, {'title': 'Lenovo ThinkBook 14 G4 IAP i5 1235U (21DH00BAVN) (Core i5, 14.0 inches)', 'Screen Size': '14.0 inches', 'Processor Brand': 'Core i5-1235U', 'Processor Speed': 'I do not know.'}, {'title': 'MSI Gaming Cyborg 15 A12UCX-618VN i5 12450H (Core i5, 15.6 inches)', 'Screen Size': '15.6 inches', 'Processor Brand': 'Intel Core i5-12450H', 'Processor Speed': 'I do not know.'}, {'title': 'Acer Aspire 7 Gaming A715-76G-55T6 i5 12450H (NH.QMYSV.003) (Core i5, 15.6 inches)', 'Screen Size': '15.6 inches', 'Processor Brand': 'i5 12450H', 'Processor Speed': 'I do not know.'}, {'title': 'HP 15-fd0079TU i5 1335U (8D732PA) (Core i5, 15.6 inches)', 'Screen Size': '15.6 inches', 'Processor Brand': 'Core i5-1335U', 'Processor Speed': 'I do not know.'}, {'title': 'HP 15s-fq5146TU i7 1255U (7C0R9PA) (Core i7, 15.6 inches)', 'Screen Size': '15.6 inches', 'Processor Brand': 'Core i7 1255U', 'Processor Speed': 'I do not know.'}, {'title': 'HP 15s fq5160TU i5 1235U (7C0S1PA) (Core i5, 15.6 inches)', 'Screen Size': '15.6 inches', 'Processor Brand': 'Core i5-1235U', 'Processor Speed': 'I do not know.'}, {'title': 'HP 15s-fq5146TU i7 1255U (7C0R9PA) (Core i7, 15.6 inches)', 'Screen Size': '15.6 inches', 'Processor Brand': 'Core i7 1255U', 'Processor Speed': 'I do not know.'}, {'title': 'Acer Nitro 5 Gaming AN515-57-53F9 i5 11400H (NH.QENSV.008) (Core i5, 15.6 inches)', 'Screen Size': '15.6 inches', 'Processor Brand': 'i5 11400H', 'Processor Speed': 'I do not know.'}, {'title': 'Acer Nitro Gaming AN515-57-54MV i5 11400H (NH.QENSV.003) (Core i5, 15.6 inches)', 'Screen Size': '15.6 inches', 'Processor Brand': 'Core i5 11400H', 'Processor Speed': 'I do not know.'}, {'title': 'Acer Nitro Gaming AN515-57-5669 i5 11400H (NH.QEHSV.001) (Core i5, 15.6 inches)', 'Screen Size': '15.6 inches', 'Processor Brand': 'i5 11400H', 'Processor Speed': 'I do not know.'}, {'title': 'Acer Aspire 7 A715-76-53PJ i5 12450H (NH.QGESV.007) (Core i5, 15.6 inches)', 'Screen Size': '15.6 inches', 'Processor Brand': 'i5 12450H', 'Processor Speed': 'I do not know.'}, {'title': 'VAIO FE14 i5 1235U (VWNC51427-BK) (Core i5, 14.0 inches)', 'Screen Size': '14.0 inches', 'Processor Brand': 'Core i5 1235U', 'Processor Speed': 'I do not know.'}, {'title': 'Acer Aspire Gaming A715-43G-R8GA R5 5625U (NH.QHDSV.002) (Ryzen 5, 15.6 inches)', 'Screen Size': '15.6 inches', 'Processor Brand': 'Ryzen 5', 'Processor Speed': 'I do not know.'}, {'title': 'Acer Aspire 5 A515-58GM-53PZ i5 13420H (Core i5, 15.6 inches)', 'Screen Size': '15.6 inches', 'Processor Brand': 'i5 13420H (Core i5)', 'Processor Speed': 'I do not know.'}, {'title': 'Acer Swift Go SFG14-41-R19Z R5 7530U (NX.KG3SV.001) (Ryzen 5, 14 inches)', 'Screen Size': '14 inches', 'Processor Brand': 'Ryzen 5 7530U', 'Processor Speed': 'I do not know.'}, {'title': 'MSI Gaming Cyborg 15 A12UCX-281VN i5 12450H (Core i5, 15.6 inches)', 'Screen Size': '15.6 inches', 'Processor Brand': 'i5 12450H', 'Processor Speed': 'I do not know.'}, {'title': 'Lenovo Ideapad Slim 5 Light 14ABR8 R7 7730U (82XS002JVN) (Ryzen 7, 14.0 inches)', 'Screen Size': '14.0 inches', 'Processor Brand': 'Ryzen 7', 'Processor Speed': 'I do not know.'}, {'title': 'Asus Vivobook A1503ZA-L1139W i5 12500H (Core i5, 15.6 inches)', 'Screen Size': '15.6 inches', 'Processor Brand': 'i5 12500H (Core i5)', 'Processor Speed': 'I do not know.'}, {'title': 'Acer Aspire 7 Gaming A715-43G-R09Q R5 5625U (NH.QHBSV.003) (Ryzen 5, 15.6 inches)', 'Screen Size': '15.6 inches', 'Processor Brand': 'Ryzen 5 5625U', 'Processor Speed': 'I do not know.'}, {'title': 'Acer Aspire 5 A515-58P-56RP i5 1335U (NX.KHJSV.008) (Core i5, 15.6 inches)', 'Screen Size': '15.6 inches', 'Processor Brand': 'I do not know.', 'Processor Speed': 'I do not know.'}, {'title': 'HP Pavilion 15-eg2083TU i5 1240P (7C0W9PA) (Core i5, 15,6 inches)', 'Screen Size': '15.6 inches', 'Processor Brand': 'Core i5 1240P', 'Processor Speed': 'I do not know.'}, {'title': 'Dell Inspiron 15 N3520 i5 1235U (25P231) (Core i5, 15.6 inches)', 'Screen Size': '15.6 inches', 'Processor Brand': 'I do not know.', 'Processor Speed': 'I do not know.'}, {'title': 'MSI Modern 15 B7M-238VN R7 7730U (Ryzen 7, 15.6 inches)', 'Screen Size': '15.6 inches', 'Processor Brand': 'Ryzen 7 7730U', 'Processor Speed': 'I do not know.'}, {'title': 'Asus Vivobook M1605YA-MB303W R7 7730U (Ryzen 7, 16 inches)', 'Screen Size': '16 inches', 'Processor Brand': 'Ryzen 7 7730U', 'Processor Speed': 'I do not know.'}, {'title': 'Asus Vivobook M3504YA-L1144W R5 7530U (Ryzen 5, 15.6 inches)', 'Screen Size': '15.6 inches', 'Processor Brand': 'Ryzen 5 7530U', 'Processor Speed': 'I do not know.'}, {'title': 'Asus Vivobook X1605VA-MB105W i5 1335U (Core i5, 16 inches)', 'Screen Size': '16 inches', 'Processor Brand': 'Core i5-1335U', 'Processor Speed': 'I do not know.'}, {'title': 'Dell Inspiron 15 N3520 i5 1235U (N5I5122W1) (Core i5, 15.6 inches)', 'Screen Size': '15.6 inches', 'Processor Brand': 'Core i5', 'Processor Speed': 'I do not know.'}, {'title': 'MSI Gaming GF63 Thin 11SC-664VN i5 11400H (Core i5, 15.6 inches)', 'Screen Size': '15.6 inches', 'Processor Brand': 'i5 11400H', 'Processor Speed': 'I do not know.'}, {'title': 'Lenovo V14 G4 IRU i5 1335U (83A00010VN) (Core i5Core i5, 14 inches)', 'Screen Size': '14 inches', 'Processor Brand': 'Core i5', 'Processor Speed': 'I do not know.'}, {'title': 'Acer Aspire 5 A514-54-5127 i5 1135G7 (NX.A28SV.007) (Core i5, 14.0 inches)', 'Screen Size': '14.0 inches', 'Processor Brand': 'i5 1135G7', 'Processor Speed': 'I do not know.'}, {'title': 'Acer Swift 3 SF314-511-55QE i5 1135G7 (NX.ABNSV.003) (Core i5, 14.0 inches)', 'Screen Size': '14.0 inches', 'Processor Brand': 'i5 1135G7', 'Processor Speed': 'I do not know.'}, {'title': 'Asus Vivobook X1502ZA-BQ126W i5 1240P (Core i5, 15.6 inches)', 'Screen Size': '15.6 inches', 'Processor Brand': 'Core i5 1240P', 'Processor Speed': 'I do not know.'}, {'title': 'MSI Modern 14 C13M-458VN i5 1335U (Core i5, 14 inches)', 'Screen Size': '14 inches', 'Processor Brand': 'Core i5 1335U', 'Processor Speed': 'I do not know.'}, {'title': 'Lenovo V15 G4 IAH i5 12500H (83FS0032VN) (Core i5, 15.6 inches)', 'Screen Size': '15.6 inches', 'Processor Brand': 'Core i5', 'Processor Speed': 'I do not know.'}, {'title': 'Acer Swift 3 SF314-43-R4X3 R5 5500U (NX.AB1SV.004) (Ryzen 5, 14.0 inches)', 'Screen Size': '14.0 inches', 'Processor Brand': 'Ryzen 5 5500U', 'Processor Speed': 'I do not know.'}, {'title': 'Lenovo IdeaPad 3 15ITL6 i5 1155G7 (82H803RWVN) (Core i5, 15.6 inches)', 'Screen Size': '15.6 inches', 'Processor Brand': 'i5 1155G7', 'Processor Speed': 'I do not know.'}, {'title': 'Acer Aspire 3 A315-59-51X8 i5 1235U (NX.K6TSV.00F) (Core i5, 15.6 inches)', 'Screen Size': '15.6 inches', 'Processor Brand': 'Core i5 1235U', 'Processor Speed': 'I do not know.'}, {'title': 'MSI Modern 15 B13M-438VN i5 1335U (Core i5, 15.6 inches)', 'Screen Size': '15.6 inches', 'Processor Brand': 'Intel', 'Processor Speed': 'I do not know.'}, {'title': 'MSI Modern 15 B7M-231VN R5 7530U (Ryzen 5, 15.6 inches)', 'Screen Size': '15.6 inches', 'Processor Brand': 'Ryzen 5 7530U', 'Processor Speed': 'I do not know.'}, {'title': 'Lenovo Ideapad 1 - 14ALC7 R7 5700U (82R30077VN) (Ryzen 7, 14 inches)', 'Screen Size': '14 inches', 'Processor Brand': 'Ryzen 7', 'Processor Speed': 'I do not know.'}, {'title': 'Acer Aspire 3 A314-23M-R4TX R5 7520U (NX.KEXSV.001) (Ryzen 5, 14.0 inches)', 'Screen Size': '14.0 inches', 'Processor Brand': 'Ryzen 5 7520U', 'Processor Speed': 'I do not know.'}, {'title': 'Acer Aspire 3 A315-58-54M5 i5 1135G7 (NX.ADDSV.00M) (Core i5, 15.6 inches)', 'Screen Size': '15.6 inches', 'Processor Brand': 'i5 1135G7', 'Processor Speed': 'I do not know.'}, {'title': 'MSI Modern 15 B7M-098VN R7 7730U (Ryzen 7, 15.6 inches)', 'Screen Size': '15.6 inches', 'Processor Brand': 'Ryzen 7 7730U', 'Processor Speed': 'I do not know.'}, {'title': 'Acer Aspire 5 A515-58P-351N i3 1305U (NX.KHJSV.007) (Core i3, 15.6 inches)', 'Screen Size': '15.6 inches', 'Processor Brand': 'i3 1305U', 'Processor Speed': 'I do not know.'}, {'title': 'Huawei MateBook D14 BE i3 1215U (Core i3, 14.0 inches)', 'Screen Size': '14.0 inches', 'Processor Brand': 'Core i3 1215U', 'Processor Speed': 'I do not know.'}, {'title': 'HP 15s-fq5230TU i3-1215U (8U238PA) (Core i3, 15.6 inches)', 'Screen Size': '15.6 inches', 'Processor Brand': 'Core i3-1215U', 'Processor Speed': 'I do not know.'}, {'title': 'HP 245 G9 R5 5625U (6L1N8PA) (Ryzen 5, 14.0 inches)', 'Screen Size': '14.0 inches', 'Processor Brand': 'Ryzen 5', 'Processor Speed': 'I do not know.'}, {'title': 'Asus Vivobook X1404ZA-NK075W i3 1215U (Core i3, 14.0 inches)', 'Screen Size': '14.0 inches', 'Processor Brand': 'Core i3 1215U', 'Processor Speed': 'I do not know.'}, {'title': 'Asus Vivobook E1504FA-NJ426W R3 7320U (Ryzen 3, 15.6 inches)', 'Screen Size': '15.6 inches', 'Processor Brand': 'Ryzen 3 7320U', 'Processor Speed': 'I do not know.'}, {'title': 'HP 14s-em0080AU R3 7320U (80R30PA) (Ryzen 3, 14.0 inches)', 'Screen Size': '14.0 inches', 'Processor Brand': 'Ryzen 3 7320U', 'Processor Speed': 'I do not know.'}, {'title': 'HP 15s-fq2712TU i3 1115G4 (7C0X2PA) (Core i3, 15.6 inches)', 'Screen Size': '15.6 inches', 'Processor Brand': 'Core i3 1115G4', 'Processor Speed': 'I do not know.'}, {'title': 'Asus ROG Strix SCAR 18 G834JYR-R6011W i9-14900HX (Core i9, 18 inches)', 'Screen Size': '18 inches', 'Processor Brand': 'i9-14900HX', 'Processor Speed': 'I do not know.'}, {'title': 'MacBook Pro 16 2023 M3 Max 16 CPU/40 GPU/48GB/1TB (M3 Max, 16.2 inches)', 'Screen Size': '16.2 inches', 'Processor Brand': 'M3 Max 16 CPU', 'Processor Speed': 'I do not know.'}, {'title': 'Asus ROG Strix SCAR 16 G634JZR-NM009W i9-14900HX (Core i9, 16 inches)', 'Screen Size': '16 inches', 'Processor Brand': 'i9-14900HX', 'Processor Speed': 'I do not know.'}, {'title': 'MacBook Pro 16 2023 M3 Max 14 CPU/30 GPU/36GB/1TB (M3 Max, 16.2 inches)', 'Screen Size': '16.2 inches', 'Processor Brand': 'M3 Max 14 CPU', 'Processor Speed': 'I do not know.'}, {'title': 'MacBook Pro 14 2023 M3 Max 14 CPU/30 GPU/36GB/1TB (M3 Max, 14.2 inches)', 'Screen Size': '14.2 inches', 'Processor Brand': 'M3 Max 14 CPU', 'Processor Speed': 'I do not know.'}, {'title': 'Asus Gaming ROG Zephyrus G16 GU605MI-QR116W Ultra 9-185H (Core Ultra 9, 16 inches)', 'Screen Size': '16 inches', 'Processor Brand': 'Core Ultra 9', 'Processor Speed': 'I do not know.'}, {'title': 'MacBook Pro 16 2023 M3 Pro 12 CPU/18 GPU/36GB/512GB (M3 Pro, 16.2 inches)', 'Screen Size': '16.2 inches', 'Processor Brand': 'M3 Pro 12 CPU', 'Processor Speed': 'I do not know.'}, {'title': 'Asus ROG Strix G18 G814JIR-N6007W i9-14900HX (Core i9, 18 inches)', 'Screen Size': '18 inches', 'Processor Brand': 'i9-14900HX', 'Processor Speed': 'I do not know.'}, {'title': 'Asus Gaming ROG Zephyrus G16 GU605MV-QR135W Ultra 9-185H (Core Ultra 9, 16 inches)', 'Screen Size': '16 inches', 'Processor Brand': 'Core Ultra 9-185H', 'Processor Speed': 'I do not know.'}, {'title': 'Asus Gaming ROG Zephyrus G14 GA403UU-QS101W R9-8945HS (Ryzen 9, 16 inches)', 'Screen Size': '16 inches', 'Processor Brand': 'Ryzen 9', 'Processor Speed': 'I do not know.'}, {'title': 'Lenovo Legion Pro 5 16IRX9 i9 14900HX (83DF0047VN) (Core i9, 16 inches)', 'Screen Size': '16 inches', 'Processor Brand': 'Core i9', 'Processor Speed': 'I do not know.'}, {'title': 'Lenovo Gaming Legion 5 16IRX9 i7-14650HX (83DG004YVN) (Core i7, 16 inches)', 'Screen Size': '16 inches', 'Processor Brand': 'Core i7', 'Processor Speed': 'I do not know.'}, {'title': 'Asus TUF Gaming FA507NU-LP131W R5 7535HS (Ryzen 5, 15.6 inches)', 'Screen Size': '15.6 inches', 'Processor Brand': 'Ryzen 5 7535HS', 'Processor Speed': 'I do not know.'}, {'title': 'Asus Zenbook 14 OLED UM3402YA-KM405W R5-7530U (Ryzen 5, 14 inches)', 'Screen Size': '14 inches', 'Processor Brand': 'R5-7530U (Ryzen 5)', 'Processor Speed': 'I do not know.'}, {'title': 'Asus Vivobook A1505VA-L1201W i9 13900H (Core i9, 15.6 inches)', 'Screen Size': '15.6 inches', 'Processor Brand': 'i9 13900H (Core i9)', 'Processor Speed': 'I do not know.'}, {'title': 'ASUS Zenbook 14 OLED UM3402YA-KM826W R5-7430U (Ryzen 5, 14 inches)', 'Screen Size': '14 inches', 'Processor Brand': 'R5-7430U (Ryzen 5)', 'Processor Speed': 'I do not know.'}, {'title': 'Asus TUF Gaming FA506NC-HN011W R5-7535HS (Ryzen 5, 15.6 inches)', 'Screen Size': '15.6 inches', 'Processor Brand': 'Ryzen 5-7535HS', 'Processor Speed': 'I do not know.'}, {'title': 'Asus TUF Gaming A15 FA506NF-HN012W R5-7535HS (Ryzen 5, 15.6 inches)', 'Screen Size': '15.6 inches', 'Processor Brand': 'Ryzen 5 7535HS', 'Processor Speed': 'I do not know.'}, {'title': 'MSI Modern 15 B12MO-487VN i7 1255U (Core i7, 15.6 inches)', 'Screen Size': '15.6 inches', 'Processor Brand': 'Intel', 'Processor Speed': 'I do not know.'}, {'title': 'Lenovo Ideapad Flex 5 14ALC7 R7 5700U (82R900ECVN) (Ryzen 7, 14 inches)', 'Screen Size': '14 inches', 'Processor Brand': 'Ryzen 7', 'Processor Speed': 'I do not know.'}, {'title': 'Lenovo IdeaPad Slim 3 14IAH8 i5 12450H (83EQ0009VN) (Core i5, 14 inches)', 'Screen Size': '14 inches', 'Processor Brand': 'Core i5-12450H', 'Processor Speed': 'I do not know.'}, {'title': 'Lenovo Ideapad Flex 5 14ALC7 R5 5500U (82R900EDVN) (Ryzen 5, 14 inches)', 'Screen Size': '14 inches', 'Processor Brand': 'Ryzen 5', 'Processor Speed': 'I do not know.'}]\n",
      "[{'title': 'HP 15s fq5229TU i3 1215U (8U237PA) (Intel UHD, 15.6 inches, 1.2GHz)', 'Screen Size': '15.6 inches', 'Processor Brand': 'Intel UHD', 'Processor Speed': '1.2GHz'}, {'title': 'HP 240 G9 i3 1215U (6L1X7PA) (Intel UHD, 14 inches, 1.2GHz)', 'Screen Size': '14 inches', 'Processor Brand': 'Intel UHD', 'Processor Speed': '1.2GHz'}, {'title': 'HP Pavilion 15 eg2081TU i5 1240P (7C0Q4PA) (Intel Iris Xe, 15.6 inches, 1.7GHz)', 'Screen Size': '15.6 inches', 'Processor Brand': 'Intel Iris Xe', 'Processor Speed': '1.7GHz'}, {'title': 'HP 245 G10 R5 7520U (8F155PA) (Radeon, 14 inches, 2.8GHz)', 'Screen Size': '14 inches', 'Processor Brand': 'Radeon', 'Processor Speed': '2.8GHz'}, {'title': 'HP Pavilion 14 dv2073TU i5 1235U (7C0P2PA) (Intel Iris Xe, 14 inches, 1.3GHz)', 'Screen Size': '14 inches', 'Processor Brand': 'Intel Iris Xe', 'Processor Speed': '1.3GHz'}, {'title': 'HP 240 G9 i5 1235U (6L1Y2PA) (Intel UHD, 14 inches, 1.3GHz)', 'Screen Size': '14 inches', 'Processor Brand': 'Intel UHD', 'Processor Speed': '1.3GHz'}, {'title': 'HP 15s fq5162TU i5 1235U (7C134PA) (Intel Iris Xe, 15.6 inches, 1.3GHz)', 'Screen Size': '15.6 inches', 'Processor Brand': 'Intel Iris Xe', 'Processor Speed': '1.3GHz'}, {'title': 'HP Pavilion 15 eg2082TU i5 1240P (7C0Q5PA) (Intel Iris Xe, 15.6 inches, 1.7GHz)', 'Screen Size': '15.6 inches', 'Processor Brand': 'Intel Iris Xe', 'Processor Speed': '1.7GHz'}, {'title': 'HP 15s fq5147TU i7 1255U (7C133PA) (Intel Iris Xe, 15.6 inches, 1.7GHz)', 'Screen Size': '15.6 inches', 'Processor Brand': 'Intel Iris Xe', 'Processor Speed': '1.7GHz'}, {'title': 'HP Pavilion 14 dv2074TU i5 1235U (7C0P3PA) (Intel Iris Xe, 14 inches, 1.3GHz)', 'Screen Size': '14 inches', 'Processor Brand': 'Intel Iris Xe', 'Processor Speed': '1.3GHz'}, {'title': 'HP Gaming VICTUS 15 fa1139TX i5 12450H (8Y6W3PA) (RTX 2050 4GB, 15.6 inches, 2GHz)', 'Screen Size': '15.6 inches', 'Processor Brand': 'RTX 2050 4GB', 'Processor Speed': '2GHz'}, {'title': 'HP 14 ep0126TU i3 N305 (8U233PA) (Intel UHD, 14 inches, 1.8GHz)', 'Screen Size': '14 inches', 'Processor Brand': 'Intel UHD', 'Processor Speed': '1.8GHz'}, {'title': 'HP Pavilion 15 eg2088TU i7 1260P (7C0R0PA) (Intel Iris Xe, 15.6 inches, 2.1GHz)', 'Screen Size': '15.6 inches', 'Processor Brand': 'Intel Iris Xe', 'Processor Speed': '2.1GHz'}, {'title': 'HP Gaming VICTUS 15 fb1022AX R5 7535HS (94F19PA) (RTX 2050 4GB, 15.6 inches, 3.3GHz)', 'Screen Size': '15.6 inches', 'Processor Brand': 'RTX 2050 4GB', 'Processor Speed': '3.3GHz'}, {'title': 'HP 240 G9 i5 1235U (6L1Y1PA) (Intel UHD, 14 inches, 1.3GHz)', 'Screen Size': '14 inches', 'Processor Brand': 'Intel UHD', 'Processor Speed': '1.3GHz'}, {'title': 'HP 15s fq2716TU i3 1115G4 (7C0X3PA) (Intel UHD, 15.6 inches, 3GHz)', 'Screen Size': '15.6 inches', 'Processor Brand': 'Intel UHD', 'Processor Speed': '3GHz'}, {'title': 'HP Envy X360 13 bf0090TU i7 1250U (76B13PA) (Intel Iris Xe, 13.3 inches, 1.1GHz)', 'Screen Size': '13.3 inches', 'Processor Brand': 'Intel Iris Xe', 'Processor Speed': '1.1GHz'}, {'title': 'HP Pavilion X360 14 ek1047TU i7 1355U (80R25PA) (Intel Iris Xe, 14 inches, 1.7GHz)', 'Screen Size': '14 inches', 'Processor Brand': 'Intel Iris Xe', 'Processor Speed': '1.7GHz'}, {'title': 'HP Pavilion 15 eg3091TU i7 1355U (8C5L2PA) (Intel Iris Xe, 15.6 inches, 1.7GHz)', 'Screen Size': '15.6 inches', 'Processor Brand': 'Intel Iris Xe', 'Processor Speed': '1.7GHz'}, {'title': 'HP Pavilion X360 14 ek1048TU i5 1335U (80R26PA) (Intel Iris Xe, 14 inches, 1.3GHz)', 'Screen Size': '14 inches', 'Processor Brand': 'Intel Iris Xe', 'Processor Speed': '1.3GHz'}, {'title': 'HP Envy X360 13 bf0112TU i5 1230U (7C0N9PA) (Intel Iris Xe, 13.3 inches, 1.00 GHz)', 'Screen Size': '13.3 inches', 'Processor Brand': 'Intel Iris Xe', 'Processor Speed': '1.00 GHz'}, {'title': 'HP Pavilion X360 14 ek1049TU i5 1335U (80R27PA) (Intel Iris Xe, 14 inches, 1.3GHz)', 'Screen Size': '14 inches', 'Processor Brand': 'Intel Iris Xe', 'Processor Speed': '1.3GHz'}, {'title': 'HP Pavilion 15 eg3093TU i5 1335U (8C5L4PA) (Intel Iris Xe, 15.6 inches, 1.3GHz)', 'Screen Size': '15.6 inches', 'Processor Brand': 'Intel Iris Xe', 'Processor Speed': '1.3GHz'}, {'title': 'HP Pavilion 15 eg3095TU i5 1335U (8C5L6PA) (Intel Iris Xe, 15.6 inches, 1.3GHz)', 'Screen Size': '15.6 inches', 'Processor Brand': 'Intel Iris Xe', 'Processor Speed': '1.3GHz'}, {'title': 'HP Pavilion 15 eg2062TX i5 1235U (7C0W7PA) (MX550 2GB, 15.6 inches, 1.3GHz)', 'Screen Size': '15.6 inches', 'Processor Brand': 'MX550 2GB', 'Processor Speed': '1.3GHz'}, {'title': 'HP 240 G10 i5 1335U (8F134PA) (Intel UHD, 14 inches, 1.3GHz)', 'Screen Size': '14 inches', 'Processor Brand': 'Intel UHD', 'Processor Speed': '1.3GHz'}, {'title': 'HP Elitebook 630 G9 i5 1235U (6M143PA) (Intel UHD, 13.3 inches, 1.3GHz)', 'Screen Size': '13.3 inches', 'Processor Brand': 'Intel UHD', 'Processor Speed': '1.3GHz'}, {'title': 'HP Gaming VICTUS 16 s0077AX R7 7840HS (8C5N6PA) (RTX 3050 6GB, 16.1 inches, 3.8GHz)', 'Screen Size': '16.1 inches', 'Processor Brand': 'RTX 3050 6GB', 'Processor Speed': '3.8GHz'}, {'title': 'HP Gaming VICTUS 16 e1106AX R5 6600H (7C0T1PA) (RTX 3050Ti 4GB, 16.1 inches, 3.3GHz)', 'Screen Size': '16.1 inches', 'Processor Brand': 'RTX 3050Ti 4GB', 'Processor Speed': '3.3GHz'}, {'title': 'HP Pavilion 15 eg2086TU i3 1215U (7C0Q8PA) (Intel UHD, 15.6 inches, 1.2GHz)', 'Screen Size': '15.6 inches', 'Processor Brand': 'Intel UHD', 'Processor Speed': '1.2GHz'}, {'title': 'HP Gaming VICTUS 15 fa0155TX i5 12450H (81P00PA) (RTX 3050 4GB, 15.6 inches, 2GHz)', 'Screen Size': '15.6 inches', 'Processor Brand': 'RTX 3050 4GB', 'Processor Speed': '2GHz'}, {'title': 'HP 240 G10 i5 1335U (8F136PA) (Intel UHD, 14 inches, 1.3GHz)', 'Screen Size': '14 inches', 'Processor Brand': 'Intel UHD', 'Processor Speed': '1.3GHz'}, {'title': 'HP 245 G9 R5 5625U (6L1N9PA) (Radeon, 14 inches, 2.30 GHz)', 'Screen Size': '14 inches', 'Processor Brand': 'Radeon', 'Processor Speed': '2.30 GHz'}, {'title': 'HP OMEN 16 xf0070AX R9 7940HS (8W945PA) (RTX 4070 8GB, 16.1 inches, 4GHz)', 'Screen Size': '16.1 inches', 'Processor Brand': 'RTX 4070 8GB', 'Processor Speed': '4GHz'}, {'title': 'HP OMEN 16 xf0071AX R7 7840HS (8W946PA) (RTX 4060 8GB, 16.1 inches, 3.8GHz)', 'Screen Size': '16.1 inches', 'Processor Brand': 'RTX 4060 8GB', 'Processor Speed': '3.8GHz'}, {'title': 'HP Envy 16 h0205TX i9 12900H (7C0T2PA) (RTX 3060 6GB, 16 inches, 2.5GHz)', 'Screen Size': '16 inches', 'Processor Brand': 'RTX 3060 6GB', 'Processor Speed': '2.5GHz'}, {'title': 'HP Envy 16 h0207TX i7 12700H (7C0T4PA) (RTX 3060 6GB, 16 inches, 2.30 GHz)', 'Screen Size': '16 inches', 'Processor Brand': 'RTX 3060 6GB', 'Processor Speed': '2.30 GHz'}, {'title': 'HP Elitebook Dragonfly G3 i7 1255U (6Z980PA) (Intel Iris Xe, 13.5 inches, 1.7GHz)', 'Screen Size': '13.5 inches', 'Processor Brand': 'Intel Iris Xe', 'Processor Speed': '1.7GHz'}, {'title': 'HP Gaming VICTUS 16 s0138AX R7 7840HS (9Q985PA) (RTX 4070 8GB, 16.1 inches, 3.8GHz)', 'Screen Size': '16.1 inches', 'Processor Brand': 'RTX 4070 8GB', 'Processor Speed': '3.8GHz'}, {'title': 'HP Omen 16 n0087AX R7 6800H (7C0T7PA) (RTX 3060 6GB, 16.1 inches, 3.2GHz)', 'Screen Size': '16.1 inches', 'Processor Brand': 'RTX 3060 6GB', 'Processor Speed': '3.2GHz'}, {'title': 'HP Elitebook X360 1040 G9 i7 1255U (6Z982PA) (Intel Iris Xe, 14 inches, 1.7GHz)', 'Screen Size': '14 inches', 'Processor Brand': 'Intel Iris Xe', 'Processor Speed': '1.7GHz'}, {'title': 'HP Gaming VICTUS 16 s0139AX R7 7840HS (9Q986PA) (RTX 4060 8GB, 16.1 inches, 3.8GHz)', 'Screen Size': '16.1 inches', 'Processor Brand': 'RTX 4060 8GB', 'Processor Speed': '3.8GHz'}, {'title': 'HP Gaming VICTUS 16 r0227TX i5 13500H (9Q978PA) (RTX 4060 8GB, 16.1 inches, 2.6GHz)', 'Screen Size': '16.1 inches', 'Processor Brand': 'RTX 4060 8GB', 'Processor Speed': '2.6GHz'}, {'title': 'HP Gaming VICTUS 16 r0228TX i5 13500H (9Q979PA) (RTX 4050 6GB, 16.1 inches, 2.6GHz)', 'Screen Size': '16.1 inches', 'Processor Brand': 'RTX 4050 6GB', 'Processor Speed': '2.6GHz'}, {'title': 'HP Elitebook 630 G10 i7 1355U (9J0B7PT) (Intel UHD, 13.3 inches, 1.7GHz)', 'Screen Size': '13.3 inches', 'Processor Brand': 'Intel UHD', 'Processor Speed': '1.7GHz'}, {'title': 'HP Elitebook 630 G10 i7 1355U (873F2PA) (Intel UHD, 13.3 inches, 1.7GHz)', 'Screen Size': '13.3 inches', 'Processor Brand': 'Intel UHD', 'Processor Speed': '1.7GHz'}, {'title': 'HP Elitebook 630 G10 i5 1335U (9J0B5PT) (Intel UHD, 13.3 inches, 1.3GHz)', 'Screen Size': '13.3 inches', 'Processor Brand': 'Intel UHD', 'Processor Speed': '1.3GHz'}, {'title': 'HP Probook 450 G10 i7 1355U (873D3PA) (Intel UHD, 15.6 inches, 1.7GHz)', 'Screen Size': '15.6 inches', 'Processor Brand': 'Intel UHD', 'Processor Speed': '1.7GHz'}, {'title': 'HP Pavilion X360 14 ek0132TU i7 1255U (7C0W4PA) (Intel Iris Xe, 14 inches, 1.7GHz)', 'Screen Size': '14 inches', 'Processor Brand': 'Intel Iris Xe', 'Processor Speed': '1.7GHz'}, {'title': 'HP Pavilion 15 eg3035TX i7 1355U (8U6L7PA) (MX550 2GB, 15.6 inches, 1.7GHz)', 'Screen Size': '15.6 inches', 'Processor Brand': 'MX550 2GB', 'Processor Speed': '1.7GHz'}, {'title': 'HP Pavilion 15 eg2034TX i7 1255U (6K780PA) (MX550 2GB, 15.6 inches, 1.7GHz)', 'Screen Size': '15.6 inches', 'Processor Brand': 'MX550 2GB', 'Processor Speed': '1.7GHz'}, {'title': 'HP Pavilion 14 dv2071TU i7 1255U (7C0W0PA) (Intel Iris Xe, 14 inches, 1.7GHz)', 'Screen Size': '14 inches', 'Processor Brand': 'Intel Iris Xe', 'Processor Speed': '1.7GHz'}, {'title': 'HP Probook 450 G10 i5 1335U (873D1PA) (Intel UHD, 15.6 inches, 1.3GHz)', 'Screen Size': '15.6 inches', 'Processor Brand': 'Intel UHD', 'Processor Speed': '1.3GHz'}, {'title': 'HP Pavilion 15 eg3033TX i5 1335U (8U6L6PA) (MX550 2GB, 15.6 inches, 1.3GHz)', 'Screen Size': '15.6 inches', 'Processor Brand': 'MX550 2GB', 'Processor Speed': '1.3GHz'}, {'title': 'HP Probook 450 G9 i5 1235U (6M0Y9PA) (Intel UHD, 15.6 inches, 1.3GHz)', 'Screen Size': '15.6 inches', 'Processor Brand': 'Intel UHD', 'Processor Speed': '1.3GHz'}, {'title': 'HP Pavilion 15 eg2035TX i5 1235U (6K781PA) (MX550 2GB, 15.6 inches, 1.3GHz)', 'Screen Size': '15.6 inches', 'Processor Brand': 'MX550 2GB', 'Processor Speed': '1.3GHz'}, {'title': 'HP Pavilion 15 eg2036TX i5 1235U (6K782PA) (MX550 2GB, 15.6 inches, 1.3GHz)', 'Screen Size': '15.6 inches', 'Processor Brand': 'MX550 2GB', 'Processor Speed': '1.3GHz'}, {'title': 'HP Pavilion 15 eg3094TU i5 1335U (8C5L5PA) (Intel Iris Xe, 15.6 inches, 1.3GHz)', 'Screen Size': '15.6 inches', 'Processor Brand': 'Intel Iris Xe', 'Processor Speed': '1.3GHz'}, {'title': 'HP Pavilion 15 eg2085TU i5 1240P (7C0Q7PA) (Intel Iris Xe, 15.6 inches, 1.7GHz)', 'Screen Size': '15.6 inches', 'Processor Brand': 'Intel Iris Xe', 'Processor Speed': '1.7GHz'}, {'title': 'HP Pavilion X360 14 ek0131TU i3 1215U (7C0P6PA) (Intel UHD, 14 inches, 1.2GHz)', 'Screen Size': '14 inches', 'Processor Brand': 'Intel UHD', 'Processor Speed': '1.2GHz'}, {'title': 'HP Pavilion X360 14 ek0130TU i3 1215U (7C0P5PA) (Intel UHD, 14 inches, 1.2GHz)', 'Screen Size': '14 inches', 'Processor Brand': 'Intel UHD', 'Processor Speed': '1.2GHz'}, {'title': 'HP Pavilion 15 eg3098TU i3 1315U (8C5L9PA) (Intel UHD, 15.6 inches, 1.2GHz)', 'Screen Size': '15.6 inches', 'Processor Brand': 'Intel UHD', 'Processor Speed': '1.2GHz'}, {'title': 'Asus Vivobook Go 15 E1504FA R5 7520U (NJ776W) (Radeon, 15.6 inches, 2.8GHz)', 'Screen Size': '15.6 inches', 'Processor Brand': 'Radeon', 'Processor Speed': '2.8GHz'}, {'title': 'Asus Vivobook 15 OLED A1505ZA i5 12500H (L1337W) (Intel Iris Xe, 15.6 inches, 2.5GHz)', 'Screen Size': '15.6 inches', 'Processor Brand': 'Intel Iris Xe', 'Processor Speed': '2.5GHz'}, {'title': 'Asus Vivobook X1404ZA i3 1215U (NK246W) (Intel UHD, 14 inches, 1.2GHz)', 'Screen Size': '14 inches', 'Processor Brand': 'Intel UHD', 'Processor Speed': '1.2GHz'}, {'title': 'Asus TUF Gaming F15 FX506HF i5 11400H (HN014W) (RTX 2050 4GB, 15.6 inches, 2.7GHz)', 'Screen Size': '15.6 inches', 'Processor Brand': 'RTX 2050 4GB', 'Processor Speed': '2.7GHz'}, {'title': 'Asus Vivobook 16 X1605VA i5 1335U (MB360W) (Intel Iris Xe, 16 inches, 1.3GHz)', 'Screen Size': '16 inches', 'Processor Brand': 'Intel Iris Xe', 'Processor Speed': '1.3GHz'}, {'title': 'Asus Vivobook 15 X1504ZA i3 1215U (NJ102W) (Intel UHD, 15.6 inches, 1.2GHz)', 'Screen Size': '15.6 inches', 'Processor Brand': 'Intel UHD', 'Processor Speed': '1.2GHz'}, {'title': 'Asus TUF Gaming F15 FX507ZC4 i5 12500H (HN229W) (RTX 3050 4GB, 15.6 inches, 2.5GHz)', 'Screen Size': '15.6 inches', 'Processor Brand': 'RTX 3050 4GB', 'Processor Speed': '2.5GHz'}, {'title': 'Asus Vivobook 15 OLED A1505VA i5 13500H (L1341W) (Intel Iris Xe, 15.6 inches, 2.6GHz)', 'Screen Size': '15.6 inches', 'Processor Brand': 'Intel Iris Xe', 'Processor Speed': '2.6GHz'}, {'title': 'Asus TUF Gaming F17 FX706HF i5 11400H (HX390W) (RTX 2050 4GB, 17.3 inches, 2.7GHz)', 'Screen Size': '17.3 inches', 'Processor Brand': 'RTX 2050 4GB', 'Processor Speed': '2.7GHz'}, {'title': 'Asus Vivobook 14 X1404VA i5 1335U (NK050W) (Intel Iris Xe, 14 inches, 1.3GHz)', 'Screen Size': '14 inches', 'Processor Brand': 'Intel Iris Xe', 'Processor Speed': '1.3GHz'}, {'title': 'Asus TUF Gaming A15 FA507NU R5 7535HS (LP105W) (RTX 4050 6GB, 15.6 inches, 3.3GHz)', 'Screen Size': '15.6 inches', 'Processor Brand': 'RTX 4050 6GB', 'Processor Speed': '3.3GHz'}, {'title': 'Asus Vivobook 15 X1504VA i5 1335U (NJ025W) (Intel UHD, 15.6 inches, 1.3GHz)', 'Screen Size': '15.6 inches', 'Processor Brand': 'Intel UHD', 'Processor Speed': '1.3GHz'}, {'title': 'Asus Vivobook S 14 Flip TP3402VA i5 13500H (LZ031W) (Intel Iris Xe, 14 inches, 2.6GHz)', 'Screen Size': '14 inches', 'Processor Brand': 'Intel Iris Xe', 'Processor Speed': '2.6GHz'}, {'title': 'Asus Vivobook X415EA i3 1115G4 (EK2034W) (Intel UHD, 14 inches, 3GHz)', 'Screen Size': '14 inches', 'Processor Brand': 'Intel UHD', 'Processor Speed': '3GHz'}, {'title': 'Asus TUF Gaming F15 FX507VU i7 13620H (LP167W) (RTX 4050 6GB, 15.6 inches, 2.4GHz)', 'Screen Size': '15.6 inches', 'Processor Brand': 'RTX 4050 6GB', 'Processor Speed': '2.4GHz'}, {'title': 'Asus TUF Gaming F15 FX506HC i5 11400H (HN949W) (RTX 3050 4GB, 15.6 inches, 2.7GHz)', 'Screen Size': '15.6 inches', 'Processor Brand': 'RTX 3050 4GB', 'Processor Speed': '2.7GHz'}, {'title': 'Asus TUF Gaming A15 FA506NF R5 7535HS (HN012W) (RTX 2050 4GB, 15.6 inches, 3.3GHz)', 'Screen Size': '15.6 inches', 'Processor Brand': 'RTX 2050 4GB', 'Processor Speed': '3.3GHz'}, {'title': 'Asus TUF Gaming F15 FX507ZC4 i5 12500H (HN074W) (RTX 3050 4GB, 15.6 inches, 2.5GHz)', 'Screen Size': '15.6 inches', 'Processor Brand': 'RTX 3050 4GB', 'Processor Speed': '2.5GHz'}, {'title': 'Asus Vivobook X515EA i3 1115G4 (EJ3948W) (Intel UHD, 15.6 inches, 3GHz)', 'Screen Size': '15.6 inches', 'Processor Brand': 'Intel UHD', 'Processor Speed': '3GHz'}, {'title': 'Asus Vivobook 14X OLED K3405VC i5 13500H (KM006W) (RTX 3050 4GB, 14 inches, 2.6GHz)', 'Screen Size': '14 inches', 'Processor Brand': 'RTX 3050 4GB', 'Processor Speed': '2.6GHz'}, {'title': 'Asus Vivobook 15 OLED A1505VA i9 13900H (L1386W) (Intel Iris Xe, 15.6 inches, 2.6GHz)', 'Screen Size': '15.6 inches', 'Processor Brand': 'Intel Iris Xe', 'Processor Speed': '2.6GHz'}, {'title': 'Asus Vivobook 15 OLED A1505VA i7 13700H (L1338W) (Intel Iris Xe, 15.6 inches, 2.4GHz)', 'Screen Size': '15.6 inches', 'Processor Brand': 'Intel Iris Xe', 'Processor Speed': '2.4GHz'}, {'title': 'Asus TUF Gaming A15 FA507NV R7 7735HS (LP031W) (RTX 4060 8GB, 15.6 inches, 3.2GHz)', 'Screen Size': '15.6 inches', 'Processor Brand': 'RTX 4060 8GB', 'Processor Speed': '3.2GHz'}, {'title': 'Asus Zenbook 14 OLED UX3402VA i5 1340P (KM085W) (Intel Iris Xe, 14 inches, 1.9GHz)', 'Screen Size': '14 inches', 'Processor Brand': 'Intel Iris Xe', 'Processor Speed': '1.9GHz'}, {'title': 'Asus Vivobook 15 OLED A1505VA i5 13500H (L1052W) (Intel UHD, 15.6 inches, 2.6GHz)', 'Screen Size': '15.6 inches', 'Processor Brand': 'Intel UHD', 'Processor Speed': '2.6GHz'}, {'title': 'Asus Zenbook 14 OLED UX3405MA Ultra 7 155H (PP152W) (Intel Arc Graphics, 14 inches, 1.4GHz)', 'Screen Size': '14 inches', 'Processor Brand': 'Intel Arc Graphics', 'Processor Speed': '1.4GHz'}, {'title': 'Asus Vivobook 15 X1504VA i7 1355U (NJ023W) (Intel Iris Xe, 15.6 inches, 1.7GHz)', 'Screen Size': '15.6 inches', 'Processor Brand': 'Intel Iris Xe', 'Processor Speed': '1.7GHz'}, {'title': 'Asus Zenbook 14 Flip OLED UP3404VA i5 1340P (KN038W) (Intel Iris Xe, 14 inches, 1.9GHz)', 'Screen Size': '14 inches', 'Processor Brand': 'Intel Iris Xe', 'Processor Speed': '1.9GHz'}, {'title': 'Asus Zenbook 14 OLED UX3405MA Ultra 5 125H (PP151W) (Intel Arc Graphics, 14 inches, 1.2GHz)', 'Screen Size': '14 inches', 'Processor Brand': 'Intel Arc Graphics', 'Processor Speed': '1.2GHz'}, {'title': 'Asus TUF Gaming A15 FA506NC R5 7535HS (HN017W) (RTX 3050 4GB, 15.6 inches, 3.3GHz)', 'Screen Size': '15.6 inches', 'Processor Brand': 'RTX 3050 4GB', 'Processor Speed': '3.3GHz'}, {'title': 'Asus Vivobook 14X OLED S3405VA i5 13500H (KM072W) (Intel Iris Xe, 14 inches, 2.6GHz)', 'Screen Size': '14 inches', 'Processor Brand': 'Intel Iris Xe', 'Processor Speed': '2.6GHz'}, {'title': 'Asus Gaming ROG Zephyrus G16 GU605MV Ultra 9 185H (QR135W) (RTX 4060 8GB, 16 inches, 2.30 GHz)', 'Screen Size': '16 inches', 'Processor Brand': 'RTX 4060 8GB', 'Processor Speed': '2.30 GHz'}, {'title': 'Asus Vivobook Go 15 E1504FA R5 7520U (NJ630W) (Radeon, 15.6 inches, 2.8GHz)', 'Screen Size': '15.6 inches', 'Processor Brand': 'Radeon', 'Processor Speed': '2.8GHz'}, {'title': 'Asus Gaming ROG Zephyrus G16 GU605MI Ultra 9 185H (QR116W) (RTX 4070 8GB, 16 inches, 2.30 GHz)', 'Screen Size': '16 inches', 'Processor Brand': 'RTX 4070 8GB', 'Processor Speed': '2.30 GHz'}, {'title': 'Asus Gaming ROG Strix G15 G513IH R7 4800H (HN015W) (GTX 1650 4GB, 15.6 inches, 2.9GHz)', 'Screen Size': '15.6 inches', 'Processor Brand': 'GTX 1650 4GB', 'Processor Speed': '2.9GHz'}, {'title': 'Asus Vivobook X1404ZA i5 1235U (NK376W) (Intel Iris Xe, 14 inches, 1.3GHz)', 'Screen Size': '14 inches', 'Processor Brand': 'Intel Iris Xe', 'Processor Speed': '1.3GHz'}, {'title': 'Asus Vivobook 15 OLED A1505VA i9 13900H (L1201W) (Intel Iris Xe, 15.6 inches, 2.6GHz)', 'Screen Size': '15.6 inches', 'Processor Brand': 'Intel Iris Xe', 'Processor Speed': '2.6GHz'}, {'title': 'Asus Gaming TUF Dash F15 FX517ZE i5 12450H (HN045W) (RTX 3050Ti 4GB, 15.6 inches, 2GHz)', 'Screen Size': '15.6 inches', 'Processor Brand': 'RTX 3050Ti 4GB', 'Processor Speed': '2GHz'}, {'title': 'Asus Zenbook 14 Flip OLED UP3404VA i7 1360P (KN039W) (Intel Iris Xe, 14 inches, 2.2GHz)', 'Screen Size': '14 inches', 'Processor Brand': 'Intel Iris Xe', 'Processor Speed': '2.2GHz'}, {'title': 'Asus TUF Gaming F15 FX507VV i7 13620H (LP181W) (RTX 4060 8GB, 15.6 inches, 2.4GHz)', 'Screen Size': '15.6 inches', 'Processor Brand': 'RTX 4060 8GB', 'Processor Speed': '2.4GHz'}, {'title': 'Asus Gaming ROG Strix SCAR 18 G834JY i9 13980HX (N6039W) (RTX 4090 16GB, 18 inches, 2.2GHz)', 'Screen Size': '18 inches', 'Processor Brand': 'RTX 4090 16GB', 'Processor Speed': '2.2GHz'}, {'title': 'Asus Gaming ROG Strix SCAR 17 G733PZ R9 7945HX (LL980W) (RTX 4080 12GB, 17.3 inches, 2.5GHz)', 'Screen Size': '17.3 inches', 'Processor Brand': 'RTX 4080 12GB', 'Processor Speed': '2.5GHz'}, {'title': 'Asus Gaming ROG Strix SCAR 18 G834JYR i9 14900HX (R6011W) (RTX 4090 16GB, 18 inches, 2.2GHz)', 'Screen Size': '18 inches', 'Processor Brand': 'RTX 4090 16GB', 'Processor Speed': '2.2GHz'}, {'title': 'Asus Gaming ROG Strix SCAR 16 G634JZR i9 14900HX (NM009W) (RTX 4080 12GB, 16 inches, 2.2GHz)', 'Screen Size': '16 inches', 'Processor Brand': 'RTX 4080 12GB', 'Processor Speed': '2.2GHz'}, {'title': 'Asus Gaming ROG Zephyrus Duo 16 GX650PZ R9 7945HX (NM031W) (RTX 4080 12GB, 16 inches, 2.5GHz)', 'Screen Size': '16 inches', 'Processor Brand': 'RTX 4080 12GB', 'Processor Speed': '2.5GHz'}, {'title': 'Asus Gaming ROG Strix SCAR 16 G634JZ i9 13980HX (N4029W) (RTX 4080 12GB, 16 inches, 2.2GHz)', 'Screen Size': '16 inches', 'Processor Brand': 'RTX 4080 12GB', 'Processor Speed': '2.2GHz'}, {'title': 'Asus Gaming ROG Zephyrus M16 GU604VI i9 13900H (NM779W) (RTX 4070 8GB, 16 inches, 2.6GHz)', 'Screen Size': '16 inches', 'Processor Brand': 'RTX 4070 8GB', 'Processor Speed': '2.6GHz'}, {'title': 'Asus Gaming ROG Strix SCAR G18 G814JIR i9 14900HX (N6007W) (RTX 4070 8GB, 18 inches, 2.2GHz)', 'Screen Size': '18 inches', 'Processor Brand': 'RTX 4070 8GB', 'Processor Speed': '2.2GHz'}, {'title': 'Asus Gaming ROG Flow X16 GV601VV i9 13900H (NL016W) (RTX 4060 8GB, 16 inches, 2.6GHz)', 'Screen Size': '16 inches', 'Processor Brand': 'RTX 4060 8GB', 'Processor Speed': '2.6GHz'}, {'title': 'Asus Gaming ROG Flow X13 GV302XU R9 7940HS (MU223W) (RTX 4050 6GB, 13.4 inches, 4GHz)', 'Screen Size': '13.4 inches', 'Processor Brand': 'RTX 4050 6GB', 'Processor Speed': '4GHz'}, {'title': 'Asus Zenbook S 13 OLED UX5304VA i7 1355U (NQ126W) (Intel Iris Xe, 13.3 inches, 1.7GHz)', 'Screen Size': '13.3 inches', 'Processor Brand': 'Intel Iris Xe', 'Processor Speed': '1.7GHz'}, {'title': 'Asus ExpertBook B9 OLED B9403CVA i7 1355U (KM0157X) (Intel Iris Xe, 14 inches, 1.7GHz)', 'Screen Size': '14 inches', 'Processor Brand': 'Intel Iris Xe', 'Processor Speed': '1.7GHz'}, {'title': 'Asus TUF Gaming F15 FX507VV i7 13620H (LP171W) (RTX 4060 8GB, 15.6 inches, 2.4GHz)', 'Screen Size': '15.6 inches', 'Processor Brand': 'RTX 4060 8GB', 'Processor Speed': '2.4GHz'}, {'title': 'Asus TUF Gaming A15 FA507XI R9 7940HS (LP420W) (RTX 4070 8GB, 15.6 inches, 4GHz)', 'Screen Size': '15.6 inches', 'Processor Brand': 'RTX 4070 8GB', 'Processor Speed': '4GHz'}, {'title': 'Asus Gaming ROG Zephyrus G14 GA402NJ R7 7735HS (L4056W) (RTX 3050 6GB, 14 inches, 3.2GHz)', 'Screen Size': '14 inches', 'Processor Brand': 'RTX 3050 6GB', 'Processor Speed': '3.2GHz'}, {'title': 'Asus Gaming ROG Strix G16 G614JU i5 13450HX (N3135W) (RTX 4050 6GB, 16 inches, 2.4GHz)', 'Screen Size': '16 inches', 'Processor Brand': 'RTX 4050 6GB', 'Processor Speed': '2.4GHz'}, {'title': 'Asus Zenbook S 13 OLED UX5304VA i7 1355U (NQ125W) (Intel Iris Xe, 13.3 inches, 1.7GHz)', 'Screen Size': '13.3 inches', 'Processor Brand': 'Intel Iris Xe', 'Processor Speed': '1.7GHz'}, {'title': 'Asus Zenbook 14 OLED UX3402VA i7 1360P (KM068W) (Intel Iris Xe, 14 inches, 2.2GHz)', 'Screen Size': '14 inches', 'Processor Brand': 'Intel Iris Xe', 'Processor Speed': '2.2GHz'}, {'title': 'Asus Zenbook 14 OLED UM3402YA R5 7530U (KM405W) (Radeon, 14 inches, 2GHz)', 'Screen Size': '14 inches', 'Processor Brand': 'Radeon', 'Processor Speed': '2GHz'}, {'title': 'Asus Vivobook 14 A1405VA i3 1315U (LY097W) (Intel UHD, 14 inches, 1.2GHz)', 'Screen Size': '14 inches', 'Processor Brand': 'Intel UHD', 'Processor Speed': '1.2GHz'}, {'title': 'Acer Aspire 3 A315 510P 32EF i3 N305 (NX.KDHSV.001) (Intel UHD, 15.6 inches, N305)', 'Screen Size': '15.6 inches', 'Processor Brand': 'Intel UHD', 'Processor Speed': 'N305'}, {'title': 'Acer Aspire Lite 15 51M 5542 i5 1155G7 (NX.KS5SV.001) (Intel Iris Xe, 15.6 inches, 2.5GHz)', 'Screen Size': '15.6 inches', 'Processor Brand': 'Intel Iris Xe', 'Processor Speed': '2.5GHz'}, {'title': 'Acer Aspire 5 Gaming A515 58GM 51LB i5 13420H (NX.KQ4SV.002) (RTX 2050 4GB, 15.6 inches, 2.1GHz)', 'Screen Size': '15.6 inches', 'Processor Brand': 'RTX 2050 4GB', 'Processor Speed': '2.1GHz'}, {'title': 'Acer Aspire 3 A315 44P R9W8 R7 5700U (NX.KSJSV.002) (Radeon, 15.6 inches, 1.8GHz)', 'Screen Size': '15.6 inches', 'Processor Brand': 'Radeon', 'Processor Speed': '1.8GHz'}, {'title': 'Acer Nitro 5 Gaming AN515 57 5669 i5 11400H (NH.QEHSV.001) (GTX 1650 4GB, 15.6 inches, 2.7GHz)', 'Screen Size': '15.6 inches', 'Processor Brand': 'GTX 1650 4GB', 'Processor Speed': '2.7GHz'}, {'title': 'Acer Aspire 3 A315 58 589K i5 1135G7 (NX.AM0SV.008) (Intel Iris Xe, 15.6 inches, 2.4GHz)', 'Screen Size': '15.6 inches', 'Processor Brand': 'Intel Iris Xe', 'Processor Speed': '2.4GHz'}, {'title': 'Acer Aspire 7 Gaming A715 43G R8GA R5 5625U (NH.QHDSV.002) (RTX 3050 4GB, 15.6 inches, 2.30 GHz)', 'Screen Size': '15.6 inches', 'Processor Brand': 'RTX 3050 4GB', 'Processor Speed': '2.30 GHz'}, {'title': 'Acer Aspire 3 A315 59 38PG i3 1215U (NX.K6TSV.00A) (Intel UHD, 15.6 inches, 1.2GHz)', 'Screen Size': '15.6 inches', 'Processor Brand': 'Intel UHD', 'Processor Speed': '1.2GHz'}, {'title': 'Acer Aspire 3 A314 42P R3B3 R7 5700U (NX.KSFSV.001) (Radeon, 14 inches, 1.8GHz)', 'Screen Size': '14 inches', 'Processor Brand': 'Radeon', 'Processor Speed': '1.8GHz'}, {'title': 'Acer TravelMate P4 TMP414 51 50HX i5 1135G7 (NX.VP2SV.00T) (Intel Iris Xe, 14 inches, 2.4GHz)', 'Screen Size': '14 inches', 'Processor Brand': 'Intel Iris Xe', 'Processor Speed': '2.4GHz'}, {'title': 'Acer Aspire 5 A515 58P 34RJ i3 1315U (NX.KHJSV.003) (Intel UHD, 15.6 inches, 1.2GHz)', 'Screen Size': '15.6 inches', 'Processor Brand': 'Intel UHD', 'Processor Speed': '1.2GHz'}, {'title': 'Acer Aspire 7 Gaming A715 76G 5806 i5 12450H (NH.QMFSV.002) (RTX 3050 4GB, 15.6 inches, 2GHz)', 'Screen Size': '15.6 inches', 'Processor Brand': 'RTX 3050 4GB', 'Processor Speed': '2GHz'}, {'title': 'Acer Aspire 3 A315 59 5283 i5 1235U (NX.K6TSV.00B) (Intel UHD, 15.6 inches, 1.3GHz)', 'Screen Size': '15.6 inches', 'Processor Brand': 'Intel UHD', 'Processor Speed': '1.3GHz'}, {'title': 'Acer Gaming Nitro V ANV15 51 53NE i5 13420H (NH.QNASV.002) (RTX 2050 4GB, 15.6 inches, 2.1GHz)', 'Screen Size': '15.6 inches', 'Processor Brand': 'RTX 2050 4GB', 'Processor Speed': '2.1GHz'}, {'title': 'Acer Aspire 3 A315 58 54XF i5 1135G7 (NX.AM0SV.007) (Intel Iris Xe, 15.6 inches, 2.4GHz)', 'Screen Size': '15.6 inches', 'Processor Brand': 'Intel Iris Xe', 'Processor Speed': '2.4GHz'}, {'title': 'Acer Nitro 5 Tiger AN515 58 52SP i5 12500H (NH.QFHSV.001) (RTX 3050 4GB, 15.6 inches, 2.5GHz)', 'Screen Size': '15.6 inches', 'Processor Brand': 'RTX 3050 4GB', 'Processor Speed': '2.5GHz'}, {'title': 'Acer Aspire 5 A514 56P 54TN i5 1335U (NX.KHRSV.004) (Intel Iris Xe, 14 inches, 1.3GHz)', 'Screen Size': '14 inches', 'Processor Brand': 'Intel Iris Xe', 'Processor Speed': '1.3GHz'}, {'title': 'Acer Aspire 5 A514 54 5127 i5 1135G7 (NX.A28SV.007) (Intel Iris Xe, 14 inches, 2.4GHz)', 'Screen Size': '14 inches', 'Processor Brand': 'Intel Iris Xe', 'Processor Speed': '2.4GHz'}, {'title': 'Acer Aspire 3 A314 35 P3G9 N6000 (NX.A7SSV.007) (Intel UHD, 14 inches, 1.1GHz)', 'Screen Size': '14 inches', 'Processor Brand': 'Intel UHD', 'Processor Speed': '1.1GHz'}, {'title': 'Acer Swift 3 SF314 511 55QE i5 1135G7 (NX.ABNSV.003) (Intel Iris Xe, 14 inches, 2.4GHz)', 'Screen Size': '14 inches', 'Processor Brand': 'Intel Iris Xe', 'Processor Speed': '2.4GHz'}, {'title': 'Acer Aspire 3 A314 35 C3KS N5100 (NX.A7SSV.009) (Intel UHD, 14 inches, 1.1GHz)', 'Screen Size': '14 inches', 'Processor Brand': 'Intel UHD', 'Processor Speed': '1.1GHz'}, {'title': 'Acer Gaming Nitro V ANV15 51 57B2 i5 13420H (NH.QN8SV.001) (RTX 4050 6GB, 15.6 inches, 2.1GHz)', 'Screen Size': '15.6 inches', 'Processor Brand': 'RTX 4050 6GB', 'Processor Speed': '2.1GHz'}, {'title': 'Acer Gaming Nitro 5 AN515 58 769J i7 12700H (NH.QFHSV.003) (RTX 3050 4GB, 15.6 inches, 2.30 GHz)', 'Screen Size': '15.6 inches', 'Processor Brand': 'RTX 3050 4GB', 'Processor Speed': '2.30 GHz'}, {'title': 'Acer TravelMate P4 TMP414 51G 59R6 i5 1135G7 (NX.VP9SV.001) (MX350 2GB, 14 inches, 2.4GHz)', 'Screen Size': '14 inches', 'Processor Brand': 'MX350 2GB', 'Processor Speed': '2.4GHz'}, {'title': 'Acer Aspire 7 Gaming A715 76G 59MW i5 12450H (NH.QMYSV.001) (RTX 2050 4GB, 15.6 inches, 2GHz)', 'Screen Size': '15.6 inches', 'Processor Brand': 'RTX 2050 4GB', 'Processor Speed': '2GHz'}, {'title': 'Acer Swift 3 SF314 512 56QN i5 1240P (NX.K0FSV.002) (Intel Iris Xe, 14 inches, 1.7GHz)', 'Screen Size': '14 inches', 'Processor Brand': 'Intel Iris Xe', 'Processor Speed': '1.7GHz'}, {'title': 'Acer Gaming Predator Helios 16 PH16 71 72BV i7 13700HX (NH.QJRSV.001) (RTX 4070 8GB, 16 inches, 2.1GHz)', 'Screen Size': '16 inches', 'Processor Brand': 'RTX 4070 8GB', 'Processor Speed': '2.1GHz'}, {'title': 'Acer Nitro 5 Tiger AN515 58 773Y i7 12700H (NH.QFKSV.001) (RTX 3050Ti 4GB, 15.6 inches, 2.30 GHz)', 'Screen Size': '15.6 inches', 'Processor Brand': 'RTX 3050Ti 4GB', 'Processor Speed': '2.30 GHz'}, {'title': 'Acer Gaming Nitro V ANV15 51 58AN i5 13420H (NH.QNASV.001) (RTX 2050 4GB, 15.6 inches, 2.1GHz)', 'Screen Size': '15.6 inches', 'Processor Brand': 'RTX 2050 4GB', 'Processor Speed': '2.1GHz'}, {'title': 'Acer Aspire 5 A515 58M 56YX i5 13420H (NX.KQ8SV.005) (Intel UHD, 15.6 inches, 2.1GHz)', 'Screen Size': '15.6 inches', 'Processor Brand': 'Intel UHD', 'Processor Speed': '2.1GHz'}, {'title': 'Acer Gaming Nitro 5 AN515 57 53F9 i5 11400H (NH.QENSV.008) (RTX 3050 4GB, 15.6 inches, 2.7GHz)', 'Screen Size': '15.6 inches', 'Processor Brand': 'RTX 3050 4GB', 'Processor Speed': '2.7GHz'}, {'title': 'Lenovo Ideapad 1 15ALC7 R7 5700U (82R400C1VN) (Radeon, 15.6 inches, 1.8GHz)', 'Screen Size': '15.6 inches', 'Processor Brand': 'Radeon', 'Processor Speed': '1.8GHz'}, {'title': 'Lenovo V14 G3 ABA R5 5625U (82TU006SVN) (Radeon, 14 inches, 2.30 GHz)', 'Screen Size': '14 inches', 'Processor Brand': 'Radeon', 'Processor Speed': '2.30 GHz'}, {'title': 'Lenovo Ideapad Slim 3 15IAH8 i5 12450H (83ER000EVN) (Intel UHD, 15.6 inches, 2GHz)', 'Screen Size': '15.6 inches', 'Processor Brand': 'Intel UHD', 'Processor Speed': '2GHz'}, {'title': 'Lenovo V15 G4 IRU i5 1335U (83A1000LVN) (Intel Iris Xe, 15.6 inches, 1.3GHz)', 'Screen Size': '15.6 inches', 'Processor Brand': 'Intel Iris Xe', 'Processor Speed': '1.3GHz'}, {'title': 'Lenovo Ideapad 5 15IAL7 i5 1235U (82SF005HVN) (Intel Iris Xe, 15.6 inches, 1.3GHz)', 'Screen Size': '15.6 inches', 'Processor Brand': 'Intel Iris Xe', 'Processor Speed': '1.3GHz'}, {'title': 'Lenovo Ideapad 3 15IAU7 i3 1215U (82RK005LVN) (Intel UHD, 15.6 inches, 1.2GHz)', 'Screen Size': '15.6 inches', 'Processor Brand': 'Intel UHD', 'Processor Speed': '1.2GHz'}, {'title': 'Lenovo Ideapad Slim 3 15IAH8 i5 12450H (83ER000FVN) (Intel UHD, 15.6 inches, 2GHz)', 'Screen Size': '15.6 inches', 'Processor Brand': 'Intel UHD', 'Processor Speed': '2GHz'}, {'title': 'Lenovo Ideapad 3 15IAU7 i3 1215U (82RK00RWVN) (Intel UHD, 15.6 inches, 1.2GHz)', 'Screen Size': '15.6 inches', 'Processor Brand': 'Intel UHD', 'Processor Speed': '1.2GHz'}, {'title': 'Lenovo Ideapad 3 15ITL6 i5 1155G7 (82H803RRVN) (Intel Iris Xe, 15.6 inches, 2.5GHz)', 'Screen Size': '15.6 inches', 'Processor Brand': 'Intel Iris Xe', 'Processor Speed': '2.5GHz'}, {'title': 'Lenovo IdeaPad 1 15AMN7 R5 7520U (82VG0061VN) (AMD Radeon 610M, 15.6 inches, 2.8GHz)', 'Screen Size': '15.6 inches', 'Processor Brand': 'AMD Radeon 610M', 'Processor Speed': '2.8GHz'}, {'title': 'Lenovo ThinkBook 15 G5 IRL i7 1355U (21JD002AVN) (Intel Iris Xe, 15.6 inches, 1.7GHz)', 'Screen Size': '15.6 inches', 'Processor Brand': 'Intel Iris Xe', 'Processor Speed': '1.7GHz'}, {'title': 'Lenovo Ideapad 3 15IAU7 i3 1215U (82RK001MVN) (Intel UHD, 15.6 inches, 1.2GHz)', 'Screen Size': '15.6 inches', 'Processor Brand': 'Intel UHD', 'Processor Speed': '1.2GHz'}, {'title': 'Lenovo Ideapad Slim 3 15IRH8 i7 13620H (83EM003FVN) (Intel UHD, 15.6 inches, 2.4GHz)', 'Screen Size': '15.6 inches', 'Processor Brand': 'Intel UHD', 'Processor Speed': '2.4GHz'}, {'title': 'Lenovo Ideapad 3 15IAU7 i7 1255U (82RK00X0VN) (Intel Iris Xe, 15.6 inches, 1.7GHz)', 'Screen Size': '15.6 inches', 'Processor Brand': 'Intel Iris Xe', 'Processor Speed': '1.7GHz'}, {'title': 'Lenovo Ideapad 5 Pro 14IAP7 i5 1240P (82SH000SVN) (Intel Iris Xe, 14 inches, 1.7GHz)', 'Screen Size': '14 inches', 'Processor Brand': 'Intel Iris Xe', 'Processor Speed': '1.7GHz'}, {'title': 'Lenovo Ideapad Gaming 3 15ACH6 R5 5500H (82K2027PVN) (RTX 2050 4GB, 15.6 inches, 3.3GHz)', 'Screen Size': '15.6 inches', 'Processor Brand': 'RTX 2050 4GB', 'Processor Speed': '3.3GHz'}, {'title': 'Lenovo Yoga 7 14IRL8 i7 1360P (82YL006BVN) (Intel Iris Xe, 14 inches, 2.2GHz)', 'Screen Size': '14 inches', 'Processor Brand': 'Intel Iris Xe', 'Processor Speed': '2.2GHz'}, {'title': 'Lenovo IdeaPad Slim 5 Light 14ABR8 R5 7530U (82XS002KVN) (Radeon, 14 inches, 2GHz)', 'Screen Size': '14 inches', 'Processor Brand': 'Radeon', 'Processor Speed': '2GHz'}, {'title': 'Lenovo Ideapad 5 Pro 14IAP7 i7 1260P (82SH002SVN) (Intel Iris Xe, 14 inches, 2.1GHz)', 'Screen Size': '14 inches', 'Processor Brand': 'Intel Iris Xe', 'Processor Speed': '2.1GHz'}, {'title': 'Lenovo Ideapad 3 15ITL6 i3 1115G4 (82H803SFVN) (Intel UHD, 15.6 inches, 3GHz)', 'Screen Size': '15.6 inches', 'Processor Brand': 'Intel UHD', 'Processor Speed': '3GHz'}, {'title': 'Lenovo Yoga 7 14IRL8 i5 1340P (82YL006AVN) (Intel Iris Xe, 14 inches, 1.9GHz)', 'Screen Size': '14 inches', 'Processor Brand': 'Intel Iris Xe', 'Processor Speed': '1.9GHz'}, {'title': 'Lenovo Ideapad 3 15IAU7 i3 1215U (82RK00QYVN) (Intel UHD, 15.6 inches, 1.2GHz)', 'Screen Size': '15.6 inches', 'Processor Brand': 'Intel UHD', 'Processor Speed': '1.2GHz'}, {'title': 'Lenovo LOQ Gaming 15IRH8 i7 13620H (82XV00QXVN) (RTX 4050 6GB, 15.6 inches, 2.4GHz)', 'Screen Size': '15.6 inches', 'Processor Brand': 'RTX 4050 6GB', 'Processor Speed': '2.4GHz'}, {'title': 'Lenovo LOQ Gaming 15IAX9 i5 12450HX (83GS000JVN) (RTX 3050 6GB, 15.6 inches, 12450HX)', 'Screen Size': '15.6 inches', 'Processor Brand': 'RTX 3050 6GB', 'Processor Speed': '12450HX'}, {'title': 'Lenovo Gaming Legion 5 16IRH8 i5 13500H (82YA00BSVN) (RTX 4050 6GB, 16 inches, 2.6GHz)', 'Screen Size': '16 inches', 'Processor Brand': 'RTX 4050 6GB', 'Processor Speed': '2.6GHz'}, {'title': 'Lenovo LOQ Gaming 15IRH8 i5 13420H (82XV00Q4VN) (RTX 4050 6GB, 15.6 inches, 2.1GHz)', 'Screen Size': '15.6 inches', 'Processor Brand': 'RTX 4050 6GB', 'Processor Speed': '2.1GHz'}, {'title': 'Lenovo ThinkBook 15 G5 IRL i5 1355U (21JD002FVN) (Intel Iris Xe, 15.6 inches, 1.3GHz)', 'Screen Size': '15.6 inches', 'Processor Brand': 'Intel Iris Xe', 'Processor Speed': '1.3GHz'}, {'title': 'Lenovo Ideapad Slim 3 15IRH8 i7 13620H (83EM003EVN) (Intel UHD, 15.6 inches, 2.4GHz)', 'Screen Size': '15.6 inches', 'Processor Brand': 'Intel UHD', 'Processor Speed': '2.4GHz'}, {'title': 'Lenovo Ideapad Slim 5 14IAH8 i5 12450H (83BF003WVN) (Intel UHD, 14 inches, 2GHz)', 'Screen Size': '14 inches', 'Processor Brand': 'Intel UHD', 'Processor Speed': '2GHz'}, {'title': 'Lenovo Ideapad 3 15ITL6 i5 1155G7 (82H803CVVN) (Intel Iris Xe, 15.6 inches, 2.5GHz)', 'Screen Size': '15.6 inches', 'Processor Brand': 'Intel Iris Xe', 'Processor Speed': '2.5GHz'}, {'title': 'Lenovo Ideapad 3 15IAU7 i5 1235U (82RK001PVN) (Intel UHD, 15.6 inches, 1.3GHz)', 'Screen Size': '15.6 inches', 'Processor Brand': 'Intel UHD', 'Processor Speed': '1.3GHz'}, {'title': 'Lenovo Ideapad 5 14IAL7 i5 1235U (82SD0060VN) (Intel Iris Xe, 14 inches, 1.3GHz)', 'Screen Size': '14 inches', 'Processor Brand': 'Intel Iris Xe', 'Processor Speed': '1.3GHz'}, {'title': 'Lenovo V14 G4 IRU i3 1315U (83A0000TVN) (Intel UHD, 14 inches, 1.2GHz)', 'Screen Size': '14 inches', 'Processor Brand': 'Intel UHD', 'Processor Speed': '1.2GHz'}, {'title': 'Dell Inspiron 15 3520 i5 1235U (25P231) (Intel Iris Xe, 15.6 inches, 1.3GHz)', 'Screen Size': '15.6 inches', 'Processor Brand': 'Intel Iris Xe', 'Processor Speed': '1.3GHz'}, {'title': 'Dell Inspiron 15 3520 i5 1235U (i5U085W11BLU) (Intel UHD, 15.6 inches, 1.3GHz)', 'Screen Size': '15.6 inches', 'Processor Brand': 'Intel UHD', 'Processor Speed': '1.3GHz'}, {'title': 'Dell Inspiron 15 3520 i5 1235U (71027003) (Intel UHD, 15.6 inches, 1.3GHz)', 'Screen Size': '15.6 inches', 'Processor Brand': 'Intel UHD', 'Processor Speed': '1.3GHz'}, {'title': 'Dell Inspiron 15 3520 i3 1215U (71003264) (Intel UHD, 15.6 inches, 1.2GHz)', 'Screen Size': '15.6 inches', 'Processor Brand': 'Intel UHD', 'Processor Speed': '1.2GHz'}, {'title': 'Dell Vostro 15 3520 i3 1215U (V5I3614W1) (Intel UHD, 15.6 inches, 1.2GHz)', 'Screen Size': '15.6 inches', 'Processor Brand': 'Intel UHD', 'Processor Speed': '1.2GHz'}, {'title': 'Dell Inspiron 15 3520 i3 1215U (i3U082W11BLU) (Intel UHD, 15.6 inches, 1.2GHz)', 'Screen Size': '15.6 inches', 'Processor Brand': 'Intel UHD', 'Processor Speed': '1.2GHz'}, {'title': 'Dell Vostro 15 3520 i5 1235U (V5I5610W1) (Intel UHD, 15.6 inches, 1.3GHz)', 'Screen Size': '15.6 inches', 'Processor Brand': 'Intel UHD', 'Processor Speed': '1.3GHz'}, {'title': 'Dell Inspiron 15 3530 i7 1355U (N3530I716W1) (MX550 2GB, 15.6 inches, 1.7GHz)', 'Screen Size': '15.6 inches', 'Processor Brand': 'MX550 2GB', 'Processor Speed': '1.7GHz'}, {'title': 'Dell Inspiron 15 3530 i7 1355U (71011775) (Intel UHD, 15.6 inches, 1.7GHz)', 'Screen Size': '15.6 inches', 'Processor Brand': 'Intel UHD', 'Processor Speed': '1.7GHz'}, {'title': 'Dell Vostro 15 3520 i3 1215U (5M2TT1) (Intel UHD, 15.6 inches, 1.2GHz)', 'Screen Size': '15.6 inches', 'Processor Brand': 'Intel UHD', 'Processor Speed': '1.2GHz'}, {'title': 'Dell Inspiron 15 3530 i5 1335U (N3530-i5U085W11BLU) (Intel UHD, 15.6 inches, 1.3GHz)', 'Screen Size': '15.6 inches', 'Processor Brand': 'Intel UHD', 'Processor Speed': '1.3GHz'}, {'title': 'Dell Vostro 14 3430 i5 1335U (71011900) (Intel UHD, 14 inches, 1.3GHz)', 'Screen Size': '14 inches', 'Processor Brand': 'Intel UHD', 'Processor Speed': '1.3GHz'}, {'title': 'Dell Inspiron 15 3530 i5 1335U (71014840) (MX550 2GB, 15.6 inches, 1.3GHz)', 'Screen Size': '15.6 inches', 'Processor Brand': 'MX550 2GB', 'Processor Speed': '1.3GHz'}, {'title': 'Dell Inspiron 15 3530 i5 1335U (N5I5791W1) (Intel Iris Xe, 15.6 inches, 1.3GHz)', 'Screen Size': '15.6 inches', 'Processor Brand': 'Intel Iris Xe', 'Processor Speed': '1.3GHz'}, {'title': 'Dell Inspiron 14 7430 2-in-1 i7 1355U (i7U165W11SLU) (Intel Iris Xe, 14 inches, 1.7GHz)', 'Screen Size': '14 inches', 'Processor Brand': 'Intel Iris Xe', 'Processor Speed': '1.7GHz'}, {'title': 'Dell Inspiron 15 3520 i5 1235U (N5I5122W1) (Intel UHD, 15.6 inches, 1.3GHz)', 'Screen Size': '15.6 inches', 'Processor Brand': 'Intel UHD', 'Processor Speed': '1.3GHz'}, {'title': 'Dell Inspiron 14 T7430 i5 1335U (N7430I58W1) (Intel Iris Xe, 14 inches, 1.3GHz)', 'Screen Size': '14 inches', 'Processor Brand': 'Intel Iris Xe', 'Processor Speed': '1.3GHz'}, {'title': 'Dell Precision 16 5680 i9 13900H (71024680) (RTX A2000 8GB, 16 inches, 2.6GHz)', 'Screen Size': '16 inches', 'Processor Brand': 'RTX A2000 8GB', 'Processor Speed': '2.6GHz'}, {'title': 'Dell Precision 16 7680 i9 13950HX (71024676) (RTX A2000 8GB, 16 inches, 2.2GHz)', 'Screen Size': '16 inches', 'Processor Brand': 'RTX A2000 8GB', 'Processor Speed': '2.2GHz'}, {'title': 'Dell Precision 16 7680 i7 13850HX (71024681) (RTX A2000 8GB, 16 inches, 2.1GHz)', 'Screen Size': '16 inches', 'Processor Brand': 'RTX A2000 8GB', 'Processor Speed': '2.1GHz'}, {'title': 'Dell Precision 15 3581 i7 13800H (71024679) (RTX A1000 6GB, 15.6 inches, 2.5GHz)', 'Screen Size': '15.6 inches', 'Processor Brand': 'RTX A1000 6GB', 'Processor Speed': '2.5GHz'}, {'title': 'Dell Precision 15 3581 i7 13800H (71024677) (RTX A500 4GB, 15.6 inches, 2.5GHz)', 'Screen Size': '15.6 inches', 'Processor Brand': 'RTX A500 4GB', 'Processor Speed': '2.5GHz'}, {'title': 'Dell Precision 14 3480 i7 12800H (71024682) (RTX A500 4GB, 14 inches, 2.4GHz)', 'Screen Size': '14 inches', 'Processor Brand': 'RTX A500 4GB', 'Processor Speed': '2.4GHz'}, {'title': 'Dell Gaming G15 5530 i7 13650HX (i7H165W11GR4060) (RTX 4060 8GB, 15.6 inches, 2.6GHz)', 'Screen Size': '15.6 inches', 'Processor Brand': 'RTX 4060 8GB', 'Processor Speed': '2.6GHz'}, {'title': 'Dell Inspiron 14 5430 i7 1360P (71015633) (RTX 2050 4GB, 14 inches, 2.2GHz)', 'Screen Size': '14 inches', 'Processor Brand': 'RTX 2050 4GB', 'Processor Speed': '2.2GHz'}, {'title': 'Dell Inspiron 14 5430 i5 1340P (N5430-i5P165W11SL2050) (RTX 2050 4GB, 14 inches, 1.9GHz)', 'Screen Size': '14 inches', 'Processor Brand': 'RTX 2050 4GB', 'Processor Speed': '1.9GHz'}, {'title': 'Dell Inspiron 16 5630 i5 1335U (71020244) (Intel Iris Xe, 16 inches, 1.3GHz)', 'Screen Size': '16 inches', 'Processor Brand': 'Intel Iris Xe', 'Processor Speed': '1.3GHz'}, {'title': 'Dell Vostro 14 3430 i5 1335U (60YGM) (MX550 2GB, 14 inches, 1.3GHz)', 'Screen Size': '14 inches', 'Processor Brand': 'MX550 2GB', 'Processor Speed': '1.3GHz'}, {'title': 'Dell Inspiron 15 3520 i5 1235U (N5I5011W1) (Intel Iris Xe, 15.6 inches, 1.3GHz)', 'Screen Size': '15.6 inches', 'Processor Brand': 'Intel Iris Xe', 'Processor Speed': '1.3GHz'}, {'title': 'Dell Vostro 15 3520 i5 1235U (5M2TT2) (Intel UHD, 15.6 inches, 1.3GHz)', 'Screen Size': '15.6 inches', 'Processor Brand': 'Intel UHD', 'Processor Speed': '1.3GHz'}, {'title': 'Dell Vostro 15 3530 i3 1305U (V5I3465W1) (Intel UHD, 15.6 inches, 1.6GHz)', 'Screen Size': '15.6 inches', 'Processor Brand': 'Intel UHD', 'Processor Speed': '1.6GHz'}, {'title': 'MSI Modern 14 C11M i3 1115G4 (011VN) (Intel UHD, 14 inches, 3GHz)', 'Screen Size': '14 inches', 'Processor Brand': 'Intel UHD', 'Processor Speed': '3GHz'}, {'title': 'MSI Gaming GF63 Thin 12UCX i5 12450H (873VN) (RTX 2050 4GB, 15.6 inches, 2GHz)', 'Screen Size': '15.6 inches', 'Processor Brand': 'RTX 2050 4GB', 'Processor Speed': '2GHz'}, {'title': 'MSI Modern 15 B7M R5 7530U (231VN) (Radeon, 15.6 inches, 2GHz)', 'Screen Size': '15.6 inches', 'Processor Brand': 'Radeon', 'Processor Speed': '2GHz'}, {'title': 'MSI Modern 15 B12MO i5 1235U (625VN) (Intel Iris Xe, 15.6 inches, 1.3GHz)', 'Screen Size': '15.6 inches', 'Processor Brand': 'Intel Iris Xe', 'Processor Speed': '1.3GHz'}, {'title': 'MSI Gaming GF63 12UC i5 12450H (803VN) (RTX 3050 4GB, 15.6 inches, 2GHz)', 'Screen Size': '15.6 inches', 'Processor Brand': 'RTX 3050 4GB', 'Processor Speed': '2GHz'}, {'title': 'MSI Gaming Bravo 15 B7ED R5 7535HS (010VN) (RX 6550M 4GB, 15.6 inches, 3.3GHz)', 'Screen Size': '15.6 inches', 'Processor Brand': 'RX 6550M 4GB', 'Processor Speed': '3.3GHz'}, {'title': 'MSI Gaming GF63 Thin 11UC i7 11800H (1228VN) (RTX 3050 Max-Q, 4GB, 15.6 inches, 2.30 GHz)', 'Screen Size': '15.6 inches', 'Processor Brand': 'RTX 3050 Max-Q, 4GB', 'Processor Speed': '2.30 GHz'}, {'title': 'MSI Gaming GF63 Thin 12VE i5 12450H (460VN) (RTX 4050 6GB, 15.6 inches, 2GHz)', 'Screen Size': '15.6 inches', 'Processor Brand': 'RTX 4050 6GB', 'Processor Speed': '2GHz'}, {'title': 'MSI Gaming GF63 12UCX i5 12450H (841VN) (RTX 2050 4GB, 15.6 inches, 2GHz)', 'Screen Size': '15.6 inches', 'Processor Brand': 'RTX 2050 4GB', 'Processor Speed': '2GHz'}, {'title': 'MSI Modern 15 B12MO i5 1235U (628VN) (Intel Iris Xe, 15.6 inches, 1.3GHz)', 'Screen Size': '15.6 inches', 'Processor Brand': 'Intel Iris Xe', 'Processor Speed': '1.3GHz'}, {'title': 'MSI Modern 14 C7M R5 7530U (083VN) (Radeon, 14 inches, 2GHz)', 'Screen Size': '14 inches', 'Processor Brand': 'Radeon', 'Processor Speed': '2GHz'}, {'title': 'MSI Gaming Katana GF66 12UCK i7 12650H (804VN) (RTX 3050 4GB, 15.6 inches, 2.30 GHz)', 'Screen Size': '15.6 inches', 'Processor Brand': 'RTX 3050 4GB', 'Processor Speed': '2.30 GHz'}, {'title': 'MSI Gaming GF63 Thin 11UC i5 11400H (1230VN) (RTX 3050 Max-Q, 4GB, 15.6 inches, 2.7GHz)', 'Screen Size': '15.6 inches', 'Processor Brand': 'RTX 3050 Max-Q, 4GB', 'Processor Speed': '2.7GHz'}, {'title': 'MSI Gaming Thin A15 B7UCX R5 7535HS (020VN) (RTX 2050 4GB, 15.6 inches, 3.3GHz)', 'Screen Size': '15.6 inches', 'Processor Brand': 'RTX 2050 4GB', 'Processor Speed': '3.3GHz'}, {'title': 'MSI Modern 15 B12MO i7 1255U (487VN) (Intel Iris Xe, 15.6 inches, 1.7GHz)', 'Screen Size': '15.6 inches', 'Processor Brand': 'Intel Iris Xe', 'Processor Speed': '1.7GHz'}, {'title': 'MSI Modern 15 B13M i5 1335U (438VN) (Intel Iris Xe, 15.6 inches, 1.3GHz)', 'Screen Size': '15.6 inches', 'Processor Brand': 'Intel Iris Xe', 'Processor Speed': '1.3GHz'}, {'title': 'MSI Gaming GF63 Thin 11SC i5 11400H (664VN) (GTX 1650 Max-Q 4GB, 15.6 inches, 2.7GHz)', 'Screen Size': '15.6 inches', 'Processor Brand': 'GTX 1650 Max-Q 4GB', 'Processor Speed': '2.7GHz'}, {'title': 'MSI Modern 15 B7M R7 7730U (238VN) (Radeon, 15.6 inches, 2GHz)', 'Screen Size': '15.6 inches', 'Processor Brand': 'Radeon', 'Processor Speed': '2GHz'}, {'title': 'MSI Prestige 14 Evo B13M i5 13500H (401VN) (Intel Iris Xe, 14 inches, 2.6GHz)', 'Screen Size': '14 inches', 'Processor Brand': 'Intel Iris Xe', 'Processor Speed': '2.6GHz'}, {'title': 'MSI Gaming Sword 16 HX B14VFKG i7 14700HX (045VN) (RTX 4060 8GB, 16 inches, 2.1GHz)', 'Screen Size': '16 inches', 'Processor Brand': 'RTX 4060 8GB', 'Processor Speed': '2.1GHz'}, {'title': 'MSI Gaming Titan 18 HX A14VIG i9 14900HX (205VN) (RTX 4090 16GB, 18 inches, 2.2GHz)', 'Screen Size': '18 inches', 'Processor Brand': 'RTX 4090 16GB', 'Processor Speed': '2.2GHz'}, {'title': 'MSI Gaming Stealth 16 AI Studio A1VGG Ultra 9 185H (089VN) (RTX 4070 8GB, 16 inches, 2.30 GHz)', 'Screen Size': '16 inches', 'Processor Brand': 'RTX 4070 8GB', 'Processor Speed': '2.30 GHz'}, {'title': 'MSI Prestige 16 AI Studio B1VFG Ultra 9 185H (082VN) (RTX 4060 8GB, 16 inches, 2.30 GHz)', 'Screen Size': '16 inches', 'Processor Brand': 'RTX 4060 8GB', 'Processor Speed': '2.30 GHz'}, {'title': 'MSI Gaming Stealth 14 AI Studio A1VFG Ultra 7 155H (050VN) (RTX 4060 8GB, 14 inches, 1.4GHz)', 'Screen Size': '14 inches', 'Processor Brand': 'RTX 4060 8GB', 'Processor Speed': '1.4GHz'}, {'title': 'MSI Prestige 16 Studio A13VE i7 13700H (214VN) (RTX 4050 6GB, 16 inches, 2.4GHz)', 'Screen Size': '16 inches', 'Processor Brand': 'RTX 4050 6GB', 'Processor Speed': '2.4GHz'}, {'title': 'MSI Gaming Sword 16 HX B14VEKG i7 14700HX (039VN) (RTX 4050 6GB, 16 inches, 2.1GHz)', 'Screen Size': '16 inches', 'Processor Brand': 'RTX 4050 6GB', 'Processor Speed': '2.1GHz'}, {'title': 'MSI Prestige 13 AI Evo A1MG Ultra 7 155H (062VN) (Intel Arc Graphics, 13.3 inches, 1.4GHz)', 'Screen Size': '13.3 inches', 'Processor Brand': 'Intel Arc Graphics', 'Processor Speed': '1.4GHz'}, {'title': 'MSI Gaming Katana A15 AI B8VF R7 8845HS (419VN) (RTX 4060 8GB, 15.6 inches, 3.8GHz)', 'Screen Size': '15.6 inches', 'Processor Brand': 'RTX 4060 8GB', 'Processor Speed': '3.8GHz'}, {'title': 'MSI Gaming Cyborg 15 AI A1VEK Ultra 7 155H (053VN) (RTX 4050 6GB, 15.6 inches, 1.4GHz)', 'Screen Size': '15.6 inches', 'Processor Brand': 'RTX 4050 6GB', 'Processor Speed': '1.4GHz'}, {'title': 'MSI Gaming Katana 15 B13VFK i7 13620H (676VN) (RTX 4060 8GB, 15.6 inches, 2.4GHz)', 'Screen Size': '15.6 inches', 'Processor Brand': 'RTX 4060 8GB', 'Processor Speed': '2.4GHz'}, {'title': 'MSI Gaming Katana A15 AI B8VE R7 8845HS (402VN) (RTX 4050 6GB, 15.6 inches, 3.8GHz)', 'Screen Size': '15.6 inches', 'Processor Brand': 'RTX 4050 6GB', 'Processor Speed': '3.8GHz'}, {'title': 'MSI Gaming Cyborg 15 A12UCX i5 12450H (281VN) (RTX 2050 4GB, 15.6 inches, 2GHz)', 'Screen Size': '15.6 inches', 'Processor Brand': 'RTX 2050 4GB', 'Processor Speed': '2GHz'}, {'title': 'HP 245 G10 R5-7520U (9H8X8PT) (Ryzen 5, 14 inches)', 'Screen Size': '14 inches', 'Processor Brand': 'Ryzen 5', 'Processor Speed': 'I do not know.'}, {'title': 'Asus Vivobook E1404FA-NK186W R5 7520U (Ryzen 5, 14.0 inches)', 'Screen Size': '14.0 inches', 'Processor Brand': 'Ryzen 5', 'Processor Speed': 'I do not know.'}, {'title': 'Lenovo Gaming LOQ - 15IAX9 i5 12450HX (83GS000GVN) (Core i5, 15.6 inches)', 'Screen Size': '15.6 inches', 'Processor Brand': 'Core i5', 'Processor Speed': 'I do not know.'}, {'title': 'HP 14s-em0086AU R5 7520U (835T9PA) (Ryzen 5, 14 inches)', 'Screen Size': '14 inches', 'Processor Brand': 'Ryzen 5', 'Processor Speed': 'I do not know.'}, {'title': 'MSI Modern 14 C7M-221VN R7 7730U (Ryzen 7, 14.0 inches)', 'Screen Size': '14.0 inches', 'Processor Brand': 'Ryzen 7', 'Processor Speed': 'I do not know.'}, {'title': 'Acer Aspire 3 A315-44P-R5QG R7-5700U (Ryzen 7, 15.6 inches)', 'Screen Size': '15.6 inches', 'Processor Brand': 'Ryzen 7', 'Processor Speed': 'I do not know.'}, {'title': 'HP Pavilion Aero 13-be2098AU R7 7735U (8C5K5PA) (Ryzen 7, 13.3 inches)', 'Screen Size': '13.3 inches', 'Processor Brand': 'Ryzen 7', 'Processor Speed': 'I do not know.'}, {'title': 'Asus TUF Gaming FX507ZC4-HN095W i5 12500H (Core i5, 15.6 inches)', 'Screen Size': '15.6 inches', 'Processor Brand': 'Core i5', 'Processor Speed': 'I do not know.'}, {'title': 'Lenovo Ideapad 3 15IAU7 i7 1255U (82RK00W4VN) (Core i7, 15.6 inches)', 'Screen Size': '15.6 inches', 'Processor Brand': 'Core i7', 'Processor Speed': 'I do not know.'}, {'title': 'MSI Modern 14 C7M-220VN R5 7530U (Ryzen 5, 14.0 inches)', 'Screen Size': '14.0 inches', 'Processor Brand': 'Ryzen 5', 'Processor Speed': 'I do not know.'}, {'title': 'Asus TUF Gaming FX506HF-HN017W i5 11400H (Core i5, 15.6 inches)', 'Screen Size': '15.6 inches', 'Processor Brand': 'Core i5', 'Processor Speed': 'I do not know.'}, {'title': 'Dell Inspiron 15 N3530 i5 1335U (N5I5489W1) (Core i5, 15.6 inches)', 'Screen Size': '15.6 inches', 'Processor Brand': 'Core i5', 'Processor Speed': 'I do not know.'}, {'title': 'Asus Vivobook X1404ZA-NK387W i3 1215U (Core i3, 14 inches)', 'Screen Size': '14 inches', 'Processor Brand': 'Core i3', 'Processor Speed': 'I do not know.'}, {'title': 'Lenovo IdeaPad 3 14IAH8 i5 12450H (83EQ0005VN) (Core i5, 14.0 inches)', 'Screen Size': '14.0 inches', 'Processor Brand': 'Core i5', 'Processor Speed': 'I do not know.'}, {'title': 'MSI Gaming Thin GF63 12VE-454VN i5 12450H (Core i5, 15.6 inches)', 'Screen Size': '15.6 inches', 'Processor Brand': 'Core i5', 'Processor Speed': 'I do not know.'}, {'title': 'Dell Inspiron 15 N3520 i5 1235U_N5I5011W1 (Core i5, 15.6 inches)', 'Screen Size': '15.6 inches', 'Processor Brand': 'Core i5', 'Processor Speed': 'I do not know.'}, {'title': 'Asus Vivobook 15 OLED A1505VA-L1113W i5 13500H (Core i5, 15.6 inches)', 'Screen Size': '15.6 inches', 'Processor Brand': 'Core i5', 'Processor Speed': 'I do not know.'}, {'title': 'HP 245 G10 R5 7520U (8F154PA) (Ryzen 5, 14.0 inches)', 'Screen Size': '14.0 inches', 'Processor Brand': 'Ryzen 5', 'Processor Speed': 'I do not know.'}, {'title': 'Acer Aspire 7 Gaming A715-76-57CY i5 12450H (NH.QGESV.004) (Core i5, 15.6 inches)', 'Screen Size': '15.6 inches', 'Processor Brand': 'Core i5', 'Processor Speed': 'I do not know.'}, {'title': 'HP Pavilion 14-dv2073TU i5 1235U (7C0P2PA) (Core i5, 14.0 inches)', 'Screen Size': '14.0 inches', 'Processor Brand': 'Core i5', 'Processor Speed': 'I do not know.'}, {'title': 'Asus Vivobook X1504VA-NJ526W i5 1335U (Core i5, 15.6 inches)', 'Screen Size': '15.6 inches', 'Processor Brand': 'Core i5', 'Processor Speed': 'I do not know.'}, {'title': 'Lenovo IdeaPad 1 15ALC7 R5 5500U (82R400BYVN) (Ryzen 5, 15.6 inches)', 'Screen Size': '15.6 inches', 'Processor Brand': 'Ryzen 5', 'Processor Speed': 'I do not know.'}, {'title': 'Laptop HP 15s-fq5144TU i7-1255U (Core i7, 15.6 inches)', 'Screen Size': '15.6 inches', 'Processor Brand': 'Core i7', 'Processor Speed': 'I do not know.'}, {'title': 'Asus Vivobook M3504YA-L1268W R5 7530U (Ryzen 5, 15.6 inches)', 'Screen Size': '15.6 inches', 'Processor Brand': 'Ryzen 5', 'Processor Speed': 'I do not know.'}, {'title': 'HP 14s-em0078AU R5 7520U (80R28PA) (Ryzen 5, 14 inches)', 'Screen Size': '14 inches', 'Processor Brand': 'Ryzen 5', 'Processor Speed': 'I do not know.'}, {'title': 'Huawei MateBook D15 R7 5700U (Ryzen 7, 15.6 inches)', 'Screen Size': '15.6 inches', 'Processor Brand': 'Ryzen 7', 'Processor Speed': 'I do not know.'}, {'title': 'Asus Vivobook Flip TN3402YA-LZ188W R5 7530U (Ryzen 5, 14.0 inches)', 'Screen Size': '14.0 inches', 'Processor Brand': 'Ryzen 5', 'Processor Speed': 'I do not know.'}, {'title': 'HP Pavilion 14-dv2071TU i7 1255U (7C0W0PA) (Core i7, 14 inches)', 'Screen Size': '14 inches', 'Processor Brand': 'Core i7', 'Processor Speed': 'I do not know.'}, {'title': 'MSI Gaming GF63 Thin 11UC-1228VN i7 11800H (Core i7, 15,6 inches)', 'Screen Size': '15,6 inches', 'Processor Brand': 'Core i7', 'Processor Speed': 'I do not know.'}, {'title': 'HP Pavilion 14-dv2075TU i5 1235U (7C0W2PA) (Core i5, 14.0 inches)', 'Screen Size': '14.0 inches', 'Processor Brand': 'Core i5', 'Processor Speed': 'I do not know.'}, {'title': 'Dell Vostro V3520 i5 1235U_71030559 (Core i5, 156 inches)', 'Screen Size': '156 inches', 'Processor Brand': 'Core i5', 'Processor Speed': 'I do not know.'}, {'title': 'Asus Vivobook 16 X1605ZA-MB193W i3 1215U (Core i3, 16.0 inches)', 'Screen Size': '16.0 inches', 'Processor Brand': 'Core i3', 'Processor Speed': 'I do not know.'}, {'title': 'Acer Aspire 3 A315-510P-34XZ i3 N305 (Core i3, 15.6 inches)', 'Screen Size': '15.6 inches', 'Processor Brand': 'Core i3', 'Processor Speed': 'I do not know.'}, {'title': 'Asus Vivobook A1405VA-KM257W i5 13500H (Core i5, 14 inches)', 'Screen Size': '14 inches', 'Processor Brand': 'Core i5', 'Processor Speed': 'I do not know.'}, {'title': 'Dell Inspiron 15 N3530 i7 1355U (N3530I716W1) (Core i7, 15.6 inches)', 'Screen Size': '15.6 inches', 'Processor Brand': 'Core i7', 'Processor Speed': 'I do not know.'}, {'title': 'MSI Gaming GF63 12UCX-841VN i5 12450H (Core i5, 15.6 inches)', 'Screen Size': '15.6 inches', 'Processor Brand': 'Core i5', 'Processor Speed': 'I do not know.'}, {'title': 'Acer Aspire 7 Gaming A715-76G-5806 i5 12450H (NH.QMFSV.002) (Core i5, 15.6 inches)', 'Screen Size': '15.6 inches', 'Processor Brand': 'Core i5', 'Processor Speed': 'I do not know.'}, {'title': 'Laptop Acer Aspire Lite AL15-51M-55NB i5-1155G7 (Core i5, 15.6 inches)', 'Screen Size': '15.6 inches', 'Processor Brand': 'Core i5', 'Processor Speed': 'I do not know.'}, {'title': 'Gigabyte Gaming G5 MF-F2VN313SH i5 12450H (Core i5, 15.6 inches)', 'Screen Size': '15.6 inches', 'Processor Brand': 'Core i5', 'Processor Speed': 'I do not know.'}, {'title': 'Asus Vivobook A1405VA-KM059W i5 13500H (Core i5, 14 inches)', 'Screen Size': '14 inches', 'Processor Brand': 'Core i5', 'Processor Speed': 'I do not know.'}, {'title': 'Asus TUF Gaming FA507NU-LP045W R7 7735HS (Ryzen 7, 15.6 inches)', 'Screen Size': '15.6 inches', 'Processor Brand': 'Ryzen 7', 'Processor Speed': 'I do not know.'}, {'title': 'Asus Vivobook Pro K3405VC-KM070W i9 13900H (Core i9, 14.0 inches)', 'Screen Size': '14.0 inches', 'Processor Brand': 'Core i9', 'Processor Speed': 'I do not know.'}, {'title': 'Lenovo IdeaPad Slim 5 Light 14ABR8 R5 7530U (82XS0006VN) (Ryzen 5, 14 inches)', 'Screen Size': '14 inches', 'Processor Brand': 'Ryzen 5', 'Processor Speed': 'I do not know.'}, {'title': 'Asus TUF Gaming FX506HC-HN144W i5 11400H (Core i5, 15.6 inches)', 'Screen Size': '15.6 inches', 'Processor Brand': 'Core i5', 'Processor Speed': 'I do not know.'}, {'title': 'HP 15-fd0083TU i7 1355U (8D736PA) (Core i7, 15.6 inches)', 'Screen Size': '15.6 inches', 'Processor Brand': 'Core i7', 'Processor Speed': 'I do not know.'}, {'title': 'Lenovo IdeaPad Slim 5 16IAH8 i5 12450H (83BG001XVN) (Core i5, 16 inches)', 'Screen Size': '16 inches', 'Processor Brand': 'Core i5', 'Processor Speed': 'I do not know.'}, {'title': 'HP Pavilion 15-eg3112TU i7 1355U (8U6L9PA) (Core i7, 15.6 inches)', 'Screen Size': '15.6 inches', 'Processor Brand': 'Core i7', 'Processor Speed': 'I do not know.'}, {'title': 'Acer Gaming Aspire 5 A515-58GM-53CM i5 13420H (Core i5, 15.6 inches)', 'Screen Size': '15.6 inches', 'Processor Brand': 'Core i5', 'Processor Speed': 'I do not know.'}, {'title': 'Lenovo ThinkBook 14 G6 IRL i5-13500H (21KG00BXVN) (Core i5, 14 inches)', 'Screen Size': '14 inches', 'Processor Brand': 'Core i5', 'Processor Speed': 'I do not know.'}, {'title': 'MSI Gaming GF63 Thin 12UC-1006VN i5 12450H (Core i5, 15.6 inches)', 'Screen Size': '15.6 inches', 'Processor Brand': 'Core i5', 'Processor Speed': 'I do not know.'}, {'title': 'MSI Gaming Alpha 15 B5EEK-203VN R5 5600H (Ryzen 5, 15.6 inches)', 'Screen Size': '15.6 inches', 'Processor Brand': 'Ryzen 5', 'Processor Speed': 'I do not know.'}, {'title': 'MSI Modern 15 B12MO-628VN i5 1235U (Core i5, 15.6 inches)', 'Screen Size': '15.6 inches', 'Processor Brand': 'Core i5', 'Processor Speed': 'I do not know.'}, {'title': 'Máy tính xách tay MSI Summit E14Evo A12M-211VN i7-1280P/16GB/512GB/14\"FHD/Win11_Túi_Chuột_Đen (Core i7, 14.0 inches)', 'Screen Size': '14.0 inches', 'Processor Brand': 'Core i7', 'Processor Speed': 'I do not know.'}, {'title': 'Máy tính xách tay MSI Gaming Raider GE77HX 12UHS-229VN i9-12900HX/64G/2T/17.3UHD/RTX3080Ti_16G/Win11 (Core i9, 17.3 inches)', 'Screen Size': '17.3 inches', 'Processor Brand': 'Core i9', 'Processor Speed': 'I do not know.'}, {'title': 'MacBook Pro 16 2023 M2 Pro 12CPU 19GPU 16GB/1TB (M2 Pro, 16.2 inches)', 'Screen Size': '16.2 inches', 'Processor Brand': 'M2 Pro', 'Processor Speed': 'I do not know.'}, {'title': 'MacBook Pro 14 2023 M3 Pro 12 CPU/18 GPU/18GB/1TB (M3 Pro, 14.2 inches)', 'Screen Size': '14.2 inches', 'Processor Brand': 'M3 Pro', 'Processor Speed': 'I do not know.'}, {'title': 'MacBook Pro 14 2023 M3 Pro 11 CPU/14 GPU/18GB/512GB (M3 Pro, 14.2 inches)', 'Screen Size': '14.2 inches', 'Processor Brand': 'M3 Pro', 'Processor Speed': 'I do not know.'}, {'title': 'Lenovo ThinkPad X1 Carbon Gen 9 i7-1165G7/20XW00GDVN (Core i7, 14.0 inches)', 'Screen Size': '14.0 inches', 'Processor Brand': 'Core i7', 'Processor Speed': 'I do not know.'}, {'title': 'LG Gram 16Z90R-G.AH76A5 i7-1360P (Core i7, 16.0 inches)', 'Screen Size': '16.0 inches', 'Processor Brand': 'Core i7', 'Processor Speed': 'I do not know.'}, {'title': 'MacBook Pro 14 2023 M3 8 CPU/10 GPU/8GB/512GB (M3, 14.2 inches)', 'Screen Size': '14.2 inches', 'Processor Brand': 'M3', 'Processor Speed': 'I do not know.'}, {'title': 'Máy tính xách tay MSI Gaming Katana 15 B13VGK-1211VN i7-13620H/16G/1T/15.6\"FHD/RTX4070_8G/Win11_Balo (Core i7, 15.6 inches)', 'Screen Size': '15.6 inches', 'Processor Brand': 'Core i7', 'Processor Speed': 'I do not know.'}, {'title': 'MSI Creator M16 B13VE-830VN i7 13700H (Core i7, 16.0 inches)', 'Screen Size': '16.0 inches', 'Processor Brand': 'Core i7', 'Processor Speed': 'I do not know.'}, {'title': 'Acer Swift Edge SFA16-41-R3L6 R7 6800U (NX.KABSV.002) (Ryzen 7, 16.0 inches)', 'Screen Size': '16.0 inches', 'Processor Brand': 'Ryzen 7', 'Processor Speed': 'I do not know.'}, {'title': 'Asus Zenbook 14 OLED UX3405MA-PP152W Core Ultra 7-155H (Core Ultra 7, 14 inches)', 'Screen Size': '14 inches', 'Processor Brand': 'Core Ultra 7', 'Processor Speed': 'I do not know.'}, {'title': 'Laptop Asus TUF Gaming FX507VV-LP181W i7-13620H (Core i7, 15.6 inches)', 'Screen Size': '15.6 inches', 'Processor Brand': 'Core i7', 'Processor Speed': 'I do not know.'}, {'title': 'LG Gram 14Z90R-G.AH75A5 i7 1360P (Core i7, 14 inches)', 'Screen Size': '14 inches', 'Processor Brand': 'Core i7', 'Processor Speed': 'I do not know.'}, {'title': 'Asus TUF Gaming F15 FX507VU-LP197W i7-13620H (Core i7, 15.6 inches)', 'Screen Size': '15.6 inches', 'Processor Brand': 'Core i7', 'Processor Speed': 'I do not know.'}, {'title': 'LG Gram 14T90R-G.AH55A5 i5-1340P (Core i5, 14.0 inches)', 'Screen Size': '14.0 inches', 'Processor Brand': 'Core i5', 'Processor Speed': 'I do not know.'}, {'title': 'Asus Zenbook Flip UP3404VA-KN039W i7 1360P (Core i7, 14 inches)', 'Screen Size': '14 inches', 'Processor Brand': 'Core i7', 'Processor Speed': 'I do not know.'}, {'title': 'MSI Gaming Cyborg 15 AI A1VE-053VN Ultra 7 155H (Core Ultra 7, 15.6 inches)', 'Screen Size': '15.6 inches', 'Processor Brand': 'Core Ultra 7', 'Processor Speed': 'I do not know.'}, {'title': 'MacBook Air M2 13 2022 8CPU 8GPU 16GB 256GB (M2, 13.6 inches)', 'Screen Size': '13.6 inches', 'Processor Brand': 'M2', 'Processor Speed': 'I do not know.'}, {'title': 'Lenovo Gaming LOQ - 15IRX9 i7 13650HX (83DV000NVN) (Core i7, 15.6 inches)', 'Screen Size': '15.6 inches', 'Processor Brand': 'Core i7', 'Processor Speed': 'I do not know.'}, {'title': 'MSI Gaming Katana 15 B13VFK-676VN i7 13620H (Core i7, 15.6 inches)', 'Screen Size': '15.6 inches', 'Processor Brand': 'Core i7', 'Processor Speed': 'I do not know.'}, {'title': 'Asus TUF Gaming FX507ZV4-LP042W i7 12700H (Core i7, 15.6 inches)', 'Screen Size': '15.6 inches', 'Processor Brand': 'Core i7', 'Processor Speed': 'I do not know.'}, {'title': 'Dell Inspiron 14 2in1 T7430 i7 1355U (P172G001) (Core i7, 14 inches)', 'Screen Size': '14 inches', 'Processor Brand': 'Core i7', 'Processor Speed': 'I do not know.'}, {'title': 'Asus Vivobook Pro K6502VU-MA089W i5 13500H (Core i5, 15.6 inches)', 'Screen Size': '15.6 inches', 'Processor Brand': 'Core i5', 'Processor Speed': 'I do not know.'}, {'title': 'Asus Zenbook 14 OLED UX3405MA-PP151W Core Ultra 5-125H (Ultra 5 Meteor LakeCore Ultra 5, 14 inches)', 'Screen Size': '14 inches', 'Processor Brand': 'Ultra 5 Meteor LakeCore Ultra 5', 'Processor Speed': 'I do not know.'}, {'title': 'Asus Zenbook 14 OLED UX3405MA-PP588W Ultra 5-125H (Ultra 5 Meteor Lake, 14 inches)', 'Screen Size': '14 inches', 'Processor Brand': 'Ultra 5 Meteor Lake', 'Processor Speed': 'I do not know.'}, {'title': 'Gigabyte Gaming G6 KF-H3VN853SH i7-13620H (Core i7Core i7, 16 inches)', 'Screen Size': '16 inches', 'Processor Brand': 'Core i7Core i7', 'Processor Speed': 'I do not know.'}, {'title': 'MacBook Air 15 inch M2 2023 8 CPU/10 GPU/8 GB/256 GB (M2, 15.0 inches)', 'Screen Size': '15.0 inches', 'Processor Brand': 'M2', 'Processor Speed': 'I do not know.'}, {'title': 'MSI Prestige 13Evo A13M-081VN i7 1360P (Core i7, 13.3 inches)', 'Screen Size': '13.3 inches', 'Processor Brand': 'Core i7', 'Processor Speed': 'I do not know.'}, {'title': 'Asus Zenbook 14 OLED UX3402VA-KM068W i7 1360P (Core i7, 14 inches)', 'Screen Size': '14 inches', 'Processor Brand': 'Core i7', 'Processor Speed': 'I do not know.'}, {'title': 'Acer Nitro V Gaming ANV15-51-55CA i5 13420H (NH.QN8SV.004) (Core i5, 15.6 inches)', 'Screen Size': '15.6 inches', 'Processor Brand': 'Core i5', 'Processor Speed': 'I do not know.'}, {'title': 'Asus TUF Gaming FX507ZV4-LP041W i7 12700H (Core i7, 15.6 inches)', 'Screen Size': '15.6 inches', 'Processor Brand': 'Core i7', 'Processor Speed': 'I do not know.'}, {'title': 'Asus TUF Gaming FA507NV-LP046W R7 7735HS (Ryzen 7, 15.6 inches)', 'Screen Size': '15.6 inches', 'Processor Brand': 'Ryzen 7', 'Processor Speed': 'I do not know.'}, {'title': 'Asus TUF Gaming A15 FA507NV-LP110W R5-7535HS (Ryzen 5, 15.6 inches)', 'Screen Size': '15.6 inches', 'Processor Brand': 'Ryzen 5', 'Processor Speed': 'I do not know.'}, {'title': 'Macbook Air 13 2020 M1/16GB/256GB SSD (M1, 13.3 inches)', 'Screen Size': '13.3 inches', 'Processor Brand': 'M1', 'Processor Speed': 'I do not know.'}, {'title': 'Acer Swift 3 SF314-512-741L i7 1260P (NX.K7JSV.001) (Core i7, 14.0 inches)', 'Screen Size': '14.0 inches', 'Processor Brand': 'Core i7', 'Processor Speed': 'I do not know.'}, {'title': 'Asus Zenbook Flip UP3404VA-KN038W i5 1340P (Core i5, 14 inches)', 'Screen Size': '14 inches', 'Processor Brand': 'Core i5', 'Processor Speed': 'I do not know.'}, {'title': 'MacBook Air M2 13 2022 8CPU 8GPU 8GB 256GB (M2, 13.6 inches)', 'Screen Size': '13.6 inches', 'Processor Brand': 'M2', 'Processor Speed': 'I do not know.'}, {'title': 'Gigabyte Gaming G5 MF5-H2VN353SH i7 13620H (Core i7Core i7, 15.6 inches)', 'Screen Size': '15.6 inches', 'Processor Brand': 'Core i7Core i7', 'Processor Speed': 'I do not know.'}, {'title': 'HP ProBook 440 G10 i7 1360P (873C1PA) (Core i7, 14.0 inches)', 'Screen Size': '14.0 inches', 'Processor Brand': 'Core i7', 'Processor Speed': 'I do not know.'}, {'title': 'Acer Nitro Gaming AN515-58-769J i7 12700H (NH.QFHSV.003) (Core i7, 15.6 inches)', 'Screen Size': '15.6 inches', 'Processor Brand': 'Core i7', 'Processor Speed': 'I do not know.'}, {'title': 'Gigabyte Gaming G5 KF-E3VN313SH i5 12500H (Core i5, 15,6 inches)', 'Screen Size': '15,6 inches', 'Processor Brand': 'Core i5', 'Processor Speed': 'I do not know.'}, {'title': 'Dell Inspiron 14 2in1 T7430 i5 1335U (N7430I58W1) (Core i5, 14.0 inches)', 'Screen Size': '14.0 inches', 'Processor Brand': 'Core i5', 'Processor Speed': 'I do not know.'}, {'title': 'Asus Vivobook Flip TP3402VA-LZ118W i9 13900H (Core i9, 14 inches)', 'Screen Size': '14 inches', 'Processor Brand': 'Core i9', 'Processor Speed': 'I do not know.'}, {'title': 'Lenovo Yoga Slim 6 14IRH8 i7 13700H (83E0000VVN) (Core i7, 14 inches)', 'Screen Size': '14 inches', 'Processor Brand': 'Core i7', 'Processor Speed': 'I do not know.'}, {'title': 'Máy tính xách tay MSI Summit E14 Flip Evo A12MT-210VN i7-1280P/16GB/512GB/14\"QHD/Win11_Túi_Bút_Đen (Core i7, 14.0 inches)', 'Screen Size': '14.0 inches', 'Processor Brand': 'Core i7', 'Processor Speed': 'I do not know.'}, {'title': 'Acer Swift X SFX16-51G-50GS i5 11320H (NX.AYLSV.002) (Core i5, 16.1 inches)', 'Screen Size': '16.1 inches', 'Processor Brand': 'Core i5', 'Processor Speed': 'I do not know.'}, {'title': 'Gigabyte Gaming G5 MF5-52VN353SH i5 13500H (Core i5Core i5, 15.6 inches)', 'Screen Size': '15.6 inches', 'Processor Brand': 'Core i5Core i5', 'Processor Speed': 'I do not know.'}, {'title': 'Asus Vivobook S3405VA-KM071W i9 13900H (Core i9, 14.0 inches)', 'Screen Size': '14.0 inches', 'Processor Brand': 'Core i9', 'Processor Speed': 'I do not know.'}, {'title': 'Asus TUF Gaming FA507NU-LP034W R7 7735HS (Ryzen 7, 15.6 inches)', 'Screen Size': '15.6 inches', 'Processor Brand': 'Ryzen 7', 'Processor Speed': 'I do not know.'}, {'title': 'HP Gaming Victus 16-s0078AX R5 7640HS (8C5N7PA) (Ryzen 5, 16.0 inches)', 'Screen Size': '16.0 inches', 'Processor Brand': 'Ryzen 5', 'Processor Speed': 'I do not know.'}, {'title': 'Acer Nitro 5 Tiger Gaming AN515-58-52SP i5 12500H (NH.QFHSV.001) (Core i5, 15.6 inches)', 'Screen Size': '15.6 inches', 'Processor Brand': 'Core i5', 'Processor Speed': 'I do not know.'}, {'title': 'Asus Vivobook S3504VA-L1227WS i7 1360P (Core i7, 15.6 inches)', 'Screen Size': '15.6 inches', 'Processor Brand': 'Core i7', 'Processor Speed': 'I do not know.'}, {'title': 'MSI Prestige 14Evo B13M-401VN i5 13500H (Core i5, 14.0 inches)', 'Screen Size': '14.0 inches', 'Processor Brand': 'Core i5', 'Processor Speed': 'I do not know.'}, {'title': 'Asus Vivobook Pro K3405ZF-KM184W i5-12500H (Core i5, 14 inches)', 'Screen Size': '14 inches', 'Processor Brand': 'Core i5', 'Processor Speed': 'I do not know.'}, {'title': 'Lenovo Gaming LOQ 15IAX9 i5-12450HX (83GS001RVN) (Core i5, 15.6 inches)', 'Screen Size': '15.6 inches', 'Processor Brand': 'Core i5', 'Processor Speed': 'I do not know.'}, {'title': 'HP ProBook 440 G10 i5 1340P (873B2PA) (Core i5, 14.0 inches)', 'Screen Size': '14.0 inches', 'Processor Brand': 'Core i5', 'Processor Speed': 'I do not know.'}, {'title': 'Lenovo Thinkpad E14 G5 T i5 1335U (21JK006BVN) (Core i5, 14 inches)', 'Screen Size': '14 inches', 'Processor Brand': 'Core i5', 'Processor Speed': 'I do not know.'}, {'title': 'Lenovo Thinkpad T14s Gen 2 i5 1145G7 (20WMS1EE00) (Core i5, 14 inches)', 'Screen Size': '14 inches', 'Processor Brand': 'Core i5', 'Processor Speed': 'I do not know.'}, {'title': 'HP Gaming Victus 15-fb1022AX R5-7535HS (94F19PA) (Ryzen 5, 15.6 inches)', 'Screen Size': '15.6 inches', 'Processor Brand': 'Ryzen 5', 'Processor Speed': 'I do not know.'}, {'title': 'Lenovo Ideapad Gaming 3 15ARH7 R5 7535HS (82SB00JUVN) (Ryzen 5, 15.6 inches)', 'Screen Size': '15.6 inches', 'Processor Brand': 'Ryzen 5', 'Processor Speed': 'I do not know.'}, {'title': 'HP Gaming Victus 16-e1104AX R7 6800H (7C0S9PA) (Ryzen 7, 16.1 inches)', 'Screen Size': '16.1 inches', 'Processor Brand': 'Ryzen 7', 'Processor Speed': 'I do not know.'}, {'title': 'Asus Zenbook UX3402ZA-KM218W i5 1240P (Core i5, 14.0 inches)', 'Screen Size': '14.0 inches', 'Processor Brand': 'Core i5', 'Processor Speed': 'I do not know.'}, {'title': 'Asus TUF Gaming FX517ZC-HN077W i5 12450H (Core i5, 15.6 inches)', 'Screen Size': '15.6 inches', 'Processor Brand': 'Core i5', 'Processor Speed': 'I do not know.'}, {'title': 'HP Pavilion 14-dv2072TU i7 1255U (7C0W1PA) (Core i7, 14.0 inches)', 'Screen Size': '14.0 inches', 'Processor Brand': 'Core i7', 'Processor Speed': 'I do not know.'}, {'title': 'HP Pavilion 15-eg3111TU i5 1335U (8U6L8PA) (Core i5, 15.6 inches)', 'Screen Size': '15.6 inches', 'Processor Brand': 'Core i5', 'Processor Speed': 'I do not know.'}, {'title': 'Macbook Air 13 2020 M1/8GB/256GB SSD (M1, 13.3 inches)', 'Screen Size': '13.3 inches', 'Processor Brand': 'M1', 'Processor Speed': 'I do not know.'}, {'title': 'Lenovo ThinkPad E14 Gen 4 i7 1255U (21E300E3VN) (Core i7, 14.0 inches)', 'Screen Size': '14.0 inches', 'Processor Brand': 'Core i7', 'Processor Speed': 'I do not know.'}, {'title': 'Lenovo ThinkBook 15 G5 ABP R5 7530U (21JF001SVN) (Ryzen 5, 15.6 inches)', 'Screen Size': '15.6 inches', 'Processor Brand': 'Ryzen 5', 'Processor Speed': 'I do not know.'}, {'title': 'Acer Gaming Aspire 5 A515-58GM-59QZ i5 13420H (NX.KQ4SV.006) (Core i5, 15.6 inches)', 'Screen Size': '15.6 inches', 'Processor Brand': 'Core i5', 'Processor Speed': 'I do not know.'}, {'title': 'HP Pavilion 15-eg3095TU i5 1335U (8C5L6PA) (Core i5, 15.6 inches)', 'Screen Size': '15.6 inches', 'Processor Brand': 'Core i5', 'Processor Speed': 'I do not know.'}, {'title': 'Lenovo IdeaPad Slim 5 14IRL8 i5 13500H (82XD002VVN) (Core i5, 14.0 inches)', 'Screen Size': '14.0 inches', 'Processor Brand': 'Core i5', 'Processor Speed': 'I do not know.'}, {'title': 'Gigabyte Gaming A5 K1-AVN1030SB R5 5600H (Ryzen 5, 15.6 inches)', 'Screen Size': '15.6 inches', 'Processor Brand': 'Ryzen 5', 'Processor Speed': 'I do not know.'}, {'title': 'Lenovo ThinkBook 14 G4 IAP i5 1235U (21DH00BAVN) (Core i5, 14.0 inches)', 'Screen Size': '14.0 inches', 'Processor Brand': 'Core i5', 'Processor Speed': 'I do not know.'}, {'title': 'MSI Gaming Cyborg 15 A12UCX-618VN i5 12450H (Core i5, 15.6 inches)', 'Screen Size': '15.6 inches', 'Processor Brand': 'Core i5', 'Processor Speed': 'I do not know.'}, {'title': 'Acer Aspire 7 Gaming A715-76G-55T6 i5 12450H (NH.QMYSV.003) (Core i5, 15.6 inches)', 'Screen Size': '15.6 inches', 'Processor Brand': 'Core i5', 'Processor Speed': 'I do not know.'}, {'title': 'HP 15-fd0079TU i5 1335U (8D732PA) (Core i5, 15.6 inches)', 'Screen Size': '15.6 inches', 'Processor Brand': 'Core i5', 'Processor Speed': 'I do not know.'}, {'title': 'HP 15s-fq5146TU i7 1255U (7C0R9PA) (Core i7, 15.6 inches)', 'Screen Size': '15.6 inches', 'Processor Brand': 'Core i7', 'Processor Speed': 'I do not know.'}, {'title': 'HP 15s fq5160TU i5 1235U (7C0S1PA) (Core i5, 15.6 inches)', 'Screen Size': '15.6 inches', 'Processor Brand': 'Core i5', 'Processor Speed': 'I do not know.'}, {'title': 'HP 15s-fq5146TU i7 1255U (7C0R9PA) (Core i7, 15.6 inches)', 'Screen Size': '15.6 inches', 'Processor Brand': 'Core i7', 'Processor Speed': 'I do not know.'}, {'title': 'Acer Nitro 5 Gaming AN515-57-53F9 i5 11400H (NH.QENSV.008) (Core i5, 15.6 inches)', 'Screen Size': '15.6 inches', 'Processor Brand': 'Core i5', 'Processor Speed': 'I do not know.'}, {'title': 'Acer Nitro Gaming AN515-57-54MV i5 11400H (NH.QENSV.003) (Core i5, 15.6 inches)', 'Screen Size': '15.6 inches', 'Processor Brand': 'Core i5', 'Processor Speed': 'I do not know.'}, {'title': 'Acer Nitro Gaming AN515-57-5669 i5 11400H (NH.QEHSV.001) (Core i5, 15.6 inches)', 'Screen Size': '15.6 inches', 'Processor Brand': 'Core i5', 'Processor Speed': 'I do not know.'}, {'title': 'Acer Aspire 7 A715-76-53PJ i5 12450H (NH.QGESV.007) (Core i5, 15.6 inches)', 'Screen Size': '15.6 inches', 'Processor Brand': 'Core i5', 'Processor Speed': 'I do not know.'}, {'title': 'VAIO FE14 i5 1235U (VWNC51427-BK) (Core i5, 14.0 inches)', 'Screen Size': '14.0 inches', 'Processor Brand': 'Core i5', 'Processor Speed': 'I do not know.'}, {'title': 'Acer Aspire Gaming A715-43G-R8GA R5 5625U (NH.QHDSV.002) (Ryzen 5, 15.6 inches)', 'Screen Size': '15.6 inches', 'Processor Brand': 'Ryzen 5', 'Processor Speed': 'I do not know.'}, {'title': 'Acer Aspire 5 A515-58GM-53PZ i5 13420H (Core i5, 15.6 inches)', 'Screen Size': '15.6 inches', 'Processor Brand': 'Core i5', 'Processor Speed': 'I do not know.'}, {'title': 'Acer Swift Go SFG14-41-R19Z R5 7530U (NX.KG3SV.001) (Ryzen 5, 14 inches)', 'Screen Size': '14 inches', 'Processor Brand': 'Ryzen 5', 'Processor Speed': 'I do not know.'}, {'title': 'MSI Gaming Cyborg 15 A12UCX-281VN i5 12450H (Core i5, 15.6 inches)', 'Screen Size': '15.6 inches', 'Processor Brand': 'Core i5', 'Processor Speed': 'I do not know.'}, {'title': 'Lenovo Ideapad Slim 5 Light 14ABR8 R7 7730U (82XS002JVN) (Ryzen 7, 14.0 inches)', 'Screen Size': '14.0 inches', 'Processor Brand': 'Ryzen 7', 'Processor Speed': 'I do not know.'}, {'title': 'Asus Vivobook A1503ZA-L1139W i5 12500H (Core i5, 15.6 inches)', 'Screen Size': '15.6 inches', 'Processor Brand': 'Core i5', 'Processor Speed': 'I do not know.'}, {'title': 'Acer Aspire 7 Gaming A715-43G-R09Q R5 5625U (NH.QHBSV.003) (Ryzen 5, 15.6 inches)', 'Screen Size': '15.6 inches', 'Processor Brand': 'Ryzen 5', 'Processor Speed': 'I do not know.'}, {'title': 'Acer Aspire 5 A515-58P-56RP i5 1335U (NX.KHJSV.008) (Core i5, 15.6 inches)', 'Screen Size': '15.6 inches', 'Processor Brand': 'Core i5', 'Processor Speed': 'I do not know.'}, {'title': 'HP Pavilion 15-eg2083TU i5 1240P (7C0W9PA) (Core i5, 15,6 inches)', 'Screen Size': '15,6 inches', 'Processor Brand': 'Core i5', 'Processor Speed': 'I do not know.'}, {'title': 'Dell Inspiron 15 N3520 i5 1235U (25P231) (Core i5, 15.6 inches)', 'Screen Size': '15.6 inches', 'Processor Brand': 'Core i5', 'Processor Speed': 'I do not know.'}, {'title': 'MSI Modern 15 B7M-238VN R7 7730U (Ryzen 7, 15.6 inches)', 'Screen Size': '15.6 inches', 'Processor Brand': 'Ryzen 7', 'Processor Speed': 'I do not know.'}, {'title': 'Asus Vivobook M1605YA-MB303W R7 7730U (Ryzen 7, 16 inches)', 'Screen Size': '16 inches', 'Processor Brand': 'Ryzen 7', 'Processor Speed': 'I do not know.'}, {'title': 'Asus Vivobook M3504YA-L1144W R5 7530U (Ryzen 5, 15.6 inches)', 'Screen Size': '15.6 inches', 'Processor Brand': 'Ryzen 5', 'Processor Speed': 'I do not know.'}, {'title': 'Asus Vivobook X1605VA-MB105W i5 1335U (Core i5, 16 inches)', 'Screen Size': '16 inches', 'Processor Brand': 'Core i5', 'Processor Speed': 'I do not know.'}, {'title': 'Dell Inspiron 15 N3520 i5 1235U (N5I5122W1) (Core i5, 15.6 inches)', 'Screen Size': '15.6 inches', 'Processor Brand': 'Core i5', 'Processor Speed': 'I do not know.'}, {'title': 'MSI Gaming GF63 Thin 11SC-664VN i5 11400H (Core i5, 15.6 inches)', 'Screen Size': '15.6 inches', 'Processor Brand': 'Core i5', 'Processor Speed': 'I do not know.'}, {'title': 'Lenovo V14 G4 IRU i5 1335U (83A00010VN) (Core i5Core i5, 14 inches)', 'Screen Size': '14 inches', 'Processor Brand': 'Core i5Core i5', 'Processor Speed': 'I do not know.'}, {'title': 'Acer Aspire 5 A514-54-5127 i5 1135G7 (NX.A28SV.007) (Core i5, 14.0 inches)', 'Screen Size': '14.0 inches', 'Processor Brand': 'Core i5', 'Processor Speed': 'I do not know.'}, {'title': 'Acer Swift 3 SF314-511-55QE i5 1135G7 (NX.ABNSV.003) (Core i5, 14.0 inches)', 'Screen Size': '14.0 inches', 'Processor Brand': 'Core i5', 'Processor Speed': 'I do not know.'}, {'title': 'Asus Vivobook X1502ZA-BQ126W i5 1240P (Core i5, 15.6 inches)', 'Screen Size': '15.6 inches', 'Processor Brand': 'Core i5', 'Processor Speed': 'I do not know.'}, {'title': 'MSI Modern 14 C13M-458VN i5 1335U (Core i5, 14 inches)', 'Screen Size': '14 inches', 'Processor Brand': 'Core i5', 'Processor Speed': 'I do not know.'}, {'title': 'Lenovo V15 G4 IAH i5 12500H (83FS0032VN) (Core i5, 15.6 inches)', 'Screen Size': '15.6 inches', 'Processor Brand': 'Core i5', 'Processor Speed': 'I do not know.'}, {'title': 'Acer Swift 3 SF314-43-R4X3 R5 5500U (NX.AB1SV.004) (Ryzen 5, 14.0 inches)', 'Screen Size': '14.0 inches', 'Processor Brand': 'Ryzen 5', 'Processor Speed': 'I do not know.'}, {'title': 'Lenovo IdeaPad 3 15ITL6 i5 1155G7 (82H803RWVN) (Core i5, 15.6 inches)', 'Screen Size': '15.6 inches', 'Processor Brand': 'Core i5', 'Processor Speed': 'I do not know.'}, {'title': 'Acer Aspire 3 A315-59-51X8 i5 1235U (NX.K6TSV.00F) (Core i5, 15.6 inches)', 'Screen Size': '15.6 inches', 'Processor Brand': 'Core i5', 'Processor Speed': 'I do not know.'}, {'title': 'MSI Modern 15 B13M-438VN i5 1335U (Core i5, 15.6 inches)', 'Screen Size': '15.6 inches', 'Processor Brand': 'Core i5', 'Processor Speed': 'I do not know.'}, {'title': 'MSI Modern 15 B7M-231VN R5 7530U (Ryzen 5, 15.6 inches)', 'Screen Size': '15.6 inches', 'Processor Brand': 'Ryzen 5', 'Processor Speed': 'I do not know.'}, {'title': 'Lenovo Ideapad 1 - 14ALC7 R7 5700U (82R30077VN) (Ryzen 7, 14 inches)', 'Screen Size': '14 inches', 'Processor Brand': 'Ryzen 7', 'Processor Speed': 'I do not know.'}, {'title': 'Acer Aspire 3 A314-23M-R4TX R5 7520U (NX.KEXSV.001) (Ryzen 5, 14.0 inches)', 'Screen Size': '14.0 inches', 'Processor Brand': 'Ryzen 5', 'Processor Speed': 'I do not know.'}, {'title': 'Acer Aspire 3 A315-58-54M5 i5 1135G7 (NX.ADDSV.00M) (Core i5, 15.6 inches)', 'Screen Size': '15.6 inches', 'Processor Brand': 'Core i5', 'Processor Speed': 'I do not know.'}, {'title': 'MSI Modern 15 B7M-098VN R7 7730U (Ryzen 7, 15.6 inches)', 'Screen Size': '15.6 inches', 'Processor Brand': 'Ryzen 7', 'Processor Speed': 'I do not know.'}, {'title': 'Acer Aspire 5 A515-58P-351N i3 1305U (NX.KHJSV.007) (Core i3, 15.6 inches)', 'Screen Size': '15.6 inches', 'Processor Brand': 'Core i3', 'Processor Speed': 'I do not know.'}, {'title': 'Huawei MateBook D14 BE i3 1215U (Core i3, 14.0 inches)', 'Screen Size': '14.0 inches', 'Processor Brand': 'Core i3', 'Processor Speed': 'I do not know.'}, {'title': 'HP 15s-fq5230TU i3-1215U (8U238PA) (Core i3, 15.6 inches)', 'Screen Size': '15.6 inches', 'Processor Brand': 'Core i3', 'Processor Speed': 'I do not know.'}, {'title': 'HP 245 G9 R5 5625U (6L1N8PA) (Ryzen 5, 14.0 inches)', 'Screen Size': '14.0 inches', 'Processor Brand': 'Ryzen 5', 'Processor Speed': 'I do not know.'}, {'title': 'Asus Vivobook X1404ZA-NK075W i3 1215U (Core i3, 14.0 inches)', 'Screen Size': '14.0 inches', 'Processor Brand': 'Core i3', 'Processor Speed': 'I do not know.'}, {'title': 'Asus Vivobook E1504FA-NJ426W R3 7320U (Ryzen 3, 15.6 inches)', 'Screen Size': '15.6 inches', 'Processor Brand': 'Ryzen 3', 'Processor Speed': 'I do not know.'}, {'title': 'HP 14s-em0080AU R3 7320U (80R30PA) (Ryzen 3, 14.0 inches)', 'Screen Size': '14.0 inches', 'Processor Brand': 'Ryzen 3', 'Processor Speed': 'I do not know.'}, {'title': 'HP 15s-fq2712TU i3 1115G4 (7C0X2PA) (Core i3, 15.6 inches)', 'Screen Size': '15.6 inches', 'Processor Brand': 'Core i3', 'Processor Speed': 'I do not know.'}, {'title': 'Asus ROG Strix SCAR 18 G834JYR-R6011W i9-14900HX (Core i9, 18 inches)', 'Screen Size': '18 inches', 'Processor Brand': 'Core i9', 'Processor Speed': 'I do not know.'}, {'title': 'MacBook Pro 16 2023 M3 Max 16 CPU/40 GPU/48GB/1TB (M3 Max, 16.2 inches)', 'Screen Size': '16.2 inches', 'Processor Brand': 'M3 Max', 'Processor Speed': 'I do not know.'}, {'title': 'Asus ROG Strix SCAR 16 G634JZR-NM009W i9-14900HX (Core i9, 16 inches)', 'Screen Size': '16 inches', 'Processor Brand': 'Core i9', 'Processor Speed': 'I do not know.'}, {'title': 'MacBook Pro 16 2023 M3 Max 14 CPU/30 GPU/36GB/1TB (M3 Max, 16.2 inches)', 'Screen Size': '16.2 inches', 'Processor Brand': 'M3 Max', 'Processor Speed': 'I do not know.'}, {'title': 'MacBook Pro 14 2023 M3 Max 14 CPU/30 GPU/36GB/1TB (M3 Max, 14.2 inches)', 'Screen Size': '14.2 inches', 'Processor Brand': 'M3 Max', 'Processor Speed': 'I do not know.'}, {'title': 'Asus Gaming ROG Zephyrus G16 GU605MI-QR116W Ultra 9-185H (Core Ultra 9, 16 inches)', 'Screen Size': '16 inches', 'Processor Brand': 'Core Ultra 9', 'Processor Speed': 'I do not know.'}, {'title': 'MacBook Pro 16 2023 M3 Pro 12 CPU/18 GPU/36GB/512GB (M3 Pro, 16.2 inches)', 'Screen Size': '16.2 inches', 'Processor Brand': 'M3 Pro', 'Processor Speed': 'I do not know.'}, {'title': 'Asus ROG Strix G18 G814JIR-N6007W i9-14900HX (Core i9, 18 inches)', 'Screen Size': '18 inches', 'Processor Brand': 'Core i9', 'Processor Speed': 'I do not know.'}, {'title': 'Asus Gaming ROG Zephyrus G16 GU605MV-QR135W Ultra 9-185H (Core Ultra 9, 16 inches)', 'Screen Size': '16 inches', 'Processor Brand': 'Core Ultra 9', 'Processor Speed': 'I do not know.'}, {'title': 'Asus Gaming ROG Zephyrus G14 GA403UU-QS101W R9-8945HS (Ryzen 9, 16 inches)', 'Screen Size': '16 inches', 'Processor Brand': 'Ryzen 9', 'Processor Speed': 'I do not know.'}, {'title': 'Lenovo Legion Pro 5 16IRX9 i9 14900HX (83DF0047VN) (Core i9, 16 inches)', 'Screen Size': '16 inches', 'Processor Brand': 'Core i9', 'Processor Speed': 'I do not know.'}, {'title': 'Lenovo Gaming Legion 5 16IRX9 i7-14650HX (83DG004YVN) (Core i7, 16 inches)', 'Screen Size': '16 inches', 'Processor Brand': 'Core i7', 'Processor Speed': 'I do not know.'}, {'title': 'Asus TUF Gaming FA507NU-LP131W R5 7535HS (Ryzen 5, 15.6 inches)', 'Screen Size': '15.6 inches', 'Processor Brand': 'Ryzen 5', 'Processor Speed': 'I do not know.'}, {'title': 'Asus Zenbook 14 OLED UM3402YA-KM405W R5-7530U (Ryzen 5, 14 inches)', 'Screen Size': '14 inches', 'Processor Brand': 'Ryzen 5', 'Processor Speed': 'I do not know.'}, {'title': 'Asus Vivobook A1505VA-L1201W i9 13900H (Core i9, 15.6 inches)', 'Screen Size': '15.6 inches', 'Processor Brand': 'Core i9', 'Processor Speed': 'I do not know.'}, {'title': 'ASUS Zenbook 14 OLED UM3402YA-KM826W R5-7430U (Ryzen 5, 14 inches)', 'Screen Size': '14 inches', 'Processor Brand': 'Ryzen 5', 'Processor Speed': 'I do not know.'}, {'title': 'Asus TUF Gaming FA506NC-HN011W R5-7535HS (Ryzen 5, 15.6 inches)', 'Screen Size': '15.6 inches', 'Processor Brand': 'Ryzen 5', 'Processor Speed': 'I do not know.'}, {'title': 'Asus TUF Gaming A15 FA506NF-HN012W R5-7535HS (Ryzen 5, 15.6 inches)', 'Screen Size': '15.6 inches', 'Processor Brand': 'Ryzen 5', 'Processor Speed': 'I do not know.'}, {'title': 'MSI Modern 15 B12MO-487VN i7 1255U (Core i7, 15.6 inches)', 'Screen Size': '15.6 inches', 'Processor Brand': 'Core i7', 'Processor Speed': 'I do not know.'}, {'title': 'Lenovo Ideapad Flex 5 14ALC7 R7 5700U (82R900ECVN) (Ryzen 7, 14 inches)', 'Screen Size': '14 inches', 'Processor Brand': 'Ryzen 7', 'Processor Speed': 'I do not know.'}, {'title': 'Lenovo IdeaPad Slim 3 14IAH8 i5 12450H (83EQ0009VN) (Core i5, 14 inches)', 'Screen Size': '14 inches', 'Processor Brand': 'Core i5', 'Processor Speed': 'I do not know.'}, {'title': 'Lenovo Ideapad Flex 5 14ALC7 R5 5500U (82R900EDVN) (Ryzen 5, 14 inches)', 'Screen Size': '14 inches', 'Processor Brand': 'Ryzen 5', 'Processor Speed': 'I do not know.'}]\n"
     ]
    }
   ],
   "source": [
    "import json\n",
    "with open('C:/Users/ADMIN/Desktop/DATN/Extract_Information/data_crawl/results/results_open_datacrawl.json', 'r', encoding='utf-8') as json_file:\n",
    "    data = json.load(json_file)\n",
    "  \n",
    "data_compare = []  \n",
    "with open('C:/Users/ADMIN/Desktop/DATN/Extract_Information/data_crawl/data/data_crawl.jsonl', 'r') as f:\n",
    "    for line in f:\n",
    "        product = json.loads(line)  \n",
    "        extract_product = {}\n",
    "        extract_product['title'] = product['title']\n",
    "        extract_product['Screen Size'] = product['Screen Size']\n",
    "        extract_product['Processor Brand'] = product['Processor Brand']\n",
    "        extract_product['Processor Speed'] = product['Processor Speed']\n",
    "        data_compare.append(extract_product)\n",
    "\n",
    "print(data)\n",
    "print(data_compare)"
   ]
  },
  {
   "cell_type": "code",
   "execution_count": 3,
   "id": "de5b5ab5",
   "metadata": {},
   "outputs": [
    {
     "name": "stdout",
     "output_type": "stream",
     "text": [
      "Precision: 68.96\n",
      "Recall: 64.13\n",
      "F1: 66.46\n"
     ]
    }
   ],
   "source": [
    "eval_nn = 0 # the model can predict No value (I do not know.) when ground truth is No attribute value\n",
    "eval_nv = 0 # some incorrect Value when ground truth is No attribute value\n",
    "eval_vn = 0 # the model can predict No value (I do not know.) when the ground truth has attribute Values\n",
    "eval_vc = 0 # Correct values when the ground truth has attribute Values (TP)\n",
    "eval_vw = 0 # Wrong values when the ground truth has attribute Values (FN-FP)\n",
    "\n",
    "for dt, dt_compare in zip(data,data_compare):\n",
    "    if dt_compare['Screen Size'] == \"I do not know.\":\n",
    "        if dt_compare['Screen Size'] == dt['Screen Size']:\n",
    "            eval_nn += 1\n",
    "        else:\n",
    "            eval_nv += 1\n",
    "    else:   \n",
    "        if dt_compare['Screen Size'] == dt['Screen Size']:\n",
    "            eval_vc += 1\n",
    "        elif dt['Screen Size'] == \"I do not know.\":\n",
    "            eval_vn += 1\n",
    "        else:\n",
    "            eval_vw += 1\n",
    "            \n",
    "    if dt_compare['Processor Brand'] == \"I do not know.\":\n",
    "        if dt_compare['Processor Brand'] == dt['Processor Brand']:\n",
    "            eval_nn += 1\n",
    "        else:\n",
    "            eval_nv += 1\n",
    "    else:   \n",
    "        if dt_compare['Processor Brand'] == dt['Processor Brand']:\n",
    "            eval_vc += 1\n",
    "        elif dt['Processor Brand'] == \"I do not know.\":\n",
    "            eval_vn += 1\n",
    "        else:\n",
    "            eval_vw += 1\n",
    "            \n",
    "    if dt_compare['Processor Speed'] == \"I do not know.\":\n",
    "        if dt_compare['Processor Speed'] == dt['Processor Speed']:\n",
    "            eval_nn += 1\n",
    "        else:\n",
    "            eval_nv += 1\n",
    "    else:   \n",
    "        if dt_compare['Processor Speed'] == dt['Processor Speed']:\n",
    "            eval_vc += 1\n",
    "        elif dt['Processor Speed'] == \"I do not know.\":\n",
    "            eval_vn += 1\n",
    "        else:\n",
    "            eval_vw += 1\n",
    "\n",
    "precision = round((eval_vc / (eval_nv + eval_vc + eval_vw))*100, 2) if (eval_nv + eval_vc + eval_vw) > 0 else 0 \n",
    "recall = round((eval_vc / (eval_vn + eval_vc + eval_vw))*100, 2) if (eval_vn + eval_vc + eval_vw) > 0 else 0\n",
    "f1 = round(2* precision* recall/ (precision + recall), 2) if (precision + recall) > 0 else 0\n",
    "\n",
    "print(f\"Precision: {precision}\")\n",
    "print(f\"Recall: {recall}\")\n",
    "print(f\"F1: {f1}\")                "
   ]
  }
 ],
 "metadata": {
  "kernelspec": {
   "display_name": "Python 3 (ipykernel)",
   "language": "python",
   "name": "python3"
  },
  "language_info": {
   "codemirror_mode": {
    "name": "ipython",
    "version": 3
   },
   "file_extension": ".py",
   "mimetype": "text/x-python",
   "name": "python",
   "nbconvert_exporter": "python",
   "pygments_lexer": "ipython3",
   "version": "3.8.19"
  }
 },
 "nbformat": 4,
 "nbformat_minor": 5
}
