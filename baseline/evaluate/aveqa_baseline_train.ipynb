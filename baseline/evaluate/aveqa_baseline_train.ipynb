{
 "cells": [
  {
   "cell_type": "code",
   "execution_count": 1,
   "metadata": {},
   "outputs": [],
   "source": [
    "import json\n",
    "\n",
    "# Update Task Dict\n",
    "def update_task_dict_from_file(file_name, task_dict):\n",
    "    with open(file_name, 'r') as f:\n",
    "        for line in f:\n",
    "            record = json.loads(line)\n",
    "            example = {}\n",
    "            example['context'] = record['context']\n",
    "            example['category'] = record['category']\n",
    "            example['question'] = record['question']\n",
    "            if len(record['answer']['text']) == 1:\n",
    "                example['answer'] = record['answer']['text'][0]\n",
    "            else:\n",
    "                example['answer'] = 'I do not know.'\n",
    "                \n",
    "            task_dict['examples'].append(example)\n",
    "    return task_dict"
   ]
  },
  {
   "cell_type": "code",
   "execution_count": 3,
   "metadata": {},
   "outputs": [],
   "source": [
    "import json\n",
    "\n",
    "task_dict_positive={}\n",
    "task_dict_positive['examples']=[]\n",
    "\n",
    "task_dict_negative={}\n",
    "task_dict_negative['examples']=[]\n",
    "\n",
    "# Generate examples\n",
    "task_dict_positive = update_task_dict_from_file('C:/Users/ADMIN/Desktop/DATN/Extract_Information/data/aveqa_mave/train/mave_positives.jsonl', task_dict_positive)\n",
    "task_dict_positive = update_task_dict_from_file('C:/Users/ADMIN/Desktop/DATN/Extract_Information/data/aveqa_mave/eval/mave_positives.jsonl', task_dict_positive)"
   ]
  },
  {
   "cell_type": "code",
   "execution_count": 4,
   "metadata": {},
   "outputs": [],
   "source": [
    "with open('task_aveqa_positive.json', 'w', encoding='utf-8') as f:\n",
    "    json.dump(task_dict_positive, f, indent=4)"
   ]
  },
  {
   "cell_type": "code",
   "execution_count": null,
   "metadata": {},
   "outputs": [],
   "source": [
    "from transformers import pipeline\n",
    "\n",
    "# Replace this with your own checkpoint\n",
    "model_checkpoint = \"C:/Users/ADMIN/Desktop/DATN/Extract_Information/baseline/bert_fine_turn/checkpoint\"\n",
    "question_answerer = pipeline(\"question-answering\", model=model_checkpoint)\n",
    "\n",
    "# context = \"\"\"\n",
    "# Deolux 32GB for Nikon D3200 DSLR Camera 32GB SD SDHC Class 10 High Speed SD Secure Digital MEMORY CARD for Camera Camcorder Video and HD Video\n",
    "# \"\"\"\n",
    "# question = \"What is the SD Format of the Flash Memory Card?\"\n",
    "# question_answerer(question=question, context=context)"
   ]
  },
  {
   "cell_type": "code",
   "execution_count": 6,
   "metadata": {},
   "outputs": [
    {
     "name": "stderr",
     "output_type": "stream",
     "text": [
      "100%|██████████| 34418/34418 [1:31:37<00:00,  6.26it/s]  \n"
     ]
    }
   ],
   "source": [
    "from tqdm import tqdm\n",
    "\n",
    "result_dict ={}\n",
    "result_dict['examples'] =[]\n",
    "\n",
    "for example in tqdm(task_dict_positive['examples']):\n",
    "    pred = question_answerer(question=example['question'], context=example['context'])\n",
    "    example['pred'] = pred['answer']\n",
    "    example['score'] = pred['score']\n",
    "    result_dict['examples'].append(example)\n",
    "    \n",
    "with open('result_aveqa_positive.json', 'w', encoding='utf-8') as f:\n",
    "    json.dump(result_dict, f, indent=4)\n",
    "    "
   ]
  },
  {
   "cell_type": "code",
   "execution_count": 17,
   "metadata": {},
   "outputs": [
    {
     "name": "stdout",
     "output_type": "stream",
     "text": [
      "1.1937552135829462e-17\n"
     ]
    }
   ],
   "source": [
    "min_score_positive = 1\n",
    "for example in result_dict['examples']:\n",
    "    min_score_positive = min(min_score_positive, example['score'])\n",
    "\n",
    "print(min_score_positive)"
   ]
  },
  {
   "cell_type": "code",
   "execution_count": 13,
   "metadata": {},
   "outputs": [],
   "source": [
    "vc = 0 # Correct values when the ground truth has attribute Values (TP)\n",
    "vw = 0 # Wrong values when the ground truth has attribute Values (FN-FP)\n",
    "\n",
    "for example in result_dict['examples']:\n",
    "    if example['answer'] == example['pred']:\n",
    "        vc += 1\n",
    "    else:\n",
    "        vw += 1"
   ]
  },
  {
   "cell_type": "code",
   "execution_count": 8,
   "metadata": {},
   "outputs": [],
   "source": [
    "task_dict_negative = update_task_dict_from_file('C:/Users/ADMIN/Desktop/DATN/Extract_Information/data/aveqa_mave/train/mave_negatives.jsonl', task_dict_negative)\n",
    "task_dict_negative = update_task_dict_from_file('C:/Users/ADMIN/Desktop/DATN/Extract_Information/data/aveqa_mave/eval/mave_negatives.jsonl', task_dict_negative)"
   ]
  },
  {
   "cell_type": "code",
   "execution_count": 10,
   "metadata": {},
   "outputs": [],
   "source": [
    "with open('task_aveqa_negative.json', 'w', encoding='utf-8') as f:\n",
    "    json.dump(task_dict_negative, f, indent=4)"
   ]
  },
  {
   "cell_type": "code",
   "execution_count": 16,
   "metadata": {},
   "outputs": [
    {
     "name": "stderr",
     "output_type": "stream",
     "text": [
      "100%|██████████| 35075/35075 [1:19:08<00:00,  7.39it/s]\n"
     ]
    }
   ],
   "source": [
    "from tqdm import tqdm\n",
    "\n",
    "result_dict_negative ={}\n",
    "result_dict_negative['examples'] =[]\n",
    "\n",
    "for example in tqdm(task_dict_negative['examples']):\n",
    "    pred = question_answerer(question=example['question'], context=example['context'])\n",
    "    example['pred'] = pred['answer']\n",
    "    example['score'] = pred['score']\n",
    "    result_dict_negative['examples'].append(example)\n",
    "    \n",
    "with open('result_aveqa_negative.json', 'w', encoding='utf-8') as f:\n",
    "    json.dump(result_dict_negative, f, indent=4)"
   ]
  },
  {
   "cell_type": "code",
   "execution_count": 19,
   "metadata": {},
   "outputs": [
    {
     "name": "stdout",
     "output_type": "stream",
     "text": [
      "1.0\n"
     ]
    }
   ],
   "source": [
    "max_score_negative = 0\n",
    "for example in result_dict_negative['examples']:\n",
    "    max_score_negative = max(max_score_negative, example['score'])\n",
    "\n",
    "print(max_score_negative)"
   ]
  },
  {
   "cell_type": "code",
   "execution_count": 33,
   "metadata": {},
   "outputs": [],
   "source": [
    "nn = 0 # the model can predict No value (I do not know.) when ground truth is No attribute value (TN)\n",
    "nv = 0 # some incorrect Value when ground truth is No attribute value (FP)\n",
    "\n",
    "for example in result_dict_negative['examples']:\n",
    "    if example['score'] < 0.1:\n",
    "        nn += 1\n",
    "    else:\n",
    "        nv += 1"
   ]
  },
  {
   "cell_type": "code",
   "execution_count": 34,
   "metadata": {},
   "outputs": [
    {
     "name": "stdout",
     "output_type": "stream",
     "text": [
      "35068\n",
      "7\n"
     ]
    }
   ],
   "source": [
    "print(nn)\n",
    "print(nv)"
   ]
  },
  {
   "cell_type": "code",
   "execution_count": 36,
   "metadata": {},
   "outputs": [
    {
     "name": "stdout",
     "output_type": "stream",
     "text": [
      "Precision: 99.16\n",
      "Recall: 99.18\n",
      "F1: 99.17\n"
     ]
    }
   ],
   "source": [
    "precision = round((vc / (nv + vc + vw))*100, 2) if (nv + vc + vw) > 0 else 0 \n",
    "recall = round((vc / (vc + vw))*100, 2) if (vc + vw) > 0 else 0\n",
    "f1 = round(2* precision* recall/ (precision + recall), 2) if (precision + recall) > 0 else 0\n",
    "\n",
    "print(f\"Precision: {precision}\")\n",
    "print(f\"Recall: {recall}\")\n",
    "print(f\"F1: {f1}\")"
   ]
  }
 ],
 "metadata": {
  "kernelspec": {
   "display_name": "piechatgpt",
   "language": "python",
   "name": "python3"
  },
  "language_info": {
   "codemirror_mode": {
    "name": "ipython",
    "version": 3
   },
   "file_extension": ".py",
   "mimetype": "text/x-python",
   "name": "python",
   "nbconvert_exporter": "python",
   "pygments_lexer": "ipython3",
   "version": "3.8.19"
  }
 },
 "nbformat": 4,
 "nbformat_minor": 2
}
